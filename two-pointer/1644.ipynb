{
 "cells": [
  {
   "cell_type": "markdown",
   "metadata": {},
   "source": [
    "# [백준/소수의 연속합](https://www.acmicpc.net/problem/1644)"
   ]
  },
  {
   "cell_type": "markdown",
   "metadata": {},
   "source": [
    "## 풀이과정"
   ]
  },
  {
   "cell_type": "markdown",
   "metadata": {},
   "source": [
    "### 첫번째 시도"
   ]
  },
  {
   "cell_type": "markdown",
   "metadata": {},
   "source": [
    "#### 풀이과정"
   ]
  },
  {
   "cell_type": "code",
   "execution_count": null,
   "metadata": {},
   "outputs": [],
   "source": [
    "import sys\n",
    "from itertools import chain\n",
    "\n",
    "\n",
    "def sieve_under(n):\n",
    "    sieve_len = (n + 1) // 2\n",
    "    sieve = [False, False, True, True] + [False, True] * sieve_len\n",
    "    sieve_len = sieve_len * 2 + 4\n",
    "    valid = int(n**0.5) + 1\n",
    "    for i, is_prime in enumerate(sieve[3:valid:2], start=1):\n",
    "        if not is_prime:\n",
    "            continue\n",
    "        prime = i * 2 + 1\n",
    "        dbl = prime * 2\n",
    "        sqr = prime * prime\n",
    "        multis = (sieve_len - sqr) // dbl + 1\n",
    "        sieve[sqr::dbl] = [False] * multis\n",
    "    return sieve\n",
    "\n",
    "\n",
    "def pointer_range(sieve, N):\n",
    "    return filter(sieve.__getitem__, chain((2,), range(3, N + 1, 2)))\n",
    "\n",
    "\n",
    "def solution():\n",
    "    N = int(sys.stdin.readline())\n",
    "    result = 0\n",
    "    sieve = sieve_under(N)\n",
    "    end_pointer = pointer_range(sieve, N)\n",
    "    end = 0\n",
    "    sum = 0\n",
    "    for start in pointer_range(sieve, N):\n",
    "        sum += start\n",
    "        if sum == N:\n",
    "            result += 1\n",
    "        while sum > N:\n",
    "            end = next(end_pointer)\n",
    "            sum -= end\n",
    "            if sum == N:\n",
    "                result += 1\n",
    "    print(result)\n",
    "\n",
    "\n",
    "solution()"
   ]
  },
  {
   "cell_type": "markdown",
   "metadata": {},
   "source": [
    "## 해답"
   ]
  },
  {
   "cell_type": "code",
   "execution_count": 22,
   "metadata": {},
   "outputs": [],
   "source": [
    "def sieve_under(n):\n",
    "    sieve_len = (n + 1) // 2\n",
    "    sieve = [False, False, True, True] + [False, True] * sieve_len\n",
    "    sieve_len = sieve_len * 2 + 4\n",
    "    valid = int(n**0.5) + 1\n",
    "    for i, is_prime in enumerate(sieve[3:valid:2], start=1):\n",
    "        if not is_prime:\n",
    "            continue\n",
    "        prime = i * 2 + 1\n",
    "        dbl = prime * 2\n",
    "        sqr = prime * prime\n",
    "        multis = (sieve_len - sqr) // dbl + 1\n",
    "        sieve[sqr::dbl] = [False] * multis\n",
    "    return sieve"
   ]
  },
  {
   "cell_type": "code",
   "execution_count": 107,
   "metadata": {},
   "outputs": [],
   "source": [
    "from itertools import chain\n",
    "\n",
    "\n",
    "def pointer_range(sieve, N):\n",
    "    return filter(sieve.__getitem__, chain((2,), range(3, N + 1, 2)))"
   ]
  },
  {
   "cell_type": "code",
   "execution_count": 132,
   "metadata": {},
   "outputs": [],
   "source": [
    "def solution():\n",
    "    import sys\n",
    "\n",
    "    N = int(sys.stdin.readline())\n",
    "    result = 0\n",
    "    sieve = sieve_under(N)\n",
    "    end_pointer = pointer_range(sieve, N)\n",
    "    end = 0\n",
    "    sum = 0\n",
    "    for start in pointer_range(sieve, N):\n",
    "        sum += start\n",
    "        if sum == N:\n",
    "            result += 1\n",
    "        while sum > N:\n",
    "            end = next(end_pointer)\n",
    "            sum -= end\n",
    "            if sum == N:\n",
    "                result += 1\n",
    "    print(result)"
   ]
  },
  {
   "cell_type": "markdown",
   "metadata": {},
   "source": [
    "## 예제"
   ]
  },
  {
   "cell_type": "code",
   "execution_count": 133,
   "metadata": {},
   "outputs": [
    {
     "name": "stdout",
     "output_type": "stream",
     "text": [
      "The blackcellmagic extension is already loaded. To reload it, use:\n",
      "  %reload_ext blackcellmagic\n"
     ]
    }
   ],
   "source": [
    "# black 모듈을 jupyter notebook 내에서 사용 가능하게 만들어주는 blackcellmagic 모듈 불러오기\n",
    "%load_ext blackcellmagic\n",
    "# %%black\n",
    "\n",
    "# 백준 문제 풀이용 예제 실행 코드\n",
    "from bwj import test\n",
    "\n",
    "test_solution = test(solution)\n",
    "\n",
    "# test_solution(\"\"\"\"\"\")\n",
    "# test_solution(read(\"fn\").read())"
   ]
  },
  {
   "cell_type": "code",
   "execution_count": 139,
   "metadata": {},
   "outputs": [
    {
     "name": "stdout",
     "output_type": "stream",
     "text": [
      "1 0\n",
      "2 1\n",
      "3 1\n",
      "4 0\n",
      "5 2\n",
      "6 0\n",
      "7 1\n",
      "8 1\n",
      "9 0\n"
     ]
    }
   ],
   "source": [
    "for i in range(1, 10):\n",
    "    print(i, end=\" \")\n",
    "    test_solution(str(i))"
   ]
  },
  {
   "cell_type": "code",
   "execution_count": 135,
   "metadata": {},
   "outputs": [
    {
     "name": "stdout",
     "output_type": "stream",
     "text": [
      "0\n"
     ]
    }
   ],
   "source": [
    "test_solution(\n",
    "    \"\"\"20\n",
    "\"\"\"\n",
    ")  # 0"
   ]
  },
  {
   "cell_type": "code",
   "execution_count": 136,
   "metadata": {},
   "outputs": [
    {
     "name": "stdout",
     "output_type": "stream",
     "text": [
      "1\n"
     ]
    }
   ],
   "source": [
    "test_solution(\n",
    "    \"\"\"3\n",
    "\"\"\"\n",
    ")  # 1"
   ]
  },
  {
   "cell_type": "code",
   "execution_count": 137,
   "metadata": {},
   "outputs": [
    {
     "name": "stdout",
     "output_type": "stream",
     "text": [
      "3\n"
     ]
    }
   ],
   "source": [
    "test_solution(\n",
    "    \"\"\"41\n",
    "\"\"\"\n",
    ")  # 3"
   ]
  },
  {
   "cell_type": "code",
   "execution_count": 138,
   "metadata": {},
   "outputs": [
    {
     "name": "stdout",
     "output_type": "stream",
     "text": [
      "2\n"
     ]
    }
   ],
   "source": [
    "test_solution(\n",
    "    \"\"\"53\n",
    "\"\"\"\n",
    ")  # 2"
   ]
  }
 ],
 "metadata": {
  "kernelspec": {
   "display_name": "Python 3.10.8 ('venv': venv)",
   "language": "python",
   "name": "python3"
  },
  "language_info": {
   "codemirror_mode": {
    "name": "ipython",
    "version": 3
   },
   "file_extension": ".py",
   "mimetype": "text/x-python",
   "name": "python",
   "nbconvert_exporter": "python",
   "pygments_lexer": "ipython3",
   "version": "3.10.8"
  },
  "orig_nbformat": 4,
  "vscode": {
   "interpreter": {
    "hash": "72904a014a9ffe38f4c58942120b599b3c5a87d06764037548e0139929c1cde3"
   }
  }
 },
 "nbformat": 4,
 "nbformat_minor": 2
}
