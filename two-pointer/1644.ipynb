{
 "cells": [
  {
   "cell_type": "markdown",
   "metadata": {},
   "source": [
    "# [백준/소수의 연속합](https://www.acmicpc.net/problem/1644)"
   ]
  },
  {
   "cell_type": "markdown",
   "metadata": {},
   "source": [
    "## 풀이과정"
   ]
  },
  {
   "cell_type": "markdown",
   "metadata": {},
   "source": [
    "### 첫번째 시도"
   ]
  },
  {
   "cell_type": "markdown",
   "metadata": {},
   "source": [
    "#### 풀이과정"
   ]
  },
  {
   "cell_type": "code",
   "execution_count": null,
   "metadata": {},
   "outputs": [],
   "source": [
    "import sys\n",
    "from itertools import chain\n",
    "\n",
    "\n",
    "def sieve_under(n):\n",
    "    sieve_len = (n + 1) // 2\n",
    "    sieve = [False, False, True, True] + [False, True] * sieve_len\n",
    "    sieve_len = sieve_len * 2 + 4\n",
    "    valid = int(n**0.5) + 1\n",
    "    for i, is_prime in enumerate(sieve[3:valid:2], start=1):\n",
    "        if not is_prime:\n",
    "            continue\n",
    "        prime = i * 2 + 1\n",
    "        dbl = prime * 2\n",
    "        sqr = prime * prime\n",
    "        multis = (sieve_len - sqr) // dbl + 1\n",
    "        sieve[sqr::dbl] = [False] * multis\n",
    "    return sieve\n",
    "\n",
    "\n",
    "def pointer_range(sieve, N):\n",
    "    return filter(sieve.__getitem__, chain((2,), range(3, N + 1, 2)))\n",
    "\n",
    "\n",
    "def solution():\n",
    "    N = int(sys.stdin.readline())\n",
    "    result = 0\n",
    "    sieve = sieve_under(N)\n",
    "    end_pointer = pointer_range(sieve, N)\n",
    "    end = 0\n",
    "    sum = 0\n",
    "    for start in pointer_range(sieve, N):\n",
    "        sum += start\n",
    "        if sum == N:\n",
    "            result += 1\n",
    "        while sum > N:\n",
    "            end = next(end_pointer)\n",
    "            sum -= end\n",
    "            if sum == N:\n",
    "                result += 1\n",
    "    print(result)\n",
    "\n",
    "\n",
    "solution()"
   ]
  },
  {
   "attachments": {},
   "cell_type": "markdown",
   "metadata": {},
   "source": [
    "### 두번째 시도"
   ]
  },
  {
   "attachments": {},
   "cell_type": "markdown",
   "metadata": {},
   "source": [
    "#### 풀이과정\n",
    "[기존 1위 코드](https://www.acmicpc.net/source/43383779)의 에라토스테네스 체를 구하는 함수를 가져와 적용하고,  \n",
    "나머지 풀이는 첫번째 시도에서 비효율적인 부분만 변경하였다.  "
   ]
  },
  {
   "cell_type": "code",
   "execution_count": null,
   "metadata": {},
   "outputs": [],
   "source": [
    "def primes_under(n):\n",
    "    # refer https://www.acmicpc.net/source/43383779\n",
    "    n, c = n + 6 - n % 6, 2 - (n % 6 > 1)\n",
    "    sieve = [True] * (n // 3)\n",
    "    for i in range(1, int(n**0.5) // 3 + 1):\n",
    "        if sieve[i]:\n",
    "            d, s, j = (k := 1 | 3 * i + 1) * 2, k * k, k * (k + 4 - 2 * (i & 1))\n",
    "            sieve[s // 3 :: d] = [False] * ((n // 6 - s // 6 - 1) // k + 1)\n",
    "            sieve[j // 3 :: d] = [False] * ((n // 6 - j // 6 - 1) // k + 1)\n",
    "    return [2, 3] + [1 | 3 * i + 1 for i in range(1, n // 3 - c) if sieve[i]]\n",
    "\n",
    "\n",
    "def solution():\n",
    "    import sys\n",
    "\n",
    "    N = int(sys.stdin.readline())\n",
    "    if N < 5:\n",
    "        print(\"1\" if N in {2, 3} else \"0\")\n",
    "        return\n",
    "    primes = primes_under(N + 1)\n",
    "    end = iter(primes)\n",
    "    result = sum = 0\n",
    "    for start in primes:\n",
    "        sum += start\n",
    "        while sum > N:\n",
    "            sum -= next(end)\n",
    "        if sum == N:\n",
    "            result += 1\n",
    "    print(result)\n",
    "\n",
    "\n",
    "solution()"
   ]
  },
  {
   "attachments": {},
   "cell_type": "markdown",
   "metadata": {},
   "source": [
    "![2023년 1월 17일 16시 기준 1644번 맞힌 사람 (Python) 160ms로 1위](../img/Screenshot%202023-01-17%20at%2016-28-07%201644%EB%B2%88%20%EB%A7%9E%ED%9E%8C%20%EC%82%AC%EB%9E%8C%20(Python)%20-%201%20%ED%8E%98%EC%9D%B4%EC%A7%80.png)"
   ]
  },
  {
   "cell_type": "markdown",
   "metadata": {},
   "source": [
    "## 해답"
   ]
  },
  {
   "cell_type": "code",
   "execution_count": 1,
   "metadata": {},
   "outputs": [],
   "source": [
    "def primes_under(n):\n",
    "    # refer https://www.acmicpc.net/source/43383779\n",
    "    n, c = n + 6 - n % 6, 2 - (n % 6 > 1)\n",
    "    sieve = [True] * (n // 3)\n",
    "    for i in range(1, int(n**0.5) // 3 + 1):\n",
    "        if sieve[i]:\n",
    "            d, s, j = (k := 1 | 3 * i + 1) * 2, k * k, k * (k + 4 - 2 * (i & 1))\n",
    "            sieve[s // 3 :: d] = [False] * ((n // 6 - s // 6 - 1) // k + 1)\n",
    "            sieve[j // 3 :: d] = [False] * ((n // 6 - j // 6 - 1) // k + 1)\n",
    "    return [2, 3] + [1 | 3 * i + 1 for i in range(1, n // 3 - c) if sieve[i]]"
   ]
  },
  {
   "cell_type": "code",
   "execution_count": 2,
   "metadata": {},
   "outputs": [],
   "source": [
    "def solution():\n",
    "    import sys\n",
    "\n",
    "    N = int(sys.stdin.readline())\n",
    "    if N < 5:\n",
    "        print(\"1\" if N in {2, 3} else \"0\")\n",
    "        return\n",
    "    primes = primes_under(N + 1)\n",
    "    end = iter(primes)\n",
    "    result = sum = 0\n",
    "    for start in primes:\n",
    "        sum += start\n",
    "        while sum > N:\n",
    "            sum -= next(end)\n",
    "        if sum == N:\n",
    "            result += 1\n",
    "    print(result)"
   ]
  },
  {
   "cell_type": "markdown",
   "metadata": {},
   "source": [
    "## 예제"
   ]
  },
  {
   "cell_type": "code",
   "execution_count": 3,
   "metadata": {},
   "outputs": [],
   "source": [
    "# black 모듈을 jupyter notebook 내에서 사용 가능하게 만들어주는 blackcellmagic 모듈 불러오기\n",
    "%load_ext blackcellmagic\n",
    "# %%black\n",
    "\n",
    "# 백준 문제 풀이용 예제 실행 코드\n",
    "from bwj import test\n",
    "\n",
    "test_solution = test(solution)\n",
    "\n",
    "# test_solution(\"\"\"\"\"\")\n",
    "# test_solution(read(\"fn\").read())"
   ]
  },
  {
   "cell_type": "code",
   "execution_count": 4,
   "metadata": {},
   "outputs": [
    {
     "name": "stdout",
     "output_type": "stream",
     "text": [
      "1: 0\n",
      "2: 1\n",
      "3: 1\n",
      "4: 0\n",
      "5: 2\n",
      "6: 0\n",
      "7: 1\n",
      "8: 1\n",
      "9: 0\n"
     ]
    }
   ],
   "source": [
    "for i in range(1, 10):\n",
    "    print(i, end=\": \")\n",
    "    test_solution(str(i))"
   ]
  },
  {
   "cell_type": "code",
   "execution_count": 5,
   "metadata": {},
   "outputs": [
    {
     "name": "stdout",
     "output_type": "stream",
     "text": [
      "0\n"
     ]
    }
   ],
   "source": [
    "test_solution(\"20\")  # 0"
   ]
  },
  {
   "cell_type": "code",
   "execution_count": 6,
   "metadata": {},
   "outputs": [
    {
     "name": "stdout",
     "output_type": "stream",
     "text": [
      "1\n"
     ]
    }
   ],
   "source": [
    "test_solution(\"3\")  # 1"
   ]
  },
  {
   "cell_type": "code",
   "execution_count": 7,
   "metadata": {},
   "outputs": [
    {
     "name": "stdout",
     "output_type": "stream",
     "text": [
      "3\n"
     ]
    }
   ],
   "source": [
    "test_solution(\"41\")  # 3"
   ]
  },
  {
   "cell_type": "code",
   "execution_count": 8,
   "metadata": {},
   "outputs": [
    {
     "name": "stdout",
     "output_type": "stream",
     "text": [
      "2\n"
     ]
    }
   ],
   "source": [
    "test_solution(\"53\")  # 2"
   ]
  }
 ],
 "metadata": {
  "kernelspec": {
   "display_name": "Python 3.10.8 ('venv': venv)",
   "language": "python",
   "name": "python3"
  },
  "language_info": {
   "codemirror_mode": {
    "name": "ipython",
    "version": 3
   },
   "file_extension": ".py",
   "mimetype": "text/x-python",
   "name": "python",
   "nbconvert_exporter": "python",
   "pygments_lexer": "ipython3",
   "version": "3.10.8"
  },
  "orig_nbformat": 4,
  "vscode": {
   "interpreter": {
    "hash": "72904a014a9ffe38f4c58942120b599b3c5a87d06764037548e0139929c1cde3"
   }
  }
 },
 "nbformat": 4,
 "nbformat_minor": 2
}
