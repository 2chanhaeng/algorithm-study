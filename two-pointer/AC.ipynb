{
 "cells": [
  {
   "cell_type": "markdown",
   "metadata": {},
   "source": [
    "# [백준/AC](https://www.acmicpc.net/problem/5430)"
   ]
  },
  {
   "cell_type": "markdown",
   "metadata": {},
   "source": [
    "## 풀이과정"
   ]
  },
  {
   "cell_type": "markdown",
   "metadata": {},
   "source": [
    "### 첫번째 시도"
   ]
  },
  {
   "cell_type": "markdown",
   "metadata": {},
   "source": [
    "풀이과정"
   ]
  },
  {
   "cell_type": "code",
   "execution_count": null,
   "metadata": {},
   "outputs": [],
   "source": [
    "import sys;input = sys.stdin.readline\n",
    "from collections import deque\n",
    "for _ in range(int(input())):\n",
    "    funcs, lennums, prenums = input(), input(), input()\n",
    "    nums = deque(prenums[1:-1].split(\",\") if lennums != \"0\" else [])\n",
    "    for func in funcs:\n",
    "        print(\"\",func, nums)\n",
    "        if func == \"R\": nums.reverse()\n",
    "        else:\n",
    "            try: nums.popleft()\n",
    "            except: nums = \"error\"; break\n",
    "    if nums == \"error\": print(\"error\")\n",
    "    else: print(\"[\"+\",\".join(nums)+\"]\")"
   ]
  },
  {
   "cell_type": "markdown",
   "metadata": {},
   "source": [
    "### 첫번째 시도"
   ]
  },
  {
   "cell_type": "markdown",
   "metadata": {},
   "source": [
    "풀이과정"
   ]
  },
  {
   "cell_type": "code",
   "execution_count": null,
   "metadata": {},
   "outputs": [],
   "source": [
    "import sys;input = sys.stdin.readline\n",
    "from collections import deque\n",
    "for _ in range(int(input())):\n",
    "    funcs, lennums, prenums = input(), input(), input()\n",
    "    nums = deque(prenums[1:-1].split(\",\") if lennums != \"0\" else [])\n",
    "    is_reversed = False\n",
    "    for func in funcs:\n",
    "        print(\"\",func, nums)\n",
    "        if func == \"R\": is_reversed ^= True\n",
    "        else:\n",
    "            try:\n",
    "                if is_reversed: nums.pop()\n",
    "                else: nums.popleft()\n",
    "            except: nums = \"error\"; break\n",
    "    if nums == \"error\": print(\"error\")\n",
    "    else:\n",
    "        if is_reversed: nums.reverse()\n",
    "        print(\"[\"+\",\".join(nums)+\"]\")"
   ]
  },
  {
   "cell_type": "markdown",
   "metadata": {},
   "source": [
    "### 첫번째 시도"
   ]
  },
  {
   "cell_type": "markdown",
   "metadata": {},
   "source": [
    "풀이과정"
   ]
  },
  {
   "cell_type": "code",
   "execution_count": null,
   "metadata": {},
   "outputs": [],
   "source": [
    "import sys;input = lambda: sys.stdin.readline().rstrip()\n",
    "from collections import deque\n",
    "for _ in range(int(input())):\n",
    "    funcs, lennums, prenums = input(), input(), input()\n",
    "    nums = prenums[1:-1].split(\",\") if lennums != \"0\" else []\n",
    "    step = 1\n",
    "    start, end = 0, int(lennums)\n",
    "    for func in funcs:\n",
    "        if func == \"R\": step *= -1\n",
    "        else:\n",
    "            if step < 0: end -= 1\n",
    "            else: start += 1\n",
    "            if end < start: break\n",
    "    if end < start: print(\"error\")\n",
    "    else: print(\"[\"+\",\".join(nums[start:end] if step > 0 else reversed(nums[start:end]))+\"]\")"
   ]
  },
  {
   "cell_type": "markdown",
   "metadata": {},
   "source": [
    "## 해답"
   ]
  },
  {
   "cell_type": "code",
   "execution_count": 220,
   "metadata": {},
   "outputs": [],
   "source": [
    "def solution(input):\n",
    "    for _ in range(int(input())):\n",
    "        funcs, lennums, prenums = input(), input(), input()\n",
    "        nums = prenums[1:-1].split(\",\") if lennums != \"0\" else []\n",
    "        step = 1\n",
    "        start, end = 0, int(lennums)\n",
    "        print(start, end)\n",
    "        for func in funcs:\n",
    "            if func == \"R\": step *= -1\n",
    "            else:\n",
    "                if step < 0: end -= 1\n",
    "                else: start += 1\n",
    "                print(\" start, end:\", start, end)\n",
    "                if end < start: break\n",
    "            print(\"\",func, \"[\"+\",\".join(nums[start:end])+\"]\")\n",
    "        print(\"\", nums)\n",
    "        if end < start: print(\"error\")\n",
    "        else:\n",
    "            print(\"[\"+\",\".join(nums[start:end] if step > 0 else reversed(nums[start:end]))+\"]\")"
   ]
  },
  {
   "cell_type": "code",
   "execution_count": 221,
   "metadata": {},
   "outputs": [
    {
     "name": "stdout",
     "output_type": "stream",
     "text": [
      "[1, 2]\n"
     ]
    }
   ],
   "source": [
    "nums, is_reversed = [1,2], False\n",
    "print(nums[::-1 if is_reversed else 1])"
   ]
  },
  {
   "cell_type": "markdown",
   "metadata": {},
   "source": [
    "## 테스트 결과"
   ]
  },
  {
   "cell_type": "markdown",
   "metadata": {},
   "source": [
    "|테스트|결과|\n",
    "|---:|:---|"
   ]
  },
  {
   "cell_type": "markdown",
   "metadata": {},
   "source": [
    "## 예제"
   ]
  },
  {
   "cell_type": "code",
   "execution_count": 222,
   "metadata": {},
   "outputs": [],
   "source": [
    "# 백준 문제 풀이용 예제 실행 코드\n",
    "from inspect import signature\n",
    "def solution_example(input_ = None, solution=solution):\n",
    "    params = signature(solution).parameters\n",
    "    if input_ == None:\n",
    "        solution()\n",
    "    elif 'open' in params:\n",
    "        class open:\n",
    "            def __init__(self, x):\n",
    "                self.read = lambda: input_\n",
    "            def __iter__(self):\n",
    "                return iter(input_.split(\"\\n\"))\n",
    "        solution(open)\n",
    "    elif 'input' in params:\n",
    "        input_ = iter(input_.split(\"\\n\"))\n",
    "        input = input_.__next__\n",
    "        solution(input)\n",
    "    else:\n",
    "        raise NameError(f'solution 함수가 input, open 등의 매개변수를 받지 않습니다.\\nsolution 의 매개변수: {params}')\n",
    "    \n",
    "        \n",
    "# solution_example(\"\"\"\"\"\")\n",
    "# solution_example(read(\"fn\").read())"
   ]
  },
  {
   "cell_type": "code",
   "execution_count": 226,
   "metadata": {},
   "outputs": [
    {
     "name": "stdout",
     "output_type": "stream",
     "text": [
      "[]\n",
      "error\n",
      "[12]\n"
     ]
    }
   ],
   "source": [
    "solution_example(\"\"\"3\n",
    "R\n",
    "0\n",
    "[]\n",
    "RD\n",
    "0\n",
    "[]\n",
    "R\n",
    "1\n",
    "[12]\"\"\")"
   ]
  },
  {
   "cell_type": "code",
   "execution_count": 224,
   "metadata": {},
   "outputs": [
    {
     "name": "stdout",
     "output_type": "stream",
     "text": [
      "[2,1]\n",
      "error\n",
      "[1,2,3,5,8]\n",
      "error\n"
     ]
    }
   ],
   "source": [
    "solution_example(\"\"\"4\n",
    "RDD\n",
    "4\n",
    "[1,2,3,4]\n",
    "DD\n",
    "1\n",
    "[42]\n",
    "RRD\n",
    "6\n",
    "[1,1,2,3,5,8]\n",
    "D\n",
    "0\n",
    "[]\"\"\")"
   ]
  }
 ],
 "metadata": {
  "interpreter": {
   "hash": "73891b0dc2e53390f36276e59930dd4ecab91b05b5c90320c2d5b1c443f87069"
  },
  "kernelspec": {
   "display_name": "Python 3.10.1 ('venv': venv)",
   "language": "python",
   "name": "python3"
  },
  "language_info": {
   "codemirror_mode": {
    "name": "ipython",
    "version": 3
   },
   "file_extension": ".py",
   "mimetype": "text/x-python",
   "name": "python",
   "nbconvert_exporter": "python",
   "pygments_lexer": "ipython3",
   "version": "3.10.1"
  },
  "orig_nbformat": 4
 },
 "nbformat": 4,
 "nbformat_minor": 2
}
