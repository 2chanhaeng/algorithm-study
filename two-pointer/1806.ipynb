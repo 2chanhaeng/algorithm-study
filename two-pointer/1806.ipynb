{
  "cells": [
    {
      "cell_type": "markdown",
      "metadata": {},
      "source": [
        "# [백준/부분합](https://www.acmicpc.net/problem/1806)\n"
      ]
    },
    {
      "cell_type": "markdown",
      "metadata": {},
      "source": [
        "## 풀이과정\n"
      ]
    },
    {
      "cell_type": "markdown",
      "metadata": {},
      "source": [
        "### 첫번째 시도\n"
      ]
    },
    {
      "cell_type": "markdown",
      "metadata": {},
      "source": [
        "#### 풀이과정\n"
      ]
    },
    {
      "cell_type": "code",
      "execution_count": null,
      "metadata": {},
      "outputs": [],
      "source": [
        "from itertools import accumulate\n",
        "\n",
        "\n",
        "def solution():\n",
        "    import sys\n",
        "\n",
        "    n, m, *nums = map(int, sys.stdin.read().split())\n",
        "    accs = list(accumulate(nums, initial=0))\n",
        "    if m > accs[-1]:\n",
        "        return print(0)\n",
        "    result = n\n",
        "    end = iter(range(len(accs)))\n",
        "    j = next(end)\n",
        "    for i, a in enumerate(accs):\n",
        "        if a < m:\n",
        "            continue\n",
        "        while a - accs[j] >= m:\n",
        "            j = next(end)\n",
        "        result = min(result, i - j + 1)\n",
        "    print(result)\n",
        "\n",
        "\n",
        "solution()"
      ]
    },
    {
      "cell_type": "markdown",
      "metadata": {},
      "source": [
        "## 해답\n"
      ]
    },
    {
      "cell_type": "code",
      "execution_count": 1,
      "id": "a7661e90",
      "metadata": {},
      "outputs": [],
      "source": [
        "from itertools import accumulate"
      ]
    },
    {
      "cell_type": "code",
      "execution_count": 2,
      "metadata": {},
      "outputs": [],
      "source": [
        "def solution():\n",
        "    import sys\n",
        "\n",
        "    n, m, *nums = map(int, sys.stdin.read().split())\n",
        "    accs = list(accumulate(nums, initial=0))\n",
        "    if m > accs[-1]:\n",
        "        return print(0)\n",
        "    result = n\n",
        "    end = iter(range(len(accs)))\n",
        "    j = next(end)\n",
        "    for i, a in enumerate(accs):\n",
        "        if a < m:\n",
        "            continue\n",
        "        while a - accs[j] >= m:\n",
        "            j = next(end)\n",
        "        result = min(result, i - j + 1)\n",
        "    print(result)"
      ]
    },
    {
      "cell_type": "markdown",
      "metadata": {},
      "source": [
        "## 예제\n"
      ]
    },
    {
      "cell_type": "code",
      "execution_count": 3,
      "metadata": {},
      "outputs": [],
      "source": [
        "# 백준 문제 풀이용 예제 실행 코드\n",
        "from bwj import test\n",
        "\n",
        "test_solution = test(solution)\n",
        "\n",
        "# test_solution(\"\"\"\"\"\")\n",
        "# test_solution(read(\"fn\").read())"
      ]
    },
    {
      "cell_type": "code",
      "execution_count": 4,
      "id": "3ec12ad2",
      "metadata": {},
      "outputs": [
        {
          "name": "stdout",
          "output_type": "stream",
          "text": [
            "6\n"
          ]
        }
      ],
      "source": [
        "test_solution(\n",
        "    \"\"\"20 1000\n",
        "227 6 153 252 158 128 225 140 62 40 157 128 5 155 181 50 50 106 206 109\n",
        "\"\"\"\n",
        ")"
      ]
    },
    {
      "cell_type": "code",
      "execution_count": 5,
      "id": "e4c5abf1",
      "metadata": {},
      "outputs": [
        {
          "name": "stdout",
          "output_type": "stream",
          "text": [
            "0\n",
            "1\n",
            "6\n"
          ]
        }
      ],
      "source": [
        "test_solution(\n",
        "    \"\"\"10 15\n",
        "1 2 1 1 1 2 1 1 1 1\n",
        "\"\"\"\n",
        ")  # 0\n",
        "test_solution(\n",
        "    \"\"\"10 15\n",
        "1 2 1 1 1 2 1 1 1 15\n",
        "\"\"\"\n",
        ")  # 1\n",
        "test_solution(\n",
        "    \"\"\"10 15\n",
        "1 2 1 1 1 2 1 1 1 9\n",
        "\"\"\"\n",
        ")  # 1"
      ]
    },
    {
      "cell_type": "code",
      "execution_count": 6,
      "metadata": {},
      "outputs": [
        {
          "name": "stdout",
          "output_type": "stream",
          "text": [
            "2\n"
          ]
        }
      ],
      "source": [
        "test_solution(\n",
        "    \"\"\"10 15\n",
        "5 1 3 5 10 7 4 9 2 8\n",
        "\"\"\"\n",
        ")  # 2"
      ]
    }
  ],
  "metadata": {
    "kernelspec": {
      "display_name": "venv",
      "language": "python",
      "name": "python3"
    },
    "language_info": {
      "codemirror_mode": {
        "name": "ipython",
        "version": 3
      },
      "file_extension": ".py",
      "mimetype": "text/x-python",
      "name": "python",
      "nbconvert_exporter": "python",
      "pygments_lexer": "ipython3",
      "version": "3.12.10"
    }
  },
  "nbformat": 4,
  "nbformat_minor": 5
}
