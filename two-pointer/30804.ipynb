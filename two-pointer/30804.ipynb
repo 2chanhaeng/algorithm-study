{
  "cells": [
    {
      "cell_type": "markdown",
      "metadata": {},
      "source": [
        "# [백준/과일 탕후루](https://www.acmicpc.net/problem/30804)\n"
      ]
    },
    {
      "cell_type": "markdown",
      "metadata": {},
      "source": [
        "## 풀이과정\n"
      ]
    },
    {
      "cell_type": "markdown",
      "metadata": {},
      "source": [
        "### 첫번째 시도\n"
      ]
    },
    {
      "cell_type": "markdown",
      "metadata": {},
      "source": [
        "#### 풀이과정\n",
        "\n",
        "전체 길이와 가장 최근의 과일과 그 길이, 그리고 그 다음 최근 과일을 변수로 저장했다.\n",
        "이후 다음 과일이 최근 과일과 같다면 길이만 늘린다.\n",
        "만약 다음 과일이 최근 과일과 다르다면, 과일을 바꾸고 최근 과일 길이를 초기화한다.\n",
        "다만 다음 과일이 두번째 최근 과일이었다면 전체 길이도 최근 과일 길이로 바꾼다.\n",
        "\n",
        "여담으로\n",
        "\n",
        "```py\n",
        "if i == a:\n",
        "    a, b = b, a\n",
        "    count = 0\n",
        "elif i != b:\n",
        "    length = count\n",
        "    a, b = b, i\n",
        "    count = 0\n",
        "```\n",
        "\n",
        "부분을 다음과 같이 바꿔봤는데\n",
        "\n",
        "```py\n",
        "if i != b:\n",
        "    if i != a:\n",
        "        length = count\n",
        "    a, b = b, i\n",
        "    count = 0\n",
        "```\n",
        "\n",
        "약간이지만은 속도가 느려졌다.\n",
        "전자는 현재 과일이 최근 과일과 같다면 분기를 한 번만 지나도 되지만 후자는 어떤 경우에든 분기를 두번씩 지나게 만들어서 그런 것 같다.\n",
        "그래도 코드가 더 간결해져서 극단적인 효율이 필요한 게 아니라면 후자의 코드가 더 보기 좋을 것 같다.\n"
      ]
    },
    {
      "cell_type": "code",
      "execution_count": null,
      "metadata": {},
      "outputs": [],
      "source": [
        "def solution():\n",
        "    import sys\n",
        "\n",
        "    n, *inputs = sys.stdin.read().split()\n",
        "    if len(set(inputs)) < 3:\n",
        "        return print(n)\n",
        "    b = inputs[0]\n",
        "    a = next(filter(lambda x: x != b, inputs[1:]))\n",
        "    length = 0\n",
        "    count = 0\n",
        "    result = 0\n",
        "    for i in inputs:\n",
        "        if i == a:\n",
        "            a, b = b, a\n",
        "            count = 0\n",
        "        elif i != b:\n",
        "            length = count\n",
        "            a, b = b, i\n",
        "            count = 0\n",
        "        length += 1\n",
        "        count += 1\n",
        "        result = max(result, length)\n",
        "    print(result)\n",
        "\n",
        "\n",
        "solution()"
      ]
    },
    {
      "cell_type": "markdown",
      "id": "0b5a03a5",
      "metadata": {},
      "source": [
        "![2025-06-02 23:31:57 기준 30804번 맞힌 사람 Python 1위](<../img/Screenshot%202025-06-02%20at%2023-31-57%2030804번%20맞힌%20사람%20(Python)%20-%201%20페이지.png>)\n"
      ]
    },
    {
      "cell_type": "markdown",
      "metadata": {},
      "source": [
        "## 해답\n"
      ]
    },
    {
      "cell_type": "code",
      "execution_count": 1,
      "metadata": {},
      "outputs": [],
      "source": [
        "def solution():\n",
        "    import sys\n",
        "\n",
        "    n, *inputs = sys.stdin.read().split()\n",
        "    if len(set(inputs)) < 3:\n",
        "        return print(n)\n",
        "    b = inputs[0]\n",
        "    a = next(filter(lambda x: x != b, inputs[1:]))\n",
        "    length = 0\n",
        "    count = 0\n",
        "    result = 0\n",
        "    for i in inputs:\n",
        "        if i == a:\n",
        "            a, b = b, a\n",
        "            count = 0\n",
        "        elif i != b:\n",
        "            length = count\n",
        "            a, b = b, i\n",
        "            count = 0\n",
        "        length += 1\n",
        "        count += 1\n",
        "        result = max(result, length)\n",
        "    print(result)"
      ]
    },
    {
      "cell_type": "markdown",
      "metadata": {},
      "source": [
        "## 예제\n"
      ]
    },
    {
      "cell_type": "code",
      "execution_count": 2,
      "metadata": {},
      "outputs": [],
      "source": [
        "# 백준 문제 풀이용 예제 실행 코드\n",
        "from bwj import test\n",
        "\n",
        "test_solution = test(solution)\n",
        "\n",
        "# test_solution(\"\"\"\"\"\")\n",
        "# test_solution(read(\"fn\").read())"
      ]
    },
    {
      "cell_type": "code",
      "execution_count": 3,
      "metadata": {},
      "outputs": [
        {
          "name": "stdout",
          "output_type": "stream",
          "text": [
            "4\n"
          ]
        }
      ],
      "source": [
        "test_solution(\n",
        "    \"\"\"5\n",
        "5 1 1 2 1\n",
        "\"\"\"\n",
        ")  # 4"
      ]
    },
    {
      "cell_type": "code",
      "execution_count": 4,
      "metadata": {},
      "outputs": [
        {
          "name": "stdout",
          "output_type": "stream",
          "text": [
            "3\n"
          ]
        }
      ],
      "source": [
        "test_solution(\n",
        "    \"\"\"3\n",
        "1 1 1\n",
        "\"\"\"\n",
        ")  # 3"
      ]
    },
    {
      "cell_type": "code",
      "execution_count": 5,
      "metadata": {},
      "outputs": [
        {
          "name": "stdout",
          "output_type": "stream",
          "text": [
            "2\n"
          ]
        }
      ],
      "source": [
        "test_solution(\n",
        "    \"\"\"9\n",
        "1 2 3 4 5 6 7 8 9\n",
        "\"\"\"\n",
        ")  # 2"
      ]
    }
  ],
  "metadata": {
    "kernelspec": {
      "display_name": "venv",
      "language": "python",
      "name": "python3"
    },
    "language_info": {
      "codemirror_mode": {
        "name": "ipython",
        "version": 3
      },
      "file_extension": ".py",
      "mimetype": "text/x-python",
      "name": "python",
      "nbconvert_exporter": "python",
      "pygments_lexer": "ipython3",
      "version": "3.12.10"
    }
  },
  "nbformat": 4,
  "nbformat_minor": 5
}
