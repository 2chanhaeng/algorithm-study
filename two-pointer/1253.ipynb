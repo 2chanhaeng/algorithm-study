{
 "cells": [
  {
   "cell_type": "markdown",
   "metadata": {},
   "source": [
    "# [백준/좋다](https://www.acmicpc.net/problem/1253)"
   ]
  },
  {
   "cell_type": "markdown",
   "metadata": {},
   "source": [
    "## 풀이과정"
   ]
  },
  {
   "cell_type": "markdown",
   "metadata": {},
   "source": [
    "### 첫번째 시도"
   ]
  },
  {
   "cell_type": "markdown",
   "metadata": {},
   "source": [
    "#### 풀이과정"
   ]
  },
  {
   "cell_type": "code",
   "execution_count": null,
   "metadata": {},
   "outputs": [],
   "source": [
    "def solution():\n",
    "    import sys\n",
    "    from collections import Counter as C\n",
    "\n",
    "    nums = sorted(map(int, sys.stdin.read().split()[1:]))\n",
    "    counter = C(nums)\n",
    "    result = 0\n",
    "    for num in nums:\n",
    "        for sub in nums:\n",
    "            if all(map(lambda x: c[x] <= counter[x], c := C([num, sub, num - sub]))):\n",
    "                result += 1\n",
    "                break\n",
    "            if 2 * sub > num:\n",
    "                break\n",
    "    print(result)\n",
    "\n",
    "\n",
    "solution()"
   ]
  },
  {
   "attachments": {},
   "cell_type": "markdown",
   "metadata": {},
   "source": [
    "### 두번째 시도"
   ]
  },
  {
   "cell_type": "markdown",
   "metadata": {},
   "source": [
    "#### 풀이과정"
   ]
  },
  {
   "cell_type": "code",
   "execution_count": null,
   "metadata": {},
   "outputs": [],
   "source": [
    "# refer https://www.acmicpc.net/source/35275050\n",
    "def solution():\n",
    "    import sys\n",
    "\n",
    "    sys.setrecursionlimit(10000)\n",
    "    input = map(int, sys.stdin.read().split())\n",
    "    n = next(input)\n",
    "    nums = sorted(input)\n",
    "\n",
    "    def binary(i, tar, left=0, right=n - 1):\n",
    "        if left >= right:\n",
    "            return 0\n",
    "        num = nums[left] + nums[right]\n",
    "        if num == tar:\n",
    "            if left != i != right:\n",
    "                return 1\n",
    "            else:\n",
    "                return binary(i, tar, left + (left == i), right - (right == i))\n",
    "        else:\n",
    "            return binary(i, tar, left + (num < tar), right - (num > tar))\n",
    "\n",
    "    print(sum(binary(i, nums[i]) for i in range(n)))\n",
    "\n",
    "\n",
    "solution()"
   ]
  },
  {
   "cell_type": "markdown",
   "metadata": {},
   "source": [
    "## 해답"
   ]
  },
  {
   "cell_type": "code",
   "execution_count": 1,
   "metadata": {},
   "outputs": [],
   "source": [
    "# refer https://www.acmicpc.net/source/35275050\n",
    "def solution():\n",
    "    import sys\n",
    "\n",
    "    sys.setrecursionlimit(10000)\n",
    "    input = map(int, sys.stdin.read().split())\n",
    "    n = next(input)\n",
    "    nums = sorted(input)\n",
    "\n",
    "    def binary(i, tar, left=0, right=n - 1):\n",
    "        if left >= right:\n",
    "            return 0\n",
    "        num = nums[left] + nums[right]\n",
    "        if num == tar:\n",
    "            if left != i != right:\n",
    "                return 1\n",
    "            else:\n",
    "                return binary(i, tar, left + (left == i), right - (right == i))\n",
    "        else:\n",
    "            return binary(i, tar, left + (num < tar), right - (num > tar))\n",
    "\n",
    "    print(sum(binary(i, nums[i]) for i in range(n)))"
   ]
  },
  {
   "cell_type": "markdown",
   "metadata": {},
   "source": [
    "## 예제"
   ]
  },
  {
   "cell_type": "code",
   "execution_count": 2,
   "metadata": {},
   "outputs": [],
   "source": [
    "# black 모듈을 jupyter notebook 내에서 사용 가능하게 만들어주는 blackcellmagic 모듈 불러오기\n",
    "%load_ext blackcellmagic\n",
    "# %%black\n",
    "\n",
    "# 백준 문제 풀이용 예제 실행 코드\n",
    "from bwj import test\n",
    "\n",
    "test_solution = test(solution)\n",
    "\n",
    "# test_solution(\"\"\"\"\"\")\n",
    "# test_solution(read(\"fn\").read())"
   ]
  },
  {
   "cell_type": "code",
   "execution_count": 3,
   "metadata": {},
   "outputs": [
    {
     "name": "stdout",
     "output_type": "stream",
     "text": [
      "1\n"
     ]
    }
   ],
   "source": [
    "test_solution(\n",
    "    \"\"\"5\n",
    "0 0 1 3 4\n",
    "\"\"\"\n",
    ")  # 1"
   ]
  },
  {
   "cell_type": "code",
   "execution_count": 4,
   "metadata": {},
   "outputs": [
    {
     "name": "stdout",
     "output_type": "stream",
     "text": [
      "5\n"
     ]
    }
   ],
   "source": [
    "test_solution(\n",
    "    \"\"\"5\n",
    "0 -1 -1 1 1\n",
    "\"\"\"\n",
    ")  # 5"
   ]
  },
  {
   "cell_type": "code",
   "execution_count": 5,
   "metadata": {},
   "outputs": [
    {
     "name": "stdout",
     "output_type": "stream",
     "text": [
      "1\n",
      "3\n",
      "0\n"
     ]
    }
   ],
   "source": [
    "test_solution(\n",
    "    \"\"\"3\n",
    "-5 -2 -3\n",
    "\"\"\"\n",
    ")  # 1\n",
    "test_solution(\n",
    "    \"\"\"3\n",
    "0 0 0\n",
    "\"\"\"\n",
    ")  # 3\n",
    "test_solution(\n",
    "    \"\"\"3\n",
    "0 0 1\n",
    "\"\"\"\n",
    ")  # 0"
   ]
  },
  {
   "cell_type": "code",
   "execution_count": 6,
   "metadata": {},
   "outputs": [
    {
     "name": "stdout",
     "output_type": "stream",
     "text": [
      "8\n"
     ]
    }
   ],
   "source": [
    "test_solution(\n",
    "    \"\"\"10\n",
    "1 2 3 4 5 6 7 8 9 10\n",
    "\"\"\"\n",
    ")  # 8"
   ]
  }
 ],
 "metadata": {
  "kernelspec": {
   "display_name": "venv",
   "language": "python",
   "name": "python3"
  },
  "language_info": {
   "codemirror_mode": {
    "name": "ipython",
    "version": 3
   },
   "file_extension": ".py",
   "mimetype": "text/x-python",
   "name": "python",
   "nbconvert_exporter": "python",
   "pygments_lexer": "ipython3",
   "version": "3.10.8"
  },
  "orig_nbformat": 4,
  "vscode": {
   "interpreter": {
    "hash": "72904a014a9ffe38f4c58942120b599b3c5a87d06764037548e0139929c1cde3"
   }
  }
 },
 "nbformat": 4,
 "nbformat_minor": 2
}
