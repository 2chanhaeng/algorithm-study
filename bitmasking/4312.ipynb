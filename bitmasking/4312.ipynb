{
  "cells": [
    {
      "cell_type": "markdown",
      "metadata": {},
      "source": [
        "# [백준/3의 제곱](https://www.acmicpc.net/problem/4312)\n"
      ]
    },
    {
      "cell_type": "markdown",
      "metadata": {},
      "source": [
        "## 풀이과정\n"
      ]
    },
    {
      "cell_type": "markdown",
      "metadata": {},
      "source": [
        "### 첫번째 시도\n"
      ]
    },
    {
      "cell_type": "markdown",
      "metadata": {},
      "source": [
        "#### 풀이과정\n"
      ]
    },
    {
      "cell_type": "code",
      "execution_count": null,
      "metadata": {},
      "outputs": [],
      "source": [
        "THREES = [i := 1] + [i := i * 3 for _ in range(64)]\n",
        "\n",
        "\n",
        "def three(num: int) -> list[int]:\n",
        "    return [THREES[i] for i, j in enumerate(bin(num - 1)[-1:1:-1]) if j == \"1\"]\n",
        "\n",
        "\n",
        "def join(nums: list[int]) -> str:\n",
        "    return \"{ \" + \", \".join(map(str, nums)) + \" }\" if nums else \"{ }\"\n",
        "\n",
        "\n",
        "def solution():\n",
        "    inputs = map(int, open(0).read().strip().split()[:-1])\n",
        "    solve = lambda x: join(three(x))\n",
        "    print(\"\\n\".join(map(solve, inputs)))\n",
        "\n",
        "\n",
        "solution()"
      ]
    },
    {
      "cell_type": "markdown",
      "id": "a03feb05",
      "metadata": {},
      "source": [
        "## 숏코딩\n"
      ]
    },
    {
      "cell_type": "code",
      "execution_count": null,
      "id": "e7b6a7a7",
      "metadata": {},
      "outputs": [],
      "source": [
        "(lambda I:print(\"\\n\".join(map(lambda P:(\"{ \"+\", \".join(map(str, P))+\" }\"if P else\"{ }\"),map(lambda O:[I[i]for i,j in enumerate(bin(O-1)[-1:1:-1])if j==\"1\"],map(int,open(0).read().strip().split()[:-1]))))))([i:=1]+[i:=i*3 for _ in range(64)]) # fmt: skip"
      ]
    },
    {
      "cell_type": "markdown",
      "metadata": {},
      "source": [
        "## 해답\n"
      ]
    },
    {
      "cell_type": "code",
      "execution_count": 1,
      "id": "ea53fbc1",
      "metadata": {},
      "outputs": [],
      "source": [
        "THREES = [i := 1] + [i := i * 3 for _ in range(64)]"
      ]
    },
    {
      "cell_type": "code",
      "execution_count": 2,
      "id": "809a2fc4",
      "metadata": {},
      "outputs": [],
      "source": [
        "def three(num: int) -> list[int]:\n",
        "    return [THREES[i] for i, j in enumerate(bin(num - 1)[-1:1:-1]) if j == \"1\"]"
      ]
    },
    {
      "cell_type": "code",
      "execution_count": 3,
      "id": "0228c3ae",
      "metadata": {},
      "outputs": [],
      "source": [
        "def join(nums: list[int]) -> str:\n",
        "    return \"{ \" + \", \".join(map(str, nums)) + \" }\" if nums else \"{ }\""
      ]
    },
    {
      "cell_type": "code",
      "execution_count": 4,
      "metadata": {},
      "outputs": [],
      "source": [
        "def solution():\n",
        "    import sys\n",
        "\n",
        "    inputs = map(int, sys.stdin.read().strip().split()[:-1])\n",
        "    print(\"\\n\".join(map(join, map(three, inputs))))"
      ]
    },
    {
      "cell_type": "markdown",
      "metadata": {},
      "source": [
        "## 예제\n"
      ]
    },
    {
      "cell_type": "code",
      "execution_count": 5,
      "metadata": {},
      "outputs": [],
      "source": [
        "# 백준 문제 풀이용 예제 실행 코드\n",
        "from bwj import test\n",
        "\n",
        "test_solution = test(solution)\n",
        "\n",
        "# test_solution(\"\"\"\"\"\")\n",
        "# test_solution(read(\"fn\").read())"
      ]
    },
    {
      "cell_type": "code",
      "execution_count": 6,
      "metadata": {},
      "outputs": [
        {
          "name": "stdout",
          "output_type": "stream",
          "text": [
            "{ }\n",
            "{ 3, 9 }\n",
            "{ 1, 9, 27 }\n",
            "{ 3, 9, 27, 6561, 19683 }\n",
            "{ 59049, 3486784401, 205891132094649, 717897987691852588770249 }\n"
          ]
        }
      ],
      "source": [
        "test_solution(\n",
        "    \"\"\"1\n",
        "7\n",
        "14\n",
        "783\n",
        "1125900981634049\n",
        "0\n",
        "\"\"\"\n",
        ")\n",
        "# answer:\n",
        "# { }\n",
        "# { 3, 9 }\n",
        "# { 1, 9, 27 }\n",
        "# { 3, 9, 27, 6561, 19683 }\n",
        "# { 59049, 3486784401, 205891132094649, 717897987691852588770249 }"
      ]
    }
  ],
  "metadata": {
    "kernelspec": {
      "display_name": "venv",
      "language": "python",
      "name": "python3"
    },
    "language_info": {
      "codemirror_mode": {
        "name": "ipython",
        "version": 3
      },
      "file_extension": ".py",
      "mimetype": "text/x-python",
      "name": "python",
      "nbconvert_exporter": "python",
      "pygments_lexer": "ipython3",
      "version": "3.13.1"
    }
  },
  "nbformat": 4,
  "nbformat_minor": 5
}
