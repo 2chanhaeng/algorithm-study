{
    "cells": [
        {
            "cell_type": "markdown",
            "metadata": {},
            "source": [
                "# [백준/1의 개수 세기](https://www.acmicpc.net/problem/9527)\n"
            ]
        },
        {
            "cell_type": "markdown",
            "metadata": {},
            "source": [
                "## 풀이과정\n"
            ]
        },
        {
            "cell_type": "markdown",
            "metadata": {},
            "source": [
                "### 첫번째 시도\n"
            ]
        },
        {
            "cell_type": "markdown",
            "metadata": {},
            "source": [
                "#### 풀이과정\n"
            ]
        },
        {
            "cell_type": "code",
            "execution_count": null,
            "metadata": {},
            "outputs": [],
            "source": [
                "from itertools import accumulate\n",
                "\n",
                "ones = lambda n: accumulate(range(n), lambda x, y: 2**y + 2 * x, initial=0)\n",
                "pow2 = lambda n: (pow(2, i) for i in range(n))\n",
                "rev_zip = lambda *its: zip(*map(reversed, map(list, its)))\n",
                "pos = lambda n: rev_zip(pow2(n), ones(n - 1))\n",
                "check = lambda n: sum(o + n % p + 1 for p, o in pos(n.bit_length()) if (n // p) % 2)\n",
                "solve = lambda a: print(-check(next(a) - 1) + check(next(a)))\n",
                "solve(map(int, input().split()))"
            ]
        },
        {
            "cell_type": "markdown",
            "metadata": {},
            "source": [
                "## 해답\n"
            ]
        },
        {
            "cell_type": "code",
            "execution_count": 1,
            "metadata": {},
            "outputs": [],
            "source": [
                "from itertools import accumulate\n",
                "\n",
                "ones = lambda n: accumulate(range(n), lambda x, y: 2**y + 2 * x, initial=0)\n",
                "pow2 = lambda n: (pow(2, i) for i in range(n))\n",
                "rev_zip = lambda *its: zip(*map(reversed, map(list, its)))\n",
                "pos = lambda n: rev_zip(pow2(n), ones(n - 1))\n",
                "check = lambda n: sum(o + n % p + 1 for p, o in pos(n.bit_length()) if (n // p) % 2)\n",
                "solve = lambda a: print(-check(next(a) - 1) + check(next(a)))\n",
                "# solve(map(int, input().split()))"
            ]
        },
        {
            "cell_type": "code",
            "execution_count": 2,
            "metadata": {},
            "outputs": [],
            "source": [
                "def solution():\n",
                "    import sys\n",
                "\n",
                "    solve(map(int, sys.stdin.readline().split()))"
            ]
        },
        {
            "cell_type": "markdown",
            "metadata": {},
            "source": [
                "## 예제\n"
            ]
        },
        {
            "cell_type": "code",
            "execution_count": 3,
            "metadata": {},
            "outputs": [],
            "source": [
                "# 백준 문제 풀이용 예제 실행 코드\n",
                "from bwj import test\n",
                "\n",
                "test_solution = test(solution)\n",
                "\n",
                "# test_solution(\"\"\"\"\"\")\n",
                "# test_solution(read(\"fn\").read())"
            ]
        },
        {
            "cell_type": "code",
            "execution_count": 4,
            "metadata": {},
            "outputs": [
                {
                    "name": "stdout",
                    "output_type": "stream",
                    "text": [
                        "21\n"
                    ]
                }
            ],
            "source": [
                "test_solution(\n",
                "    \"\"\"2 12\n",
                "\"\"\"\n",
                ")  # 21"
            ]
        }
    ],
    "metadata": {
        "interpreter": {
            "hash": "73891b0dc2e53390f36276e59930dd4ecab91b05b5c90320c2d5b1c443f87069"
        },
        "kernelspec": {
            "display_name": "Python 3.10.1 ('venv': venv)",
            "language": "python",
            "name": "python3"
        },
        "language_info": {
            "codemirror_mode": {
                "name": "ipython",
                "version": 3
            },
            "file_extension": ".py",
            "mimetype": "text/x-python",
            "name": "python",
            "nbconvert_exporter": "python",
            "pygments_lexer": "ipython3",
            "version": "3.12.2"
        },
        "orig_nbformat": 4
    },
    "nbformat": 4,
    "nbformat_minor": 2
}
