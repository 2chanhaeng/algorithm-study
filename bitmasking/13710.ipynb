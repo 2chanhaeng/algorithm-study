{
    "cells": [
        {
            "cell_type": "markdown",
            "metadata": {},
            "source": [
                "# [백준/XOR 합 3](https://www.acmicpc.net/problem/13710)"
            ]
        },
        {
            "cell_type": "markdown",
            "metadata": {},
            "source": [
                "## 풀이과정"
            ]
        },
        {
            "cell_type": "markdown",
            "metadata": {},
            "source": [
                "### 첫번째 시도"
            ]
        },
        {
            "cell_type": "markdown",
            "metadata": {},
            "source": [
                "#### 풀이과정"
            ]
        },
        {
            "cell_type": "code",
            "execution_count": null,
            "metadata": {},
            "outputs": [],
            "source": [
                "import sys\n",
                "from operator import xor\n",
                "from functools import reduce\n",
                "\n",
                "\n",
                "def bitinner(xs: tuple[int], i:int):\n",
                "    return xs[:i] + divmod(xs[i], 2)[::-1]\n",
                "\n",
                "\n",
                "def bit(n):\n",
                "    return reduce(bitinner, range(30), (n,))\n",
                "\n",
                "\n",
                "def xors(A, B, n):\n",
                "    return tuple(n - a if b else a for a, b in zip(A, B))\n",
                "\n",
                "\n",
                "def revbit(xs):\n",
                "    return reduce(lambda x, y: x * 2 + y, xs[::-1])\n",
                "\n",
                "\n",
                "def solution():\n",
                "    n, *inputs = map(int, sys.stdin.read().split())\n",
                "    s = 0\n",
                "    t = (0,) * 30\n",
                "    for i in range(1, n + 1):\n",
                "        t = xors(t, bit(inputs[i - 1]), i)\n",
                "        s += revbit(t)\n",
                "    print(s)\n",
                "\n",
                "\n",
                "solution()"
            ]
        },
        {
            "attachments": {},
            "cell_type": "markdown",
            "metadata": {},
            "source": [
                "### 두번째 시도"
            ]
        },
        {
            "cell_type": "markdown",
            "metadata": {},
            "source": [
                "#### 풀이과정"
            ]
        },
        {
            "cell_type": "code",
            "execution_count": null,
            "metadata": {},
            "outputs": [],
            "source": [
                "def solution(): # refer https://www.acmicpc.net/source/46270413\n",
                "    import sys\n",
                "    from operator import xor\n",
                "    from itertools import accumulate as acc\n",
                "\n",
                "    n, *inputs = map(int, sys.stdin.read().split())\n",
                "    bits = [0] * 30\n",
                "    for num in acc(inputs, xor, initial=0):\n",
                "        for i in range(num.bit_length()):\n",
                "            if num & 1:\n",
                "                bits[i] += 1\n",
                "            num //= 2\n",
                "    print(sum(bit * (n + 1 - bit) << i for i, bit in enumerate(bits)))\n",
                "\n",
                "\n",
                "solution()"
            ]
        },
        {
            "cell_type": "markdown",
            "metadata": {},
            "source": [
                "## 해답"
            ]
        },
        {
            "cell_type": "code",
            "execution_count": null,
            "metadata": {},
            "outputs": [],
            "source": [
                "def solution(): # refer https://www.acmicpc.net/source/46270413\n",
                "    import sys\n",
                "    from operator import xor\n",
                "    from itertools import accumulate as acc\n",
                "\n",
                "    n, *inputs = map(int, sys.stdin.read().split())\n",
                "    bits = [0] * 30\n",
                "    for num in acc(inputs, xor, initial=0):\n",
                "        for i in range(num.bit_length()):\n",
                "            if num & 1:\n",
                "                bits[i] += 1\n",
                "            num //= 2\n",
                "    print(sum(bit * (n + 1 - bit) << i for i, bit in enumerate(bits)))"
            ]
        },
        {
            "cell_type": "markdown",
            "metadata": {},
            "source": [
                "## 예제"
            ]
        },
        {
            "cell_type": "code",
            "execution_count": 125,
            "metadata": {},
            "outputs": [
                {
                    "name": "stdout",
                    "output_type": "stream",
                    "text": [
                        "The blackcellmagic extension is already loaded. To reload it, use:\n",
                        "  %reload_ext blackcellmagic\n"
                    ]
                }
            ],
            "source": [
                "# black 모듈을 jupyter notebook 내에서 사용 가능하게 만들어주는 blackcellmagic 모듈 불러오기\n",
                "%load_ext blackcellmagic\n",
                "# %%black\n",
                "\n",
                "# 백준 문제 풀이용 예제 실행 코드\n",
                "from bwj import test\n",
                "test_solution = test(solution)\n",
                "\n",
                "# test_solution(\"\"\"\"\"\")\n",
                "# test_solution(read(\"fn\").read())"
            ]
        },
        {
            "cell_type": "code",
            "execution_count": 126,
            "metadata": {},
            "outputs": [],
            "source": [
                "def format_input(s):\n",
                "    return f\"{len(s)}\\n{' '.join(map(str, s))}\\n\""
            ]
        },
        {
            "cell_type": "code",
            "execution_count": 127,
            "metadata": {},
            "outputs": [
                {
                    "name": "stdout",
                    "output_type": "stream",
                    "text": [
                        "34\n"
                    ]
                },
                {
                    "data": {
                        "text/plain": [
                            "'\\n^ 2 3 5 7\\n2 2\\n3 1 3\\n5 4 6 5\\n7 3 1 2 7\\n'"
                        ]
                    },
                    "execution_count": 127,
                    "metadata": {},
                    "output_type": "execute_result"
                }
            ],
            "source": [
                "test_solution(format_input([2, 3, 5, 7])) # 218\n",
                "\"\"\"\n",
                "^ 2 3 5 7\n",
                "2 2\n",
                "3 1 3\n",
                "5 4 6 5\n",
                "7 3 1 2 7\n",
                "\"\"\""
            ]
        },
        {
            "cell_type": "code",
            "execution_count": 128,
            "metadata": {},
            "outputs": [
                {
                    "name": "stdout",
                    "output_type": "stream",
                    "text": [
                        "218\n"
                    ]
                }
            ],
            "source": [
                "test_solution(format_input(range(10))) # 218"
            ]
        },
        {
            "cell_type": "code",
            "execution_count": 129,
            "metadata": {},
            "outputs": [
                {
                    "name": "stdout",
                    "output_type": "stream",
                    "text": [
                        "23\n"
                    ]
                }
            ],
            "source": [
                "test_solution(\"\"\"3\n",
                "1 2 4\n",
                "\"\"\") # 23"
            ]
        },
        {
            "cell_type": "code",
            "execution_count": 130,
            "metadata": {},
            "outputs": [
                {
                    "name": "stdout",
                    "output_type": "stream",
                    "text": [
                        "6\n"
                    ]
                }
            ],
            "source": [
                "test_solution(\"\"\"2\n",
                "1 2\n",
                "\"\"\") # 6"
            ]
        }
    ],
    "metadata": {
        "kernelspec": {
            "display_name": "venv",
            "language": "python",
            "name": "python3"
        },
        "language_info": {
            "codemirror_mode": {
                "name": "ipython",
                "version": 3
            },
            "file_extension": ".py",
            "mimetype": "text/x-python",
            "name": "python",
            "nbconvert_exporter": "python",
            "pygments_lexer": "ipython3",
            "version": "3.10.8 (main, Oct 13 2022, 09:48:40) [Clang 14.0.0 (clang-1400.0.29.102)]"
        },
        "orig_nbformat": 4,
        "vscode": {
            "interpreter": {
                "hash": "72904a014a9ffe38f4c58942120b599b3c5a87d06764037548e0139929c1cde3"
            }
        }
    },
    "nbformat": 4,
    "nbformat_minor": 2
}
