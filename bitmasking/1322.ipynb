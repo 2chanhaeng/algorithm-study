{
 "cells": [
  {
   "cell_type": "markdown",
   "metadata": {},
   "source": [
    "# [백준/X와 K](https://www.acmicpc.net/problem/1322)"
   ]
  },
  {
   "cell_type": "markdown",
   "metadata": {},
   "source": [
    "## 풀이과정"
   ]
  },
  {
   "cell_type": "markdown",
   "metadata": {},
   "source": [
    "### 첫번째 시도"
   ]
  },
  {
   "attachments": {},
   "cell_type": "markdown",
   "metadata": {},
   "source": [
    "#### 풀이과정\n",
    "예제만 풀 때는 맞는 듯 했으나 실제 채점시에는 오답이 나왔다."
   ]
  },
  {
   "cell_type": "code",
   "execution_count": null,
   "metadata": {},
   "outputs": [],
   "source": [
    "def binary(x):\n",
    "    return [1 if i == \"1\" else 0 for i in bin(x)[2:]]\n",
    "\n",
    "\n",
    "def solution():\n",
    "    import sys\n",
    "\n",
    "    x, k = map(int, sys.stdin.readline().split())\n",
    "    bl = x.bit_length()\n",
    "    q, w = divmod(k, 1 << bl - x.bit_count())\n",
    "    a, b = binary(x), binary(w)[::-1]\n",
    "    z = [0] * bl\n",
    "    for i, v in enumerate(a):\n",
    "        if not v:\n",
    "            z[i] = b.pop()\n",
    "    print(int(\"\".join(map(str, z)), 2) + q * (1 << bl))\n",
    "\n",
    "\n",
    "solution()"
   ]
  },
  {
   "attachments": {},
   "cell_type": "markdown",
   "metadata": {},
   "source": [
    "### 두번째 시도"
   ]
  },
  {
   "cell_type": "markdown",
   "metadata": {},
   "source": [
    "#### 풀이과정"
   ]
  },
  {
   "cell_type": "code",
   "execution_count": null,
   "metadata": {},
   "outputs": [],
   "source": [
    "def solution():\n",
    "    import sys\n",
    "    from itertools import takewhile\n",
    "\n",
    "    x, k = map(int, sys.stdin.readline().split())\n",
    "    bx, bk = map(int, bin(x)[:1:-1]), bin(k)[:1:-1]\n",
    "    bits = \"\".join(\"0\" * sum(takewhile(bool, bx)) + b for b in bk)\n",
    "    print(int(bits[::-1], 2))\n",
    "\n",
    "\n",
    "solution()"
   ]
  },
  {
   "attachments": {},
   "cell_type": "markdown",
   "metadata": {},
   "source": [
    "![2023년 1월 17일 14시 기준 1322번 맞힌 사람 (Python) 36ms로 1위](../img/Screenshot%202023-01-17%20at%2012-47-02%201322%EB%B2%88%20%EB%A7%9E%ED%9E%8C%20%EC%82%AC%EB%9E%8C%20(Python%203)%20-%201%20%ED%8E%98%EC%9D%B4%EC%A7%80.png)"
   ]
  },
  {
   "cell_type": "markdown",
   "metadata": {},
   "source": [
    "## 해답"
   ]
  },
  {
   "cell_type": "code",
   "execution_count": 1,
   "metadata": {},
   "outputs": [],
   "source": [
    "def solution():\n",
    "    import sys\n",
    "    from itertools import takewhile\n",
    "\n",
    "    x, k = map(int, sys.stdin.readline().split())\n",
    "    bx, bk = map(int, bin(x)[:1:-1]), bin(k)[:1:-1]\n",
    "    bits = \"\".join(\"0\" * sum(takewhile(bool, bx)) + b for b in bk)\n",
    "    print(int(bits[::-1], 2))"
   ]
  },
  {
   "cell_type": "markdown",
   "metadata": {},
   "source": [
    "## 예제"
   ]
  },
  {
   "cell_type": "code",
   "execution_count": 2,
   "metadata": {},
   "outputs": [],
   "source": [
    "# black 모듈을 jupyter notebook 내에서 사용 가능하게 만들어주는 blackcellmagic 모듈 불러오기\n",
    "%load_ext blackcellmagic\n",
    "# %%black\n",
    "\n",
    "# 백준 문제 풀이용 예제 실행 코드\n",
    "from bwj import test\n",
    "\n",
    "test_solution = test(solution)\n",
    "\n",
    "# test_solution(\"\"\"\"\"\")\n",
    "# test_solution(read(\"fn\").read())"
   ]
  },
  {
   "cell_type": "code",
   "execution_count": 3,
   "metadata": {},
   "outputs": [
    {
     "name": "stdout",
     "output_type": "stream",
     "text": [
      "48\n"
     ]
    }
   ],
   "source": [
    "test_solution(f\"\"\"10 12\"\"\")  # 48"
   ]
  },
  {
   "cell_type": "code",
   "execution_count": 4,
   "metadata": {},
   "outputs": [
    {
     "name": "stdout",
     "output_type": "stream",
     "text": [
      "0\n",
      "1\n",
      "2\n",
      "3\n",
      "4\n",
      "5\n",
      "6\n",
      "7\n",
      "8\n",
      "9\n",
      "0\n",
      "2\n",
      "4\n",
      "6\n",
      "8\n",
      "10\n",
      "12\n",
      "14\n",
      "16\n",
      "18\n",
      "0\n",
      "1\n",
      "4\n",
      "5\n",
      "8\n",
      "9\n",
      "12\n",
      "13\n",
      "16\n",
      "17\n",
      "0\n",
      "4\n",
      "8\n",
      "12\n",
      "16\n",
      "20\n",
      "24\n",
      "28\n",
      "32\n",
      "36\n",
      "0\n",
      "1\n",
      "2\n",
      "3\n",
      "8\n",
      "9\n",
      "10\n",
      "11\n",
      "16\n",
      "17\n",
      "0\n",
      "2\n",
      "8\n",
      "10\n",
      "16\n",
      "18\n",
      "24\n",
      "26\n",
      "32\n",
      "34\n",
      "0\n",
      "1\n",
      "8\n",
      "9\n",
      "16\n",
      "17\n",
      "24\n",
      "25\n",
      "32\n",
      "33\n",
      "0\n",
      "8\n",
      "16\n",
      "24\n",
      "32\n",
      "40\n",
      "48\n",
      "56\n",
      "64\n",
      "72\n",
      "0\n",
      "1\n",
      "2\n",
      "3\n",
      "4\n",
      "5\n",
      "6\n",
      "7\n",
      "16\n",
      "17\n",
      "0\n",
      "2\n",
      "4\n",
      "6\n",
      "16\n",
      "18\n",
      "20\n",
      "22\n",
      "32\n",
      "34\n"
     ]
    }
   ],
   "source": [
    "for i in range(10):\n",
    "    for j in range(10):\n",
    "        test_solution(f\"\"\"{i} {j}\"\"\")"
   ]
  },
  {
   "cell_type": "code",
   "execution_count": 5,
   "metadata": {},
   "outputs": [
    {
     "name": "stdout",
     "output_type": "stream",
     "text": [
      "5\n"
     ]
    }
   ],
   "source": [
    "test_solution(\n",
    "    \"\"\"10 3\n",
    "\"\"\"\n",
    ")  # 5"
   ]
  },
  {
   "cell_type": "code",
   "execution_count": 6,
   "metadata": {},
   "outputs": [
    {
     "name": "stdout",
     "output_type": "stream",
     "text": [
      "2\n"
     ]
    }
   ],
   "source": [
    "test_solution(\n",
    "    \"\"\"5 1\n",
    "\"\"\"\n",
    ")  # 2"
   ]
  },
  {
   "cell_type": "code",
   "execution_count": 7,
   "metadata": {},
   "outputs": [
    {
     "name": "stdout",
     "output_type": "stream",
     "text": [
      "18\n"
     ]
    }
   ],
   "source": [
    "test_solution(\n",
    "    \"\"\"5 5\n",
    "\"\"\"\n",
    ")  # 18"
   ]
  },
  {
   "cell_type": "code",
   "execution_count": 8,
   "metadata": {},
   "outputs": [
    {
     "name": "stdout",
     "output_type": "stream",
     "text": [
      "2000000000\n"
     ]
    }
   ],
   "source": [
    "test_solution(\n",
    "    \"\"\"1 1000000000\n",
    "\"\"\"\n",
    ")  # 2000000000"
   ]
  },
  {
   "cell_type": "code",
   "execution_count": 9,
   "metadata": {},
   "outputs": [
    {
     "name": "stdout",
     "output_type": "stream",
     "text": [
      "1152921503533105152\n"
     ]
    }
   ],
   "source": [
    "test_solution(\n",
    "    \"\"\"1073741823 1073741823\n",
    "\"\"\"\n",
    ")  # 1152921503533105152"
   ]
  }
 ],
 "metadata": {
  "kernelspec": {
   "display_name": "venv",
   "language": "python",
   "name": "python3"
  },
  "language_info": {
   "codemirror_mode": {
    "name": "ipython",
    "version": 3
   },
   "file_extension": ".py",
   "mimetype": "text/x-python",
   "name": "python",
   "nbconvert_exporter": "python",
   "pygments_lexer": "ipython3",
   "version": "3.10.8"
  },
  "orig_nbformat": 4,
  "vscode": {
   "interpreter": {
    "hash": "72904a014a9ffe38f4c58942120b599b3c5a87d06764037548e0139929c1cde3"
   }
  }
 },
 "nbformat": 4,
 "nbformat_minor": 2
}
