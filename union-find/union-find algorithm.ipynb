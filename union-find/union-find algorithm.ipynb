{
 "cells": [
  {
   "cell_type": "markdown",
   "metadata": {},
   "source": [
    "# Union-Find 알고리즘"
   ]
  },
  {
   "cell_type": "markdown",
   "metadata": {},
   "source": [
    "Union-Find 알고리즘은 다음과 같은 기능이 구현된 구조를 이용한 알고리즘입니다.\n",
    " * Union: 두 집합을 합치기\n",
    " * Find: 임의의 원소가 속한 집합을 찾기\n"
   ]
  },
  {
   "cell_type": "markdown",
   "metadata": {},
   "source": [
    "## 그래프가 필요하지 않은 경우(덩어리)"
   ]
  },
  {
   "cell_type": "code",
   "execution_count": 10,
   "metadata": {},
   "outputs": [],
   "source": [
    "from typing import List, Set"
   ]
  },
  {
   "cell_type": "code",
   "execution_count": 11,
   "metadata": {},
   "outputs": [],
   "source": [
    "nodes:List[int] = list(range(10))"
   ]
  },
  {
   "cell_type": "code",
   "execution_count": 12,
   "metadata": {},
   "outputs": [],
   "source": [
    "sets:List[Set[int]] = [{i} for i in nodes]"
   ]
  },
  {
   "cell_type": "code",
   "execution_count": 13,
   "metadata": {},
   "outputs": [],
   "source": [
    "def union(i:int, j:int, sets:List[Set[int]]=sets) -> None:\n",
    "    sets[i] = sets[j] = sets[i].union(sets[j])"
   ]
  },
  {
   "cell_type": "code",
   "execution_count": 18,
   "metadata": {},
   "outputs": [],
   "source": [
    "def find(i:int, sets:List[Set[int]]=sets) -> Set[int]:\n",
    "    return sets[i] # sets.index(sets[i]) 를 반환하면 인덱스의 번호만 반환할 수도 있다."
   ]
  },
  {
   "cell_type": "code",
   "execution_count": 19,
   "metadata": {},
   "outputs": [
    {
     "name": "stdout",
     "output_type": "stream",
     "text": [
      "{1, 3, 5, 7, 9}\n",
      "{0, 2, 4, 6, 8}\n"
     ]
    }
   ],
   "source": [
    "for i in nodes: union(i, i&1)\n",
    "\n",
    "print(find(3))\n",
    "print(find(6))"
   ]
  },
  {
   "cell_type": "markdown",
   "metadata": {},
   "source": [
    "## 그래프가 필요한 경우"
   ]
  },
  {
   "cell_type": "code",
   "execution_count": 21,
   "metadata": {},
   "outputs": [],
   "source": [
    "from typing import List, Set, Dict"
   ]
  },
  {
   "cell_type": "code",
   "execution_count": 25,
   "metadata": {},
   "outputs": [],
   "source": [
    "nodes:List[int] = list(range(10))"
   ]
  },
  {
   "cell_type": "code",
   "execution_count": 26,
   "metadata": {},
   "outputs": [],
   "source": [
    "graph:Dict[int,Set[int]] = {i:set() for i in nodes}"
   ]
  },
  {
   "cell_type": "code",
   "execution_count": 27,
   "metadata": {},
   "outputs": [],
   "source": [
    "def union(i:int, j:int, graph:Dict[int,Set[int]]=graph) -> None:\n",
    "    if i != j: \n",
    "        graph[i].add(j)\n",
    "        graph[j].add(i)\n",
    "    # if i == j: raise ValueError"
   ]
  },
  {
   "cell_type": "code",
   "execution_count": 35,
   "metadata": {},
   "outputs": [],
   "source": [
    "def find(i:int, graph:Dict[int,Set[int]]=graph):\n",
    "    visited:Set[int] = {i}\n",
    "    goto:Set[int] = graph[i]\n",
    "    while goto:\n",
    "        curr = goto.pop()\n",
    "        visited.add(curr)\n",
    "        goto.union(graph[curr])\n",
    "    return visited"
   ]
  },
  {
   "cell_type": "code",
   "execution_count": null,
   "metadata": {},
   "outputs": [],
   "source": [
    "def get_tree(i:int, graph:Dict[int,Set[int]]=graph):\n",
    "    visited:Set[int] = set(i)\n",
    "    goto:Set[int] = graph[i]\n",
    "    tree = {i:graph[i]}\n",
    "    branch = \n",
    "    while goto:\n",
    "        curr = goto.pop()\n",
    "        visited.add(curr)\n",
    "        goto.union(graph[curr])\n"
   ]
  }
 ],
 "metadata": {
  "interpreter": {
   "hash": "aafdc7bb59d502ca6429f57e66e46b244810906baa5f1304b483d457e8d4ced4"
  },
  "kernelspec": {
   "display_name": "Python 3.10.2 ('venv': venv)",
   "language": "python",
   "name": "python3"
  },
  "language_info": {
   "codemirror_mode": {
    "name": "ipython",
    "version": 3
   },
   "file_extension": ".py",
   "mimetype": "text/x-python",
   "name": "python",
   "nbconvert_exporter": "python",
   "pygments_lexer": "ipython3",
   "version": "3.10.2"
  },
  "orig_nbformat": 4
 },
 "nbformat": 4,
 "nbformat_minor": 2
}
