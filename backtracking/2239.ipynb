{
 "cells": [
  {
   "cell_type": "markdown",
   "metadata": {},
   "source": [
    "# [백준/스도쿠](https://www.acmicpc.net/problem/2239)"
   ]
  },
  {
   "cell_type": "markdown",
   "metadata": {},
   "source": [
    "## 풀이과정"
   ]
  },
  {
   "cell_type": "markdown",
   "metadata": {},
   "source": [
    "### 첫번째 시도"
   ]
  },
  {
   "cell_type": "markdown",
   "metadata": {},
   "source": [
    "#### 풀이과정"
   ]
  },
  {
   "cell_type": "code",
   "execution_count": null,
   "metadata": {},
   "outputs": [],
   "source": [
    "def solution():\n",
    "    import sys\n",
    "\n",
    "    board = []\n",
    "    blank = []\n",
    "    rows, cols, sqrs = ([[False] * 9 for _ in range(9)] for _ in range(3))\n",
    "    sqr = lambda x, y: y // 3 + x // 3 * 3\n",
    "\n",
    "    def check(x, y, num):\n",
    "        try:\n",
    "            board[y][x] = num + 1\n",
    "            rows[y][num] = cols[x][num] = sqrs[sqr(x, y)][num] = True\n",
    "        except Exception as err:\n",
    "            print(*map(len, board))\n",
    "            print(x, y, num)\n",
    "            raise err\n",
    "\n",
    "    def cancel(x, y, num):\n",
    "        board[y][x] = 0\n",
    "        rows[y][num] = cols[x][num] = sqrs[sqr(x, y)][num] = False\n",
    "\n",
    "    for y, line in enumerate(sys.stdin.read().split()):\n",
    "        board.append([0] * 9)\n",
    "        for x, cell in enumerate(line.rstrip()):\n",
    "            num = int(cell)\n",
    "            if num:\n",
    "                check(x, y, num - 1)\n",
    "            else:\n",
    "                blank.append(x + y * 9)\n",
    "\n",
    "    def is_check(x, y, num):\n",
    "        return rows[y][num] or cols[x][num] or sqrs[sqr(x, y)][num]\n",
    "\n",
    "    def bt(n=0):\n",
    "        if n == 81:\n",
    "            print(\"\\n\".join(\"\".join(map(str, line)) for line in board))\n",
    "            return True\n",
    "\n",
    "        y, x = divmod(n, 9)\n",
    "        if board[y][x]:\n",
    "            return bt(n + 1)\n",
    "\n",
    "        for num in range(9):\n",
    "            if not is_check(x, y, num):\n",
    "                check(x, y, num)\n",
    "                if bt(n + 1):\n",
    "                    return True\n",
    "                cancel(x, y, num)\n",
    "        return False\n",
    "\n",
    "    bt()\n",
    "\n",
    "\n",
    "solution()"
   ]
  },
  {
   "cell_type": "markdown",
   "metadata": {},
   "source": [
    "## 해답"
   ]
  },
  {
   "cell_type": "code",
   "execution_count": 189,
   "metadata": {},
   "outputs": [],
   "source": [
    "def solution():\n",
    "    import sys\n",
    "\n",
    "    board = []\n",
    "    blank = []\n",
    "    rows, cols, sqrs = ([[False] * 9 for _ in range(9)] for _ in range(3))\n",
    "    sqr = lambda x, y: y // 3 + x // 3 * 3\n",
    "\n",
    "    def check(x, y, num):\n",
    "        try:\n",
    "            board[y][x] = num + 1\n",
    "            rows[y][num] = cols[x][num] = sqrs[sqr(x, y)][num] = True\n",
    "        except Exception as err:\n",
    "            print(*map(len, board))\n",
    "            print(x, y, num)\n",
    "            raise err\n",
    "\n",
    "    def cancel(x, y, num):\n",
    "        board[y][x] = 0\n",
    "        rows[y][num] = cols[x][num] = sqrs[sqr(x, y)][num] = False\n",
    "\n",
    "    for y, line in enumerate(sys.stdin.read().split()):\n",
    "        board.append([0] * 9)\n",
    "        for x, cell in enumerate(line.rstrip()):\n",
    "            num = int(cell)\n",
    "            if num:\n",
    "                check(x, y, num - 1)\n",
    "            else:\n",
    "                blank.append(x + y * 9)\n",
    "\n",
    "    def is_check(x, y, num):\n",
    "        return rows[y][num] or cols[x][num] or sqrs[sqr(x, y)][num]\n",
    "\n",
    "    def bt(n=0):\n",
    "        if n == 81:\n",
    "            print(\"\\n\".join(\"\".join(map(str, line)) for line in board))\n",
    "            return True\n",
    "\n",
    "        y, x = divmod(n, 9)\n",
    "        if board[y][x]:\n",
    "            return bt(n + 1)\n",
    "\n",
    "        for num in range(9):\n",
    "            if not is_check(x, y, num):\n",
    "                check(x, y, num)\n",
    "                if bt(n + 1):\n",
    "                    return True\n",
    "                cancel(x, y, num)\n",
    "        return False\n",
    "\n",
    "    bt()"
   ]
  },
  {
   "cell_type": "markdown",
   "metadata": {},
   "source": [
    "## 예제"
   ]
  },
  {
   "cell_type": "code",
   "execution_count": 190,
   "metadata": {},
   "outputs": [
    {
     "name": "stdout",
     "output_type": "stream",
     "text": [
      "The blackcellmagic extension is already loaded. To reload it, use:\n",
      "  %reload_ext blackcellmagic\n"
     ]
    }
   ],
   "source": [
    "# black 모듈을 jupyter notebook 내에서 사용 가능하게 만들어주는 blackcellmagic 모듈 불러오기\n",
    "%load_ext blackcellmagic\n",
    "# %%black\n",
    "\n",
    "# 백준 문제 풀이용 예제 실행 코드\n",
    "from bwj import test\n",
    "\n",
    "test_solution = test(solution)\n",
    "\n",
    "# test_solution(\"\"\"\"\"\")\n",
    "# test_solution(read(\"fn\").read())"
   ]
  },
  {
   "cell_type": "code",
   "execution_count": 191,
   "metadata": {},
   "outputs": [
    {
     "name": "stdout",
     "output_type": "stream",
     "text": [
      "143628579\n",
      "572139468\n",
      "986754231\n",
      "391542786\n",
      "468917352\n",
      "725863914\n",
      "237481695\n",
      "619275843\n",
      "854396127\n"
     ]
    }
   ],
   "source": [
    "test_solution(\n",
    "    \"\"\"103000509\n",
    "002109400\n",
    "000704000\n",
    "300502006\n",
    "060000050\n",
    "700803004\n",
    "000401000\n",
    "009205800\n",
    "804000107\n",
    "\"\"\"\n",
    ")\n",
    "# answer:\n",
    "# 143628579\n",
    "# 572139468\n",
    "# 986754231\n",
    "# 391542786\n",
    "# 468917352\n",
    "# 725863914\n",
    "# 237481695\n",
    "# 619275843\n",
    "# 854396127"
   ]
  }
 ],
 "metadata": {
  "kernelspec": {
   "display_name": "Python 3.10.6 ('venv': venv)",
   "language": "python",
   "name": "python3"
  },
  "language_info": {
   "codemirror_mode": {
    "name": "ipython",
    "version": 3
   },
   "file_extension": ".py",
   "mimetype": "text/x-python",
   "name": "python",
   "nbconvert_exporter": "python",
   "pygments_lexer": "ipython3",
   "version": "3.10.6"
  },
  "orig_nbformat": 4,
  "vscode": {
   "interpreter": {
    "hash": "72904a014a9ffe38f4c58942120b599b3c5a87d06764037548e0139929c1cde3"
   }
  }
 },
 "nbformat": 4,
 "nbformat_minor": 2
}
