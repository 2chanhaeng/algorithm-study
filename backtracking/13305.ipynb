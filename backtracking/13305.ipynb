{
 "cells": [
  {
   "cell_type": "markdown",
   "metadata": {},
   "source": [
    "# [백준/주유소](https://www.acmicpc.net/problem/13305)"
   ]
  },
  {
   "cell_type": "markdown",
   "metadata": {},
   "source": [
    "## 풀이과정"
   ]
  },
  {
   "cell_type": "markdown",
   "metadata": {},
   "source": [
    "### 첫번째 시도"
   ]
  },
  {
   "cell_type": "markdown",
   "metadata": {},
   "source": [
    "#### 풀이과정\n",
    "먼저 경로에 도시 간 거리를 더해줍니다. 이때 기름값이 저장된 최소 기름값보다 작은 경우, 기존의 거리와 최소 기름값을 곱해서 비용에 더합니다. 이후 현재 가격으로 최소 기름값을 업데이트 하고 경로를 초기화 하는 과정을 마지막 도시 직전까지 이어 나갑니다. 마지막에는 경로를 업데이트 하고 최소 기름값과 경로를 곱한 값을 비용에 더한 뒤 비용을 답으로 출력합니다."
   ]
  },
  {
   "cell_type": "code",
   "execution_count": null,
   "metadata": {},
   "outputs": [],
   "source": [
    "def solution():\n",
    "    import sys\n",
    "\n",
    "    n, dists, oils = (list(map(int, input.split())) for input in sys.stdin)\n",
    "    # 비용, 거리, 최소 기름값 초기화\n",
    "    cost, dist, oil = 0, 0, oils[0]\n",
    "    for betw, curr in zip(dists[:-1], oils[1:-1]):\n",
    "        # 거리에 지나온 경로를 더합니다.\n",
    "        dist += betw\n",
    "        if curr < oil:\n",
    "            # 최소 기름값보다 현재 기름값이 쌀 경우\n",
    "            # 비용을 최소 기름값과 거리의 곱을 더합니다.\n",
    "            cost += oil * dist\n",
    "            # 최소 기름값을 현재 기름값으로 업데이트 합니다.\n",
    "            oil = curr\n",
    "            # 거리를 0으로 초기화 합니다.\n",
    "            dist = 0\n",
    "    # 거리에 마지막 경로를 더합니다.\n",
    "    dist += dists[-1]\n",
    "    # 비용에 최소 기름값과 거리의 곱을 더합니다.\n",
    "    cost += oil * dist\n",
    "    # 비용을 출력합니다.\n",
    "    print(cost)\n",
    "\n",
    "\n",
    "solution()"
   ]
  },
  {
   "cell_type": "markdown",
   "metadata": {},
   "source": [
    "## 해답"
   ]
  },
  {
   "cell_type": "code",
   "execution_count": 29,
   "metadata": {},
   "outputs": [],
   "source": [
    "def solution():\n",
    "    import sys\n",
    "\n",
    "    n, dists, oils = (list(map(int, input.split())) for input in sys.stdin)\n",
    "    cost, dist, oil = 0, 0, oils[0]\n",
    "    if len(set(oils)) == 1:\n",
    "        print(sum(dists) * oils[0])\n",
    "        return\n",
    "    for betw, curr in zip(dists[:-1], oils[1:-1]):\n",
    "        dist += betw\n",
    "        if curr < oil:\n",
    "            cost += oil * dist\n",
    "            oil = curr\n",
    "            dist = 0\n",
    "    dist += dists[-1]\n",
    "    cost += oil * dist\n",
    "    print(cost)"
   ]
  },
  {
   "cell_type": "markdown",
   "metadata": {},
   "source": [
    "## 예제"
   ]
  },
  {
   "cell_type": "code",
   "execution_count": 30,
   "metadata": {},
   "outputs": [
    {
     "name": "stdout",
     "output_type": "stream",
     "text": [
      "The blackcellmagic extension is already loaded. To reload it, use:\n",
      "  %reload_ext blackcellmagic\n"
     ]
    }
   ],
   "source": [
    "# black 모듈을 jupyter notebook 내에서 사용 가능하게 만들어주는 blackcellmagic 모듈 불러오기\n",
    "%load_ext blackcellmagic\n",
    "# %%black\n",
    "\n",
    "# 백준 문제 풀이용 예제 실행 코드\n",
    "from bwj import test\n",
    "\n",
    "test_solution = test(solution)\n",
    "\n",
    "# test_solution(\"\"\"\"\"\")\n",
    "# test_solution(read(\"fn\").read())"
   ]
  },
  {
   "cell_type": "code",
   "execution_count": 31,
   "metadata": {},
   "outputs": [
    {
     "name": "stdout",
     "output_type": "stream",
     "text": [
      "18\n"
     ]
    }
   ],
   "source": [
    "test_solution(\n",
    "    \"\"\"4\n",
    "2 3 1\n",
    "5 2 4 1\n",
    "\"\"\"\n",
    ")  # 18"
   ]
  },
  {
   "cell_type": "code",
   "execution_count": 32,
   "metadata": {},
   "outputs": [
    {
     "name": "stdout",
     "output_type": "stream",
     "text": [
      "10\n"
     ]
    }
   ],
   "source": [
    "test_solution(\n",
    "    \"\"\"4\n",
    "3 3 4\n",
    "1 1 1 1\n",
    "\"\"\"\n",
    ")  # 10"
   ]
  }
 ],
 "metadata": {
  "kernelspec": {
   "display_name": "Python 3.10.4 ('venv': venv)",
   "language": "python",
   "name": "python3"
  },
  "language_info": {
   "codemirror_mode": {
    "name": "ipython",
    "version": 3
   },
   "file_extension": ".py",
   "mimetype": "text/x-python",
   "name": "python",
   "nbconvert_exporter": "python",
   "pygments_lexer": "ipython3",
   "version": "3.10.4"
  },
  "orig_nbformat": 4,
  "vscode": {
   "interpreter": {
    "hash": "72904a014a9ffe38f4c58942120b599b3c5a87d06764037548e0139929c1cde3"
   }
  }
 },
 "nbformat": 4,
 "nbformat_minor": 2
}
