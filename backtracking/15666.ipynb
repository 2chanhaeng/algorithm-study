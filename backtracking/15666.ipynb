{
    "cells": [
        {
            "cell_type": "markdown",
            "metadata": {},
            "source": [
                "# [백준/N과 M (12)](https://www.acmicpc.net/problem/15666)"
            ]
        },
        {
            "cell_type": "markdown",
            "metadata": {},
            "source": [
                "## 풀이과정"
            ]
        },
        {
            "cell_type": "markdown",
            "metadata": {},
            "source": [
                "### 첫번째 시도"
            ]
        },
        {
            "cell_type": "markdown",
            "metadata": {},
            "source": [
                "#### 풀이과정"
            ]
        },
        {
            "cell_type": "code",
            "execution_count": null,
            "metadata": {},
            "outputs": [],
            "source": [
                "def solution():\n",
                "    import sys\n",
                "    import itertools\n",
                "\n",
                "    _, m, *inputs = sys.stdin.read().split()\n",
                "    print(\n",
                "        \"\\n\".join(\n",
                "            \" \".join(map(str, i))\n",
                "            for i in itertools.combinations_with_replacement(\n",
                "                sorted(set(inputs), key=int), int(m)\n",
                "            )\n",
                "        )\n",
                "    )\n",
                "\n",
                "\n",
                "solution()"
            ]
        },
        {
            "cell_type": "markdown",
            "metadata": {},
            "source": [
                "## 해답"
            ]
        },
        {
            "cell_type": "code",
            "execution_count": 1,
            "metadata": {},
            "outputs": [],
            "source": [
                "def solution():\n",
                "    import sys\n",
                "    import itertools\n",
                "\n",
                "    _, m, *inputs = sys.stdin.read().split()\n",
                "    print(\n",
                "        \"\\n\".join(\n",
                "            \" \".join(map(str, i))\n",
                "            for i in itertools.combinations_with_replacement(\n",
                "                sorted(set(inputs), key=int), int(m)\n",
                "            )\n",
                "        )\n",
                "    )"
            ]
        },
        {
            "cell_type": "markdown",
            "metadata": {},
            "source": [
                "## 예제"
            ]
        },
        {
            "cell_type": "code",
            "execution_count": 2,
            "metadata": {},
            "outputs": [],
            "source": [
                "# black 모듈을 jupyter notebook 내에서 사용 가능하게 만들어주는 blackcellmagic 모듈 불러오기\n",
                "%load_ext blackcellmagic\n",
                "# %%black\n",
                "\n",
                "# 백준 문제 풀이용 예제 실행 코드\n",
                "from bwj import test\n",
                "test_solution = test(solution)\n",
                "\n",
                "# test_solution(\"\"\"\"\"\")\n",
                "# test_solution(read(\"fn\").read())"
            ]
        },
        {
            "cell_type": "code",
            "execution_count": 3,
            "metadata": {},
            "outputs": [
                {
                    "name": "stdout",
                    "output_type": "stream",
                    "text": [
                        "2\n",
                        "4\n"
                    ]
                }
            ],
            "source": [
                "test_solution(\"\"\"3 1\n",
                "4 4 2\n",
                "\"\"\")\n",
                "# answer:\n",
                "# 2\n",
                "# 4"
            ]
        },
        {
            "cell_type": "code",
            "execution_count": 4,
            "metadata": {},
            "outputs": [
                {
                    "name": "stdout",
                    "output_type": "stream",
                    "text": [
                        "1 1\n",
                        "1 7\n",
                        "1 9\n",
                        "7 7\n",
                        "7 9\n",
                        "9 9\n"
                    ]
                }
            ],
            "source": [
                "test_solution(\"\"\"4 2\n",
                "9 7 9 1\n",
                "\"\"\")\n",
                "# answer:\n",
                "# 1 1\n",
                "# 1 7\n",
                "# 1 9\n",
                "# 7 7\n",
                "# 7 9\n",
                "# 9 9"
            ]
        },
        {
            "cell_type": "code",
            "execution_count": 5,
            "metadata": {},
            "outputs": [
                {
                    "name": "stdout",
                    "output_type": "stream",
                    "text": [
                        "1 1 1 1\n",
                        "1 1 1 2\n",
                        "1 1 2 2\n",
                        "1 2 2 2\n",
                        "2 2 2 2\n"
                    ]
                }
            ],
            "source": [
                "test_solution(\"\"\"4 4\n",
                "1 1 2 2\n",
                "\"\"\")\n",
                "# answer:\n",
                "# 1 1 1 1\n",
                "# 1 1 1 2\n",
                "# 1 1 2 2\n",
                "# 1 2 2 2\n",
                "# 2 2 2 2"
            ]
        }
    ],
    "metadata": {
        "kernelspec": {
            "display_name": "Python 3.10.6 ('venv': venv)",
            "language": "python",
            "name": "python3"
        },
        "language_info": {
            "codemirror_mode": {
                "name": "ipython",
                "version": 3
            },
            "file_extension": ".py",
            "mimetype": "text/x-python",
            "name": "python",
            "nbconvert_exporter": "python",
            "pygments_lexer": "ipython3",
            "version": "3.10.6"
        },
        "orig_nbformat": 4,
        "vscode": {
            "interpreter": {
                "hash": "72904a014a9ffe38f4c58942120b599b3c5a87d06764037548e0139929c1cde3"
            }
        }
    },
    "nbformat": 4,
    "nbformat_minor": 2
}
