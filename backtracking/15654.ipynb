{
 "cells": [
  {
   "cell_type": "markdown",
   "metadata": {},
   "source": [
    "# [백준/N과 M (5)](https://www.acmicpc.net/problem/15654)"
   ]
  },
  {
   "cell_type": "markdown",
   "metadata": {},
   "source": [
    "## 풀이과정"
   ]
  },
  {
   "cell_type": "markdown",
   "metadata": {},
   "source": [
    "### 첫번째 시도"
   ]
  },
  {
   "cell_type": "markdown",
   "metadata": {},
   "source": [
    "풀이과정"
   ]
  },
  {
   "cell_type": "code",
   "execution_count": 30,
   "metadata": {},
   "outputs": [],
   "source": [
    "def solution():\n",
    "    import sys\n",
    "    import itertools\n",
    "\n",
    "    inputs = map(int, sys.stdin.read().split())\n",
    "    _, m = next(inputs), next(inputs)\n",
    "    print(\n",
    "        \"\\n\".join(\n",
    "            \" \".join(map(str, nums))\n",
    "            for nums in itertools.permutations(sorted(inputs), m)\n",
    "        )\n",
    "    )\n",
    "\n",
    "\n",
    "solution()"
   ]
  },
  {
   "cell_type": "markdown",
   "metadata": {},
   "source": [
    "## 해답"
   ]
  },
  {
   "cell_type": "code",
   "execution_count": 9,
   "metadata": {},
   "outputs": [],
   "source": [
    "from itertools import permutations"
   ]
  },
  {
   "cell_type": "code",
   "execution_count": 24,
   "metadata": {},
   "outputs": [],
   "source": [
    "def solution(open=open):\n",
    "    inputs = map(int, open(0).read().split())\n",
    "    _, m = next(inputs), next(inputs)\n",
    "    print(\n",
    "        \"\\n\".join(\" \".join(map(str, nums)) for nums in permutations(sorted(inputs), m))\n",
    "    )"
   ]
  },
  {
   "cell_type": "markdown",
   "metadata": {},
   "source": [
    "## 예제"
   ]
  },
  {
   "cell_type": "code",
   "execution_count": 25,
   "metadata": {},
   "outputs": [
    {
     "name": "stdout",
     "output_type": "stream",
     "text": [
      "The blackcellmagic extension is already loaded. To reload it, use:\n",
      "  %reload_ext blackcellmagic\n"
     ]
    }
   ],
   "source": [
    "%load_ext blackcellmagic\n",
    "# %%black"
   ]
  },
  {
   "cell_type": "code",
   "execution_count": 26,
   "metadata": {},
   "outputs": [],
   "source": [
    "# 백준 문제 풀이용 예제 실행 코드\n",
    "from bwj import test\n",
    "\n",
    "test_solution = test(solution)\n",
    "\n",
    "# test_solution(\"\"\"\"\"\")\n",
    "# test_solution(read(\"fn\").read())"
   ]
  },
  {
   "cell_type": "code",
   "execution_count": 27,
   "metadata": {},
   "outputs": [
    {
     "name": "stdout",
     "output_type": "stream",
     "text": [
      "2\n",
      "4\n",
      "5\n"
     ]
    }
   ],
   "source": [
    "test_solution(\n",
    "    \"\"\"3 1\n",
    "4 5 2\"\"\"\n",
    ")\n",
    "# answer:\n",
    "# 2\n",
    "# 4\n",
    "# 5"
   ]
  },
  {
   "cell_type": "code",
   "execution_count": 28,
   "metadata": {},
   "outputs": [
    {
     "name": "stdout",
     "output_type": "stream",
     "text": [
      "1 7\n",
      "1 8\n",
      "1 9\n",
      "7 1\n",
      "7 8\n",
      "7 9\n",
      "8 1\n",
      "8 7\n",
      "8 9\n",
      "9 1\n",
      "9 7\n",
      "9 8\n"
     ]
    }
   ],
   "source": [
    "test_solution(\n",
    "    \"\"\"4 2\n",
    "9 8 7 1\"\"\"\n",
    ")\n",
    "# answer:\n",
    "# 1 7\n",
    "# 1 8\n",
    "# 1 9\n",
    "# 7 1\n",
    "# 7 8\n",
    "# 7 9\n",
    "# 8 1\n",
    "# 8 7\n",
    "# 8 9\n",
    "# 9 1\n",
    "# 9 7\n",
    "# 9 8"
   ]
  },
  {
   "cell_type": "code",
   "execution_count": 29,
   "metadata": {},
   "outputs": [
    {
     "name": "stdout",
     "output_type": "stream",
     "text": [
      "1231 1232 1233 1234\n",
      "1231 1232 1234 1233\n",
      "1231 1233 1232 1234\n",
      "1231 1233 1234 1232\n",
      "1231 1234 1232 1233\n",
      "1231 1234 1233 1232\n",
      "1232 1231 1233 1234\n",
      "1232 1231 1234 1233\n",
      "1232 1233 1231 1234\n",
      "1232 1233 1234 1231\n",
      "1232 1234 1231 1233\n",
      "1232 1234 1233 1231\n",
      "1233 1231 1232 1234\n",
      "1233 1231 1234 1232\n",
      "1233 1232 1231 1234\n",
      "1233 1232 1234 1231\n",
      "1233 1234 1231 1232\n",
      "1233 1234 1232 1231\n",
      "1234 1231 1232 1233\n",
      "1234 1231 1233 1232\n",
      "1234 1232 1231 1233\n",
      "1234 1232 1233 1231\n",
      "1234 1233 1231 1232\n",
      "1234 1233 1232 1231\n"
     ]
    }
   ],
   "source": [
    "test_solution(\n",
    "    \"\"\"4 4\n",
    "1231 1232 1233 1234\"\"\"\n",
    ")\n",
    "# answer:\n",
    "# 1231 1232 1233 1234\n",
    "# 1231 1232 1234 1233\n",
    "# 1231 1233 1232 1234\n",
    "# 1231 1233 1234 1232\n",
    "# 1231 1234 1232 1233\n",
    "# 1231 1234 1233 1232\n",
    "# 1232 1231 1233 1234\n",
    "# 1232 1231 1234 1233\n",
    "# 1232 1233 1231 1234\n",
    "# 1232 1233 1234 1231\n",
    "# 1232 1234 1231 1233\n",
    "# 1232 1234 1233 1231\n",
    "# 1233 1231 1232 1234\n",
    "# 1233 1231 1234 1232\n",
    "# 1233 1232 1231 1234\n",
    "# 1233 1232 1234 1231\n",
    "# 1233 1234 1231 1232\n",
    "# 1233 1234 1232 1231\n",
    "# 1234 1231 1232 1233\n",
    "# 1234 1231 1233 1232\n",
    "# 1234 1232 1231 1233\n",
    "# 1234 1232 1233 1231\n",
    "# 1234 1233 1231 1232\n",
    "# 1234 1233 1232 1231"
   ]
  }
 ],
 "metadata": {
  "interpreter": {
   "hash": "73891b0dc2e53390f36276e59930dd4ecab91b05b5c90320c2d5b1c443f87069"
  },
  "kernelspec": {
   "display_name": "Python 3.10.1 ('venv': venv)",
   "language": "python",
   "name": "python3"
  },
  "language_info": {
   "codemirror_mode": {
    "name": "ipython",
    "version": 3
   },
   "file_extension": ".py",
   "mimetype": "text/x-python",
   "name": "python",
   "nbconvert_exporter": "python",
   "pygments_lexer": "ipython3",
   "version": "3.10.1"
  },
  "orig_nbformat": 4
 },
 "nbformat": 4,
 "nbformat_minor": 2
}
