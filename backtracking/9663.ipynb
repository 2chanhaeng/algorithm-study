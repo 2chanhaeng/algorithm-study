{
 "cells": [
  {
   "cell_type": "markdown",
   "metadata": {},
   "source": [
    "# [백준/N-Queen](https://www.acmicpc.net/problem/9663)"
   ]
  },
  {
   "cell_type": "markdown",
   "metadata": {},
   "source": [
    "## 풀이과정"
   ]
  },
  {
   "cell_type": "markdown",
   "metadata": {},
   "source": [
    "### 첫번째 시도"
   ]
  },
  {
   "cell_type": "markdown",
   "metadata": {},
   "source": [
    "풀이과정"
   ]
  },
  {
   "cell_type": "code",
   "execution_count": null,
   "metadata": {},
   "outputs": [],
   "source": [
    "def position(queens=[], depth=0, n=int(open(0).read())):\n",
    "    if depth == n:\n",
    "        return 1\n",
    "    able = [pos for pos in range(n) if pos not in queens]\n",
    "    dist = depth\n",
    "    for i, queen in enumerate(queens):\n",
    "        dist = depth - i\n",
    "        if queen + dist in able:\n",
    "            able.remove(queen + dist)\n",
    "        if queen - dist in able:\n",
    "            able.remove(queen - dist)\n",
    "    count = 0\n",
    "    for pos in able:\n",
    "        count += position(queens + [pos], depth + 1, n)\n",
    "    return count\n",
    "\n",
    "\n",
    "print(position())"
   ]
  },
  {
   "cell_type": "markdown",
   "metadata": {},
   "source": [
    "## 해답"
   ]
  },
  {
   "cell_type": "code",
   "execution_count": 1,
   "metadata": {},
   "outputs": [],
   "source": [
    "def position(queens, depth, n):\n",
    "    if depth == n:\n",
    "        return 1\n",
    "    able = [pos for pos in range(n) if pos not in queens]\n",
    "    dist = depth\n",
    "    for i, queen in enumerate(queens):\n",
    "        dist = depth - i\n",
    "        if queen + dist in able:\n",
    "            able.remove(queen + dist)\n",
    "        if queen - dist in able:\n",
    "            able.remove(queen - dist)\n",
    "    count = 0\n",
    "    for pos in able:\n",
    "        count += position(queens + [pos], depth + 1, n)\n",
    "    return count"
   ]
  },
  {
   "cell_type": "code",
   "execution_count": 2,
   "metadata": {},
   "outputs": [],
   "source": [
    "def solution(open=open):\n",
    "    n = int(open(0).read())\n",
    "    print(position([], 0, n))"
   ]
  },
  {
   "cell_type": "markdown",
   "metadata": {},
   "source": [
    "## 예제"
   ]
  },
  {
   "cell_type": "code",
   "execution_count": 3,
   "metadata": {},
   "outputs": [],
   "source": [
    "# 백준 문제 풀이용 예제 실행 코드\n",
    "from bwj import test\n",
    "\n",
    "test_solution = test(solution)\n",
    "\n",
    "# test_solution(\"\"\"\"\"\")\n",
    "# test_solution(read(\"fn\").read())"
   ]
  },
  {
   "cell_type": "code",
   "execution_count": 6,
   "metadata": {},
   "outputs": [
    {
     "name": "stdout",
     "output_type": "stream",
     "text": [
      "92\n"
     ]
    }
   ],
   "source": [
    "test_solution(\"\"\"8\"\"\")  # 92"
   ]
  },
  {
   "cell_type": "code",
   "execution_count": 4,
   "metadata": {},
   "outputs": [
    {
     "name": "stdout",
     "output_type": "stream",
     "text": [
      "73712\n"
     ]
    }
   ],
   "source": [
    "test_solution(\"13\")"
   ]
  },
  {
   "cell_type": "code",
   "execution_count": 11,
   "metadata": {},
   "outputs": [
    {
     "name": "stdout",
     "output_type": "stream",
     "text": [
      "1: 1\n",
      "2: 0\n",
      "3: 0\n",
      "4: 2\n",
      "5: 10\n",
      "6: 4\n",
      "7: 40\n",
      "8: 92\n",
      "9: 352\n",
      "10: 724\n",
      "11: 2680\n",
      "12: 14200\n",
      "13: 73712\n",
      "14: 365596\n"
     ]
    }
   ],
   "source": [
    "for i in range(1, 15):\n",
    "    print(i, end=\": \")\n",
    "    test_solution(str(i))"
   ]
  },
  {
   "cell_type": "code",
   "execution_count": 10,
   "metadata": {},
   "outputs": [
    {
     "data": {
      "text/plain": [
       "'1: 1\\n2: 0\\n3: 0\\n4: 2\\n5: 10\\n6: 4\\n7: 40\\n8: 92\\n9: 352\\n10: 724\\n11: 2680\\n12: 14200\\n13: 73712\\n14: 365596'"
      ]
     },
     "execution_count": 10,
     "metadata": {},
     "output_type": "execute_result"
    }
   ],
   "source": [
    "\"\"\"\n",
    "1: 1\n",
    "2: 0\n",
    "3: 0\n",
    "4: 2\n",
    "5: 10\n",
    "6: 4\n",
    "7: 40\n",
    "8: 92\n",
    "9: 352\n",
    "10: 724\n",
    "11: 2680\n",
    "12: 14200\n",
    "13: 73712\n",
    "14: 365596\n",
    "\"\"\""
   ]
  }
 ],
 "metadata": {
  "interpreter": {
   "hash": "73891b0dc2e53390f36276e59930dd4ecab91b05b5c90320c2d5b1c443f87069"
  },
  "kernelspec": {
   "display_name": "Python 3.10.1 ('venv': venv)",
   "language": "python",
   "name": "python3"
  },
  "language_info": {
   "codemirror_mode": {
    "name": "ipython",
    "version": 3
   },
   "file_extension": ".py",
   "mimetype": "text/x-python",
   "name": "python",
   "nbconvert_exporter": "python",
   "pygments_lexer": "ipython3",
   "version": "3.10.1"
  },
  "orig_nbformat": 4
 },
 "nbformat": 4,
 "nbformat_minor": 2
}
