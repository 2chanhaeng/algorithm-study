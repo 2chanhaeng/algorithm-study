{
 "cells": [
  {
   "cell_type": "markdown",
   "metadata": {},
   "source": [
    "# [백준/N과 M (7)](https://www.acmicpc.net/problem/15656)"
   ]
  },
  {
   "cell_type": "markdown",
   "metadata": {},
   "source": [
    "## 풀이과정"
   ]
  },
  {
   "cell_type": "markdown",
   "metadata": {},
   "source": [
    "### 첫번째 시도"
   ]
  },
  {
   "cell_type": "markdown",
   "metadata": {},
   "source": [
    "#### 풀이과정"
   ]
  },
  {
   "cell_type": "code",
   "execution_count": null,
   "metadata": {},
   "outputs": [],
   "source": [
    "def solution():\n",
    "    import sys\n",
    "    import itertools\n",
    "\n",
    "    n, m, *nums = sys.stdin.read().strip().split()\n",
    "    print(\n",
    "        \"\\n\".join(\n",
    "            \" \".join(x) for x in itertools.product(sorted(nums, key=int), repeat=int(m))\n",
    "        )\n",
    "    )\n",
    "\n",
    "\n",
    "solution()"
   ]
  },
  {
   "cell_type": "markdown",
   "metadata": {},
   "source": [
    "## 해답"
   ]
  },
  {
   "cell_type": "code",
   "execution_count": 15,
   "metadata": {},
   "outputs": [],
   "source": [
    "def solution():\n",
    "    import sys\n",
    "    import itertools\n",
    "\n",
    "    n, m, *nums = sys.stdin.read().strip().split()\n",
    "    print(\n",
    "        \"\\n\".join(\n",
    "            \" \".join(x) for x in itertools.product(sorted(nums, key=int), repeat=int(m))\n",
    "        )\n",
    "    )"
   ]
  },
  {
   "cell_type": "markdown",
   "metadata": {},
   "source": [
    "## 예제"
   ]
  },
  {
   "cell_type": "code",
   "execution_count": 16,
   "metadata": {},
   "outputs": [
    {
     "name": "stdout",
     "output_type": "stream",
     "text": [
      "The blackcellmagic extension is already loaded. To reload it, use:\n",
      "  %reload_ext blackcellmagic\n"
     ]
    }
   ],
   "source": [
    "# black 모듈을 jupyter notebook 내에서 사용 가능하게 만들어주는 blackcellmagic 모듈 불러오기\n",
    "%load_ext blackcellmagic\n",
    "# %%black\n",
    "\n",
    "# 백준 문제 풀이용 예제 실행 코드\n",
    "from bwj import test\n",
    "\n",
    "test_solution = test(solution)\n",
    "\n",
    "# test_solution(\"\"\"\"\"\")\n",
    "# test_solution(read(\"fn\").read())"
   ]
  },
  {
   "cell_type": "code",
   "execution_count": 17,
   "metadata": {},
   "outputs": [
    {
     "name": "stdout",
     "output_type": "stream",
     "text": [
      "2\n",
      "4\n",
      "5\n"
     ]
    }
   ],
   "source": [
    "test_solution(\n",
    "    \"\"\"3 1\n",
    "4 5 2\n",
    "\"\"\"\n",
    ")\n",
    "# answer:\n",
    "# 2\n",
    "# 4\n",
    "# 5"
   ]
  },
  {
   "cell_type": "code",
   "execution_count": 18,
   "metadata": {},
   "outputs": [
    {
     "name": "stdout",
     "output_type": "stream",
     "text": [
      "1 1\n",
      "1 7\n",
      "1 8\n",
      "1 9\n",
      "7 1\n",
      "7 7\n",
      "7 8\n",
      "7 9\n",
      "8 1\n",
      "8 7\n",
      "8 8\n",
      "8 9\n",
      "9 1\n",
      "9 7\n",
      "9 8\n",
      "9 9\n"
     ]
    }
   ],
   "source": [
    "test_solution(\n",
    "    \"\"\"4 2\n",
    "9 8 7 1\n",
    "\"\"\"\n",
    ")\n",
    "# answer:\n",
    "# 1 1\n",
    "# 1 7\n",
    "# 1 8\n",
    "# 1 9\n",
    "# 7 1\n",
    "# 7 7\n",
    "# 7 8\n",
    "# 7 9\n",
    "# 8 1\n",
    "# 8 7\n",
    "# 8 8\n",
    "# 8 9\n",
    "# 9 1\n",
    "# 9 7\n",
    "# 9 8\n",
    "# 9 9"
   ]
  },
  {
   "cell_type": "code",
   "execution_count": 19,
   "metadata": {},
   "outputs": [
    {
     "name": "stdout",
     "output_type": "stream",
     "text": [
      "1231 1231 1231\n",
      "1231 1231 1232\n",
      "1231 1231 1233\n",
      "1231 1232 1231\n",
      "1231 1232 1232\n",
      "1231 1232 1233\n",
      "1231 1233 1231\n",
      "1231 1233 1232\n",
      "1231 1233 1233\n",
      "1232 1231 1231\n",
      "1232 1231 1232\n",
      "1232 1231 1233\n",
      "1232 1232 1231\n",
      "1232 1232 1232\n",
      "1232 1232 1233\n",
      "1232 1233 1231\n",
      "1232 1233 1232\n",
      "1232 1233 1233\n",
      "1233 1231 1231\n",
      "1233 1231 1232\n",
      "1233 1231 1233\n",
      "1233 1232 1231\n",
      "1233 1232 1232\n",
      "1233 1232 1233\n",
      "1233 1233 1231\n",
      "1233 1233 1232\n",
      "1233 1233 1233\n"
     ]
    }
   ],
   "source": [
    "test_solution(\n",
    "    \"\"\"3 3\n",
    "1231 1232 1233\n",
    "\"\"\"\n",
    ")\n",
    "# answer:\n",
    "# 1231 1231 1231\n",
    "# 1231 1231 1232\n",
    "# 1231 1231 1233\n",
    "# 1231 1232 1231\n",
    "# 1231 1232 1232\n",
    "# 1231 1232 1233\n",
    "# 1231 1233 1231\n",
    "# 1231 1233 1232\n",
    "# 1231 1233 1233\n",
    "# 1232 1231 1231\n",
    "# 1232 1231 1232\n",
    "# 1232 1231 1233\n",
    "# 1232 1232 1231\n",
    "# 1232 1232 1232\n",
    "# 1232 1232 1233\n",
    "# 1232 1233 1231\n",
    "# 1232 1233 1232\n",
    "# 1232 1233 1233\n",
    "# 1233 1231 1231\n",
    "# 1233 1231 1232\n",
    "# 1233 1231 1233\n",
    "# 1233 1232 1231\n",
    "# 1233 1232 1232\n",
    "# 1233 1232 1233\n",
    "# 1233 1233 1231\n",
    "# 1233 1233 1232\n",
    "# 1233 1233 1233"
   ]
  }
 ],
 "metadata": {
  "kernelspec": {
   "display_name": "Python 3.10.1 ('venv': venv)",
   "language": "python",
   "name": "python3"
  },
  "language_info": {
   "codemirror_mode": {
    "name": "ipython",
    "version": 3
   },
   "file_extension": ".py",
   "mimetype": "text/x-python",
   "name": "python",
   "nbconvert_exporter": "python",
   "pygments_lexer": "ipython3",
   "version": "3.10.1"
  },
  "orig_nbformat": 4,
  "vscode": {
   "interpreter": {
    "hash": "1c7fcfe69e21aada9536050c2505e81a74d84012a77d7c2c59b6078ddae2527e"
   }
  }
 },
 "nbformat": 4,
 "nbformat_minor": 2
}
