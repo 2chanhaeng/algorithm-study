{
 "cells": [
  {
   "attachments": {},
   "cell_type": "markdown",
   "metadata": {},
   "source": [
    "## [백준/엄청난 부자2](https://www.acmicpc.net/problem/1271)"
   ]
  },
  {
   "cell_type": "code",
   "execution_count": null,
   "metadata": {},
   "outputs": [],
   "source": [
    "print(*divmod(*map(int,input().split())),sep=\"\\n\")"
   ]
  },
  {
   "attachments": {},
   "cell_type": "markdown",
   "metadata": {},
   "source": [
    "## [백준/Moo](https://www.acmicpc.net/problem/1809)"
   ]
  },
  {
   "cell_type": "raw",
   "metadata": {},
   "source": [
    "'(___)\n",
    "(o o)____/\n",
    " @@      \\\n",
    "  \\ ____,/\n",
    "  //   //\n",
    " ^^   ^^'"
   ]
  },
  {
   "attachments": {},
   "cell_type": "markdown",
   "metadata": {},
   "source": [
    "## [백준/Livestock Count](https://www.acmicpc.net/problem/2372)"
   ]
  },
  {
   "cell_type": "raw",
   "metadata": {},
   "source": [
    "with Ada.Text_IO; use Ada.Text_IO;\n",
    "procedure Hello is\n",
    "begin\n",
    "   Put_Line (\"Animal      Count\");\n",
    "   Put_Line (\"-----------------\");\n",
    "   Put_Line (\"Chickens      100\");\n",
    "   Put_Line (\"Clydesdales     5\");\n",
    "   Put_Line (\"Cows           40\");\n",
    "   Put_Line (\"Goats          22\");\n",
    "   Put_Line (\"Steers          2\");\n",
    "end Hello;"
   ]
  },
  {
   "attachments": {},
   "cell_type": "markdown",
   "metadata": {},
   "source": [
    "## [백준/Pottery](https://www.acmicpc.net/problem/2377)"
   ]
  },
  {
   "cell_type": "raw",
   "metadata": {},
   "source": [
    "#include once \"crt.bi\"\n",
    "\n",
    "printf(!\" _________\\n\")\n",
    "printf(!\" \\\\_     _/\\n\")\n",
    "printf(!\"   \\\\   /\\n\")\n",
    "printf(!\"    | |\\n\")\n",
    "printf(!\"   /   \\\\\\n\")\n",
    "printf(!\"  /     \\\\\\n\")\n",
    "printf(!\" |       |\\n\")\n",
    "printf(!\"/---------\\\\\\n\")\n",
    "printf(!\"| \\\\-/ \\\\-/ |\\n\")\n",
    "printf(!\"\\\\---------/\\n\")\n",
    "printf(!\" \\\\_______/\\n\")\n"
   ]
  },
  {
   "attachments": {},
   "cell_type": "markdown",
   "metadata": {},
   "source": [
    "## [백준/사파리월드](https://www.acmicpc.net/problem/2420)"
   ]
  },
  {
   "cell_type": "code",
   "execution_count": null,
   "metadata": {},
   "outputs": [],
   "source": [
    "print(abs((lambda x,y:x-y)(*map(int,input().split()))))"
   ]
  },
  {
   "attachments": {},
   "cell_type": "markdown",
   "metadata": {},
   "source": [
    "## [백준/행렬 덧셈](https://www.acmicpc.net/problem/2738)"
   ]
  },
  {
   "cell_type": "code",
   "execution_count": null,
   "metadata": {},
   "outputs": [],
   "source": [
    "(r,c),*M=[map(int,l.split())for l in open(0).read().strip().splitlines()]\n",
    "for a,b in zip(M[:r],M[r:]):print(*map(sum,zip(a,b)))"
   ]
  },
  {
   "attachments": {},
   "cell_type": "markdown",
   "metadata": {},
   "source": [
    "## [백준/단어 길이 재기](https://www.acmicpc.net/problem/2743)"
   ]
  },
  {
   "cell_type": "code",
   "execution_count": null,
   "metadata": {},
   "outputs": [],
   "source": [
    "print(len(input()))"
   ]
  },
  {
   "attachments": {},
   "cell_type": "markdown",
   "metadata": {},
   "source": [
    "## [백준/대소문자 바꾸기](https://www.acmicpc.net/problem/2744)"
   ]
  },
  {
   "cell_type": "code",
   "execution_count": null,
   "metadata": {},
   "outputs": [],
   "source": [
    "for c in input():print([chr((i:=ord(c))+32),chr(i-32)][i>96],end=\"\")"
   ]
  },
  {
   "attachments": {},
   "cell_type": "markdown",
   "metadata": {},
   "source": [
    "## [백준/학점계산](https://www.acmicpc.net/problem/2754)"
   ]
  },
  {
   "cell_type": "code",
   "execution_count": null,
   "metadata": {},
   "outputs": [],
   "source": [
    "print({\"A+\":4.3,\"A0\":4.0,\"A-\":3.7,\"B+\":3.3,\"B0\":3.0,\"B-\":2.7,\"C+\":2.3,\"C0\":2.0,\"C-\":1.7,\"D+\":1.3,\"D0\":1.0,\"D-\":0.7,\"F\":0.0}[input()])"
   ]
  },
  {
   "attachments": {},
   "cell_type": "markdown",
   "metadata": {},
   "source": [
    "## [백준/Shares](https://www.acmicpc.net/problem/3733)"
   ]
  },
  {
   "cell_type": "code",
   "execution_count": null,
   "metadata": {},
   "outputs": [],
   "source": [
    "for l in open(0).read().strip().split(\"\\n\"):print((lambda x,y:y//-~x)(*map(int,l.split())))"
   ]
  },
  {
   "attachments": {},
   "cell_type": "markdown",
   "metadata": {},
   "source": [
    "## [백준/크냐?](https://www.acmicpc.net/problem/4101)"
   ]
  },
  {
   "cell_type": "code",
   "execution_count": null,
   "metadata": {},
   "outputs": [],
   "source": [
    "for l in open(0).read().strip().split(\"\\n\")[:-1]:print((lambda x,y:\"YNeos\"[x<=y::2])(*map(int,l.split())))"
   ]
  },
  {
   "attachments": {},
   "cell_type": "markdown",
   "metadata": {},
   "source": [
    "## [백준/아!](https://www.acmicpc.net/problem/4999)"
   ]
  },
  {
   "cell_type": "code",
   "execution_count": null,
   "metadata": {},
   "outputs": [],
   "source": [
    "print(\"ng\"[input()<=input()]+\"o\")"
   ]
  },
  {
   "attachments": {},
   "cell_type": "markdown",
   "metadata": {},
   "source": [
    "## [백준/웰컴](https://www.acmicpc.net/problem/5337)"
   ]
  },
  {
   "cell_type": "code",
   "execution_count": null,
   "metadata": {},
   "outputs": [],
   "source": [
    "print(\"\"\".  .   .\n",
    "|  | _ | _. _ ._ _  _\n",
    "|/\\|(/.|(_.(_)[ | )(/.\"\"\")"
   ]
  },
  {
   "attachments": {},
   "cell_type": "markdown",
   "metadata": {},
   "source": [
    "## [백준/마이크로소프트 로고](https://www.acmicpc.net/problem/5338)"
   ]
  },
  {
   "cell_type": "code",
   "execution_count": null,
   "metadata": {},
   "outputs": [],
   "source": [
    "print(\"\"\"       _.-;;-._\n",
    "'-..-'|   ||   |\n",
    "'-..-'|_.-;;-._|\n",
    "'-..-'|   ||   |\n",
    "'-..-'|_.-''-._|\"\"\")"
   ]
  },
  {
   "attachments": {},
   "cell_type": "markdown",
   "metadata": {},
   "source": [
    "## [백준/콜센터](https://www.acmicpc.net/problem/5339)"
   ]
  },
  {
   "cell_type": "code",
   "execution_count": null,
   "metadata": {},
   "outputs": [],
   "source": [
    "print(r\"\"\"     /~\\\n",
    "    ( oo|\n",
    "    _\\=/_\n",
    "   /  _  \\\n",
    "  //|/.\\|\\\\\n",
    " ||  \\ /  ||\n",
    "============\n",
    "|          |\n",
    "|          |\n",
    "|          |\"\"\")"
   ]
  },
  {
   "attachments": {},
   "cell_type": "markdown",
   "metadata": {},
   "source": [
    "## [백준/Pyramids](https://www.acmicpc.net/problem/5341)"
   ]
  },
  {
   "cell_type": "code",
   "execution_count": null,
   "metadata": {},
   "outputs": [],
   "source": [
    "print(*(i*-~i//2 for i in map(int,open(0).read().split()[:-1])))"
   ]
  },
  {
   "attachments": {},
   "cell_type": "markdown",
   "metadata": {},
   "source": [
    "## [백준/카드 게임](https://www.acmicpc.net/problem/5522)"
   ]
  },
  {
   "cell_type": "code",
   "execution_count": null,
   "metadata": {},
   "outputs": [],
   "source": [
    "print(sum(map(int,open(0).read().split())))"
   ]
  },
  {
   "attachments": {},
   "cell_type": "markdown",
   "metadata": {},
   "source": [
    "## [백준/과제 안 내신 분..?](https://www.acmicpc.net/problem/5597)"
   ]
  },
  {
   "cell_type": "code",
   "execution_count": null,
   "metadata": {},
   "outputs": [],
   "source": [
    "print(*sorted(set(range(1,31))-set(map(int,open(0).read().split()))))"
   ]
  },
  {
   "attachments": {},
   "cell_type": "markdown",
   "metadata": {},
   "source": [
    "## [백준/Who is in the middle?](https://www.acmicpc.net/problem/6840)"
   ]
  },
  {
   "cell_type": "code",
   "execution_count": null,
   "metadata": {},
   "outputs": [],
   "source": [
    "print(sorted(map(int,open(0).read().split()))[1])"
   ]
  },
  {
   "attachments": {},
   "cell_type": "markdown",
   "metadata": {},
   "source": [
    "## [백준/등록](https://www.acmicpc.net/problem/7287)"
   ]
  },
  {
   "cell_type": "code",
   "execution_count": null,
   "metadata": {},
   "outputs": [],
   "source": [
    "print(315,\"2chanhaeng\")"
   ]
  },
  {
   "attachments": {},
   "cell_type": "markdown",
   "metadata": {},
   "source": [
    "## [백준/Plane](https://www.acmicpc.net/problem/8370)"
   ]
  },
  {
   "cell_type": "code",
   "execution_count": null,
   "metadata": {},
   "outputs": [],
   "source": [
    "print((lambda q,w,e,r:q*w+e*r)(*map(int,input().split())))"
   ]
  },
  {
   "attachments": {},
   "cell_type": "markdown",
   "metadata": {},
   "source": [
    "## [백준/Julka](https://www.acmicpc.net/problem/8437)"
   ]
  },
  {
   "cell_type": "code",
   "execution_count": null,
   "metadata": {},
   "outputs": [],
   "source": [
    "print(((i:=int(input()))+(j:=int(input())))//2,(i-j)//2)"
   ]
  },
  {
   "attachments": {},
   "cell_type": "markdown",
   "metadata": {},
   "source": [
    "## [백준/Zadanie próbne](https://www.acmicpc.net/problem/8545)"
   ]
  },
  {
   "cell_type": "code",
   "execution_count": null,
   "metadata": {},
   "outputs": [],
   "source": [
    "print(input()[::-1])"
   ]
  },
  {
   "attachments": {},
   "cell_type": "markdown",
   "metadata": {},
   "source": [
    "## [백준/Zadanie próbne 2](https://www.acmicpc.net/problem/8871)"
   ]
  },
  {
   "cell_type": "code",
   "execution_count": null,
   "metadata": {},
   "outputs": [],
   "source": [
    "print((i:=1+int(input()))*2,i*3)"
   ]
  },
  {
   "attachments": {},
   "cell_type": "markdown",
   "metadata": {},
   "source": [
    "## [백준/문자열](https://www.acmicpc.net/problem/9086)"
   ]
  },
  {
   "cell_type": "code",
   "execution_count": null,
   "metadata": {},
   "outputs": [],
   "source": [
    "for line in open(0).readlines()[1:]:\n",
    "    print(line[0] + line.strip()[-1])"
   ]
  },
  {
   "attachments": {},
   "cell_type": "markdown",
   "metadata": {},
   "source": [
    "## [백준/스타워즈 로고](https://www.acmicpc.net/problem/9653)"
   ]
  },
  {
   "cell_type": "code",
   "execution_count": null,
   "metadata": {},
   "outputs": [],
   "source": [
    "print(\"\"\"    8888888888  888    88888\n",
    "   88     88   88 88   88  88\n",
    "    8888  88  88   88  88888\n",
    "       88 88 888888888 88   88\n",
    "88888888  88 88     88 88    888888\n",
    "\n",
    "88  88  88   888    88888    888888\n",
    "88  88  88  88 88   88  88  88\n",
    "88 8888 88 88   88  88888    8888\n",
    " 888  888 888888888 88  88      88\n",
    "  88  88  88     88 88   88888888\"\"\")"
   ]
  },
  {
   "attachments": {},
   "cell_type": "markdown",
   "metadata": {},
   "source": [
    "## [백준/나부 함대 데이터](https://www.acmicpc.net/problem/9654)"
   ]
  },
  {
   "cell_type": "code",
   "execution_count": null,
   "metadata": {},
   "outputs": [],
   "source": [
    "print(\"\"\"SHIP NAME      CLASS          DEPLOYMENT IN SERVICE\n",
    "N2 Bomber      Heavy Fighter  Limited    21        \n",
    "J-Type 327     Light Combat   Unlimited  1         \n",
    "NX Cruiser     Medium Fighter Limited    18        \n",
    "N1 Starfighter Medium Fighter Unlimited  25        \n",
    "Royal Cruiser  Light Combat   Limited    4         \"\"\")"
   ]
  },
  {
   "attachments": {},
   "cell_type": "markdown",
   "metadata": {},
   "source": [
    "## [백준/NFC West vs North](https://www.acmicpc.net/problem/10170)"
   ]
  },
  {
   "cell_type": "code",
   "execution_count": null,
   "metadata": {},
   "outputs": [],
   "source": [
    "print(\"\"\"NFC West       W   L  T\n",
    "-----------------------\n",
    "Seattle        13  3  0\n",
    "San Francisco  12  4  0\n",
    "Arizona        10  6  0\n",
    "St. Louis      7   9  0\n",
    "\n",
    "NFC North      W   L  T\n",
    "-----------------------\n",
    "Green Bay      8   7  1\n",
    "Chicago        8   8  0\n",
    "Detroit        7   9  0\n",
    "Minnesota      5  10  1\"\"\")"
   ]
  },
  {
   "attachments": {},
   "cell_type": "markdown",
   "metadata": {},
   "source": [
    "## [백준/Hook](https://www.acmicpc.net/problem/10189)"
   ]
  },
  {
   "cell_type": "code",
   "execution_count": null,
   "metadata": {},
   "outputs": [],
   "source": [
    "print(\"\"\"#  # #### #### #  #\n",
    "#### #  # #  # # #\n",
    "#### #  # #  # # #\n",
    "#  # #### #### #  #\"\"\")"
   ]
  },
  {
   "attachments": {},
   "cell_type": "markdown",
   "metadata": {},
   "source": [
    "## [백준/오늘 날짜](https://www.acmicpc.net/problem/10699)"
   ]
  },
  {
   "cell_type": "code",
   "execution_count": null,
   "metadata": {},
   "outputs": [],
   "source": [
    "from datetime import datetime, timedelta\n",
    "print((datetime.now() + timedelta(hours=9)).strftime(\"%Y-%m-%d\"))"
   ]
  },
  {
   "attachments": {},
   "cell_type": "markdown",
   "metadata": {},
   "source": [
    "## [백준/개수 세기](https://www.acmicpc.net/problem/10807)"
   ]
  },
  {
   "cell_type": "code",
   "execution_count": null,
   "metadata": {},
   "outputs": [],
   "source": [
    "n,*l,m=open(0).read().split();print(l.count(m))"
   ]
  },
  {
   "attachments": {},
   "cell_type": "markdown",
   "metadata": {},
   "source": [
    "## [백준/꼬마 정민](https://www.acmicpc.net/problem/11382)"
   ]
  },
  {
   "cell_type": "code",
   "execution_count": null,
   "metadata": {},
   "outputs": [],
   "source": [
    "print(sum(map(int,input().split())))"
   ]
  },
  {
   "attachments": {},
   "cell_type": "markdown",
   "metadata": {},
   "source": [
    "## [백준/그대로 출력하기](https://www.acmicpc.net/problem/11718)"
   ]
  },
  {
   "cell_type": "code",
   "execution_count": null,
   "metadata": {},
   "outputs": [],
   "source": [
    "print(open(0).read())"
   ]
  },
  {
   "attachments": {},
   "cell_type": "markdown",
   "metadata": {},
   "source": [
    "## [백준/고려대는 사랑입니다](https://www.acmicpc.net/problem/11942)"
   ]
  },
  {
   "cell_type": "code",
   "execution_count": null,
   "metadata": {},
   "outputs": [],
   "source": [
    "print(\"고려대학교\")"
   ]
  },
  {
   "attachments": {},
   "cell_type": "markdown",
   "metadata": {},
   "source": [
    "## [백준/큰 수 곱셈](https://www.acmicpc.net/problem/13277)"
   ]
  },
  {
   "cell_type": "code",
   "execution_count": null,
   "metadata": {},
   "outputs": [],
   "source": [
    "print((lambda x,y:x*y)(*map(int,input().split())))"
   ]
  },
  {
   "attachments": {},
   "cell_type": "markdown",
   "metadata": {},
   "source": [
    "## [백준/Helicopter](https://www.acmicpc.net/problem/14337)"
   ]
  },
  {
   "cell_type": "raw",
   "metadata": {},
   "source": [
    "Module Main\n",
    "  Sub Main()\n",
    "    Console.WriteLine(\"      ===================\")\n",
    "    Console.WriteLine(\"          ____||___\")\n",
    "    Console.WriteLine(\"\\ /      /       []\\\")\n",
    "    Console.WriteLine(\" X=======           \\__\")\n",
    "    Console.WriteLine(\"/ \\      \\____________|\")\n",
    "    Console.WriteLine(\"            ||  ||\")\n",
    "    Console.WriteLine(\"         \\-----------/\")\n",
    "  End Sub\n",
    "End Module"
   ]
  },
  {
   "attachments": {},
   "cell_type": "markdown",
   "metadata": {},
   "source": [
    "## [백준/팬들에게 둘러싸인 홍준](https://www.acmicpc.net/problem/14581)"
   ]
  },
  {
   "cell_type": "code",
   "execution_count": null,
   "metadata": {},
   "outputs": [],
   "source": [
    "print(f\"\"\":fan::fan::fan:\n",
    ":fan::{input()}::fan:\n",
    ":fan::fan::fan:\"\"\")"
   ]
  },
  {
   "attachments": {},
   "cell_type": "markdown",
   "metadata": {},
   "source": [
    "## [백준/와이버스 부릉부릉](https://www.acmicpc.net/problem/14645)"
   ]
  },
  {
   "cell_type": "code",
   "execution_count": null,
   "metadata": {},
   "outputs": [],
   "source": [
    "print(\"비와이\")"
   ]
  },
  {
   "attachments": {},
   "cell_type": "markdown",
   "metadata": {},
   "source": [
    "## [백준/나는 행복합니다~](https://www.acmicpc.net/problem/14652)"
   ]
  },
  {
   "cell_type": "code",
   "execution_count": null,
   "metadata": {},
   "outputs": [],
   "source": [
    "print(*divmod(*map(int,input().split()[:0:-1])))"
   ]
  },
  {
   "attachments": {},
   "cell_type": "markdown",
   "metadata": {},
   "source": [
    "## [백준/큰 수 (BIG)](https://www.acmicpc.net/problem/14928)"
   ]
  },
  {
   "cell_type": "code",
   "execution_count": null,
   "metadata": {},
   "outputs": [],
   "source": [
    "print(int(input())%20000303)"
   ]
  },
  {
   "attachments": {},
   "cell_type": "markdown",
   "metadata": {},
   "source": [
    "## [백준/조별과제를 하려는데 조장이 사라졌다](https://www.acmicpc.net/problem/15727)"
   ]
  },
  {
   "cell_type": "code",
   "execution_count": null,
   "metadata": {},
   "outputs": [],
   "source": [
    "print((i:=int(input()))//5+(i%5!=0))"
   ]
  },
  {
   "attachments": {},
   "cell_type": "markdown",
   "metadata": {},
   "source": [
    "## [백준/나는 누구인가](https://www.acmicpc.net/problem/15733)"
   ]
  },
  {
   "cell_type": "code",
   "execution_count": null,
   "metadata": {},
   "outputs": [],
   "source": [
    "print(\"I'm Sexy\")"
   ]
  },
  {
   "attachments": {},
   "cell_type": "markdown",
   "metadata": {},
   "source": [
    "## [백준/새로운 시작](https://www.acmicpc.net/problem/15962)"
   ]
  },
  {
   "cell_type": "code",
   "execution_count": null,
   "metadata": {},
   "outputs": [],
   "source": [
    "print(\"파이팅!!\")"
   ]
  },
  {
   "attachments": {},
   "cell_type": "markdown",
   "metadata": {},
   "source": [
    "## [백준/이상한 기호](https://www.acmicpc.net/problem/15964)"
   ]
  },
  {
   "cell_type": "code",
   "execution_count": null,
   "metadata": {},
   "outputs": [],
   "source": [
    "print((lambda x,y:x*x-y*y)(*map(int,input().split())))"
   ]
  },
  {
   "attachments": {},
   "cell_type": "markdown",
   "metadata": {},
   "source": [
    "## [백준/Larger Sport Facility](https://www.acmicpc.net/problem/16099)"
   ]
  },
  {
   "cell_type": "code",
   "execution_count": null,
   "metadata": {},
   "outputs": [],
   "source": [
    "for _ in range(int(input())):\n",
    "    q, w, e, r = map(int, input().split())\n",
    "    m, n = q * w, e * r\n",
    "    print(\"TelecomParisTech\" if m > n else \"Tie\" if m == n else \"Eurecom\")"
   ]
  },
  {
   "attachments": {},
   "cell_type": "markdown",
   "metadata": {},
   "source": [
    "## [백준/오늘의 날짜는?](https://www.acmicpc.net/problem/16170)"
   ]
  },
  {
   "cell_type": "code",
   "execution_count": null,
   "metadata": {},
   "outputs": [],
   "source": [
    "import datetime;print(datetime.datetime.now().strftime(\"%Y\\n%m\\n%d\"))"
   ]
  },
  {
   "attachments": {},
   "cell_type": "markdown",
   "metadata": {},
   "source": [
    "## [백준/홍익대학교](https://www.acmicpc.net/problem/16394)"
   ]
  },
  {
   "cell_type": "code",
   "execution_count": null,
   "metadata": {},
   "outputs": [],
   "source": [
    "print(int(input())-1946)"
   ]
  },
  {
   "attachments": {},
   "cell_type": "markdown",
   "metadata": {},
   "source": [
    "## [백준/제리와 톰](https://www.acmicpc.net/problem/16430)"
   ]
  },
  {
   "cell_type": "code",
   "execution_count": null,
   "metadata": {},
   "outputs": [],
   "source": [
    "a,b=map(int,input().split());print(b-a,b)"
   ]
  },
  {
   "attachments": {},
   "cell_type": "markdown",
   "metadata": {},
   "source": [
    "## [백준/달달함이 넘쳐흘러](https://www.acmicpc.net/problem/17256)"
   ]
  },
  {
   "cell_type": "code",
   "execution_count": null,
   "metadata": {},
   "outputs": [],
   "source": [
    "q,w,e,r,t,y=map(int,open(0).read().split());print(r-e,t//w,y-q)"
   ]
  },
  {
   "attachments": {},
   "cell_type": "markdown",
   "metadata": {},
   "source": [
    "## [백준/엔드게임 스포일러](https://www.acmicpc.net/problem/17295)"
   ]
  },
  {
   "cell_type": "code",
   "execution_count": null,
   "metadata": {},
   "outputs": [],
   "source": [
    "print(\"Avengers: Endgame\")"
   ]
  },
  {
   "attachments": {},
   "cell_type": "markdown",
   "metadata": {},
   "source": [
    "## [백준/Арифметическая магия](https://www.acmicpc.net/problem/18096)"
   ]
  },
  {
   "cell_type": "code",
   "execution_count": null,
   "metadata": {},
   "outputs": [],
   "source": [
    "print(1)"
   ]
  },
  {
   "attachments": {},
   "cell_type": "markdown",
   "metadata": {},
   "source": [
    "## [백준/Rats](https://www.acmicpc.net/problem/18301)"
   ]
  },
  {
   "cell_type": "code",
   "execution_count": null,
   "metadata": {},
   "outputs": [],
   "source": [
    "import math;q,w,e=map(int,input().split());print(math.floor(-~q*-~w/-~e-1))"
   ]
  },
  {
   "attachments": {},
   "cell_type": "markdown",
   "metadata": {},
   "source": [
    "## [백준/Site Score](https://www.acmicpc.net/problem/20254)"
   ]
  },
  {
   "cell_type": "code",
   "execution_count": null,
   "metadata": {},
   "outputs": [],
   "source": [
    "print((lambda q,w,e,r:56*q+24*w+14*e+6*r)(*map(int,input().split())))"
   ]
  },
  {
   "attachments": {},
   "cell_type": "markdown",
   "metadata": {},
   "source": [
    "## [백준/세금](https://www.acmicpc.net/problem/20492)"
   ]
  },
  {
   "cell_type": "code",
   "execution_count": null,
   "metadata": {},
   "outputs": [],
   "source": [
    "print((i:=int(input()))*39//50,i*956//1000)"
   ]
  },
  {
   "attachments": {},
   "cell_type": "markdown",
   "metadata": {},
   "source": [
    "## [백준/Bottle Return](https://www.acmicpc.net/problem/21300)"
   ]
  },
  {
   "cell_type": "code",
   "execution_count": null,
   "metadata": {},
   "outputs": [],
   "source": [
    "print(5*sum(map(int,input().split())))"
   ]
  },
  {
   "attachments": {},
   "cell_type": "markdown",
   "metadata": {},
   "source": [
    "## [백준/SciComLove](https://www.acmicpc.net/problem/21598)"
   ]
  },
  {
   "cell_type": "code",
   "execution_count": null,
   "metadata": {},
   "outputs": [],
   "source": [
    "print(\" \".join([\"SciComLove\"]*int(input())))"
   ]
  },
  {
   "attachments": {},
   "cell_type": "markdown",
   "metadata": {},
   "source": [
    "## [백준/Multiply](https://www.acmicpc.net/problem/22193)"
   ]
  },
  {
   "cell_type": "code",
   "execution_count": null,
   "metadata": {},
   "outputs": [],
   "source": [
    "input();print(int(input())*int(input()))"
   ]
  },
  {
   "attachments": {},
   "cell_type": "markdown",
   "metadata": {},
   "source": [
    "## [백준/The World Responds](https://www.acmicpc.net/problem/23234)"
   ]
  },
  {
   "cell_type": "code",
   "execution_count": null,
   "metadata": {},
   "outputs": [],
   "source": [
    "print(\"The world says hello!\")"
   ]
  },
  {
   "attachments": {},
   "cell_type": "markdown",
   "metadata": {},
   "source": [
    "## [백준/The Fastest Sorting Algorithm In The World](https://www.acmicpc.net/problem/23235)"
   ]
  },
  {
   "cell_type": "code",
   "execution_count": null,
   "metadata": {},
   "outputs": [],
   "source": [
    "i = 1\n",
    "while input() != \"0\":\n",
    "    print(f\"Case {i}: Sorting... done!\")\n",
    "    i += 1"
   ]
  },
  {
   "attachments": {},
   "cell_type": "markdown",
   "metadata": {},
   "source": [
    "## [백준/余り (Remainder)](https://www.acmicpc.net/problem/24078)"
   ]
  },
  {
   "cell_type": "code",
   "execution_count": null,
   "metadata": {},
   "outputs": [],
   "source": [
    "print(int(input())%21)"
   ]
  },
  {
   "attachments": {},
   "cell_type": "markdown",
   "metadata": {},
   "source": [
    "## [백준/立方体 (Cube)](https://www.acmicpc.net/problem/24082)"
   ]
  },
  {
   "cell_type": "code",
   "execution_count": null,
   "metadata": {},
   "outputs": [],
   "source": [
    "print(int(input())**3)"
   ]
  },
  {
   "attachments": {},
   "cell_type": "markdown",
   "metadata": {},
   "source": [
    "## [백준/身長 (Height)](https://www.acmicpc.net/problem/24086)"
   ]
  },
  {
   "cell_type": "code",
   "execution_count": null,
   "metadata": {},
   "outputs": [],
   "source": [
    "print(-int(input())+int(input()))"
   ]
  },
  {
   "attachments": {},
   "cell_type": "markdown",
   "metadata": {},
   "source": [
    "## [백준/알고리즘 수업 - 알고리즘의 수행 시간 1](https://www.acmicpc.net/problem/24262)"
   ]
  },
  {
   "cell_type": "code",
   "execution_count": null,
   "metadata": {},
   "outputs": [],
   "source": [
    "print(1,0)"
   ]
  },
  {
   "attachments": {},
   "cell_type": "markdown",
   "metadata": {},
   "source": [
    "## [백준/РАВЕНСТВО](https://www.acmicpc.net/problem/24309)"
   ]
  },
  {
   "cell_type": "code",
   "execution_count": null,
   "metadata": {},
   "outputs": [],
   "source": [
    "a=int(input());print((int(input())-int(input()))//a)"
   ]
  },
  {
   "attachments": {},
   "cell_type": "markdown",
   "metadata": {},
   "source": [
    "## [백준/Cupcake Party](https://www.acmicpc.net/problem/24568)"
   ]
  },
  {
   "cell_type": "code",
   "execution_count": null,
   "metadata": {},
   "outputs": [],
   "source": [
    "print((int(input())*8+int(input())*3)-28)"
   ]
  },
  {
   "attachments": {},
   "cell_type": "markdown",
   "metadata": {},
   "source": [
    "## [백준/Football Scoring](https://www.acmicpc.net/problem/24736)"
   ]
  },
  {
   "cell_type": "code",
   "execution_count": null,
   "metadata": {},
   "outputs": [],
   "source": [
    "print(*(sum(int(i)*j for i,j in zip(input().split(),(6,3,2,1,2)))for _ in range(2)))"
   ]
  },
  {
   "attachments": {},
   "cell_type": "markdown",
   "metadata": {},
   "source": [
    "## [백준/가희와 방어율 무시](https://www.acmicpc.net/problem/25238)"
   ]
  },
  {
   "cell_type": "code",
   "execution_count": null,
   "metadata": {},
   "outputs": [],
   "source": [
    "a, b=map(int, input().split())\n",
    "print(1 if a * (100 - b) < 10000 else 0)"
   ]
  },
  {
   "attachments": {},
   "cell_type": "markdown",
   "metadata": {},
   "source": [
    "## [백준/영수증](https://www.acmicpc.net/problem/25304)"
   ]
  },
  {
   "cell_type": "code",
   "execution_count": null,
   "metadata": {},
   "outputs": [],
   "source": [
    "n = int(input())\n",
    "s = 0\n",
    "for _ in range(int(input())):\n",
    "    a, b = map(int, input().split())\n",
    "    s += a * b\n",
    "print(\"Yes\" if s == int(n) else \"No\")"
   ]
  },
  {
   "attachments": {},
   "cell_type": "markdown",
   "metadata": {},
   "source": [
    "## [백준/UCPC에서 가장 쉬운 문제 번호는?](https://www.acmicpc.net/problem/25311)"
   ]
  },
  {
   "cell_type": "code",
   "execution_count": null,
   "metadata": {},
   "outputs": [],
   "source": [
    "print(\"A\")"
   ]
  },
  {
   "attachments": {},
   "cell_type": "markdown",
   "metadata": {},
   "source": [
    "## [백준/코딩은 체육과목 입니다](https://www.acmicpc.net/problem/25314)"
   ]
  },
  {
   "cell_type": "code",
   "execution_count": null,
   "metadata": {},
   "outputs": [],
   "source": [
    "print(\"long \" * (int(input()) // 4) + \"int\")"
   ]
  },
  {
   "attachments": {},
   "cell_type": "markdown",
   "metadata": {},
   "source": [
    "## [백준/성택이의 은밀한 비밀번호](https://www.acmicpc.net/problem/25372)"
   ]
  },
  {
   "cell_type": "code",
   "execution_count": null,
   "metadata": {},
   "outputs": [],
   "source": [
    "for _ in range(int(input())):\n",
    "    print(\"yes\" if 6 <= len(input()) <= 9 else \"no\")"
   ]
  },
  {
   "attachments": {},
   "cell_type": "markdown",
   "metadata": {},
   "source": [
    "## [백준/WARBOY](https://www.acmicpc.net/problem/26082)"
   ]
  },
  {
   "cell_type": "code",
   "execution_count": null,
   "metadata": {},
   "outputs": [],
   "source": [
    "a, b, c = map(int, input().split())\n",
    "print(3 * b * c // a)"
   ]
  },
  {
   "attachments": {},
   "cell_type": "markdown",
   "metadata": {},
   "source": [
    "## [백준/Intercepting Information](https://www.acmicpc.net/problem/26209)"
   ]
  },
  {
   "cell_type": "code",
   "execution_count": null,
   "metadata": {},
   "outputs": [],
   "source": [
    "print(\"SF\"[\"9\"in set(input())])"
   ]
  },
  {
   "attachments": {},
   "cell_type": "markdown",
   "metadata": {},
   "source": [
    "## [백준/Correct](https://www.acmicpc.net/problem/26307)"
   ]
  },
  {
   "cell_type": "code",
   "execution_count": null,
   "metadata": {},
   "outputs": [],
   "source": [
    "h, m = map(int, input().split())\n",
    "print((h - 9) * 60 + m)"
   ]
  },
  {
   "attachments": {},
   "cell_type": "markdown",
   "metadata": {},
   "source": [
    "## [백준/Gum Gum for Jay Jay](https://www.acmicpc.net/problem/26489)"
   ]
  },
  {
   "cell_type": "code",
   "execution_count": null,
   "metadata": {},
   "outputs": [],
   "source": [
    "print(open(0).read().count(\"\\n\"))"
   ]
  },
  {
   "attachments": {},
   "cell_type": "markdown",
   "metadata": {},
   "source": [
    "## [백준/Mathematics](https://www.acmicpc.net/problem/26545)"
   ]
  },
  {
   "cell_type": "code",
   "execution_count": null,
   "metadata": {},
   "outputs": [],
   "source": [
    "s = 0\n",
    "for _ in range(int(input())):\n",
    "    s += int(input())\n",
    "print(s)"
   ]
  },
  {
   "attachments": {},
   "cell_type": "markdown",
   "metadata": {},
   "source": [
    "## [백준/Copier](https://www.acmicpc.net/problem/26574)"
   ]
  },
  {
   "cell_type": "code",
   "execution_count": null,
   "metadata": {},
   "outputs": [],
   "source": [
    "for _ in range(int(input())):\n",
    "    i = input()\n",
    "    print(i + \" \" + i)"
   ]
  },
  {
   "attachments": {},
   "cell_type": "markdown",
   "metadata": {},
   "source": [
    "## [백준/Pups](https://www.acmicpc.net/problem/26575)"
   ]
  },
  {
   "cell_type": "code",
   "execution_count": null,
   "metadata": {},
   "outputs": [],
   "source": [
    "for _ in range(int(input())):\n",
    "    q, w, e = map(float, input().split())\n",
    "    print(f\"${q * w * e:.2f}\")"
   ]
  },
  {
   "attachments": {},
   "cell_type": "markdown",
   "metadata": {},
   "source": [
    "## [백준/A+B](https://www.acmicpc.net/problem/26711)"
   ]
  },
  {
   "cell_type": "code",
   "execution_count": null,
   "metadata": {},
   "outputs": [],
   "source": [
    "print(int(input()) + int(input()))"
   ]
  },
  {
   "attachments": {},
   "cell_type": "markdown",
   "metadata": {},
   "source": [
    "## [백준/Serca](https://www.acmicpc.net/problem/26766)"
   ]
  },
  {
   "cell_type": "code",
   "execution_count": null,
   "metadata": {},
   "outputs": [],
   "source": [
    "print(\"\"\" @@@   @@@ \n",
    "@   @ @   @\n",
    "@    @    @\n",
    "@         @\n",
    " @       @ \n",
    "  @     @  \n",
    "   @   @   \n",
    "    @ @    \n",
    "     @     \n",
    "\"\"\" * int(input()))"
   ]
  }
 ],
 "metadata": {
  "kernelspec": {
   "display_name": "venv",
   "language": "python",
   "name": "python3"
  },
  "language_info": {
   "codemirror_mode": {
    "name": "ipython",
    "version": 3
   },
   "file_extension": ".py",
   "mimetype": "text/x-python",
   "name": "python",
   "nbconvert_exporter": "python",
   "pygments_lexer": "ipython3",
   "version": "3.10.8 (main, Oct 13 2022, 09:48:40) [Clang 14.0.0 (clang-1400.0.29.102)]"
  },
  "orig_nbformat": 4,
  "vscode": {
   "interpreter": {
    "hash": "72904a014a9ffe38f4c58942120b599b3c5a87d06764037548e0139929c1cde3"
   }
  }
 },
 "nbformat": 4,
 "nbformat_minor": 2
}
