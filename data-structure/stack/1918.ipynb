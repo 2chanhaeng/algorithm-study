{
    "cells": [
        {
            "cell_type": "markdown",
            "metadata": {},
            "source": [
                "# [백준/후위 표기식](https://www.acmicpc.net/problem/1918)"
            ]
        },
        {
            "cell_type": "markdown",
            "metadata": {},
            "source": [
                "## 풀이과정"
            ]
        },
        {
            "cell_type": "markdown",
            "metadata": {},
            "source": [
                "### 첫번째 시도"
            ]
        },
        {
            "cell_type": "markdown",
            "metadata": {},
            "source": [
                "#### 풀이과정"
            ]
        },
        {
            "cell_type": "code",
            "execution_count": 19,
            "metadata": {},
            "outputs": [
                {
                    "name": "stdout",
                    "output_type": "stream",
                    "text": [
                        "\n"
                    ]
                }
            ],
            "source": [
                "def solution():\n",
                "    import sys\n",
                "\n",
                "    result = \"\"\n",
                "    ops = []\n",
                "    for c in sys.stdin.read().rstrip():\n",
                "        match c:\n",
                "            case \"(\":\n",
                "                ops.append(c)\n",
                "            case \")\":\n",
                "                while ops and (op := ops.pop()) != \"(\":\n",
                "                    result += op\n",
                "            case \"*\" | \"/\":\n",
                "                while ops and ops[-1] in {'*', \"/\"}:\n",
                "                    result += ops.pop()\n",
                "                ops.append(c)\n",
                "            case \"+\" | \"-\":\n",
                "                while ops and ops[-1] not in {\"(\", \")\"}:\n",
                "                    result += ops.pop()\n",
                "                ops.append(c)\n",
                "            case _:\n",
                "                result += c\n",
                "    print(result + \"\".join(ops[::-1]))\n",
                "\n",
                "\n",
                "solution()"
            ]
        },
        {
            "cell_type": "markdown",
            "metadata": {},
            "source": [
                "## 해답"
            ]
        },
        {
            "cell_type": "code",
            "execution_count": 64,
            "metadata": {},
            "outputs": [
                {
                    "name": "stdout",
                    "output_type": "stream",
                    "text": [
                        "/*-+\n"
                    ]
                }
            ],
            "source": [
                "from itertools import takewhile\n",
                "def takeops(strset):\n",
                "    def result(ops):\n",
                "        return \"\".join(takewhile(strset.__contains__, reversed(ops)))\n",
                "    return result\n",
                "pm = takeops(set(\"+-*/\"))\n",
                "md = takeops(set(\"*/\"))\n",
                "cp = takeops(\"(\")\n",
                "print(pm(\"+-*/(+-*/\"))"
            ]
        },
        {
            "cell_type": "code",
            "execution_count": 68,
            "metadata": {},
            "outputs": [],
            "source": [
                "def solution():\n",
                "    import sys\n",
                "\n",
                "    result = \"\"\n",
                "    ops = []\n",
                "    for c in sys.stdin.read().rstrip():\n",
                "        match c:\n",
                "            case \"(\":\n",
                "                ops.append(c)\n",
                "            case \")\":\n",
                "                while ops and (op := ops.pop()) != \"(\":\n",
                "                    result += op\n",
                "            case \"*\" | \"/\":\n",
                "                while ops and ops[-1] in {'*', \"/\"}:\n",
                "                    result += ops.pop()\n",
                "                ops.append(c)\n",
                "            case \"+\" | \"-\":\n",
                "                while ops and ops[-1] not in {\"(\", \")\"}:\n",
                "                    result += ops.pop()\n",
                "                ops.append(c)\n",
                "            case _:\n",
                "                result += c\n",
                "    print(result + \"\".join(ops[::-1]))"
            ]
        },
        {
            "cell_type": "markdown",
            "metadata": {},
            "source": [
                "## 예제"
            ]
        },
        {
            "cell_type": "code",
            "execution_count": 69,
            "metadata": {},
            "outputs": [
                {
                    "name": "stdout",
                    "output_type": "stream",
                    "text": [
                        "The blackcellmagic extension is already loaded. To reload it, use:\n",
                        "  %reload_ext blackcellmagic\n"
                    ]
                }
            ],
            "source": [
                "# black 모듈을 jupyter notebook 내에서 사용 가능하게 만들어주는 blackcellmagic 모듈 불러오기\n",
                "%load_ext blackcellmagic\n",
                "# %%black\n",
                "\n",
                "# 백준 문제 풀이용 예제 실행 코드\n",
                "from bwj import test\n",
                "test_solution = test(solution)\n",
                "\n",
                "# test_solution(\"\"\"\"\"\")\n",
                "# test_solution(read(\"fn\").read())"
            ]
        },
        {
            "cell_type": "code",
            "execution_count": 70,
            "metadata": {},
            "outputs": [
                {
                    "name": "stdout",
                    "output_type": "stream",
                    "text": [
                        "*DE/\n"
                    ]
                }
            ],
            "source": [
                "test_solution(\"\"\"A+B*C-D/E\n",
                "\"\"\") # ABC*+DE/-"
            ]
        },
        {
            "cell_type": "code",
            "execution_count": 71,
            "metadata": {},
            "outputs": [
                {
                    "name": "stdout",
                    "output_type": "stream",
                    "text": [
                        "C\n"
                    ]
                }
            ],
            "source": [
                "test_solution(\"\"\"A*(B+C)\n",
                "\"\"\") # ABC+*"
            ]
        },
        {
            "cell_type": "code",
            "execution_count": 72,
            "metadata": {},
            "outputs": [
                {
                    "name": "stdout",
                    "output_type": "stream",
                    "text": [
                        "B+\n"
                    ]
                }
            ],
            "source": [
                "test_solution(\"\"\"A+B\n",
                "\"\"\") # AB+"
            ]
        },
        {
            "cell_type": "code",
            "execution_count": 73,
            "metadata": {},
            "outputs": [
                {
                    "name": "stdout",
                    "output_type": "stream",
                    "text": [
                        "BC*\n"
                    ]
                }
            ],
            "source": [
                "test_solution(\"\"\"A+B*C\n",
                "\"\"\") # ABC*+"
            ]
        }
    ],
    "metadata": {
        "kernelspec": {
            "display_name": "Python 3.10.4 ('venv': venv)",
            "language": "python",
            "name": "python3"
        },
        "language_info": {
            "codemirror_mode": {
                "name": "ipython",
                "version": 3
            },
            "file_extension": ".py",
            "mimetype": "text/x-python",
            "name": "python",
            "nbconvert_exporter": "python",
            "pygments_lexer": "ipython3",
            "version": "3.10.6"
        },
        "orig_nbformat": 4,
        "vscode": {
            "interpreter": {
                "hash": "72904a014a9ffe38f4c58942120b599b3c5a87d06764037548e0139929c1cde3"
            }
        }
    },
    "nbformat": 4,
    "nbformat_minor": 2
}
