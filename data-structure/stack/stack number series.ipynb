{
 "cells": [
  {
   "cell_type": "markdown",
   "metadata": {},
   "source": [
    "# [백준/스택 수열](https://www.acmicpc.net/problem/1874)"
   ]
  },
  {
   "cell_type": "markdown",
   "metadata": {},
   "source": [
    "## 풀이과정"
   ]
  },
  {
   "cell_type": "markdown",
   "metadata": {},
   "source": [
    "### 첫번째 시도"
   ]
  },
  {
   "cell_type": "markdown",
   "metadata": {},
   "source": [
    "풀이과정"
   ]
  },
  {
   "cell_type": "code",
   "execution_count": null,
   "metadata": {},
   "outputs": [],
   "source": [
    "import sys\n",
    "\n",
    "print = sys.stdout.write\n",
    "l, *series = map(int, open(0).read().split())\n",
    "stack = []\n",
    "pointer = iter(range(1, l + 1))\n",
    "printer = []\n",
    "is_able = True\n",
    "for i in series:\n",
    "    if i in stack:\n",
    "        if stack.pop() == i:\n",
    "            printer.append(\"-\")\n",
    "        else:\n",
    "            is_able = False\n",
    "            break\n",
    "    elif (n := next(pointer)) <= i:\n",
    "        stack.append(n)\n",
    "        printer.append(\"+\")\n",
    "        while n != i:\n",
    "            n = next(pointer)\n",
    "            stack.append(n)\n",
    "            printer.append(\"+\")\n",
    "        stack.pop()\n",
    "        printer.append(\"-\")\n",
    "    else:\n",
    "        is_able = False\n",
    "        break\n",
    "print(\"\\n\".join(printer) if is_able else \"NO\")"
   ]
  },
  {
   "cell_type": "markdown",
   "metadata": {},
   "source": [
    "### 두번째 시도"
   ]
  },
  {
   "cell_type": "markdown",
   "metadata": {},
   "source": [
    "풀이과정"
   ]
  },
  {
   "cell_type": "code",
   "execution_count": null,
   "metadata": {},
   "outputs": [],
   "source": [
    "import sys\n",
    "\n",
    "print = sys.stdout.write\n",
    "l, *series = map(int, open(0).read().split())\n",
    "stack = []\n",
    "stackset = set()\n",
    "pointer = iter(range(1, l + 1))\n",
    "printer = []\n",
    "is_able = True\n",
    "for i in series:\n",
    "    if i in stackset:\n",
    "        if stack.pop() == i:\n",
    "            stackset.remove(i)\n",
    "            printer.append(\"-\")\n",
    "        else:\n",
    "            is_able = False\n",
    "            break\n",
    "    elif (n := next(pointer)) <= i:\n",
    "        stack.append(n)\n",
    "        stackset.add(n)\n",
    "        printer.append(\"+\")\n",
    "        while n != i:\n",
    "            n = next(pointer)\n",
    "            stack.append(n)\n",
    "            stackset.add(n)\n",
    "            printer.append(\"+\")\n",
    "        stack.pop()\n",
    "        stackset.remove(i)\n",
    "        printer.append(\"-\")\n",
    "    else:\n",
    "        is_able = False\n",
    "        break\n",
    "print(\"\\n\".join(printer) if is_able else \"NO\")"
   ]
  },
  {
   "cell_type": "markdown",
   "metadata": {},
   "source": [
    "## 해답"
   ]
  },
  {
   "cell_type": "code",
   "execution_count": 2,
   "metadata": {},
   "outputs": [
    {
     "data": {
      "text/plain": [
       "0"
      ]
     },
     "execution_count": 2,
     "metadata": {},
     "output_type": "execute_result"
    }
   ],
   "source": [
    "a = iter(range(10))\n",
    "next(a)"
   ]
  },
  {
   "cell_type": "code",
   "execution_count": 56,
   "metadata": {},
   "outputs": [],
   "source": [
    "def solution(open):\n",
    "    l, *series = map(int, open(0).read().split())\n",
    "    stack = []\n",
    "    stackset = set()\n",
    "    pointer = iter(range(1, l + 1))\n",
    "    printer = []\n",
    "    is_able = True\n",
    "    for i in series:\n",
    "        if i in stackset:\n",
    "            if stack.pop() == i:\n",
    "                stackset.remove(i)\n",
    "                printer.append(\"-\")\n",
    "            else:\n",
    "                is_able = False\n",
    "                break\n",
    "        elif (n := next(pointer)) <= i:\n",
    "            stack.append(n)\n",
    "            stackset.add(n)\n",
    "            printer.append(\"+\")\n",
    "            while n != i:\n",
    "                n = next(pointer)\n",
    "                stack.append(n)\n",
    "                stackset.add(n)\n",
    "                printer.append(\"+\")\n",
    "            stack.pop()\n",
    "            stackset.remove(i)\n",
    "            printer.append(\"-\")\n",
    "        else:\n",
    "            is_able = False\n",
    "            break\n",
    "    print(\"\\n\".join(printer) if is_able else \"NO\")"
   ]
  },
  {
   "cell_type": "markdown",
   "metadata": {},
   "source": [
    "## 테스트 결과"
   ]
  },
  {
   "cell_type": "markdown",
   "metadata": {},
   "source": [
    "|테스트|결과|\n",
    "|---:|:---|"
   ]
  },
  {
   "cell_type": "markdown",
   "metadata": {},
   "source": [
    "## 예제"
   ]
  },
  {
   "cell_type": "code",
   "execution_count": 57,
   "metadata": {},
   "outputs": [],
   "source": [
    "# 백준 문제 풀이용 예제 실행 코드\n",
    "from inspect import signature\n",
    "\n",
    "\n",
    "def solution_example(input_=None, solution=solution):\n",
    "    params = signature(solution).parameters\n",
    "    if input_ == None:\n",
    "        solution()\n",
    "    elif \"open\" in params:\n",
    "\n",
    "        class open:\n",
    "            def __init__(self, x):\n",
    "                self.read = lambda: input_\n",
    "\n",
    "            def __iter__(self):\n",
    "                return iter(input_.split(\"\\n\"))\n",
    "\n",
    "        solution(open)\n",
    "    elif \"input\" in params:\n",
    "        input_ = iter(input_.split(\"\\n\"))\n",
    "        input = input_.__next__\n",
    "        solution(input)\n",
    "    else:\n",
    "        raise NameError(\n",
    "            f\"solution 함수가 input, open 등의 매개변수를 받지 않습니다.\\nsolution 의 매개변수: {params}\"\n",
    "        )\n",
    "\n",
    "\n",
    "# solution_example(\"\"\"\"\"\")\n",
    "# solution_example(read(\"fn\").read())"
   ]
  },
  {
   "cell_type": "code",
   "execution_count": 58,
   "metadata": {},
   "outputs": [
    {
     "name": "stdout",
     "output_type": "stream",
     "text": [
      "NO\n"
     ]
    }
   ],
   "source": [
    "solution_example(\n",
    "    \"\"\"4\n",
    "4\n",
    "2\n",
    "3\n",
    "1\"\"\"\n",
    ")  # + + + + - - + + - + + - - - - -"
   ]
  },
  {
   "cell_type": "code",
   "execution_count": 59,
   "metadata": {},
   "outputs": [
    {
     "name": "stdout",
     "output_type": "stream",
     "text": [
      "+\n",
      "+\n",
      "+\n",
      "+\n",
      "-\n",
      "-\n",
      "+\n",
      "+\n",
      "-\n",
      "+\n",
      "+\n",
      "-\n",
      "-\n",
      "-\n",
      "-\n",
      "-\n"
     ]
    }
   ],
   "source": [
    "solution_example(\n",
    "    \"\"\"8\n",
    "4\n",
    "3\n",
    "6\n",
    "8\n",
    "7\n",
    "5\n",
    "2\n",
    "1\n",
    "\"\"\"\n",
    ")  # + + + + - - + + - + + - - - - -"
   ]
  },
  {
   "cell_type": "code",
   "execution_count": 60,
   "metadata": {},
   "outputs": [
    {
     "name": "stdout",
     "output_type": "stream",
     "text": [
      "NO\n"
     ]
    }
   ],
   "source": [
    "solution_example(\n",
    "    \"\"\"5\n",
    "1\n",
    "2\n",
    "5\n",
    "3\n",
    "4\n",
    "\"\"\"\n",
    ")"
   ]
  }
 ],
 "metadata": {
  "interpreter": {
   "hash": "73891b0dc2e53390f36276e59930dd4ecab91b05b5c90320c2d5b1c443f87069"
  },
  "kernelspec": {
   "display_name": "Python 3.10.1 ('venv': venv)",
   "language": "python",
   "name": "python3"
  },
  "language_info": {
   "codemirror_mode": {
    "name": "ipython",
    "version": 3
   },
   "file_extension": ".py",
   "mimetype": "text/x-python",
   "name": "python",
   "nbconvert_exporter": "python",
   "pygments_lexer": "ipython3",
   "version": "3.10.1"
  },
  "orig_nbformat": 4
 },
 "nbformat": 4,
 "nbformat_minor": 2
}
