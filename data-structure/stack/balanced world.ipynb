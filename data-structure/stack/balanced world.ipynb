{
 "cells": [
  {
   "cell_type": "markdown",
   "metadata": {},
   "source": [
    "# [백준/균형잡힌 세상](https://www.acmicpc.net/problem/4949)"
   ]
  },
  {
   "cell_type": "markdown",
   "metadata": {},
   "source": [
    "## 풀이과정"
   ]
  },
  {
   "cell_type": "markdown",
   "metadata": {},
   "source": [
    "### 첫번째 시도"
   ]
  },
  {
   "cell_type": "markdown",
   "metadata": {},
   "source": [
    "풀이과정"
   ]
  },
  {
   "cell_type": "code",
   "execution_count": null,
   "metadata": {},
   "outputs": [],
   "source": [
    "while (sentence := input()) != \".\":\n",
    "    is_balanced = True\n",
    "    stack = []\n",
    "    for c in sentence:\n",
    "        match c:\n",
    "            case \"(\":\n",
    "                stack.append(0)\n",
    "            case \"[\":\n",
    "                stack.append(1)\n",
    "            case \")\":\n",
    "                if not stack:\n",
    "                    is_balanced = False\n",
    "                    break\n",
    "                if stack.pop():\n",
    "                    is_balanced = False\n",
    "                    break\n",
    "            case \"]\":\n",
    "                if not stack:\n",
    "                    is_balanced = False\n",
    "                    break\n",
    "                if not stack.pop():\n",
    "                    is_balanced = False\n",
    "                    break\n",
    "            case _:\n",
    "                pass\n",
    "    if stack:\n",
    "        is_balanced = False\n",
    "    print(\"yes\" if is_balanced else \"no\")"
   ]
  },
  {
   "cell_type": "markdown",
   "metadata": {},
   "source": [
    "## 해답"
   ]
  },
  {
   "cell_type": "code",
   "execution_count": 7,
   "metadata": {},
   "outputs": [],
   "source": [
    "def solution(open):\n",
    "    sentences = open(0).read().split(\".\")\n",
    "    print(sentences)\n",
    "    for sentence in sentences:\n",
    "        is_balanced = True\n",
    "        stack = []\n",
    "        for c in sentence:\n",
    "            match c:\n",
    "                case \"(\":\n",
    "                    stack.append(0)\n",
    "                case \"[\":\n",
    "                    stack.append(1)\n",
    "                case \")\":\n",
    "                    if not stack:\n",
    "                        is_balanced = False\n",
    "                        break\n",
    "                    if stack.pop():\n",
    "                        is_balanced = False\n",
    "                        break\n",
    "                case \"]\":\n",
    "                    if not stack:\n",
    "                        is_balanced = False\n",
    "                        break\n",
    "                    if not stack.pop():\n",
    "                        is_balanced = False\n",
    "                        break\n",
    "                case _:\n",
    "                    pass\n",
    "        if stack:\n",
    "            is_balanced = False\n",
    "        print(\"yes\" if is_balanced else \"no\")"
   ]
  },
  {
   "cell_type": "markdown",
   "metadata": {},
   "source": [
    "## 테스트 결과"
   ]
  },
  {
   "cell_type": "markdown",
   "metadata": {},
   "source": [
    "|테스트|결과|\n",
    "|---:|:---|"
   ]
  },
  {
   "cell_type": "markdown",
   "metadata": {},
   "source": [
    "## 예제"
   ]
  },
  {
   "cell_type": "code",
   "execution_count": 8,
   "metadata": {},
   "outputs": [],
   "source": [
    "# 백준 문제 풀이용 예제 실행 코드\n",
    "from inspect import signature\n",
    "\n",
    "\n",
    "def solution_example(input_=None, solution=solution):\n",
    "    params = signature(solution).parameters\n",
    "    if input_ == None:\n",
    "        solution()\n",
    "    elif \"open\" in params:\n",
    "\n",
    "        class open:\n",
    "            def __init__(self, x):\n",
    "                self.read = lambda: input_\n",
    "\n",
    "            def __iter__(self):\n",
    "                return iter(input_.split(\"\\n\"))\n",
    "\n",
    "        solution(open)\n",
    "    elif \"input\" in params:\n",
    "        input_ = iter(input_.split(\"\\n\"))\n",
    "        input = input_.__next__\n",
    "        solution(input)\n",
    "    else:\n",
    "        raise NameError(\n",
    "            f\"solution 함수가 input, open 등의 매개변수를 받지 않습니다.\\nsolution 의 매개변수: {params}\"\n",
    "        )\n",
    "\n",
    "\n",
    "# solution_example(\"\"\"\"\"\")\n",
    "# solution_example(read(\"fn\").read())"
   ]
  },
  {
   "cell_type": "code",
   "execution_count": 9,
   "metadata": {},
   "outputs": [
    {
     "name": "stdout",
     "output_type": "stream",
     "text": [
      "['So when I die (the [first] I will see in (heaven) is a score list)', '\\n[ first in ] ( first out )', '\\nHalf Moon tonight (At least it is better than no Moon at all]', '\\nA rope may form )( a trail in a maze', '\\nHelp( I[m being held prisoner in a fortune cookie factory)]', '\\n([ (([( [ ] ) ( ) (( ))] )) ])', '\\n ', '\\n', '']\n",
      "yes\n",
      "yes\n",
      "no\n",
      "no\n",
      "no\n",
      "yes\n",
      "yes\n",
      "yes\n",
      "yes\n"
     ]
    }
   ],
   "source": [
    "solution_example(\n",
    "    \"\"\"So when I die (the [first] I will see in (heaven) is a score list).\n",
    "[ first in ] ( first out ).\n",
    "Half Moon tonight (At least it is better than no Moon at all].\n",
    "A rope may form )( a trail in a maze.\n",
    "Help( I[m being held prisoner in a fortune cookie factory)].\n",
    "([ (([( [ ] ) ( ) (( ))] )) ]).\n",
    " .\n",
    ".\"\"\"\n",
    ")"
   ]
  }
 ],
 "metadata": {
  "interpreter": {
   "hash": "73891b0dc2e53390f36276e59930dd4ecab91b05b5c90320c2d5b1c443f87069"
  },
  "kernelspec": {
   "display_name": "Python 3.10.1 ('venv': venv)",
   "language": "python",
   "name": "python3"
  },
  "language_info": {
   "codemirror_mode": {
    "name": "ipython",
    "version": 3
   },
   "file_extension": ".py",
   "mimetype": "text/x-python",
   "name": "python",
   "nbconvert_exporter": "python",
   "pygments_lexer": "ipython3",
   "version": "3.10.1"
  },
  "orig_nbformat": 4
 },
 "nbformat": 4,
 "nbformat_minor": 2
}
