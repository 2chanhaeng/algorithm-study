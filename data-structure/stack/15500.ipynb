{
    "cells": [
        {
            "cell_type": "markdown",
            "metadata": {},
            "source": [
                "# [백준/이상한 하노이 탑](https://www.acmicpc.net/problem/15500)\n"
            ]
        },
        {
            "cell_type": "markdown",
            "metadata": {},
            "source": [
                "## 풀이과정\n"
            ]
        },
        {
            "cell_type": "markdown",
            "metadata": {},
            "source": [
                "### 첫번째 시도\n"
            ]
        },
        {
            "cell_type": "markdown",
            "metadata": {},
            "source": [
                "#### 풀이과정\n"
            ]
        },
        {
            "cell_type": "code",
            "execution_count": null,
            "metadata": {},
            "outputs": [],
            "source": [
                "def solution():\n",
                "    import sys\n",
                "\n",
                "    n, *arr = map(int, sys.stdin.read().split())\n",
                "    splited = n\n",
                "    result = 0\n",
                "    process = []\n",
                "    btw12 = [\"2 1\", \"1 2\"]\n",
                "    to3 = [\"2 3\", \"1 3\"]\n",
                "    for i in range(n, 0, -1):\n",
                "        idx = arr.index(i)\n",
                "        is_i_1 = idx < splited\n",
                "        move = abs(splited - idx) - is_i_1\n",
                "        result += move + 1\n",
                "        process.extend([btw12[is_i_1]] * (move))\n",
                "        process.append(to3[is_i_1])\n",
                "        arr.pop(idx)\n",
                "        splited = 0 if idx > i else idx\n",
                "    process = \"\\n\".join(process)\n",
                "    print(f\"{result}\\n{process}\")\n",
                "\n",
                "\n",
                "solution()"
            ]
        },
        {
            "cell_type": "markdown",
            "metadata": {},
            "source": [
                "## 해답\n"
            ]
        },
        {
            "cell_type": "code",
            "execution_count": 1,
            "metadata": {},
            "outputs": [],
            "source": [
                "def solution():\n",
                "    import sys\n",
                "\n",
                "    n, *arr = map(int, sys.stdin.read().split())\n",
                "    splited = n\n",
                "    result = 0\n",
                "    process = []\n",
                "    btw12 = [\"2 1\", \"1 2\"]\n",
                "    to3 = [\"2 3\", \"1 3\"]\n",
                "    for i in range(n, 0, -1):\n",
                "        idx = arr.index(i)\n",
                "        is_i_1 = idx < splited\n",
                "        move = abs(splited - idx) - is_i_1\n",
                "        result += move + 1\n",
                "        process.extend([btw12[is_i_1]] * (move))\n",
                "        process.append(to3[is_i_1])\n",
                "        arr.pop(idx)\n",
                "        splited = 0 if idx > i else idx\n",
                "    process = \"\\n\".join(process)\n",
                "    print(f\"{result}\\n{process}\")"
            ]
        },
        {
            "cell_type": "markdown",
            "metadata": {},
            "source": [
                "## 예제\n"
            ]
        },
        {
            "cell_type": "code",
            "execution_count": 2,
            "metadata": {},
            "outputs": [],
            "source": [
                "# black 모듈을 jupyter notebook 내에서 사용 가능하게 만들어주는 blackcellmagic 모듈 불러오기\n",
                "%load_ext blackcellmagic\n",
                "# %%black\n",
                "\n",
                "# 백준 문제 풀이용 예제 실행 코드\n",
                "from bwj import test\n",
                "test_solution = test(solution)\n",
                "\n",
                "# test_solution(\"\"\"\"\"\")\n",
                "# test_solution(read(\"fn\").read())"
            ]
        },
        {
            "cell_type": "code",
            "execution_count": 3,
            "metadata": {},
            "outputs": [
                {
                    "name": "stdout",
                    "output_type": "stream",
                    "text": [
                        "13\n",
                        "1 2\n",
                        "1 2\n",
                        "1 2\n",
                        "1 2\n",
                        "1 3\n",
                        "2 1\n",
                        "2 1\n",
                        "2 1\n",
                        "2 3\n",
                        "1 2\n",
                        "1 3\n",
                        "2 3\n",
                        "1 3\n"
                    ]
                }
            ],
            "source": [
                "test_solution(\"\"\"5\n",
                "5 1 3 2 4\n",
                "\"\"\")"
            ]
        },
        {
            "cell_type": "code",
            "execution_count": 4,
            "metadata": {},
            "outputs": [
                {
                    "name": "stdout",
                    "output_type": "stream",
                    "text": [
                        "4\n",
                        "1 2\n",
                        "1 3\n",
                        "1 3\n",
                        "2 3\n"
                    ]
                }
            ],
            "source": [
                "test_solution(\"\"\"3\n",
                "2 3 1\n",
                "\"\"\")\n",
                "# answer:\n",
                "# 4\n",
                "# 1 2\n",
                "# 1 3\n",
                "# 1 3\n",
                "# 2 3"
            ]
        }
    ],
    "metadata": {
        "interpreter": {
            "hash": "73891b0dc2e53390f36276e59930dd4ecab91b05b5c90320c2d5b1c443f87069"
        },
        "kernelspec": {
            "display_name": "Python 3.10.1 ('venv': venv)",
            "language": "python",
            "name": "python3"
        },
        "language_info": {
            "codemirror_mode": {
                "name": "ipython",
                "version": 3
            },
            "file_extension": ".py",
            "mimetype": "text/x-python",
            "name": "python",
            "nbconvert_exporter": "python",
            "pygments_lexer": "ipython3",
            "version": "3.11.3"
        },
        "orig_nbformat": 4
    },
    "nbformat": 4,
    "nbformat_minor": 2
}
