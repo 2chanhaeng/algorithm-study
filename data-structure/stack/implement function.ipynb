{
 "cells": [
  {
   "cell_type": "markdown",
   "metadata": {},
   "source": [
    "# [부스트캠프/함수 구현](https://www.boostcourse.org/selfcheck/lecture/1410049?isDesc=false)"
   ]
  },
  {
   "cell_type": "markdown",
   "metadata": {},
   "source": [
    "## 풀이과정"
   ]
  },
  {
   "cell_type": "markdown",
   "metadata": {},
   "source": [
    "### 첫번째 시도"
   ]
  },
  {
   "cell_type": "markdown",
   "metadata": {},
   "source": [
    "풀이과정"
   ]
  },
  {
   "cell_type": "code",
   "execution_count": null,
   "metadata": {},
   "outputs": [],
   "source": [
    "# 풀이 코드"
   ]
  },
  {
   "cell_type": "markdown",
   "metadata": {},
   "source": [
    "## 해답"
   ]
  },
  {
   "cell_type": "code",
   "execution_count": 6,
   "metadata": {},
   "outputs": [
    {
     "name": "stdout",
     "output_type": "stream",
     "text": [
      "[4, 2] [4, 2]\n",
      "[3, 2, 3] [3, 2, 3]\n",
      "[-1] [-1]\n"
     ]
    }
   ],
   "source": [
    "from collections import Counter\n",
    "def solution(arr):\n",
    "    return answer if (answer := [count for _, count in Counter(arr).items() if count > 1]) else [-1]\n",
    "    \n",
    "def Counter1(arr):\n",
    "    counter = {}\n",
    "    for i in arr:\n",
    "        counter[i] = counter.setdefault(i, 0) + 1\n",
    "    return counter\n",
    "\n",
    "def solution1(arr):\n",
    "    return answer if (answer := [count for _, count in Counter1(arr).items() if count > 1]) else [-1]\n",
    "\n",
    "print(solution([1, 2, 3, 3, 3, 3, 4, 4]), solution1([1, 2, 3, 3, 3, 3, 4, 4]))\n",
    "print(solution([3, 2, 4, 4, 2, 5, 2, 5, 5]), solution1([3, 2, 4, 4, 2, 5, 2, 5, 5]))\n",
    "print(solution([3, 5, 7, 9, 1]), solution1([3, 5, 7, 9, 1]))"
   ]
  },
  {
   "cell_type": "markdown",
   "metadata": {},
   "source": [
    "## 테스트 결과"
   ]
  },
  {
   "cell_type": "markdown",
   "metadata": {},
   "source": [
    "|테스트|결과|\n",
    "|---:|:---|"
   ]
  },
  {
   "cell_type": "markdown",
   "metadata": {},
   "source": [
    "## 예제"
   ]
  },
  {
   "cell_type": "code",
   "execution_count": null,
   "metadata": {},
   "outputs": [],
   "source": [
    "%load_ext blackcellmagic\n",
    "# %%black"
   ]
  },
  {
   "cell_type": "code",
   "execution_count": null,
   "metadata": {},
   "outputs": [],
   "source": [
    "# 백준 문제 풀이용 예제 실행 코드\n",
    "from bwj import test\n",
    "test_solution = test(solution)\n",
    "\n",
    "# test_solution(\"\"\"\"\"\")\n",
    "# test_solution(read(\"fn\").read())"
   ]
  },
  {
   "cell_type": "code",
   "execution_count": null,
   "metadata": {},
   "outputs": [],
   "source": [
    "# 예제 코드"
   ]
  }
 ],
 "metadata": {
  "kernelspec": {
   "display_name": "Python 3.10.4 ('venv': venv)",
   "language": "python",
   "name": "python3"
  },
  "language_info": {
   "codemirror_mode": {
    "name": "ipython",
    "version": 3
   },
   "file_extension": ".py",
   "mimetype": "text/x-python",
   "name": "python",
   "nbconvert_exporter": "python",
   "pygments_lexer": "ipython3",
   "version": "3.10.4"
  },
  "orig_nbformat": 4,
  "vscode": {
   "interpreter": {
    "hash": "72904a014a9ffe38f4c58942120b599b3c5a87d06764037548e0139929c1cde3"
   }
  }
 },
 "nbformat": 4,
 "nbformat_minor": 2
}
