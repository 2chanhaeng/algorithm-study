{
    "cells": [
        {
            "cell_type": "markdown",
            "metadata": {},
            "source": [
                "# [백준/문자열 폭발](https://www.acmicpc.net/problem/9935)"
            ]
        },
        {
            "cell_type": "markdown",
            "metadata": {},
            "source": [
                "## 풀이과정"
            ]
        },
        {
            "cell_type": "markdown",
            "metadata": {},
            "source": [
                "### 첫번째 시도"
            ]
        },
        {
            "cell_type": "markdown",
            "metadata": {},
            "source": [
                "#### 풀이과정"
            ]
        },
        {
            "cell_type": "code",
            "execution_count": null,
            "metadata": {},
            "outputs": [],
            "source": [
                "def solution():\n",
                "    import sys\n",
                "\n",
                "    string, target = sys.stdin.read().rstrip().splitlines()\n",
                "    target = list(target)\n",
                "    result = []\n",
                "    len_target = len(target)\n",
                "        \n",
                "    for c in string:\n",
                "        result.append(c)\n",
                "        if len(result) < len_target:\n",
                "            continue\n",
                "        if result[-len_target:] == target:\n",
                "            for _ in range(len_target):\n",
                "                result.pop()\n",
                "        \n",
                "    print(\"\".join(result) if result else \"FRULA\")\n",
                "\n",
                "\n",
                "solution()"
            ]
        },
        {
            "cell_type": "markdown",
            "metadata": {},
            "source": [
                "## 해답"
            ]
        },
        {
            "cell_type": "code",
            "execution_count": 1,
            "metadata": {},
            "outputs": [],
            "source": [
                "def solution():\n",
                "    import sys\n",
                "\n",
                "    string, target = sys.stdin.read().rstrip().splitlines()\n",
                "    target = list(target)\n",
                "    result = []\n",
                "    len_target = len(target)\n",
                "        \n",
                "    for c in string:\n",
                "        result.append(c)\n",
                "        if len(result) < len_target:\n",
                "            continue\n",
                "        if result[-len_target:] == target:\n",
                "            for _ in range(len_target):\n",
                "                result.pop()\n",
                "        \n",
                "    print(\"\".join(result) if result else \"FRULA\")"
            ]
        },
        {
            "cell_type": "markdown",
            "metadata": {},
            "source": [
                "## 예제"
            ]
        },
        {
            "cell_type": "code",
            "execution_count": 2,
            "metadata": {},
            "outputs": [],
            "source": [
                "# black 모듈을 jupyter notebook 내에서 사용 가능하게 만들어주는 blackcellmagic 모듈 불러오기\n",
                "%load_ext blackcellmagic\n",
                "# %%black\n",
                "\n",
                "# 백준 문제 풀이용 예제 실행 코드\n",
                "from bwj import test\n",
                "test_solution = test(solution)\n",
                "\n",
                "# test_solution(\"\"\"\"\"\")\n",
                "# test_solution(read(\"fn\").read())"
            ]
        },
        {
            "cell_type": "code",
            "execution_count": 3,
            "metadata": {},
            "outputs": [
                {
                    "name": "stdout",
                    "output_type": "stream",
                    "text": [
                        "mirkovniz\n"
                    ]
                }
            ],
            "source": [
                "test_solution(\"\"\"mirkovC4nizCC44\n",
                "C4\n",
                "\"\"\") # mirkovniz"
            ]
        },
        {
            "cell_type": "code",
            "execution_count": 4,
            "metadata": {},
            "outputs": [
                {
                    "name": "stdout",
                    "output_type": "stream",
                    "text": [
                        "FRULA\n"
                    ]
                }
            ],
            "source": [
                "test_solution(\"\"\"12ab112ab2ab\n",
                "12ab\n",
                "\"\"\") # FRULA"
            ]
        }
    ],
    "metadata": {
        "kernelspec": {
            "display_name": "Python 3.10.6 ('venv': venv)",
            "language": "python",
            "name": "python3"
        },
        "language_info": {
            "codemirror_mode": {
                "name": "ipython",
                "version": 3
            },
            "file_extension": ".py",
            "mimetype": "text/x-python",
            "name": "python",
            "nbconvert_exporter": "python",
            "pygments_lexer": "ipython3",
            "version": "3.10.6"
        },
        "orig_nbformat": 4,
        "vscode": {
            "interpreter": {
                "hash": "72904a014a9ffe38f4c58942120b599b3c5a87d06764037548e0139929c1cde3"
            }
        }
    },
    "nbformat": 4,
    "nbformat_minor": 2
}
