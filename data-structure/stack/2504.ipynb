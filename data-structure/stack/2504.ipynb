{
    "cells": [
        {
            "cell_type": "markdown",
            "metadata": {},
            "source": [
                "# [백준/괄호의 값](https://www.acmicpc.net/problem/2504)"
            ]
        },
        {
            "cell_type": "markdown",
            "metadata": {},
            "source": [
                "## 풀이과정"
            ]
        },
        {
            "cell_type": "markdown",
            "metadata": {},
            "source": [
                "### 첫번째 시도"
            ]
        },
        {
            "cell_type": "markdown",
            "metadata": {},
            "source": [
                "풀이과정"
            ]
        },
        {
            "cell_type": "code",
            "execution_count": null,
            "metadata": {},
            "outputs": [],
            "source": [
                "def solution():\n",
                "    import sys\n",
                "\n",
                "    # 깊이 별 값들을 저장하는 리스트\n",
                "    answer = [[] for _ in range(30)]\n",
                "    # 개행괄호를 저장하는 리스트\n",
                "    stack = []\n",
                "    depth = 0\n",
                "    for input in sys.stdin.readline().rstrip():\n",
                "        match input:\n",
                "            case '(' | '[':\n",
                "                # 개행괄호인 경우 개행괄호를 스택에 저장하고\n",
                "                stack.append(input)\n",
                "                # 해당하는 깊이에 값을 추가\n",
                "                answer[depth].append(1)\n",
                "                # 깊이를 증가\n",
                "                depth += 1\n",
                "            case _:\n",
                "                # 그외의 경우\n",
                "                try:\n",
                "                    # 먼저 깊이를 감소하고\n",
                "                    depth -= 1\n",
                "                    # 개행괄호 스택에서 추출하여\n",
                "                    par = stack.pop()\n",
                "                    if par + input in {'()', '[]'}:\n",
                "                        # 만약 짝이 맞을 경우 해당 깊이에 괄호에 따른 값을 곱한다\n",
                "                        answer[depth][-1] *= (2 if input == ')' else 3)\n",
                "                        if answer[depth + 1]:\n",
                "                            # 만약 더 깊은 단계의 값이 존재한다면 해당 값들을 모두 더해서 이전 단계에 곱하고\n",
                "                            answer[depth][-1] *= sum(answer[depth + 1])\n",
                "                            # 해당 단계의 값을 모두 지운다.\n",
                "                            answer[depth + 1].clear()\n",
                "                    else:\n",
                "                        # 맞지 않을 경우 올바르지 않다고 간주하여 0을 출력하고 풀이를 종료한다.\n",
                "                        print(0)\n",
                "                        return\n",
                "                except IndexError:\n",
                "                    # 도중에 인덱스 오류가 나는 경우에도 올바르지 않다고 간주하여 0을 출력하고 풀이를 종료한다.\n",
                "                    print(0)\n",
                "                    return\n",
                "    # 여전히 스택이 비어있지 않은 경우 올바르지 않다고 간주하여 0을 출력한다.\n",
                "    print(0 if stack else sum(answer[0]))\n",
                "\n",
                "\n",
                "solution()"
            ]
        },
        {
            "cell_type": "markdown",
            "metadata": {},
            "source": [
                "## 해답"
            ]
        },
        {
            "cell_type": "code",
            "execution_count": 209,
            "metadata": {},
            "outputs": [],
            "source": [
                "def pnr(*a, **k):\n",
                "    print(*a, **k)\n",
                "    return a if len(a) > 1 else a[0]"
            ]
        },
        {
            "cell_type": "code",
            "execution_count": 229,
            "metadata": {},
            "outputs": [],
            "source": [
                "def solution(input):\n",
                "    answer = [[] for _ in range(30)]\n",
                "    stack = []\n",
                "    depth = 0\n",
                "    for input in input():\n",
                "        match input:\n",
                "            case '(' | '[':\n",
                "                stack.append(input)\n",
                "                answer[depth].append(1)\n",
                "                depth += 1\n",
                "            case _:\n",
                "                try:\n",
                "                    depth -= 1\n",
                "                    par = stack.pop()\n",
                "                    if par + input in {'()', '[]'}:\n",
                "                        answer[depth][-1] *= (2 if input == ')' else 3)\n",
                "                        if answer[depth + 1]:\n",
                "                            answer[depth][-1] *= sum(answer[depth + 1])\n",
                "                            answer[depth + 1].clear()\n",
                "                    else:\n",
                "                        print(0)\n",
                "                        return\n",
                "                except IndexError:\n",
                "                    print(0)\n",
                "                    return\n",
                "    print(0 if stack else sum(answer[0]))"
            ]
        },
        {
            "cell_type": "markdown",
            "metadata": {},
            "source": [
                "## 예제"
            ]
        },
        {
            "cell_type": "code",
            "execution_count": 231,
            "metadata": {},
            "outputs": [
                {
                    "name": "stdout",
                    "output_type": "stream",
                    "text": [
                        "The blackcellmagic extension is already loaded. To reload it, use:\n",
                        "  %reload_ext blackcellmagic\n"
                    ]
                }
            ],
            "source": [
                "%load_ext blackcellmagic\n",
                "# %%black"
            ]
        },
        {
            "cell_type": "code",
            "execution_count": 232,
            "metadata": {},
            "outputs": [],
            "source": [
                "# 백준 문제 풀이용 예제 실행 코드\n",
                "from bwj import test\n",
                "test_solution = test(solution)\n",
                "\n",
                "# test_solution(\"\"\"\"\"\")\n",
                "# test_solution(read(\"fn\").read())"
            ]
        },
        {
            "cell_type": "code",
            "execution_count": 248,
            "metadata": {},
            "outputs": [
                {
                    "name": "stdout",
                    "output_type": "stream",
                    "text": [
                        ")\n",
                        ")\n",
                        " depth = 0\n",
                        "0\n"
                    ]
                }
            ],
            "source": [
                "test_solution(\"\"\")\"\"\") # 0"
            ]
        },
        {
            "cell_type": "code",
            "execution_count": null,
            "metadata": {},
            "outputs": [
                {
                    "name": "stdout",
                    "output_type": "stream",
                    "text": [
                        ")\n",
                        ")\n",
                        " depth = 0\n",
                        "0\n"
                    ]
                }
            ],
            "source": [
                "test_solution(\"\"\")\"\"\") # 0"
            ]
        },
        {
            "cell_type": "code",
            "execution_count": null,
            "metadata": {},
            "outputs": [
                {
                    "name": "stdout",
                    "output_type": "stream",
                    "text": [
                        "([[]]())\n",
                        "(\n",
                        " [\n",
                        "  [\n",
                        "   ]\n",
                        "    depth = 3\n",
                        "    par = '['\n",
                        "    answer = [[1], [1], [3], [], [], [], [], [], [], [], [], [], [], [], [], [], [], [], [], [], [], [], [], [], [], [], [], [], [], []]\n",
                        "  ]\n",
                        "   depth = 2\n",
                        "   par = '['\n",
                        "   answer = [[1], [3], [3], [], [], [], [], [], [], [], [], [], [], [], [], [], [], [], [], [], [], [], [], [], [], [], [], [], [], []]\n",
                        "   answer = [[1], [9], [], [], [], [], [], [], [], [], [], [], [], [], [], [], [], [], [], [], [], [], [], [], [], [], [], [], [], []]\n",
                        " (\n",
                        "  )\n",
                        "   depth = 2\n",
                        "   par = '('\n",
                        "   answer = [[1], [9, 2], [], [], [], [], [], [], [], [], [], [], [], [], [], [], [], [], [], [], [], [], [], [], [], [], [], [], [], []]\n",
                        " )\n",
                        "  depth = 1\n",
                        "  par = '('\n",
                        "  answer = [[2], [9, 2], [], [], [], [], [], [], [], [], [], [], [], [], [], [], [], [], [], [], [], [], [], [], [], [], [], [], [], []]\n",
                        "  answer = [[22], [], [], [], [], [], [], [], [], [], [], [], [], [], [], [], [], [], [], [], [], [], [], [], [], [], [], [], [], []]\n",
                        "22\n"
                    ]
                }
            ],
            "source": [
                "test_solution(\"\"\"([[]]())\"\"\") # 22"
            ]
        },
        {
            "cell_type": "code",
            "execution_count": 246,
            "metadata": {},
            "outputs": [
                {
                    "name": "stdout",
                    "output_type": "stream",
                    "text": [
                        "[[()][]]\n",
                        "[\n",
                        " [\n",
                        "  (\n",
                        "   )\n",
                        "    depth = 3\n",
                        "    par = '('\n",
                        "    answer = [[1], [1], [2], [], [], [], [], [], [], [], [], [], [], [], [], [], [], [], [], [], [], [], [], [], [], [], [], [], [], []]\n",
                        "  ]\n",
                        "   depth = 2\n",
                        "   par = '['\n",
                        "   answer = [[1], [3], [2], [], [], [], [], [], [], [], [], [], [], [], [], [], [], [], [], [], [], [], [], [], [], [], [], [], [], []]\n",
                        "   answer = [[1], [6], [], [], [], [], [], [], [], [], [], [], [], [], [], [], [], [], [], [], [], [], [], [], [], [], [], [], [], []]\n",
                        " [\n",
                        "  ]\n",
                        "   depth = 2\n",
                        "   par = '['\n",
                        "   answer = [[1], [6, 3], [], [], [], [], [], [], [], [], [], [], [], [], [], [], [], [], [], [], [], [], [], [], [], [], [], [], [], []]\n",
                        " ]\n",
                        "  depth = 1\n",
                        "  par = '['\n",
                        "  answer = [[3], [6, 3], [], [], [], [], [], [], [], [], [], [], [], [], [], [], [], [], [], [], [], [], [], [], [], [], [], [], [], []]\n",
                        "  answer = [[27], [], [], [], [], [], [], [], [], [], [], [], [], [], [], [], [], [], [], [], [], [], [], [], [], [], [], [], [], []]\n",
                        "27\n"
                    ]
                }
            ],
            "source": [
                "test_solution(\"\"\"[[()][]]\"\"\") # 27"
            ]
        },
        {
            "cell_type": "code",
            "execution_count": 247,
            "metadata": {},
            "outputs": [
                {
                    "name": "stdout",
                    "output_type": "stream",
                    "text": [
                        "((())[])\n",
                        "(\n",
                        " (\n",
                        "  (\n",
                        "   )\n",
                        "    depth = 3\n",
                        "    par = '('\n",
                        "    answer = [[1], [1], [2], [], [], [], [], [], [], [], [], [], [], [], [], [], [], [], [], [], [], [], [], [], [], [], [], [], [], []]\n",
                        "  )\n",
                        "   depth = 2\n",
                        "   par = '('\n",
                        "   answer = [[1], [2], [2], [], [], [], [], [], [], [], [], [], [], [], [], [], [], [], [], [], [], [], [], [], [], [], [], [], [], []]\n",
                        "   answer = [[1], [4], [], [], [], [], [], [], [], [], [], [], [], [], [], [], [], [], [], [], [], [], [], [], [], [], [], [], [], []]\n",
                        " [\n",
                        "  ]\n",
                        "   depth = 2\n",
                        "   par = '['\n",
                        "   answer = [[1], [4, 3], [], [], [], [], [], [], [], [], [], [], [], [], [], [], [], [], [], [], [], [], [], [], [], [], [], [], [], []]\n",
                        " )\n",
                        "  depth = 1\n",
                        "  par = '('\n",
                        "  answer = [[2], [4, 3], [], [], [], [], [], [], [], [], [], [], [], [], [], [], [], [], [], [], [], [], [], [], [], [], [], [], [], []]\n",
                        "  answer = [[14], [], [], [], [], [], [], [], [], [], [], [], [], [], [], [], [], [], [], [], [], [], [], [], [], [], [], [], [], []]\n",
                        "14\n"
                    ]
                }
            ],
            "source": [
                "test_solution(\"\"\"((())[])\"\"\") # 14"
            ]
        },
        {
            "cell_type": "code",
            "execution_count": null,
            "metadata": {},
            "outputs": [
                {
                    "name": "stdout",
                    "output_type": "stream",
                    "text": [
                        "())([]\n",
                        "(\n",
                        " )\n",
                        "  depth = 1\n",
                        "  par = '('\n",
                        "  answer = [[2], [], [], [], [], [], [], [], [], [], [], [], [], [], [], [], [], [], [], [], [], [], [], [], [], [], [], [], [], []]\n",
                        ")\n",
                        " depth = 0\n",
                        "0\n"
                    ]
                }
            ],
            "source": [
                "test_solution(\"\"\"())([]\"\"\") # 0"
            ]
        },
        {
            "cell_type": "code",
            "execution_count": null,
            "metadata": {},
            "outputs": [
                {
                    "name": "stdout",
                    "output_type": "stream",
                    "text": [
                        "(\n",
                        "(\n",
                        "0\n"
                    ]
                }
            ],
            "source": [
                "test_solution(\"\"\"(\"\"\") # 0"
            ]
        },
        {
            "cell_type": "code",
            "execution_count": null,
            "metadata": {},
            "outputs": [
                {
                    "name": "stdout",
                    "output_type": "stream",
                    "text": [
                        "()([]\n",
                        "(\n",
                        " )\n",
                        "  depth = 1\n",
                        "  par = '('\n",
                        "  answer = [[2], [], [], [], [], [], [], [], [], [], [], [], [], [], [], [], [], [], [], [], [], [], [], [], [], [], [], [], [], []]\n",
                        "(\n",
                        " [\n",
                        "  ]\n",
                        "   depth = 2\n",
                        "   par = '['\n",
                        "   answer = [[2, 1], [3], [], [], [], [], [], [], [], [], [], [], [], [], [], [], [], [], [], [], [], [], [], [], [], [], [], [], [], []]\n",
                        "0\n"
                    ]
                }
            ],
            "source": [
                "test_solution(\"\"\"()([]\"\"\") # 0"
            ]
        },
        {
            "cell_type": "code",
            "execution_count": null,
            "metadata": {},
            "outputs": [
                {
                    "name": "stdout",
                    "output_type": "stream",
                    "text": [
                        "((\n",
                        "(\n",
                        " (\n",
                        "0\n"
                    ]
                }
            ],
            "source": [
                "test_solution(\"\"\"((\"\"\") # 0"
            ]
        },
        {
            "cell_type": "code",
            "execution_count": null,
            "metadata": {},
            "outputs": [
                {
                    "name": "stdout",
                    "output_type": "stream",
                    "text": [
                        "]()\n",
                        "]\n",
                        " depth = 0\n",
                        "0\n"
                    ]
                }
            ],
            "source": [
                "test_solution(\"\"\"]()\"\"\") # 0"
            ]
        },
        {
            "cell_type": "code",
            "execution_count": null,
            "metadata": {},
            "outputs": [
                {
                    "name": "stdout",
                    "output_type": "stream",
                    "text": [
                        "(()\n",
                        "(\n",
                        " (\n",
                        "  )\n",
                        "   depth = 2\n",
                        "   par = '('\n",
                        "   answer = [[1], [2], [], [], [], [], [], [], [], [], [], [], [], [], [], [], [], [], [], [], [], [], [], [], [], [], [], [], [], []]\n",
                        "0\n"
                    ]
                }
            ],
            "source": [
                "test_solution(\"\"\"(()\"\"\") # 0"
            ]
        },
        {
            "cell_type": "code",
            "execution_count": null,
            "metadata": {},
            "outputs": [
                {
                    "name": "stdout",
                    "output_type": "stream",
                    "text": [
                        "())\n",
                        "(\n",
                        " )\n",
                        "  depth = 1\n",
                        "  par = '('\n",
                        "  answer = [[2], [], [], [], [], [], [], [], [], [], [], [], [], [], [], [], [], [], [], [], [], [], [], [], [], [], [], [], [], []]\n",
                        ")\n",
                        " depth = 0\n",
                        "0\n"
                    ]
                }
            ],
            "source": [
                "test_solution(\"\"\"())\"\"\") # 0"
            ]
        },
        {
            "cell_type": "code",
            "execution_count": null,
            "metadata": {},
            "outputs": [
                {
                    "name": "stdout",
                    "output_type": "stream",
                    "text": [
                        ")(\n",
                        ")\n",
                        " depth = 0\n",
                        "0\n"
                    ]
                }
            ],
            "source": [
                "test_solution(\"\"\")(\"\"\") # 0"
            ]
        },
        {
            "cell_type": "code",
            "execution_count": null,
            "metadata": {},
            "outputs": [
                {
                    "name": "stdout",
                    "output_type": "stream",
                    "text": [
                        "(()[[]])([])\n",
                        "(\n",
                        " (\n",
                        "  )\n",
                        "   depth = 2\n",
                        "   par = '('\n",
                        "   answer = [[1], [2], [], [], [], [], [], [], [], [], [], [], [], [], [], [], [], [], [], [], [], [], [], [], [], [], [], [], [], []]\n",
                        " [\n",
                        "  [\n",
                        "   ]\n",
                        "    depth = 3\n",
                        "    par = '['\n",
                        "    answer = [[1], [2, 1], [3], [], [], [], [], [], [], [], [], [], [], [], [], [], [], [], [], [], [], [], [], [], [], [], [], [], [], []]\n",
                        "  ]\n",
                        "   depth = 2\n",
                        "   par = '['\n",
                        "   answer = [[1], [2, 3], [3], [], [], [], [], [], [], [], [], [], [], [], [], [], [], [], [], [], [], [], [], [], [], [], [], [], [], []]\n",
                        "   answer = [[1], [2, 9], [], [], [], [], [], [], [], [], [], [], [], [], [], [], [], [], [], [], [], [], [], [], [], [], [], [], [], []]\n",
                        " )\n",
                        "  depth = 1\n",
                        "  par = '('\n",
                        "  answer = [[2], [2, 9], [], [], [], [], [], [], [], [], [], [], [], [], [], [], [], [], [], [], [], [], [], [], [], [], [], [], [], []]\n",
                        "  answer = [[22], [], [], [], [], [], [], [], [], [], [], [], [], [], [], [], [], [], [], [], [], [], [], [], [], [], [], [], [], []]\n",
                        "(\n",
                        " [\n",
                        "  ]\n",
                        "   depth = 2\n",
                        "   par = '['\n",
                        "   answer = [[22, 1], [3], [], [], [], [], [], [], [], [], [], [], [], [], [], [], [], [], [], [], [], [], [], [], [], [], [], [], [], []]\n",
                        " )\n",
                        "  depth = 1\n",
                        "  par = '('\n",
                        "  answer = [[22, 2], [3], [], [], [], [], [], [], [], [], [], [], [], [], [], [], [], [], [], [], [], [], [], [], [], [], [], [], [], []]\n",
                        "  answer = [[22, 6], [], [], [], [], [], [], [], [], [], [], [], [], [], [], [], [], [], [], [], [], [], [], [], [], [], [], [], [], []]\n",
                        "28\n"
                    ]
                }
            ],
            "source": [
                "test_solution(\"\"\"(()[[]])([])\"\"\") # 28"
            ]
        },
        {
            "cell_type": "code",
            "execution_count": 234,
            "metadata": {},
            "outputs": [
                {
                    "name": "stdout",
                    "output_type": "stream",
                    "text": [
                        "[][]((])\n",
                        "[\n",
                        " ]\n",
                        "  depth = 1\n",
                        "  par = '['\n",
                        "  answer = [[3], [], [], [], [], [], [], [], [], [], [], [], [], [], [], [], [], [], [], [], [], [], [], [], [], [], [], [], [], []]\n",
                        "[\n",
                        " ]\n",
                        "  depth = 1\n",
                        "  par = '['\n",
                        "  answer = [[3, 3], [], [], [], [], [], [], [], [], [], [], [], [], [], [], [], [], [], [], [], [], [], [], [], [], [], [], [], [], []]\n",
                        "(\n",
                        " (\n",
                        "  ]\n",
                        "   depth = 2\n",
                        "   par = '('\n",
                        "0\n"
                    ]
                }
            ],
            "source": [
                "test_solution(\"\"\"[][]((])\"\"\") # 0"
            ]
        }
    ],
    "metadata": {
        "interpreter": {
            "hash": "72904a014a9ffe38f4c58942120b599b3c5a87d06764037548e0139929c1cde3"
        },
        "kernelspec": {
            "display_name": "Python 3.10.4 ('venv': venv)",
            "language": "python",
            "name": "python3"
        },
        "language_info": {
            "codemirror_mode": {
                "name": "ipython",
                "version": 3
            },
            "file_extension": ".py",
            "mimetype": "text/x-python",
            "name": "python",
            "nbconvert_exporter": "python",
            "pygments_lexer": "ipython3",
            "version": "3.10.4"
        },
        "orig_nbformat": 4
    },
    "nbformat": 4,
    "nbformat_minor": 2
}
