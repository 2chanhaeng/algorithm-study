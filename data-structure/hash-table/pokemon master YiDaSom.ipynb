{
 "cells": [
  {
   "cell_type": "markdown",
   "metadata": {},
   "source": [
    "# [사이트/문제_제목](링크)"
   ]
  },
  {
   "cell_type": "markdown",
   "metadata": {},
   "source": [
    "## 풀이과정"
   ]
  },
  {
   "cell_type": "markdown",
   "metadata": {},
   "source": [
    "### 첫번째 시도"
   ]
  },
  {
   "cell_type": "markdown",
   "metadata": {},
   "source": [
    "풀이과정"
   ]
  },
  {
   "cell_type": "code",
   "execution_count": null,
   "metadata": {},
   "outputs": [],
   "source": [
    "input = iter(open(0).read().split()).__next__\n",
    "\n",
    "\n",
    "def solution(input):\n",
    "    n, Q = int(input()), int(input())\n",
    "    n += 1\n",
    "    id_name = {str(i): input().strip() for i in range(1, n)}\n",
    "    name_id = {j: i for i, j in id_name.items()}\n",
    "    for i in range(Q):\n",
    "        if (q := input()) in id_name:\n",
    "            print(id_name[q])\n",
    "        else:\n",
    "            print(name_id[q])\n",
    "\n",
    "\n",
    "solution(input)"
   ]
  },
  {
   "cell_type": "markdown",
   "metadata": {},
   "source": [
    "## 해답"
   ]
  },
  {
   "cell_type": "code",
   "execution_count": null,
   "metadata": {},
   "outputs": [],
   "source": [
    "input = iter(open(0).read().split()).__next__"
   ]
  },
  {
   "cell_type": "code",
   "execution_count": 11,
   "metadata": {},
   "outputs": [],
   "source": [
    "def solution(input):\n",
    "    n, Q = int(input()), int(input())\n",
    "    n += 1\n",
    "    id_name = {str(i): input().strip() for i in range(1, n)}\n",
    "    name_id = {j: i for i, j in id_name.items()}\n",
    "    for i in range(Q):\n",
    "        if (q := input()) in id_name:\n",
    "            print(id_name[q])\n",
    "        else:\n",
    "            print(name_id[q])"
   ]
  },
  {
   "cell_type": "code",
   "execution_count": null,
   "metadata": {},
   "outputs": [],
   "source": [
    "solution(input)"
   ]
  },
  {
   "cell_type": "markdown",
   "metadata": {},
   "source": [
    "## 테스트 결과"
   ]
  },
  {
   "cell_type": "markdown",
   "metadata": {},
   "source": [
    "|테스트|결과|\n",
    "|---:|:---|"
   ]
  },
  {
   "cell_type": "markdown",
   "metadata": {},
   "source": [
    "## 예제"
   ]
  },
  {
   "cell_type": "code",
   "execution_count": 12,
   "metadata": {},
   "outputs": [],
   "source": [
    "# 백준식 실행 코드\n",
    "def solution_example(input_, solution=solution):\n",
    "    input_ = iter(input_.split(\"\\n\"))\n",
    "    input = input_.__next__\n",
    "    solution(input)\n",
    "\n",
    "\n",
    "# solution_example(\"\"\"\"\"\")\n",
    "# solution_example(read(\"fn\").read())"
   ]
  },
  {
   "cell_type": "code",
   "execution_count": 13,
   "metadata": {},
   "outputs": [
    {
     "name": "stdout",
     "output_type": "stream",
     "text": [
      "Pikachu\n",
      "26\n",
      "Venusaur\n",
      "16\n",
      "14\n"
     ]
    }
   ],
   "source": [
    "solution_example(\n",
    "    \"\"\"26 5\n",
    "Bulbasaur\n",
    "Ivysaur\n",
    "Venusaur\n",
    "Charmander\n",
    "Charmeleon\n",
    "Charizard\n",
    "Squirtle\n",
    "Wartortle\n",
    "Blastoise\n",
    "Caterpie\n",
    "Metapod\n",
    "Butterfree\n",
    "Weedle\n",
    "Kakuna\n",
    "Beedrill\n",
    "Pidgey\n",
    "Pidgeotto\n",
    "Pidgeot\n",
    "Rattata\n",
    "Raticate\n",
    "Spearow\n",
    "Fearow\n",
    "Ekans\n",
    "Arbok\n",
    "Pikachu\n",
    "Raichu\n",
    "25\n",
    "Raichu\n",
    "3\n",
    "Pidgey\n",
    "Kakuna\"\"\"\n",
    ")\n",
    "# 예제 코드"
   ]
  }
 ],
 "metadata": {
  "interpreter": {
   "hash": "73891b0dc2e53390f36276e59930dd4ecab91b05b5c90320c2d5b1c443f87069"
  },
  "kernelspec": {
   "display_name": "Python 3.10.1 ('venv': venv)",
   "language": "python",
   "name": "python3"
  },
  "language_info": {
   "codemirror_mode": {
    "name": "ipython",
    "version": 3
   },
   "file_extension": ".py",
   "mimetype": "text/x-python",
   "name": "python",
   "nbconvert_exporter": "python",
   "pygments_lexer": "ipython3",
   "version": "3.10.2"
  },
  "orig_nbformat": 4
 },
 "nbformat": 4,
 "nbformat_minor": 2
}
