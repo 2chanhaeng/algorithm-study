{
 "cells": [
  {
   "cell_type": "markdown",
   "metadata": {},
   "source": [
    "# [백준/노드사이의 거리](https://www.acmicpc.net/problem/1240)"
   ]
  },
  {
   "cell_type": "markdown",
   "metadata": {},
   "source": [
    "## 풀이과정"
   ]
  },
  {
   "cell_type": "markdown",
   "metadata": {},
   "source": [
    "### 첫번째 시도"
   ]
  },
  {
   "cell_type": "markdown",
   "metadata": {},
   "source": [
    "풀이과정"
   ]
  },
  {
   "cell_type": "code",
   "execution_count": null,
   "metadata": {},
   "outputs": [],
   "source": [
    "# 풀이 코드\n"
   ]
  },
  {
   "cell_type": "markdown",
   "metadata": {},
   "source": [
    "## 해답"
   ]
  },
  {
   "cell_type": "code",
   "execution_count": 10,
   "metadata": {},
   "outputs": [],
   "source": [
    "def solution(N, M, lines, howlongs):\n",
    "    tree = {i:{} for i in range(1,N+1)}\n",
    "    for A, B, l in lines:\n",
    "        tree[A][B], tree[B][A] = l, l\n",
    "    for A in range(1, N):\n",
    "        treeA = tree[A]\n",
    "        for B, treeAB in range(A + 1, ):\n",
    "            add2B = {i: j + treeAB for i, j in tree[A].items() if i != B}\n",
    "            add2A = {i: j + treeAB for i, j in tree[B].items() if i != A}\n",
    "            tree[A] |= add2A\n",
    "            tree[B] |= add2B\n",
    "    print(tree)\n",
    "    for A, B in howlongs:\n",
    "        print(tree[A][B])\n"
   ]
  },
  {
   "cell_type": "markdown",
   "metadata": {},
   "source": [
    "## 테스트 결과"
   ]
  },
  {
   "cell_type": "markdown",
   "metadata": {},
   "source": [
    "|테스트|결과|\n",
    "|---:|:---|"
   ]
  },
  {
   "cell_type": "markdown",
   "metadata": {},
   "source": [
    "## 예제"
   ]
  },
  {
   "cell_type": "code",
   "execution_count": 11,
   "metadata": {},
   "outputs": [],
   "source": [
    "# 백준식 실행 코드\n",
    "def preprocess_example(input_:str):\n",
    "    input_ = input_.split(\"\\n\")\n",
    "    N, M = map(int, input_.pop(0).split()) # 한 줄\n",
    "    lines = [list(map(int, input_.pop(0).split())) for i in range(N - 1)] # l 줄\n",
    "    howlongs = [list(map(int, input_.pop(0).split())) for i in range(M)] # l 줄\n",
    "    return N, M, lines, howlongs\n",
    "def solution_example(input_):\n",
    "    input_ = preprocess_example(input_)\n",
    "    print(solution(*input_))"
   ]
  },
  {
   "cell_type": "code",
   "execution_count": 12,
   "metadata": {},
   "outputs": [
    {
     "ename": "RuntimeError",
     "evalue": "dictionary changed size during iteration",
     "output_type": "error",
     "traceback": [
      "\u001b[1;31m---------------------------------------------------------------------------\u001b[0m",
      "\u001b[1;31mRuntimeError\u001b[0m                              Traceback (most recent call last)",
      "\u001b[1;32mc:\\Users\\이찬행\\OneDrive - 충남대학교\\문서\\GitHub\\algorithm-study\\data-structure\\tree\\distance of between nodes.ipynb Cell 12'\u001b[0m in \u001b[0;36m<cell line: 1>\u001b[1;34m()\u001b[0m\n\u001b[1;32m----> <a href='vscode-notebook-cell:/c%3A/Users/%EC%9D%B4%EC%B0%AC%ED%96%89/OneDrive%20-%20%EC%B6%A9%EB%82%A8%EB%8C%80%ED%95%99%EA%B5%90/%EB%AC%B8%EC%84%9C/GitHub/algorithm-study/data-structure/tree/distance%20of%20between%20nodes.ipynb#ch0000011?line=0'>1</a>\u001b[0m solution_example(\u001b[39m\"\"\"\u001b[39;49m\u001b[39m4 2\u001b[39;49m\n\u001b[0;32m      <a href='vscode-notebook-cell:/c%3A/Users/%EC%9D%B4%EC%B0%AC%ED%96%89/OneDrive%20-%20%EC%B6%A9%EB%82%A8%EB%8C%80%ED%95%99%EA%B5%90/%EB%AC%B8%EC%84%9C/GitHub/algorithm-study/data-structure/tree/distance%20of%20between%20nodes.ipynb#ch0000011?line=1'>2</a>\u001b[0m \u001b[39m2 1 2\u001b[39;49m\n\u001b[0;32m      <a href='vscode-notebook-cell:/c%3A/Users/%EC%9D%B4%EC%B0%AC%ED%96%89/OneDrive%20-%20%EC%B6%A9%EB%82%A8%EB%8C%80%ED%95%99%EA%B5%90/%EB%AC%B8%EC%84%9C/GitHub/algorithm-study/data-structure/tree/distance%20of%20between%20nodes.ipynb#ch0000011?line=2'>3</a>\u001b[0m \u001b[39m4 3 2\u001b[39;49m\n\u001b[0;32m      <a href='vscode-notebook-cell:/c%3A/Users/%EC%9D%B4%EC%B0%AC%ED%96%89/OneDrive%20-%20%EC%B6%A9%EB%82%A8%EB%8C%80%ED%95%99%EA%B5%90/%EB%AC%B8%EC%84%9C/GitHub/algorithm-study/data-structure/tree/distance%20of%20between%20nodes.ipynb#ch0000011?line=3'>4</a>\u001b[0m \u001b[39m1 4 3\u001b[39;49m\n\u001b[0;32m      <a href='vscode-notebook-cell:/c%3A/Users/%EC%9D%B4%EC%B0%AC%ED%96%89/OneDrive%20-%20%EC%B6%A9%EB%82%A8%EB%8C%80%ED%95%99%EA%B5%90/%EB%AC%B8%EC%84%9C/GitHub/algorithm-study/data-structure/tree/distance%20of%20between%20nodes.ipynb#ch0000011?line=4'>5</a>\u001b[0m \u001b[39m1 2\u001b[39;49m\n\u001b[0;32m      <a href='vscode-notebook-cell:/c%3A/Users/%EC%9D%B4%EC%B0%AC%ED%96%89/OneDrive%20-%20%EC%B6%A9%EB%82%A8%EB%8C%80%ED%95%99%EA%B5%90/%EB%AC%B8%EC%84%9C/GitHub/algorithm-study/data-structure/tree/distance%20of%20between%20nodes.ipynb#ch0000011?line=5'>6</a>\u001b[0m \u001b[39m3 2\u001b[39;49m\u001b[39m\"\"\"\u001b[39;49m)\n",
      "\u001b[1;32mc:\\Users\\이찬행\\OneDrive - 충남대학교\\문서\\GitHub\\algorithm-study\\data-structure\\tree\\distance of between nodes.ipynb Cell 11'\u001b[0m in \u001b[0;36msolution_example\u001b[1;34m(input_)\u001b[0m\n\u001b[0;32m      <a href='vscode-notebook-cell:/c%3A/Users/%EC%9D%B4%EC%B0%AC%ED%96%89/OneDrive%20-%20%EC%B6%A9%EB%82%A8%EB%8C%80%ED%95%99%EA%B5%90/%EB%AC%B8%EC%84%9C/GitHub/algorithm-study/data-structure/tree/distance%20of%20between%20nodes.ipynb#ch0000010?line=7'>8</a>\u001b[0m \u001b[39mdef\u001b[39;00m \u001b[39msolution_example\u001b[39m(input_):\n\u001b[0;32m      <a href='vscode-notebook-cell:/c%3A/Users/%EC%9D%B4%EC%B0%AC%ED%96%89/OneDrive%20-%20%EC%B6%A9%EB%82%A8%EB%8C%80%ED%95%99%EA%B5%90/%EB%AC%B8%EC%84%9C/GitHub/algorithm-study/data-structure/tree/distance%20of%20between%20nodes.ipynb#ch0000010?line=8'>9</a>\u001b[0m     input_ \u001b[39m=\u001b[39m preprocess_example(input_)\n\u001b[1;32m---> <a href='vscode-notebook-cell:/c%3A/Users/%EC%9D%B4%EC%B0%AC%ED%96%89/OneDrive%20-%20%EC%B6%A9%EB%82%A8%EB%8C%80%ED%95%99%EA%B5%90/%EB%AC%B8%EC%84%9C/GitHub/algorithm-study/data-structure/tree/distance%20of%20between%20nodes.ipynb#ch0000010?line=9'>10</a>\u001b[0m     \u001b[39mprint\u001b[39m(solution(\u001b[39m*\u001b[39;49minput_))\n",
      "\u001b[1;32mc:\\Users\\이찬행\\OneDrive - 충남대학교\\문서\\GitHub\\algorithm-study\\data-structure\\tree\\distance of between nodes.ipynb Cell 7'\u001b[0m in \u001b[0;36msolution\u001b[1;34m(N, M, lines, howlongs)\u001b[0m\n\u001b[0;32m      <a href='vscode-notebook-cell:/c%3A/Users/%EC%9D%B4%EC%B0%AC%ED%96%89/OneDrive%20-%20%EC%B6%A9%EB%82%A8%EB%8C%80%ED%95%99%EA%B5%90/%EB%AC%B8%EC%84%9C/GitHub/algorithm-study/data-structure/tree/distance%20of%20between%20nodes.ipynb#ch0000006?line=3'>4</a>\u001b[0m     tree[A][B], tree[B][A] \u001b[39m=\u001b[39m l, l\n\u001b[0;32m      <a href='vscode-notebook-cell:/c%3A/Users/%EC%9D%B4%EC%B0%AC%ED%96%89/OneDrive%20-%20%EC%B6%A9%EB%82%A8%EB%8C%80%ED%95%99%EA%B5%90/%EB%AC%B8%EC%84%9C/GitHub/algorithm-study/data-structure/tree/distance%20of%20between%20nodes.ipynb#ch0000006?line=4'>5</a>\u001b[0m \u001b[39mfor\u001b[39;00m A, treeA \u001b[39min\u001b[39;00m tree\u001b[39m.\u001b[39mitems():\n\u001b[1;32m----> <a href='vscode-notebook-cell:/c%3A/Users/%EC%9D%B4%EC%B0%AC%ED%96%89/OneDrive%20-%20%EC%B6%A9%EB%82%A8%EB%8C%80%ED%95%99%EA%B5%90/%EB%AC%B8%EC%84%9C/GitHub/algorithm-study/data-structure/tree/distance%20of%20between%20nodes.ipynb#ch0000006?line=5'>6</a>\u001b[0m     \u001b[39mfor\u001b[39;00m B, treeAB \u001b[39min\u001b[39;00m treeA\u001b[39m.\u001b[39mitems():\n\u001b[0;32m      <a href='vscode-notebook-cell:/c%3A/Users/%EC%9D%B4%EC%B0%AC%ED%96%89/OneDrive%20-%20%EC%B6%A9%EB%82%A8%EB%8C%80%ED%95%99%EA%B5%90/%EB%AC%B8%EC%84%9C/GitHub/algorithm-study/data-structure/tree/distance%20of%20between%20nodes.ipynb#ch0000006?line=6'>7</a>\u001b[0m         add2B \u001b[39m=\u001b[39m {i: j \u001b[39m+\u001b[39m treeAB \u001b[39mfor\u001b[39;00m i, j \u001b[39min\u001b[39;00m tree[A]\u001b[39m.\u001b[39mitems() \u001b[39mif\u001b[39;00m i \u001b[39m!=\u001b[39m B}\n\u001b[0;32m      <a href='vscode-notebook-cell:/c%3A/Users/%EC%9D%B4%EC%B0%AC%ED%96%89/OneDrive%20-%20%EC%B6%A9%EB%82%A8%EB%8C%80%ED%95%99%EA%B5%90/%EB%AC%B8%EC%84%9C/GitHub/algorithm-study/data-structure/tree/distance%20of%20between%20nodes.ipynb#ch0000006?line=7'>8</a>\u001b[0m         add2A \u001b[39m=\u001b[39m {i: j \u001b[39m+\u001b[39m treeAB \u001b[39mfor\u001b[39;00m i, j \u001b[39min\u001b[39;00m tree[B]\u001b[39m.\u001b[39mitems() \u001b[39mif\u001b[39;00m i \u001b[39m!=\u001b[39m A}\n",
      "\u001b[1;31mRuntimeError\u001b[0m: dictionary changed size during iteration"
     ]
    }
   ],
   "source": [
    "solution_example(\"\"\"4 2\n",
    "2 1 2\n",
    "4 3 2\n",
    "1 4 3\n",
    "1 2\n",
    "3 2\"\"\")"
   ]
  }
 ],
 "metadata": {
  "interpreter": {
   "hash": "73891b0dc2e53390f36276e59930dd4ecab91b05b5c90320c2d5b1c443f87069"
  },
  "kernelspec": {
   "display_name": "Python 3.10.1 ('venv': venv)",
   "language": "python",
   "name": "python3"
  },
  "language_info": {
   "codemirror_mode": {
    "name": "ipython",
    "version": 3
   },
   "file_extension": ".py",
   "mimetype": "text/x-python",
   "name": "python",
   "nbconvert_exporter": "python",
   "pygments_lexer": "ipython3",
   "version": "3.10.2"
  },
  "orig_nbformat": 4
 },
 "nbformat": 4,
 "nbformat_minor": 2
}
