{
    "cells": [
        {
            "cell_type": "markdown",
            "metadata": {},
            "source": [
                "# [백준/노드사이의 거리](https://www.acmicpc.net/problem/1240)\n"
            ]
        },
        {
            "cell_type": "markdown",
            "metadata": {},
            "source": [
                "## 풀이과정\n"
            ]
        },
        {
            "cell_type": "markdown",
            "metadata": {},
            "source": [
                "### 첫번째 시도\n"
            ]
        },
        {
            "cell_type": "markdown",
            "metadata": {},
            "source": [
                "#### 풀이과정\n",
                "\n",
                "플로이드-와셜로 풀려고 했더니 $1000^3$이라 시간초과가 났다.\n",
                "그래서 그냥 그때그때 bfs로 풀었다.\n"
            ]
        },
        {
            "cell_type": "code",
            "execution_count": null,
            "metadata": {},
            "outputs": [],
            "source": [
                "from collections import defaultdict as dd\n",
                "\n",
                "\n",
                "def init(inputs):\n",
                "    tree = dd(dict)\n",
                "    for a, b, v in inputs:\n",
                "        tree[a][b] = v\n",
                "        tree[b][a] = v\n",
                "    for a in tree:\n",
                "        tree[a][a] = 0\n",
                "    return tree\n",
                "\n",
                "\n",
                "def bfs(tree: dd[int, dict[int, int]], start: int, end: int) -> str:\n",
                "    visited = {start}\n",
                "    tovisit: list[tuple[int, int]] = [(start, 0)]\n",
                "    for curr, dist in iter(tovisit):\n",
                "        if curr == end:\n",
                "            return str(dist)\n",
                "        visited.add(curr)\n",
                "        for k, v in tree[curr].items():\n",
                "            if k not in visited:\n",
                "                tovisit.append((k, dist + v))\n",
                "    return \"\"\n",
                "\n",
                "\n",
                "def query(tree, inputs):\n",
                "    return \"\\n\".join(bfs(tree, a, b) for a, b in inputs)\n",
                "\n",
                "\n",
                "def solution():\n",
                "    import sys\n",
                "\n",
                "    input = lambda: map(int, sys.stdin.readline().split())\n",
                "    NODE, QUERY = input()\n",
                "    tree = init((input() for _ in range(NODE - 1)))\n",
                "    print(query(tree, (input() for _ in range(QUERY))))\n",
                "\n",
                "\n",
                "solution()"
            ]
        },
        {
            "cell_type": "markdown",
            "metadata": {},
            "source": [
                "### 두번째 시도\n"
            ]
        },
        {
            "cell_type": "markdown",
            "metadata": {},
            "source": [
                "#### 풀이과정\n",
                "\n",
                "이 글이 작성되는 시점 기준 [Python 1위인 풀이](https://www.acmicpc.net/source/53129712)를 포함한 상위권 풀이들을 참고해보니 DFS로 루트 노드로부터의 깊이를 모두 구한 뒤 두 노드의 공통 조상으로부터 깊이 차이를 합해 구하는 방식으로 풀고 있었다.\n",
                "아래는 상기한 1위 코드를 참고해 작성한 코드이다.\n"
            ]
        },
        {
            "cell_type": "code",
            "execution_count": null,
            "metadata": {},
            "outputs": [],
            "source": [
                "# refer https://www.acmicpc.net/source/53129712\n",
                "\n",
                "\n",
                "def init(inputs):\n",
                "    tree = {}\n",
                "    for a, b, c in inputs:\n",
                "        tree.setdefault(a, {})[b] = c\n",
                "        tree.setdefault(b, {})[a] = c\n",
                "    return tree\n",
                "\n",
                "\n",
                "def dive(tree):\n",
                "    depths: dict[int, tuple[int, int, int]] = {1: (0, -1, 0)}\n",
                "    queue: list[tuple[int, int, int]] = [(1, 0, 0)]\n",
                "    for node, dist, depth in iter(queue):\n",
                "        for i in (i for i in tree[node] if i not in depths):\n",
                "            queue.append((i, dist + tree[node][i], depth + 1))\n",
                "            depths[i] = dist + tree[node][i], node, depth + 1\n",
                "    return depths\n",
                "\n",
                "\n",
                "def query(depths):\n",
                "    def climb(a, b):\n",
                "        while depths[a][2] > depths[b][2]:\n",
                "            a = depths[a][1]\n",
                "        return a\n",
                "\n",
                "    def descend(a, b):\n",
                "        while a != b:\n",
                "            a = depths[a][1]\n",
                "            b = depths[b][1]\n",
                "        return depths[a][0]\n",
                "\n",
                "    def inner(a, b):\n",
                "        return str(depths[a][0] + depths[b][0] - 2 * descend(climb(a, b), climb(b, a)))\n",
                "\n",
                "    return inner\n",
                "\n",
                "\n",
                "def solution():\n",
                "    import sys\n",
                "\n",
                "    input = lambda: map(int, sys.stdin.readline().split())\n",
                "    N, M = input()\n",
                "    dist = query(dive(init(input() for _ in range(N - 1))))\n",
                "    print(\" \".join(dist(a, b) for a, b in (input() for _ in range(M))))\n",
                "\n",
                "\n",
                "solution()"
            ]
        },
        {
            "cell_type": "markdown",
            "metadata": {},
            "source": [
                "## 해답\n"
            ]
        },
        {
            "cell_type": "code",
            "execution_count": 1,
            "metadata": {},
            "outputs": [],
            "source": [
                "def init(inputs):\n",
                "    tree = {}\n",
                "    for a, b, c in inputs:\n",
                "        tree.setdefault(a, {})[b] = c\n",
                "        tree.setdefault(b, {})[a] = c\n",
                "    return tree"
            ]
        },
        {
            "cell_type": "code",
            "execution_count": 2,
            "metadata": {},
            "outputs": [],
            "source": [
                "def dive(tree):\n",
                "    depths: dict[int, tuple[int, int, int]] = {1: (0, -1, 0)}\n",
                "    queue: list[tuple[int, int, int]] = [(1, 0, 0)]\n",
                "    for node, dist, depth in iter(queue):\n",
                "        for i in (i for i in tree[node] if i not in depths):\n",
                "            queue.append((i, dist + tree[node][i], depth + 1))\n",
                "            depths[i] = dist + tree[node][i], node, depth + 1\n",
                "    return depths"
            ]
        },
        {
            "cell_type": "code",
            "execution_count": 3,
            "metadata": {},
            "outputs": [],
            "source": [
                "def query(depths):\n",
                "    def climb(a, b):\n",
                "        while depths[a][2] > depths[b][2]:\n",
                "            a = depths[a][1]\n",
                "        return a\n",
                "\n",
                "    def descend(a, b):\n",
                "        while a != b:\n",
                "            a = depths[a][1]\n",
                "            b = depths[b][1]\n",
                "        return depths[a][0]\n",
                "\n",
                "    def inner(a, b):\n",
                "        return str(depths[a][0] + depths[b][0] - 2 * descend(climb(a, b), climb(b, a)))\n",
                "\n",
                "    return inner"
            ]
        },
        {
            "cell_type": "code",
            "execution_count": 4,
            "metadata": {},
            "outputs": [],
            "source": [
                "def solution():\n",
                "    import sys\n",
                "\n",
                "    input = lambda: map(int, sys.stdin.readline().split())\n",
                "    N, M = input()\n",
                "    dist = query(dive(init(input() for _ in range(N - 1))))\n",
                "    print(\" \".join(dist(a, b) for a, b in (input() for _ in range(M))))"
            ]
        },
        {
            "cell_type": "markdown",
            "metadata": {},
            "source": [
                "## 예제\n"
            ]
        },
        {
            "cell_type": "code",
            "execution_count": 5,
            "metadata": {},
            "outputs": [],
            "source": [
                "# 백준 문제 풀이용 예제 실행 코드\n",
                "from bwj import test\n",
                "\n",
                "test_solution = test(solution)\n",
                "\n",
                "# test_solution(\"\"\"\"\"\")\n",
                "# test_solution(read(\"fn\").read())"
            ]
        },
        {
            "cell_type": "code",
            "execution_count": 6,
            "metadata": {},
            "outputs": [
                {
                    "name": "stdout",
                    "output_type": "stream",
                    "text": [
                        "0 1 1\n"
                    ]
                }
            ],
            "source": [
                "test_solution(\n",
                "    \"\"\"5 3\n",
                "1 2 1\n",
                "2 3 1\n",
                "3 4 10\n",
                "3 5 1\n",
                "1 1\n",
                "2 1\n",
                "1 2\n",
                "\"\"\"\n",
                ")\n",
                "# answer:\n",
                "# 0"
            ]
        },
        {
            "cell_type": "code",
            "execution_count": 7,
            "metadata": {},
            "outputs": [
                {
                    "name": "stdout",
                    "output_type": "stream",
                    "text": [
                        "3\n"
                    ]
                }
            ],
            "source": [
                "test_solution(\n",
                "    \"\"\"5 1\n",
                "1 2 1\n",
                "2 3 1\n",
                "3 4 10\n",
                "3 5 1\n",
                "1 5\n",
                "\"\"\"\n",
                ")\n",
                "# answer:\n",
                "# 3"
            ]
        },
        {
            "cell_type": "code",
            "execution_count": 8,
            "metadata": {},
            "outputs": [
                {
                    "name": "stdout",
                    "output_type": "stream",
                    "text": [
                        "1 1 4\n"
                    ]
                }
            ],
            "source": [
                "test_solution(\n",
                "    \"\"\"5 3\n",
                "4 5 1\n",
                "3 5 1\n",
                "2 1 1\n",
                "1 3 1\n",
                "1 2\n",
                "1 3\n",
                "4 2\n",
                "\"\"\"\n",
                ")\n",
                "# answer:\n",
                "# 1\n",
                "# 1\n",
                "# 4"
            ]
        },
        {
            "cell_type": "code",
            "execution_count": 9,
            "metadata": {},
            "outputs": [
                {
                    "name": "stdout",
                    "output_type": "stream",
                    "text": [
                        "2 2\n"
                    ]
                }
            ],
            "source": [
                "test_solution(\n",
                "    \"\"\"4 2\n",
                "1 2 1\n",
                "2 3 1\n",
                "2 4 1\n",
                "1 3\n",
                "1 4\n",
                "\"\"\"\n",
                ")\n",
                "# answer:\n",
                "# 2\n",
                "# 2"
            ]
        },
        {
            "cell_type": "code",
            "execution_count": 10,
            "metadata": {},
            "outputs": [
                {
                    "name": "stdout",
                    "output_type": "stream",
                    "text": [
                        "2 7\n"
                    ]
                }
            ],
            "source": [
                "test_solution(\n",
                "    \"\"\"4 2\n",
                "2 1 2\n",
                "4 3 2\n",
                "1 4 3\n",
                "1 2\n",
                "3 2\n",
                "\"\"\"\n",
                ")\n",
                "# answer:\n",
                "# 2\n",
                "# 7"
            ]
        }
    ],
    "metadata": {
        "interpreter": {
            "hash": "73891b0dc2e53390f36276e59930dd4ecab91b05b5c90320c2d5b1c443f87069"
        },
        "kernelspec": {
            "display_name": "Python 3.10.1 ('venv': venv)",
            "language": "python",
            "name": "python3"
        },
        "language_info": {
            "codemirror_mode": {
                "name": "ipython",
                "version": 3
            },
            "file_extension": ".py",
            "mimetype": "text/x-python",
            "name": "python",
            "nbconvert_exporter": "python",
            "pygments_lexer": "ipython3",
            "version": "3.12.2"
        },
        "orig_nbformat": 4
    },
    "nbformat": 4,
    "nbformat_minor": 2
}
