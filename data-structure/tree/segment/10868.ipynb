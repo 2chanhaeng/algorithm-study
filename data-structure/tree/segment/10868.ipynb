{
 "cells": [
  {
   "cell_type": "markdown",
   "metadata": {},
   "source": [
    "# [백준/최솟값](https://www.acmicpc.net/problem/10868)"
   ]
  },
  {
   "cell_type": "markdown",
   "metadata": {},
   "source": [
    "## 풀이과정"
   ]
  },
  {
   "cell_type": "markdown",
   "metadata": {},
   "source": [
    "### 첫번째 시도"
   ]
  },
  {
   "cell_type": "markdown",
   "metadata": {},
   "source": [
    "#### 풀이과정"
   ]
  },
  {
   "cell_type": "code",
   "execution_count": null,
   "metadata": {},
   "outputs": [],
   "source": [
    "def solution():\n",
    "    import sys\n",
    "    from math import inf, ceil, sqrt, log2\n",
    "\n",
    "    inputs = list(map(int, sys.stdin.read().split()))\n",
    "    n, m = inputs[0], inputs[1]\n",
    "    nums = inputs[2 : n + 2]\n",
    "    treel = 1 << ceil(log2(n)) + 1\n",
    "    mtree = [inf] * treel\n",
    "\n",
    "    def build(curr, start, end):\n",
    "        if start == end:\n",
    "            mtree[curr] = nums[start]\n",
    "        else:\n",
    "            mid = (start + end) // 2\n",
    "            c2 = curr * 2\n",
    "            mtree[curr] = min(build(c2, start, mid), build(c2 + 1, mid + 1, end))\n",
    "        return mtree[curr]\n",
    "\n",
    "    build(1, 0, n - 1)\n",
    "\n",
    "    def query(curr, start, end, l, r):\n",
    "        if l > end or r < start:\n",
    "            return inf\n",
    "        if l <= start and end <= r:\n",
    "            return mtree[curr]\n",
    "        mid = (start + end) // 2\n",
    "        c2 = curr * 2\n",
    "        return min(query(c2, start, mid, l, r), query(c2 + 1, mid + 1, end, l, r))\n",
    "\n",
    "    n2 = n + 2\n",
    "    for i in range(0, 2 * m, 2):\n",
    "        print(query(1, 0, n - 1, inputs[n2 + i] - 1, inputs[n2 + i + 1] - 1))\n",
    "\n",
    "\n",
    "solution()"
   ]
  },
  {
   "cell_type": "markdown",
   "metadata": {},
   "source": [
    "## 해답"
   ]
  },
  {
   "cell_type": "code",
   "execution_count": 1,
   "metadata": {},
   "outputs": [],
   "source": [
    "def solution():\n",
    "    import sys\n",
    "    from math import inf, ceil, sqrt, log2\n",
    "\n",
    "    inputs = list(map(int, sys.stdin.read().split()))\n",
    "    n, m = inputs[0], inputs[1]\n",
    "    nums = inputs[2 : n + 2]\n",
    "    treel = 1 << ceil(log2(n)) + 1\n",
    "    mtree = [inf] * treel\n",
    "\n",
    "    def build(curr, start, end):\n",
    "        if start == end:\n",
    "            mtree[curr] = nums[start]\n",
    "        else:\n",
    "            mid = (start + end) // 2\n",
    "            c2 = curr * 2\n",
    "            mtree[curr] = min(build(c2, start, mid), build(c2 + 1, mid + 1, end))\n",
    "        return mtree[curr]\n",
    "\n",
    "    build(1, 0, n - 1)\n",
    "\n",
    "    def query(curr, start, end, l, r):\n",
    "        if l > end or r < start:\n",
    "            return inf\n",
    "        if l <= start and end <= r:\n",
    "            return mtree[curr]\n",
    "        mid = (start + end) // 2\n",
    "        c2 = curr * 2\n",
    "        return min(query(c2, start, mid, l, r), query(c2 + 1, mid + 1, end, l, r))\n",
    "\n",
    "    n2 = n + 2\n",
    "    for i in range(0, 2 * m, 2):\n",
    "        print(query(1, 0, n - 1, inputs[n2 + i] - 1, inputs[n2 + i + 1] - 1))"
   ]
  },
  {
   "cell_type": "markdown",
   "metadata": {},
   "source": [
    "## 예제"
   ]
  },
  {
   "cell_type": "code",
   "execution_count": 2,
   "metadata": {},
   "outputs": [],
   "source": [
    "# black 모듈을 jupyter notebook 내에서 사용 가능하게 만들어주는 blackcellmagic 모듈 불러오기\n",
    "%load_ext blackcellmagic\n",
    "# %%black\n",
    "\n",
    "# 백준 문제 풀이용 예제 실행 코드\n",
    "from bwj import test\n",
    "\n",
    "test_solution = test(solution)\n",
    "\n",
    "# test_solution(\"\"\"\"\"\")\n",
    "# test_solution(read(\"fn\").read())"
   ]
  },
  {
   "cell_type": "code",
   "execution_count": 3,
   "metadata": {},
   "outputs": [
    {
     "name": "stdout",
     "output_type": "stream",
     "text": [
      "5\n",
      "38\n",
      "20\n",
      "5\n"
     ]
    }
   ],
   "source": [
    "test_solution(\n",
    "    \"\"\"10 4\n",
    "75\n",
    "30\n",
    "100\n",
    "38\n",
    "50\n",
    "51\n",
    "52\n",
    "20\n",
    "81\n",
    "5\n",
    "1 10\n",
    "3 5\n",
    "6 9\n",
    "8 10\n",
    "\"\"\"\n",
    ")\n",
    "# answer:\n",
    "# 5\n",
    "# 38\n",
    "# 20\n",
    "# 5"
   ]
  }
 ],
 "metadata": {
  "kernelspec": {
   "display_name": "venv",
   "language": "python",
   "name": "python3"
  },
  "language_info": {
   "codemirror_mode": {
    "name": "ipython",
    "version": 3
   },
   "file_extension": ".py",
   "mimetype": "text/x-python",
   "name": "python",
   "nbconvert_exporter": "python",
   "pygments_lexer": "ipython3",
   "version": "3.10.8 (main, Oct 13 2022, 09:48:40) [Clang 14.0.0 (clang-1400.0.29.102)]"
  },
  "orig_nbformat": 4,
  "vscode": {
   "interpreter": {
    "hash": "72904a014a9ffe38f4c58942120b599b3c5a87d06764037548e0139929c1cde3"
   }
  }
 },
 "nbformat": 4,
 "nbformat_minor": 2
}
