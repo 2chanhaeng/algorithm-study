{
    "cells": [
        {
            "cell_type": "markdown",
            "metadata": {},
            "source": [
                "# [백준/구간 합 구하기](https://www.acmicpc.net/problem/2042)\n"
            ]
        },
        {
            "cell_type": "markdown",
            "metadata": {},
            "source": [
                "## 풀이과정\n"
            ]
        },
        {
            "cell_type": "markdown",
            "metadata": {},
            "source": [
                "### 첫번째 시도\n"
            ]
        },
        {
            "cell_type": "markdown",
            "metadata": {},
            "source": [
                "#### 풀이과정\n",
                "\n",
                "[안경잡이개발자 님의 41. 세그먼트 트리(Segment Tree)](https://m.blog.naver.com/ndb796/221282210534) 글을 보고 세그먼트 트리를 이용해 문제를 풀었다.\n"
            ]
        },
        {
            "cell_type": "code",
            "execution_count": null,
            "metadata": {},
            "outputs": [],
            "source": [
                "def segment_tree(N: int, nums: list[int]):\n",
                "    # refer https://m.blog.naver.com/ndb796/221282210534\n",
                "    tree = [0] * (4 * N)\n",
                "\n",
                "    def build(start, end, node):\n",
                "        if start == end:\n",
                "            tree[node] = nums[start]\n",
                "            return tree[node]\n",
                "        mid = (start + end) // 2\n",
                "        tree[node] = build(start, mid, node * 2) + build(mid + 1, end, node * 2 + 1)\n",
                "        return tree[node]\n",
                "\n",
                "    build(0, N - 1, 1)\n",
                "\n",
                "    def query(start, end, node, left, right):\n",
                "        if left > end or right < start:\n",
                "            return 0\n",
                "        if left <= start and end <= right:\n",
                "            return tree[node]\n",
                "        mid = (start + end) // 2\n",
                "        return query(start, mid, node * 2, left, right) + query(\n",
                "            mid + 1, end, node * 2 + 1, left, right\n",
                "        )\n",
                "\n",
                "    def update(start, end, node, index, value):\n",
                "        if index < start or index > end:\n",
                "            return\n",
                "        tree[node] += value\n",
                "        if start == end:\n",
                "            return\n",
                "        mid = (start + end) // 2\n",
                "        update(start, mid, node * 2, index, value)\n",
                "        update(mid + 1, end, node * 2 + 1, index, value)\n",
                "\n",
                "    return query, update\n",
                "\n",
                "\n",
                "def solution():\n",
                "    import sys\n",
                "\n",
                "    input = map(int, sys.stdin.read().split()).__next__\n",
                "    N, updates, queries = input(), input(), input()\n",
                "    nums = [input() for _ in range(N)]\n",
                "    query, update = segment_tree(N, nums)\n",
                "    for _ in range(updates + queries):\n",
                "        match input():\n",
                "            case 1:\n",
                "                i, v = input() - 1, input()\n",
                "                update(0, N - 1, 1, i, v - nums[i])\n",
                "                nums[i] = v\n",
                "            case 2:\n",
                "                print(query(0, N - 1, 1, input() - 1, input() - 1))\n",
                "                queries -= 1\n",
                "        if queries == 0:\n",
                "            break\n",
                "\n",
                "\n",
                "solution()"
            ]
        },
        {
            "cell_type": "markdown",
            "metadata": {},
            "source": [
                "## 해답\n"
            ]
        },
        {
            "cell_type": "code",
            "execution_count": 1,
            "metadata": {},
            "outputs": [],
            "source": [
                "def segment_tree(N: int, nums: list[int]):\n",
                "    # refer https://m.blog.naver.com/ndb796/221282210534\n",
                "    tree = [0] * (4 * N)\n",
                "\n",
                "    def build(start, end, node):\n",
                "        if start == end:\n",
                "            tree[node] = nums[start]\n",
                "            return tree[node]\n",
                "        mid = (start + end) // 2\n",
                "        tree[node] = build(start, mid, node * 2) + build(mid + 1, end, node * 2 + 1)\n",
                "        return tree[node]\n",
                "\n",
                "    build(0, N - 1, 1)\n",
                "\n",
                "    def query(start, end, node, left, right):\n",
                "        if left > end or right < start:\n",
                "            return 0\n",
                "        if left <= start and end <= right:\n",
                "            return tree[node]\n",
                "        mid = (start + end) // 2\n",
                "        return query(start, mid, node * 2, left, right) + query(\n",
                "            mid + 1, end, node * 2 + 1, left, right\n",
                "        )\n",
                "\n",
                "    def update(start, end, node, index, value):\n",
                "        if index < start or index > end:\n",
                "            return\n",
                "        tree[node] += value\n",
                "        if start == end:\n",
                "            return\n",
                "        mid = (start + end) // 2\n",
                "        update(start, mid, node * 2, index, value)\n",
                "        update(mid + 1, end, node * 2 + 1, index, value)\n",
                "\n",
                "    return query, update"
            ]
        },
        {
            "cell_type": "code",
            "execution_count": 2,
            "metadata": {},
            "outputs": [],
            "source": [
                "def solution():\n",
                "    import sys\n",
                "\n",
                "    input = map(int, sys.stdin.read().split()).__next__\n",
                "    N, updates, queries = input(), input(), input()\n",
                "    nums = [input() for _ in range(N)]\n",
                "    query, update = segment_tree(N, nums)\n",
                "    for _ in range(updates + queries):\n",
                "        match input():\n",
                "            case 1:\n",
                "                i, v = input() - 1, input()\n",
                "                update(0, N - 1, 1, i, v - nums[i])\n",
                "                nums[i] = v\n",
                "            case 2:\n",
                "                print(query(0, N - 1, 1, input() - 1, input() - 1))\n",
                "                queries -= 1\n",
                "        if queries == 0:\n",
                "            break"
            ]
        },
        {
            "cell_type": "markdown",
            "metadata": {},
            "source": [
                "## 예제\n"
            ]
        },
        {
            "cell_type": "code",
            "execution_count": 3,
            "metadata": {},
            "outputs": [],
            "source": [
                "# 백준 문제 풀이용 예제 실행 코드\n",
                "from bwj import test\n",
                "\n",
                "test_solution = test(solution)\n",
                "\n",
                "# test_solution(\"\"\"\"\"\")\n",
                "# test_solution(read(\"fn\").read())"
            ]
        },
        {
            "cell_type": "code",
            "execution_count": 4,
            "metadata": {},
            "outputs": [
                {
                    "name": "stdout",
                    "output_type": "stream",
                    "text": [
                        "3\n",
                        "7\n"
                    ]
                }
            ],
            "source": [
                "test_solution(\n",
                "    \"\"\"3 2 2\n",
                "1\n",
                "2\n",
                "3\n",
                "1 3 1\n",
                "2 2 3\n",
                "1 3 7\n",
                "2 3 3\n",
                "\"\"\"\n",
                ")\n",
                "# answer:\n",
                "# 3\n",
                "# 7"
            ]
        },
        {
            "cell_type": "code",
            "execution_count": 5,
            "metadata": {},
            "outputs": [
                {
                    "name": "stdout",
                    "output_type": "stream",
                    "text": [
                        "1\n"
                    ]
                }
            ],
            "source": [
                "test_solution(\n",
                "    \"\"\"4 0 1\n",
                "1\n",
                "2\n",
                "3\n",
                "4\n",
                "2 1 1\n",
                "\"\"\"\n",
                ")\n",
                "# answer:\n",
                "# 1"
            ]
        },
        {
            "cell_type": "code",
            "execution_count": 6,
            "metadata": {},
            "outputs": [
                {
                    "name": "stdout",
                    "output_type": "stream",
                    "text": [
                        "17\n",
                        "12\n"
                    ]
                }
            ],
            "source": [
                "test_solution(\n",
                "    \"\"\"5 2 2\n",
                "1\n",
                "2\n",
                "3\n",
                "4\n",
                "5\n",
                "1 3 6\n",
                "2 2 5\n",
                "1 5 2\n",
                "2 3 5\n",
                "\"\"\"\n",
                ")\n",
                "# answer:\n",
                "# 17\n",
                "# 12"
            ]
        }
    ],
    "metadata": {
        "interpreter": {
            "hash": "73891b0dc2e53390f36276e59930dd4ecab91b05b5c90320c2d5b1c443f87069"
        },
        "kernelspec": {
            "display_name": "Python 3.10.1 ('venv': venv)",
            "language": "python",
            "name": "python3"
        },
        "language_info": {
            "codemirror_mode": {
                "name": "ipython",
                "version": 3
            },
            "file_extension": ".py",
            "mimetype": "text/x-python",
            "name": "python",
            "nbconvert_exporter": "python",
            "pygments_lexer": "ipython3",
            "version": "3.12.2"
        },
        "orig_nbformat": 4
    },
    "nbformat": 4,
    "nbformat_minor": 2
}
