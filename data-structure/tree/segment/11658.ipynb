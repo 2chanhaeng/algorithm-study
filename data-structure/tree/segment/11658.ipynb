{
 "cells": [
  {
   "cell_type": "markdown",
   "metadata": {},
   "source": [
    "# [백준/구간 합 구하기 3](https://www.acmicpc.net/problem/11658)"
   ]
  },
  {
   "cell_type": "markdown",
   "metadata": {},
   "source": [
    "## 풀이과정"
   ]
  },
  {
   "cell_type": "markdown",
   "metadata": {},
   "source": [
    "### 첫번째 시도"
   ]
  },
  {
   "cell_type": "markdown",
   "metadata": {},
   "source": [
    "#### 풀이과정"
   ]
  },
  {
   "cell_type": "code",
   "execution_count": null,
   "metadata": {},
   "outputs": [],
   "source": [
    "def solution():\n",
    "    import sys\n",
    "    import itertools\n",
    "\n",
    "    inputs = map(str.split, sys.stdin.read().splitlines())\n",
    "    N, M = map(int, next(inputs))\n",
    "    arr = [list(map(int, next(inputs))) for _ in range(N)]\n",
    "    zeros = [0] * N\n",
    "    zeros_2 = zeros * 2\n",
    "    tree = [zeros_2.copy() for _ in range(N)] + [zeros + line for line in arr]\n",
    "    ans = []\n",
    "\n",
    "    for i in range(2 * N - 1, N - 1, -1):\n",
    "        for j in range(N - 1, 0, -1):\n",
    "            tree[i][j] = tree[i][j << 1] + tree[i][j << 1 | 1]\n",
    "\n",
    "    for i in range(N - 1, 0, -1):\n",
    "        for j in range(2 * N - 1, 0, -1):\n",
    "            tree[i][j] = tree[i << 1][j] + tree[i << 1 | 1][j]\n",
    "\n",
    "    def find(x1, y1, x2, y2):\n",
    "        l, r, u, d = y1 + N - 1, y2 + N, x1 + N - 1, x2 + N\n",
    "        return str(sum(tree[i][j] for i in take2(u, d) for j in take2(l, r)))\n",
    "\n",
    "    def update(x, y, val):\n",
    "        x, y = x + N - 1, y + N - 1\n",
    "        diff = val - tree[x][y]\n",
    "        for i in div2(x):\n",
    "            for j in div2(y):\n",
    "                tree[i][j] += diff\n",
    "\n",
    "    def query(func, *args):\n",
    "        return find(*args) if func else update(*args)\n",
    "\n",
    "    print(\" \".join(ans for args in inputs if (ans := query(*map(int, args)))))\n",
    "\n",
    "\n",
    "def div2(x):\n",
    "    while x:\n",
    "        yield x\n",
    "        x >>= 1\n",
    "\n",
    "\n",
    "def take2(l, r):\n",
    "    while l < r:\n",
    "        if l & 1:\n",
    "            yield l\n",
    "            l += 1\n",
    "        if r & 1:\n",
    "            r -= 1\n",
    "            yield r\n",
    "        l >>= 1\n",
    "        r >>= 1\n",
    "\n",
    "\n",
    "solution()"
   ]
  },
  {
   "cell_type": "markdown",
   "metadata": {},
   "source": [
    "## 해답"
   ]
  },
  {
   "cell_type": "code",
   "execution_count": 1,
   "metadata": {},
   "outputs": [],
   "source": [
    "def div2(x):\n",
    "    while x:\n",
    "        yield x\n",
    "        x >>= 1"
   ]
  },
  {
   "cell_type": "code",
   "execution_count": 2,
   "metadata": {},
   "outputs": [],
   "source": [
    "def take2(l, r):\n",
    "    while l < r:\n",
    "        if l & 1:\n",
    "            yield l\n",
    "            l += 1\n",
    "        if r & 1:\n",
    "            r -= 1\n",
    "            yield r\n",
    "        l >>= 1\n",
    "        r >>= 1"
   ]
  },
  {
   "cell_type": "code",
   "execution_count": 3,
   "metadata": {},
   "outputs": [],
   "source": [
    "def solution():\n",
    "    import sys\n",
    "    import itertools\n",
    "\n",
    "    inputs = map(str.split, sys.stdin.read().splitlines())\n",
    "    N, M = map(int, next(inputs))\n",
    "    arr = [list(map(int, next(inputs))) for _ in range(N)]\n",
    "    zeros = [0] * N\n",
    "    zeros_2 = zeros * 2\n",
    "    tree = [zeros_2.copy() for _ in range(N)] + [zeros + line for line in arr]\n",
    "    ans = []\n",
    "\n",
    "    for i in range(2 * N - 1, N - 1, -1):\n",
    "        for j in range(N - 1, 0, -1):\n",
    "            tree[i][j] = tree[i][j << 1] + tree[i][j << 1 | 1]\n",
    "\n",
    "    for i in range(N - 1, 0, -1):\n",
    "        for j in range(2 * N - 1, 0, -1):\n",
    "            tree[i][j] = tree[i << 1][j] + tree[i << 1 | 1][j]\n",
    "\n",
    "    def find(x1, y1, x2, y2):\n",
    "        l, r, u, d = y1 + N - 1, y2 + N, x1 + N - 1, x2 + N\n",
    "        return str(sum(tree[i][j] for i in take2(u, d) for j in take2(l, r)))\n",
    "\n",
    "    def update(x, y, val):\n",
    "        x, y = x + N - 1, y + N - 1\n",
    "        diff = val - tree[x][y]\n",
    "        for i in div2(x):\n",
    "            for j in div2(y):\n",
    "                tree[i][j] += diff\n",
    "\n",
    "    def query(func, *args):\n",
    "        return find(*args) if func else update(*args)\n",
    "\n",
    "    print(\" \".join(ans for args in inputs if (ans := query(*map(int, args)))))"
   ]
  },
  {
   "cell_type": "markdown",
   "metadata": {},
   "source": [
    "## 예제"
   ]
  },
  {
   "cell_type": "code",
   "execution_count": 4,
   "metadata": {},
   "outputs": [],
   "source": [
    "# black 모듈을 jupyter notebook 내에서 사용 가능하게 만들어주는 blackcellmagic 모듈 불러오기\n",
    "%load_ext blackcellmagic\n",
    "# %%black\n",
    "\n",
    "# 백준 문제 풀이용 예제 실행 코드\n",
    "from bwj import test\n",
    "\n",
    "test_solution = test(solution)\n",
    "\n",
    "# test_solution(\"\"\"\"\"\")\n",
    "# test_solution(read(\"fn\").read())"
   ]
  },
  {
   "cell_type": "code",
   "execution_count": 5,
   "metadata": {},
   "outputs": [
    {
     "name": "stdout",
     "output_type": "stream",
     "text": [
      "111111111 110110110 100100100 111111000 110110000 100100000 111000000 110000000 100000000 100000000 110000000 111000000 100100000 110110000 111111000 100100100 110110110 111111111\n"
     ]
    }
   ],
   "source": [
    "test_solution(\n",
    "    \"\"\"3 27\n",
    "1 10 100\n",
    "1000 10000 100000\n",
    "1000000 10000000 100000000\n",
    "1 1 1 3 3\n",
    "1 1 2 3 3\n",
    "1 1 3 3 3\n",
    "1 2 1 3 3\n",
    "1 2 2 3 3\n",
    "1 2 3 3 3\n",
    "1 3 1 3 3\n",
    "1 3 2 3 3\n",
    "1 3 3 3 3\n",
    "0 1 1 100000000\n",
    "0 1 2 10000000\n",
    "0 1 3 1000000\n",
    "0 2 1 100000\n",
    "0 2 2 10000\n",
    "0 2 3 1000\n",
    "0 3 1 100\n",
    "0 3 2 10\n",
    "0 3 3 1\n",
    "1 1 1 1 1\n",
    "1 1 1 1 2\n",
    "1 1 1 1 3\n",
    "1 1 1 2 1\n",
    "1 1 1 2 2\n",
    "1 1 1 2 3\n",
    "1 1 1 3 1\n",
    "1 1 1 3 2\n",
    "1 1 1 3 3\n",
    "\"\"\"\n",
    ")\n",
    "# answer:\n",
    "# 111111111\n",
    "# 110110110\n",
    "# 100100100\n",
    "# 111111000\n",
    "# 110110000\n",
    "# 100100000\n",
    "# 111000000\n",
    "# 110000000\n",
    "# 100000000\n",
    "# 100000000\n",
    "# 110000000\n",
    "# 111000000\n",
    "# 100100000\n",
    "# 110110000\n",
    "# 111111000\n",
    "# 100100100\n",
    "# 110110110\n",
    "# 111111111"
   ]
  },
  {
   "cell_type": "code",
   "execution_count": 6,
   "metadata": {},
   "outputs": [
    {
     "name": "stdout",
     "output_type": "stream",
     "text": [
      "3808 69280 131072\n"
     ]
    }
   ],
   "source": [
    "test_solution(\n",
    "    \"\"\"4 5\n",
    "1 2 4 8\n",
    "16 32 64 128\n",
    "256 512 1024 2048\n",
    "4096 8192 16384 32768\n",
    "1 2 2 3 4\n",
    "0 2 3 65536\n",
    "1 2 2 3 4\n",
    "0 3 4 131072\n",
    "1 3 4 3 4\n",
    "\"\"\"\n",
    ")\n",
    "# answer:\n",
    "# 27\n",
    "# 30\n",
    "# 5"
   ]
  },
  {
   "cell_type": "code",
   "execution_count": 7,
   "metadata": {},
   "outputs": [
    {
     "name": "stdout",
     "output_type": "stream",
     "text": [
      "27 30 5\n"
     ]
    }
   ],
   "source": [
    "test_solution(\n",
    "    \"\"\"4 5\n",
    "1 2 3 4\n",
    "2 3 4 5\n",
    "3 4 5 6\n",
    "4 5 6 7\n",
    "1 2 2 3 4\n",
    "0 2 3 7\n",
    "1 2 2 3 4\n",
    "0 3 4 5\n",
    "1 3 4 3 4\n",
    "\"\"\"\n",
    ")\n",
    "# answer:\n",
    "# 27\n",
    "# 30\n",
    "# 5"
   ]
  }
 ],
 "metadata": {
  "kernelspec": {
   "display_name": "venv",
   "language": "python",
   "name": "python3"
  },
  "language_info": {
   "codemirror_mode": {
    "name": "ipython",
    "version": 3
   },
   "file_extension": ".py",
   "mimetype": "text/x-python",
   "name": "python",
   "nbconvert_exporter": "python",
   "pygments_lexer": "ipython3",
   "version": "3.10.8"
  },
  "orig_nbformat": 4,
  "vscode": {
   "interpreter": {
    "hash": "72904a014a9ffe38f4c58942120b599b3c5a87d06764037548e0139929c1cde3"
   }
  }
 },
 "nbformat": 4,
 "nbformat_minor": 2
}
