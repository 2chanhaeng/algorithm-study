{
 "cells": [
  {
   "cell_type": "markdown",
   "metadata": {},
   "source": [
    "# [백준/Tree Isomorphism](https://www.acmicpc.net/problem/6998)"
   ]
  },
  {
   "cell_type": "markdown",
   "metadata": {},
   "source": [
    "## 풀이과정"
   ]
  },
  {
   "cell_type": "markdown",
   "metadata": {},
   "source": [
    "### 첫번째 시도"
   ]
  },
  {
   "cell_type": "markdown",
   "metadata": {},
   "source": [
    "#### 풀이과정"
   ]
  },
  {
   "cell_type": "code",
   "execution_count": null,
   "metadata": {},
   "outputs": [],
   "source": [
    "class Node(list[\"Node\"]):\n",
    "    def __init__(self) -> None:\n",
    "        self.length: int = 0\n",
    "\n",
    "    def __len__(self) -> int:\n",
    "        return self.length\n",
    "\n",
    "    def append(self, other):\n",
    "        super().append(other)\n",
    "        self.length += 1\n",
    "\n",
    "    def sort(self):\n",
    "        super().sort(key=len, reverse=True)\n",
    "\n",
    "\n",
    "class Tree(list[Node]):\n",
    "    def __init__(self) -> None:\n",
    "        super().__init__()\n",
    "        self.length: int = 0\n",
    "        self.curr: int = 0\n",
    "        self.parents: dict[int, int] = {0: 0}\n",
    "\n",
    "    def append(self, __object: Node) -> None:\n",
    "        super().append(__object)\n",
    "        self.length += 1\n",
    "\n",
    "    def add(self):\n",
    "        self.append(Node())\n",
    "        self[self.curr].append(self[-1])\n",
    "        self.curr = self.parents[self.curr] = self.length - 1\n",
    "\n",
    "    def out(self):\n",
    "        self.curr = self.parents[self.curr]\n",
    "\n",
    "    def sort(self):\n",
    "        for node in self:\n",
    "            node.sort()\n",
    "\n",
    "    def __len__(self) -> int:\n",
    "        return self.length\n",
    "\n",
    "    def __eq__(self, other: \"Tree\") -> bool:\n",
    "        try:\n",
    "            for a, b in zip(self, other, strict=True):\n",
    "                if len(a) != len(b):\n",
    "                    return False\n",
    "            return True\n",
    "        except:\n",
    "            return False\n",
    "\n",
    "    @classmethod\n",
    "    def parce(cls, array: list[str]):\n",
    "        tree = cls()\n",
    "        for item in array:\n",
    "            if item == \"#\":\n",
    "                tree.out()\n",
    "            else:\n",
    "                tree.add()\n",
    "        return tree\n",
    "\n",
    "\n",
    "def solution():\n",
    "    import sys\n",
    "\n",
    "    input = map(str.split, sys.stdin).__next__\n",
    "    for _ in range(int(next(sys.stdin))):\n",
    "        A = Tree.parce(input())\n",
    "        A.sort()\n",
    "        B = Tree.parce(input())\n",
    "        B.sort()\n",
    "        eq = \"\" if A == B else \"not \"\n",
    "        print(f\"The two trees are {eq}isomorphic.\")\n",
    "\n",
    "\n",
    "solution()"
   ]
  },
  {
   "attachments": {},
   "cell_type": "markdown",
   "metadata": {},
   "source": [
    "### 두번째 시도"
   ]
  },
  {
   "cell_type": "markdown",
   "metadata": {},
   "source": [
    "#### 풀이과정"
   ]
  },
  {
   "cell_type": "code",
   "execution_count": null,
   "metadata": {},
   "outputs": [],
   "source": [
    "def parse(array: list[str]):\n",
    "    stack: list[list]\n",
    "    tree: list[list]\n",
    "    curr: list[list]\n",
    "    curr = tree = []\n",
    "    stack = [curr]\n",
    "    for item in array:\n",
    "        if item == \"#\":\n",
    "            stack.pop().sort(key=len, reverse=True)\n",
    "            curr = stack[-1]\n",
    "        else:\n",
    "            curr.append(curr := [])\n",
    "            stack.append(curr)\n",
    "    return tree\n",
    "\n",
    "\n",
    "def iso(A: list[list], B: list[list]):\n",
    "    if len(A) != len(B):\n",
    "        return False\n",
    "    for a, b in zip(A, B):\n",
    "        if not iso(a, b):\n",
    "            return False\n",
    "    return True\n",
    "\n",
    "\n",
    "def solution():\n",
    "    import sys\n",
    "\n",
    "    input = map(str.split, sys.stdin).__next__\n",
    "    for _ in range(int(next(sys.stdin))):\n",
    "        A = parse(input())\n",
    "        B = parse(input())\n",
    "        eq = \"\" if iso(A, B) else \"not \"\n",
    "        print(f\"The two trees are {eq}isomorphic.\")\n",
    "\n",
    "\n",
    "solution()"
   ]
  },
  {
   "cell_type": "markdown",
   "metadata": {},
   "source": [
    "## 해답"
   ]
  },
  {
   "cell_type": "code",
   "execution_count": 1,
   "metadata": {},
   "outputs": [],
   "source": [
    "def parse(array: list[str]):\n",
    "    stack: list[list]\n",
    "    tree: list[list]\n",
    "    curr: list[list]\n",
    "    curr = tree = []\n",
    "    stack = [curr]\n",
    "    for item in array:\n",
    "        if item == \"#\":\n",
    "            stack.pop().sort(key=len, reverse=True)\n",
    "            curr = stack[-1]\n",
    "        else:\n",
    "            curr.append(curr := [])\n",
    "            stack.append(curr)\n",
    "    return tree"
   ]
  },
  {
   "cell_type": "code",
   "execution_count": 2,
   "metadata": {},
   "outputs": [],
   "source": [
    "def iso(A: list[list], B: list[list]):\n",
    "    if len(A) != len(B):\n",
    "        return False\n",
    "    for a, b in zip(A, B):\n",
    "        if not iso(a, b):\n",
    "            return False\n",
    "    return True"
   ]
  },
  {
   "cell_type": "code",
   "execution_count": 3,
   "metadata": {},
   "outputs": [],
   "source": [
    "def solution():\n",
    "    import sys\n",
    "\n",
    "    input = map(str.split, sys.stdin).__next__\n",
    "    for _ in range(int(next(sys.stdin))):\n",
    "        A = parse(input())\n",
    "        B = parse(input())\n",
    "        eq = \"\" if iso(A, B) else \"not \"\n",
    "        print(f\"The two trees are {eq}isomorphic.\")"
   ]
  },
  {
   "cell_type": "markdown",
   "metadata": {},
   "source": [
    "## 예제"
   ]
  },
  {
   "cell_type": "code",
   "execution_count": 4,
   "metadata": {},
   "outputs": [],
   "source": [
    "# black 모듈을 jupyter notebook 내에서 사용 가능하게 만들어주는 blackcellmagic 모듈 불러오기\n",
    "%load_ext blackcellmagic\n",
    "# %%black\n",
    "\n",
    "# 백준 문제 풀이용 예제 실행 코드\n",
    "from bwj import test\n",
    "\n",
    "test_solution = test(solution)\n",
    "\n",
    "# test_solution(\"\"\"\"\"\")\n",
    "# test_solution(read(\"fn\").read())"
   ]
  },
  {
   "cell_type": "code",
   "execution_count": 5,
   "metadata": {},
   "outputs": [
    {
     "name": "stdout",
     "output_type": "stream",
     "text": [
      "The two trees are not isomorphic.\n",
      "The two trees are isomorphic.\n"
     ]
    }
   ],
   "source": [
    "test_solution(\n",
    "    \"\"\"2\n",
    "a b d # e # # c # #\n",
    "x y u # # z # #\n",
    "a b d # e # # c f # # g # #\n",
    "x y v # # u # z w # t # # #\n",
    "\"\"\"\n",
    ")\n",
    "# answer:\n",
    "# The two trees are not isomorphic.\n",
    "# The two trees are isomorphic."
   ]
  }
 ],
 "metadata": {
  "kernelspec": {
   "display_name": "venv",
   "language": "python",
   "name": "python3"
  },
  "language_info": {
   "codemirror_mode": {
    "name": "ipython",
    "version": 3
   },
   "file_extension": ".py",
   "mimetype": "text/x-python",
   "name": "python",
   "nbconvert_exporter": "python",
   "pygments_lexer": "ipython3",
   "version": "3.10.8"
  },
  "orig_nbformat": 4,
  "vscode": {
   "interpreter": {
    "hash": "72904a014a9ffe38f4c58942120b599b3c5a87d06764037548e0139929c1cde3"
   }
  }
 },
 "nbformat": 4,
 "nbformat_minor": 2
}
