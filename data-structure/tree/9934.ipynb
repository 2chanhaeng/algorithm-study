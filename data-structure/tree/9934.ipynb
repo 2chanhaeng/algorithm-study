{
    "cells": [
        {
            "cell_type": "markdown",
            "metadata": {},
            "source": [
                "# [백준/완전 이진 트리](https://www.acmicpc.net/problem/9934)"
            ]
        },
        {
            "cell_type": "markdown",
            "metadata": {},
            "source": [
                "## 풀이과정"
            ]
        },
        {
            "cell_type": "markdown",
            "metadata": {},
            "source": [
                "### 첫번째 시도"
            ]
        },
        {
            "cell_type": "markdown",
            "metadata": {},
            "source": [
                "#### 풀이과정"
            ]
        },
        {
            "cell_type": "code",
            "execution_count": null,
            "metadata": {},
            "outputs": [],
            "source": [
                "def solution():\n",
                "    import sys\n",
                "\n",
                "    lines, *nums = map(int, sys.stdin.read().split())\n",
                "    nums = [nums]\n",
                "    index = (1 << lines) - 1\n",
                "    for i in range(lines):\n",
                "        index = (index // 2)\n",
                "        print(*(str(num[index]) for num in nums))\n",
                "        nums = sum(([num[:index], num[index + 1:]] for num in nums), [])\n",
                "\n",
                "\n",
                "solution()"
            ]
        },
        {
            "cell_type": "markdown",
            "metadata": {},
            "source": [
                "## 숏코딩"
            ]
        },
        {
            "cell_type": "markdown",
            "metadata": {},
            "source": [
                "[기존 숏코딩 1위 코드](https://www.acmicpc.net/source/6579352)를 참고해 작성했습니다."
            ]
        },
        {
            "cell_type": "code",
            "execution_count": null,
            "metadata": {},
            "outputs": [],
            "source": [
                "input();i=len(a:=input().split())\n",
                "while i:i//=2;print(*a[i::i*2+2])"
            ]
        },
        {
            "cell_type": "markdown",
            "metadata": {},
            "source": [
                "<img alt=\"2022년 12월 6일 17시 기준 9934번 맞힌 사람 (Python) 36ms로 1위\" src=\"../../img/Screenshot 2022-12-06 at 17-55-07 9934번 맞힌 사람 (Python) - 1 페이지.png\">"
            ]
        },
        {
            "cell_type": "markdown",
            "metadata": {},
            "source": [
                "<img alt=\"2022년 12월 6일 17시 기준 9934번 숏코딩 67B로 1위\" src=\"../../img/Screenshot 2022-12-06 at 17-55-20 9934번 숏코딩 - 1 페이지.png\">"
            ]
        },
        {
            "cell_type": "markdown",
            "metadata": {},
            "source": [
                "## 해답"
            ]
        },
        {
            "cell_type": "code",
            "execution_count": 1,
            "metadata": {},
            "outputs": [],
            "source": [
                "def solution():\n",
                "    import sys\n",
                "\n",
                "    lines, *nums = map(int, sys.stdin.read().split())\n",
                "    nums = [nums]\n",
                "    index = (1 << lines) - 1\n",
                "    for i in range(lines):\n",
                "        index = (index // 2)\n",
                "        print(*(str(num[index]) for num in nums))\n",
                "        nums = sum(([num[:index], num[index + 1:]] for num in nums), [])"
            ]
        },
        {
            "cell_type": "markdown",
            "metadata": {},
            "source": [
                "## 예제"
            ]
        },
        {
            "cell_type": "code",
            "execution_count": 2,
            "metadata": {},
            "outputs": [],
            "source": [
                "# black 모듈을 jupyter notebook 내에서 사용 가능하게 만들어주는 blackcellmagic 모듈 불러오기\n",
                "%load_ext blackcellmagic\n",
                "# %%black\n",
                "\n",
                "# 백준 문제 풀이용 예제 실행 코드\n",
                "from bwj import test\n",
                "test_solution = test(solution)\n",
                "\n",
                "# test_solution(\"\"\"\"\"\")\n",
                "# test_solution(read(\"fn\").read())"
            ]
        },
        {
            "cell_type": "code",
            "execution_count": 3,
            "metadata": {},
            "outputs": [
                {
                    "name": "stdout",
                    "output_type": "stream",
                    "text": [
                        "1\n",
                        "2 3\n"
                    ]
                }
            ],
            "source": [
                "test_solution(\"\"\"2\n",
                "2 1 3\n",
                "\"\"\")\n",
                "# answer:\n",
                "# 1\n",
                "# 2 3"
            ]
        },
        {
            "cell_type": "code",
            "execution_count": 4,
            "metadata": {},
            "outputs": [
                {
                    "name": "stdout",
                    "output_type": "stream",
                    "text": [
                        "3\n",
                        "6 2\n",
                        "1 4 5 7\n"
                    ]
                }
            ],
            "source": [
                "test_solution(\"\"\"3\n",
                "1 6 4 3 5 2 7\n",
                "\"\"\")\n",
                "# answer:\n",
                "# 3\n",
                "# 6 2\n",
                "# 1 4 5 7"
            ]
        }
    ],
    "metadata": {
        "kernelspec": {
            "display_name": "Python 3.10.8 ('venv': venv)",
            "language": "python",
            "name": "python3"
        },
        "language_info": {
            "codemirror_mode": {
                "name": "ipython",
                "version": 3
            },
            "file_extension": ".py",
            "mimetype": "text/x-python",
            "name": "python",
            "nbconvert_exporter": "python",
            "pygments_lexer": "ipython3",
            "version": "3.10.8"
        },
        "orig_nbformat": 4,
        "vscode": {
            "interpreter": {
                "hash": "72904a014a9ffe38f4c58942120b599b3c5a87d06764037548e0139929c1cde3"
            }
        }
    },
    "nbformat": 4,
    "nbformat_minor": 2
}
