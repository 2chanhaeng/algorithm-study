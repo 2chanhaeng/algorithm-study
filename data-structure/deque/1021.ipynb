{
    "cells": [
        {
            "cell_type": "markdown",
            "metadata": {},
            "source": [
                "# [백준/회전하는 큐](https://www.acmicpc.net/problem/1021)\n"
            ]
        },
        {
            "cell_type": "markdown",
            "metadata": {},
            "source": [
                "## 풀이과정\n"
            ]
        },
        {
            "cell_type": "markdown",
            "metadata": {},
            "source": [
                "### 첫번째 시도\n"
            ]
        },
        {
            "cell_type": "markdown",
            "metadata": {},
            "source": [
                "#### 풀이과정\n"
            ]
        },
        {
            "cell_type": "code",
            "execution_count": null,
            "metadata": {},
            "outputs": [],
            "source": [
                "def solution():\n",
                "    import sys\n",
                "\n",
                "    n, _, *inputs = map(int, sys.stdin.read().split())\n",
                "    arr = list(range(1, n + 1))\n",
                "    pointer = 0\n",
                "    result = 0\n",
                "    length = len(arr)\n",
                "    for i in inputs:\n",
                "        idx = arr.index(i)\n",
                "        between = (idx - pointer) % length\n",
                "        otherside = length - between\n",
                "        result += min(between, otherside)\n",
                "        arr.pop(idx)\n",
                "        length -= 1\n",
                "        pointer = 0 if length < idx else idx\n",
                "    print(result)\n",
                "\n",
                "\n",
                "solution()"
            ]
        },
        {
            "cell_type": "markdown",
            "metadata": {},
            "source": [
                "## 해답\n"
            ]
        },
        {
            "cell_type": "code",
            "execution_count": 1,
            "metadata": {},
            "outputs": [],
            "source": [
                "def solution():\n",
                "    import sys\n",
                "\n",
                "    n, _, *inputs = map(int, sys.stdin.read().split())\n",
                "    arr = list(range(1, n+1))\n",
                "    pointer = 0\n",
                "    result = 0\n",
                "    length = len(arr)\n",
                "    for i in inputs:\n",
                "        idx = arr.index(i)\n",
                "        between = (idx - pointer) % length\n",
                "        otherside = length - between\n",
                "        result += min(between, otherside)\n",
                "        arr.pop(idx)\n",
                "        length -= 1\n",
                "        pointer = 0 if length < idx else idx\n",
                "    print(result)"
            ]
        },
        {
            "cell_type": "markdown",
            "metadata": {},
            "source": [
                "## 예제\n"
            ]
        },
        {
            "cell_type": "code",
            "execution_count": 2,
            "metadata": {},
            "outputs": [],
            "source": [
                "# black 모듈을 jupyter notebook 내에서 사용 가능하게 만들어주는 blackcellmagic 모듈 불러오기\n",
                "%load_ext blackcellmagic\n",
                "# %%black\n",
                "\n",
                "# 백준 문제 풀이용 예제 실행 코드\n",
                "from bwj import test\n",
                "test_solution = test(solution)\n",
                "\n",
                "# test_solution(\"\"\"\"\"\")\n",
                "# test_solution(read(\"fn\").read())"
            ]
        },
        {
            "cell_type": "code",
            "execution_count": 3,
            "metadata": {},
            "outputs": [
                {
                    "name": "stdout",
                    "output_type": "stream",
                    "text": [
                        "0\n"
                    ]
                }
            ],
            "source": [
                "test_solution(\"\"\"10 3\n",
                "1 2 3\n",
                "\"\"\") # 0"
            ]
        },
        {
            "cell_type": "code",
            "execution_count": 4,
            "metadata": {},
            "outputs": [
                {
                    "name": "stdout",
                    "output_type": "stream",
                    "text": [
                        "8\n"
                    ]
                }
            ],
            "source": [
                "test_solution(\"\"\"10 3\n",
                "2 9 5\n",
                "\"\"\") # 8"
            ]
        },
        {
            "cell_type": "code",
            "execution_count": 5,
            "metadata": {},
            "outputs": [
                {
                    "name": "stdout",
                    "output_type": "stream",
                    "text": [
                        "59\n"
                    ]
                }
            ],
            "source": [
                "test_solution(\"\"\"32 6\n",
                "27 16 30 11 6 23\n",
                "\"\"\") # 59"
            ]
        },
        {
            "cell_type": "code",
            "execution_count": 6,
            "metadata": {},
            "outputs": [
                {
                    "name": "stdout",
                    "output_type": "stream",
                    "text": [
                        "14\n"
                    ]
                }
            ],
            "source": [
                "test_solution(\"\"\"10 10\n",
                "1 6 3 2 7 9 8 4 10 5\n",
                "\"\"\") # 14"
            ]
        }
    ],
    "metadata": {
        "interpreter": {
            "hash": "73891b0dc2e53390f36276e59930dd4ecab91b05b5c90320c2d5b1c443f87069"
        },
        "kernelspec": {
            "display_name": "Python 3.10.1 ('venv': venv)",
            "language": "python",
            "name": "python3"
        },
        "language_info": {
            "codemirror_mode": {
                "name": "ipython",
                "version": 3
            },
            "file_extension": ".py",
            "mimetype": "text/x-python",
            "name": "python",
            "nbconvert_exporter": "python",
            "pygments_lexer": "ipython3",
            "version": "3.11.3"
        },
        "orig_nbformat": 4
    },
    "nbformat": 4,
    "nbformat_minor": 2
}
