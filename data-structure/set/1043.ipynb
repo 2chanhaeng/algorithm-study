{
    "cells": [
        {
            "cell_type": "markdown",
            "metadata": {},
            "source": [
                "# [백준/거짓말](https://www.acmicpc.net/problem/1043)"
            ]
        },
        {
            "cell_type": "markdown",
            "metadata": {},
            "source": [
                "## 풀이과정"
            ]
        },
        {
            "cell_type": "markdown",
            "metadata": {},
            "source": [
                "### 첫번째 시도"
            ]
        },
        {
            "cell_type": "markdown",
            "metadata": {},
            "source": [
                "#### 풀이과정"
            ]
        },
        {
            "cell_type": "code",
            "execution_count": 22,
            "metadata": {},
            "outputs": [],
            "source": [
                "def solution():\n",
                "    import sys\n",
                "    import collections\n",
                "\n",
                "    input = sys.stdin.readline\n",
                "    n, m = map(int, input().split())\n",
                "    known = set(map(int, input().split()[1:]))\n",
                "    parties = collections.Counter(\n",
                "        frozenset(map(int, inputs[1:])) for inputs in map(str.split, sys.stdin)\n",
                "    )\n",
                "    while toknow := [party for party in parties if party & known]:\n",
                "        for k in toknow:\n",
                "            known |= k\n",
                "            parties.pop(k)\n",
                "    print(sum(parties.values()))\n",
                "\n",
                "\n",
                "solution()"
            ]
        },
        {
            "attachments": {},
            "cell_type": "markdown",
            "metadata": {},
            "source": [
                "### 두번째 시도"
            ]
        },
        {
            "cell_type": "markdown",
            "metadata": {},
            "source": [
                "#### 풀이과정"
            ]
        },
        {
            "cell_type": "code",
            "execution_count": null,
            "metadata": {},
            "outputs": [],
            "source": [
                "def solution():\n",
                "    import sys\n",
                "\n",
                "    inputs = map(str.split, sys.stdin)\n",
                "    n, m = map(int, next(inputs))\n",
                "    known = {*next(inputs)[1:]}\n",
                "    parties = [{*input[1:]} for input in inputs]\n",
                "    for _ in range(m):\n",
                "        for party in parties:\n",
                "            if party & known:\n",
                "                known |= party\n",
                "    print(sum(1 for party in parties if not party & known))\n",
                "\n",
                "\n",
                "solution()"
            ]
        },
        {
            "cell_type": "markdown",
            "metadata": {},
            "source": [
                "## 해답"
            ]
        },
        {
            "cell_type": "code",
            "execution_count": 1,
            "metadata": {},
            "outputs": [],
            "source": [
                "def solution():\n",
                "    import sys\n",
                "    import collections\n",
                "\n",
                "    input = sys.stdin.readline\n",
                "    n, m = map(int, input().split())\n",
                "    known = set(map(int, input().split()[1:]))\n",
                "    parties = collections.Counter(\n",
                "        frozenset(map(int, inputs[1:])) for inputs in map(str.split, sys.stdin)\n",
                "    )\n",
                "    while toknow := [party for party in parties if party & known]:\n",
                "        for k in toknow:\n",
                "            known |= k\n",
                "            parties.pop(k)\n",
                "    print(sum(parties.values()))"
            ]
        },
        {
            "cell_type": "markdown",
            "metadata": {},
            "source": [
                "## 예제"
            ]
        },
        {
            "cell_type": "code",
            "execution_count": 2,
            "metadata": {},
            "outputs": [],
            "source": [
                "# black 모듈을 jupyter notebook 내에서 사용 가능하게 만들어주는 blackcellmagic 모듈 불러오기\n",
                "%load_ext blackcellmagic\n",
                "# %%black\n",
                "\n",
                "# 백준 문제 풀이용 예제 실행 코드\n",
                "from bwj import test\n",
                "test_solution = test(solution)\n",
                "\n",
                "# test_solution(\"\"\"\"\"\")\n",
                "# test_solution(read(\"fn\").read())"
            ]
        },
        {
            "cell_type": "code",
            "execution_count": 3,
            "metadata": {},
            "outputs": [
                {
                    "name": "stdout",
                    "output_type": "stream",
                    "text": [
                        "5\n"
                    ]
                }
            ],
            "source": [
                "# refer https://www.acmicpc.net/board/view/96247\n",
                "test_solution(\"\"\"8 7\n",
                "1 1\n",
                "2 5 6\n",
                "2 4 5\n",
                "2 3 4\n",
                "2 7 8\n",
                "2 1 2\n",
                "2 7 8\n",
                "2 1 2\n",
                "1 1\n",
                "\"\"\") # 5"
            ]
        },
        {
            "cell_type": "code",
            "execution_count": 4,
            "metadata": {},
            "outputs": [
                {
                    "name": "stdout",
                    "output_type": "stream",
                    "text": [
                        "0\n"
                    ]
                }
            ],
            "source": [
                "# refer https://www.acmicpc.net/board/view/96247\n",
                "test_solution(\"\"\"10 10 \n",
                "1 1 \n",
                "2 10 1\n",
                "2 9 2\n",
                "2 8  3\n",
                "2 7  4\n",
                "2 6  5\n",
                "2 5  7 \n",
                "2 4  8\n",
                "2 3 9 \n",
                "2 2 10 \n",
                "1 1\n",
                "\"\"\") # 0"
            ]
        },
        {
            "cell_type": "code",
            "execution_count": 5,
            "metadata": {},
            "outputs": [
                {
                    "name": "stdout",
                    "output_type": "stream",
                    "text": [
                        "0\n"
                    ]
                }
            ],
            "source": [
                "test_solution(\"\"\"6 5\n",
                "1 6\n",
                "2 4 5\n",
                "2 1 2\n",
                "2 2 3\n",
                "2 3 4\n",
                "2 5 6\n",
                "\"\"\") # 0"
            ]
        },
        {
            "cell_type": "code",
            "execution_count": 6,
            "metadata": {},
            "outputs": [
                {
                    "name": "stdout",
                    "output_type": "stream",
                    "text": [
                        "3\n"
                    ]
                }
            ],
            "source": [
                "test_solution(\"\"\"4 3\n",
                "0\n",
                "2 1 2\n",
                "1 3\n",
                "3 2 3 4\n",
                "\"\"\") # 3"
            ]
        },
        {
            "cell_type": "code",
            "execution_count": 7,
            "metadata": {},
            "outputs": [
                {
                    "name": "stdout",
                    "output_type": "stream",
                    "text": [
                        "0\n"
                    ]
                }
            ],
            "source": [
                "test_solution(\"\"\"4 1\n",
                "1 1\n",
                "4 1 2 3 4\n",
                "\"\"\") # 0"
            ]
        },
        {
            "cell_type": "code",
            "execution_count": 8,
            "metadata": {},
            "outputs": [
                {
                    "name": "stdout",
                    "output_type": "stream",
                    "text": [
                        "1\n"
                    ]
                }
            ],
            "source": [
                "test_solution(\"\"\"4 1\n",
                "0\n",
                "4 1 2 3 4\n",
                "\"\"\") # 1"
            ]
        },
        {
            "cell_type": "code",
            "execution_count": 9,
            "metadata": {},
            "outputs": [
                {
                    "name": "stdout",
                    "output_type": "stream",
                    "text": [
                        "2\n"
                    ]
                }
            ],
            "source": [
                "test_solution(\"\"\"4 5\n",
                "1 1\n",
                "1 1\n",
                "1 2\n",
                "1 3\n",
                "1 4\n",
                "2 4 1\n",
                "\"\"\") # 2"
            ]
        },
        {
            "cell_type": "code",
            "execution_count": 10,
            "metadata": {},
            "outputs": [
                {
                    "name": "stdout",
                    "output_type": "stream",
                    "text": [
                        "4\n"
                    ]
                }
            ],
            "source": [
                "test_solution(\"\"\"10 9\n",
                "4 1 2 3 4\n",
                "2 1 5\n",
                "2 2 6\n",
                "1 7\n",
                "1 8\n",
                "2 7 8\n",
                "1 9\n",
                "1 10\n",
                "2 3 10\n",
                "1 4\n",
                "\"\"\") # 4"
            ]
        },
        {
            "cell_type": "code",
            "execution_count": 11,
            "metadata": {},
            "outputs": [
                {
                    "name": "stdout",
                    "output_type": "stream",
                    "text": [
                        "5\n"
                    ]
                }
            ],
            "source": [
                "test_solution(\"\"\"8 5\n",
                "3 1 2 7\n",
                "2 3 4\n",
                "1 5\n",
                "2 5 6\n",
                "2 6 8\n",
                "1 8\n",
                "\"\"\") # 5"
            ]
        },
        {
            "cell_type": "code",
            "execution_count": 12,
            "metadata": {},
            "outputs": [
                {
                    "name": "stdout",
                    "output_type": "stream",
                    "text": [
                        "0\n"
                    ]
                }
            ],
            "source": [
                "test_solution(\"\"\"3 4\n",
                "1 3\n",
                "1 1\n",
                "1 2\n",
                "2 1 2\n",
                "3 1 2 3\n",
                "\"\"\") # 0"
            ]
        }
    ],
    "metadata": {
        "kernelspec": {
            "display_name": "venv",
            "language": "python",
            "name": "python3"
        },
        "language_info": {
            "codemirror_mode": {
                "name": "ipython",
                "version": 3
            },
            "file_extension": ".py",
            "mimetype": "text/x-python",
            "name": "python",
            "nbconvert_exporter": "python",
            "pygments_lexer": "ipython3",
            "version": "3.11.1"
        },
        "orig_nbformat": 4,
        "vscode": {
            "interpreter": {
                "hash": "72904a014a9ffe38f4c58942120b599b3c5a87d06764037548e0139929c1cde3"
            }
        }
    },
    "nbformat": 4,
    "nbformat_minor": 2
}
