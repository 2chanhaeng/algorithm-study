{
    "cells": [
        {
            "cell_type": "markdown",
            "metadata": {},
            "source": [
                "# [백준/숫자 카드](https://www.acmicpc.net/problem/10815)"
            ]
        },
        {
            "cell_type": "markdown",
            "metadata": {},
            "source": [
                "## 풀이과정"
            ]
        },
        {
            "cell_type": "markdown",
            "metadata": {},
            "source": [
                "### 첫번째 시도"
            ]
        },
        {
            "cell_type": "markdown",
            "metadata": {},
            "source": [
                "풀이과정"
            ]
        },
        {
            "cell_type": "code",
            "execution_count": 14,
            "metadata": {},
            "outputs": [],
            "source": [
                "def solution(open=open):\n",
                "    n, str_A, m, str_B, _ = open(0).read().split(\"\\n\")\n",
                "    set_A = set(map(int, str_A.split()))\n",
                "    list_B = list(map(int, str_B.split()))\n",
                "    print(*map(lambda x: [0, 1][x in set_A], list_B))\n",
                "\n",
                "\n",
                "solution()"
            ]
        },
        {
            "cell_type": "code",
            "execution_count": 10,
            "metadata": {},
            "outputs": [],
            "source": [
                "def solution():\n",
                "    import sys\n",
                "\n",
                "    A, B = sys.stdin.read().split(\"\\n\")[1::2]\n",
                "    A = set(A.split())\n",
                "    B = B.split()\n",
                "    print(\"\".join(\"1 \" if x in A else \"0 \" for x in B))\n",
                "\n",
                "solution()"
            ]
        },
        {
            "cell_type": "markdown",
            "metadata": {},
            "source": [
                "<img alt=\"2022년 9월 1일 2시 기준 10815번 맞힌 사람 (Python) 356ms로 1위\" src=\"../../img/Screenshot 2022-09-01 at 02-13-58 10815번 맞힌 사람 (Python) - 1 페이지.png\">"
            ]
        },
        {
            "cell_type": "markdown",
            "metadata": {},
            "source": [
                "## 해답"
            ]
        },
        {
            "cell_type": "code",
            "execution_count": 1,
            "metadata": {},
            "outputs": [],
            "source": [
                "def solution():\n",
                "    import sys\n",
                "\n",
                "    A, B = sys.stdin.read().split(\"\\n\")[1::2]\n",
                "    A = set(A.split())\n",
                "    B = B.split()\n",
                "    print(\"\".join(\"1 \" if x in A else \"0 \" for x in B))\n",
                "\n",
                "solution()"
            ]
        },
        {
            "cell_type": "markdown",
            "metadata": {},
            "source": [
                "## 예제"
            ]
        },
        {
            "cell_type": "code",
            "execution_count": 2,
            "metadata": {},
            "outputs": [],
            "source": [
                "# 백준 문제 풀이용 예제 실행 코드\n",
                "from bwj import test\n",
                "test_solution = test(solution)\n",
                "\n",
                "# test_solution(\"\"\"\"\"\")\n",
                "# test_solution(read(\"fn\").read())"
            ]
        },
        {
            "cell_type": "code",
            "execution_count": 3,
            "metadata": {},
            "outputs": [
                {
                    "name": "stdout",
                    "output_type": "stream",
                    "text": [
                        "1 0 0 1 1 0 0 1\n"
                    ]
                }
            ],
            "source": [
                "test_solution(\"\"\"5\n",
                "6 3 2 10 -10\n",
                "8\n",
                "10 9 -5 2 3 4 5 -10\"\"\") # 1 0 0 1 1 0 0 1"
            ]
        }
    ],
    "metadata": {
        "interpreter": {
            "hash": "607db476e417971f05b607c2dd14e77ee8262c2c4c20dea422522c60605a222a"
        },
        "kernelspec": {
            "display_name": "Python 3.10.2 64-bit",
            "language": "python",
            "name": "python3"
        },
        "language_info": {
            "codemirror_mode": {
                "name": "ipython",
                "version": 3
            },
            "file_extension": ".py",
            "mimetype": "text/x-python",
            "name": "python",
            "nbconvert_exporter": "python",
            "pygments_lexer": "ipython3",
            "version": "3.10.2"
        },
        "orig_nbformat": 4
    },
    "nbformat": 4,
    "nbformat_minor": 2
}
