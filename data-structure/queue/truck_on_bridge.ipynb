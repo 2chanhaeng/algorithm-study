{
 "cells": [
  {
   "cell_type": "code",
   "execution_count": 2,
   "metadata": {},
   "outputs": [],
   "source": [
    "from collections import deque as Q"
   ]
  },
  {
   "cell_type": "code",
   "execution_count": 29,
   "metadata": {},
   "outputs": [],
   "source": [
    "def solution(bridge_length, weight, truck_weights):\n",
    "    answer = 0\n",
    "    wq, bq = Q(truck_weights), Q([0] * bridge_length)\n",
    "    new = wq.popleft()\n",
    "    bw = 0\n",
    "    print(answer, bq, wq)\n",
    "    while len(wq) | bw | new:\n",
    "        answer += 1 \n",
    "        bw -= bq.popleft()\n",
    "        if new + bw =< weight:\n",
    "            bw += new\n",
    "            bq.append(new)\n",
    "            new = wq.popleft() if wq else 0\n",
    "        else:\n",
    "            bq.append(0)\n",
    "        print(answer, bq,wq)\n",
    "    return answer"
   ]
  },
  {
   "cell_type": "code",
   "execution_count": 31,
   "metadata": {},
   "outputs": [
    {
     "name": "stdout",
     "output_type": "stream",
     "text": [
      "0 deque([0, 0]) deque([4, 5, 6])\n",
      "1 deque([0, 7]) deque([5, 6])\n",
      "2 deque([7, 0]) deque([5, 6])\n",
      "3 deque([0, 4]) deque([6])\n",
      "4 deque([4, 5]) deque([])\n",
      "5 deque([5, 0]) deque([])\n",
      "6 deque([0, 6]) deque([])\n",
      "7 deque([6, 0]) deque([])\n",
      "8 deque([0, 0]) deque([])\n"
     ]
    },
    {
     "data": {
      "text/plain": [
       "8"
      ]
     },
     "execution_count": 31,
     "metadata": {},
     "output_type": "execute_result"
    }
   ],
   "source": [
    "solution(2, 10, [7,4,5,6])"
   ]
  },
  {
   "cell_type": "code",
   "execution_count": 26,
   "metadata": {},
   "outputs": [
    {
     "name": "stdout",
     "output_type": "stream",
     "text": [
      "deque([]) deque([0, 0, 0, 0, 0, 0, 0, 0, 0, 10])\n",
      "deque([]) deque([0, 0, 0, 0, 0, 0, 0, 0, 10, 0])\n",
      "deque([]) deque([0, 0, 0, 0, 0, 0, 0, 10, 0, 0])\n",
      "deque([]) deque([0, 0, 0, 0, 0, 0, 10, 0, 0, 0])\n",
      "deque([]) deque([0, 0, 0, 0, 0, 10, 0, 0, 0, 0])\n",
      "deque([]) deque([0, 0, 0, 0, 10, 0, 0, 0, 0, 0])\n",
      "deque([]) deque([0, 0, 0, 10, 0, 0, 0, 0, 0, 0])\n",
      "deque([]) deque([0, 0, 10, 0, 0, 0, 0, 0, 0, 0])\n",
      "deque([]) deque([0, 10, 0, 0, 0, 0, 0, 0, 0, 0])\n",
      "deque([]) deque([10, 0, 0, 0, 0, 0, 0, 0, 0, 0])\n",
      "deque([]) deque([0, 0, 0, 0, 0, 0, 0, 0, 0, 0])\n"
     ]
    },
    {
     "data": {
      "text/plain": [
       "11"
      ]
     },
     "execution_count": 26,
     "metadata": {},
     "output_type": "execute_result"
    }
   ],
   "source": [
    "solution(10, 100, [10])\n"
   ]
  },
  {
   "cell_type": "code",
   "execution_count": 33,
   "metadata": {},
   "outputs": [
    {
     "name": "stdout",
     "output_type": "stream",
     "text": [
      "0 deque([0, 0, 0, 0, 0, 0, 0, 0, 0, 0, 0]) deque([10, 10, 10, 10, 10, 10, 10, 10, 10])\n",
      "1 deque([0, 0, 0, 0, 0, 0, 0, 0, 0, 0, 10]) deque([10, 10, 10, 10, 10, 10, 10, 10])\n",
      "2 deque([0, 0, 0, 0, 0, 0, 0, 0, 0, 10, 10]) deque([10, 10, 10, 10, 10, 10, 10])\n",
      "3 deque([0, 0, 0, 0, 0, 0, 0, 0, 10, 10, 10]) deque([10, 10, 10, 10, 10, 10])\n",
      "4 deque([0, 0, 0, 0, 0, 0, 0, 10, 10, 10, 10]) deque([10, 10, 10, 10, 10])\n",
      "5 deque([0, 0, 0, 0, 0, 0, 10, 10, 10, 10, 10]) deque([10, 10, 10, 10])\n",
      "6 deque([0, 0, 0, 0, 0, 10, 10, 10, 10, 10, 10]) deque([10, 10, 10])\n",
      "7 deque([0, 0, 0, 0, 10, 10, 10, 10, 10, 10, 10]) deque([10, 10])\n",
      "8 deque([0, 0, 0, 10, 10, 10, 10, 10, 10, 10, 10]) deque([10])\n",
      "9 deque([0, 0, 10, 10, 10, 10, 10, 10, 10, 10, 10]) deque([])\n",
      "10 deque([0, 10, 10, 10, 10, 10, 10, 10, 10, 10, 0]) deque([])\n",
      "11 deque([10, 10, 10, 10, 10, 10, 10, 10, 10, 0, 0]) deque([])\n",
      "12 deque([10, 10, 10, 10, 10, 10, 10, 10, 0, 0, 10]) deque([])\n",
      "13 deque([10, 10, 10, 10, 10, 10, 10, 0, 0, 10, 0]) deque([])\n",
      "14 deque([10, 10, 10, 10, 10, 10, 0, 0, 10, 0, 0]) deque([])\n",
      "15 deque([10, 10, 10, 10, 10, 0, 0, 10, 0, 0, 0]) deque([])\n",
      "16 deque([10, 10, 10, 10, 0, 0, 10, 0, 0, 0, 0]) deque([])\n",
      "17 deque([10, 10, 10, 0, 0, 10, 0, 0, 0, 0, 0]) deque([])\n",
      "18 deque([10, 10, 0, 0, 10, 0, 0, 0, 0, 0, 0]) deque([])\n",
      "19 deque([10, 0, 0, 10, 0, 0, 0, 0, 0, 0, 0]) deque([])\n",
      "20 deque([0, 0, 10, 0, 0, 0, 0, 0, 0, 0, 0]) deque([])\n",
      "21 deque([0, 10, 0, 0, 0, 0, 0, 0, 0, 0, 0]) deque([])\n",
      "22 deque([10, 0, 0, 0, 0, 0, 0, 0, 0, 0, 0]) deque([])\n",
      "23 deque([0, 0, 0, 0, 0, 0, 0, 0, 0, 0, 0]) deque([])\n"
     ]
    },
    {
     "data": {
      "text/plain": [
       "23"
      ]
     },
     "execution_count": 33,
     "metadata": {},
     "output_type": "execute_result"
    }
   ],
   "source": [
    "solution(10, 100, [10, 10, 10, 10, 10, 10, 10, 10, 10, 10])\n"
   ]
  }
 ],
 "metadata": {
  "interpreter": {
   "hash": "085635c7bab703e7bb5a41fe64c7278518d529ae783e191374674f75ba478b45"
  },
  "kernelspec": {
   "display_name": "Python 3.10.2 64-bit",
   "language": "python",
   "name": "python3"
  },
  "language_info": {
   "codemirror_mode": {
    "name": "ipython",
    "version": 3
   },
   "file_extension": ".py",
   "mimetype": "text/x-python",
   "name": "python",
   "nbconvert_exporter": "python",
   "pygments_lexer": "ipython3",
   "version": "3.10.2"
  },
  "orig_nbformat": 4
 },
 "nbformat": 4,
 "nbformat_minor": 2
}
