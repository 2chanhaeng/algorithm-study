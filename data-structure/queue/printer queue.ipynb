{
 "cells": [
  {
   "cell_type": "markdown",
   "metadata": {},
   "source": [
    "# [백준/프린터 큐](https://www.acmicpc.net/problem/1966)\n",
    "[프로그래머스/프린터](https://programmers.co.kr/learn/courses/30/lessons/42587)"
   ]
  },
  {
   "cell_type": "markdown",
   "metadata": {},
   "source": [
    "## 풀이과정"
   ]
  },
  {
   "cell_type": "markdown",
   "metadata": {},
   "source": [
    "### 첫번째 시도"
   ]
  },
  {
   "cell_type": "markdown",
   "metadata": {},
   "source": [
    "풀이과정"
   ]
  },
  {
   "cell_type": "code",
   "execution_count": null,
   "metadata": {},
   "outputs": [],
   "source": [
    "def min_bigger(array, num):\n",
    "    return sum([i < num for i in array], 0)\n",
    "\n",
    "\n",
    "for _ in range(int(input())):\n",
    "    _, location = input().split()\n",
    "    priorities = list(map(int, input().split()))\n",
    "    location = int(location)\n",
    "    answer = 1\n",
    "    l = priorities[location]\n",
    "    index_dict = {\n",
    "        i: [j for j, k in enumerate(priorities) if i == k]\n",
    "        for i in priorities\n",
    "        if i in priorities\n",
    "    }\n",
    "    last = 0\n",
    "    for i in sorted(index_dict.keys(), reverse=True):\n",
    "        curr = index_dict[i]\n",
    "        if i == l:\n",
    "            answer += (curr.index(location) - min_bigger(curr, last)) % len(curr)\n",
    "            print(answer)\n",
    "            break\n",
    "        last = curr[min_bigger(curr, last) - 1]\n",
    "        answer += len(curr)"
   ]
  },
  {
   "cell_type": "markdown",
   "metadata": {},
   "source": [
    "## 해답"
   ]
  },
  {
   "cell_type": "code",
   "execution_count": 185,
   "metadata": {},
   "outputs": [],
   "source": [
    "def min_bigger(array, num):\n",
    "    return sum([i < num for i in array], 0)"
   ]
  },
  {
   "cell_type": "code",
   "execution_count": 192,
   "metadata": {},
   "outputs": [],
   "source": [
    "# 해답\n",
    "# import sys;input = sys.stdin.readline\n",
    "def solution(input):\n",
    "    for _ in range(int(input())):\n",
    "        _, location = input().split()\n",
    "        priorities = list(map(int, input().split()))\n",
    "        location = int(location)\n",
    "        answer = 1\n",
    "        l = priorities[location]\n",
    "        index_dict = {\n",
    "            i: [j for j, k in enumerate(priorities) if i == k]\n",
    "            for i in priorities\n",
    "            if i in priorities\n",
    "        }\n",
    "        last = 0\n",
    "        for i in sorted(index_dict.keys(), reverse=True):\n",
    "            curr = index_dict[i]\n",
    "            if i == l:\n",
    "                answer += (curr.index(location) - min_bigger(curr, last)) % len(curr)\n",
    "                print(answer)\n",
    "                break\n",
    "            last = curr[min_bigger(curr, last) - 1]\n",
    "            answer += len(curr)"
   ]
  },
  {
   "cell_type": "markdown",
   "metadata": {},
   "source": [
    "## 테스트 결과"
   ]
  },
  {
   "cell_type": "markdown",
   "metadata": {},
   "source": [
    "|테스트|결과|\n",
    "|---:|:---|"
   ]
  },
  {
   "cell_type": "markdown",
   "metadata": {},
   "source": [
    "## 예제"
   ]
  },
  {
   "cell_type": "code",
   "execution_count": 193,
   "metadata": {},
   "outputs": [],
   "source": [
    "# 백준 문제 풀이용 예제 실행 코드\n",
    "from inspect import signature\n",
    "\n",
    "\n",
    "def solution_example(input_=None, solution=solution):\n",
    "    params = signature(solution).parameters\n",
    "    if input_ == None:\n",
    "        solution()\n",
    "    elif \"open\" in params:\n",
    "\n",
    "        class open:\n",
    "            def __init__(self, x):\n",
    "                self.read = lambda: input_\n",
    "\n",
    "            def __iter__(self):\n",
    "                return iter(input_.split(\"\\n\"))\n",
    "\n",
    "        solution(open)\n",
    "    elif \"input\" in params:\n",
    "        input_ = iter(input_.split(\"\\n\"))\n",
    "        input = input_.__next__\n",
    "        solution(input)\n",
    "    else:\n",
    "        raise NameError(\n",
    "            f\"solution 함수가 input, open 등의 매개변수를 받지 않습니다.\\nsolution 의 매개변수: {params}\"\n",
    "        )\n",
    "\n",
    "\n",
    "# solution_example(\"\"\"\"\"\")\n",
    "# solution_example(read(\"fn\").read())"
   ]
  },
  {
   "cell_type": "code",
   "execution_count": 194,
   "metadata": {},
   "outputs": [
    {
     "name": "stdout",
     "output_type": "stream",
     "text": [
      "1\n",
      "2\n",
      "5\n"
     ]
    }
   ],
   "source": [
    "solution_example(\n",
    "    \"\"\"3\n",
    "1 0\n",
    "5\n",
    "4 2\n",
    "1 2 3 4\n",
    "6 0\n",
    "1 1 9 1 1 1\"\"\"\n",
    ")"
   ]
  }
 ],
 "metadata": {
  "interpreter": {
   "hash": "73891b0dc2e53390f36276e59930dd4ecab91b05b5c90320c2d5b1c443f87069"
  },
  "kernelspec": {
   "display_name": "Python 3.10.1 ('venv': venv)",
   "language": "python",
   "name": "python3"
  },
  "language_info": {
   "codemirror_mode": {
    "name": "ipython",
    "version": 3
   },
   "file_extension": ".py",
   "mimetype": "text/x-python",
   "name": "python",
   "nbconvert_exporter": "python",
   "pygments_lexer": "ipython3",
   "version": "3.10.1"
  },
  "orig_nbformat": 4
 },
 "nbformat": 4,
 "nbformat_minor": 2
}
