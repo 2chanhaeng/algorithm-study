{
 "cells": [
  {
   "cell_type": "markdown",
   "metadata": {},
   "source": [
    "# [백준/IOIOI](https://www.acmicpc.net/problem/5525)"
   ]
  },
  {
   "cell_type": "markdown",
   "metadata": {},
   "source": [
    "## 풀이과정"
   ]
  },
  {
   "cell_type": "markdown",
   "metadata": {},
   "source": [
    "### 첫번째 시도"
   ]
  },
  {
   "cell_type": "markdown",
   "metadata": {},
   "source": [
    "풀이과정"
   ]
  },
  {
   "cell_type": "code",
   "execution_count": null,
   "metadata": {},
   "outputs": [],
   "source": [
    "import sys;input = lambda: sys.stdin.readline().rstrip();print = lambda x: sys.stdout.write(str(x)+\"\\n\")\n",
    "import re\n",
    "N, M, S = [*open(0)]\n",
    "query = '(?=%s)'%(\"IO\" * int(N) + \"I\")\n",
    "print(sum(1 for _ in re.finditer(query, S)))"
   ]
  },
  {
   "cell_type": "markdown",
   "metadata": {},
   "source": [
    "### 두번째 시도"
   ]
  },
  {
   "cell_type": "markdown",
   "metadata": {},
   "source": [
    "풀이과정"
   ]
  },
  {
   "cell_type": "code",
   "execution_count": 165,
   "metadata": {},
   "outputs": [
    {
     "name": "stdout",
     "output_type": "stream",
     "text": [
      "4\n"
     ]
    }
   ],
   "source": [
    "import sys;input = lambda: sys.stdin.readline().rstrip();print = lambda x: sys.stdout.write(str(x)+\"\\n\")\n",
    "N = int(input())\n",
    "_ = input()\n",
    "S = int(\"\".join([\"1\" if i == \"I\" else \"0\" for i in input()]), 2)\n",
    "s = int(\"10\" * int(N) + \"1\", 2)\n",
    "n = 2 ** s.bit_length()\n",
    "r = 0\n",
    "while S:\n",
    "    if S % n ^ s: S >>=1\n",
    "    else:\n",
    "        r += 1\n",
    "        S >>= 2\n",
    "print(r)"
   ]
  },
  {
   "cell_type": "markdown",
   "metadata": {},
   "source": [
    "### 세번째 시도"
   ]
  },
  {
   "cell_type": "markdown",
   "metadata": {},
   "source": [
    "풀이과정"
   ]
  },
  {
   "cell_type": "code",
   "execution_count": 1,
   "metadata": {},
   "outputs": [
    {
     "name": "stdout",
     "output_type": "stream",
     "text": [
      "4\n"
     ]
    }
   ],
   "source": [
    "import sys;input = lambda: sys.stdin.readline().rstrip();print = lambda x: sys.stdout.write(str(x)+\"\\n\")\n",
    "N = int(input()) # N 입력\n",
    "_ = input() # M 입력 (생략)\n",
    "S = int(\"\".join([\"1\" if i == \"I\" else \"0\" for i in input()]), 2)\n",
    "# S를 입력받아 I 를 1로, O 를 0으로 생각하여 이진법 수로 S를 전환합니다.\n",
    "count = 0 # 카운터입니다.\n",
    "pattern = 0 # 패턴을 저장합니다.\n",
    "while S % 8 ^ 5:\n",
    "    # S의 마지막 세자리가 101이 아닌 동안 다음을 반복합니다.\n",
    "    if S: S >>= 1\n",
    "    # S가 0이 아니면 마지막을 지우고,\n",
    "    else: break\n",
    "    # S가 0이면 반복문을 종료합니다.\n",
    "while S:\n",
    "    # S가 0이 아닌 동안 반복합니다.\n",
    "    complete, pattern = divmod(pattern * 2 + 1, n)\n",
    "    # pattern에 1\n",
    "    count += complete\n",
    "    S >>= 2\n",
    "    if S % 8 ^ 5:\n",
    "        pattern = 0\n",
    "        while S % 8 ^ 5:\n",
    "            if S: S >>= 1\n",
    "            else: break\n",
    "print(count)"
   ]
  },
  {
   "cell_type": "markdown",
   "metadata": {},
   "source": [
    "### 네번째 시도"
   ]
  },
  {
   "cell_type": "markdown",
   "metadata": {},
   "source": [
    "풀이과정"
   ]
  },
  {
   "cell_type": "code",
   "execution_count": null,
   "metadata": {},
   "outputs": [],
   "source": [
    "N = int(input())\n",
    "M = int(input())\n",
    "S = input()\n",
    "r = 0\n",
    "p = 0\n",
    "i = 0\n",
    "while i < M:\n",
    "    if S[i:i + 3] == \"IOI\":\n",
    "        p += 1\n",
    "        if p == N:\n",
    "            p -= 1\n",
    "            r += 1\n",
    "        i += 2\n",
    "    else:\n",
    "        i += 1\n",
    "print(r)"
   ]
  },
  {
   "cell_type": "markdown",
   "metadata": {},
   "source": [
    "## 해답"
   ]
  },
  {
   "cell_type": "code",
   "execution_count": 62,
   "metadata": {},
   "outputs": [
    {
     "name": "stdout",
     "output_type": "stream",
     "text": [
      "11 011\n"
     ]
    }
   ],
   "source": [
    "def b(x, q = None):\n",
    "    if q: return(bin(x)[2:].zfill(q))\n",
    "    else: return(bin(x)[2:])\n",
    "print(b(3), b(3,3))"
   ]
  },
  {
   "cell_type": "code",
   "execution_count": 239,
   "metadata": {},
   "outputs": [],
   "source": [
    "def solution(input):\n",
    "    N = int(input())\n",
    "    M = int(input())\n",
    "    S = input()\n",
    "    r = 0\n",
    "    p = 0\n",
    "    i = 0\n",
    "    while i < M:\n",
    "        if S[i:i + 3] == \"IOI\":\n",
    "            p += 1\n",
    "            if p == N:\n",
    "                p -= 1\n",
    "                r += 1\n",
    "            i += 2\n",
    "        else:\n",
    "            p = 0\n",
    "            i += 1\n",
    "    print(r)"
   ]
  },
  {
   "cell_type": "markdown",
   "metadata": {},
   "source": [
    "## 예제"
   ]
  },
  {
   "cell_type": "code",
   "execution_count": 256,
   "metadata": {},
   "outputs": [],
   "source": [
    "# 백준 문제 풀이용 예제 실행 코드\n",
    "from inspect import signature\n",
    "def solution_example(input_ = None, solution=solution):\n",
    "    params = signature(solution).parameters\n",
    "    if input_ == None:\n",
    "        solution()\n",
    "    elif 'open' in params:\n",
    "        class open:\n",
    "            def __init__(self, _):\n",
    "                self.read = lambda: input_\n",
    "            def __iter__(self):\n",
    "                return iter(input_.split(\"\\n\"))\n",
    "        solution(open)\n",
    "    elif 'input' in params:\n",
    "        input_ = iter(input_.split(\"\\n\"))\n",
    "        input = input_.__next__\n",
    "        solution(input)\n",
    "    else:\n",
    "        raise NameError(f'solution 함수가 input, open 등의 매개변수를 받지 않습니다.\\nsolution 의 매개변수: {params}')\n",
    "    \n",
    "        \n",
    "# solution_example(\"\"\"\"\"\")\n",
    "# solution_example(read(\"fn\").read())"
   ]
  },
  {
   "cell_type": "code",
   "execution_count": 257,
   "metadata": {},
   "outputs": [
    {
     "name": "stdout",
     "output_type": "stream",
     "text": [
      "5\n"
     ]
    }
   ],
   "source": [
    "solution_example(\"\"\"3\n",
    "15\n",
    "IOIOIOIOIOIOIOI\"\"\") # 5"
   ]
  },
  {
   "cell_type": "code",
   "execution_count": 242,
   "metadata": {},
   "outputs": [
    {
     "name": "stdout",
     "output_type": "stream",
     "text": [
      "7\n",
      "6\n"
     ]
    }
   ],
   "source": [
    "solution_example(\"\"\"1\n",
    "15\n",
    "IOIOIOIOIOIOIOI\"\"\") # 7\n",
    "solution_example(\"\"\"2\n",
    "15\n",
    "IOIOIOIOIOIOIOI\"\"\") # 6"
   ]
  },
  {
   "cell_type": "code",
   "execution_count": 260,
   "metadata": {},
   "outputs": [
    {
     "name": "stdout",
     "output_type": "stream",
     "text": [
      "0\n",
      "0\n",
      "1\n"
     ]
    }
   ],
   "source": [
    "solution_example(\"\"\"1\n",
    "35\n",
    "OOOOOOOOOOOOOOOOOOOOOIIIIIIIIIIIIII\"\"\") # 0\n",
    "solution_example(\"\"\"1\n",
    "35\n",
    "IIIIIIIIIIIIIIOOOOOOOOOOOOOOOOOOOOO\"\"\") # 0\n",
    "solution_example(\"\"\"1\n",
    "35\n",
    "IIIIIIIIIIIIIIOIIIIIIIIIIIIIIIIIIII\"\"\") # 1"
   ]
  },
  {
   "cell_type": "code",
   "execution_count": 245,
   "metadata": {},
   "outputs": [
    {
     "name": "stdout",
     "output_type": "stream",
     "text": [
      "1\n"
     ]
    }
   ],
   "source": [
    "solution_example(\"\"\"1\n",
    "6\n",
    "IOIOOI\"\"\") # 1"
   ]
  },
  {
   "cell_type": "code",
   "execution_count": 246,
   "metadata": {},
   "outputs": [
    {
     "name": "stdout",
     "output_type": "stream",
     "text": [
      "6\n"
     ]
    }
   ],
   "source": [
    "solution_example(\"\"\"2\n",
    "25\n",
    "OOIOIIOIOIOIOIOIOIOIOOIOI\"\"\") # 6"
   ]
  },
  {
   "cell_type": "code",
   "execution_count": 247,
   "metadata": {},
   "outputs": [
    {
     "name": "stdout",
     "output_type": "stream",
     "text": [
      "0\n"
     ]
    }
   ],
   "source": [
    "solution_example(\"\"\"1\n",
    "3\n",
    "IIO\"\"\") # 0"
   ]
  },
  {
   "cell_type": "code",
   "execution_count": 248,
   "metadata": {},
   "outputs": [
    {
     "name": "stdout",
     "output_type": "stream",
     "text": [
      "1\n"
     ]
    }
   ],
   "source": [
    "solution_example(\"\"\"1\n",
    "4\n",
    "OIOI\"\"\") # 1"
   ]
  },
  {
   "cell_type": "code",
   "execution_count": 249,
   "metadata": {},
   "outputs": [
    {
     "name": "stdout",
     "output_type": "stream",
     "text": [
      "2\n"
     ]
    }
   ],
   "source": [
    "solution_example(\"\"\"2\n",
    "7\n",
    "IOIOIOI\"\"\") # 2"
   ]
  },
  {
   "cell_type": "code",
   "execution_count": 250,
   "metadata": {},
   "outputs": [
    {
     "name": "stdout",
     "output_type": "stream",
     "text": [
      "4\n"
     ]
    }
   ],
   "source": [
    "solution_example(\"\"\"1\n",
    "13\n",
    "OOIOIOIOIIOII\"\"\") # 4"
   ]
  },
  {
   "cell_type": "code",
   "execution_count": 251,
   "metadata": {},
   "outputs": [
    {
     "name": "stdout",
     "output_type": "stream",
     "text": [
      "2\n"
     ]
    }
   ],
   "source": [
    "solution_example(\"\"\"2\n",
    "13\n",
    "OOIOIOIOIIOII\"\"\") # 2"
   ]
  }
 ],
 "metadata": {
  "interpreter": {
   "hash": "73891b0dc2e53390f36276e59930dd4ecab91b05b5c90320c2d5b1c443f87069"
  },
  "kernelspec": {
   "display_name": "Python 3.10.1 ('venv': venv)",
   "language": "python",
   "name": "python3"
  },
  "language_info": {
   "codemirror_mode": {
    "name": "ipython",
    "version": 3
   },
   "file_extension": ".py",
   "mimetype": "text/x-python",
   "name": "python",
   "nbconvert_exporter": "python",
   "pygments_lexer": "ipython3",
   "version": "3.10.1"
  },
  "orig_nbformat": 4
 },
 "nbformat": 4,
 "nbformat_minor": 2
}
