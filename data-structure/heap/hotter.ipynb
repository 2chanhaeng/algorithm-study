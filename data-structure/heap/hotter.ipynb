{
 "cells": [
  {
   "cell_type": "markdown",
   "metadata": {},
   "source": [
    "[프로그래머스/더 맵게](https://programmers.co.kr/learn/courses/30/lessons/42626)"
   ]
  },
  {
   "cell_type": "code",
   "execution_count": 12,
   "metadata": {},
   "outputs": [],
   "source": [
    "from heapq import heappop as hpop, heappush as hpush, heapify as hfy"
   ]
  },
  {
   "cell_type": "code",
   "execution_count": 95,
   "metadata": {},
   "outputs": [],
   "source": [
    "def solution(scoville, K):\n",
    "    answer = 0  # 횟수를 셀 정답 카운터입니다.\n",
    "    hfy(scoville)  # 입력된 리스트를 먼저 힙처럼 만들어줍니다.\n",
    "    print(scoville)  # 중간 확인용\n",
    "    while len(scoville) > 1:  # 매번 두 개씩 뽑아야 하므로, 리스트의 크기가 1개 초과일 때만 반복합니다.\n",
    "        if (minnest := hpop(scoville)) > K:  # 힙에서 뽑은, 즉 가장 작은 수가 기준보다 큰 경우\n",
    "            return answer  # 정답을 출력합니다.\n",
    "        hpush(\n",
    "            scoville, minnest + hpop(scoville) * 2\n",
    "        )  # 이미 뽑은 가장 값에 두번째로 작은 값의 두 배를 더하여 힙에 넣습니다.\n",
    "        answer += 1  # 카운터를 증가시킵니다.\n",
    "        print(scoville)  # 중간 확인용\n",
    "    print(scoville[0], K)  # 중간 확인용\n",
    "    return (\n",
    "        -1 if scoville[0] < K else answer\n",
    "    )  # 리스트의 하나만 남은 값이 기준보다 크거나 같은 경우, 문제에 부합하므로 출력하고, 그렇지 않은 경우만 -1을 출력합니다."
   ]
  },
  {
   "cell_type": "markdown",
   "metadata": {},
   "source": [
    "|테스트|결과|\n",
    "|---:|:---|\n",
    "|테스트 1 〉|통과 (149.29ms, 16.3MB)|\n",
    "|테스트 2 〉|통과 (344.34ms, 21.8MB)|\n",
    "|테스트 3 〉|통과 (1655.56ms, 49.8MB)|\n",
    "|테스트 4 〉|통과 (117.75ms, 14.9MB)|\n",
    "|테스트 5 〉|통과 (1838.25ms, 51.8MB)|\n",
    "|테스트 1 〉|통과 (0.00ms, 10.2MB)|\n",
    "|테스트 2 〉|통과 (0.00ms, 10.3MB)|\n",
    "|테스트 3 〉|통과 (0.01ms, 10.2MB)|\n",
    "|테스트 4 〉|통과 (0.00ms, 10.1MB)|\n",
    "|테스트 5 〉|통과 (0.00ms, 10.4MB)|\n",
    "|테스트 6 〉|통과 (0.37ms, 10.2MB)|\n",
    "|테스트 7 〉|통과 (0.31ms, 10.1MB)|\n",
    "|테스트 8 〉|통과 (0.04ms, 10.2MB)|\n",
    "|테스트 9 〉|통과 (0.05ms, 10.2MB)|\n",
    "|테스트 10 〉|통과 (0.25ms, 10.3MB)|\n",
    "|테스트 11 〉|통과 (0.16ms, 10.3MB)|\n",
    "|테스트 12 〉|통과 (0.57ms, 10.2MB)|\n",
    "|테스트 13 〉|통과 (0.30ms, 10.2MB)|\n",
    "|테스트 14 〉|통과 (0.01ms, 10.1MB)|\n",
    "|테스트 15 〉|통과 (0.41ms, 10.4MB)|\n",
    "|테스트 16 〉|통과 (0.00ms, 10.2MB)|\n",
    "|효율성 테스트 1 〉|통과 (149.29ms, 16.3MB)|\n",
    "|효율성 테스트 2 〉|통과 (344.34ms, 21.8MB)|\n",
    "|효율성 테스트 3 〉|통과 (1655.56ms, 49.8MB)|\n",
    "|효율성 테스트 4 〉|통과 (117.75ms, 14.9MB)|\n",
    "|효율성 테스트 5 〉|통과 (1838.25ms, 51.8MB)|"
   ]
  },
  {
   "cell_type": "markdown",
   "metadata": {},
   "source": [
    "# 예제 코드"
   ]
  },
  {
   "cell_type": "code",
   "execution_count": 102,
   "metadata": {},
   "outputs": [
    {
     "name": "stdout",
     "output_type": "stream",
     "text": [
      "[1, 2, 3]\n",
      "[3, 5]\n",
      "[13]\n",
      "13 14\n"
     ]
    },
    {
     "data": {
      "text/plain": [
       "-1"
      ]
     },
     "execution_count": 102,
     "metadata": {},
     "output_type": "execute_result"
    }
   ],
   "source": [
    "solution([1, 2, 3], 14)"
   ]
  },
  {
   "cell_type": "code",
   "execution_count": 103,
   "metadata": {},
   "outputs": [
    {
     "name": "stdout",
     "output_type": "stream",
     "text": [
      "[1, 2, 3, 9, 10, 12]\n",
      "[3, 5, 10, 12, 9]\n",
      "[9, 12, 10, 13]\n"
     ]
    },
    {
     "data": {
      "text/plain": [
       "2"
      ]
     },
     "execution_count": 103,
     "metadata": {},
     "output_type": "execute_result"
    }
   ],
   "source": [
    "solution([1, 2, 3, 9, 10, 12], 7)"
   ]
  },
  {
   "cell_type": "code",
   "execution_count": 104,
   "metadata": {},
   "outputs": [
    {
     "name": "stdout",
     "output_type": "stream",
     "text": [
      "[8, 9, 10, 12]\n"
     ]
    },
    {
     "data": {
      "text/plain": [
       "0"
      ]
     },
     "execution_count": 104,
     "metadata": {},
     "output_type": "execute_result"
    }
   ],
   "source": [
    "solution([8, 9, 10, 12], 7)"
   ]
  },
  {
   "cell_type": "code",
   "execution_count": 105,
   "metadata": {},
   "outputs": [
    {
     "name": "stdout",
     "output_type": "stream",
     "text": [
      "[1, 2, 3, 4, 5, 6, 7, 8, 9, 10, 11, 12, 13, 14, 15, 16, 17, 18, 19, 20]\n",
      "[3, 4, 6, 5, 5, 12, 7, 16, 8, 10, 11, 19, 13, 14, 15, 20, 17, 18, 9]\n",
      "[5, 5, 6, 8, 9, 12, 7, 16, 11, 10, 11, 19, 13, 14, 15, 20, 17, 18]\n",
      "[6, 8, 7, 11, 9, 12, 14, 15, 18, 10, 11, 19, 13, 17, 15, 20, 16]\n",
      "[8, 9, 12, 11, 10, 13, 14, 15, 18, 20, 11, 19, 16, 17, 15, 20]\n",
      "[10, 11, 12, 11, 15, 13, 14, 15, 18, 20, 20, 19, 16, 17, 26]\n",
      "[11, 15, 12, 15, 17, 13, 14, 26, 18, 20, 20, 19, 16, 32]\n",
      "[13, 15, 14, 15, 17, 16, 32, 26, 18, 20, 20, 19, 35]\n",
      "[15, 15, 16, 18, 17, 19, 32, 26, 35, 20, 20, 41]\n",
      "[16, 17, 19, 18, 20, 41, 32, 26, 35, 20, 45]\n",
      "[18, 20, 19, 26, 20, 41, 32, 45, 35, 50]\n",
      "[20, 20, 32, 26, 35, 41, 50, 45, 56]\n",
      "[26, 35, 32, 45, 56, 41, 50, 60]\n",
      "[35, 45, 41, 50, 56, 60, 90]\n",
      "[45, 50, 60, 90, 56, 117]\n",
      "[56, 90, 60, 117, 145]\n",
      "[90, 117, 145, 176]\n",
      "[145, 176, 324]\n"
     ]
    },
    {
     "data": {
      "text/plain": [
       "17"
      ]
     },
     "execution_count": 105,
     "metadata": {},
     "output_type": "execute_result"
    }
   ],
   "source": [
    "solution([1, 2, 3, 4, 5, 6, 7, 8, 9, 10, 11, 12, 13, 14, 15, 16, 17, 18, 19, 20], 100)"
   ]
  },
  {
   "cell_type": "code",
   "execution_count": 106,
   "metadata": {},
   "outputs": [
    {
     "name": "stdout",
     "output_type": "stream",
     "text": [
      "[2, 6, 3, 9, 8, 10, 12]\n",
      "[6, 8, 8, 9, 12, 10]\n",
      "[8, 9, 10, 12, 22]\n"
     ]
    },
    {
     "data": {
      "text/plain": [
       "2"
      ]
     },
     "execution_count": 106,
     "metadata": {},
     "output_type": "execute_result"
    }
   ],
   "source": [
    "solution([8, 9, 3, 2, 6, 10, 12], 7)"
   ]
  },
  {
   "cell_type": "code",
   "execution_count": 107,
   "metadata": {},
   "outputs": [
    {
     "name": "stdout",
     "output_type": "stream",
     "text": [
      "[8, 9, 10, 12]\n",
      "[10, 12, 26]\n",
      "[26, 34]\n",
      "[94]\n",
      "94 94\n"
     ]
    },
    {
     "data": {
      "text/plain": [
       "3"
      ]
     },
     "execution_count": 107,
     "metadata": {},
     "output_type": "execute_result"
    }
   ],
   "source": [
    "solution([8, 9, 10, 12], 94)"
   ]
  }
 ],
 "metadata": {
  "interpreter": {
   "hash": "aafdc7bb59d502ca6429f57e66e46b244810906baa5f1304b483d457e8d4ced4"
  },
  "kernelspec": {
   "display_name": "Python 3.10.2 ('venv': venv)",
   "language": "python",
   "name": "python3"
  },
  "language_info": {
   "codemirror_mode": {
    "name": "ipython",
    "version": 3
   },
   "file_extension": ".py",
   "mimetype": "text/x-python",
   "name": "python",
   "nbconvert_exporter": "python",
   "pygments_lexer": "ipython3",
   "version": "3.10.2"
  },
  "orig_nbformat": 4
 },
 "nbformat": 4,
 "nbformat_minor": 2
}
