{
 "cells": [
  {
   "cell_type": "markdown",
   "metadata": {},
   "source": [
    "# [프로그래머스/이중우선순위큐](https://programmers.co.kr/learn/courses/30/lessons/42628)"
   ]
  },
  {
   "cell_type": "markdown",
   "metadata": {},
   "source": [
    "## 풀이과정"
   ]
  },
  {
   "cell_type": "markdown",
   "metadata": {},
   "source": [
    "### 첫번째 시도"
   ]
  },
  {
   "cell_type": "markdown",
   "metadata": {},
   "source": [
    "단순히 최솟값을 구하는 힙과 최댓값을 구하는 힙을 따로 만들어 저장하였다.\\\n",
    "이 때, 둘 중 하나가 빈 힙이 되면 다른 힙도 비워서 초기화 시켰다.\n"
   ]
  },
  {
   "cell_type": "code",
   "execution_count": null,
   "metadata": {},
   "outputs": [],
   "source": [
    "from heapq import heappop as hpop, heappush as hpush\n",
    "\n",
    "\n",
    "def solution(operations):\n",
    "    answer = []\n",
    "    minheap = []\n",
    "    maxheap = []\n",
    "    for exe in operations:\n",
    "        if exe == \"D -1\":\n",
    "            if minheap:\n",
    "                hpop(minheap)\n",
    "            if not minheap:\n",
    "                maxheap = []\n",
    "        elif exe == \"D 1\":\n",
    "            if maxheap:\n",
    "                hpop(maxheap)\n",
    "            if not maxheap:\n",
    "                minheap = []\n",
    "        else:\n",
    "            print(exe)\n",
    "            push = int(exe[2:])\n",
    "            hpush(minheap, push)\n",
    "            hpush(maxheap, -1 * push)\n",
    "    return [-1 * maxheap[0], minheap[0]] if minheap else [0, 0]"
   ]
  },
  {
   "cell_type": "markdown",
   "metadata": {},
   "source": [
    "### 두번째 시도"
   ]
  },
  {
   "cell_type": "markdown",
   "metadata": {},
   "source": [
    "첫번째 시도에서 너무 단순하게 생각해서 D 1, D -1 동시에 나와 자료가 비는 것을 염두하지 못하여 오류가 났다.\\\n",
    "이를 방지하기 위해서 길이 값을 예측하는 length 변수를 만들어 삭제 후 길이가 0이 되면 두 힙 모두 초기화하도록 만들었다."
   ]
  },
  {
   "cell_type": "code",
   "execution_count": null,
   "metadata": {},
   "outputs": [],
   "source": [
    "from heapq import heappop as hpop, heappush as hpush\n",
    "\n",
    "\n",
    "def solution(operations):\n",
    "    answer = []\n",
    "    minheap = []\n",
    "    maxheap = []\n",
    "    length = 0\n",
    "    for exe in operations:\n",
    "        if exe == \"D -1\":\n",
    "            if minheap:\n",
    "                hpop(minheap)\n",
    "                length -= 1\n",
    "            if not length:\n",
    "                minheap = []\n",
    "                maxheap = []\n",
    "        elif exe == \"D 1\":\n",
    "            if maxheap:\n",
    "                hpop(maxheap)\n",
    "                length -= 1\n",
    "            if not length:\n",
    "                minheap = []\n",
    "                maxheap = []\n",
    "        else:\n",
    "            length += 1\n",
    "            push = int(exe[2:])\n",
    "            hpush(minheap, push)\n",
    "            hpush(maxheap, -1 * push)\n",
    "    return [-1 * maxheap[0], minheap[0]] if minheap else [0, 0]"
   ]
  },
  {
   "cell_type": "markdown",
   "metadata": {},
   "source": [
    "## 해답"
   ]
  },
  {
   "cell_type": "code",
   "execution_count": null,
   "metadata": {},
   "outputs": [],
   "source": [
    "from heapq import heappop as hpop, heappush as hpush"
   ]
  },
  {
   "cell_type": "code",
   "execution_count": 35,
   "metadata": {},
   "outputs": [],
   "source": [
    "def solution(operations):\n",
    "    answer = []  # 실수로 삭제하는 것을 잊었다.\n",
    "    minheap = []  # 최솟값을 뽑기 위한 힙\n",
    "    maxheap = []  # 최댓값을 뽑기 위한 힙\n",
    "    length = 0  # 길이를 저장하는 변수\n",
    "    for exe in operations:  # 연산식만큼 반복한다.\n",
    "        if exe == \"D -1\":  # \"D -1\" 즉 최솟값을 뽑는 연산이라면,\n",
    "            if minheap:  # 최소힙이 비어있지 않다면,\n",
    "                hpop(minheap)  # 최소힙에서 하나를 뽑은 뒤,\n",
    "                length -= 1  # 길이를 하나 줄인다.\n",
    "            if not length:  # 길이가 0이라면\n",
    "                minheap = []  # 최소힙을 비운다.\n",
    "                maxheap = []  # 최대힙을 비운다.\n",
    "        elif exe == \"D 1\":  # \"D 1\" 즉 최댓값을 뽑는 연산이라면,\n",
    "            if maxheap:  # 최소힙이 비어있지 않다면,\n",
    "                hpop(maxheap)  # 최대힙에서 하나를 뽑은 뒤,\n",
    "                length -= 1  # 길이를 하나 줄인다.\n",
    "            if not length:  # 길이가 0이라면\n",
    "                minheap = []  # 최소힙을 비우고,\n",
    "                maxheap = []  # 최대힙을 비운다.\n",
    "        else:  # 이외에는,\n",
    "            print(exe)\n",
    "            length += 1  # 길이를 하나 늘린다.\n",
    "            push = int(exe[2:])  # 연산식에서 삽입할 수를 추출해 저장한 변수\n",
    "            hpush(minheap, push)  # 최소힙에 삽입한다.\n",
    "            hpush(maxheap, -1 * push)  # 최대힙에 -1을 곱하여 삽입한다.\n",
    "    return (\n",
    "        [-1 * maxheap[0], minheap[0]] if minheap else [0, 0]\n",
    "    )  # 힙이 비어있지 않다면 최대힙에서 최댓값을, 최소힙에서 최솟값을 뽑아 반환하고, 그렇지 않다면 [0,0]을 반환한다."
   ]
  },
  {
   "cell_type": "markdown",
   "metadata": {},
   "source": [
    "## 테스트 결과"
   ]
  },
  {
   "cell_type": "markdown",
   "metadata": {},
   "source": [
    "|테스트|결과|\n",
    "|---:|:---|\n",
    "|테스트 1 〉|통과 (0.07ms, 10.4MB)|\n",
    "|테스트 2 〉|통과 (0.05ms, 10.3MB)|\n",
    "|테스트 3 〉|통과 (0.03ms, 10.3MB)|\n",
    "|테스트 4 〉|통과 (0.00ms, 10.3MB)|\n",
    "|테스트 5 〉|통과 (0.02ms, 10.3MB)|\n",
    "|테스트 6 〉|통과 (0.03ms, 10.3MB)|"
   ]
  },
  {
   "cell_type": "markdown",
   "metadata": {},
   "source": [
    "## 예제"
   ]
  },
  {
   "cell_type": "code",
   "execution_count": 40,
   "metadata": {},
   "outputs": [
    {
     "name": "stdout",
     "output_type": "stream",
     "text": [
      "I 4\n",
      "I 1\n",
      "I 5\n",
      "I 6\n"
     ]
    },
    {
     "data": {
      "text/plain": [
       "[6, 5]"
      ]
     },
     "execution_count": 40,
     "metadata": {},
     "output_type": "execute_result"
    }
   ],
   "source": [
    "solution([\"I 4\", \"I 1\", \"D 1\", \"D -1\", \"D -1\", \"I 5\", \"I 6\"])"
   ]
  },
  {
   "cell_type": "code",
   "execution_count": 39,
   "metadata": {},
   "outputs": [
    {
     "name": "stdout",
     "output_type": "stream",
     "text": [
      "I 4\n",
      "I 1\n",
      "I 5\n",
      "I 6\n"
     ]
    },
    {
     "data": {
      "text/plain": [
       "[6, 5]"
      ]
     },
     "execution_count": 39,
     "metadata": {},
     "output_type": "execute_result"
    }
   ],
   "source": [
    "solution([\"I 4\", \"I 1\", \"D 1\", \"D -1\", \"I 5\", \"I 6\"])"
   ]
  },
  {
   "cell_type": "code",
   "execution_count": 37,
   "metadata": {},
   "outputs": [
    {
     "name": "stdout",
     "output_type": "stream",
     "text": [
      "I 7\n",
      "I 5\n",
      "I -5\n"
     ]
    },
    {
     "data": {
      "text/plain": [
       "[7, 5]"
      ]
     },
     "execution_count": 37,
     "metadata": {},
     "output_type": "execute_result"
    }
   ],
   "source": [
    "solution([\"I 7\", \"I 5\", \"I -5\", \"D -1\"])"
   ]
  }
 ],
 "metadata": {
  "interpreter": {
   "hash": "aafdc7bb59d502ca6429f57e66e46b244810906baa5f1304b483d457e8d4ced4"
  },
  "kernelspec": {
   "display_name": "Python 3.10.2 ('venv': venv)",
   "language": "python",
   "name": "python3"
  },
  "language_info": {
   "codemirror_mode": {
    "name": "ipython",
    "version": 3
   },
   "file_extension": ".py",
   "mimetype": "text/x-python",
   "name": "python",
   "nbconvert_exporter": "python",
   "pygments_lexer": "ipython3",
   "version": "3.10.2"
  },
  "orig_nbformat": 4
 },
 "nbformat": 4,
 "nbformat_minor": 2
}
