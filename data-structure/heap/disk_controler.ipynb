{
 "cells": [
  {
   "cell_type": "markdown",
   "metadata": {},
   "source": [
    "# [프로그래머스/디스크 컨트롤러](https://programmers.co.kr/learn/courses/30/lessons/42627)"
   ]
  },
  {
   "cell_type": "markdown",
   "metadata": {},
   "source": [
    "## 풀이 과정"
   ]
  },
  {
   "cell_type": "markdown",
   "metadata": {},
   "source": [
    "### 첫번째 시도\n"
   ]
  },
  {
   "cell_type": "markdown",
   "metadata": {},
   "source": [
    "```python\n",
    "from heapq import heappop as hpop, heappush as hpush, heapify as hfy\n",
    "def refill(jobs, saved_jobs, time):\n",
    "    while jobs:\n",
    "        job = hpop(jobs)\n",
    "        if job[0] > time:\n",
    "            hpush(jobs, job)\n",
    "            break\n",
    "        hpush(saved_jobs, job[::-1])\n",
    "def solution(jobs):\n",
    "    answer = 0\n",
    "    total = len(jobs)\n",
    "    hfy(jobs)\n",
    "    saved_jobs = [hpop(jobs)[::-1]]\n",
    "    time = 0\n",
    "    while len(jobs) + len(saved_jobs)> 0:\n",
    "        refill(jobs, saved_jobs, time)\n",
    "        if not saved_jobs:\n",
    "            time = jobs[0][0]\n",
    "            refill(jobs, saved_jobs, time)\n",
    "        exe, req = hpop(saved_jobs)\n",
    "        if req > time:\n",
    "            time = req\n",
    "        time += exe\n",
    "        answer += time - req\n",
    "    return answer // total\n",
    "```"
   ]
  },
  {
   "cell_type": "markdown",
   "metadata": {},
   "source": [
    "# 해답"
   ]
  },
  {
   "cell_type": "code",
   "execution_count": 1,
   "metadata": {},
   "outputs": [],
   "source": [
    "from heapq import heappop as hpop, heappush as hpush, heapify as hfy"
   ]
  },
  {
   "cell_type": "code",
   "execution_count": 52,
   "metadata": {},
   "outputs": [
    {
     "name": "stdout",
     "output_type": "stream",
     "text": [
      "[[6, 2], [9, 1]] []\n"
     ]
    }
   ],
   "source": [
    "def refill(jobs, saved_jobs, time):  # time 이하의 시간에 요청되는 작업을 요청 리스트에 넣어준다.\n",
    "    while jobs:  # 무한 루프를 피하기 위해 작업 리스트가 비어 있지 않은 동안 반복한다.\n",
    "        job = hpop(jobs)  # 작업 리스트에서 요청을 하나 받아온다.\n",
    "        if job[0] > time:  # 작업의 요청 시간이 현재 시간을 넘기는 경우\n",
    "            hpush(jobs, job)  # 다시 요청을 작업 리스트에 되돌려 넣고\n",
    "            break  # 반복을 종료한다.\n",
    "        hpush(saved_jobs, job[::-1])  # 그 외에는 요청을 요청 리스트에 넣는다.\n",
    "\n",
    "\n",
    "refill((b := [[1, 9], [2, 6]]), (a := []), 3)\n",
    "print(a, b)"
   ]
  },
  {
   "cell_type": "code",
   "execution_count": 58,
   "metadata": {},
   "outputs": [],
   "source": [
    "def solution(jobs):\n",
    "    answer = 0  # 평균을 내기 전 시간을 합산할 변수\n",
    "    total = len(jobs)  # 평균을 내기 위하여 미리 개수를 세어놓은 변수\n",
    "    hfy(jobs)  # 작업 리스트를 힙화 한다.\n",
    "    saved_jobs = [hpop(jobs)[::-1]]  # 요청 리스트를 만든 뒤, 요청을 하나 받아 넣는다.\n",
    "    time = 0  # 시계 역할을 할 변수\n",
    "    while len(jobs) + len(saved_jobs) > 0:  # 작업 리스트와 요청 리스트가 비어있지 않은 동안 반복한다.\n",
    "        refill(jobs, saved_jobs, time)  # time 이하의 시간에 요청되는 작업을 요청 리스트에 추가한다.\n",
    "        if not saved_jobs:  # 요청 리스트가 비어있을 경우,\n",
    "            time = jobs[0][0]  # 시계의 시간을 가장 빠른 작업의 요청 시각으로 바꾼다.\n",
    "            refill(jobs, saved_jobs, time)  # 다시 지정한 time 이하의 시간에 요청되는 작업을 요청 리스트에 추가한다.\n",
    "        print(jobs, saved_jobs)\n",
    "        exe, req = hpop(saved_jobs)  # 요청을 하나 받아온 뒤, 요청 시각과 실행 시간을 받는 변수\n",
    "        print(\"curr:\", [exe, req])\n",
    "        if req > time:  # 요청 시각이 시계보다 클 경우,\n",
    "            time = req  # 시계의 시간을 요청 시각으로 바꾼다. (위에 코드를 추가하기 전 작성한 코드라 현재는 필요 없음.)\n",
    "        time += exe  # 시계에 실행 시간을 추가한다.\n",
    "        answer += time - req  # 시계와 요청 시간의 차를 구한 뒤 합산한다.\n",
    "        print(\"answer:\", answer)\n",
    "        print(\"time:\", time, \"\\n\\n\")\n",
    "    return answer // total  # 평균을 구하여 반환한다."
   ]
  },
  {
   "cell_type": "markdown",
   "metadata": {},
   "source": [
    "## 테스트 결과"
   ]
  },
  {
   "cell_type": "markdown",
   "metadata": {},
   "source": [
    "|테스트|결과|\n",
    "|---:|:---|\n",
    "|테스트 1 〉|통과 (0.59ms, 10.2MB)|\n",
    "|테스트 2 〉|통과 (0.50ms, 10.2MB)|\n",
    "|테스트 3 〉|통과 (0.43ms, 10.2MB)|\n",
    "|테스트 4 〉|통과 (0.41ms, 10.2MB)|\n",
    "|테스트 5 〉|통과 (1.08ms, 10.2MB)|\n",
    "|테스트 6 〉|통과 (0.03ms, 10.2MB)|\n",
    "|테스트 7 〉|통과 (0.42ms, 10.1MB)|\n",
    "|테스트 8 〉|통과 (0.29ms, 10.2MB)|\n",
    "|테스트 9 〉|통과 (0.11ms, 10.3MB)|\n",
    "|테스트 10 〉|통과 (0.59ms, 10.3MB)|\n",
    "|테스트 11 〉|통과 (0.01ms, 10.2MB)|\n",
    "|테스트 12 〉|통과 (0.02ms, 10.3MB)|\n",
    "|테스트 13 〉|통과 (0.02ms, 10.2MB)|\n",
    "|테스트 14 〉|통과 (0.01ms, 10.3MB)|\n",
    "|테스트 15 〉|통과 (0.01ms, 10.2MB)|\n",
    "|테스트 16 〉|통과 (0.01ms, 10.2MB)|\n",
    "|테스트 17 〉|통과 (0.01ms, 10.1MB)|\n",
    "|테스트 18 〉|통과 (0.01ms, 10.3MB)|\n",
    "|테스트 19 〉|통과 (0.01ms, 10.2MB)|\n",
    "|테스트 20 〉|통과 (0.01ms, 10.2MB)|"
   ]
  },
  {
   "cell_type": "markdown",
   "metadata": {},
   "source": [
    "## 예제 코드"
   ]
  },
  {
   "cell_type": "code",
   "execution_count": 59,
   "metadata": {},
   "outputs": [
    {
     "name": "stdout",
     "output_type": "stream",
     "text": [
      "[[1, 9], [2, 6]] [[3, 0]]\n",
      "curr: [3, 0]\n",
      "answer: 3\n",
      "time: 3 \n",
      "\n",
      "\n",
      "[] [[6, 2], [9, 1]]\n",
      "curr: [6, 2]\n",
      "answer: 10\n",
      "time: 9 \n",
      "\n",
      "\n",
      "[] [[9, 1]]\n",
      "curr: [9, 1]\n",
      "answer: 27\n",
      "time: 18 \n",
      "\n",
      "\n"
     ]
    },
    {
     "data": {
      "text/plain": [
       "9"
      ]
     },
     "execution_count": 59,
     "metadata": {},
     "output_type": "execute_result"
    }
   ],
   "source": [
    "solution([[0, 3], [1, 9], [2, 6]])"
   ]
  }
 ],
 "metadata": {
  "interpreter": {
   "hash": "aafdc7bb59d502ca6429f57e66e46b244810906baa5f1304b483d457e8d4ced4"
  },
  "kernelspec": {
   "display_name": "Python 3.10.2 ('venv': venv)",
   "language": "python",
   "name": "python3"
  },
  "language_info": {
   "codemirror_mode": {
    "name": "ipython",
    "version": 3
   },
   "file_extension": ".py",
   "mimetype": "text/x-python",
   "name": "python",
   "nbconvert_exporter": "python",
   "pygments_lexer": "ipython3",
   "version": "3.10.2"
  },
  "orig_nbformat": 4
 },
 "nbformat": 4,
 "nbformat_minor": 2
}
