{
 "cells": [
  {
   "cell_type": "markdown",
   "metadata": {},
   "source": [
    "# [백준/최소 힙](https://www.acmicpc.net/problem/1927)"
   ]
  },
  {
   "cell_type": "markdown",
   "metadata": {},
   "source": [
    "## 풀이과정"
   ]
  },
  {
   "cell_type": "markdown",
   "metadata": {},
   "source": [
    "### 첫번째 시도"
   ]
  },
  {
   "cell_type": "markdown",
   "metadata": {},
   "source": [
    "풀이과정"
   ]
  },
  {
   "cell_type": "code",
   "execution_count": null,
   "metadata": {},
   "outputs": [],
   "source": [
    "import sys;input = lambda: sys.stdin.readline().rstrip();print = lambda x: sys.stdout.write(str(x)+\"\\n\")\n",
    "from heapq import heappush as push, heappop as pop\n",
    "input = map(int, [*open(0)][1:])\n",
    "heap = []\n",
    "for i in input:\n",
    "    if i: push(heap, i)\n",
    "    else:\n",
    "        if heap: print(pop(heap))\n",
    "        else: print(0)"
   ]
  },
  {
   "cell_type": "markdown",
   "metadata": {},
   "source": [
    "## 해답"
   ]
  },
  {
   "cell_type": "code",
   "execution_count": 8,
   "metadata": {},
   "outputs": [],
   "source": [
    "from heapq import heappush as push, heappop as pop"
   ]
  },
  {
   "cell_type": "code",
   "execution_count": 34,
   "metadata": {},
   "outputs": [],
   "source": [
    "def solution(open):\n",
    "    input = map(int, [*open(0)][1:])\n",
    "    heap = []\n",
    "    for i in input:\n",
    "        if i: push(heap, i)\n",
    "        else:\n",
    "            if heap: print(pop(heap))\n",
    "            else: print(0)\n",
    "\n"
   ]
  },
  {
   "cell_type": "markdown",
   "metadata": {},
   "source": [
    "## 테스트 결과"
   ]
  },
  {
   "cell_type": "markdown",
   "metadata": {},
   "source": [
    "|테스트|결과|\n",
    "|---:|:---|"
   ]
  },
  {
   "cell_type": "markdown",
   "metadata": {},
   "source": [
    "## 예제"
   ]
  },
  {
   "cell_type": "code",
   "execution_count": 35,
   "metadata": {},
   "outputs": [],
   "source": [
    "# 백준 문제 풀이용 예제 실행 코드\n",
    "from inspect import signature\n",
    "def solution_example(input_ = None, solution=solution):\n",
    "    params = signature(solution).parameters\n",
    "    if input_ == None: solution()\n",
    "    elif 'open' in params:\n",
    "        class open:\n",
    "            def __init__(self, _): self.read = lambda: input_\n",
    "            def __iter__(self): return iter(input_.split(\"\\n\"))\n",
    "        solution(open)\n",
    "    elif 'input' in params:\n",
    "        input_ = iter(input_.split(\"\\n\"))\n",
    "        input = input_.__next__\n",
    "        solution(input)\n",
    "    else: raise NameError(f'solution 함수가 input, open 등의 매개변수를 받지 않습니다.\\nsolution 의 매개변수: {params}')\n",
    "    \n",
    "        \n",
    "# solution_example(\"\"\"\"\"\")\n",
    "# solution_example(read(\"fn\").read())"
   ]
  },
  {
   "cell_type": "code",
   "execution_count": 37,
   "metadata": {},
   "outputs": [
    {
     "name": "stdout",
     "output_type": "stream",
     "text": [
      "1\n",
      "2\n",
      "2\n",
      "3\n",
      "3\n",
      "0\n"
     ]
    }
   ],
   "source": [
    "solution_example(\"\"\"11\n",
    "2\n",
    "2\n",
    "3\n",
    "3\n",
    "1\n",
    "0\n",
    "0\n",
    "0\n",
    "0\n",
    "0\n",
    "0\"\"\") # 1 2 2 3 3 0 "
   ]
  },
  {
   "cell_type": "code",
   "execution_count": null,
   "metadata": {},
   "outputs": [
    {
     "name": "stdout",
     "output_type": "stream",
     "text": [
      "0\n",
      "1\n",
      "2\n",
      "12345678\n",
      "0\n"
     ]
    }
   ],
   "source": [
    "solution_example(\"\"\"9\n",
    "0\n",
    "12345678\n",
    "1\n",
    "2\n",
    "0\n",
    "0\n",
    "0\n",
    "0\n",
    "32\"\"\")"
   ]
  }
 ],
 "metadata": {
  "interpreter": {
   "hash": "73891b0dc2e53390f36276e59930dd4ecab91b05b5c90320c2d5b1c443f87069"
  },
  "kernelspec": {
   "display_name": "Python 3.10.1 ('venv': venv)",
   "language": "python",
   "name": "python3"
  },
  "language_info": {
   "codemirror_mode": {
    "name": "ipython",
    "version": 3
   },
   "file_extension": ".py",
   "mimetype": "text/x-python",
   "name": "python",
   "nbconvert_exporter": "python",
   "pygments_lexer": "ipython3",
   "version": "3.10.2"
  },
  "orig_nbformat": 4
 },
 "nbformat": 4,
 "nbformat_minor": 2
}
