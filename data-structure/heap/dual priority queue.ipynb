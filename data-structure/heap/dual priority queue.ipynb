{
 "cells": [
  {
   "cell_type": "markdown",
   "metadata": {},
   "source": [
    "# [백준/이중 우선순위 큐](https://www.acmicpc.net/problem/7662)"
   ]
  },
  {
   "cell_type": "markdown",
   "metadata": {},
   "source": [
    "## 풀이과정"
   ]
  },
  {
   "cell_type": "markdown",
   "metadata": {},
   "source": [
    "### 첫번째 시도"
   ]
  },
  {
   "cell_type": "markdown",
   "metadata": {},
   "source": [
    "풀이과정"
   ]
  },
  {
   "cell_type": "code",
   "execution_count": null,
   "metadata": {},
   "outputs": [],
   "source": [
    "from heapq import heappop as hpop, heappush as hpush\n",
    "\n",
    "\n",
    "def create_dpq():\n",
    "    rheap = []\n",
    "    iheap = []\n",
    "    length = 0\n",
    "\n",
    "    def insert(i):\n",
    "        hpush(rheap, i)\n",
    "        hpush(iheap, -i)\n",
    "        nonlocal length\n",
    "        length += 1\n",
    "\n",
    "    def delete(i):\n",
    "        if rheap:\n",
    "            if i == \"1\":\n",
    "                hpop(iheap)\n",
    "            else:\n",
    "                hpop(rheap)\n",
    "            nonlocal length\n",
    "            length -= 1\n",
    "            if length == 0:\n",
    "                rheap.clear()\n",
    "                iheap.clear()\n",
    "\n",
    "    def print_():\n",
    "        print(rheap)\n",
    "        print(iheap)\n",
    "\n",
    "    def result():\n",
    "        if rheap:\n",
    "            return \" \".join((str(-hpop(iheap)), str(hpop(rheap))))\n",
    "        else:\n",
    "            return \"EMPTY\"\n",
    "\n",
    "    def controler(command):\n",
    "        if command == \"R\":\n",
    "            return result()\n",
    "        if command == \"P\":\n",
    "            print_()\n",
    "            return\n",
    "        func, i = command.split()\n",
    "        if func == \"I\":\n",
    "            insert(int(i))\n",
    "            return\n",
    "        if func == \"D\":\n",
    "            delete(i)\n",
    "            return\n",
    "\n",
    "    return controler\n",
    "\n",
    "\n",
    "for _ in range(int(input())):\n",
    "    controler = create_dpq()\n",
    "    for __ in range(int(input())):\n",
    "        command = input()\n",
    "        controler(command)\n",
    "    print(controler(\"R\"))"
   ]
  },
  {
   "cell_type": "markdown",
   "metadata": {},
   "source": [
    "### 두번째 시도"
   ]
  },
  {
   "cell_type": "code",
   "execution_count": null,
   "metadata": {},
   "outputs": [],
   "source": [
    "from heapq import heappop as hpop, heappush as hpush\n",
    "from collections import defaultdict"
   ]
  },
  {
   "cell_type": "code",
   "execution_count": 37,
   "metadata": {},
   "outputs": [],
   "source": [
    "def create_dpq():\n",
    "    minQ = []\n",
    "    maxQ = []\n",
    "    counter = defaultdict(int)\n",
    "    length = 0\n",
    "\n",
    "    def insert(i):\n",
    "        i = int(i)\n",
    "        hpush(minQ, i)\n",
    "        hpush(maxQ, -i)\n",
    "        nonlocal length, counter\n",
    "        length += 1\n",
    "        counter[i] += 1\n",
    "\n",
    "    def delete(i):\n",
    "        nonlocal length, counter\n",
    "        if length:\n",
    "            d = -hpop(maxQ) if i == \"1\" else hpop(minQ)\n",
    "            while counter[d] == 0:\n",
    "                d = -hpop(maxQ) if i == \"1\" else hpop(minQ)\n",
    "            counter[d] -= 1\n",
    "            if counter[d] == 0:\n",
    "                counter.pop(d)\n",
    "            length -= 1\n",
    "            if length == 0:\n",
    "                minQ.clear()\n",
    "                maxQ.clear()\n",
    "                counter.clear()\n",
    "\n",
    "    def print_():\n",
    "        print(minQ)\n",
    "        print(maxQ)\n",
    "\n",
    "    def result():\n",
    "        if length:\n",
    "            M = -hpop(maxQ)\n",
    "            m = hpop(minQ)\n",
    "            while counter[M] == 0:\n",
    "                M = -hpop(maxQ)\n",
    "            while counter[m] == 0:\n",
    "                m = hpop(maxQ)\n",
    "            return \"%d %d\" % (M, m)\n",
    "        else:\n",
    "            return \"EMPTY\"\n",
    "\n",
    "    def controler(command):\n",
    "        command = command.split()\n",
    "        match command[0]:\n",
    "            case \"R\":\n",
    "                return result()\n",
    "            case \"P\":\n",
    "                print_()\n",
    "            case \"I\":\n",
    "                insert(command[1])\n",
    "            case \"D\":\n",
    "                delete(command[1])\n",
    "\n",
    "    return controler"
   ]
  },
  {
   "cell_type": "code",
   "execution_count": 48,
   "metadata": {},
   "outputs": [],
   "source": [
    "def create_dpq():\n",
    "    minQ = []\n",
    "    maxQ = []\n",
    "    counter = defaultdict(int)\n",
    "    length = 0\n",
    "\n",
    "    def insert(i):\n",
    "        i = int(i)\n",
    "        hpush(minQ, i)\n",
    "        hpush(maxQ, -i)\n",
    "        nonlocal length, counter\n",
    "        length += 1\n",
    "        counter[i] += 1\n",
    "\n",
    "    def delete(i):\n",
    "        nonlocal length, counter\n",
    "        if length:\n",
    "            d = -hpop(maxQ) if i == \"1\" else hpop(minQ)\n",
    "            while counter[d] == 0:\n",
    "                d = -hpop(maxQ) if i == \"1\" else hpop(minQ)\n",
    "            counter[d] -= 1\n",
    "            if counter[d] == 0:\n",
    "                counter.pop(d)\n",
    "            length -= 1\n",
    "            if length == 0:\n",
    "                minQ.clear()\n",
    "                maxQ.clear()\n",
    "                counter.clear()\n",
    "\n",
    "    def result():\n",
    "        if length:\n",
    "            M = -hpop(maxQ)\n",
    "            m = hpop(minQ)\n",
    "            while counter[M] == 0:\n",
    "                M = -hpop(maxQ)\n",
    "            while counter[m] == 0:\n",
    "                m = hpop(maxQ)\n",
    "            return \"%d %d\" % (M, m)\n",
    "        else:\n",
    "            return \"EMPTY\"\n",
    "\n",
    "    def controler(command):\n",
    "        command = command.split()\n",
    "        match command[0]:\n",
    "            case \"I\":\n",
    "                insert(command[1])\n",
    "            case \"D\":\n",
    "                delete(command[1])\n",
    "            case \"R\":\n",
    "                return result()\n",
    "\n",
    "    return controler"
   ]
  },
  {
   "cell_type": "code",
   "execution_count": null,
   "metadata": {},
   "outputs": [],
   "source": [
    "for _ in range(int(input())):\n",
    "    controler = create_dpq()\n",
    "    for __ in range(int(input())):\n",
    "        command = input()\n",
    "        controler(command)\n",
    "    print(controler(\"R\"))"
   ]
  },
  {
   "cell_type": "markdown",
   "metadata": {},
   "source": [
    "## 해답"
   ]
  },
  {
   "cell_type": "code",
   "execution_count": 22,
   "metadata": {},
   "outputs": [],
   "source": [
    "import sys\n",
    "from heapq import heappop as hpop, heappush as hpush\n",
    "from collections import defaultdict\n",
    "\n",
    "input = sys.stdin.readline"
   ]
  },
  {
   "cell_type": "code",
   "execution_count": 37,
   "metadata": {},
   "outputs": [],
   "source": [
    "def solution(input):\n",
    "    for _ in range(int(input())):\n",
    "        minQ = []\n",
    "        maxQ = []\n",
    "        counter = defaultdict(int)\n",
    "        length = 0\n",
    "        for _ in range(int(input())):\n",
    "            command, i = input().split()\n",
    "            match command:\n",
    "                case \"I\":\n",
    "                    i = int(i)\n",
    "                    hpush(minQ, i)\n",
    "                    hpush(maxQ, -i)\n",
    "                    length += 1\n",
    "                    counter[i] += 1\n",
    "                case \"D\":\n",
    "                    if length:\n",
    "                        match i:\n",
    "                            case \"1\":\n",
    "                                while maxQ and counter[d := -hpop(maxQ)] == 0:\n",
    "                                    pass\n",
    "                            case \"-1\":\n",
    "                                while minQ and counter[d := hpop(minQ)] == 0:\n",
    "                                    pass\n",
    "                        counter[d] -= 1\n",
    "                        length -= 1\n",
    "                        if length == 0:\n",
    "                            minQ.clear()\n",
    "                            maxQ.clear()\n",
    "                            counter.clear()\n",
    "\n",
    "        if sum(counter.values()):\n",
    "            while maxQ and counter[M := -hpop(maxQ)] == 0:\n",
    "                pass\n",
    "            while minQ and counter[m := hpop(minQ)] == 0:\n",
    "                pass\n",
    "            print(\"%d %d\" % (M, m))\n",
    "        else:\n",
    "            print(\"EMPTY\")"
   ]
  },
  {
   "cell_type": "markdown",
   "metadata": {},
   "source": [
    "## 테스트 결과"
   ]
  },
  {
   "cell_type": "markdown",
   "metadata": {},
   "source": [
    "|테스트|결과|\n",
    "|---:|:---|"
   ]
  },
  {
   "cell_type": "markdown",
   "metadata": {},
   "source": [
    "## 예제"
   ]
  },
  {
   "cell_type": "code",
   "execution_count": 38,
   "metadata": {},
   "outputs": [],
   "source": [
    "def solution_example(input_):\n",
    "    input_ = iter(input_.split(\"\\n\"))\n",
    "    input = input_.__next__\n",
    "    solution(input)"
   ]
  },
  {
   "cell_type": "code",
   "execution_count": 39,
   "metadata": {},
   "outputs": [
    {
     "name": "stdout",
     "output_type": "stream",
     "text": [
      "2147481606 18403\n",
      "2147474127 709\n"
     ]
    }
   ],
   "source": [
    "solution_example(open(\"01.in\").read())\n",
    "# 2147481606 18403\n",
    "# 2147474127 709"
   ]
  },
  {
   "cell_type": "code",
   "execution_count": 40,
   "metadata": {},
   "outputs": [
    {
     "name": "stdout",
     "output_type": "stream",
     "text": [
      "8 7\n"
     ]
    }
   ],
   "source": [
    "solution_example(\n",
    "    \"\"\"1\n",
    "12\n",
    "I 9\n",
    "I 7\n",
    "I 9\n",
    "I 6\n",
    "I 7\n",
    "I 7\n",
    "I 9\n",
    "D -1\n",
    "D 1\n",
    "I 8\n",
    "D 1\n",
    "D 1\"\"\"\n",
    ")  # 8 7"
   ]
  },
  {
   "cell_type": "code",
   "execution_count": 41,
   "metadata": {},
   "outputs": [
    {
     "name": "stdout",
     "output_type": "stream",
     "text": [
      "EMPTY\n",
      "5585 5585\n"
     ]
    }
   ],
   "source": [
    "solution_example(\n",
    "    \"\"\"2\n",
    "9\n",
    "D 1\n",
    "I 1207\n",
    "I 3471\n",
    "I 3574\n",
    "I -5575\n",
    "D -1\n",
    "D 1\n",
    "D 1\n",
    "D -1\n",
    "9\n",
    "D -1\n",
    "D -1\n",
    "I 8088\n",
    "D 1\n",
    "I 5585\n",
    "I 9097\n",
    "I -6416\n",
    "D 1\n",
    "D -1\"\"\"\n",
    ")\n",
    "# EMPTY\n",
    "# 5585 5585"
   ]
  },
  {
   "cell_type": "code",
   "execution_count": 42,
   "metadata": {},
   "outputs": [
    {
     "name": "stdout",
     "output_type": "stream",
     "text": [
      "6 6\n"
     ]
    }
   ],
   "source": [
    "solution_example(\n",
    "    \"\"\"1\n",
    "7\n",
    "I 5\n",
    "I 3\n",
    "I 7\n",
    "I 6\n",
    "D 1\n",
    "D -1\n",
    "D -1\"\"\"\n",
    ")  # 6 6"
   ]
  },
  {
   "cell_type": "code",
   "execution_count": 43,
   "metadata": {},
   "outputs": [
    {
     "name": "stdout",
     "output_type": "stream",
     "text": [
      "100 100\n"
     ]
    }
   ],
   "source": [
    "solution_example(\n",
    "    \"\"\"1\n",
    "3\n",
    "I 100\n",
    "I 100\n",
    "D 1\"\"\"\n",
    ")  # 100 100"
   ]
  },
  {
   "cell_type": "code",
   "execution_count": 44,
   "metadata": {},
   "outputs": [
    {
     "name": "stdout",
     "output_type": "stream",
     "text": [
      "-1 -3\n"
     ]
    }
   ],
   "source": [
    "solution_example(\n",
    "    \"\"\"1\n",
    "9\n",
    "I 1\n",
    "I 2\n",
    "I 3\n",
    "D -1\n",
    "D -1\n",
    "I -1\n",
    "I -2\n",
    "I -3\n",
    "D 1\"\"\"\n",
    ")  # -1 -3"
   ]
  },
  {
   "cell_type": "code",
   "execution_count": 45,
   "metadata": {},
   "outputs": [
    {
     "name": "stdout",
     "output_type": "stream",
     "text": [
      "-1 -3\n"
     ]
    }
   ],
   "source": [
    "solution_example(\n",
    "    \"\"\"1\n",
    "9\n",
    "I 1\n",
    "I 2\n",
    "I 3\n",
    "D -1\n",
    "D -1\n",
    "I -1\n",
    "I -2\n",
    "I -3\n",
    "D 1\"\"\"\n",
    ")  # -1 -3"
   ]
  },
  {
   "cell_type": "code",
   "execution_count": 46,
   "metadata": {},
   "outputs": [
    {
     "name": "stdout",
     "output_type": "stream",
     "text": [
      "EMPTY\n",
      "333 -45\n"
     ]
    }
   ],
   "source": [
    "solution_example(\n",
    "    \"\"\"2\n",
    "7\n",
    "I 16\n",
    "I -5643\n",
    "D -1\n",
    "D 1\n",
    "D 1\n",
    "I 123\n",
    "D -1\n",
    "9\n",
    "I -45\n",
    "I 653\n",
    "D 1\n",
    "I -642\n",
    "I 45\n",
    "I 97\n",
    "D 1\n",
    "D -1\n",
    "I 333\"\"\"\n",
    ")\n",
    "# EMPTY\n",
    "# 333 -45"
   ]
  }
 ],
 "metadata": {
  "interpreter": {
   "hash": "73891b0dc2e53390f36276e59930dd4ecab91b05b5c90320c2d5b1c443f87069"
  },
  "kernelspec": {
   "display_name": "Python 3.10.1 ('venv': venv)",
   "language": "python",
   "name": "python3"
  },
  "language_info": {
   "codemirror_mode": {
    "name": "ipython",
    "version": 3
   },
   "file_extension": ".py",
   "mimetype": "text/x-python",
   "name": "python",
   "nbconvert_exporter": "python",
   "pygments_lexer": "ipython3",
   "version": "3.10.2"
  },
  "orig_nbformat": 4
 },
 "nbformat": 4,
 "nbformat_minor": 2
}
