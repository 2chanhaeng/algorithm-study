{
 "cells": [
  {
   "cell_type": "markdown",
   "metadata": {},
   "source": [
    "# [백준/이중 우선순위 큐](https://www.acmicpc.net/problem/7662)"
   ]
  },
  {
   "cell_type": "markdown",
   "metadata": {},
   "source": [
    "## 풀이과정"
   ]
  },
  {
   "cell_type": "markdown",
   "metadata": {},
   "source": [
    "### 첫번째 시도"
   ]
  },
  {
   "cell_type": "markdown",
   "metadata": {},
   "source": [
    "풀이과정"
   ]
  },
  {
   "cell_type": "code",
   "execution_count": null,
   "metadata": {},
   "outputs": [],
   "source": [
    "# 풀이 코드\n"
   ]
  },
  {
   "cell_type": "markdown",
   "metadata": {},
   "source": [
    "## 해답"
   ]
  },
  {
   "cell_type": "code",
   "execution_count": 1,
   "metadata": {},
   "outputs": [],
   "source": [
    "from heapq import heappop as hpop, heappush as hpush"
   ]
  },
  {
   "cell_type": "code",
   "execution_count": 44,
   "metadata": {},
   "outputs": [],
   "source": [
    "def create_dpq():\n",
    "    rheap = []\n",
    "    iheap = []\n",
    "    length = 0\n",
    "    def insert(i):\n",
    "        hpush(rheap, i)\n",
    "        hpush(iheap, -i)\n",
    "        nonlocal length\n",
    "        length += 1\n",
    "    def delete(i):\n",
    "        if rheap:\n",
    "            if i == \"1\":\n",
    "                hpop(iheap)\n",
    "            else:\n",
    "                hpop(rheap)\n",
    "            nonlocal length\n",
    "            length -= 1\n",
    "            if length == 0:\n",
    "                rheap.clear()\n",
    "                iheap.clear()\n",
    "    def print_():\n",
    "        print(rheap)\n",
    "        print(iheap)\n",
    "    def result():\n",
    "        if rheap: return \" \".join((str(-hpop(iheap)), str(hpop(rheap))))\n",
    "        else: return \"EMPTY\"\n",
    "    def controler(command):\n",
    "        if command == \"R\": return result()\n",
    "        if command == \"P\": print_(); return\n",
    "        func, i = command.split()\n",
    "        if func == \"I\": insert(int(i)); return\n",
    "        if func == \"D\": delete(i); return\n",
    "    return controler"
   ]
  },
  {
   "cell_type": "code",
   "execution_count": 39,
   "metadata": {},
   "outputs": [
    {
     "name": "stdout",
     "output_type": "stream",
     "text": [
      "[1, 3, 2, 7, 4, 5, 6, 9, 8]\n",
      "[-8, -7, -5, -6, -2, -1, -4, 0, -3]\n"
     ]
    },
    {
     "data": {
      "text/plain": [
       "'8 1'"
      ]
     },
     "execution_count": 39,
     "metadata": {},
     "output_type": "execute_result"
    }
   ],
   "source": [
    "controler = create_dpq()\n",
    "for i in range(10):\n",
    "    controler(f\"I {i}\")\n",
    "for _ in range(1):\n",
    "    controler(\"D 1\")\n",
    "    controler(\"D -1\")\n",
    "    controler(\"P\")\n",
    "\n",
    "controler(\"R\")\n"
   ]
  },
  {
   "cell_type": "code",
   "execution_count": 1,
   "metadata": {},
   "outputs": [],
   "source": [
    "from heapq import heappop as hpop, heappush as hpush\n",
    "\n",
    "def create_dpq():\n",
    "    rheap = []\n",
    "    iheap = []\n",
    "    length = 0\n",
    "    def insert(i):\n",
    "        hpush(rheap, i)\n",
    "        hpush(iheap, -i)\n",
    "        nonlocal length\n",
    "        length += 1\n",
    "    def delete(i):\n",
    "        if rheap:\n",
    "            if i == \"1\":\n",
    "                hpop(iheap)\n",
    "            else:\n",
    "                hpop(rheap)\n",
    "            nonlocal length\n",
    "            length -= 1\n",
    "            if length == 0:\n",
    "                rheap.clear()\n",
    "                iheap.clear()\n",
    "    def print_():\n",
    "        print(rheap)\n",
    "        print(iheap)\n",
    "    def result():\n",
    "        if rheap: return \" \".join((str(-hpop(iheap)), str(hpop(rheap))))\n",
    "        else: return \"EMPTY\"\n",
    "    def controler(command):\n",
    "        if command == \"R\": return result()\n",
    "        if command == \"P\": print_(); return\n",
    "        func, i = command.split()\n",
    "        if func == \"I\": insert(int(i)); return\n",
    "        if func == \"D\": delete(i); return\n",
    "    return controler\n",
    "\n",
    "for _ in range(int(input())):\n",
    "    controler = create_dpq()\n",
    "    for __ in range(int(input())):\n",
    "        command = input()\n",
    "        controler(command)\n",
    "    print(controler(\"R\"))"
   ]
  },
  {
   "cell_type": "markdown",
   "metadata": {},
   "source": [
    "## 테스트 결과"
   ]
  },
  {
   "cell_type": "markdown",
   "metadata": {},
   "source": [
    "|테스트|결과|\n",
    "|---:|:---|"
   ]
  },
  {
   "cell_type": "markdown",
   "metadata": {},
   "source": [
    "## 예제"
   ]
  },
  {
   "cell_type": "code",
   "execution_count": 2,
   "metadata": {},
   "outputs": [],
   "source": [
    "def solution_example(input_):\n",
    "    input_ = input_.split(\"\\n\")\n",
    "    for _ in range(int(input_.pop(0))):\n",
    "        controler = create_dpq()\n",
    "        for __ in range(int(input_.pop(0))):\n",
    "            command = input_.pop(0)\n",
    "            controler(command)\n",
    "        print(controler(\"R\"))"
   ]
  },
  {
   "cell_type": "code",
   "execution_count": 3,
   "metadata": {},
   "outputs": [
    {
     "name": "stdout",
     "output_type": "stream",
     "text": [
      "EMPTY\n",
      "333 -45\n"
     ]
    }
   ],
   "source": [
    "solution_example(\"\"\"2\n",
    "7\n",
    "I 16\n",
    "I -5643\n",
    "D -1\n",
    "D 1\n",
    "D 1\n",
    "I 123\n",
    "D -1\n",
    "9\n",
    "I -45\n",
    "I 653\n",
    "D 1\n",
    "I -642\n",
    "I 45\n",
    "I 97\n",
    "D 1\n",
    "D -1\n",
    "I 333\"\"\")"
   ]
  }
 ],
 "metadata": {
  "interpreter": {
   "hash": "73891b0dc2e53390f36276e59930dd4ecab91b05b5c90320c2d5b1c443f87069"
  },
  "kernelspec": {
   "display_name": "Python 3.10.1 ('venv': venv)",
   "language": "python",
   "name": "python3"
  },
  "language_info": {
   "codemirror_mode": {
    "name": "ipython",
    "version": 3
   },
   "file_extension": ".py",
   "mimetype": "text/x-python",
   "name": "python",
   "nbconvert_exporter": "python",
   "pygments_lexer": "ipython3",
   "version": "3.10.2"
  },
  "orig_nbformat": 4
 },
 "nbformat": 4,
 "nbformat_minor": 2
}
