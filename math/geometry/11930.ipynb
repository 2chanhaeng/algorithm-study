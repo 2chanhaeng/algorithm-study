{
    "cells": [
        {
            "cell_type": "markdown",
            "metadata": {},
            "source": [
                "# [백준/Smallest Enclosing Sphere](https://www.acmicpc.net/problem/11930)\n"
            ]
        },
        {
            "cell_type": "markdown",
            "metadata": {},
            "source": [
                "## 풀이과정\n"
            ]
        },
        {
            "cell_type": "markdown",
            "metadata": {},
            "source": [
                "### 첫번째 시도\n"
            ]
        },
        {
            "cell_type": "markdown",
            "metadata": {},
            "source": [
                "#### 풀이과정\n",
                "\n",
                "먼저 3차원 벡터와 3x3 행렬 간 연산 시에 필요한 함수들을 정의했다. 그리고 크래머 공식을 이용해 삼차연립방정식을 푸는 `cramers` 함수를 정의했다. 이를 이용해 점이 3개가 주어졌을 때는 $\\begin{pmatrix}2(b - a)\\\\2(c - a)\\\\(b-a)\\times(c-a)\\end{pmatrix}\\cdot x = \\begin{pmatrix}(b - a)^2\\\\(c - a)^2\\\\0\\end{pmatrix}$ 를, 점이 4개가 주어졌을 때는 $2\\begin{pmatrix}b - a \\\\ c - a \\\\ d - a\\end{pmatrix}\\cdot x = \\begin{pmatrix}(b - a)^2\\\\(c - a)^2\\\\(d - a)^2\\end{pmatrix}$ 를 푼 뒤 $a$ 를 더해 구의 중심을 구했다. 마지막으로 웰츠 알고리즘을 이용해 모든 점을 포함하는 최소 구의 반지름을 구했다.\n",
                "\n",
                "상기한 공식은 다음과 같은 과정을 통해 유도했다.\n",
                "먼저 점이 4개 주어진 경우를 생각해보자.\n",
                "점 $a, b, c, d$ 가 주어졌을 때 외심의 중심을 $x$ 라고 하자.\n",
                "\n",
                "$$\n",
                "\\begin{cases}\n",
                "(a - x)^2 = r^2 \\\\\n",
                "(b - x)^2 = r^2 \\\\\n",
                "(c - x)^2 = r^2 \\\\\n",
                "(d - x)^2 = r^2\n",
                "\\end{cases}\n",
                "\\Rightarrow \\begin{cases}\n",
                "(a - x)^2 = (b - x)^2  \\\\\n",
                "(a - x)^2 = (c - x)^2  \\\\\n",
                "(a - x)^2 = (d - x)^2\n",
                "\\end{cases}\n",
                "\\Rightarrow \\begin{cases}\n",
                "2(b - a)\\cdot x = b^2 - a^2 \\\\\n",
                "2(c - a)\\cdot x = c^2 - a^2 \\\\\n",
                "2(d - a)\\cdot x = d^2 - a^2\n",
                "\\end{cases}\n",
                "$$\n",
                "\n",
                "로 풀 수 있다. 여기서 코드를 좀더 간단하게 하기 위해 $x' + a = x$ 로 치환하면 다음과 같이 표현할 수 있다. 그러면\n",
                "\n",
                "$$\n",
                "2(b - a)\\cdot x = b^2 - a^2  \\\\\n",
                "\\Rightarrow 2(b - a)\\cdot (x' + a) = b^2 - a^2  \\\\\n",
                "\\Rightarrow 2(b - a)\\cdot x' = b^2 - a^2 - 2a \\cdot (b - a) \\\\\n",
                "\\Rightarrow 2(b - a)\\cdot x' = b^2 - 2a \\cdot b + a^2 \\\\\n",
                "\\Rightarrow 2(b - a)\\cdot x' = (b - a)^2 \\\\\n",
                "$$\n",
                "\n",
                "와 같이 쓸 수 있다. 따라서\n",
                "\n",
                "$$\n",
                "\\begin{cases}\n",
                "2(b - a)\\cdot (x + a) = b^2 - a^2 \\\\\n",
                "2(c - a)\\cdot (x + a) = c^2 - a^2 \\\\\n",
                "2(d - a)\\cdot (x + a) = d^2 - a^2\n",
                "\\end{cases}\n",
                "\\Rightarrow\n",
                "\\begin{cases}\n",
                "2(b - a)\\cdot x = (b - a)^2 \\\\\n",
                "2(c - a)\\cdot x = (c - a)^2 \\\\\n",
                "2(d - a)\\cdot x = (d - a)^2\n",
                "\\end{cases}\n",
                "\\Rightarrow\n",
                "2\\begin{pmatrix}\n",
                "b - a \\\\\n",
                "c - a \\\\\n",
                "d - a\n",
                "\\end{pmatrix} \\cdot x\n",
                "= \\begin{pmatrix}\n",
                "(b - a)^2 \\\\\n",
                "(c - a)^2 \\\\\n",
                "(d - a)^2\n",
                "\\end{pmatrix}\n",
                "$$\n",
                "\n",
                "이다. 점이 3개 주어진 경우는 점 $d$ 대신 $a, b, c, x$ 가 한 평면에 있다는 점을 이용하면 된다. $(b - a)\\times(c - a)$ 는 네 점이 있는 평면에 수직이고 $x$ 는 이 평면 위에 있으므로 $(b - a)\\times(c - a)\\cdot x = 0$ 이다. 따라서 점이 4개인 경우의 식에서 좌변의 마지막 행을 $(b - a)\\times(c - a)\\cdot x$, 우변의 마지막 행을 $0$으로 바꾸면 된다.\n"
            ]
        },
        {
            "cell_type": "code",
            "execution_count": null,
            "metadata": {},
            "outputs": [],
            "source": [
                "from math import hypot\n",
                "from operator import __add__, __sub__, __mul__, truediv\n",
                "\n",
                "Point = tuple[float, float, float]\n",
                "Mat3 = tuple[Point, Point, Point]\n",
                "Sphere = tuple[Point, float]\n",
                "\n",
                "\n",
                "def det2(ab: tuple[tuple[float, float], tuple[float, float]]):\n",
                "    (ax, ay), (bx, by) = ab\n",
                "    return ax * by - ay * bx\n",
                "\n",
                "\n",
                "def add(a: Point, b: Point) -> Point:\n",
                "    return tuple(i + j for i, j in zip(a, b))\n",
                "\n",
                "\n",
                "def mul(a: float, b: Point) -> Point:\n",
                "    return tuple(map(lambda x: x * a, b))\n",
                "\n",
                "\n",
                "def dot(a: Point, b: Point):\n",
                "    return sum(map(__mul__, a, b))\n",
                "\n",
                "\n",
                "def cross(a: Point, b: Point) -> Point:\n",
                "    return tuple(map(det2, ((a[1:], b[1:]), (a[::-2], b[::-2]), (a[:2], b[:2]))))\n",
                "\n",
                "\n",
                "def sub(a: Point, b: Point) -> Point:\n",
                "    return tuple(map(__sub__, a, b))\n",
                "\n",
                "\n",
                "def div(a: Point, b: float) -> Point:\n",
                "    return tuple(map(lambda x: truediv(x, b), a))\n",
                "\n",
                "\n",
                "def pow2(a: Point) -> float:\n",
                "    return dot(a, a)\n",
                "\n",
                "\n",
                "def det3(abc: Mat3):\n",
                "    a, b, c = abc\n",
                "    return dot(a, cross(b, c))\n",
                "\n",
                "\n",
                "def t(a: Mat3) -> Mat3:\n",
                "    p, q, r = a\n",
                "    return tuple(zip(p, q, r))\n",
                "\n",
                "\n",
                "def adjoints(a: Mat3, b: Point) -> tuple[Mat3, Mat3, Mat3]:\n",
                "    x, y, z = a\n",
                "    return (t((b, y, z)), t((x, b, z)), t((x, y, b)))\n",
                "\n",
                "\n",
                "def cramers(a: Mat3, b: Point) -> Point:\n",
                "    return tuple(det3(ad) / det3(a) for ad in adjoints(t(a), b))\n",
                "\n",
                "\n",
                "def from1(a: Point = (0, 0, 0)) -> Point:\n",
                "    return a\n",
                "\n",
                "\n",
                "def from2(a: Point, b: Point) -> Point:\n",
                "    # hypot(*sub(a, b)) / 2\n",
                "    return div(add(a, b), 2)\n",
                "\n",
                "\n",
                "def from3(a: Point, b: Point, c: Point) -> Point:\n",
                "    ab = sub(b, a)\n",
                "    ac = sub(c, a)\n",
                "    A = (mul(2, ab), mul(2, ac), cross(ab, ac))\n",
                "    d = (dot(ab, ab), dot(ac, ac), 0)\n",
                "    return add(a, cramers(A, d))\n",
                "\n",
                "\n",
                "def from4(a: Point, b: Point, c: Point, d: Point) -> Point:\n",
                "    subs = tuple(sub(p, a) for p in (b, c, d))\n",
                "    A = tuple(mul(2, v) for v in subs)\n",
                "    d = tuple(map(pow2, subs))\n",
                "    return add(a, cramers(A, d))\n",
                "\n",
                "\n",
                "def get_radius(center: Point, points: list[Point]) -> float:\n",
                "    return hypot(*sub(center, points[0]))\n",
                "\n",
                "\n",
                "def get_circle(points: list[Point]) -> Sphere:\n",
                "    center = [from2, from3, from4][len(points) - 2](*points)\n",
                "    return center, get_radius(center, points)\n",
                "\n",
                "\n",
                "def init(bound: list[Point]) -> Sphere:\n",
                "    if len(bound) > 1:\n",
                "        return get_circle(bound)\n",
                "    else:\n",
                "        return ((bound[0] if bound else (0, 0, 0)), 0.0)\n",
                "\n",
                "\n",
                "def enclosed(bound: list[Point], points: list[Point]) -> tuple[Point, float]:\n",
                "    if len(bound) == 4:\n",
                "        return get_circle(bound)\n",
                "    center, radius = init(bound)\n",
                "    for i, p in enumerate(points):\n",
                "        if hypot(*sub(center, p)) > radius:\n",
                "            center, radius = enclosed(bound + [p], points[:i])\n",
                "    return center, radius\n",
                "\n",
                "\n",
                "def solution():\n",
                "    import sys\n",
                "\n",
                "    inputs = sys.stdin.read().strip().split(\"\\n\")[1:]\n",
                "    points = list(set(tuple(map(float, line.split())) for line in inputs))\n",
                "    _, radius = enclosed([], points)\n",
                "    print(f\"{radius:.2f}\")\n",
                "\n",
                "\n",
                "solution()"
            ]
        },
        {
            "cell_type": "markdown",
            "metadata": {},
            "source": [
                "## 해답\n"
            ]
        },
        {
            "cell_type": "code",
            "execution_count": null,
            "metadata": {},
            "outputs": [],
            "source": [
                "from math import hypot\n",
                "from operator import __add__, __sub__, __mul__, truediv\n",
                "\n",
                "Point = tuple[float, float, float]\n",
                "Mat3 = tuple[Point, Point, Point]\n",
                "Sphere = tuple[Point, float]"
            ]
        },
        {
            "cell_type": "code",
            "execution_count": null,
            "metadata": {},
            "outputs": [],
            "source": [
                "def add(a: Point, b: Point) -> Point:\n",
                "    return tuple(i + j for i, j in zip(a, b))\n",
                "\n",
                "\n",
                "def sub(a: Point, b: Point) -> Point:\n",
                "    return tuple(map(__sub__, a, b))\n",
                "\n",
                "\n",
                "def mul(a: float, b: Point) -> Point:\n",
                "    return tuple(map(lambda x: x * a, b))\n",
                "\n",
                "\n",
                "def dot(a: Point, b: Point):\n",
                "    return sum(map(__mul__, a, b))\n",
                "\n",
                "\n",
                "def det2(ab: tuple[tuple[float, float], tuple[float, float]]):\n",
                "    (ax, ay), (bx, by) = ab\n",
                "    return ax * by - ay * bx\n",
                "\n",
                "\n",
                "def cross(a: Point, b: Point) -> Point:\n",
                "    return tuple(map(det2, ((a[1:], b[1:]), (a[::-2], b[::-2]), (a[:2], b[:2]))))\n",
                "\n",
                "\n",
                "def div(a: Point, b: float) -> Point:\n",
                "    return tuple(map(lambda x: truediv(x, b), a))\n",
                "\n",
                "\n",
                "def pow2(a: Point) -> float:\n",
                "    return dot(a, a)"
            ]
        },
        {
            "cell_type": "code",
            "execution_count": null,
            "metadata": {},
            "outputs": [],
            "source": [
                "def det3(abc: Mat3):\n",
                "    a, b, c = abc\n",
                "    return dot(a, cross(b, c))\n",
                "\n",
                "\n",
                "def t(a: Mat3) -> Mat3:\n",
                "    return tuple(zip(*a))\n",
                "\n",
                "\n",
                "def adjoints(a: Mat3, b: Point) -> tuple[Mat3, Mat3, Mat3]:\n",
                "    x, y, z = a\n",
                "    return (t((b, y, z)), t((x, b, z)), t((x, y, b)))\n",
                "\n",
                "\n",
                "def cramers(a: Mat3, b: Point) -> Point:\n",
                "    return tuple(det3(ad) / det3(a) for ad in adjoints(t(a), b))"
            ]
        },
        {
            "cell_type": "code",
            "execution_count": null,
            "metadata": {},
            "outputs": [],
            "source": [
                "def from2(a: Point, b: Point) -> Point:\n",
                "    return div(add(a, b), 2)\n",
                "\n",
                "\n",
                "def from3(a: Point, b: Point, c: Point) -> Point:\n",
                "    ab = sub(b, a)\n",
                "    ac = sub(c, a)\n",
                "    A = (mul(2, ab), mul(2, ac), cross(ab, ac))\n",
                "    d = (dot(ab, ab), dot(ac, ac), 0)\n",
                "    return add(a, cramers(A, d))\n",
                "\n",
                "\n",
                "def from4(a: Point, b: Point, c: Point, d: Point) -> Point:\n",
                "    subs = tuple(sub(p, a) for p in (b, c, d))\n",
                "    return add(a, cramers(tuple(mul(2, v) for v in subs), tuple(map(pow2, subs))))"
            ]
        },
        {
            "cell_type": "code",
            "execution_count": null,
            "metadata": {},
            "outputs": [],
            "source": [
                "def get_radius(center: Point, points: list[Point]) -> float:\n",
                "    return hypot(*sub(center, points[0]))\n",
                "\n",
                "\n",
                "def get_circle(points: list[Point]) -> Sphere:\n",
                "    center = [from2, from3, from4][len(points) - 2](*points)\n",
                "    return center, get_radius(center, points)"
            ]
        },
        {
            "cell_type": "code",
            "execution_count": null,
            "metadata": {},
            "outputs": [],
            "source": [
                "def init(bound: list[Point]) -> Sphere:\n",
                "    if len(bound) > 1:\n",
                "        return get_circle(bound)\n",
                "    else:\n",
                "        return ((bound[0] if bound else (0, 0, 0)), 0.0)\n",
                "\n",
                "\n",
                "def enclosed(bound: list[Point], points: list[Point]) -> tuple[Point, float]:\n",
                "    if len(bound) == 4:\n",
                "        return get_circle(bound)\n",
                "    center, radius = init(bound)\n",
                "    for i, p in enumerate(points):\n",
                "        if hypot(*sub(center, p)) > radius:\n",
                "            center, radius = enclosed(bound + [p], points[:i])\n",
                "    return center, radius"
            ]
        },
        {
            "cell_type": "code",
            "execution_count": null,
            "metadata": {},
            "outputs": [],
            "source": [
                "def solution():\n",
                "    import sys\n",
                "\n",
                "    inputs = sys.stdin.read().strip().split(\"\\n\")[1:]\n",
                "    points = list(set(tuple(map(float, line.split())) for line in inputs))\n",
                "    _, radius = enclosed([], points)\n",
                "    print(f\"{radius:.2f}\")"
            ]
        },
        {
            "cell_type": "markdown",
            "metadata": {},
            "source": [
                "## 예제\n"
            ]
        },
        {
            "cell_type": "code",
            "execution_count": 49,
            "metadata": {},
            "outputs": [],
            "source": [
                "# 백준 문제 풀이용 예제 실행 코드\n",
                "from bwj import test\n",
                "\n",
                "test_solution = test(solution)\n",
                "\n",
                "# test_solution(\"\"\"\"\"\")\n",
                "# test_solution(read(\"fn\").read())"
            ]
        },
        {
            "cell_type": "code",
            "execution_count": 54,
            "metadata": {},
            "outputs": [
                {
                    "name": "stdout",
                    "output_type": "stream",
                    "text": [
                        "1030.21\n"
                    ]
                }
            ],
            "source": [
                "test_solution(\n",
                "    \"\"\"3\n",
                "-747 -497 354\n",
                "923 -364 -644\n",
                "497 661 -702\n",
                "\"\"\"\n",
                ")  # 1030.21"
            ]
        },
        {
            "cell_type": "code",
            "execution_count": 53,
            "metadata": {},
            "outputs": [
                {
                    "name": "stdout",
                    "output_type": "stream",
                    "text": [
                        "452.60\n"
                    ]
                }
            ],
            "source": [
                "test_solution(\n",
                "    \"\"\"3\n",
                "491 834 -78\n",
                "400 503 310\n",
                "-319 484 124\n",
                "\"\"\"\n",
                ")  # 452.60"
            ]
        },
        {
            "cell_type": "code",
            "execution_count": null,
            "metadata": {},
            "outputs": [],
            "source": [
                "test_solution(\n",
                "    \"\"\"5\n",
                "5 0 0\n",
                "-5 0 0\n",
                "0 3 4\n",
                "4 -3 0\n",
                "2 2 -2\n",
                "\"\"\"\n",
                ")  # 5.00"
            ]
        },
        {
            "cell_type": "code",
            "execution_count": 55,
            "metadata": {},
            "outputs": [
                {
                    "name": "stdout",
                    "output_type": "stream",
                    "text": [
                        "1689136.32\n"
                    ]
                }
            ],
            "source": [
                "from random import randrange\n",
                "\n",
                "MAX = 1000000\n",
                "LEN = 1000\n",
                "\n",
                "rand = lambda: randrange(-MAX, MAX)\n",
                "\n",
                "example = f\"{LEN}\\n\" + \"\\n\".join(f\"{rand()} {rand()} {rand()}\" for _ in range(LEN))\n",
                "test_solution(example)\n",
                "# open(\"11930.in\", \"w\").write(example)"
            ]
        }
    ],
    "metadata": {
        "interpreter": {
            "hash": "73891b0dc2e53390f36276e59930dd4ecab91b05b5c90320c2d5b1c443f87069"
        },
        "kernelspec": {
            "display_name": "Python 3.10.1 ('venv': venv)",
            "language": "python",
            "name": "python3"
        },
        "language_info": {
            "codemirror_mode": {
                "name": "ipython",
                "version": 3
            },
            "file_extension": ".py",
            "mimetype": "text/x-python",
            "name": "python",
            "nbconvert_exporter": "python",
            "pygments_lexer": "ipython3",
            "version": "3.12.4"
        },
        "orig_nbformat": 4
    },
    "nbformat": 4,
    "nbformat_minor": 2
}
