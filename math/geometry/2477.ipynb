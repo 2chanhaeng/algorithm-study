{
 "cells": [
  {
   "cell_type": "markdown",
   "metadata": {},
   "source": [
    "# [백준/참외밭](https://www.acmicpc.net/problem/2477)"
   ]
  },
  {
   "cell_type": "markdown",
   "metadata": {},
   "source": [
    "## 풀이과정"
   ]
  },
  {
   "cell_type": "markdown",
   "metadata": {},
   "source": [
    "### 첫번째 시도"
   ]
  },
  {
   "cell_type": "markdown",
   "metadata": {},
   "source": [
    "풀이과정"
   ]
  },
  {
   "cell_type": "code",
   "execution_count": null,
   "metadata": {},
   "outputs": [],
   "source": [
    "def solution(open=open):\n",
    "    n, *lengths = map(int, open(0).read().split())\n",
    "    lengths = lengths[1::2]\n",
    "    w = max(lengths)\n",
    "    wi = lengths.index(w)\n",
    "    before, after = lengths[wi - 1], lengths[(wi + 1) % 6]\n",
    "    if before > after:\n",
    "        hi, h = wi - 1, before\n",
    "        part = lengths[hi - 2] * lengths[(wi + 2) % 6]\n",
    "    else:\n",
    "        hi, h = wi + 1, after\n",
    "        part = lengths[wi - 2] * lengths[(hi + 2) % 6]\n",
    "    print(n * (w * h - part))\n",
    "\n",
    "\n",
    "solution()"
   ]
  },
  {
   "cell_type": "markdown",
   "metadata": {},
   "source": [
    "## 해답"
   ]
  },
  {
   "cell_type": "code",
   "execution_count": 1,
   "metadata": {},
   "outputs": [],
   "source": [
    "def solution(open=open):\n",
    "    n, *lengths = map(int, open(0).read().split())\n",
    "    lengths = lengths[1::2]\n",
    "    w = max(lengths)\n",
    "    wi = lengths.index(w)\n",
    "    before, after = lengths[wi - 1], lengths[(wi + 1) % 6]\n",
    "    if before > after:\n",
    "        hi, h = wi - 1, before\n",
    "        part = lengths[hi - 2] * lengths[(wi + 2) % 6]\n",
    "    else:\n",
    "        hi, h = wi + 1, after\n",
    "        part = lengths[wi - 2] * lengths[(hi + 2) % 6]\n",
    "    print(n * (w * h - part))"
   ]
  },
  {
   "cell_type": "markdown",
   "metadata": {},
   "source": [
    "## 예제"
   ]
  },
  {
   "cell_type": "code",
   "execution_count": 2,
   "metadata": {},
   "outputs": [],
   "source": [
    "%load_ext blackcellmagic\n",
    "# %%black"
   ]
  },
  {
   "cell_type": "code",
   "execution_count": 3,
   "metadata": {},
   "outputs": [],
   "source": [
    "# 백준 문제 풀이용 예제 실행 코드\n",
    "from bwj import test\n",
    "\n",
    "test_solution = test(solution)\n",
    "\n",
    "# test_solution(\"\"\"\"\"\")\n",
    "# test_solution(read(\"fn\").read())"
   ]
  },
  {
   "cell_type": "code",
   "execution_count": 4,
   "metadata": {},
   "outputs": [
    {
     "name": "stdout",
     "output_type": "stream",
     "text": [
      "47600\n"
     ]
    }
   ],
   "source": [
    "test_solution(\n",
    "    \"\"\"7\n",
    "4 50\n",
    "2 160\n",
    "3 30\n",
    "1 60\n",
    "3 20\n",
    "1 100\"\"\"\n",
    ")  # 47600"
   ]
  }
 ],
 "metadata": {
  "interpreter": {
   "hash": "72904a014a9ffe38f4c58942120b599b3c5a87d06764037548e0139929c1cde3"
  },
  "kernelspec": {
   "display_name": "Python 3.10.4 ('venv': venv)",
   "language": "python",
   "name": "python3"
  },
  "language_info": {
   "codemirror_mode": {
    "name": "ipython",
    "version": 3
   },
   "file_extension": ".py",
   "mimetype": "text/x-python",
   "name": "python",
   "nbconvert_exporter": "python",
   "pygments_lexer": "ipython3",
   "version": "3.10.4"
  },
  "orig_nbformat": 4
 },
 "nbformat": 4,
 "nbformat_minor": 2
}
