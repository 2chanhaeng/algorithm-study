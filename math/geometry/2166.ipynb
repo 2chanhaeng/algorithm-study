{
    "cells": [
        {
            "cell_type": "markdown",
            "metadata": {},
            "source": [
                "# [백준/다각형의 면적](https://www.acmicpc.net/problem/2166)"
            ]
        },
        {
            "cell_type": "markdown",
            "metadata": {},
            "source": [
                "## 풀이과정"
            ]
        },
        {
            "cell_type": "markdown",
            "metadata": {},
            "source": [
                "### 첫번째 시도"
            ]
        },
        {
            "cell_type": "markdown",
            "metadata": {},
            "source": [
                "#### 풀이과정"
            ]
        },
        {
            "cell_type": "code",
            "execution_count": null,
            "metadata": {},
            "outputs": [],
            "source": [
                "def solution():\n",
                "    import sys\n",
                "\n",
                "    inputs = map(str.split, sys.stdin)\n",
                "    next(inputs)\n",
                "    print(abs(sum(cross(map(int, line) for line in inputs))) / 2)\n",
                "\n",
                "\n",
                "def cross(iterator):\n",
                "    a0, b0 = next(iterator)\n",
                "    a, b = a0, b0\n",
                "    for c, d in iterator:\n",
                "        yield a * d - b * c\n",
                "        a, b = c, d\n",
                "    yield a * b0 - b * a0\n",
                "\n",
                "\n",
                "solution()"
            ]
        },
        {
            "cell_type": "markdown",
            "metadata": {},
            "source": [
                "## 해답"
            ]
        },
        {
            "cell_type": "code",
            "execution_count": 1,
            "metadata": {},
            "outputs": [],
            "source": [
                "def cross(iterator):\n",
                "    a0, b0 = next(iterator)\n",
                "    a, b = a0, b0\n",
                "    for c, d in iterator:\n",
                "        yield a * d - b * c\n",
                "        a, b = c, d\n",
                "    yield a * b0 - b * a0"
            ]
        },
        {
            "cell_type": "code",
            "execution_count": 2,
            "metadata": {},
            "outputs": [],
            "source": [
                "def solution():\n",
                "    import sys\n",
                "\n",
                "    sys.stdin.readline()\n",
                "    print(abs(sum(cross(map(int, line) for line in map(str.split, sys.stdin)))) / 2)"
            ]
        },
        {
            "cell_type": "markdown",
            "metadata": {},
            "source": [
                "## 예제"
            ]
        },
        {
            "cell_type": "code",
            "execution_count": 3,
            "metadata": {},
            "outputs": [],
            "source": [
                "# black 모듈을 jupyter notebook 내에서 사용 가능하게 만들어주는 blackcellmagic 모듈 불러오기\n",
                "%load_ext blackcellmagic\n",
                "# %%black\n",
                "\n",
                "# 백준 문제 풀이용 예제 실행 코드\n",
                "from bwj import test\n",
                "test_solution = test(solution)\n",
                "\n",
                "# test_solution(\"\"\"\"\"\")\n",
                "# test_solution(read(\"fn\").read())"
            ]
        },
        {
            "cell_type": "code",
            "execution_count": 4,
            "metadata": {},
            "outputs": [
                {
                    "name": "stdout",
                    "output_type": "stream",
                    "text": [
                        "40000000000.0\n",
                        "0.0\n",
                        "0.0\n",
                        "0.0\n",
                        "0.0\n"
                    ]
                }
            ],
            "source": [
                "# https://www.acmicpc.net/board/view/59807\n",
                "test_solution(\"\"\"4\n",
                "-100000 -100000\n",
                "100000 -100000\n",
                "100000 100000\n",
                "-100000 100000\n",
                "\"\"\") # 40000000000.0\n",
                "test_solution(\"\"\"3\n",
                "0 0\n",
                "0 0\n",
                "0 0\n",
                "\"\"\") # 0.0\n",
                "test_solution(\"\"\"\n",
                "-1 -1\n",
                "2 2\n",
                "1 1\n",
                "\"\"\") # 0.0\n",
                "test_solution(\"\"\"\n",
                "1 1\n",
                "2 2\n",
                "-1 -1\n",
                "\"\"\") # \n",
                "test_solution(\"\"\"3\n",
                "-3 3\n",
                "2 2\n",
                "7 1\n",
                "\"\"\") # 0.0\n"
            ]
        },
        {
            "cell_type": "code",
            "execution_count": 5,
            "metadata": {},
            "outputs": [
                {
                    "name": "stdout",
                    "output_type": "stream",
                    "text": [
                        "0.5\n"
                    ]
                }
            ],
            "source": [
                "test_solution(\"\"\"3\n",
                "0 0\n",
                "1 1\n",
                "1 0\n",
                "\"\"\") # 0.5"
            ]
        },
        {
            "cell_type": "code",
            "execution_count": 6,
            "metadata": {},
            "outputs": [
                {
                    "name": "stdout",
                    "output_type": "stream",
                    "text": [
                        "7.0\n"
                    ]
                }
            ],
            "source": [
                "test_solution(\"\"\"5\n",
                "0 0\n",
                "-2 0\n",
                "-1 3\n",
                "0 4\n",
                "1 1\n",
                "\"\"\") # 7.0"
            ]
        },
        {
            "cell_type": "code",
            "execution_count": 7,
            "metadata": {},
            "outputs": [
                {
                    "name": "stdout",
                    "output_type": "stream",
                    "text": [
                        "100.0\n"
                    ]
                }
            ],
            "source": [
                "test_solution(\"\"\"4\n",
                "0 0\n",
                "0 10\n",
                "10 10\n",
                "10 0\n",
                "\"\"\") # 100.0"
            ]
        }
    ],
    "metadata": {
        "kernelspec": {
            "display_name": "venv",
            "language": "python",
            "name": "python3"
        },
        "language_info": {
            "codemirror_mode": {
                "name": "ipython",
                "version": 3
            },
            "file_extension": ".py",
            "mimetype": "text/x-python",
            "name": "python",
            "nbconvert_exporter": "python",
            "pygments_lexer": "ipython3",
            "version": "3.10.8"
        },
        "orig_nbformat": 4,
        "vscode": {
            "interpreter": {
                "hash": "72904a014a9ffe38f4c58942120b599b3c5a87d06764037548e0139929c1cde3"
            }
        }
    },
    "nbformat": 4,
    "nbformat_minor": 2
}
