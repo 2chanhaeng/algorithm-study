{
    "cells": [
        {
            "cell_type": "markdown",
            "metadata": {},
            "source": [
                "# [백준/세상의 중심에서...](https://www.acmicpc.net/problem/2389)\n"
            ]
        },
        {
            "cell_type": "markdown",
            "metadata": {},
            "source": [
                "## 풀이과정\n"
            ]
        },
        {
            "cell_type": "markdown",
            "metadata": {},
            "source": [
                "### 첫번째 시도\n"
            ]
        },
        {
            "cell_type": "markdown",
            "metadata": {},
            "source": [
                "#### 풀이과정\n"
            ]
        },
        {
            "cell_type": "code",
            "execution_count": null,
            "metadata": {},
            "outputs": [],
            "source": [
                "# refer https://www.acmicpc.net/source/55045393\n",
                "\n",
                "\n",
                "def cross(a: complex, b: complex) -> float:\n",
                "    return (a.conjugate() * b).imag\n",
                "\n",
                "\n",
                "def ccw(a: complex, b: complex, c: complex):\n",
                "    return cross((a - c), (b - c)) > 0\n",
                "\n",
                "\n",
                "def key(a: complex):\n",
                "    return a.real, a.imag\n",
                "\n",
                "\n",
                "def get_center_2(a: complex, b: complex) -> complex:\n",
                "    return (a + b) / 2\n",
                "\n",
                "\n",
                "def get_center_3(a: complex, b: complex, c: complex) -> complex:\n",
                "    ab = b - a\n",
                "    ac = c - a\n",
                "    return a + (abs(ac) ** 2 * ab - abs(ab) ** 2 * ac) * 1j / (2 * cross(ab, ac))\n",
                "\n",
                "\n",
                "def get_circle(bound: list[complex]):\n",
                "    center = (get_center_3 if len(bound) > 2 else get_center_2)(*bound)\n",
                "    return center, abs(center - bound[0])\n",
                "\n",
                "\n",
                "def init(bound: list[complex]) -> tuple[complex, float]:\n",
                "    return get_circle(bound) if len(bound) > 1 else ((bound[0] if bound else 0j), 0.0)\n",
                "\n",
                "\n",
                "def enclosed(bound: list[complex], points: list[complex]) -> tuple[complex, float]:\n",
                "    if len(bound) == 3:\n",
                "        return get_circle(bound)\n",
                "    center, radius = init(bound)\n",
                "    for i, p in enumerate(points):\n",
                "        if abs(center - p) > radius:\n",
                "            center, radius = enclosed(bound + [p], points[:i])\n",
                "    return center, radius\n",
                "\n",
                "\n",
                "def solution():\n",
                "    import sys\n",
                "\n",
                "    inputs = sys.stdin.read().strip().split(\"\\n\")[1:]\n",
                "    points = sorted(set(complex(*map(float, line.split())) for line in inputs), key=key)\n",
                "    center, radius = enclosed([], points)\n",
                "    print(center.real, center.imag, radius)\n",
                "\n",
                "\n",
                "solution()"
            ]
        },
        {
            "cell_type": "markdown",
            "metadata": {},
            "source": [
                "## 해답\n"
            ]
        },
        {
            "cell_type": "code",
            "execution_count": 1,
            "metadata": {},
            "outputs": [],
            "source": [
                "def cross(a: complex, b: complex) -> float:\n",
                "    return (a.conjugate() * b).imag"
            ]
        },
        {
            "cell_type": "code",
            "execution_count": 2,
            "metadata": {},
            "outputs": [],
            "source": [
                "def ccw(a: complex, b: complex, c: complex):\n",
                "    return cross((a - c), (b - c)) > 0"
            ]
        },
        {
            "cell_type": "code",
            "execution_count": 3,
            "metadata": {},
            "outputs": [],
            "source": [
                "def key(a: complex):\n",
                "    return a.real, a.imag"
            ]
        },
        {
            "cell_type": "code",
            "execution_count": 4,
            "metadata": {},
            "outputs": [],
            "source": [
                "def get_center_2(a: complex, b: complex) -> complex:\n",
                "    return (a + b) / 2"
            ]
        },
        {
            "cell_type": "code",
            "execution_count": 5,
            "metadata": {},
            "outputs": [],
            "source": [
                "def get_center_3(a: complex, b: complex, c: complex) -> complex:\n",
                "    ab = b - a\n",
                "    ac = c - a\n",
                "    return a + (abs(ac) ** 2 * ab - abs(ab) ** 2 * ac) * 1j / (2 * cross(ab, ac))"
            ]
        },
        {
            "cell_type": "code",
            "execution_count": 6,
            "metadata": {},
            "outputs": [],
            "source": [
                "def get_circle(bound: list[complex]):\n",
                "    center = (get_center_3 if len(bound) > 2 else get_center_2)(*bound)\n",
                "    return center, abs(center - bound[0])"
            ]
        },
        {
            "cell_type": "code",
            "execution_count": 7,
            "metadata": {},
            "outputs": [],
            "source": [
                "def init(bound: list[complex]) -> tuple[complex, float]:\n",
                "    return get_circle(bound) if len(bound) > 1 else ((bound[0] if bound else 0j), 0.0)"
            ]
        },
        {
            "cell_type": "code",
            "execution_count": 8,
            "metadata": {},
            "outputs": [],
            "source": [
                "def enclosed(bound: list[complex], points: list[complex]) -> tuple[complex, float]:\n",
                "    if len(bound) == 3:\n",
                "        return get_circle(bound)\n",
                "    center, radius = init(bound)\n",
                "    for i, p in enumerate(points):\n",
                "        if abs(center - p) > radius:\n",
                "            center, radius = enclosed(bound + [p], points[:i])\n",
                "    return center, radius"
            ]
        },
        {
            "cell_type": "code",
            "execution_count": 9,
            "metadata": {},
            "outputs": [],
            "source": [
                "def solution():\n",
                "    import sys\n",
                "\n",
                "    inputs = sys.stdin.read().strip().split(\"\\n\")[1:]\n",
                "    points = sorted(set(complex(*map(float, line.split())) for line in inputs), key=key)\n",
                "    center, radius = enclosed([], points)\n",
                "    print(center.real, center.imag, radius)"
            ]
        },
        {
            "cell_type": "markdown",
            "metadata": {},
            "source": [
                "## 예제\n"
            ]
        },
        {
            "cell_type": "code",
            "execution_count": 10,
            "metadata": {},
            "outputs": [],
            "source": [
                "# 백준 문제 풀이용 예제 실행 코드\n",
                "from bwj import test\n",
                "\n",
                "test_solution = test(solution)\n",
                "\n",
                "# test_solution(\"\"\"\"\"\")\n",
                "# test_solution(read(\"fn\").read())"
            ]
        },
        {
            "cell_type": "code",
            "execution_count": 11,
            "metadata": {},
            "outputs": [
                {
                    "name": "stdout",
                    "output_type": "stream",
                    "text": [
                        "2.0 2.0 1.4142135623730951\n"
                    ]
                }
            ],
            "source": [
                "test_solution(\n",
                "    \"\"\"3\n",
                "1 1\n",
                "2 2\n",
                "3 3\n",
                "\"\"\"\n",
                ")  # 2 2 1.4142135624"
            ]
        }
    ],
    "metadata": {
        "interpreter": {
            "hash": "73891b0dc2e53390f36276e59930dd4ecab91b05b5c90320c2d5b1c443f87069"
        },
        "kernelspec": {
            "display_name": "Python 3.10.1 ('venv': venv)",
            "language": "python",
            "name": "python3"
        },
        "language_info": {
            "codemirror_mode": {
                "name": "ipython",
                "version": 3
            },
            "file_extension": ".py",
            "mimetype": "text/x-python",
            "name": "python",
            "nbconvert_exporter": "python",
            "pygments_lexer": "ipython3",
            "version": "3.12.0"
        },
        "orig_nbformat": 4
    },
    "nbformat": 4,
    "nbformat_minor": 2
}
