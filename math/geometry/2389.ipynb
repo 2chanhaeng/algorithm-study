{
    "cells": [
        {
            "cell_type": "markdown",
            "metadata": {},
            "source": [
                "# [백준/세상의 중심에서...](https://www.acmicpc.net/problem/2389)\n"
            ]
        },
        {
            "cell_type": "markdown",
            "metadata": {},
            "source": [
                "## 풀이과정\n"
            ]
        },
        {
            "cell_type": "markdown",
            "metadata": {},
            "source": [
                "### 첫번째 시도\n"
            ]
        },
        {
            "cell_type": "markdown",
            "metadata": {},
            "source": [
                "#### 풀이과정\n",
                "\n",
                "모노톤 체인을 이용해 최외각 값들을 구한 뒤 휴리스틱으로 외접원을 구해 해결했다.  \n",
                "[보양쿠님의 풀이](https://velog.io/@vkdldjvkdnj/boj02389)를 참조했다.\n"
            ]
        },
        {
            "cell_type": "code",
            "execution_count": null,
            "metadata": {},
            "outputs": [],
            "source": [
                "from itertools import accumulate\n",
                "from typing import Callable, Iterable\n",
                "\n",
                "\n",
                "def mean(points: list[complex]) -> complex:\n",
                "    return sum(points) / len(points)\n",
                "\n",
                "\n",
                "def ccw(a: complex, b: complex, c: complex):\n",
                "    return ((a - c).conjugate() * (b - c)).imag > 0\n",
                "\n",
                "\n",
                "def dist(a: complex) -> Callable[[complex], float]:\n",
                "    return lambda x: abs(a - x)\n",
                "\n",
                "\n",
                "def key(a: complex):\n",
                "    return a.real, a.imag\n",
                "\n",
                "\n",
                "def disc(x: float, _) -> float:\n",
                "    return x * 0.995\n",
                "\n",
                "\n",
                "def get_halved_hull(points: Iterable[complex]) -> list[complex]:\n",
                "    result: list[complex] = []\n",
                "    for p in points:\n",
                "        while len(result) > 1 and not ccw(p, *result[-2:]):\n",
                "            result.pop()\n",
                "        result.append(p)\n",
                "    return result\n",
                "\n",
                "\n",
                "def monotone_chain(points: list[complex]) -> list[complex]:\n",
                "    return get_halved_hull(points)[:-1] + get_halved_hull(reversed(points))[:-1]\n",
                "\n",
                "\n",
                "def heuristic(hull: list[complex]) -> tuple[float, float, float]:\n",
                "    m = mean(hull)\n",
                "    for r in accumulate(range(5000), disc, initial=0.1):\n",
                "        m += (max(hull, key=dist(m)) - m) * r\n",
                "    return m.real, m.imag, max(map(dist(m), hull))\n",
                "\n",
                "\n",
                "def solution():\n",
                "    import sys\n",
                "\n",
                "    inputs = sys.stdin.read().strip().split(\"\\n\")[1:]\n",
                "    if len(inputs) == 1:\n",
                "        return print(*inputs, 0)\n",
                "    points = sorted((complex(*map(float, line.split())) for line in inputs), key=key)\n",
                "    print(*heuristic(monotone_chain(points)))\n",
                "\n",
                "\n",
                "solution()"
            ]
        },
        {
            "cell_type": "markdown",
            "metadata": {},
            "source": [
                "### 두번째 시도\n"
            ]
        },
        {
            "cell_type": "markdown",
            "metadata": {},
            "source": [
                "#### 풀이과정\n",
                "\n",
                "[thxios457 님](https://www.acmicpc.net/user/thxios457)의 [55045393 번 풀이](https://www.acmicpc.net/source/55045393)를 참고해 풀어봤다.  \n",
                "먼저 두 점을 잇는 선분을 지름으로 하는 원을 구한 뒤 해당 원을 시작으로 점을 추가해나가며 외접원을 구하는 방식이다.  \n",
                "해당 알고리즘은 [이 글](https://greimul.tistory.com/33)에서 처음 접하고 이용해 풀려고 했으나 실패했었는데, 55045393 번 풀이가 이 알고리즘을 잘 구현해서 참고했다.\n"
            ]
        },
        {
            "cell_type": "code",
            "execution_count": null,
            "metadata": {},
            "outputs": [],
            "source": [
                "# refer https://www.acmicpc.net/source/55045393\n",
                "\n",
                "\n",
                "def cross(a: complex, b: complex) -> float:\n",
                "    return (a.conjugate() * b).imag\n",
                "\n",
                "\n",
                "def get_center_2(a: complex, b: complex) -> complex:\n",
                "    return (a + b) / 2\n",
                "\n",
                "\n",
                "def get_center_3(a: complex, b: complex, c: complex) -> complex:\n",
                "    ab = b - a\n",
                "    ac = c - a\n",
                "    return a + (abs(ac) ** 2 * ab - abs(ab) ** 2 * ac) * 1j / (2 * cross(ab, ac))\n",
                "\n",
                "\n",
                "def get_circle(bound: list[complex]):\n",
                "    center = (get_center_3 if len(bound) > 2 else get_center_2)(*bound)\n",
                "    return center, abs(center - bound[0])\n",
                "\n",
                "\n",
                "def init(bound: list[complex]) -> tuple[complex, float]:\n",
                "    return get_circle(bound) if len(bound) > 1 else ((bound[0] if bound else 0j), 0.0)\n",
                "\n",
                "\n",
                "def enclosed(bound: list[complex], points: list[complex]) -> tuple[complex, float]:\n",
                "    if len(bound) == 3:\n",
                "        return get_circle(bound)\n",
                "    center, radius = init(bound)\n",
                "    for i, p in enumerate(points):\n",
                "        if abs(center - p) > radius:\n",
                "            center, radius = enclosed(bound + [p], points[:i])\n",
                "    return center, radius\n",
                "\n",
                "\n",
                "def solution():\n",
                "    import sys\n",
                "\n",
                "    inputs = sys.stdin.read().strip().split(\"\\n\")[1:]\n",
                "    points = list(set(complex(*map(float, line.split())) for line in inputs))\n",
                "    center, radius = enclosed([], points)\n",
                "    print(center.real, center.imag, radius)\n",
                "\n",
                "\n",
                "solution()"
            ]
        },
        {
            "cell_type": "markdown",
            "metadata": {},
            "source": [
                "![2024년 1월 15일 14시 기준 2389번 맞힌 사람 (Python) 40ms로 1위](<../../img/Screenshot 2024-01-15 at 14-48-37 2389번 맞힌 사람 (Python) - 1 페이지.png>)\n"
            ]
        },
        {
            "cell_type": "markdown",
            "metadata": {},
            "source": [
                "## 해답\n"
            ]
        },
        {
            "cell_type": "code",
            "execution_count": 1,
            "metadata": {},
            "outputs": [],
            "source": [
                "def cross(a: complex, b: complex) -> float:\n",
                "    return (a.conjugate() * b).imag"
            ]
        },
        {
            "cell_type": "code",
            "execution_count": 4,
            "metadata": {},
            "outputs": [],
            "source": [
                "def get_center_2(a: complex, b: complex) -> complex:\n",
                "    return (a + b) / 2"
            ]
        },
        {
            "cell_type": "code",
            "execution_count": 5,
            "metadata": {},
            "outputs": [],
            "source": [
                "def get_center_3(a: complex, b: complex, c: complex) -> complex:\n",
                "    ab = b - a\n",
                "    ac = c - a\n",
                "    return a + (abs(ac) ** 2 * ab - abs(ab) ** 2 * ac) * 1j / (2 * cross(ab, ac))"
            ]
        },
        {
            "cell_type": "code",
            "execution_count": 6,
            "metadata": {},
            "outputs": [],
            "source": [
                "def get_circle(bound: list[complex]):\n",
                "    center = (get_center_3 if len(bound) > 2 else get_center_2)(*bound)\n",
                "    return center, abs(center - bound[0])"
            ]
        },
        {
            "cell_type": "code",
            "execution_count": 7,
            "metadata": {},
            "outputs": [],
            "source": [
                "def init(bound: list[complex]) -> tuple[complex, float]:\n",
                "    return get_circle(bound) if len(bound) > 1 else ((bound[0] if bound else 0j), 0.0)"
            ]
        },
        {
            "cell_type": "code",
            "execution_count": 8,
            "metadata": {},
            "outputs": [],
            "source": [
                "def enclosed(bound: list[complex], points: list[complex]) -> tuple[complex, float]:\n",
                "    if len(bound) == 3:\n",
                "        return get_circle(bound)\n",
                "    center, radius = init(bound)\n",
                "    for i, p in enumerate(points):\n",
                "        if abs(center - p) > radius:\n",
                "            center, radius = enclosed(bound + [p], points[:i])\n",
                "    return center, radius"
            ]
        },
        {
            "cell_type": "code",
            "execution_count": 9,
            "metadata": {},
            "outputs": [],
            "source": [
                "def solution():\n",
                "    import sys\n",
                "\n",
                "    inputs = sys.stdin.read().strip().split(\"\\n\")[1:]\n",
                "    points = list(set(complex(*map(float, line.split())) for line in inputs))\n",
                "    center, radius = enclosed([], points)\n",
                "    print(center.real, center.imag, radius)"
            ]
        },
        {
            "cell_type": "markdown",
            "metadata": {},
            "source": [
                "## 예제\n"
            ]
        },
        {
            "cell_type": "code",
            "execution_count": 10,
            "metadata": {},
            "outputs": [],
            "source": [
                "# 백준 문제 풀이용 예제 실행 코드\n",
                "from bwj import test\n",
                "\n",
                "test_solution = test(solution)\n",
                "\n",
                "# test_solution(\"\"\"\"\"\")\n",
                "# test_solution(read(\"fn\").read())"
            ]
        },
        {
            "cell_type": "code",
            "execution_count": 11,
            "metadata": {},
            "outputs": [
                {
                    "name": "stdout",
                    "output_type": "stream",
                    "text": [
                        "2.0 2.0 1.4142135623730951\n"
                    ]
                }
            ],
            "source": [
                "test_solution(\n",
                "    \"\"\"3\n",
                "1 1\n",
                "2 2\n",
                "3 3\n",
                "\"\"\"\n",
                ")  # 2 2 1.4142135624"
            ]
        }
    ],
    "metadata": {
        "interpreter": {
            "hash": "73891b0dc2e53390f36276e59930dd4ecab91b05b5c90320c2d5b1c443f87069"
        },
        "kernelspec": {
            "display_name": "Python 3.10.1 ('venv': venv)",
            "language": "python",
            "name": "python3"
        },
        "language_info": {
            "codemirror_mode": {
                "name": "ipython",
                "version": 3
            },
            "file_extension": ".py",
            "mimetype": "text/x-python",
            "name": "python",
            "nbconvert_exporter": "python",
            "pygments_lexer": "ipython3",
            "version": "3.12.0"
        },
        "orig_nbformat": 4
    },
    "nbformat": 4,
    "nbformat_minor": 2
}
