{
    "cells": [
        {
            "cell_type": "markdown",
            "metadata": {},
            "source": [
                "# [백준/선분 교차 1](https://www.acmicpc.net/problem/17386)"
            ]
        },
        {
            "cell_type": "markdown",
            "metadata": {},
            "source": [
                "## 풀이과정"
            ]
        },
        {
            "cell_type": "markdown",
            "metadata": {},
            "source": [
                "### 첫번째 시도"
            ]
        },
        {
            "cell_type": "markdown",
            "metadata": {},
            "source": [
                "#### 풀이과정\n",
                "[■ 두 직선(선분)의 교차 [The Intersection of 2 Straight Lines(' Segments)](https://pseudy.tistory.com/29)를 참고하였습니다. `tuple` 클래스를 상속해서 필요한 벡터 연산만을 구현한 `vector` 클래스를 만든 뒤, 먼저 두 선분이 평행하다면 어떠한 세 점도 같은 직선 위에 있지 않다고 했으므로 만나지 않는 것으로 간주합니다. 이후 두 선분의 연장된 직선 간의 교점이 선분 내부에 있는지 확인하여 답을 출력합니다."
            ]
        },
        {
            "cell_type": "code",
            "execution_count": 43,
            "metadata": {},
            "outputs": [],
            "source": [
                "class vector(tuple):\n",
                "    def __init__(self, iterable=None):\n",
                "        tuple.__init__(iterable)\n",
                "\n",
                "    def __sub__(self, other):\n",
                "        # 벡터 간의 차\n",
                "        return vector(x - y for x, y in zip(self, other))\n",
                "\n",
                "    def __mul__(self, other):\n",
                "        # 벡터 간의 내적\n",
                "        return sum(x * y for x, y in zip(self, other))\n",
                "\n",
                "    def __rmul__(self, __n):\n",
                "        if type(__n) is int or type(__n) is float:\n",
                "            # 벡터의 스칼라 곱\n",
                "            return vector(x * __n for x in self)\n",
                "\n",
                "\n",
                "def solution():\n",
                "    import sys\n",
                "\n",
                "    q, w, e, r = map(int, sys.stdin.readline().split())\n",
                "    a, s, d, f = map(int, sys.stdin.readline().split())\n",
                "    if q == e and a == d or (q - e) * (s - f) == (a - d) * (w - r):\n",
                "        # 두 선분이 평행하다면 만나지 않으므로 0을 출력\n",
                "        print(0)\n",
                "        return\n",
                "\n",
                "    o0, d0, o1, d1 = map(vector, [(q, w), (e, r), (a, s), (d, f)])\n",
                "    # 각 점을 vector 클래스로 만들기\n",
                "    D0, D1, O = d0 - o0, d1 - o1, o1 - o0\n",
                "    # 첫번째 선분, 두번째 선분, 두 선분 시작점 간의 변위 벡터\n",
                "    a0, a1, a2 = D0 * D0, -(D0 * D1), D1 * D1\n",
                "    # 계수 행렬의 원소\n",
                "    det = a0 * a2 - a1 * a1\n",
                "    # 계수 행렬의 행렬식\n",
                "    if det == 0:\n",
                "        # 행렬식이 0이면 평행이므로 0을 출력\n",
                "        print(0)\n",
                "        return\n",
                "    b0, b1 = O * D0, -(O * D1)\n",
                "    # 크라메르 공식의 우변 벡터의 원소 \n",
                "    if 0 < (b0 * a2 - a1 * b1) / det < 1 and 0 < (a0 * b1 - b0 * a1) / det < 1:\n",
                "        # 크라메르 공식을 통해 구한 delta가 0 초과 1 미만 이면 \n",
                "        # 교점이 두 선분 안에 있는 것이므로 1을 출력\n",
                "        print(1)\n",
                "    else:\n",
                "        # 그 외에는 0을 출력\n",
                "        print(0)\n",
                "\n",
                "\n",
                "solution()"
            ]
        },
        {
            "cell_type": "markdown",
            "metadata": {},
            "source": [
                "## 해답"
            ]
        },
        {
            "cell_type": "code",
            "execution_count": 44,
            "metadata": {},
            "outputs": [
                {
                    "data": {
                        "text/plain": [
                            "((3, 0, -3), 8, (9, 6, 3))"
                        ]
                    },
                    "execution_count": 44,
                    "metadata": {},
                    "output_type": "execute_result"
                }
            ],
            "source": [
                "# 클래스를 따로 지정하지 않고 계산할 경우 벡터연산을 위해 사용하는 함수\n",
                "\n",
                "def diff(v0, v1):\n",
                "    return tuple(x - y for x, y in zip(v0, v1))\n",
                "\n",
                "\n",
                "def dot(v0, v1):\n",
                "    return sum(x * y for x, y in zip(v0, v1))\n",
                "\n",
                "\n",
                "def scalar(n, v):\n",
                "    return vector(x * n for x in v)\n",
                "\n",
                "\n",
                "diff((3,2,1), (0, 2, 4)), dot((3,2,1), (0, 2, 4)), scalar(3, (3,2,1))"
            ]
        },
        {
            "cell_type": "code",
            "execution_count": 33,
            "metadata": {},
            "outputs": [
                {
                    "data": {
                        "text/plain": [
                            "((3, 0, -3), 8, (9, 6, 3))"
                        ]
                    },
                    "execution_count": 33,
                    "metadata": {},
                    "output_type": "execute_result"
                }
            ],
            "source": [
                "class vector(tuple):\n",
                "    def __init__(self, iterable=None):\n",
                "        tuple.__init__(iterable)\n",
                "    \n",
                "    def __sub__(self, other):\n",
                "        return vector(x - y for x, y in zip(self, other))\n",
                "\n",
                "    def __mul__(self, other):\n",
                "        return sum(x * y for x, y in zip(self, other))\n",
                "    \n",
                "    def __rmul__(self, __n):\n",
                "        if type(__n) is int or type(__n) is float:\n",
                "            return vector(x * __n for x in self)\n",
                "\n",
                "a, b = vector((3,2,1)), vector((0, 2, 4))\n",
                "a - b, a * b, 3 * a"
            ]
        },
        {
            "cell_type": "code",
            "execution_count": 39,
            "metadata": {},
            "outputs": [],
            "source": [
                "def solution():\n",
                "    import sys\n",
                "\n",
                "    q,w,e,r = map(int, sys.stdin.readline().split())\n",
                "    a,s,d,f = map(int, sys.stdin.readline().split())\n",
                "    if q == e and a == d or (q - e) * (s - f) == (a - d) * (w - r):\n",
                "        print(0)\n",
                "        return\n",
                "    \n",
                "    o0, d0, o1, d1 = map(vector, [(q, w), (e, r), (a,s),(d,f)])\n",
                "    D0, D1, O = d0 - o0, d1 - o1, o1 - o0\n",
                "    a0, a1, a2 = D0 * D0, - (D0 * D1), D1 * D1\n",
                "    det = a0 * a2 - a1 * a1\n",
                "    if det == 0:\n",
                "        print(0)\n",
                "        return\n",
                "    b0, b1 = O * D0, -(O * D1)\n",
                "    if 0 < (b0 * a2 - a1 * b1) / det < 1 and 0 < (a0 * b1 - b0 * a1) / det < 1:\n",
                "        print(1)\n",
                "    else:\n",
                "        print(0)"
            ]
        },
        {
            "cell_type": "markdown",
            "metadata": {},
            "source": [
                "## 예제"
            ]
        },
        {
            "cell_type": "code",
            "execution_count": 40,
            "metadata": {},
            "outputs": [
                {
                    "name": "stdout",
                    "output_type": "stream",
                    "text": [
                        "The blackcellmagic extension is already loaded. To reload it, use:\n",
                        "  %reload_ext blackcellmagic\n"
                    ]
                }
            ],
            "source": [
                "# black 모듈을 jupyter notebook 내에서 사용 가능하게 만들어주는 blackcellmagic 모듈 불러오기\n",
                "%load_ext blackcellmagic\n",
                "# %%black\n",
                "\n",
                "# 백준 문제 풀이용 예제 실행 코드\n",
                "from bwj import test\n",
                "test_solution = test(solution)\n",
                "\n",
                "# test_solution(\"\"\"\"\"\")\n",
                "# test_solution(read(\"fn\").read())"
            ]
        },
        {
            "cell_type": "code",
            "execution_count": 41,
            "metadata": {},
            "outputs": [
                {
                    "name": "stdout",
                    "output_type": "stream",
                    "text": [
                        "1\n"
                    ]
                }
            ],
            "source": [
                "test_solution(\"\"\"1 1 5 5\n",
                "1 5 5 1\n",
                "\"\"\") # 1"
            ]
        },
        {
            "cell_type": "code",
            "execution_count": 42,
            "metadata": {},
            "outputs": [
                {
                    "name": "stdout",
                    "output_type": "stream",
                    "text": [
                        "0\n"
                    ]
                }
            ],
            "source": [
                "test_solution(\"\"\"1 1 5 5\n",
                "6 10 10 6\n",
                "\"\"\") # 0"
            ]
        }
    ],
    "metadata": {
        "kernelspec": {
            "display_name": "Python 3.10.6 ('venv': venv)",
            "language": "python",
            "name": "python3"
        },
        "language_info": {
            "codemirror_mode": {
                "name": "ipython",
                "version": 3
            },
            "file_extension": ".py",
            "mimetype": "text/x-python",
            "name": "python",
            "nbconvert_exporter": "python",
            "pygments_lexer": "ipython3",
            "version": "3.10.6"
        },
        "orig_nbformat": 4,
        "vscode": {
            "interpreter": {
                "hash": "72904a014a9ffe38f4c58942120b599b3c5a87d06764037548e0139929c1cde3"
            }
        }
    },
    "nbformat": 4,
    "nbformat_minor": 2
}
