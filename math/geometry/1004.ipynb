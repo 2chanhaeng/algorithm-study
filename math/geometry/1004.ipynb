{
 "cells": [
  {
   "cell_type": "markdown",
   "metadata": {},
   "source": [
    "# [백준/어린 왕자](https://www.acmicpc.net/problem/1004)"
   ]
  },
  {
   "cell_type": "markdown",
   "metadata": {},
   "source": [
    "## 풀이과정"
   ]
  },
  {
   "cell_type": "markdown",
   "metadata": {},
   "source": [
    "### 첫번째 시도"
   ]
  },
  {
   "cell_type": "markdown",
   "metadata": {},
   "source": [
    "풀이과정"
   ]
  },
  {
   "cell_type": "code",
   "execution_count": 27,
   "metadata": {},
   "outputs": [],
   "source": [
    "def solution():\n",
    "    import sys\n",
    "\n",
    "    input = iter(sys.stdin.readlines()).__next__\n",
    "\n",
    "    def is_in(point, circle):\n",
    "        x, y = point\n",
    "        a, b, r = circle\n",
    "        return True if (x - a) ** 2 + (y - b) ** 2 <= r**2 else False\n",
    "\n",
    "    for _ in range(int(input())):\n",
    "        x0, y0, x1, y1 = map(int, input().split())\n",
    "        start, end = (x0, y0), (x1, y1)\n",
    "        s = 0\n",
    "        for _ in range(int(input())):\n",
    "            circle = tuple(map(int, input().split()))\n",
    "            s += is_in(start, circle) ^ is_in(end, circle)\n",
    "        print(s)\n",
    "\n",
    "\n",
    "solution()"
   ]
  },
  {
   "cell_type": "markdown",
   "metadata": {},
   "source": [
    "## 해답"
   ]
  },
  {
   "cell_type": "code",
   "execution_count": 12,
   "metadata": {},
   "outputs": [],
   "source": [
    "def is_in(point, circle):\n",
    "    x, y = point\n",
    "    a, b, r = circle\n",
    "    return True if (x - a) ** 2 + (y - b) ** 2 <= r**2 else False"
   ]
  },
  {
   "cell_type": "code",
   "execution_count": 22,
   "metadata": {},
   "outputs": [],
   "source": [
    "def solution(open=open):\n",
    "    input = iter(open(0).read().split(\"\\n\")).__next__\n",
    "    for _ in range(int(input())):\n",
    "        x0, y0, x1, y1 = map(int, input().split())\n",
    "        start, end = (x0, y0), (x1, y1)\n",
    "        s = 0\n",
    "        for _ in range(int(input())):\n",
    "            circle = tuple(map(int, input().split()))\n",
    "            s += is_in(start, circle) ^ is_in(end, circle)\n",
    "        print(s)"
   ]
  },
  {
   "cell_type": "markdown",
   "metadata": {},
   "source": [
    "## 예제"
   ]
  },
  {
   "cell_type": "code",
   "execution_count": 23,
   "metadata": {},
   "outputs": [
    {
     "name": "stdout",
     "output_type": "stream",
     "text": [
      "The blackcellmagic extension is already loaded. To reload it, use:\n",
      "  %reload_ext blackcellmagic\n"
     ]
    }
   ],
   "source": [
    "%load_ext blackcellmagic\n",
    "# %%black"
   ]
  },
  {
   "cell_type": "code",
   "execution_count": 24,
   "metadata": {},
   "outputs": [],
   "source": [
    "# 백준 문제 풀이용 예제 실행 코드\n",
    "from bwj import test\n",
    "\n",
    "test_solution = test(solution)\n",
    "\n",
    "# test_solution(\"\"\"\"\"\")\n",
    "# test_solution(read(\"fn\").read())"
   ]
  },
  {
   "cell_type": "code",
   "execution_count": 25,
   "metadata": {},
   "outputs": [
    {
     "name": "stdout",
     "output_type": "stream",
     "text": [
      "point = (-5, 1) circle = (1, 1, 8)\n",
      "point = (12, 1) circle = (1, 1, 8)\n",
      "point = (-5, 1) circle = (-3, -1, 1)\n",
      "point = (12, 1) circle = (-3, -1, 1)\n",
      "point = (-5, 1) circle = (2, 2, 2)\n",
      "point = (12, 1) circle = (2, 2, 2)\n",
      "point = (-5, 1) circle = (5, 5, 1)\n",
      "point = (12, 1) circle = (5, 5, 1)\n",
      "point = (-5, 1) circle = (-4, 5, 1)\n",
      "point = (12, 1) circle = (-4, 5, 1)\n",
      "point = (-5, 1) circle = (12, 1, 1)\n",
      "point = (12, 1) circle = (12, 1, 1)\n",
      "point = (-5, 1) circle = (12, 1, 2)\n",
      "point = (12, 1) circle = (12, 1, 2)\n",
      "3\n",
      "point = (-5, 1) circle = (0, 0, 2)\n",
      "point = (5, 1) circle = (0, 0, 2)\n",
      "0\n"
     ]
    }
   ],
   "source": [
    "test_solution(\n",
    "    \"\"\"2\n",
    "-5 1 12 1\n",
    "7\n",
    "1 1 8\n",
    "-3 -1 1\n",
    "2 2 2\n",
    "5 5 1\n",
    "-4 5 1\n",
    "12 1 1\n",
    "12 1 2\n",
    "-5 1 5 1\n",
    "1\n",
    "0 0 2\"\"\"\n",
    ")\n",
    "# answer:\n",
    "# 3\n",
    "# 0"
   ]
  },
  {
   "cell_type": "code",
   "execution_count": 26,
   "metadata": {},
   "outputs": [
    {
     "name": "stdout",
     "output_type": "stream",
     "text": [
      "point = (-5, 1) circle = (0, 0, 2)\n",
      "point = (5, 1) circle = (0, 0, 2)\n",
      "point = (-5, 1) circle = (-6, 1, 2)\n",
      "point = (5, 1) circle = (-6, 1, 2)\n",
      "point = (-5, 1) circle = (6, 2, 2)\n",
      "point = (5, 1) circle = (6, 2, 2)\n",
      "2\n",
      "point = (2, 3) circle = (-3, -1, 1)\n",
      "point = (13, 2) circle = (-3, -1, 1)\n",
      "point = (2, 3) circle = (2, 2, 3)\n",
      "point = (13, 2) circle = (2, 2, 3)\n",
      "point = (2, 3) circle = (2, 3, 1)\n",
      "point = (13, 2) circle = (2, 3, 1)\n",
      "point = (2, 3) circle = (0, 1, 7)\n",
      "point = (13, 2) circle = (0, 1, 7)\n",
      "point = (2, 3) circle = (-4, 5, 1)\n",
      "point = (13, 2) circle = (-4, 5, 1)\n",
      "point = (2, 3) circle = (12, 1, 1)\n",
      "point = (13, 2) circle = (12, 1, 1)\n",
      "point = (2, 3) circle = (12, 1, 2)\n",
      "point = (13, 2) circle = (12, 1, 2)\n",
      "point = (2, 3) circle = (12, 1, 3)\n",
      "point = (13, 2) circle = (12, 1, 3)\n",
      "5\n",
      "point = (102, 16) circle = (-107, 175, 135)\n",
      "point = (19, -108) circle = (-107, 175, 135)\n",
      "point = (102, 16) circle = (-38, -115, 42)\n",
      "point = (19, -108) circle = (-38, -115, 42)\n",
      "point = (102, 16) circle = (140, 23, 70)\n",
      "point = (19, -108) circle = (140, 23, 70)\n",
      "point = (102, 16) circle = (148, -2, 39)\n",
      "point = (19, -108) circle = (148, -2, 39)\n",
      "point = (102, 16) circle = (-198, -49, 89)\n",
      "point = (19, -108) circle = (-198, -49, 89)\n",
      "point = (102, 16) circle = (172, -151, 39)\n",
      "point = (19, -108) circle = (172, -151, 39)\n",
      "point = (102, 16) circle = (-179, -52, 43)\n",
      "point = (19, -108) circle = (-179, -52, 43)\n",
      "point = (102, 16) circle = (148, 42, 150)\n",
      "point = (19, -108) circle = (148, 42, 150)\n",
      "point = (102, 16) circle = (176, 0, 10)\n",
      "point = (19, -108) circle = (176, 0, 10)\n",
      "point = (102, 16) circle = (153, 68, 120)\n",
      "point = (19, -108) circle = (153, 68, 120)\n",
      "point = (102, 16) circle = (-56, 109, 16)\n",
      "point = (19, -108) circle = (-56, 109, 16)\n",
      "point = (102, 16) circle = (-187, -174, 8)\n",
      "point = (19, -108) circle = (-187, -174, 8)\n",
      "3\n"
     ]
    }
   ],
   "source": [
    "test_solution(\n",
    "    \"\"\"3\n",
    "-5 1 5 1\n",
    "3\n",
    "0 0 2\n",
    "-6 1 2\n",
    "6 2 2\n",
    "2 3 13 2\n",
    "8\n",
    "-3 -1 1\n",
    "2 2 3\n",
    "2 3 1\n",
    "0 1 7\n",
    "-4 5 1\n",
    "12 1 1\n",
    "12 1 2\n",
    "12 1 3\n",
    "102 16 19 -108\n",
    "12\n",
    "-107 175 135\n",
    "-38 -115 42\n",
    "140 23 70\n",
    "148 -2 39\n",
    "-198 -49 89\n",
    "172 -151 39\n",
    "-179 -52 43\n",
    "148 42 150\n",
    "176 0 10\n",
    "153 68 120\n",
    "-56 109 16\n",
    "-187 -174 8\"\"\"\n",
    ")\n",
    "# answer:\n",
    "# 2\n",
    "# 5\n",
    "# 3"
   ]
  }
 ],
 "metadata": {
  "interpreter": {
   "hash": "72904a014a9ffe38f4c58942120b599b3c5a87d06764037548e0139929c1cde3"
  },
  "kernelspec": {
   "display_name": "Python 3.10.4 ('venv': venv)",
   "language": "python",
   "name": "python3"
  },
  "language_info": {
   "codemirror_mode": {
    "name": "ipython",
    "version": 3
   },
   "file_extension": ".py",
   "mimetype": "text/x-python",
   "name": "python",
   "nbconvert_exporter": "python",
   "pygments_lexer": "ipython3",
   "version": "3.10.4"
  },
  "orig_nbformat": 4
 },
 "nbformat": 4,
 "nbformat_minor": 2
}
