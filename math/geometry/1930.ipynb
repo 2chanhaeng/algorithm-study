{
  "cells": [
    {
      "cell_type": "markdown",
      "metadata": {},
      "source": [
        "# [백준/정사면체](https://www.acmicpc.net/problem/1930)\n"
      ]
    },
    {
      "cell_type": "markdown",
      "metadata": {},
      "source": [
        "## 풀이과정\n"
      ]
    },
    {
      "cell_type": "markdown",
      "metadata": {},
      "source": [
        "### 첫번째 시도\n"
      ]
    },
    {
      "cell_type": "markdown",
      "metadata": {},
      "source": [
        "#### 풀이과정\n"
      ]
    },
    {
      "cell_type": "code",
      "execution_count": null,
      "metadata": {},
      "outputs": [],
      "source": [
        "def solution():\n",
        "    import sys\n",
        "\n",
        "    input = lambda: sys.stdin.readline().rstrip()\n",
        "    standard = {27, 45, 54, 210, 156, 120, 201, 99, 135, 228, 177, 78}\n",
        "    f = lambda A, l: sum(l.index(a) * i for a, i in zip(A, (64, 16, 4, 1))) in standard\n",
        "    for _ in range(int(input())):\n",
        "        s = list(map(int, input().split()))\n",
        "        A, B = s[:4], s[4:]\n",
        "        a = sorted(A)\n",
        "        print([1, 0][f(A, a) ^ f(B, a)] if sorted(A) == sorted(B) else 0)\n",
        "\n",
        "\n",
        "solution()"
      ]
    },
    {
      "cell_type": "markdown",
      "id": "a6d1a40b",
      "metadata": {},
      "source": [
        "![2025-07-19 23-44-04 1930번 맞힌 사람 (Python) 1위](<../../img/Screenshot%202025-07-19%20at%2023-44-04%201930번%20맞힌%20사람%20(Python)%20-%201%20페이지.png>)\n"
      ]
    },
    {
      "cell_type": "markdown",
      "metadata": {},
      "source": [
        "## 해답\n"
      ]
    },
    {
      "cell_type": "code",
      "execution_count": 5,
      "metadata": {},
      "outputs": [],
      "source": [
        "def solution():\n",
        "    import sys\n",
        "\n",
        "    input = lambda: sys.stdin.readline().rstrip()\n",
        "    standard = {27, 45, 54, 210, 156, 120, 201, 99, 135, 228, 177, 78}\n",
        "    f = lambda A, l: sum(l.index(a) * i for a, i in zip(A, (64, 16, 4, 1))) in standard\n",
        "    for _ in range(int(input())):\n",
        "        s = list(map(int, input().split()))\n",
        "        A, B = s[:4], s[4:]\n",
        "        a = sorted(A)\n",
        "        print([1, 0][f(A, a) ^ f(B, a)] if sorted(A) == sorted(B) else 0)"
      ]
    },
    {
      "cell_type": "markdown",
      "metadata": {},
      "source": [
        "## 예제\n"
      ]
    },
    {
      "cell_type": "code",
      "execution_count": 6,
      "metadata": {},
      "outputs": [],
      "source": [
        "# 백준 문제 풀이용 예제 실행 코드\n",
        "from bwj import test\n",
        "\n",
        "test_solution = test(solution)\n",
        "\n",
        "# test_solution(\"\"\"\"\"\")\n",
        "# test_solution(read(\"fn\").read())"
      ]
    },
    {
      "cell_type": "code",
      "execution_count": 7,
      "metadata": {},
      "outputs": [
        {
          "name": "stdout",
          "output_type": "stream",
          "text": [
            "1\n",
            "0\n",
            "1\n"
          ]
        }
      ],
      "source": [
        "test_solution(\n",
        "    \"\"\"3\n",
        "1 2 3 4 1 2 3 4\n",
        "4 1 2 3 4 3 2 1\n",
        "1 2 3 4 3 4 1 2\n",
        "\"\"\"\n",
        ")\n",
        "# answer:\n",
        "# 1\n",
        "# 0\n",
        "# 1"
      ]
    }
  ],
  "metadata": {
    "kernelspec": {
      "display_name": "venv",
      "language": "python",
      "name": "python3"
    },
    "language_info": {
      "codemirror_mode": {
        "name": "ipython",
        "version": 3
      },
      "file_extension": ".py",
      "mimetype": "text/x-python",
      "name": "python",
      "nbconvert_exporter": "python",
      "pygments_lexer": "ipython3",
      "version": "3.12.10"
    }
  },
  "nbformat": 4,
  "nbformat_minor": 5
}
