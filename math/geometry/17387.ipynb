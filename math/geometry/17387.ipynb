{
 "cells": [
  {
   "cell_type": "markdown",
   "metadata": {},
   "source": [
    "# [백준/선분 교차 2](https://www.acmicpc.net/problem/17387)"
   ]
  },
  {
   "cell_type": "markdown",
   "metadata": {},
   "source": [
    "## 풀이과정"
   ]
  },
  {
   "cell_type": "markdown",
   "metadata": {},
   "source": [
    "### 첫번째 시도"
   ]
  },
  {
   "cell_type": "markdown",
   "metadata": {},
   "source": [
    "#### 풀이과정\n",
    "비슷한 문제인 [백준/선분 교차1](https://www.acmicpc.net/problem/17386) 문제의 [풀이](17386.ipynb)를 응용하였습니다. vector 클래스에 `__abs__`, `__matmul__`, `is_direc` 메소드를 추가했습니다. 선분이 평행한 경우, 두 선분의 양끝점 간의 벡터의 방향을 이용하여 교점의 유무를 판별하였습니다. 평행하지 않은 경우, 기존 풀이에 경계까지 판별하도록 수정했습니다."
   ]
  },
  {
   "cell_type": "code",
   "execution_count": null,
   "metadata": {},
   "outputs": [],
   "source": [
    "class vector(tuple):\n",
    "    def __init__(self, iterable=None):\n",
    "        tuple.__init__(iterable)\n",
    "\n",
    "    def __sub__(self, other):\n",
    "        return vector(x - y for x, y in zip(self, other))\n",
    "\n",
    "    def __mul__(self, other):\n",
    "        return sum(x * y for x, y in zip(self, other))\n",
    "\n",
    "    def __rmul__(self, __n):\n",
    "        if type(__n) is int or type(__n) is float:\n",
    "            return vector(x * __n for x in self)\n",
    "\n",
    "    def __abs__(self):\n",
    "        # 원래는 math.sqrt를 씌워야 하나 필요 없어 생략\n",
    "        return self * self  #\n",
    "\n",
    "    def __matmul__(self, other):\n",
    "        # 실제 행렬곱이 아닌 xy평면에 있는\n",
    "        # 두 벡터의 외적값의 z축 값을 계산\n",
    "        # 혹은 두 2*1 벡터를 붙여 행렬을 만든 뒤\n",
    "        # 그 행렬식을 구하는 연산\n",
    "        # 두 벡터가 평행할 경우 0\n",
    "        return self[1] * other[0] - self[0] * other[1]\n",
    "\n",
    "    def is_direc(self, other):\n",
    "        # 두 벡터의 내적값이 0보다 큰지 판별\n",
    "        # 두 벡터가 평행할 경우\n",
    "        # 같은 방향이면 True\n",
    "        # 다른 방향이면 False\n",
    "        return self * other > 0\n",
    "\n",
    "\n",
    "def solution():\n",
    "    import sys\n",
    "\n",
    "    q, w, e, r = map(int, sys.stdin.readline().split())\n",
    "    a, s, d, f = map(int, sys.stdin.readline().split())\n",
    "    o0, d0, o1, d1 = map(vector, [(q, w), (e, r), (a, s), (d, f)])\n",
    "    D0, D1, O = d0 - o0, d1 - o1, o1 - o0\n",
    "    a0, a1, a2 = abs(D0), -(D0 * D1), abs(D1)\n",
    "    det = a0 * a2 - a1 * a1\n",
    "    if det == 0:\n",
    "        if D0 @ O == 0 and not all(map(O.is_direc, (o1 - d0, d1 - o0, d1 - d0))):\n",
    "            # O( = o0 - o1)와 o1 - d0, d1 - o0, d1 - d0 의 방향을 비교\n",
    "            # 하나라도 다를 경우 두 선분은 교점이 존재\n",
    "            print(1)\n",
    "        else:\n",
    "            # 모두 같은 방향일 경우 교점 부재\n",
    "            print(0)\n",
    "        return\n",
    "    b0, b1 = O * D0, -(O * D1)\n",
    "    if 0 <= (b0 * a2 - a1 * b1) / det <= 1 and 0 <= (a0 * b1 - b0 * a1) / det <= 1:\n",
    "        # 기존 풀이의 판별식에 경계도 포함\n",
    "        print(1)\n",
    "    else:\n",
    "        print(0)\n",
    "\n",
    "\n",
    "solution()"
   ]
  },
  {
   "cell_type": "markdown",
   "metadata": {},
   "source": [
    "## 해답"
   ]
  },
  {
   "cell_type": "code",
   "execution_count": 17,
   "metadata": {},
   "outputs": [
    {
     "name": "stdout",
     "output_type": "stream",
     "text": [
      "(3, 0) 4 (9, 6)\n",
      "13 -6 True\n"
     ]
    }
   ],
   "source": [
    "class vector(tuple):\n",
    "    def __init__(self, iterable=None):\n",
    "        tuple.__init__(iterable)\n",
    "\n",
    "    def __sub__(self, other):\n",
    "        return vector(x - y for x, y in zip(self, other))\n",
    "\n",
    "    def __mul__(self, other):\n",
    "        return sum(x * y for x, y in zip(self, other))\n",
    "\n",
    "    def __rmul__(self, __n):\n",
    "        if type(__n) is int or type(__n) is float:\n",
    "            return vector(x * __n for x in self)\n",
    "\n",
    "    def __abs__(self):\n",
    "        return self * self\n",
    "\n",
    "    def __matmul__(self, other):\n",
    "        return self[1] * other[0] - self[0] * other[1]\n",
    "\n",
    "    def is_direc(self, other):\n",
    "        return self * other > 0\n",
    "\n",
    "\n",
    "a, b, c = vector((3, 2)), vector((0, 2)), vector((6, 4))\n",
    "print(a - b, a * b, 3 * a)\n",
    "print(abs(a), a @ b, a.is_direc(c))"
   ]
  },
  {
   "cell_type": "code",
   "execution_count": 18,
   "metadata": {},
   "outputs": [],
   "source": [
    "def solution():\n",
    "    import sys\n",
    "\n",
    "    q, w, e, r = map(int, sys.stdin.readline().split())\n",
    "    a, s, d, f = map(int, sys.stdin.readline().split())\n",
    "    o0, d0, o1, d1 = map(vector, [(q, w), (e, r), (a, s), (d, f)])\n",
    "    D0, D1, O = d0 - o0, d1 - o1, o1 - o0\n",
    "    a0, a1, a2 = abs(D0), -(D0 * D1), abs(D1)\n",
    "    det = a0 * a2 - a1 * a1\n",
    "    if det == 0:\n",
    "        if D0 @ O == 0 and not all(map(O.is_direc, (o1 - d0, d1 - o0, d1 - d0))):\n",
    "            print(1)\n",
    "        else:\n",
    "            print(0)\n",
    "        return\n",
    "    b0, b1 = O * D0, -(O * D1)\n",
    "    if 0 <= (b0 * a2 - a1 * b1) / det <= 1 and 0 <= (a0 * b1 - b0 * a1) / det <= 1:\n",
    "        print(1)\n",
    "    else:\n",
    "        print(0)"
   ]
  },
  {
   "cell_type": "markdown",
   "metadata": {},
   "source": [
    "## 예제"
   ]
  },
  {
   "cell_type": "code",
   "execution_count": 19,
   "metadata": {},
   "outputs": [
    {
     "name": "stdout",
     "output_type": "stream",
     "text": [
      "The blackcellmagic extension is already loaded. To reload it, use:\n",
      "  %reload_ext blackcellmagic\n"
     ]
    }
   ],
   "source": [
    "# black 모듈을 jupyter notebook 내에서 사용 가능하게 만들어주는 blackcellmagic 모듈 불러오기\n",
    "%load_ext blackcellmagic\n",
    "# %%black\n",
    "\n",
    "# 백준 문제 풀이용 예제 실행 코드\n",
    "from bwj import test\n",
    "\n",
    "test_solution = test(solution)\n",
    "\n",
    "# test_solution(\"\"\"\"\"\")\n",
    "# test_solution(read(\"fn\").read())"
   ]
  },
  {
   "cell_type": "code",
   "execution_count": 20,
   "metadata": {},
   "outputs": [
    {
     "name": "stdout",
     "output_type": "stream",
     "text": [
      "1\n",
      "1\n",
      "0\n",
      "1\n",
      "1\n",
      "1\n"
     ]
    }
   ],
   "source": [
    "test_solution(\n",
    "    \"\"\"1 1 3 3\n",
    "4 4 2 2\n",
    "\"\"\"\n",
    ")  # 1\n",
    "test_solution(\n",
    "    \"\"\"1 0 0 0\n",
    "1 0 -1 0\n",
    "\"\"\"\n",
    ")  # 1\n",
    "test_solution(\n",
    "    \"\"\"0 3 0 4\n",
    "0 1 0 2\n",
    "\"\"\"\n",
    ")  # 0\n",
    "test_solution(\n",
    "    \"\"\"2 -2 2 -5\n",
    "2 -3 2 -4\n",
    "\"\"\"\n",
    ")  # 1\n",
    "test_solution(\n",
    "    \"\"\"-5 -3 2 5\n",
    "-5 -3 1 0\n",
    "\"\"\"\n",
    ")  # 1\n",
    "test_solution(\n",
    "    \"\"\"4 3 -2 -5\n",
    "-2 0 4 3\n",
    "\"\"\"\n",
    ")  # 1"
   ]
  },
  {
   "cell_type": "code",
   "execution_count": 21,
   "metadata": {},
   "outputs": [
    {
     "name": "stdout",
     "output_type": "stream",
     "text": [
      "1\n",
      "1\n",
      "1\n"
     ]
    }
   ],
   "source": [
    "test_solution(\n",
    "    \"\"\"-2 4 5 4\n",
    "0 4 4 4\n",
    "\"\"\"\n",
    ")  # 1\n",
    "test_solution(\n",
    "    \"\"\"-5 4 -5 -3\n",
    "-5 2 -5 -2\n",
    "\"\"\"\n",
    ")  # 1\n",
    "test_solution(\n",
    "    \"\"\"-2 -5 3 0\n",
    "-1 -4 2 -1\n",
    "\"\"\"\n",
    ")  # 1"
   ]
  },
  {
   "cell_type": "code",
   "execution_count": 22,
   "metadata": {},
   "outputs": [
    {
     "name": "stdout",
     "output_type": "stream",
     "text": [
      "0\n",
      "0\n",
      "0\n",
      "0\n"
     ]
    }
   ],
   "source": [
    "test_solution(\n",
    "    \"\"\"-1 3 0 2\n",
    "3 -1 2 0\n",
    "\"\"\"\n",
    ")  # 0\n",
    "test_solution(\n",
    "    \"\"\"-1 2 -2 3\n",
    "3 -2 1 0\n",
    "\"\"\"\n",
    ")  # 0\n",
    "test_solution(\n",
    "    \"\"\"-1 1 2 -2\n",
    "-2 2 -3 3\n",
    "\"\"\"\n",
    ")  # 0\n",
    "test_solution(\n",
    "    \"\"\"-2 3 0 1\n",
    "1 0 2 -1\n",
    "\"\"\"\n",
    ")  # 0"
   ]
  },
  {
   "cell_type": "code",
   "execution_count": 23,
   "metadata": {},
   "outputs": [
    {
     "name": "stdout",
     "output_type": "stream",
     "text": [
      "1\n"
     ]
    }
   ],
   "source": [
    "test_solution(\n",
    "    \"\"\"1 1 5 5\n",
    "1 5 5 1\n",
    "\"\"\"\n",
    ")  # 1"
   ]
  },
  {
   "cell_type": "code",
   "execution_count": 24,
   "metadata": {},
   "outputs": [
    {
     "name": "stdout",
     "output_type": "stream",
     "text": [
      "0\n"
     ]
    }
   ],
   "source": [
    "test_solution(\n",
    "    \"\"\"1 1 5 5\n",
    "6 10 10 6\n",
    "\"\"\"\n",
    ")  # 0"
   ]
  },
  {
   "cell_type": "code",
   "execution_count": 25,
   "metadata": {},
   "outputs": [
    {
     "name": "stdout",
     "output_type": "stream",
     "text": [
      "1\n"
     ]
    }
   ],
   "source": [
    "test_solution(\n",
    "    \"\"\"1 1 5 5\n",
    "5 5 1 1\n",
    "\"\"\"\n",
    ")  # 1"
   ]
  },
  {
   "cell_type": "code",
   "execution_count": 26,
   "metadata": {},
   "outputs": [
    {
     "name": "stdout",
     "output_type": "stream",
     "text": [
      "1\n"
     ]
    }
   ],
   "source": [
    "test_solution(\n",
    "    \"\"\"1 1 5 5\n",
    "3 3 5 5\n",
    "\"\"\"\n",
    ")  # 1"
   ]
  },
  {
   "cell_type": "code",
   "execution_count": 27,
   "metadata": {},
   "outputs": [
    {
     "name": "stdout",
     "output_type": "stream",
     "text": [
      "1\n"
     ]
    }
   ],
   "source": [
    "test_solution(\n",
    "    \"\"\"1 1 5 5\n",
    "3 3 1 3\n",
    "\"\"\"\n",
    ")  # 1"
   ]
  },
  {
   "cell_type": "code",
   "execution_count": 28,
   "metadata": {},
   "outputs": [
    {
     "name": "stdout",
     "output_type": "stream",
     "text": [
      "1\n"
     ]
    }
   ],
   "source": [
    "test_solution(\n",
    "    \"\"\"1 1 5 5\n",
    "5 5 9 9\n",
    "\"\"\"\n",
    ")  # 1"
   ]
  },
  {
   "cell_type": "code",
   "execution_count": 29,
   "metadata": {},
   "outputs": [
    {
     "name": "stdout",
     "output_type": "stream",
     "text": [
      "0\n"
     ]
    }
   ],
   "source": [
    "test_solution(\n",
    "    \"\"\"1 1 5 5\n",
    "6 6 9 9\n",
    "\"\"\"\n",
    ")  # 0"
   ]
  },
  {
   "cell_type": "code",
   "execution_count": 30,
   "metadata": {},
   "outputs": [
    {
     "name": "stdout",
     "output_type": "stream",
     "text": [
      "1\n"
     ]
    }
   ],
   "source": [
    "test_solution(\n",
    "    \"\"\"1 1 5 5\n",
    "5 5 1 5\n",
    "\"\"\"\n",
    ")  # 1"
   ]
  },
  {
   "cell_type": "code",
   "execution_count": 31,
   "metadata": {},
   "outputs": [
    {
     "name": "stdout",
     "output_type": "stream",
     "text": [
      "0\n"
     ]
    }
   ],
   "source": [
    "test_solution(\n",
    "    \"\"\"1 1 5 5\n",
    "6 6 1 5\n",
    "\"\"\"\n",
    ")  # 0"
   ]
  }
 ],
 "metadata": {
  "kernelspec": {
   "display_name": "Python 3.10.6 ('venv': venv)",
   "language": "python",
   "name": "python3"
  },
  "language_info": {
   "codemirror_mode": {
    "name": "ipython",
    "version": 3
   },
   "file_extension": ".py",
   "mimetype": "text/x-python",
   "name": "python",
   "nbconvert_exporter": "python",
   "pygments_lexer": "ipython3",
   "version": "3.10.6"
  },
  "orig_nbformat": 4,
  "vscode": {
   "interpreter": {
    "hash": "72904a014a9ffe38f4c58942120b599b3c5a87d06764037548e0139929c1cde3"
   }
  }
 },
 "nbformat": 4,
 "nbformat_minor": 2
}
