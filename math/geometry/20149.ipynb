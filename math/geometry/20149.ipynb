{
 "cells": [
  {
   "cell_type": "markdown",
   "metadata": {},
   "source": [
    "# [백준/선분 교차 3](https://www.acmicpc.net/problem/20149)"
   ]
  },
  {
   "cell_type": "markdown",
   "metadata": {},
   "source": [
    "## 풀이과정"
   ]
  },
  {
   "cell_type": "markdown",
   "metadata": {},
   "source": [
    "### 첫번째 시도"
   ]
  },
  {
   "cell_type": "markdown",
   "metadata": {},
   "source": [
    "#### 풀이과정\n",
    "비슷한 문제인 [백준/선분 교차2](https://www.acmicpc.net/problem/17387) 문제의 [풀이](17387.ipynb)를 응용하였습니다. vector 클래스에 `__neg__`, `__add__`, `__str__` 메소드를 추가했습니다. 선분이 평행하게 접하는 경우, 선분의 양끝점에서 접점을 찾은 뒤 기존 두 선분벡터의 방향을 비교하여 접점을 찾았습니다. 평행하지 않은 경우, 기존 풀이의 판별식을 활용하였습니다."
   ]
  },
  {
   "cell_type": "code",
   "execution_count": null,
   "metadata": {},
   "outputs": [],
   "source": [
    "class vector(tuple):\n",
    "    def __init__(self, iterable=None):\n",
    "        tuple.__init__(iterable)\n",
    "\n",
    "    def __sub__(self, other):\n",
    "        return vector(x - y for x, y in zip(self, other))\n",
    "\n",
    "    def __mul__(self, other):\n",
    "        return sum(x * y for x, y in zip(self, other))\n",
    "\n",
    "    def __rmul__(self, __n):\n",
    "        if type(__n) is int or type(__n) is float:\n",
    "            return vector(x * __n for x in self)\n",
    "\n",
    "    def __abs__(self):\n",
    "        return self * self\n",
    "\n",
    "    def __matmul__(self, other):\n",
    "        return self[1] * other[0] - self[0] * other[1]\n",
    "\n",
    "    def is_direc(self, other):\n",
    "        return self * other > 0\n",
    "\n",
    "    def __neg__(self):\n",
    "        # 백터의 역원\n",
    "        return -1 * self\n",
    "\n",
    "    def __add__(self, other):\n",
    "        # 벡터의 합\n",
    "        return vector(x + y for x, y in zip(self, other))\n",
    "\n",
    "    def __str__(self):\n",
    "        # print 시 문자열화\n",
    "        return \" \".join(map(str, self))\n",
    "\n",
    "\n",
    "def solution():\n",
    "    import sys\n",
    "\n",
    "    q, w, e, r = map(int, sys.stdin.readline().split())\n",
    "    a, s, d, f = map(int, sys.stdin.readline().split())\n",
    "    o0, d0, o1, d1 = map(vector, [(q, w), (e, r), (a, s), (d, f)])\n",
    "    D0, D1, O = d0 - o0, d1 - o1, o1 - o0\n",
    "    a0, a1, a2 = abs(D0), -(D0 * D1), abs(D1)\n",
    "    det = a0 * a2 - a1 * a1\n",
    "    if det == 0:\n",
    "        if D0 @ O == 0 and not all(map(O.is_direc, (o1 - d0, d1 - o0, d1 - d0))):\n",
    "            print(1)\n",
    "            D0_is_D1 = D0.is_direc(D1)\n",
    "            # D0와 D1이 같은 방향인지\n",
    "            if o0 == o1 and not D0_is_D1 or o0 == d1 and D0_is_D1:\n",
    "                # <--- --->                <---- <----\n",
    "                print(o0)\n",
    "            elif d0 == o1 and D0_is_D1 or d0 == d1 and not D0_is_D1:\n",
    "                # ---> --->               ----> <----\n",
    "                print(d0)\n",
    "        else:\n",
    "            print(0)\n",
    "        return\n",
    "    b0, b1 = O * D0, -(O * D1)\n",
    "    d = (b0 * a2 - a1 * b1) / det\n",
    "    if 0 <= d <= 1 and 0 <= (a0 * b1 - b0 * a1) / det <= 1:\n",
    "        print(1)\n",
    "        print((1 - d) * o0 + d * d0)\n",
    "        # ┌───────1───────┐\n",
    "        # a─────────i─────b\n",
    "        # └─ 1 - d ─┴─ d ─┘  =>  i = (1 - d) ∙ a + d ∙ b\n",
    "    else:\n",
    "        print(0)\n",
    "\n",
    "\n",
    "solution()"
   ]
  },
  {
   "cell_type": "markdown",
   "metadata": {},
   "source": [
    "## 해답"
   ]
  },
  {
   "cell_type": "code",
   "execution_count": 103,
   "metadata": {},
   "outputs": [],
   "source": [
    "class vector(tuple):\n",
    "    def __init__(self, iterable=None):\n",
    "        tuple.__init__(iterable)\n",
    "\n",
    "    def __sub__(self, other):\n",
    "        return vector(x - y for x, y in zip(self, other))\n",
    "\n",
    "    def __mul__(self, other):\n",
    "        return sum(x * y for x, y in zip(self, other))\n",
    "\n",
    "    def __rmul__(self, __n):\n",
    "        if type(__n) is int or type(__n) is float:\n",
    "            return vector(x * __n for x in self)\n",
    "\n",
    "    def __abs__(self):\n",
    "        return self * self\n",
    "\n",
    "    def __matmul__(self, other):\n",
    "        return self[1] * other[0] - self[0] * other[1]\n",
    "\n",
    "    def is_direc(self, other):\n",
    "        return self * other > 0\n",
    "\n",
    "    def __neg__(self):\n",
    "        return -1 * self\n",
    "\n",
    "    def __add__(self, other):\n",
    "        return vector(x + y for x, y in zip(self, other))\n",
    "\n",
    "    def __str__(self):\n",
    "        return \" \".join(map(str, self))"
   ]
  },
  {
   "cell_type": "code",
   "execution_count": 118,
   "metadata": {},
   "outputs": [],
   "source": [
    "def solution():\n",
    "    import sys\n",
    "\n",
    "    q, w, e, r = map(int, sys.stdin.readline().split())\n",
    "    a, s, d, f = map(int, sys.stdin.readline().split())\n",
    "    o0, d0, o1, d1 = map(vector, [(q, w), (e, r), (a, s), (d, f)])\n",
    "    D0, D1, O = d0 - o0, d1 - o1, o1 - o0\n",
    "    a0, a1, a2 = abs(D0), -(D0 * D1), abs(D1)\n",
    "    det = a0 * a2 - a1 * a1\n",
    "    if det == 0:\n",
    "        if D0 @ O == 0 and not all(map(O.is_direc, (o1 - d0, d1 - o0, d1 - d0))):\n",
    "            print(1)\n",
    "            D0_is_D1 = D0.is_direc(D1)\n",
    "            if o0 == o1 and not D0_is_D1 or o0 == d1 and D0_is_D1:\n",
    "                print(o0)\n",
    "            elif d0 == o1 and D0_is_D1 or d0 == d1 and not D0_is_D1:\n",
    "                print(d0)\n",
    "        else:\n",
    "            print(0)\n",
    "        return\n",
    "    b0, b1 = O * D0, -(O * D1)\n",
    "    d = (b0 * a2 - a1 * b1) / det\n",
    "    if 0 <= d <= 1 and 0 <= (a0 * b1 - b0 * a1) / det <= 1:\n",
    "        print(1)\n",
    "        print((1 - d) * o0 + d * d0)\n",
    "    else:\n",
    "        print(0)"
   ]
  },
  {
   "cell_type": "markdown",
   "metadata": {},
   "source": [
    "## 예제"
   ]
  },
  {
   "cell_type": "code",
   "execution_count": 119,
   "metadata": {},
   "outputs": [
    {
     "name": "stdout",
     "output_type": "stream",
     "text": [
      "The blackcellmagic extension is already loaded. To reload it, use:\n",
      "  %reload_ext blackcellmagic\n"
     ]
    }
   ],
   "source": [
    "# black 모듈을 jupyter notebook 내에서 사용 가능하게 만들어주는 blackcellmagic 모듈 불러오기\n",
    "%load_ext blackcellmagic\n",
    "# %%black\n",
    "\n",
    "# 백준 문제 풀이용 예제 실행 코드\n",
    "from bwj import test\n",
    "\n",
    "test_solution = test(solution)\n",
    "\n",
    "# test_solution(\"\"\"\"\"\")\n",
    "# test_solution(read(\"fn\").read())"
   ]
  },
  {
   "cell_type": "code",
   "execution_count": 120,
   "metadata": {},
   "outputs": [
    {
     "name": "stdout",
     "output_type": "stream",
     "text": [
      "1\n",
      "5 5\n"
     ]
    }
   ],
   "source": [
    "test_solution(\n",
    "    \"\"\"1 1 5 5\n",
    "5 5 9 9\n",
    "\"\"\"\n",
    ")\n",
    "# answer:\n",
    "# 1\n",
    "# 5 5"
   ]
  },
  {
   "cell_type": "code",
   "execution_count": 121,
   "metadata": {},
   "outputs": [
    {
     "name": "stdout",
     "output_type": "stream",
     "text": [
      "1\n",
      "3.0 3.0\n"
     ]
    }
   ],
   "source": [
    "test_solution(\n",
    "    \"\"\"1 1 5 5\n",
    "1 5 5 1\n",
    "\"\"\"\n",
    ")\n",
    "# answer:\n",
    "# 1\n",
    "# 3 3"
   ]
  },
  {
   "cell_type": "code",
   "execution_count": 122,
   "metadata": {},
   "outputs": [
    {
     "name": "stdout",
     "output_type": "stream",
     "text": [
      "0\n"
     ]
    }
   ],
   "source": [
    "test_solution(\n",
    "    \"\"\"1 1 5 5\n",
    "6 10 10 6\n",
    "\"\"\"\n",
    ")  # 0"
   ]
  },
  {
   "cell_type": "code",
   "execution_count": 123,
   "metadata": {},
   "outputs": [
    {
     "name": "stdout",
     "output_type": "stream",
     "text": [
      "1\n"
     ]
    }
   ],
   "source": [
    "test_solution(\n",
    "    \"\"\"1 1 5 5\n",
    "5 5 1 1\n",
    "\"\"\"\n",
    ")  # 1"
   ]
  },
  {
   "cell_type": "code",
   "execution_count": 124,
   "metadata": {},
   "outputs": [
    {
     "name": "stdout",
     "output_type": "stream",
     "text": [
      "1\n"
     ]
    }
   ],
   "source": [
    "test_solution(\n",
    "    \"\"\"1 1 5 5\n",
    "3 3 5 5\n",
    "\"\"\"\n",
    ")  # 1"
   ]
  },
  {
   "cell_type": "code",
   "execution_count": 125,
   "metadata": {},
   "outputs": [
    {
     "name": "stdout",
     "output_type": "stream",
     "text": [
      "1\n",
      "3.0 3.0\n"
     ]
    }
   ],
   "source": [
    "test_solution(\n",
    "    \"\"\"1 1 5 5\n",
    "3 3 1 3\n",
    "\"\"\"\n",
    ")\n",
    "# answer:\n",
    "# 1\n",
    "# 3 3"
   ]
  },
  {
   "cell_type": "code",
   "execution_count": 126,
   "metadata": {},
   "outputs": [
    {
     "name": "stdout",
     "output_type": "stream",
     "text": [
      "0\n"
     ]
    }
   ],
   "source": [
    "test_solution(\n",
    "    \"\"\"1 1 5 5\n",
    "6 6 9 9\n",
    "\"\"\"\n",
    ")  # 0"
   ]
  },
  {
   "cell_type": "code",
   "execution_count": 127,
   "metadata": {},
   "outputs": [
    {
     "name": "stdout",
     "output_type": "stream",
     "text": [
      "1\n",
      "5.0 5.0\n"
     ]
    }
   ],
   "source": [
    "test_solution(\n",
    "    \"\"\"1 1 5 5\n",
    "5 5 1 5\n",
    "\"\"\"\n",
    ")\n",
    "# answer:\n",
    "# 1\n",
    "# 5 5"
   ]
  },
  {
   "cell_type": "code",
   "execution_count": 128,
   "metadata": {},
   "outputs": [
    {
     "name": "stdout",
     "output_type": "stream",
     "text": [
      "0\n"
     ]
    }
   ],
   "source": [
    "test_solution(\n",
    "    \"\"\"1 1 5 5\n",
    "6 6 1 5\n",
    "\"\"\"\n",
    ")  # 0"
   ]
  },
  {
   "cell_type": "code",
   "execution_count": 129,
   "metadata": {},
   "outputs": [
    {
     "name": "stdout",
     "output_type": "stream",
     "text": [
      "1\n",
      "2.7313432835820897 9.567164179104477\n"
     ]
    }
   ],
   "source": [
    "test_solution(\n",
    "    \"\"\"2 8 9 23\n",
    "1 10 9 8\n",
    "\"\"\"\n",
    ")\n",
    "# answer:\n",
    "# 1\n",
    "# 2.7313432835820897 9.5671641791044770"
   ]
  }
 ],
 "metadata": {
  "kernelspec": {
   "display_name": "Python 3.10.6 ('venv': venv)",
   "language": "python",
   "name": "python3"
  },
  "language_info": {
   "codemirror_mode": {
    "name": "ipython",
    "version": 3
   },
   "file_extension": ".py",
   "mimetype": "text/x-python",
   "name": "python",
   "nbconvert_exporter": "python",
   "pygments_lexer": "ipython3",
   "version": "3.10.6"
  },
  "orig_nbformat": 4,
  "vscode": {
   "interpreter": {
    "hash": "72904a014a9ffe38f4c58942120b599b3c5a87d06764037548e0139929c1cde3"
   }
  }
 },
 "nbformat": 4,
 "nbformat_minor": 2
}
