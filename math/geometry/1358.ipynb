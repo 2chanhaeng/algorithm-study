{
    "cells": [
        {
            "cell_type": "markdown",
            "metadata": {},
            "source": [
                "# [백준/하키](https://www.acmicpc.net/problem/1358)"
            ]
        },
        {
            "cell_type": "markdown",
            "metadata": {},
            "source": [
                "## 풀이과정"
            ]
        },
        {
            "cell_type": "markdown",
            "metadata": {},
            "source": [
                "### 첫번째 시도"
            ]
        },
        {
            "cell_type": "markdown",
            "metadata": {},
            "source": [
                "풀이과정"
            ]
        },
        {
            "cell_type": "code",
            "execution_count": null,
            "metadata": {},
            "outputs": [],
            "source": [
                "def solution():\n",
                "    import sys\n",
                "\n",
                "    input = map(lambda x: map(int, x.split()), sys.stdin.readlines()).__next__\n",
                "    w, h, x, y, p = input()\n",
                "    r = h // 2\n",
                "    r2 = r ** 2\n",
                "    rx, ry = x + w, y + h\n",
                "    c0x, c0y, c1x, c1y = x, y + r, x + w, y + r\n",
                "    s = 0\n",
                "    for _ in range(p):\n",
                "        c, d = input()\n",
                "        if (\n",
                "            (c0x - c) ** 2 + (c0y - d) ** 2 <= r2\n",
                "            or (c1x - c) ** 2 + (c1y - d) ** 2 <= r2\n",
                "            or x <= c <= rx\n",
                "            and y <= d <= ry\n",
                "        ):\n",
                "            s += 1\n",
                "    print(s)\n",
                "\n",
                "\n",
                "solution()"
            ]
        },
        {
            "cell_type": "markdown",
            "metadata": {},
            "source": [
                "## 해답"
            ]
        },
        {
            "cell_type": "code",
            "execution_count": 23,
            "metadata": {},
            "outputs": [],
            "source": [
                "def solution(open=open):\n",
                "    input = map(lambda x: map(int, x.split()), open(0).read().split(\"\\n\")).__next__\n",
                "    w, h, x, y, p = input()\n",
                "    r = h // 2\n",
                "    r2 = r ** 2\n",
                "    rx, ry = x + w, y + h\n",
                "    c0x, c0y, c1x, c1y = x, y + r, x + w, y + r\n",
                "    s = 0\n",
                "    for _ in range(p):\n",
                "        c, d = input()\n",
                "        if (\n",
                "            (c0x - c) ** 2 + (c0y - d) ** 2 <= r2\n",
                "            or (c1x - c) ** 2 + (c1y - d) ** 2 <= r2\n",
                "            or x <= c <= rx\n",
                "            and y <= d <= ry\n",
                "        ):\n",
                "            s += 1\n",
                "    print(s)"
            ]
        },
        {
            "cell_type": "markdown",
            "metadata": {},
            "source": [
                "## 예제"
            ]
        },
        {
            "cell_type": "code",
            "execution_count": 17,
            "metadata": {},
            "outputs": [
                {
                    "name": "stdout",
                    "output_type": "stream",
                    "text": [
                        "The blackcellmagic extension is already loaded. To reload it, use:\n",
                        "  %reload_ext blackcellmagic\n"
                    ]
                }
            ],
            "source": [
                "%load_ext blackcellmagic\n",
                "# %%black"
            ]
        },
        {
            "cell_type": "code",
            "execution_count": 18,
            "metadata": {},
            "outputs": [],
            "source": [
                "# 백준 문제 풀이용 예제 실행 코드\n",
                "from bwj import test\n",
                "test_solution = test(solution)\n",
                "\n",
                "# test_solution(\"\"\"\"\"\")\n",
                "# test_solution(read(\"fn\").read())"
            ]
        },
        {
            "cell_type": "code",
            "execution_count": 19,
            "metadata": {},
            "outputs": [
                {
                    "name": "stdout",
                    "output_type": "stream",
                    "text": [
                        "2\n"
                    ]
                }
            ],
            "source": [
                "test_solution(\"\"\"20 10 5 0 3\n",
                "15 5\n",
                "1 5\n",
                "1 1\"\"\") # 2"
            ]
        },
        {
            "cell_type": "code",
            "execution_count": 20,
            "metadata": {},
            "outputs": [
                {
                    "name": "stdout",
                    "output_type": "stream",
                    "text": [
                        "14\n"
                    ]
                }
            ],
            "source": [
                "test_solution(\"\"\"20 10 0 0 14\n",
                "-5 5\n",
                "-4 2\n",
                "-4 8\n",
                "-3 1\n",
                "-3 9\n",
                "0 0\n",
                "0 10\n",
                "20 0\n",
                "20 10\n",
                "23 1\n",
                "23 9\n",
                "24 2\n",
                "24 8\n",
                "25 5\"\"\") # 14"
            ]
        },
        {
            "cell_type": "code",
            "execution_count": 21,
            "metadata": {},
            "outputs": [
                {
                    "name": "stdout",
                    "output_type": "stream",
                    "text": [
                        "8\n"
                    ]
                }
            ],
            "source": [
                "test_solution(\"\"\"52 84 -44 66 10\n",
                "26 118\n",
                "-33 106\n",
                "-49 128\n",
                "40 114\n",
                "-10 101\n",
                "47 85\n",
                "25 142\n",
                "-16 140\n",
                "-82 126\n",
                "7 145\"\"\") # 8"
            ]
        },
        {
            "cell_type": "code",
            "execution_count": 22,
            "metadata": {},
            "outputs": [
                {
                    "name": "stdout",
                    "output_type": "stream",
                    "text": [
                        "6\n"
                    ]
                }
            ],
            "source": [
                "test_solution(\"\"\"24 100 -62 71 8\n",
                "-63 109\n",
                "-26 164\n",
                "-9 91\n",
                "-113 80\n",
                "-124 75\n",
                "-95 140\n",
                "-89 116\n",
                "-55 113\"\"\") # 6"
            ]
        }
    ],
    "metadata": {
        "interpreter": {
            "hash": "72904a014a9ffe38f4c58942120b599b3c5a87d06764037548e0139929c1cde3"
        },
        "kernelspec": {
            "display_name": "Python 3.10.4 ('venv': venv)",
            "language": "python",
            "name": "python3"
        },
        "language_info": {
            "codemirror_mode": {
                "name": "ipython",
                "version": 3
            },
            "file_extension": ".py",
            "mimetype": "text/x-python",
            "name": "python",
            "nbconvert_exporter": "python",
            "pygments_lexer": "ipython3",
            "version": "3.10.4"
        },
        "orig_nbformat": 4
    },
    "nbformat": 4,
    "nbformat_minor": 2
}
