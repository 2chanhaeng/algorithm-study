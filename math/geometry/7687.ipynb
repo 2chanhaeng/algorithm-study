{
    "cells": [
        {
            "cell_type": "markdown",
            "metadata": {},
            "source": [
                "# [백준/지구 직육면체설](https://www.acmicpc.net/problem/7687)\n"
            ]
        },
        {
            "cell_type": "markdown",
            "metadata": {},
            "source": [
                "## 풀이과정\n"
            ]
        },
        {
            "cell_type": "markdown",
            "metadata": {},
            "source": [
                "### 첫번째 시도\n"
            ]
        },
        {
            "cell_type": "markdown",
            "metadata": {},
            "source": [
                "#### 풀이과정\n",
                "\n",
                "정육면체의 6개의 면은 출발점인 (0, 0, 0)이 포함된 면 3개와 그렇지 않은 점 3개로 나뉜다.  \n",
                "만약 도착점이 전자에 포함된 경우는 바로 직선으로 잇는 것이 가능하다.  \n",
                "또한 좌표의 자리값 3개 중 하나가 무조건 0이기 때문에 각 자리값의 제곱의 합이 곧 정답이 된다.\n",
                "\n",
                "도착점이 후자에 있는 경우가 조금 까다로운데, 2개의 면을 지나는 경우와 3개의 면을 지나는 경우를 둘다 구해 그 중 최소값을 찾아야 한다.\n",
                "2개의 면을 지나는 경우는 그나마 처리하기가 쉽다.  \n",
                "먼저 자리값 중 변의 길이와 자리값이 같은 자리를 찾아 이를 `z`라고 하자.  \n",
                "그리고 나머지 2개의 자리값을 각각 `x`, `y`라고 하면 빗변을 제외한 두 변이 `x`, `y + z` 혹은 `y`, `x + z`인 직각삼각형의 빗변의 길이의 제곱을 구해서 후보로 둔다.\n",
                "![2개의 면을 지나가는 경로의 거리를 구하는 도식](../../img/6280298680443582920.jpg)\n",
                "\n",
                "3개의 면을 지나는 경우는 좀 더 복잡하다.  \n",
                "2개의 면과 마찬가지로 먼저 자리값 중 변의 길이와 자리값이 같은 자리를 찾아 이를 `z`라고 하자.  \n",
                "이번에는 나머지 2개의 자리값을 각각 `x`, `y`라고 하고 해당하는 자리의 변의 길이를 각각 `a`, `b`라고 하자.  \n",
                "그러면 빗변을 제외한 두 변이 `b + x`, `b - y + z` 혹은 `a + y`, `a - x + z`인 직각삼각형의 빗변의 길이의 제곱을 구해서 후보로 둔다.\n",
                "![3개의 면을 지나가는 경로의 거리를 구하는 도식](../../img/6280298680443582919.jpg)\n",
                "\n",
                "이렇게 구한 후보들 중 최소값을 찾아 출력하면 된다.\n"
            ]
        },
        {
            "cell_type": "code",
            "execution_count": null,
            "metadata": {},
            "outputs": [],
            "source": [
                "def dist(a, b):\n",
                "    return a**2 + b**2\n",
                "\n",
                "\n",
                "def face2(coord, idx):\n",
                "    x, y, z = coord[idx - 1], coord[idx - 2], coord[idx]\n",
                "    return min(dist(x, y + z), dist(y, x + z))\n",
                "\n",
                "\n",
                "def face3(total, coord, idx):\n",
                "    a, b = total[idx - 1], total[idx - 2]\n",
                "    x, y, z = coord[idx - 1], coord[idx - 2], coord[idx]\n",
                "    return min(dist(b + x, b - y + z), dist(a + y, a - x + z))\n",
                "\n",
                "\n",
                "def solve(a, b, c, x, y, z):\n",
                "    total, coord = [a, b, c], [x, y, z]\n",
                "    if not all(coord):\n",
                "        return sum(i**2 for i in coord)\n",
                "    return min(\n",
                "        min(face2(coord, i), face3(total, coord, i))\n",
                "        for i, (a, x) in enumerate(zip(total, coord))\n",
                "        if a == x\n",
                "    )\n",
                "\n",
                "\n",
                "def solution():\n",
                "    import sys\n",
                "\n",
                "    for inputs in sys.stdin.read().splitlines()[:-1]:\n",
                "        print(solve(*map(int, inputs.split())))\n",
                "\n",
                "\n",
                "solution()"
            ]
        },
        {
            "cell_type": "markdown",
            "metadata": {},
            "source": [
                "![2024년 3월 3일 17시 기준 7687번 맞힌 사람 40ms로 1위](<../../img/Screenshot 2024-03-03 at 17-27-07 7687번 맞힌 사람 (Python) - 1 페이지.png>)\n"
            ]
        },
        {
            "cell_type": "markdown",
            "metadata": {},
            "source": [
                "## 해답\n"
            ]
        },
        {
            "cell_type": "code",
            "execution_count": 23,
            "metadata": {},
            "outputs": [],
            "source": [
                "def dist(a, b):\n",
                "    return a**2 + b**2\n",
                "\n",
                "\n",
                "def face2(coord, idx):\n",
                "    x, y, z = coord[idx - 1], coord[idx - 2], coord[idx]\n",
                "    return min(dist(x, y + z), dist(y, x + z))\n",
                "\n",
                "\n",
                "def face3(total, coord, idx):\n",
                "    a, b = total[idx - 1], total[idx - 2]\n",
                "    x, y, z = coord[idx - 1], coord[idx - 2], coord[idx]\n",
                "    return min(dist(b + x, b - y + z), dist(a + y, a - x + z))"
            ]
        },
        {
            "cell_type": "code",
            "execution_count": 33,
            "metadata": {},
            "outputs": [],
            "source": [
                "def solve(a, b, c, x, y, z):\n",
                "    total, coord = [a, b, c], [x, y, z]\n",
                "    if not all(coord):\n",
                "        return sum(i**2 for i in coord)\n",
                "    return min(\n",
                "        min(face2(coord, i), face3(total, coord, i))\n",
                "        for i, (a, x) in enumerate(zip(total, coord))\n",
                "        if a == x\n",
                "    )"
            ]
        },
        {
            "cell_type": "code",
            "execution_count": 34,
            "metadata": {},
            "outputs": [],
            "source": [
                "def solution():\n",
                "    import sys\n",
                "\n",
                "    for inputs in sys.stdin.read().splitlines()[:-1]:\n",
                "        print(solve(*map(int, inputs.split())))"
            ]
        },
        {
            "cell_type": "markdown",
            "metadata": {},
            "source": [
                "## 예제\n"
            ]
        },
        {
            "cell_type": "code",
            "execution_count": 35,
            "metadata": {},
            "outputs": [],
            "source": [
                "# 백준 문제 풀이용 예제 실행 코드\n",
                "from bwj import test\n",
                "\n",
                "test_solution = test(solution)\n",
                "\n",
                "# test_solution(\"\"\"\"\"\")\n",
                "# test_solution(read(\"fn\").read())"
            ]
        },
        {
            "cell_type": "code",
            "execution_count": 36,
            "metadata": {},
            "outputs": [
                {
                    "name": "stdout",
                    "output_type": "stream",
                    "text": [
                        "8\n",
                        "5\n"
                    ]
                }
            ],
            "source": [
                "test_solution(\n",
                "    \"\"\"1 1 2 1 1 2\n",
                "1 1 1 1 1 1\n",
                "0 0 0 0 0 0\n",
                "\"\"\"\n",
                ")\n",
                "# answer:\n",
                "# 8\n",
                "# 5"
            ]
        }
    ],
    "metadata": {
        "interpreter": {
            "hash": "73891b0dc2e53390f36276e59930dd4ecab91b05b5c90320c2d5b1c443f87069"
        },
        "kernelspec": {
            "display_name": "Python 3.10.1 ('venv': venv)",
            "language": "python",
            "name": "python3"
        },
        "language_info": {
            "codemirror_mode": {
                "name": "ipython",
                "version": 3
            },
            "file_extension": ".py",
            "mimetype": "text/x-python",
            "name": "python",
            "nbconvert_exporter": "python",
            "pygments_lexer": "ipython3",
            "version": "3.12.2"
        },
        "orig_nbformat": 4
    },
    "nbformat": 4,
    "nbformat_minor": 2
}
