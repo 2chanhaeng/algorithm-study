{
    "cells": [
        {
            "cell_type": "markdown",
            "metadata": {},
            "source": [
                "# [백준/Hypercube](https://www.acmicpc.net/problem/11742)\n"
            ]
        },
        {
            "cell_type": "markdown",
            "metadata": {},
            "source": [
                "## 풀이과정\n"
            ]
        },
        {
            "cell_type": "markdown",
            "metadata": {},
            "source": [
                "### 첫번째 시도\n",
                "\n",
                "일단 이 문제를 풀기 전에 차원을 낮춰 생각해봤다. 만약 내가 2차원에 살고 있다면 3차원의 정육면체 전개도를 어떻게 판단할 것인가? 고민하던 중 이런 생각이 들었다. 정육면체 주사위의 모든 면을 전개도인지 판명할 도형의 모양으로 자른 종이 위에서 주사위를 굴려서 모든 면이 한 번 씩 보인다면 전개도라고 판단할 수 있을 것이다. 평행한 면의 합이 7인 주사위가 위는 1, 앞은 2, 왼쪽은 3인 상태를 `[[1, 6], [2, 5], [3, 4]]`라고 해보자. 주사위는 상하, 좌우 로만 구를 수 있을 것이다. 만약 주사위가 앞면이 내려오도록 굴린다면 `[[2, 5], [6, 1], [3, 4]]` 와 같은 상태가 될 것이다. 보다시피 0번째 행이 뒤집히면서 1번과 자리가 바뀌었다. 반대로 주사위의 뒷면이 내려가도록 굴린다면 `[[5, 2], [1, 6], [3, 4]]`로 1번이 뒤집히면서 0번과 자리가 바뀐다. 만약 좌우로 굴리면 어떻게 될까? 왼쪽이 내려가도록 굴릴 경우 `[[3, 4], [2, 5], [6, 1]]`로 0번이 뒤집히면서 2번과 자리가 바뀌고, 오른쪽이 내려가도록 굴릴 경우 `[[4, 3], [2, 5], [1, 6]]` 으로 2번이 뒤집히면서 0번과 자리가 바뀐다. 평행한 면끼리는 방향만 바뀔 뿐 서로 바뀌지 않으므로 `[[1, 6], [2, 5], [3, 4]]` 를 `[1, 2, 3]` 으로 써보자. 그리고 `[6, 1]` 과 같이 뒤집힌 상태를 음수로 생각하면 `[[2, 5], [6, 1], [3, 4]]` 같은 경우 `[2, -1, 3]` 으로 쓸 수 있을 것이다. 전개도가 굴릴 방향을 나타내는 그래프라고 생각해보자. 11개의 정육면체 전개도 중 ㅗㅜ 모양으로 생긴 전개도를 시계방향으로 90도 돌린 도형을 생각해보자. 맨 위에서 주사위를 굴리기 시작했다면 하→하/우→하/좌로 굴릴 수 있을 것이다. 그럼 주사위의 상태는 `[1, 2, 3]`→`[2, -1, 3]`→`[-1, -2, 3]`/`[-3, -1, 2]`→`[-2, 1, 3]`/`[3, -2, 1]` 이 될 것이다. 이 때 가장 앞의 자리는 0을 제외한 -3~3 의 모든 정수가 한 번씩 온다. 반대로 전개도가 아닌 Y 자 모양의 헥소미노를 생각해보자. 상단 좌칸에서 시작한다고 가정 했을 때 주사위의 상태는 `[1, 2, 3]`, `[2, -1, 3]`, `[-3, -1, 2]`, `[-1, 3, 2]`, `[-2, -1, -3]`, `[1, -2, -3]` 로 맨 앞 자리에 3이 한 번도 오지 않는다는 것을 알 수 있다.\n",
                "이제 이를 4차원으로 올려보자. 주사위의 상태는 `[1, 2, 3, 4]` 로 4자리로 표현할 수 있을 것이다. 마찬가지로 주어진 도형을 굴리는 방향의 그래프로 봤을 때 $e_i$ 축으로 움직일 때 주사위 상태의 $0$번째와 $i+1$번째가 바뀌는 걸로 설정했다. 증가하는 방향으로 움직이면 $0$번째가, 감소하는 방향으로 움직이면 $i+1$번째가 뒤집히는 것으로 설정했다. 그리고 상태를 모두 돌았을 때 0을 제외한 -4~4의 모든 정수가 한 번씩 온다면 전개도라고 판단했다. 간단하게 DFS로 이를 구현했다."
            ]
        },
        {
            "cell_type": "markdown",
            "metadata": {},
            "source": [
                "#### 풀이과정\n"
            ]
        },
        {
            "cell_type": "code",
            "execution_count": null,
            "metadata": {},
            "outputs": [],
            "source": [
                "Dim3 = tuple[int, int, int]\n",
                "Dim4 = tuple[int, int, int, int]\n",
                "\n",
                "\n",
                "def add(a: Dim3, b: Dim3) -> Dim3:\n",
                "    return tuple(ai + bi for ai, bi in zip(a, b))\n",
                "\n",
                "\n",
                "def solution():\n",
                "    import sys\n",
                "\n",
                "    input = sys.stdin.readline\n",
                "    X, Y, Z = map(int, input().split())\n",
                "    cells = [(x, y, z) for z in range(Z) for y in range(Y) for x, i in enumerate(input().strip()) if i == \"x\"]\n",
                "    cellset = set(cells)\n",
                "    tovisit = [(cells[0], (1, 2, 3, 4))]\n",
                "    visited = set()\n",
                "    faces = {}\n",
                "    for cell, t in iter(tovisit):\n",
                "        faces[t[0]] = cell\n",
                "        visited.add(cell)\n",
                "        for dxyz in [(0, 0, 1), (0, 1, 0), (1, 0, 0), (0, -1, 0), (-1, 0, 0)]:\n",
                "            n = add(cell, dxyz)\n",
                "            if n not in cellset - visited:\n",
                "                continue\n",
                "            v = sum(dxyz)\n",
                "            i = dxyz.index(v) + 1\n",
                "            s = (t[i], *t[1:i], -t[0], *t[i + 1 :]) if v == 1 else (-t[i], *t[1:i], t[0], *t[i + 1 :])\n",
                "            tovisit.append((n, s))\n",
                "    print(\"Yes\" if len(faces) == 8 else \"No\")\n",
                "\n",
                "solution()"
            ]
        },
        {
            "cell_type": "markdown",
            "metadata": {},
            "source": [
                "## 해답\n"
            ]
        },
        {
            "cell_type": "code",
            "execution_count": 102,
            "metadata": {},
            "outputs": [],
            "source": [
                "Dim3 = tuple[int, int, int]\n",
                "Dim4 = tuple[int, int, int, int]\n",
                "\n",
                "\n",
                "def add(a: Dim3, b: Dim3) -> Dim3:\n",
                "    return tuple(ai + bi for ai, bi in zip(a, b))\n",
                "\n",
                "\n",
                "def solution():\n",
                "    import sys\n",
                "\n",
                "    input = sys.stdin.readline\n",
                "    X, Y, Z = map(int, input().split())\n",
                "    cells = [(x, y, z) for z in range(Z) for y in range(Y) for x, i in enumerate(input().strip()) if i == \"x\"]\n",
                "    cellset = set(cells)\n",
                "    tovisit = [(cells[0], (1, 2, 3, 4))]\n",
                "    visited = set()\n",
                "    faces = {}\n",
                "    for cell, t in iter(tovisit):\n",
                "        faces[t[0]] = cell\n",
                "        visited.add(cell)\n",
                "        for dxyz in [(0, 0, 1), (0, 1, 0), (1, 0, 0), (0, -1, 0), (-1, 0, 0)]:\n",
                "            n = add(cell, dxyz)\n",
                "            if n not in cellset - visited:\n",
                "                continue\n",
                "            v = sum(dxyz)\n",
                "            i = dxyz.index(v) + 1\n",
                "            s = (t[i], *t[1:i], -t[0], *t[i + 1 :]) if v == 1 else (-t[i], *t[1:i], t[0], *t[i + 1 :])\n",
                "            tovisit.append((n, s))\n",
                "    print(\"Yes\" if len(faces) == 8 else \"No\")"
            ]
        },
        {
            "cell_type": "markdown",
            "metadata": {},
            "source": [
                "## 예제\n"
            ]
        },
        {
            "cell_type": "code",
            "execution_count": 103,
            "metadata": {},
            "outputs": [],
            "source": [
                "# 백준 문제 풀이용 예제 실행 코드\n",
                "from bwj import test\n",
                "\n",
                "test_solution = test(solution)\n",
                "\n",
                "# test_solution(\"\"\"\"\"\")\n",
                "# test_solution(read(\"fn\").read())"
            ]
        },
        {
            "cell_type": "code",
            "execution_count": 104,
            "metadata": {},
            "outputs": [
                {
                    "name": "stdout",
                    "output_type": "stream",
                    "text": [
                        "Yes\n"
                    ]
                }
            ],
            "source": [
                "test_solution(\n",
                "    \"\"\"3 3 4\n",
                "...\n",
                ".xx\n",
                "...\n",
                ".x.\n",
                ".x.\n",
                "...\n",
                "...\n",
                "xx.\n",
                "...\n",
                "...\n",
                ".x.\n",
                ".x.\n",
                "\"\"\"\n",
                ")  # Yes"
            ]
        },
        {
            "cell_type": "code",
            "execution_count": 105,
            "metadata": {},
            "outputs": [
                {
                    "name": "stdout",
                    "output_type": "stream",
                    "text": [
                        "Yes\n"
                    ]
                }
            ],
            "source": [
                "test_solution(\n",
                "    \"\"\"3 3 4\n",
                "...\n",
                ".x.\n",
                "...\n",
                ".x.\n",
                "xxx\n",
                ".x.\n",
                "...\n",
                ".x.\n",
                "...\n",
                "...\n",
                ".x.\n",
                "...\n",
                "\"\"\"\n",
                ")  # Yes"
            ]
        },
        {
            "cell_type": "code",
            "execution_count": 106,
            "metadata": {},
            "outputs": [
                {
                    "name": "stdout",
                    "output_type": "stream",
                    "text": [
                        "No\n"
                    ]
                }
            ],
            "source": [
                "test_solution(\n",
                "    \"\"\"8 1 1\n",
                "xxxxxxxx\n",
                "\"\"\"\n",
                ")  # No"
            ]
        }
    ],
    "metadata": {
        "interpreter": {
            "hash": "73891b0dc2e53390f36276e59930dd4ecab91b05b5c90320c2d5b1c443f87069"
        },
        "kernelspec": {
            "display_name": "Python 3.10.1 ('venv': venv)",
            "language": "python",
            "name": "python3"
        },
        "language_info": {
            "codemirror_mode": {
                "name": "ipython",
                "version": 3
            },
            "file_extension": ".py",
            "mimetype": "text/x-python",
            "name": "python",
            "nbconvert_exporter": "python",
            "pygments_lexer": "ipython3",
            "version": "3.12.4"
        },
        "orig_nbformat": 4
    },
    "nbformat": 4,
    "nbformat_minor": 2
}
