{
 "cells": [
  {
   "cell_type": "markdown",
   "metadata": {},
   "source": [
    "# [백준/삼각형](https://www.acmicpc.net/problem/1925)"
   ]
  },
  {
   "cell_type": "markdown",
   "metadata": {},
   "source": [
    "## 풀이과정"
   ]
  },
  {
   "cell_type": "markdown",
   "metadata": {},
   "source": [
    "### 첫번째 시도"
   ]
  },
  {
   "cell_type": "markdown",
   "metadata": {},
   "source": [
    "풀이과정"
   ]
  },
  {
   "cell_type": "code",
   "execution_count": null,
   "metadata": {},
   "outputs": [],
   "source": [
    "def solution():\n",
    "    a, b, c, d, e, f = map(int, open(0).read().rstrip().split())\n",
    "    ac, bd, ce, df = a - c, b - d, c - e, d - f\n",
    "    if ac * df == bd * ce:\n",
    "        print(\"X\")\n",
    "        return\n",
    "    ea, fb = e - a, f - b\n",
    "    AB, BC, CA = ac**2 + bd**2, ce**2 + df**2, ea**2 + fb**2\n",
    "    if AB == BC == CA:\n",
    "        print(\"JungTriangle\")\n",
    "        return\n",
    "    if AB == BC or BC == CA or CA == AB:\n",
    "        if AB == BC:\n",
    "            cos = AB + BC - CA\n",
    "        elif BC == CA:\n",
    "            cos = BC + CA - AB\n",
    "        else:\n",
    "            cos = CA + AB - BC\n",
    "        if cos < 0:\n",
    "            print(\"Dunkak2Triangle\")\n",
    "        elif cos == 0:\n",
    "            print(\"Jikkak2Triangle\")\n",
    "        else:\n",
    "            print(\"Yeahkak2Triangle\")\n",
    "        return\n",
    "    cosa = CA + AB - BC\n",
    "    cosb = AB + BC - CA\n",
    "    cosc = BC + CA - AB\n",
    "    picos = cosa * cosb * cosc\n",
    "    if picos < 0:\n",
    "        print(\"DunkakTriangle\")\n",
    "    elif picos == 0:\n",
    "        print(\"JikkakTriangle\")\n",
    "    else:\n",
    "        print(\"YeahkakTriangle\")\n",
    "\n",
    "\n",
    "solution()"
   ]
  },
  {
   "cell_type": "markdown",
   "metadata": {},
   "source": [
    "## 해답"
   ]
  },
  {
   "cell_type": "code",
   "execution_count": 26,
   "metadata": {},
   "outputs": [],
   "source": [
    "def solution(open=open):\n",
    "    a, b, c, d, e, f = map(int, open(0).read().rstrip().split())\n",
    "    ac, bd, ce, df = a - c, b - d, c - e, d - f\n",
    "    if ac * df == bd * ce:\n",
    "        print(\"X\")\n",
    "        return\n",
    "    ea, fb = e - a, f - b\n",
    "    AB, BC, CA = ac**2 + bd**2, ce**2 + df**2, ea**2 + fb**2\n",
    "    if AB == BC == CA:\n",
    "        print(\"JungTriangle\")\n",
    "        return\n",
    "    if AB == BC or BC == CA or CA == AB:\n",
    "        if AB == BC:\n",
    "            cos = AB + BC - CA\n",
    "        elif BC == CA:\n",
    "            cos = BC + CA - AB\n",
    "        else:\n",
    "            cos = CA + AB - BC\n",
    "        if cos < 0:\n",
    "            print(\"Dunkak2Triangle\")\n",
    "        elif cos == 0:\n",
    "            print(\"Jikkak2Triangle\")\n",
    "        else:\n",
    "            print(\"Yeahkak2Triangle\")\n",
    "        return\n",
    "    cosa = CA + AB - BC\n",
    "    cosb = AB + BC - CA\n",
    "    cosc = BC + CA - AB\n",
    "    picos = cosa * cosb * cosc\n",
    "    if picos < 0:\n",
    "        print(\"DunkakTriangle\")\n",
    "    elif picos == 0:\n",
    "        print(\"JikkakTriangle\")\n",
    "    else:\n",
    "        print(\"YeahkakTriangle\")"
   ]
  },
  {
   "cell_type": "markdown",
   "metadata": {},
   "source": [
    "## 예제"
   ]
  },
  {
   "cell_type": "code",
   "execution_count": 27,
   "metadata": {},
   "outputs": [
    {
     "name": "stdout",
     "output_type": "stream",
     "text": [
      "The blackcellmagic extension is already loaded. To reload it, use:\n",
      "  %reload_ext blackcellmagic\n"
     ]
    }
   ],
   "source": [
    "%load_ext blackcellmagic\n",
    "# %%black"
   ]
  },
  {
   "cell_type": "code",
   "execution_count": 28,
   "metadata": {},
   "outputs": [],
   "source": [
    "# 백준 문제 풀이용 예제 실행 코드\n",
    "from bwj import test\n",
    "\n",
    "test_solution = test(solution)\n",
    "\n",
    "# test_solution(\"\"\"\"\"\")\n",
    "# test_solution(read(\"fn\").read())"
   ]
  },
  {
   "cell_type": "code",
   "execution_count": 29,
   "metadata": {},
   "outputs": [
    {
     "name": "stdout",
     "output_type": "stream",
     "text": [
      "Jikkak2Triangle\n"
     ]
    }
   ],
   "source": [
    "test_solution(\n",
    "    \"\"\"0 0\n",
    "-3 -3\n",
    "-3 0\"\"\"\n",
    ")  # Jikkak2Triangle"
   ]
  },
  {
   "cell_type": "code",
   "execution_count": 30,
   "metadata": {},
   "outputs": [
    {
     "name": "stdout",
     "output_type": "stream",
     "text": [
      "DunkakTriangle\n"
     ]
    }
   ],
   "source": [
    "test_solution(\n",
    "    \"\"\"1 1\n",
    "0 0\n",
    "2 100\"\"\"\n",
    ")  # DunkakTriangle"
   ]
  },
  {
   "cell_type": "code",
   "execution_count": 31,
   "metadata": {},
   "outputs": [
    {
     "name": "stdout",
     "output_type": "stream",
     "text": [
      "X\n"
     ]
    }
   ],
   "source": [
    "test_solution(\n",
    "    \"\"\"10000 10000\n",
    "2580 2580\n",
    "-10000 -10000\"\"\"\n",
    ")  # X"
   ]
  }
 ],
 "metadata": {
  "kernelspec": {
   "display_name": "Python 3.10.4 ('venv': venv)",
   "language": "python",
   "name": "python3"
  },
  "language_info": {
   "codemirror_mode": {
    "name": "ipython",
    "version": 3
   },
   "file_extension": ".py",
   "mimetype": "text/x-python",
   "name": "python",
   "nbconvert_exporter": "python",
   "pygments_lexer": "ipython3",
   "version": "3.10.4"
  },
  "orig_nbformat": 4,
  "vscode": {
   "interpreter": {
    "hash": "72904a014a9ffe38f4c58942120b599b3c5a87d06764037548e0139929c1cde3"
   }
  }
 },
 "nbformat": 4,
 "nbformat_minor": 2
}
