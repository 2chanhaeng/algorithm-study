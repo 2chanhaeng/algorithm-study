{
    "cells": [
        {
            "cell_type": "markdown",
            "metadata": {},
            "source": [
                "# [백준/선분 그룹](https://www.acmicpc.net/problem/2162)"
            ]
        },
        {
            "cell_type": "markdown",
            "metadata": {},
            "source": [
                "## 풀이과정"
            ]
        },
        {
            "cell_type": "markdown",
            "metadata": {},
            "source": [
                "### 첫번째 시도"
            ]
        },
        {
            "cell_type": "markdown",
            "metadata": {},
            "source": [
                "#### 풀이과정"
            ]
        },
        {
            "cell_type": "code",
            "execution_count": null,
            "metadata": {},
            "outputs": [],
            "source": [
                "class Vector(tuple):\n",
                "    def __init__(self, iterator):\n",
                "        super().__init__()\n",
                "\n",
                "    def is_cross(self, other):\n",
                "        # refer https://www.acmicpc.net/source/55785056\n",
                "        a, b, c, d = self\n",
                "        e, f, g, h = other\n",
                "        A = (f - b) * (c - a) - (e - a) * (d - b)\n",
                "        B = (g - e) * (d - b) - (h - f) * (c - a)\n",
                "        C = (b - f) * (g - e) - (a - e) * (h - f)\n",
                "        if A == 0 and (c - a) * (h - b) == (d - b) * (g - a):\n",
                "            if a == c:\n",
                "                a, c, e, g = b, d, f, h\n",
                "            return not (max(a, c) < min(e, g) or min(a, c) > max(e, g))\n",
                "        if B == 0:\n",
                "            return False\n",
                "        return 0 <= A * B <= B * B and 0 <= -C * B <= B * B\n",
                "\n",
                "\n",
                "def solution():\n",
                "    import sys\n",
                "\n",
                "    next(sys.stdin)\n",
                "    sets = set()\n",
                "    for line in map(str.split, sys.stdin):\n",
                "        vector = Vector(map(int, line))\n",
                "        crossed = []\n",
                "        for others in sets:\n",
                "            if any(vector.is_cross(other) for other in others):\n",
                "                crossed.append(others)\n",
                "        crossed_set = frozenset({vector})\n",
                "        for others in crossed:\n",
                "            sets.remove(others)\n",
                "            crossed_set |= others\n",
                "        sets.add(crossed_set)\n",
                "    print(len(sets), max(map(len, sets)))\n",
                "\n",
                "\n",
                "solution()"
            ]
        },
        {
            "cell_type": "markdown",
            "metadata": {},
            "source": [
                "## 해답"
            ]
        },
        {
            "cell_type": "code",
            "execution_count": 1,
            "metadata": {},
            "outputs": [],
            "source": [
                "class Vector(tuple):\n",
                "    def __init__(self, iterator):\n",
                "        super().__init__()\n",
                "\n",
                "\n",
                "    def is_cross(self, other):\n",
                "        # refer https://www.acmicpc.net/source/55785056\n",
                "        a, b, c, d = self\n",
                "        e, f, g, h = other\n",
                "        A = (f - b) * (c - a) - (e - a) * (d - b)\n",
                "        B = (g - e) * (d - b) - (h - f) * (c - a)\n",
                "        C = (b - f) * (g - e) - (a - e) * (h - f)\n",
                "        if A == 0 and (c - a) * (h - b) == (d - b) * (g - a):\n",
                "            if a == c:\n",
                "                a, c, e, g = b, d, f, h\n",
                "            return not (max(a, c) < min(e, g) or min(a, c) > max(e, g))\n",
                "        if B == 0:\n",
                "            return False\n",
                "        return 0 <= A * B <= B * B and 0 <= -C * B <= B * B"
            ]
        },
        {
            "cell_type": "code",
            "execution_count": 2,
            "metadata": {},
            "outputs": [],
            "source": [
                "def solution():\n",
                "    import sys\n",
                "\n",
                "    next(sys.stdin)\n",
                "    sets = set()\n",
                "    for line in map(str.split, sys.stdin):\n",
                "        vector = Vector(map(int, line))\n",
                "        crossed = []\n",
                "        for others in sets:\n",
                "            if any(vector.is_cross(other) for other in others):\n",
                "                crossed.append(others)\n",
                "        crossed_set = frozenset({vector})\n",
                "        for others in crossed:\n",
                "            sets.remove(others)\n",
                "            crossed_set |= others\n",
                "        sets.add(crossed_set)\n",
                "    print(len(sets), max(map(len, sets)))"
            ]
        },
        {
            "cell_type": "markdown",
            "metadata": {},
            "source": [
                "## 예제"
            ]
        },
        {
            "cell_type": "code",
            "execution_count": 3,
            "metadata": {},
            "outputs": [],
            "source": [
                "# black 모듈을 jupyter notebook 내에서 사용 가능하게 만들어주는 blackcellmagic 모듈 불러오기\n",
                "%load_ext blackcellmagic\n",
                "# %%black\n",
                "\n",
                "# 백준 문제 풀이용 예제 실행 코드\n",
                "from bwj import test\n",
                "test_solution = test(solution)\n",
                "\n",
                "# test_solution(\"\"\"\"\"\")\n",
                "# test_solution(read(\"fn\").read())"
            ]
        },
        {
            "cell_type": "code",
            "execution_count": 4,
            "metadata": {},
            "outputs": [
                {
                    "name": "stdout",
                    "output_type": "stream",
                    "text": [
                        "2 1\n"
                    ]
                }
            ],
            "source": [
                "test_solution(\"\"\"2\n",
                "0 0 1 0\n",
                "2 0 3 0\n",
                "\"\"\")\n",
                "# result: 1 2\n",
                "# answer: 2 1"
            ]
        },
        {
            "cell_type": "code",
            "execution_count": 5,
            "metadata": {},
            "outputs": [],
            "source": [
                "import re\n",
                "sep = re.compile(r\"\\n-+\\n\", re.MULTILINE)\n",
                "# https://www.acmicpc.net/board/view/71973\n",
                "exs = \"\"\"5\n",
                "0 2 2 0\n",
                "0 2 -2 0\n",
                "0 -2 -2 0\n",
                "0 -2 2 0\n",
                "0 0 0 1\n",
                "-------------\n",
                "2\n",
                "4\n",
                "\n",
                "=====================\n",
                "\n",
                "2\n",
                "0 0 2 11\n",
                "1 1 1 10\n",
                "-------------\n",
                "1\n",
                "2\n",
                "\n",
                "=====================\n",
                "\n",
                "6\n",
                "1 1 -1 1\n",
                "-1 1 -1 -1\n",
                "-1 -1 1 -1\n",
                "1 -1 1 1\n",
                "-1 -1 1 1\n",
                "-1 1 1 -1\n",
                "---------------\n",
                "1\n",
                "6\n",
                "\n",
                "=====================\n",
                "\n",
                "3\n",
                "1 1 2 3\n",
                "2 1 0 0\n",
                "1 0 1 1\n",
                "---------------\n",
                "1\n",
                "3\n",
                "\n",
                "=====================\n",
                "\n",
                "2\n",
                "1 1 1 2\n",
                "1 3 3 3\n",
                "---------------\n",
                "2\n",
                "1\n",
                "\n",
                "=====================\n",
                "\n",
                "2\n",
                "1 7 2 8\n",
                "3 9 2 2\n",
                "---------------\n",
                "2\n",
                "1\n",
                "\n",
                "=====================\n",
                "\n",
                "2\n",
                "0 0 1 0\n",
                "2 0 3 0\n",
                "---------------\n",
                "2\n",
                "1\n",
                "\n",
                "=====================\n",
                "\n",
                "2\n",
                "1 1 2 2\n",
                "4 4 2 2\n",
                "---------------\n",
                "1\n",
                "2\n",
                "\n",
                "=====================\n",
                "\n",
                "5\n",
                "0 2 2 0\n",
                "0 2 -2 0\n",
                "0 -2 -2 0\n",
                "0 -2 2 0\n",
                "0 0 0 1\n",
                "---------------\n",
                "2\n",
                "4\n",
                "\n",
                "=====================\n",
                "\n",
                "2\n",
                "1 1 4 4\n",
                "2 2 3 3\n",
                "---------------\n",
                "1\n",
                "2\n",
                "\n",
                "=====================\n",
                "\n",
                "12\n",
                "1 1 -1 1\n",
                "-1 1 -1 -1\n",
                "-1 -1 1 -1\n",
                "1 -1 1 1\n",
                "0 2 2 0\n",
                "2 0 0 2\n",
                "-2 0 0 -2\n",
                "0 2 -2 0\n",
                "0 1 1 0\n",
                "-1 0 0 -1\n",
                "-1 0 0 1\n",
                "1 0 0 -1\n",
                "---------------\n",
                "1\n",
                "12\n",
                "\n",
                "=====================\n",
                "\n",
                "6\n",
                "2 5 0 0\n",
                "1 7 0 0\n",
                "-1 -1 0 0\n",
                "0 0 -1 3\n",
                "7 -9 0 0\n",
                "-3000 -3000 3000 3000\n",
                "---------------\n",
                "1\n",
                "6\n",
                "\n",
                "=====================\n",
                "\n",
                "5\n",
                "3 0 0 3\n",
                "4 0 0 4\n",
                "3 0 4 0\n",
                "0 0 -1 -1\n",
                "-1 -1 -1 7\n",
                "---------------\n",
                "2\n",
                "3\n",
                "\n",
                "=====================\n",
                "\n",
                "6\n",
                "1 0 3 0\n",
                "1 1 3 1\n",
                "3 1 2 3\n",
                "2 3 1 1\n",
                "0 2 2 4\n",
                "2 0 0 3\n",
                "---------------\n",
                "1\n",
                "6\n",
                "\n",
                "=====================\n",
                "\n",
                "8\n",
                "0 0 10 10\n",
                "10 0 10 10\n",
                "0 10 10 10\n",
                "20 0 0 20\n",
                "-5 -5 100 100\n",
                "-300 -300 300 300\n",
                "1000 1000 0 0\n",
                "0 0 1000 1000\n",
                "--------------------\n",
                "1\n",
                "8\n",
                "\n",
                "=====================\n",
                "\n",
                "9\n",
                "1 11 80 93\n",
                "46 19 7 53\n",
                "72 83 99 51\n",
                "84 97 42 98\n",
                "73 63 94 22\n",
                "44 73 79 40\n",
                "58 86 13 97\n",
                "34 53 30 16\n",
                "34 72 3 81\n",
                "---------------------\n",
                "6\n",
                "4\n",
                "\n",
                "=====================\n",
                "\n",
                "8\n",
                "1 1 3 3\n",
                "2 1 2 3\n",
                "3 1 1 3\n",
                "3 2 1 2\n",
                "4 1 4 3\n",
                "1 4 3 4\n",
                "1 5 3 5\n",
                "2 4 2 6\n",
                "-----------------\n",
                "3\n",
                "4\n",
                "\n",
                "=====================\n",
                "\n",
                "2\n",
                "2 2 3 3\n",
                "1 1 4 4\n",
                "-----------------\n",
                "1\n",
                "2\n",
                "\n",
                "=====================\n",
                "\n",
                "2\n",
                "0 0 5 5\n",
                "1 1 4 4\n",
                "-----------------\n",
                "1\n",
                "2\n",
                "\n",
                "=====================\n",
                "\n",
                "4\n",
                "4 4 2 0\n",
                "3 2 1 0\n",
                "3 4 2 2\n",
                "2 2 0 0\n",
                "-----------------\n",
                "2\n",
                "2\"\"\".split(\"\\n\\n=====================\")"
            ]
        },
        {
            "cell_type": "code",
            "execution_count": 6,
            "metadata": {},
            "outputs": [
                {
                    "name": "stdout",
                    "output_type": "stream",
                    "text": [
                        "test 1\n",
                        "result: 2 4\n",
                        "answer: 2 4\n",
                        "test 2\n",
                        "result: 1 2\n",
                        "answer: 1 2\n",
                        "test 3\n",
                        "result: 1 6\n",
                        "answer: 1 6\n",
                        "test 4\n",
                        "result: 1 3\n",
                        "answer: 1 3\n",
                        "test 5\n",
                        "result: 2 1\n",
                        "answer: 2 1\n",
                        "test 6\n",
                        "result: 2 1\n",
                        "answer: 2 1\n",
                        "test 7\n",
                        "result: 2 1\n",
                        "answer: 2 1\n",
                        "test 8\n",
                        "result: 1 2\n",
                        "answer: 1 2\n",
                        "test 9\n",
                        "result: 2 4\n",
                        "answer: 2 4\n",
                        "test 10\n",
                        "result: 1 2\n",
                        "answer: 1 2\n",
                        "test 11\n",
                        "result: 1 12\n",
                        "answer: 1 12\n",
                        "test 12\n",
                        "result: 1 6\n",
                        "answer: 1 6\n",
                        "test 13\n",
                        "result: 2 3\n",
                        "answer: 2 3\n",
                        "test 14\n",
                        "result: 1 6\n",
                        "answer: 1 6\n",
                        "test 15\n",
                        "result: 1 8\n",
                        "answer: 1 8\n",
                        "test 16\n",
                        "result: 6 4\n",
                        "answer: 6 4\n",
                        "test 17\n",
                        "result: 3 4\n",
                        "answer: 3 4\n",
                        "test 18\n",
                        "result: 1 2\n",
                        "answer: 1 2\n",
                        "test 19\n",
                        "result: 1 2\n",
                        "answer: 1 2\n",
                        "test 20\n",
                        "result: 2 2\n",
                        "answer: 2 2\n"
                    ]
                }
            ],
            "source": [
                "exams = [sep.split(ex.strip()) for ex in exs]\n",
                "for i, (e, a) in enumerate(exams):\n",
                "    print(\"test\", i + 1)\n",
                "    print(\"result:\", end=\" \")\n",
                "    test_solution(e)\n",
                "    print(\"answer:\", \" \".join(a.split(\"\\n\")))"
            ]
        },
        {
            "cell_type": "code",
            "execution_count": 7,
            "metadata": {},
            "outputs": [
                {
                    "name": "stdout",
                    "output_type": "stream",
                    "text": [
                        "1 2\n"
                    ]
                }
            ],
            "source": [
                "# https://www.acmicpc.net/board/view/71973\n",
                "\n",
                "test_solution(\"\"\"2\n",
                "1 0 2 0\n",
                "0 0 1 0\n",
                "\"\"\")\n",
                "# answer:\n",
                "# 1\n",
                "# 2"
            ]
        },
        {
            "cell_type": "code",
            "execution_count": 8,
            "metadata": {},
            "outputs": [
                {
                    "name": "stdout",
                    "output_type": "stream",
                    "text": [
                        "1 8\n"
                    ]
                }
            ],
            "source": [
                "test_solution(\"\"\"8\n",
                "-1 0 -1 5\n",
                "6 3 4 2\n",
                "5 2 3 3\n",
                "4 3 2 2\n",
                "3 2 1 3\n",
                "2 3 0 2\n",
                "1 2 0 4\n",
                "-1 4 7 4\n",
                "\"\"\")\n",
                "# answer:\n",
                "# 1\n",
                "# 8"
            ]
        },
        {
            "cell_type": "code",
            "execution_count": 9,
            "metadata": {},
            "outputs": [
                {
                    "name": "stdout",
                    "output_type": "stream",
                    "text": [
                        "2 4\n",
                        "1 5\n"
                    ]
                }
            ],
            "source": [
                "# https://www.acmicpc.net/board/view/111584\n",
                "test_solution(\"\"\"5\n",
                "-1 2 5 -3\n",
                "9 7 5 -3\n",
                "-1 5 2 2\n",
                "5 -1 6 -2\n",
                "4 7 0 -4\n",
                "\"\"\")\n",
                "# answer:\n",
                "# 2\n",
                "# 4\n",
                "test_solution(\"\"\"5\n",
                "1 1 2 1\n",
                "1 1 1 2\n",
                "5 1 6 1\n",
                "5 1 5 2\n",
                "1 2 5 2\n",
                "\"\"\")\n",
                "# answer:\n",
                "# 1\n",
                "# 5"
            ]
        },
        {
            "cell_type": "code",
            "execution_count": 10,
            "metadata": {},
            "outputs": [
                {
                    "name": "stdout",
                    "output_type": "stream",
                    "text": [
                        "1 2\n"
                    ]
                }
            ],
            "source": [
                "# https://www.acmicpc.net/board/view/66904\n",
                "test_solution(\"\"\"2\n",
                "2 2 3 3\n",
                "1 1 4 4\n",
                "\"\"\")\n",
                "# answer:\n",
                "# 1\n",
                "# 2"
            ]
        },
        {
            "cell_type": "code",
            "execution_count": 11,
            "metadata": {},
            "outputs": [
                {
                    "name": "stdout",
                    "output_type": "stream",
                    "text": [
                        "1 3\n"
                    ]
                }
            ],
            "source": [
                "test_solution(\"\"\"3\n",
                "1 1 2 3\n",
                "2 1 0 0\n",
                "1 0 1 1\n",
                "\"\"\")\n",
                "# answer:\n",
                "# 1\n",
                "# 3"
            ]
        },
        {
            "cell_type": "code",
            "execution_count": 12,
            "metadata": {},
            "outputs": [
                {
                    "name": "stdout",
                    "output_type": "stream",
                    "text": [
                        "2 2\n"
                    ]
                }
            ],
            "source": [
                "test_solution(\"\"\"3\n",
                "-1 -1 1 1\n",
                "-2 -2 2 2\n",
                "0 1 -1 0\n",
                "\"\"\")\n",
                "# answer:\n",
                "# 2\n",
                "# 2"
            ]
        }
    ],
    "metadata": {
        "kernelspec": {
            "display_name": "venv",
            "language": "python",
            "name": "python3"
        },
        "language_info": {
            "codemirror_mode": {
                "name": "ipython",
                "version": 3
            },
            "file_extension": ".py",
            "mimetype": "text/x-python",
            "name": "python",
            "nbconvert_exporter": "python",
            "pygments_lexer": "ipython3",
            "version": "3.11.1"
        },
        "orig_nbformat": 4,
        "vscode": {
            "interpreter": {
                "hash": "72904a014a9ffe38f4c58942120b599b3c5a87d06764037548e0139929c1cde3"
            }
        }
    },
    "nbformat": 4,
    "nbformat_minor": 2
}
