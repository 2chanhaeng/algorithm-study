{
    "cells": [
        {
            "cell_type": "markdown",
            "metadata": {},
            "source": [
                "# [백준/하이퍼 가지 따기](https://www.acmicpc.net/problem/27941)"
            ]
        },
        {
            "cell_type": "markdown",
            "metadata": {},
            "source": [
                "## 풀이과정\n"
            ]
        },
        {
            "cell_type": "markdown",
            "metadata": {},
            "source": [
                "### 첫번째 시도\n"
            ]
        },
        {
            "cell_type": "markdown",
            "metadata": {},
            "source": [
                "#### 풀이과정\n"
            ]
        },
        {
            "cell_type": "code",
            "execution_count": null,
            "metadata": {},
            "outputs": [],
            "source": [
                "print(\" \".join(min(set(l), key=lambda x: l.count(x)) for l in list(zip(*map(str.split, open(0).read().split(\"\\n\"))))))"
            ]
        },
        {
            "cell_type": "markdown",
            "metadata": {},
            "source": [
                "## 해답\n"
            ]
        },
        {
            "cell_type": "code",
            "execution_count": 1,
            "metadata": {},
            "outputs": [],
            "source": [
                "def solution():\n",
                "    import sys\n",
                "\n",
                "    print(\" \".join(min(set(l), key=lambda x: l.count(x)) for l in list(zip(*map(str.split, sys.stdin.read().strip().split(\"\\n\"))))))"
            ]
        },
        {
            "cell_type": "markdown",
            "metadata": {},
            "source": [
                "## 예제\n"
            ]
        },
        {
            "cell_type": "code",
            "execution_count": 2,
            "metadata": {},
            "outputs": [],
            "source": [
                "# 백준 문제 풀이용 예제 실행 코드\n",
                "from bwj import test\n",
                "\n",
                "test_solution = test(solution)\n",
                "\n",
                "# test_solution(\"\"\"\"\"\")\n",
                "# test_solution(read(\"fn\").read())"
            ]
        },
        {
            "cell_type": "code",
            "execution_count": 3,
            "metadata": {},
            "outputs": [
                {
                    "name": "stdout",
                    "output_type": "stream",
                    "text": [
                        "1 1 0 1 0 0 1 0 0 0 0  1680\n",
                        "1 1 0 1 0 0 1 0 0 0 0\n"
                    ]
                }
            ],
            "source": [
                "import random\n",
                "\n",
                "rand = random.randint(0, 2047)\n",
                "example = \"\\n\".join(\" \".join(bin(i)[2:].zfill(11)) for i in set(range(2048)) - {rand})\n",
                "print(\" \".join(bin(rand)[2:].zfill(11)), \"\", rand)\n",
                "test_solution(example)  # 1 1 1 1 1 1 1 1 1 1 1"
            ]
        },
        {
            "cell_type": "code",
            "execution_count": 4,
            "metadata": {},
            "outputs": [
                {
                    "name": "stdout",
                    "output_type": "stream",
                    "text": [
                        "1 1 1 1 1 1 1 1 1 1 1\n"
                    ]
                }
            ],
            "source": [
                "example = \"\\n\".join(\" \".join(bin(i)[2:].zfill(11)) for i in range(2047))\n",
                "test_solution(example)  # 1 1 1 1 1 1 1 1 1 1 1"
            ]
        }
    ],
    "metadata": {
        "interpreter": {
            "hash": "73891b0dc2e53390f36276e59930dd4ecab91b05b5c90320c2d5b1c443f87069"
        },
        "kernelspec": {
            "display_name": "Python 3.10.1 ('venv': venv)",
            "language": "python",
            "name": "python3"
        },
        "language_info": {
            "codemirror_mode": {
                "name": "ipython",
                "version": 3
            },
            "file_extension": ".py",
            "mimetype": "text/x-python",
            "name": "python",
            "nbconvert_exporter": "python",
            "pygments_lexer": "ipython3",
            "version": "3.12.4"
        },
        "orig_nbformat": 4
    },
    "nbformat": 4,
    "nbformat_minor": 2
}
