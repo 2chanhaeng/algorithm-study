{
    "cells": [
        {
            "cell_type": "markdown",
            "metadata": {},
            "source": [
                "# [백준/하이퍼 주사위 굴리기](https://www.acmicpc.net/problem/29262)\n"
            ]
        },
        {
            "cell_type": "markdown",
            "metadata": {},
            "source": [
                "## 풀이과정\n"
            ]
        },
        {
            "cell_type": "markdown",
            "metadata": {},
            "source": [
                "### 첫번째 시도\n",
                "\n",
                "조건을 보면 알겠지만 N에 비해 M이 굉장히 작다. 즉 연산에 나오지 않는 면은 생각할 필요가 없다는 뜻이다. 따라서 지금까지 연산에 사용된 면만 사용하도록 `dict`를 사용했다. 또 조건에 따라, 서로 평행한 면의 합은 $2 * N + 1$일 것이다. 그러므로 둘 중 작은 값을 두고 큰 값이 뒤에 올 때는 음수로 생각해서 풀었다.\n"
            ]
        },
        {
            "cell_type": "markdown",
            "metadata": {},
            "source": [
                "#### 풀이과정\n"
            ]
        },
        {
            "cell_type": "code",
            "execution_count": null,
            "metadata": {},
            "outputs": [],
            "source": [
                "def solution():\n",
                "    inputs = map(int, open(0).read().split())\n",
                "    n, m = next(inputs), next(inputs)\n",
                "    k = 2 * n + 1\n",
                "    status = {0: 1}\n",
                "    position = {1: 0}\n",
                "    length = 0\n",
                "    moved = []\n",
                "    for i in inputs:\n",
                "        m = min(i, k - i)\n",
                "        if m in position:\n",
                "            pos = position[m]\n",
                "        else:\n",
                "            length += 1\n",
                "            pos = length\n",
                "            position[m] = pos\n",
                "            status[pos] = m if m == i else -m\n",
                "            moved.append(0)\n",
                "        prev = status[0]\n",
                "        if (i < k - i) ^ (status[pos] > 0):\n",
                "            status[0], status[pos] = -status[pos], status[0]\n",
                "            moved[pos - 1] += 1\n",
                "        else:\n",
                "            status[0], status[pos] = status[pos], -status[0]\n",
                "            moved[pos - 1] -= 1\n",
                "        position[m] = 0\n",
                "        position[abs(prev)] = pos\n",
                "    print(sum(i * i for i in moved))\n",
                "\n",
                "\n",
                "solution()"
            ]
        },
        {
            "cell_type": "markdown",
            "metadata": {},
            "source": [
                "## 해답\n"
            ]
        },
        {
            "cell_type": "code",
            "execution_count": 1,
            "metadata": {},
            "outputs": [],
            "source": [
                "def solution():\n",
                "    import sys\n",
                "\n",
                "    inputs = map(int, sys.stdin.read().split())\n",
                "    n, m = next(inputs), next(inputs)\n",
                "    k = 2 * n + 1\n",
                "    status = {0: 1}\n",
                "    position = {1: 0}\n",
                "    length = 0\n",
                "    moved = []\n",
                "    for i in inputs:\n",
                "        m = min(i, k - i)\n",
                "        if m in position:\n",
                "            pos = position[m]\n",
                "        else:\n",
                "            length += 1\n",
                "            pos = length\n",
                "            position[m] = pos\n",
                "            status[pos] = m if m == i else -m\n",
                "            moved.append(0)\n",
                "        prev = status[0]\n",
                "        if (i < k - i) ^ (status[pos] > 0):\n",
                "            status[0], status[pos] = -status[pos], status[0]\n",
                "            moved[pos - 1] += 1\n",
                "        else:\n",
                "            status[0], status[pos] = status[pos], -status[0]\n",
                "            moved[pos - 1] -= 1\n",
                "        position[m] = 0\n",
                "        position[abs(prev)] = pos\n",
                "    print(sum(i * i for i in moved))"
            ]
        },
        {
            "cell_type": "markdown",
            "metadata": {},
            "source": [
                "## 예제\n"
            ]
        },
        {
            "cell_type": "code",
            "execution_count": 2,
            "metadata": {},
            "outputs": [],
            "source": [
                "# 백준 문제 풀이용 예제 실행 코드\n",
                "from bwj import test\n",
                "\n",
                "test_solution = test(solution)\n",
                "\n",
                "# test_solution(\"\"\"\"\"\")\n",
                "# test_solution(read(\"fn\").read())"
            ]
        },
        {
            "cell_type": "code",
            "execution_count": 3,
            "metadata": {},
            "outputs": [
                {
                    "name": "stdout",
                    "output_type": "stream",
                    "text": [
                        "10\n"
                    ]
                }
            ],
            "source": [
                "test_solution(\n",
                "    \"\"\"3 6\n",
                "2 3 6 5 3 1\n",
                "\"\"\"\n",
                ")  # 10"
            ]
        }
    ],
    "metadata": {
        "interpreter": {
            "hash": "73891b0dc2e53390f36276e59930dd4ecab91b05b5c90320c2d5b1c443f87069"
        },
        "kernelspec": {
            "display_name": "Python 3.10.1 ('venv': venv)",
            "language": "python",
            "name": "python3"
        },
        "language_info": {
            "codemirror_mode": {
                "name": "ipython",
                "version": 3
            },
            "file_extension": ".py",
            "mimetype": "text/x-python",
            "name": "python",
            "nbconvert_exporter": "python",
            "pygments_lexer": "ipython3",
            "version": "3.12.4"
        },
        "orig_nbformat": 4
    },
    "nbformat": 4,
    "nbformat_minor": 2
}
