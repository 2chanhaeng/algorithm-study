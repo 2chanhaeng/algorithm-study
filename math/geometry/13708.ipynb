{
    "cells": [
        {
            "cell_type": "markdown",
            "metadata": {},
            "source": [
                "# [백준/모든 점을 포함하는 원](https://www.acmicpc.net/problem/13708)\n"
            ]
        },
        {
            "cell_type": "markdown",
            "metadata": {},
            "source": [
                "## 풀이과정\n"
            ]
        },
        {
            "cell_type": "markdown",
            "metadata": {},
            "source": [
                "### 첫번째 시도\n"
            ]
        },
        {
            "cell_type": "markdown",
            "metadata": {},
            "source": [
                "#### 풀이과정\n"
            ]
        },
        {
            "cell_type": "code",
            "execution_count": null,
            "metadata": {},
            "outputs": [],
            "source": [
                "from math import hypot\n",
                "from typing import Sequence, Generator, Callable\n",
                "\n",
                "\n",
                "class Point:\n",
                "    def __init__(self, x: float, y: float):\n",
                "        self.x = x\n",
                "        self.y = y\n",
                "\n",
                "    def __iter__(self) -> Generator[float, None, None]:\n",
                "        yield from (self.x, self.y)\n",
                "\n",
                "    def __sub__(self, other: \"Point\"):\n",
                "        return Point(self.x - other.x, self.y - other.y)\n",
                "\n",
                "    def __add__(self, other: \"Point\"):\n",
                "        return Point(self.x + other.x, self.y + other.y)\n",
                "\n",
                "    def __mul__(self, other: \"Point\"):\n",
                "        # dot\n",
                "        return self.x * other.x + self.y * other.y\n",
                "\n",
                "    def __rmul__(self, other: float):\n",
                "        # scalar\n",
                "        return Point(self.x * other, self.y * other)\n",
                "\n",
                "    def __truediv__(self, other: float):\n",
                "        return Point(self.x / other, self.y / other)\n",
                "\n",
                "    def __matmul__(self, other: \"Point\"):\n",
                "        # cross\n",
                "        return self.x * other.y - self.y * other.x\n",
                "\n",
                "    def __rmatmul__(self, other: tuple[\"Point\", \"Point\"]):\n",
                "        # matrix multiplication\n",
                "        return Point(self * other[0], self * other[1])\n",
                "\n",
                "    def rev(self, other: \"Point\"):\n",
                "        return (Point(other.y, -self.y), Point(-other.x, self.x))\n",
                "\n",
                "    def __abs__(self):\n",
                "        return hypot(self.x, self.y)\n",
                "\n",
                "\n",
                "class Circle:\n",
                "    def __init__(self, center: Point, radius: float, includes: set[Point] = set()):\n",
                "        self.center = center\n",
                "        self.radius = radius\n",
                "        self.includes = includes\n",
                "\n",
                "    def __repr__(self) -> str:\n",
                "        return f\"Circle({self.center}, {self.radius})\"\n",
                "\n",
                "    def __contains__(self, point: Point | Sequence[Point]) -> bool:\n",
                "        if isinstance(point, Point):\n",
                "            return abs(point - self.center) <= self.radius\n",
                "        return all(p in self for p in point)\n",
                "\n",
                "    @staticmethod\n",
                "    def append_includes(func: Callable[[\"Circle\", Point], \"Circle\"]):\n",
                "        def inner(self: \"Circle\", point: Point):\n",
                "            circle = func(self, point)\n",
                "            circle.includes = self.includes | {point}\n",
                "            return circle\n",
                "\n",
                "        return inner\n",
                "\n",
                "    @append_includes\n",
                "    def __add__(self, point: Point) -> \"Circle\":\n",
                "        if point in self:\n",
                "            return self\n",
                "        circle = Circle.from_2points(point, prev := next(points := iter(self.includes)))\n",
                "        for p in points:\n",
                "            if p not in circle:\n",
                "                circle, prev = Circle.from_3points(point, prev, p), p\n",
                "        return circle\n",
                "\n",
                "    @staticmethod\n",
                "    def from_2points(a: Point, b: Point) -> \"Circle\":\n",
                "        return Circle((a + b) / 2, abs(a - b) / 2, {a, b})\n",
                "\n",
                "    @staticmethod\n",
                "    def get_center(a: Point, b: Point) -> Point:\n",
                "        return a.rev(b) @ Point(a * a, b * b) / (2 * (a @ b))\n",
                "\n",
                "    @staticmethod\n",
                "    def from_3points(a: Point, b: Point, c: Point) -> \"Circle\":\n",
                "        center = Circle.get_center(a - c, b - c)\n",
                "        return Circle(center + c, abs(center))\n",
                "\n",
                "    def __repr__(self):\n",
                "        return f\"{round(self.center.x, 3)} {round(self.center.y, 3)} {round(self.radius, 3)}\"\n",
                "\n",
                "\n",
                "def solution():\n",
                "    import sys\n",
                "\n",
                "    inputs = sys.stdin.read().strip().split(\"\\n\")[1:]\n",
                "    points = (Point(*map(float, i.split())) for i in inputs)\n",
                "    circle: Circle = sum(points, start=Circle.from_2points(next(points), next(points)))\n",
                "    print(round(circle.radius * 2, 2))\n",
                "\n",
                "\n",
                "solution()"
            ]
        },
        {
            "cell_type": "markdown",
            "metadata": {},
            "source": [
                "### 두번째 시도\n"
            ]
        },
        {
            "cell_type": "markdown",
            "metadata": {},
            "source": [
                "#### 풀이과정\n",
                "\n",
                "사실상 [2389번 문제](https://www.acmicpc.net/problem/2389)와 동일한 문제이기 때문에 [동일한 방식](https://www.acmicpc.net/source/71761185)으로 풀었다.\n"
            ]
        },
        {
            "cell_type": "code",
            "execution_count": null,
            "metadata": {},
            "outputs": [],
            "source": [
                "# refer https://www.acmicpc.net/source/55045393\n",
                "\n",
                "\n",
                "def cross(a: complex, b: complex) -> float:\n",
                "    return (a.conjugate() * b).imag\n",
                "\n",
                "\n",
                "def get_center_2(a: complex, b: complex) -> complex:\n",
                "    return (a + b) / 2\n",
                "\n",
                "\n",
                "def get_center_3(a: complex, b: complex, c: complex) -> complex:\n",
                "    ab = b - a\n",
                "    ac = c - a\n",
                "    return a + (abs(ac) ** 2 * ab - abs(ab) ** 2 * ac) * 1j / (2 * cross(ab, ac))\n",
                "\n",
                "\n",
                "def get_circle(bound: list[complex]):\n",
                "    center = (get_center_3 if len(bound) > 2 else get_center_2)(*bound)\n",
                "    return center, abs(center - bound[0])\n",
                "\n",
                "\n",
                "def init(bound: list[complex]) -> tuple[complex, float]:\n",
                "    return get_circle(bound) if len(bound) > 1 else ((bound[0] if bound else 0j), 0.0)\n",
                "\n",
                "\n",
                "def enclosed(bound: list[complex], points: list[complex]) -> tuple[complex, float]:\n",
                "    if len(bound) == 3:\n",
                "        return get_circle(bound)\n",
                "    center, radius = init(bound)\n",
                "    for i, p in enumerate(points):\n",
                "        if abs(center - p) > radius:\n",
                "            center, radius = enclosed(bound + [p], points[:i])\n",
                "    return center, radius\n",
                "\n",
                "\n",
                "def solution():\n",
                "    import sys\n",
                "\n",
                "    inputs = sys.stdin.read().strip().split(\"\\n\")[1:]\n",
                "    points = list(set(complex(*map(float, line.split())) for line in inputs))\n",
                "    _, radius = enclosed([], points)\n",
                "    print(\"%.2f\" % radius * 2)\n",
                "\n",
                "\n",
                "solution()"
            ]
        },
        {
            "cell_type": "markdown",
            "metadata": {},
            "source": [
                "![2024년 1월 15일 14시 기준 13708번 맞힌 사람 (Python) 40ms로 1위](<../../img/Screenshot 2024-01-15 at 20-03-16 13708번 맞힌 사람 (Python) - 1 페이지.png>)\n"
            ]
        },
        {
            "cell_type": "markdown",
            "metadata": {
                "notebookRunGroups": {
                    "groupValue": "1"
                }
            },
            "source": [
                "## 해답\n"
            ]
        },
        {
            "cell_type": "code",
            "execution_count": null,
            "metadata": {},
            "outputs": [],
            "source": [
                "def cross(a: complex, b: complex) -> float:\n",
                "    return (a.conjugate() * b).imag"
            ]
        },
        {
            "cell_type": "code",
            "execution_count": null,
            "metadata": {},
            "outputs": [],
            "source": [
                "def get_center_2(a: complex, b: complex) -> complex:\n",
                "    return (a + b) / 2"
            ]
        },
        {
            "cell_type": "code",
            "execution_count": null,
            "metadata": {},
            "outputs": [],
            "source": [
                "def get_center_3(a: complex, b: complex, c: complex) -> complex:\n",
                "    ab = b - a\n",
                "    ac = c - a\n",
                "    return a + (abs(ac) ** 2 * ab - abs(ab) ** 2 * ac) * 1j / (2 * cross(ab, ac))"
            ]
        },
        {
            "cell_type": "code",
            "execution_count": null,
            "metadata": {},
            "outputs": [],
            "source": [
                "def get_circle(bound: list[complex]):\n",
                "    center = (get_center_3 if len(bound) > 2 else get_center_2)(*bound)\n",
                "    return center, abs(center - bound[0])"
            ]
        },
        {
            "cell_type": "code",
            "execution_count": null,
            "metadata": {},
            "outputs": [],
            "source": [
                "def init(bound: list[complex]) -> tuple[complex, float]:\n",
                "    return get_circle(bound) if len(bound) > 1 else ((bound[0] if bound else 0j), 0.0)"
            ]
        },
        {
            "cell_type": "code",
            "execution_count": null,
            "metadata": {},
            "outputs": [],
            "source": [
                "def enclosed(bound: list[complex], points: list[complex]) -> tuple[complex, float]:\n",
                "    if len(bound) == 3:\n",
                "        return get_circle(bound)\n",
                "    center, radius = init(bound)\n",
                "    for i, p in enumerate(points):\n",
                "        if abs(center - p) > radius:\n",
                "            center, radius = enclosed(bound + [p], points[:i])\n",
                "    return center, radius"
            ]
        },
        {
            "cell_type": "code",
            "execution_count": null,
            "metadata": {},
            "outputs": [],
            "source": [
                "def solution():\n",
                "    import sys\n",
                "\n",
                "    inputs = sys.stdin.read().strip().split(\"\\n\")[1:]\n",
                "    points = list(set(complex(*map(float, line.split())) for line in inputs))\n",
                "    _, radius = enclosed([], points)\n",
                "    print(\"%.2f\" % radius * 2)"
            ]
        },
        {
            "cell_type": "markdown",
            "metadata": {},
            "source": [
                "## 예제\n"
            ]
        },
        {
            "cell_type": "code",
            "execution_count": 264,
            "metadata": {},
            "outputs": [],
            "source": [
                "# 백준 문제 풀이용 예제 실행 코드\n",
                "from bwj import test\n",
                "\n",
                "test_solution = test(solution)\n",
                "\n",
                "# test_solution(\"\"\"\"\"\")\n",
                "# test_solution(read(\"fn\").read())"
            ]
        },
        {
            "cell_type": "code",
            "execution_count": 265,
            "metadata": {},
            "outputs": [
                {
                    "name": "stdout",
                    "output_type": "stream",
                    "text": [
                        "1.41\n"
                    ]
                }
            ],
            "source": [
                "test_solution(\n",
                "    \"\"\"4\n",
                "1 1\n",
                "1 0\n",
                "0 1\n",
                "0 0\n",
                "\"\"\"\n",
                ")  # 1.41"
            ]
        }
    ],
    "metadata": {
        "interpreter": {
            "hash": "73891b0dc2e53390f36276e59930dd4ecab91b05b5c90320c2d5b1c443f87069"
        },
        "kernelspec": {
            "display_name": "Python 3.10.1 ('venv': venv)",
            "language": "python",
            "name": "python3"
        },
        "language_info": {
            "codemirror_mode": {
                "name": "ipython",
                "version": 3
            },
            "file_extension": ".py",
            "mimetype": "text/x-python",
            "name": "python",
            "nbconvert_exporter": "python",
            "pygments_lexer": "ipython3",
            "version": "3.12.0"
        },
        "orig_nbformat": 4
    },
    "nbformat": 4,
    "nbformat_minor": 2
}
