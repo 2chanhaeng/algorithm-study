{
    "cells": [
        {
            "cell_type": "markdown",
            "metadata": {},
            "source": [
                "# [백준/삼차 방정식 풀기](https://www.acmicpc.net/problem/9735)"
            ]
        },
        {
            "cell_type": "markdown",
            "metadata": {},
            "source": [
                "## 풀이과정"
            ]
        },
        {
            "cell_type": "markdown",
            "metadata": {},
            "source": [
                "### 첫번째 시도"
            ]
        },
        {
            "cell_type": "markdown",
            "metadata": {},
            "source": [
                "풀이과정"
            ]
        },
        {
            "cell_type": "code",
            "execution_count": null,
            "metadata": {},
            "outputs": [],
            "source": [
                "import sys;input = lambda: sys.stdin.readline().rstrip();print = lambda x: sys.stdout.write(str(x)+\"\\n\")\n",
                "def cbrt(n):\n",
                "    if n == 0.: return 0.\n",
                "    rt = n / abs(n)\n",
                "    for _ in range(27):\n",
                "        rt -= (rt ** 3 - n) / (3 * rt ** 2)\n",
                "        if rt ** 3 == n:\n",
                "            break\n",
                "    return rt\n",
                "def sqrt(n):\n",
                "    if n == 0.: return 0.\n",
                "    pm = n / abs(n)\n",
                "    n = abs(n)\n",
                "    rt = 1\n",
                "    for _ in range(15):\n",
                "        rt -= (rt ** 2 - n) / (2 * rt)\n",
                "        if rt ** 2 == n:\n",
                "            break\n",
                "    return rt if pm > 0 else rt * 1j\n",
                "def float4(n):\n",
                "    return \"%.4f\"%round(n.real, 4)\n",
                "for _ in range(int(input())):\n",
                "    A, B, C, D = map(int,input().split())\n",
                "    b, c, d = B / A, C / A, D / A\n",
                "    p, q = c - b ** 2 / 3, d - b * c / 3 + 2 * b ** 3 / 27\n",
                "    qper2, pper3 = q / 2, p / 3\n",
                "    sq = sqrt(qper2 ** 2 + pper3 ** 3)\n",
                "    u = cbrt(-qper2 + sq)\n",
                "    v = cbrt(-qper2 - sq)\n",
                "    y0 = u + v - b / 3\n",
                "    sqrtm3 = sqrt(3) * 1j\n",
                "    w  = (-1 + sqrtm3) / 2\n",
                "    w2 = (-1 - sqrtm3) / 2\n",
                "    y1 = u * w + v * w2 - b / 3\n",
                "    y2 = u * w2 + v * w - b / 3\n",
                "    if y1.imag > 1e-4:\n",
                "        print(float4(y0))\n",
                "    else:\n",
                "        y = sorted(set([float4(y0), float4(y1), float4(y2)]))\n",
                "        print(*y)"
            ]
        },
        {
            "cell_type": "markdown",
            "metadata": {},
            "source": [
                "### 첫번째 시도"
            ]
        },
        {
            "cell_type": "markdown",
            "metadata": {},
            "source": [
                "풀이과정"
            ]
        },
        {
            "cell_type": "code",
            "execution_count": null,
            "metadata": {},
            "outputs": [],
            "source": [
                "import sys;input = lambda: sys.stdin.readline().rstrip();print = lambda x: sys.stdout.write(str(x)+\"\\n\")\n",
                "def jrj(nums, x):\n",
                "    res = [nums[0]]\n",
                "    for i in nums[1:-1]:\n",
                "        res.append(res[-1] * x + i)\n",
                "    return res\n",
                "def float4(n):\n",
                "    return \"%.4f\"%round(n.real, 4)\n",
                "for k in range(int(input())):\n",
                "    A, B, C, D = map(int,input().split())\n",
                "    x = []\n",
                "    if D == 0:\n",
                "        x.append(0)\n",
                "    else:\n",
                "        for i in range(1, abs(D) + 1):\n",
                "            if D % i == 0:\n",
                "                if A * i ** 3 + B * i ** 2 + C * i + D == 0:\n",
                "                    x.append(i)\n",
                "                    break\n",
                "                if A * i ** 3 - B * i ** 2 + C * i - D == 0:\n",
                "                    x.append(-i)\n",
                "                    break\n",
                "    a, ba, ca = jrj([A, B, C, D], x[0])\n",
                "    b, c = ba / 2 / a, ca / a\n",
                "    if b * b > c:\n",
                "        sq = (b * b - c)**.5\n",
                "        x.append(-b + sq)\n",
                "        x.append(-b - sq)\n",
                "    elif b * b == c:\n",
                "        x.append(-b)\n",
                "    print(*map(float4, sorted(set(map(lambda q: round(q, 4), x)))))"
            ]
        },
        {
            "cell_type": "markdown",
            "metadata": {},
            "source": [
                "## 해답"
            ]
        },
        {
            "cell_type": "code",
            "execution_count": 29,
            "metadata": {},
            "outputs": [
                {
                    "name": "stdout",
                    "output_type": "stream",
                    "text": [
                        "no error!\n"
                    ]
                }
            ],
            "source": [
                "# 뉴턴법으로 세제곱근의 근사를 구합니다.\n",
                "def cbrt(n):\n",
                "    if n == 0.: return 0.\n",
                "    rt = n / abs(n)\n",
                "    for _ in range(27):\n",
                "        rt -= (rt ** 3 - n) / (3 * rt ** 2)\n",
                "        if rt ** 3 == n:\n",
                "            break\n",
                "    return rt\n",
                "error = 1e-8\n",
                "for i in range(2000000):\n",
                "    rt = cbrt(i)\n",
                "    if abs(rt ** 3 - i) > error:\n",
                "        print(i, rt, rt ** 3, rt ** 3 - i)\n",
                "        break\n",
                "else:\n",
                "    print(\"no error!\")"
            ]
        },
        {
            "cell_type": "code",
            "execution_count": 30,
            "metadata": {},
            "outputs": [
                {
                    "name": "stdout",
                    "output_type": "stream",
                    "text": [
                        "26 1568901 116.19796260411664 1568901.00000001 1.0011717677116394e-08\n"
                    ]
                }
            ],
            "source": [
                "def cbrt26(n):\n",
                "    if n == 0.: return 0.\n",
                "    rt = n / abs(n)\n",
                "    for _ in range(26):\n",
                "        rt -= (rt ** 3 - n) / (3 * rt ** 2)\n",
                "        if rt ** 3 == n:\n",
                "            break\n",
                "    return rt\n",
                "for i in range(2000000):\n",
                "    rt = cbrt26(i)\n",
                "    if abs(rt ** 3 - i) > error:\n",
                "        print(26, i, rt, rt ** 3, rt ** 3 - i)\n",
                "        break\n",
                "else:\n",
                "    print(\"no error!\")"
            ]
        },
        {
            "cell_type": "code",
            "execution_count": 31,
            "metadata": {},
            "outputs": [
                {
                    "name": "stdout",
                    "output_type": "stream",
                    "text": [
                        "no error!\n"
                    ]
                }
            ],
            "source": [
                "for j in range(2000000):\n",
                "    j = i / 100\n",
                "    rt = cbrt(i)\n",
                "    if abs(rt ** 3 - i) > error:\n",
                "        print(i, rt, rt ** 3, rt ** 3 - i)\n",
                "        break\n",
                "else:\n",
                "    print(\"no error!\")"
            ]
        },
        {
            "cell_type": "code",
            "execution_count": 45,
            "metadata": {},
            "outputs": [
                {
                    "name": "stdout",
                    "output_type": "stream",
                    "text": [
                        "no error!\n"
                    ]
                }
            ],
            "source": [
                "for i in range(-2000000, 2000000):\n",
                "    rt = cbrt(i)\n",
                "    if abs(rt ** 3 - i) > error:\n",
                "        print(i, rt, rt ** 3, rt ** 3 - i)\n",
                "        break\n",
                "else:\n",
                "    print(\"no error!\")"
            ]
        },
        {
            "cell_type": "code",
            "execution_count": 128,
            "metadata": {},
            "outputs": [
                {
                    "data": {
                        "text/plain": [
                            "'1.0000'"
                        ]
                    },
                    "execution_count": 128,
                    "metadata": {},
                    "output_type": "execute_result"
                }
            ],
            "source": [
                "def float4(n):\n",
                "    return \"%.4f\"%round(n.real, 4)\n",
                "float4(1)"
            ]
        },
        {
            "cell_type": "code",
            "execution_count": 318,
            "metadata": {},
            "outputs": [],
            "source": [
                "def solution1(input):\n",
                "    for _ in range(int(input())):\n",
                "        A, B, C, D = map(int,input().split())\n",
                "        b, c, d = B / A, C / A, D / A\n",
                "        p, q = c - b ** 2 / 3, d - b * c / 3 + 2 * b ** 3 / 27\n",
                "        qper2, pper3 = q / 2, p / 3\n",
                "        sq = sqrt(qper2 ** 2 + pper3 ** 3)\n",
                "        u = cbrt(-qper2 + sq)\n",
                "        v = cbrt(-qper2 - sq)\n",
                "        y0 = u + v - b / 3\n",
                "        sqrtm3 = sqrt(3) * 1j\n",
                "        w  = (-1 + sqrtm3) / 2\n",
                "        w2 = (-1 - sqrtm3) / 2\n",
                "        y1 = u * w + v * w2 - b / 3\n",
                "        y2 = u * w2 + v * w - b / 3\n",
                "        if y1.imag > 1e-4:\n",
                "            print(float4(y0))\n",
                "        else:\n",
                "            y = sorted(set(map(lambda q: round(q.real, 4), [y0, y1, y2])))\n",
                "            print(*map(float4, y))\n"
            ]
        },
        {
            "cell_type": "code",
            "execution_count": 2,
            "metadata": {},
            "outputs": [
                {
                    "data": {
                        "text/plain": [
                            "[2, -1]"
                        ]
                    },
                    "execution_count": 2,
                    "metadata": {},
                    "output_type": "execute_result"
                }
            ],
            "source": [
                "# 조립제법 Synthetic division\n",
                "def jrj(nums, x):\n",
                "    res = [nums[0]]\n",
                "    for i in nums[1:-1]:\n",
                "        res.append(res[-1] * x + i)\n",
                "    return res\n",
                "jrj(jrj([2, 1, -5, 2], 1), -2)\n",
                "    "
            ]
        },
        {
            "cell_type": "code",
            "execution_count": 3,
            "metadata": {},
            "outputs": [],
            "source": [
                "def solution(input):\n",
                "    for k in range(int(input())):\n",
                "        A, B, C, D = map(int,input().split())\n",
                "        x = []\n",
                "        if D == 0:\n",
                "            x.append(0)\n",
                "        else:\n",
                "\n",
                "            for i in range(1, abs(D) + 1):\n",
                "                if D % i == 0:\n",
                "                    if A * i ** 3 + B * i ** 2 + C * i + D == 0:\n",
                "                        x.append(i)\n",
                "                        break\n",
                "                    if A * i ** 3 - B * i ** 2 + C * i - D == 0:\n",
                "                        x.append(-i)\n",
                "                        break\n",
                "        a, ba, ca = jrj([A, B, C, D], x[0])\n",
                "        b, c = ba / 2 / a, ca / a\n",
                "        if b * b > c:\n",
                "            sq = (b * b - c)**.5\n",
                "            x.append(-b + sq)\n",
                "            x.append(-b - sq)\n",
                "        elif b * b == c:\n",
                "            x.append(-b)\n",
                "        print(*map(float4, sorted(set(map(lambda q: round(q, 4), x)))))\n",
                "\n"
            ]
        },
        {
            "cell_type": "markdown",
            "metadata": {},
            "source": [
                "## 예제"
            ]
        },
        {
            "cell_type": "code",
            "execution_count": 4,
            "metadata": {},
            "outputs": [],
            "source": [
                "# 백준 문제 풀이용 예제 실행 코드\n",
                "from bwj import test\n",
                "test_solution = test(solution)\n",
                "\n",
                "# test_solution(\"\"\"\"\"\")\n",
                "# test_solution(read(\"fn\").read())"
            ]
        },
        {
            "cell_type": "code",
            "execution_count": 5,
            "metadata": {},
            "outputs": [
                {
                    "name": "stdout",
                    "output_type": "stream",
                    "text": [
                        "-2.0000 0.0000 1000000.0000\n",
                        "0.0100 9.9900 10.0000\n",
                        "-1.0000 999.0000 1000.0000\n",
                        "10.0000 11.0000 12.0000\n",
                        "0.0000\n",
                        "125.0000 126.0000\n",
                        "125.0000 126.0000\n",
                        "0.0000 9.9990 10.0000\n",
                        "0.0000 0.0010 0.0020\n",
                        "0.0000 0.0010 0.0011\n"
                    ]
                }
            ],
            "source": [
                "test_solution(\"\"\"10\n",
                "1 -999998 -2000000 0\n",
                "10000 -200000 1000999 -9990\n",
                "2 -3996 1994002 1998000\n",
                "1439 -47487 520918 -1899480\n",
                "2000000000 0 0 0\n",
                "1 -377 47376 -1984500\n",
                "1 -376 47125 -1968750\n",
                "1000 -19999 99990 0\n",
                "498501 -1498 1 0\n",
                "899100 -1899 1 0\"\"\")\n",
                "# answer:\n",
                "# -2 0 1000000\n",
                "# 0.01 9.99 10\n",
                "# -1 999 1000\n",
                "# 10 11 12\n",
                "# 0\n",
                "# 125 126\n",
                "# 125 126\n",
                "# 0 9.999 10\n",
                "# 0 0.0010 0.0020\n",
                "# 0 0.0010 0.0011"
            ]
        },
        {
            "cell_type": "code",
            "execution_count": 6,
            "metadata": {},
            "outputs": [
                {
                    "name": "stdout",
                    "output_type": "stream",
                    "text": [
                        "-999999.0000\n",
                        "0.0000 141.3000\n",
                        "0.0000 1.0000\n"
                    ]
                }
            ],
            "source": [
                "test_solution(\"\"\"3\n",
                "1 1000000 1000000 999999 \n",
                "100 -28260 1996569 0\n",
                "1 -1 0 0\"\"\")\n",
                "# -999999.0\n",
                "# 0.0000 141.3000\n",
                "# 0.0000 1.0000"
            ]
        },
        {
            "cell_type": "code",
            "execution_count": 7,
            "metadata": {},
            "outputs": [
                {
                    "name": "stdout",
                    "output_type": "stream",
                    "text": [
                        "-2.0000 0.5000 1.0000\n",
                        "1.0000\n",
                        "-1.0000 1.0000 2.0000\n",
                        "0.5000 1.0000 2.0000\n",
                        "0.0000\n"
                    ]
                }
            ],
            "source": [
                "test_solution(\"\"\"5\n",
                "2 1 -5 2\n",
                "1 -3 3 -1\n",
                "1 -2 -1 2\n",
                "2 -7 7 -2\n",
                "2 0 0 0\"\"\")\n",
                "# answer:\n",
                "# -2.0000 0.5000 1.0000\n",
                "# 1.0000\n",
                "# -1.0000 1.0000 2.0000\n",
                "# 0.5000 1.0000 2.0000\n",
                "# 0.0000"
            ]
        }
    ],
    "metadata": {
        "interpreter": {
            "hash": "73891b0dc2e53390f36276e59930dd4ecab91b05b5c90320c2d5b1c443f87069"
        },
        "kernelspec": {
            "display_name": "Python 3.10.1 ('venv': venv)",
            "language": "python",
            "name": "python3"
        },
        "language_info": {
            "codemirror_mode": {
                "name": "ipython",
                "version": 3
            },
            "file_extension": ".py",
            "mimetype": "text/x-python",
            "name": "python",
            "nbconvert_exporter": "python",
            "pygments_lexer": "ipython3",
            "version": "3.10.2"
        },
        "orig_nbformat": 4
    },
    "nbformat": 4,
    "nbformat_minor": 2
}
