{
 "cells": [
  {
   "cell_type": "markdown",
   "metadata": {},
   "source": [
    "# [백준/이항 계수 5](https://www.acmicpc.net/problem/11439)"
   ]
  },
  {
   "cell_type": "markdown",
   "metadata": {},
   "source": [
    "## 풀이과정"
   ]
  },
  {
   "cell_type": "markdown",
   "metadata": {},
   "source": [
    "### 첫번째 시도"
   ]
  },
  {
   "cell_type": "markdown",
   "metadata": {},
   "source": [
    "#### 풀이과정"
   ]
  },
  {
   "cell_type": "code",
   "execution_count": null,
   "metadata": {},
   "outputs": [],
   "source": [
    "def solution():\n",
    "    import sys\n",
    "    import math\n",
    "\n",
    "    n, k, m = map(int, sys.stdin.readline().split())\n",
    "    math.ceil\n",
    "    sqrt = math.ceil(math.sqrt(n))\n",
    "    sqrt += not sqrt % 2\n",
    "    che = [False, False, True, True] + [False, True] * max(0, (n - 3) // 2)\n",
    "    primes = {2: 0, 3: 0}\n",
    "\n",
    "    for p in range(3, sqrt, 2):\n",
    "        if not che[p]:\n",
    "            continue\n",
    "        che[p * p :: 2 * p] = [False] * ((n - p * p) // (2 * p) + 1)\n",
    "        primes[p] = 0\n",
    "    for i, is_prime in enumerate(che[sqrt::2], start=sqrt // 2):\n",
    "        if not is_prime:\n",
    "            continue\n",
    "        primes[i * 2 + 1] = 0\n",
    "    for prime in primes:\n",
    "        power = prime\n",
    "        while power <= n:\n",
    "            primes[prime] += (n // power) - (k // power) - ((n - k) // power)\n",
    "            power *= prime\n",
    "    result = 1\n",
    "    for prime, exp in primes.items():\n",
    "        if exp != 0:\n",
    "            power = 1\n",
    "            for b in [c == \"1\" for c in bin(exp)[2:]]:\n",
    "                power *= power * prime if b else power\n",
    "                power %= m\n",
    "            result *= power\n",
    "            result %= m\n",
    "            if result == 0:\n",
    "                print(0)\n",
    "                return\n",
    "    print(result)\n",
    "\n",
    "\n",
    "solution()"
   ]
  },
  {
   "cell_type": "markdown",
   "metadata": {},
   "source": [
    "<img alt=\"2022년 9월 23일 19시 기준 11439번 맞힌 사람 (Python) 552ms로 1위\" src=\"../../img/Screenshot 2022-09-23 at 19-00-24 11439번 맞힌 사람 (Python 3) - 1 페이지.png\">"
   ]
  },
  {
   "cell_type": "markdown",
   "metadata": {},
   "source": [
    "## 해답"
   ]
  },
  {
   "cell_type": "code",
   "execution_count": 1,
   "metadata": {},
   "outputs": [],
   "source": [
    "def solution():\n",
    "    import sys\n",
    "    import math\n",
    "\n",
    "    n, k, m = map(int, sys.stdin.readline().split())\n",
    "    math.ceil\n",
    "    sqrt = math.ceil(math.sqrt(n))\n",
    "    sqrt += not sqrt % 2\n",
    "    che = [False, False, True, True] + [False, True] * max(0, (n - 3) // 2)\n",
    "    primes = {2: 0, 3: 0}\n",
    "\n",
    "    for p in range(3, sqrt, 2):\n",
    "        if not che[p]:\n",
    "            continue\n",
    "        che[p * p :: 2 * p] = [False] * ((n - p * p) // (2 * p) + 1)\n",
    "        primes[p] = 0\n",
    "    for i, is_prime in enumerate(che[sqrt::2], start=sqrt // 2):\n",
    "        if not is_prime:\n",
    "            continue\n",
    "        primes[i * 2 + 1] = 0\n",
    "    for prime in primes:\n",
    "        power = prime\n",
    "        while power <= n:\n",
    "            primes[prime] += (n // power) - (k // power) - ((n - k) // power)\n",
    "            power *= prime\n",
    "    result = 1\n",
    "    for prime, exp in primes.items():\n",
    "        if exp != 0:\n",
    "            power = 1\n",
    "            for b in [c == \"1\" for c in bin(exp)[2:]]:\n",
    "                power *= power * prime if b else power\n",
    "                power %= m\n",
    "            result *= power\n",
    "            result %= m\n",
    "            if result == 0:\n",
    "                print(0)\n",
    "                return\n",
    "    print(result)"
   ]
  },
  {
   "cell_type": "markdown",
   "metadata": {},
   "source": [
    "## 예제"
   ]
  },
  {
   "cell_type": "code",
   "execution_count": 2,
   "metadata": {},
   "outputs": [],
   "source": [
    "# black 모듈을 jupyter notebook 내에서 사용 가능하게 만들어주는 blackcellmagic 모듈 불러오기\n",
    "%load_ext blackcellmagic\n",
    "# %%black\n",
    "\n",
    "# 백준 문제 풀이용 예제 실행 코드\n",
    "from bwj import test\n",
    "\n",
    "test_solution = test(solution)\n",
    "\n",
    "# test_solution(\"\"\"\"\"\")\n",
    "# test_solution(read(\"fn\").read())"
   ]
  },
  {
   "cell_type": "code",
   "execution_count": 3,
   "metadata": {},
   "outputs": [
    {
     "name": "stdout",
     "output_type": "stream",
     "text": [
      "1\n"
     ]
    }
   ],
   "source": [
    "test_solution(\n",
    "    \"\"\"5 2 3\n",
    "\"\"\"\n",
    ")  # 1"
   ]
  },
  {
   "cell_type": "code",
   "execution_count": 4,
   "metadata": {},
   "outputs": [
    {
     "name": "stdout",
     "output_type": "stream",
     "text": [
      "1\n"
     ]
    }
   ],
   "source": [
    "test_solution(\n",
    "    \"\"\"30 3 3\n",
    "\"\"\"\n",
    ")  # 1"
   ]
  },
  {
   "cell_type": "code",
   "execution_count": 5,
   "metadata": {},
   "outputs": [
    {
     "name": "stdout",
     "output_type": "stream",
     "text": [
      "2\n"
     ]
    }
   ],
   "source": [
    "test_solution(\n",
    "    \"\"\"100 45 13\n",
    "\"\"\"\n",
    ")  # 2"
   ]
  },
  {
   "cell_type": "code",
   "execution_count": 6,
   "metadata": {},
   "outputs": [
    {
     "name": "stdout",
     "output_type": "stream",
     "text": [
      "48\n"
     ]
    }
   ],
   "source": [
    "test_solution(\n",
    "    \"\"\"100 46 72\n",
    "\"\"\"\n",
    ")  # 48"
   ]
  },
  {
   "cell_type": "code",
   "execution_count": 7,
   "metadata": {},
   "outputs": [
    {
     "name": "stdout",
     "output_type": "stream",
     "text": [
      "1\n"
     ]
    }
   ],
   "source": [
    "test_solution(\n",
    "    \"\"\"50 23 9\n",
    "\"\"\"\n",
    ")  # 1"
   ]
  }
 ],
 "metadata": {
  "kernelspec": {
   "display_name": "Python 3.10.6 ('venv': venv)",
   "language": "python",
   "name": "python3"
  },
  "language_info": {
   "codemirror_mode": {
    "name": "ipython",
    "version": 3
   },
   "file_extension": ".py",
   "mimetype": "text/x-python",
   "name": "python",
   "nbconvert_exporter": "python",
   "pygments_lexer": "ipython3",
   "version": "3.10.6"
  },
  "orig_nbformat": 4,
  "vscode": {
   "interpreter": {
    "hash": "72904a014a9ffe38f4c58942120b599b3c5a87d06764037548e0139929c1cde3"
   }
  }
 },
 "nbformat": 4,
 "nbformat_minor": 2
}
