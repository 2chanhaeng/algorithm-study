{
 "cells": [
  {
   "cell_type": "markdown",
   "metadata": {},
   "source": [
    "# [백준/A](https://www.acmicpc.net/problem/13171)"
   ]
  },
  {
   "cell_type": "markdown",
   "metadata": {},
   "source": [
    "## 풀이과정"
   ]
  },
  {
   "cell_type": "markdown",
   "metadata": {},
   "source": [
    "### 첫번째 시도"
   ]
  },
  {
   "cell_type": "markdown",
   "metadata": {},
   "source": [
    "풀이과정"
   ]
  },
  {
   "cell_type": "code",
   "execution_count": null,
   "metadata": {},
   "outputs": [],
   "source": [
    "def solution(open=open):\n",
    "    a, x, _ = map(int, open(0).read().split(\"\\n\"))\n",
    "    mod = 1_000_000_007\n",
    "\n",
    "    a %= mod\n",
    "    x %= mod - 1\n",
    "    ax = a\n",
    "\n",
    "    for e in bin(x)[3:]:\n",
    "        ax *= ax\n",
    "        ax %= mod\n",
    "\n",
    "        if e == \"1\":\n",
    "            ax *= a\n",
    "\n",
    "    ax %= mod\n",
    "\n",
    "    print(ax)\n",
    "\n",
    "\n",
    "solution()"
   ]
  },
  {
   "cell_type": "markdown",
   "metadata": {},
   "source": [
    "## 해답"
   ]
  },
  {
   "cell_type": "code",
   "execution_count": 43,
   "metadata": {},
   "outputs": [],
   "source": [
    "def solution(open=open):\n",
    "    a, x = map(int, open(0).read().split(\"\\n\"))\n",
    "    mod = 1_000_000_007\n",
    "    a %= mod\n",
    "    x %= mod - 1\n",
    "    ax = a\n",
    "    for e in bin(x)[3:]:\n",
    "        ax *= ax\n",
    "        ax %= mod\n",
    "        if e == \"1\":\n",
    "            ax *= a\n",
    "    ax %= mod\n",
    "\n",
    "    print(ax)"
   ]
  },
  {
   "cell_type": "markdown",
   "metadata": {},
   "source": [
    "## 예제"
   ]
  },
  {
   "cell_type": "code",
   "execution_count": 40,
   "metadata": {},
   "outputs": [],
   "source": [
    "# 백준 문제 풀이용 예제 실행 코드\n",
    "from bwj import test\n",
    "\n",
    "test_solution = test(solution)\n",
    "\n",
    "# test_solution(\"\"\"\"\"\")\n",
    "# test_solution(read(\"fn\").read())"
   ]
  },
  {
   "cell_type": "code",
   "execution_count": 41,
   "metadata": {},
   "outputs": [
    {
     "name": "stdout",
     "output_type": "stream",
     "text": [
      "3 3\n",
      "27\n"
     ]
    }
   ],
   "source": [
    "test_solution(\n",
    "    \"\"\"3\n",
    "3\"\"\"\n",
    ")  # 27"
   ]
  },
  {
   "cell_type": "code",
   "execution_count": 42,
   "metadata": {},
   "outputs": [
    {
     "name": "stdout",
     "output_type": "stream",
     "text": [
      "100 100\n",
      "424090053\n"
     ]
    }
   ],
   "source": [
    "test_solution(\n",
    "    \"\"\"100\n",
    "100\"\"\"\n",
    ")  # 424090053"
   ]
  }
 ],
 "metadata": {
  "interpreter": {
   "hash": "73891b0dc2e53390f36276e59930dd4ecab91b05b5c90320c2d5b1c443f87069"
  },
  "kernelspec": {
   "display_name": "Python 3.10.1 ('venv': venv)",
   "language": "python",
   "name": "python3"
  },
  "language_info": {
   "codemirror_mode": {
    "name": "ipython",
    "version": 3
   },
   "file_extension": ".py",
   "mimetype": "text/x-python",
   "name": "python",
   "nbconvert_exporter": "python",
   "pygments_lexer": "ipython3",
   "version": "3.10.4"
  },
  "orig_nbformat": 4
 },
 "nbformat": 4,
 "nbformat_minor": 2
}
