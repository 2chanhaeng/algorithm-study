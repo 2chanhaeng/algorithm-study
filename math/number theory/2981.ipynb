{
 "cells": [
  {
   "cell_type": "markdown",
   "metadata": {},
   "source": [
    "# [백준/검문](https://www.acmicpc.net/problem/2981)"
   ]
  },
  {
   "cell_type": "markdown",
   "metadata": {},
   "source": [
    "## 풀이과정"
   ]
  },
  {
   "cell_type": "markdown",
   "metadata": {},
   "source": [
    "### 첫번째 시도"
   ]
  },
  {
   "cell_type": "markdown",
   "metadata": {},
   "source": [
    "풀이과정"
   ]
  },
  {
   "cell_type": "code",
   "execution_count": null,
   "metadata": {},
   "outputs": [],
   "source": [
    "from math import gcd\n",
    "\n",
    "\n",
    "def solution(open=open):\n",
    "    nums = sorted(map(int, open(0).read().split()[1:]))\n",
    "    ans = set()\n",
    "    for remain in range(nums[1]):\n",
    "        dividend = gcd(*[num - remain for num in nums])\n",
    "        if dividend not in ans and dividend > 1:\n",
    "            for factor in range(max(2, remain + 1), dividend + 1):\n",
    "                if dividend % factor == 0:\n",
    "                    ans.add(factor)\n",
    "    print(*sorted(ans))\n",
    "\n",
    "\n",
    "solution()"
   ]
  },
  {
   "cell_type": "markdown",
   "metadata": {},
   "source": [
    "### 두번째 시도"
   ]
  },
  {
   "cell_type": "markdown",
   "metadata": {},
   "source": [
    "풀이과정"
   ]
  },
  {
   "cell_type": "code",
   "execution_count": null,
   "metadata": {},
   "outputs": [],
   "source": [
    "def euclid(a, b):\n",
    "    return a if b == 0 else euclid(b, a % b)\n",
    "\n",
    "\n",
    "def solution(open=open):\n",
    "    nums = sorted(map(int, open(0).read().split()[1:]))\n",
    "    ans = set()\n",
    "    for remain in range(nums[1]):\n",
    "        dividend = nums[0] - remain\n",
    "        for num in nums[1:]:\n",
    "            dividend = euclid(dividend, num - remain)\n",
    "            if dividend in ans or dividend == 1:\n",
    "                break\n",
    "        if dividend not in ans and dividend > 1:\n",
    "            for factor in range(max(2, remain + 1), dividend + 1):\n",
    "                if dividend % factor == 0:\n",
    "                    ans.add(factor)\n",
    "    print(*sorted(ans))\n",
    "\n",
    "\n",
    "solution()"
   ]
  },
  {
   "cell_type": "markdown",
   "metadata": {},
   "source": [
    "### 첫번째 시도"
   ]
  },
  {
   "cell_type": "markdown",
   "metadata": {},
   "source": [
    "풀이과정"
   ]
  },
  {
   "cell_type": "code",
   "execution_count": null,
   "metadata": {},
   "outputs": [],
   "source": [
    "from math import gcd\n",
    "\n",
    "\n",
    "def solution(open=open):\n",
    "    nums = list(map(int, open(0).read().split()[1:]))\n",
    "    g = gcd(*set(n - m for n, m in zip(nums, nums[1:])))\n",
    "    ans = \"\"\n",
    "    for f in range(2, g // 2 + 1):\n",
    "        if g % f == 0:\n",
    "            ans += str(f) + \" \"\n",
    "    ans += str(g)\n",
    "    print(ans)\n",
    "\n",
    "\n",
    "solution()"
   ]
  },
  {
   "cell_type": "code",
   "execution_count": 156,
   "metadata": {},
   "outputs": [],
   "source": [
    "from math import gcd\n",
    "\n",
    "\n",
    "def solution(open=open):\n",
    "    nums = list(map(int, open(0).read().split()[1:]))\n",
    "    g = gcd(*set(n - m for n, m in zip(nums, nums[1:])))\n",
    "    ans = []\n",
    "    wer = []\n",
    "    for f in range(2, int(g**0.5) + 1):\n",
    "        if f * f == g:\n",
    "            ans.append(f)\n",
    "            break\n",
    "        elif g % f == 0:\n",
    "            ans.append(f)\n",
    "            wer.append(g // f)\n",
    "    wer.reverse()\n",
    "    print(*ans, *wer, g)\n",
    "\n",
    "\n",
    "solution()"
   ]
  },
  {
   "cell_type": "markdown",
   "metadata": {},
   "source": [
    "## 해답"
   ]
  },
  {
   "cell_type": "code",
   "execution_count": 6,
   "metadata": {},
   "outputs": [],
   "source": [
    "from math import gcd"
   ]
  },
  {
   "cell_type": "code",
   "execution_count": 77,
   "metadata": {},
   "outputs": [],
   "source": [
    "def euclid(a, b):\n",
    "    return a if b == 0 else euclid(b, a % b)"
   ]
  },
  {
   "cell_type": "code",
   "execution_count": 169,
   "metadata": {},
   "outputs": [],
   "source": [
    "def solution(open=open):\n",
    "    nums = list(map(int, open(0).read().split()[1:]))\n",
    "    g = gcd(*set(n - m for n, m in zip(nums, nums[1:])))\n",
    "    ans = []\n",
    "    wer = []\n",
    "    for f in range(2, int(g**0.5) + 1):\n",
    "        if f * f == g:\n",
    "            ans.append(f)\n",
    "            break\n",
    "        elif g % f == 0:\n",
    "            ans.append(f)\n",
    "            wer.append(g // f)\n",
    "    wer.reverse()\n",
    "    print(*ans, *wer, g)"
   ]
  },
  {
   "cell_type": "markdown",
   "metadata": {},
   "source": [
    "## 예제"
   ]
  },
  {
   "cell_type": "code",
   "execution_count": 170,
   "metadata": {},
   "outputs": [],
   "source": [
    "# 백준 문제 풀이용 예제 실행 코드\n",
    "from bwj import test\n",
    "\n",
    "test_solution = test(solution)\n",
    "\n",
    "# test_solution(\"\"\"\"\"\")\n",
    "# test_solution(read(\"fn\").read())"
   ]
  },
  {
   "cell_type": "code",
   "execution_count": 171,
   "metadata": {},
   "outputs": [
    {
     "name": "stdout",
     "output_type": "stream",
     "text": [
      "2\n"
     ]
    }
   ],
   "source": [
    "test_solution(\n",
    "    \"\"\"4\n",
    "1\n",
    "5\n",
    "7\n",
    "11\"\"\"\n",
    ")  # 2"
   ]
  },
  {
   "cell_type": "code",
   "execution_count": 172,
   "metadata": {},
   "outputs": [
    {
     "name": "stdout",
     "output_type": "stream",
     "text": [
      "2 4\n"
     ]
    }
   ],
   "source": [
    "test_solution(\n",
    "    \"\"\"3\n",
    "6\n",
    "34\n",
    "38\"\"\"\n",
    ")  # 2 4"
   ]
  },
  {
   "cell_type": "code",
   "execution_count": 173,
   "metadata": {},
   "outputs": [
    {
     "name": "stdout",
     "output_type": "stream",
     "text": [
      "3\n"
     ]
    }
   ],
   "source": [
    "test_solution(\n",
    "    \"\"\"5\n",
    "5\n",
    "17\n",
    "23\n",
    "14\n",
    "83\"\"\"\n",
    ")  # 3"
   ]
  }
 ],
 "metadata": {
  "interpreter": {
   "hash": "73891b0dc2e53390f36276e59930dd4ecab91b05b5c90320c2d5b1c443f87069"
  },
  "kernelspec": {
   "display_name": "Python 3.10.1 ('venv': venv)",
   "language": "python",
   "name": "python3"
  },
  "language_info": {
   "codemirror_mode": {
    "name": "ipython",
    "version": 3
   },
   "file_extension": ".py",
   "mimetype": "text/x-python",
   "name": "python",
   "nbconvert_exporter": "python",
   "pygments_lexer": "ipython3",
   "version": "3.10.2"
  },
  "orig_nbformat": 4
 },
 "nbformat": 4,
 "nbformat_minor": 2
}
