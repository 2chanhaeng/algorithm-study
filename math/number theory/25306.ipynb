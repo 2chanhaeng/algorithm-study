{
    "cells": [
        {
            "cell_type": "markdown",
            "metadata": {},
            "source": [
                "# [백준/연속 XOR](https://www.acmicpc.net/problem/25306)"
            ]
        },
        {
            "cell_type": "markdown",
            "metadata": {},
            "source": [
                "## 풀이과정"
            ]
        },
        {
            "cell_type": "markdown",
            "metadata": {},
            "source": [
                "### 첫번째 시도"
            ]
        },
        {
            "cell_type": "markdown",
            "metadata": {},
            "source": [
                "#### 풀이과정"
            ]
        },
        {
            "cell_type": "code",
            "execution_count": null,
            "metadata": {},
            "outputs": [],
            "source": [
                "def solution():\n",
                "    import sys\n",
                "    import functools\n",
                "    import operator\n",
                "\n",
                "    def xor(iterable):\n",
                "        return functools.reduce(operator.xor, iterable)\n",
                "\n",
                "    a, b = map(int, sys.stdin.readline().split())\n",
                "    a4, b4 = a % 4, b % 4\n",
                "    result = xor(range(a4, (b4 if b4 >= a4 else b4 + 4) + 1)) % 4\n",
                "    if b < 4:\n",
                "        print(result)\n",
                "        return\n",
                "    a2, b2 = a % 2, (b + 1) % 2\n",
                "    bit = 4\n",
                "    while bit <= b:\n",
                "        result += (a2 * ((a & bit) > 0) ^ b2 * ((b & bit) > 0)) * bit\n",
                "        bit *= 2\n",
                "    print(result)\n",
                "\n",
                "\n",
                "solution()"
            ]
        },
        {
            "cell_type": "markdown",
            "metadata": {},
            "source": [
                "## 해답"
            ]
        },
        {
            "cell_type": "code",
            "execution_count": null,
            "metadata": {},
            "outputs": [],
            "source": [
                "import functools\n",
                "import operator\n",
                "\n",
                "def xor(iterable):\n",
                "    return functools.reduce(operator.xor, iterable)"
            ]
        },
        {
            "cell_type": "code",
            "execution_count": 29,
            "metadata": {},
            "outputs": [
                {
                    "name": "stdout",
                    "output_type": "stream",
                    "text": [
                        "  0 1 2 3\n",
                        "0 0 1 3 0\n",
                        "1 0 1 3 0\n",
                        "2 1 0 2 1\n",
                        "3 3 2 0 3\n"
                    ]
                }
            ],
            "source": [
                "print(\" \", *range(4), sep=\" \")\n",
                "for a in range(4):\n",
                "    print(a, *(xor(range(a, (b if b >= a else b + 4) + 1)) % 4 for b in range(4)))"
            ]
        },
        {
            "cell_type": "code",
            "execution_count": 93,
            "metadata": {},
            "outputs": [
                {
                    "name": "stdout",
                    "output_type": "stream",
                    "text": [
                        "   0 1 2 3 4 5 6 7\n",
                        " 0 0 0 0 0 1 0 1 0\n",
                        " 1 0 0 0 0 1 0 1 0\n",
                        " 2 0 0 0 0 1 0 1 0\n",
                        " 3 0 0 0 0 1 0 1 0\n",
                        " 4 0 0 0 0 1 0 1 0\n",
                        " 5 1 1 1 1 0 1 0 1\n",
                        " 6 0 0 0 0 1 0 1 0\n",
                        " 7 1 1 1 1 0 1 0 1\n"
                    ]
                }
            ],
            "source": [
                "pos = 3\n",
                "bit = 1 << pos\n",
                "print(\"  \", *map(\"{:>2d}\".format, range(bit)), sep=\"\")\n",
                "for a in range(bit):\n",
                "    print(f\"{a:>2d}\", *(xor(range(a, (b if b >= a else b + bit) + 1))//(bit >> 1)%2 for b in range(bit)))"
            ]
        },
        {
            "cell_type": "code",
            "execution_count": 172,
            "metadata": {},
            "outputs": [
                {
                    "name": "stdout",
                    "output_type": "stream",
                    "text": [
                        "   0 1 2 3 4 5 6 7\n",
                        " 0 0 1 3 0 4 1 7 0\n",
                        " 1   1 3 0 4 1 7 0\n",
                        " 2     2 1 5 0 6 1\n",
                        " 3       3 7 2 4 3\n",
                        " 4         4 1 7 0\n",
                        " 5           5 3 4\n",
                        " 6             6 1\n",
                        " 7               7\n"
                    ]
                }
            ],
            "source": [
                "pos = 3\n",
                "bit = 1 << pos\n",
                "print(\"  \", *map(\"{:>2d}\".format, range(bit)), sep=\"\")\n",
                "for a in range(bit):\n",
                "    print(f\"{a:>2d}\", *(\"%d\"%xor(range(a, b + 1)) if a <= b else \" \" for b in range(bit)))"
            ]
        },
        {
            "cell_type": "code",
            "execution_count": 175,
            "metadata": {},
            "outputs": [
                {
                    "name": "stdout",
                    "output_type": "stream",
                    "text": [
                        " 0 0 1 3 0 4 1 7 0\n",
                        " 1   1 3 0 4 1 7 0\n",
                        " 2     2 1 5 0 6 1\n",
                        " 3       3 7 2 4 3\n",
                        " 4         4 1 7 0\n",
                        " 5           5 3 4\n",
                        " 6             6 1\n",
                        " 7               7\n"
                    ]
                }
            ],
            "source": [
                "def accxor(a, b):\n",
                "    a4, b4 = a % 4, b % 4\n",
                "    result = xor(range(a4, (b4 if b4 >= a4 else b4 + 4) + 1)) % 4\n",
                "    if b < 4:\n",
                "        return result\n",
                "    a2, b2 = a % 2, (b + 1) % 2\n",
                "    bit = 4\n",
                "    while bit <= b:\n",
                "        result += (a2 * ((a & bit) > 0) ^ b2 * ((b & bit) > 0)) * bit\n",
                "        bit *= 2\n",
                "    return result\n",
                "\n",
                "bit = 8\n",
                "for a in range(bit):\n",
                "    print(f\"{a:>2d}\", *(accxor(a, b) if a <= b else \" \" for b in range(bit)))"
            ]
        },
        {
            "cell_type": "code",
            "execution_count": 176,
            "metadata": {},
            "outputs": [],
            "source": [
                "def solution():\n",
                "    import sys\n",
                "    import functools\n",
                "    import operator\n",
                "\n",
                "    def xor(iterable):\n",
                "        return functools.reduce(operator.xor, iterable)\n",
                "\n",
                "    a, b = map(int, sys.stdin.readline().split())\n",
                "    a4, b4 = a % 4, b % 4\n",
                "    result = xor(range(a4, (b4 if b4 >= a4 else b4 + 4) + 1)) % 4\n",
                "    if b < 4:\n",
                "        print(result)\n",
                "        return\n",
                "    a2, b2 = a % 2, (b + 1) % 2\n",
                "    bit = 4\n",
                "    while bit <= b:\n",
                "        result += (a2 * ((a & bit) > 0) ^ b2 * ((b & bit) > 0)) * bit\n",
                "        bit *= 2\n",
                "    print(result)\n",
                "\n",
                "\n",
                "solution()"
            ]
        },
        {
            "cell_type": "markdown",
            "metadata": {},
            "source": [
                "## 예제"
            ]
        },
        {
            "cell_type": "code",
            "execution_count": 168,
            "metadata": {},
            "outputs": [
                {
                    "name": "stdout",
                    "output_type": "stream",
                    "text": [
                        "The blackcellmagic extension is already loaded. To reload it, use:\n",
                        "  %reload_ext blackcellmagic\n"
                    ]
                }
            ],
            "source": [
                "# black 모듈을 jupyter notebook 내에서 사용 가능하게 만들어주는 blackcellmagic 모듈 불러오기\n",
                "%load_ext blackcellmagic\n",
                "# %%black\n",
                "\n",
                "# 백준 문제 풀이용 예제 실행 코드\n",
                "from bwj import test\n",
                "test_solution = test(solution)\n",
                "\n",
                "# test_solution(\"\"\"\"\"\")\n",
                "# test_solution(read(\"fn\").read())"
            ]
        },
        {
            "cell_type": "code",
            "execution_count": 169,
            "metadata": {},
            "outputs": [
                {
                    "name": "stdout",
                    "output_type": "stream",
                    "text": [
                        "7\n"
                    ]
                }
            ],
            "source": [
                "test_solution(\"\"\"3 4\n",
                "\"\"\") # 7"
            ]
        },
        {
            "cell_type": "code",
            "execution_count": 170,
            "metadata": {},
            "outputs": [
                {
                    "name": "stdout",
                    "output_type": "stream",
                    "text": [
                        "2\n"
                    ]
                }
            ],
            "source": [
                "test_solution(\"\"\"3 5\n",
                "\"\"\") # 2"
            ]
        }
    ],
    "metadata": {
        "kernelspec": {
            "display_name": "Python 3.10.4 ('venv': venv)",
            "language": "python",
            "name": "python3"
        },
        "language_info": {
            "codemirror_mode": {
                "name": "ipython",
                "version": 3
            },
            "file_extension": ".py",
            "mimetype": "text/x-python",
            "name": "python",
            "nbconvert_exporter": "python",
            "pygments_lexer": "ipython3",
            "version": "3.10.4"
        },
        "orig_nbformat": 4,
        "vscode": {
            "interpreter": {
                "hash": "72904a014a9ffe38f4c58942120b599b3c5a87d06764037548e0139929c1cde3"
            }
        }
    },
    "nbformat": 4,
    "nbformat_minor": 2
}
