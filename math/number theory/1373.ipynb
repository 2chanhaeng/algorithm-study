{
  "cells": [
    {
      "cell_type": "markdown",
      "metadata": {},
      "source": [
        "# [백준/2진수 8진수](https://www.acmicpc.net/problem/1373)\n"
      ]
    },
    {
      "cell_type": "markdown",
      "metadata": {},
      "source": [
        "## 풀이과정\n"
      ]
    },
    {
      "cell_type": "markdown",
      "metadata": {},
      "source": [
        "### 첫번째 시도\n",
        "\n",
        "그냥 `oct(int(input()))[2:]` 쓰면 재미가 없어서 정석적으로 풀었는데 다른 정답을 보니 역시 처음에 생각했던 뻔한 답이 훨씬 빠름... 😑\n",
        "역시 파이썬은 파이써닉한게 짱인듯\n",
        "뭐 그래도 빵셔널하게 풀어서 나름 재밌었다.\n"
      ]
    },
    {
      "cell_type": "markdown",
      "metadata": {},
      "source": [
        "#### 풀이과정\n"
      ]
    },
    {
      "cell_type": "code",
      "execution_count": null,
      "metadata": {},
      "outputs": [],
      "source": [
        "def pipe(*fs):\n",
        "    def composed(x):\n",
        "        for f in fs:\n",
        "            x = f(x)\n",
        "        return x\n",
        "\n",
        "    return composed\n",
        "\n",
        "\n",
        "def _map(f):\n",
        "    return lambda xs: map(f, xs)\n",
        "\n",
        "\n",
        "def batch(n):\n",
        "    def inner(xs):\n",
        "        for i in range(0, len(xs), n):\n",
        "            yield xs[i : i + n]\n",
        "\n",
        "    return inner\n",
        "\n",
        "\n",
        "BIN_OCT_MAP = {\n",
        "    \"000\": \"0\",\n",
        "    \"001\": \"1\",\n",
        "    \"010\": \"2\",\n",
        "    \"011\": \"3\",\n",
        "    \"100\": \"4\",\n",
        "    \"101\": \"5\",\n",
        "    \"110\": \"6\",\n",
        "    \"111\": \"7\",\n",
        "}\n",
        "\n",
        "\n",
        "def com_3(n):\n",
        "    return 3 - n if n else 0\n",
        "\n",
        "\n",
        "def zfill_3(s):\n",
        "    return \"0\" * com_3(len(s) % 3) + s\n",
        "\n",
        "\n",
        "def strip(s):\n",
        "    return s.rstrip().lstrip(\"0\")\n",
        "\n",
        "\n",
        "def zero_if_zero(s):\n",
        "    return s if s else \"0\"\n",
        "\n",
        "\n",
        "def solution():\n",
        "    import sys\n",
        "\n",
        "    pipe(\n",
        "        strip,\n",
        "        zfill_3,\n",
        "        batch(3),\n",
        "        _map(BIN_OCT_MAP.__getitem__),\n",
        "        \"\".join,\n",
        "        zero_if_zero,\n",
        "        print,\n",
        "    )(sys.stdin.readline())\n",
        "\n",
        "\n",
        "solution()"
      ]
    },
    {
      "cell_type": "markdown",
      "metadata": {},
      "source": [
        "## 해답\n"
      ]
    },
    {
      "cell_type": "code",
      "execution_count": 51,
      "id": "a32ef00e",
      "metadata": {},
      "outputs": [],
      "source": [
        "def pipe(*fs):\n",
        "    def composed(x):\n",
        "        for f in fs:\n",
        "            x = f(x)\n",
        "        return x\n",
        "\n",
        "    return composed"
      ]
    },
    {
      "cell_type": "code",
      "execution_count": 52,
      "id": "2fbf0708",
      "metadata": {},
      "outputs": [],
      "source": [
        "def _map(f):\n",
        "    return lambda xs: map(f, xs)"
      ]
    },
    {
      "cell_type": "code",
      "execution_count": 53,
      "id": "dbcc4975",
      "metadata": {},
      "outputs": [],
      "source": [
        "def batch(n):\n",
        "    def inner(xs):\n",
        "        for i in range(0, len(xs), n):\n",
        "            yield xs[i : i + n]\n",
        "\n",
        "    return inner"
      ]
    },
    {
      "cell_type": "code",
      "execution_count": 54,
      "id": "4369b394",
      "metadata": {},
      "outputs": [],
      "source": [
        "BIN_OCT_MAP = {\n",
        "    \"000\": \"0\",\n",
        "    \"001\": \"1\",\n",
        "    \"010\": \"2\",\n",
        "    \"011\": \"3\",\n",
        "    \"100\": \"4\",\n",
        "    \"101\": \"5\",\n",
        "    \"110\": \"6\",\n",
        "    \"111\": \"7\",\n",
        "}\n",
        "\n",
        "\n",
        "def com_3(n):\n",
        "    return 3 - n if n else 0\n",
        "\n",
        "\n",
        "def zfill_3(s):\n",
        "    return \"0\" * com_3(len(s) % 3) + s\n",
        "\n",
        "\n",
        "def strip(s):\n",
        "    return s.rstrip().lstrip(\"0\")"
      ]
    },
    {
      "cell_type": "code",
      "execution_count": 55,
      "id": "9e4fe819",
      "metadata": {},
      "outputs": [],
      "source": [
        "def solution():\n",
        "    import sys\n",
        "\n",
        "    pipe(\n",
        "        strip,\n",
        "        zfill_3,\n",
        "        batch(3),\n",
        "        _map(BIN_OCT_MAP.__getitem__),\n",
        "        \"\".join,\n",
        "        print,\n",
        "    )(sys.stdin.readline())"
      ]
    },
    {
      "cell_type": "code",
      "execution_count": 80,
      "id": "3bab1d90",
      "metadata": {},
      "outputs": [],
      "source": [
        "BIN_OCT_MAP = {\n",
        "    \"000\": \"0\",\n",
        "    \"001\": \"1\",\n",
        "    \"010\": \"2\",\n",
        "    \"011\": \"3\",\n",
        "    \"100\": \"4\",\n",
        "    \"101\": \"5\",\n",
        "    \"110\": \"6\",\n",
        "    \"111\": \"7\",\n",
        "}\n",
        "\n",
        "\n",
        "def com_3(n):\n",
        "    return 3 - n if n else 0\n",
        "\n",
        "\n",
        "def zfill_3(s):\n",
        "    return \"0\" * com_3(len(s) % 3) + s\n",
        "\n",
        "\n",
        "def strip(s):\n",
        "    return s.rstrip().lstrip(\"0\")\n",
        "\n",
        "\n",
        "def zero_if_zero(s):\n",
        "    return s if s else \"0\""
      ]
    },
    {
      "cell_type": "code",
      "execution_count": 81,
      "id": "76f12679",
      "metadata": {},
      "outputs": [],
      "source": [
        "def solution():\n",
        "    import sys\n",
        "\n",
        "    pipe(\n",
        "        strip,\n",
        "        zfill_3,\n",
        "        batch(3),\n",
        "        _map(BIN_OCT_MAP.__getitem__),\n",
        "        \"\".join,\n",
        "        zero_if_zero,\n",
        "        print,\n",
        "    )(sys.stdin.readline())"
      ]
    },
    {
      "cell_type": "markdown",
      "metadata": {},
      "source": [
        "## 예제\n"
      ]
    },
    {
      "cell_type": "code",
      "execution_count": 82,
      "metadata": {},
      "outputs": [],
      "source": [
        "# 백준 문제 풀이용 예제 실행 코드\n",
        "from bwj import test\n",
        "\n",
        "test_solution = test(solution)\n",
        "\n",
        "# test_solution(\"\"\"\"\"\")\n",
        "# test_solution(read(\"fn\").read())"
      ]
    },
    {
      "cell_type": "code",
      "execution_count": 83,
      "metadata": {},
      "outputs": [
        {
          "name": "stdout",
          "output_type": "stream",
          "text": [
            "0\n"
          ]
        }
      ],
      "source": [
        "test_solution(\n",
        "    \"\"\"0\n",
        "\"\"\"\n",
        ")  # 314"
      ]
    },
    {
      "cell_type": "code",
      "execution_count": 84,
      "id": "682595c9",
      "metadata": {},
      "outputs": [
        {
          "name": "stdout",
          "output_type": "stream",
          "text": [
            "314\n"
          ]
        }
      ],
      "source": [
        "test_solution(\n",
        "    \"\"\"11001100\n",
        "\"\"\"\n",
        ")  # 314"
      ]
    }
  ],
  "metadata": {
    "kernelspec": {
      "display_name": "venv",
      "language": "python",
      "name": "python3"
    },
    "language_info": {
      "codemirror_mode": {
        "name": "ipython",
        "version": 3
      },
      "file_extension": ".py",
      "mimetype": "text/x-python",
      "name": "python",
      "nbconvert_exporter": "python",
      "pygments_lexer": "ipython3",
      "version": "3.12.10"
    }
  },
  "nbformat": 4,
  "nbformat_minor": 5
}
