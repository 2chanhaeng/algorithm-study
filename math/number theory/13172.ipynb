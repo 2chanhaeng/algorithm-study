{
    "cells": [
        {
            "cell_type": "markdown",
            "metadata": {},
            "source": [
                "# [백준/Σ](https://www.acmicpc.net/problem/13172)"
            ]
        },
        {
            "cell_type": "markdown",
            "metadata": {},
            "source": [
                "## 풀이과정"
            ]
        },
        {
            "cell_type": "markdown",
            "metadata": {},
            "source": [
                "### 첫번째 시도"
            ]
        },
        {
            "cell_type": "markdown",
            "metadata": {},
            "source": [
                "풀이과정"
            ]
        },
        {
            "cell_type": "code",
            "execution_count": null,
            "metadata": {},
            "outputs": [],
            "source": [
                "def solution():\n",
                "    import sys\n",
                "\n",
                "    input = map(int, sys.stdin.read().rstrip().split()).__next__\n",
                "    mod = 1_000_000_007\n",
                "    euclid = lambda a, b: euclid(b, a % b) if b else a\n",
                "    result = 0\n",
                "    for _ in range(input()):\n",
                "        a, b = input(), input()\n",
                "        g = euclid(a, b)\n",
                "        result += b // g * pow(a // g, -1, mod) % mod\n",
                "    result %= mod\n",
                "    \n",
                "    print(result)\n",
                "\n",
                "\n",
                "solution()"
            ]
        },
        {
            "cell_type": "markdown",
            "metadata": {},
            "source": [
                "## 해답"
            ]
        },
        {
            "cell_type": "code",
            "execution_count": 78,
            "metadata": {},
            "outputs": [],
            "source": [
                "def solution(open = open):\n",
                "    input = map(int, open(0).read().rstrip().split()).__next__\n",
                "    mod = 1_000_000_007\n",
                "    euclid = lambda a, b: euclid(b, a % b) if b else a\n",
                "    result = 0\n",
                "    for _ in range(input()):\n",
                "        a, b = input(), input()\n",
                "        g = euclid(a, b)\n",
                "        result += b // g * pow(a // g, -1, mod) % mod\n",
                "    result %= mod\n",
                "    print(result)\n",
                "    \n",
                "    "
            ]
        },
        {
            "cell_type": "markdown",
            "metadata": {},
            "source": [
                "## 예제"
            ]
        },
        {
            "cell_type": "code",
            "execution_count": 79,
            "metadata": {},
            "outputs": [],
            "source": [
                "# 백준 문제 풀이용 예제 실행 코드\n",
                "from bwj import test\n",
                "test_solution = test(solution)\n",
                "\n",
                "# test_solution(\"\"\"\"\"\")\n",
                "# test_solution(read(\"fn\").read())"
            ]
        },
        {
            "cell_type": "code",
            "execution_count": 80,
            "metadata": {},
            "outputs": [
                {
                    "name": "stdout",
                    "output_type": "stream",
                    "text": [
                        "333333341\n"
                    ]
                }
            ],
            "source": [
                "test_solution(\"\"\"3\n",
                "1 1\n",
                "4 8\n",
                "3 7\"\"\") # 333333338"
            ]
        },
        {
            "cell_type": "code",
            "execution_count": 81,
            "metadata": {},
            "outputs": [
                {
                    "name": "stdout",
                    "output_type": "stream",
                    "text": [
                        "333333338\n"
                    ]
                }
            ],
            "source": [
                "test_solution(\"\"\"1\n",
                "3 7\"\"\") # 333333338"
            ]
        }
    ],
    "metadata": {
        "interpreter": {
            "hash": "73891b0dc2e53390f36276e59930dd4ecab91b05b5c90320c2d5b1c443f87069"
        },
        "kernelspec": {
            "display_name": "Python 3.10.1 ('venv': venv)",
            "language": "python",
            "name": "python3"
        },
        "language_info": {
            "codemirror_mode": {
                "name": "ipython",
                "version": 3
            },
            "file_extension": ".py",
            "mimetype": "text/x-python",
            "name": "python",
            "nbconvert_exporter": "python",
            "pygments_lexer": "ipython3",
            "version": "3.10.4"
        },
        "orig_nbformat": 4
    },
    "nbformat": 4,
    "nbformat_minor": 2
}
