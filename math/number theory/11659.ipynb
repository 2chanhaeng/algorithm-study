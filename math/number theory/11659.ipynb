{
    "cells": [
        {
            "cell_type": "markdown",
            "metadata": {},
            "source": [
                "# [백준/구간 합 구하기 4](https://www.acmicpc.net/problem/11659)"
            ]
        },
        {
            "cell_type": "markdown",
            "metadata": {},
            "source": [
                "## 풀이과정"
            ]
        },
        {
            "cell_type": "markdown",
            "metadata": {},
            "source": [
                "### 첫번째 시도"
            ]
        },
        {
            "cell_type": "markdown",
            "metadata": {},
            "source": [
                "풀이과정"
            ]
        },
        {
            "cell_type": "code",
            "execution_count": null,
            "metadata": {},
            "outputs": [],
            "source": [
                "def solution(open = open):\n",
                "    input = iter(open(0).read().split(\"\\n\")).__next__\n",
                "    n, m = map(int, input().split())\n",
                "    nums = list(map(int, input().split()))\n",
                "    for _ in range(m):\n",
                "        i, j = map(int, input().split())\n",
                "        print(sum(nums[i - 1:j]))\n",
                "solution()"
            ]
        },
        {
            "cell_type": "markdown",
            "metadata": {},
            "source": [
                "### 두번째 시도"
            ]
        },
        {
            "cell_type": "markdown",
            "metadata": {},
            "source": [
                "풀이과정"
            ]
        },
        {
            "cell_type": "code",
            "execution_count": null,
            "metadata": {},
            "outputs": [],
            "source": [
                "def solution(open = open):\n",
                "    input = iter(open(0).read().split(\"\\n\")).__next__\n",
                "    n, m = map(int, input().split())\n",
                "    nums = list(map(int, input().split()))\n",
                "    sums = [0] * m\n",
                "    ranges = [(int(i), int(j)) for i, j in (input().split() for _ in range(m))]\n",
                "    for k, num in enumerate(nums, start=1):\n",
                "        for i, (l, r) in enumerate(ranges):\n",
                "            if l <= k <= r:\n",
                "                sums[i] += num\n",
                "    print(*sums, sep=\"\\n\")\n",
                "solution()"
            ]
        },
        {
            "cell_type": "markdown",
            "metadata": {},
            "source": [
                "### 세번째 시도"
            ]
        },
        {
            "cell_type": "markdown",
            "metadata": {},
            "source": [
                "풀이과정"
            ]
        },
        {
            "cell_type": "code",
            "execution_count": null,
            "metadata": {},
            "outputs": [],
            "source": [
                "def solution(input = iter(open(0).read().split(\"\\n\")).__next__):\n",
                "    n, m = map(int, input().split())\n",
                "    presums = [0]\n",
                "    presum = 0\n",
                "    for num in map(int, input().split()):\n",
                "        presum += num\n",
                "        presums.append(presum)\n",
                "    for _ in range(m):\n",
                "        i, j = map(int, input().split())\n",
                "        print(presums[j] - presums[i - 1])\n",
                "solution()"
            ]
        },
        {
            "cell_type": "markdown",
            "metadata": {},
            "source": [
                "## 해답"
            ]
        },
        {
            "cell_type": "code",
            "execution_count": null,
            "metadata": {},
            "outputs": [],
            "source": [
                "def solution(open = open):\n",
                "    input = map(int, open(0).read().split()).__next__\n",
                "    n, m = input(), input()\n",
                "    presums = [0]\n",
                "    presum = 0\n",
                "    for _ in range(n):\n",
                "        num = input()\n",
                "        presum += num\n",
                "        presums.append(presum)\n",
                "    for _ in range(m):\n",
                "        i = input() - 1\n",
                "        print(presums[input()] - presums[i])"
            ]
        },
        {
            "cell_type": "code",
            "execution_count": 56,
            "metadata": {},
            "outputs": [
                {
                    "ename": "ValueError",
                    "evalue": "too many values to unpack (expected 0)",
                    "output_type": "error",
                    "traceback": [
                        "\u001b[1;31m---------------------------------------------------------------------------\u001b[0m",
                        "\u001b[1;31mValueError\u001b[0m                                Traceback (most recent call last)",
                        "\u001b[1;32mc:\\Users\\이찬행\\OneDrive - 충남대학교\\문서\\GitHub\\algorithm-study\\solving\\11659.ipynb Cell 14'\u001b[0m in \u001b[0;36m<cell line: 1>\u001b[1;34m()\u001b[0m\n\u001b[1;32m----> <a href='vscode-notebook-cell:/c%3A/Users/%EC%9D%B4%EC%B0%AC%ED%96%89/OneDrive%20-%20%EC%B6%A9%EB%82%A8%EB%8C%80%ED%95%99%EA%B5%90/%EB%AC%B8%EC%84%9C/GitHub/algorithm-study/solving/11659.ipynb#ch0000019?line=0'>1</a>\u001b[0m \u001b[39mfor\u001b[39;00m()\u001b[39min\u001b[39;00m[_]\u001b[39m*\u001b[39m\u001b[39m2\u001b[39m:\u001b[39mprint\u001b[39m(\u001b[39m12\u001b[39m)\n\u001b[0;32m      <a href='vscode-notebook-cell:/c%3A/Users/%EC%9D%B4%EC%B0%AC%ED%96%89/OneDrive%20-%20%EC%B6%A9%EB%82%A8%EB%8C%80%ED%95%99%EA%B5%90/%EB%AC%B8%EC%84%9C/GitHub/algorithm-study/solving/11659.ipynb#ch0000019?line=1'>2</a>\u001b[0m \u001b[39mfor\u001b[39;00m _ \u001b[39min\u001b[39;00m\u001b[39m\"\u001b[39m\u001b[39m \u001b[39m\u001b[39m\"\u001b[39m\u001b[39m*\u001b[39m\u001b[39m2\u001b[39m:\u001b[39mprint\u001b[39m(\u001b[39m12\u001b[39m)\n\u001b[0;32m      <a href='vscode-notebook-cell:/c%3A/Users/%EC%9D%B4%EC%B0%AC%ED%96%89/OneDrive%20-%20%EC%B6%A9%EB%82%A8%EB%8C%80%ED%95%99%EA%B5%90/%EB%AC%B8%EC%84%9C/GitHub/algorithm-study/solving/11659.ipynb#ch0000019?line=2'>3</a>\u001b[0m \u001b[39mprint\u001b[39m(\u001b[39m*\u001b[39m[\u001b[39m12\u001b[39m]\u001b[39m*\u001b[39m\u001b[39m2\u001b[39m,sep\u001b[39m=\u001b[39m\u001b[39m\"\u001b[39m\u001b[39m\\n\u001b[39;00m\u001b[39m\"\u001b[39m)\n",
                        "\u001b[1;31mValueError\u001b[0m: too many values to unpack (expected 0)"
                    ]
                }
            ],
            "source": [
                "for()in[_]*2:print(12)\n",
                "for _ in\" \"*2:print(12)\n",
                "print(*[12]*2,sep=\"\\n\")\n"
            ]
        },
        {
            "cell_type": "code",
            "execution_count": 37,
            "metadata": {},
            "outputs": [],
            "source": [
                "def solution(open):\n",
                " q=map(int, open(0).read().split()).__next__\n",
                " n,m=q(),q();x=0;y=[0]+[(x:=x+q()) for _ in range(n)];print(y);[print(-y[q()-1]+y[q()]) for _ in range(m)]"
            ]
        },
        {
            "cell_type": "markdown",
            "metadata": {},
            "source": [
                "## 예제"
            ]
        },
        {
            "cell_type": "code",
            "execution_count": 38,
            "metadata": {},
            "outputs": [],
            "source": [
                "# 백준 문제 풀이용 예제 실행 코드\n",
                "from bwj import test\n",
                "test_solution = test(solution)\n",
                "\n",
                "# test_solution(\"\"\"\"\"\")\n",
                "# test_solution(read(\"fn\").read())"
            ]
        },
        {
            "cell_type": "code",
            "execution_count": 39,
            "metadata": {},
            "outputs": [
                {
                    "ename": "TypeError",
                    "evalue": "cannot unpack non-iterable int object",
                    "output_type": "error",
                    "traceback": [
                        "\u001b[1;31m---------------------------------------------------------------------------\u001b[0m",
                        "\u001b[1;31mTypeError\u001b[0m                                 Traceback (most recent call last)",
                        "\u001b[1;32mc:\\Users\\이찬행\\OneDrive - 충남대학교\\문서\\GitHub\\algorithm-study\\solving\\11659.ipynb Cell 17'\u001b[0m in \u001b[0;36m<cell line: 1>\u001b[1;34m()\u001b[0m\n\u001b[1;32m----> <a href='vscode-notebook-cell:/c%3A/Users/%EC%9D%B4%EC%B0%AC%ED%96%89/OneDrive%20-%20%EC%B6%A9%EB%82%A8%EB%8C%80%ED%95%99%EA%B5%90/%EB%AC%B8%EC%84%9C/GitHub/algorithm-study/solving/11659.ipynb#ch0000010?line=0'>1</a>\u001b[0m test_solution(\u001b[39m\"\"\"\u001b[39;49m\u001b[39m5 3\u001b[39;49m\n\u001b[0;32m      <a href='vscode-notebook-cell:/c%3A/Users/%EC%9D%B4%EC%B0%AC%ED%96%89/OneDrive%20-%20%EC%B6%A9%EB%82%A8%EB%8C%80%ED%95%99%EA%B5%90/%EB%AC%B8%EC%84%9C/GitHub/algorithm-study/solving/11659.ipynb#ch0000010?line=1'>2</a>\u001b[0m \u001b[39m5 4 3 2 1\u001b[39;49m\n\u001b[0;32m      <a href='vscode-notebook-cell:/c%3A/Users/%EC%9D%B4%EC%B0%AC%ED%96%89/OneDrive%20-%20%EC%B6%A9%EB%82%A8%EB%8C%80%ED%95%99%EA%B5%90/%EB%AC%B8%EC%84%9C/GitHub/algorithm-study/solving/11659.ipynb#ch0000010?line=2'>3</a>\u001b[0m \u001b[39m1 3\u001b[39;49m\n\u001b[0;32m      <a href='vscode-notebook-cell:/c%3A/Users/%EC%9D%B4%EC%B0%AC%ED%96%89/OneDrive%20-%20%EC%B6%A9%EB%82%A8%EB%8C%80%ED%95%99%EA%B5%90/%EB%AC%B8%EC%84%9C/GitHub/algorithm-study/solving/11659.ipynb#ch0000010?line=3'>4</a>\u001b[0m \u001b[39m2 4\u001b[39;49m\n\u001b[0;32m      <a href='vscode-notebook-cell:/c%3A/Users/%EC%9D%B4%EC%B0%AC%ED%96%89/OneDrive%20-%20%EC%B6%A9%EB%82%A8%EB%8C%80%ED%95%99%EA%B5%90/%EB%AC%B8%EC%84%9C/GitHub/algorithm-study/solving/11659.ipynb#ch0000010?line=4'>5</a>\u001b[0m \u001b[39m5 5\u001b[39;49m\u001b[39m\"\"\"\u001b[39;49m)\n",
                        "File \u001b[1;32mc:\\Users\\이찬행\\OneDrive - 충남대학교\\문서\\GitHub\\algorithm-study\\venv\\lib\\site-packages\\bwj\\__init__.py:103\u001b[0m, in \u001b[0;36mtest.<locals>.test_example\u001b[1;34m(input_)\u001b[0m\n\u001b[0;32m    <a href='file:///c%3A/Users/%EC%9D%B4%EC%B0%AC%ED%96%89/OneDrive%20-%20%EC%B6%A9%EB%82%A8%EB%8C%80%ED%95%99%EA%B5%90/%EB%AC%B8%EC%84%9C/GitHub/algorithm-study/venv/lib/site-packages/bwj/__init__.py?line=99'>100</a>\u001b[0m         \u001b[39mdef\u001b[39;00m \u001b[39m__iter__\u001b[39m(\u001b[39mself\u001b[39m):\n\u001b[0;32m    <a href='file:///c%3A/Users/%EC%9D%B4%EC%B0%AC%ED%96%89/OneDrive%20-%20%EC%B6%A9%EB%82%A8%EB%8C%80%ED%95%99%EA%B5%90/%EB%AC%B8%EC%84%9C/GitHub/algorithm-study/venv/lib/site-packages/bwj/__init__.py?line=100'>101</a>\u001b[0m             \u001b[39mreturn\u001b[39;00m \u001b[39miter\u001b[39m(input_\u001b[39m.\u001b[39msplit(\u001b[39m\"\u001b[39m\u001b[39m\\n\u001b[39;00m\u001b[39m\"\u001b[39m))\n\u001b[1;32m--> <a href='file:///c%3A/Users/%EC%9D%B4%EC%B0%AC%ED%96%89/OneDrive%20-%20%EC%B6%A9%EB%82%A8%EB%8C%80%ED%95%99%EA%B5%90/%EB%AC%B8%EC%84%9C/GitHub/algorithm-study/venv/lib/site-packages/bwj/__init__.py?line=102'>103</a>\u001b[0m     solution(\u001b[39mopen\u001b[39;49m)\n\u001b[0;32m    <a href='file:///c%3A/Users/%EC%9D%B4%EC%B0%AC%ED%96%89/OneDrive%20-%20%EC%B6%A9%EB%82%A8%EB%8C%80%ED%95%99%EA%B5%90/%EB%AC%B8%EC%84%9C/GitHub/algorithm-study/venv/lib/site-packages/bwj/__init__.py?line=104'>105</a>\u001b[0m \u001b[39melif\u001b[39;00m \u001b[39m\"\u001b[39m\u001b[39minput\u001b[39m\u001b[39m\"\u001b[39m \u001b[39min\u001b[39;00m params:\n\u001b[0;32m    <a href='file:///c%3A/Users/%EC%9D%B4%EC%B0%AC%ED%96%89/OneDrive%20-%20%EC%B6%A9%EB%82%A8%EB%8C%80%ED%95%99%EA%B5%90/%EB%AC%B8%EC%84%9C/GitHub/algorithm-study/venv/lib/site-packages/bwj/__init__.py?line=105'>106</a>\u001b[0m     input_: Iterator[\u001b[39mstr\u001b[39m] \u001b[39m=\u001b[39m \u001b[39miter\u001b[39m(input_\u001b[39m.\u001b[39msplit(\u001b[39m\"\u001b[39m\u001b[39m\\n\u001b[39;00m\u001b[39m\"\u001b[39m))\n",
                        "\u001b[1;32mc:\\Users\\이찬행\\OneDrive - 충남대학교\\문서\\GitHub\\algorithm-study\\solving\\11659.ipynb Cell 14'\u001b[0m in \u001b[0;36msolution\u001b[1;34m(open)\u001b[0m\n\u001b[0;32m      <a href='vscode-notebook-cell:/c%3A/Users/%EC%9D%B4%EC%B0%AC%ED%96%89/OneDrive%20-%20%EC%B6%A9%EB%82%A8%EB%8C%80%ED%95%99%EA%B5%90/%EB%AC%B8%EC%84%9C/GitHub/algorithm-study/solving/11659.ipynb#ch0000017?line=0'>1</a>\u001b[0m \u001b[39mdef\u001b[39;00m \u001b[39msolution\u001b[39m(\u001b[39mopen\u001b[39m):\n\u001b[0;32m      <a href='vscode-notebook-cell:/c%3A/Users/%EC%9D%B4%EC%B0%AC%ED%96%89/OneDrive%20-%20%EC%B6%A9%EB%82%A8%EB%8C%80%ED%95%99%EA%B5%90/%EB%AC%B8%EC%84%9C/GitHub/algorithm-study/solving/11659.ipynb#ch0000017?line=1'>2</a>\u001b[0m  q\u001b[39m=\u001b[39m\u001b[39mmap\u001b[39m(\u001b[39mint\u001b[39m, \u001b[39mopen\u001b[39m(\u001b[39m0\u001b[39m)\u001b[39m.\u001b[39mread()\u001b[39m.\u001b[39msplit())\u001b[39m.\u001b[39m\u001b[39m__next__\u001b[39m\n\u001b[1;32m----> <a href='vscode-notebook-cell:/c%3A/Users/%EC%9D%B4%EC%B0%AC%ED%96%89/OneDrive%20-%20%EC%B6%A9%EB%82%A8%EB%8C%80%ED%95%99%EA%B5%90/%EB%AC%B8%EC%84%9C/GitHub/algorithm-study/solving/11659.ipynb#ch0000017?line=2'>3</a>\u001b[0m  n,m\u001b[39m=\u001b[39mq(),q();x\u001b[39m=\u001b[39m\u001b[39m0\u001b[39m;y\u001b[39m=\u001b[39m[\u001b[39m0\u001b[39m]\u001b[39m+\u001b[39m[(x\u001b[39m:=\u001b[39mx\u001b[39m+\u001b[39mq()) \u001b[39mfor\u001b[39;00m()\u001b[39min\u001b[39;00m \u001b[39mrange\u001b[39m(n)];\u001b[39mprint\u001b[39m(y);[\u001b[39mprint\u001b[39m(\u001b[39m-\u001b[39my[q()\u001b[39m-\u001b[39m\u001b[39m1\u001b[39m]\u001b[39m+\u001b[39my[q()]) \u001b[39mfor\u001b[39;00m()\u001b[39min\u001b[39;00m \u001b[39mrange\u001b[39m(m)]\n",
                        "\u001b[1;32mc:\\Users\\이찬행\\OneDrive - 충남대학교\\문서\\GitHub\\algorithm-study\\solving\\11659.ipynb Cell 14'\u001b[0m in \u001b[0;36m<listcomp>\u001b[1;34m(.0)\u001b[0m\n\u001b[0;32m      <a href='vscode-notebook-cell:/c%3A/Users/%EC%9D%B4%EC%B0%AC%ED%96%89/OneDrive%20-%20%EC%B6%A9%EB%82%A8%EB%8C%80%ED%95%99%EA%B5%90/%EB%AC%B8%EC%84%9C/GitHub/algorithm-study/solving/11659.ipynb#ch0000017?line=0'>1</a>\u001b[0m \u001b[39mdef\u001b[39;00m \u001b[39msolution\u001b[39m(\u001b[39mopen\u001b[39m):\n\u001b[0;32m      <a href='vscode-notebook-cell:/c%3A/Users/%EC%9D%B4%EC%B0%AC%ED%96%89/OneDrive%20-%20%EC%B6%A9%EB%82%A8%EB%8C%80%ED%95%99%EA%B5%90/%EB%AC%B8%EC%84%9C/GitHub/algorithm-study/solving/11659.ipynb#ch0000017?line=1'>2</a>\u001b[0m  q\u001b[39m=\u001b[39m\u001b[39mmap\u001b[39m(\u001b[39mint\u001b[39m, \u001b[39mopen\u001b[39m(\u001b[39m0\u001b[39m)\u001b[39m.\u001b[39mread()\u001b[39m.\u001b[39msplit())\u001b[39m.\u001b[39m\u001b[39m__next__\u001b[39m\n\u001b[1;32m----> <a href='vscode-notebook-cell:/c%3A/Users/%EC%9D%B4%EC%B0%AC%ED%96%89/OneDrive%20-%20%EC%B6%A9%EB%82%A8%EB%8C%80%ED%95%99%EA%B5%90/%EB%AC%B8%EC%84%9C/GitHub/algorithm-study/solving/11659.ipynb#ch0000017?line=2'>3</a>\u001b[0m  n,m\u001b[39m=\u001b[39mq(),q();x\u001b[39m=\u001b[39m\u001b[39m0\u001b[39m;y\u001b[39m=\u001b[39m[\u001b[39m0\u001b[39m]\u001b[39m+\u001b[39m[(x\u001b[39m:=\u001b[39mx\u001b[39m+\u001b[39mq()) \u001b[39mfor\u001b[39;00m()\u001b[39min\u001b[39;00m \u001b[39mrange\u001b[39m(n)];\u001b[39mprint\u001b[39m(y);[\u001b[39mprint\u001b[39m(\u001b[39m-\u001b[39my[q()\u001b[39m-\u001b[39m\u001b[39m1\u001b[39m]\u001b[39m+\u001b[39my[q()]) \u001b[39mfor\u001b[39;00m()\u001b[39min\u001b[39;00m \u001b[39mrange\u001b[39m(m)]\n",
                        "\u001b[1;31mTypeError\u001b[0m: cannot unpack non-iterable int object"
                    ]
                }
            ],
            "source": [
                "test_solution(\"\"\"5 3\n",
                "5 4 3 2 1\n",
                "1 3\n",
                "2 4\n",
                "5 5\"\"\")\n",
                "# answer:\n",
                "# 12\n",
                "# 9\n",
                "# 1"
            ]
        }
    ],
    "metadata": {
        "interpreter": {
            "hash": "73891b0dc2e53390f36276e59930dd4ecab91b05b5c90320c2d5b1c443f87069"
        },
        "kernelspec": {
            "display_name": "Python 3.10.1 ('venv': venv)",
            "language": "python",
            "name": "python3"
        },
        "language_info": {
            "codemirror_mode": {
                "name": "ipython",
                "version": 3
            },
            "file_extension": ".py",
            "mimetype": "text/x-python",
            "name": "python",
            "nbconvert_exporter": "python",
            "pygments_lexer": "ipython3",
            "version": "3.10.2"
        },
        "orig_nbformat": 4
    },
    "nbformat": 4,
    "nbformat_minor": 2
}
