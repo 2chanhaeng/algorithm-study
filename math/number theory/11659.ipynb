{
    "cells": [
        {
            "cell_type": "markdown",
            "metadata": {},
            "source": [
                "# [백준/구간 합 구하기 4](https://www.acmicpc.net/problem/11659)"
            ]
        },
        {
            "cell_type": "markdown",
            "metadata": {},
            "source": [
                "## 풀이과정"
            ]
        },
        {
            "cell_type": "markdown",
            "metadata": {},
            "source": [
                "### 첫번째 시도"
            ]
        },
        {
            "cell_type": "markdown",
            "metadata": {},
            "source": [
                "풀이과정"
            ]
        },
        {
            "cell_type": "code",
            "execution_count": null,
            "metadata": {},
            "outputs": [],
            "source": [
                "def solution(open = open):\n",
                "    input = iter(open(0).read().split(\"\\n\")).__next__\n",
                "    n, m = map(int, input().split())\n",
                "    nums = list(map(int, input().split()))\n",
                "    for _ in range(m):\n",
                "        i, j = map(int, input().split())\n",
                "        print(sum(nums[i - 1:j]))\n",
                "solution()"
            ]
        },
        {
            "cell_type": "markdown",
            "metadata": {},
            "source": [
                "### 두번째 시도"
            ]
        },
        {
            "cell_type": "markdown",
            "metadata": {},
            "source": [
                "풀이과정"
            ]
        },
        {
            "cell_type": "code",
            "execution_count": null,
            "metadata": {},
            "outputs": [],
            "source": [
                "def solution(open = open):\n",
                "    input = iter(open(0).read().split(\"\\n\")).__next__\n",
                "    n, m = map(int, input().split())\n",
                "    nums = list(map(int, input().split()))\n",
                "    sums = [0] * m\n",
                "    ranges = [(int(i), int(j)) for i, j in (input().split() for _ in range(m))]\n",
                "    for k, num in enumerate(nums, start=1):\n",
                "        for i, (l, r) in enumerate(ranges):\n",
                "            if l <= k <= r:\n",
                "                sums[i] += num\n",
                "    print(*sums, sep=\"\\n\")\n",
                "solution()"
            ]
        },
        {
            "cell_type": "markdown",
            "metadata": {},
            "source": [
                "### 세번째 시도"
            ]
        },
        {
            "cell_type": "markdown",
            "metadata": {},
            "source": [
                "풀이과정"
            ]
        },
        {
            "cell_type": "code",
            "execution_count": null,
            "metadata": {},
            "outputs": [],
            "source": [
                "def solution(input = iter(open(0).read().split(\"\\n\")).__next__):\n",
                "    n, m = map(int, input().split())\n",
                "    presums = [0]\n",
                "    presum = 0\n",
                "    for num in map(int, input().split()):\n",
                "        presum += num\n",
                "        presums.append(presum)\n",
                "    for _ in range(m):\n",
                "        i, j = map(int, input().split())\n",
                "        print(presums[j] - presums[i - 1])\n",
                "solution()"
            ]
        },
        {
            "cell_type": "markdown",
            "metadata": {},
            "source": [
                "### 코드골프"
            ]
        },
        {
            "cell_type": "code",
            "execution_count": null,
            "metadata": {},
            "outputs": [],
            "source": [
                "q=map(int,open(0).read().split()).__next__;n,m=q(),q();y=[x:=0]+[x:=x+q()for()in[[]]*n];print(*eval(\"-y[q()-1]+y[q()],\"*m))"
            ]
        },
        {
            "cell_type": "markdown",
            "metadata": {},
            "source": [
                "<img alt=\"2022년 4월 30일 5시 기준 11659번 숏코드 123바이트로 1위\" src=\"../../img/11659번 숏코딩 - 1 페이지.png\">"
            ]
        },
        {
            "cell_type": "markdown",
            "metadata": {},
            "source": [
                "## 해답"
            ]
        },
        {
            "cell_type": "code",
            "execution_count": 1,
            "metadata": {},
            "outputs": [],
            "source": [
                "def solution(open = open):\n",
                "    input = map(int, open(0).read().split()).__next__\n",
                "    n, m = input(), input()\n",
                "    presums = [0]\n",
                "    presum = 0\n",
                "    for _ in range(n):\n",
                "        num = input()\n",
                "        presum += num\n",
                "        presums.append(presum)\n",
                "    for _ in range(m):\n",
                "        i = input() - 1\n",
                "        print(presums[input()] - presums[i])"
            ]
        },
        {
            "cell_type": "markdown",
            "metadata": {},
            "source": [
                "## 예제"
            ]
        },
        {
            "cell_type": "code",
            "execution_count": 2,
            "metadata": {},
            "outputs": [],
            "source": [
                "# 백준 문제 풀이용 예제 실행 코드\n",
                "from bwj import test\n",
                "test_solution = test(solution)\n",
                "\n",
                "# test_solution(\"\"\"\"\"\")\n",
                "# test_solution(read(\"fn\").read())"
            ]
        },
        {
            "cell_type": "code",
            "execution_count": 3,
            "metadata": {},
            "outputs": [
                {
                    "name": "stdout",
                    "output_type": "stream",
                    "text": [
                        "12\n",
                        "9\n",
                        "1\n"
                    ]
                }
            ],
            "source": [
                "test_solution(\"\"\"5 3\n",
                "5 4 3 2 1\n",
                "1 3\n",
                "2 4\n",
                "5 5\"\"\")\n",
                "# answer:\n",
                "# 12\n",
                "# 9\n",
                "# 1"
            ]
        }
    ],
    "metadata": {
        "interpreter": {
            "hash": "73891b0dc2e53390f36276e59930dd4ecab91b05b5c90320c2d5b1c443f87069"
        },
        "kernelspec": {
            "display_name": "Python 3.10.1 ('venv': venv)",
            "language": "python",
            "name": "python3"
        },
        "language_info": {
            "codemirror_mode": {
                "name": "ipython",
                "version": 3
            },
            "file_extension": ".py",
            "mimetype": "text/x-python",
            "name": "python",
            "nbconvert_exporter": "python",
            "pygments_lexer": "ipython3",
            "version": "3.10.1"
        },
        "orig_nbformat": 4
    },
    "nbformat": 4,
    "nbformat_minor": 2
}
