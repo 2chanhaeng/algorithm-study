{
 "cells": [
  {
   "cell_type": "markdown",
   "metadata": {},
   "source": [
    "# [백준/구간 합 구하기 4](https://www.acmicpc.net/problem/11659)"
   ]
  },
  {
   "cell_type": "markdown",
   "metadata": {},
   "source": [
    "## 풀이과정"
   ]
  },
  {
   "cell_type": "markdown",
   "metadata": {},
   "source": [
    "### 첫번째 시도"
   ]
  },
  {
   "cell_type": "markdown",
   "metadata": {},
   "source": [
    "풀이과정"
   ]
  },
  {
   "cell_type": "code",
   "execution_count": null,
   "metadata": {},
   "outputs": [],
   "source": [
    "def solution(open=open):\n",
    "    input = iter(open(0).read().split(\"\\n\")).__next__\n",
    "    n, m = map(int, input().split())\n",
    "    nums = list(map(int, input().split()))\n",
    "    for _ in range(m):\n",
    "        i, j = map(int, input().split())\n",
    "        print(sum(nums[i - 1 : j]))\n",
    "\n",
    "\n",
    "solution()"
   ]
  },
  {
   "cell_type": "markdown",
   "metadata": {},
   "source": [
    "### 두번째 시도"
   ]
  },
  {
   "cell_type": "markdown",
   "metadata": {},
   "source": [
    "풀이과정"
   ]
  },
  {
   "cell_type": "code",
   "execution_count": null,
   "metadata": {},
   "outputs": [],
   "source": [
    "def solution(open=open):\n",
    "    input = iter(open(0).read().split(\"\\n\")).__next__\n",
    "    n, m = map(int, input().split())\n",
    "    nums = list(map(int, input().split()))\n",
    "    sums = [0] * m\n",
    "    ranges = [(int(i), int(j)) for i, j in (input().split() for _ in range(m))]\n",
    "    for k, num in enumerate(nums, start=1):\n",
    "        for i, (l, r) in enumerate(ranges):\n",
    "            if l <= k <= r:\n",
    "                sums[i] += num\n",
    "    print(*sums, sep=\"\\n\")\n",
    "\n",
    "\n",
    "solution()"
   ]
  },
  {
   "cell_type": "markdown",
   "metadata": {},
   "source": [
    "### 세번째 시도"
   ]
  },
  {
   "cell_type": "markdown",
   "metadata": {},
   "source": [
    "풀이과정"
   ]
  },
  {
   "cell_type": "code",
   "execution_count": null,
   "metadata": {},
   "outputs": [],
   "source": [
    "def solution(input=iter(open(0).read().split(\"\\n\")).__next__):\n",
    "    n, m = map(int, input().split())\n",
    "    presums = [0]\n",
    "    presum = 0\n",
    "    for num in map(int, input().split()):\n",
    "        presum += num\n",
    "        presums.append(presum)\n",
    "    for _ in range(m):\n",
    "        i, j = map(int, input().split())\n",
    "        print(presums[j] - presums[i - 1])\n",
    "\n",
    "\n",
    "solution()"
   ]
  },
  {
   "cell_type": "markdown",
   "metadata": {},
   "source": [
    "### 코드골프"
   ]
  },
  {
   "cell_type": "code",
   "execution_count": null,
   "metadata": {},
   "outputs": [],
   "source": [
    "q = map(int, open(0).read().split()).__next__\n",
    "n, m = q(), q()\n",
    "y = [x := 0] + [x := x + q() for () in [[]] * n]\n",
    "print(*eval(\"-y[q()-1]+y[q()],\" * m))"
   ]
  },
  {
   "cell_type": "markdown",
   "metadata": {},
   "source": [
    "<img alt=\"2022년 4월 30일 5시 기준 11659번 숏코드 123바이트로 1위\" src=\"../../img/11659번 숏코딩 - 1 페이지.png\">"
   ]
  },
  {
   "attachments": {},
   "cell_type": "markdown",
   "metadata": {},
   "source": [
    "### 네번째 시도"
   ]
  },
  {
   "attachments": {},
   "cell_type": "markdown",
   "metadata": {},
   "source": [
    "풀이과정\n",
    "\n",
    "어떤 분이 내 코드를 봤다고 하길래 들어가보니 [더 빠른 코드](https://www.acmicpc.net/source/54307574)가 있었다.  \n",
    "그래서 해당 코드를 참고하여 내 코드에 적용해보았다.  "
   ]
  },
  {
   "cell_type": "code",
   "execution_count": null,
   "metadata": {},
   "outputs": [],
   "source": [
    "# refer https://www.acmicpc.net/source/54307574\n",
    "def solution():\n",
    "    import sys\n",
    "    import itertools\n",
    "\n",
    "    inputs = map(str.split, sys.stdin.read().splitlines()[1:])\n",
    "    acc = list(itertools.accumulate(map(int, next(inputs)), initial=0))\n",
    "    print(\" \".join(str(acc[int(b)] - acc[int(a) - 1]) for a, b in inputs))\n",
    "\n",
    "\n",
    "solution()"
   ]
  },
  {
   "cell_type": "markdown",
   "metadata": {},
   "source": [
    "## 해답"
   ]
  },
  {
   "cell_type": "code",
   "execution_count": 1,
   "metadata": {},
   "outputs": [],
   "source": [
    "# refer https://www.acmicpc.net/source/54307574\n",
    "def solution():\n",
    "    import sys\n",
    "    import itertools\n",
    "\n",
    "    inputs = map(str.split, sys.stdin.read().splitlines()[1:])\n",
    "    acc = list(itertools.accumulate(map(int, next(inputs)), initial=0))\n",
    "    print(\" \".join(str(acc[int(b)] - acc[int(a) - 1]) for a, b in inputs))"
   ]
  },
  {
   "cell_type": "markdown",
   "metadata": {},
   "source": [
    "## 예제"
   ]
  },
  {
   "cell_type": "code",
   "execution_count": 2,
   "metadata": {},
   "outputs": [],
   "source": [
    "%load_ext blackcellmagic\n",
    "# 백준 문제 풀이용 예제 실행 코드\n",
    "from bwj import test\n",
    "\n",
    "test_solution = test(solution)\n",
    "\n",
    "# test_solution(\"\"\"\"\"\")\n",
    "# test_solution(read(\"fn\").read())"
   ]
  },
  {
   "cell_type": "code",
   "execution_count": 3,
   "metadata": {},
   "outputs": [
    {
     "name": "stdout",
     "output_type": "stream",
     "text": [
      "12 9 1\n"
     ]
    }
   ],
   "source": [
    "test_solution(\n",
    "    \"\"\"5 3\n",
    "5 4 3 2 1\n",
    "1 3\n",
    "2 4\n",
    "5 5\"\"\"\n",
    ")\n",
    "# answer:\n",
    "# 12\n",
    "# 9\n",
    "# 1"
   ]
  }
 ],
 "metadata": {
  "kernelspec": {
   "display_name": "venv",
   "language": "python",
   "name": "python3"
  },
  "language_info": {
   "codemirror_mode": {
    "name": "ipython",
    "version": 3
   },
   "file_extension": ".py",
   "mimetype": "text/x-python",
   "name": "python",
   "nbconvert_exporter": "python",
   "pygments_lexer": "ipython3",
   "version": "3.10.8"
  },
  "orig_nbformat": 4,
  "vscode": {
   "interpreter": {
    "hash": "72904a014a9ffe38f4c58942120b599b3c5a87d06764037548e0139929c1cde3"
   }
  }
 },
 "nbformat": 4,
 "nbformat_minor": 2
}
