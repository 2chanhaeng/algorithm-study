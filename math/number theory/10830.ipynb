{
 "cells": [
  {
   "cell_type": "markdown",
   "metadata": {},
   "source": [
    "# [백준/행렬 제곱](https://www.acmicpc.net/problem/10830)"
   ]
  },
  {
   "cell_type": "markdown",
   "metadata": {},
   "source": [
    "## 풀이과정"
   ]
  },
  {
   "cell_type": "markdown",
   "metadata": {},
   "source": [
    "### 첫번째 시도"
   ]
  },
  {
   "cell_type": "markdown",
   "metadata": {},
   "source": [
    "풀이과정"
   ]
  },
  {
   "cell_type": "code",
   "execution_count": 19,
   "metadata": {},
   "outputs": [],
   "source": [
    "def solution():\n",
    "    import sys\n",
    "    from copy import deepcopy as dc\n",
    "\n",
    "    input = sys.stdin.readline\n",
    "    n, b = map(int, input().split())\n",
    "    mod = 1000\n",
    "    a = [list(map(lambda x: int(x) % mod, input().split())) for _ in range(n)]\n",
    "    mul = lambda a, b: [\n",
    "        [\n",
    "            sum(ele_a * ele_b for ele_a, ele_b in zip(row_a, col_b)) % mod\n",
    "            for col_b in zip(*b)\n",
    "        ]\n",
    "        for row_a in a\n",
    "    ]\n",
    "\n",
    "    ax = dc(a)\n",
    "    for e in bin(b)[3:]:\n",
    "        ax = mul(ax, ax)\n",
    "        if e == \"1\":\n",
    "            ax = mul(ax, a)\n",
    "\n",
    "    print(\"\\n\".join(\" \".join(map(str, line)) for line in ax))\n",
    "\n",
    "\n",
    "solution()"
   ]
  },
  {
   "cell_type": "markdown",
   "metadata": {},
   "source": [
    "## 해답"
   ]
  },
  {
   "cell_type": "code",
   "execution_count": 4,
   "metadata": {},
   "outputs": [
    {
     "data": {
      "text/plain": [
       "[[7, 10], [15, 22]]"
      ]
     },
     "execution_count": 4,
     "metadata": {},
     "output_type": "execute_result"
    }
   ],
   "source": [
    "mod = 1000\n",
    "mul = lambda a, b: [\n",
    "    [\n",
    "        sum(ele_a * ele_b for ele_a, ele_b in zip(row_a, col_b)) % mod\n",
    "        for col_b in zip(*b)\n",
    "    ]\n",
    "    for row_a in a\n",
    "]\n",
    "mul([[1, 2], [3, 4]], [[1, 2], [3, 4]])\n",
    "# [[1,2]  [[1,2]\n",
    "#  [3,4]]  [3,4]]"
   ]
  },
  {
   "cell_type": "code",
   "execution_count": 6,
   "metadata": {},
   "outputs": [],
   "source": [
    "from copy import deepcopy as dc"
   ]
  },
  {
   "cell_type": "code",
   "execution_count": 20,
   "metadata": {},
   "outputs": [],
   "source": [
    "def solution(input):\n",
    "    n, b = map(int, input().split())\n",
    "    mod = 1000\n",
    "    a = [list(map(lambda x: int(x) % mod, input().split())) for _ in range(n)]\n",
    "    mul = lambda a, b: [\n",
    "        [\n",
    "            sum(ele_a * ele_b for ele_a, ele_b in zip(row_a, col_b)) % mod\n",
    "            for col_b in zip(*b)\n",
    "        ]\n",
    "        for row_a in a\n",
    "    ]\n",
    "    ax = dc(a)\n",
    "    for e in bin(b)[3:]:\n",
    "        ax = mul(ax, ax)\n",
    "        if e == \"1\":\n",
    "            ax = mul(ax, a)\n",
    "    print(\"\\n\".join(\" \".join(map(str, line)) for line in ax))"
   ]
  },
  {
   "cell_type": "markdown",
   "metadata": {},
   "source": [
    "## 예제"
   ]
  },
  {
   "cell_type": "code",
   "execution_count": 21,
   "metadata": {},
   "outputs": [],
   "source": [
    "# 백준 문제 풀이용 예제 실행 코드\n",
    "from bwj import test\n",
    "\n",
    "test_solution = test(solution)\n",
    "\n",
    "# test_solution(\"\"\"\"\"\")\n",
    "# test_solution(read(\"fn\").read())"
   ]
  },
  {
   "cell_type": "code",
   "execution_count": 22,
   "metadata": {},
   "outputs": [
    {
     "name": "stdout",
     "output_type": "stream",
     "text": [
      "69 558\n",
      "337 406\n"
     ]
    }
   ],
   "source": [
    "test_solution(\n",
    "    \"\"\"2 5\n",
    "1 2\n",
    "3 4\"\"\"\n",
    ")\n",
    "# answer:\n",
    "# 69 558\n",
    "# 337 406"
   ]
  },
  {
   "cell_type": "code",
   "execution_count": 23,
   "metadata": {},
   "outputs": [
    {
     "name": "stdout",
     "output_type": "stream",
     "text": [
      "468 576 684\n",
      "62 305 548\n",
      "656 34 412\n"
     ]
    }
   ],
   "source": [
    "test_solution(\n",
    "    \"\"\"3 3\n",
    "1 2 3\n",
    "4 5 6\n",
    "7 8 9\"\"\"\n",
    ")\n",
    "# answer:\n",
    "# 468 576 684\n",
    "# 62 305 548\n",
    "# 656 34 412"
   ]
  },
  {
   "cell_type": "code",
   "execution_count": 24,
   "metadata": {},
   "outputs": [
    {
     "name": "stdout",
     "output_type": "stream",
     "text": [
      "512 0 0 0 512\n",
      "512 0 0 0 512\n",
      "512 0 0 0 512\n",
      "512 0 0 0 512\n",
      "512 0 0 0 512\n"
     ]
    }
   ],
   "source": [
    "test_solution(\n",
    "    \"\"\"5 10\n",
    "1 0 0 0 1\n",
    "1 0 0 0 1\n",
    "1 0 0 0 1\n",
    "1 0 0 0 1\n",
    "1 0 0 0 1\"\"\"\n",
    ")\n",
    "# answer:\n",
    "# 512 0 0 0 512\n",
    "# 512 0 0 0 512\n",
    "# 512 0 0 0 512\n",
    "# 512 0 0 0 512\n",
    "# 512 0 0 0 512"
   ]
  },
  {
   "cell_type": "code",
   "execution_count": 25,
   "metadata": {},
   "outputs": [
    {
     "name": "stdout",
     "output_type": "stream",
     "text": [
      "1 0 0 0 1\n",
      "1 0 0 0 1\n",
      "1 0 0 0 1\n",
      "1 0 0 0 1\n",
      "1 0 0 0 1\n"
     ]
    }
   ],
   "source": [
    "test_solution(\n",
    "    \"\"\"5 100000000000\n",
    "1 0 0 0 1\n",
    "1 0 0 0 1\n",
    "1 0 0 0 1\n",
    "1 0 0 0 1\n",
    "1 0 0 0 1\"\"\"\n",
    ")\n",
    "# answer:\n",
    "# 688 0 0 0 688\n",
    "# 688 0 0 0 688\n",
    "# 688 0 0 0 688\n",
    "# 688 0 0 0 688\n",
    "# 688 0 0 0 688"
   ]
  }
 ],
 "metadata": {
  "interpreter": {
   "hash": "73891b0dc2e53390f36276e59930dd4ecab91b05b5c90320c2d5b1c443f87069"
  },
  "kernelspec": {
   "display_name": "Python 3.10.1 ('venv': venv)",
   "language": "python",
   "name": "python3"
  },
  "language_info": {
   "codemirror_mode": {
    "name": "ipython",
    "version": 3
   },
   "file_extension": ".py",
   "mimetype": "text/x-python",
   "name": "python",
   "nbconvert_exporter": "python",
   "pygments_lexer": "ipython3",
   "version": "3.10.4"
  },
  "orig_nbformat": 4
 },
 "nbformat": 4,
 "nbformat_minor": 2
}
