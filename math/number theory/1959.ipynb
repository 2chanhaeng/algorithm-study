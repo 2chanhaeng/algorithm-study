{
    "cells": [
        {
            "cell_type": "markdown",
            "metadata": {},
            "source": [
                "# [백준/달팽이3](https://www.acmicpc.net/problem/1959)"
            ]
        },
        {
            "cell_type": "markdown",
            "metadata": {},
            "source": [
                "## 풀이과정"
            ]
        },
        {
            "cell_type": "markdown",
            "metadata": {},
            "source": [
                "### 첫번째 시도"
            ]
        },
        {
            "cell_type": "markdown",
            "metadata": {},
            "source": [
                "풀이과정"
            ]
        },
        {
            "cell_type": "code",
            "execution_count": 141,
            "metadata": {},
            "outputs": [],
            "source": [
                "def solution():\n",
                "    import sys\n",
                "\n",
                "    m, n = map(int, sys.stdin.read().rstrip().split())\n",
                "    k = [m, n][t := m > n] - 1\n",
                "    print((q := 2 * k + t), end=\" \")\n",
                "    a, b = (q + 1) // 4, q // 4\n",
                "    a = a + 1 if (q + 1) % 4 // 2 == 0 else m - a\n",
                "    b = b + 1 if q % 4 // 2 == 1 else n - b\n",
                "    print(a, b)\n",
                "\n",
                "\n",
                "solution()"
            ]
        },
        {
            "cell_type": "code",
            "execution_count": 143,
            "metadata": {},
            "outputs": [],
            "source": [
                "def solution():\n",
                "    import sys\n",
                "\n",
                "    m, n = map(int, sys.stdin.read().rstrip().split())\n",
                "    k = (n if (t := m > n) else m) - 1\n",
                "    print(q := 2 * k + t)\n",
                "    a, b = (q + 1) // 4, q // 4\n",
                "    print(\n",
                "        a + 1 if (q + 1) % 4 // 2 == 0 else m - a, b + 1 if q % 4 // 2 == 1 else n - b\n",
                "    )\n",
                "\n",
                "\n",
                "solution()"
            ]
        },
        {
            "cell_type": "markdown",
            "metadata": {},
            "source": [
                "## 해답"
            ]
        },
        {
            "cell_type": "code",
            "execution_count": null,
            "metadata": {},
            "outputs": [],
            "source": [
                "m,n=map(int,input().split())\n",
                "k=[m,n][t:=m>n]-1\n",
                "print(2*k+t)"
            ]
        },
        {
            "cell_type": "code",
            "execution_count": 140,
            "metadata": {},
            "outputs": [],
            "source": [
                "def solution(open=open):\n",
                "    m, n = map(int, open(0).read().split())\n",
                "    k = [m, n][t := m > n] - 1\n",
                "    print((q := 2 * k + t), end=\" \")\n",
                "    a, b = (q + 1) // 4, q // 4\n",
                "    a = a + 1 if (q + 1) % 4 // 2 == 0 else m - a\n",
                "    b = b + 1 if q % 4 // 2 == 1 else n - b\n",
                "    print(a, b)"
            ]
        },
        {
            "cell_type": "markdown",
            "metadata": {},
            "source": [
                "## 예제"
            ]
        },
        {
            "cell_type": "code",
            "execution_count": 137,
            "metadata": {},
            "outputs": [],
            "source": [
                "# 백준 문제 풀이용 예제 실행 코드\n",
                "from bwj import test\n",
                "test_solution = test(solution)\n",
                "\n",
                "# test_solution(\"\"\"\"\"\")\n",
                "# test_solution(read(\"fn\").read())"
            ]
        },
        {
            "cell_type": "code",
            "execution_count": 138,
            "metadata": {},
            "outputs": [
                {
                    "name": "stdout",
                    "output_type": "stream",
                    "text": [
                        "2 2: 2 2 1\n",
                        "2 3: 2 2 1\n",
                        "2 4: 2 2 1\n",
                        "2 5: 2 2 1\n",
                        "3 2: 3 2 1\n",
                        "3 3: 4 2 2\n",
                        "3 4: 4 2 3\n",
                        "3 5: 4 2 4\n",
                        "4 2: 3 2 1\n",
                        "4 3: 5 3 2\n",
                        "4 4: 6 3 2\n",
                        "4 5: 6 3 2\n",
                        "5 2: 3 2 1\n",
                        "5 3: 5 4 2\n",
                        "5 4: 7 3 2\n",
                        "5 5: 8 3 3\n"
                    ]
                }
            ],
            "source": [
                "for i in range(2, 6):\n",
                "    for j in range(2, 6):\n",
                "        print((q := \"{} {}\".format(i, j)), end=\": \")\n",
                "        test_solution(q)\n"
            ]
        },
        {
            "cell_type": "markdown",
            "metadata": {},
            "source": [
                "2 2: 2 2 1 \\\n",
                "2 3: 2 2 1 \\\n",
                "2 4: 2 2 1 \\\n",
                "2 5: 2 2 1 \\\n",
                "3 2: 3 2 1 \\\n",
                "3 3: 4 2 2 \\\n",
                "3 4: 4 2 3 \\\n",
                "3 5: 4 2 4 \\\n",
                "4 2: 3 2 1 \\\n",
                "4 3: 5 3 2 \\\n",
                "4 4: 6 3 2 \\\n",
                "4 5: 6 3 2 \\\n",
                "5 2: 3 2 1 \\\n",
                "5 3: 5 4 2 \\\n",
                "5 4: 7 3 2 \\\n",
                "5 5: 8 3 3"
            ]
        },
        {
            "cell_type": "code",
            "execution_count": 139,
            "metadata": {},
            "outputs": [
                {
                    "name": "stdout",
                    "output_type": "stream",
                    "text": [
                        "5 4 2\n"
                    ]
                }
            ],
            "source": [
                "test_solution(\"\"\"5 3\"\"\")\n",
                "# answer:\n",
                "# 5\n",
                "# 4 2"
            ]
        }
    ],
    "metadata": {
        "interpreter": {
            "hash": "72904a014a9ffe38f4c58942120b599b3c5a87d06764037548e0139929c1cde3"
        },
        "kernelspec": {
            "display_name": "Python 3.10.4 ('venv': venv)",
            "language": "python",
            "name": "python3"
        },
        "language_info": {
            "codemirror_mode": {
                "name": "ipython",
                "version": 3
            },
            "file_extension": ".py",
            "mimetype": "text/x-python",
            "name": "python",
            "nbconvert_exporter": "python",
            "pygments_lexer": "ipython3",
            "version": "3.10.4"
        },
        "orig_nbformat": 4
    },
    "nbformat": 4,
    "nbformat_minor": 2
}
