{
  "cells": [
    {
      "cell_type": "markdown",
      "metadata": {},
      "source": [
        "# [백준/전구 주기 맞추기](https://www.acmicpc.net/problem/32403)\n"
      ]
    },
    {
      "cell_type": "markdown",
      "metadata": {},
      "source": [
        "## 풀이과정\n"
      ]
    },
    {
      "cell_type": "markdown",
      "metadata": {},
      "source": [
        "### 첫번째 시도\n"
      ]
    },
    {
      "cell_type": "markdown",
      "metadata": {},
      "source": [
        "#### 풀이과정\n"
      ]
    },
    {
      "cell_type": "code",
      "execution_count": null,
      "metadata": {},
      "outputs": [],
      "source": [
        "def get_factors(n: int) -> set[int]:\n",
        "    factors = set()\n",
        "    for i in range(1, int(n**0.5) + 1):\n",
        "        if n % i == 0:\n",
        "            factors.add(i)\n",
        "            if i != n // i:\n",
        "                factors.add(n // i)\n",
        "    return factors\n",
        "\n",
        "\n",
        "def solution():\n",
        "    import sys\n",
        "\n",
        "    _, t, *bulbs = map(int, sys.stdin.read().split())\n",
        "    factorset = get_factors(t)\n",
        "    factors = sorted(factorset)\n",
        "\n",
        "    def diff_nearest_factor(n: int) -> int:\n",
        "        if n in factorset:\n",
        "            return 0\n",
        "        if n > factors[-1]:\n",
        "            return n - factors[-1]\n",
        "        for p, c in zip(factors, factors[1:]):\n",
        "            if p < n < c:\n",
        "                return min(n - p, c - n)\n",
        "\n",
        "    print(sum(map(diff_nearest_factor, bulbs)))\n",
        "\n",
        "\n",
        "solution()"
      ]
    },
    {
      "cell_type": "markdown",
      "metadata": {},
      "source": [
        "## 해답\n"
      ]
    },
    {
      "cell_type": "code",
      "execution_count": 1,
      "id": "59d96d1d",
      "metadata": {},
      "outputs": [],
      "source": [
        "def get_factors(n: int) -> set[int]:\n",
        "    factors = set()\n",
        "    for i in range(1, int(n**0.5) + 1):\n",
        "        if n % i == 0:\n",
        "            factors.add(i)\n",
        "            if i != n // i:\n",
        "                factors.add(n // i)\n",
        "    return factors"
      ]
    },
    {
      "cell_type": "code",
      "execution_count": 2,
      "metadata": {},
      "outputs": [],
      "source": [
        "def solution():\n",
        "    import sys\n",
        "\n",
        "    _, t, *bulbs = map(int, sys.stdin.read().split())\n",
        "    factorset = get_factors(t)\n",
        "    factors = sorted(factorset)\n",
        "\n",
        "    def diff_nearest_factor(n: int) -> int:\n",
        "        if n in factorset:\n",
        "            return 0\n",
        "        if n > factors[-1]:\n",
        "            return n - factors[-1]\n",
        "        for p, c in zip(factors, factors[1:]):\n",
        "            if p < n < c:\n",
        "                return min(n - p, c - n)\n",
        "\n",
        "    print(sum(map(diff_nearest_factor, bulbs)))"
      ]
    },
    {
      "cell_type": "markdown",
      "metadata": {},
      "source": [
        "## 예제\n"
      ]
    },
    {
      "cell_type": "code",
      "execution_count": 3,
      "metadata": {},
      "outputs": [],
      "source": [
        "# 백준 문제 풀이용 예제 실행 코드\n",
        "from bwj import test\n",
        "\n",
        "test_solution = test(solution)\n",
        "\n",
        "# test_solution(\"\"\"\"\"\")\n",
        "# test_solution(read(\"fn\").read())"
      ]
    },
    {
      "cell_type": "code",
      "execution_count": 4,
      "metadata": {},
      "outputs": [
        {
          "name": "stdout",
          "output_type": "stream",
          "text": [
            "3\n"
          ]
        }
      ],
      "source": [
        "test_solution(\n",
        "    \"\"\"3 14\n",
        "4 1 13\n",
        "\"\"\"\n",
        ")  # 3"
      ]
    },
    {
      "cell_type": "code",
      "execution_count": 5,
      "metadata": {},
      "outputs": [
        {
          "name": "stdout",
          "output_type": "stream",
          "text": [
            "2\n"
          ]
        }
      ],
      "source": [
        "test_solution(\n",
        "    \"\"\"4 6\n",
        "2 8 6 3\n",
        "\"\"\"\n",
        ")  # 2"
      ]
    },
    {
      "cell_type": "code",
      "execution_count": 6,
      "metadata": {},
      "outputs": [
        {
          "name": "stdout",
          "output_type": "stream",
          "text": [
            "5\n"
          ]
        }
      ],
      "source": [
        "test_solution(\n",
        "    \"\"\"4 12\n",
        "9 5 3 7\n",
        "\"\"\"\n",
        ")  # 5"
      ]
    }
  ],
  "metadata": {
    "kernelspec": {
      "display_name": "venv",
      "language": "python",
      "name": "python3"
    },
    "language_info": {
      "codemirror_mode": {
        "name": "ipython",
        "version": 3
      },
      "file_extension": ".py",
      "mimetype": "text/x-python",
      "name": "python",
      "nbconvert_exporter": "python",
      "pygments_lexer": "ipython3",
      "version": "3.12.10"
    }
  },
  "nbformat": 4,
  "nbformat_minor": 5
}
