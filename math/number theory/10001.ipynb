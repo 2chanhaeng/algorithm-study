{
 "cells": [
  {
   "cell_type": "markdown",
   "metadata": {},
   "source": [
    "# [백준/Hash](https://www.acmicpc.net/problem/10001)\n"
   ]
  },
  {
   "cell_type": "markdown",
   "metadata": {},
   "source": [
    "## 풀이과정\n"
   ]
  },
  {
   "cell_type": "markdown",
   "metadata": {},
   "source": [
    "### 첫번째 시도\n"
   ]
  },
  {
   "cell_type": "markdown",
   "metadata": {},
   "source": [
    "#### 풀이과정\n"
   ]
  },
  {
   "cell_type": "code",
   "execution_count": null,
   "metadata": {},
   "outputs": [],
   "source": [
    "def solution():\n",
    "    import sys\n",
    "\n",
    "    length, hashed, modexp = map(int, sys.stdin.readline().split())\n",
    "    mod = 2**modexp\n",
    "    inv = pow(33, -1, mod)\n",
    "    until = sum(divmod(length, 2))\n",
    "    a, b = [0] * mod, [0] * mod\n",
    "\n",
    "    def unhash_until(hashed=hashed, length=length) -> None:\n",
    "        if length == until:\n",
    "            a[hashed] += 1\n",
    "            return\n",
    "        for i in range(1, 27):\n",
    "            unhash_until((hashed ^ i) * inv % mod, length - 1)\n",
    "\n",
    "    unhash_until()\n",
    "\n",
    "    def hash_until(hashed=0, length=0) -> None:\n",
    "        if length == until:\n",
    "            b[hashed] += 1\n",
    "            return\n",
    "        for i in range(1, 27):\n",
    "            hash_until((hashed * 33 ^ i) % mod, length + 1)\n",
    "\n",
    "    hash_until()\n",
    "    print(sum(i * j for i, j in zip(a, b)))\n",
    "\n",
    "\n",
    "solution()"
   ]
  },
  {
   "cell_type": "markdown",
   "metadata": {},
   "source": [
    "## 해답\n"
   ]
  },
  {
   "cell_type": "code",
   "execution_count": 1,
   "metadata": {},
   "outputs": [
    {
     "name": "stdout",
     "output_type": "stream",
     "text": [
      "1 a\n"
     ]
    }
   ],
   "source": [
    "def o(x: str):\n",
    "    return ord(x) - 96\n",
    "\n",
    "\n",
    "def c(x: int):\n",
    "    return chr(x + 96)\n",
    "\n",
    "\n",
    "print(o(\"a\"), c(1))"
   ]
  },
  {
   "cell_type": "code",
   "execution_count": 3,
   "metadata": {},
   "outputs": [
    {
     "data": {
      "text/plain": [
       "438"
      ]
     },
     "execution_count": 3,
     "metadata": {},
     "output_type": "execute_result"
    }
   ],
   "source": [
    "from functools import cache\n",
    "\n",
    "\n",
    "def hash_mod(m: int):\n",
    "    mod = 1 << m\n",
    "\n",
    "    @cache\n",
    "    def hash_func(x: str):\n",
    "        if x == \"\":\n",
    "            return 0\n",
    "        return ((hash_func(x[:-1]) * 33) ^ o(x[-1])) % mod\n",
    "\n",
    "    return hash_func\n",
    "\n",
    "\n",
    "def hash_mod_int(m: int):\n",
    "    mod = 1 << m\n",
    "\n",
    "    @cache\n",
    "    def hash_func(x: tuple[int]):\n",
    "        if not x:\n",
    "            return 0\n",
    "        return ((hash_func(x[:-1]) * 33) ^ x[-1]) % mod\n",
    "\n",
    "    return hash_func\n",
    "\n",
    "\n",
    "hash_mod_int(10)((11, 9, 20))"
   ]
  },
  {
   "cell_type": "code",
   "execution_count": 4,
   "metadata": {},
   "outputs": [],
   "source": [
    "from itertools import product\n",
    "\n",
    "abc = list(range(1, 27))\n",
    "\n",
    "\n",
    "def create_example(length: int, modexp: int):\n",
    "    hash = hash_mod_int(modexp)\n",
    "    c = [0] * (1 << modexp)\n",
    "    for i in product(abc, repeat=length):\n",
    "        c[hash(i)] += 1\n",
    "    return c"
   ]
  },
  {
   "cell_type": "code",
   "execution_count": 5,
   "metadata": {},
   "outputs": [
    {
     "name": "stdout",
     "output_type": "stream",
     "text": [
      "True\n",
      "[4, 4, 4, 3, 4, 4, 4, 3, 3, 4]\n"
     ]
    }
   ],
   "source": [
    "N3K10 = create_example(3, 10)\n",
    "print(sum(N3K10) == 26**3)\n",
    "print(N3K10[:10])  # [4, 4, 4, 3, 4, 4, 4, 3, 3, 4]"
   ]
  },
  {
   "cell_type": "code",
   "execution_count": 7,
   "metadata": {},
   "outputs": [
    {
     "data": {
      "text/plain": [
       "7188"
      ]
     },
     "execution_count": 7,
     "metadata": {},
     "output_type": "execute_result"
    }
   ],
   "source": [
    "def solution(length: int, hashed: int, modexp: int):\n",
    "    mod = 2**modexp\n",
    "    inv = pow(33, -1, mod)\n",
    "    until = sum(divmod(length, 2))\n",
    "    a, b = [0] * mod, [0] * mod\n",
    "\n",
    "    def unhash_until(hashed=hashed, length=length) -> None:\n",
    "        if length == until:\n",
    "            a[hashed] += 1\n",
    "            return\n",
    "        for i in range(1, 27):\n",
    "            unhash_until((hashed ^ i) * inv % mod, length - 1)\n",
    "\n",
    "    unhash_until()\n",
    "\n",
    "    def hash_until(hashed=0, length=0) -> None:\n",
    "        if length == until:\n",
    "            if a[hashed]:\n",
    "                b[hashed] += 1\n",
    "            return\n",
    "        for i in range(1, 27):\n",
    "            hash_until(((hashed * 33) ^ i) % mod, length + 1)\n",
    "\n",
    "    hash_until()\n",
    "    return sum((i * j) for i, j in zip(a, b))\n",
    "\n",
    "\n",
    "solution(4, 0, 6)"
   ]
  },
  {
   "cell_type": "code",
   "execution_count": 6,
   "metadata": {},
   "outputs": [],
   "source": [
    "examples = [\n",
    "    [length, modexp, hashed, example]\n",
    "    for length in range(1, 6)\n",
    "    for modexp in range(6, 15)\n",
    "    for hashed, example in enumerate(create_example(length, modexp))\n",
    "]"
   ]
  },
  {
   "cell_type": "code",
   "execution_count": 8,
   "metadata": {},
   "outputs": [
    {
     "name": "stdout",
     "output_type": "stream",
     "text": [
      "{}\n"
     ]
    }
   ],
   "source": [
    "errors = {}\n",
    "for length, modexp, hashed, example in examples:\n",
    "    try:\n",
    "        assert solution(length, hashed, modexp) == example\n",
    "    except:\n",
    "        errors.setdefault((length, modexp), []).append(hashed)\n",
    "\n",
    "print({k: len(v) for k, v in errors.items()})"
   ]
  },
  {
   "cell_type": "code",
   "execution_count": 24,
   "metadata": {},
   "outputs": [],
   "source": [
    "def solution():\n",
    "    import sys\n",
    "\n",
    "    length, hashed, modexp = map(int, sys.stdin.readline().split())\n",
    "    mod = 2**modexp\n",
    "    inv = pow(33, -1, mod)\n",
    "    until = sum(divmod(length, 2))\n",
    "    a, b = [0] * mod, [0] * mod\n",
    "\n",
    "    def unhash_until(hashed=hashed, length=length) -> None:\n",
    "        if length == until:\n",
    "            a[hashed] += 1\n",
    "            return\n",
    "        for i in range(1, 27):\n",
    "            unhash_until((hashed ^ i) * inv % mod, length - 1)\n",
    "\n",
    "    unhash_until()\n",
    "\n",
    "    def hash_until(hashed=0, length=0) -> None:\n",
    "        if length == until:\n",
    "            b[hashed] += 1\n",
    "            return\n",
    "        for i in range(1, 27):\n",
    "            hash_until((hashed * 33 ^ i) % mod, length + 1)\n",
    "\n",
    "    hash_until()\n",
    "    print(sum(i * j for i, j in zip(a, b)))"
   ]
  },
  {
   "cell_type": "markdown",
   "metadata": {},
   "source": [
    "## 예제\n"
   ]
  },
  {
   "cell_type": "code",
   "execution_count": 23,
   "metadata": {},
   "outputs": [],
   "source": [
    "# black 모듈을 jupyter notebook 내에서 사용 가능하게 만들어주는 blackcellmagic 모듈 불러오기\n",
    "# %load_ext blackcellmagic\n",
    "# %load_ext memory_profiler\n",
    "# %%black\n",
    "\n",
    "# 백준 문제 풀이용 예제 실행 코드\n",
    "from bwj import test\n",
    "\n",
    "test_solution = test(solution)\n",
    "\n",
    "# test_solution(\"\"\"\"\"\")\n",
    "# test_solution(read(\"fn\").read())"
   ]
  },
  {
   "cell_type": "code",
   "execution_count": 17,
   "metadata": {},
   "outputs": [
    {
     "name": "stdout",
     "output_type": "stream",
     "text": [
      "0\n",
      "0\n",
      "64\n",
      "3990877\n"
     ]
    }
   ],
   "source": [
    "test_solution(\"\"\"1 0 6\"\"\")\n",
    "test_solution(\"\"\"1 0 25\"\"\")\n",
    "test_solution(\"\"\"10 0 6\"\"\")\n",
    "test_solution(\"\"\"10 0 25\"\"\")"
   ]
  },
  {
   "cell_type": "code",
   "execution_count": 18,
   "metadata": {},
   "outputs": [
    {
     "name": "stdout",
     "output_type": "stream",
     "text": [
      "3992189\n"
     ]
    },
    {
     "name": "stderr",
     "output_type": "stream",
     "text": [
      "UsageError: Line magic function `%memit` not found.\n"
     ]
    }
   ],
   "source": [
    "test_solution(\n",
    "    \"\"\"10 31217823 25\n",
    "\"\"\"\n",
    ")  # 3992189"
   ]
  },
  {
   "cell_type": "code",
   "execution_count": 19,
   "metadata": {},
   "outputs": [
    {
     "name": "stdout",
     "output_type": "stream",
     "text": [
      "0\n"
     ]
    }
   ],
   "source": [
    "test_solution(\n",
    "    \"\"\"1 0 10\n",
    "\"\"\"\n",
    ")  # 0"
   ]
  },
  {
   "cell_type": "code",
   "execution_count": 20,
   "metadata": {},
   "outputs": [
    {
     "name": "stdout",
     "output_type": "stream",
     "text": [
      "1\n"
     ]
    }
   ],
   "source": [
    "test_solution(\n",
    "    \"\"\"1 2 10\n",
    "\"\"\"\n",
    ")  # 1"
   ]
  },
  {
   "cell_type": "code",
   "execution_count": 21,
   "metadata": {},
   "outputs": [
    {
     "name": "stdout",
     "output_type": "stream",
     "text": [
      "4\n"
     ]
    }
   ],
   "source": [
    "test_solution(\n",
    "    \"\"\"3 16 10\n",
    "\"\"\"\n",
    ")  # 4"
   ]
  }
 ],
 "metadata": {
  "interpreter": {
   "hash": "73891b0dc2e53390f36276e59930dd4ecab91b05b5c90320c2d5b1c443f87069"
  },
  "kernelspec": {
   "display_name": "Python 3.10.1 ('venv': venv)",
   "language": "python",
   "name": "python3"
  },
  "language_info": {
   "codemirror_mode": {
    "name": "ipython",
    "version": 3
   },
   "file_extension": ".py",
   "mimetype": "text/x-python",
   "name": "python",
   "nbconvert_exporter": "python",
   "pygments_lexer": "ipython3",
   "version": "3.11.5"
  },
  "orig_nbformat": 4
 },
 "nbformat": 4,
 "nbformat_minor": 2
}
