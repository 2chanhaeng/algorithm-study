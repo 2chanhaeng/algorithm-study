{
 "cells": [
  {
   "cell_type": "markdown",
   "metadata": {},
   "source": [
    "# [백준/진법 변환](https://www.acmicpc.net/problem/1112)"
   ]
  },
  {
   "cell_type": "markdown",
   "metadata": {},
   "source": [
    "## 풀이과정"
   ]
  },
  {
   "cell_type": "markdown",
   "metadata": {},
   "source": [
    "### 첫번째 시도"
   ]
  },
  {
   "cell_type": "markdown",
   "metadata": {},
   "source": [
    "#### 풀이과정"
   ]
  },
  {
   "cell_type": "code",
   "execution_count": null,
   "metadata": {},
   "outputs": [],
   "source": [
    "import sys\n",
    "\n",
    "\n",
    "def plus_base(n, base):\n",
    "    return (\n",
    "        n % base + 10 * plus_base(n // base, base)\n",
    "        if 0 < n\n",
    "        else 0\n",
    "        if 0 == n\n",
    "        else -plus_base(-n, base)\n",
    "    )\n",
    "\n",
    "\n",
    "def minus_base(n, base):\n",
    "    return (r := n % base) + 10 * minus_base(-((n - r) // base), base) if n else 0\n",
    "\n",
    "\n",
    "def solution():\n",
    "    x, b = map(int, sys.stdin.readline().split())\n",
    "    print(plus_base(x, b) if b > 0 else minus_base(x, -b))\n",
    "\n",
    "\n",
    "solution()"
   ]
  },
  {
   "attachments": {},
   "cell_type": "markdown",
   "metadata": {},
   "source": [
    "#### 숏코드"
   ]
  },
  {
   "cell_type": "code",
   "execution_count": null,
   "metadata": {},
   "outputs": [],
   "source": [
    "x,b=map(int,input().split());p=lambda n:n%b+10*p(n//b)if 0<n else-p(-n)if n else 0;m=lambda n:(r:=n%-b)+10*m(-((n-r)//-b))if n else 0;print(p(x)if b>0 else m(x))"
   ]
  },
  {
   "attachments": {},
   "cell_type": "markdown",
   "metadata": {},
   "source": [
    "![2023년 1월 5일 08시 기준 1122번 맞힌 사람 (Python) 36ms로 1위](../../img/Screenshot%202023-01-05%20at%2008-10-44%201112%EB%B2%88%20%EB%A7%9E%ED%9E%8C%20%EC%82%AC%EB%9E%8C%20(Python)%20-%201%20%ED%8E%98%EC%9D%B4%EC%A7%80.png)\n",
    "숏코드로 바꿨는데 오히려 속도 부문 1위가 됐다.  \n",
    "<iframe src=\"https://giphy.com/embed/11e9NzL3iJQ4D74buy\" width=\"480\" height=\"265\" frameBorder=\"0\" class=\"giphy-embed\" allowFullScreen></iframe>\n",
    "\n",
    "가...감사합니다...??  "
   ]
  },
  {
   "cell_type": "markdown",
   "metadata": {},
   "source": [
    "## 해답"
   ]
  },
  {
   "cell_type": "code",
   "execution_count": 1,
   "metadata": {},
   "outputs": [],
   "source": [
    "def plus_base(n, base):\n",
    "    return (\n",
    "        n % base + 10 * plus_base(n // base, base)\n",
    "        if 0 < n\n",
    "        else 0\n",
    "        if 0 == n\n",
    "        else -plus_base(-n, base)\n",
    "    )\n",
    "\n",
    "\n",
    "def minus_base(n, base):\n",
    "    return (r := n % base) + 10 * minus_base(-((n - r) // base), base) if n else 0"
   ]
  },
  {
   "cell_type": "code",
   "execution_count": 2,
   "metadata": {},
   "outputs": [],
   "source": [
    "def solution():\n",
    "    import sys\n",
    "\n",
    "    x, b = map(int, sys.stdin.readline().split())\n",
    "    print(plus_base(x, b) if b > 0 else minus_base(x, -b))"
   ]
  },
  {
   "cell_type": "markdown",
   "metadata": {},
   "source": [
    "## 예제"
   ]
  },
  {
   "cell_type": "code",
   "execution_count": 3,
   "metadata": {},
   "outputs": [],
   "source": [
    "# black 모듈을 jupyter notebook 내에서 사용 가능하게 만들어주는 blackcellmagic 모듈 불러오기\n",
    "%load_ext blackcellmagic\n",
    "# %%black\n",
    "\n",
    "# 백준 문제 풀이용 예제 실행 코드\n",
    "from bwj import test\n",
    "\n",
    "test_solution = test(solution)\n",
    "\n",
    "# test_solution(\"\"\"\"\"\")\n",
    "# test_solution(read(\"fn\").read())"
   ]
  },
  {
   "cell_type": "code",
   "execution_count": 4,
   "metadata": {},
   "outputs": [
    {
     "name": "stdout",
     "output_type": "stream",
     "text": [
      "12345\n"
     ]
    }
   ],
   "source": [
    "test_solution(\n",
    "    \"\"\"12345 10\n",
    "\"\"\"\n",
    ")  # 12345"
   ]
  },
  {
   "cell_type": "code",
   "execution_count": 5,
   "metadata": {},
   "outputs": [
    {
     "name": "stdout",
     "output_type": "stream",
     "text": [
      "12345\n"
     ]
    }
   ],
   "source": [
    "test_solution(\n",
    "    \"\"\"8265 -10\n",
    "\"\"\"\n",
    ")  # 12345"
   ]
  },
  {
   "cell_type": "code",
   "execution_count": 6,
   "metadata": {},
   "outputs": [
    {
     "name": "stdout",
     "output_type": "stream",
     "text": [
      "10000111001\n"
     ]
    }
   ],
   "source": [
    "test_solution(\n",
    "    \"\"\"1001 -2\n",
    "\"\"\"\n",
    ")  # 10000111001"
   ]
  },
  {
   "cell_type": "code",
   "execution_count": 7,
   "metadata": {},
   "outputs": [
    {
     "name": "stdout",
     "output_type": "stream",
     "text": [
      "11011100\n"
     ]
    }
   ],
   "source": [
    "test_solution(\n",
    "    \"\"\"-52 -2\n",
    "\"\"\"\n",
    ")  # 11011100"
   ]
  },
  {
   "cell_type": "code",
   "execution_count": 8,
   "metadata": {},
   "outputs": [
    {
     "name": "stdout",
     "output_type": "stream",
     "text": [
      "-212\n"
     ]
    }
   ],
   "source": [
    "test_solution(\n",
    "    \"\"\"-38 4\n",
    "\"\"\"\n",
    ")  # -212"
   ]
  },
  {
   "cell_type": "code",
   "execution_count": 9,
   "metadata": {},
   "outputs": [
    {
     "name": "stdout",
     "output_type": "stream",
     "text": [
      "3031330536\n"
     ]
    }
   ],
   "source": [
    "test_solution(\n",
    "    \"\"\"-123456789 -7\n",
    "\"\"\"\n",
    ")  # 3031330536"
   ]
  },
  {
   "cell_type": "code",
   "execution_count": 10,
   "metadata": {},
   "outputs": [
    {
     "name": "stdout",
     "output_type": "stream",
     "text": [
      "0\n"
     ]
    }
   ],
   "source": [
    "test_solution(\n",
    "    \"\"\"0 2\n",
    "\"\"\"\n",
    ")  # 0"
   ]
  }
 ],
 "metadata": {
  "kernelspec": {
   "display_name": "venv",
   "language": "python",
   "name": "python3"
  },
  "language_info": {
   "codemirror_mode": {
    "name": "ipython",
    "version": 3
   },
   "file_extension": ".py",
   "mimetype": "text/x-python",
   "name": "python",
   "nbconvert_exporter": "python",
   "pygments_lexer": "ipython3",
   "version": "3.10.8 (main, Oct 13 2022, 09:48:40) [Clang 14.0.0 (clang-1400.0.29.102)]"
  },
  "orig_nbformat": 4,
  "vscode": {
   "interpreter": {
    "hash": "72904a014a9ffe38f4c58942120b599b3c5a87d06764037548e0139929c1cde3"
   }
  }
 },
 "nbformat": 4,
 "nbformat_minor": 2
}
