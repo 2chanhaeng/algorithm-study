{
    "cells": [
        {
            "cell_type": "markdown",
            "metadata": {},
            "source": [
                "# [백준/조합 0의 개수](https://www.acmicpc.net/problem/2004)"
            ]
        },
        {
            "cell_type": "markdown",
            "metadata": {},
            "source": [
                "## 풀이과정"
            ]
        },
        {
            "cell_type": "markdown",
            "metadata": {},
            "source": [
                "### 첫번째 시도"
            ]
        },
        {
            "cell_type": "markdown",
            "metadata": {},
            "source": [
                "풀이과정"
            ]
        },
        {
            "cell_type": "code",
            "execution_count": null,
            "metadata": {},
            "outputs": [],
            "source": [
                "def solution(open = open):\n",
                "    n, m = map(int, open(0).read().split())\n",
                "    l = n - m\n",
                "    s = 0\n",
                "    while n > m:\n",
                "        n //= 5\n",
                "        m //= 5\n",
                "        l //= 5\n",
                "        s += n - m - l\n",
                "    print(s)\n",
                "\n",
                "solution()"
            ]
        },
        {
            "cell_type": "markdown",
            "metadata": {},
            "source": [
                "### 두번째 시도"
            ]
        },
        {
            "cell_type": "markdown",
            "metadata": {},
            "source": [
                "풀이과정"
            ]
        },
        {
            "cell_type": "code",
            "execution_count": 12,
            "metadata": {},
            "outputs": [],
            "source": [
                "def solution(open = open):\n",
                "    n, m = map(int, open(0).read().split())\n",
                "    l = n - m\n",
                "    \n",
                "    n2, m2, l2 = n, m, l\n",
                "    count2 = 0\n",
                "    while n2 > 0:\n",
                "        m2 //= 2\n",
                "        l2 //= 2\n",
                "        n2 //= 2\n",
                "        count2 += n2 - m2 - l2\n",
                "\n",
                "    n5, m5, l5 = n, m, l\n",
                "    count5 = 0\n",
                "    while n5 > m5:\n",
                "        n5 //= 5\n",
                "        m5 //= 5\n",
                "        l5 //= 5\n",
                "        count5 += n5 - m5 - l5\n",
                "\n",
                "    print(max(count2, count5))\n",
                "\n",
                "solution()"
            ]
        },
        {
            "cell_type": "markdown",
            "metadata": {},
            "source": [
                "### 세번째 시도"
            ]
        },
        {
            "cell_type": "markdown",
            "metadata": {},
            "source": [
                "풀이과정"
            ]
        },
        {
            "cell_type": "code",
            "execution_count": 3,
            "metadata": {},
            "outputs": [],
            "source": [
                "def count_multi_factor(num, factor):\n",
                "    count = 0\n",
                "    while num > 0:\n",
                "        num //= factor\n",
                "        count += num\n",
                "    return count\n",
                "\n",
                "\n",
                "def solution():\n",
                "    n, m = map(int, open(0).read().split())\n",
                "    l = n - m\n",
                "\n",
                "    count2 = (\n",
                "        count_multi_factor(n, 2) - count_multi_factor(m, 2) - count_multi_factor(l, 2)\n",
                "    )\n",
                "    count5 = (\n",
                "        count_multi_factor(n, 5) - count_multi_factor(m, 5) - count_multi_factor(l, 5)\n",
                "    )\n",
                "\n",
                "    print(min(count2, count5))\n",
                "\n",
                "\n",
                "solution()"
            ]
        },
        {
            "cell_type": "markdown",
            "metadata": {},
            "source": [
                "## 해답"
            ]
        },
        {
            "cell_type": "code",
            "execution_count": 10,
            "metadata": {},
            "outputs": [],
            "source": [
                "def count_multi_factor(num, factor):\n",
                "    count = 0\n",
                "    while num > 0:\n",
                "        num //= factor\n",
                "        count += num\n",
                "    return count"
            ]
        },
        {
            "cell_type": "code",
            "execution_count": 11,
            "metadata": {},
            "outputs": [],
            "source": [
                "def solution(open = open):\n",
                "    n, m = map(int, open(0).read().split())\n",
                "    l = n - m\n",
                "\n",
                "    count2 = count_multi_factor(n, 2) - count_multi_factor(m, 2) - count_multi_factor(l, 2)\n",
                "    count5 = count_multi_factor(n, 5) - count_multi_factor(m, 5) - count_multi_factor(l, 5)\n",
                "\n",
                "    print(min(count2, count5))"
            ]
        },
        {
            "cell_type": "markdown",
            "metadata": {},
            "source": [
                "## 예제"
            ]
        },
        {
            "cell_type": "code",
            "execution_count": 12,
            "metadata": {},
            "outputs": [],
            "source": [
                "# 백준 문제 풀이용 예제 실행 코드\n",
                "from bwj import test\n",
                "test_solution = test(solution)\n",
                "\n",
                "# test_solution(\"\"\"\"\"\")\n",
                "# test_solution(read(\"fn\").read())"
            ]
        },
        {
            "cell_type": "code",
            "execution_count": 13,
            "metadata": {},
            "outputs": [
                {
                    "name": "stdout",
                    "output_type": "stream",
                    "text": [
                        "2\n"
                    ]
                }
            ],
            "source": [
                "test_solution(\"\"\"25 12\"\"\") # 2"
            ]
        }
    ],
    "metadata": {
        "interpreter": {
            "hash": "73891b0dc2e53390f36276e59930dd4ecab91b05b5c90320c2d5b1c443f87069"
        },
        "kernelspec": {
            "display_name": "Python 3.10.1 ('venv': venv)",
            "language": "python",
            "name": "python3"
        },
        "language_info": {
            "codemirror_mode": {
                "name": "ipython",
                "version": 3
            },
            "file_extension": ".py",
            "mimetype": "text/x-python",
            "name": "python",
            "nbconvert_exporter": "python",
            "pygments_lexer": "ipython3",
            "version": "3.10.1"
        },
        "orig_nbformat": 4
    },
    "nbformat": 4,
    "nbformat_minor": 2
}
