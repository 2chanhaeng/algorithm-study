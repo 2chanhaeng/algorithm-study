{
    "cells": [
        {
            "cell_type": "markdown",
            "metadata": {},
            "source": [
                "# [백준/베르트랑 공준](https://www.acmicpc.net/problem/4948)"
            ]
        },
        {
            "cell_type": "markdown",
            "metadata": {},
            "source": [
                "## 풀이과정"
            ]
        },
        {
            "cell_type": "markdown",
            "metadata": {},
            "source": [
                "### 첫번째 시도"
            ]
        },
        {
            "cell_type": "markdown",
            "metadata": {},
            "source": [
                "풀이과정"
            ]
        },
        {
            "cell_type": "code",
            "execution_count": 8,
            "metadata": {},
            "outputs": [],
            "source": [
                "def solution(input):\n",
                "    che = [False, False, True, True] + [False, True] * 123455\n",
                "    for i, is_prime in enumerate(che[3::2], start=1):\n",
                "        if not is_prime:\n",
                "            continue\n",
                "        prime = i * 2 + 1\n",
                "        che[prime * prime :: prime] = [False] * ((246913 - prime * prime) // prime + 1)\n",
                "    while n := int(input()):\n",
                "        print(sum(che[n + 1 : 2 * n + 1]))\n",
                "\n",
                "\n",
                "import sys\n",
                "\n",
                "solution(lambda: sys.stdin.readline().rstrip())"
            ]
        },
        {
            "cell_type": "markdown",
            "metadata": {},
            "source": [
                "## 해답"
            ]
        },
        {
            "cell_type": "code",
            "execution_count": 9,
            "metadata": {},
            "outputs": [],
            "source": [
                "def solution(input):\n",
                "    che = [False, False, True, True] + [False, True] * 123455\n",
                "    for i, is_prime in enumerate(che[3::2], start=1):\n",
                "        if not is_prime:\n",
                "            continue\n",
                "        prime = i * 2 + 1\n",
                "        che[prime * prime :: prime] = [False] * ((246913 - prime * prime) // prime + 1)\n",
                "    while n := int(input()):\n",
                "        print(sum(che[n + 1 : 2 * n + 1]))"
            ]
        },
        {
            "cell_type": "markdown",
            "metadata": {},
            "source": [
                "## 예제"
            ]
        },
        {
            "cell_type": "code",
            "execution_count": 6,
            "metadata": {},
            "outputs": [],
            "source": [
                "# 백준 문제 풀이용 예제 실행 코드\n",
                "from bwj import test\n",
                "test_solution = test(solution)\n",
                "\n",
                "# test_solution(\"\"\"\"\"\")\n",
                "# test_solution(read(\"fn\").read())"
            ]
        },
        {
            "cell_type": "code",
            "execution_count": 7,
            "metadata": {},
            "outputs": [
                {
                    "name": "stdout",
                    "output_type": "stream",
                    "text": [
                        "1\n",
                        "4\n",
                        "3\n",
                        "21\n",
                        "135\n",
                        "1033\n",
                        "8392\n"
                    ]
                }
            ],
            "source": [
                "test_solution(\"\"\"1\n",
                "10\n",
                "13\n",
                "100\n",
                "1000\n",
                "10000\n",
                "100000\n",
                "0\"\"\")\n",
                "# answer:\n",
                "# 1\n",
                "# 4\n",
                "# 3\n",
                "# 21\n",
                "# 135\n",
                "# 1033\n",
                "# 8392"
            ]
        }
    ],
    "metadata": {
        "interpreter": {
            "hash": "73891b0dc2e53390f36276e59930dd4ecab91b05b5c90320c2d5b1c443f87069"
        },
        "kernelspec": {
            "display_name": "Python 3.10.1 ('venv': venv)",
            "language": "python",
            "name": "python3"
        },
        "language_info": {
            "codemirror_mode": {
                "name": "ipython",
                "version": 3
            },
            "file_extension": ".py",
            "mimetype": "text/x-python",
            "name": "python",
            "nbconvert_exporter": "python",
            "pygments_lexer": "ipython3",
            "version": "3.10.2"
        },
        "orig_nbformat": 4
    },
    "nbformat": 4,
    "nbformat_minor": 2
}
