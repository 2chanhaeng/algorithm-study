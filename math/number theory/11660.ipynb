{
 "cells": [
  {
   "cell_type": "markdown",
   "metadata": {},
   "source": [
    "# [백준/구간 합 구하기 5](https://www.acmicpc.net/problem/11660)"
   ]
  },
  {
   "cell_type": "markdown",
   "metadata": {},
   "source": [
    "## 풀이과정"
   ]
  },
  {
   "cell_type": "markdown",
   "metadata": {},
   "source": [
    "### 첫번째 시도"
   ]
  },
  {
   "cell_type": "markdown",
   "metadata": {},
   "source": [
    "풀이과정"
   ]
  },
  {
   "cell_type": "code",
   "execution_count": null,
   "metadata": {},
   "outputs": [],
   "source": [
    "def solution():\n",
    "    import sys\n",
    "    from functools import cache\n",
    "\n",
    "    sys.setrecursionlimit(10**6)\n",
    "    input = iter(sys.stdin.read().split(\"\\n\")).__next__\n",
    "    n, m = map(int, input().split())\n",
    "    table = [list(map(int, input().split())) for _ in range(n)]\n",
    "\n",
    "    @cache\n",
    "    def linesum(x, y):\n",
    "        if x == -1:\n",
    "            return 0\n",
    "        return table[x][y] + linesum(x - 1, y)\n",
    "\n",
    "    @cache\n",
    "    def areasum(x, y):\n",
    "        if y == -1:\n",
    "            return 0\n",
    "        return linesum(x, y) + areasum(x, y - 1)\n",
    "\n",
    "    for _ in range(m):\n",
    "        x1, y1, x2, y2 = map(lambda x: int(x) - 1, input().split())\n",
    "        print(\n",
    "            areasum(x2, y2)\n",
    "            - areasum(x1 - 1, y2)\n",
    "            - areasum(x2, y1 - 1)\n",
    "            + areasum(x1 - 1, y1 - 1)\n",
    "        )\n",
    "\n",
    "\n",
    "solution()"
   ]
  },
  {
   "cell_type": "markdown",
   "metadata": {},
   "source": [
    "### 두번째 시도"
   ]
  },
  {
   "cell_type": "markdown",
   "metadata": {},
   "source": [
    "풀이과정"
   ]
  },
  {
   "cell_type": "code",
   "execution_count": null,
   "metadata": {},
   "outputs": [],
   "source": [
    "def solution():\n",
    "    import sys\n",
    "\n",
    "    input = iter(sys.stdin.read().split(\"\\n\")).__next__\n",
    "    n, m = map(int, input().split())\n",
    "    dp = [before := [0] * (n + 1)] + [\n",
    "        (\n",
    "            before := [b := 0]\n",
    "            + [(b := b + l) + m for l, m in zip(map(int, input().split()), before[1:])]\n",
    "        )\n",
    "        for _ in range(n)\n",
    "    ]\n",
    "    for _ in range(m):\n",
    "        x1, y1, x2, y2 = map(int, input().split())\n",
    "        x1 -= 1\n",
    "        y1 -= 1\n",
    "        print(dp[x2][y2] - dp[x1][y2] - dp[x2][y1] + dp[x1][y1])\n",
    "\n",
    "\n",
    "solution()"
   ]
  },
  {
   "cell_type": "markdown",
   "metadata": {},
   "source": [
    "### 골프 코드"
   ]
  },
  {
   "cell_type": "code",
   "execution_count": null,
   "metadata": {},
   "outputs": [],
   "source": [
    "q=map(int,open(0).read().split()).__next__;n,m=q(),q();t=[d:=[0]*(n+1)]+[(d:=[b:=0]+[m+(b:=b+q())for m in d[1:]])for()in[[]]*n]\n",
    "for()in[[]]*m:print(t[w:=q()-1][x:=q()-1]+t[y:=q()][z:=q()]-t[w][z]-t[y][x])"
   ]
  },
  {
   "cell_type": "markdown",
   "metadata": {},
   "source": [
    "<img alt=\"2022년 5월 13일 12시 기준 11660번 숏코드 204바이트로 1위\" src=\"../../img/Screenshot 2022-05-14 at 11-28-53 11660번 숏코딩 - 1 페이지.png\"/>"
   ]
  },
  {
   "attachments": {},
   "cell_type": "markdown",
   "metadata": {},
   "source": [
    "### 세번째 시도"
   ]
  },
  {
   "cell_type": "markdown",
   "metadata": {},
   "source": [
    "풀이과정"
   ]
  },
  {
   "cell_type": "code",
   "execution_count": null,
   "metadata": {},
   "outputs": [],
   "source": [
    "import sys\n",
    "from itertools import accumulate\n",
    "from operator import add\n",
    "\n",
    "\n",
    "def plus(x, y):\n",
    "    return list(map(add, x, y))\n",
    "\n",
    "\n",
    "def solution():\n",
    "    inputs = map(str.split, sys.stdin.read().splitlines())\n",
    "    n, m = map(int, next(inputs))\n",
    "    dp = list(\n",
    "        accumulate(\n",
    "            list(\n",
    "                accumulate(l, initial=0)\n",
    "                for l in (map(int, next(inputs)) for _ in range(n))\n",
    "            ),\n",
    "            plus,\n",
    "            initial=[0] * (n + 1),\n",
    "        )\n",
    "    )\n",
    "    for _ in range(m):\n",
    "        x1, y1, x2, y2 = map(int, next(inputs))\n",
    "        x1 -= 1\n",
    "        y1 -= 1\n",
    "        print(dp[x2][y2] - dp[x1][y2] - dp[x2][y1] + dp[x1][y1])\n",
    "\n",
    "\n",
    "solution()"
   ]
  },
  {
   "cell_type": "markdown",
   "metadata": {},
   "source": [
    "## 해답"
   ]
  },
  {
   "cell_type": "code",
   "execution_count": 1,
   "metadata": {},
   "outputs": [],
   "source": [
    "from operator import add\n",
    "\n",
    "def plus(x, y):\n",
    "    return list(map(add, x, y))"
   ]
  },
  {
   "cell_type": "code",
   "execution_count": 2,
   "metadata": {},
   "outputs": [],
   "source": [
    "import sys\n",
    "from itertools import accumulate\n",
    "\n",
    "\n",
    "def solution():\n",
    "    inputs = map(str.split, sys.stdin.read().splitlines())\n",
    "    n, m = map(int, next(inputs))\n",
    "    dp = list(\n",
    "        accumulate(\n",
    "            list(\n",
    "                accumulate(l, initial=0)\n",
    "                for l in (map(int, next(inputs)) for _ in range(n))\n",
    "            ),\n",
    "            plus,\n",
    "            initial=[0] * (n + 1),\n",
    "        )\n",
    "    )\n",
    "    print(\n",
    "        *(\n",
    "            dp[x1 - 1][y1 - 1] + dp[x2][y2] - dp[x1 - 1][y2] - dp[x2][y1 - 1]\n",
    "            for x1, y1, x2, y2 in (map(int, i) for i in inputs)\n",
    "        )\n",
    "    )"
   ]
  },
  {
   "cell_type": "markdown",
   "metadata": {},
   "source": [
    "## 예제"
   ]
  },
  {
   "cell_type": "code",
   "execution_count": 3,
   "metadata": {},
   "outputs": [],
   "source": [
    "%load_ext blackcellmagic\n",
    "# 백준 문제 풀이용 예제 실행 코드\n",
    "from bwj import test\n",
    "\n",
    "test_solution = test(solution)\n",
    "\n",
    "# test_solution(\"\"\"\"\"\")\n",
    "# test_solution(read(\"fn\").read())"
   ]
  },
  {
   "cell_type": "code",
   "execution_count": 4,
   "metadata": {},
   "outputs": [
    {
     "name": "stdout",
     "output_type": "stream",
     "text": [
      "1 2 3 4 5 6 7 8 9\n"
     ]
    }
   ],
   "source": [
    "test_solution(\n",
    "    \"\"\"3 9\n",
    "1 2 3\n",
    "4 5 6\n",
    "7 8 9\n",
    "1 1 1 1\n",
    "1 2 1 2\n",
    "1 3 1 3\n",
    "2 1 2 1\n",
    "2 2 2 2\n",
    "2 3 2 3\n",
    "3 1 3 1\n",
    "3 2 3 2\n",
    "3 3 3 3\"\"\"\n",
    ")"
   ]
  },
  {
   "cell_type": "code",
   "execution_count": 5,
   "metadata": {},
   "outputs": [
    {
     "name": "stdout",
     "output_type": "stream",
     "text": [
      "27 6 64\n"
     ]
    }
   ],
   "source": [
    "test_solution(\n",
    "    \"\"\"4 3\n",
    "1 2 3 4\n",
    "2 3 4 5\n",
    "3 4 5 6\n",
    "4 5 6 7\n",
    "2 2 3 4\n",
    "3 4 3 4\n",
    "1 1 4 4\"\"\"\n",
    ")\n",
    "# answer:\n",
    "# 27\n",
    "# 6\n",
    "# 64"
   ]
  },
  {
   "cell_type": "code",
   "execution_count": 6,
   "metadata": {},
   "outputs": [
    {
     "name": "stdout",
     "output_type": "stream",
     "text": [
      "1 2 3 4\n"
     ]
    }
   ],
   "source": [
    "test_solution(\n",
    "    \"\"\"2 4\n",
    "1 2\n",
    "3 4\n",
    "1 1 1 1\n",
    "1 2 1 2\n",
    "2 1 2 1\n",
    "2 2 2 2\"\"\"\n",
    ")\n",
    "# answer:\n",
    "# 1\n",
    "# 2\n",
    "# 3\n",
    "# 4"
   ]
  }
 ],
 "metadata": {
  "kernelspec": {
   "display_name": "venv",
   "language": "python",
   "name": "python3"
  },
  "language_info": {
   "codemirror_mode": {
    "name": "ipython",
    "version": 3
   },
   "file_extension": ".py",
   "mimetype": "text/x-python",
   "name": "python",
   "nbconvert_exporter": "python",
   "pygments_lexer": "ipython3",
   "version": "3.10.8"
  },
  "orig_nbformat": 4,
  "vscode": {
   "interpreter": {
    "hash": "72904a014a9ffe38f4c58942120b599b3c5a87d06764037548e0139929c1cde3"
   }
  }
 },
 "nbformat": 4,
 "nbformat_minor": 2
}
