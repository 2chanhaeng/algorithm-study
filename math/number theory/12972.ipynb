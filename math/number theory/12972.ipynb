{
    "cells": [
        {
            "cell_type": "markdown",
            "metadata": {},
            "source": [
                "# [백준/GCD 테이블](https://www.acmicpc.net/problem/12972)"
            ]
        },
        {
            "cell_type": "markdown",
            "metadata": {},
            "source": [
                "## 풀이과정"
            ]
        },
        {
            "cell_type": "markdown",
            "metadata": {},
            "source": [
                "### 첫번째 시도"
            ]
        },
        {
            "cell_type": "markdown",
            "metadata": {},
            "source": [
                "#### 풀이과정"
            ]
        },
        {
            "cell_type": "code",
            "execution_count": null,
            "metadata": {},
            "outputs": [],
            "source": [
                "def solution():\n",
                "    import sys\n",
                "    from math import gcd\n",
                "    from collections import Counter as count\n",
                "    from itertools import takewhile as tw\n",
                "\n",
                "    _, *arr = map(int, sys.stdin.read().split())\n",
                "    counter = count(arr)\n",
                "    keys = sorted(counter.keys(), reverse=True)\n",
                "    result = count()\n",
                "\n",
                "    for key in keys:\n",
                "        t1 = sum(result[i] for i in tw(key.__lt__, keys) if i % key == 0)\n",
                "        t3 = int(pow(counter.pop(key) + t1 * t1, 0.5)) - t1\n",
                "\n",
                "        if t3:\n",
                "            result[key] = t3\n",
                "            for i in tw(key.__lt__, keys):\n",
                "                if gcd(key, i) != key:\n",
                "                    counter[gcd(key, i)] -= 2 * t3 * result[i]\n",
                "    \n",
                "    ans = sum(([ans] * cnt for ans, cnt in result.items()), [])\n",
                "    print(*ans)\n",
                "\n",
                "\n",
                "solution()"
            ]
        },
        {
            "cell_type": "markdown",
            "metadata": {},
            "source": [
                "## 해답"
            ]
        },
        {
            "cell_type": "code",
            "execution_count": 3,
            "metadata": {},
            "outputs": [
                {
                    "name": "stdout",
                    "output_type": "stream",
                    "text": [
                        "9 8 7 6 5 4 3\n",
                        "9 8 7 6 5 4 3\n"
                    ]
                }
            ],
            "source": [
                "def solution():\n",
                "    import sys\n",
                "    from math import gcd\n",
                "    from collections import Counter as count\n",
                "    from itertools import takewhile as tw\n",
                "\n",
                "    _, *arr = map(int, sys.stdin.read().split())\n",
                "    counter = count(arr)\n",
                "    keys = sorted(counter.keys(), reverse=True)\n",
                "    result = count()\n",
                "\n",
                "    for key in keys:\n",
                "        t1 = sum(result[i] for i in tw(key.__lt__, keys) if i % key == 0)\n",
                "        t3 = int(pow(counter.pop(key) + t1 * t1, 0.5)) - t1\n",
                "\n",
                "        if t3:\n",
                "            result[key] = t3\n",
                "            for i in tw(key.__lt__, keys):\n",
                "                if gcd(key, i) != key:\n",
                "                    counter[gcd(key, i)] -= 2 * t3 * result[i]\n",
                "    \n",
                "    ans = sum(([ans] * cnt for ans, cnt in result.items()), [])\n",
                "    print(*ans)"
            ]
        },
        {
            "cell_type": "markdown",
            "metadata": {},
            "source": [
                "## 예제"
            ]
        },
        {
            "cell_type": "code",
            "execution_count": 2,
            "metadata": {},
            "outputs": [],
            "source": [
                "# black 모듈을 jupyter notebook 내에서 사용 가능하게 만들어주는 blackcellmagic 모듈 불러오기\n",
                "%load_ext blackcellmagic\n",
                "# %%black\n",
                "\n",
                "# 백준 문제 풀이용 예제 실행 코드\n",
                "from bwj import test\n",
                "test_solution = test(solution)\n",
                "\n",
                "# test_solution(\"\"\"\"\"\")\n",
                "# test_solution(read(\"fn\").read())"
            ]
        },
        {
            "cell_type": "code",
            "execution_count": 6,
            "metadata": {},
            "outputs": [
                {
                    "name": "stdout",
                    "output_type": "stream",
                    "text": [
                        "9 8 7 6 5 4 3\n"
                    ]
                }
            ],
            "source": [
                "from math import gcd\n",
                "\n",
                "example = list(range(3, 10)) # 3 4 5 6 7 8 9\n",
                "gcd_table = [gcd(i, j) for j in example for i in example]\n",
                "test_solution(f\"{len(example)}\\n{' '.join(map(str, gcd_table))}\")"
            ]
        },
        {
            "cell_type": "code",
            "execution_count": 76,
            "metadata": {},
            "outputs": [
                {
                    "name": "stdout",
                    "output_type": "stream",
                    "text": [
                        "6 4 3 2\n"
                    ]
                }
            ],
            "source": [
                "test_solution(\"\"\"4\n",
                "2 1 2 3 4 3 2 6 1 1 2 2 1 2 3 2\n",
                "\"\"\") # 4 3 6 2"
            ]
        },
        {
            "cell_type": "code",
            "execution_count": 77,
            "metadata": {},
            "outputs": [
                {
                    "name": "stdout",
                    "output_type": "stream",
                    "text": [
                        "42\n"
                    ]
                }
            ],
            "source": [
                "test_solution(\"\"\"1\n",
                "42\n",
                "\"\"\") # 42"
            ]
        },
        {
            "cell_type": "code",
            "execution_count": 78,
            "metadata": {},
            "outputs": [
                {
                    "name": "stdout",
                    "output_type": "stream",
                    "text": [
                        "1 1\n"
                    ]
                }
            ],
            "source": [
                "test_solution(\"\"\"2\n",
                "1 1 1 1\n",
                "\"\"\") # 1 1"
            ]
        }
    ],
    "metadata": {
        "kernelspec": {
            "display_name": "Python 3.10.8 ('venv': venv)",
            "language": "python",
            "name": "python3"
        },
        "language_info": {
            "codemirror_mode": {
                "name": "ipython",
                "version": 3
            },
            "file_extension": ".py",
            "mimetype": "text/x-python",
            "name": "python",
            "nbconvert_exporter": "python",
            "pygments_lexer": "ipython3",
            "version": "3.10.8"
        },
        "orig_nbformat": 4,
        "vscode": {
            "interpreter": {
                "hash": "72904a014a9ffe38f4c58942120b599b3c5a87d06764037548e0139929c1cde3"
            }
        }
    },
    "nbformat": 4,
    "nbformat_minor": 2
}
