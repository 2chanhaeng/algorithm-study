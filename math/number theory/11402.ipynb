{
 "cells": [
  {
   "cell_type": "markdown",
   "metadata": {},
   "source": [
    "# [백준/이항 계수 4](https://www.acmicpc.net/problem/11402)"
   ]
  },
  {
   "cell_type": "markdown",
   "metadata": {},
   "source": [
    "## 풀이과정"
   ]
  },
  {
   "cell_type": "markdown",
   "metadata": {},
   "source": [
    "### 첫번째 시도"
   ]
  },
  {
   "cell_type": "markdown",
   "metadata": {},
   "source": [
    "#### 풀이과정\n",
    "[뤼카의 정리](https://ko.wikipedia.org/wiki/%EB%A4%BC%EC%B9%B4%EC%9D%98_%EC%A0%95%EB%A6%AC)를 이용하여 해결하였습니다."
   ]
  },
  {
   "cell_type": "code",
   "execution_count": 15,
   "metadata": {},
   "outputs": [],
   "source": [
    "def solution():\n",
    "    import sys\n",
    "    import functools\n",
    "\n",
    "    sys.setrecursionlimit(10**6)\n",
    "    m, n, p = map(int, sys.stdin.readline().split())\n",
    "\n",
    "    @functools.cache  # 캐쉬 사용하여 시간 줄이기\n",
    "    def comb(m, n):\n",
    "        # 재귀를 이용한 간단한 이항계수\n",
    "        if m < 0 or n < 0 or m < n:\n",
    "            # m이나 n이 0 이하거나 m이 n보다 작으면 0 반환\n",
    "            return 0\n",
    "        if n in {0, m}:\n",
    "            # n이 0이나 m이면 1 반환\n",
    "            return 1\n",
    "        # 그 외에는 파스칼의 정리를 이용하여 계산 후 나머지 계산\n",
    "        return (comb(m - 1, n) + comb(m - 1, n - 1)) % p\n",
    "\n",
    "    result = 1\n",
    "    while m:\n",
    "        # 뤼카의 정리를 이용해 m이 0이 될 때까지 다음을 반복\n",
    "        m, mi = divmod(m, p)\n",
    "        # m을 p로 나눈 몫과 나머지를 m과 mi에 할당\n",
    "        n, ni = divmod(n, p)\n",
    "        # n을 p로 나눈 몫과 나머지를 n과 ni에 할당\n",
    "        result *= comb(mi, ni)\n",
    "        result %= p\n",
    "        # comb(mi, ni)를 곱하고 p로 나머지 연산\n",
    "\n",
    "    print(result)\n",
    "\n",
    "\n",
    "solution()"
   ]
  },
  {
   "cell_type": "markdown",
   "metadata": {},
   "source": [
    "## 해답"
   ]
  },
  {
   "cell_type": "code",
   "execution_count": 8,
   "metadata": {},
   "outputs": [],
   "source": [
    "def solution():\n",
    "    import sys\n",
    "    import functools\n",
    "\n",
    "    m, n, p = map(int, sys.stdin.readline().split())\n",
    "\n",
    "    @functools.cache\n",
    "    def comb(m, n):\n",
    "        if m < 0 or n < 0 or m < n:\n",
    "            return 0\n",
    "        if n in {0, m}:\n",
    "            return 1\n",
    "        return (comb(m - 1, n) + comb(m - 1, n - 1)) % p\n",
    "\n",
    "    result = 1\n",
    "    while m:\n",
    "        m, mi = divmod(m, p)\n",
    "        n, ni = divmod(n, p)\n",
    "        result *= comb(mi, ni)\n",
    "        result %= p\n",
    "\n",
    "    print(result)"
   ]
  },
  {
   "cell_type": "markdown",
   "metadata": {},
   "source": [
    "## 예제"
   ]
  },
  {
   "cell_type": "code",
   "execution_count": 9,
   "metadata": {},
   "outputs": [
    {
     "name": "stdout",
     "output_type": "stream",
     "text": [
      "The blackcellmagic extension is already loaded. To reload it, use:\n",
      "  %reload_ext blackcellmagic\n"
     ]
    }
   ],
   "source": [
    "# black 모듈을 jupyter notebook 내에서 사용 가능하게 만들어주는 blackcellmagic 모듈 불러오기\n",
    "%load_ext blackcellmagic\n",
    "# %%black\n",
    "\n",
    "# 백준 문제 풀이용 예제 실행 코드\n",
    "from bwj import test\n",
    "\n",
    "test_solution = test(solution)\n",
    "\n",
    "# test_solution(\"\"\"\"\"\")\n",
    "# test_solution(read(\"fn\").read())"
   ]
  },
  {
   "cell_type": "code",
   "execution_count": 10,
   "metadata": {},
   "outputs": [
    {
     "name": "stdout",
     "output_type": "stream",
     "text": [
      "1\n"
     ]
    }
   ],
   "source": [
    "test_solution(\n",
    "    \"\"\"5 2 3\n",
    "\"\"\"\n",
    ")  # 1"
   ]
  },
  {
   "cell_type": "code",
   "execution_count": 11,
   "metadata": {},
   "outputs": [
    {
     "name": "stdout",
     "output_type": "stream",
     "text": [
      "0\n"
     ]
    }
   ],
   "source": [
    "test_solution(\n",
    "    \"\"\"30 10 3\n",
    "\"\"\"\n",
    ")  # 0"
   ]
  },
  {
   "cell_type": "code",
   "execution_count": 12,
   "metadata": {},
   "outputs": [
    {
     "name": "stdout",
     "output_type": "stream",
     "text": [
      "1\n"
     ]
    }
   ],
   "source": [
    "test_solution(\n",
    "    \"\"\"30 3 3\n",
    "\"\"\"\n",
    ")  # 1"
   ]
  },
  {
   "cell_type": "code",
   "execution_count": 13,
   "metadata": {},
   "outputs": [
    {
     "name": "stdout",
     "output_type": "stream",
     "text": [
      "0\n"
     ]
    }
   ],
   "source": [
    "test_solution(\n",
    "    \"\"\"100 45 7\n",
    "\"\"\"\n",
    ")  # 0"
   ]
  },
  {
   "cell_type": "code",
   "execution_count": 14,
   "metadata": {},
   "outputs": [
    {
     "name": "stdout",
     "output_type": "stream",
     "text": [
      "2\n"
     ]
    }
   ],
   "source": [
    "test_solution(\n",
    "    \"\"\"100 45 13\n",
    "\"\"\"\n",
    ")  # 2"
   ]
  }
 ],
 "metadata": {
  "kernelspec": {
   "display_name": "Python 3.10.6 ('venv': venv)",
   "language": "python",
   "name": "python3"
  },
  "language_info": {
   "codemirror_mode": {
    "name": "ipython",
    "version": 3
   },
   "file_extension": ".py",
   "mimetype": "text/x-python",
   "name": "python",
   "nbconvert_exporter": "python",
   "pygments_lexer": "ipython3",
   "version": "3.10.6"
  },
  "orig_nbformat": 4,
  "vscode": {
   "interpreter": {
    "hash": "72904a014a9ffe38f4c58942120b599b3c5a87d06764037548e0139929c1cde3"
   }
  }
 },
 "nbformat": 4,
 "nbformat_minor": 2
}
