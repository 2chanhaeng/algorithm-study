{
 "cells": [
  {
   "cell_type": "markdown",
   "metadata": {},
   "source": [
    "# [백준/수학](https://www.acmicpc.net/problem/1565)"
   ]
  },
  {
   "cell_type": "markdown",
   "metadata": {},
   "source": [
    "## 풀이과정"
   ]
  },
  {
   "cell_type": "markdown",
   "metadata": {},
   "source": [
    "### 첫번째 시도"
   ]
  },
  {
   "cell_type": "markdown",
   "metadata": {},
   "source": [
    "풀이과정"
   ]
  },
  {
   "cell_type": "code",
   "execution_count": null,
   "metadata": {},
   "outputs": [],
   "source": [
    "from math import lcm, gcd\n",
    "D, M, *nums = list(map(int, open(0).split()))\n",
    "divs, muls = nums[:D], nums[D:]\n",
    "div, mul = lcm(*divs), gcd(*muls)\n",
    "if mul % div: print(0)\n",
    "else:\n",
    "    s = 1\n",
    "    muldiv = mul // div\n",
    "    for i in range(1, muldiv):\n",
    "        if muldiv % i == 0:\n",
    "            s += 1\n",
    "    print(s)"
   ]
  },
  {
   "cell_type": "markdown",
   "metadata": {},
   "source": [
    "### 두번째 시도"
   ]
  },
  {
   "cell_type": "markdown",
   "metadata": {},
   "source": [
    "풀이과정"
   ]
  },
  {
   "cell_type": "code",
   "execution_count": null,
   "metadata": {},
   "outputs": [],
   "source": [
    "from math import lcm, gcd, sqrt\n",
    "# 최소공배수, 최대공약수, 제곱근을 구하는 함수를 불러옵니다.\n",
    "lenD, lenM, *nums = list(map(int, open(0).read().split()))\n",
    "# 배열 D와 M, 그리고 그 크기들을 받습니다.\n",
    "D, M = nums[:lenD], nums[lenD:]\n",
    "# 배열 D, M을 분리합니다.\n",
    "multiple, divisor = lcm(*D), gcd(*M)\n",
    "# D의 최소공배수, M의 최대공약수를 구합니다.\n",
    "if divisor % multiple: print(0)\n",
    "# 공약수가 공배수로 나누어 떨어지지 않으면 불가능한 것으로 취급합니다.\n",
    "else:\n",
    "    # 공약수가 공배수로 나누어 떨어지면 하단을 실행합니다.\n",
    "    DperM = divisor // multiple\n",
    "    # 공약수가 공배수의 몇 배인지 몫을 구합니다.\n",
    "    rt = int(sqrt(DperM))\n",
    "    # 몫의 제곱근의 정수부를 구합니다.\n",
    "    s = 0\n",
    "    # 약수의 개수를 저장할 변수입니다.\n",
    "    for i in range(1, rt):\n",
    "        # 1부터 제곱근까지 다음을 실행합니다.\n",
    "        if muldiv % i == 0:s += 2\n",
    "        # 만약 i가 몫을 나눈다면, i와 DperM // i 둘 다 몫의 약수이므로,\n",
    "        # 약수 두 개를 찾은 것으로 간주하여 약수의 개수에 2를 더합니다.\n",
    "    if muldiv % rt == 0:\n",
    "        # 마지막으로, 제곱근의 정수부가 약수일 때,\n",
    "        s += 1 if rt * rt == muldiv else 2\n",
    "        # 만약 몫이 제곱수였다면, 약수가 하나 뿐이므로 1만 더하고\n",
    "        # 아니라면 muldiv // rt 는 rt 가 아니므로 약수가 2개입니다.\n",
    "    print(s)"
   ]
  },
  {
   "cell_type": "markdown",
   "metadata": {},
   "source": [
    "#### 골프코드"
   ]
  },
  {
   "cell_type": "code",
   "execution_count": null,
   "metadata": {},
   "outputs": [],
   "source": [
    "from math import lcm,gcd,sqrt\n",
    "l,_,*N=list(map(int,open(0).read().split()))\n",
    "D,M=N[:l],N[l:]\n",
    "D,M=lcm(*D),gcd(*M)\n",
    "s=0\n",
    "if M%D==0:\n",
    " M//=D\n",
    " r=int(sqrt(M))\n",
    " for i in range(1,r):\n",
    "  if M%i==0:s+=2\n",
    " if M%r==0:s+=1 if r*r==M else 2\n",
    "print(s)"
   ]
  },
  {
   "cell_type": "markdown",
   "metadata": {},
   "source": [
    "## 해답"
   ]
  },
  {
   "cell_type": "code",
   "execution_count": 123,
   "metadata": {},
   "outputs": [],
   "source": [
    "from math import lcm, gcd, sqrt"
   ]
  },
  {
   "cell_type": "code",
   "execution_count": 206,
   "metadata": {},
   "outputs": [],
   "source": [
    "def solution(open):\n",
    "    lenD, lenM, *nums = list(map(int, open(0).read().split()))\n",
    "    D, M = nums[:lenD], nums[lenD:]\n",
    "    div, mul = lcm(*D), gcd(*M)\n",
    "    if mul % div: print(0)\n",
    "    else:\n",
    "        muldiv = mul // div\n",
    "        rt = int(sqrt(muldiv))\n",
    "        s = 0\n",
    "        for i in range(1, rt):\n",
    "            if muldiv % i == 0:\n",
    "                s += 2\n",
    "        if muldiv % rt == 0:\n",
    "            s += 1 if rt * rt == muldiv else 2\n",
    "        print(s)"
   ]
  },
  {
   "cell_type": "markdown",
   "metadata": {},
   "source": [
    "## 테스트 결과"
   ]
  },
  {
   "cell_type": "markdown",
   "metadata": {},
   "source": [
    "|테스트|결과|\n",
    "|---:|:---|"
   ]
  },
  {
   "cell_type": "markdown",
   "metadata": {},
   "source": [
    "## 예제"
   ]
  },
  {
   "cell_type": "code",
   "execution_count": 227,
   "metadata": {},
   "outputs": [],
   "source": [
    "# 백준 문제 풀이용 예제 실행 코드\n",
    "from inspect import signature\n",
    "def solution_example(input_ = None, solution=solution):\n",
    "    params = signature(solution).parameters\n",
    "    if input_ == None:\n",
    "        solution()\n",
    "    elif 'open' in params:\n",
    "        class open:\n",
    "            def __init__(self, x):\n",
    "                self.read = lambda: input_\n",
    "            def __iter__(self):\n",
    "                return iter(input_.split(\"\\n\"))\n",
    "        solution(open)\n",
    "    elif 'input' in params:\n",
    "        input_ = iter(input_.split(\"\\n\"))\n",
    "        input = input_.__next__\n",
    "        solution(input)\n",
    "    else:\n",
    "        raise NameError(f'solution 함수가 input, open 등의 매개변수를 받지 않습니다.\\nsolution 의 매개변수: {params}')\n",
    "    \n",
    "        \n",
    "# solution_example(\"\"\"\"\"\")\n",
    "# solution_example(read(\"fn\").read())"
   ]
  },
  {
   "cell_type": "code",
   "execution_count": 230,
   "metadata": {},
   "outputs": [
    {
     "name": "stdout",
     "output_type": "stream",
     "text": [
      "4\n"
     ]
    }
   ],
   "source": [
    "solution_example(\"\"\"6 6\n",
    "30 20 12 10 6 4\n",
    "8280 6840 6120 4680 3960 2520\"\"\") # 4"
   ]
  },
  {
   "cell_type": "code",
   "execution_count": 231,
   "metadata": {},
   "outputs": [
    {
     "name": "stdout",
     "output_type": "stream",
     "text": [
      "9\n"
     ]
    }
   ],
   "source": [
    "solution_example(\"\"\"1 1\n",
    "1\n",
    "100\"\"\") # 9"
   ]
  },
  {
   "cell_type": "code",
   "execution_count": 232,
   "metadata": {},
   "outputs": [
    {
     "name": "stdout",
     "output_type": "stream",
     "text": [
      "1\n"
     ]
    }
   ],
   "source": [
    "solution_example(\"\"\"2 1\n",
    "6 9\n",
    "18\"\"\") # 1"
   ]
  },
  {
   "cell_type": "code",
   "execution_count": 233,
   "metadata": {},
   "outputs": [
    {
     "name": "stdout",
     "output_type": "stream",
     "text": [
      "0\n"
     ]
    }
   ],
   "source": [
    "solution_example(\"\"\"2 2\n",
    "6 9\n",
    "96 180\"\"\") # 0"
   ]
  },
  {
   "cell_type": "code",
   "execution_count": 234,
   "metadata": {},
   "outputs": [
    {
     "name": "stdout",
     "output_type": "stream",
     "text": [
      "7\n"
     ]
    }
   ],
   "source": [
    "solution_example(\"\"\"2 1\n",
    "2 4\n",
    "256\"\"\") # 7"
   ]
  },
  {
   "cell_type": "code",
   "execution_count": 235,
   "metadata": {},
   "outputs": [
    {
     "name": "stdout",
     "output_type": "stream",
     "text": [
      "25\n"
     ]
    }
   ],
   "source": [
    "solution_example(\"\"\"3 1\n",
    "1000 10000 100000\n",
    "1000000000\"\"\") # 25"
   ]
  }
 ],
 "metadata": {
  "interpreter": {
   "hash": "73891b0dc2e53390f36276e59930dd4ecab91b05b5c90320c2d5b1c443f87069"
  },
  "kernelspec": {
   "display_name": "Python 3.10.1 ('venv': venv)",
   "language": "python",
   "name": "python3"
  },
  "language_info": {
   "codemirror_mode": {
    "name": "ipython",
    "version": 3
   },
   "file_extension": ".py",
   "mimetype": "text/x-python",
   "name": "python",
   "nbconvert_exporter": "python",
   "pygments_lexer": "ipython3",
   "version": "3.10.1"
  },
  "orig_nbformat": 4
 },
 "nbformat": 4,
 "nbformat_minor": 2
}
