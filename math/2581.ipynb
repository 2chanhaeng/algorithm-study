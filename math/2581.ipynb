{
    "cells": [
        {
            "cell_type": "markdown",
            "metadata": {},
            "source": [
                "# [백준/소수](https://www.acmicpc.net/problem/2581)"
            ]
        },
        {
            "cell_type": "markdown",
            "metadata": {},
            "source": [
                "## 풀이과정"
            ]
        },
        {
            "cell_type": "markdown",
            "metadata": {},
            "source": [
                "### 첫번째 시도"
            ]
        },
        {
            "cell_type": "markdown",
            "metadata": {},
            "source": [
                "풀이과정"
            ]
        },
        {
            "cell_type": "code",
            "execution_count": null,
            "metadata": {},
            "outputs": [],
            "source": [
                "def solution(input):\n",
                "    start=int(input())\n",
                "    end=int(input())\n",
                "    che = [True] * (end - 1)\n",
                "    pointer = -1\n",
                "    if end > 3:\n",
                "        while (pointer := pointer + 1) <= int((end + 1) ** .5):\n",
                "            if not che[pointer]: continue\n",
                "            prime = pointer + 2\n",
                "            for multiple in range(prime * prime - 2, end - 1, prime):\n",
                "                che[multiple] = False\n",
                "        che = [False, False] + che\n",
                "    else:\n",
                "        che = [False, False, True, True, False]\n",
                "    s = 0\n",
                "    m = 0\n",
                "    for p, is_prime in enumerate(che[start:end + 1], start):\n",
                "            if is_prime:\n",
                "                s += p\n",
                "                if m < start:\n",
                "                    m = p\n",
                "    print(f\"{s}\\n{m}\" if s else -1)\n",
                "import sys\n",
                "solution(lambda: sys.stdin.readline().rstrip())"
            ]
        },
        {
            "cell_type": "markdown",
            "metadata": {},
            "source": [
                "## 해답"
            ]
        },
        {
            "cell_type": "code",
            "execution_count": 31,
            "metadata": {},
            "outputs": [],
            "source": [
                "def solution(input):\n",
                "    start=int(input())\n",
                "    end=int(input())\n",
                "    che = [True] * (end - 1)\n",
                "    pointer = -1\n",
                "    if end > 3:\n",
                "        while (pointer := pointer + 1) <= int((end + 1) ** .5):\n",
                "            if not che[pointer]: continue\n",
                "            prime = pointer + 2\n",
                "            for multiple in range(prime * prime - 2, end - 1, prime):\n",
                "                che[multiple] = False\n",
                "        che = [False, False] + che\n",
                "    else:\n",
                "        che = [False, False, True, True, False]\n",
                "    s = 0\n",
                "    m = 0\n",
                "    for p, is_prime in enumerate(che[start:end + 1], start):\n",
                "            if is_prime:\n",
                "                s += p\n",
                "                if m < start:\n",
                "                    m = p\n",
                "    print(f\"{s}\\n{m}\" if s else -1)"
            ]
        },
        {
            "cell_type": "markdown",
            "metadata": {},
            "source": [
                "## 예제"
            ]
        },
        {
            "cell_type": "code",
            "execution_count": 32,
            "metadata": {},
            "outputs": [],
            "source": [
                "# 백준 문제 풀이용 예제 실행 코드\n",
                "from bwj import test\n",
                "test_solution = test(solution)\n",
                "\n",
                "# test_solution(\"\"\"\"\"\")\n",
                "# test_solution(read(\"fn\").read())"
            ]
        },
        {
            "cell_type": "code",
            "execution_count": 33,
            "metadata": {},
            "outputs": [
                {
                    "name": "stdout",
                    "output_type": "stream",
                    "text": [
                        "0 61\n",
                        "620\n",
                        "61\n"
                    ]
                }
            ],
            "source": [
                "test_solution(\"\"\"60\n",
                "100\"\"\")\n",
                "# answer:\n",
                "# 620\n",
                "# 61"
            ]
        },
        {
            "cell_type": "code",
            "execution_count": 34,
            "metadata": {},
            "outputs": [
                {
                    "name": "stdout",
                    "output_type": "stream",
                    "text": [
                        "-1\n"
                    ]
                }
            ],
            "source": [
                "test_solution(\"\"\"64\n",
                "65\"\"\") # -1"
            ]
        }
    ],
    "metadata": {
        "interpreter": {
            "hash": "73891b0dc2e53390f36276e59930dd4ecab91b05b5c90320c2d5b1c443f87069"
        },
        "kernelspec": {
            "display_name": "Python 3.10.1 ('venv': venv)",
            "language": "python",
            "name": "python3"
        },
        "language_info": {
            "codemirror_mode": {
                "name": "ipython",
                "version": 3
            },
            "file_extension": ".py",
            "mimetype": "text/x-python",
            "name": "python",
            "nbconvert_exporter": "python",
            "pygments_lexer": "ipython3",
            "version": "3.10.1"
        },
        "orig_nbformat": 4
    },
    "nbformat": 4,
    "nbformat_minor": 2
}
