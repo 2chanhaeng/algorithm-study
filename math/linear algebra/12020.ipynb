{
 "cells": [
  {
   "cell_type": "markdown",
   "metadata": {},
   "source": [
    "# [백준/LU 분해](https://www.acmicpc.net/problem/12020)"
   ]
  },
  {
   "cell_type": "markdown",
   "metadata": {},
   "source": [
    "## 풀이과정"
   ]
  },
  {
   "cell_type": "markdown",
   "metadata": {},
   "source": [
    "### 첫번째 시도"
   ]
  },
  {
   "cell_type": "markdown",
   "metadata": {},
   "source": [
    "#### 풀이과정"
   ]
  },
  {
   "cell_type": "code",
   "execution_count": null,
   "metadata": {},
   "outputs": [],
   "source": [
    "# refer https://www.acmicpc.net/source/51496381\n",
    "\n",
    "\n",
    "def print_m(m):\n",
    "    print(\"\\n\".join(\" \".join(str(round(x, 3)) for x in row) for row in m))\n",
    "\n",
    "\n",
    "def solution():\n",
    "    import sys\n",
    "\n",
    "    N = int(sys.stdin.readline())\n",
    "    U = [[int(x) for x in line.split()] for line in sys.stdin.read().splitlines()]\n",
    "    L = [[1 if i == j else 0 for i in range(N)] for j in range(N)]\n",
    "\n",
    "    for i in range(N - 4):\n",
    "        if U[i][i] == 0:\n",
    "            print(-1)\n",
    "            return\n",
    "        L[i + 1][i] = U[i + 1][i] / U[i][i]\n",
    "        for k in range(i, i + 3):\n",
    "            U[i + 1][k] -= U[i][k] * L[i + 1][i]\n",
    "\n",
    "    for i in range(N - 4, N - 1):\n",
    "        if U[i][i] == 0:\n",
    "            print(-1)\n",
    "            return\n",
    "        L[i + 1][i] = U[i + 1][i] / U[i][i]\n",
    "        for k in range(i, N):\n",
    "            U[i + 1][k] -= U[i][k] * L[i + 1][i]\n",
    "\n",
    "    print_m(L)\n",
    "    print_m(U)\n",
    "\n",
    "\n",
    "solution()"
   ]
  },
  {
   "cell_type": "markdown",
   "metadata": {},
   "source": [
    "## 해답"
   ]
  },
  {
   "cell_type": "code",
   "execution_count": 271,
   "metadata": {},
   "outputs": [],
   "source": [
    "def print_m(m):\n",
    "    print(\"\\n\".join(\" \".join(str(round(x, 3)) for x in row) for row in m))"
   ]
  },
  {
   "cell_type": "code",
   "execution_count": 276,
   "metadata": {},
   "outputs": [],
   "source": [
    "def solution():\n",
    "    import sys\n",
    "\n",
    "    N = int(sys.stdin.readline())\n",
    "    U = [[int(x) for x in line.split()] for line in sys.stdin.read().splitlines()]\n",
    "    L = [[1 if i == j else 0 for i in range(N)] for j in range(N)]\n",
    "\n",
    "    for i in range(N - 4):\n",
    "        if U[i][i] == 0:\n",
    "            print(-1)\n",
    "            return\n",
    "        L[i + 1][i] = U[i + 1][i] / U[i][i]\n",
    "        for k in range(i, i + 3):\n",
    "            U[i + 1][k] -= U[i][k] * L[i + 1][i]\n",
    "\n",
    "    for i in range(N - 4, N - 1):\n",
    "        if U[i][i] == 0:\n",
    "            print(-1)\n",
    "            return\n",
    "        L[i + 1][i] = U[i + 1][i] / U[i][i]\n",
    "        for k in range(i, N):\n",
    "            U[i + 1][k] -= U[i][k] * L[i + 1][i]\n",
    "\n",
    "    print_m(L)\n",
    "    print_m(U)"
   ]
  },
  {
   "cell_type": "markdown",
   "metadata": {},
   "source": [
    "## 예제"
   ]
  },
  {
   "cell_type": "code",
   "execution_count": 277,
   "metadata": {},
   "outputs": [
    {
     "name": "stdout",
     "output_type": "stream",
     "text": [
      "The blackcellmagic extension is already loaded. To reload it, use:\n",
      "  %reload_ext blackcellmagic\n"
     ]
    }
   ],
   "source": [
    "# black 모듈을 jupyter notebook 내에서 사용 가능하게 만들어주는 blackcellmagic 모듈 불러오기\n",
    "%load_ext blackcellmagic\n",
    "# %%black\n",
    "\n",
    "# 백준 문제 풀이용 예제 실행 코드\n",
    "from bwj import test\n",
    "\n",
    "test_solution = test(solution)\n",
    "\n",
    "# test_solution(\"\"\"\"\"\")\n",
    "# test_solution(read(\"fn\").read())"
   ]
  },
  {
   "cell_type": "code",
   "execution_count": 278,
   "metadata": {},
   "outputs": [
    {
     "name": "stdout",
     "output_type": "stream",
     "text": [
      "1 0 0.217\n",
      "-4.128 1 0\n",
      "0 3.0 1\n",
      "-1.696 -1.13 -5.0\n",
      "-0.0 6.333 -7.641\n",
      "17 0.0 45.923\n"
     ]
    }
   ],
   "source": [
    "test_solution(\n",
    "    \"\"\"3\n",
    "2 3 5\n",
    "7 11 13\n",
    "17 19 23\n",
    "\"\"\"\n",
    ")"
   ]
  },
  {
   "cell_type": "code",
   "execution_count": 279,
   "metadata": {},
   "outputs": [
    {
     "name": "stdout",
     "output_type": "stream",
     "text": [
      "1 0 0.0\n",
      "1.0 1 0\n",
      "0 -1.0 1\n",
      "1.0 1.0 0.0\n",
      "0.0 -1.0 1.0\n",
      "0 0.0 2.0\n"
     ]
    }
   ],
   "source": [
    "test_solution(\n",
    "    \"\"\"3\n",
    "1 1 0\n",
    "1 0 1\n",
    "0 1 1\n",
    "\"\"\"\n",
    ")\n",
    "# answer:\n",
    "# 1.000 0.000 0.000\n",
    "# 1.000 1.000 0.000\n",
    "# 0.000 -1.000 1.000\n",
    "# 1.000 1.000 0.000\n",
    "# 0.000 -1.000 1.000\n",
    "# 0.000 0.000 2.000"
   ]
  }
 ],
 "metadata": {
  "kernelspec": {
   "display_name": "Python 3.10.8 ('venv': venv)",
   "language": "python",
   "name": "python3"
  },
  "language_info": {
   "codemirror_mode": {
    "name": "ipython",
    "version": 3
   },
   "file_extension": ".py",
   "mimetype": "text/x-python",
   "name": "python",
   "nbconvert_exporter": "python",
   "pygments_lexer": "ipython3",
   "version": "3.10.8"
  },
  "orig_nbformat": 4,
  "vscode": {
   "interpreter": {
    "hash": "72904a014a9ffe38f4c58942120b599b3c5a87d06764037548e0139929c1cde3"
   }
  }
 },
 "nbformat": 4,
 "nbformat_minor": 2
}
