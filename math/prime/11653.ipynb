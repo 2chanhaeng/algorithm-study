{
    "cells": [
        {
            "cell_type": "markdown",
            "metadata": {},
            "source": [
                "# [백준/소인수분해](https://www.acmicpc.net/problem/11653)"
            ]
        },
        {
            "cell_type": "markdown",
            "metadata": {},
            "source": [
                "## 풀이과정"
            ]
        },
        {
            "cell_type": "markdown",
            "metadata": {},
            "source": [
                "### 첫번째 시도"
            ]
        },
        {
            "cell_type": "markdown",
            "metadata": {},
            "source": [
                "풀이과정"
            ]
        },
        {
            "cell_type": "code",
            "execution_count": null,
            "metadata": {},
            "outputs": [],
            "source": [
                "def solution(input):\n",
                "    n=int(input())\n",
                "    if n==1:\n",
                "        return\n",
                "    che = [False, False] + [True] * 3163\n",
                "    while n & 1 == 0:\n",
                "        n >>= 1\n",
                "        print(2)\n",
                "    for i, is_prime in enumerate(che[3::2], start=1):\n",
                "        if not is_prime:\n",
                "            continue\n",
                "        prime = i * 2 + 1\n",
                "        while n % prime == 0:\n",
                "            n //= prime\n",
                "            print(prime)\n",
                "        che[prime * prime::prime] = [False] * ((3164 - prime * prime) // prime + 1)\n",
                "    else:\n",
                "        if n != 1:\n",
                "            print(n)\n",
                "import sys\n",
                "solution(lambda: sys.stdin.readline().rstrip())"
            ]
        },
        {
            "cell_type": "markdown",
            "metadata": {},
            "source": [
                "## 해답"
            ]
        },
        {
            "cell_type": "code",
            "execution_count": 175,
            "metadata": {},
            "outputs": [
                {
                    "data": {
                        "text/plain": [
                            "9840769"
                        ]
                    },
                    "execution_count": 175,
                    "metadata": {},
                    "output_type": "execute_result"
                }
            ],
            "source": [
                "3137 * 3137"
            ]
        },
        {
            "cell_type": "code",
            "execution_count": 264,
            "metadata": {},
            "outputs": [],
            "source": [
                "def solution(input):\n",
                "    n=int(input())\n",
                "    if n==1:\n",
                "        return\n",
                "    che = [False, False] + [True] * 3163\n",
                "    while n & 1 == 0:\n",
                "        n >>= 1\n",
                "        print(2)\n",
                "    for i, is_prime in enumerate(che[3::2], start=1):\n",
                "        if not is_prime:\n",
                "            continue\n",
                "        prime = i * 2 + 1\n",
                "        while n % prime == 0:\n",
                "            n //= prime\n",
                "            print(prime)\n",
                "        che[prime * prime::prime] = [False] * ((3164 - prime * prime) // prime + 1)\n",
                "    else:\n",
                "        if n != 1:\n",
                "            print(n)"
            ]
        },
        {
            "cell_type": "markdown",
            "metadata": {},
            "source": [
                "## 예제"
            ]
        },
        {
            "cell_type": "code",
            "execution_count": 265,
            "metadata": {},
            "outputs": [],
            "source": [
                "# 백준 문제 풀이용 예제 실행 코드\n",
                "from bwj import test\n",
                "test_solution = test(solution)\n",
                "\n",
                "# test_solution(\"\"\"\"\"\")\n",
                "# test_solution(read(\"fn\").read())"
            ]
        },
        {
            "cell_type": "code",
            "execution_count": 266,
            "metadata": {},
            "outputs": [
                {
                    "name": "stdout",
                    "output_type": "stream",
                    "text": [
                        "3121\n",
                        "3137\n"
                    ]
                }
            ],
            "source": [
                "test_solution(str(3121 * 3137))\n"
            ]
        },
        {
            "cell_type": "code",
            "execution_count": 267,
            "metadata": {},
            "outputs": [
                {
                    "name": "stdout",
                    "output_type": "stream",
                    "text": [
                        "9999991\n"
                    ]
                }
            ],
            "source": [
                "test_solution(\"9999991\")"
            ]
        },
        {
            "cell_type": "code",
            "execution_count": 268,
            "metadata": {},
            "outputs": [
                {
                    "name": "stdout",
                    "output_type": "stream",
                    "text": [
                        "2\n",
                        "3\n",
                        "5\n",
                        "7\n",
                        "11\n",
                        "13\n",
                        "17\n",
                        "19\n"
                    ]
                }
            ],
            "source": [
                "test_solution(str(2 * 3 * 5 * 7 * 11 * 13 * 17 * 19))"
            ]
        },
        {
            "cell_type": "code",
            "execution_count": 269,
            "metadata": {},
            "outputs": [
                {
                    "name": "stdout",
                    "output_type": "stream",
                    "text": [
                        "2\n",
                        "3\n",
                        "5\n",
                        "7\n",
                        "11\n",
                        "13\n",
                        "17\n",
                        "19\n"
                    ]
                }
            ],
            "source": [
                "test_solution(str(2 * 3 * 5 * 7 * 11 * 13 * 17 * 19))\n",
                "# 2\n",
                "# 3\n",
                "# 5\n",
                "# 7\n",
                "# 11\n",
                "# 13\n",
                "# 17\n",
                "# 19"
            ]
        },
        {
            "cell_type": "code",
            "execution_count": 270,
            "metadata": {},
            "outputs": [
                {
                    "name": "stdout",
                    "output_type": "stream",
                    "text": [
                        "2\n",
                        "2\n",
                        "2\n",
                        "3\n",
                        "3\n"
                    ]
                }
            ],
            "source": [
                "test_solution(\"\"\"72\"\"\")\n",
                "# answer:\n",
                "# 2\n",
                "# 2\n",
                "# 2\n",
                "# 3\n",
                "# 3"
            ]
        },
        {
            "cell_type": "code",
            "execution_count": 271,
            "metadata": {},
            "outputs": [
                {
                    "name": "stdout",
                    "output_type": "stream",
                    "text": [
                        "3\n"
                    ]
                }
            ],
            "source": [
                "test_solution(\"\"\"3\"\"\") # 3"
            ]
        },
        {
            "cell_type": "code",
            "execution_count": 272,
            "metadata": {},
            "outputs": [
                {
                    "name": "stdout",
                    "output_type": "stream",
                    "text": [
                        "2\n",
                        "3\n"
                    ]
                }
            ],
            "source": [
                "test_solution(\"\"\"6\"\"\")\n",
                "# answer:\n",
                "# 2\n",
                "# 3"
            ]
        },
        {
            "cell_type": "code",
            "execution_count": 273,
            "metadata": {},
            "outputs": [
                {
                    "name": "stdout",
                    "output_type": "stream",
                    "text": [
                        "2\n"
                    ]
                }
            ],
            "source": [
                "test_solution(\"\"\"2\"\"\") # 2"
            ]
        },
        {
            "cell_type": "code",
            "execution_count": 274,
            "metadata": {},
            "outputs": [
                {
                    "name": "stdout",
                    "output_type": "stream",
                    "text": [
                        "97\n",
                        "103\n"
                    ]
                }
            ],
            "source": [
                "test_solution(\"\"\"9991\"\"\")\n",
                "# answer:\n",
                "# 97\n",
                "# 103"
            ]
        }
    ],
    "metadata": {
        "interpreter": {
            "hash": "73891b0dc2e53390f36276e59930dd4ecab91b05b5c90320c2d5b1c443f87069"
        },
        "kernelspec": {
            "display_name": "Python 3.10.1 ('venv': venv)",
            "language": "python",
            "name": "python3"
        },
        "language_info": {
            "codemirror_mode": {
                "name": "ipython",
                "version": 3
            },
            "file_extension": ".py",
            "mimetype": "text/x-python",
            "name": "python",
            "nbconvert_exporter": "python",
            "pygments_lexer": "ipython3",
            "version": "3.10.1"
        },
        "orig_nbformat": 4
    },
    "nbformat": 4,
    "nbformat_minor": 2
}
