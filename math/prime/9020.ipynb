{
 "cells": [
  {
   "cell_type": "markdown",
   "metadata": {},
   "source": [
    "# [백준/골드바흐의 추측](https://www.acmicpc.net/problem/9020)"
   ]
  },
  {
   "cell_type": "markdown",
   "metadata": {},
   "source": [
    "## 풀이과정"
   ]
  },
  {
   "cell_type": "markdown",
   "metadata": {},
   "source": [
    "### 첫번째 시도"
   ]
  },
  {
   "cell_type": "markdown",
   "metadata": {},
   "source": [
    "풀이과정"
   ]
  },
  {
   "cell_type": "code",
   "execution_count": null,
   "metadata": {},
   "outputs": [],
   "source": [
    "def solution(input):\n",
    "    che = [False, False, True, True] + [False, True] * 4998\n",
    "    for i, is_prime in enumerate(che[3::2], start=1):\n",
    "        if not is_prime:\n",
    "            continue\n",
    "        prime = i * 2 + 1\n",
    "        che[prime * prime :: 2 * prime] = [False] * (\n",
    "            (10000 - prime * prime) // (2 * prime) + 1\n",
    "        )\n",
    "    for _ in range(int(input())):\n",
    "        n = int(input())\n",
    "        if n == 4:\n",
    "            print(2, 2)\n",
    "        n2 = n // 2\n",
    "        if n2 % 2 == 0:\n",
    "            n2 -= 1\n",
    "        for prime in range(n2, 0, -2):\n",
    "            if che[prime] and che[n - prime]:\n",
    "                print(prime, n - prime)\n",
    "                break\n",
    "\n",
    "\n",
    "import sys\n",
    "\n",
    "solution(lambda: sys.stdin.readline().rstrip())"
   ]
  },
  {
   "cell_type": "code",
   "execution_count": null,
   "metadata": {},
   "outputs": [],
   "source": [
    "def solution(input):\n",
    "    che = [False, False, True, True] + [False, True] * 4998\n",
    "    for i, is_prime in enumerate(che[3::2], start=1):\n",
    "        if not is_prime:\n",
    "            continue\n",
    "        prime = i * 2 + 1\n",
    "        che[prime * prime :: 2 * prime] = [False] * (\n",
    "            (10000 - prime * prime) // (2 * prime) + 1\n",
    "        )\n",
    "    for _ in range(int(input())):\n",
    "        n = int(input())\n",
    "        if n == 4:\n",
    "            print(2, 2)\n",
    "        n2 = n // 2\n",
    "        if n2 % 2 == 0:\n",
    "            n2 -= 1\n",
    "        for prime in range(n2, 0, -2):\n",
    "            if che[prime] and che[n - prime]:\n",
    "                print(prime, n - prime)\n",
    "                break\n",
    "\n",
    "\n",
    "import sys\n",
    "\n",
    "solution(lambda: sys.stdin.readline().rstrip())"
   ]
  },
  {
   "cell_type": "markdown",
   "metadata": {},
   "source": [
    "### 두번째 시도"
   ]
  },
  {
   "cell_type": "markdown",
   "metadata": {},
   "source": [
    "풀이과정"
   ]
  },
  {
   "cell_type": "code",
   "execution_count": null,
   "metadata": {},
   "outputs": [],
   "source": [
    "import sys\n",
    "from itertools import count, takewhile\n",
    "\n",
    "sys.setrecursionlimit(10000)\n",
    "\n",
    "\n",
    "def sieve(nums):\n",
    "    yield (p := next(nums))\n",
    "    yield from sieve(n for n in nums if n % p != 0)\n",
    "\n",
    "\n",
    "def primes_below(n):\n",
    "    yield 2\n",
    "    yield from takewhile(n.__gt__, sieve(count(3, 2)))\n",
    "\n",
    "\n",
    "is_primes = set(primes_below(10000)).__contains__\n",
    "\n",
    "\n",
    "def is_both_prime(nm):\n",
    "    return all(map(is_primes, nm))\n",
    "\n",
    "\n",
    "def divide_not_4(n):\n",
    "    np2 = n // 2 - 1 + (n // 2) % 2\n",
    "    np2_and_n_m_np2 = zip(range(np2, 0, -2), range(n - np2, n, 2))\n",
    "    p, q = next(filter(is_both_prime, np2_and_n_m_np2))\n",
    "    return f\"{p} {q}\"\n",
    "\n",
    "\n",
    "def divide(n):\n",
    "    return \"2 2\" if n == 4 else divide_not_4(n)\n",
    "\n",
    "\n",
    "def solution():\n",
    "    next(input := map(int, sys.stdin.read().split()))\n",
    "    print(*map(divide, input), sep=\"\\n\")\n",
    "\n",
    "\n",
    "solution()"
   ]
  },
  {
   "cell_type": "markdown",
   "metadata": {},
   "source": [
    "## 해답"
   ]
  },
  {
   "cell_type": "code",
   "execution_count": 23,
   "metadata": {},
   "outputs": [],
   "source": [
    "def solution(open):\n",
    "    che = [False, False, True, True] + [False, True] * 4998\n",
    "    for i, is_prime in enumerate(che[3::2], start=1):\n",
    "        if not is_prime:\n",
    "            continue\n",
    "        prime = i * 2 + 1\n",
    "        che[prime * prime :: 2 * prime] = [False] * (\n",
    "            (10000 - prime * prime) // (2 * prime) + 1\n",
    "        )\n",
    "    for i in [*open(0)][1:]:\n",
    "        n = int(i)\n",
    "        if n == 4:\n",
    "            print(2, 2)\n",
    "        n2 = n // 2\n",
    "        if n2 % 2 == 0:\n",
    "            n2 -= 1\n",
    "        for prime in range(n2, 0, -2):\n",
    "            if che[prime] and che[n - prime]:\n",
    "                print(prime, n - prime)\n",
    "                break"
   ]
  },
  {
   "cell_type": "code",
   "execution_count": 1,
   "metadata": {},
   "outputs": [],
   "source": [
    "def solution(open):\n",
    "    che = [False, False, True, True] + [False, True] * 4998\n",
    "    for i, is_prime in enumerate(che[3::2], start=1):\n",
    "        if not is_prime:\n",
    "            continue\n",
    "        prime = i * 2 + 1\n",
    "        che[prime * prime :: 2 * prime] = [False] * (\n",
    "            (10000 - prime * prime) // (2 * prime) + 1\n",
    "        )\n",
    "    input = iter(open(0).read().split(\"\\n\")).__next__\n",
    "    for _ in range(int(input())):\n",
    "        n = int(input())\n",
    "        if n == 4:\n",
    "            print(2, 2)\n",
    "        n2 = n // 2\n",
    "        if n2 % 2 == 0:\n",
    "            n2 -= 1\n",
    "        for prime in range(n2, 0, -2):\n",
    "            if che[prime] and che[n - prime]:\n",
    "                print(prime, n - prime)\n",
    "                break"
   ]
  },
  {
   "cell_type": "code",
   "execution_count": 1,
   "metadata": {},
   "outputs": [],
   "source": [
    "from itertools import count, takewhile\n",
    "def sieve(nums):\n",
    "    yield (p := next(nums))\n",
    "    yield from sieve(n for n in nums if n % p != 0)\n",
    "\n",
    "def primes_below(n):\n",
    "    yield 2\n",
    "    yield from takewhile(n.__gt__, sieve(count(3, 2)))"
   ]
  },
  {
   "cell_type": "code",
   "execution_count": 2,
   "metadata": {},
   "outputs": [
    {
     "name": "stdout",
     "output_type": "stream",
     "text": [
      "[2, 3, 5, 7, 11, 13, 17, 19, 23, 29, 31, 37, 41, 43, 47, 53, 59, 61, 67, 71, 73, 79, 83, 89, 97]\n"
     ]
    }
   ],
   "source": [
    "# print primes below 10\n",
    "print(list(primes_below(100)))\n"
   ]
  },
  {
   "cell_type": "code",
   "execution_count": 82,
   "metadata": {},
   "outputs": [],
   "source": [
    "is_primes = set(primes_below(10000)).__contains__\n",
    "\n",
    "def is_both_prime(nm):\n",
    "    return all(map(is_primes, nm))\n",
    "\n",
    "def divide_not_4(n):\n",
    "    np2 = n // 2 - 1 + (n // 2) % 2\n",
    "    np2_and_n_m_np2 = zip(range(np2, 0, -2), range(n - np2, n, 2))\n",
    "    p, q = next(filter(is_both_prime, np2_and_n_m_np2))\n",
    "    return f\"{p} {q}\"\n",
    "\n",
    "def divide(n):\n",
    "    return \"2 2\" if n == 4 else divide_not_4(n)"
   ]
  },
  {
   "cell_type": "code",
   "execution_count": 83,
   "metadata": {},
   "outputs": [],
   "source": [
    "def solution():\n",
    "    import sys\n",
    "\n",
    "    next(input := map(int, sys.stdin.read().split()))\n",
    "    print(*map(divide, input), sep=\"\\n\")"
   ]
  },
  {
   "cell_type": "markdown",
   "metadata": {},
   "source": [
    "## 예제"
   ]
  },
  {
   "cell_type": "code",
   "execution_count": 84,
   "metadata": {},
   "outputs": [],
   "source": [
    "# 백준 문제 풀이용 예제 실행 코드\n",
    "from bwj import test\n",
    "\n",
    "test_solution = test(solution)\n",
    "\n",
    "# test_solution(\"\"\"\"\"\")\n",
    "# test_solution(read(\"fn\").read())"
   ]
  },
  {
   "cell_type": "code",
   "execution_count": 85,
   "metadata": {},
   "outputs": [
    {
     "name": "stdout",
     "output_type": "stream",
     "text": [
      "7 13\n",
      "47 53\n",
      "491 509\n",
      "4919 5081\n",
      "41 47\n"
     ]
    }
   ],
   "source": [
    "example = [20, 100, 1000, 10000, 88]\n",
    "test_solution(\"\\n\".join(map(str, [len(example)] + example)))"
   ]
  },
  {
   "cell_type": "code",
   "execution_count": 86,
   "metadata": {},
   "outputs": [
    {
     "name": "stdout",
     "output_type": "stream",
     "text": [
      "4919 5081\n",
      "4999 4999\n",
      "4993 5003\n",
      "4973 5021\n",
      "4993 4999\n",
      "4987 5003\n",
      "4967 5021\n",
      "4993 4993\n",
      "4973 5011\n",
      "4973 5009\n",
      "4987 4993\n"
     ]
    }
   ],
   "source": [
    "example = list(range(10000, 10000 - 22, -2))\n",
    "test_solution(\"\\n\".join(map(str, [len(example)] + example)))"
   ]
  },
  {
   "cell_type": "code",
   "execution_count": 87,
   "metadata": {},
   "outputs": [
    {
     "name": "stdout",
     "output_type": "stream",
     "text": [
      "2 2\n",
      "3 3\n",
      "3 5\n",
      "5 5\n",
      "5 7\n",
      "7 7\n",
      "5 11\n",
      "7 11\n",
      "7 13\n",
      "11 11\n",
      "11 13\n"
     ]
    }
   ],
   "source": [
    "example = list(range(4, 4 + 22, 2))\n",
    "test_solution(\"\\n\".join(map(str, [len(example)] + example)))"
   ]
  },
  {
   "cell_type": "code",
   "execution_count": 88,
   "metadata": {},
   "outputs": [
    {
     "name": "stdout",
     "output_type": "stream",
     "text": [
      "3 5\n",
      "5 5\n",
      "5 11\n"
     ]
    }
   ],
   "source": [
    "test_solution(\n",
    "    \"\"\"3\n",
    "8\n",
    "10\n",
    "16\"\"\"\n",
    ")\n",
    "# answer:\n",
    "# 3 5\n",
    "# 5 5\n",
    "# 5 11"
   ]
  }
 ],
 "metadata": {
  "kernelspec": {
   "display_name": "Python 3.10.8 ('venv': venv)",
   "language": "python",
   "name": "python3"
  },
  "language_info": {
   "codemirror_mode": {
    "name": "ipython",
    "version": 3
   },
   "file_extension": ".py",
   "mimetype": "text/x-python",
   "name": "python",
   "nbconvert_exporter": "python",
   "pygments_lexer": "ipython3",
   "version": "3.10.8"
  },
  "orig_nbformat": 4,
  "vscode": {
   "interpreter": {
    "hash": "72904a014a9ffe38f4c58942120b599b3c5a87d06764037548e0139929c1cde3"
   }
  }
 },
 "nbformat": 4,
 "nbformat_minor": 2
}
