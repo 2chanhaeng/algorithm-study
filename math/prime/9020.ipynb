{
    "cells": [
        {
            "cell_type": "markdown",
            "metadata": {},
            "source": [
                "# [백준/골드바흐의 추측](https://www.acmicpc.net/problem/9020)"
            ]
        },
        {
            "cell_type": "markdown",
            "metadata": {},
            "source": [
                "## 풀이과정"
            ]
        },
        {
            "cell_type": "markdown",
            "metadata": {},
            "source": [
                "### 첫번째 시도"
            ]
        },
        {
            "cell_type": "markdown",
            "metadata": {},
            "source": [
                "풀이과정"
            ]
        },
        {
            "cell_type": "code",
            "execution_count": null,
            "metadata": {},
            "outputs": [],
            "source": [
                "def solution(input):\n",
                "    che = [False, False, True, True] + [False, True] * 4998\n",
                "    for i, is_prime in enumerate(che[3::2], start=1):\n",
                "        if not is_prime:\n",
                "            continue\n",
                "        prime = i * 2 + 1\n",
                "        che[prime * prime::2 * prime] = [False] * ((10000 - prime * prime) // (2 * prime) + 1)\n",
                "    for _ in range(int(input())):\n",
                "        n = int(input())\n",
                "        if n == 4:\n",
                "            print(2, 2)\n",
                "        n2 = n // 2\n",
                "        if n2 % 2 == 0:\n",
                "            n2 -= 1\n",
                "        for prime in range(n2, 0, -2):\n",
                "            if che[prime] and che[n - prime]:\n",
                "                print(prime, n - prime)\n",
                "                break\n",
                "import sys\n",
                "solution(lambda: sys.stdin.readline().rstrip())"
            ]
        },
        {
            "cell_type": "code",
            "execution_count": null,
            "metadata": {},
            "outputs": [],
            "source": [
                "def solution(input):\n",
                "    che = [False, False, True, True] + [False, True] * 4998\n",
                "    for i, is_prime in enumerate(che[3::2], start=1):\n",
                "        if not is_prime:\n",
                "            continue\n",
                "        prime = i * 2 + 1\n",
                "        che[prime * prime::2 * prime] = [False] * ((10000 - prime * prime) // (2 * prime) + 1)\n",
                "    for _ in range(int(input())):\n",
                "        n = int(input())\n",
                "        if n == 4:\n",
                "            print(2, 2)\n",
                "        n2 = n // 2\n",
                "        if n2 % 2 == 0:\n",
                "            n2 -= 1\n",
                "        for prime in range(n2, 0, -2):\n",
                "            if che[prime] and che[n - prime]:\n",
                "                print(prime, n - prime)\n",
                "                break\n",
                "import sys\n",
                "solution(lambda: sys.stdin.readline().rstrip())"
            ]
        },
        {
            "cell_type": "markdown",
            "metadata": {},
            "source": [
                "## 해답"
            ]
        },
        {
            "cell_type": "code",
            "execution_count": 6,
            "metadata": {},
            "outputs": [
                {
                    "data": {
                        "text/plain": [
                            "4998"
                        ]
                    },
                    "execution_count": 6,
                    "metadata": {},
                    "output_type": "execute_result"
                }
            ],
            "source": [
                "len(([False, False, True, True] + [False, True] * 4998)[4::2])"
            ]
        },
        {
            "cell_type": "code",
            "execution_count": 7,
            "metadata": {},
            "outputs": [
                {
                    "name": "stdout",
                    "output_type": "stream",
                    "text": [
                        "48.6 µs ± 325 ns per loop (mean ± std. dev. of 7 runs, 10,000 loops each)\n",
                        "67.6 µs ± 417 ns per loop (mean ± std. dev. of 7 runs, 10,000 loops each)\n"
                    ]
                }
            ],
            "source": [
                "%timeit che = [False, False, True, True] + [False, True, False, False, False, True] * 1666\n",
                "%timeit che = [False, False, True, True] + [False, True] * 4998; che[4::2] = [False] * 4998\n"
            ]
        },
        {
            "cell_type": "code",
            "execution_count": 17,
            "metadata": {},
            "outputs": [],
            "source": [
                "def solution(input):\n",
                "    che = [False, False, True, True] + [False, True] * 4998\n",
                "    for i, is_prime in enumerate(che[3::2], start=1):\n",
                "        if not is_prime:\n",
                "            continue\n",
                "        prime = i * 2 + 1\n",
                "        che[prime * prime::2 * prime] = [False] * ((10000 - prime * prime) // (2 * prime) + 1)\n",
                "    for _ in range(int(input())):\n",
                "        n = int(input())\n",
                "        if n == 4:\n",
                "            print(2, 2)\n",
                "        n2 = n // 2\n",
                "        if n2 % 2 == 0:\n",
                "            n2 -= 1\n",
                "        for prime in range(n2, 0, -2):\n",
                "            if che[prime] and che[n - prime]:\n",
                "                print(prime, n - prime)\n",
                "                break"
            ]
        },
        {
            "cell_type": "code",
            "execution_count": 23,
            "metadata": {},
            "outputs": [],
            "source": [
                "def solution(open):\n",
                "    che = [False, False, True, True] + [False, True] * 4998\n",
                "    for i, is_prime in enumerate(che[3::2], start=1):\n",
                "        if not is_prime:\n",
                "            continue\n",
                "        prime = i * 2 + 1\n",
                "        che[prime * prime::2 * prime] = [False] * ((10000 - prime * prime) // (2 * prime) + 1)\n",
                "    for i in [*open(0)][1:]:\n",
                "        n = int(i)\n",
                "        if n == 4:\n",
                "            print(2, 2)\n",
                "        n2 = n // 2\n",
                "        if n2 % 2 == 0:\n",
                "            n2 -= 1\n",
                "        for prime in range(n2, 0, -2):\n",
                "            if che[prime] and che[n - prime]:\n",
                "                print(prime, n - prime)\n",
                "                break"
            ]
        },
        {
            "cell_type": "markdown",
            "metadata": {},
            "source": [
                "## 예제"
            ]
        },
        {
            "cell_type": "code",
            "execution_count": 24,
            "metadata": {},
            "outputs": [],
            "source": [
                "# 백준 문제 풀이용 예제 실행 코드\n",
                "from bwj import test\n",
                "test_solution = test(solution)\n",
                "\n",
                "# test_solution(\"\"\"\"\"\")\n",
                "# test_solution(read(\"fn\").read())"
            ]
        },
        {
            "cell_type": "code",
            "execution_count": 25,
            "metadata": {},
            "outputs": [
                {
                    "name": "stdout",
                    "output_type": "stream",
                    "text": [
                        "7 13\n",
                        "47 53\n",
                        "491 509\n",
                        "4919 5081\n",
                        "41 47\n"
                    ]
                }
            ],
            "source": [
                "example = [20, 100, 1000, 10000, 88]\n",
                "test_solution(\"\\n\".join(map(str, [len(example)] + example)))"
            ]
        },
        {
            "cell_type": "code",
            "execution_count": 26,
            "metadata": {},
            "outputs": [
                {
                    "name": "stdout",
                    "output_type": "stream",
                    "text": [
                        "4919 5081\n",
                        "4999 4999\n",
                        "4993 5003\n",
                        "4973 5021\n",
                        "4993 4999\n",
                        "4987 5003\n",
                        "4967 5021\n",
                        "4993 4993\n",
                        "4973 5011\n",
                        "4973 5009\n",
                        "4987 4993\n"
                    ]
                }
            ],
            "source": [
                "example = list(range(10000, 10000 - 22, -2))\n",
                "test_solution(\"\\n\".join(map(str, [len(example)] + example)))"
            ]
        },
        {
            "cell_type": "code",
            "execution_count": 27,
            "metadata": {},
            "outputs": [
                {
                    "name": "stdout",
                    "output_type": "stream",
                    "text": [
                        "2 2\n",
                        "3 3\n",
                        "3 5\n",
                        "5 5\n",
                        "5 7\n",
                        "7 7\n",
                        "5 11\n",
                        "7 11\n",
                        "7 13\n",
                        "11 11\n",
                        "11 13\n"
                    ]
                }
            ],
            "source": [
                "example = list(range(4, 4 + 22, 2))\n",
                "test_solution(\"\\n\".join(map(str, [len(example)] + example)))"
            ]
        },
        {
            "cell_type": "code",
            "execution_count": 28,
            "metadata": {},
            "outputs": [
                {
                    "name": "stdout",
                    "output_type": "stream",
                    "text": [
                        "3 5\n",
                        "5 5\n",
                        "5 11\n"
                    ]
                }
            ],
            "source": [
                "test_solution(\"\"\"3\n",
                "8\n",
                "10\n",
                "16\"\"\")\n",
                "# answer:\n",
                "# 3 5\n",
                "# 5 5\n",
                "# 5 11"
            ]
        }
    ],
    "metadata": {
        "interpreter": {
            "hash": "73891b0dc2e53390f36276e59930dd4ecab91b05b5c90320c2d5b1c443f87069"
        },
        "kernelspec": {
            "display_name": "Python 3.10.1 ('venv': venv)",
            "language": "python",
            "name": "python3"
        },
        "language_info": {
            "codemirror_mode": {
                "name": "ipython",
                "version": 3
            },
            "file_extension": ".py",
            "mimetype": "text/x-python",
            "name": "python",
            "nbconvert_exporter": "python",
            "pygments_lexer": "ipython3",
            "version": "3.10.2"
        },
        "orig_nbformat": 4
    },
    "nbformat": 4,
    "nbformat_minor": 2
}
