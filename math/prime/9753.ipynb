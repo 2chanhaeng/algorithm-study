{
    "cells": [
        {
            "cell_type": "markdown",
            "metadata": {},
            "source": [
                "# [백준/짝 곱](https://www.acmicpc.net/problem/9753)"
            ]
        },
        {
            "cell_type": "markdown",
            "metadata": {},
            "source": [
                "## 풀이과정"
            ]
        },
        {
            "cell_type": "markdown",
            "metadata": {},
            "source": [
                "### 첫번째 시도"
            ]
        },
        {
            "cell_type": "markdown",
            "metadata": {},
            "source": [
                "풀이과정"
            ]
        },
        {
            "cell_type": "code",
            "execution_count": null,
            "metadata": {},
            "outputs": [],
            "source": [
                "def solution(open = open):\n",
                "    input = iter(open(0).read().split(\"\\n\")).__next__\n",
                "    che = [False, False, True, True] + [False, True] * 49998\n",
                "    for i, is_prime in enumerate(che[3:int(100000 ** .5) + 1:2], start=1):\n",
                "        if not is_prime:\n",
                "            continue\n",
                "        prime = i * 2 + 1\n",
                "        che[prime * prime::2 * prime] = [False] * ((100000 - prime * prime) // (2 * prime) + 1)\n",
                "    for n in (int(input()) for _ in range(int(input()))):\n",
                "        if n <= 6:\n",
                "            print(6)\n",
                "            continue\n",
                "        i = n // 2\n",
                "        i += 2 if i % 2 else 1\n",
                "        while not che[i]:\n",
                "            i += 2\n",
                "        if n == 2 * i:\n",
                "            m = n\n",
                "        else:\n",
                "            m = 2 * i\n",
                "            for p, is_prime in enumerate(che[3:n:2], start=1):\n",
                "                if not is_prime:\n",
                "                    continue\n",
                "                prime = 2 * p + 1\n",
                "                i = n // prime\n",
                "                if n - i * prime:\n",
                "                    i += 1\n",
                "                while not che[i] or i == prime:\n",
                "                    if i + 1 > n:\n",
                "                        break\n",
                "                    i += 1\n",
                "                if prime * i == n:\n",
                "                    m = n\n",
                "                    break\n",
                "                if prime * i < m:\n",
                "                    m = prime * i\n",
                "        print(m)\n",
                "solution()"
            ]
        },
        {
            "cell_type": "markdown",
            "metadata": {},
            "source": [
                "## 해답"
            ]
        },
        {
            "cell_type": "code",
            "execution_count": 1,
            "metadata": {},
            "outputs": [
                {
                    "data": {
                        "text/plain": [
                            "['q', 'w', 'e']"
                        ]
                    },
                    "execution_count": 1,
                    "metadata": {},
                    "output_type": "execute_result"
                }
            ],
            "source": [
                "input_ = iter(\"qwe qwe qwe\".split()).__next__\n",
                "[*input_()]"
            ]
        },
        {
            "cell_type": "code",
            "execution_count": 55,
            "metadata": {},
            "outputs": [],
            "source": [
                "def solution(open = open):\n",
                "    input = iter(open(0).read().split(\"\\n\")).__next__\n",
                "    che = [False, False, True, True] + [False, True] * 49998\n",
                "    for i, is_prime in enumerate(che[3:int(100000 ** .5) + 1:2], start=1):\n",
                "        if not is_prime:\n",
                "            continue\n",
                "        prime = i * 2 + 1\n",
                "        che[prime * prime::2 * prime] = [False] * ((100000 - prime * prime) // (2 * prime) + 1)\n",
                "    for n in (int(input()) for _ in range(int(input()))):\n",
                "        if n <= 6:\n",
                "            print(6)\n",
                "            continue\n",
                "        i = n // 2\n",
                "        i += 2 if i % 2 else 1\n",
                "        while not che[i]:\n",
                "            i += 2\n",
                "        if n == 2 * i:\n",
                "            m = n\n",
                "        else:\n",
                "            m = 2 * i\n",
                "            for p, is_prime in enumerate(che[3:n:2], start=1):\n",
                "                if not is_prime:\n",
                "                    continue\n",
                "                prime = 2 * p + 1\n",
                "                i = n // prime\n",
                "                if n - i * prime:\n",
                "                    i += 1\n",
                "                while not che[i] or i == prime:\n",
                "                    if i + 1 > n:\n",
                "                        break\n",
                "                    i += 1\n",
                "                if prime * i == n:\n",
                "                    m = n\n",
                "                    break\n",
                "                if prime * i < m:\n",
                "                    m = prime * i\n",
                "        print(m)"
            ]
        },
        {
            "cell_type": "markdown",
            "metadata": {},
            "source": [
                "## 예제"
            ]
        },
        {
            "cell_type": "code",
            "execution_count": 56,
            "metadata": {},
            "outputs": [],
            "source": [
                "# 백준 문제 풀이용 예제 실행 코드\n",
                "from bwj import test\n",
                "test_solution = test(solution)\n",
                "\n",
                "# test_solution(\"\"\"\"\"\")\n",
                "# test_solution(read(\"fn\").read())"
            ]
        },
        {
            "cell_type": "code",
            "execution_count": 57,
            "metadata": {},
            "outputs": [
                {
                    "name": "stdout",
                    "output_type": "stream",
                    "text": [
                        "[1] 6\n",
                        "[2] 6\n",
                        "[3] 6\n",
                        "[4] 6\n",
                        "[5] 6\n",
                        "[6] 6\n",
                        "[7] 10\n",
                        "[8] 10\n",
                        "[9] 10\n",
                        "[10] 10\n",
                        "[11] 14\n",
                        "[12] 14\n",
                        "[13] 14\n",
                        "[14] 14\n",
                        "[15] 15\n",
                        "[16] 21\n",
                        "[17] 21\n",
                        "[18] 21\n",
                        "[19] 21\n",
                        "[20] 21\n"
                    ]
                }
            ],
            "source": [
                "for i in range(1, 21):\n",
                "    example = [i]\n",
                "    print(example, end= \" \")\n",
                "    test_solution(\"\\n\".join(map(str, [len(example)] + example)))"
            ]
        },
        {
            "cell_type": "code",
            "execution_count": 58,
            "metadata": {},
            "outputs": [
                {
                    "name": "stdout",
                    "output_type": "stream",
                    "text": [
                        "6\n",
                        "6\n",
                        "10\n",
                        "301\n",
                        "100001\n"
                    ]
                }
            ],
            "source": [
                "test_solution(\"\"\"5\n",
                "1\n",
                "3\n",
                "10\n",
                "300\n",
                "100000\"\"\")\n",
                "# answer:\n",
                "# 6\n",
                "# 6\n",
                "# 10\n",
                "# 301\n",
                "# 100001"
            ]
        }
    ],
    "metadata": {
        "interpreter": {
            "hash": "73891b0dc2e53390f36276e59930dd4ecab91b05b5c90320c2d5b1c443f87069"
        },
        "kernelspec": {
            "display_name": "Python 3.10.1 ('venv': venv)",
            "language": "python",
            "name": "python3"
        },
        "language_info": {
            "codemirror_mode": {
                "name": "ipython",
                "version": 3
            },
            "file_extension": ".py",
            "mimetype": "text/x-python",
            "name": "python",
            "nbconvert_exporter": "python",
            "pygments_lexer": "ipython3",
            "version": "3.10.2"
        },
        "orig_nbformat": 4
    },
    "nbformat": 4,
    "nbformat_minor": 2
}
