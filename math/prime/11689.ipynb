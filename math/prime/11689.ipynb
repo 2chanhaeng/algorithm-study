{
    "cells": [
        {
            "cell_type": "markdown",
            "metadata": {},
            "source": [
                "# [백준/GCD(n, k) = 1](https://www.acmicpc.net/problem/11689)\n"
            ]
        },
        {
            "cell_type": "markdown",
            "metadata": {},
            "source": [
                "## 풀이과정\n"
            ]
        },
        {
            "cell_type": "markdown",
            "metadata": {},
            "source": [
                "### 첫번째 시도\n"
            ]
        },
        {
            "cell_type": "markdown",
            "metadata": {},
            "source": [
                "#### 풀이과정\n",
                "\n",
                "단순히 $\\phi$ 함수값을 구하는 문제라 생각해서 풀었다.\n",
                "하지만 시간초과가 발생했다.\n"
            ]
        },
        {
            "cell_type": "code",
            "execution_count": null,
            "metadata": {},
            "outputs": [],
            "source": [
                "def plog(n, p):\n",
                "    while n % p == 0:\n",
                "        n //= p\n",
                "    return n\n",
                "\n",
                "\n",
                "def solution():\n",
                "    import sys\n",
                "\n",
                "    n = int(sys.stdin.readline().rstrip())\n",
                "    result = n\n",
                "    if n % 2 == 0:\n",
                "        result //= 2\n",
                "        n = plog(n, 2)\n",
                "    for p in range(3, n + 1, 2):\n",
                "        if n % p == 0:\n",
                "            result -= result // p\n",
                "            n = plog(n, p)\n",
                "            if n == 1:\n",
                "                break\n",
                "    print(result)\n",
                "\n",
                "\n",
                "solution()"
            ]
        },
        {
            "cell_type": "markdown",
            "metadata": {},
            "source": [
                "### 두번째 시도\n"
            ]
        },
        {
            "cell_type": "markdown",
            "metadata": {},
            "source": [
                "#### 풀이과정\n",
                "\n",
                "[폴라드 로 알고리즘](https://ko.wikipedia.org/wiki/%ED%8F%B4%EB%9D%BC%EB%93%9C_%EB%A1%9C_%EC%95%8C%EA%B3%A0%EB%A6%AC%EC%A6%98)을 이용해서 소인수를 구해 소인수분해를 했다.\n",
                "하지만 25 등 일부 합성수에서 소인수를 찾지 못하는 문제가 발생했다.\n"
            ]
        },
        {
            "cell_type": "code",
            "execution_count": null,
            "metadata": {},
            "outputs": [],
            "source": [
                "from math import gcd\n",
                "\n",
                "\n",
                "def rho(n):\n",
                "    x_fixed = 2\n",
                "    cycle_size = 2\n",
                "    x = 2\n",
                "    factor = 1\n",
                "\n",
                "    while factor == 1:\n",
                "        for _ in range(cycle_size):\n",
                "            if factor > 1:\n",
                "                break\n",
                "            x = (x * x + 1) % n\n",
                "            factor = gcd(x - x_fixed, n)\n",
                "        cycle_size *= 2\n",
                "        x_fixed = x\n",
                "\n",
                "    return factor\n",
                "\n",
                "\n",
                "def phi(n):\n",
                "    phi = n\n",
                "    while n > 1:\n",
                "        p = rho(n)\n",
                "        phi -= phi // p\n",
                "        while n % p == 0:\n",
                "            n //= p\n",
                "\n",
                "    return phi\n",
                "\n",
                "\n",
                "def solution():\n",
                "    import sys\n",
                "\n",
                "    print(phi(int(sys.stdin.readline().rstrip())))\n",
                "\n",
                "\n",
                "solution()"
            ]
        },
        {
            "cell_type": "markdown",
            "metadata": {},
            "source": [
                "### 세번째 시도\n"
            ]
        },
        {
            "cell_type": "markdown",
            "metadata": {},
            "source": [
                "#### 풀이과정\n",
                "\n",
                "질문 게시판의 [글](https://www.acmicpc.net/board/view/80616)을 보고 힌트를 얻었다.\n",
                "주어진 수와 최댓값의 제곱근인 $10^6$ 중 작은 수까지 소수를 구해놓고 그 중 인수를 찾아 $\\phi$ 함수값을 구했다.\n"
            ]
        },
        {
            "cell_type": "code",
            "execution_count": null,
            "metadata": {},
            "outputs": [],
            "source": [
                "def primes_under(n):\n",
                "    # refer https://www.acmicpc.net/source/43383779\n",
                "    n, c = n + 6 - n % 6, 2 - (n % 6 > 1)\n",
                "    sieve = [True] * (n // 3)\n",
                "    for i in range(1, int(n**0.5) // 3 + 1):\n",
                "        if sieve[i]:\n",
                "            d, s, j = (k := 1 | 3 * i + 1) * 2, k * k, k * (k + 4 - 2 * (i & 1))\n",
                "            sieve[s // 3 :: d] = [False] * ((n // 6 - s // 6 - 1) // k + 1)\n",
                "            sieve[j // 3 :: d] = [False] * ((n // 6 - j // 6 - 1) // k + 1)\n",
                "    return [2, 3] + [1 | 3 * i + 1 for i in range(1, n // 3 - c) if sieve[i]]\n",
                "\n",
                "\n",
                "def solution():\n",
                "    import sys\n",
                "\n",
                "    phi = N = int(sys.stdin.readline())\n",
                "    for p in primes_under(min(N, 10**6)):\n",
                "        if N % p == 0:\n",
                "            phi -= phi // p\n",
                "            while N % p == 0:\n",
                "                N //= p\n",
                "        if N == 1:\n",
                "            break\n",
                "    if N > 1:\n",
                "        phi -= phi // N\n",
                "    print(phi)\n",
                "\n",
                "\n",
                "solution()"
            ]
        },
        {
            "cell_type": "markdown",
            "metadata": {},
            "source": [
                "## 해답\n"
            ]
        },
        {
            "cell_type": "code",
            "execution_count": 1,
            "metadata": {},
            "outputs": [],
            "source": [
                "def primes_under(n):\n",
                "    # refer https://www.acmicpc.net/source/43383779\n",
                "    n, c = n + 6 - n % 6, 2 - (n % 6 > 1)\n",
                "    sieve = [True] * (n // 3)\n",
                "    for i in range(1, int(n**0.5) // 3 + 1):\n",
                "        if sieve[i]:\n",
                "            d, s, j = (k := 1 | 3 * i + 1) * 2, k * k, k * (k + 4 - 2 * (i & 1))\n",
                "            sieve[s // 3 :: d] = [False] * ((n // 6 - s // 6 - 1) // k + 1)\n",
                "            sieve[j // 3 :: d] = [False] * ((n // 6 - j // 6 - 1) // k + 1)\n",
                "    return [2, 3] + [1 | 3 * i + 1 for i in range(1, n // 3 - c) if sieve[i]]"
            ]
        },
        {
            "cell_type": "code",
            "execution_count": 2,
            "metadata": {},
            "outputs": [],
            "source": [
                "def solution():\n",
                "    import sys\n",
                "\n",
                "    phi = N = int(sys.stdin.readline())\n",
                "    for p in primes_under(min(N, 10**6)):\n",
                "        if N % p == 0:\n",
                "            phi -= phi // p\n",
                "            while N % p == 0:\n",
                "                N //= p\n",
                "        if N == 1:\n",
                "            break\n",
                "    if N > 1:\n",
                "        phi -= phi // N\n",
                "    print(phi)"
            ]
        },
        {
            "cell_type": "markdown",
            "metadata": {},
            "source": [
                "## 예제\n"
            ]
        },
        {
            "cell_type": "code",
            "execution_count": 3,
            "metadata": {},
            "outputs": [],
            "source": [
                "# 백준 문제 풀이용 예제 실행 코드\n",
                "from bwj import test\n",
                "\n",
                "test_solution = test(solution)\n",
                "\n",
                "# test_solution(\"\"\"\"\"\")\n",
                "# test_solution(read(\"fn\").read())"
            ]
        },
        {
            "cell_type": "code",
            "execution_count": 4,
            "metadata": {},
            "outputs": [
                {
                    "name": "stdout",
                    "output_type": "stream",
                    "text": [
                        "999999999988\n"
                    ]
                }
            ],
            "source": [
                "test_solution(\n",
                "    \"\"\"999999999989\n",
                "\"\"\"\n",
                ")  # 999999999988"
            ]
        },
        {
            "cell_type": "code",
            "execution_count": 5,
            "metadata": {},
            "outputs": [
                {
                    "name": "stdout",
                    "output_type": "stream",
                    "text": [
                        "20\n"
                    ]
                }
            ],
            "source": [
                "test_solution(\n",
                "    \"\"\"25\n",
                "\"\"\"\n",
                ")  # 20"
            ]
        },
        {
            "cell_type": "code",
            "execution_count": 6,
            "metadata": {},
            "outputs": [
                {
                    "name": "stdout",
                    "output_type": "stream",
                    "text": [
                        "1\n"
                    ]
                }
            ],
            "source": [
                "test_solution(\n",
                "    \"\"\"1\n",
                "\"\"\"\n",
                ")  # 1"
            ]
        },
        {
            "cell_type": "code",
            "execution_count": 7,
            "metadata": {},
            "outputs": [
                {
                    "name": "stdout",
                    "output_type": "stream",
                    "text": [
                        "4\n"
                    ]
                }
            ],
            "source": [
                "test_solution(\n",
                "    \"\"\"5\n",
                "\"\"\"\n",
                ")  # 4"
            ]
        },
        {
            "cell_type": "code",
            "execution_count": 8,
            "metadata": {},
            "outputs": [
                {
                    "name": "stdout",
                    "output_type": "stream",
                    "text": [
                        "4\n"
                    ]
                }
            ],
            "source": [
                "test_solution(\n",
                "    \"\"\"10\n",
                "\"\"\"\n",
                ")  # 4"
            ]
        },
        {
            "cell_type": "code",
            "execution_count": 9,
            "metadata": {},
            "outputs": [
                {
                    "name": "stdout",
                    "output_type": "stream",
                    "text": [
                        "24\n"
                    ]
                }
            ],
            "source": [
                "test_solution(\n",
                "    \"\"\"45\n",
                "\"\"\"\n",
                ")  # 24"
            ]
        },
        {
            "cell_type": "code",
            "execution_count": 10,
            "metadata": {},
            "outputs": [
                {
                    "name": "stdout",
                    "output_type": "stream",
                    "text": [
                        "60\n"
                    ]
                }
            ],
            "source": [
                "test_solution(\n",
                "    \"\"\"99\n",
                "\"\"\"\n",
                ")  # 60"
            ]
        }
    ],
    "metadata": {
        "interpreter": {
            "hash": "73891b0dc2e53390f36276e59930dd4ecab91b05b5c90320c2d5b1c443f87069"
        },
        "kernelspec": {
            "display_name": "Python 3.10.1 ('venv': venv)",
            "language": "python",
            "name": "python3"
        },
        "language_info": {
            "codemirror_mode": {
                "name": "ipython",
                "version": 3
            },
            "file_extension": ".py",
            "mimetype": "text/x-python",
            "name": "python",
            "nbconvert_exporter": "python",
            "pygments_lexer": "ipython3",
            "version": "3.12.2"
        },
        "orig_nbformat": 4
    },
    "nbformat": 4,
    "nbformat_minor": 2
}
