{
 "cells": [
  {
   "cell_type": "markdown",
   "metadata": {},
   "source": [
    "# [백준/RSA](https://www.acmicpc.net/problem/13618)"
   ]
  },
  {
   "cell_type": "markdown",
   "metadata": {},
   "source": [
    "## 풀이과정"
   ]
  },
  {
   "cell_type": "markdown",
   "metadata": {},
   "source": [
    "### 첫번째 시도"
   ]
  },
  {
   "cell_type": "markdown",
   "metadata": {},
   "source": [
    "#### 풀이과정"
   ]
  },
  {
   "cell_type": "code",
   "execution_count": null,
   "metadata": {},
   "outputs": [],
   "source": [
    "import math\n",
    "\n",
    "\n",
    "def mod_pow(a, n, m):\n",
    "    if n == 0:\n",
    "        return 1\n",
    "    if n == 1:\n",
    "        return a % m\n",
    "    return mod_pow(a * a % m, n // 2, m) if n % 2 == 0 else a * mod_pow(a, n - 1, m) % m\n",
    "\n",
    "\n",
    "class Primes:\n",
    "    def __init__(self):\n",
    "        initPrimes = [2, 3, 5, 7]\n",
    "        self._list = list(initPrimes)\n",
    "        self._set = set(initPrimes)\n",
    "\n",
    "    def last(self):\n",
    "        return self._list[-1]\n",
    "\n",
    "    def leq_than(self, n):\n",
    "        if self.last() < n:\n",
    "            self.fill(n)\n",
    "        for p in self._list:\n",
    "            if p > n:\n",
    "                return\n",
    "            yield p\n",
    "\n",
    "    def fill(self, n):\n",
    "        if n <= self.last():\n",
    "            return\n",
    "        for i in range(self.last() + 2, n + 1, 2):\n",
    "            if self.test(i):\n",
    "                self._list.append(i)\n",
    "                self._set.add(i)\n",
    "\n",
    "    def test(self, n):\n",
    "        if n <= self.last():\n",
    "            return n in self._set\n",
    "        return all(n % p != 0 for p in self.leq_than(int(math.sqrt(n))))\n",
    "\n",
    "\n",
    "primes = Primes()\n",
    "primes.fill(10**5)\n",
    "\n",
    "\n",
    "def is_prime_MR(n):\n",
    "    s = 0\n",
    "    d = n - 1\n",
    "    while d % 2 == 0:\n",
    "        s += 1\n",
    "        d //= 2\n",
    "    for a in primes.leq_than(100):\n",
    "        x = mod_pow(a, d, n)\n",
    "        if x == 1:\n",
    "            continue\n",
    "        for _ in range(s - 1):\n",
    "            if x == n - 1:\n",
    "                break\n",
    "            x = (x**2) % n\n",
    "        if x != n - 1:\n",
    "            return False\n",
    "    return True\n",
    "\n",
    "\n",
    "def is_prime(n):\n",
    "    if n % 2 == 0:\n",
    "        return n == 2\n",
    "    elif n < 10**10:\n",
    "        return primes.test(n)\n",
    "    else:\n",
    "        return is_prime_MR(n)\n",
    "\n",
    "\n",
    "def solution():\n",
    "    import sys\n",
    "\n",
    "    N, E, C = map(int, sys.stdin.read().rstrip().split())\n",
    "    for i in range(3, N, 2):\n",
    "        if is_prime(i) and N % i == 0:\n",
    "            phi = (i - 1) * (N // i - 1)\n",
    "            break\n",
    "    D = pow(E, -1, phi)\n",
    "    print(pow(C, D, N))\n",
    "\n",
    "\n",
    "solution()"
   ]
  },
  {
   "cell_type": "markdown",
   "metadata": {},
   "source": [
    "## 해답"
   ]
  },
  {
   "cell_type": "code",
   "execution_count": 142,
   "metadata": {},
   "outputs": [],
   "source": [
    "# https://pastebin.com/AS6fs7gv?fbclid=IwAR2YCQko-JL4XCOYVwGsc8gu5p3B-gCKl7j195GR4Xu5XexMjHE5pxA0W8k\n",
    "\n",
    "import math\n",
    "\n",
    "\n",
    "def mod_pow(a, n, m):\n",
    "    if n == 0:\n",
    "        return 1\n",
    "    if n == 1:\n",
    "        return a % m\n",
    "    return mod_pow(a * a % m, n // 2, m) if n % 2 == 0 else a * mod_pow(a, n - 1, m) % m\n",
    "\n",
    "\n",
    "class Primes:\n",
    "    def __init__(self):\n",
    "        initPrimes = [2, 3, 5, 7]\n",
    "        self._list = list(initPrimes)\n",
    "        self._set = set(initPrimes)\n",
    "\n",
    "    def last(self):\n",
    "        return self._list[-1]\n",
    "\n",
    "    def leq_than(self, n):\n",
    "        if self.last() < n:\n",
    "            self.fill(n)\n",
    "        for p in self._list:\n",
    "            if p > n:\n",
    "                return\n",
    "            yield p\n",
    "\n",
    "    def fill(self, n):\n",
    "        if n <= self.last():\n",
    "            return\n",
    "        for i in range(self.last() + 2, n + 1, 2):\n",
    "            if self.test(i):\n",
    "                self._list.append(i)\n",
    "                self._set.add(i)\n",
    "\n",
    "    def test(self, n):\n",
    "        if n <= self.last():\n",
    "            return n in self._set\n",
    "        return all(n % p != 0 for p in self.leq_than(int(math.sqrt(n))))\n",
    "\n",
    "\n",
    "primes = Primes()\n",
    "primes.fill(10**5)\n",
    "\n",
    "\n",
    "def is_prime_MR(n):\n",
    "    s = 0\n",
    "    d = n - 1\n",
    "    while d % 2 == 0:\n",
    "        s += 1\n",
    "        d //= 2\n",
    "    for a in primes.leq_than(100):\n",
    "        x = mod_pow(a, d, n)\n",
    "        if x == 1:\n",
    "            continue\n",
    "        for _ in range(s - 1):\n",
    "            if x == n - 1:\n",
    "                break\n",
    "            x = (x**2) % n\n",
    "        if x != n - 1:\n",
    "            return False\n",
    "    return True\n",
    "\n",
    "\n",
    "def is_prime(n):\n",
    "    if n % 2 == 0:\n",
    "        return n == 2\n",
    "    elif n < 10**10:\n",
    "        return primes.test(n)\n",
    "    else:\n",
    "        return is_prime_MR(n)"
   ]
  },
  {
   "cell_type": "code",
   "execution_count": 143,
   "metadata": {},
   "outputs": [],
   "source": [
    "def solution():\n",
    "    import sys\n",
    "\n",
    "    N, E, C = map(int, sys.stdin.read().rstrip().split())\n",
    "    for i in range(3, N, 2):\n",
    "        if is_prime(i) and N % i == 0:\n",
    "            phi = (i - 1) * (N // i - 1)\n",
    "            break\n",
    "    D = pow(E, -1, phi)\n",
    "    print(pow(C, D, N))"
   ]
  },
  {
   "cell_type": "markdown",
   "metadata": {},
   "source": [
    "## 예제"
   ]
  },
  {
   "cell_type": "code",
   "execution_count": 144,
   "metadata": {},
   "outputs": [
    {
     "name": "stdout",
     "output_type": "stream",
     "text": [
      "The blackcellmagic extension is already loaded. To reload it, use:\n",
      "  %reload_ext blackcellmagic\n"
     ]
    }
   ],
   "source": [
    "# black 모듈을 jupyter notebook 내에서 사용 가능하게 만들어주는 blackcellmagic 모듈 불러오기\n",
    "%load_ext blackcellmagic\n",
    "# %%black\n",
    "\n",
    "# 백준 문제 풀이용 예제 실행 코드\n",
    "from bwj import test\n",
    "\n",
    "test_solution = test(solution)\n",
    "\n",
    "# test_solution(\"\"\"\"\"\")\n",
    "# test_solution(read(\"fn\").read())"
   ]
  },
  {
   "cell_type": "code",
   "execution_count": 145,
   "metadata": {},
   "outputs": [
    {
     "name": "stdout",
     "output_type": "stream",
     "text": [
      "12345678\n"
     ]
    }
   ],
   "source": [
    "test_solution(\" \".join(map(str, [99989 * 99991, 99971, 3013666450])))\n",
    "# 12345678"
   ]
  },
  {
   "cell_type": "code",
   "execution_count": 146,
   "metadata": {},
   "outputs": [
    {
     "name": "stdout",
     "output_type": "stream",
     "text": [
      "726\n"
     ]
    }
   ],
   "source": [
    "test_solution(\n",
    "    \"\"\"1073 71 436\n",
    "\"\"\"\n",
    ")  # 726"
   ]
  },
  {
   "cell_type": "code",
   "execution_count": 147,
   "metadata": {},
   "outputs": [
    {
     "name": "stdout",
     "output_type": "stream",
     "text": [
      "33\n"
     ]
    }
   ],
   "source": [
    "test_solution(\n",
    "    \"\"\"91 43 19\n",
    "\"\"\"\n",
    ")  # 33"
   ]
  }
 ],
 "metadata": {
  "kernelspec": {
   "display_name": "Python 3.10.6 ('venv': venv)",
   "language": "python",
   "name": "python3"
  },
  "language_info": {
   "codemirror_mode": {
    "name": "ipython",
    "version": 3
   },
   "file_extension": ".py",
   "mimetype": "text/x-python",
   "name": "python",
   "nbconvert_exporter": "python",
   "pygments_lexer": "ipython3",
   "version": "3.10.8"
  },
  "orig_nbformat": 4,
  "vscode": {
   "interpreter": {
    "hash": "72904a014a9ffe38f4c58942120b599b3c5a87d06764037548e0139929c1cde3"
   }
  }
 },
 "nbformat": 4,
 "nbformat_minor": 2
}
