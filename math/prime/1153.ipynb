{
 "cells": [
  {
   "cell_type": "markdown",
   "metadata": {},
   "source": [
    "# [백준/네 개의 소수](https://www.acmicpc.net/problem/1153)"
   ]
  },
  {
   "cell_type": "markdown",
   "metadata": {},
   "source": [
    "## 풀이과정"
   ]
  },
  {
   "cell_type": "markdown",
   "metadata": {},
   "source": [
    "### 첫번째 시도"
   ]
  },
  {
   "cell_type": "markdown",
   "metadata": {},
   "source": [
    "#### 풀이과정"
   ]
  },
  {
   "cell_type": "code",
   "execution_count": 62,
   "metadata": {},
   "outputs": [],
   "source": [
    "def solution():\n",
    "    import sys\n",
    "\n",
    "    n = int(sys.stdin.read().rstrip())\n",
    "    if n <= 7:\n",
    "        print(-1)\n",
    "        return\n",
    "    primes = get_primes(n)\n",
    "    s = []\n",
    "    print(*(odd(n, primes) if n % 2 else even(n, primes)))\n",
    "\n",
    "\n",
    "def get_primes(n):\n",
    "    root = int(n**0.5)\n",
    "    if root % 2 == 0:\n",
    "        root += 1\n",
    "    length = n // 2 + 2\n",
    "    sieve = [None] * length\n",
    "    primes = [2]\n",
    "    rootp2 = (root + 1) // 2\n",
    "\n",
    "    for i in range(1, rootp2):\n",
    "        if not sieve[i]:\n",
    "            primes.append(p := 2 * i + 1)\n",
    "            s = (p * p) // 2\n",
    "            sieve[s::p] = [True] * ((length - s - 1) // p + 1)\n",
    "\n",
    "    for i in range(rootp2, n // 2 + 1):\n",
    "        if not sieve[i]:\n",
    "            if (p := 2 * i + 1) > n - 6:\n",
    "                # n = some_prime + 2 + 2 + 2 (2: the least prime)\n",
    "                break\n",
    "            primes.append(p)\n",
    "\n",
    "    return primes\n",
    "\n",
    "\n",
    "def odd(n, primes):\n",
    "    n -= 2 + primes[-1]\n",
    "    primeset = set(primes)\n",
    "    for p in primes:\n",
    "        if n - p in primeset:\n",
    "            return [2, p, n - p, primes[-1]]\n",
    "\n",
    "\n",
    "def even(n, primes):\n",
    "    m = n // 2\n",
    "    m = m - 1 if m % 2 else m\n",
    "    l = n - m\n",
    "    primeset = set(primes)\n",
    "    for p in primes:\n",
    "        if m - p in primeset:\n",
    "            break\n",
    "    for q in primes:\n",
    "        if l - q in primeset:\n",
    "            return sorted([p, q, m - p, l - q])\n",
    "\n",
    "\n",
    "solution()"
   ]
  },
  {
   "cell_type": "markdown",
   "metadata": {},
   "source": [
    "## 해답"
   ]
  },
  {
   "cell_type": "code",
   "execution_count": 15,
   "metadata": {},
   "outputs": [],
   "source": [
    "def get_primes(n):\n",
    "    root = int(n**0.5)\n",
    "    if root % 2 == 0:\n",
    "        root += 1\n",
    "    length = n // 2 + 2\n",
    "    sieve = [None] * length\n",
    "    primes = [2]\n",
    "    rootp2 = (root + 1) // 2\n",
    "\n",
    "    for i in range(1, rootp2):\n",
    "        if not sieve[i]:\n",
    "            primes.append(p := 2 * i + 1)\n",
    "            s = (p * p) // 2\n",
    "            sieve[s::p] = [True] * ((length - s - 1) // p + 1)\n",
    "\n",
    "    for i in range(rootp2, n // 2 + 1):\n",
    "        if not sieve[i]:\n",
    "            if (\n",
    "                p := 2 * i + 1\n",
    "            ) > n - 6:  # n = some_prime + 2 + 2 + 2 (2: the least prime)\n",
    "                break\n",
    "            primes.append(p)\n",
    "\n",
    "    return primes"
   ]
  },
  {
   "cell_type": "code",
   "execution_count": 46,
   "metadata": {},
   "outputs": [],
   "source": [
    "def odd(n, primes):\n",
    "    n -= 2 + primes[-1]\n",
    "    primeset = set(primes)\n",
    "    for p in primes:\n",
    "        if n - p in primeset:\n",
    "            return [2, p, n - p, primes[-1]]\n",
    "\n",
    "\n",
    "def even(n, primes):\n",
    "    m = n // 2\n",
    "    m = m - 1 if m % 2 else m\n",
    "    l = n - m\n",
    "    primeset = set(primes)\n",
    "    for p in primes:\n",
    "        if m - p in primeset:\n",
    "            break\n",
    "    for q in primes:\n",
    "        if l - q in primeset:\n",
    "            return sorted([p, q, m - p, l - q])"
   ]
  },
  {
   "cell_type": "code",
   "execution_count": 58,
   "metadata": {},
   "outputs": [],
   "source": [
    "def solution():\n",
    "    import sys\n",
    "\n",
    "    n = int(sys.stdin.read().rstrip())\n",
    "    if n <= 7:\n",
    "        print(-1)\n",
    "        return\n",
    "    primes = get_primes(n)\n",
    "    print(*(odd(n, primes) if n % 2 else even(n, primes)))"
   ]
  },
  {
   "cell_type": "code",
   "execution_count": 48,
   "metadata": {},
   "outputs": [],
   "source": [
    "results = []\n",
    "\n",
    "\n",
    "def solution():\n",
    "    import sys\n",
    "\n",
    "    print = results.append\n",
    "    n = int(sys.stdin.read().rstrip())\n",
    "    if n <= 7:\n",
    "        print((n, -1))\n",
    "        return\n",
    "    primes = get_primes(n)\n",
    "    print((n, (odd(n, primes) if n % 2 else even(n, primes))))"
   ]
  },
  {
   "cell_type": "markdown",
   "metadata": {},
   "source": [
    "## 예제"
   ]
  },
  {
   "cell_type": "code",
   "execution_count": 60,
   "metadata": {},
   "outputs": [
    {
     "name": "stdout",
     "output_type": "stream",
     "text": [
      "The blackcellmagic extension is already loaded. To reload it, use:\n",
      "  %reload_ext blackcellmagic\n"
     ]
    }
   ],
   "source": [
    "# black 모듈을 jupyter notebook 내에서 사용 가능하게 만들어주는 blackcellmagic 모듈 불러오기\n",
    "%load_ext blackcellmagic\n",
    "# %%black\n",
    "\n",
    "# 백준 문제 풀이용 예제 실행 코드\n",
    "from bwj import test\n",
    "\n",
    "test_solution = test(solution)\n",
    "\n",
    "# test_solution(\"\"\"\"\"\")\n",
    "# test_solution(read(\"fn\").read())"
   ]
  },
  {
   "cell_type": "code",
   "execution_count": 45,
   "metadata": {},
   "outputs": [],
   "source": [
    "from tqdm import tqdm"
   ]
  },
  {
   "cell_type": "code",
   "execution_count": null,
   "metadata": {},
   "outputs": [],
   "source": [
    "for i in tqdm(range(8, 1000000)):\n",
    "    test_solution(str(i))\n",
    "    i, j = results.pop()\n",
    "    if j is None:\n",
    "        print(i, j)\n",
    "    elif j != -1 and sum(j) != i:\n",
    "        print(i, j)"
   ]
  },
  {
   "cell_type": "code",
   "execution_count": 38,
   "metadata": {},
   "outputs": [],
   "source": [
    "test_solution(\n",
    "    \"\"\"38\n",
    "\"\"\"\n",
    ")  # 5 7 13 13"
   ]
  }
 ],
 "metadata": {
  "kernelspec": {
   "display_name": "venv",
   "language": "python",
   "name": "python3"
  },
  "language_info": {
   "codemirror_mode": {
    "name": "ipython",
    "version": 3
   },
   "file_extension": ".py",
   "mimetype": "text/x-python",
   "name": "python",
   "nbconvert_exporter": "python",
   "pygments_lexer": "ipython3",
   "version": "3.10.8"
  },
  "orig_nbformat": 4,
  "vscode": {
   "interpreter": {
    "hash": "72904a014a9ffe38f4c58942120b599b3c5a87d06764037548e0139929c1cde3"
   }
  }
 },
 "nbformat": 4,
 "nbformat_minor": 2
}
