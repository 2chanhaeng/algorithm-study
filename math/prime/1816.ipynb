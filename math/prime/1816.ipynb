{
 "cells": [
  {
   "cell_type": "markdown",
   "metadata": {},
   "source": [
    "# [백준/암호 키](https://www.acmicpc.net/problem/1816)"
   ]
  },
  {
   "cell_type": "markdown",
   "metadata": {},
   "source": [
    "## 풀이과정"
   ]
  },
  {
   "cell_type": "markdown",
   "metadata": {},
   "source": [
    "### 첫번째 시도"
   ]
  },
  {
   "cell_type": "markdown",
   "metadata": {},
   "source": [
    "#### 풀이과정"
   ]
  },
  {
   "cell_type": "code",
   "execution_count": null,
   "metadata": {},
   "outputs": [],
   "source": [
    "from itertools import compress, count\n",
    "\n",
    "m = 1000000\n",
    "seive = [False, False] + [True] * (m - 1)\n",
    "for p in range(2, 1000):\n",
    "    if seive[p]:\n",
    "        seive[p**2 :: p] = [False] * (m // p - p + 1)\n",
    "\n",
    "\n",
    "def primes():\n",
    "    yield from compress(count(), seive)\n",
    "\n",
    "\n",
    "def is_key(n):\n",
    "    return not any(map(lambda p: not n % p, primes()))\n",
    "\n",
    "\n",
    "def solution():\n",
    "    import sys\n",
    "\n",
    "    _, *input = sys.stdin.read().splitlines()\n",
    "    for n in map(int, input):\n",
    "        print(\"YES\" if is_key(n) else \"NO\")\n",
    "\n",
    "\n",
    "solution()"
   ]
  },
  {
   "attachments": {},
   "cell_type": "markdown",
   "metadata": {},
   "source": [
    "### 두번째 시도"
   ]
  },
  {
   "cell_type": "markdown",
   "metadata": {},
   "source": [
    "#### 풀이과정"
   ]
  },
  {
   "cell_type": "code",
   "execution_count": null,
   "metadata": {},
   "outputs": [],
   "source": [
    "# refer https://www.acmicpc.net/source/50536226\n",
    "import sys\n",
    "from math import floor, sqrt\n",
    "\n",
    "\n",
    "def solution():\n",
    "    n = 1000000\n",
    "    root = 1001\n",
    "    sieve = [None] * (n // 2 + 2)\n",
    "    primes = [2]\n",
    "    rootp2 = (root + 1) // 2\n",
    "\n",
    "    for i in range(1, rootp2):\n",
    "        if not sieve[i]:\n",
    "            primes.append(p := 2 * i + 1)\n",
    "            s = (p * p) // 2\n",
    "            sieve[s::p] = [True] * ((n // 2 - s) // p + 1)\n",
    "\n",
    "    for i in range(rootp2, n // 2 + 1):\n",
    "        if not sieve[i]:\n",
    "            if (p := 2 * i + 1) > n:\n",
    "                break\n",
    "            primes.append(p)\n",
    "\n",
    "    def is_key(n):\n",
    "        for i in primes:\n",
    "            if not n % i:\n",
    "                return False\n",
    "        return True\n",
    "\n",
    "    _, *input = sys.stdin.read().splitlines()\n",
    "    for n in map(int, input):\n",
    "        print(\"YES\" if is_key(n) else \"NO\")\n",
    "\n",
    "\n",
    "solution()"
   ]
  },
  {
   "attachments": {},
   "cell_type": "markdown",
   "metadata": {},
   "source": [
    "![2023년 1월 17일 19시 기준 1816번 맞힌 사람 (Python) 116ms로 1위](../../img/Screenshot%202023-01-17%20at%2019-35-26%201816%EB%B2%88%20%EB%A7%9E%ED%9E%8C%20%EC%82%AC%EB%9E%8C%20(Python)%20-%201%20%ED%8E%98%EC%9D%B4%EC%A7%80.png)"
   ]
  },
  {
   "attachments": {},
   "cell_type": "markdown",
   "metadata": {},
   "source": [
    "### 세번째 시도"
   ]
  },
  {
   "attachments": {},
   "cell_type": "markdown",
   "metadata": {},
   "source": [
    "#### 풀이과정\n",
    "다른 문제를 풀면서 알게 된 에라토스테네스 체 생성 함수를 적용하니 8ms가 줄어들었다.  \n",
    "추가로 `print` 대신 `sys.stdout.write`를 사용하니 4ms가 더 줄어들었다.  \n",
    "내가 내 기록을 갱신했다.  "
   ]
  },
  {
   "cell_type": "code",
   "execution_count": null,
   "metadata": {},
   "outputs": [],
   "source": [
    "import sys\n",
    "\n",
    "\n",
    "def primes_under(n):\n",
    "    # refer https://www.acmicpc.net/source/43383779\n",
    "    n, c = n + 6 - n % 6, 2 - (n % 6 > 1)\n",
    "    sieve = [True] * (n // 3)\n",
    "    for i in range(1, int(n**0.5) // 3 + 1):\n",
    "        if sieve[i]:\n",
    "            d, s, j = (k := 1 | 3 * i + 1) * 2, k * k, k * (k + 4 - 2 * (i & 1))\n",
    "            sieve[s // 3 :: d] = [False] * ((n // 6 - s // 6 - 1) // k + 1)\n",
    "            sieve[j // 3 :: d] = [False] * ((n // 6 - j // 6 - 1) // k + 1)\n",
    "    return [2, 3] + [1 | 3 * i + 1 for i in range(1, n // 3 - c) if sieve[i]]\n",
    "\n",
    "\n",
    "def solution():\n",
    "    primes = primes_under(1000000)\n",
    "\n",
    "    def is_key(n):\n",
    "        for i in primes:\n",
    "            if not n % i:\n",
    "                return False\n",
    "        return True\n",
    "\n",
    "    for n in map(int, sys.stdin.read().split()[1:]):\n",
    "        sys.stdout.write(\"YES \" if is_key(n) else \"NO \")\n",
    "\n",
    "\n",
    "solution()"
   ]
  },
  {
   "attachments": {},
   "cell_type": "markdown",
   "metadata": {},
   "source": [
    "![2023년 1월 18일 17시 기준 1816번 맞힌 사람 (Python) 104ms로 1위](../../img/Screenshot%202023-01-18%20at%2017-02-49%201816%EB%B2%88%20%EB%A7%9E%ED%9E%8C%20%EC%82%AC%EB%9E%8C%20(Python)%20-%201%20%ED%8E%98%EC%9D%B4%EC%A7%80.png)"
   ]
  },
  {
   "cell_type": "markdown",
   "metadata": {},
   "source": [
    "## 해답"
   ]
  },
  {
   "cell_type": "code",
   "execution_count": 1,
   "metadata": {},
   "outputs": [],
   "source": [
    "def primes_under(n):\n",
    "    # refer https://www.acmicpc.net/source/43383779\n",
    "    n, c = n + 6 - n % 6, 2 - (n % 6 > 1)\n",
    "    sieve = [True] * (n // 3)\n",
    "    for i in range(1, int(n**0.5) // 3 + 1):\n",
    "        if sieve[i]:\n",
    "            d, s, j = (k := 1 | 3 * i + 1) * 2, k * k, k * (k + 4 - 2 * (i & 1))\n",
    "            sieve[s // 3 :: d] = [False] * ((n // 6 - s // 6 - 1) // k + 1)\n",
    "            sieve[j // 3 :: d] = [False] * ((n // 6 - j // 6 - 1) // k + 1)\n",
    "    return [2, 3] + [1 | 3 * i + 1 for i in range(1, n // 3 - c) if sieve[i]]"
   ]
  },
  {
   "cell_type": "code",
   "execution_count": 2,
   "metadata": {},
   "outputs": [],
   "source": [
    "def solution():\n",
    "    import sys\n",
    "\n",
    "    primes = primes_under(1000000)\n",
    "\n",
    "    def is_key(n):\n",
    "        for i in primes:\n",
    "            if not n % i:\n",
    "                return False\n",
    "        return True\n",
    "\n",
    "    for n in map(int, sys.stdin.read().split()[1:]):\n",
    "        print(\"YES \" if is_key(n) else \"NO \")\n",
    "        # sys.stdout.write(\"YES \" if is_key(n) else \"NO \")"
   ]
  },
  {
   "cell_type": "markdown",
   "metadata": {},
   "source": [
    "## 예제"
   ]
  },
  {
   "cell_type": "code",
   "execution_count": 3,
   "metadata": {},
   "outputs": [],
   "source": [
    "# black 모듈을 jupyter notebook 내에서 사용 가능하게 만들어주는 blackcellmagic 모듈 불러오기\n",
    "%load_ext blackcellmagic\n",
    "# %%black\n",
    "\n",
    "# 백준 문제 풀이용 예제 실행 코드\n",
    "from bwj import test\n",
    "\n",
    "test_solution = test(solution)\n",
    "\n",
    "# test_solution(\"\"\"\"\"\")\n",
    "# test_solution(read(\"fn\").read())"
   ]
  },
  {
   "cell_type": "code",
   "execution_count": 4,
   "metadata": {},
   "outputs": [
    {
     "name": "stdout",
     "output_type": "stream",
     "text": [
      "YES \n",
      "NO \n",
      "NO \n"
     ]
    }
   ],
   "source": [
    "test_solution(\n",
    "    \"\"\"3\n",
    "1000036000099\n",
    "1500035500153\n",
    "20000000000002\n",
    "\"\"\"\n",
    ")\n",
    "# answer:\n",
    "# YES\n",
    "# NO\n",
    "# NO"
   ]
  }
 ],
 "metadata": {
  "kernelspec": {
   "display_name": "venv",
   "language": "python",
   "name": "python3"
  },
  "language_info": {
   "codemirror_mode": {
    "name": "ipython",
    "version": 3
   },
   "file_extension": ".py",
   "mimetype": "text/x-python",
   "name": "python",
   "nbconvert_exporter": "python",
   "pygments_lexer": "ipython3",
   "version": "3.10.8"
  },
  "orig_nbformat": 4,
  "vscode": {
   "interpreter": {
    "hash": "72904a014a9ffe38f4c58942120b599b3c5a87d06764037548e0139929c1cde3"
   }
  }
 },
 "nbformat": 4,
 "nbformat_minor": 2
}
