{
    "cells": [
        {
            "cell_type": "markdown",
            "metadata": {},
            "source": [
                "# [백준/암호 키](https://www.acmicpc.net/problem/1816)"
            ]
        },
        {
            "cell_type": "markdown",
            "metadata": {},
            "source": [
                "## 풀이과정"
            ]
        },
        {
            "cell_type": "markdown",
            "metadata": {},
            "source": [
                "### 첫번째 시도"
            ]
        },
        {
            "cell_type": "markdown",
            "metadata": {},
            "source": [
                "#### 풀이과정"
            ]
        },
        {
            "cell_type": "code",
            "execution_count": null,
            "metadata": {},
            "outputs": [],
            "source": [
                "from itertools import compress, count\n",
                "\n",
                "m = 1000000\n",
                "seive = [False, False] + [True] * (m - 1)\n",
                "for p in range(2, 1000):\n",
                "    if seive[p]:\n",
                "        seive[p ** 2 :: p] = [False] * (m // p - p + 1)\n",
                "\n",
                "\n",
                "def primes():\n",
                "    yield from compress(count(), seive)\n",
                "\n",
                "\n",
                "def is_key(n):\n",
                "    return not any(map(lambda p: not n % p, primes()))\n",
                "\n",
                "\n",
                "def solution():\n",
                "    import sys\n",
                "\n",
                "    _, *input = sys.stdin.read().splitlines()\n",
                "    for n in map(int, input):\n",
                "        print(\"YES\" if is_key(n) else \"NO\")\n",
                "\n",
                "\n",
                "solution()"
            ]
        },
        {
            "attachments": {},
            "cell_type": "markdown",
            "metadata": {},
            "source": [
                "### 두번째 시도"
            ]
        },
        {
            "cell_type": "markdown",
            "metadata": {},
            "source": [
                "#### 풀이과정"
            ]
        },
        {
            "cell_type": "code",
            "execution_count": null,
            "metadata": {},
            "outputs": [],
            "source": [
                "# refer https://www.acmicpc.net/source/50536226\n",
                "import sys\n",
                "from math import floor, sqrt\n",
                "\n",
                "def solution():\n",
                "    n = 1000000\n",
                "    root = 1001\n",
                "    sieve = [None] * (n // 2 + 2)\n",
                "    primes = [2]\n",
                "    rootp2 = (root + 1) // 2\n",
                "\n",
                "    for i in range(1, rootp2):\n",
                "        if not sieve[i]:\n",
                "            primes.append(p := 2 * i + 1)\n",
                "            s = (p * p) // 2\n",
                "            sieve[s::p] = [True] * ((n // 2 - s) // p + 1)\n",
                "\n",
                "    for i in range(rootp2, n // 2 + 1):\n",
                "        if not sieve[i]:\n",
                "            if (p := 2 * i + 1) > n:\n",
                "                break\n",
                "            primes.append(p)\n",
                "\n",
                "    def is_key(n):\n",
                "        for i in primes:\n",
                "            if not n % i:\n",
                "                return False\n",
                "        return True\n",
                "\n",
                "    _, *input = sys.stdin.read().splitlines()\n",
                "    for n in map(int, input):\n",
                "        print(\"YES\" if is_key(n) else \"NO\")\n",
                "\n",
                "\n",
                "solution()"
            ]
        },
        {
            "cell_type": "markdown",
            "metadata": {},
            "source": [
                "## 해답"
            ]
        },
        {
            "cell_type": "code",
            "execution_count": 56,
            "metadata": {},
            "outputs": [],
            "source": [
                "# refer https://www.acmicpc.net/source/50536226\n",
                "import sys\n",
                "from math import floor, sqrt\n",
                "\n",
                "def solution():\n",
                "    n = 1000000\n",
                "    root = 1001\n",
                "    sieve = [None] * (n // 2 + 2)\n",
                "    primes = [2]\n",
                "    rootp2 = (root + 1) // 2\n",
                "    for i in range(1, rootp2):\n",
                "        if not sieve[i]:\n",
                "            primes.append(p := 2 * i + 1)\n",
                "            s = (p * p) // 2\n",
                "            sieve[s::p] = [True] * ((n // 2 - s) // p + 1)\n",
                "\n",
                "    for i in range(rootp2, n // 2 + 1):\n",
                "        if not sieve[i]:\n",
                "            p = 2 * i + 1\n",
                "            if p > n:\n",
                "                break\n",
                "            primes.append(2 * i + 1)\n",
                "\n",
                "    def is_key(n):\n",
                "        for i in primes:\n",
                "            if not n % i:\n",
                "                return False\n",
                "        return True\n",
                "\n",
                "    _, *input = sys.stdin.read().splitlines()\n",
                "    for n in map(int, input):\n",
                "        print(\"YES\" if is_key(n) else \"NO\")"
            ]
        },
        {
            "cell_type": "code",
            "execution_count": null,
            "metadata": {},
            "outputs": [],
            "source": [
                "def is_key(n):\n",
                "    for i in primes:\n",
                "        if not n % i:\n",
                "            return False\n",
                "    return True"
            ]
        },
        {
            "cell_type": "code",
            "execution_count": null,
            "metadata": {},
            "outputs": [],
            "source": [
                "from itertools import compress, count\n",
                "\n",
                "m = 1000000\n",
                "seive = [False, False] + [True] * (m - 1)\n",
                "for p in range(2, 1000):\n",
                "    if seive[p]:\n",
                "        seive[p**2 :: p] = [False] * (m // p - p + 1)\n",
                "\n",
                "\n",
                "def primes():\n",
                "    yield from compress(count(), seive)\n",
                "\n",
                "\n",
                "def is_key(n):\n",
                "    return not any(map(lambda p: not n % p, primes()))\n",
                "\n",
                "\n",
                "def solution():\n",
                "    import sys\n",
                "\n",
                "    _, *input = sys.stdin.read().splitlines()\n",
                "    for n in map(int, input):\n",
                "        print(\"YES\" if is_key(n) else \"NO\")\n",
                "\n",
                "\n",
                "solution()"
            ]
        },
        {
            "cell_type": "markdown",
            "metadata": {},
            "source": [
                "## 예제"
            ]
        },
        {
            "cell_type": "code",
            "execution_count": 57,
            "metadata": {},
            "outputs": [
                {
                    "name": "stdout",
                    "output_type": "stream",
                    "text": [
                        "The blackcellmagic extension is already loaded. To reload it, use:\n",
                        "  %reload_ext blackcellmagic\n"
                    ]
                }
            ],
            "source": [
                "# black 모듈을 jupyter notebook 내에서 사용 가능하게 만들어주는 blackcellmagic 모듈 불러오기\n",
                "%load_ext blackcellmagic\n",
                "# %%black\n",
                "\n",
                "# 백준 문제 풀이용 예제 실행 코드\n",
                "from bwj import test\n",
                "test_solution = test(solution)\n",
                "\n",
                "# test_solution(\"\"\"\"\"\")\n",
                "# test_solution(read(\"fn\").read())"
            ]
        },
        {
            "cell_type": "code",
            "execution_count": 58,
            "metadata": {},
            "outputs": [
                {
                    "name": "stdout",
                    "output_type": "stream",
                    "text": [
                        "YES\n",
                        "NO\n",
                        "NO\n"
                    ]
                }
            ],
            "source": [
                "test_solution(\"\"\"3\n",
                "1000036000099\n",
                "1500035500153\n",
                "20000000000002\n",
                "\"\"\")\n",
                "# answer:\n",
                "# YES\n",
                "# NO\n",
                "# NO"
            ]
        }
    ],
    "metadata": {
        "kernelspec": {
            "display_name": "venv",
            "language": "python",
            "name": "python3"
        },
        "language_info": {
            "codemirror_mode": {
                "name": "ipython",
                "version": 3
            },
            "file_extension": ".py",
            "mimetype": "text/x-python",
            "name": "python",
            "nbconvert_exporter": "python",
            "pygments_lexer": "ipython3",
            "version": "3.10.8 (main, Oct 13 2022, 09:48:40) [Clang 14.0.0 (clang-1400.0.29.102)]"
        },
        "orig_nbformat": 4,
        "vscode": {
            "interpreter": {
                "hash": "72904a014a9ffe38f4c58942120b599b3c5a87d06764037548e0139929c1cde3"
            }
        }
    },
    "nbformat": 4,
    "nbformat_minor": 2
}
