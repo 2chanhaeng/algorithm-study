{
 "cells": [
  {
   "cell_type": "markdown",
   "metadata": {},
   "source": [
    "# [백준/골드바흐의 추측](https://www.acmicpc.net/problem/6588)"
   ]
  },
  {
   "cell_type": "markdown",
   "metadata": {},
   "source": [
    "## 풀이과정"
   ]
  },
  {
   "cell_type": "markdown",
   "metadata": {},
   "source": [
    "### 첫번째 시도"
   ]
  },
  {
   "cell_type": "markdown",
   "metadata": {},
   "source": [
    "풀이과정"
   ]
  },
  {
   "cell_type": "code",
   "execution_count": 26,
   "metadata": {},
   "outputs": [],
   "source": [
    "def solution(open=open):\n",
    "    import sys\n",
    "\n",
    "    che = [False, False, True, True] + [False, True] * 499998\n",
    "    for i, is_prime in enumerate(che[3::2], start=1):\n",
    "        if not is_prime:\n",
    "            continue\n",
    "        prime = i * 2 + 1\n",
    "        che[prime * prime :: 2 * prime] = [False] * (\n",
    "            (1000000 - prime * prime) // (2 * prime) + 1\n",
    "        )\n",
    "    for n in map(int, sys.stdin.read().rstrip().split()[:-1]):\n",
    "        n2 = n // 2\n",
    "        if n2 % 2 == 0:\n",
    "            n2 -= 1\n",
    "        for prime in range(3, n2 + 1, 2):\n",
    "            if che[prime] and che[n - prime]:\n",
    "                print(f\"{n} = {prime} + {n - prime}\")\n",
    "                break\n",
    "        else:\n",
    "            print(\"Goldbach's conjecture is wrong.\")\n",
    "\n",
    "\n",
    "solution()"
   ]
  },
  {
   "cell_type": "markdown",
   "metadata": {},
   "source": [
    "## 해답"
   ]
  },
  {
   "cell_type": "code",
   "execution_count": 23,
   "metadata": {},
   "outputs": [],
   "source": [
    "def solution(open=open):\n",
    "    che = [False, False, True, True] + [False, True] * 499998\n",
    "    for i, is_prime in enumerate(che[3::2], start=1):\n",
    "        if not is_prime:\n",
    "            continue\n",
    "        prime = i * 2 + 1\n",
    "        che[prime * prime :: 2 * prime] = [False] * (\n",
    "            (1000000 - prime * prime) // (2 * prime) + 1\n",
    "        )\n",
    "    for n in map(int, open(0).read().rstrip().split()[:-1]):\n",
    "        n2 = n // 2\n",
    "        if n2 % 2 == 0:\n",
    "            n2 -= 1\n",
    "        for prime in range(3, n2 + 1, 2):\n",
    "            if che[prime] and che[n - prime]:\n",
    "                print(f\"{n} = {prime} + {n - prime}\")\n",
    "                break\n",
    "        else:\n",
    "            print(\"Goldbach's conjecture is wrong.\")"
   ]
  },
  {
   "cell_type": "markdown",
   "metadata": {},
   "source": [
    "## 예제"
   ]
  },
  {
   "cell_type": "code",
   "execution_count": 24,
   "metadata": {},
   "outputs": [],
   "source": [
    "# 백준 문제 풀이용 예제 실행 코드\n",
    "from bwj import test\n",
    "\n",
    "test_solution = test(solution)\n",
    "\n",
    "# test_solution(\"\"\"\"\"\")\n",
    "# test_solution(read(\"fn\").read())"
   ]
  },
  {
   "cell_type": "code",
   "execution_count": 25,
   "metadata": {},
   "outputs": [
    {
     "name": "stdout",
     "output_type": "stream",
     "text": [
      "8 = 3 + 5\n",
      "20 = 3 + 17\n",
      "42 = 5 + 37\n"
     ]
    }
   ],
   "source": [
    "test_solution(\n",
    "    \"\"\"8\n",
    "20\n",
    "42\n",
    "0\"\"\"\n",
    ")\n",
    "# answer:\n",
    "# 8 = 3 + 5\n",
    "# 20 = 3 + 17\n",
    "# 42 = 5 + 37"
   ]
  }
 ],
 "metadata": {
  "interpreter": {
   "hash": "72904a014a9ffe38f4c58942120b599b3c5a87d06764037548e0139929c1cde3"
  },
  "kernelspec": {
   "display_name": "Python 3.10.4 ('venv': venv)",
   "language": "python",
   "name": "python3"
  },
  "language_info": {
   "codemirror_mode": {
    "name": "ipython",
    "version": 3
   },
   "file_extension": ".py",
   "mimetype": "text/x-python",
   "name": "python",
   "nbconvert_exporter": "python",
   "pygments_lexer": "ipython3",
   "version": "3.10.4"
  },
  "orig_nbformat": 4
 },
 "nbformat": 4,
 "nbformat_minor": 2
}
