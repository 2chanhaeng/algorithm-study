{
 "cells": [
  {
   "cell_type": "markdown",
   "metadata": {},
   "source": [
    "# [백준/N과 M (2)](https://www.acmicpc.net/problem/15650)"
   ]
  },
  {
   "cell_type": "markdown",
   "metadata": {},
   "source": [
    "## 풀이과정"
   ]
  },
  {
   "cell_type": "markdown",
   "metadata": {},
   "source": [
    "### 첫번째 시도"
   ]
  },
  {
   "cell_type": "markdown",
   "metadata": {},
   "source": [
    "풀이과정"
   ]
  },
  {
   "cell_type": "code",
   "execution_count": 31,
   "metadata": {},
   "outputs": [],
   "source": [
    "from itertools import combinations\n",
    "\n",
    "\n",
    "def solution(open=open):\n",
    "    n, m = map(int, open(0).read().split())\n",
    "    nums = [chr(i + 49) for i in range(n)]\n",
    "    combs = [\" \".join(comb) for comb in combinations(nums, m)]\n",
    "    print(\"\\n\".join(combs))\n",
    "\n",
    "\n",
    "solution()"
   ]
  },
  {
   "cell_type": "markdown",
   "metadata": {},
   "source": [
    "## 해답"
   ]
  },
  {
   "cell_type": "code",
   "execution_count": 19,
   "metadata": {},
   "outputs": [],
   "source": [
    "from itertools import combinations"
   ]
  },
  {
   "cell_type": "code",
   "execution_count": 25,
   "metadata": {},
   "outputs": [],
   "source": [
    "def solution(open=open):\n",
    "    n, m = map(int, open(0).read().split())\n",
    "    nums = [chr(i + 49) for i in range(n)]\n",
    "    combs = [\" \".join(comb) for comb in combinations(nums, m)]\n",
    "    print(\"\\n\".join(combs))"
   ]
  },
  {
   "cell_type": "markdown",
   "metadata": {},
   "source": [
    "## 비슷한 문제"
   ]
  },
  {
   "cell_type": "markdown",
   "metadata": {},
   "source": [
    "### [백준/15651](https://www.acmicpc.net/problem/15651)"
   ]
  },
  {
   "cell_type": "code",
   "execution_count": 10,
   "metadata": {},
   "outputs": [],
   "source": [
    "from itertools import product"
   ]
  },
  {
   "cell_type": "code",
   "execution_count": 14,
   "metadata": {},
   "outputs": [],
   "source": [
    "def solution(open=open):\n",
    "    n, m = map(int, open(0).read().split())\n",
    "    nums = [chr(i + 49) for i in range(n)]\n",
    "    combs = [\" \".join(comb) for comb in product(nums, repeat=m)]\n",
    "    print(\"\\n\".join(combs))"
   ]
  },
  {
   "cell_type": "markdown",
   "metadata": {},
   "source": [
    "### [백준/15652](https://www.acmicpc.net/problem/15652)"
   ]
  },
  {
   "cell_type": "code",
   "execution_count": 19,
   "metadata": {},
   "outputs": [],
   "source": [
    "from itertools import combinations_with_replacement as cwr"
   ]
  },
  {
   "cell_type": "code",
   "execution_count": 20,
   "metadata": {},
   "outputs": [],
   "source": [
    "def solution(open=open):\n",
    "    n, m = map(int, open(0).read().split())\n",
    "    nums = [chr(i + 49) for i in range(n)]\n",
    "    combs = [\" \".join(comb) for comb in cwr(nums, m)]\n",
    "    print(\"\\n\".join(combs))"
   ]
  },
  {
   "cell_type": "markdown",
   "metadata": {},
   "source": [
    "## 예제"
   ]
  },
  {
   "cell_type": "code",
   "execution_count": 21,
   "metadata": {},
   "outputs": [],
   "source": [
    "# 백준 문제 풀이용 예제 실행 코드\n",
    "from bwj import test\n",
    "\n",
    "test_solution = test(solution)\n",
    "\n",
    "# test_solution(\"\"\"\"\"\")\n",
    "# test_solution(read(\"fn\").read())"
   ]
  },
  {
   "cell_type": "code",
   "execution_count": 22,
   "metadata": {},
   "outputs": [
    {
     "name": "stdout",
     "output_type": "stream",
     "text": [
      "1\n",
      "2\n",
      "3\n"
     ]
    }
   ],
   "source": [
    "test_solution(\"\"\"3 1\"\"\")\n",
    "# answer:\n",
    "# 1\n",
    "# 2\n",
    "# 3"
   ]
  },
  {
   "cell_type": "code",
   "execution_count": 23,
   "metadata": {},
   "outputs": [
    {
     "name": "stdout",
     "output_type": "stream",
     "text": [
      "1 1\n",
      "1 2\n",
      "1 3\n",
      "1 4\n",
      "2 2\n",
      "2 3\n",
      "2 4\n",
      "3 3\n",
      "3 4\n",
      "4 4\n"
     ]
    }
   ],
   "source": [
    "test_solution(\"\"\"4 2\"\"\")\n",
    "# answer:\n",
    "# 1 2\n",
    "# 1 3\n",
    "# 1 4\n",
    "# 2 3\n",
    "# 2 4\n",
    "# 3 4"
   ]
  },
  {
   "cell_type": "code",
   "execution_count": 24,
   "metadata": {},
   "outputs": [
    {
     "name": "stdout",
     "output_type": "stream",
     "text": [
      "1 1 1 1\n",
      "1 1 1 2\n",
      "1 1 1 3\n",
      "1 1 1 4\n",
      "1 1 2 2\n",
      "1 1 2 3\n",
      "1 1 2 4\n",
      "1 1 3 3\n",
      "1 1 3 4\n",
      "1 1 4 4\n",
      "1 2 2 2\n",
      "1 2 2 3\n",
      "1 2 2 4\n",
      "1 2 3 3\n",
      "1 2 3 4\n",
      "1 2 4 4\n",
      "1 3 3 3\n",
      "1 3 3 4\n",
      "1 3 4 4\n",
      "1 4 4 4\n",
      "2 2 2 2\n",
      "2 2 2 3\n",
      "2 2 2 4\n",
      "2 2 3 3\n",
      "2 2 3 4\n",
      "2 2 4 4\n",
      "2 3 3 3\n",
      "2 3 3 4\n",
      "2 3 4 4\n",
      "2 4 4 4\n",
      "3 3 3 3\n",
      "3 3 3 4\n",
      "3 3 4 4\n",
      "3 4 4 4\n",
      "4 4 4 4\n"
     ]
    }
   ],
   "source": [
    "test_solution(\"\"\"4 4\"\"\")  # 1 2 3 4"
   ]
  }
 ],
 "metadata": {
  "interpreter": {
   "hash": "73891b0dc2e53390f36276e59930dd4ecab91b05b5c90320c2d5b1c443f87069"
  },
  "kernelspec": {
   "display_name": "Python 3.10.1 ('venv': venv)",
   "language": "python",
   "name": "python3"
  },
  "language_info": {
   "codemirror_mode": {
    "name": "ipython",
    "version": 3
   },
   "file_extension": ".py",
   "mimetype": "text/x-python",
   "name": "python",
   "nbconvert_exporter": "python",
   "pygments_lexer": "ipython3",
   "version": "3.10.1"
  },
  "orig_nbformat": 4
 },
 "nbformat": 4,
 "nbformat_minor": 2
}
