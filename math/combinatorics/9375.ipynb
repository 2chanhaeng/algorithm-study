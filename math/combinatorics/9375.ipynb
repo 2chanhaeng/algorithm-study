{
    "cells": [
        {
            "cell_type": "markdown",
            "metadata": {},
            "source": [
                "# [백준/패션왕 신해빈](https://www.acmicpc.net/problem/9375)"
            ]
        },
        {
            "cell_type": "markdown",
            "metadata": {},
            "source": [
                "## 풀이과정"
            ]
        },
        {
            "cell_type": "markdown",
            "metadata": {},
            "source": [
                "### 첫번째 시도"
            ]
        },
        {
            "cell_type": "markdown",
            "metadata": {},
            "source": [
                "풀이과정"
            ]
        },
        {
            "cell_type": "code",
            "execution_count": null,
            "metadata": {},
            "outputs": [],
            "source": [
                "import sys;input = lambda: sys.stdin.readline().rstrip();print = lambda x: sys.stdout.write(str(x)+\"\\n\")\n",
                "for _ in range(int(input())):\n",
                "    closet = {}\n",
                "    for _ in range(int(input())):\n",
                "        _, kind = input().split()\n",
                "        if kind not in closet:\n",
                "            closet[kind] = 1\n",
                "        closet[kind] += 1\n",
                "    p = 1\n",
                "    for v in closet.values():\n",
                "        p *= v\n",
                "    print(p - 1)"
            ]
        },
        {
            "cell_type": "markdown",
            "metadata": {},
            "source": [
                "## 해답"
            ]
        },
        {
            "cell_type": "code",
            "execution_count": 2,
            "metadata": {},
            "outputs": [],
            "source": [
                "def solution(input):\n",
                "    for _ in range(int(input())):\n",
                "        closet = {}\n",
                "        for _ in range(int(input())):\n",
                "            _, kind = input().split()\n",
                "            if kind not in closet:\n",
                "                closet[kind] = 1\n",
                "            closet[kind] += 1\n",
                "        p = 1\n",
                "        for v in closet.values():\n",
                "            p *= v\n",
                "        print(p - 1)\n",
                "\n"
            ]
        },
        {
            "cell_type": "markdown",
            "metadata": {},
            "source": [
                "## 예제"
            ]
        },
        {
            "cell_type": "code",
            "execution_count": 3,
            "metadata": {},
            "outputs": [],
            "source": [
                "# 백준 문제 풀이용 예제 실행 코드\n",
                "from bwj import test\n",
                "test_solution = test(solution)\n",
                "\n",
                "# test_solution(\"\"\"\"\"\")\n",
                "# test_solution(read(\"fn\").read())"
            ]
        },
        {
            "cell_type": "code",
            "execution_count": 4,
            "metadata": {},
            "outputs": [
                {
                    "name": "stdout",
                    "output_type": "stream",
                    "text": [
                        "5\n",
                        "3\n"
                    ]
                }
            ],
            "source": [
                "test_solution(\"\"\"2\n",
                "3\n",
                "hat headgear\n",
                "sunglasses eyewear\n",
                "turban headgear\n",
                "3\n",
                "mask face\n",
                "sunglasses face\n",
                "makeup face\"\"\")\n",
                "# answer:\n",
                "# 5\n",
                "# 3"
            ]
        }
    ],
    "metadata": {
        "interpreter": {
            "hash": "73891b0dc2e53390f36276e59930dd4ecab91b05b5c90320c2d5b1c443f87069"
        },
        "kernelspec": {
            "display_name": "Python 3.10.1 ('venv': venv)",
            "language": "python",
            "name": "python3"
        },
        "language_info": {
            "codemirror_mode": {
                "name": "ipython",
                "version": 3
            },
            "file_extension": ".py",
            "mimetype": "text/x-python",
            "name": "python",
            "nbconvert_exporter": "python",
            "pygments_lexer": "ipython3",
            "version": "3.10.1"
        },
        "orig_nbformat": 4
    },
    "nbformat": 4,
    "nbformat_minor": 2
}
