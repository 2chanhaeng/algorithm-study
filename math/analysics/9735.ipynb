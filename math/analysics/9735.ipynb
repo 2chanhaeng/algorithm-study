{
    "cells": [
        {
            "cell_type": "markdown",
            "metadata": {},
            "source": [
                "# [백준/삼차 방정식 풀기](https://www.acmicpc.net/problem/9735)"
            ]
        },
        {
            "cell_type": "markdown",
            "metadata": {},
            "source": [
                "## 풀이과정"
            ]
        },
        {
            "cell_type": "markdown",
            "metadata": {},
            "source": [
                "### 첫번째 시도"
            ]
        },
        {
            "cell_type": "markdown",
            "metadata": {},
            "source": [
                "#### 풀이과정\n",
                "뉴턴 근사법으로 제곱근과 세제곱근을 구하는 함수를 만들어 삼차방정식의 근의 공식을 이용하여 풀려고 시도하였습니다. 하지만 근사치라 그런지 정확한 해가 나오지 않아 통과하지 못한 것 같습니다."
            ]
        },
        {
            "cell_type": "code",
            "execution_count": null,
            "metadata": {},
            "outputs": [],
            "source": [
                "import sys\n",
                "\n",
                "input = lambda: sys.stdin.readline().rstrip()\n",
                "print = lambda x: sys.stdout.write(str(x) + \"\\n\")\n",
                "\n",
                "\n",
                "def cbrt(n):\n",
                "    # 뉴턴 근사법을 이용한 세제곱근 근사함수\n",
                "    if n == 0.0:\n",
                "        return 0.0\n",
                "    rt = n / abs(n)\n",
                "    for _ in range(27):\n",
                "        rt -= (rt ** 3 - n) / (3 * rt ** 2)\n",
                "        if rt ** 3 == n:\n",
                "            break\n",
                "    return rt\n",
                "\n",
                "\n",
                "def sqrt(n):\n",
                "    # 뉴턴 근사법을 이용한 제곱근 근사함수\n",
                "    if n == 0.0:\n",
                "        return 0.0\n",
                "    pm = n / abs(n)\n",
                "    n = abs(n)\n",
                "    rt = 1\n",
                "    for _ in range(15):\n",
                "        rt -= (rt ** 2 - n) / (2 * rt)\n",
                "        if rt ** 2 == n:\n",
                "            break\n",
                "    return rt if pm > 0 else rt * 1j\n",
                "\n",
                "\n",
                "def float4(n):\n",
                "    # 소수점 넷째 자리까지 반올림하여 반환하는 함수\n",
                "    return \"%.4f\" % round(n.real, 4)\n",
                "\n",
                "\n",
                "for _ in range(int(input())):\n",
                "    # 삼차방정식 근의 공식을 이용한 풀이\n",
                "    A, B, C, D = map(int, input().split())\n",
                "    # 모든 계수를 삼차항 계수로 나눕니다.\n",
                "    b, c, d = B / A, C / A, D / A\n",
                "    # Ax^3 + Bx^2 + Cx + D = 0\n",
                "    # (A / A)x^3 + (B / A)x^2 + (C / A)x + (D / A) = 0\n",
                "    # x^3 + bx^2 + cx + d = 0\n",
                "\n",
                "    # 이차항을 제거합니다.\n",
                "    p, q = c - b ** 2 / 3, d - b * c / 3 + 2 * b ** 3 / 27\n",
                "    # x = y - b/3 로 치환합니다.\n",
                "    # (y - b/3)^3 + b(y - b/3)^2 + c(y - b/3) + d = 0\n",
                "    # y^3 + (c - b^2/3)y + (d - bc/3 + 2b^3/27) = 0\n",
                "    # y^3 + px + q = 0\n",
                "\n",
                "    # u^3 + v^3 = -q, uv = -p/3 를 만족하는 u, v 가 존재하면 \n",
                "    # y = u + v 입니다.\n",
                "    # 근과 계수의 관계를 이용하여 u, v 를 구하면,\n",
                "    # (u^3)^2 + q(u^3) - (p/3)^3 = 0 의 해를 구하면 됩니다.\n",
                "    qper2, pper3 = q / 2, p / 3\n",
                "    sq = sqrt(qper2 ** 2 + pper3 ** 3)\n",
                "    u = cbrt(-qper2 + sq)\n",
                "    v = cbrt(-qper2 - sq)\n",
                "    # u^3 = -q/2 + sqrt(q^2/4 + p^3/27)\n",
                "    # v^3 = -q/2 - sqrt(q^2/4 + p^3/27)\n",
                "    # u, v = cbrt(u^3), cbrt(v^3)\n",
                "\n",
                "    # w = (-1 + sqrtm3) / 2 일 때,\n",
                "    # y0 = u + v, y1 = wu + w^2v, y2 = w^2u + wv\n",
                "    y0 = u + v - b / 3\n",
                "    # y0 = u + v 는 항상 존재하는 실수근입니다.\n",
                "    sqrtm3 = sqrt(3) * 1j\n",
                "    w = (-1 + sqrtm3) / 2\n",
                "    w2 = (-1 - sqrtm3) / 2\n",
                "    y1 = u * w + v * w2 - b / 3\n",
                "    y2 = u * w2 + v * w - b / 3\n",
                "    # 항상 실근인 y0 만 실근일 경우 y0만,\n",
                "    # 다른 근도 실근일 경우 중근을 제외한 뒤 정렬하여 출력합니다.\n",
                "    if y1.imag > 1e-4:\n",
                "        print(float4(y0))\n",
                "    else:\n",
                "        y = sorted(set([float4(y0), float4(y1), float4(y2)]))\n",
                "        print(*y)"
            ]
        },
        {
            "cell_type": "markdown",
            "metadata": {},
            "source": [
                "하단에는 해당 풀이에서 사용한 세제곱근 함수의 정확도를 체크하기 위한 코드입니다."
            ]
        },
        {
            "cell_type": "code",
            "execution_count": 6,
            "metadata": {},
            "outputs": [
                {
                    "name": "stdout",
                    "output_type": "stream",
                    "text": [
                        "26 1568901 116.19796260411664 1568901.00000001 1.0011717677116394e-08\n",
                        "no error at cbrt!\n"
                    ]
                }
            ],
            "source": [
                "error = 1e-8\n",
                "\n",
                "def cbrt26(n):\n",
                "    if n == 0.: return 0.\n",
                "    rt = n / abs(n)\n",
                "    for _ in range(26):\n",
                "        rt -= (rt ** 3 - n) / (3 * rt ** 2)\n",
                "        if rt ** 3 == n:\n",
                "            break\n",
                "    return rt\n",
                "\n",
                "for i in range(2000000):\n",
                "    rt = cbrt26(i)\n",
                "    if abs(rt ** 3 - i) > error:\n",
                "        print(26, i, rt, rt ** 3, rt ** 3 - i)\n",
                "        break\n",
                "else:\n",
                "    print(\"no error at cbrt26!\")\n",
                "\n",
                "def cbrt(n):\n",
                "    if n == 0.: return 0.\n",
                "    rt = n / abs(n)\n",
                "    for _ in range(27):\n",
                "        rt -= (rt ** 3 - n) / (3 * rt ** 2)\n",
                "        if rt ** 3 == n:\n",
                "            break\n",
                "    return rt\n",
                "\n",
                "for i in range(-2000000, 2000000):\n",
                "    rt = cbrt(i)\n",
                "    if abs(rt ** 3 - i) > error:\n",
                "        print(i, rt, rt ** 3, rt ** 3 - i)\n",
                "        break\n",
                "else:\n",
                "    print(\"no error at cbrt!\")"
            ]
        },
        {
            "cell_type": "markdown",
            "metadata": {},
            "source": [
                "### 두번째 시도"
            ]
        },
        {
            "cell_type": "code",
            "execution_count": 5,
            "metadata": {},
            "outputs": [],
            "source": [
                "import sys\n",
                "\n",
                "input = lambda: sys.stdin.readline().rstrip()\n",
                "print = lambda x: sys.stdout.write(str(x) + \"\\n\")\n",
                "\n",
                "\n",
                "def jrj(nums, x):\n",
                "    # 조립제법을 구현한 함수입니다.\n",
                "    res = [nums[0]]\n",
                "    for i in nums[1:-1]:\n",
                "        res.append(res[-1] * x + i)\n",
                "    return res\n",
                "\n",
                "\n",
                "def float4(n):\n",
                "    # 소수점 넷째 자리까지 반올림하여 반환하는 함수\n",
                "    return \"%.4f\" % round(n.real, 4)\n",
                "\n",
                "\n",
                "for k in range(int(input())):\n",
                "    A, B, C, D = map(int, input().split())\n",
                "    # 해가 들어갈 리스트입니다.\n",
                "    x = []\n",
                "    if D == 0:\n",
                "        # 상수항이 0인 경우 0은 하나의 해입니다.\n",
                "        x.append(0)\n",
                "    else:\n",
                "        # 상수항이 0이 아닐 경우,\n",
                "        # -D ~ D 사이의 D의 약수 중에 정수해가 하나 존재합니다.\n",
                "        for i in range(1, abs(D) + 1):\n",
                "            if D % i == 0:\n",
                "                # i가 D의 약수면, 삼차방정식의 해인지 확인합니다.\n",
                "                if A * i ** 3 + B * i ** 2 + C * i + D == 0:\n",
                "                    x.append(i)\n",
                "                    break\n",
                "                # 혹은 -i가 삼차방정식의 해인지 확인합니다.\n",
                "                if A * i ** 3 - B * i ** 2 + C * i - D == 0:\n",
                "                    x.append(-i)\n",
                "                    break\n",
                "    # 위에서 구한 정수해로 조립제법을 이용하여 방정식을 나눕니다.\n",
                "    a, ba, ca = jrj([A, B, C, D], x[0])\n",
                "    # Ax^3 + Bx^2 + Cx + D = (x - x_0)(ax^2 + bax + ca) = 0\n",
                "\n",
                "    # 이차방정식의 판별식을 이용하여 다른 실근이 존재하는지 확인합니다.\n",
                "    b, c = ba / 2 / a, ca / a\n",
                "    if b * b > c:\n",
                "        # 판별식이 0보다 크면, 서로 다른 두 실근을 모두 구합니다.\n",
                "        sq = (b * b - c) ** 0.5\n",
                "        x.append(-b + sq)\n",
                "        x.append(-b - sq)\n",
                "    elif b * b == c:\n",
                "        # 판별식이 0이면, 중근이므로 하나만 구합니다.\n",
                "        x.append(-b)\n",
                "    # 해를 정렬하여 출력합니다.\n",
                "    print(*map(float4, sorted(set(map(lambda q: round(q, 4), x)))))"
            ]
        },
        {
            "cell_type": "markdown",
            "metadata": {},
            "source": [
                "## 해답"
            ]
        },
        {
            "cell_type": "code",
            "execution_count": 9,
            "metadata": {},
            "outputs": [
                {
                    "data": {
                        "text/plain": [
                            "'1.0000'"
                        ]
                    },
                    "execution_count": 9,
                    "metadata": {},
                    "output_type": "execute_result"
                }
            ],
            "source": [
                "def float4(n):\n",
                "    return \"%.4f\"%round(n.real, 4)\n",
                "\n",
                "\n",
                "float4(1)"
            ]
        },
        {
            "cell_type": "code",
            "execution_count": 10,
            "metadata": {},
            "outputs": [],
            "source": [
                "def solution1(input):\n",
                "    for _ in range(int(input())):\n",
                "        A, B, C, D = map(int,input().split())\n",
                "        b, c, d = B / A, C / A, D / A\n",
                "        p, q = c - b ** 2 / 3, d - b * c / 3 + 2 * b ** 3 / 27\n",
                "        qper2, pper3 = q / 2, p / 3\n",
                "        sq = sqrt(qper2 ** 2 + pper3 ** 3)\n",
                "        u = cbrt(-qper2 + sq)\n",
                "        v = cbrt(-qper2 - sq)\n",
                "        y0 = u + v - b / 3\n",
                "        sqrtm3 = sqrt(3) * 1j\n",
                "        w  = (-1 + sqrtm3) / 2\n",
                "        w2 = (-1 - sqrtm3) / 2\n",
                "        y1 = u * w + v * w2 - b / 3\n",
                "        y2 = u * w2 + v * w - b / 3\n",
                "        if y1.imag > 1e-4:\n",
                "            print(float4(y0))\n",
                "        else:\n",
                "            y = sorted(set(map(lambda q: round(q.real, 4), [y0, y1, y2])))\n",
                "            print(*map(float4, y))\n"
            ]
        },
        {
            "cell_type": "code",
            "execution_count": 11,
            "metadata": {},
            "outputs": [
                {
                    "data": {
                        "text/plain": [
                            "[2, -1]"
                        ]
                    },
                    "execution_count": 11,
                    "metadata": {},
                    "output_type": "execute_result"
                }
            ],
            "source": [
                "# 조립제법 Synthetic division\n",
                "def jrj(nums, x):\n",
                "    res = [nums[0]]\n",
                "    for i in nums[1:-1]:\n",
                "        res.append(res[-1] * x + i)\n",
                "    return res\n",
                "\n",
                "\n",
                "jrj(jrj([2, 1, -5, 2], 1), -2)\n",
                "    "
            ]
        },
        {
            "cell_type": "code",
            "execution_count": 12,
            "metadata": {},
            "outputs": [],
            "source": [
                "def solution(input):\n",
                "    for _ in range(int(input())):\n",
                "        A, B, C, D = map(int, input().split())\n",
                "        x = []\n",
                "        if D == 0:\n",
                "            x.append(0)\n",
                "        else:\n",
                "            for i in range(1, abs(D) + 1):\n",
                "                if D % i == 0:\n",
                "                    if A * i ** 3 + B * i ** 2 + C * i + D == 0:\n",
                "                        x.append(i)\n",
                "                        break\n",
                "                    if A * i ** 3 - B * i ** 2 + C * i - D == 0:\n",
                "                        x.append(-i)\n",
                "                        break\n",
                "        a, ba, ca = jrj([A, B, C, D], x[0])\n",
                "        b, c = ba / 2 / a, ca / a\n",
                "        if b * b > c:\n",
                "            sq = (b * b - c) ** 0.5\n",
                "            x.append(-b + sq)\n",
                "            x.append(-b - sq)\n",
                "        elif b * b == c:\n",
                "            x.append(-b)\n",
                "        print(*map(float4, sorted(set(map(lambda q: round(q, 4), x)))))"
            ]
        },
        {
            "cell_type": "markdown",
            "metadata": {},
            "source": [
                "## 예제"
            ]
        },
        {
            "cell_type": "code",
            "execution_count": 13,
            "metadata": {},
            "outputs": [],
            "source": [
                "# 백준 문제 풀이용 예제 실행 코드\n",
                "from bwj import test\n",
                "test_solution = test(solution)\n",
                "\n",
                "# test_solution(\"\"\"\"\"\")\n",
                "# test_solution(read(\"fn\").read())"
            ]
        },
        {
            "cell_type": "code",
            "execution_count": 14,
            "metadata": {},
            "outputs": [
                {
                    "name": "stdout",
                    "output_type": "stream",
                    "text": [
                        "-2.0000 0.0000 1000000.0000\n",
                        "0.0100 9.9900 10.0000\n",
                        "-1.0000 999.0000 1000.0000\n",
                        "10.0000 11.0000 12.0000\n",
                        "0.0000\n",
                        "125.0000 126.0000\n",
                        "125.0000 126.0000\n",
                        "0.0000 9.9990 10.0000\n",
                        "0.0000 0.0010 0.0020\n",
                        "0.0000 0.0010 0.0011\n"
                    ]
                }
            ],
            "source": [
                "test_solution(\"\"\"10\n",
                "1 -999998 -2000000 0\n",
                "10000 -200000 1000999 -9990\n",
                "2 -3996 1994002 1998000\n",
                "1439 -47487 520918 -1899480\n",
                "2000000000 0 0 0\n",
                "1 -377 47376 -1984500\n",
                "1 -376 47125 -1968750\n",
                "1000 -19999 99990 0\n",
                "498501 -1498 1 0\n",
                "899100 -1899 1 0\"\"\")\n",
                "# answer:\n",
                "# -2 0 1000000\n",
                "# 0.01 9.99 10\n",
                "# -1 999 1000\n",
                "# 10 11 12\n",
                "# 0\n",
                "# 125 126\n",
                "# 125 126\n",
                "# 0 9.999 10\n",
                "# 0 0.0010 0.0020\n",
                "# 0 0.0010 0.0011"
            ]
        },
        {
            "cell_type": "code",
            "execution_count": 15,
            "metadata": {},
            "outputs": [
                {
                    "name": "stdout",
                    "output_type": "stream",
                    "text": [
                        "-999999.0000\n",
                        "0.0000 141.3000\n",
                        "0.0000 1.0000\n"
                    ]
                }
            ],
            "source": [
                "test_solution(\"\"\"3\n",
                "1 1000000 1000000 999999 \n",
                "100 -28260 1996569 0\n",
                "1 -1 0 0\"\"\")\n",
                "# -999999.0\n",
                "# 0.0000 141.3000\n",
                "# 0.0000 1.0000"
            ]
        },
        {
            "cell_type": "code",
            "execution_count": 16,
            "metadata": {},
            "outputs": [
                {
                    "name": "stdout",
                    "output_type": "stream",
                    "text": [
                        "-2.0000 0.5000 1.0000\n",
                        "1.0000\n",
                        "-1.0000 1.0000 2.0000\n",
                        "0.5000 1.0000 2.0000\n",
                        "0.0000\n"
                    ]
                }
            ],
            "source": [
                "test_solution(\"\"\"5\n",
                "2 1 -5 2\n",
                "1 -3 3 -1\n",
                "1 -2 -1 2\n",
                "2 -7 7 -2\n",
                "2 0 0 0\"\"\")\n",
                "# answer:\n",
                "# -2.0000 0.5000 1.0000\n",
                "# 1.0000\n",
                "# -1.0000 1.0000 2.0000\n",
                "# 0.5000 1.0000 2.0000\n",
                "# 0.0000"
            ]
        }
    ],
    "metadata": {
        "interpreter": {
            "hash": "72904a014a9ffe38f4c58942120b599b3c5a87d06764037548e0139929c1cde3"
        },
        "kernelspec": {
            "display_name": "Python 3.10.4 ('venv': venv)",
            "language": "python",
            "name": "python3"
        },
        "language_info": {
            "codemirror_mode": {
                "name": "ipython",
                "version": 3
            },
            "file_extension": ".py",
            "mimetype": "text/x-python",
            "name": "python",
            "nbconvert_exporter": "python",
            "pygments_lexer": "ipython3",
            "version": "3.10.4"
        },
        "orig_nbformat": 4
    },
    "nbformat": 4,
    "nbformat_minor": 2
}
