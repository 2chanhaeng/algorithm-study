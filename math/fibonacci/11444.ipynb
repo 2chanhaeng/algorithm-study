{
 "cells": [
  {
   "cell_type": "markdown",
   "metadata": {},
   "source": [
    "# [백준/피보나치 수 6](https://www.acmicpc.net/problem/11444)"
   ]
  },
  {
   "cell_type": "markdown",
   "metadata": {},
   "source": [
    "## 풀이과정"
   ]
  },
  {
   "cell_type": "markdown",
   "metadata": {},
   "source": [
    "### 첫번째 시도"
   ]
  },
  {
   "cell_type": "markdown",
   "metadata": {},
   "source": [
    "풀이과정"
   ]
  },
  {
   "cell_type": "code",
   "execution_count": 19,
   "metadata": {},
   "outputs": [],
   "source": [
    "def solution():\n",
    "    from functools import cache\n",
    "\n",
    "    mod = 1_000_000_007\n",
    "\n",
    "    @cache\n",
    "    def f(n):\n",
    "        if n < 3:\n",
    "            return 1\n",
    "        l = n // 2\n",
    "        m = n - l\n",
    "        if l == m:\n",
    "            return f(l) * (2 * f(l - 1) + f(l)) % mod\n",
    "        return (f(l) ** 2 + f(m) ** 2) % mod\n",
    "\n",
    "    print(f(int(open(0).read().rstrip())))\n",
    "\n",
    "\n",
    "solution()"
   ]
  },
  {
   "cell_type": "markdown",
   "metadata": {},
   "source": [
    "## 해답"
   ]
  },
  {
   "cell_type": "code",
   "execution_count": 2,
   "metadata": {},
   "outputs": [],
   "source": [
    "from functools import cache"
   ]
  },
  {
   "cell_type": "code",
   "execution_count": 12,
   "metadata": {},
   "outputs": [
    {
     "name": "stdout",
     "output_type": "stream",
     "text": [
      "1\n",
      "1\n",
      "2\n",
      "3\n",
      "5\n",
      "8\n",
      "13\n",
      "21\n",
      "34\n"
     ]
    }
   ],
   "source": [
    "@cache\n",
    "def f(n):\n",
    "    if n < 3:\n",
    "        return 1\n",
    "    mod = 1_000_000_007\n",
    "    l = n // 2\n",
    "    m = n - l\n",
    "    if l == m:\n",
    "        return f(l) * (2 * f(l - 1) + f(l)) % mod\n",
    "    return (f(l) ** 2 + f(m) ** 2) % mod\n",
    "\n",
    "\n",
    "for i in range(1, 10):\n",
    "    print(f(i))"
   ]
  },
  {
   "cell_type": "code",
   "execution_count": 13,
   "metadata": {},
   "outputs": [],
   "source": [
    "def solution(open=open):\n",
    "    n = int(open(0).read().rstrip())\n",
    "    print(f(n))"
   ]
  },
  {
   "cell_type": "markdown",
   "metadata": {},
   "source": [
    "## 예제"
   ]
  },
  {
   "cell_type": "code",
   "execution_count": 14,
   "metadata": {},
   "outputs": [],
   "source": [
    "# 백준 문제 풀이용 예제 실행 코드\n",
    "from bwj import test\n",
    "\n",
    "test_solution = test(solution)\n",
    "\n",
    "# test_solution(\"\"\"\"\"\")\n",
    "# test_solution(read(\"fn\").read())"
   ]
  },
  {
   "cell_type": "code",
   "execution_count": 15,
   "metadata": {},
   "outputs": [
    {
     "name": "stdout",
     "output_type": "stream",
     "text": [
      "5\n"
     ]
    }
   ],
   "source": [
    "for i in range(1, 17):\n",
    "    print(\"%d:\" % i, end=\" \")\n",
    "    test_solution(str(i))"
   ]
  },
  {
   "cell_type": "code",
   "execution_count": 16,
   "metadata": {},
   "outputs": [
    {
     "name": "stdout",
     "output_type": "stream",
     "text": [
      "1: 1\n",
      "1000000007: 1000000006\n",
      "2000000013: 2\n",
      "3000000019: 1000000002\n",
      "4000000025: 13\n",
      "5000000031: 999999973\n",
      "6000000037: 89\n",
      "7000000043: 999999774\n",
      "8000000049: 610\n",
      "9000000055: 999998410\n"
     ]
    }
   ],
   "source": [
    "mod = 1_000_000_007 - 1\n",
    "for i in range(1, mod * 10, mod):\n",
    "    print(\"%d:\" % i, end=\" \")\n",
    "    test_solution(str(i))"
   ]
  },
  {
   "cell_type": "code",
   "execution_count": 17,
   "metadata": {},
   "outputs": [
    {
     "name": "stdout",
     "output_type": "stream",
     "text": [
      "517691607\n"
     ]
    }
   ],
   "source": [
    "test_solution(\"\"\"1000\"\"\")  # 517691607"
   ]
  }
 ],
 "metadata": {
  "interpreter": {
   "hash": "73891b0dc2e53390f36276e59930dd4ecab91b05b5c90320c2d5b1c443f87069"
  },
  "kernelspec": {
   "display_name": "Python 3.10.1 ('venv': venv)",
   "language": "python",
   "name": "python3"
  },
  "language_info": {
   "codemirror_mode": {
    "name": "ipython",
    "version": 3
   },
   "file_extension": ".py",
   "mimetype": "text/x-python",
   "name": "python",
   "nbconvert_exporter": "python",
   "pygments_lexer": "ipython3",
   "version": "3.10.4"
  },
  "orig_nbformat": 4
 },
 "nbformat": 4,
 "nbformat_minor": 2
}
