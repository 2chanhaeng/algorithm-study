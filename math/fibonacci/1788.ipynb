{
  "cells": [
    {
      "cell_type": "markdown",
      "metadata": {},
      "source": [
        "# [백준/피보나치 수의 확장](https://www.acmicpc.net/problem/1788)\n"
      ]
    },
    {
      "cell_type": "markdown",
      "metadata": {},
      "source": [
        "## 풀이과정\n"
      ]
    },
    {
      "cell_type": "markdown",
      "metadata": {},
      "source": [
        "### 첫번째 시도\n"
      ]
    },
    {
      "cell_type": "markdown",
      "metadata": {},
      "source": [
        "#### 풀이과정\n"
      ]
    },
    {
      "cell_type": "code",
      "execution_count": null,
      "metadata": {},
      "outputs": [],
      "source": [
        "MOD = 10**9\n",
        "\n",
        "\n",
        "def fib(n: int) -> int:\n",
        "    if n < 2:\n",
        "        return n\n",
        "    a = 0\n",
        "    b = 1\n",
        "    for _ in range(n - 1):\n",
        "        a, b = b, (a + b) % MOD\n",
        "    return b\n",
        "\n",
        "\n",
        "def solution():\n",
        "    import sys\n",
        "\n",
        "    i = int(sys.stdin.read().strip())\n",
        "    a = 0 if i == 0 else 1 if i > 0 else (-1) ** (i % 2 + 1)\n",
        "    print(a)\n",
        "    f = fib(abs(i))\n",
        "    print(f)\n",
        "\n",
        "\n",
        "solution()"
      ]
    },
    {
      "cell_type": "markdown",
      "metadata": {},
      "source": [
        "## 해답\n"
      ]
    },
    {
      "cell_type": "code",
      "execution_count": 1,
      "id": "96f02a26",
      "metadata": {},
      "outputs": [],
      "source": [
        "MOD = 10**9\n",
        "\n",
        "\n",
        "def fib(n: int) -> int:\n",
        "    if n < 2:\n",
        "        return n\n",
        "    a = 0\n",
        "    b = 1\n",
        "    for _ in range(n - 1):\n",
        "        a, b = b, (a + b) % MOD\n",
        "    return b"
      ]
    },
    {
      "cell_type": "code",
      "execution_count": 2,
      "metadata": {},
      "outputs": [],
      "source": [
        "def solution():\n",
        "    import sys\n",
        "\n",
        "    i = int(sys.stdin.read().strip())\n",
        "    a = 0 if i == 0 else 1 if i > 0 else (-1) ** (i % 2 + 1)\n",
        "    print(a)\n",
        "    f = fib(abs(i))\n",
        "    print(f)"
      ]
    },
    {
      "cell_type": "markdown",
      "metadata": {},
      "source": [
        "## 예제\n"
      ]
    },
    {
      "cell_type": "code",
      "execution_count": 3,
      "metadata": {},
      "outputs": [],
      "source": [
        "# 백준 문제 풀이용 예제 실행 코드\n",
        "from bwj import test\n",
        "\n",
        "test_solution = test(solution)\n",
        "\n",
        "# test_solution(\"\"\"\"\"\")\n",
        "# test_solution(read(\"fn\").read())"
      ]
    },
    {
      "cell_type": "code",
      "execution_count": 4,
      "id": "8e5d46ef",
      "metadata": {},
      "outputs": [
        {
          "name": "stdout",
          "output_type": "stream",
          "text": [
            "1\n",
            "1\n",
            "-1\n",
            "1\n",
            "1\n",
            "2\n",
            "-1\n",
            "3\n",
            "1\n",
            "5\n"
          ]
        }
      ],
      "source": [
        "test_solution(\"-1\")  # 1 1\n",
        "test_solution(\"-2\")  # -1 1\n",
        "test_solution(\"-3\")  # 1 2\n",
        "test_solution(\"-4\")  # -1 3\n",
        "test_solution(\"-5\")  # 1 5"
      ]
    },
    {
      "cell_type": "code",
      "execution_count": 5,
      "id": "10462085",
      "metadata": {},
      "outputs": [
        {
          "name": "stdout",
          "output_type": "stream",
          "text": [
            "1\n",
            "242546875\n"
          ]
        }
      ],
      "source": [
        "test_solution(\n",
        "    \"\"\"1000000\n",
        "\"\"\"\n",
        ")\n",
        "# answer:\n",
        "# 1\n",
        "# 242546875"
      ]
    },
    {
      "cell_type": "code",
      "execution_count": 6,
      "metadata": {},
      "outputs": [
        {
          "name": "stdout",
          "output_type": "stream",
          "text": [
            "-1\n",
            "1\n"
          ]
        }
      ],
      "source": [
        "test_solution(\n",
        "    \"\"\"-2\n",
        "\"\"\"\n",
        ")\n",
        "# answer:\n",
        "# -1\n",
        "# 1"
      ]
    },
    {
      "cell_type": "code",
      "execution_count": 7,
      "metadata": {},
      "outputs": [
        {
          "name": "stdout",
          "output_type": "stream",
          "text": [
            "0\n",
            "0\n"
          ]
        }
      ],
      "source": [
        "test_solution(\n",
        "    \"\"\"0\n",
        "\"\"\"\n",
        ")\n",
        "# answer:\n",
        "# 0\n",
        "# 0"
      ]
    },
    {
      "cell_type": "code",
      "execution_count": 8,
      "metadata": {},
      "outputs": [
        {
          "name": "stdout",
          "output_type": "stream",
          "text": [
            "1\n",
            "55\n"
          ]
        }
      ],
      "source": [
        "test_solution(\n",
        "    \"\"\"10\n",
        "\"\"\"\n",
        ")\n",
        "# answer:\n",
        "# 1\n",
        "# 55"
      ]
    },
    {
      "cell_type": "code",
      "execution_count": 9,
      "metadata": {},
      "outputs": [
        {
          "name": "stdout",
          "output_type": "stream",
          "text": [
            "1\n",
            "13\n"
          ]
        }
      ],
      "source": [
        "test_solution(\n",
        "    \"\"\"-7\n",
        "\"\"\"\n",
        ")\n",
        "# answer:\n",
        "# 1\n",
        "# 13"
      ]
    }
  ],
  "metadata": {
    "kernelspec": {
      "display_name": "venv",
      "language": "python",
      "name": "python3"
    },
    "language_info": {
      "codemirror_mode": {
        "name": "ipython",
        "version": 3
      },
      "file_extension": ".py",
      "mimetype": "text/x-python",
      "name": "python",
      "nbconvert_exporter": "python",
      "pygments_lexer": "ipython3",
      "version": "3.13.3"
    }
  },
  "nbformat": 4,
  "nbformat_minor": 5
}
