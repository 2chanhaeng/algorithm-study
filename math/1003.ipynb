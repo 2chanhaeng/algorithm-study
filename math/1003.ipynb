{
    "cells": [
        {
            "cell_type": "markdown",
            "metadata": {},
            "source": [
                "# [백준/피보나치 함수](https://www.acmicpc.net/problem/1003)"
            ]
        },
        {
            "cell_type": "markdown",
            "metadata": {},
            "source": [
                "## 풀이과정"
            ]
        },
        {
            "cell_type": "markdown",
            "metadata": {},
            "source": [
                "### 첫번째 시도"
            ]
        },
        {
            "cell_type": "markdown",
            "metadata": {},
            "source": [
                "풀이과정"
            ]
        },
        {
            "cell_type": "code",
            "execution_count": null,
            "metadata": {},
            "outputs": [],
            "source": [
                "import sys;input = lambda: sys.stdin.readline().rstrip();print = lambda *x: sys.stdout.write(\" \".join(map(str, x)) + \"\\n\")\n",
                "from functools import cache\n",
                "@cache\n",
                "def f(n): return f(n - 1) + f(n - 2) if n > 1 else 1\n",
                "for _ in range(int(input())):\n",
                "    match int(input()):\n",
                "        case 0: print(1, 0)\n",
                "        case 1: print(0, 1)\n",
                "        case n: print(f(n - 2), f(n - 1))"
            ]
        },
        {
            "cell_type": "markdown",
            "metadata": {},
            "source": [
                "## 해답"
            ]
        },
        {
            "cell_type": "code",
            "execution_count": 28,
            "metadata": {},
            "outputs": [
                {
                    "data": {
                        "text/plain": [
                            "True"
                        ]
                    },
                    "execution_count": 28,
                    "metadata": {},
                    "output_type": "execute_result"
                }
            ],
            "source": [
                "type((1,)) is tuple"
            ]
        },
        {
            "cell_type": "code",
            "execution_count": 2,
            "metadata": {},
            "outputs": [],
            "source": [
                "from functools import cache"
            ]
        },
        {
            "cell_type": "code",
            "execution_count": 11,
            "metadata": {},
            "outputs": [],
            "source": [
                "@cache\n",
                "def f(n): return f(n - 1) + f(n - 2) if n > 1 else 1"
            ]
        },
        {
            "cell_type": "code",
            "execution_count": 20,
            "metadata": {},
            "outputs": [],
            "source": [
                "def solution(input):\n",
                "    for _ in range(int(input())):\n",
                "        match int(input()):\n",
                "            case 0: print(1, 0)\n",
                "            case 1: print(0, 1)\n",
                "            case n: print(f(n - 2), f(n - 1))"
            ]
        },
        {
            "cell_type": "markdown",
            "metadata": {},
            "source": [
                "## 예제"
            ]
        },
        {
            "cell_type": "code",
            "execution_count": 21,
            "metadata": {},
            "outputs": [],
            "source": [
                "# 백준 문제 풀이용 예제 실행 코드\n",
                "from bwj import test\n",
                "test_solution = test(solution)\n",
                "\n",
                "# test_solution(\"\"\"\"\"\")\n",
                "# test_solution(read(\"fn\").read())"
            ]
        },
        {
            "cell_type": "code",
            "execution_count": 22,
            "metadata": {},
            "outputs": [
                {
                    "name": "stdout",
                    "output_type": "stream",
                    "text": [
                        "1 0\n",
                        "0 1\n",
                        "1 2\n"
                    ]
                }
            ],
            "source": [
                "test_solution(\"\"\"3\n",
                "0\n",
                "1\n",
                "3\"\"\")\n",
                "# answer:\n",
                "# 1 0\n",
                "# 0 1\n",
                "# 1 2"
            ]
        },
        {
            "cell_type": "code",
            "execution_count": 23,
            "metadata": {},
            "outputs": [
                {
                    "name": "stdout",
                    "output_type": "stream",
                    "text": [
                        "5 8\n",
                        "10946 17711\n"
                    ]
                }
            ],
            "source": [
                "test_solution(\"\"\"2\n",
                "6\n",
                "22\"\"\")\n",
                "# answer:\n",
                "# 5 8\n",
                "# 10946 17711"
            ]
        }
    ],
    "metadata": {
        "interpreter": {
            "hash": "73891b0dc2e53390f36276e59930dd4ecab91b05b5c90320c2d5b1c443f87069"
        },
        "kernelspec": {
            "display_name": "Python 3.10.1 ('venv': venv)",
            "language": "python",
            "name": "python3"
        },
        "language_info": {
            "codemirror_mode": {
                "name": "ipython",
                "version": 3
            },
            "file_extension": ".py",
            "mimetype": "text/x-python",
            "name": "python",
            "nbconvert_exporter": "python",
            "pygments_lexer": "ipython3",
            "version": "3.10.1"
        },
        "orig_nbformat": 4
    },
    "nbformat": 4,
    "nbformat_minor": 2
}
