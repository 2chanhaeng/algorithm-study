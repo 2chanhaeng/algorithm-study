{
    "cells": [
        {
            "cell_type": "markdown",
            "metadata": {},
            "source": [
                "# [백준/카잉 달력](https://www.acmicpc.net/problem/6064)"
            ]
        },
        {
            "cell_type": "markdown",
            "metadata": {},
            "source": [
                "## 풀이과정"
            ]
        },
        {
            "cell_type": "markdown",
            "metadata": {},
            "source": [
                "### 첫번째 시도"
            ]
        },
        {
            "cell_type": "markdown",
            "metadata": {},
            "source": [
                "풀이과정"
            ]
        },
        {
            "cell_type": "code",
            "execution_count": null,
            "metadata": {},
            "outputs": [],
            "source": [
                "import sys;input = lambda: sys.stdin.readline().rstrip();print = lambda *x: sys.stdout.write(\" \".join(map(str, x)) + \"\\n\")\n",
                "for _ in range(int(input())):\n",
                "    M, N, x, y = map(int,input().split())\n",
                "    MN = M * N\n",
                "    xy = set(range(x % M, MN, M)) & set(range(y % N, MN, N))\n",
                "    print(min(xy) if len(xy) else -1)"
            ]
        },
        {
            "cell_type": "markdown",
            "metadata": {},
            "source": [
                "## 해답"
            ]
        },
        {
            "cell_type": "code",
            "execution_count": 8,
            "metadata": {},
            "outputs": [],
            "source": [
                "def solution(input):\n",
                "    for _ in range(int(input())):\n",
                "        M, N, x, y = map(int,input().split())\n",
                "        MN = M * N\n",
                "        xy = set(range(x % M, MN, M)) & set(range(y % N, MN, N))\n",
                "        print(min(xy) if len(xy) else -1)\n"
            ]
        },
        {
            "cell_type": "markdown",
            "metadata": {},
            "source": [
                "## 예제"
            ]
        },
        {
            "cell_type": "code",
            "execution_count": 9,
            "metadata": {},
            "outputs": [],
            "source": [
                "# 백준 문제 풀이용 예제 실행 코드\n",
                "from bwj import test\n",
                "test_solution = test(solution)\n",
                "\n",
                "# test_solution(\"\"\"\"\"\")\n",
                "# test_solution(read(\"fn\").read())"
            ]
        },
        {
            "cell_type": "code",
            "execution_count": 10,
            "metadata": {},
            "outputs": [
                {
                    "name": "stdout",
                    "output_type": "stream",
                    "text": [
                        "33\n",
                        "-1\n",
                        "83\n"
                    ]
                }
            ],
            "source": [
                "test_solution(\"\"\"3\n",
                "10 12 3 9\n",
                "10 12 7 2\n",
                "13 11 5 6\"\"\")\n",
                "# answer:\n",
                "# 33\n",
                "# -1\n",
                "# 83"
            ]
        }
    ],
    "metadata": {
        "interpreter": {
            "hash": "73891b0dc2e53390f36276e59930dd4ecab91b05b5c90320c2d5b1c443f87069"
        },
        "kernelspec": {
            "display_name": "Python 3.10.1 ('venv': venv)",
            "language": "python",
            "name": "python3"
        },
        "language_info": {
            "codemirror_mode": {
                "name": "ipython",
                "version": 3
            },
            "file_extension": ".py",
            "mimetype": "text/x-python",
            "name": "python",
            "nbconvert_exporter": "python",
            "pygments_lexer": "ipython3",
            "version": "3.10.2"
        },
        "orig_nbformat": 4
    },
    "nbformat": 4,
    "nbformat_minor": 2
}
