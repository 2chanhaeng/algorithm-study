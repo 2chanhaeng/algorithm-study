{
    "cells": [
        {
            "cell_type": "markdown",
            "metadata": {},
            "source": [
                "# [백준/카잉 달력](https://www.acmicpc.net/problem/6064)"
            ]
        },
        {
            "cell_type": "markdown",
            "metadata": {},
            "source": [
                "## 풀이과정"
            ]
        },
        {
            "cell_type": "markdown",
            "metadata": {},
            "source": [
                "### 첫번째 시도"
            ]
        },
        {
            "cell_type": "markdown",
            "metadata": {},
            "source": [
                "풀이과정"
            ]
        },
        {
            "cell_type": "code",
            "execution_count": null,
            "metadata": {},
            "outputs": [],
            "source": [
                "import sys;input = lambda: sys.stdin.readline().rstrip();print = lambda *x: sys.stdout.write(\" \".join(map(str, x)) + \"\\n\")\n",
                "for _ in range(int(input())):\n",
                "    M, N, x, y = map(int,input().split())\n",
                "    MN = M * N\n",
                "    xy = set(range(x % M, MN, M)) & set(range(y % N, MN, N))\n",
                "    print(min(xy) if len(xy) else -1)"
            ]
        },
        {
            "cell_type": "markdown",
            "metadata": {},
            "source": [
                "### 두번째 시도"
            ]
        },
        {
            "cell_type": "markdown",
            "metadata": {},
            "source": [
                "풀이과정"
            ]
        },
        {
            "cell_type": "code",
            "execution_count": 77,
            "metadata": {},
            "outputs": [],
            "source": [
                "def solution():\n",
                "    from math import lcm\n",
                "    import sys\n",
                "\n",
                "    _, *inputs = sys.stdin.read().rstrip().split(\"\\n\")\n",
                "    for input in inputs:\n",
                "        M, N, x, y = map(int, input.split())\n",
                "        MN = lcm(M, N)\n",
                "        xy = set(range(x % M, MN, M)) & set(range(y % N, MN, N))\n",
                "        ans = min(xy) if xy else -1\n",
                "        print(ans if ans else MN)\n",
                "\n",
                "\n",
                "solution()"
            ]
        },
        {
            "cell_type": "markdown",
            "metadata": {},
            "source": [
                "## 해답"
            ]
        },
        {
            "cell_type": "code",
            "execution_count": 81,
            "metadata": {},
            "outputs": [],
            "source": [
                "from math import lcm"
            ]
        },
        {
            "cell_type": "code",
            "execution_count": 82,
            "metadata": {},
            "outputs": [],
            "source": [
                "def solution(open):\n",
                "    _, *inputs = open(0).read().rstrip().split(\"\\n\")\n",
                "    for input in inputs:\n",
                "        M, N, x, y = map(int, input.split())\n",
                "        MN = lcm(M, N)\n",
                "        xy = set(range(x % M, MN, M)) & set(range(y % N, MN, N))\n",
                "        ans = min(xy) if xy else -1\n",
                "        print(input, \":\", ans if ans else MN)\n"
            ]
        },
        {
            "cell_type": "markdown",
            "metadata": {},
            "source": [
                "## 예제"
            ]
        },
        {
            "cell_type": "code",
            "execution_count": 83,
            "metadata": {},
            "outputs": [],
            "source": [
                "# 백준 문제 풀이용 예제 실행 코드\n",
                "from bwj import test\n",
                "test_solution = test(solution)\n",
                "\n",
                "# test_solution(\"\"\"\"\"\")\n",
                "# test_solution(read(\"fn\").read())"
            ]
        },
        {
            "cell_type": "code",
            "execution_count": 84,
            "metadata": {},
            "outputs": [
                {
                    "name": "stdout",
                    "output_type": "stream",
                    "text": [
                        "1 1 1 1 : 1\n",
                        "1 5 1 1 : 1\n",
                        "1 5 1 5 : 5\n",
                        "5 1 1 1 : 1\n",
                        "5 1 5 1 : 5\n",
                        "5 5 1 1 : 1\n",
                        "5 5 1 5 : -1\n",
                        "5 5 5 1 : -1\n",
                        "5 5 5 5 : 5\n"
                    ]
                }
            ],
            "source": [
                "from itertools import product\n",
                "test_solution(\"9\\n\" + \n",
                "    \"\\n\".join(\n",
                "        \" \".join(i)\n",
                "        for i in product(\"15\", repeat=4)\n",
                "        if i[0] >= i[2] and i[1] >= i[3]\n",
                "    )\n",
                ") "
            ]
        },
        {
            "cell_type": "code",
            "execution_count": 85,
            "metadata": {},
            "outputs": [
                {
                    "name": "stdout",
                    "output_type": "stream",
                    "text": [
                        "10 12 3 9 : 33\n",
                        "10 12 7 2 : -1\n",
                        "13 11 5 6 : 83\n"
                    ]
                }
            ],
            "source": [
                "test_solution(\"\"\"3\n",
                "10 12 3 9\n",
                "10 12 7 2\n",
                "13 11 5 6\"\"\")\n",
                "# answer:\n",
                "# 33\n",
                "# -1\n",
                "# 83"
            ]
        }
    ],
    "metadata": {
        "interpreter": {
            "hash": "6f343a80023390f07f657f7b7b783138624f73d36da2400954869fbeb113b94b"
        },
        "kernelspec": {
            "display_name": "Python 3.10.2 ('venv': venv)",
            "language": "python",
            "name": "python3"
        },
        "language_info": {
            "codemirror_mode": {
                "name": "ipython",
                "version": 3
            },
            "file_extension": ".py",
            "mimetype": "text/x-python",
            "name": "python",
            "nbconvert_exporter": "python",
            "pygments_lexer": "ipython3",
            "version": "3.10.2"
        },
        "orig_nbformat": 4
    },
    "nbformat": 4,
    "nbformat_minor": 2
}
