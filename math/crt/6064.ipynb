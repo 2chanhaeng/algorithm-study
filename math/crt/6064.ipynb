{
 "cells": [
  {
   "cell_type": "markdown",
   "metadata": {},
   "source": [
    "# [백준/카잉 달력](https://www.acmicpc.net/problem/6064)"
   ]
  },
  {
   "cell_type": "markdown",
   "metadata": {},
   "source": [
    "## 풀이과정"
   ]
  },
  {
   "cell_type": "markdown",
   "metadata": {},
   "source": [
    "### 첫번째 시도"
   ]
  },
  {
   "cell_type": "markdown",
   "metadata": {},
   "source": [
    "풀이과정"
   ]
  },
  {
   "cell_type": "code",
   "execution_count": null,
   "metadata": {},
   "outputs": [],
   "source": [
    "import sys\n",
    "\n",
    "input = lambda: sys.stdin.readline().rstrip()\n",
    "print = lambda *x: sys.stdout.write(\" \".join(map(str, x)) + \"\\n\")\n",
    "for _ in range(int(input())):\n",
    "    M, N, x, y = map(int, input().split())\n",
    "    MN = M * N\n",
    "    xy = set(range(x % M, MN, M)) & set(range(y % N, MN, N))\n",
    "    print(min(xy) if len(xy) else -1)"
   ]
  },
  {
   "cell_type": "markdown",
   "metadata": {},
   "source": [
    "### 두번째 시도"
   ]
  },
  {
   "cell_type": "markdown",
   "metadata": {},
   "source": [
    "풀이과정"
   ]
  },
  {
   "cell_type": "code",
   "execution_count": 77,
   "metadata": {},
   "outputs": [],
   "source": [
    "def solution():\n",
    "    from math import lcm\n",
    "    import sys\n",
    "\n",
    "    _, *inputs = sys.stdin.read().rstrip().split(\"\\n\")\n",
    "    for input in inputs:\n",
    "        M, N, x, y = map(int, input.split())\n",
    "        MN = lcm(M, N)\n",
    "        xy = set(range(x % M, MN, M)) & set(range(y % N, MN, N))\n",
    "        ans = min(xy) if xy else -1\n",
    "        print(ans if ans else MN)\n",
    "\n",
    "\n",
    "solution()"
   ]
  },
  {
   "cell_type": "code",
   "execution_count": 6,
   "metadata": {},
   "outputs": [],
   "source": [
    "def ex_euclid(a, b):\n",
    "    x0, x1, y0, y1 = 1, 0, 0, 1\n",
    "\n",
    "    print(x0, x1, y0, y1)\n",
    "    while b:\n",
    "        n, a, b = a // b, b, a % b\n",
    "        x0, x1 = x1, x0 - n * x1\n",
    "        y0, y1 = y1, y0 - n * y1\n",
    "        print(x0, x1, y0, y1, n, a, b)\n",
    "    return x0, y0"
   ]
  },
  {
   "cell_type": "code",
   "execution_count": null,
   "metadata": {},
   "outputs": [],
   "source": [
    "import sys\n",
    "\n",
    "t = int(sys.stdin.readline())\n",
    "\n",
    "\n",
    "def gcd(x, y):\n",
    "    while y:\n",
    "        x, y = y, x % y\n",
    "    return x\n",
    "\n",
    "\n",
    "def lcm(x, y):\n",
    "    return x * y // gcd(x, y)\n",
    "\n",
    "\n",
    "def ex_euclid(a: int, b: int):\n",
    "    x0, x1 = 1, 0\n",
    "\n",
    "    while b:\n",
    "        a, (n, b) = b, divmod(a, b)\n",
    "        x0, x1 = x1, x0 - n * x1\n",
    "    return x0\n",
    "\n",
    "\n",
    "for _ in range(t):\n",
    "    M, N, x, y = map(int, sys.stdin.readline().split())\n",
    "\n",
    "    d = x - y\n",
    "\n",
    "    g = gcd(M, N)\n",
    "    a, b = ex_euclid(M, N)\n",
    "\n",
    "    if d%g:\n",
    "        ans = -1\n",
    "\n",
    "    else:\n",
    "        k = d // g\n",
    "        kk = x- k*a*M\n",
    "        ans = (kk-1) % (M//g*N) + 1\n",
    "    print(ans)\n"
   ]
  },
  {
   "attachments": {},
   "cell_type": "markdown",
   "metadata": {},
   "source": [
    "### 세번째 시도"
   ]
  },
  {
   "cell_type": "markdown",
   "metadata": {},
   "source": [
    "풀이과정"
   ]
  },
  {
   "cell_type": "code",
   "execution_count": null,
   "metadata": {},
   "outputs": [],
   "source": [
    "import sys\n",
    "import math\n",
    "import functools\n",
    "\n",
    "\n",
    "def divgen(a, b):\n",
    "    q, r = divmod(a, b)\n",
    "    yield q\n",
    "    if r:\n",
    "        yield from divgen(b, r)\n",
    "\n",
    "\n",
    "def euclid_inner(a, b):\n",
    "    return a[1], a[0] - b * a[1]\n",
    "\n",
    "\n",
    "def euclid(a, b):\n",
    "    return functools.reduce(euclid_inner, divgen(a, b), (1, 0))[0]\n",
    "\n",
    "\n",
    "def solution():\n",
    "    for inputs in sys.stdin.read().splitlines()[1:]:\n",
    "        M, N, x, y = map(int, inputs.split())\n",
    "        q, r = divmod(x - y, math.gcd(M, N))\n",
    "        lcm = math.lcm(M, N)\n",
    "        print(-1 if r else (-q * euclid(M, N) * M + x) % lcm or lcm)\n",
    "\n",
    "\n",
    "solution()"
   ]
  },
  {
   "cell_type": "markdown",
   "metadata": {},
   "source": [
    "## 해답"
   ]
  },
  {
   "cell_type": "code",
   "execution_count": 1,
   "metadata": {},
   "outputs": [],
   "source": [
    "import sys\n",
    "import math\n",
    "import functools"
   ]
  },
  {
   "cell_type": "code",
   "execution_count": 2,
   "metadata": {},
   "outputs": [],
   "source": [
    "def divgen(a, b):\n",
    "    q, r = divmod(a, b)\n",
    "    yield q\n",
    "    if r:\n",
    "        yield from divgen(b, r)"
   ]
  },
  {
   "cell_type": "code",
   "execution_count": 3,
   "metadata": {},
   "outputs": [],
   "source": [
    "def euclid_inner(a, b):\n",
    "    return a[1], a[0] - b * a[1]"
   ]
  },
  {
   "cell_type": "code",
   "execution_count": 4,
   "metadata": {},
   "outputs": [],
   "source": [
    "def euclid(a, b):\n",
    "    return functools.reduce(euclid_inner, divgen(a, b), (1, 0))[0]"
   ]
  },
  {
   "cell_type": "code",
   "execution_count": 5,
   "metadata": {},
   "outputs": [],
   "source": [
    "def solution():\n",
    "    for inputs in sys.stdin.read().splitlines()[1:]:\n",
    "        M, N, x, y = map(int, inputs.split())\n",
    "        q, r = divmod(x - y, math.gcd(M, N))\n",
    "        lcm = math.lcm(M, N)\n",
    "        print(-1 if r else (-q * euclid(M, N) * M + x) % lcm or lcm)"
   ]
  },
  {
   "cell_type": "markdown",
   "metadata": {},
   "source": [
    "## 예제"
   ]
  },
  {
   "cell_type": "code",
   "execution_count": 6,
   "metadata": {},
   "outputs": [],
   "source": [
    "# 백준 문제 풀이용 예제 실행 코드\n",
    "from bwj import test\n",
    "\n",
    "test_solution = test(solution)\n",
    "\n",
    "# test_solution(\"\"\"\"\"\")\n",
    "# test_solution(read(\"fn\").read())"
   ]
  },
  {
   "cell_type": "code",
   "execution_count": 7,
   "metadata": {},
   "outputs": [
    {
     "name": "stdout",
     "output_type": "stream",
     "text": [
      "1\n",
      "1\n",
      "5\n",
      "1\n",
      "5\n",
      "1\n",
      "-1\n",
      "-1\n",
      "5\n"
     ]
    }
   ],
   "source": [
    "from itertools import product\n",
    "\n",
    "test_solution(\n",
    "    \"9\\n\"\n",
    "    + \"\\n\".join(\n",
    "        \" \".join(i) for i in product(\"15\", repeat=4) if i[0] >= i[2] and i[1] >= i[3]\n",
    "    )\n",
    ")"
   ]
  },
  {
   "cell_type": "code",
   "execution_count": 8,
   "metadata": {},
   "outputs": [
    {
     "name": "stdout",
     "output_type": "stream",
     "text": [
      "33\n",
      "-1\n",
      "83\n"
     ]
    }
   ],
   "source": [
    "test_solution(\n",
    "    \"\"\"3\n",
    "10 12 3 9\n",
    "10 12 7 2\n",
    "13 11 5 6\"\"\"\n",
    ")\n",
    "# answer:\n",
    "# 33\n",
    "# -1\n",
    "# 83"
   ]
  }
 ],
 "metadata": {
  "kernelspec": {
   "display_name": "venv",
   "language": "python",
   "name": "python3"
  },
  "language_info": {
   "codemirror_mode": {
    "name": "ipython",
    "version": 3
   },
   "file_extension": ".py",
   "mimetype": "text/x-python",
   "name": "python",
   "nbconvert_exporter": "python",
   "pygments_lexer": "ipython3",
   "version": "3.11.1"
  },
  "orig_nbformat": 4,
  "vscode": {
   "interpreter": {
    "hash": "72904a014a9ffe38f4c58942120b599b3c5a87d06764037548e0139929c1cde3"
   }
  }
 },
 "nbformat": 4,
 "nbformat_minor": 2
}
