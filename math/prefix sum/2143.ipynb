{
    "cells": [
        {
            "cell_type": "markdown",
            "metadata": {},
            "source": [
                "# [백준/두 배열의 합](https://www.acmicpc.net/problem/2143)\n"
            ]
        },
        {
            "cell_type": "markdown",
            "metadata": {},
            "source": [
                "## 풀이과정\n"
            ]
        },
        {
            "cell_type": "markdown",
            "metadata": {},
            "source": [
                "### 첫번째 시도\n"
            ]
        },
        {
            "cell_type": "markdown",
            "metadata": {},
            "source": [
                "#### 풀이과정\n"
            ]
        },
        {
            "cell_type": "code",
            "execution_count": null,
            "metadata": {},
            "outputs": [],
            "source": [
                "from collections import Counter\n",
                "\n",
                "prefix = lambda ns: (total := 0,) + tuple(total := total + num for num in ns)\n",
                "partial = lambda ns: (num - sub for i, num in enumerate(ns[1:], 1) for sub in ns[:i])\n",
                "sums = lambda ns: Counter(partial(prefix(ns)))\n",
                "sort = lambda xs: sorted(xs, key=lambda x: x[0])\n",
                "\n",
                "\n",
                "def solution():\n",
                "    import sys\n",
                "\n",
                "    n = lambda: map(int, sys.stdin.readline().split())\n",
                "    target = next(n())\n",
                "    (_, a), (_, b) = sort(((next(n()), sums(n())), (next(n()), sums(n()))))\n",
                "    print(sum(b[target - k] * v for k, v in a.items()))\n",
                "\n",
                "\n",
                "solution()"
            ]
        },
        {
            "cell_type": "markdown",
            "metadata": {},
            "source": [
                "## 해답\n"
            ]
        },
        {
            "cell_type": "code",
            "execution_count": 1,
            "metadata": {},
            "outputs": [],
            "source": [
                "from collections import Counter"
            ]
        },
        {
            "cell_type": "code",
            "execution_count": 2,
            "metadata": {},
            "outputs": [],
            "source": [
                "prefix = lambda ns: (total := 0,) + tuple(total := total + num for num in ns)\n",
                "partial = lambda ns: (num - sub for i, num in enumerate(ns[1:], 1) for sub in ns[:i])\n",
                "sums = lambda ns: Counter(partial(prefix(ns)))\n",
                "sort = lambda xs: sorted(xs, key=lambda x: x[0])"
            ]
        },
        {
            "cell_type": "code",
            "execution_count": 3,
            "metadata": {},
            "outputs": [],
            "source": [
                "def solution():\n",
                "    import sys\n",
                "\n",
                "    n = lambda: map(int, sys.stdin.readline().split())\n",
                "    target = next(n())\n",
                "    (_, a), (_, b) = sort(((next(n()), sums(n())), (next(n()), sums(n()))))\n",
                "    print(sum(b[target - k] * v for k, v in a.items()))"
            ]
        },
        {
            "cell_type": "markdown",
            "metadata": {},
            "source": [
                "## 예제\n"
            ]
        },
        {
            "cell_type": "code",
            "execution_count": 4,
            "metadata": {},
            "outputs": [],
            "source": [
                "# 백준 문제 풀이용 예제 실행 코드\n",
                "from bwj import test\n",
                "\n",
                "test_solution = test(solution)\n",
                "\n",
                "# test_solution(\"\"\"\"\"\")\n",
                "# test_solution(read(\"fn\").read())"
            ]
        },
        {
            "cell_type": "code",
            "execution_count": 5,
            "metadata": {},
            "outputs": [
                {
                    "name": "stdout",
                    "output_type": "stream",
                    "text": [
                        "7\n"
                    ]
                }
            ],
            "source": [
                "test_solution(\n",
                "    \"\"\"5\n",
                "4\n",
                "1 3 1 2\n",
                "3\n",
                "1 3 2\n",
                "\"\"\"\n",
                ")  # 7"
            ]
        }
    ],
    "metadata": {
        "interpreter": {
            "hash": "73891b0dc2e53390f36276e59930dd4ecab91b05b5c90320c2d5b1c443f87069"
        },
        "kernelspec": {
            "display_name": "Python 3.10.1 ('venv': venv)",
            "language": "python",
            "name": "python3"
        },
        "language_info": {
            "codemirror_mode": {
                "name": "ipython",
                "version": 3
            },
            "file_extension": ".py",
            "mimetype": "text/x-python",
            "name": "python",
            "nbconvert_exporter": "python",
            "pygments_lexer": "ipython3",
            "version": "3.12.2"
        },
        "orig_nbformat": 4
    },
    "nbformat": 4,
    "nbformat_minor": 2
}
