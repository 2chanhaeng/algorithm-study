{
    "cells": [
        {
            "cell_type": "markdown",
            "metadata": {},
            "source": [
                "# [백준/인간-컴퓨터 상호작용](https://www.acmicpc.net/problem/16139)"
            ]
        },
        {
            "cell_type": "markdown",
            "metadata": {},
            "source": [
                "## 풀이과정"
            ]
        },
        {
            "cell_type": "markdown",
            "metadata": {},
            "source": [
                "### 첫번째 시도"
            ]
        },
        {
            "cell_type": "markdown",
            "metadata": {},
            "source": [
                "#### 풀이과정\n",
                "알파벳 별 누적합을 담아두는 리스트를 만든 뒤, 시작과 끝의 문자열 누적합 리스트를 꺼내 해당 알파벳 누적합의 차를 구했습니다."
            ]
        },
        {
            "cell_type": "code",
            "execution_count": null,
            "metadata": {},
            "outputs": [],
            "source": [
                "def solution():\n",
                "    import sys\n",
                "\n",
                "    input = sys.stdin.readline\n",
                "    # 단어의 알파벳들을 미리 숫자로 만들어 둡니다.\n",
                "    ords = [ord(cha) - 97 for cha in input().rstrip()]\n",
                "    _ = input()\n",
                "    # 알파벳 별 누적합을 담아두는 리스트 입니다.\n",
                "    prefix = [chas := (0,) * 26] + [(chas := chas[:cha] + (chas[cha] + 1,) + chas[cha + 1:]) for cha in ords]\n",
                "    for input in sys.stdin:\n",
                "        cha, *range = input.split()\n",
                "        # 세야하는 문자를 숫자로 만듭니다.\n",
                "        i = ord(cha) - 97\n",
                "        # 세야하는 구간에 시작과 끝입니다.\n",
                "        start, end = map(int, range)\n",
                "        # 시작과 끝의 해당 문자의 누적합의 차를 구해 출력합니다.\n",
                "        print(prefix[end + 1][i] - prefix[start][i])\n",
                "\n",
                "\n",
                "solution()"
            ]
        },
        {
            "cell_type": "markdown",
            "metadata": {},
            "source": [
                "## 해답"
            ]
        },
        {
            "cell_type": "code",
            "execution_count": 43,
            "metadata": {},
            "outputs": [],
            "source": [
                "def solution():\n",
                "    import sys\n",
                "\n",
                "    input = sys.stdin.readline\n",
                "    ords = [ord(cha) - 97 for cha in input().rstrip()]\n",
                "    _ = input()\n",
                "    prefix = [chas := (0,) * 26] + [(chas := chas[:cha] + (chas[cha] + 1,) + chas[cha + 1:]) for cha in ords]\n",
                "    for input in sys.stdin:\n",
                "        cha, *range = input.split()\n",
                "        i = ord(cha) - 97\n",
                "        start, end = map(int, range)\n",
                "        print(prefix[end + 1][i] - prefix[start][i])"
            ]
        },
        {
            "cell_type": "markdown",
            "metadata": {},
            "source": [
                "## 예제"
            ]
        },
        {
            "cell_type": "code",
            "execution_count": 44,
            "metadata": {},
            "outputs": [
                {
                    "name": "stdout",
                    "output_type": "stream",
                    "text": [
                        "The blackcellmagic extension is already loaded. To reload it, use:\n",
                        "  %reload_ext blackcellmagic\n"
                    ]
                }
            ],
            "source": [
                "# black 모듈을 jupyter notebook 내에서 사용 가능하게 만들어주는 blackcellmagic 모듈 불러오기\n",
                "%load_ext blackcellmagic\n",
                "# %%black\n",
                "\n",
                "# 백준 문제 풀이용 예제 실행 코드\n",
                "from bwj import test\n",
                "test_solution = test(solution)\n",
                "\n",
                "# test_solution(\"\"\"\"\"\")\n",
                "# test_solution(read(\"fn\").read())"
            ]
        },
        {
            "cell_type": "code",
            "execution_count": 45,
            "metadata": {},
            "outputs": [
                {
                    "name": "stdout",
                    "output_type": "stream",
                    "text": [
                        "0\n",
                        "1\n",
                        "2\n",
                        "1\n"
                    ]
                }
            ],
            "source": [
                "test_solution(\"\"\"seungjaehwang\n",
                "4\n",
                "a 0 5\n",
                "a 0 6\n",
                "a 6 10\n",
                "a 7 10\"\"\")\n",
                "# answer:\n",
                "# 0\n",
                "# 1\n",
                "# 2\n",
                "# 1"
            ]
        }
    ],
    "metadata": {
        "kernelspec": {
            "display_name": "Python 3.10.4 ('venv': venv)",
            "language": "python",
            "name": "python3"
        },
        "language_info": {
            "codemirror_mode": {
                "name": "ipython",
                "version": 3
            },
            "file_extension": ".py",
            "mimetype": "text/x-python",
            "name": "python",
            "nbconvert_exporter": "python",
            "pygments_lexer": "ipython3",
            "version": "3.10.4"
        },
        "orig_nbformat": 4,
        "vscode": {
            "interpreter": {
                "hash": "72904a014a9ffe38f4c58942120b599b3c5a87d06764037548e0139929c1cde3"
            }
        }
    },
    "nbformat": 4,
    "nbformat_minor": 2
}
