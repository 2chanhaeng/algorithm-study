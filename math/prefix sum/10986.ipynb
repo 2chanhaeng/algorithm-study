{
  "cells": [
    {
      "cell_type": "markdown",
      "metadata": {
        "id": "view-in-github",
        "colab_type": "text"
      },
      "source": [
        "<a href=\"https://colab.research.google.com/github/chomu37/algorithm-study/blob/main/math/prefix%20sum/10986.ipynb\" target=\"_parent\"><img src=\"https://colab.research.google.com/assets/colab-badge.svg\" alt=\"Open In Colab\"/></a>"
      ]
    },
    {
      "cell_type": "markdown",
      "metadata": {
        "id": "o_UiM_8U_MUg"
      },
      "source": [
        "# [백준/나머지 합](https://www.acmicpc.net/problem/10986)"
      ]
    },
    {
      "cell_type": "markdown",
      "metadata": {
        "id": "qsJdEwGG_MUj"
      },
      "source": [
        "## 풀이과정"
      ]
    },
    {
      "cell_type": "markdown",
      "metadata": {
        "id": "mGtJObBd_MUj"
      },
      "source": [
        "### 첫번째 시도"
      ]
    },
    {
      "cell_type": "markdown",
      "metadata": {
        "id": "YT7YO8yU_MUk"
      },
      "source": [
        "#### 풀이과정\n",
        "0부터 `n`까지 `i`번에서 시작해서 누적합을 매번 `m`으로 나눈 값이 0이 될 때마다 구했으나 이중 `for`문을 지나기 때문에 시간 효율성이 $O(N^2)$이 나와 효율적이지 못하여 시간 초과가 나왔습니다."
      ]
    },
    {
      "cell_type": "code",
      "execution_count": null,
      "metadata": {
        "id": "h2sTq2Gj_MUk"
      },
      "outputs": [],
      "source": [
        "def solution():\n",
        "    import sys\n",
        "    \n",
        "    n, m, *nums = map(int, sys.stdin.read().rstrip().split())\n",
        "    count = 0\n",
        "    for i in range(n):\n",
        "        sum = 0\n",
        "        for e in nums[i:]:\n",
        "            sum = (sum + e) % m\n",
        "            if sum == 0:\n",
        "                count += 1\n",
        "    print(count)\n",
        "\n",
        "\n",
        "solution()"
      ]
    },
    {
      "cell_type": "markdown",
      "metadata": {
        "id": "MgA5fCYv3eQb"
      },
      "source": [
        "### 두번째 시도"
      ]
    },
    {
      "cell_type": "markdown",
      "metadata": {
        "id": "76tt7IAr3eQc"
      },
      "source": [
        "#### 풀이과정\n",
        "두 누적합의 차가 `m`으로 나뉜다면, 두 수 사이의 합은 `m`으로 나뉜다는 뜻이므로, 누적합의 나머지 별 갯수를 세서 마지막에 $_{나머지별\\ 경우의\\ 수}\\mathrm{C}_{2}$를 모두 더했습니다. 이와 같은 경우 $O(N+M)$으로 훨씬 효율적입니다."
      ]
    },
    {
      "cell_type": "code",
      "execution_count": null,
      "metadata": {
        "id": "DbTJQjrn3eQc"
      },
      "outputs": [],
      "source": [
        "def solution():\n",
        "    import sys\n",
        "    import math\n",
        "    \n",
        "    n, m, *nums = map(int, sys.stdin.read().rstrip().split())\n",
        "    # 나머지 별 경우를 세는 카운터\n",
        "    counter = [0] * m\n",
        "    s = 0\n",
        "    # 맨 처음 아무것도 더하지 않은 경우는 0이므로 0은 하나를 세줍니다.\n",
        "    counter[s] = 1\n",
        "    for num in nums:\n",
        "        # 누적합에 수를 더한 뒤 나머지를 구합니다.\n",
        "        s = (s + num) % m\n",
        "        # 해당 나머지를 하나 셉니다.\n",
        "        counter[s] += 1\n",
        "    # 나머지 별 math.comb(경우의 수, 2)를 구하여 모두 더합니다.\n",
        "    print(sum(math.comb(i, 2) for i in counter))\n",
        "\n",
        "\n",
        "solution()"
      ]
    },
    {
      "cell_type": "markdown",
      "metadata": {
        "id": "Jufk_vV2_MUl"
      },
      "source": [
        "## 해답"
      ]
    },
    {
      "cell_type": "code",
      "source": [
        "import sys\n",
        "import io"
      ],
      "metadata": {
        "id": "TpaPq45PAqq_"
      },
      "execution_count": 1,
      "outputs": []
    },
    {
      "cell_type": "code",
      "execution_count": 2,
      "metadata": {
        "id": "wVEzkdRV_MUo"
      },
      "outputs": [],
      "source": [
        "def test(solution):\n",
        "  def test_solution(exmaple):\n",
        "    sys.stdin = sys.stdin = io.StringIO(exmaple)\n",
        "    solution()\n",
        "  return test_solution\n"
      ]
    },
    {
      "cell_type": "code",
      "source": [
        "# 현재 문제를 풀고 있는 환경(Google Colab)의 Python 버전이 3.7 이라\n",
        "# math.comb (=<3.8) 함수가 존재하지 않습니다.\n",
        "# 따라서 comb 함수를 직접 정의했습니다.\n",
        "from functools import lru_cache\n",
        "\n",
        "@lru_cache()\n",
        "def comb(n, k):\n",
        "    if n < k:\n",
        "        return 0\n",
        "    if k < 0:\n",
        "        return 0\n",
        "    if k == n:\n",
        "        return 1\n",
        "    if n == k:\n",
        "        return 1\n",
        "    return comb(n - 1, k) + comb(n - 1, k - 1)\n",
        "\n",
        "\n",
        "comb(5, 2)"
      ],
      "metadata": {
        "colab": {
          "base_uri": "https://localhost:8080/"
        },
        "id": "qPyz_o9-7BDc",
        "outputId": "b703a481-126d-46a0-e506-14f020d1bdf1"
      },
      "execution_count": 23,
      "outputs": [
        {
          "output_type": "execute_result",
          "data": {
            "text/plain": [
              "10"
            ]
          },
          "metadata": {},
          "execution_count": 23
        }
      ]
    },
    {
      "cell_type": "code",
      "execution_count": 24,
      "metadata": {
        "id": "9hv2BYhU_MUl"
      },
      "outputs": [],
      "source": [
        "def solution():\n",
        "    import sys\n",
        "    \n",
        "    n, m, *nums = map(int, sys.stdin.read().rstrip().split())\n",
        "    counter = {i: 0 for i in range(m)}\n",
        "    counter[0] += 1\n",
        "    s = 0\n",
        "    for num in nums:\n",
        "        s = (s + num) % m\n",
        "        counter[s] += 1\n",
        "    print(sum(comb(i, 2) for i in counter.values() if i > 0))"
      ]
    },
    {
      "cell_type": "markdown",
      "metadata": {
        "id": "jngcxb4f_MUn"
      },
      "source": [
        "## 예제"
      ]
    },
    {
      "cell_type": "code",
      "source": [
        "test_solution = test(solution)"
      ],
      "metadata": {
        "id": "LCcY6VigAoC2"
      },
      "execution_count": 25,
      "outputs": []
    },
    {
      "cell_type": "code",
      "source": [
        "test_solution(\"\"\"5 3\n",
        "1 2 3 1 2\n",
        "\"\"\")"
      ],
      "metadata": {
        "id": "CW2Mu2FuBtm6",
        "outputId": "81a85e68-7c31-4017-da12-13cc29ac1c3c",
        "colab": {
          "base_uri": "https://localhost:8080/"
        }
      },
      "execution_count": 26,
      "outputs": [
        {
          "output_type": "stream",
          "name": "stdout",
          "text": [
            "7\n"
          ]
        }
      ]
    }
  ],
  "metadata": {
    "interpreter": {
      "hash": "73891b0dc2e53390f36276e59930dd4ecab91b05b5c90320c2d5b1c443f87069"
    },
    "kernelspec": {
      "display_name": "Python 3.10.1 ('venv': venv)",
      "language": "python",
      "name": "python3"
    },
    "language_info": {
      "codemirror_mode": {
        "name": "ipython",
        "version": 3
      },
      "file_extension": ".py",
      "mimetype": "text/x-python",
      "name": "python",
      "nbconvert_exporter": "python",
      "pygments_lexer": "ipython3",
      "version": "3.10.1"
    },
    "orig_nbformat": 4,
    "colab": {
      "name": "10986.ipynb",
      "provenance": [],
      "collapsed_sections": [],
      "include_colab_link": true
    }
  },
  "nbformat": 4,
  "nbformat_minor": 0
}