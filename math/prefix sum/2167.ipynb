{
 "cells": [
  {
   "cell_type": "markdown",
   "metadata": {},
   "source": [
    "# [백준/2차원 배열의 합](https://www.acmicpc.net/problem/2167)\n"
   ]
  },
  {
   "cell_type": "markdown",
   "metadata": {},
   "source": [
    "## 풀이과정\n"
   ]
  },
  {
   "cell_type": "markdown",
   "metadata": {},
   "source": [
    "### 첫번째 시도\n"
   ]
  },
  {
   "cell_type": "markdown",
   "metadata": {},
   "source": [
    "#### 풀이과정\n"
   ]
  },
  {
   "cell_type": "code",
   "execution_count": null,
   "metadata": {},
   "outputs": [],
   "source": [
    "def solution():\n",
    "    import sys\n",
    "\n",
    "    input = lambda: map(int, sys.stdin.readline().split())\n",
    "    r, c = input()\n",
    "    nums = [list(map(int, sys.stdin.readline().split())) for _ in range(r)]\n",
    "    for _ in range(next(input())):\n",
    "        y0, x0, y1, x1 = map(lambda x: x - 1, input())\n",
    "        print(sum(sum(nums[y][x0:x1+1]) for y in range(y0, y1+1)))\n",
    "\n",
    "\n",
    "solution()"
   ]
  },
  {
   "cell_type": "markdown",
   "metadata": {},
   "source": [
    "## 해답\n"
   ]
  },
  {
   "cell_type": "code",
   "execution_count": 1,
   "metadata": {},
   "outputs": [],
   "source": [
    "def solution():\n",
    "    import sys\n",
    "\n",
    "    input = lambda: map(int, sys.stdin.readline().split())\n",
    "    r, c = input()\n",
    "    nums = [list(map(int, sys.stdin.readline().split())) for _ in range(r)]\n",
    "    for _ in range(next(input())):\n",
    "        y0, x0, y1, x1 = map(lambda x: x - 1, input())\n",
    "        print(sum(sum(nums[y][x0:x1+1]) for y in range(y0, y1+1)))"
   ]
  },
  {
   "cell_type": "markdown",
   "metadata": {},
   "source": [
    "## 예제\n"
   ]
  },
  {
   "cell_type": "code",
   "execution_count": 2,
   "metadata": {
    "scrolled": true
   },
   "outputs": [],
   "source": [
    "# 백준 문제 풀이용 예제 실행 코드\n",
    "from bwj import test\n",
    "\n",
    "test_solution = test(solution)\n",
    "\n",
    "# test_solution(\"\"\"\"\"\")\n",
    "# test_solution(read(\"fn\").read())"
   ]
  },
  {
   "cell_type": "code",
   "execution_count": 3,
   "metadata": {},
   "outputs": [
    {
     "name": "stdout",
     "output_type": "stream",
     "text": [
      "63\n",
      "2\n",
      "36\n"
     ]
    }
   ],
   "source": [
    "test_solution(\"\"\"2 3\n",
    "1 2 4\n",
    "8 16 32\n",
    "3\n",
    "1 1 2 3\n",
    "1 2 1 2\n",
    "1 3 2 3\n",
    "\"\"\")\n",
    "# answer:\n",
    "# 63\n",
    "# 2\n",
    "# 36"
   ]
  }
 ],
 "metadata": {
  "interpreter": {
   "hash": "73891b0dc2e53390f36276e59930dd4ecab91b05b5c90320c2d5b1c443f87069"
  },
  "kernelspec": {
   "display_name": "Python 3 (ipykernel)",
   "language": "python",
   "name": "python3"
  },
  "language_info": {
   "codemirror_mode": {
    "name": "ipython",
    "version": 3
   },
   "file_extension": ".py",
   "mimetype": "text/x-python",
   "name": "python",
   "nbconvert_exporter": "python",
   "pygments_lexer": "ipython3",
   "version": "3.12.3"
  }
 },
 "nbformat": 4,
 "nbformat_minor": 2
}
