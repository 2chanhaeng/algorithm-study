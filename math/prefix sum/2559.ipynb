{
 "cells": [
  {
   "cell_type": "markdown",
   "metadata": {
    "id": "view-in-github",
    "colab_type": "text"
   },
   "source": [
    "<a href=\"https://colab.research.google.com/github/chomu37/algorithm-study/blob/main/math/prefix%20sum/2559.ipynb\" target=\"_parent\"><img src=\"https://colab.research.google.com/assets/colab-badge.svg\" alt=\"Open In Colab\"/></a>"
   ]
  },
  {
   "cell_type": "markdown",
   "metadata": {
    "id": "o_UiM_8U_MUg"
   },
   "source": [
    "# [백준/수열](https://www.acmicpc.net/problem/2559)"
   ]
  },
  {
   "cell_type": "markdown",
   "metadata": {
    "id": "qsJdEwGG_MUj"
   },
   "source": [
    "## 풀이과정"
   ]
  },
  {
   "cell_type": "markdown",
   "metadata": {
    "id": "mGtJObBd_MUj"
   },
   "source": [
    "### 첫번째 시도"
   ]
  },
  {
   "cell_type": "markdown",
   "metadata": {
    "id": "YT7YO8yU_MUk"
   },
   "source": [
    "풀이과정"
   ]
  },
  {
   "cell_type": "code",
   "execution_count": null,
   "metadata": {
    "id": "h2sTq2Gj_MUk"
   },
   "outputs": [],
   "source": [
    "def solution():\n",
    "    import sys\n",
    "\n",
    "    n, k, *nums = map(int, sys.stdin.read().split())\n",
    "    sums = [x := 0] + [(x := x + num) for num in nums]\n",
    "    print(max(a - b for a, b in zip(sums[k:], sums)))\n",
    "\n",
    "\n",
    "solution()"
   ]
  },
  {
   "cell_type": "markdown",
   "metadata": {
    "id": "Jufk_vV2_MUl"
   },
   "source": [
    "## 해답"
   ]
  },
  {
   "cell_type": "code",
   "execution_count": null,
   "metadata": {
    "id": "9hv2BYhU_MUl"
   },
   "outputs": [],
   "source": [
    "def solution():\n",
    "    import sys\n",
    "\n",
    "    n, k, *nums = map(int, sys.stdin.read().split())\n",
    "    sum = 0\n",
    "    sums = [sum]\n",
    "    for num in nums:\n",
    "        sum += num\n",
    "        sums.append(sum)\n",
    "    print(max(a - b for a, b in zip(sums[k:], sums)))"
   ]
  },
  {
   "cell_type": "markdown",
   "metadata": {
    "id": "jngcxb4f_MUn"
   },
   "source": [
    "## 예제"
   ]
  },
  {
   "cell_type": "code",
   "source": [
    "import sys\n",
    "import io"
   ],
   "metadata": {
    "id": "TpaPq45PAqq_"
   },
   "execution_count": null,
   "outputs": []
  },
  {
   "cell_type": "code",
   "execution_count": null,
   "metadata": {
    "id": "wVEzkdRV_MUo"
   },
   "outputs": [],
   "source": [
    "def test(solution):\n",
    "    def test_solution(exmaple):\n",
    "        sys.stdin = sys.stdin = io.StringIO(exmaple)\n",
    "        solution()\n",
    "\n",
    "    return test_solution"
   ]
  },
  {
   "cell_type": "code",
   "source": [
    "test_solution = test(solution)"
   ],
   "metadata": {
    "id": "LCcY6VigAoC2"
   },
   "execution_count": null,
   "outputs": []
  },
  {
   "cell_type": "code",
   "source": [
    "test_solution(\n",
    "    \"\"\"10 2\n",
    "3 -2 -4 -9 0 3 7 13 8 -3\"\"\"\n",
    ")"
   ],
   "metadata": {
    "id": "CW2Mu2FuBtm6",
    "outputId": "ee53c4c7-6248-406c-a6af-fc8b20892cdc",
    "colab": {
     "base_uri": "https://localhost:8080/"
    }
   },
   "execution_count": null,
   "outputs": [
    {
     "output_type": "stream",
     "name": "stdout",
     "text": [
      "21\n"
     ]
    }
   ]
  },
  {
   "cell_type": "code",
   "source": [
    "test_solution(\n",
    "    \"\"\"10 5\n",
    "3 -2 -4 -9 0 3 7 13 8 -3\"\"\"\n",
    ")"
   ],
   "metadata": {
    "id": "uMY06oOkBuXi",
    "outputId": "49dc876f-bb87-4d04-9d0a-908be79b79f1",
    "colab": {
     "base_uri": "https://localhost:8080/"
    }
   },
   "execution_count": null,
   "outputs": [
    {
     "output_type": "stream",
     "name": "stdout",
     "text": [
      "31\n"
     ]
    }
   ]
  }
 ],
 "metadata": {
  "interpreter": {
   "hash": "73891b0dc2e53390f36276e59930dd4ecab91b05b5c90320c2d5b1c443f87069"
  },
  "kernelspec": {
   "display_name": "Python 3.10.1 ('venv': venv)",
   "language": "python",
   "name": "python3"
  },
  "language_info": {
   "codemirror_mode": {
    "name": "ipython",
    "version": 3
   },
   "file_extension": ".py",
   "mimetype": "text/x-python",
   "name": "python",
   "nbconvert_exporter": "python",
   "pygments_lexer": "ipython3",
   "version": "3.10.1"
  },
  "orig_nbformat": 4,
  "colab": {
   "name": "2559.ipynb",
   "provenance": [],
   "include_colab_link": true
  }
 },
 "nbformat": 4,
 "nbformat_minor": 0
}