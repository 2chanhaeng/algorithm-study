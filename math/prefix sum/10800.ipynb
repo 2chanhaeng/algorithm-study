{
    "cells": [
        {
            "cell_type": "markdown",
            "metadata": {},
            "source": [
                "# [백준/컬러볼](https://www.acmicpc.net/problem/10800)\n"
            ]
        },
        {
            "cell_type": "markdown",
            "metadata": {},
            "source": [
                "## 풀이과정\n"
            ]
        },
        {
            "cell_type": "markdown",
            "metadata": {},
            "source": [
                "### 첫번째 시도\n"
            ]
        },
        {
            "cell_type": "markdown",
            "metadata": {},
            "source": [
                "#### 풀이과정\n"
            ]
        },
        {
            "cell_type": "code",
            "execution_count": null,
            "metadata": {},
            "outputs": [],
            "source": [
                "from collections import Counter\n",
                "from typing import Iterable\n",
                "\n",
                "\n",
                "def solution():\n",
                "    colors: dict[int, list[int]] = {}\n",
                "    balls: list[tuple[int, int]] = []\n",
                "    for line in open(0).read().strip().split(\"\\n\")[1:]:\n",
                "        color, value = map(int, line.split())\n",
                "        balls.append((color, value))\n",
                "        colors.setdefault(color, []).append(value)\n",
                "    map_by_color: dict[int, dict[int, int]] = {}\n",
                "    acc_by_color: dict[int, list[int]] = {}\n",
                "    for color, values in colors.items():\n",
                "        acc_by_color[color], map_by_color[color] = acc_and_map(values)\n",
                "    total_acc, total_map = acc_and_map(b[1] for b in balls)\n",
                "    for color, value in balls:\n",
                "        in_total = total_acc[total_map[value]]\n",
                "        in_color = acc_by_color[color][map_by_color[color][value]]\n",
                "        print(in_total - in_color)\n",
                "\n",
                "\n",
                "def acc_and_map(balls: Iterable[int]):\n",
                "    acc = 0\n",
                "    accs = [acc]\n",
                "    orders: dict[int, int] = {}\n",
                "    for i, (v, bs) in enumerate(Counter(sorted(balls)).items()):\n",
                "        acc += v * bs\n",
                "        accs.append(acc)\n",
                "        orders[v] = i\n",
                "    return accs, orders\n",
                "\n",
                "\n",
                "solution()"
            ]
        },
        {
            "cell_type": "markdown",
            "metadata": {},
            "source": [
                "## 해답\n"
            ]
        },
        {
            "cell_type": "code",
            "execution_count": 1,
            "metadata": {},
            "outputs": [],
            "source": [
                "from collections import Counter\n",
                "from typing import Iterable"
            ]
        },
        {
            "cell_type": "code",
            "execution_count": 2,
            "metadata": {},
            "outputs": [],
            "source": [
                "def acc_and_map(balls: Iterable[int]):\n",
                "    acc = 0\n",
                "    accs: list[int] = [acc]\n",
                "    maps: dict[int, int] = {}\n",
                "    for i, (v, bs) in enumerate(Counter(sorted(balls)).items()):\n",
                "        acc += v * bs\n",
                "        accs.append(acc)\n",
                "        maps[v] = i\n",
                "    return accs, maps"
            ]
        },
        {
            "cell_type": "code",
            "execution_count": 3,
            "metadata": {},
            "outputs": [],
            "source": [
                "def solution():\n",
                "    import sys\n",
                "\n",
                "    colors: dict[int, list[int]] = {}\n",
                "    balls: list[tuple[int, int]] = []\n",
                "    for line in sys.stdin.read().strip().split(\"\\n\")[1:]:\n",
                "        color, value = map(int, line.split())\n",
                "        balls.append((color, value))\n",
                "        colors.setdefault(color, []).append(value)\n",
                "    orders_by_color: dict[int, dict[int, int]] = {}\n",
                "    acc_by_color: dict[int, list[int]] = {}\n",
                "    for color, values in colors.items():\n",
                "        acc_by_color[color], orders_by_color[color] = acc_and_map(values)\n",
                "    total_acc, total_map = acc_and_map(b[1] for b in balls)\n",
                "    for color, value in balls:\n",
                "        in_total = total_acc[total_map[value]]\n",
                "        in_color = acc_by_color[color][orders_by_color[color][value]]\n",
                "        print(in_total - in_color)"
            ]
        },
        {
            "cell_type": "markdown",
            "metadata": {},
            "source": [
                "## 예제\n"
            ]
        },
        {
            "cell_type": "code",
            "execution_count": 4,
            "metadata": {},
            "outputs": [],
            "source": [
                "# 백준 문제 풀이용 예제 실행 코드\n",
                "from bwj import test\n",
                "\n",
                "test_solution = test(solution)\n",
                "\n",
                "# test_solution(\"\"\"\"\"\")\n",
                "# test_solution(read(\"fn\").read())"
            ]
        },
        {
            "cell_type": "code",
            "execution_count": 5,
            "metadata": {},
            "outputs": [
                {
                    "name": "stdout",
                    "output_type": "stream",
                    "text": [
                        "0\n",
                        "0\n"
                    ]
                }
            ],
            "source": [
                "test_solution(\n",
                "    \"\"\"2\n",
                "    1 10\n",
                "    2 10\n",
                "\"\"\"\n",
                ")\n",
                "# answer:\n",
                "# 0\n",
                "# 0"
            ]
        },
        {
            "cell_type": "code",
            "execution_count": 6,
            "metadata": {},
            "outputs": [
                {
                    "name": "stdout",
                    "output_type": "stream",
                    "text": [
                        "0\n",
                        "0\n",
                        "0\n"
                    ]
                }
            ],
            "source": [
                "test_solution(\n",
                "    \"\"\"3\n",
                "1 1\n",
                "1 1\n",
                "1 1\n",
                "\"\"\"\n",
                ")\n",
                "# answer:\n",
                "# 0\n",
                "# 0\n",
                "# 0"
            ]
        },
        {
            "cell_type": "code",
            "execution_count": 7,
            "metadata": {},
            "outputs": [
                {
                    "name": "stdout",
                    "output_type": "stream",
                    "text": [
                        "8\n",
                        "31\n",
                        "8\n",
                        "0\n",
                        "3\n"
                    ]
                }
            ],
            "source": [
                "test_solution(\n",
                "    \"\"\"4\n",
                "1 10\n",
                "3 15\n",
                "1 10\n",
                "1 3\n",
                "4 8\n",
                "\"\"\"\n",
                ")\n",
                "# answer:\n",
                "# 8\n",
                "# 31\n",
                "# 8\n",
                "# 0\n",
                "# 3"
            ]
        },
        {
            "cell_type": "code",
            "execution_count": 8,
            "metadata": {},
            "outputs": [
                {
                    "name": "stdout",
                    "output_type": "stream",
                    "text": [
                        "8\n",
                        "21\n",
                        "0\n",
                        "3\n"
                    ]
                }
            ],
            "source": [
                "test_solution(\n",
                "    \"\"\"4\n",
                "1 10\n",
                "3 15\n",
                "1 3\n",
                "4 8\n",
                "\"\"\"\n",
                ")\n",
                "# answer:\n",
                "# 8\n",
                "# 21\n",
                "# 0\n",
                "# 3"
            ]
        },
        {
            "cell_type": "code",
            "execution_count": 9,
            "metadata": {},
            "outputs": [
                {
                    "name": "stdout",
                    "output_type": "stream",
                    "text": [
                        "0\n",
                        "0\n",
                        "0\n"
                    ]
                }
            ],
            "source": [
                "test_solution(\n",
                "    \"\"\"3\n",
                "2 3\n",
                "2 5\n",
                "2 4\n",
                "\"\"\"\n",
                ")\n",
                "# answer:\n",
                "# 0\n",
                "# 0\n",
                "# 0"
            ]
        }
    ],
    "metadata": {
        "interpreter": {
            "hash": "73891b0dc2e53390f36276e59930dd4ecab91b05b5c90320c2d5b1c443f87069"
        },
        "kernelspec": {
            "display_name": "Python 3.10.1 ('venv': venv)",
            "language": "python",
            "name": "python3"
        },
        "language_info": {
            "codemirror_mode": {
                "name": "ipython",
                "version": 3
            },
            "file_extension": ".py",
            "mimetype": "text/x-python",
            "name": "python",
            "nbconvert_exporter": "python",
            "pygments_lexer": "ipython3",
            "version": "3.12.4"
        },
        "orig_nbformat": 4
    },
    "nbformat": 4,
    "nbformat_minor": 2
}
