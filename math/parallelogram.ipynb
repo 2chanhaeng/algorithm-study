{
 "cells": [
  {
   "cell_type": "markdown",
   "metadata": {},
   "source": [
    "# [백준/평행사변형](https://www.acmicpc.net/problem/1064)"
   ]
  },
  {
   "cell_type": "markdown",
   "metadata": {},
   "source": [
    "## 풀이과정"
   ]
  },
  {
   "cell_type": "markdown",
   "metadata": {},
   "source": [
    "### 첫번째 시도"
   ]
  },
  {
   "cell_type": "markdown",
   "metadata": {},
   "source": [
    "풀이과정"
   ]
  },
  {
   "cell_type": "code",
   "execution_count": null,
   "metadata": {},
   "outputs": [],
   "source": [
    "xys = list(map(int,input().split()))\n",
    "diffs = list(map(lambda x: x[1] - x[0], zip(xys,xys[2:]+xys[:2])))\n",
    "is_linear = False\n",
    "for x1,y1,x2,y2 in [diffs[:4], diffs[2:], diffs[:2] + diffs[4:]]:\n",
    "    is_linear |= x1 * y2 == x2 * y1\n",
    "if is_linear: print(-1.)\n",
    "else:\n",
    "    squares = list(map(lambda x: (x) ** 2, diffs))\n",
    "    a, b, c = sorted((squares[i] + squares[i + 1])**.5 for i in range(0,6,2))\n",
    "    print(2 * c - 2 * a)\n"
   ]
  },
  {
   "cell_type": "markdown",
   "metadata": {},
   "source": [
    "## 해답"
   ]
  },
  {
   "cell_type": "code",
   "execution_count": 41,
   "metadata": {},
   "outputs": [],
   "source": [
    "def solution(input):\n",
    "    xys = list(map(int,input().split()))\n",
    "    diffs = list(map(lambda x: x[1] - x[0], zip(xys,xys[2:]+xys[:2])))\n",
    "    is_linear = False\n",
    "    for x1,y1,x2,y2 in [diffs[:4], diffs[2:], diffs[:2] + diffs[4:]]:\n",
    "        is_linear |= x1 * y2 == x2 * y1\n",
    "    if is_linear: print(-1.)\n",
    "    else:\n",
    "        squares = list(map(lambda x: (x) ** 2, diffs))\n",
    "        a, b, c = sorted((squares[i] + squares[i + 1])**.5 for i in range(0,6,2))\n",
    "        print(2 * c - 2 * a)\n",
    "\n",
    "    \n",
    "\n"
   ]
  },
  {
   "cell_type": "markdown",
   "metadata": {},
   "source": [
    "## 테스트 결과"
   ]
  },
  {
   "cell_type": "markdown",
   "metadata": {},
   "source": [
    "|테스트|결과|\n",
    "|---:|:---|"
   ]
  },
  {
   "cell_type": "markdown",
   "metadata": {},
   "source": [
    "## 예제"
   ]
  },
  {
   "cell_type": "code",
   "execution_count": 42,
   "metadata": {},
   "outputs": [],
   "source": [
    "# 백준 문제 풀이용 예제 실행 코드\n",
    "from inspect import signature\n",
    "def solution_example(input_ = None, solution=solution):\n",
    "    params = signature(solution).parameters\n",
    "    if input_ == None:\n",
    "        solution()\n",
    "    elif 'open' in params:\n",
    "        class open:\n",
    "            def __init__(self, x):\n",
    "                self.read = lambda: input_\n",
    "            def __iter__(self):\n",
    "                return iter(input_.split(\"\\n\"))\n",
    "        solution(open)\n",
    "    elif 'input' in params:\n",
    "        input_ = iter(input_.split(\"\\n\"))\n",
    "        input = input_.__next__\n",
    "        solution(input)\n",
    "    else:\n",
    "        raise NameError(f'solution 함수가 input, open 등의 매개변수를 받지 않습니다.\\nsolution 의 매개변수: {params}')\n",
    "    \n",
    "        \n",
    "# solution_example(\"\"\"\"\"\")\n",
    "# solution_example(read(\"fn\").read())"
   ]
  },
  {
   "cell_type": "code",
   "execution_count": 43,
   "metadata": {},
   "outputs": [
    {
     "name": "stdout",
     "output_type": "stream",
     "text": [
      "-1.0\n"
     ]
    }
   ],
   "source": [
    "solution_example(\"\"\"0 0 1 0 47 0\"\"\") # -1.0"
   ]
  },
  {
   "cell_type": "code",
   "execution_count": 44,
   "metadata": {},
   "outputs": [
    {
     "name": "stdout",
     "output_type": "stream",
     "text": [
      "11.547796284592874\n"
     ]
    }
   ],
   "source": [
    "solution_example(\"\"\"1 2 3 4 8 7\"\"\") # 11.547796284592874"
   ]
  },
  {
   "cell_type": "code",
   "execution_count": 45,
   "metadata": {},
   "outputs": [
    {
     "name": "stdout",
     "output_type": "stream",
     "text": [
      "-1.0\n"
     ]
    }
   ],
   "source": [
    "solution_example(\"\"\"2 -1 -7 2 -1 0\"\"\") # -1.0"
   ]
  },
  {
   "cell_type": "code",
   "execution_count": 46,
   "metadata": {},
   "outputs": [
    {
     "name": "stdout",
     "output_type": "stream",
     "text": [
      "4.0\n"
     ]
    }
   ],
   "source": [
    "solution_example(\"\"\"0 0 4 0 0 3\"\"\") # 4.0"
   ]
  },
  {
   "cell_type": "code",
   "execution_count": 47,
   "metadata": {},
   "outputs": [
    {
     "name": "stdout",
     "output_type": "stream",
     "text": [
      "0.8284271247461903\n"
     ]
    }
   ],
   "source": [
    "solution_example(\"\"\"0 0 0 1 1 0\"\"\") # 0.8284271247461898"
   ]
  }
 ],
 "metadata": {
  "interpreter": {
   "hash": "73891b0dc2e53390f36276e59930dd4ecab91b05b5c90320c2d5b1c443f87069"
  },
  "kernelspec": {
   "display_name": "Python 3.10.1 ('venv': venv)",
   "language": "python",
   "name": "python3"
  },
  "language_info": {
   "codemirror_mode": {
    "name": "ipython",
    "version": 3
   },
   "file_extension": ".py",
   "mimetype": "text/x-python",
   "name": "python",
   "nbconvert_exporter": "python",
   "pygments_lexer": "ipython3",
   "version": "3.10.1"
  },
  "orig_nbformat": 4
 },
 "nbformat": 4,
 "nbformat_minor": 2
}
