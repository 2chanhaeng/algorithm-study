{
    "cells": [
        {
            "cell_type": "markdown",
            "metadata": {},
            "source": [
                "# [백준/최소 스패닝 트리](https://www.acmicpc.net/problem/1197)\n"
            ]
        },
        {
            "cell_type": "markdown",
            "metadata": {},
            "source": [
                "## 풀이과정\n"
            ]
        },
        {
            "cell_type": "markdown",
            "metadata": {},
            "source": [
                "### 첫번째 시도\n"
            ]
        },
        {
            "cell_type": "markdown",
            "metadata": {},
            "source": [
                "#### 풀이과정\n"
            ]
        },
        {
            "cell_type": "code",
            "execution_count": null,
            "metadata": {},
            "outputs": [],
            "source": [
                "def solution():\n",
                "    import sys\n",
                "\n",
                "    (V, E), *edges = [map(int, line.split()) for line in sys.stdin.read().splitlines()]\n",
                "    uf = {}\n",
                "\n",
                "    def find(x):\n",
                "        return uf.setdefault(x, find(uf[x])) if uf.get(x) else x\n",
                "\n",
                "    result = 0\n",
                "    for a, b, w in sorted(map(list, edges), key=lambda x: x[2]):\n",
                "        if (a := find(a)) != (b := find(b)):\n",
                "            uf[max(a, b)] = min(a, b)\n",
                "            result += w\n",
                "        if len(uf) == V:\n",
                "            break\n",
                "    print(result)\n",
                "\n",
                "\n",
                "solution()"
            ]
        },
        {
            "cell_type": "code",
            "execution_count": null,
            "metadata": {},
            "outputs": [],
            "source": [
                "def find_in(uf):\n",
                "    def find(x):\n",
                "        return find(uf[x]) if uf.get(x) else x\n",
                "\n",
                "    return find\n",
                "\n",
                "\n",
                "def values(V, edges, uf):\n",
                "    find = find_in(uf)\n",
                "    for a, b, w in edges:\n",
                "        if (a := find(a)) != (b := find(b)):\n",
                "            uf[max(a, b)] = min(a, b)\n",
                "            yield w\n",
                "            if len(uf) == V - 1:\n",
                "                break\n",
                "\n",
                "\n",
                "def solution():\n",
                "    import sys\n",
                "\n",
                "    (V, E), *edges = [map(int, line.split()) for line in sys.stdin.read().splitlines()]\n",
                "    print(sum(values(V, sorted(map(list, edges), key=lambda x: x[2]), {})))\n",
                "\n",
                "\n",
                "solution()"
            ]
        },
        {
            "cell_type": "markdown",
            "metadata": {},
            "source": [
                "### 두번째 시도\n"
            ]
        },
        {
            "cell_type": "markdown",
            "metadata": {},
            "source": [
                "#### 풀이과정\n",
                "\n",
                "기존의 풀이에서 재귀를 사용했었는데 이를 저격한 TC가 추가되어 `RecursionError`가 발생했다. 이를 해결하기 위해 재귀 대신 `while`문을 사용하여 해결하였다.\n"
            ]
        },
        {
            "cell_type": "code",
            "execution_count": null,
            "metadata": {},
            "outputs": [],
            "source": [
                "def find_in(uf):\n",
                "    def find(x):\n",
                "        while uf.get(x):\n",
                "            x = uf[x]\n",
                "        return x\n",
                "\n",
                "    return find\n",
                "\n",
                "\n",
                "def solution():\n",
                "    import sys\n",
                "\n",
                "    (V, E), *edges = [map(int, line.split()) for line in sys.stdin.read().splitlines()]\n",
                "    uf = {}\n",
                "    find = find_in(uf)\n",
                "\n",
                "    result = 0\n",
                "    for a, b, w in sorted(map(list, edges), key=lambda x: x[2]):\n",
                "        if (a := find(a)) != (b := find(b)):\n",
                "            uf[max(a, b)] = min(a, b)\n",
                "            result += w\n",
                "        if len(uf) == V - 1:\n",
                "            break\n",
                "    print(result)\n",
                "\n",
                "\n",
                "solution()"
            ]
        },
        {
            "cell_type": "markdown",
            "metadata": {},
            "source": [
                "## 해답\n"
            ]
        },
        {
            "cell_type": "code",
            "execution_count": 4,
            "metadata": {},
            "outputs": [],
            "source": [
                "def find_in(uf: dict[int, int]):\n",
                "    def find(x):\n",
                "        while uf.get(x):\n",
                "            x = uf[x]\n",
                "        return x\n",
                "\n",
                "    return find"
            ]
        },
        {
            "cell_type": "code",
            "execution_count": 5,
            "metadata": {},
            "outputs": [],
            "source": [
                "def solution():\n",
                "    import sys\n",
                "\n",
                "    (V, E), *edges = [map(int, line.split()) for line in sys.stdin.read().splitlines()]\n",
                "    uf = {}\n",
                "    find = find_in(uf)\n",
                "\n",
                "    result = 0\n",
                "    for a, b, w in sorted(map(list, edges), key=lambda x: x[2]):\n",
                "        if (a := find(a)) != (b := find(b)):\n",
                "            uf[max(a, b)] = min(a, b)\n",
                "            result += w\n",
                "        if len(uf) == V - 1:\n",
                "            break\n",
                "    print(result)"
            ]
        },
        {
            "cell_type": "markdown",
            "metadata": {},
            "source": [
                "## 예제\n"
            ]
        },
        {
            "cell_type": "code",
            "execution_count": 6,
            "metadata": {},
            "outputs": [],
            "source": [
                "# 백준 문제 풀이용 예제 실행 코드\n",
                "from bwj import test\n",
                "\n",
                "test_solution = test(solution)\n",
                "\n",
                "# test_solution(\"\"\"\"\"\")\n",
                "# test_solution(read(\"fn\").read())"
            ]
        },
        {
            "cell_type": "code",
            "execution_count": 7,
            "metadata": {},
            "outputs": [
                {
                    "name": "stdout",
                    "output_type": "stream",
                    "text": [
                        "6\n"
                    ]
                }
            ],
            "source": [
                "test_solution(\n",
                "    \"\"\"4 6\n",
                "1 2 1\n",
                "1 3 2\n",
                "1 4 3\n",
                "2 3 4\n",
                "2 4 5\n",
                "3 4 6\n",
                "\"\"\"\n",
                ")  # 6"
            ]
        },
        {
            "cell_type": "code",
            "execution_count": 8,
            "metadata": {},
            "outputs": [
                {
                    "name": "stdout",
                    "output_type": "stream",
                    "text": [
                        "-98\n"
                    ]
                }
            ],
            "source": [
                "test_solution(\n",
                "    \"\"\"3 3\n",
                "1 2 1\n",
                "2 3 2\n",
                "1 2 -100\n",
                "\"\"\"\n",
                ")  # -98"
            ]
        },
        {
            "cell_type": "code",
            "execution_count": 9,
            "metadata": {},
            "outputs": [
                {
                    "name": "stdout",
                    "output_type": "stream",
                    "text": [
                        "27\n"
                    ]
                }
            ],
            "source": [
                "test_solution(\n",
                "    \"\"\"6 7\n",
                "1 3 2\n",
                "1 2 5\n",
                "2 3 1\n",
                "3 4 10\n",
                "3 5 9\n",
                "4 6 8\n",
                "5 6 7\n",
                "\"\"\"\n",
                ")  # 27"
            ]
        },
        {
            "cell_type": "code",
            "execution_count": 10,
            "metadata": {},
            "outputs": [
                {
                    "name": "stdout",
                    "output_type": "stream",
                    "text": [
                        "1\n"
                    ]
                }
            ],
            "source": [
                "test_solution(\n",
                "    \"\"\"2 1\n",
                "1 2 1\n",
                "\"\"\"\n",
                ")  # 1"
            ]
        },
        {
            "cell_type": "code",
            "execution_count": 11,
            "metadata": {},
            "outputs": [
                {
                    "name": "stdout",
                    "output_type": "stream",
                    "text": [
                        "3\n"
                    ]
                }
            ],
            "source": [
                "test_solution(\n",
                "    \"\"\"3 3\n",
                "1 2 1\n",
                "2 3 2\n",
                "1 3 3\n",
                "\"\"\"\n",
                ")  # 3"
            ]
        }
    ],
    "metadata": {
        "kernelspec": {
            "display_name": "venv",
            "language": "python",
            "name": "python3"
        },
        "language_info": {
            "codemirror_mode": {
                "name": "ipython",
                "version": 3
            },
            "file_extension": ".py",
            "mimetype": "text/x-python",
            "name": "python",
            "nbconvert_exporter": "python",
            "pygments_lexer": "ipython3",
            "version": "3.12.4"
        },
        "orig_nbformat": 4,
        "vscode": {
            "interpreter": {
                "hash": "72904a014a9ffe38f4c58942120b599b3c5a87d06764037548e0139929c1cde3"
            }
        }
    },
    "nbformat": 4,
    "nbformat_minor": 2
}
