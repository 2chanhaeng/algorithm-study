{
    "cells": [
        {
            "cell_type": "markdown",
            "metadata": {},
            "source": [
                "# [백준/최소비용 구하기](https://www.acmicpc.net/problem/1916)"
            ]
        },
        {
            "cell_type": "markdown",
            "metadata": {},
            "source": [
                "## 풀이과정"
            ]
        },
        {
            "cell_type": "markdown",
            "metadata": {},
            "source": [
                "### 첫번째 시도"
            ]
        },
        {
            "cell_type": "markdown",
            "metadata": {},
            "source": [
                "#### 풀이과정"
            ]
        },
        {
            "cell_type": "code",
            "execution_count": null,
            "metadata": {},
            "outputs": [],
            "source": [
                "def solution():\n",
                "    import sys\n",
                "    import heapq\n",
                "    import math\n",
                "\n",
                "    input = sys.stdin.readline\n",
                "    n = int(input())\n",
                "    m = int(input())\n",
                "    graph = [[] for _ in range(n)]\n",
                "    for s, e, d in (map(int, input().split()) for _ in range(m)):\n",
                "        graph[s - 1].append((e - 1, d))\n",
                "\n",
                "    start, end = (int(i) - 1 for i in input().split())\n",
                "    tovisit = [(0, start)]\n",
                "    result = [0] + [math.inf] * (n - 1)\n",
                "    while tovisit:\n",
                "        cist, curr = heapq.heappop(tovisit)\n",
                "        if result[curr] < cist:\n",
                "            continue\n",
                "        for node, dist in graph[curr]:\n",
                "            cost = cist + dist\n",
                "            if cost < result[node]:\n",
                "                result[node] = cost\n",
                "                heapq.heappush(tovisit, (cost, node))\n",
                "\n",
                "    print(result[end])\n",
                "\n",
                "\n",
                "solution()"
            ]
        },
        {
            "cell_type": "markdown",
            "metadata": {},
            "source": [
                "## 해답"
            ]
        },
        {
            "cell_type": "code",
            "execution_count": 1,
            "metadata": {},
            "outputs": [],
            "source": [
                "def solution():\n",
                "    import sys\n",
                "    import heapq\n",
                "    import math\n",
                "\n",
                "    input = sys.stdin.readline\n",
                "    n = int(input())\n",
                "    m = int(input())\n",
                "    graph = [[] for _ in range(n)]\n",
                "    for s, e, d in (map(int, input().split()) for _ in range(m)):\n",
                "        graph[s - 1].append((e - 1, d))\n",
                "\n",
                "    start, end = (int(i) - 1 for i in input().split())\n",
                "    tovisit = [(0, start)]\n",
                "    result = [0] + [math.inf] * (n - 1)\n",
                "    while tovisit:\n",
                "        cist, curr = heapq.heappop(tovisit)\n",
                "        if result[curr] < cist:\n",
                "            continue\n",
                "        for node, dist in graph[curr]:\n",
                "            cost = cist + dist\n",
                "            if cost < result[node]:\n",
                "                result[node] = cost\n",
                "                heapq.heappush(tovisit, (cost, node))\n",
                "\n",
                "    print(result[end])"
            ]
        },
        {
            "cell_type": "markdown",
            "metadata": {},
            "source": [
                "## 예제"
            ]
        },
        {
            "cell_type": "code",
            "execution_count": 2,
            "metadata": {},
            "outputs": [],
            "source": [
                "# black 모듈을 jupyter notebook 내에서 사용 가능하게 만들어주는 blackcellmagic 모듈 불러오기\n",
                "%load_ext blackcellmagic\n",
                "# %%black\n",
                "\n",
                "# 백준 문제 풀이용 예제 실행 코드\n",
                "from bwj import test\n",
                "test_solution = test(solution)\n",
                "\n",
                "# test_solution(\"\"\"\"\"\")\n",
                "# test_solution(read(\"fn\").read())"
            ]
        },
        {
            "cell_type": "code",
            "execution_count": 3,
            "metadata": {},
            "outputs": [
                {
                    "name": "stdout",
                    "output_type": "stream",
                    "text": [
                        "1\n"
                    ]
                }
            ],
            "source": [
                "test_solution(\"\"\"5\n",
                "4\n",
                "1 2 1\n",
                "1 3 4\n",
                "2 3 4\n",
                "4 2 4\n",
                "1 2\n",
                "\"\"\") # 1"
            ]
        },
        {
            "cell_type": "code",
            "execution_count": 4,
            "metadata": {},
            "outputs": [
                {
                    "name": "stdout",
                    "output_type": "stream",
                    "text": [
                        "4\n"
                    ]
                }
            ],
            "source": [
                "test_solution(\"\"\"5\n",
                "8\n",
                "1 2 2\n",
                "1 3 3\n",
                "1 4 1\n",
                "1 5 10\n",
                "2 4 2\n",
                "3 4 1\n",
                "3 5 1\n",
                "4 5 3\n",
                "1 5\n",
                "\"\"\") # 4"
            ]
        }
    ],
    "metadata": {
        "kernelspec": {
            "display_name": "Python 3.10.6 ('venv': venv)",
            "language": "python",
            "name": "python3"
        },
        "language_info": {
            "codemirror_mode": {
                "name": "ipython",
                "version": 3
            },
            "file_extension": ".py",
            "mimetype": "text/x-python",
            "name": "python",
            "nbconvert_exporter": "python",
            "pygments_lexer": "ipython3",
            "version": "3.10.6"
        },
        "orig_nbformat": 4,
        "vscode": {
            "interpreter": {
                "hash": "72904a014a9ffe38f4c58942120b599b3c5a87d06764037548e0139929c1cde3"
            }
        }
    },
    "nbformat": 4,
    "nbformat_minor": 2
}
