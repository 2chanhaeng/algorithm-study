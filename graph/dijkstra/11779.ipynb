{
    "cells": [
        {
            "cell_type": "markdown",
            "metadata": {},
            "source": [
                "# [백준/최소비용 구하기 2](https://www.acmicpc.net/problem/11779)"
            ]
        },
        {
            "cell_type": "markdown",
            "metadata": {},
            "source": [
                "## 풀이과정"
            ]
        },
        {
            "cell_type": "markdown",
            "metadata": {},
            "source": [
                "### 첫번째 시도"
            ]
        },
        {
            "cell_type": "markdown",
            "metadata": {},
            "source": [
                "#### 풀이과정"
            ]
        },
        {
            "cell_type": "code",
            "execution_count": null,
            "metadata": {},
            "outputs": [],
            "source": [
                "def solution():\n",
                "    import sys\n",
                "    import heapq\n",
                "    import math\n",
                "\n",
                "    input = sys.stdin.readline\n",
                "    n = int(input())\n",
                "    m = int(input())\n",
                "    edges = {}\n",
                "    for s, e, d in (map(int, input().split()) for _ in range(m)):\n",
                "        edges[s, e] = min(d, edges.get((s, e), math.inf))\n",
                "    graph = [None] + [[] for _ in range(n)]\n",
                "    while edges:\n",
                "        (s, e), d = edges.popitem()\n",
                "        graph[s].append((e, d))\n",
                "\n",
                "    start, end = (int(i) for i in input().split())\n",
                "    if start == end:\n",
                "        print(f\"0\\n1\\n{start}\")\n",
                "        return\n",
                "    tovisit = [(0, start)]\n",
                "    result = [None] + [(math.inf, start)] * n\n",
                "    while tovisit:\n",
                "        cist, curr = heapq.heappop(tovisit)\n",
                "        if result[curr][0] < cist:\n",
                "            continue\n",
                "        for node, dist in graph[curr]:\n",
                "            cost = cist + dist\n",
                "            if cost < result[node][0]:\n",
                "                result[node] = (cost, curr)\n",
                "                heapq.heappush(tovisit, (cost, node))\n",
                "\n",
                "    course = [end]\n",
                "    ans_cost, prev = result[end]\n",
                "    course.append(prev)\n",
                "    while prev != start:\n",
                "        _, prev = result[prev]\n",
                "        course.append(prev)\n",
                "    print(ans_cost, len(course), \" \".join(map(str, reversed(course))), sep=\"\\n\")\n",
                "\n",
                "\n",
                "solution()"
            ]
        },
        {
            "cell_type": "markdown",
            "metadata": {},
            "source": [
                "## 해답"
            ]
        },
        {
            "cell_type": "code",
            "execution_count": 1,
            "metadata": {},
            "outputs": [],
            "source": [
                "def solution():\n",
                "    import sys\n",
                "    import heapq\n",
                "    import math\n",
                "\n",
                "    input = sys.stdin.readline\n",
                "    n = int(input())\n",
                "    m = int(input())\n",
                "    edges = {}\n",
                "    for s, e, d in (map(int, input().split()) for _ in range(m)):\n",
                "        edges[s, e] = min(d, edges.get((s, e), math.inf))\n",
                "    graph = [None] + [[] for _ in range(n)]\n",
                "    while edges:\n",
                "        (s, e), d = edges.popitem()\n",
                "        graph[s].append((e, d))\n",
                "\n",
                "    start, end = (int(i) for i in input().split())\n",
                "    if start == end:\n",
                "        print(f\"0\\n1\\n{start}\")\n",
                "        return\n",
                "    tovisit = [(0, start)]\n",
                "    result = [None] + [(math.inf, start)] * n\n",
                "    while tovisit:\n",
                "        cist, curr = heapq.heappop(tovisit)\n",
                "        if result[curr][0] < cist:\n",
                "            continue\n",
                "        for node, dist in graph[curr]:\n",
                "            cost = cist + dist\n",
                "            if cost < result[node][0]:\n",
                "                result[node] = (cost, curr)\n",
                "                heapq.heappush(tovisit, (cost, node))\n",
                "\n",
                "    course = [end]\n",
                "    ans_cost, prev = result[end]\n",
                "    course.append(prev)\n",
                "    while prev != start:\n",
                "        _, prev = result[prev]\n",
                "        course.append(prev)\n",
                "    print(ans_cost, len(course), \" \".join(map(str, reversed(course))), sep=\"\\n\")"
            ]
        },
        {
            "cell_type": "markdown",
            "metadata": {},
            "source": [
                "## 예제"
            ]
        },
        {
            "cell_type": "code",
            "execution_count": 2,
            "metadata": {},
            "outputs": [],
            "source": [
                "# black 모듈을 jupyter notebook 내에서 사용 가능하게 만들어주는 blackcellmagic 모듈 불러오기\n",
                "%load_ext blackcellmagic\n",
                "# %%black\n",
                "\n",
                "# 백준 문제 풀이용 예제 실행 코드\n",
                "from bwj import test\n",
                "test_solution = test(solution)\n",
                "\n",
                "# test_solution(\"\"\"\"\"\")\n",
                "# test_solution(read(\"fn\").read())"
            ]
        },
        {
            "cell_type": "code",
            "execution_count": 3,
            "metadata": {},
            "outputs": [
                {
                    "name": "stdout",
                    "output_type": "stream",
                    "text": [
                        "4\n",
                        "3\n",
                        "1 4 5\n"
                    ]
                }
            ],
            "source": [
                "test_solution(\"\"\"5\n",
                "8\n",
                "1 2 2\n",
                "1 3 3\n",
                "1 4 1\n",
                "1 5 10\n",
                "2 4 2\n",
                "3 4 1\n",
                "3 5 1\n",
                "4 5 3\n",
                "1 5\n",
                "\"\"\")\n",
                "# answer:\n",
                "# 4\n",
                "# 3\n",
                "# 1 3 5"
            ]
        }
    ],
    "metadata": {
        "kernelspec": {
            "display_name": "Python 3.10.6 ('venv': venv)",
            "language": "python",
            "name": "python3"
        },
        "language_info": {
            "codemirror_mode": {
                "name": "ipython",
                "version": 3
            },
            "file_extension": ".py",
            "mimetype": "text/x-python",
            "name": "python",
            "nbconvert_exporter": "python",
            "pygments_lexer": "ipython3",
            "version": "3.10.6"
        },
        "orig_nbformat": 4,
        "vscode": {
            "interpreter": {
                "hash": "72904a014a9ffe38f4c58942120b599b3c5a87d06764037548e0139929c1cde3"
            }
        }
    },
    "nbformat": 4,
    "nbformat_minor": 2
}
