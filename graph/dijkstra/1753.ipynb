{
    "cells": [
        {
            "cell_type": "markdown",
            "metadata": {},
            "source": [
                "# [백준/최단경로](https://www.acmicpc.net/problem/1753)"
            ]
        },
        {
            "cell_type": "markdown",
            "metadata": {},
            "source": [
                "## 풀이과정"
            ]
        },
        {
            "cell_type": "markdown",
            "metadata": {},
            "source": [
                "### 첫번째 시도"
            ]
        },
        {
            "cell_type": "markdown",
            "metadata": {},
            "source": [
                "풀이과정"
            ]
        },
        {
            "cell_type": "code",
            "execution_count": 41,
            "metadata": {},
            "outputs": [],
            "source": [
                "def solution():\n",
                "    import sys\n",
                "\n",
                "    inputs = map(lambda x: map(int, x.split()), sys.stdin.read().rstrip().split(\"\\n\"))\n",
                "    v, e = next(inputs)\n",
                "    *_, start = next(inputs)\n",
                "    start -= 1\n",
                "\n",
                "    graph = [[11] * v for _ in range(v)]\n",
                "    for i in range(v):\n",
                "        graph[i][i] = 0\n",
                "    for s, e, dist in inputs:\n",
                "        s -= 1\n",
                "        e -= 1\n",
                "        if graph[s][e] > dist:\n",
                "            graph[s][e] = dist\n",
                "\n",
                "    answer = graph[start]\n",
                "    tovisit = [(0, start)]\n",
                "    visited = set()\n",
                "    while tovisit:\n",
                "        cist, curr = heappop(tovisit)\n",
                "        if curr in visited:\n",
                "            continue\n",
                "        for node, (aist, dist) in enumerate(zip(answer, graph[curr])):\n",
                "            if (mist := min(aist, cist + dist)) < 11:\n",
                "                answer[node] = mist\n",
                "                heappush(tovisit, (mist, node))\n",
                "        visited.add(curr)\n",
                "    print(\"\\n\".join(map(lambda x: str(x) if x < 11 else \"INF\", answer)))\n",
                "\n",
                "\n",
                "solution()"
            ]
        },
        {
            "cell_type": "markdown",
            "metadata": {},
            "source": [
                "### 두번째 시도"
            ]
        },
        {
            "cell_type": "markdown",
            "metadata": {},
            "source": [
                "풀이과정"
            ]
        },
        {
            "cell_type": "code",
            "execution_count": null,
            "metadata": {},
            "outputs": [],
            "source": [
                "def solution():\n",
                "    import sys\n",
                "    import heapq\n",
                "\n",
                "    inputs = map(lambda x: map(int, x.split()), sys.stdin.read().rstrip().split(\"\\n\"))\n",
                "    v, e = next(inputs)\n",
                "    *_, start = next(inputs)\n",
                "    start -= 1\n",
                "\n",
                "    graph = {i:{i:0} for i in range(v)}\n",
                "    for s, e, dist in inputs:\n",
                "        s -= 1\n",
                "        e -= 1\n",
                "        if e in graph[s]:\n",
                "            if graph[s][e] > dist:\n",
                "                graph[s][e] = dist\n",
                "        else:\n",
                "            graph[s][e] = dist\n",
                "\n",
                "    answer = graph[start]\n",
                "    tovisit = [(0, start)]\n",
                "    visited = set()\n",
                "    while tovisit:\n",
                "        cist, curr = heapq.heappop(tovisit)\n",
                "        if curr in visited:\n",
                "            continue\n",
                "        for node, dist in graph[curr].items():\n",
                "            answer[node] = min(answer[node], cist + dist) if node in answer else cist + dist\n",
                "            if node not in visited:\n",
                "                heapq.heappush(tovisit, (answer[node], node))\n",
                "        visited.add(curr)\n",
                "    print(\"\\n\".join(str(answer[i]) if i in answer else \"INF\" for i in range(v)))\n",
                "\n",
                "\n",
                "solution()"
            ]
        },
        {
            "cell_type": "markdown",
            "metadata": {},
            "source": [
                "## 해답"
            ]
        },
        {
            "cell_type": "code",
            "execution_count": 3,
            "metadata": {},
            "outputs": [],
            "source": [
                "from heapq import heappop, heappush"
            ]
        },
        {
            "cell_type": "code",
            "execution_count": 50,
            "metadata": {},
            "outputs": [],
            "source": [
                "def solution(open=open):\n",
                "    inputs = map(lambda x: map(int, x.split()), open(0).read().rstrip().split(\"\\n\"))\n",
                "    v, e = next(inputs)\n",
                "    *_, start = next(inputs)\n",
                "    start -= 1\n",
                "\n",
                "    graph = {i:{i:0} for i in range(v)}\n",
                "    for s, e, dist in inputs:\n",
                "        s -= 1\n",
                "        e -= 1\n",
                "        if e in graph[s]:\n",
                "            if graph[s][e] > dist:\n",
                "                graph[s][e] = dist\n",
                "        else:\n",
                "            graph[s][e] = dist\n",
                "\n",
                "    answer = graph[start]\n",
                "    tovisit = [(0, start)]\n",
                "    visited = set()\n",
                "    while tovisit:\n",
                "        cist, curr = heappop(tovisit)\n",
                "        if curr in visited:\n",
                "            continue\n",
                "        for node, dist in graph[curr].items():\n",
                "            answer[node] = min(answer[node], cist + dist) if node in answer else cist + dist\n",
                "            if node not in visited:\n",
                "                heappush(tovisit, (answer[node], node))\n",
                "        visited.add(curr)\n",
                "    print(\"\\n\".join(str(answer[i]) if i in answer else \"INF\" for i in range(v)))"
            ]
        },
        {
            "cell_type": "markdown",
            "metadata": {},
            "source": [
                "## 예제"
            ]
        },
        {
            "cell_type": "code",
            "execution_count": 51,
            "metadata": {},
            "outputs": [
                {
                    "name": "stdout",
                    "output_type": "stream",
                    "text": [
                        "The blackcellmagic extension is already loaded. To reload it, use:\n",
                        "  %reload_ext blackcellmagic\n"
                    ]
                }
            ],
            "source": [
                "%load_ext blackcellmagic\n",
                "# %%black"
            ]
        },
        {
            "cell_type": "code",
            "execution_count": 52,
            "metadata": {},
            "outputs": [],
            "source": [
                "# 백준 문제 풀이용 예제 실행 코드\n",
                "from bwj import test\n",
                "test_solution = test(solution)\n",
                "\n",
                "# test_solution(\"\"\"\"\"\")\n",
                "# test_solution(read(\"fn\").read())"
            ]
        },
        {
            "cell_type": "code",
            "execution_count": 53,
            "metadata": {},
            "outputs": [
                {
                    "name": "stdout",
                    "output_type": "stream",
                    "text": [
                        "0\n",
                        "2\n",
                        "3\n",
                        "7\n",
                        "INF\n"
                    ]
                }
            ],
            "source": [
                "test_solution(\"\"\"5 6\n",
                "1\n",
                "5 1 1\n",
                "1 2 2\n",
                "1 3 3\n",
                "2 3 4\n",
                "2 4 5\n",
                "3 4 6\"\"\")\n",
                "# answer:\n",
                "# 0\n",
                "# 2\n",
                "# 3\n",
                "# 7\n",
                "# INF"
            ]
        }
    ],
    "metadata": {
        "interpreter": {
            "hash": "73891b0dc2e53390f36276e59930dd4ecab91b05b5c90320c2d5b1c443f87069"
        },
        "kernelspec": {
            "display_name": "Python 3.10.1 ('venv': venv)",
            "language": "python",
            "name": "python3"
        },
        "language_info": {
            "codemirror_mode": {
                "name": "ipython",
                "version": 3
            },
            "file_extension": ".py",
            "mimetype": "text/x-python",
            "name": "python",
            "nbconvert_exporter": "python",
            "pygments_lexer": "ipython3",
            "version": "3.10.1"
        },
        "orig_nbformat": 4
    },
    "nbformat": 4,
    "nbformat_minor": 2
}
