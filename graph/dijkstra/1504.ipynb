{
 "cells": [
  {
   "cell_type": "markdown",
   "metadata": {},
   "source": [
    "# [백준/특정한 최단 경로](https://www.acmicpc.net/problem/1504)"
   ]
  },
  {
   "cell_type": "markdown",
   "metadata": {},
   "source": [
    "## 풀이과정"
   ]
  },
  {
   "cell_type": "markdown",
   "metadata": {},
   "source": [
    "### 첫번째 시도"
   ]
  },
  {
   "cell_type": "markdown",
   "metadata": {},
   "source": [
    "#### 풀이과정"
   ]
  },
  {
   "cell_type": "code",
   "execution_count": null,
   "metadata": {},
   "outputs": [],
   "source": [
    "def solution():\n",
    "    import sys\n",
    "    import heapq\n",
    "    import math\n",
    "\n",
    "    input = iter(sys.stdin.read().splitlines()).__next__\n",
    "    n, m = map(int, input().split())\n",
    "    graph = [[] for _ in range(n)]\n",
    "    for s, e, d in (map(int, input().split()) for _ in range(m)):\n",
    "        graph[s - 1].append((e - 1, d))\n",
    "        graph[e - 1].append((s - 1, d))\n",
    "\n",
    "    A, B = (int(i) - 1 for i in input().split())\n",
    "\n",
    "    def dijkstra(start):\n",
    "        tovisit = [(0, start)]\n",
    "        result = [math.inf] * n\n",
    "        result[start] = 0\n",
    "        while tovisit:\n",
    "            cist, curr = heapq.heappop(tovisit)\n",
    "            if result[curr] < cist:\n",
    "                continue\n",
    "            for node, dist in graph[curr]:\n",
    "                cost = cist + dist\n",
    "                if cost < result[node]:\n",
    "                    result[node] = cost\n",
    "                    heapq.heappush(tovisit, (cost, node))\n",
    "        return result\n",
    "\n",
    "    end = n - 1\n",
    "    path = {i: dijkstra(i) for i in [0, A, B]}\n",
    "    print(path)\n",
    "    A2B = path[0][A] + path[A][B] + path[B][end]\n",
    "    B2A = path[0][B] + path[B][A] + path[A][end]\n",
    "    min_path = min(A2B, B2A)\n",
    "    print(min_path if min_path < math.inf else -1)\n",
    "\n",
    "\n",
    "solution()"
   ]
  },
  {
   "cell_type": "markdown",
   "metadata": {},
   "source": [
    "## 해답"
   ]
  },
  {
   "cell_type": "code",
   "execution_count": 39,
   "metadata": {},
   "outputs": [],
   "source": [
    "def solution():\n",
    "    import sys\n",
    "    import heapq\n",
    "    import math\n",
    "\n",
    "    input = iter(sys.stdin.read().splitlines()).__next__\n",
    "    n, m = map(int, input().split())\n",
    "    graph = [[] for _ in range(n)]\n",
    "    for s, e, d in (map(int, input().split()) for _ in range(m)):\n",
    "        graph[s - 1].append((e - 1, d))\n",
    "        graph[e - 1].append((s - 1, d))\n",
    "\n",
    "    A, B = (int(i) - 1 for i in input().split())\n",
    "\n",
    "    def dijkstra(start):\n",
    "        tovisit = [(0, start)]\n",
    "        result = [math.inf] * n\n",
    "        result[start] = 0\n",
    "        while tovisit:\n",
    "            cist, curr = heapq.heappop(tovisit)\n",
    "            if result[curr] < cist:\n",
    "                continue\n",
    "            for node, dist in graph[curr]:\n",
    "                cost = cist + dist\n",
    "                if cost < result[node]:\n",
    "                    result[node] = cost\n",
    "                    heapq.heappush(tovisit, (cost, node))\n",
    "        return result\n",
    "\n",
    "    end = n - 1\n",
    "    path = {i: dijkstra(i) for i in [0, A, B]}\n",
    "    print(path)\n",
    "    A2B = path[0][A] + path[A][B] + path[B][end]\n",
    "    B2A = path[0][B] + path[B][A] + path[A][end]\n",
    "    min_path = min(A2B, B2A)\n",
    "    print(min_path if min_path < math.inf else -1)"
   ]
  },
  {
   "cell_type": "markdown",
   "metadata": {},
   "source": [
    "## 예제"
   ]
  },
  {
   "cell_type": "code",
   "execution_count": 40,
   "metadata": {},
   "outputs": [
    {
     "name": "stdout",
     "output_type": "stream",
     "text": [
      "The blackcellmagic extension is already loaded. To reload it, use:\n",
      "  %reload_ext blackcellmagic\n"
     ]
    }
   ],
   "source": [
    "# black 모듈을 jupyter notebook 내에서 사용 가능하게 만들어주는 blackcellmagic 모듈 불러오기\n",
    "%load_ext blackcellmagic\n",
    "# %%black\n",
    "\n",
    "# 백준 문제 풀이용 예제 실행 코드\n",
    "from bwj import test\n",
    "\n",
    "test_solution = test(solution)\n",
    "\n",
    "# test_solution(\"\"\"\"\"\")\n",
    "# test_solution(read(\"fn\").read())"
   ]
  },
  {
   "cell_type": "code",
   "execution_count": 41,
   "metadata": {},
   "outputs": [
    {
     "name": "stdout",
     "output_type": "stream",
     "text": [
      "{0: [0, 3, 1, 1, 2], 1: [3, 0, 3, 4, 5], 2: [1, 3, 0, 2, 3]}\n",
      "9\n"
     ]
    }
   ],
   "source": [
    "test_solution(\n",
    "    \"\"\"5 6\n",
    "1 2 3\n",
    "1 3 1\n",
    "1 4 1\n",
    "2 3 3\n",
    "3 4 4\n",
    "4 5 1\n",
    "2 3\n",
    "\"\"\"\n",
    ")  # 9"
   ]
  },
  {
   "cell_type": "code",
   "execution_count": 42,
   "metadata": {},
   "outputs": [
    {
     "name": "stdout",
     "output_type": "stream",
     "text": [
      "{0: [0, 3, 1, 1], 1: [3, 0, 3, 4], 2: [1, 3, 0, 2]}\n",
      "8\n"
     ]
    }
   ],
   "source": [
    "test_solution(\n",
    "    \"\"\"4 5\n",
    "1 2 3\n",
    "1 3 1\n",
    "1 4 1\n",
    "2 3 3\n",
    "3 4 4\n",
    "2 3\n",
    "\"\"\"\n",
    ")  # 8"
   ]
  },
  {
   "cell_type": "code",
   "execution_count": 43,
   "metadata": {},
   "outputs": [
    {
     "name": "stdout",
     "output_type": "stream",
     "text": [
      "{0: [0, 3, 5, 4], 1: [3, 0, 3, 4], 2: [5, 3, 0, 1]}\n",
      "7\n"
     ]
    }
   ],
   "source": [
    "test_solution(\n",
    "    \"\"\"4 6\n",
    "1 2 3\n",
    "2 3 3\n",
    "3 4 1\n",
    "1 3 5\n",
    "2 4 5\n",
    "1 4 4\n",
    "2 3\n",
    "\"\"\"\n",
    ")  # 7"
   ]
  }
 ],
 "metadata": {
  "kernelspec": {
   "display_name": "Python 3.10.6 ('venv': venv)",
   "language": "python",
   "name": "python3"
  },
  "language_info": {
   "codemirror_mode": {
    "name": "ipython",
    "version": 3
   },
   "file_extension": ".py",
   "mimetype": "text/x-python",
   "name": "python",
   "nbconvert_exporter": "python",
   "pygments_lexer": "ipython3",
   "version": "3.10.8 (main, Oct 13 2022, 09:48:40) [Clang 14.0.0 (clang-1400.0.29.102)]"
  },
  "orig_nbformat": 4,
  "vscode": {
   "interpreter": {
    "hash": "72904a014a9ffe38f4c58942120b599b3c5a87d06764037548e0139929c1cde3"
   }
  }
 },
 "nbformat": 4,
 "nbformat_minor": 2
}
