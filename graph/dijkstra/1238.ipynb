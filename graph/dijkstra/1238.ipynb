{
    "cells": [
        {
            "cell_type": "markdown",
            "metadata": {},
            "source": [
                "# [백준/파티](https://www.acmicpc.net/problem/1238)\n"
            ]
        },
        {
            "cell_type": "markdown",
            "metadata": {},
            "source": [
                "## 풀이과정\n"
            ]
        },
        {
            "cell_type": "markdown",
            "metadata": {},
            "source": [
                "### 첫번째 시도\n"
            ]
        },
        {
            "cell_type": "markdown",
            "metadata": {},
            "source": [
                "#### 풀이과정\n"
            ]
        },
        {
            "cell_type": "code",
            "execution_count": null,
            "metadata": {},
            "outputs": [],
            "source": [
                "from math import inf\n",
                "from heapq import heappop as pop, heappush as push\n",
                "\n",
                "\n",
                "def dijkstra(start: int, graph: dict[int, list[tuple[int, int]]], n: int) -> list[int]:\n",
                "    tovisit: list[tuple[int, int]] = [(0, start)]\n",
                "    result: list[int] = [inf] * n  # type: ignore\n",
                "    result[start] = 0\n",
                "    while tovisit:\n",
                "        cist, curr = pop(tovisit)\n",
                "        if result[curr] < cist:\n",
                "            continue\n",
                "        for node, dist in graph[curr]:\n",
                "            cost = cist + dist\n",
                "            if cost < result[node]:\n",
                "                result[node] = cost\n",
                "                push(tovisit, (cost, node))\n",
                "    return result\n",
                "\n",
                "\n",
                "def solution():\n",
                "    import sys\n",
                "\n",
                "    inputs = (map(int, i.split()) for i in sys.stdin.read().splitlines())\n",
                "    n, _, x = next(inputs)\n",
                "    x -= 1\n",
                "    departure = {i: [] for i in range(n)}\n",
                "    arrival = {i: [] for i in range(n)}\n",
                "\n",
                "    for i, j, k in inputs:\n",
                "        departure[i - 1].append((j - 1, k))\n",
                "        arrival[j - 1].append((i - 1, k))\n",
                "\n",
                "    print(max(map(sum, zip(dijkstra(x, departure, n), dijkstra(x, arrival, n)))))\n",
                "\n",
                "\n",
                "solution()"
            ]
        },
        {
            "cell_type": "markdown",
            "metadata": {},
            "source": [
                "## 해답\n"
            ]
        },
        {
            "cell_type": "code",
            "execution_count": null,
            "metadata": {},
            "outputs": [],
            "source": [
                "from math import inf\n",
                "from heapq import heappop as pop, heappush as push"
            ]
        },
        {
            "cell_type": "code",
            "execution_count": 1,
            "metadata": {},
            "outputs": [],
            "source": [
                "def dijkstra(start: int, graph: dict[int, list[tuple[int, int]]], n: int) -> list[int]:\n",
                "    tovisit: list[tuple[int, int]] = [(0, start)]\n",
                "    result: list[int] = [inf] * n  # type: ignore\n",
                "    result[start] = 0\n",
                "    while tovisit:\n",
                "        cist, curr = pop(tovisit)\n",
                "        if result[curr] < cist:\n",
                "            continue\n",
                "        for node, dist in graph[curr]:\n",
                "            cost = cist + dist\n",
                "            if cost < result[node]:\n",
                "                result[node] = cost\n",
                "                push(tovisit, (cost, node))\n",
                "    return result"
            ]
        },
        {
            "cell_type": "code",
            "execution_count": 2,
            "metadata": {},
            "outputs": [],
            "source": [
                "def solution():\n",
                "    import sys\n",
                "\n",
                "    inputs = (map(int, i.split()) for i in sys.stdin.read().splitlines())\n",
                "    n, _, x = next(inputs)\n",
                "    x -= 1\n",
                "    departure = {i: [] for i in range(n)}\n",
                "    arrival = {i: [] for i in range(n)}\n",
                "\n",
                "    for i, j, k in inputs:\n",
                "        departure[i - 1].append((j - 1, k))\n",
                "        arrival[j - 1].append((i - 1, k))\n",
                "\n",
                "    print(max(map(sum, zip(dijkstra(x, departure, n), dijkstra(x, arrival, n)))))"
            ]
        },
        {
            "cell_type": "markdown",
            "metadata": {},
            "source": [
                "## 예제\n"
            ]
        },
        {
            "cell_type": "code",
            "execution_count": 3,
            "metadata": {},
            "outputs": [],
            "source": [
                "# 백준 문제 풀이용 예제 실행 코드\n",
                "from bwj import test\n",
                "\n",
                "test_solution = test(solution)\n",
                "\n",
                "# test_solution(\"\"\"\"\"\")\n",
                "# test_solution(read(\"fn\").read())"
            ]
        },
        {
            "cell_type": "code",
            "execution_count": 4,
            "metadata": {},
            "outputs": [
                {
                    "name": "stdout",
                    "output_type": "stream",
                    "text": [
                        "10\n"
                    ]
                }
            ],
            "source": [
                "test_solution(\n",
                "    \"\"\"4 8 2\n",
                "1 2 4\n",
                "1 3 2\n",
                "1 4 7\n",
                "2 1 1\n",
                "2 3 5\n",
                "3 1 2\n",
                "3 4 4\n",
                "4 2 3\n",
                "\"\"\"\n",
                ")  # 10"
            ]
        }
    ],
    "metadata": {
        "interpreter": {
            "hash": "73891b0dc2e53390f36276e59930dd4ecab91b05b5c90320c2d5b1c443f87069"
        },
        "kernelspec": {
            "display_name": "Python 3.10.1 ('venv': venv)",
            "language": "python",
            "name": "python3"
        },
        "language_info": {
            "codemirror_mode": {
                "name": "ipython",
                "version": 3
            },
            "file_extension": ".py",
            "mimetype": "text/x-python",
            "name": "python",
            "nbconvert_exporter": "python",
            "pygments_lexer": "ipython3",
            "version": "3.12.2"
        },
        "orig_nbformat": 4
    },
    "nbformat": 4,
    "nbformat_minor": 2
}
