{
    "cells": [
        {
            "cell_type": "markdown",
            "metadata": {},
            "source": [
                "# [백준/Hypercube](https://www.acmicpc.net/problem/15936)"
            ]
        },
        {
            "cell_type": "markdown",
            "metadata": {},
            "source": [
                "## 풀이과정"
            ]
        },
        {
            "cell_type": "markdown",
            "metadata": {},
            "source": [
                "### 첫번째 시도"
            ]
        },
        {
            "cell_type": "markdown",
            "metadata": {},
            "source": [
                "#### 풀이과정"
            ]
        },
        {
            "cell_type": "code",
            "execution_count": null,
            "metadata": {},
            "outputs": [],
            "source": [
                "import sys\n",
                "import functools\n",
                "import itertools\n",
                "\n",
                "modulo = 100003\n",
                "\n",
                "\n",
                "def solution():\n",
                "    n, m, k = map(int, sys.stdin.readline().split())\n",
                "    print(task_a(n, m), task_b(n, m), task_c(n, k))\n",
                "\n",
                "\n",
                "def task_a(n, m):\n",
                "    return next(i ^ m for i in one_to_2n(n) if i | m == m)\n",
                "\n",
                "\n",
                "def task_b(n, m):\n",
                "    return next(i ^ m for i in one_to_2n(n) if i | m != m)\n",
                "\n",
                "\n",
                "def task_c(n, k):\n",
                "    return pow2(n - k) * prod(n, n - k + 1) % modulo\n",
                "\n",
                "\n",
                "def one_to_2n(n):\n",
                "    yield (b := 1)\n",
                "    for _ in range(n):\n",
                "        yield (b := b << 1)\n",
                "\n",
                "\n",
                "def pow2(n):\n",
                "    return itermul(itertools.repeat(2, n))\n",
                "\n",
                "\n",
                "def prod(n, k):\n",
                "    return itermul(range(k, n + 1))\n",
                "\n",
                "\n",
                "def itermul(iterater):\n",
                "    return functools.reduce(muldiv, iterater)\n",
                "\n",
                "\n",
                "def muldiv(x, y):\n",
                "    return x * y % modulo\n",
                "\n",
                "\n",
                "solution()"
            ]
        },
        {
            "cell_type": "markdown",
            "metadata": {},
            "source": [
                "## 해답"
            ]
        },
        {
            "cell_type": "code",
            "execution_count": 1,
            "metadata": {},
            "outputs": [],
            "source": [
                "import functools\n",
                "\n",
                "modulo = 100003"
            ]
        },
        {
            "cell_type": "code",
            "execution_count": 2,
            "metadata": {},
            "outputs": [],
            "source": [
                "def one_to_2n(n):\n",
                "    yield (b := 1)\n",
                "    for _ in range(n):\n",
                "        yield (b := b << 1)\n",
                "\n",
                "def task_a(n, m):\n",
                "    return next(i ^ m for i in one_to_2n(n) if i | m == m)\n",
                "\n",
                "def task_b(n, m):\n",
                "    return next(i ^ m for i in one_to_2n(n) if i | m != m)"
            ]
        },
        {
            "cell_type": "code",
            "execution_count": 3,
            "metadata": {},
            "outputs": [],
            "source": [
                "def muldiv(x, y):\n",
                "    return x * y % modulo\n",
                "\n",
                "def itermul(iterater):\n",
                "    return functools.reduce(muldiv, iterater)\n",
                "\n",
                "def pow2(n):\n",
                "    return functools.reduce(lambda x, _: x * 2 % modulo, range(n), 1)\n",
                "\n",
                "def prod(n, k):\n",
                "    return functools.reduce(lambda x, y: x * y % modulo, range(k, n + 1))\n",
                "\n",
                "def task_c(n, k):\n",
                "    return pow2(n - k) * prod(n, n - k + 1) % modulo"
            ]
        },
        {
            "cell_type": "code",
            "execution_count": 4,
            "metadata": {},
            "outputs": [],
            "source": [
                "def solution():\n",
                "    import sys\n",
                "\n",
                "    n, m, k = map(int, sys.stdin.readline().split())\n",
                "    print(task_a(n, m), task_b(n, m), task_c(n, k))"
            ]
        },
        {
            "cell_type": "markdown",
            "metadata": {},
            "source": [
                "## 예제"
            ]
        },
        {
            "cell_type": "code",
            "execution_count": 5,
            "metadata": {},
            "outputs": [],
            "source": [
                "# black 모듈을 jupyter notebook 내에서 사용 가능하게 만들어주는 blackcellmagic 모듈 불러오기\n",
                "%load_ext blackcellmagic\n",
                "# %%black\n",
                "\n",
                "# 백준 문제 풀이용 예제 실행 코드\n",
                "from bwj import test\n",
                "test_solution = test(solution)\n",
                "\n",
                "# test_solution(\"\"\"\"\"\")\n",
                "# test_solution(read(\"fn\").read())"
            ]
        },
        {
            "cell_type": "code",
            "execution_count": 6,
            "metadata": {},
            "outputs": [
                {
                    "name": "stdout",
                    "output_type": "stream",
                    "text": [
                        "n, m, k = (4, 1, 1): 0 3 32\n",
                        "n, m, k = (4, 2, 2): 0 3 48\n",
                        "n, m, k = (4, 3, 3): 2 7 48\n",
                        "n, m, k = (4, 4, 1): 0 5 32\n",
                        "n, m, k = (4, 5, 2): 4 7 48\n",
                        "n, m, k = (4, 6, 3): 4 7 48\n",
                        "n, m, k = (4, 7, 1): 6 15 32\n",
                        "n, m, k = (4, 8, 2): 0 9 48\n",
                        "n, m, k = (4, 9, 3): 8 11 48\n",
                        "n, m, k = (4, 10, 1): 8 11 32\n",
                        "n, m, k = (4, 11, 2): 10 15 48\n",
                        "n, m, k = (4, 12, 3): 8 13 48\n",
                        "n, m, k = (4, 13, 1): 12 15 32\n",
                        "n, m, k = (4, 14, 2): 12 15 48\n"
                    ]
                }
            ],
            "source": [
                "n = 4\n",
                "for m in range(1, 15):\n",
                "    k = (m - 1) % 3 + 1\n",
                "    print(f\"{n, m, k = }\", end=\": \")\n",
                "    test_solution(f\"4 {m} {k}\")"
            ]
        },
        {
            "cell_type": "code",
            "execution_count": 7,
            "metadata": {},
            "outputs": [
                {
                    "name": "stdout",
                    "output_type": "stream",
                    "text": [
                        "2 7 48\n"
                    ]
                }
            ],
            "source": [
                "test_solution(\"\"\"4 3 2\n",
                "\"\"\")\n",
                "# answer:\n",
                "# 2\n",
                "# 7\n",
                "# 48"
            ]
        }
    ],
    "metadata": {
        "kernelspec": {
            "display_name": "venv",
            "language": "python",
            "name": "python3"
        },
        "language_info": {
            "codemirror_mode": {
                "name": "ipython",
                "version": 3
            },
            "file_extension": ".py",
            "mimetype": "text/x-python",
            "name": "python",
            "nbconvert_exporter": "python",
            "pygments_lexer": "ipython3",
            "version": "3.11.1"
        },
        "orig_nbformat": 4,
        "vscode": {
            "interpreter": {
                "hash": "72904a014a9ffe38f4c58942120b599b3c5a87d06764037548e0139929c1cde3"
            }
        }
    },
    "nbformat": 4,
    "nbformat_minor": 2
}
