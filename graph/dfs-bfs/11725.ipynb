{
 "cells": [
  {
   "cell_type": "markdown",
   "metadata": {},
   "source": [
    "# [백준/트리의 부모 찾기](https://www.acmicpc.net/problem/11725)"
   ]
  },
  {
   "cell_type": "markdown",
   "metadata": {},
   "source": [
    "## 풀이과정"
   ]
  },
  {
   "cell_type": "markdown",
   "metadata": {},
   "source": [
    "### 첫번째 시도"
   ]
  },
  {
   "cell_type": "markdown",
   "metadata": {},
   "source": [
    "풀이과정"
   ]
  },
  {
   "cell_type": "code",
   "execution_count": 21,
   "metadata": {},
   "outputs": [],
   "source": [
    "def solution():\n",
    "    import sys\n",
    "    import collections\n",
    "\n",
    "    inputs = iter(sys.stdin.read().rstrip().split(\"\\n\"))\n",
    "    n = int(next(inputs))\n",
    "    tree = {i: [] for i in range(1, n + 1)}\n",
    "    for input in inputs:\n",
    "        a, b = map(int, input.split())\n",
    "        tree[a].append(b)\n",
    "        tree[b].append(a)\n",
    "\n",
    "    parents = [1, 1] + [0] * (n - 1)\n",
    "    tovisit = collections.deque([1])\n",
    "    visited = set()\n",
    "    while tree:\n",
    "        parent = tovisit.popleft()\n",
    "        visited.add(parent)\n",
    "        for child in tree.pop(parent):\n",
    "            if parents[child] == 0:\n",
    "                parents[child] = parent\n",
    "                tovisit.append(child)\n",
    "\n",
    "    print(\"\\n\".join(map(str, parents[2:])))\n",
    "\n",
    "\n",
    "solution()"
   ]
  },
  {
   "cell_type": "markdown",
   "metadata": {},
   "source": [
    "## 해답"
   ]
  },
  {
   "cell_type": "code",
   "execution_count": 1,
   "metadata": {},
   "outputs": [],
   "source": [
    "from collections import deque"
   ]
  },
  {
   "cell_type": "code",
   "execution_count": 20,
   "metadata": {},
   "outputs": [],
   "source": [
    "def solution(open=open):\n",
    "    inputs = iter(open(0).read().rstrip().split(\"\\n\"))\n",
    "\n",
    "    n = int(next(inputs))\n",
    "    tree = {i: [] for i in range(1, n + 1)}\n",
    "    for input in inputs:\n",
    "        a, b = map(int, input.split())\n",
    "        tree[a].append(b)\n",
    "        tree[b].append(a)\n",
    "\n",
    "    parents = [1, 1] + [0] * (n - 1)\n",
    "    tovisit = deque([1])\n",
    "    visited = set()\n",
    "    while tree:\n",
    "        parent = tovisit.popleft()\n",
    "        visited.add(parent)\n",
    "        for child in tree.pop(parent):\n",
    "            if parents[child] == 0:\n",
    "                parents[child] = parent\n",
    "                tovisit.append(child)\n",
    "\n",
    "    print(\"\\n\".join(map(str, parents[2:])))"
   ]
  },
  {
   "cell_type": "markdown",
   "metadata": {},
   "source": [
    "## 예제"
   ]
  },
  {
   "cell_type": "code",
   "execution_count": 17,
   "metadata": {},
   "outputs": [],
   "source": [
    "# 백준 문제 풀이용 예제 실행 코드\n",
    "from bwj import test\n",
    "\n",
    "test_solution = test(solution)\n",
    "\n",
    "# test_solution(\"\"\"\"\"\")\n",
    "# test_solution(read(\"fn\").read())"
   ]
  },
  {
   "cell_type": "code",
   "execution_count": 18,
   "metadata": {},
   "outputs": [
    {
     "name": "stdout",
     "output_type": "stream",
     "text": [
      "4\n",
      "6\n",
      "1\n",
      "3\n",
      "1\n",
      "4\n"
     ]
    }
   ],
   "source": [
    "test_solution(\n",
    "    \"\"\"7\n",
    "1 6\n",
    "6 3\n",
    "3 5\n",
    "4 1\n",
    "2 4\n",
    "4 7\"\"\"\n",
    ")\n",
    "# answer:\n",
    "# 4\n",
    "# 6\n",
    "# 1\n",
    "# 3\n",
    "# 1\n",
    "# 4"
   ]
  },
  {
   "cell_type": "code",
   "execution_count": 19,
   "metadata": {},
   "outputs": [
    {
     "name": "stdout",
     "output_type": "stream",
     "text": [
      "1\n",
      "1\n",
      "2\n",
      "3\n",
      "3\n",
      "4\n",
      "4\n",
      "5\n",
      "5\n",
      "6\n",
      "6\n"
     ]
    }
   ],
   "source": [
    "test_solution(\n",
    "    \"\"\"12\n",
    "1 2\n",
    "1 3\n",
    "2 4\n",
    "3 5\n",
    "3 6\n",
    "4 7\n",
    "4 8\n",
    "5 9\n",
    "5 10\n",
    "6 11\n",
    "6 12\"\"\"\n",
    ")\n",
    "# answer:\n",
    "# 1\n",
    "# 1\n",
    "# 2\n",
    "# 3\n",
    "# 3\n",
    "# 4\n",
    "# 4\n",
    "# 5\n",
    "# 5\n",
    "# 6\n",
    "# 6"
   ]
  }
 ],
 "metadata": {
  "interpreter": {
   "hash": "6f343a80023390f07f657f7b7b783138624f73d36da2400954869fbeb113b94b"
  },
  "kernelspec": {
   "display_name": "Python 3.10.2 ('venv': venv)",
   "language": "python",
   "name": "python3"
  },
  "language_info": {
   "codemirror_mode": {
    "name": "ipython",
    "version": 3
   },
   "file_extension": ".py",
   "mimetype": "text/x-python",
   "name": "python",
   "nbconvert_exporter": "python",
   "pygments_lexer": "ipython3",
   "version": "3.10.2"
  },
  "orig_nbformat": 4
 },
 "nbformat": 4,
 "nbformat_minor": 2
}
