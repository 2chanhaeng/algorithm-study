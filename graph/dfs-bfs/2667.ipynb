{
 "cells": [
  {
   "cell_type": "markdown",
   "metadata": {},
   "source": [
    "# [백준/단지번호붙이기](https://www.acmicpc.net/problem/2667)"
   ]
  },
  {
   "cell_type": "markdown",
   "metadata": {},
   "source": [
    "## 풀이과정"
   ]
  },
  {
   "cell_type": "markdown",
   "metadata": {},
   "source": [
    "### 첫번째 시도"
   ]
  },
  {
   "cell_type": "markdown",
   "metadata": {},
   "source": [
    "풀이과정"
   ]
  },
  {
   "cell_type": "code",
   "execution_count": null,
   "metadata": {},
   "outputs": [],
   "source": [
    "import sys\n",
    "\n",
    "input = lambda: sys.stdin.readline().rstrip()\n",
    "rows = cols = int(input())\n",
    "maze = [list(map(int, input())) for _ in range(rows)]\n",
    "roads = set()\n",
    "for col in range(cols):\n",
    "    for row in range(rows):\n",
    "        if maze[row][col]:\n",
    "            roads.add((row, col))\n",
    "bunch = []\n",
    "while roads:\n",
    "    visted = set()\n",
    "    tovisit = {roads.pop()}\n",
    "    new = set()\n",
    "    while tovisit:\n",
    "        for x, y in tovisit:\n",
    "            new |= {(x + 1, y), (x - 1, y), (x, y + 1), (x, y - 1)}\n",
    "        visted |= tovisit\n",
    "        new -= visted\n",
    "        tovisit = new & roads\n",
    "        new.clear()\n",
    "    roads -= visted\n",
    "    bunch.append(len(visted))\n",
    "print(len(bunch), *sorted(bunch), sep=\"\\n\")"
   ]
  },
  {
   "cell_type": "markdown",
   "metadata": {},
   "source": [
    "## 해답"
   ]
  },
  {
   "cell_type": "code",
   "execution_count": 22,
   "metadata": {},
   "outputs": [],
   "source": [
    "def solution(input):\n",
    "    rows = cols = int(input())\n",
    "    maze = [list(map(int, input())) for _ in range(rows)]\n",
    "    roads = set()\n",
    "    for col in range(cols):\n",
    "        for row in range(rows):\n",
    "            if maze[row][col]:\n",
    "                roads.add((row, col))\n",
    "    bunch = []\n",
    "    while roads:\n",
    "        visted = set()\n",
    "        tovisit = {roads.pop()}\n",
    "        new = set()\n",
    "        while tovisit:\n",
    "            for x, y in tovisit:\n",
    "                new |= {(x + 1, y), (x - 1, y), (x, y + 1), (x, y - 1)}\n",
    "            visted |= tovisit\n",
    "            new -= visted\n",
    "            tovisit = new & roads\n",
    "            new.clear()\n",
    "        roads -= visted\n",
    "        bunch.append(len(visted))\n",
    "    print(len(bunch), *sorted(bunch), sep=\"\\n\")"
   ]
  },
  {
   "cell_type": "markdown",
   "metadata": {},
   "source": [
    "## 예제"
   ]
  },
  {
   "cell_type": "code",
   "execution_count": 23,
   "metadata": {},
   "outputs": [],
   "source": [
    "# 백준 문제 풀이용 예제 실행 코드\n",
    "from bwj import test\n",
    "\n",
    "test_solution = test(solution)\n",
    "\n",
    "# test_solution(\"\"\"\"\"\")\n",
    "# test_solution(read(\"fn\").read())"
   ]
  },
  {
   "cell_type": "code",
   "execution_count": 24,
   "metadata": {},
   "outputs": [
    {
     "name": "stdout",
     "output_type": "stream",
     "text": [
      "3\n",
      "7\n",
      "8\n",
      "9\n"
     ]
    }
   ],
   "source": [
    "test_solution(\n",
    "    \"\"\"7\n",
    "0110100\n",
    "0110101\n",
    "1110101\n",
    "0000111\n",
    "0100000\n",
    "0111110\n",
    "0111000\"\"\"\n",
    ")\n",
    "# answer:\n",
    "# 3\n",
    "# 7\n",
    "# 8\n",
    "# 9"
   ]
  }
 ],
 "metadata": {
  "interpreter": {
   "hash": "73891b0dc2e53390f36276e59930dd4ecab91b05b5c90320c2d5b1c443f87069"
  },
  "kernelspec": {
   "display_name": "Python 3.10.1 ('venv': venv)",
   "language": "python",
   "name": "python3"
  },
  "language_info": {
   "codemirror_mode": {
    "name": "ipython",
    "version": 3
   },
   "file_extension": ".py",
   "mimetype": "text/x-python",
   "name": "python",
   "nbconvert_exporter": "python",
   "pygments_lexer": "ipython3",
   "version": "3.10.2"
  },
  "orig_nbformat": 4
 },
 "nbformat": 4,
 "nbformat_minor": 2
}
