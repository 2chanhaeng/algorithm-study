{
    "cells": [
        {
            "cell_type": "markdown",
            "metadata": {},
            "source": [
                "# [백준/알고리즘 수업 - 너비 우선 탐색 1](https://www.acmicpc.net/problem/24444)\n"
            ]
        },
        {
            "cell_type": "markdown",
            "metadata": {},
            "source": [
                "## 풀이과정\n"
            ]
        },
        {
            "cell_type": "markdown",
            "metadata": {},
            "source": [
                "### 첫번째 시도\n"
            ]
        },
        {
            "cell_type": "markdown",
            "metadata": {},
            "source": [
                "#### 풀이과정\n"
            ]
        },
        {
            "cell_type": "code",
            "execution_count": null,
            "metadata": {},
            "outputs": [],
            "source": [
                "def bfs(graph, start):\n",
                "    queue = [start]\n",
                "    indices = {}\n",
                "    index = 1\n",
                "    for node in iter(queue):\n",
                "        if node not in indices:\n",
                "            indices[node] = index\n",
                "            index += 1\n",
                "            queue.extend(sorted(graph.pop(node)))\n",
                "    return indices\n",
                "\n",
                "\n",
                "def solution():\n",
                "    import sys\n",
                "\n",
                "    input = lambda: map(int, sys.stdin.readline().split())\n",
                "    nodes, edges, start = input()\n",
                "    graph = {i: [] for i in range(1, nodes + 1)}\n",
                "    for _ in range(edges):\n",
                "        u, v = input()\n",
                "        graph[u].append(v)\n",
                "        graph[v].append(u)\n",
                "    indices = bfs(graph, start)\n",
                "    print(\" \".join(str(indices.get(i, 0)) for i in range(1, nodes + 1)))\n",
                "\n",
                "\n",
                "solution()"
            ]
        },
        {
            "cell_type": "markdown",
            "metadata": {},
            "source": [
                "## 해답\n"
            ]
        },
        {
            "cell_type": "code",
            "execution_count": 1,
            "metadata": {},
            "outputs": [],
            "source": [
                "def bfs(graph, start):\n",
                "    queue = [start]\n",
                "    indices = {}\n",
                "    index = 1\n",
                "    for node in iter(queue):\n",
                "        if node not in indices:\n",
                "            indices[node] = index\n",
                "            index += 1\n",
                "            queue.extend(sorted(graph.pop(node)))\n",
                "    return indices"
            ]
        },
        {
            "cell_type": "code",
            "execution_count": 2,
            "metadata": {},
            "outputs": [],
            "source": [
                "def solution():\n",
                "    import sys\n",
                "\n",
                "    input = lambda: map(int, sys.stdin.readline().split())\n",
                "    nodes, edges, start = input()\n",
                "    graph = {i: [] for i in range(1, nodes + 1)}\n",
                "    for _ in range(edges):\n",
                "        u, v = input()\n",
                "        graph[u].append(v)\n",
                "        graph[v].append(u)\n",
                "    indices = bfs(graph, start)\n",
                "    print(\" \".join(str(indices.get(i, 0)) for i in range(1, nodes + 1)))"
            ]
        },
        {
            "cell_type": "markdown",
            "metadata": {},
            "source": [
                "## 예제\n"
            ]
        },
        {
            "cell_type": "code",
            "execution_count": 3,
            "metadata": {},
            "outputs": [],
            "source": [
                "# 백준 문제 풀이용 예제 실행 코드\n",
                "from bwj import test\n",
                "\n",
                "test_solution = test(solution)\n",
                "\n",
                "# test_solution(\"\"\"\"\"\")\n",
                "# test_solution(read(\"fn\").read())"
            ]
        },
        {
            "cell_type": "code",
            "execution_count": 4,
            "metadata": {},
            "outputs": [
                {
                    "name": "stdout",
                    "output_type": "stream",
                    "text": [
                        "1 2 4 3 0\n"
                    ]
                }
            ],
            "source": [
                "test_solution(\n",
                "    \"\"\"5 5 1\n",
                "1 4\n",
                "1 2\n",
                "2 3\n",
                "2 4\n",
                "3 4\n",
                "\"\"\"\n",
                ")\n",
                "# answer:\n",
                "# 1\n",
                "# 2\n",
                "# 4\n",
                "# 3\n",
                "# 0"
            ]
        }
    ],
    "metadata": {
        "interpreter": {
            "hash": "73891b0dc2e53390f36276e59930dd4ecab91b05b5c90320c2d5b1c443f87069"
        },
        "kernelspec": {
            "display_name": "Python 3.10.1 ('venv': venv)",
            "language": "python",
            "name": "python3"
        },
        "language_info": {
            "codemirror_mode": {
                "name": "ipython",
                "version": 3
            },
            "file_extension": ".py",
            "mimetype": "text/x-python",
            "name": "python",
            "nbconvert_exporter": "python",
            "pygments_lexer": "ipython3",
            "version": "3.12.3"
        },
        "orig_nbformat": 4
    },
    "nbformat": 4,
    "nbformat_minor": 2
}
