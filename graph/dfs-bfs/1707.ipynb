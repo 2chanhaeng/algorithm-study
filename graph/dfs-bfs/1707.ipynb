{
    "cells": [
        {
            "cell_type": "markdown",
            "metadata": {},
            "source": [
                "# [백준/이분 그래프](https://www.acmicpc.net/problem/1707)\n"
            ]
        },
        {
            "cell_type": "markdown",
            "metadata": {},
            "source": [
                "## 풀이과정\n"
            ]
        },
        {
            "cell_type": "markdown",
            "metadata": {},
            "source": [
                "### 첫번째 시도\n"
            ]
        },
        {
            "cell_type": "markdown",
            "metadata": {},
            "source": [
                "#### 풀이과정\n"
            ]
        },
        {
            "cell_type": "code",
            "execution_count": null,
            "metadata": {},
            "outputs": [],
            "source": [
                "import io, os\n",
                "from collections import deque as dq, defaultdict as dd\n",
                "\n",
                "\n",
                "def solve(gragh: dict[int, list[int]]):\n",
                "    tovisit: dq[int] = dq()\n",
                "    visited = {}\n",
                "    now = False\n",
                "    while gragh:\n",
                "        if tovisit:\n",
                "            curr = tovisit.popleft()\n",
                "            now = visited[curr]\n",
                "        else:\n",
                "            curr = list(gragh.keys()).pop()\n",
                "            visited.__setitem__(curr, now)\n",
                "            visited[curr] = now\n",
                "        for n in gragh.pop(curr):\n",
                "            if n not in visited:\n",
                "                visited[n] = not now\n",
                "                tovisit.append(n)\n",
                "            elif visited.get(n) == now:\n",
                "                return False\n",
                "    return True\n",
                "\n",
                "\n",
                "def solution():\n",
                "    input = io.BytesIO(os.read(0, os.fstat(0).st_size)).readline\n",
                "    solved = []\n",
                "    for _ in range(int(input())):\n",
                "        _, e = map(int, input().split())\n",
                "        graph = dd(list)\n",
                "        for _ in range(e):\n",
                "            a, b = map(int, input().split())\n",
                "            graph[a].append(b)\n",
                "            graph[b].append(a)\n",
                "        solved.append(solve(graph))\n",
                "    print(\"\\n\".join(\"YES\" if s else \"NO\" for s in solved))\n",
                "\n",
                "\n",
                "solution()"
            ]
        },
        {
            "cell_type": "markdown",
            "metadata": {},
            "source": [
                "![2023년 10월 21일 21시 기준 1707번 맞힌 사람 (Python) 492ms로 1위](<../../img/Screenshot%202023-10-21%20at%2021-45-56%201707번%20맞힌%20사람%20(Python)%20-%201%20페이지.png>)\n"
            ]
        },
        {
            "cell_type": "markdown",
            "metadata": {},
            "source": [
                "## 해답\n"
            ]
        },
        {
            "cell_type": "code",
            "execution_count": 1,
            "metadata": {},
            "outputs": [],
            "source": [
                "from collections import deque as dq, defaultdict as dd"
            ]
        },
        {
            "cell_type": "code",
            "execution_count": 2,
            "metadata": {},
            "outputs": [
                {
                    "data": {
                        "text/plain": [
                            "True"
                        ]
                    },
                    "execution_count": 2,
                    "metadata": {},
                    "output_type": "execute_result"
                }
            ],
            "source": [
                "def solve(gragh: dict[int, list[int]]):\n",
                "    tovisit: dq[int] = dq()\n",
                "    visited = {}\n",
                "    now = False\n",
                "    while gragh:\n",
                "        if tovisit:\n",
                "            curr = tovisit.popleft()\n",
                "            now = visited[curr]\n",
                "        else:\n",
                "            curr = list(gragh.keys()).pop()\n",
                "            visited[curr] = now\n",
                "        nexts = gragh.pop(curr)\n",
                "        for n in nexts:\n",
                "            if n not in visited:\n",
                "                visited[n] = not now\n",
                "                tovisit.append(n)\n",
                "            if visited.get(n) == now:\n",
                "                return False\n",
                "    return True\n",
                "\n",
                "\n",
                "solve({2: [4], 3: [5], 4: [2, 5], 5: [3, 4]})  # True"
            ]
        },
        {
            "cell_type": "code",
            "execution_count": 3,
            "metadata": {},
            "outputs": [],
            "source": [
                "def solution():\n",
                "    import sys\n",
                "\n",
                "    input = sys.stdin.readline\n",
                "    solved = []\n",
                "    for _ in range(int(input())):\n",
                "        _, e = map(int, input().split())\n",
                "        graph = dd(list)\n",
                "        for _ in range(e):\n",
                "            a, b = map(int, input().split())\n",
                "            graph[a].append(b)\n",
                "            graph[b].append(a)\n",
                "        solved.append(solve(graph))\n",
                "    # print(\"\\n\".join(\"YES\" if s else \"NO\" for s in solved))"
            ]
        },
        {
            "cell_type": "markdown",
            "metadata": {},
            "source": [
                "## 예제\n"
            ]
        },
        {
            "cell_type": "code",
            "execution_count": 4,
            "metadata": {},
            "outputs": [],
            "source": [
                "# black 모듈을 jupyter notebook 내에서 사용 가능하게 만들어주는 blackcellmagic 모듈 불러오기\n",
                "# %%black\n",
                "\n",
                "# 백준 문제 풀이용 예제 실행 코드\n",
                "from bwj import test\n",
                "\n",
                "test_solution = test(solution)\n",
                "\n",
                "# test_solution(\"\"\"\"\"\")\n",
                "# test_solution(read(\"fn\").read())"
            ]
        },
        {
            "cell_type": "code",
            "execution_count": 5,
            "metadata": {},
            "outputs": [],
            "source": [
                "tc: list[list[tuple[int, int]]] = [\n",
                "    [\n",
                "        (1, 2),\n",
                "        (3, 4),\n",
                "        (3, 5),\n",
                "        (4, 5),\n",
                "        # NO\n",
                "    ],\n",
                "    [\n",
                "        (2, 4),\n",
                "        (3, 5),\n",
                "        (4, 5),\n",
                "    ],\n",
                "]\n",
                "ve = lambda x: f\"{max(set().union(*x))} {len(x)}\\n\"\n",
                "str_tc = \"\\n\".join(ve(t) + \"\\n\".join(f\"{i} {j}\" for i, j in t) for t in tc)\n",
                "test_solution(f\"{len(tc)}\\n{str_tc}\")"
            ]
        },
        {
            "cell_type": "code",
            "execution_count": 6,
            "metadata": {},
            "outputs": [
                {
                    "data": {
                        "text/plain": [
                            "6"
                        ]
                    },
                    "execution_count": 6,
                    "metadata": {},
                    "output_type": "execute_result"
                }
            ],
            "source": [
                "node = lambda x: max(set().union(*x))\n",
                "node([(1, 2), (4, 5), (5, 6)])"
            ]
        },
        {
            "cell_type": "code",
            "execution_count": 7,
            "metadata": {},
            "outputs": [],
            "source": [
                "test_solution(\n",
                "    \"\"\"2\n",
                "3 2\n",
                "1 3\n",
                "2 3\n",
                "4 4\n",
                "1 2\n",
                "2 3\n",
                "3 4\n",
                "4 2\n",
                "\"\"\"\n",
                ")\n",
                "# answer:\n",
                "# YES\n",
                "# NO"
            ]
        }
    ],
    "metadata": {
        "interpreter": {
            "hash": "73891b0dc2e53390f36276e59930dd4ecab91b05b5c90320c2d5b1c443f87069"
        },
        "kernelspec": {
            "display_name": "Python 3.10.1 ('venv': venv)",
            "language": "python",
            "name": "python3"
        },
        "language_info": {
            "codemirror_mode": {
                "name": "ipython",
                "version": 3
            },
            "file_extension": ".py",
            "mimetype": "text/x-python",
            "name": "python",
            "nbconvert_exporter": "python",
            "pygments_lexer": "ipython3",
            "version": "3.11.6"
        },
        "orig_nbformat": 4
    },
    "nbformat": 4,
    "nbformat_minor": 2
}
