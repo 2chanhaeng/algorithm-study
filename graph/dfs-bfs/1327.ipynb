{
    "cells": [
        {
            "cell_type": "markdown",
            "metadata": {},
            "source": [
                "# [백준/소트 게임](https://www.acmicpc.net/problem/1327)\n"
            ]
        },
        {
            "cell_type": "markdown",
            "metadata": {},
            "source": [
                "## 풀이과정\n"
            ]
        },
        {
            "cell_type": "markdown",
            "metadata": {},
            "source": [
                "### 첫번째 시도\n"
            ]
        },
        {
            "cell_type": "markdown",
            "metadata": {},
            "source": [
                "#### 풀이과정\n"
            ]
        },
        {
            "cell_type": "code",
            "execution_count": 15,
            "metadata": {},
            "outputs": [],
            "source": [
                "def solution():\n",
                "    from collections import deque\n",
                "    \n",
                "    a, b = open(0)\n",
                "    n, k = map(int, a.split())\n",
                "    inputs = \"\".join(b.split())\n",
                "    visited = {inputs}\n",
                "    tovisit: deque[tuple[str, int]] = deque([(inputs, 0)])\n",
                "    target = \"\".join(sorted(inputs))\n",
                "    rev = lambda i: slice(i - n + k - 1, i - 1 - n, -1)\n",
                "\n",
                "    while tovisit:\n",
                "        curr, count = tovisit.popleft()\n",
                "        if curr == target:\n",
                "            print(count)\n",
                "            return\n",
                "        for i in range(n - k + 1):\n",
                "            if (x := curr[:i] + curr[rev(i)] + curr[i + k :]) not in visited:\n",
                "                tovisit.append((x, count + 1))\n",
                "                visited.add(x)\n",
                "\n",
                "    print(-1)\n",
                "\n",
                "\n",
                "solution()"
            ]
        },
        {
            "cell_type": "markdown",
            "metadata": {},
            "source": [
                "## 해답\n"
            ]
        },
        {
            "cell_type": "code",
            "execution_count": 1,
            "metadata": {
                "notebookRunGroups": {
                    "groupValue": "1"
                }
            },
            "outputs": [],
            "source": [
                "def solution():\n",
                "    import sys\n",
                "    from collections import deque\n",
                "\n",
                "    n, k = map(int, sys.stdin.readline().split())\n",
                "    inputs = \"\".join(sys.stdin.readline().split())\n",
                "    visited = {inputs}\n",
                "    tovisit: deque[tuple[str, int]] = deque([(inputs, 0)])\n",
                "    target = \"\".join(sorted(inputs))\n",
                "    rev = lambda i: slice(i - n + k - 1, i - 1 - n, -1)\n",
                "\n",
                "    while tovisit:\n",
                "        curr, count = tovisit.popleft()\n",
                "        if curr == target:\n",
                "            print(count)\n",
                "            return\n",
                "        for i in range(n - k + 1):\n",
                "            if (x := curr[:i] + curr[rev(i)] + curr[i + k :]) not in visited:\n",
                "                tovisit.append((x, count + 1))\n",
                "                visited.add(x)\n",
                "\n",
                "    print(-1)"
            ]
        },
        {
            "cell_type": "markdown",
            "metadata": {},
            "source": [
                "## 예제\n"
            ]
        },
        {
            "cell_type": "code",
            "execution_count": 2,
            "metadata": {
                "notebookRunGroups": {
                    "groupValue": "1"
                }
            },
            "outputs": [],
            "source": [
                "# black 모듈을 jupyter notebook 내에서 사용 가능하게 만들어주는 blackcellmagic 모듈 불러오기\n",
                "%load_ext blackcellmagic\n",
                "# %%black\n",
                "\n",
                "# 백준 문제 풀이용 예제 실행 코드\n",
                "from bwj import test\n",
                "test_solution = test(solution)\n",
                "\n",
                "# test_solution(\"\"\"\"\"\")\n",
                "# test_solution(read(\"fn\").read())"
            ]
        },
        {
            "cell_type": "code",
            "execution_count": 3,
            "metadata": {
                "notebookRunGroups": {
                    "groupValue": "1"
                }
            },
            "outputs": [
                {
                    "name": "stdout",
                    "output_type": "stream",
                    "text": [
                        "1\n"
                    ]
                }
            ],
            "source": [
                "test_solution(\"\"\"3 3\n",
                "3 2 1\n",
                "\"\"\") # 1"
            ]
        },
        {
            "cell_type": "code",
            "execution_count": 4,
            "metadata": {},
            "outputs": [
                {
                    "name": "stdout",
                    "output_type": "stream",
                    "text": [
                        "0\n"
                    ]
                }
            ],
            "source": [
                "test_solution(\"\"\"3 3\n",
                "1 2 3\n",
                "\"\"\") # 0"
            ]
        },
        {
            "cell_type": "code",
            "execution_count": 5,
            "metadata": {},
            "outputs": [
                {
                    "name": "stdout",
                    "output_type": "stream",
                    "text": [
                        "10\n"
                    ]
                }
            ],
            "source": [
                "test_solution(\"\"\"5 2\n",
                "5 4 3 2 1\n",
                "\"\"\") # 10"
            ]
        },
        {
            "cell_type": "code",
            "execution_count": 6,
            "metadata": {},
            "outputs": [
                {
                    "name": "stdout",
                    "output_type": "stream",
                    "text": [
                        "-1\n"
                    ]
                }
            ],
            "source": [
                "test_solution(\"\"\"5 4\n",
                "3 2 4 1 5\n",
                "\"\"\") # -1"
            ]
        },
        {
            "cell_type": "code",
            "execution_count": 7,
            "metadata": {},
            "outputs": [
                {
                    "name": "stdout",
                    "output_type": "stream",
                    "text": [
                        "7\n"
                    ]
                }
            ],
            "source": [
                "test_solution(\"\"\"8 4\n",
                "7 2 1 6 8 4 3 5\n",
                "\"\"\") # 7"
            ]
        }
    ],
    "metadata": {
        "interpreter": {
            "hash": "73891b0dc2e53390f36276e59930dd4ecab91b05b5c90320c2d5b1c443f87069"
        },
        "kernelspec": {
            "display_name": "Python 3.10.1 ('venv': venv)",
            "language": "python",
            "name": "python3"
        },
        "language_info": {
            "codemirror_mode": {
                "name": "ipython",
                "version": 3
            },
            "file_extension": ".py",
            "mimetype": "text/x-python",
            "name": "python",
            "nbconvert_exporter": "python",
            "pygments_lexer": "ipython3",
            "version": "3.11.5"
        },
        "orig_nbformat": 4
    },
    "nbformat": 4,
    "nbformat_minor": 2
}
