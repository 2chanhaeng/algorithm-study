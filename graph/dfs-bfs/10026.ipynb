{
 "cells": [
  {
   "cell_type": "markdown",
   "metadata": {},
   "source": [
    "# [백준/적록색약](https://www.acmicpc.net/problem/10026)"
   ]
  },
  {
   "cell_type": "markdown",
   "metadata": {},
   "source": [
    "## 풀이과정"
   ]
  },
  {
   "cell_type": "markdown",
   "metadata": {},
   "source": [
    "### 첫번째 시도"
   ]
  },
  {
   "cell_type": "markdown",
   "metadata": {},
   "source": [
    "풀이과정"
   ]
  },
  {
   "cell_type": "code",
   "execution_count": null,
   "metadata": {},
   "outputs": [],
   "source": [
    "def solution(open=open):\n",
    "    inputs = iter(open(0).read().split())  # [:-1])\n",
    "    n = int(next(inputs))\n",
    "\n",
    "    image = {\"R\": set(), \"B\": set(), \"G\": set()}\n",
    "    for i, color in enumerate(\"\".join(inputs)):\n",
    "        image[color].add(i)\n",
    "\n",
    "    def side(i, n):\n",
    "        result = set()\n",
    "        div, mod = divmod(i, n)\n",
    "        ndiv = n * div\n",
    "        if mod > 0:\n",
    "            result.add(ndiv + mod - 1)\n",
    "        if mod < n - 1:\n",
    "            result.add(ndiv + mod + 1)\n",
    "        if div > 0:\n",
    "            result.add(ndiv - n + mod)\n",
    "        if div < n - 1:\n",
    "            result.add(ndiv + n + mod)\n",
    "        return result\n",
    "\n",
    "    def graph(area, n):\n",
    "        bunch = 0\n",
    "        while area:\n",
    "            tovisit = {area.pop()}\n",
    "            visited = set()\n",
    "            while tovisit:\n",
    "                visited |= tovisit\n",
    "                tovisit = set().union(*(side(i, n) for i in tovisit)) & area - visited\n",
    "            area -= visited\n",
    "            bunch += 1\n",
    "        return bunch\n",
    "\n",
    "    Barea = graph(image[\"B\"], n)\n",
    "    cb = Barea + graph(image[\"R\"] | image[\"G\"], n)\n",
    "    print(Barea + graph(image[\"R\"], n) + graph(image[\"G\"], n), cb)\n",
    "\n",
    "\n",
    "solution()"
   ]
  },
  {
   "cell_type": "markdown",
   "metadata": {},
   "source": [
    "## 해답"
   ]
  },
  {
   "cell_type": "code",
   "execution_count": 1,
   "metadata": {},
   "outputs": [
    {
     "data": {
      "text/plain": [
       "{7, 11, 13, 17}"
      ]
     },
     "execution_count": 1,
     "metadata": {},
     "output_type": "execute_result"
    }
   ],
   "source": [
    "def side(i, n):\n",
    "    n2 = n * n\n",
    "    result = set()\n",
    "    div, mod = divmod(i, n)\n",
    "    ndiv = n * div\n",
    "    if mod > 0:\n",
    "        result.add(ndiv + mod - 1)\n",
    "    if mod < n - 1:\n",
    "        result.add(ndiv + mod + 1)\n",
    "    if div > 0:\n",
    "        result.add(ndiv - n + mod)\n",
    "    if div < n - 1:\n",
    "        result.add(ndiv + n + mod)\n",
    "    return result\n",
    "\n",
    "\n",
    "side(12, 5)"
   ]
  },
  {
   "cell_type": "code",
   "execution_count": 25,
   "metadata": {},
   "outputs": [],
   "source": [
    "def graph(area, n):\n",
    "    bunch = 0\n",
    "    while area:\n",
    "        tovisit = {area.pop()}\n",
    "        visited = set()\n",
    "        while tovisit:\n",
    "            visited |= tovisit\n",
    "            tovisit = set().union(*(side(i, n) for i in tovisit)) & area - visited\n",
    "        area -= visited\n",
    "        bunch += 1\n",
    "    return bunch"
   ]
  },
  {
   "cell_type": "code",
   "execution_count": 32,
   "metadata": {},
   "outputs": [],
   "source": [
    "def solution(open=open):\n",
    "    inputs = iter(open(0).read().split())  # [:-1])\n",
    "    n = int(next(inputs))\n",
    "\n",
    "    image = {\"R\": set(), \"B\": set(), \"G\": set()}\n",
    "    for i, color in enumerate(\"\".join(inputs)):\n",
    "        image[color].add(i)\n",
    "\n",
    "    Barea = graph(image[\"B\"], n)\n",
    "    cb = Barea + graph(image[\"R\"] | image[\"G\"], n)\n",
    "    print(Barea + graph(image[\"R\"], n) + graph(image[\"G\"], n), cb)"
   ]
  },
  {
   "cell_type": "markdown",
   "metadata": {},
   "source": [
    "## 예제"
   ]
  },
  {
   "cell_type": "code",
   "execution_count": 33,
   "metadata": {},
   "outputs": [],
   "source": [
    "# 백준 문제 풀이용 예제 실행 코드\n",
    "from bwj import test\n",
    "\n",
    "test_solution = test(solution)\n",
    "\n",
    "# test_solution(\"\"\"\"\"\")\n",
    "# test_solution(read(\"fn\").read())"
   ]
  },
  {
   "cell_type": "code",
   "execution_count": 34,
   "metadata": {},
   "outputs": [
    {
     "name": "stdout",
     "output_type": "stream",
     "text": [
      "4 3\n"
     ]
    }
   ],
   "source": [
    "test_solution(\n",
    "    \"\"\"5\n",
    "RRRBB\n",
    "GGBBB\n",
    "BBBRR\n",
    "BBRRR\n",
    "RRRRR\n",
    "\"\"\"\n",
    ")  # 4 3"
   ]
  }
 ],
 "metadata": {
  "interpreter": {
   "hash": "73891b0dc2e53390f36276e59930dd4ecab91b05b5c90320c2d5b1c443f87069"
  },
  "kernelspec": {
   "display_name": "Python 3.10.1 ('venv': venv)",
   "language": "python",
   "name": "python3"
  },
  "language_info": {
   "codemirror_mode": {
    "name": "ipython",
    "version": 3
   },
   "file_extension": ".py",
   "mimetype": "text/x-python",
   "name": "python",
   "nbconvert_exporter": "python",
   "pygments_lexer": "ipython3",
   "version": "3.10.2"
  },
  "orig_nbformat": 4
 },
 "nbformat": 4,
 "nbformat_minor": 2
}
