{
    "cells": [
        {
            "cell_type": "markdown",
            "metadata": {},
            "source": [
                "# [백준/헌내기는 친구가 필요해](https://www.acmicpc.net/problem/21736)\n"
            ]
        },
        {
            "cell_type": "markdown",
            "metadata": {},
            "source": [
                "## 풀이과정\n"
            ]
        },
        {
            "cell_type": "markdown",
            "metadata": {},
            "source": [
                "### 첫번째 시도\n"
            ]
        },
        {
            "cell_type": "markdown",
            "metadata": {},
            "source": [
                "#### 풀이과정\n"
            ]
        },
        {
            "cell_type": "code",
            "execution_count": null,
            "metadata": {},
            "outputs": [],
            "source": [
                "dxy = ((0, 1), (0, -1), (1, 0), (-1, 0))\n",
                "\n",
                "\n",
                "def inner(n, m):\n",
                "    def near(x, y):\n",
                "        for dx, dy in dxy:\n",
                "            if 0 <= (nx := x + dx) < m and 0 <= (ny := y + dy) < n:\n",
                "                yield nx, ny\n",
                "\n",
                "    return near\n",
                "\n",
                "\n",
                "def solution():\n",
                "    import sys\n",
                "\n",
                "    n, m, *inputs = sys.stdin.read().split()\n",
                "    n, m = int(n), int(m)\n",
                "    people = set()\n",
                "    wall = set()\n",
                "    for y, line in enumerate(inputs):\n",
                "        for x, c in enumerate(line):\n",
                "            if c == \"I\":\n",
                "                i = (x, y)\n",
                "            elif c == \"P\":\n",
                "                people.add((x, y))\n",
                "            elif c == \"X\":\n",
                "                wall.add((x, y))\n",
                "    near = inner(n, m)\n",
                "    tovisit = [i]\n",
                "    visited = wall\n",
                "    answer = 0\n",
                "    while tovisit:\n",
                "        pos = tovisit.pop()\n",
                "        if pos in visited:\n",
                "            continue\n",
                "        visited.add(pos)\n",
                "        if pos in people:\n",
                "            answer += 1\n",
                "        for neigh in near(*pos):\n",
                "            if neigh not in visited:\n",
                "                tovisit.append(neigh)\n",
                "    print(answer if answer else \"TT\")\n",
                "\n",
                "\n",
                "solution()"
            ]
        },
        {
            "cell_type": "markdown",
            "metadata": {},
            "source": [
                "## 해답\n"
            ]
        },
        {
            "cell_type": "code",
            "execution_count": 1,
            "metadata": {},
            "outputs": [],
            "source": [
                "dxy = ((0, 1), (0, -1), (1, 0), (-1, 0))\n",
                "\n",
                "\n",
                "def inner(n, m):\n",
                "    def near(x, y):\n",
                "        for dx, dy in dxy:\n",
                "            if 0 <= (nx := x + dx) < m and 0 <= (ny := y + dy) < n:\n",
                "                yield nx, ny\n",
                "\n",
                "    return near"
            ]
        },
        {
            "cell_type": "code",
            "execution_count": 2,
            "metadata": {},
            "outputs": [],
            "source": [
                "def solution():\n",
                "    import sys\n",
                "\n",
                "    n, m, *inputs = sys.stdin.read().split()\n",
                "    n, m = int(n), int(m)\n",
                "    people = set()\n",
                "    wall = set()\n",
                "    for y, line in enumerate(inputs):\n",
                "        for x, c in enumerate(line):\n",
                "            if c == \"I\":\n",
                "                i = (x, y)\n",
                "            elif c == \"P\":\n",
                "                people.add((x, y))\n",
                "            elif c == \"X\":\n",
                "                wall.add((x, y))\n",
                "    near = inner(n, m)\n",
                "    tovisit = [i]\n",
                "    visited = wall\n",
                "    answer = 0\n",
                "    while tovisit:\n",
                "        pos = tovisit.pop()\n",
                "        if pos in visited:\n",
                "            continue\n",
                "        visited.add(pos)\n",
                "        if pos in people:\n",
                "            answer += 1\n",
                "        for neigh in near(*pos):\n",
                "            if neigh not in visited:\n",
                "                tovisit.append(neigh)\n",
                "    print(answer if answer else \"TT\")"
            ]
        },
        {
            "cell_type": "markdown",
            "metadata": {},
            "source": [
                "## 예제\n"
            ]
        },
        {
            "cell_type": "code",
            "execution_count": 3,
            "metadata": {},
            "outputs": [],
            "source": [
                "# 백준 문제 풀이용 예제 실행 코드\n",
                "from bwj import test\n",
                "\n",
                "test_solution = test(solution)\n",
                "\n",
                "# test_solution(\"\"\"\"\"\")\n",
                "# test_solution(read(\"fn\").read())"
            ]
        },
        {
            "cell_type": "code",
            "execution_count": 4,
            "metadata": {},
            "outputs": [
                {
                    "name": "stdout",
                    "output_type": "stream",
                    "text": [
                        "1\n"
                    ]
                }
            ],
            "source": [
                "test_solution(\n",
                "    \"\"\"3 5\n",
                "OOOPO\n",
                "OIOOX\n",
                "OOOXP\n",
                "\"\"\"\n",
                ")  # 1"
            ]
        },
        {
            "cell_type": "code",
            "execution_count": 5,
            "metadata": {},
            "outputs": [
                {
                    "name": "stdout",
                    "output_type": "stream",
                    "text": [
                        "TT\n"
                    ]
                }
            ],
            "source": [
                "test_solution(\n",
                "    \"\"\"3 3\n",
                "IOX\n",
                "OXP\n",
                "XPP\n",
                "\"\"\"\n",
                ")  # TT"
            ]
        }
    ],
    "metadata": {
        "interpreter": {
            "hash": "73891b0dc2e53390f36276e59930dd4ecab91b05b5c90320c2d5b1c443f87069"
        },
        "kernelspec": {
            "display_name": "Python 3.10.1 ('venv': venv)",
            "language": "python",
            "name": "python3"
        },
        "language_info": {
            "codemirror_mode": {
                "name": "ipython",
                "version": 3
            },
            "file_extension": ".py",
            "mimetype": "text/x-python",
            "name": "python",
            "nbconvert_exporter": "python",
            "pygments_lexer": "ipython3",
            "version": "3.11.6"
        },
        "orig_nbformat": 4
    },
    "nbformat": 4,
    "nbformat_minor": 2
}
