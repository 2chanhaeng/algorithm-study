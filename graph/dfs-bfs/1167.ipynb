{
 "cells": [
  {
   "cell_type": "markdown",
   "metadata": {},
   "source": [
    "# [백준/트리의 지름](https://www.acmicpc.net/problem/1167)\n"
   ]
  },
  {
   "cell_type": "markdown",
   "metadata": {},
   "source": [
    "## 풀이과정\n"
   ]
  },
  {
   "cell_type": "markdown",
   "metadata": {},
   "source": [
    "### 첫번째 시도\n"
   ]
  },
  {
   "cell_type": "markdown",
   "metadata": {},
   "source": [
    "#### 풀이과정\n",
    "\n",
    "플로이드 와셜 알고리즘을 이용하여 모든 노드 간의 거리를 구해보려 했으나 메모리 효율이 많이 부족하였습니다.\n"
   ]
  },
  {
   "cell_type": "code",
   "execution_count": 33,
   "metadata": {},
   "outputs": [],
   "source": [
    "def solution():\n",
    "    import sys\n",
    "\n",
    "    input = sys.stdin.readline\n",
    "    N = int(input())\n",
    "    graph = [[0] * N for _ in range(N)]\n",
    "    for _ in range(N):\n",
    "        node, *edges, _ = map(int, input().split())\n",
    "        for con, dist in zip(edges[::2], edges[1::2]):\n",
    "            graph[node - 1][con - 1] = dist\n",
    "\n",
    "    for k in range(N):\n",
    "        for i in range(N):\n",
    "            for j in range(N):\n",
    "                if i != j:\n",
    "                    new = graph[i][k] + graph[k][j]\n",
    "                    graph[i][j] = min(until, new) if (until := graph[i][j]) else new\n",
    "\n",
    "    print(max(map(max, graph)))\n",
    "\n",
    "\n",
    "solution()"
   ]
  },
  {
   "cell_type": "markdown",
   "metadata": {},
   "source": [
    "### 두번째 시도\n"
   ]
  },
  {
   "cell_type": "markdown",
   "metadata": {},
   "source": [
    "#### 풀이과정\n",
    "\n",
    "dfs를 이용하여 노드 별 가장 긴 거리만 구해보았습니다. 하지만 여전히 시간 효율성이 많이 부족하였습니다.\n"
   ]
  },
  {
   "cell_type": "code",
   "execution_count": null,
   "metadata": {},
   "outputs": [],
   "source": [
    "def solution():\n",
    "    import sys\n",
    "\n",
    "    input = sys.stdin.readline\n",
    "    N = int(input())\n",
    "    graph = [[0] * N for _ in range(N)]\n",
    "    for _ in range(N):\n",
    "        node, *edges, _ = map(int, input().split())\n",
    "        for con, dist in zip(edges[::2], edges[1::2]):\n",
    "            graph[node - 1][con - 1] = dist\n",
    "\n",
    "    for k in range(N):\n",
    "        for i in range(N):\n",
    "            for j in range(N):\n",
    "                if i != j:\n",
    "                    new = graph[i][k] + graph[k][j]\n",
    "                    graph[i][j] = min(until, new) if (until := graph[i][j]) else new\n",
    "\n",
    "    print(max(map(max, graph)))\n",
    "\n",
    "\n",
    "solution()"
   ]
  },
  {
   "cell_type": "code",
   "execution_count": 39,
   "metadata": {},
   "outputs": [],
   "source": [
    "def solution():\n",
    "    import sys\n",
    "\n",
    "    input = sys.stdin.readline\n",
    "    N = int(input())\n",
    "    graph = {i: {} for i in range(1, N + 1)}\n",
    "    for _ in range(N):\n",
    "        node, *edges, _ = map(int, input().split())\n",
    "        for con, dist in zip(edges[::2], edges[1::2]):\n",
    "            graph[node][con] = dist\n",
    "\n",
    "    def dfs(node, visited, temp):\n",
    "        if visited.issuperset(graph[node]):\n",
    "            return temp\n",
    "        visited.add(node)\n",
    "        return max(\n",
    "            dfs(con, visited, temp + dist)\n",
    "            for con, dist in graph[node].items()\n",
    "            if con not in visited\n",
    "        )\n",
    "\n",
    "    print(max(dfs(node, set(), 0) for node in graph))\n",
    "\n",
    "\n",
    "solution()"
   ]
  },
  {
   "cell_type": "markdown",
   "metadata": {},
   "source": [
    "### 세번째 시도\n"
   ]
  },
  {
   "cell_type": "markdown",
   "metadata": {},
   "source": [
    "#### 풀이과정\n",
    "\n",
    "문제 관련 게시글을 찾아보니 [효율적으로 트리의 지름을 구하는 알고리즘](https://blog.myungwoo.kr/112)이 있었습니다. 해당 알고리즘은 다음과 같습니다.\n",
    "\n",
    "1. 트리의 임의의 정점에서 가장 먼 정점을 하나 구한다.\n",
    "2. 해당 정점에서 가장 먼 정점과의 거리를 구한다. 이 거리가 트리의 지름이다.\n",
    "\n",
    "- 증명:\n",
    "  임의의 정점을 $x$, $x$에서 가장 먼 정점을 $y$, $y$에서 가장 먼 거리의 정점을 $z$라 하자. 또, 트리의 지름을 이루는 두 정점을 각각 $u, v$라 하자.\n",
    "\n",
    "  1. $x = u\\ or\\ x = v$ 인 경우\\\n",
    "     자동적으로 $y$가 나머지 하나가 되므로 자명하다.\n",
    "  2. $y = u\\ or\\ y = v$ 인 경우\\\n",
    "     자동적으로 $z$가 나머지 하나가 되므로 자명하다.\n",
    "  3. $x,y \\ne u, v$ 인 경우\\\n",
    "     두가지 경우로 나뉘게 된다.\n",
    "     > 1. $x,y$의 경로와 $u, v$의 경로가 겹치는 경우\\\n",
    "     >    $\\operatorname{d}(s,t)$를 $s$와 $t$ 사이의 거리라고 정의하자. 겹치는 경로 중의 한 정점을 $w$라 하면, $w$는 $x$에서 $y$로 가는 경로 중 하나이므로, $x$에서 가장 먼 $y$는 $w$에서도 가장 먼 점이다. 또한 $w$는 $u$에서 $v$, 혹은 반대의 경로 중 하나이므로, $u$ 혹은 $v$는 $w$에서 가장 먼 점이다. 따라서 $\\operatorname{d}(y,w) = \\max(\\operatorname{d}(u,w),\\operatorname{d}(v,w))$이다. 이 때, $\\max(\\operatorname{d}(u,y),\\operatorname{d}(v,y))= \\max(\\operatorname{d}(u,w),\\operatorname{d}(v,w)) + \\operatorname{d}(y,w) = \\max(\\operatorname{d}(u,w),\\operatorname{d}(v,w)) + \\max(\\operatorname{d}(u,w),\\operatorname{d}(v,w)) \\ge \\operatorname{d}(u, v)$이다. 하지만 $\\operatorname{d}(u, v)$는 트리의 지름이므로 $\\operatorname{d}(u, v) \\ge \\max(\\operatorname{d}(u,y),\\operatorname{d}(v,y))$다. 따라서 $\\max(\\operatorname{d}(u, y), \\operatorname{d}(v, y))$는 지름이므로, $z$의 정의에 따라 $\\operatorname{d}(y, z)$ 또한 지름이다.\n",
    "     > 2. $x,y$의 경로와 $u, v$의 경로가 겹치지 않는 경우\\\n",
    "     >    $x, y$ 경로와 $u, v$의 경로 중 거리가 가장 가까운 두 서로 다른 정점을 각각 $s, t$라고 하자. 두 점은 다르므로 $\\operatorname{d}(t, s) \\ge 0$이다. $\\operatorname{d}(x, y) = \\operatorname{d}(x, s) + \\operatorname{d}(s, y) \\ge \\max(\\operatorname{d}(x, u),\\operatorname{d}(x, v)) = \\operatorname{d}(x, s) + \\operatorname{d}(s, t) + \\max(\\operatorname{d}(t, u),\\operatorname{d}(t, v)) \\Rightarrow \\operatorname{d}(s, y) \\ge \\operatorname{d}(s, t) + \\max(\\operatorname{d}(t, u), \\operatorname{d}(t, v))$이다. $\\operatorname{d}(u, v) = \\operatorname{d}(u, t) + \\operatorname{d}(t, v) < \\operatorname{d}(u, t) + \\operatorname{d}(t, s) + \\max(\\operatorname{d}(t, u), \\operatorname{d}(t, v)) = \\operatorname{d}(u, t) + \\operatorname{d}(t, s) + \\operatorname{d}(s, y) = \\operatorname{d}(u, y) \\le \\operatorname{d}(u, v)$ 이다. 이는 분명히 모순이므로 $s, t$ 는 거리가 $0$ 즉, 동일한 점이다. 따라서 겹치는 경로가 한 점 이상 존재한다. 이는 첫번째 경우와 동일하다.\n",
    "\n",
    "  따라서 해당 알고리즘은 트리의 지름을 구할 수 있다.\n"
   ]
  },
  {
   "cell_type": "code",
   "execution_count": 65,
   "metadata": {},
   "outputs": [],
   "source": [
    "def solution():\n",
    "    import sys\n",
    "\n",
    "    input = sys.stdin.readline\n",
    "    N = int(input())\n",
    "    # 트리의 노드 간의 거리를 저장하는 딕셔너리\n",
    "    graph = {i: {} for i in range(1, N + 1)}\n",
    "    for _ in range(N):\n",
    "        node, *edges, _ = map(int, input().split())\n",
    "        for con, dist in zip(edges[::2], edges[1::2]):\n",
    "            graph[node][con] = dist\n",
    "\n",
    "    def dfs(start, visited, curr_dist):\n",
    "        # dfs 를 이용하여 시작 노드에서 최대 거리와\n",
    "        # 그 거리를 가지는 노드를 찾는 함수\n",
    "        if visited.issuperset(graph[start]):\n",
    "            # 만약 모든 노드를 방문했다면 거리와 노드를 반환\n",
    "            return [(curr_dist, start)]\n",
    "        # 시작 노드를 방문한 노드로 저장\n",
    "        visited.add(start)\n",
    "        # 최대 거리와 그 거리를 가지는 노드를 저장하는 리스트\n",
    "        max_dist, ends = curr_dist, []\n",
    "        for mid, dist in graph[start].items():\n",
    "            # 연결된 노드 중에서\n",
    "            if mid not in visited:\n",
    "                # 지나간 노드가 아니라면\n",
    "                for end_dist, end in dfs(mid, visited, curr_dist + dist):\n",
    "                    # 그 노드들과 연결된 노드 중 최대 거리를 구하여\n",
    "                    if max_dist == end_dist:\n",
    "                        # 그 노드의 거리가 최대 거리라면\n",
    "                        # 해당 노드와 거리를 저장\n",
    "                        ends.append((end_dist, end))\n",
    "                    elif max_dist < end_dist:\n",
    "                        # 노드의 거리가 최대 거리보다 크다면\n",
    "                        # 최대 거리를 그 거리로 저장하고\n",
    "                        max_dist = end_dist\n",
    "                        # 거리와 노드를 저장\n",
    "                        ends = [(end_dist, end)]\n",
    "        return ends\n",
    "\n",
    "    max_dist = 0\n",
    "    for dist, far in dfs(1, set(), 0):\n",
    "        # 시작 노드를 1로 설정하여 가장 먼 길이와 그 노드들을 구하여\n",
    "        if max_dist < (far_dist := dfs(far, set(), 0)[0][0]):\n",
    "            # 노드가 최댓값이라면 최댓값을 그 거리로 저장\n",
    "            max_dist = far_dist\n",
    "    # 최대 거리 출력\n",
    "    print(max_dist)\n",
    "\n",
    "\n",
    "solution()"
   ]
  },
  {
   "cell_type": "code",
   "execution_count": 301,
   "metadata": {},
   "outputs": [],
   "source": [
    "def solution():\n",
    "    import sys\n",
    "\n",
    "    input = sys.stdin.readline\n",
    "    N = int(input())\n",
    "    # 트리의 노드 간의 거리를 저장하는 딕셔너리\n",
    "    graph = {i: {} for i in range(1, N + 1)}\n",
    "    for _ in range(N):\n",
    "        node, *edges, _ = map(int, input().split())\n",
    "        for con, dist in zip(edges[::2], edges[1::2]):\n",
    "            graph[node][con] = dist\n",
    "\n",
    "    # dfs 를 이용하여 시작 노드에서 최대 거리와\n",
    "    # 그 거리를 가지는 노드를 찾는 재귀 함수\n",
    "    def dfs(start, curr_dist=0, prev=0):\n",
    "        if len(graph[start]) == 1 and prev:\n",
    "            # 만약 노드와 연결된 점이 부모 하나 뿐이라면\n",
    "            # 거리와 노드를 반환\n",
    "            return curr_dist, start\n",
    "        # 부모 이외에도 연결된 노드가 있다면\n",
    "        return max(\n",
    "            dfs(mid, curr_dist + dist, start)\n",
    "            for mid, dist in graph[start].items()\n",
    "            if mid != prev\n",
    "        )\n",
    "        # 부모를 제외한 연결된 노드 중\n",
    "        # 노드와 그 노드 간의 거리를 가져와서\n",
    "        # 최대 거리를 가지는 노드를 구하여\n",
    "        # 그 거리와 노드를 반환\n",
    "\n",
    "    # 임의의 노드(1)에서 시작하여\n",
    "    # 가장 먼 노드를 구한 뒤\n",
    "    # 그 노드에서 가장 먼 노드와의 거리를 출력\n",
    "    print(dfs(dfs(1)[1])[0])\n",
    "\n",
    "\n",
    "solution()"
   ]
  },
  {
   "cell_type": "code",
   "execution_count": 28,
   "metadata": {},
   "outputs": [],
   "source": [
    "def solution():\n",
    "    import sys\n",
    "\n",
    "    input = sys.stdin.readline\n",
    "    N = int(input())\n",
    "    graph = {i: {} for i in range(1, N + 1)}\n",
    "    for _ in range(N):\n",
    "        node, *edges, _ = map(int, input().split())\n",
    "        for con, dist in zip(edges[::2], edges[1::2]):\n",
    "            graph[node][con] = dist\n",
    "\n",
    "    def dfs(start, curr_dist=0, prev=0):\n",
    "        if len(graph[start]) == 1 and prev:\n",
    "            return curr_dist, start\n",
    "        return max(\n",
    "            dfs(mid, curr_dist + dist, start)\n",
    "            for mid, dist in graph[start].items()\n",
    "            if mid != prev\n",
    "        )\n",
    "\n",
    "    print(dfs(dfs(1)[1])[0])\n",
    "\n",
    "\n",
    "solution()"
   ]
  },
  {
   "cell_type": "markdown",
   "metadata": {},
   "source": [
    "### 네번째 시도\n"
   ]
  },
  {
   "cell_type": "markdown",
   "metadata": {},
   "source": [
    "#### 풀이과정\n",
    "\n",
    "기존 풀이에서 재귀를 사용했더니 이를 저격하는 TC가 추가되어 재귀 에러가 발생했습니다. 이를 해결하기 위해 재귀 대신 값을 저장해두는 방식으로 변경하였습니다.\n"
   ]
  },
  {
   "cell_type": "code",
   "execution_count": null,
   "metadata": {},
   "outputs": [],
   "source": [
    "def max_index(arr: list[int]):\n",
    "    return max(range(len(arr)), key=arr.__getitem__)\n",
    "\n",
    "\n",
    "def dfs_from(graph: dict[int, dict[int, int]]):\n",
    "    N = len(graph)\n",
    "\n",
    "    def dfs(init: int) -> list[int]:\n",
    "        distance = [-1] * (N + 1)\n",
    "        distance[init] = 0\n",
    "        tovisit = [init]\n",
    "        visited = set()\n",
    "        while tovisit:\n",
    "            curr = tovisit.pop()\n",
    "            visited.add(curr)\n",
    "            for mid, dist in graph[curr].items():\n",
    "                if mid in visited:\n",
    "                    continue\n",
    "                distance[mid] = distance[curr] + dist\n",
    "                tovisit.append(mid)\n",
    "        return distance\n",
    "\n",
    "    return dfs\n",
    "\n",
    "\n",
    "def solution():\n",
    "    import sys\n",
    "\n",
    "    input = sys.stdin.readline\n",
    "    N = int(input())\n",
    "    graph = {i: {} for i in range(1, N + 1)}\n",
    "    for _ in range(N):\n",
    "        node, *edges, _ = map(int, input().split())\n",
    "        for con, dist in zip(edges[::2], edges[1::2]):\n",
    "            graph[node][con] = dist\n",
    "    dfs = dfs_from(graph)\n",
    "\n",
    "    print(max(dfs(max_index(dfs(1)))))\n",
    "\n",
    "\n",
    "solution()"
   ]
  },
  {
   "cell_type": "markdown",
   "metadata": {},
   "source": [
    "#### 숏코드\n"
   ]
  },
  {
   "cell_type": "code",
   "execution_count": null,
   "metadata": {},
   "outputs": [],
   "source": [
    "Q = input\n",
    "N = int(Q())\n",
    "Z = {i + 1: {} for i in range(N)}\n",
    "for () in [()] * N:\n",
    "    U, *K, _ = map(int, Q().split())\n",
    "    for C, O in zip(K[::2], K[1::2]):\n",
    "        Z[U][C] = O\n",
    "Q = lambda C, R=0, P=0: (\n",
    "    (R, C)\n",
    "    if (len(Z[C]) == 1) * P\n",
    "    else max(Q(M, R + T, C) for M, T in Z[C].items() if M - P)\n",
    ")\n",
    "print(Q(Q(1)[1])[0])"
   ]
  },
  {
   "cell_type": "markdown",
   "metadata": {},
   "source": [
    "<img alt=\"2022년 6월 17일 17시 기준 1167번 숏코드 246바이트로 1위\" src=\"../../img/Screenshot 2022-06-17 at 17-20-18 1167번 숏코딩 - 1 페이지.png\"/>\n"
   ]
  },
  {
   "cell_type": "markdown",
   "metadata": {},
   "source": [
    "## 해답\n"
   ]
  },
  {
   "cell_type": "code",
   "execution_count": 14,
   "metadata": {},
   "outputs": [],
   "source": [
    "def max_index(arr: list[int]):\n",
    "    return max(range(len(arr)), key=arr.__getitem__)"
   ]
  },
  {
   "cell_type": "code",
   "execution_count": 19,
   "metadata": {},
   "outputs": [],
   "source": [
    "def dfs_from(graph: dict[int, dict[int, int]]):\n",
    "    N = len(graph)\n",
    "\n",
    "    def dfs(init: int) -> list[int]:\n",
    "        distance = [-1] * (N + 1)\n",
    "        distance[init] = 0\n",
    "        tovisit = [init]\n",
    "        visited = set()\n",
    "        while tovisit:\n",
    "            curr = tovisit.pop()\n",
    "            visited.add(curr)\n",
    "            for mid, dist in graph[curr].items():\n",
    "                if mid in visited:\n",
    "                    continue\n",
    "                distance[mid] = distance[curr] + dist\n",
    "                tovisit.append(mid)\n",
    "        return distance\n",
    "\n",
    "    return dfs"
   ]
  },
  {
   "cell_type": "code",
   "execution_count": 20,
   "metadata": {},
   "outputs": [],
   "source": [
    "def solution():\n",
    "    import sys\n",
    "\n",
    "    input = sys.stdin.readline\n",
    "    N = int(input())\n",
    "    graph = {i: {} for i in range(1, N + 1)}\n",
    "    for _ in range(N):\n",
    "        node, *edges, _ = map(int, input().split())\n",
    "        for con, dist in zip(edges[::2], edges[1::2]):\n",
    "            graph[node][con] = dist\n",
    "    dfs = dfs_from(graph)\n",
    "\n",
    "    print(max(dfs(max_index(dfs(1)))))"
   ]
  },
  {
   "cell_type": "markdown",
   "metadata": {},
   "source": [
    "## 예제\n"
   ]
  },
  {
   "cell_type": "code",
   "execution_count": 21,
   "metadata": {},
   "outputs": [],
   "source": [
    "# 백준 문제 풀이용 예제 실행 코드\n",
    "from bwj import test\n",
    "\n",
    "test_solution = test(solution)\n",
    "\n",
    "# test_solution(\"\"\"\"\"\")\n",
    "# test_solution(read(\"fn\").read())"
   ]
  },
  {
   "cell_type": "code",
   "execution_count": 22,
   "metadata": {},
   "outputs": [
    {
     "name": "stdout",
     "output_type": "stream",
     "text": [
      "17\n"
     ]
    }
   ],
   "source": [
    "test_solution(\n",
    "    \"\"\"5\n",
    "1 2 7 3 2 5 10 -1\n",
    "2 1 7 -1\n",
    "3 1 2 4 3 -1\n",
    "4 3 3 -1\n",
    "5 1 10 -1\"\"\"\n",
    ")  # 17"
   ]
  },
  {
   "cell_type": "code",
   "execution_count": 23,
   "metadata": {},
   "outputs": [
    {
     "name": "stdout",
     "output_type": "stream",
     "text": [
      "12\n"
     ]
    }
   ],
   "source": [
    "test_solution(\n",
    "    \"\"\"4\n",
    "1 2 7 3 2 -1\n",
    "2 1 7 -1\n",
    "3 1 2 4 3 -1\n",
    "4 3 3 -1\"\"\"\n",
    ")  # 12"
   ]
  },
  {
   "cell_type": "code",
   "execution_count": 24,
   "metadata": {},
   "outputs": [
    {
     "name": "stdout",
     "output_type": "stream",
     "text": [
      "20\n"
     ]
    }
   ],
   "source": [
    "test_solution(\n",
    "    \"\"\"6\n",
    "1 2 3 -1\n",
    "2 1 3 5 3 3 5 -1\n",
    "3 2 5 4 7 -1\n",
    "4 3 7 -1\n",
    "5 2 3 6 5 -1\n",
    "6 5 5 -1\"\"\"\n",
    ")  # 20"
   ]
  },
  {
   "cell_type": "code",
   "execution_count": 25,
   "metadata": {},
   "outputs": [
    {
     "name": "stdout",
     "output_type": "stream",
     "text": [
      "22\n"
     ]
    }
   ],
   "source": [
    "test_solution(\n",
    "    \"\"\"4\n",
    "1 2 5 3 9 -1\n",
    "2 1 5 -1\n",
    "3 1 9 4 8 -1\n",
    "4 3 8 -1\"\"\"\n",
    ")  # 22"
   ]
  },
  {
   "cell_type": "code",
   "execution_count": 26,
   "metadata": {},
   "outputs": [
    {
     "name": "stdout",
     "output_type": "stream",
     "text": [
      "31\n"
     ]
    }
   ],
   "source": [
    "test_solution(\n",
    "    \"\"\"5\n",
    "1 5 1 -1\n",
    "5 1 1 4 10 -1\n",
    "4 3 10 5 10 -1\n",
    "3 2 10 4 10 -1\n",
    "2 3 10 -1\"\"\"\n",
    ")  # 31"
   ]
  },
  {
   "cell_type": "code",
   "execution_count": 27,
   "metadata": {},
   "outputs": [
    {
     "name": "stdout",
     "output_type": "stream",
     "text": [
      "11\n"
     ]
    }
   ],
   "source": [
    "test_solution(\n",
    "    \"\"\"5\n",
    "5 4 6 -1\n",
    "1 3 2 -1\n",
    "2 4 4 -1\n",
    "3 1 2 4 3 -1\n",
    "4 2 4 3 3 5 6 -1\"\"\"\n",
    ")  # 11"
   ]
  },
  {
   "cell_type": "code",
   "execution_count": 28,
   "metadata": {},
   "outputs": [
    {
     "name": "stdout",
     "output_type": "stream",
     "text": [
      "11\n"
     ]
    }
   ],
   "source": [
    "# %%timeit\n",
    "test_solution(\n",
    "    \"\"\"5\n",
    "1 3 2 -1\n",
    "2 4 4 -1\n",
    "3 1 2 4 3 -1\n",
    "4 2 4 3 3 5 6 -1\n",
    "5 4 6 -1\"\"\"\n",
    ")  # 11"
   ]
  }
 ],
 "metadata": {
  "interpreter": {
   "hash": "72904a014a9ffe38f4c58942120b599b3c5a87d06764037548e0139929c1cde3"
  },
  "kernelspec": {
   "display_name": "Python 3.10.4 ('venv': venv)",
   "language": "python",
   "name": "python3"
  },
  "language_info": {
   "codemirror_mode": {
    "name": "ipython",
    "version": 3
   },
   "file_extension": ".py",
   "mimetype": "text/x-python",
   "name": "python",
   "nbconvert_exporter": "python",
   "pygments_lexer": "ipython3",
   "version": "3.12.4"
  },
  "orig_nbformat": 4
 },
 "nbformat": 4,
 "nbformat_minor": 2
}
