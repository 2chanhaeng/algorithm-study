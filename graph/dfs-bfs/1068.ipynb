{
    "cells": [
        {
            "cell_type": "markdown",
            "metadata": {},
            "source": [
                "# [백준/트리](https://www.acmicpc.net/problem/1068)"
            ]
        },
        {
            "cell_type": "markdown",
            "metadata": {},
            "source": [
                "## 풀이과정"
            ]
        },
        {
            "cell_type": "markdown",
            "metadata": {},
            "source": [
                "### 첫번째 시도"
            ]
        },
        {
            "cell_type": "markdown",
            "metadata": {},
            "source": [
                "#### 풀이과정"
            ]
        },
        {
            "cell_type": "code",
            "execution_count": null,
            "metadata": {},
            "outputs": [],
            "source": [
                "def solution():\n",
                "    import sys\n",
                "    import collections\n",
                "\n",
                "    n, *parents, toremove = map(int, sys.stdin.read().split())\n",
                "    children = collections.defaultdict(list)\n",
                "    for i, p in enumerate(parents):\n",
                "        children[p].append(i)\n",
                "    toremove_parent = parents.pop(toremove)\n",
                "    children[toremove_parent].remove(toremove)\n",
                "    if len(children[toremove_parent]) == 0:\n",
                "        del children[toremove_parent]\n",
                "    if toremove in children:\n",
                "        del children[toremove]\n",
                "    leaves = 0\n",
                "    tovisit = collections.deque(children[-1])\n",
                "    while tovisit:\n",
                "        node = tovisit.popleft()\n",
                "        if node in children:\n",
                "            tovisit.extend(children[node])\n",
                "        else:\n",
                "            leaves += 1\n",
                "    print(leaves)\n",
                "\n",
                "\n",
                "solution()"
            ]
        },
        {
            "cell_type": "markdown",
            "metadata": {},
            "source": [
                "## 해답"
            ]
        },
        {
            "cell_type": "code",
            "execution_count": 1,
            "metadata": {},
            "outputs": [],
            "source": [
                "def solution():\n",
                "    import sys\n",
                "    import collections\n",
                "\n",
                "    n, *parents, toremove = map(int, sys.stdin.read().split())\n",
                "    children = collections.defaultdict(list)\n",
                "    for i, p in enumerate(parents):\n",
                "        children[p].append(i)\n",
                "    toremove_parent = parents.pop(toremove)\n",
                "    children[toremove_parent].remove(toremove)\n",
                "    if len(children[toremove_parent]) == 0:\n",
                "        del children[toremove_parent]\n",
                "    if toremove in children:\n",
                "        del children[toremove]\n",
                "    leaves = 0\n",
                "    tovisit = collections.deque(children[-1])\n",
                "    while tovisit:\n",
                "        node = tovisit.popleft()\n",
                "        if node in children:\n",
                "            tovisit.extend(children[node])\n",
                "        else:\n",
                "            leaves += 1\n",
                "    print(leaves)"
            ]
        },
        {
            "cell_type": "markdown",
            "metadata": {},
            "source": [
                "## 예제"
            ]
        },
        {
            "cell_type": "code",
            "execution_count": 2,
            "metadata": {},
            "outputs": [],
            "source": [
                "# black 모듈을 jupyter notebook 내에서 사용 가능하게 만들어주는 blackcellmagic 모듈 불러오기\n",
                "%load_ext blackcellmagic\n",
                "# %%black\n",
                "\n",
                "# 백준 문제 풀이용 예제 실행 코드\n",
                "from bwj import test\n",
                "test_solution = test(solution)\n",
                "\n",
                "# test_solution(\"\"\"\"\"\")\n",
                "# test_solution(read(\"fn\").read())"
            ]
        },
        {
            "cell_type": "code",
            "execution_count": 3,
            "metadata": {},
            "outputs": [
                {
                    "name": "stdout",
                    "output_type": "stream",
                    "text": [
                        "1\n",
                        "2\n"
                    ]
                }
            ],
            "source": [
                "# https://www.acmicpc.net/board/view/96949\n",
                "test_solution(\"\"\"2\n",
                "-1 0\n",
                "1\n",
                "\"\"\") # 1\n",
                "test_solution(\"\"\"9\n",
                "-1 0 0 5 2 4 4 6 6\n",
                "4\n",
                "\"\"\") # 2"
            ]
        },
        {
            "cell_type": "code",
            "execution_count": 4,
            "metadata": {},
            "outputs": [
                {
                    "name": "stdout",
                    "output_type": "stream",
                    "text": [
                        "2\n"
                    ]
                }
            ],
            "source": [
                "test_solution(\"\"\"5\n",
                "-1 0 0 1 1\n",
                "2\n",
                "\"\"\") # 2"
            ]
        },
        {
            "cell_type": "code",
            "execution_count": 5,
            "metadata": {},
            "outputs": [
                {
                    "name": "stdout",
                    "output_type": "stream",
                    "text": [
                        "1\n"
                    ]
                }
            ],
            "source": [
                "test_solution(\"\"\"5\n",
                "-1 0 0 1 1\n",
                "1\n",
                "\"\"\") # 1"
            ]
        },
        {
            "cell_type": "code",
            "execution_count": 6,
            "metadata": {},
            "outputs": [
                {
                    "name": "stdout",
                    "output_type": "stream",
                    "text": [
                        "0\n"
                    ]
                }
            ],
            "source": [
                "test_solution(\"\"\"5\n",
                "-1 0 0 1 1\n",
                "0\n",
                "\"\"\") # 0"
            ]
        },
        {
            "cell_type": "code",
            "execution_count": 7,
            "metadata": {},
            "outputs": [
                {
                    "name": "stdout",
                    "output_type": "stream",
                    "text": [
                        "2\n"
                    ]
                }
            ],
            "source": [
                "test_solution(\"\"\"9\n",
                "-1 0 0 2 2 4 4 6 6\n",
                "4\n",
                "\"\"\") # 2"
            ]
        }
    ],
    "metadata": {
        "kernelspec": {
            "display_name": "venv",
            "language": "python",
            "name": "python3"
        },
        "language_info": {
            "codemirror_mode": {
                "name": "ipython",
                "version": 3
            },
            "file_extension": ".py",
            "mimetype": "text/x-python",
            "name": "python",
            "nbconvert_exporter": "python",
            "pygments_lexer": "ipython3",
            "version": "3.11.1"
        },
        "orig_nbformat": 4,
        "vscode": {
            "interpreter": {
                "hash": "72904a014a9ffe38f4c58942120b599b3c5a87d06764037548e0139929c1cde3"
            }
        }
    },
    "nbformat": 4,
    "nbformat_minor": 2
}
