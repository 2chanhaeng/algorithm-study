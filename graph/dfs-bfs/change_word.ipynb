{
 "cells": [
  {
   "cell_type": "markdown",
   "metadata": {},
   "source": [
    "# [프로그래머스/단어 변환](https://programmers.co.kr/learn/courses/30/lessons/43163)"
   ]
  },
  {
   "cell_type": "markdown",
   "metadata": {},
   "source": [
    "## 풀이과정"
   ]
  },
  {
   "cell_type": "markdown",
   "metadata": {},
   "source": [
    "### 첫번째 시도"
   ]
  },
  {
   "cell_type": "markdown",
   "metadata": {},
   "source": [
    "먼저, 단어 별로 변환 가능한 단어를 담고 있는 딕셔너리를 만듭니다.\\\n",
    "이후, 검색할 단어가 담긴 검색 집합을 만들고, 처음으로 시작 단어가 변환 가능한 단어 집합을 지정합니다.\\\n",
    "1부터 단어 수 만큼 다음을 반복합니다.\n",
    "  1. 검색 집합에 타겟 단어가 있다면 반복 횟수를 반환하고 종료합니다.\n",
    "  2. 검색 집합을 이전 검색 집합으로 바꿉니다.\n",
    "  3. 이전 검색 집합에 있는 단어들의 변환 가능 집합을 새로운 검색 집합으로 만듭니다.\\\n",
    "  4. 검색 집합에서 이전 검색 집합을 제외합니다.\n",
    "\n",
    "추가로, 효율성을 위해서 먼저 단어를 모두 $[0,26]$ 사이의 정수를 담고 있는 튜플로 변환하여 비교하였습니다.\\\n",
    "변환 과정도 효율성을 위해서 딕셔너리를 이용하였습니다.\\\n",
    "비교를 위해 각각의 경우 테스트 결과를 써놨으니 참고하시면 됩니다."
   ]
  },
  {
   "cell_type": "markdown",
   "metadata": {},
   "source": [
    "튜플로 변환하지 않는 코드입니다."
   ]
  },
  {
   "cell_type": "code",
   "execution_count": null,
   "metadata": {},
   "outputs": [],
   "source": [
    "chr2int = {chr(i): i - 97 for i in range(97, 123)}\n",
    "# 문자를 숫자로 바꿔주기 위한 딕셔너리 입니다.\n",
    "# ord(i) - 97 을 매번 계산하기 보다는 딕셔너리에서 찾는게 더 빠르기에 이를 이용했습니다.\n",
    "def wrd2int(word):\n",
    "    return tuple(chr2int[c] for c in word)\n",
    "\n",
    "\n",
    "# chr2int 함수를 이용해서 문자열 전체를 문자 번호를 담고 있는 튜플로 변환합니다.\n",
    "# 꼭 필요한 과정은 아니지만 효율성을 위해 추가했습니다.\n",
    "# 데이터가 큰 경우(0.1ms 이상 걸린 경우) 확실히 실행시간이 줄어들었습니다.\n",
    "# 이에 대한 비교를 위해 경우에 따른 테스트 결과 또한 추가해놨습니다.\n",
    "def is_only_one_diff(a, b):\n",
    "    return 1 if sum(i != j for i, j in zip(a, b)) == 1 else 0\n",
    "\n",
    "\n",
    "# 정수만 담긴 서로 크기가 같은 두 이터러블을 비교해서 하나가 다른 경우에만 1(참)을 출력하고 이외의 경우에는 0(거짓)을 출력합니다.\n",
    "# zip으로 두 이터러블을 같은 인덱스끼리 묶고, 그 원소가 서로 같은지의 참값을 저장합니다.\n",
    "# 참값을 모두 더했을 때, 1이면 1, 그외의 경우에는 0을 출력합니다."
   ]
  },
  {
   "cell_type": "code",
   "execution_count": null,
   "metadata": {},
   "outputs": [],
   "source": [
    "def solution(begin, target, words):\n",
    "    if target not in words:\n",
    "        return 0\n",
    "    # 먼저 타겟 넘버가 바꿀 수 있는 단어에 없는 경우를 일차적으로 걸러 0을 출력합니다.\n",
    "    biple, *wiple, tiple = [wrd2int(word) for word in [begin, *words, target]]\n",
    "    # 단어들을 모두 튜플로 변환합니다.\n",
    "    word_graph = {\n",
    "        a: set(b for b in [*wiple, tiple] if is_only_one_diff(a, b))\n",
    "        for a in [biple, *wiple]\n",
    "    }\n",
    "    # is_only_one_diff 를 이용하여 단어마다 변환가능한 단어들에 대한 정보를 담은 딕셔너리입니다.\n",
    "    # 단어를 key 로, 해당 단어로 변환 가능한 단어의 집합을 value 로 갖고 있습니다.\n",
    "    # 효율성을 위해 key에는 타겟 단어, value에는 시작 단어를 넣지 않았습니다.\n",
    "    word_bunch = word_graph[biple]\n",
    "    # 타겟 단어가 있는지 검색할 집합입니다.\n",
    "    # 맨 처음으로 시작 단어로 변환 가능한 단어 집합을 넣어줍니다.\n",
    "    stop = len(word_graph) + 1\n",
    "    # 무한 루프를 피하기 위해서, 최대 변환 가능 횟수를 변환 가능 단어 크기로 지정합니다.\n",
    "    for answer in range(1, stop):\n",
    "        # 답을 1부터 최대 변환 가능 횟수로 제한하여 반복합니다.\n",
    "        if tiple in word_bunch:\n",
    "            return answer\n",
    "            # 타겟 단어를 검색 집합 중에 있으면 답을 출력합니다.\n",
    "        prev_bunch = word_bunch\n",
    "        # 검색 집합을 이전 검색 집합으로 치환합니다.\n",
    "        word_bunch = set().union(*[word_graph[prev] for prev in prev_bunch])\n",
    "        # 이전 검색 집합에 있던 단어들의 변환 가능 집합을 모두 합해서 새로운 검색 집합을 만듭니다.\n",
    "        word_bunch -= prev_bunch\n",
    "        # 효율성을 위해서 새로운 검색 집합에서 이전 검색 집합을 뺍니다.\n",
    "    return 0\n",
    "    # 변환이 불가능하면 0을 출력합니다."
   ]
  },
  {
   "cell_type": "markdown",
   "metadata": {},
   "source": [
    "## 해답"
   ]
  },
  {
   "cell_type": "code",
   "execution_count": 85,
   "metadata": {},
   "outputs": [],
   "source": [
    "chr2int = {chr(i): i - 97 for i in range(97, 123)}\n",
    "\n",
    "\n",
    "def wrd2int(word):\n",
    "    return tuple(chr2int[c] for c in word)\n",
    "\n",
    "\n",
    "def is_only_one_diff(a, b):\n",
    "    return 1 if sum(i != j for i, j in zip(a, b)) == 1 else 0\n",
    "\n",
    "\n",
    "def solution(begin, target, words):\n",
    "    if target not in words:\n",
    "        return 0\n",
    "    biple, *wiple, tiple = [wrd2int(word) for word in [begin, *words, target]]\n",
    "    word_graph = {\n",
    "        a: set(b for b in [*wiple, tiple] if is_only_one_diff(a, b))\n",
    "        for a in [biple, *wiple]\n",
    "    }\n",
    "    word_bunch = word_graph[biple]\n",
    "    stop = len(word_graph) + 1\n",
    "    for answer in range(1, stop):\n",
    "        if tiple in word_bunch:\n",
    "            return answer\n",
    "        prev_bunch = word_bunch\n",
    "        word_bunch = set().union(*[word_graph[prev] for prev in prev_bunch])\n",
    "        word_bunch -= prev_bunch\n",
    "    return 0"
   ]
  },
  {
   "cell_type": "markdown",
   "metadata": {},
   "source": [
    "## 테스트 결과"
   ]
  },
  {
   "cell_type": "markdown",
   "metadata": {},
   "source": [
    "|테스트|결과|`wrd2int` 없이|\n",
    "|---:|:---|---|\n",
    "|테스트 1 〉|통과 (0.03ms, 10.2MB)|(0.02ms, 10.2MB)|\n",
    "|테스트 2 〉|통과 (0.86ms, 10.3MB)|(1.43ms, 10.2MB)|\n",
    "|테스트 3 〉|통과 (2.66ms, 10.3MB)|(5.11ms, 10.1MB)|\n",
    "|테스트 4 〉|통과 (0.06ms, 10.2MB)|(0.05ms, 10.2MB)|\n",
    "|테스트 5 〉|통과 (0.00ms, 10.3MB)|(0.00ms, 10.2MB)|"
   ]
  },
  {
   "cell_type": "markdown",
   "metadata": {},
   "source": [
    "## 예제"
   ]
  },
  {
   "cell_type": "code",
   "execution_count": 86,
   "metadata": {},
   "outputs": [
    {
     "data": {
      "text/plain": [
       "4"
      ]
     },
     "execution_count": 86,
     "metadata": {},
     "output_type": "execute_result"
    }
   ],
   "source": [
    "solution(\"hit\", \"cog\", [\"hot\", \"dot\", \"dog\", \"lot\", \"log\", \"cog\"])"
   ]
  },
  {
   "cell_type": "code",
   "execution_count": 82,
   "metadata": {},
   "outputs": [
    {
     "data": {
      "text/plain": [
       "0"
      ]
     },
     "execution_count": 82,
     "metadata": {},
     "output_type": "execute_result"
    }
   ],
   "source": [
    "solution(\"hit\", \"cog\", [\"hot\", \"dot\", \"dog\", \"lot\", \"log\"])"
   ]
  }
 ],
 "metadata": {
  "interpreter": {
   "hash": "73891b0dc2e53390f36276e59930dd4ecab91b05b5c90320c2d5b1c443f87069"
  },
  "kernelspec": {
   "display_name": "Python 3.10.1 ('venv': venv)",
   "language": "python",
   "name": "python3"
  },
  "language_info": {
   "codemirror_mode": {
    "name": "ipython",
    "version": 3
   },
   "file_extension": ".py",
   "mimetype": "text/x-python",
   "name": "python",
   "nbconvert_exporter": "python",
   "pygments_lexer": "ipython3",
   "version": "3.10.1"
  },
  "orig_nbformat": 4
 },
 "nbformat": 4,
 "nbformat_minor": 2
}
