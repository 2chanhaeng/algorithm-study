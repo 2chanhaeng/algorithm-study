{
 "cells": [
  {
   "cell_type": "markdown",
   "metadata": {},
   "source": [
    "# [백준/DFS와 BFS](https://www.acmicpc.net/problem/1260)"
   ]
  },
  {
   "cell_type": "markdown",
   "metadata": {},
   "source": [
    "## 풀이과정"
   ]
  },
  {
   "cell_type": "markdown",
   "metadata": {},
   "source": [
    "### 첫번째 시도"
   ]
  },
  {
   "cell_type": "markdown",
   "metadata": {},
   "source": [
    "풀이과정"
   ]
  },
  {
   "cell_type": "markdown",
   "metadata": {},
   "source": [
    "set, deque 자료구조를 이용하였습니다.\\\n",
    "두 함수 모두 방문할 노드를 담은 `togo`에서 0 번 자료를 뽑아 사용하는 것까지는 동일합니다.\\\n",
    "`togo`에 더해질 `toadd`를 만들 때 BFS 함수에서는 방문했던, 즉 결과를 담아놓은 `result`와 `togo`에 속한 노드를 제외하였습니다.\\\n",
    "DFS 함수에서는 먼저 `result`만 제외한 뒤, `togo`를 지정할 때 `toadd`를 먼저 넣고, 기존의 `togo`에 있는 노드 중 `toadd`에 있지 않은 자료를 순서대로 넣었습니다.\n",
    "\n"
   ]
  },
  {
   "cell_type": "code",
   "execution_count": null,
   "metadata": {},
   "outputs": [],
   "source": [
    "from collections import deque\n",
    "\n",
    "#전처리\n",
    "nodes, lines, start = [int(_) for _ in input().split()]\n",
    "graph = {i:set() for i in range(1, nodes + 1)}\n",
    "# 노드 별 연결된 노드들의 집합을 value로 가질 딕셔너리입니다.\n",
    "for i in range(lines):\n",
    "    i, j = [int(_) for _ in input().split()]\n",
    "    graph[i].add(j)\n",
    "    graph[j].add(i)\n",
    "    # 연결관계를 입력 받으면 교차하여 매핑해줍니다.\n",
    "\n",
    "def dfs(start, graph):\n",
    "    result = [start]\n",
    "    # 시작점을 결과에 넣어줍니다.\n",
    "    togo = deque(sorted(graph[start]))\n",
    "    # 가야할 노드가 담긴 덱입니다.\n",
    "    # 시작점과 연결된 노드들을 먼저 순서대로 넣어줍니다.\n",
    "    while togo:\n",
    "        # togo 가 비어있지 않은 동안 반복합니다.\n",
    "        result.append(node := togo.popleft())\n",
    "        # togo 맨 노드를 뽑아 현 노드로 정하고, 결과에 넣습니다.\n",
    "        toadd = set(graph[node]) - set(result)\n",
    "        # 현 노드에 연결된 노드 집합에서 들렀던 노드를 제외해서 togo에 더해질 노드들을 저장합니다.\n",
    "        togo = deque(sorted(toadd)) + deque(i for i in togo if i not in toadd)\n",
    "        # 가야할 노드들을 다음과 같이 새로이 정의합니다.\n",
    "        # 먼저 새로 더해질 노드들을 순서대로 추가합니다.\n",
    "        # 이후, 이전에 togo 에 있던 노드들을 toadd 와 겹치지 않도록 추가합니다.\n",
    "    return result\n",
    "\n",
    "def bfs(start, graph):\n",
    "    result = [start]\n",
    "    # 시작점을 결과에 넣어줍니다.\n",
    "    togo = deque(sorted(graph[start]))\n",
    "    # 가야할 노드가 담긴 덱입니다.\n",
    "    # 시작점과 연결된 노드들을 먼저 순서대로 넣어줍니다.\n",
    "    while togo:\n",
    "        # togo 가 비어있지 않은 동안 반복합니다.\n",
    "        result.append(node := togo.popleft())\n",
    "        # togo 맨 노드를 뽑아 현 노드로 정하고, 결과에 넣습니다.\n",
    "        toadd = set(graph[node]) - set(result) - set(togo)\n",
    "        # 현 노드에 연결된 노드 집합 중,\n",
    "        # 들렀던 노드와 이미 togo에 있는 노드를 제외해서\n",
    "        # togo에 더해질 노드들을 저장합니다.\n",
    "        togo.extend(sorted(toadd))\n",
    "        # togo 에 더해질 노드들을 저장합니다.\n",
    "    return result\n",
    "\n",
    "print(\" \".join(map(str,dfs(start, graph))))\n",
    "print(\" \".join(map(str,bfs(start, graph))))"
   ]
  },
  {
   "cell_type": "markdown",
   "metadata": {},
   "source": [
    "이미 set 인 자료 구조를 다시 set 으로 변환하는 등, 너무 비효율적인 부분이 많은 코드였습니다.\\\n",
    "시간이 나면 손을 봐야할 것 같습니다."
   ]
  },
  {
   "cell_type": "markdown",
   "metadata": {},
   "source": [
    "## 해답"
   ]
  },
  {
   "cell_type": "code",
   "execution_count": 1,
   "metadata": {},
   "outputs": [],
   "source": [
    "from collections import deque\n",
    "\n",
    "nodes, lines, start = [int(_) for _ in input().split()]\n",
    "graph = {i:set() for i in range(1, nodes + 1)}\n",
    "for i in range(lines):\n",
    "    i, j = [int(_) for _ in input().split()]\n",
    "    graph[i].add(j)\n",
    "    graph[j].add(i)\n",
    "\n",
    "def dfs(start, graph):\n",
    "    result = [start]\n",
    "    togo = deque(sorted(graph[start]))\n",
    "    while togo:\n",
    "        result.append(node := togo.popleft())\n",
    "        toadd = set(graph[node]) - set(result)\n",
    "        togo = deque(sorted(toadd)) + deque(i for i in togo if i not in toadd)\n",
    "    return result\n",
    "\n",
    "def bfs(start, graph):\n",
    "    result = [start]\n",
    "    togo = deque(sorted(graph[start]))\n",
    "    while togo:\n",
    "        result.append(node := togo.popleft())\n",
    "        toadd = set(graph[node]) - set(result) - set(togo)\n",
    "        togo.extend(sorted(toadd))\n",
    "    return result\n",
    "\n",
    "print(\" \".join(map(str,dfs(start, graph))))\n",
    "print(\" \".join(map(str,bfs(start, graph))))"
   ]
  },
  {
   "cell_type": "markdown",
   "metadata": {},
   "source": [
    "## 테스트 결과"
   ]
  },
  {
   "cell_type": "markdown",
   "metadata": {},
   "source": [
    "|테스트|결과|\n",
    "|---:|:---|"
   ]
  },
  {
   "cell_type": "markdown",
   "metadata": {},
   "source": [
    "## 예제"
   ]
  },
  {
   "cell_type": "code",
   "execution_count": 3,
   "metadata": {},
   "outputs": [],
   "source": [
    "def preprocess_for_example(input_):\n",
    "    input_ = input_.split(\"\\n\")\n",
    "    nodes, lines, start = [int(_) for _ in input_[0].split()]\n",
    "    graph = {i:set() for i in range(1, nodes + 1)}\n",
    "    for i in range(lines):\n",
    "        i, j = [int(_) for _ in input_[i + 1].split()]\n",
    "        graph[i].add(j)\n",
    "        graph[j].add(i)\n",
    "    return start, graph"
   ]
  },
  {
   "cell_type": "code",
   "execution_count": 22,
   "metadata": {},
   "outputs": [
    {
     "name": "stdout",
     "output_type": "stream",
     "text": [
      "1\n",
      "{1: {2, 3, 4}, 2: {1, 4}, 3: {1, 4}, 4: {1, 2, 3}}\n",
      "\n",
      "[1, 2, 4, 3]\n",
      "[1, 2, 3, 4]\n"
     ]
    }
   ],
   "source": [
    "start, graph = preprocess_for_example(\"\"\"4 5 1\n",
    "1 2\n",
    "1 3\n",
    "1 4\n",
    "2 4\n",
    "3 4\"\"\")\n",
    "print(start)\n",
    "print(graph)\n",
    "print()\n",
    "print(dfs(start, graph))\n",
    "print(bfs(start, graph))"
   ]
  },
  {
   "cell_type": "code",
   "execution_count": 23,
   "metadata": {},
   "outputs": [
    {
     "name": "stdout",
     "output_type": "stream",
     "text": [
      "3\n",
      "{1: {2, 3}, 2: {1, 5}, 3: {1, 4}, 4: {3, 5}, 5: {2, 4}}\n",
      "[3, 1, 2, 5, 4]\n",
      "[3, 1, 4, 2, 5]\n"
     ]
    }
   ],
   "source": [
    "start, graph = preprocess_for_example(\"\"\"5 5 3\n",
    "5 4\n",
    "5 2\n",
    "1 2\n",
    "3 4\n",
    "3 1\"\"\")\n",
    "print(start)\n",
    "print(graph)\n",
    "print(dfs(start, graph))\n",
    "print(bfs(start, graph))"
   ]
  },
  {
   "cell_type": "code",
   "execution_count": 24,
   "metadata": {},
   "outputs": [
    {
     "name": "stdout",
     "output_type": "stream",
     "text": [
      "1000\n",
      "[1000, 999]\n",
      "[1000, 999]\n"
     ]
    }
   ],
   "source": [
    "start, graph = preprocess_for_example(\"\"\"1000 1 1000\n",
    "999 1000\"\"\")\n",
    "print(start)\n",
    "# print(graph)\n",
    "print(dfs(start, graph))\n",
    "print(bfs(start, graph))"
   ]
  }
 ],
 "metadata": {
  "interpreter": {
   "hash": "73891b0dc2e53390f36276e59930dd4ecab91b05b5c90320c2d5b1c443f87069"
  },
  "kernelspec": {
   "display_name": "Python 3.10.1 ('venv': venv)",
   "language": "python",
   "name": "python3"
  },
  "language_info": {
   "codemirror_mode": {
    "name": "ipython",
    "version": 3
   },
   "file_extension": ".py",
   "mimetype": "text/x-python",
   "name": "python",
   "nbconvert_exporter": "python",
   "pygments_lexer": "ipython3",
   "version": "3.10.1"
  },
  "orig_nbformat": 4
 },
 "nbformat": 4,
 "nbformat_minor": 2
}
