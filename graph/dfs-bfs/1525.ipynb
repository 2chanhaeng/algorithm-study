{
    "cells": [
        {
            "cell_type": "markdown",
            "metadata": {},
            "source": [
                "# [백준/퍼즐](https://www.acmicpc.net/problem/1525)"
            ]
        },
        {
            "cell_type": "markdown",
            "metadata": {},
            "source": [
                "## 풀이과정"
            ]
        },
        {
            "cell_type": "markdown",
            "metadata": {},
            "source": [
                "### 첫번째 시도"
            ]
        },
        {
            "cell_type": "markdown",
            "metadata": {},
            "source": [
                "#### 풀이과정"
            ]
        },
        {
            "cell_type": "code",
            "execution_count": null,
            "metadata": {},
            "outputs": [],
            "source": [
                "def solution():\n",
                "    import sys\n",
                "    import collections\n",
                "\n",
                "    inputs = \"\".join(sys.stdin.read().split())\n",
                "    visited = set()\n",
                "    zero, answer = \"0\", \"123456780\"\n",
                "    tovisit = collections.deque([(inputs, 0)])\n",
                "    while tovisit:\n",
                "        curr, depth = tovisit.popleft()\n",
                "        if curr not in visited:\n",
                "            if curr == answer:\n",
                "                print(depth)\n",
                "                return\n",
                "            visited.add(curr)\n",
                "            empty = curr.find(zero)\n",
                "            front, back = curr.split(zero)\n",
                "            nepth = depth + 1\n",
                "            if empty > 2:\n",
                "                tovisit.append(\n",
                "                    (front[:-3] + zero + front[-2:] + front[-3] + back, nepth)\n",
                "                )\n",
                "            if empty < 6:\n",
                "                tovisit.append((front + back[2] + back[:2] + zero + back[3:], nepth))\n",
                "            if empty % 3 > 0:\n",
                "                tovisit.append((front[:-1] + zero + front[-1] + back, nepth))\n",
                "            if empty % 3 < 2:\n",
                "                tovisit.append((front + back[0] + zero + back[1:], nepth))\n",
                "    print(-1)\n",
                "\n",
                "\n",
                "solution()"
            ]
        },
        {
            "cell_type": "markdown",
            "metadata": {},
            "source": [
                "## 해답"
            ]
        },
        {
            "cell_type": "code",
            "execution_count": 1,
            "metadata": {},
            "outputs": [],
            "source": [
                "def solution():\n",
                "    import sys\n",
                "    import collections\n",
                "\n",
                "    inputs = \"\".join(sys.stdin.read().split())\n",
                "    visited = set()\n",
                "    zero, answer = \"0\", \"123456780\"\n",
                "    tovisit = collections.deque([(inputs, 0)])\n",
                "    while tovisit:\n",
                "        curr, depth = tovisit.popleft()\n",
                "        if curr not in visited:\n",
                "            if curr == answer:\n",
                "                print(depth)\n",
                "                return\n",
                "            visited.add(curr)\n",
                "            empty = curr.find(zero)\n",
                "            front, back = curr.split(zero)\n",
                "            nepth = depth + 1\n",
                "            if empty > 2:\n",
                "                tovisit.append(\n",
                "                    (front[:-3] + zero + front[-2:] + front[-3] + back, nepth)\n",
                "                )\n",
                "            if empty < 6:\n",
                "                tovisit.append((front + back[2] + back[:2] + zero + back[3:], nepth))\n",
                "            if empty % 3 > 0:\n",
                "                tovisit.append((front[:-1] + zero + front[-1] + back, nepth))\n",
                "            if empty % 3 < 2:\n",
                "                tovisit.append((front + back[0] + zero + back[1:], nepth))\n",
                "    print(-1)"
            ]
        },
        {
            "cell_type": "markdown",
            "metadata": {},
            "source": [
                "## 예제"
            ]
        },
        {
            "cell_type": "code",
            "execution_count": 2,
            "metadata": {},
            "outputs": [],
            "source": [
                "# black 모듈을 jupyter notebook 내에서 사용 가능하게 만들어주는 blackcellmagic 모듈 불러오기\n",
                "%load_ext blackcellmagic\n",
                "# %%black\n",
                "\n",
                "# 백준 문제 풀이용 예제 실행 코드\n",
                "from bwj import test\n",
                "test_solution = test(solution)\n",
                "\n",
                "# test_solution(\"\"\"\"\"\")\n",
                "# test_solution(read(\"fn\").read())"
            ]
        },
        {
            "cell_type": "code",
            "execution_count": 3,
            "metadata": {},
            "outputs": [
                {
                    "name": "stdout",
                    "output_type": "stream",
                    "text": [
                        "3\n"
                    ]
                }
            ],
            "source": [
                "test_solution(\"\"\"1 0 3\n",
                "4 2 5\n",
                "7 8 6\n",
                "\"\"\") # 3"
            ]
        },
        {
            "cell_type": "code",
            "execution_count": 4,
            "metadata": {},
            "outputs": [
                {
                    "name": "stdout",
                    "output_type": "stream",
                    "text": [
                        "-1\n"
                    ]
                }
            ],
            "source": [
                "test_solution(\"\"\"3 6 0\n",
                "8 1 2\n",
                "7 4 5\n",
                "\"\"\") # -1"
            ]
        }
    ],
    "metadata": {
        "kernelspec": {
            "display_name": "venv",
            "language": "python",
            "name": "python3"
        },
        "language_info": {
            "codemirror_mode": {
                "name": "ipython",
                "version": 3
            },
            "file_extension": ".py",
            "mimetype": "text/x-python",
            "name": "python",
            "nbconvert_exporter": "python",
            "pygments_lexer": "ipython3",
            "version": "3.10.2"
        },
        "orig_nbformat": 4,
        "vscode": {
            "interpreter": {
                "hash": "6f343a80023390f07f657f7b7b783138624f73d36da2400954869fbeb113b94b"
            }
        }
    },
    "nbformat": 4,
    "nbformat_minor": 2
}
