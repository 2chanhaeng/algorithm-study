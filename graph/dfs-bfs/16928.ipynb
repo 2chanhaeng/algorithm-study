{
 "cells": [
  {
   "cell_type": "markdown",
   "metadata": {},
   "source": [
    "# [백준/뱀과 사다리 게임](https://www.acmicpc.net/problem/16928)"
   ]
  },
  {
   "cell_type": "markdown",
   "metadata": {},
   "source": [
    "## 풀이과정"
   ]
  },
  {
   "cell_type": "markdown",
   "metadata": {},
   "source": [
    "### 첫번째 시도"
   ]
  },
  {
   "cell_type": "markdown",
   "metadata": {},
   "source": [
    "풀이과정"
   ]
  },
  {
   "cell_type": "code",
   "execution_count": 60,
   "metadata": {},
   "outputs": [],
   "source": [
    "def dice(i):\n",
    "    return set(i + j for j in range(1, 7))\n",
    "\n",
    "\n",
    "def solution(open=open):\n",
    "    input = map(int, open(0).read().split()).__next__\n",
    "    roads = {input(): input() for _ in range(input() + input())}\n",
    "    visited = set()\n",
    "    tovisit = {1}\n",
    "    for throw in range(1, 17):\n",
    "        visited |= tovisit\n",
    "        tovisit = set().union(*map(dice, tovisit))\n",
    "        tovisit |= set(roads[i] for i in tovisit if i in roads)\n",
    "        if 100 in tovisit:\n",
    "            break\n",
    "    else:\n",
    "        throw = 17\n",
    "    print(throw)\n",
    "\n",
    "\n",
    "solution()"
   ]
  },
  {
   "cell_type": "markdown",
   "metadata": {},
   "source": [
    "### 첫번째 시도"
   ]
  },
  {
   "cell_type": "markdown",
   "metadata": {},
   "source": [
    "풀이과정"
   ]
  },
  {
   "cell_type": "code",
   "execution_count": null,
   "metadata": {},
   "outputs": [],
   "source": [
    "def dice(i):\n",
    "    return set(i + j for j in range(1, 7))\n",
    "\n",
    "\n",
    "def solution(open=open):\n",
    "    input = map(int, open(0).read().split()).__next__\n",
    "    roads = {input(): input() for _ in range(input() + input())}\n",
    "    visited = set()\n",
    "    tovisit = {1}\n",
    "    for throw in range(1, 17):\n",
    "        visited |= tovisit\n",
    "        new = set().union(*map(dice, tovisit))\n",
    "        tovisit.clear()\n",
    "        for i in new:\n",
    "            if i not in visited:\n",
    "                if i in roads:\n",
    "                    tovisit.add(roads[i])\n",
    "                else:\n",
    "                    tovisit.add(i)\n",
    "        if 100 in tovisit:\n",
    "            break\n",
    "    else:\n",
    "        throw = 17\n",
    "    print(throw)\n",
    "\n",
    "\n",
    "solution()"
   ]
  },
  {
   "cell_type": "markdown",
   "metadata": {},
   "source": [
    "## 해답"
   ]
  },
  {
   "cell_type": "code",
   "execution_count": 12,
   "metadata": {},
   "outputs": [],
   "source": [
    "def dice(i):\n",
    "    return set(i + j for j in range(1, 7))"
   ]
  },
  {
   "cell_type": "code",
   "execution_count": 119,
   "metadata": {},
   "outputs": [],
   "source": [
    "def solution(open=open):\n",
    "    input = map(int, open(0).read().split()).__next__\n",
    "    roads = {input(): input() for _ in range(input() + input())}\n",
    "    visited = set()\n",
    "    tovisit = {1}\n",
    "    for throw in range(1, 17):\n",
    "        visited |= tovisit\n",
    "        new = set().union(*map(dice, tovisit))\n",
    "        tovisit.clear()\n",
    "        for i in new:\n",
    "            if i not in visited:\n",
    "                if i in roads:\n",
    "                    tovisit.add(roads[i])\n",
    "                else:\n",
    "                    tovisit.add(i)\n",
    "        if 100 in tovisit:\n",
    "            break\n",
    "    else:\n",
    "        throw = 17\n",
    "    print(throw)"
   ]
  },
  {
   "cell_type": "markdown",
   "metadata": {},
   "source": [
    "## 예제"
   ]
  },
  {
   "cell_type": "code",
   "execution_count": 120,
   "metadata": {},
   "outputs": [],
   "source": [
    "# 백준 문제 풀이용 예제 실행 코드\n",
    "from bwj import test\n",
    "\n",
    "test_solution = test(solution)\n",
    "\n",
    "# test_solution(\"\"\"\"\"\")\n",
    "# test_solution(read(\"fn\").read())"
   ]
  },
  {
   "cell_type": "code",
   "execution_count": 121,
   "metadata": {},
   "outputs": [
    {
     "name": "stdout",
     "output_type": "stream",
     "text": [
      "4\n"
     ]
    }
   ],
   "source": [
    "test_solution(\n",
    "    \"\"\"2 1\n",
    "2 50\n",
    "51 40\n",
    "41 99\"\"\"\n",
    ")  # 3"
   ]
  },
  {
   "cell_type": "code",
   "execution_count": 122,
   "metadata": {},
   "outputs": [
    {
     "name": "stdout",
     "output_type": "stream",
     "text": [
      "2\n"
     ]
    }
   ],
   "source": [
    "test_solution(\n",
    "    \"\"\"2 1\n",
    "7 94\n",
    "8 94\n",
    "55 54\"\"\"\n",
    ")  # 2"
   ]
  },
  {
   "cell_type": "code",
   "execution_count": 123,
   "metadata": {},
   "outputs": [
    {
     "name": "stdout",
     "output_type": "stream",
     "text": [
      "3\n"
     ]
    }
   ],
   "source": [
    "test_solution(\n",
    "    \"\"\"3 7\n",
    "32 62\n",
    "42 68\n",
    "12 98\n",
    "95 13\n",
    "97 25\n",
    "93 37\n",
    "79 27\n",
    "75 19\n",
    "49 47\n",
    "67 17\"\"\"\n",
    ")  # 3"
   ]
  },
  {
   "cell_type": "code",
   "execution_count": 124,
   "metadata": {},
   "outputs": [
    {
     "name": "stdout",
     "output_type": "stream",
     "text": [
      "5\n"
     ]
    }
   ],
   "source": [
    "test_solution(\n",
    "    \"\"\"4 9\n",
    "8 52\n",
    "6 80\n",
    "26 42\n",
    "2 72\n",
    "51 19\n",
    "39 11\n",
    "37 29\n",
    "81 3\n",
    "59 5\n",
    "79 23\n",
    "53 7\n",
    "43 33\n",
    "77 21\"\"\"\n",
    ")  # 5"
   ]
  }
 ],
 "metadata": {
  "interpreter": {
   "hash": "73891b0dc2e53390f36276e59930dd4ecab91b05b5c90320c2d5b1c443f87069"
  },
  "kernelspec": {
   "display_name": "Python 3.10.1 ('venv': venv)",
   "language": "python",
   "name": "python3"
  },
  "language_info": {
   "codemirror_mode": {
    "name": "ipython",
    "version": 3
   },
   "file_extension": ".py",
   "mimetype": "text/x-python",
   "name": "python",
   "nbconvert_exporter": "python",
   "pygments_lexer": "ipython3",
   "version": "3.10.1"
  },
  "orig_nbformat": 4
 },
 "nbformat": 4,
 "nbformat_minor": 2
}
