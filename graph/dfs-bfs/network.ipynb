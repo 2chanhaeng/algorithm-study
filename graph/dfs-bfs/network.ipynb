{
 "cells": [
  {
   "cell_type": "markdown",
   "metadata": {},
   "source": [
    "# [프로그래머스/네트워크](https://programmers.co.kr/learn/courses/30/lessons/43162)"
   ]
  },
  {
   "cell_type": "markdown",
   "metadata": {},
   "source": [
    "## 풀이과정"
   ]
  },
  {
   "cell_type": "markdown",
   "metadata": {},
   "source": [
    "### 첫번째 시도"
   ]
  },
  {
   "cell_type": "markdown",
   "metadata": {},
   "source": [
    "먼저 컴퓨터 간의 연결관계를 키로 컴퓨터 번호를, 값으로 연결된 컴퓨터의 번호를 담고 있는 집합을 가진 딕셔너리로 만들었다.\\\n",
    "이후, 컴퓨터마다 연결 집합을 모두 합친 뒤, 해당 컴퓨터들의 연결 집합을 해당 집합으로 바꿨다."
   ]
  },
  {
   "cell_type": "code",
   "execution_count": 1,
   "metadata": {},
   "outputs": [],
   "source": [
    "def solution(n, computers):\n",
    "    graph = {\n",
    "        i: frozenset(k for k, l in enumerate(j) if l or computers[k][i])\n",
    "        for i, j in enumerate(computers)\n",
    "    }\n",
    "    for com, cons in graph.items():\n",
    "        bunch = frozenset().union(*[graph[i] for i in cons])\n",
    "        graph = {**graph, **{con: bunch for con in bunch}}\n",
    "    return len(set(graph.values()))"
   ]
  },
  {
   "cell_type": "markdown",
   "metadata": {},
   "source": [
    "여담으로, 문제가 몇 시간 째 풀리지 않아서, 질문을 하려고 코드에 주석을 달고 있었더니, 수정할 점이 몇 개 보여서 수정을 했다.\\\n",
    "그랬더니 웬걸, 바로 통과해버렸다...\\\n",
    "주석을 생활화 합시다."
   ]
  },
  {
   "cell_type": "markdown",
   "metadata": {},
   "source": [
    "참고로, 문제를 풀며 예제를 만들기 위해 `gra2coms(graph:dict[int,set[int]]) -> list` 라는 함수를 만들었다.\\\n",
    "용도는 내 풀이 코드 속의 graph 딕셔너리를 역으로 computers 리스트로 만들어 주는 역할이다.\\\n",
    "단순히 {0:{0,1}, 1:{1}} 같은 딕셔너리를 [[1, 1], [0, 1]] 로 바꿔준다.\\\n",
    "컴퓨터가 늘어날 때마다 채워넣어야 할 칸이 $O(n^2)$ 씩 많아지다보니 귀찮아서 만들었다.\\\n",
    "`gra2coms({i:{i, i - 3}for i in range(8)})` 처럼 컴프리헨션을 사용하면 간단하게 노드 8개, 네트워크 3개짜리 망을 만들 수 있다.\\\n",
    "코드는 바로 아래에 있다."
   ]
  },
  {
   "cell_type": "code",
   "execution_count": 2,
   "metadata": {},
   "outputs": [],
   "source": [
    "def gra2coms(graph: dict[int, set[int]]) -> list:\n",
    "    return [[int(k in j) for k in graph.keys()] for i, j in graph.items()]"
   ]
  },
  {
   "cell_type": "markdown",
   "metadata": {},
   "source": [
    "## 해답"
   ]
  },
  {
   "cell_type": "code",
   "execution_count": 3,
   "metadata": {},
   "outputs": [],
   "source": [
    "def solution(n, computers):\n",
    "    graph = {\n",
    "        i: frozenset(k for k, l in enumerate(j) if l or computers[k][i])\n",
    "        for i, j in enumerate(computers)\n",
    "    }\n",
    "    # 컴퓨터 간의 연결관계를 저장한 딕셔너리 graph 입니다.\n",
    "    # 컴퓨터 번호를 key로, 연결된 컴퓨터들의 번호를 담고 있는 집합을 value로 가지고 있습니다.\n",
    "    # frozenset을 사용한 이유는 갯수를 세기 편하게 만들기 위해서입니다.\n",
    "    # 참고로, 여기서 or 을 and 로 바꾸면 일방적인 연결은 같은 네트워크로 취급하지 않습니다.\n",
    "    for cons in graph.values():\n",
    "        # 컴퓨터 번호를 제외한 cons 는 연결 집합만 뽑아 반복합니다.\n",
    "        bunch = frozenset().union(*[graph[i] for i in cons])\n",
    "        # cons 에 있는 컴퓨터들의 연결 집합을 모두 가져와 합한 집합입니다.\n",
    "        # 따라서, 해당 합집합에 속한 컴퓨터들은 모두 연결되어 있습니다.\n",
    "        graph = {**graph, **{con: bunch for con in bunch}}\n",
    "        # 그러므로, 합집합에 속하는 모든 컴퓨터들의 연결집합을 합집합으로 바꿔줍니다.\n",
    "    return len(set(graph.values()))\n",
    "    # 연결 관계 딕셔너리의 값들을 집합으로 바꾸어 개수를 셉니다.\n",
    "    # 여기서 집합에 넣기 위해서 frozenset 을 이용했습니다.\n",
    "    # (일반적인 집합은 집합에 넣을 수 없기 때문입니다.)"
   ]
  },
  {
   "cell_type": "markdown",
   "metadata": {},
   "source": [
    "## 테스트 결과"
   ]
  },
  {
   "cell_type": "markdown",
   "metadata": {},
   "source": [
    "|테스트|결과|\n",
    "|---:|:---|\n",
    "|테스트 1 〉|통과 (0.02ms, 10.2MB)|\n",
    "|테스트 2 〉|통과 (0.02ms, 10.1MB)|\n",
    "|테스트 3 〉|통과 (0.10ms, 10.3MB)|\n",
    "|테스트 4 〉|통과 (0.09ms, 10.2MB)|\n",
    "|테스트 5 〉|통과 (0.01ms, 10.1MB)|\n",
    "|테스트 6 〉|통과 (0.72ms, 10.3MB)|\n",
    "|테스트 7 〉|통과 (0.04ms, 10.2MB)|\n",
    "|테스트 8 〉|통과 (0.45ms, 10.3MB)|\n",
    "|테스트 9 〉|통과 (0.28ms, 10.2MB)|\n",
    "|테스트 10 〉|통과 (0.44ms, 10.1MB)|\n",
    "|테스트 11 〉|통과 (3.00ms, 10.3MB)|\n",
    "|테스트 12 〉|통과 (2.16ms, 10.3MB)|\n",
    "|테스트 13 〉|통과 (0.56ms, 10.2MB)|"
   ]
  },
  {
   "cell_type": "markdown",
   "metadata": {},
   "source": [
    "처음에 코드 중간의 `for` 문에서 `graph.values()` 대신 `graph.items()`를 이용한 테스트 결과이다.\\\n",
    "시간이 줄어든 결과도 있지만, 이상하게 더 오래 걸린 결과도 있다.\\\n",
    "그래도 사용 용량은 확실히 줄어들었다.\n",
    "\n",
    "|테스트|결과|\n",
    "|---:|:---|\n",
    "|테스트 1 〉|통과 (0.03ms, 10.2MB)\n",
    "|테스트 2 〉|통과 (0.02ms, 10.3MB)\n",
    "|테스트 3 〉|통과 (0.12ms, 10.2MB)\n",
    "|테스트 4 〉|통과 (0.09ms, 10.3MB)\n",
    "|테스트 5 〉|통과 (0.01ms, 10.4MB)\n",
    "|테스트 6 〉|통과 (0.49ms, 10.2MB)\n",
    "|테스트 7 〉|통과 (0.06ms, 10.4MB)\n",
    "|테스트 8 〉|통과 (0.29ms, 10.2MB)\n",
    "|테스트 9 〉|통과 (0.31ms, 10.3MB)\n",
    "|테스트 10 〉|통과 (0.20ms, 10.3MB)\n",
    "|테스트 11 〉|통과 (1.64ms, 10.5MB)\n",
    "|테스트 12 〉|통과 (1.43ms, 10.5MB)\n",
    "|테스트 13 〉|통과 (0.91ms, 10.2MB)"
   ]
  },
  {
   "cell_type": "markdown",
   "metadata": {},
   "source": [
    "## 예제"
   ]
  },
  {
   "cell_type": "code",
   "execution_count": 4,
   "metadata": {},
   "outputs": [
    {
     "name": "stdout",
     "output_type": "stream",
     "text": [
      "[[1, 1], [0, 1]]\n"
     ]
    }
   ],
   "source": [
    "def gra2coms(graph: dict[int, set[int]]) -> list:\n",
    "    return [[int(k in j) for k in graph.keys()] for i, j in graph.items()]\n",
    "\n",
    "\n",
    "print(gra2coms({0: {0, 1}, 1: {1}}))"
   ]
  },
  {
   "cell_type": "code",
   "execution_count": 5,
   "metadata": {},
   "outputs": [],
   "source": [
    "from IPython.display import display"
   ]
  },
  {
   "cell_type": "code",
   "execution_count": 6,
   "metadata": {},
   "outputs": [
    {
     "data": {
      "text/plain": [
       "[[1, 0, 0, 0, 0],\n",
       " [1, 1, 0, 0, 0],\n",
       " [0, 1, 1, 0, 0],\n",
       " [0, 0, 1, 1, 0],\n",
       " [0, 0, 0, 1, 1]]"
      ]
     },
     "metadata": {},
     "output_type": "display_data"
    },
    {
     "name": "stdout",
     "output_type": "stream",
     "text": [
      "1\n"
     ]
    }
   ],
   "source": [
    "coms = gra2coms({i: {i, i - 1} for i in range(5)})\n",
    "display(coms)\n",
    "print(solution(0, coms))"
   ]
  },
  {
   "cell_type": "code",
   "execution_count": 7,
   "metadata": {},
   "outputs": [
    {
     "data": {
      "text/plain": [
       "1"
      ]
     },
     "execution_count": 7,
     "metadata": {},
     "output_type": "execute_result"
    }
   ],
   "source": [
    "solution(0, [[1]])"
   ]
  },
  {
   "cell_type": "code",
   "execution_count": 8,
   "metadata": {},
   "outputs": [
    {
     "data": {
      "text/plain": [
       "0"
      ]
     },
     "execution_count": 8,
     "metadata": {},
     "output_type": "execute_result"
    }
   ],
   "source": [
    "solution(0, [])"
   ]
  },
  {
   "cell_type": "code",
   "execution_count": 20,
   "metadata": {},
   "outputs": [
    {
     "data": {
      "text/plain": [
       "[[1, 0, 0, 1, 0, 0, 0, 0],\n",
       " [0, 1, 0, 0, 1, 0, 0, 0],\n",
       " [0, 0, 1, 0, 0, 1, 0, 0],\n",
       " [1, 0, 0, 1, 0, 0, 1, 0],\n",
       " [0, 1, 0, 0, 1, 0, 0, 1],\n",
       " [0, 0, 1, 0, 0, 1, 0, 0],\n",
       " [0, 0, 0, 1, 0, 0, 1, 0],\n",
       " [0, 0, 0, 0, 1, 0, 0, 1]]"
      ]
     },
     "metadata": {},
     "output_type": "display_data"
    },
    {
     "data": {
      "text/plain": [
       "3"
      ]
     },
     "execution_count": 20,
     "metadata": {},
     "output_type": "execute_result"
    }
   ],
   "source": [
    "coms = gra2coms({i: {i, i - 3, i + 3} for i in range(8)})\n",
    "display(coms)\n",
    "solution(0, coms)"
   ]
  },
  {
   "cell_type": "code",
   "execution_count": 10,
   "metadata": {},
   "outputs": [
    {
     "name": "stdout",
     "output_type": "stream",
     "text": [
      "2\n"
     ]
    },
    {
     "data": {
      "text/plain": [
       "[[1, 0, 0, 0, 0, 0, 0, 0],\n",
       " [0, 1, 0, 0, 0, 0, 0, 0],\n",
       " [0, 0, 1, 0, 0, 0, 0, 0],\n",
       " [1, 0, 0, 1, 0, 0, 0, 0],\n",
       " [0, 1, 0, 0, 1, 0, 0, 0],\n",
       " [0, 0, 1, 0, 0, 1, 0, 0],\n",
       " [0, 0, 0, 1, 0, 0, 1, 0],\n",
       " [0, 0, 0, 0, 1, 0, 0, 1]]"
      ]
     },
     "execution_count": 10,
     "metadata": {},
     "output_type": "execute_result"
    }
   ],
   "source": [
    "print(solution(0, gra2coms({i: {i, i - 2} for i in range(8)})))\n",
    "gra2coms({i: {i, i - 3} for i in range(8)})"
   ]
  },
  {
   "cell_type": "code",
   "execution_count": 11,
   "metadata": {},
   "outputs": [
    {
     "data": {
      "text/plain": [
       "1"
      ]
     },
     "execution_count": 11,
     "metadata": {},
     "output_type": "execute_result"
    }
   ],
   "source": [
    "solution(\n",
    "    2,\n",
    "    [\n",
    "        [1, 0, 0, 0, 0],\n",
    "        [0, 1, 0, 0, 1],\n",
    "        [0, 0, 1, 0, 1],\n",
    "        [0, 0, 0, 1, 1],\n",
    "        [1, 0, 0, 0, 1],\n",
    "    ],\n",
    ")"
   ]
  },
  {
   "cell_type": "code",
   "execution_count": 12,
   "metadata": {},
   "outputs": [
    {
     "data": {
      "text/plain": [
       "1"
      ]
     },
     "execution_count": 12,
     "metadata": {},
     "output_type": "execute_result"
    }
   ],
   "source": [
    "solution(2, gra2coms({0: {0, 1}, 1: {1}}))"
   ]
  },
  {
   "cell_type": "code",
   "execution_count": 13,
   "metadata": {},
   "outputs": [
    {
     "data": {
      "text/plain": [
       "1"
      ]
     },
     "execution_count": 13,
     "metadata": {},
     "output_type": "execute_result"
    }
   ],
   "source": [
    "solution(\n",
    "    6,\n",
    "    [\n",
    "        [1, 0, 1, 1, 0, 0],\n",
    "        [0, 1, 0, 0, 1, 1],\n",
    "        [1, 0, 1, 1, 1, 1],\n",
    "        [1, 0, 1, 1, 1, 1],\n",
    "        [0, 1, 1, 1, 1, 1],\n",
    "        [0, 1, 1, 1, 1, 1],\n",
    "    ],\n",
    ")"
   ]
  },
  {
   "cell_type": "code",
   "execution_count": 14,
   "metadata": {},
   "outputs": [
    {
     "data": {
      "text/plain": [
       "1"
      ]
     },
     "execution_count": 14,
     "metadata": {},
     "output_type": "execute_result"
    }
   ],
   "source": [
    "solution(4, [[1, 0, 0, 1], [0, 1, 1, 0], [0, 1, 1, 0], [1, 1, 0, 1]])"
   ]
  },
  {
   "cell_type": "code",
   "execution_count": 15,
   "metadata": {},
   "outputs": [
    {
     "data": {
      "text/plain": [
       "1"
      ]
     },
     "execution_count": 15,
     "metadata": {},
     "output_type": "execute_result"
    }
   ],
   "source": [
    "solution(\n",
    "    5,\n",
    "    [\n",
    "        [1, 0, 0, 0, 0],\n",
    "        [0, 1, 0, 0, 1],\n",
    "        [0, 0, 1, 0, 1],\n",
    "        [0, 0, 0, 1, 1],\n",
    "        [1, 0, 0, 0, 1],\n",
    "    ],\n",
    ")"
   ]
  },
  {
   "cell_type": "code",
   "execution_count": 16,
   "metadata": {},
   "outputs": [
    {
     "data": {
      "text/plain": [
       "1"
      ]
     },
     "execution_count": 16,
     "metadata": {},
     "output_type": "execute_result"
    }
   ],
   "source": [
    "solution(3, [[1, 1, 0], [0, 1, 1], [0, 1, 1]])"
   ]
  }
 ],
 "metadata": {
  "interpreter": {
   "hash": "73891b0dc2e53390f36276e59930dd4ecab91b05b5c90320c2d5b1c443f87069"
  },
  "kernelspec": {
   "display_name": "Python 3.10.1 ('venv': venv)",
   "language": "python",
   "name": "python3"
  },
  "language_info": {
   "codemirror_mode": {
    "name": "ipython",
    "version": 3
   },
   "file_extension": ".py",
   "mimetype": "text/x-python",
   "name": "python",
   "nbconvert_exporter": "python",
   "pygments_lexer": "ipython3",
   "version": "3.10.2"
  },
  "orig_nbformat": 4
 },
 "nbformat": 4,
 "nbformat_minor": 2
}
