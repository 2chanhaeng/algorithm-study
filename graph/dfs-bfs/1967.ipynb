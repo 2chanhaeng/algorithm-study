{
 "cells": [
  {
   "cell_type": "markdown",
   "metadata": {},
   "source": [
    "# [백준/트리의 지름](https://www.acmicpc.net/problem/1967)"
   ]
  },
  {
   "cell_type": "markdown",
   "metadata": {},
   "source": [
    "## 풀이과정"
   ]
  },
  {
   "cell_type": "markdown",
   "metadata": {},
   "source": [
    "### 첫번째 시도"
   ]
  },
  {
   "cell_type": "markdown",
   "metadata": {},
   "source": [
    "#### 풀이과정\n",
    "비슷한 문제인 [백준 1167번 트리의 지름](https://www.acmicpc.net/problem/1167)를 풀다 비슷한 문제가 있다고 하여 해당 문제의 풀이를 가져와 해결하였습니다."
   ]
  },
  {
   "cell_type": "code",
   "execution_count": null,
   "metadata": {},
   "outputs": [],
   "source": [
    "def solution():\n",
    "    import sys\n",
    "\n",
    "    # 재귀 횟수 제한 증가\n",
    "    sys.setrecursionlimit(10**6)\n",
    "    input = sys.stdin.readline\n",
    "    N = int(input())\n",
    "    # 트리의 노드 간의 거리를 저장하는 딕셔너리\n",
    "    graph = {i: {} for i in range(1, N + 1)}\n",
    "    for _ in range(N - 1):\n",
    "        start, end, dist = map(int, input().split())\n",
    "        graph[start][end] = dist\n",
    "        graph[end][start] = dist\n",
    "\n",
    "    def dfs(start, visited, curr_dist):\n",
    "        # dfs 를 이용하여 시작 노드에서 최대 거리와\n",
    "        # 그 거리를 가지는 노드를 찾는 함수\n",
    "        if visited.issuperset(graph[start]):\n",
    "            # 만약 모든 노드를 방문했다면 거리와 노드를 반환\n",
    "            return [(curr_dist, start)]\n",
    "        # 시작 노드를 방문한 노드로 저장\n",
    "        visited.add(start)\n",
    "        # 최대 거리와 그 거리를 가지는 노드를 저장하는 리스트\n",
    "        max_dist, ends = curr_dist, []\n",
    "        for mid, dist in graph[start].items():\n",
    "            # 연결된 노드 중에서\n",
    "            if mid not in visited:\n",
    "                # 지나간 노드가 아니라면\n",
    "                for end_dist, end in dfs(mid, visited, curr_dist + dist):\n",
    "                    # 그 노드들과 연결된 노드 중 최대 거리를 구하여\n",
    "                    if max_dist == end_dist:\n",
    "                        # 그 노드의 거리가 최대 거리라면\n",
    "                        # 해당 노드와 거리를 저장\n",
    "                        ends.append((end_dist, end))\n",
    "                    elif max_dist < end_dist:\n",
    "                        # 노드의 거리가 최대 거리보다 크다면\n",
    "                        # 최대 거리를 그 거리로 저장하고\n",
    "                        max_dist = end_dist\n",
    "                        # 거리와 노드를 저장\n",
    "                        ends = [(end_dist, end)]\n",
    "        return ends\n",
    "\n",
    "    max_dist = 0\n",
    "    for dist, far in dfs(1, set(), 0):\n",
    "        # 시작 노드를 1로 설정하여 가장 먼 길이와 그 노드들을 구하여\n",
    "        if max_dist < (far_dist := dfs(far, set(), 0)[0][0]):\n",
    "            # 노드가 최댓값이라면 최댓값을 그 거리로 저장\n",
    "            max_dist = far_dist\n",
    "    # 최대 거리 출력\n",
    "    print(max_dist)\n",
    "\n",
    "\n",
    "solution()"
   ]
  },
  {
   "cell_type": "code",
   "execution_count": null,
   "metadata": {},
   "outputs": [],
   "source": [
    "def solution():\n",
    "    import sys\n",
    "\n",
    "    # 재귀 횟수 제한 증가\n",
    "    sys.setrecursionlimit(10**6)\n",
    "    input = sys.stdin.readline\n",
    "    N = int(input())\n",
    "    # 트리의 노드 간의 거리를 저장하는 딕셔너리\n",
    "    graph = {i: {} for i in range(1, N + 1)}\n",
    "    for _ in range(N - 1):\n",
    "        start, end, dist = map(int, input().split())\n",
    "        graph[start][end] = dist\n",
    "        graph[end][start] = dist\n",
    "\n",
    "    def dfs(start, visited, curr_dist):\n",
    "        # dfs 를 이용하여 시작 노드에서 최대 거리와\n",
    "        # 그 거리를 가지는 노드를 찾는 함수\n",
    "        if visited.issuperset(graph[start]):\n",
    "            # 만약 모든 노드를 방문했다면 거리와 노드를 반환\n",
    "            return [(curr_dist, start)]\n",
    "        # 시작 노드를 방문한 노드로 저장\n",
    "        visited.add(start)\n",
    "        # 최대 거리와 그 거리를 가지는 노드를 저장하는 리스트\n",
    "        max_dist, ends = curr_dist, []\n",
    "        for mid, dist in graph[start].items():\n",
    "            # 연결된 노드 중에서\n",
    "            if mid not in visited:\n",
    "                # 지나간 노드가 아니라면\n",
    "                for end_dist, end in dfs(mid, visited, curr_dist + dist):\n",
    "                    # 그 노드들과 연결된 노드 중 최대 거리를 구하여\n",
    "                    if max_dist == end_dist:\n",
    "                        # 그 노드의 거리가 최대 거리라면\n",
    "                        # 해당 노드와 거리를 저장\n",
    "                        ends.append((end_dist, end))\n",
    "                    elif max_dist < end_dist:\n",
    "                        # 노드의 거리가 최대 거리보다 크다면\n",
    "                        # 최대 거리를 그 거리로 저장하고\n",
    "                        max_dist = end_dist\n",
    "                        # 거리와 노드를 저장\n",
    "                        ends = [(end_dist, end)]\n",
    "        return ends\n",
    "\n",
    "    # 임의의 노드 1을 잡아서 가장 거리가 먼 노드 중 하나를 구한 뒤\n",
    "    # 해당 거리에서 가장 거리가 먼 노드를 출력\n",
    "    print(dfs(dfs(1, set(), 0)[0][1], set(), 0)[0][0])\n",
    "\n",
    "\n",
    "solution()"
   ]
  },
  {
   "cell_type": "markdown",
   "metadata": {},
   "source": [
    "## 해답"
   ]
  },
  {
   "cell_type": "code",
   "execution_count": 23,
   "metadata": {},
   "outputs": [],
   "source": [
    "def solution(input):\n",
    "    N = int(input())\n",
    "    graph = {i: {} for i in range(1, N + 1)}\n",
    "    for _ in range(N - 1):\n",
    "        start, end, dist = map(int, input().split())\n",
    "        graph[start][end] = dist\n",
    "        graph[end][start] = dist\n",
    "    for i, j in graph.items():\n",
    "        print(i, \":\", j)\n",
    "\n",
    "    def dfs(start, curr_dist=0, prev=0):\n",
    "        if len(graph[start]) == 1 and prev:\n",
    "            return curr_dist, start\n",
    "        max_dist, max_end = 0, 0\n",
    "        for mid, dist in graph[start].items():\n",
    "            if mid != prev:\n",
    "                end_dist, end = dfs(mid, curr_dist + dist, start)\n",
    "                if max_dist < end_dist:\n",
    "                    max_dist, max_end = end_dist, end\n",
    "        return max_dist, max_end\n",
    "\n",
    "    print(dfs(dfs(1)[1])[0])"
   ]
  },
  {
   "cell_type": "markdown",
   "metadata": {},
   "source": [
    "## 예제"
   ]
  },
  {
   "cell_type": "code",
   "execution_count": 24,
   "metadata": {},
   "outputs": [
    {
     "name": "stdout",
     "output_type": "stream",
     "text": [
      "The blackcellmagic extension is already loaded. To reload it, use:\n",
      "  %reload_ext blackcellmagic\n"
     ]
    }
   ],
   "source": [
    "%load_ext blackcellmagic\n",
    "# %%black"
   ]
  },
  {
   "cell_type": "code",
   "execution_count": 25,
   "metadata": {},
   "outputs": [],
   "source": [
    "# 백준 문제 풀이용 예제 실행 코드\n",
    "from bwj import test\n",
    "\n",
    "test_solution = test(solution)\n",
    "\n",
    "# test_solution(\"\"\"\"\"\")\n",
    "# test_solution(read(\"fn\").read())"
   ]
  },
  {
   "cell_type": "code",
   "execution_count": 26,
   "metadata": {},
   "outputs": [
    {
     "name": "stdout",
     "output_type": "stream",
     "text": [
      "1 : {2: 1, 3: 2}\n",
      "2 : {1: 1, 4: 10, 5: 10}\n",
      "3 : {1: 2}\n",
      "4 : {2: 10}\n",
      "5 : {2: 10}\n",
      "20\n"
     ]
    }
   ],
   "source": [
    "test_solution(\n",
    "    \"\"\"5\n",
    "1 2 1\n",
    "1 3 2\n",
    "2 4 10\n",
    "2 5 10\"\"\"\n",
    ")  # 20"
   ]
  },
  {
   "cell_type": "code",
   "execution_count": 27,
   "metadata": {},
   "outputs": [
    {
     "name": "stdout",
     "output_type": "stream",
     "text": [
      "1 : {2: 3, 3: 2}\n",
      "2 : {1: 3, 4: 5}\n",
      "3 : {1: 2, 5: 11, 6: 9}\n",
      "4 : {2: 5, 7: 1, 8: 7}\n",
      "5 : {3: 11, 9: 15, 10: 4}\n",
      "6 : {3: 9, 11: 6, 12: 10}\n",
      "7 : {4: 1}\n",
      "8 : {4: 7}\n",
      "9 : {5: 15}\n",
      "10 : {5: 4}\n",
      "11 : {6: 6}\n",
      "12 : {6: 10}\n",
      "45\n"
     ]
    }
   ],
   "source": [
    "test_solution(\n",
    "    \"\"\"12\n",
    "1 2 3\n",
    "1 3 2\n",
    "2 4 5\n",
    "3 5 11\n",
    "3 6 9\n",
    "4 7 1\n",
    "4 8 7\n",
    "5 9 15\n",
    "5 10 4\n",
    "6 11 6\n",
    "6 12 10\"\"\"\n",
    ")  # 45"
   ]
  }
 ],
 "metadata": {
  "interpreter": {
   "hash": "72904a014a9ffe38f4c58942120b599b3c5a87d06764037548e0139929c1cde3"
  },
  "kernelspec": {
   "display_name": "Python 3.10.4 ('venv': venv)",
   "language": "python",
   "name": "python3"
  },
  "language_info": {
   "codemirror_mode": {
    "name": "ipython",
    "version": 3
   },
   "file_extension": ".py",
   "mimetype": "text/x-python",
   "name": "python",
   "nbconvert_exporter": "python",
   "pygments_lexer": "ipython3",
   "version": "3.10.4"
  },
  "orig_nbformat": 4
 },
 "nbformat": 4,
 "nbformat_minor": 2
}
