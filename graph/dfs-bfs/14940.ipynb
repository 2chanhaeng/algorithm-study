{
    "cells": [
        {
            "cell_type": "markdown",
            "metadata": {},
            "source": [
                "# [백준/쉬운 최단거리](https://www.acmicpc.net/problem/14940)\n"
            ]
        },
        {
            "cell_type": "markdown",
            "metadata": {},
            "source": [
                "## 풀이과정\n"
            ]
        },
        {
            "cell_type": "markdown",
            "metadata": {},
            "source": [
                "### 첫번째 시도\n"
            ]
        },
        {
            "cell_type": "markdown",
            "metadata": {},
            "source": [
                "#### 풀이과정\n"
            ]
        },
        {
            "cell_type": "code",
            "execution_count": null,
            "metadata": {},
            "outputs": [],
            "source": [
                "def solution():\n",
                "    import sys\n",
                "    from itertools import count\n",
                "\n",
                "    inputs = map(int, sys.stdin.buffer.read().split())\n",
                "    y, x = next(inputs), next(inputs)\n",
                "    DIMS = [x, y]\n",
                "    NEARS = [1, x]\n",
                "    tomatoes = bytearray(inputs)\n",
                "    answer = [-1 if t else 0 for t in tomatoes]\n",
                "\n",
                "    def coord(n):\n",
                "        return reversed(divmod(n, x))\n",
                "\n",
                "    def init(tomatoes):\n",
                "        for i, t in enumerate(tomatoes):\n",
                "            if t > 1:\n",
                "                answer[i] = 0\n",
                "                tomatoes[i] = 0\n",
                "                return [i]\n",
                "\n",
                "    def neighbor(riped):\n",
                "        for index in riped:\n",
                "            for c, d, n in zip(coord(index), DIMS, NEARS):\n",
                "                if c + 1 < d:\n",
                "                    near = index + n\n",
                "                    if tomatoes[near]:\n",
                "                        tomatoes[near] = 0\n",
                "                        yield near\n",
                "                if 0 < c:\n",
                "                    near = index - n\n",
                "                    if tomatoes[near]:\n",
                "                        tomatoes[near] = 0\n",
                "                        yield near\n",
                "\n",
                "    def solve(riped):\n",
                "        for counter in count(1):\n",
                "            riped = list(neighbor(riped))\n",
                "            if not riped:\n",
                "                return\n",
                "            for i in riped:\n",
                "                answer[i] = counter\n",
                "\n",
                "    solve(init(tomatoes))\n",
                "    for i in range(y):\n",
                "        print(*answer[i * x : (i + 1) * x])\n",
                "\n",
                "\n",
                "solution()"
            ]
        },
        {
            "cell_type": "markdown",
            "metadata": {},
            "source": [
                "## 해답\n"
            ]
        },
        {
            "cell_type": "code",
            "execution_count": 1,
            "metadata": {},
            "outputs": [],
            "source": [
                "def solution():\n",
                "    import sys\n",
                "    from itertools import count\n",
                "\n",
                "    inputs = map(int, sys.stdin.read().split())\n",
                "    y, x = next(inputs), next(inputs)\n",
                "    DIMS = [x, y]\n",
                "    NEARS = [1, x]\n",
                "    tomatoes = bytearray(inputs)\n",
                "    answer = [-1 if t else 0 for t in tomatoes]\n",
                "\n",
                "    def coord(n):\n",
                "        return reversed(divmod(n, x))\n",
                "\n",
                "    def init(tomatoes):\n",
                "        for i, t in enumerate(tomatoes):\n",
                "            if t > 1:\n",
                "                answer[i] = 0\n",
                "                tomatoes[i] = 0\n",
                "                return [i]\n",
                "\n",
                "    def neighbor(riped):\n",
                "        for index in riped:\n",
                "            for c, d, n in zip(coord(index), DIMS, NEARS):\n",
                "                if c + 1 < d:\n",
                "                    near = index + n\n",
                "                    if tomatoes[near]:\n",
                "                        tomatoes[near] = 0\n",
                "                        yield near\n",
                "                if 0 < c:\n",
                "                    near = index - n\n",
                "                    if tomatoes[near]:\n",
                "                        tomatoes[near] = 0\n",
                "                        yield near\n",
                "\n",
                "    def solve(riped):\n",
                "        for counter in count(1):\n",
                "            riped = list(neighbor(riped))\n",
                "            if not riped:\n",
                "                return\n",
                "            for i in riped:\n",
                "                answer[i] = counter\n",
                "\n",
                "    solve(init(tomatoes))\n",
                "    for i in range(y):\n",
                "        print(*answer[i * x : (i + 1) * x])"
            ]
        },
        {
            "cell_type": "markdown",
            "metadata": {},
            "source": [
                "## 예제\n"
            ]
        },
        {
            "cell_type": "code",
            "execution_count": 2,
            "metadata": {},
            "outputs": [],
            "source": [
                "# 백준 문제 풀이용 예제 실행 코드\n",
                "from bwj import test\n",
                "\n",
                "test_solution = test(solution)\n",
                "\n",
                "# test_solution(\"\"\"\"\"\")\n",
                "# test_solution(read(\"fn\").read())"
            ]
        },
        {
            "cell_type": "code",
            "execution_count": 3,
            "metadata": {},
            "outputs": [
                {
                    "name": "stdout",
                    "output_type": "stream",
                    "text": [
                        "4 3 2 1 0\n",
                        "0 0 0 0 0\n"
                    ]
                }
            ],
            "source": [
                "test_solution(\n",
                "    \"\"\"2 5\n",
                "1 1 1 1 2\n",
                "0 0 0 0 0\n",
                "\"\"\"\n",
                ")"
            ]
        },
        {
            "cell_type": "code",
            "execution_count": 4,
            "metadata": {},
            "outputs": [
                {
                    "name": "stdout",
                    "output_type": "stream",
                    "text": [
                        "3 2 3 4 5 6 7 8\n",
                        "2 1 2 0 0 0 0 9\n",
                        "1 0 1 0 13 12 11 10\n"
                    ]
                }
            ],
            "source": [
                "test_solution(\n",
                "    \"\"\"3 8\n",
                "1 1 1 1 1 1 1 1\n",
                "1 1 1 0 0 0 0 1\n",
                "1 2 1 0 1 1 1 1\n",
                "\"\"\"\n",
                ")"
            ]
        },
        {
            "cell_type": "code",
            "execution_count": 5,
            "metadata": {},
            "outputs": [
                {
                    "name": "stdout",
                    "output_type": "stream",
                    "text": [
                        "5 0 3 0 -1 -1\n",
                        "4 3 2 0 -1 -1\n",
                        "3 2 1 0 0 0\n",
                        "0 0 0 1 2 3\n",
                        "-1 -1 0 2 3 4\n",
                        "0 -1 -1 0 4 5\n"
                    ]
                }
            ],
            "source": [
                "test_solution(\n",
                "    \"\"\"6 6\n",
                "1 0 1 0 1 1\n",
                "1 1 1 0 1 1\n",
                "1 1 1 2 0 0\n",
                "0 0 0 1 1 1\n",
                "1 1 0 1 1 1\n",
                "0 1 1 0 1 1\n",
                "\"\"\"\n",
                ")\n",
                "# 5 0 3 0 -1 -1\n",
                "# 4 3 2 0 -1 -1\n",
                "# 3 2 1 0 0 0\n",
                "# 0 0 0 1 2 3\n",
                "# -1 -1 0 2 3 4\n",
                "# 0 -1 -1 0 4 5"
            ]
        },
        {
            "cell_type": "code",
            "execution_count": 6,
            "metadata": {},
            "outputs": [
                {
                    "name": "stdout",
                    "output_type": "stream",
                    "text": [
                        "0 1 2 3 0\n",
                        "1 0 0 0 11\n",
                        "2 0 -1 0 10\n",
                        "3 0 0 0 9\n",
                        "4 5 6 7 8\n"
                    ]
                }
            ],
            "source": [
                "test_solution(\n",
                "    \"\"\"5 5\n",
                "2 1 1 1 0\n",
                "1 0 0 0 1\n",
                "1 0 1 0 1\n",
                "1 0 0 0 1\n",
                "1 1 1 1 1\n",
                "\"\"\"\n",
                ")\n",
                "# 0 1 2 3 0\n",
                "# 1 0 0 0 11\n",
                "# 2 0 -1 0 10\n",
                "# 3 0 0 0 9\n",
                "# 4 5 6 7 8"
            ]
        },
        {
            "cell_type": "code",
            "execution_count": 7,
            "metadata": {},
            "outputs": [
                {
                    "name": "stdout",
                    "output_type": "stream",
                    "text": [
                        "0 0 6\n",
                        "1 0 5\n",
                        "2 3 4\n",
                        "3 4 5\n"
                    ]
                }
            ],
            "source": [
                "test_solution(\n",
                "    \"\"\"4 3\n",
                "2 0 1 1\n",
                "0 1 1 1 \n",
                "1 1 1 1\n",
                "\"\"\"\n",
                ")"
            ]
        },
        {
            "cell_type": "code",
            "execution_count": 8,
            "metadata": {},
            "outputs": [
                {
                    "name": "stdout",
                    "output_type": "stream",
                    "text": [
                        "3 2 1 2 3 4 5\n",
                        "2 1 0 1 2 3 4\n",
                        "3 2 1 2 3 4 5\n",
                        "4 3 2 3 4 5 0\n",
                        "0 0 0 4 5 6 7\n",
                        "0 7 6 5 6 7 8\n",
                        "-1 0 7 0 0 0 9\n",
                        "-1 -1 0 -1 -1 0 10\n"
                    ]
                }
            ],
            "source": [
                "test_solution(\n",
                "    \"\"\"8 7\n",
                "1 1 1 1 1 1 1 1\n",
                "1 2 1 1 1 1 1 1\n",
                "1 1 1 1 1 1 1 1\n",
                "1 1 1 0 0 0 0 1\n",
                "1 1 1 0 1 1 1 1\n",
                "1 1 1 0 1 0 0 0\n",
                "1 1 1 0 1 1 0 1\n",
                "\"\"\"\n",
                ")"
            ]
        },
        {
            "cell_type": "code",
            "execution_count": 9,
            "metadata": {},
            "outputs": [
                {
                    "name": "stdout",
                    "output_type": "stream",
                    "text": [
                        "3 2 1 2 3 4 5\n",
                        "2 1 0 1 2 3 4\n",
                        "3 2 1 2 3 4 5\n",
                        "4 3 2 3 4 5 0\n",
                        "0 0 0 4 5 6 7\n",
                        "0 7 6 5 6 7 8\n",
                        "-1 0 7 0 0 0 9\n",
                        "-1 -1 0 13 12 11 10\n"
                    ]
                }
            ],
            "source": [
                "test_solution(\n",
                "    \"\"\"8 7\n",
                "1 1 1 1 1 1 1 1\n",
                "1 2 1 1 1 1 1 1\n",
                "1 1 1 1 1 1 1 1\n",
                "1 1 1 0 0 0 0 1\n",
                "1 1 1 0 1 1 1 1\n",
                "1 1 1 0 1 0 0 0\n",
                "1 1 1 0 1 1 1 1\n",
                "\"\"\"\n",
                ")"
            ]
        },
        {
            "cell_type": "code",
            "execution_count": 10,
            "metadata": {},
            "outputs": [
                {
                    "name": "stdout",
                    "output_type": "stream",
                    "text": [
                        "0 1 2 3 4 5 6 7 8 9 10 11 12 13 14\n",
                        "1 2 3 4 5 6 7 8 9 10 11 12 13 14 15\n",
                        "2 3 4 5 6 7 8 9 10 11 12 13 14 15 16\n",
                        "3 4 5 6 7 8 9 10 11 12 13 14 15 16 17\n",
                        "4 5 6 7 8 9 10 11 12 13 14 15 16 17 18\n",
                        "5 6 7 8 9 10 11 12 13 14 15 16 17 18 19\n",
                        "6 7 8 9 10 11 12 13 14 15 16 17 18 19 20\n",
                        "7 8 9 10 11 12 13 14 15 16 17 18 19 20 21\n",
                        "8 9 10 11 12 13 14 15 16 17 18 19 20 21 22\n",
                        "9 10 11 12 13 14 15 16 17 18 19 20 21 22 23\n",
                        "10 11 12 13 14 15 16 17 18 19 20 21 22 23 24\n",
                        "11 12 13 14 15 16 17 18 19 20 0 0 0 0 25\n",
                        "12 13 14 15 16 17 18 19 20 21 0 29 28 27 26\n",
                        "13 14 15 16 17 18 19 20 21 22 0 30 0 0 0\n",
                        "14 15 16 17 18 19 20 21 22 23 0 31 32 33 34\n"
                    ]
                }
            ],
            "source": [
                "test_solution(\n",
                "    \"\"\"15 15\n",
                "2 1 1 1 1 1 1 1 1 1 1 1 1 1 1\n",
                "1 1 1 1 1 1 1 1 1 1 1 1 1 1 1\n",
                "1 1 1 1 1 1 1 1 1 1 1 1 1 1 1\n",
                "1 1 1 1 1 1 1 1 1 1 1 1 1 1 1\n",
                "1 1 1 1 1 1 1 1 1 1 1 1 1 1 1\n",
                "1 1 1 1 1 1 1 1 1 1 1 1 1 1 1\n",
                "1 1 1 1 1 1 1 1 1 1 1 1 1 1 1\n",
                "1 1 1 1 1 1 1 1 1 1 1 1 1 1 1\n",
                "1 1 1 1 1 1 1 1 1 1 1 1 1 1 1\n",
                "1 1 1 1 1 1 1 1 1 1 1 1 1 1 1\n",
                "1 1 1 1 1 1 1 1 1 1 1 1 1 1 1\n",
                "1 1 1 1 1 1 1 1 1 1 0 0 0 0 1\n",
                "1 1 1 1 1 1 1 1 1 1 0 1 1 1 1\n",
                "1 1 1 1 1 1 1 1 1 1 0 1 0 0 0\n",
                "1 1 1 1 1 1 1 1 1 1 0 1 1 1 1\n",
                "\"\"\"\n",
                ")\n",
                "# answer:\n",
                "# 0 1 2 3 4 5 6 7 8 9 10 11 12 13 14\n",
                "# 1 2 3 4 5 6 7 8 9 10 11 12 13 14 15\n",
                "# 2 3 4 5 6 7 8 9 10 11 12 13 14 15 16\n",
                "# 3 4 5 6 7 8 9 10 11 12 13 14 15 16 17\n",
                "# 4 5 6 7 8 9 10 11 12 13 14 15 16 17 18\n",
                "# 5 6 7 8 9 10 11 12 13 14 15 16 17 18 19\n",
                "# 6 7 8 9 10 11 12 13 14 15 16 17 18 19 20\n",
                "# 7 8 9 10 11 12 13 14 15 16 17 18 19 20 21\n",
                "# 8 9 10 11 12 13 14 15 16 17 18 19 20 21 22\n",
                "# 9 10 11 12 13 14 15 16 17 18 19 20 21 22 23\n",
                "# 10 11 12 13 14 15 16 17 18 19 20 21 22 23 24\n",
                "# 11 12 13 14 15 16 17 18 19 20 0 0 0 0 25\n",
                "# 12 13 14 15 16 17 18 19 20 21 0 29 28 27 26\n",
                "# 13 14 15 16 17 18 19 20 21 22 0 30 0 0 0\n",
                "# 14 15 16 17 18 19 20 21 22 23 0 31 32 33 34"
            ]
        }
    ],
    "metadata": {
        "interpreter": {
            "hash": "73891b0dc2e53390f36276e59930dd4ecab91b05b5c90320c2d5b1c443f87069"
        },
        "kernelspec": {
            "display_name": "Python 3.10.1 ('venv': venv)",
            "language": "python",
            "name": "python3"
        },
        "language_info": {
            "codemirror_mode": {
                "name": "ipython",
                "version": 3
            },
            "file_extension": ".py",
            "mimetype": "text/x-python",
            "name": "python",
            "nbconvert_exporter": "python",
            "pygments_lexer": "ipython3",
            "version": "3.11.6"
        },
        "orig_nbformat": 4
    },
    "nbformat": 4,
    "nbformat_minor": 2
}
