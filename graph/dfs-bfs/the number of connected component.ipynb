{
 "cells": [
  {
   "cell_type": "markdown",
   "metadata": {
    "id": "lQ2PpyeKhr0W"
   },
   "source": [
    "# [백준/연결 요소의 갯수](https://www.acmicpc.net/problem/11724)"
   ]
  },
  {
   "cell_type": "markdown",
   "metadata": {
    "id": "xRG_ZqnKhr0c"
   },
   "source": [
    "## 풀이과정"
   ]
  },
  {
   "cell_type": "markdown",
   "metadata": {
    "id": "8Abgjr0Uhr0e"
   },
   "source": [
    "### 첫번째 시도"
   ]
  },
  {
   "cell_type": "markdown",
   "metadata": {
    "id": "fDPl5mG4hr0g"
   },
   "source": [
    "풀이과정"
   ]
  },
  {
   "cell_type": "code",
   "execution_count": null,
   "metadata": {
    "id": "_ExMKs5Qhr0i"
   },
   "outputs": [],
   "source": [
    "import sys\n",
    "\n",
    "input = lambda: sys.stdin.readline().rstrip()\n",
    "nodes, lines = map(int, input().split())\n",
    "cons = {node: node for node in range(1, nodes + 1)}\n",
    "for _ in range(lines):\n",
    "    a, b = sorted(map(int, input().split()))\n",
    "    cons[b] = cons[a]\n",
    "print(sum(node == cons[node] for node in range(1, nodes + 1)))"
   ]
  },
  {
   "cell_type": "markdown",
   "metadata": {
    "id": "8Abgjr0Uhr0e"
   },
   "source": [
    "### 두번째 시도"
   ]
  },
  {
   "cell_type": "markdown",
   "metadata": {
    "id": "fDPl5mG4hr0g"
   },
   "source": [
    "풀이과정"
   ]
  },
  {
   "cell_type": "code",
   "execution_count": null,
   "metadata": {
    "id": "_ExMKs5Qhr0i"
   },
   "outputs": [],
   "source": [
    "import sys\n",
    "\n",
    "input = lambda: sys.stdin.readline().rstrip()\n",
    "nodes, lines = map(int, input().split())\n",
    "chunks = [frozenset({node}) for node in range(1, nodes + 1)]\n",
    "for _ in range(lines):\n",
    "    a, b = sorted(map(int, input().split()))\n",
    "    for i in range(a):\n",
    "        if a in chunks[i]:\n",
    "            break\n",
    "    for j in range(b):\n",
    "        if b in chunks[j]:\n",
    "            break\n",
    "    if i < j:\n",
    "        chunks[i] |= chunks.pop(j)\n",
    "    elif i > j:\n",
    "        chunks[j] |= chunks.pop(i)\n",
    "print(len(chunks))"
   ]
  },
  {
   "cell_type": "markdown",
   "metadata": {
    "id": "CgVyvNoxhr0o"
   },
   "source": [
    "## 해답"
   ]
  },
  {
   "cell_type": "code",
   "execution_count": 92,
   "metadata": {
    "id": "JpLdPz_9hr0r"
   },
   "outputs": [],
   "source": [
    "def solution(input):\n",
    "    nodes, lines = map(int, input().split())\n",
    "    chunks = [frozenset({node}) for node in range(1, nodes + 1)]\n",
    "    for _ in range(lines):\n",
    "        a, b = sorted(map(int, input().split()))\n",
    "        for i in range(a):\n",
    "            if a in chunks[i]:\n",
    "                break\n",
    "        for j in range(b):\n",
    "            if b in chunks[j]:\n",
    "                break\n",
    "        if i < j:\n",
    "            chunks[i] |= chunks.pop(j)\n",
    "        elif i > j:\n",
    "            chunks[j] |= chunks.pop(i)\n",
    "    print(len(chunks))"
   ]
  },
  {
   "cell_type": "markdown",
   "metadata": {
    "id": "XzWMZil7hr0v"
   },
   "source": [
    "## 테스트 결과"
   ]
  },
  {
   "cell_type": "markdown",
   "metadata": {
    "id": "LN69I7hOhr0y"
   },
   "source": [
    "|테스트|결과|\n",
    "|---:|:---|"
   ]
  },
  {
   "cell_type": "markdown",
   "metadata": {
    "id": "MEorAHgfhr01"
   },
   "source": [
    "## 예제"
   ]
  },
  {
   "cell_type": "code",
   "execution_count": 93,
   "metadata": {
    "id": "jM9qlkEMhr02"
   },
   "outputs": [],
   "source": [
    "# 백준 문제 풀이용 예제 실행 코드\n",
    "from inspect import signature\n",
    "\n",
    "\n",
    "def solution_example(input_=None, solution=solution):\n",
    "    params = signature(solution).parameters\n",
    "    if input_ == None:\n",
    "        solution()\n",
    "    elif \"open\" in params:\n",
    "\n",
    "        class open:\n",
    "            def __init__(self, x):\n",
    "                self.read = lambda: input_\n",
    "\n",
    "            def __iter__(self):\n",
    "                return iter(input_.split(\"\\n\"))\n",
    "\n",
    "        solution(open)\n",
    "    elif \"input\" in params:\n",
    "        input_ = iter(input_.split(\"\\n\"))\n",
    "        input = input_.__next__\n",
    "        solution(input)\n",
    "    else:\n",
    "        raise NameError(\n",
    "            f\"solution 함수가 input, open 등의 매개변수를 받지 않습니다.\\nsolution 의 매개변수: {params}\"\n",
    "        )\n",
    "\n",
    "\n",
    "# solution_example(\"\"\"\"\"\")\n",
    "# solution_example(read(\"fn\").read())"
   ]
  },
  {
   "cell_type": "code",
   "execution_count": 94,
   "metadata": {
    "colab": {
     "base_uri": "https://localhost:8080/",
     "height": 946
    },
    "id": "D7n1E_bEhr09",
    "outputId": "cc43b38e-5991-4eb5-e7c1-abc059dde47b"
   },
   "outputs": [
    {
     "name": "stdout",
     "output_type": "stream",
     "text": [
      "4\n"
     ]
    }
   ],
   "source": [
    "solution_example(\n",
    "    \"\"\"6 2\n",
    "3 4\n",
    "4 2\"\"\"\n",
    ")  # 4"
   ]
  },
  {
   "cell_type": "code",
   "execution_count": 95,
   "metadata": {
    "colab": {
     "base_uri": "https://localhost:8080/",
     "height": 946
    },
    "id": "D7n1E_bEhr09",
    "outputId": "cc43b38e-5991-4eb5-e7c1-abc059dde47b"
   },
   "outputs": [
    {
     "name": "stdout",
     "output_type": "stream",
     "text": [
      "10\n"
     ]
    }
   ],
   "source": [
    "solution_example(\"\"\"10 0\"\"\")  # 10"
   ]
  },
  {
   "cell_type": "code",
   "execution_count": 96,
   "metadata": {
    "colab": {
     "base_uri": "https://localhost:8080/",
     "height": 946
    },
    "id": "D7n1E_bEhr09",
    "outputId": "cc43b38e-5991-4eb5-e7c1-abc059dde47b"
   },
   "outputs": [
    {
     "name": "stdout",
     "output_type": "stream",
     "text": [
      "1\n"
     ]
    }
   ],
   "source": [
    "solution_example(\"\"\"1 0\"\"\")  # 1"
   ]
  },
  {
   "cell_type": "code",
   "execution_count": 97,
   "metadata": {
    "colab": {
     "base_uri": "https://localhost:8080/",
     "height": 946
    },
    "id": "D7n1E_bEhr09",
    "outputId": "cc43b38e-5991-4eb5-e7c1-abc059dde47b"
   },
   "outputs": [
    {
     "name": "stdout",
     "output_type": "stream",
     "text": [
      "1\n"
     ]
    }
   ],
   "source": [
    "solution_example(\n",
    "    \"\"\"6 8\n",
    "1 2\n",
    "2 5\n",
    "5 1\n",
    "3 4\n",
    "4 6\n",
    "5 4\n",
    "2 4\n",
    "2 3\"\"\"\n",
    ")  # 1"
   ]
  },
  {
   "cell_type": "code",
   "execution_count": 98,
   "metadata": {
    "colab": {
     "base_uri": "https://localhost:8080/"
    },
    "id": "kLi1id29iofl",
    "outputId": "1703e01a-6d7b-410e-c376-83713dd95c42"
   },
   "outputs": [
    {
     "name": "stdout",
     "output_type": "stream",
     "text": [
      "2\n"
     ]
    }
   ],
   "source": [
    "solution_example(\n",
    "    \"\"\"6 5\n",
    "1 2\n",
    "2 5\n",
    "5 1\n",
    "3 4\n",
    "4 6\"\"\"\n",
    ")  # 2"
   ]
  }
 ],
 "metadata": {
  "colab": {
   "name": "template.ipynb",
   "provenance": []
  },
  "interpreter": {
   "hash": "73891b0dc2e53390f36276e59930dd4ecab91b05b5c90320c2d5b1c443f87069"
  },
  "kernelspec": {
   "display_name": "Python 3.10.1 ('venv': venv)",
   "language": "python",
   "name": "python3"
  },
  "language_info": {
   "codemirror_mode": {
    "name": "ipython",
    "version": 3
   },
   "file_extension": ".py",
   "mimetype": "text/x-python",
   "name": "python",
   "nbconvert_exporter": "python",
   "pygments_lexer": "ipython3",
   "version": "3.10.1"
  },
  "orig_nbformat": 4
 },
 "nbformat": 4,
 "nbformat_minor": 0
}
