{
    "cells": [
        {
            "cell_type": "markdown",
            "metadata": {},
            "source": [
                "# [백준/벽 부수고 이동하기](https://www.acmicpc.net/problem/2206)"
            ]
        },
        {
            "cell_type": "markdown",
            "metadata": {},
            "source": [
                "## 풀이과정"
            ]
        },
        {
            "cell_type": "markdown",
            "metadata": {},
            "source": [
                "### 첫번째 시도"
            ]
        },
        {
            "cell_type": "markdown",
            "metadata": {},
            "source": [
                "#### 풀이과정\n",
                "갔던 곳을 따로 처리를 하지 않았더니 갈 곳을 저장하는 덱에 무한히 추가돼서 메모리 초과가 났습니다."
            ]
        },
        {
            "cell_type": "code",
            "execution_count": 42,
            "metadata": {},
            "outputs": [
                {
                    "name": "stdout",
                    "output_type": "stream",
                    "text": [
                        "15\n"
                    ]
                }
            ],
            "source": [
                "def solution():\n",
                "    import sys\n",
                "    import collections\n",
                "\n",
                "    nm, *matrix = sys.stdin.readlines()\n",
                "    n, m = map(int, nm.split())\n",
                "    n -= 1\n",
                "    m -= 1\n",
                "    matrix = [list(map(int, line.rstrip())) for line in matrix]\n",
                "    dxy = [(0, -1), (0, 1), (-1, 0), (1, 0)]\n",
                "    able = collections.deque([(0, 0, 1, 1)])\n",
                "    while able:\n",
                "        x, y, curr, power = able.popleft()\n",
                "        curr += 1\n",
                "        for dx, dy in dxy:\n",
                "            if not (0 <= (cx := x + dx) <= m and 0 <= (cy := y + dy) <= n):\n",
                "                continue\n",
                "            if cx == m and cy == n:\n",
                "                print(curr)\n",
                "                return\n",
                "            if matrix[cy][cx]:\n",
                "                if power:\n",
                "                    able.append((cx, cy, curr, 0))\n",
                "            else:\n",
                "                able.append((cx, cy, curr, power))\n",
                "    print(-1)\n",
                "\n",
                "\n",
                "solution()"
            ]
        },
        {
            "cell_type": "markdown",
            "metadata": {},
            "source": [
                "### 두번째 시도"
            ]
        },
        {
            "cell_type": "markdown",
            "metadata": {},
            "source": [
                "#### 풀이과정\n",
                "첫번째 풀이에서 갔던 곳을 저장하는 집합을 추가했으나 벽을 우회하는 경로로 가야하는 경우는 따로 처리해야 했기에 딕셔너리로 바꾸어 당시에 벽을 뚫을 힘이 남아있었는지 확인했습니다. 그러나 이후에도 열이나 행이 하나인 경우에는 불가능하다고 나와 따로 예외 처리를 해서 해당 경우에는 벽이 2개 이상만 있는지만 확인하고 답을 출력하였습니다."
            ]
        },
        {
            "cell_type": "code",
            "execution_count": 112,
            "metadata": {},
            "outputs": [
                {
                    "ename": "ValueError",
                    "evalue": "invalid literal for int() with base 10: '\\n'",
                    "output_type": "error",
                    "traceback": [
                        "\u001b[0;31m---------------------------------------------------------------------------\u001b[0m",
                        "\u001b[0;31mValueError\u001b[0m                                Traceback (most recent call last)",
                        "\u001b[1;32m/Users/chanhaeng/Documents/GitHub/algorithm-study/solving/2206.ipynb Cell 8'\u001b[0m in \u001b[0;36m<cell line: 44>\u001b[0;34m()\u001b[0m\n\u001b[1;32m     <a href='vscode-notebook-cell:/Users/chanhaeng/Documents/GitHub/algorithm-study/solving/2206.ipynb#ch0000019?line=39'>40</a>\u001b[0m                     visited[cx, cy] \u001b[39m=\u001b[39m \u001b[39m1\u001b[39m\n\u001b[1;32m     <a href='vscode-notebook-cell:/Users/chanhaeng/Documents/GitHub/algorithm-study/solving/2206.ipynb#ch0000019?line=40'>41</a>\u001b[0m     \u001b[39mprint\u001b[39m(answer \u001b[39mif\u001b[39;00m answer \u001b[39m<\u001b[39m mn \u001b[39melse\u001b[39;00m \u001b[39m-\u001b[39m\u001b[39m1\u001b[39m)\n\u001b[0;32m---> <a href='vscode-notebook-cell:/Users/chanhaeng/Documents/GitHub/algorithm-study/solving/2206.ipynb#ch0000019?line=43'>44</a>\u001b[0m solution()\n",
                        "\u001b[1;32m/Users/chanhaeng/Documents/GitHub/algorithm-study/solving/2206.ipynb Cell 8'\u001b[0m in \u001b[0;36msolution\u001b[0;34m()\u001b[0m\n\u001b[1;32m     <a href='vscode-notebook-cell:/Users/chanhaeng/Documents/GitHub/algorithm-study/solving/2206.ipynb#ch0000019?line=14'>15</a>\u001b[0m n \u001b[39m-\u001b[39m\u001b[39m=\u001b[39m \u001b[39m1\u001b[39m\n\u001b[1;32m     <a href='vscode-notebook-cell:/Users/chanhaeng/Documents/GitHub/algorithm-study/solving/2206.ipynb#ch0000019?line=15'>16</a>\u001b[0m m \u001b[39m-\u001b[39m\u001b[39m=\u001b[39m \u001b[39m1\u001b[39m\n\u001b[0;32m---> <a href='vscode-notebook-cell:/Users/chanhaeng/Documents/GitHub/algorithm-study/solving/2206.ipynb#ch0000019?line=16'>17</a>\u001b[0m matrix \u001b[39m=\u001b[39m [\u001b[39mlist\u001b[39m(\u001b[39mmap\u001b[39m(\u001b[39mint\u001b[39m, line)) \u001b[39mfor\u001b[39;00m line \u001b[39min\u001b[39;00m matrix]\n\u001b[1;32m     <a href='vscode-notebook-cell:/Users/chanhaeng/Documents/GitHub/algorithm-study/solving/2206.ipynb#ch0000019?line=17'>18</a>\u001b[0m dxy \u001b[39m=\u001b[39m [(\u001b[39m0\u001b[39m, \u001b[39m-\u001b[39m\u001b[39m1\u001b[39m), (\u001b[39m0\u001b[39m, \u001b[39m1\u001b[39m), (\u001b[39m-\u001b[39m\u001b[39m1\u001b[39m, \u001b[39m0\u001b[39m), (\u001b[39m1\u001b[39m, \u001b[39m0\u001b[39m)]\n\u001b[1;32m     <a href='vscode-notebook-cell:/Users/chanhaeng/Documents/GitHub/algorithm-study/solving/2206.ipynb#ch0000019?line=18'>19</a>\u001b[0m tovisit \u001b[39m=\u001b[39m collections\u001b[39m.\u001b[39mdeque([(\u001b[39m0\u001b[39m, \u001b[39m0\u001b[39m, \u001b[39m1\u001b[39m, \u001b[39m1\u001b[39m)])\n",
                        "\u001b[1;32m/Users/chanhaeng/Documents/GitHub/algorithm-study/solving/2206.ipynb Cell 8'\u001b[0m in \u001b[0;36m<listcomp>\u001b[0;34m(.0)\u001b[0m\n\u001b[1;32m     <a href='vscode-notebook-cell:/Users/chanhaeng/Documents/GitHub/algorithm-study/solving/2206.ipynb#ch0000019?line=14'>15</a>\u001b[0m n \u001b[39m-\u001b[39m\u001b[39m=\u001b[39m \u001b[39m1\u001b[39m\n\u001b[1;32m     <a href='vscode-notebook-cell:/Users/chanhaeng/Documents/GitHub/algorithm-study/solving/2206.ipynb#ch0000019?line=15'>16</a>\u001b[0m m \u001b[39m-\u001b[39m\u001b[39m=\u001b[39m \u001b[39m1\u001b[39m\n\u001b[0;32m---> <a href='vscode-notebook-cell:/Users/chanhaeng/Documents/GitHub/algorithm-study/solving/2206.ipynb#ch0000019?line=16'>17</a>\u001b[0m matrix \u001b[39m=\u001b[39m [\u001b[39mlist\u001b[39;49m(\u001b[39mmap\u001b[39;49m(\u001b[39mint\u001b[39;49m, line)) \u001b[39mfor\u001b[39;00m line \u001b[39min\u001b[39;00m matrix]\n\u001b[1;32m     <a href='vscode-notebook-cell:/Users/chanhaeng/Documents/GitHub/algorithm-study/solving/2206.ipynb#ch0000019?line=17'>18</a>\u001b[0m dxy \u001b[39m=\u001b[39m [(\u001b[39m0\u001b[39m, \u001b[39m-\u001b[39m\u001b[39m1\u001b[39m), (\u001b[39m0\u001b[39m, \u001b[39m1\u001b[39m), (\u001b[39m-\u001b[39m\u001b[39m1\u001b[39m, \u001b[39m0\u001b[39m), (\u001b[39m1\u001b[39m, \u001b[39m0\u001b[39m)]\n\u001b[1;32m     <a href='vscode-notebook-cell:/Users/chanhaeng/Documents/GitHub/algorithm-study/solving/2206.ipynb#ch0000019?line=18'>19</a>\u001b[0m tovisit \u001b[39m=\u001b[39m collections\u001b[39m.\u001b[39mdeque([(\u001b[39m0\u001b[39m, \u001b[39m0\u001b[39m, \u001b[39m1\u001b[39m, \u001b[39m1\u001b[39m)])\n",
                        "\u001b[0;31mValueError\u001b[0m: invalid literal for int() with base 10: '\\n'"
                    ]
                }
            ],
            "source": [
                "def solution():\n",
                "    import sys\n",
                "    import collections\n",
                "\n",
                "    nm, *matrix = sys.stdin.readlines()\n",
                "    n, m = map(int, nm.split())\n",
                "    # 기존 풀이로는 한 행, 혹은 한 열일 때 문제를 해결하지 못하여 임시로 예외처리를 해주었습니다.\n",
                "    if m == 1:\n",
                "        # 행이 하나일 경우 벽이 2개 이상이면 -1 그 외에는 열 수를 출력\n",
                "        print(n if matrix[0].count(\"1\") < 2 else -1)\n",
                "        return\n",
                "    if n == 1:\n",
                "        # 열이 하나일 경우 벽이 2개 이상이면 -1 그 외에는 행 수를 출력\n",
                "        print(m if \"\".join(matrix).count(\"1\") < 2 else -1)\n",
                "        return\n",
                "\n",
                "    mn = answer = n * m\n",
                "    n -= 1\n",
                "    m -= 1\n",
                "    matrix = [list(map(int, line)) for line in matrix]\n",
                "    dxy = [(0, -1), (0, 1), (-1, 0), (1, 0)]\n",
                "    # 갈 곳을 저장해 놓을 덱 (x 좌표, y 좌표, 경로 수, 벽을 뚫을 수 있는지)\n",
                "    tovisit = collections.deque([(0, 0, 1, 1)])\n",
                "    # 갔던 곳을 저장할 딕셔너리 ((x 좌표, y 좌표): 들렀을 때 벽을 뚫을 수 있었는지)\n",
                "    visited = {(0, 0): 1}\n",
                "    # 갈 곳이 남아 있을 때까지 반복\n",
                "    while tovisit:\n",
                "        # x: x 좌표, y: y 좌표, curr: 경로 수, power: 벽을 뚫을 수 있는지\n",
                "        x, y, curr, power = tovisit.popleft()\n",
                "        # 다음 경로를 미리 계산해놓기\n",
                "        curr += 1\n",
                "        for dx, dy in dxy:\n",
                "            if not (0 <= (cx := x + dx) <= m and 0 <= (cy := y + dy) <= n):\n",
                "                # 상하좌우가 매트릭스 밖에 있다면 무시\n",
                "                continue\n",
                "            if cx == m and cy == n:\n",
                "                # 목적지에 도착했다면 기존 답과 비교하여 작은 것을 저장\n",
                "                answer = min(curr, answer)\n",
                "            if matrix[cy][cx]:\n",
                "                # 벽이 있는 곳이라면\n",
                "                if (cx, cy) not in visited and power:\n",
                "                    # 갔던 곳이 아니고 벽을 부술 힘이 있다면\n",
                "                    # 갈 곳에 추가하고 갔던 곳에 벽을 뚫을 힘을 다 썼다고 저장\n",
                "                    tovisit.append((cx, cy, curr, 0))\n",
                "                    visited[cx, cy] = 0\n",
                "            elif (cx, cy) not in visited:\n",
                "                # 벽이 없고 갔던 적이 없다면\n",
                "                # 갈 곳과 갔던 곳에 추가\n",
                "                tovisit.append((cx, cy, curr, power))\n",
                "                visited[cx, cy] = power\n",
                "            elif visited[cx, cy] == 0 and power == 1:\n",
                "                # 벽이 없고 갔던 적이 있지만\n",
                "                # 당시에는 벽을 부술 수 없었고 지금은 가능하다면\n",
                "                # 이후 갈 수 없던 곳도 갈 수 있게 되므로 해당 상태를 저장\n",
                "                tovisit.append((cx, cy, curr, 1))\n",
                "                visited[cx, cy] = 1\n",
                "    # 답이 초기 값보다 작으면 답을 출력하고 그외의 경우 불가능한 것으로 취급\n",
                "    print(answer if answer < mn else -1)\n",
                "\n",
                "\n",
                "solution()"
            ]
        },
        {
            "cell_type": "markdown",
            "metadata": {},
            "source": [
                "## 해답"
            ]
        },
        {
            "cell_type": "code",
            "execution_count": 5,
            "metadata": {},
            "outputs": [],
            "source": [
                "from collections import deque"
            ]
        },
        {
            "cell_type": "code",
            "execution_count": 98,
            "metadata": {},
            "outputs": [],
            "source": [
                "def solution(open = open):\n",
                "    nm, *matrix = open(0).read().split(\"\\n\")\n",
                "    n, m = map(int, nm.split())\n",
                "    if m == 1:\n",
                "        print(n if matrix[0].count(\"1\") < 2 else -1)\n",
                "        return\n",
                "    elif n == 1:\n",
                "        print(m if \"\".join(matrix).count(\"1\") < 2 else -1)\n",
                "        return\n",
                "    mn = answer = n * m\n",
                "    n -= 1\n",
                "    m -= 1\n",
                "    matrix = [list(map(int, line)) for line in matrix]\n",
                "    dxy = [(0, -1), (0, 1), (-1, 0), (1, 0)]\n",
                "    tovisit = deque([(0, 0, 1, 1)])\n",
                "    visited = {(0, 0): 1}\n",
                "    while tovisit:\n",
                "        x, y, curr, power = tovisit.popleft()\n",
                "        curr += 1\n",
                "        for dx, dy in dxy:\n",
                "            if not (0 <= (cx := x + dx) <= m and 0 <= (cy := y + dy) <= n):\n",
                "                continue\n",
                "            if cx == m and cy == n:\n",
                "                answer = min(curr, answer)\n",
                "            if matrix[cy][cx]:\n",
                "                if (cx, cy) not in visited:\n",
                "                    if power:\n",
                "                        tovisit.append((cx, cy, curr, 0))\n",
                "                        visited[cx, cy] = 0\n",
                "            else:\n",
                "                if (cx, cy) not in visited:\n",
                "                    tovisit.append((cx, cy, curr, power))\n",
                "                    visited[cx, cy] = power\n",
                "                elif visited[cx, cy] == 0 and power == 1:\n",
                "                    tovisit.append((cx, cy, curr, 1))\n",
                "                    visited[cx, cy] = 1\n",
                "    print(answer if answer < mn else -1)"
            ]
        },
        {
            "cell_type": "markdown",
            "metadata": {},
            "source": [
                "## 예제"
            ]
        },
        {
            "cell_type": "code",
            "execution_count": 99,
            "metadata": {},
            "outputs": [
                {
                    "name": "stdout",
                    "output_type": "stream",
                    "text": [
                        "The blackcellmagic extension is already loaded. To reload it, use:\n",
                        "  %reload_ext blackcellmagic\n"
                    ]
                }
            ],
            "source": [
                "%load_ext blackcellmagic\n",
                "# %%black"
            ]
        },
        {
            "cell_type": "code",
            "execution_count": 100,
            "metadata": {},
            "outputs": [],
            "source": [
                "# 백준 문제 풀이용 예제 실행 코드\n",
                "from bwj import test\n",
                "test_solution = test(solution)\n",
                "\n",
                "# test_solution(\"\"\"\"\"\")\n",
                "# test_solution(read(\"fn\").read())"
            ]
        },
        {
            "cell_type": "code",
            "execution_count": 101,
            "metadata": {},
            "outputs": [
                {
                    "name": "stdout",
                    "output_type": "stream",
                    "text": [
                        "3\n"
                    ]
                }
            ],
            "source": [
                "test_solution(\"\"\"1 3\n",
                "000\"\"\") # 3"
            ]
        },
        {
            "cell_type": "code",
            "execution_count": 102,
            "metadata": {},
            "outputs": [
                {
                    "name": "stdout",
                    "output_type": "stream",
                    "text": [
                        "3\n"
                    ]
                }
            ],
            "source": [
                "test_solution(\"\"\"3 1\n",
                "0\n",
                "0\n",
                "0\"\"\") # 3"
            ]
        },
        {
            "cell_type": "code",
            "execution_count": 103,
            "metadata": {},
            "outputs": [
                {
                    "name": "stdout",
                    "output_type": "stream",
                    "text": [
                        "1\n"
                    ]
                }
            ],
            "source": [
                "test_solution(\"\"\"1 1\n",
                "0\"\"\") # 1"
            ]
        },
        {
            "cell_type": "code",
            "execution_count": 104,
            "metadata": {},
            "outputs": [
                {
                    "name": "stdout",
                    "output_type": "stream",
                    "text": [
                        "5\n"
                    ]
                }
            ],
            "source": [
                "test_solution(\"\"\"3 3\n",
                "000\n",
                "000\n",
                "000\"\"\") # 5"
            ]
        },
        {
            "cell_type": "code",
            "execution_count": 105,
            "metadata": {},
            "outputs": [
                {
                    "name": "stdout",
                    "output_type": "stream",
                    "text": [
                        "5\n"
                    ]
                }
            ],
            "source": [
                "test_solution(\"\"\"3 3\n",
                "011\n",
                "111\n",
                "000\"\"\") # 5"
            ]
        },
        {
            "cell_type": "code",
            "execution_count": 106,
            "metadata": {},
            "outputs": [
                {
                    "name": "stdout",
                    "output_type": "stream",
                    "text": [
                        "14\n"
                    ]
                }
            ],
            "source": [
                "test_solution(\"\"\"7 8\n",
                "01000000\n",
                "01111110\n",
                "01100000\n",
                "01101111\n",
                "01100000\n",
                "01111110\n",
                "00000010\"\"\") # 14"
            ]
        },
        {
            "cell_type": "code",
            "execution_count": 107,
            "metadata": {},
            "outputs": [
                {
                    "name": "stdout",
                    "output_type": "stream",
                    "text": [
                        "12\n"
                    ]
                }
            ],
            "source": [
                "test_solution(\"\"\"6 5\n",
                "01000\n",
                "00110\n",
                "10110\n",
                "00111\n",
                "01111\n",
                "01000\"\"\") # 12"
            ]
        },
        {
            "cell_type": "code",
            "execution_count": 108,
            "metadata": {},
            "outputs": [
                {
                    "name": "stdout",
                    "output_type": "stream",
                    "text": [
                        "15\n"
                    ]
                }
            ],
            "source": [
                "test_solution(\"\"\"6 6\n",
                "000000\n",
                "011111\n",
                "011111\n",
                "010100\n",
                "010110\n",
                "000110\"\"\") # 15"
            ]
        },
        {
            "cell_type": "code",
            "execution_count": 109,
            "metadata": {},
            "outputs": [
                {
                    "name": "stdout",
                    "output_type": "stream",
                    "text": [
                        "9\n"
                    ]
                }
            ],
            "source": [
                "test_solution(\"\"\"5 5\n",
                "00100\n",
                "11000\n",
                "00110\n",
                "01011\n",
                "00000\"\"\") # 9"
            ]
        },
        {
            "cell_type": "code",
            "execution_count": 110,
            "metadata": {},
            "outputs": [
                {
                    "name": "stdout",
                    "output_type": "stream",
                    "text": [
                        "15\n"
                    ]
                }
            ],
            "source": [
                "test_solution(\"\"\"6 4\n",
                "0100\n",
                "1110\n",
                "1000\n",
                "0000\n",
                "0111\n",
                "0000\"\"\") # 15"
            ]
        },
        {
            "cell_type": "code",
            "execution_count": 111,
            "metadata": {},
            "outputs": [
                {
                    "name": "stdout",
                    "output_type": "stream",
                    "text": [
                        "-1\n"
                    ]
                }
            ],
            "source": [
                "test_solution(\"\"\"4 4\n",
                "0111\n",
                "1111\n",
                "1111\n",
                "1110\"\"\") # -1"
            ]
        }
    ],
    "metadata": {
        "kernelspec": {
            "display_name": "Python 3.10.4 ('venv': venv)",
            "language": "python",
            "name": "python3"
        },
        "language_info": {
            "codemirror_mode": {
                "name": "ipython",
                "version": 3
            },
            "file_extension": ".py",
            "mimetype": "text/x-python",
            "name": "python",
            "nbconvert_exporter": "python",
            "pygments_lexer": "ipython3",
            "version": "3.10.4"
        },
        "orig_nbformat": 4,
        "vscode": {
            "interpreter": {
                "hash": "72904a014a9ffe38f4c58942120b599b3c5a87d06764037548e0139929c1cde3"
            }
        }
    },
    "nbformat": 4,
    "nbformat_minor": 2
}
