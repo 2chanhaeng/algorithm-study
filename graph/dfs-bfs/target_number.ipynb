{
 "cells": [
  {
   "cell_type": "markdown",
   "metadata": {},
   "source": [
    "# [프로그래머스/타겟 넘버](https://programmers.co.kr/learn/courses/30/lessons/43165)"
   ]
  },
  {
   "cell_type": "markdown",
   "metadata": {},
   "source": [
    "## 풀이과정"
   ]
  },
  {
   "cell_type": "markdown",
   "metadata": {},
   "source": [
    "### 첫번째 시도"
   ]
  },
  {
   "cell_type": "markdown",
   "metadata": {},
   "source": [
    "각 수의 양수와 음수를 담은 튜플을 카테시안 곱을 이용하여 조합을 만들었다.\\\n",
    "이후 합쳐서 타겟 넘버만 세서 답으로 반환하였다.\n",
    "\n",
    "여담이지만 의도치 않게 한 줄이 나와버렸다...\\\n",
    "웃기네... 그래도 레벨 2짜리 문제인데...\\\n",
    "컴프리헨션 없이는 생각할 수 없는 뇌가 되어버렸다."
   ]
  },
  {
   "cell_type": "code",
   "execution_count": 13,
   "metadata": {},
   "outputs": [
    {
     "data": {
      "text/plain": [
       "2"
      ]
     },
     "execution_count": 13,
     "metadata": {},
     "output_type": "execute_result"
    }
   ],
   "source": [
    "from itertools import product\n",
    "\n",
    "\n",
    "def solution(numbers, target):\n",
    "    return [sum(_) for _ in product(*[(i, -i) for i in numbers])].count(target)"
   ]
  },
  {
   "cell_type": "markdown",
   "metadata": {},
   "source": [
    "## 해답"
   ]
  },
  {
   "cell_type": "code",
   "execution_count": 15,
   "metadata": {},
   "outputs": [],
   "source": [
    "from itertools import product\n",
    "\n",
    "\n",
    "def solution(numbers, target):\n",
    "    return [sum(_) for _ in product(*[(i, -i) for i in numbers])].count(target)"
   ]
  },
  {
   "cell_type": "markdown",
   "metadata": {},
   "source": [
    "## 테스트 결과"
   ]
  },
  {
   "cell_type": "markdown",
   "metadata": {},
   "source": [
    "|테스트|결과|\n",
    "|---:|:---|\n",
    "|테스트 1 〉|통과 (381.62ms, 34.5MB)|\n",
    "|테스트 2 〉|통과 (400.99ms, 34MB)|\n",
    "|테스트 3 〉|통과 (0.34ms, 10.1MB)|\n",
    "|테스트 4 〉|통과 (1.73ms, 10.2MB)|\n",
    "|테스트 5 〉|통과 (9.03ms, 10.6MB)|\n",
    "|테스트 6 〉|통과 (0.47ms, 10.1MB)|\n",
    "|테스트 7 〉|통과 (0.22ms, 10.2MB)|\n",
    "|테스트 8 〉|통과 (2.03ms, 10.1MB)|"
   ]
  },
  {
   "cell_type": "markdown",
   "metadata": {},
   "source": [
    "## 예제"
   ]
  },
  {
   "cell_type": "code",
   "execution_count": 16,
   "metadata": {},
   "outputs": [
    {
     "data": {
      "text/plain": [
       "5"
      ]
     },
     "execution_count": 16,
     "metadata": {},
     "output_type": "execute_result"
    }
   ],
   "source": [
    "solution([1, 1, 1, 1, 1], 3)"
   ]
  },
  {
   "cell_type": "code",
   "execution_count": 17,
   "metadata": {},
   "outputs": [
    {
     "data": {
      "text/plain": [
       "2"
      ]
     },
     "execution_count": 17,
     "metadata": {},
     "output_type": "execute_result"
    }
   ],
   "source": [
    "solution([4, 1, 2, 1], 2)"
   ]
  }
 ],
 "metadata": {
  "interpreter": {
   "hash": "73891b0dc2e53390f36276e59930dd4ecab91b05b5c90320c2d5b1c443f87069"
  },
  "kernelspec": {
   "display_name": "Python 3.10.1 ('venv': venv)",
   "language": "python",
   "name": "python3"
  },
  "language_info": {
   "codemirror_mode": {
    "name": "ipython",
    "version": 3
   },
   "file_extension": ".py",
   "mimetype": "text/x-python",
   "name": "python",
   "nbconvert_exporter": "python",
   "pygments_lexer": "ipython3",
   "version": "3.10.2"
  },
  "orig_nbformat": 4
 },
 "nbformat": 4,
 "nbformat_minor": 2
}
