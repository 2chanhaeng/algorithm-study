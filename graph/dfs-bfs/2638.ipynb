{
 "cells": [
  {
   "cell_type": "markdown",
   "metadata": {},
   "source": [
    "# [백준/치즈](https://www.acmicpc.net/problem/2638)"
   ]
  },
  {
   "cell_type": "markdown",
   "metadata": {},
   "source": [
    "## 풀이과정"
   ]
  },
  {
   "cell_type": "markdown",
   "metadata": {},
   "source": [
    "### 첫번째 시도"
   ]
  },
  {
   "cell_type": "markdown",
   "metadata": {},
   "source": [
    "풀이과정"
   ]
  },
  {
   "cell_type": "code",
   "execution_count": null,
   "metadata": {},
   "outputs": [],
   "source": [
    "def get_out(empty, outer):\n",
    "    yetout = empty - outer\n",
    "    toout = set().union(*(side(x,y) for x, y in outer)) & yetout\n",
    "    while toout:\n",
    "        yetout -= toout\n",
    "        outer |= toout\n",
    "        newout = set()\n",
    "        for x, y in toout:\n",
    "            for u, v in side(x, y) & yetout:\n",
    "                newout.add((u, v))\n",
    "        toout = newout\n",
    "\n",
    "\n",
    "def side(x, y):\n",
    "    return {(x + 1, y),(x - 1, y),(x, y + 1),(x, y - 1)}\n",
    "\n",
    "\n",
    "def solution(input = iter(open(0).read().split(\"\\n\")).__next__):\n",
    "    rows, cols = map(int,input().split())\n",
    "    tomato_list = [list(map(int, input().split())) for _ in range(rows)]\n",
    "    cells = {(row, col):tomato_list[row][col] for col in range(cols) for row in range(rows)}\n",
    "    cells_set = set(cells.keys())\n",
    "    days = 0\n",
    "    empty, cheezes = set(), set()\n",
    "\n",
    "    for (x, y), value in cells.items():\n",
    "        if value == 1:\n",
    "            cheezes.add((x, y))\n",
    "            \n",
    "        else:\n",
    "            empty.add((x, y))\n",
    "    \n",
    "    outer = set()\n",
    "    is_outer = lambda row, col: ((x, y) for x, y in zip(row, col) if not cells[x, y])\n",
    "    outer.update(is_outer(range(rows), [0]*rows))\n",
    "    outer.update(is_outer(range(rows), [cols - 1]*rows))\n",
    "    outer.update(is_outer([0]*cols, range(cols)))\n",
    "    outer.update(is_outer([rows - 1]*cols, range(cols)))\n",
    "\n",
    "    get_out(empty, outer)\n",
    "\n",
    "    tochange = set((x, y) for x, y in cheezes if len(side(x, y) & outer) > 1)\n",
    "    \n",
    "    for days in range(min(cols, rows)):\n",
    "        if not tochange: break\n",
    "        cheezes -= tochange\n",
    "        empty |= tochange\n",
    "        get_out(empty, outer)\n",
    "        tochange = set((x, y) for x, y in cheezes if len(side(x, y) & outer) > 1)\n",
    "    print(-1 if cheezes else days)\n",
    "    \n",
    "    \n",
    "solution()"
   ]
  },
  {
   "cell_type": "markdown",
   "metadata": {},
   "source": [
    "## 해답"
   ]
  },
  {
   "cell_type": "code",
   "execution_count": null,
   "metadata": {},
   "outputs": [],
   "source": [
    "def get_out(empty, outer):\n",
    "    yetout = empty - outer\n",
    "    toout = set().union(*(side(x,y) for x, y in outer)) & yetout\n",
    "    while toout:\n",
    "        yetout -= toout\n",
    "        outer |= toout\n",
    "        newout = set()\n",
    "        for x, y in toout:\n",
    "            for u, v in side(x, y) & yetout:\n",
    "                newout.add((u, v))\n",
    "        toout = newout"
   ]
  },
  {
   "cell_type": "code",
   "execution_count": null,
   "metadata": {},
   "outputs": [],
   "source": [
    "def side(x, y):\n",
    "    return {(x + 1, y),(x - 1, y),(x, y + 1),(x, y - 1)}"
   ]
  },
  {
   "cell_type": "code",
   "execution_count": null,
   "metadata": {},
   "outputs": [],
   "source": [
    "def solution(input = iter(open(0).read().split(\"\\n\")).__next__):\n",
    "    rows, cols = map(int,input().split())\n",
    "    tomato_list = [list(map(int, input().split())) for _ in range(rows)]\n",
    "    cells = {(row, col):tomato_list[row][col] for col in range(cols) for row in range(rows)}\n",
    "    cells_set = set(cells.keys())\n",
    "    days = 0\n",
    "    empty, cheezes = set(), set()\n",
    "\n",
    "    for (x, y), value in cells.items():\n",
    "        if value == 1:\n",
    "            cheezes.add((x, y))\n",
    "            \n",
    "        else:\n",
    "            empty.add((x, y))\n",
    "    \n",
    "    outer = set()\n",
    "    is_outer = lambda row, col: ((x, y) for x, y in zip(row, col) if not cells[x, y])\n",
    "    outer.update(is_outer(range(rows), [0]*rows))\n",
    "    outer.update(is_outer(range(rows), [cols - 1]*rows))\n",
    "    outer.update(is_outer([0]*cols, range(cols)))\n",
    "    outer.update(is_outer([rows - 1]*cols, range(cols)))\n",
    "\n",
    "    get_out(empty, outer)\n",
    "\n",
    "    tochange = set((x, y) for x, y in cheezes if len(side(x, y) & outer) > 1)\n",
    "    \n",
    "    for days in range(min(cols, rows)):\n",
    "        if not tochange: break\n",
    "        cheezes -= tochange\n",
    "        empty |= tochange\n",
    "        get_out(empty, outer)\n",
    "        tochange = set((x, y) for x, y in cheezes if len(side(x, y) & outer) > 1)\n",
    "    print(-1 if cheezes else days)"
   ]
  },
  {
   "cell_type": "markdown",
   "metadata": {},
   "source": [
    "## 예제"
   ]
  },
  {
   "cell_type": "code",
   "execution_count": null,
   "metadata": {},
   "outputs": [],
   "source": [
    "%load_ext blackcellmagic\n",
    "# %%black"
   ]
  },
  {
   "cell_type": "code",
   "execution_count": null,
   "metadata": {},
   "outputs": [],
   "source": [
    "# 백준 문제 풀이용 예제 실행 코드\n",
    "from bwj import test\n",
    "test_solution = test(solution)\n",
    "\n",
    "# test_solution(\"\"\"\"\"\")\n",
    "# test_solution(read(\"fn\").read())"
   ]
  },
  {
   "cell_type": "code",
   "execution_count": null,
   "metadata": {},
   "outputs": [],
   "source": [
    "test_solution(\"\"\"8 9\n",
    "0 0 0 0 0 0 0 0 0\n",
    "0 0 0 1 1 0 0 0 0\n",
    "0 0 0 1 1 0 1 1 0\n",
    "0 0 1 1 1 1 1 1 0\n",
    "0 0 1 1 1 1 1 0 0\n",
    "0 0 1 1 0 1 1 0 0\n",
    "0 0 0 0 0 0 0 0 0\n",
    "0 0 0 0 0 0 0 0 0\"\"\") # 4"
   ]
  },
  {
   "cell_type": "code",
   "execution_count": null,
   "metadata": {},
   "outputs": [],
   "source": [
    "test_solution(\"\"\"8 9\n",
    "0 0 0 0 0 0 0 0 0\n",
    "0 0 0 0 0 0 0 0 0\n",
    "0 1 1 0 0 0 1 1 0\n",
    "0 1 0 1 1 1 0 1 0\n",
    "0 1 0 0 1 0 0 1 0\n",
    "0 1 0 1 1 1 0 1 0\n",
    "0 1 1 0 0 0 1 1 0\n",
    "0 0 0 0 0 0 0 0 0\"\"\") # 3"
   ]
  }
 ],
 "metadata": {
  "interpreter": {
   "hash": "73891b0dc2e53390f36276e59930dd4ecab91b05b5c90320c2d5b1c443f87069"
  },
  "kernelspec": {
   "display_name": "Python 3.10.1 ('venv': venv)",
   "language": "python",
   "name": "python3"
  },
  "language_info": {
   "codemirror_mode": {
    "name": "ipython",
    "version": 3
   },
   "file_extension": ".py",
   "mimetype": "text/x-python",
   "name": "python",
   "nbconvert_exporter": "python",
   "pygments_lexer": "ipython3",
   "version": "3.10.1"
  },
  "orig_nbformat": 4
 },
 "nbformat": 4,
 "nbformat_minor": 2
}
