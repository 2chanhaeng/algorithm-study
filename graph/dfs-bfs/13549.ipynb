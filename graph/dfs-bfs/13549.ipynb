{
    "cells": [
        {
            "cell_type": "markdown",
            "metadata": {},
            "source": [
                "# [백준/숨바꼭질 3](https://www.acmicpc.net/problem/13549)"
            ]
        },
        {
            "cell_type": "markdown",
            "metadata": {},
            "source": [
                "## 풀이과정"
            ]
        },
        {
            "cell_type": "markdown",
            "metadata": {},
            "source": [
                "### 첫번째 시도"
            ]
        },
        {
            "cell_type": "markdown",
            "metadata": {},
            "source": [
                "#### 풀이과정\n",
                "일반적인 BFS를 이용했던 [숨바꼭질 2](https://www.acmicpc.net/problem/12851) [문제 풀이](/graph/dfs-bfs/12851.ipynb)를 참고하여 0-1 BFS를 적용하여 해결하였습니다. 이동 비용이 0인 $\\times 2$ 구간만 `deque.appendleft` 메소드로 덱의 맨 앞에 넣었습니다."
            ]
        },
        {
            "cell_type": "code",
            "execution_count": null,
            "metadata": {},
            "outputs": [],
            "source": [
                "def solution():\n",
                "    import sys\n",
                "    import collections\n",
                "\n",
                "    start, end = map(int, sys.stdin.read().split())\n",
                "    if start >= end:\n",
                "        # 시작보다 끝이 작으면 도달할 때까지 뒤로 가는 방법 뿐이고\n",
                "        # 시작과 끝이 같으면 움직일 필요가 없으므로\n",
                "        # 두 경우에는 바로 차를 출력\n",
                "        print(start - end)\n",
                "        return\n",
                "\n",
                "    # 갈 곳과 걸음 수을 저장하는 덱\n",
                "    tovisit = collections.deque([(start, 0)])\n",
                "    # 갔던 곳을 저장하는 집합\n",
                "    visited = set()\n",
                "    # 도착지까지 필요한 최소 걸음수\n",
                "    # 초기 값은 +1 만을 가정한 두 수의 차\n",
                "    min_step = end - start + 1\n",
                "\n",
                "    # 갈 곳이 남아있는 동안 반복\n",
                "    while tovisit:\n",
                "        # 갈 곳과 걸음수를 처음에서 뽑기\n",
                "        now, step = tovisit.popleft()\n",
                "        # 갈 곳을 간 곳에 추가\n",
                "        visited.add(now)\n",
                "\n",
                "        if min_step < step:\n",
                "            # 도착지까지 최소 걸음수 이상의 걸음수라면 무시\n",
                "            continue\n",
                "        if now == end:\n",
                "            if min_step > step:\n",
                "                # 도착지에 도착했을 때 최소 걸음수보다\n",
                "                # 걸음수가 최소 걸음 수 미만이라면 최소 걸음수를 변경\n",
                "                min_step = step\n",
                "            continue\n",
                "        if 0 <= (goto := now * 2) <= 100000 and goto not in visited:\n",
                "            # 현재의 두 배가 제한 이내이고 갔던 적이 없다면\n",
                "            # 갈 곳의 맨 앞에 걸음 수 그대로와 추가\n",
                "            tovisit.appendleft((goto, step))\n",
                "        # 걸음 수에 하나 추가\n",
                "        step += 1\n",
                "        for goto in [now + 1, now - 1]:\n",
                "            if 0 <= goto <= 100000 and goto not in visited:\n",
                "                # 앞 혹은 뒤가 제한 이내이고 갔던 적이 없다면\n",
                "                # 갈 곳의 맨 뒤에 1 더해진 걸음 수와 함께 추가\n",
                "                tovisit.append((goto, step))\n",
                "\n",
                "    # 최소 걸음 수 추가\n",
                "    print(min_step)\n",
                "\n",
                "\n",
                "solution()"
            ]
        },
        {
            "cell_type": "markdown",
            "metadata": {},
            "source": [
                "## 해답"
            ]
        },
        {
            "cell_type": "code",
            "execution_count": 5,
            "metadata": {},
            "outputs": [],
            "source": [
                "from collections import deque"
            ]
        },
        {
            "cell_type": "code",
            "execution_count": 60,
            "metadata": {},
            "outputs": [],
            "source": [
                "def solution():\n",
                "    import sys\n",
                "\n",
                "    start, end = map(int, sys.stdin.read().split())\n",
                "    if start >= end:\n",
                "        print(end - start)\n",
                "        return\n",
                "\n",
                "    min_step = end - start + 1\n",
                "    tovisit = deque([(start, 0)])\n",
                "    visited = set()\n",
                "\n",
                "    while tovisit:\n",
                "        now, step = tovisit.popleft()\n",
                "        visited.add(now)\n",
                "\n",
                "        if min_step < step:\n",
                "            continue\n",
                "        if now == end:\n",
                "            if min_step > step:\n",
                "                min_step = step\n",
                "            continue\n",
                "        if 0 <= (goto := now * 2) <= 100000 and goto not in visited:\n",
                "            tovisit.appendleft((goto, step))\n",
                "        step += 1\n",
                "        for goto in [now + 1, now - 1]:\n",
                "            if 0 <= goto <= 100000 and goto not in visited:\n",
                "                tovisit.append((goto, step))\n",
                "\n",
                "    print(min_step)"
            ]
        },
        {
            "cell_type": "markdown",
            "metadata": {},
            "source": [
                "## 예제"
            ]
        },
        {
            "cell_type": "code",
            "execution_count": 61,
            "metadata": {},
            "outputs": [],
            "source": [
                "# black 모듈을 jupyter notebook 내에서 사용 가능하게 만들어주는 blackcellmagic 모듈 불러오기\n",
                "# %%black\n",
                "\n",
                "# 백준 문제 풀이용 예제 실행 코드\n",
                "from bwj import test\n",
                "test_solution = test(solution)\n",
                "\n",
                "# test_solution(\"\"\"\"\"\")\n",
                "# test_solution(read(\"fn\").read())"
            ]
        },
        {
            "cell_type": "code",
            "execution_count": 62,
            "metadata": {},
            "outputs": [
                {
                    "name": "stdout",
                    "output_type": "stream",
                    "text": [
                        "5\n"
                    ]
                }
            ],
            "source": [
                "test_solution(\"\"\"1 100000\n",
                "\"\"\") # 5"
            ]
        },
        {
            "cell_type": "code",
            "execution_count": 63,
            "metadata": {},
            "outputs": [
                {
                    "name": "stdout",
                    "output_type": "stream",
                    "text": [
                        "2\n"
                    ]
                }
            ],
            "source": [
                "test_solution(\"\"\"5 17\n",
                "\"\"\") # 2"
            ]
        }
    ],
    "metadata": {
        "kernelspec": {
            "display_name": "Python 3.10.4 ('venv': venv)",
            "language": "python",
            "name": "python3"
        },
        "language_info": {
            "codemirror_mode": {
                "name": "ipython",
                "version": 3
            },
            "file_extension": ".py",
            "mimetype": "text/x-python",
            "name": "python",
            "nbconvert_exporter": "python",
            "pygments_lexer": "ipython3",
            "version": "3.10.4"
        },
        "orig_nbformat": 4,
        "vscode": {
            "interpreter": {
                "hash": "72904a014a9ffe38f4c58942120b599b3c5a87d06764037548e0139929c1cde3"
            }
        }
    },
    "nbformat": 4,
    "nbformat_minor": 2
}
