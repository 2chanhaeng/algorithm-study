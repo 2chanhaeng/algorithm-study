{
 "cells": [
  {
   "cell_type": "markdown",
   "metadata": {},
   "source": [
    "# [백준/이진 검색 트리](https://www.acmicpc.net/problem/5639)"
   ]
  },
  {
   "cell_type": "markdown",
   "metadata": {},
   "source": [
    "## 풀이과정"
   ]
  },
  {
   "cell_type": "markdown",
   "metadata": {},
   "source": [
    "### 첫번째 시도"
   ]
  },
  {
   "cell_type": "markdown",
   "metadata": {},
   "source": [
    "풀이과정"
   ]
  },
  {
   "cell_type": "code",
   "execution_count": 20,
   "metadata": {},
   "outputs": [],
   "source": [
    "def solution():\n",
    "    import sys\n",
    "    import itertools\n",
    "\n",
    "    def pre2post(tree):\n",
    "        if len(tree) < 2:\n",
    "            return tree\n",
    "\n",
    "        root, *children = tree\n",
    "        left = pre2post(list(itertools.takewhile(lambda x: x < root, children)))\n",
    "        right = pre2post(children[len(left) :])\n",
    "        return left + right + [root]\n",
    "\n",
    "    sys.setrecursionlimit(200000)\n",
    "    tree = list(map(int, sys.stdin.read().split()))\n",
    "    print(*pre2post(tree))\n",
    "\n",
    "\n",
    "solution()"
   ]
  },
  {
   "cell_type": "markdown",
   "metadata": {},
   "source": [
    "### 두번째 시도"
   ]
  },
  {
   "cell_type": "markdown",
   "metadata": {},
   "source": [
    "풀이과정"
   ]
  },
  {
   "cell_type": "code",
   "execution_count": null,
   "metadata": {},
   "outputs": [],
   "source": [
    "def solution():\n",
    "    import sys\n",
    "    import itertools\n",
    "\n",
    "    def pre2post(tree):\n",
    "        if len(tree) < 2:\n",
    "            return tree\n",
    "\n",
    "        root = tree[0]\n",
    "        left = list(itertools.takewhile(lambda x: x < root, tree[1:]))\n",
    "        return pre2post(left) + pre2post(tree[1 + len(left) :]) + [root]\n",
    "\n",
    "    sys.setrecursionlimit(20000)\n",
    "    tree = list(map(int, sys.stdin.read().split()))\n",
    "    print(*pre2post(tree))\n",
    "\n",
    "\n",
    "solution()"
   ]
  },
  {
   "cell_type": "markdown",
   "metadata": {},
   "source": [
    "### 세번째 시도"
   ]
  },
  {
   "cell_type": "markdown",
   "metadata": {},
   "source": [
    "풀이과정"
   ]
  },
  {
   "cell_type": "code",
   "execution_count": 140,
   "metadata": {},
   "outputs": [],
   "source": [
    "def solution():\n",
    "    import sys\n",
    "    from itertools import takewhile\n",
    "        \n",
    "    sys.setrecursionlimit(20000)\n",
    "    tree = list(map(int, sys.stdin.read().split()))\n",
    "    count = lambda it: sum(1 for _ in it)\n",
    "\n",
    "    def pre2post(start, end):\n",
    "        if start > end:\n",
    "            return\n",
    "\n",
    "        root = tree[start]\n",
    "        left = count(takewhile(root.__gt__, tree[start + 1 : end + 1]))\n",
    "        mid = start + left\n",
    "\n",
    "        pre2post(start + 1, mid)\n",
    "        pre2post(mid + 1, end)\n",
    "        print(root)\n",
    "\n",
    "    pre2post(0, len(tree) - 1)\n",
    "\n",
    "\n",
    "solution()"
   ]
  },
  {
   "cell_type": "markdown",
   "metadata": {},
   "source": [
    "## 해답"
   ]
  },
  {
   "cell_type": "code",
   "execution_count": 1,
   "metadata": {},
   "outputs": [],
   "source": [
    "def solution():\n",
    "    import sys\n",
    "    from itertools import takewhile\n",
    "\n",
    "    sys.setrecursionlimit(20000)\n",
    "    tree = list(map(int, sys.stdin.read().split())) # 전위 순회 트리\n",
    "    count = lambda it: sum(1 for _ in it) # 이터레이터 길이\n",
    "\n",
    "    def pre2post(start, end):\n",
    "        # 서브트리의 시작(루트)와 마지막을 인자로 받음\n",
    "        if start > end:\n",
    "            # 시작이 종료보다 큰 경우 재귀 종료\n",
    "            return\n",
    "\n",
    "        root = tree[start] # 루트\n",
    "        left = count(takewhile(root.__gt__, tree[start + 1 : end + 1]))\n",
    "        # 왼쪽 서브트리의 노드들은 루트보다 작으므로\n",
    "        # 왼쪽 서브트리의 길이는 루트 이후부터 루트보다 큰 노드까지가 나오기 전\n",
    "        mid = start + left # 왼쪽 서브트리와 오른쪽 서브트리의 경계\n",
    "\n",
    "        pre2post(start + 1, mid) # 왼쪽 서브트리 출력\n",
    "        pre2post(mid + 1, end) # 오른쪽 서브트리 출력\n",
    "        print(root) # 루트 출력\n",
    "\n",
    "    pre2post(0, len(tree) - 1) # 전체 트리 출력"
   ]
  },
  {
   "cell_type": "markdown",
   "metadata": {},
   "source": [
    "## 예제"
   ]
  },
  {
   "cell_type": "code",
   "execution_count": 2,
   "metadata": {},
   "outputs": [],
   "source": [
    "%load_ext blackcellmagic\n",
    "# 백준 문제 풀이용 예제 실행 코드\n",
    "from bwj import test\n",
    "test_solution = test(solution)\n",
    "\n",
    "# test_solution(\"\"\"\"\"\")\n",
    "# test_solution(read(\"fn\").read())"
   ]
  },
  {
   "cell_type": "code",
   "execution_count": 3,
   "metadata": {},
   "outputs": [
    {
     "name": "stdout",
     "output_type": "stream",
     "text": [
      "5\n",
      "28\n",
      "24\n",
      "45\n",
      "30\n",
      "60\n",
      "52\n",
      "98\n",
      "50\n"
     ]
    }
   ],
   "source": [
    "test_solution(\"\"\"50\n",
    "30\n",
    "24\n",
    "5\n",
    "28\n",
    "45\n",
    "98\n",
    "52\n",
    "60\n",
    "\"\"\")\n",
    "# 5\n",
    "# 28\n",
    "# 24\n",
    "# 45\n",
    "# 30\n",
    "# 60\n",
    "# 52\n",
    "# 98\n",
    "# 50"
   ]
  }
 ],
 "metadata": {
  "kernelspec": {
   "display_name": "Python 3.10.6 64-bit",
   "language": "python",
   "name": "python3"
  },
  "language_info": {
   "codemirror_mode": {
    "name": "ipython",
    "version": 3
   },
   "file_extension": ".py",
   "mimetype": "text/x-python",
   "name": "python",
   "nbconvert_exporter": "python",
   "pygments_lexer": "ipython3",
   "version": "3.10.6"
  },
  "orig_nbformat": 4,
  "vscode": {
   "interpreter": {
    "hash": "26de051ba29f2982a8de78e945f0abaf191376122a1563185a90213a26c5da77"
   }
  }
 },
 "nbformat": 4,
 "nbformat_minor": 2
}
