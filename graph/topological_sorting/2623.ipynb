{
    "cells": [
        {
            "cell_type": "markdown",
            "metadata": {},
            "source": [
                "# [백준/음악프로그램](https://www.acmicpc.net/problem/2623)\n"
            ]
        },
        {
            "cell_type": "markdown",
            "metadata": {},
            "source": [
                "## 풀이과정\n"
            ]
        },
        {
            "cell_type": "markdown",
            "metadata": {},
            "source": [
                "### 첫번째 시도\n"
            ]
        },
        {
            "cell_type": "markdown",
            "metadata": {},
            "source": [
                "#### 풀이과정\n",
                "\n",
                "`graph`에 각 노드의 다음 연결 노드를 저장하고 `comes`에 진입차수를 저장했다.  \n",
                "`comes` 가 빌 때까지 다음의 과정을 반복한다.\n",
                "\n",
                "1. `comes`에서 진입차수가 0인 노드를 모두 찾아 `zero`에 저장한다.\n",
                "2. `zero`가 비어있다면 사이클이 존재한다는 뜻이므로 정렬이 불가능하니 `0`을 출력하고 종료한다.\n",
                "3. 비어있지 않다면 `zero`에 있는 노드를 `result`에 추가하고 `graph`에서 해당 노드와 연결된 노드를 가져와 `comes`에 저장되어 있는 노드 별 진입차수를 1씩 감소시킨다.\n"
            ]
        },
        {
            "cell_type": "code",
            "execution_count": null,
            "metadata": {},
            "outputs": [],
            "source": [
                "def solution():\n",
                "    import sys\n",
                "\n",
                "    n, _ = map(int, sys.stdin.buffer.readline().split())\n",
                "    graph = [[] for _ in range(n + 1)]\n",
                "    comes = {i: 0 for i in range(1, n + 1)}\n",
                "    for lines in map(bytes.split, sys.stdin.buffer):\n",
                "        nodes = list(map(int, lines[1:]))\n",
                "        for prev, curr in zip(nodes, nodes[1:]):\n",
                "            graph[prev].append(curr)\n",
                "            comes[curr] += 1\n",
                "\n",
                "    result = []\n",
                "\n",
                "    while comes:\n",
                "        zero = [i for i, j in comes.items() if not j]\n",
                "        if not zero:\n",
                "            return print(\"0\")\n",
                "        for i in zero:\n",
                "            del comes[i]\n",
                "            for j in graph[i]:\n",
                "                comes[j] -= 1\n",
                "        result.extend(zero)\n",
                "\n",
                "    print(\" \".join(map(str, result)))\n",
                "\n",
                "\n",
                "solution()"
            ]
        },
        {
            "cell_type": "markdown",
            "metadata": {},
            "source": [
                "## 해답\n"
            ]
        },
        {
            "cell_type": "code",
            "execution_count": 1,
            "metadata": {},
            "outputs": [],
            "source": [
                "def solution():\n",
                "    import sys\n",
                "\n",
                "    n, _ = map(int, sys.stdin.readline().split())\n",
                "    graph = [[] for _ in range(n + 1)]\n",
                "    comes = {i: 0 for i in range(1, n + 1)}\n",
                "    for lines in map(str.split, sys.stdin):\n",
                "        nodes = list(map(int, lines[1:]))\n",
                "        for prev, curr in zip(nodes, nodes[1:]):\n",
                "            graph[prev].append(curr)\n",
                "            comes[curr] += 1\n",
                "\n",
                "    result = []\n",
                "\n",
                "    while comes:\n",
                "        zero = [i for i, j in comes.items() if not j]\n",
                "        if not zero:\n",
                "            return print(\"0\")\n",
                "        for i in zero:\n",
                "            del comes[i]\n",
                "            for j in graph[i]:\n",
                "                comes[j] -= 1\n",
                "        result.extend(zero)\n",
                "\n",
                "    print(\" \".join(map(str, result)))"
            ]
        },
        {
            "cell_type": "markdown",
            "metadata": {},
            "source": [
                "## 예제\n"
            ]
        },
        {
            "cell_type": "code",
            "execution_count": 2,
            "metadata": {},
            "outputs": [],
            "source": [
                "# 백준 문제 풀이용 예제 실행 코드\n",
                "from bwj import test\n",
                "\n",
                "test_solution = test(solution)\n",
                "\n",
                "# test_solution(\"\"\"\"\"\")\n",
                "# test_solution(read(\"fn\").read())"
            ]
        },
        {
            "cell_type": "code",
            "execution_count": 3,
            "metadata": {},
            "outputs": [
                {
                    "name": "stdout",
                    "output_type": "stream",
                    "text": [
                        "1 6 2 5 4 3\n"
                    ]
                }
            ],
            "source": [
                "test_solution(\n",
                "    \"\"\"6 3\n",
                "3 1 4 3\n",
                "4 6 2 5 4\n",
                "2 2 3\n",
                "\"\"\"\n",
                ")\n",
                "# answer:\n",
                "# 6\n",
                "# 2\n",
                "# 1\n",
                "# 5\n",
                "# 4\n",
                "# 3"
            ]
        }
    ],
    "metadata": {
        "interpreter": {
            "hash": "73891b0dc2e53390f36276e59930dd4ecab91b05b5c90320c2d5b1c443f87069"
        },
        "kernelspec": {
            "display_name": "Python 3.10.1 ('venv': venv)",
            "language": "python",
            "name": "python3"
        },
        "language_info": {
            "codemirror_mode": {
                "name": "ipython",
                "version": 3
            },
            "file_extension": ".py",
            "mimetype": "text/x-python",
            "name": "python",
            "nbconvert_exporter": "python",
            "pygments_lexer": "ipython3",
            "version": "3.12.2"
        },
        "orig_nbformat": 4
    },
    "nbformat": 4,
    "nbformat_minor": 2
}
