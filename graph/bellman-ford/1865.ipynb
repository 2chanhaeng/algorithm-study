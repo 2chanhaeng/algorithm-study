{
 "cells": [
  {
   "cell_type": "markdown",
   "metadata": {},
   "source": [
    "# [백준/웜홀](https://www.acmicpc.net/problem/1865)"
   ]
  },
  {
   "cell_type": "markdown",
   "metadata": {},
   "source": [
    "## 풀이과정"
   ]
  },
  {
   "cell_type": "markdown",
   "metadata": {},
   "source": [
    "### 첫번째 시도"
   ]
  },
  {
   "cell_type": "markdown",
   "metadata": {},
   "source": [
    "#### 풀이과정\n",
    "벨만 포드를 적용시켰으나 사이클이 첫번째 노드를 포함하지 않는다면 사이클을 검출할 수 없기에 오답이 나왔습니다."
   ]
  },
  {
   "cell_type": "code",
   "execution_count": null,
   "metadata": {},
   "outputs": [],
   "source": [
    "def solution():\n",
    "    import sys\n",
    "\n",
    "    input = sys.stdin.readline\n",
    "    inf = 250000001\n",
    "    for _ in range(int(input())):\n",
    "        n, m, w = map(int, input().split())\n",
    "        edges = [\n",
    "            tuple(map(int, input.split())) for _, input in zip(range(m), sys.stdin)\n",
    "        ]\n",
    "        edges += [(e, s, t) for s, e, t in edges]\n",
    "        edges += [\n",
    "            (s, e, -t)\n",
    "            for s, e, t in (\n",
    "                map(int, input.split()) for _, input in zip(range(w), sys.stdin)\n",
    "            )\n",
    "        ]\n",
    "        from1 = [0, 0] + [inf] * (n - 1)\n",
    "        for _ in range(n + 1):\n",
    "            is_updated = False\n",
    "            for s, e, t in edges:\n",
    "                if from1[s] == inf:\n",
    "                    continue\n",
    "                new = from1[s] + t\n",
    "                if from1[e] > new:\n",
    "                    from1[e] = new\n",
    "                    is_updated = True\n",
    "            if not is_updated:\n",
    "                break\n",
    "        print(\"YES\" if is_updated else \"NO\")\n",
    "\n",
    "\n",
    "solution()"
   ]
  },
  {
   "cell_type": "markdown",
   "metadata": {},
   "source": [
    "### 두번째 시도"
   ]
  },
  {
   "cell_type": "markdown",
   "metadata": {},
   "source": [
    "#### 풀이과정\n",
    "첫번째 풀이에서 첫번째 노드 뿐만이 아니라 모든 노드를 검사하도록 만들었지만 이로 인하여 시간이 매우 증가하여 시간 초과가 났습니다."
   ]
  },
  {
   "cell_type": "code",
   "execution_count": null,
   "metadata": {},
   "outputs": [],
   "source": [
    "def solution():\n",
    "    import sys\n",
    "\n",
    "    input = sys.stdin.readline\n",
    "    inf = 250000001\n",
    "    for _ in range(int(input())):\n",
    "        n, m, w = map(int, input().split())\n",
    "        edges = {}\n",
    "        for _, input_ in zip(range(m), sys.stdin):\n",
    "            s, e, t = map(int, input_.split())\n",
    "            s, e = s - 1, e - 1\n",
    "            if (s, e) in edges:\n",
    "                edges[s, e] = edges[e, s] = min(t, edges[s, e])\n",
    "            else:\n",
    "                edges[s, e] = edges[e, s] = t\n",
    "        for _, input_ in zip(range(w), sys.stdin):\n",
    "            s, e, t = map(int, input_.split())\n",
    "            s, e, t = s - 1, e - 1, -t\n",
    "            if (s, e) in edges:\n",
    "                edges[s, e] = min(t, edges[s, e])\n",
    "            else:\n",
    "                edges[s, e] = t\n",
    "        graph = [\n",
    "            [edges[s, e] if (s, e) in edges else inf if s != e else 0 for e in range(n)]\n",
    "            for s in range(n)\n",
    "        ]\n",
    "        for _ in range(n):\n",
    "            is_updated = False\n",
    "            for (s, e), t in edges.items():\n",
    "                for nodeto in graph:\n",
    "                    if nodeto[s] == inf:\n",
    "                        continue\n",
    "                    new = nodeto[s] + t\n",
    "                    if nodeto[e] > new:\n",
    "                        nodeto[e] = new\n",
    "                        is_updated = True\n",
    "            if not is_updated:\n",
    "                break\n",
    "        print(\"YES\" if is_updated else \"NO\")\n",
    "\n",
    "\n",
    "solution()"
   ]
  },
  {
   "cell_type": "markdown",
   "metadata": {},
   "source": [
    "### 세번째 시도"
   ]
  },
  {
   "cell_type": "markdown",
   "metadata": {},
   "source": [
    "#### 풀이과정\n",
    "두번쨰 풀이에서 시작점을 모든 점으로 잡지 않고 들렀던 점을 저장하는 집합을 만든 뒤, 만약 어떤 점이 현재 시작점으로 포함되는 점과 쌍방으로 연결되어 있다면 해당 점 또한 포함시켰습니다. 이후, 들렀던 점이 아닌 경우에만 검사해서 효율성을 증가시켰습니다."
   ]
  },
  {
   "cell_type": "code",
   "execution_count": null,
   "metadata": {},
   "outputs": [],
   "source": [
    "def solution():\n",
    "    import sys\n",
    "\n",
    "    input = sys.stdin.readline\n",
    "    inf = 250000001\n",
    "    for _ in range(int(input())):\n",
    "        n, m, w = map(int, input().split())\n",
    "        edges = {}\n",
    "        for _, input_ in zip(range(m), sys.stdin):\n",
    "            # 쌍방향 도로\n",
    "            s, e, t = map(int, input_.split())\n",
    "            s, e = s - 1, e - 1\n",
    "            if (s, e) in edges:\n",
    "                # 이미 있는 경우 더 적게 걸리는 도로만 저장\n",
    "                edges[s, e] = edges[e, s] = min(t, edges[s, e])\n",
    "            else:\n",
    "                # 없으면 그대로 저장합니다.\n",
    "                edges[s, e] = edges[e, s] = t\n",
    "        for _, input_ in zip(range(w), sys.stdin):\n",
    "            # 단방향 웜홀\n",
    "            s, e, t = map(int, input_.split())\n",
    "            s, e, t = s - 1, e - 1, -t\n",
    "            if (s, e) in edges:\n",
    "                # 이미 도로나 웜홀이 있는 경우 더 적게 걸리는 웜홀을 저장합니다.\n",
    "                edges[s, e] = min(t, edges[s, e])\n",
    "            else:\n",
    "                # 없으면 바로 저장합니다.\n",
    "                edges[s, e] = t\n",
    "        # 점에서 점으로 가는 최소 비용을 저장하는 리스트\n",
    "        graph = [\n",
    "            [edges[s, e] if (s, e) in edges else inf if s != e else 0 for e in range(n)]\n",
    "            for s in range(n)\n",
    "        ]\n",
    "        # 들렀던 점을 저장하는 집합\n",
    "        visited = set()\n",
    "        for node, nodeto in enumerate(graph):\n",
    "            if node in visited:\n",
    "                # 이미 들렀던 점일 경우 생략합니다.\n",
    "                continue\n",
    "            # 현재 점을 저장합니다.\n",
    "            visited.add(node)\n",
    "            for _ in range(n):\n",
    "                # 변한 적이 있는지 체크하는 부울 값\n",
    "                is_updated = False\n",
    "                for (s, e), t in edges.items():\n",
    "                    if nodeto[s] == inf:\n",
    "                        # 만약 현재 점에서 경로의 시작점까지의 거리가\n",
    "                        # 무한대일 경우 생략합니다.\n",
    "                        continue\n",
    "                    # 현재 점에서 경로의 시작점까지의 거리와\n",
    "                    # 경로의 거리를 더하여 새 거리를 만듭니다.\n",
    "                    new = nodeto[s] + t\n",
    "                    if nodeto[e] > new:\n",
    "                        # 만약 새 거리가 기존 거리보다 작다면\n",
    "                        # 새 거리를 저장합니다.\n",
    "                        nodeto[e] = new\n",
    "                        # 변한 적이 있으므로 값을 참으로 바꿉니다.\n",
    "                        is_updated = True\n",
    "                if not is_updated:\n",
    "                    # 변한 적이 없다면 더이상 변할 필요가 없으므로 반복을 종료합니다.\n",
    "                    break\n",
    "            if is_updated:\n",
    "                # 벨만-포드 알고리즘의 최대 경로인\n",
    "                # n번의 경로를 돌았음에도 변한 적이 있었다면\n",
    "                # 무한히 경로가 작아지는 경우가 있다는 뜻이므로\n",
    "                # 반복을 멈춥니다.\n",
    "                break\n",
    "            for i in range(n):\n",
    "                if graph[i][node] < inf:\n",
    "                    # 어떤 점에서 현재 점으로 들어오는 거리가 무한보다 작다면\n",
    "                    # 현재 점과 연결되어 있다는 뜻이므로\n",
    "                    # 들렀던 점에 포함시킵니다.\n",
    "                    visited.add(i)\n",
    "        # 한 번이라도 n 번 이상 검사했을 때까지 변한 점이 있다면\n",
    "        # 무한히 거리가 줄어드는 경로가 존재한다는 뜻이므로\n",
    "        # 변한 적이 있다면 \"YES\" 아니라면 \"NO\"를 출력\n",
    "        print(\"YES\" if is_updated else \"NO\")\n",
    "\n",
    "\n",
    "solution()"
   ]
  },
  {
   "cell_type": "markdown",
   "metadata": {},
   "source": [
    "## 해답"
   ]
  },
  {
   "cell_type": "code",
   "execution_count": 108,
   "metadata": {},
   "outputs": [],
   "source": [
    "def solution():\n",
    "    import sys\n",
    "\n",
    "    input = sys.stdin.readline\n",
    "    inf = 250000001\n",
    "    for _ in range(int(input())):\n",
    "        n, m, w = map(int, input().split())\n",
    "        edges = {}\n",
    "        for _, input_ in zip(range(m), sys.stdin):\n",
    "            s, e, t = map(int, input_.split())\n",
    "            s, e = s - 1, e - 1\n",
    "            if (s, e) in edges:\n",
    "                edges[s, e] = edges[e, s] = min(t, edges[s, e])\n",
    "            else:\n",
    "                edges[s, e] = edges[e, s] = t\n",
    "        for _, input_ in zip(range(w), sys.stdin):\n",
    "            s, e, t = map(int, input_.split())\n",
    "            s, e, t = s - 1, e - 1, -t\n",
    "            if (s, e) in edges:\n",
    "                edges[s, e] = min(t, edges[s, e])\n",
    "            else:\n",
    "                edges[s, e] = t\n",
    "        graph = [\n",
    "            [edges[s, e] if (s, e) in edges else inf if s != e else 0 for e in range(n)]\n",
    "            for s in range(n)\n",
    "        ]\n",
    "        visited = set()\n",
    "        for node, nodeto in enumerate(graph):\n",
    "            if node in visited:\n",
    "                continue\n",
    "            visited.add(node)\n",
    "            for _ in range(n):\n",
    "                is_updated = False\n",
    "                for (s, e), t in edges.items():\n",
    "                    if nodeto[s] == inf:\n",
    "                        continue\n",
    "                    new = nodeto[s] + t\n",
    "                    if nodeto[e] > new:\n",
    "                        nodeto[e] = new\n",
    "                        is_updated = True\n",
    "                if not is_updated:\n",
    "                    break\n",
    "            if is_updated:\n",
    "                break\n",
    "            for i in range(n):\n",
    "                if graph[i][node] < inf:\n",
    "                    visited.add(i)\n",
    "        print(\"YES\" if is_updated else \"NO\")"
   ]
  },
  {
   "cell_type": "markdown",
   "metadata": {},
   "source": [
    "## 예제"
   ]
  },
  {
   "cell_type": "code",
   "execution_count": 109,
   "metadata": {},
   "outputs": [
    {
     "name": "stdout",
     "output_type": "stream",
     "text": [
      "The blackcellmagic extension is already loaded. To reload it, use:\n",
      "  %reload_ext blackcellmagic\n"
     ]
    }
   ],
   "source": [
    "# black 모듈을 jupyter notebook 내에서 사용 가능하게 만들어주는 blackcellmagic 모듈 불러오기\n",
    "%load_ext blackcellmagic\n",
    "# %%black\n",
    "\n",
    "# 백준 문제 풀이용 예제 실행 코드\n",
    "from bwj import test\n",
    "\n",
    "test_solution = test(solution)\n",
    "\n",
    "# test_solution(\"\"\"\"\"\")\n",
    "# test_solution(read(\"fn\").read())"
   ]
  },
  {
   "cell_type": "code",
   "execution_count": 110,
   "metadata": {},
   "outputs": [
    {
     "name": "stdout",
     "output_type": "stream",
     "text": [
      "YES\n",
      "YES\n"
     ]
    }
   ],
   "source": [
    "exmaples = [\n",
    "    \"\"\"4 4 1\n",
    "1 4 1\n",
    "4 1 1\n",
    "3 1 1\n",
    "3 2 1\n",
    "2 3 2\"\"\",\n",
    "    \"\"\"4 3 1\n",
    "1 2 1\n",
    "2 1 1\n",
    "3 4 1\n",
    "4 3 2\"\"\",\n",
    "]\n",
    "exmaple = \"\\n\".join([str(len(exmaples))] + exmaples)\n",
    "test_solution(exmaple)\n",
    "# answer:\n",
    "# YES\n",
    "# YES"
   ]
  },
  {
   "cell_type": "code",
   "execution_count": 111,
   "metadata": {},
   "outputs": [
    {
     "name": "stdout",
     "output_type": "stream",
     "text": [
      "NO\n",
      "YES\n"
     ]
    }
   ],
   "source": [
    "test_solution(\n",
    "    \"\"\"2\n",
    "3 3 1\n",
    "1 2 2\n",
    "1 3 4\n",
    "2 3 1\n",
    "3 1 3\n",
    "3 2 1\n",
    "1 2 3\n",
    "2 3 4\n",
    "3 1 8\n",
    "\"\"\"\n",
    ")\n",
    "# answer:\n",
    "# NO\n",
    "# YES"
   ]
  }
 ],
 "metadata": {
  "kernelspec": {
   "display_name": "Python 3.10.4 ('venv': venv)",
   "language": "python",
   "name": "python3"
  },
  "language_info": {
   "codemirror_mode": {
    "name": "ipython",
    "version": 3
   },
   "file_extension": ".py",
   "mimetype": "text/x-python",
   "name": "python",
   "nbconvert_exporter": "python",
   "pygments_lexer": "ipython3",
   "version": "3.10.4"
  },
  "orig_nbformat": 4,
  "vscode": {
   "interpreter": {
    "hash": "72904a014a9ffe38f4c58942120b599b3c5a87d06764037548e0139929c1cde3"
   }
  }
 },
 "nbformat": 4,
 "nbformat_minor": 2
}
