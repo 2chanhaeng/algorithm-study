{
 "cells": [
  {
   "cell_type": "markdown",
   "metadata": {},
   "source": [
    "# [백준/타임머신](https://www.acmicpc.net/problem/11657)"
   ]
  },
  {
   "cell_type": "markdown",
   "metadata": {},
   "source": [
    "## 풀이과정"
   ]
  },
  {
   "cell_type": "markdown",
   "metadata": {},
   "source": [
    "### 첫번째 시도"
   ]
  },
  {
   "cell_type": "markdown",
   "metadata": {},
   "source": [
    "#### 풀이과정\n",
    "벨만-포드 알고리즘을 검색해본 뒤 나름대로 구현을 해보았으나 오답이 나왔습니다."
   ]
  },
  {
   "cell_type": "code",
   "execution_count": 69,
   "metadata": {},
   "outputs": [],
   "source": [
    "def solution():\n",
    "    import sys\n",
    "    import collections\n",
    "\n",
    "    n, m = map(int, sys.stdin.readline().split())\n",
    "    graph = {\n",
    "        i: {j: \"\" if i != j else 0 for j in range(1, n + 1)} for i in range(1, n + 1)\n",
    "    }\n",
    "    for input in sys.stdin:\n",
    "        start, end, dist = map(int, input.split())\n",
    "        try:\n",
    "            graph[start][end] = min(graph[start][end], dist)\n",
    "        except:\n",
    "            graph[start][end] = dist\n",
    "\n",
    "    for _ in range(n - 1):\n",
    "        craph = graph.copy()\n",
    "        tovisit = collections.deque([1])\n",
    "        visited = set()\n",
    "        while tovisit:\n",
    "            start = tovisit.popleft()\n",
    "            if start in visited:\n",
    "                continue\n",
    "            paths = craph.pop(start)\n",
    "            for end, dist in paths.items():\n",
    "                if dist != \"\":\n",
    "                    graph[start][end] = min(graph[start][end], dist)\n",
    "                    if start != end and end not in visited:\n",
    "                        tovisit.append(end)\n",
    "                else:\n",
    "                    graph[start][end] = dist\n",
    "                    if end not in visited:\n",
    "                        tovisit.append(end)\n",
    "            visited.add(start)\n",
    "    print(graph)\n",
    "    for i in range(1, n + 1):\n",
    "        for j in range(1, n + 1):\n",
    "            try:\n",
    "                if graph[j][i] + graph[i][j] < 0:\n",
    "                    print(-1)\n",
    "                    return\n",
    "            except:\n",
    "                pass\n",
    "    print(*(graph[1][i] if graph[1][i] != \"\" else -1 for i in range(2, n + 1)))\n",
    "\n",
    "\n",
    "solution()"
   ]
  },
  {
   "cell_type": "code",
   "execution_count": null,
   "metadata": {},
   "outputs": [],
   "source": [
    "def solution():\n",
    "    import sys\n",
    "    import collections\n",
    "\n",
    "    n, m = map(int, sys.stdin.readline().split())\n",
    "    graph = {i: {} for i in range(1, n + 1)}\n",
    "    for input in sys.stdin:\n",
    "        start, end, dist = map(int, input.split())\n",
    "        graph[start][end] = dist\n",
    "\n",
    "    start_at_1 = [(1, end, dist) for end, dist in graph[1].items()]\n",
    "    answer = [0, 0] + [\"\"] * (n - 1)\n",
    "    for _ in range(n - 1):\n",
    "        tovisit = collections.deque(start_at_1)\n",
    "        visited = {1}\n",
    "        while tovisit:\n",
    "            start, end, dist = tovisit.popleft()\n",
    "            new_dist = answer[start] + dist\n",
    "            try:\n",
    "                answer[end] = min(new_dist, answer[end])\n",
    "            except:\n",
    "                answer[end] = new_dist\n",
    "            if end not in visited:\n",
    "                tovisit.extend((end, togo, dist) for togo, dist in graph[end].items())\n",
    "                visited.add(end)\n",
    "\n",
    "    if answer[1] < 0:\n",
    "        print(-1)\n",
    "    else:\n",
    "        print(\"\\n\".join(str(i) if i != \"\" else \"-1\" for i in answer[2:]))\n",
    "\n",
    "\n",
    "solution()"
   ]
  },
  {
   "cell_type": "markdown",
   "metadata": {},
   "source": [
    "### 두번째 시도"
   ]
  },
  {
   "cell_type": "markdown",
   "metadata": {},
   "source": [
    "#### 풀이과정\n",
    "검색을 해서 나온 [다른 사람의 풀이](https://deep-learning-study.tistory.com/588)를 참고하여 풀어보았습니다. 딕셔너리로 저장하던 간선을 리스트로 바꾸고, 시작점이 무한대라면 넘기는 등의 수정을 거쳤더니 풀이에 성공하였습니다. "
   ]
  },
  {
   "cell_type": "code",
   "execution_count": null,
   "metadata": {},
   "outputs": [],
   "source": [
    "def solution():\n",
    "    import sys\n",
    "\n",
    "    n, _ = map(int, sys.stdin.readline().split())\n",
    "    # 간선의 시작점, 도착점, 거리를 저장하는 리스트\n",
    "    edges = [tuple(map(int, input.split())) for input in sys.stdin]\n",
    "\n",
    "    # 출력할 정답을 저장하는 리스트\n",
    "    answer = [0, 0] + [\"\"] * (n - 1)\n",
    "    for i in range(n + 1):\n",
    "        for start, end, dist in edges:\n",
    "            if answer[start] == \"\":\n",
    "                # 1번 노드에서 시작점까지의 거리가 무한이면 넘깁니다.\n",
    "                continue\n",
    "            # 1번 노드에서 시작점까지의 거리와 간선의 거리를 합한 새 거리\n",
    "            new_dist = answer[start] + dist\n",
    "            match answer[end]:\n",
    "                case \"\":\n",
    "                    # 도착점까지의 거리가 무한일 경우 새 거리로 치환\n",
    "                    answer[end] = new_dist\n",
    "                case prev_dist if prev_dist > new_dist:\n",
    "                    # 도착점까지의 기존 거리보다 새 거리가 짧은 경우\n",
    "                    # 새 거리로 치환\n",
    "                    answer[end] = new_dist\n",
    "        if i == n - 1:\n",
    "            # n - 1 번째의 정답 리스트를 저장\n",
    "            prev = answer.copy()\n",
    "\n",
    "    if answer != prev:\n",
    "        # 만약 정답 리스트가 n 번째에 갱신됐다면\n",
    "        # 밸먼 - 포드 알고리즘의 가정에 모순되는\n",
    "        # 무한히 시간이 줄어드는 사이클이 존재한다는 뜻이므로\n",
    "        # -1을 출력\n",
    "        print(-1)\n",
    "    else:\n",
    "        # 무한의 시간이 걸린다면 -1\n",
    "        # 그 외에는 그대로 출력\n",
    "        print(\"\\n\".join(str(i) if i != \"\" else \"-1\" for i in answer[2:]))"
   ]
  },
  {
   "cell_type": "markdown",
   "metadata": {},
   "source": [
    "## 해답"
   ]
  },
  {
   "cell_type": "code",
   "execution_count": 179,
   "metadata": {},
   "outputs": [],
   "source": [
    "def solution():\n",
    "    import sys\n",
    "\n",
    "    n, _ = map(int, sys.stdin.readline().split())\n",
    "    edges = [tuple(map(int, input.split())) for input in sys.stdin]\n",
    "\n",
    "    answer = [0, 0] + [\"\"] * (n - 1)\n",
    "    for i in range(n + 1):\n",
    "        for start, end, dist in edges:\n",
    "            if answer[start] == \"\":\n",
    "                continue\n",
    "            new_dist = answer[start] + dist\n",
    "            match answer[end]:\n",
    "                case \"\":\n",
    "                    answer[end] = new_dist\n",
    "                case prev_dist if prev_dist > new_dist:\n",
    "                    answer[end] = new_dist\n",
    "        if i == n - 1:\n",
    "            prev = answer.copy()\n",
    "\n",
    "    if answer != prev:\n",
    "        print(-1)\n",
    "    else:\n",
    "        print(\"\\n\".join(str(i) if i != \"\" else \"-1\" for i in answer[2:]))"
   ]
  },
  {
   "cell_type": "markdown",
   "metadata": {},
   "source": [
    "## 예제"
   ]
  },
  {
   "cell_type": "code",
   "execution_count": 180,
   "metadata": {},
   "outputs": [
    {
     "name": "stdout",
     "output_type": "stream",
     "text": [
      "The blackcellmagic extension is already loaded. To reload it, use:\n",
      "  %reload_ext blackcellmagic\n"
     ]
    }
   ],
   "source": [
    "# black 모듈을 jupyter notebook 내에서 사용 가능하게 만들어주는 blackcellmagic 모듈 불러오기\n",
    "%load_ext blackcellmagic\n",
    "# %%black\n",
    "\n",
    "# 백준 문제 풀이용 예제 실행 코드\n",
    "from bwj import test\n",
    "\n",
    "test_solution = test(solution)\n",
    "\n",
    "# test_solution(\"\"\"\"\"\")\n",
    "# test_solution(read(\"fn\").read())"
   ]
  },
  {
   "cell_type": "code",
   "execution_count": 181,
   "metadata": {},
   "outputs": [
    {
     "name": "stdout",
     "output_type": "stream",
     "text": [
      "-1\n"
     ]
    }
   ],
   "source": [
    "example = \"\\n\".join(f\"{i} {i + 1} -10000\" for i in range(1, 500))\n",
    "example = \"\\n\".join([\"500 500\", example, \"500 1 -10000\"])\n",
    "test_solution(example)  # -1"
   ]
  },
  {
   "cell_type": "code",
   "execution_count": 182,
   "metadata": {},
   "outputs": [
    {
     "name": "stdout",
     "output_type": "stream",
     "text": [
      "-1\n"
     ]
    }
   ],
   "source": [
    "test_solution(\n",
    "    \"\"\"4 5\n",
    "1 4 3\n",
    "4 2 4\n",
    "2 3 -4\n",
    "3 4 -2\n",
    "4 3 3\n",
    "\"\"\"\n",
    ")  # -1"
   ]
  },
  {
   "cell_type": "code",
   "execution_count": 183,
   "metadata": {},
   "outputs": [
    {
     "name": "stdout",
     "output_type": "stream",
     "text": [
      "5\n",
      "6\n",
      "7\n"
     ]
    }
   ],
   "source": [
    "test_solution(\n",
    "    \"\"\"4 6\n",
    "1 2 5\n",
    "1 3 8\n",
    "1 4 10\n",
    "2 3 1\n",
    "2 4 3\n",
    "3 4 1\n",
    "\"\"\"\n",
    ")\n",
    "# answer:\n",
    "# 5\n",
    "# 6\n",
    "# 7"
   ]
  },
  {
   "cell_type": "code",
   "execution_count": 184,
   "metadata": {},
   "outputs": [
    {
     "name": "stdout",
     "output_type": "stream",
     "text": [
      "4\n",
      "3\n"
     ]
    }
   ],
   "source": [
    "test_solution(\n",
    "    \"\"\"3 4\n",
    "1 2 4\n",
    "1 3 3\n",
    "2 3 -1\n",
    "3 1 -2\n",
    "\"\"\"\n",
    ")\n",
    "# answer:\n",
    "# 4\n",
    "# 3"
   ]
  },
  {
   "cell_type": "code",
   "execution_count": 185,
   "metadata": {},
   "outputs": [
    {
     "name": "stdout",
     "output_type": "stream",
     "text": [
      "-1\n"
     ]
    }
   ],
   "source": [
    "test_solution(\n",
    "    \"\"\"3 4\n",
    "1 2 4\n",
    "1 3 3\n",
    "2 3 -4\n",
    "3 1 -2\n",
    "\"\"\"\n",
    ")  # -1"
   ]
  },
  {
   "cell_type": "code",
   "execution_count": 186,
   "metadata": {},
   "outputs": [
    {
     "name": "stdout",
     "output_type": "stream",
     "text": [
      "3\n",
      "-1\n"
     ]
    }
   ],
   "source": [
    "test_solution(\n",
    "    \"\"\"3 2\n",
    "1 2 4\n",
    "1 2 3\n",
    "\"\"\"\n",
    ")\n",
    "# answer:\n",
    "# 3\n",
    "# -1"
   ]
  }
 ],
 "metadata": {
  "kernelspec": {
   "display_name": "Python 3.10.4 ('venv': venv)",
   "language": "python",
   "name": "python3"
  },
  "language_info": {
   "codemirror_mode": {
    "name": "ipython",
    "version": 3
   },
   "file_extension": ".py",
   "mimetype": "text/x-python",
   "name": "python",
   "nbconvert_exporter": "python",
   "pygments_lexer": "ipython3",
   "version": "3.10.4"
  },
  "orig_nbformat": 4,
  "vscode": {
   "interpreter": {
    "hash": "72904a014a9ffe38f4c58942120b599b3c5a87d06764037548e0139929c1cde3"
   }
  }
 },
 "nbformat": 4,
 "nbformat_minor": 2
}
