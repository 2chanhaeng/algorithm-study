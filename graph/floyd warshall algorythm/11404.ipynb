{
 "cells": [
  {
   "cell_type": "markdown",
   "metadata": {},
   "source": [
    "# [백준/플로이드](https://www.acmicpc.net/problem/11404)"
   ]
  },
  {
   "cell_type": "markdown",
   "metadata": {},
   "source": [
    "## 풀이과정"
   ]
  },
  {
   "cell_type": "markdown",
   "metadata": {},
   "source": [
    "### 첫번째 시도"
   ]
  },
  {
   "cell_type": "markdown",
   "metadata": {},
   "source": [
    "#### 풀이과정\n",
    "제목에도 나와있다시피 플로이드 와셜 알고리즘을 이용하는 기초적인 문제입니다. 해당 알고리즘을 이용하여 손쉽게 풀 수 있었습니다."
   ]
  },
  {
   "cell_type": "code",
   "execution_count": 70,
   "metadata": {},
   "outputs": [],
   "source": [
    "def solution():\n",
    "    import sys\n",
    "\n",
    "    input = sys.stdin.readline\n",
    "    n = int(input())\n",
    "    m = int(input())\n",
    "    # 도시 간 이동 비용 최솟값을 저장하는 리스트\n",
    "    graph = [[0] * n for _ in range(n)]\n",
    "    for abc in sys.stdin.readlines():\n",
    "        a, b, c = map(int, abc.split())\n",
    "        if prev := graph[a - 1][b - 1]:\n",
    "            # 이미 저장된 값이 있다면 최솟값을 저장\n",
    "            graph[a - 1][b - 1] = min(prev, c)\n",
    "        else:\n",
    "            # 따로 없다면 바로 저장\n",
    "            graph[a - 1][b - 1] = c\n",
    "\n",
    "    for k in range(n):\n",
    "        for i in range(n):\n",
    "            for j in range(n):\n",
    "                if i != j:\n",
    "                    # 기존 저장된 값, 시작부터 중간, 중간부터 끝까지의 이동 비용 불러오기\n",
    "                    prev, i2k, k2j = graph[i][j], graph[i][k], graph[k][j]\n",
    "                    if prev:\n",
    "                        # 기존 값이 있다면\n",
    "                        if i2k and k2j:\n",
    "                            # 시작부터 중간, 중간부터 끝까지의 이동 비용있을 경우에만\n",
    "                            graph[i][j] = min(prev, i2k + k2j)\n",
    "                            # 둘을 합하여 기존 값과 비교 후 최솟값을 저장\n",
    "                    elif i2k and k2j:\n",
    "                        # 기존 값이 없다면\n",
    "                        # 시작부터 중간, 중간부터 끝까지의 이동 비용있을 경우에만\n",
    "                        graph[i][j] = graph[i][k] + graph[k][j]\n",
    "                        # 시작부터 중간, 중간부터 끝까지의 이동 비용을 합하여 저장\n",
    "\n",
    "    for line in graph:\n",
    "        print(*line)\n",
    "\n",
    "\n",
    "solution()"
   ]
  },
  {
   "cell_type": "markdown",
   "metadata": {},
   "source": [
    "## 해답"
   ]
  },
  {
   "cell_type": "code",
   "execution_count": 66,
   "metadata": {},
   "outputs": [],
   "source": [
    "def solution(input):\n",
    "    n = int(input())\n",
    "    m = int(input())\n",
    "    graph = [[0] * n for _ in range(n)]\n",
    "    for _ in range(m):\n",
    "        a, b, c = map(int, input().split())\n",
    "        if prev := graph[a - 1][b - 1]:\n",
    "            graph[a - 1][b - 1] = min(prev, c)\n",
    "        else:\n",
    "            graph[a - 1][b - 1] = c\n",
    "\n",
    "    # floyd warshall\n",
    "    for k in range(n):\n",
    "        for i in range(n):\n",
    "            for j in range(n):\n",
    "                if i != j:\n",
    "                    prev, i2k, k2j = graph[i][j], graph[i][k], graph[k][j]\n",
    "                    if prev:\n",
    "                        if i2k and k2j:\n",
    "                            graph[i][j] = min(prev, i2k + k2j)\n",
    "                    elif i2k and k2j:\n",
    "                        graph[i][j] = graph[i][k] + graph[k][j]\n",
    "\n",
    "    for line in graph:\n",
    "        print(*line)"
   ]
  },
  {
   "cell_type": "markdown",
   "metadata": {},
   "source": [
    "## 예제"
   ]
  },
  {
   "cell_type": "code",
   "execution_count": 67,
   "metadata": {},
   "outputs": [
    {
     "name": "stdout",
     "output_type": "stream",
     "text": [
      "The blackcellmagic extension is already loaded. To reload it, use:\n",
      "  %reload_ext blackcellmagic\n"
     ]
    }
   ],
   "source": [
    "%load_ext blackcellmagic\n",
    "# %%black"
   ]
  },
  {
   "cell_type": "code",
   "execution_count": 68,
   "metadata": {},
   "outputs": [],
   "source": [
    "# 백준 문제 풀이용 예제 실행 코드\n",
    "from bwj import test\n",
    "\n",
    "test_solution = test(solution)\n",
    "\n",
    "# test_solution(\"\"\"\"\"\")\n",
    "# test_solution(read(\"fn\").read())"
   ]
  },
  {
   "cell_type": "code",
   "execution_count": 69,
   "metadata": {},
   "outputs": [
    {
     "name": "stdout",
     "output_type": "stream",
     "text": [
      "0 2 3 1 4\n",
      "12 0 15 2 5\n",
      "8 5 0 1 1\n",
      "10 7 13 0 3\n",
      "7 4 10 6 0\n"
     ]
    }
   ],
   "source": [
    "test_solution(\n",
    "    \"\"\"5\n",
    "14\n",
    "1 2 2\n",
    "1 3 3\n",
    "1 4 1\n",
    "1 5 10\n",
    "2 4 2\n",
    "3 4 1\n",
    "3 5 1\n",
    "4 5 3\n",
    "3 5 10\n",
    "3 1 8\n",
    "1 4 2\n",
    "5 1 7\n",
    "3 4 2\n",
    "5 2 4\"\"\"\n",
    ")\n",
    "# answer:\n",
    "# 0 2 3 1 4\n",
    "# 12 0 15 2 5\n",
    "# 8 5 0 1 1\n",
    "# 10 7 13 0 3\n",
    "# 7 4 10 6 0"
   ]
  }
 ],
 "metadata": {
  "interpreter": {
   "hash": "72904a014a9ffe38f4c58942120b599b3c5a87d06764037548e0139929c1cde3"
  },
  "kernelspec": {
   "display_name": "Python 3.10.4 ('venv': venv)",
   "language": "python",
   "name": "python3"
  },
  "language_info": {
   "codemirror_mode": {
    "name": "ipython",
    "version": 3
   },
   "file_extension": ".py",
   "mimetype": "text/x-python",
   "name": "python",
   "nbconvert_exporter": "python",
   "pygments_lexer": "ipython3",
   "version": "3.10.4"
  },
  "orig_nbformat": 4
 },
 "nbformat": 4,
 "nbformat_minor": 2
}
