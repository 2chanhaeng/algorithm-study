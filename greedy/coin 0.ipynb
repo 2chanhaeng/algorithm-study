{
 "cells": [
  {
   "cell_type": "markdown",
   "metadata": {},
   "source": [
    "# [백준/동전 0](https://www.acmicpc.net/problem/11047)"
   ]
  },
  {
   "cell_type": "markdown",
   "metadata": {},
   "source": [
    "## 풀이과정"
   ]
  },
  {
   "cell_type": "markdown",
   "metadata": {},
   "source": [
    "### 첫번째 시도"
   ]
  },
  {
   "cell_type": "markdown",
   "metadata": {},
   "source": [
    "풀이과정"
   ]
  },
  {
   "cell_type": "code",
   "execution_count": null,
   "metadata": {},
   "outputs": [],
   "source": [
    "import sys\n",
    "\n",
    "input = lambda: sys.stdin.readline().rstrip()\n",
    "print = lambda x: sys.stdout.write(str(x) + \"\\n\")\n",
    "n, k = map(int, input().split())\n",
    "coins = [int(input()) for _ in range(n)]\n",
    "s = 0\n",
    "for _ in range(n):\n",
    "    coin = coins.pop()\n",
    "    if coin <= k:\n",
    "        div, k = divmod(k, coin)\n",
    "        s += div\n",
    "print(s)"
   ]
  },
  {
   "cell_type": "markdown",
   "metadata": {},
   "source": [
    "## 해답"
   ]
  },
  {
   "cell_type": "code",
   "execution_count": 8,
   "metadata": {},
   "outputs": [
    {
     "data": {
      "text/plain": [
       "(1, 0)"
      ]
     },
     "execution_count": 8,
     "metadata": {},
     "output_type": "execute_result"
    }
   ],
   "source": [
    "divmod(1, 1)"
   ]
  },
  {
   "cell_type": "code",
   "execution_count": 21,
   "metadata": {},
   "outputs": [],
   "source": [
    "def solution(input):\n",
    "    n, k = map(int, input().split())\n",
    "    coins = [int(input()) for _ in range(n)]\n",
    "    s = 0\n",
    "    while coins:\n",
    "        coin = coins.pop()\n",
    "        if coin <= k:\n",
    "            div, k = divmod(k, coin)\n",
    "            s += div\n",
    "            print(div, k, s)\n",
    "    print(s)"
   ]
  },
  {
   "cell_type": "markdown",
   "metadata": {},
   "source": [
    "## 테스트 결과"
   ]
  },
  {
   "cell_type": "markdown",
   "metadata": {},
   "source": [
    "|테스트|결과|\n",
    "|---:|:---|"
   ]
  },
  {
   "cell_type": "markdown",
   "metadata": {},
   "source": [
    "## 예제"
   ]
  },
  {
   "cell_type": "code",
   "execution_count": 22,
   "metadata": {},
   "outputs": [],
   "source": [
    "# 백준 문제 풀이용 예제 실행 코드\n",
    "from bwj import test\n",
    "\n",
    "test_solution = test(solution)\n",
    "\n",
    "# test_solution(\"\"\"\"\"\")\n",
    "# test_solution(read(\"fn\").read())"
   ]
  },
  {
   "cell_type": "code",
   "execution_count": 23,
   "metadata": {},
   "outputs": [
    {
     "name": "stdout",
     "output_type": "stream",
     "text": [
      "1 0 1\n",
      "1\n"
     ]
    }
   ],
   "source": [
    "test_solution(\n",
    "    \"\"\"10 1\n",
    "1\n",
    "5\n",
    "10\n",
    "50\n",
    "100\n",
    "500\n",
    "1000\n",
    "5000\n",
    "10000\n",
    "50000\"\"\"\n",
    ")  # 1"
   ]
  },
  {
   "cell_type": "code",
   "execution_count": 24,
   "metadata": {},
   "outputs": [
    {
     "name": "stdout",
     "output_type": "stream",
     "text": [
      "4 0 4\n",
      "4\n"
     ]
    }
   ],
   "source": [
    "test_solution(\n",
    "    \"\"\"7 4000\n",
    "1\n",
    "5\n",
    "10\n",
    "50\n",
    "100\n",
    "500\n",
    "1000\"\"\"\n",
    ")  # 4"
   ]
  },
  {
   "cell_type": "code",
   "execution_count": 25,
   "metadata": {},
   "outputs": [
    {
     "name": "stdout",
     "output_type": "stream",
     "text": [
      "4 790 4\n",
      "1 290 5\n",
      "2 90 7\n",
      "1 40 8\n",
      "4 0 12\n",
      "12\n"
     ]
    }
   ],
   "source": [
    "test_solution(\n",
    "    \"\"\"10 4790\n",
    "1\n",
    "5\n",
    "10\n",
    "50\n",
    "100\n",
    "500\n",
    "1000\n",
    "5000\n",
    "10000\n",
    "50000\"\"\"\n",
    ")  # 12"
   ]
  },
  {
   "cell_type": "code",
   "execution_count": 26,
   "metadata": {},
   "outputs": [
    {
     "name": "stdout",
     "output_type": "stream",
     "text": [
      "4 200 4\n",
      "2 0 6\n",
      "6\n"
     ]
    }
   ],
   "source": [
    "test_solution(\n",
    "    \"\"\"10 4200\n",
    "1\n",
    "5\n",
    "10\n",
    "50\n",
    "100\n",
    "500\n",
    "1000\n",
    "5000\n",
    "10000\n",
    "50000\"\"\"\n",
    ")  # 6"
   ]
  }
 ],
 "metadata": {
  "interpreter": {
   "hash": "73891b0dc2e53390f36276e59930dd4ecab91b05b5c90320c2d5b1c443f87069"
  },
  "kernelspec": {
   "display_name": "Python 3.10.1 ('venv': venv)",
   "language": "python",
   "name": "python3"
  },
  "language_info": {
   "codemirror_mode": {
    "name": "ipython",
    "version": 3
   },
   "file_extension": ".py",
   "mimetype": "text/x-python",
   "name": "python",
   "nbconvert_exporter": "python",
   "pygments_lexer": "ipython3",
   "version": "3.10.1"
  },
  "orig_nbformat": 4
 },
 "nbformat": 4,
 "nbformat_minor": 2
}
