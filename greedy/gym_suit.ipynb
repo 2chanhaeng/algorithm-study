{
 "cells": [
  {
   "cell_type": "markdown",
   "metadata": {},
   "source": [
    "# [프로그래머스/체육복](https://programmers.co.kr/learn/courses/30/lessons/42862)"
   ]
  },
  {
   "cell_type": "markdown",
   "metadata": {},
   "source": [
    "## 풀이 과정"
   ]
  },
  {
   "cell_type": "markdown",
   "metadata": {},
   "source": [
    "### 첫번째 시도"
   ]
  },
  {
   "cell_type": "markdown",
   "metadata": {},
   "source": [
    "총 인원에서 잃어버린 인원을 뺀 값을 결과에 저장한다.\\\n",
    "이후 잃어버린 인원 중 앞뒤 번호가 여분의 체육복을 갖고 있다면, 해당 번호를 목록에서 제거한 뒤 결과를 하나씩 증가시킨다."
   ]
  },
  {
   "cell_type": "code",
   "execution_count": null,
   "metadata": {},
   "outputs": [],
   "source": [
    "def solution(n, lost, reserve):\n",
    "    answer = n - len(lost)\n",
    "    for i in lost:\n",
    "        if (i - 1) in reserve:\n",
    "            reserve.remove(i - 1)\n",
    "            answer += 1\n",
    "        elif (i + 1) in reserve:\n",
    "            reserve.remove(i + 1)\n",
    "            answer += 1\n",
    "    return answer"
   ]
  },
  {
   "cell_type": "markdown",
   "metadata": {},
   "source": [
    "### 두번째 시도"
   ]
  },
  {
   "cell_type": "markdown",
   "metadata": {},
   "source": [
    "문제의 마지막 제한 사항을 관과하였다.\\\n",
    "여벌의 체육복을 가진 학생이 체육복을 도난당했을 수 있으므로 이를 먼저 제거하고, 다시 위의 알고리즘을 적용한다.\\\n",
    "신속한 제거를 위하여 집합 자료구조를 사용하였다."
   ]
  },
  {
   "cell_type": "code",
   "execution_count": null,
   "metadata": {},
   "outputs": [],
   "source": [
    "def solution(n, lost, reserve):\n",
    "    lset = set(lost)\n",
    "    rset = set(reserve)\n",
    "    lost = sorted(list(lset - rset))\n",
    "    reserve = sorted(list(rset - lset))\n",
    "    answer = n - len(lost)\n",
    "    for i in lost:\n",
    "        if (i - 1) in reserve:\n",
    "            reserve.remove(i - 1)\n",
    "            answer += 1\n",
    "        elif (i + 1) in reserve:\n",
    "            reserve.remove(i + 1)\n",
    "            answer += 1\n",
    "    return answer"
   ]
  },
  {
   "cell_type": "markdown",
   "metadata": {},
   "source": [
    "## 해답"
   ]
  },
  {
   "cell_type": "code",
   "execution_count": 9,
   "metadata": {},
   "outputs": [],
   "source": [
    "def solution(n, lost, reserve):\n",
    "    lset = set(lost) # 중복을 제거하기 위하여 두 리스트를 집합으로 만든다.\n",
    "    rset = set(reserve)\n",
    "    lost = sorted(list(lset - rset)) # 두 집합의 차를 다시 리스트로 만든 뒤 정렬한다.\n",
    "    reserve = sorted(list(rset - lset))\n",
    "    answer = n - len(lost) # 총 인원에서 잃어버린 학생의 수를 빼서 일차적으로 체육 수강 가능 인원을 구한다.\n",
    "    for i in lost: # 잃어버린 학생들의 번호로 다음을 반복한다.\n",
    "        if (i - 1) in reserve: # 만약 앞 번호가 여분이 있다면,\n",
    "            reserve.remove(i - 1) # 앞 번호의 여분을 제거하고,\n",
    "            answer += 1 # 수강가능 인원을 하나 늘린다.\n",
    "        elif (i + 1) in reserve: # 만약 뒷 번호가 여분이 있다면,\n",
    "            reserve.remove(i + 1) # 뒷 번호의 여분을 제거하고,\n",
    "            answer += 1 # 수강가능 인원을 하나 늘린다.\n",
    "    return answer"
   ]
  },
  {
   "cell_type": "markdown",
   "metadata": {},
   "source": [
    "## 테스트 결과"
   ]
  },
  {
   "cell_type": "markdown",
   "metadata": {},
   "source": [
    "|테스트|결과|\n",
    "|---:|:---|\n",
    "|테스트 1 〉|통과 (0.01ms, 10.1MB)|\n",
    "|테스트 2 〉|통과 (0.01ms, 10.4MB)|\n",
    "|테스트 3 〉|통과 (0.01ms, 10.3MB)|\n",
    "|테스트 4 〉|통과 (0.01ms, 10.2MB)|\n",
    "|테스트 5 〉|통과 (0.01ms, 10.2MB)|\n",
    "|테스트 6 〉|통과 (0.01ms, 10.2MB)|\n",
    "|테스트 7 〉|통과 (0.01ms, 10.2MB)|\n",
    "|테스트 8 〉|통과 (0.01ms, 10.3MB)|\n",
    "|테스트 9 〉|통과 (0.01ms, 10.1MB)|\n",
    "|테스트 10 〉|통과 (0.01ms, 10.3MB)|\n",
    "|테스트 11 〉|통과 (0.01ms, 10.2MB)|\n",
    "|테스트 12 〉|통과 (0.01ms, 10.3MB)|\n",
    "|테스트 13 〉|통과 (0.01ms, 10.2MB)|\n",
    "|테스트 14 〉|통과 (0.01ms, 10.2MB)|\n",
    "|테스트 15 〉|통과 (0.01ms, 10.2MB)|\n",
    "|테스트 16 〉|통과 (0.01ms, 10MB)|\n",
    "|테스트 17 〉|통과 (0.01ms, 10.4MB)|\n",
    "|테스트 18 〉|통과 (0.01ms, 10.1MB)|\n",
    "|테스트 19 〉|통과 (0.01ms, 10.2MB)|\n",
    "|테스트 20 〉|통과 (0.01ms, 10.1MB)|"
   ]
  },
  {
   "cell_type": "markdown",
   "metadata": {},
   "source": [
    "## 예제"
   ]
  },
  {
   "cell_type": "code",
   "execution_count": 10,
   "metadata": {},
   "outputs": [
    {
     "data": {
      "text/plain": [
       "5"
      ]
     },
     "execution_count": 10,
     "metadata": {},
     "output_type": "execute_result"
    }
   ],
   "source": [
    "solution(5, [2, 4], [1, 3, 5])"
   ]
  },
  {
   "cell_type": "code",
   "execution_count": 11,
   "metadata": {},
   "outputs": [
    {
     "data": {
      "text/plain": [
       "4"
      ]
     },
     "execution_count": 11,
     "metadata": {},
     "output_type": "execute_result"
    }
   ],
   "source": [
    "solution(5, [2, 4], [3])"
   ]
  },
  {
   "cell_type": "code",
   "execution_count": 12,
   "metadata": {},
   "outputs": [
    {
     "data": {
      "text/plain": [
       "2"
      ]
     },
     "execution_count": 12,
     "metadata": {},
     "output_type": "execute_result"
    }
   ],
   "source": [
    "solution(3, [3], [1])"
   ]
  }
 ],
 "metadata": {
  "interpreter": {
   "hash": "73891b0dc2e53390f36276e59930dd4ecab91b05b5c90320c2d5b1c443f87069"
  },
  "kernelspec": {
   "display_name": "Python 3.10.1 ('venv': venv)",
   "language": "python",
   "name": "python3"
  },
  "language_info": {
   "codemirror_mode": {
    "name": "ipython",
    "version": 3
   },
   "file_extension": ".py",
   "mimetype": "text/x-python",
   "name": "python",
   "nbconvert_exporter": "python",
   "pygments_lexer": "ipython3",
   "version": "3.10.1"
  },
  "orig_nbformat": 4
 },
 "nbformat": 4,
 "nbformat_minor": 2
}
