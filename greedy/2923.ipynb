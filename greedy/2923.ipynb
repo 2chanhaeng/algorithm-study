{
    "cells": [
        {
            "cell_type": "markdown",
            "metadata": {},
            "source": [
                "# [백준/숫자 게임](https://www.acmicpc.net/problem/2923)"
            ]
        },
        {
            "cell_type": "markdown",
            "metadata": {},
            "source": [
                "## 풀이과정"
            ]
        },
        {
            "cell_type": "markdown",
            "metadata": {},
            "source": [
                "### 첫번째 시도"
            ]
        },
        {
            "cell_type": "markdown",
            "metadata": {},
            "source": [
                "#### 풀이과정"
            ]
        },
        {
            "cell_type": "code",
            "execution_count": null,
            "metadata": {},
            "outputs": [],
            "source": [
                "def solution():\n",
                "    import sys\n",
                "    from bisect import insort\n",
                "    from operator import neg\n",
                "\n",
                "    n, *inputs = sys.stdin.read().splitlines()\n",
                "    n = int(n)\n",
                "    inputs = [(int(i), int(j)) for i, j in map(str.split, inputs)]\n",
                "    a, b = [], []\n",
                "    for x, y in inputs:\n",
                "        insort(a, x)\n",
                "        insort(b, y, key=neg)\n",
                "        print(max(map(sum, set(zip(a, b)))))\n",
                "\n",
                "\n",
                "solution()"
            ]
        },
        {
            "cell_type": "markdown",
            "metadata": {},
            "source": [
                "## 해답"
            ]
        },
        {
            "cell_type": "code",
            "execution_count": 61,
            "metadata": {},
            "outputs": [],
            "source": [
                "def solution():\n",
                "    import sys\n",
                "\n",
                "    _, *inputs = sys.stdin.read().splitlines()\n",
                "    inputs = [(int(i), int(j)) for i, j in map(str.split, inputs)]\n",
                "    acount, bcount = [0] * 101, [0] * 101\n",
                "    for x, y in inputs:\n",
                "        acount[x] += 1\n",
                "        bcount[y] += 1\n",
                "        alist, blist = acount.copy(), bcount.copy()\n",
                "        a, b = 1, 100\n",
                "        ans = 0\n",
                "        while a <= 100 and b >= 1:\n",
                "            while alist[a] == 0 and a < 100:\n",
                "                a += 1\n",
                "            while blist[b] == 0 and b > 0:\n",
                "                b -= 1\n",
                "            if a >= 100 or b <= 0:\n",
                "                break\n",
                "            ans = max(ans, a + b)\n",
                "            if alist[a] >= blist[b]:\n",
                "                alist[a] -= blist[b]\n",
                "                blist[b] = 0\n",
                "            else:\n",
                "                blist[b] -= alist[a]\n",
                "                alist[a] = 0\n",
                "        print(ans)\n"
            ]
        },
        {
            "cell_type": "markdown",
            "metadata": {},
            "source": [
                "## 예제"
            ]
        },
        {
            "cell_type": "code",
            "execution_count": 63,
            "metadata": {},
            "outputs": [
                {
                    "name": "stdout",
                    "output_type": "stream",
                    "text": [
                        "The blackcellmagic extension is already loaded. To reload it, use:\n",
                        "  %reload_ext blackcellmagic\n"
                    ]
                }
            ],
            "source": [
                "# black 모듈을 jupyter notebook 내에서 사용 가능하게 만들어주는 blackcellmagic 모듈 불러오기\n",
                "%load_ext blackcellmagic\n",
                "# %%black\n",
                "\n",
                "# 백준 문제 풀이용 예제 실행 코드\n",
                "from bwj import test\n",
                "test_solution = test(solution)\n",
                "\n",
                "# test_solution(\"\"\"\"\"\")\n",
                "# test_solution(read(\"fn\").read())"
            ]
        },
        {
            "cell_type": "code",
            "execution_count": 64,
            "metadata": {},
            "outputs": [
                {
                    "name": "stdout",
                    "output_type": "stream",
                    "text": [
                        "10\n",
                        "10\n",
                        "9\n"
                    ]
                }
            ],
            "source": [
                "test_solution(\"\"\"3\n",
                "2 8\n",
                "3 1\n",
                "1 4\n",
                "\"\"\")\n",
                "# answer:\n",
                "# 10\n",
                "# 10\n",
                "# 9"
            ]
        },
        {
            "cell_type": "code",
            "execution_count": 65,
            "metadata": {},
            "outputs": [
                {
                    "name": "stdout",
                    "output_type": "stream",
                    "text": [
                        "2\n",
                        "3\n",
                        "4\n"
                    ]
                }
            ],
            "source": [
                "test_solution(\"\"\"3\n",
                "1 1\n",
                "2 2\n",
                "3 3\n",
                "\"\"\")\n",
                "# answer:\n",
                "# 2\n",
                "# 3\n",
                "# 4"
            ]
        }
    ],
    "metadata": {
        "kernelspec": {
            "display_name": "venv",
            "language": "python",
            "name": "python3"
        },
        "language_info": {
            "codemirror_mode": {
                "name": "ipython",
                "version": 3
            },
            "file_extension": ".py",
            "mimetype": "text/x-python",
            "name": "python",
            "nbconvert_exporter": "python",
            "pygments_lexer": "ipython3",
            "version": "3.10.8"
        },
        "orig_nbformat": 4,
        "vscode": {
            "interpreter": {
                "hash": "72904a014a9ffe38f4c58942120b599b3c5a87d06764037548e0139929c1cde3"
            }
        }
    },
    "nbformat": 4,
    "nbformat_minor": 2
}
