{
 "cells": [
  {
   "cell_type": "markdown",
   "metadata": {},
   "source": [
    "# [백준/회의실 배정](https://www.acmicpc.net/problem/1931)"
   ]
  },
  {
   "cell_type": "markdown",
   "metadata": {},
   "source": [
    "## 풀이과정"
   ]
  },
  {
   "cell_type": "markdown",
   "metadata": {},
   "source": [
    "### 첫번째 시도"
   ]
  },
  {
   "cell_type": "markdown",
   "metadata": {},
   "source": [
    "풀이과정"
   ]
  },
  {
   "cell_type": "code",
   "execution_count": 50,
   "metadata": {},
   "outputs": [],
   "source": [
    "import sys\n",
    "from bisect import insort\n",
    "\n",
    "input = lambda: sys.stdin.readline().rstrip()\n",
    "print = lambda x: sys.stdout.write(str(x) + \"\\n\")\n",
    "\n",
    "schedule = []\n",
    "for _ in range(int(input())):\n",
    "    s, e = map(int, input().split())\n",
    "    insort(schedule, (s, e), key=lambda x: (x[1], x[0]))\n",
    "\n",
    "prev = 0\n",
    "count = 0\n",
    "\n",
    "for start, end in schedule:\n",
    "    if start >= prev:\n",
    "        count += 1\n",
    "        prev = end\n",
    "\n",
    "print(count)"
   ]
  },
  {
   "cell_type": "markdown",
   "metadata": {},
   "source": [
    "## 해답"
   ]
  },
  {
   "cell_type": "code",
   "execution_count": 15,
   "metadata": {},
   "outputs": [],
   "source": [
    "from bisect import *"
   ]
  },
  {
   "cell_type": "code",
   "execution_count": 52,
   "metadata": {},
   "outputs": [],
   "source": [
    "def solution(input):\n",
    "    schedule = []\n",
    "    for _ in range(int(input())):\n",
    "        s, e = map(int, input().split())\n",
    "        insort(schedule, (s, e), key=lambda x: (x[1], x[0]))\n",
    "    prev = 0\n",
    "    count = 0\n",
    "    for start, end in schedule:\n",
    "        if start >= prev:\n",
    "            count += 1\n",
    "            prev = end\n",
    "    print(count)"
   ]
  },
  {
   "cell_type": "markdown",
   "metadata": {},
   "source": [
    "## 테스트 결과"
   ]
  },
  {
   "cell_type": "markdown",
   "metadata": {},
   "source": [
    "|테스트|결과|\n",
    "|---:|:---|"
   ]
  },
  {
   "cell_type": "markdown",
   "metadata": {},
   "source": [
    "## 예제"
   ]
  },
  {
   "cell_type": "code",
   "execution_count": 53,
   "metadata": {},
   "outputs": [],
   "source": [
    "# 백준 문제 풀이용 예제 실행 코드\n",
    "from inspect import signature\n",
    "def solution_example(input_ = None, solution=solution):\n",
    "    params = signature(solution).parameters\n",
    "    if input_ == None:\n",
    "        solution()\n",
    "    elif 'open' in params:\n",
    "        class open:\n",
    "            def __init__(self, _):\n",
    "                self.read = lambda: input_\n",
    "            def __iter__(self):\n",
    "                return iter(input_.split(\"\\n\"))\n",
    "        solution(open)\n",
    "    elif 'input' in params:\n",
    "        input_ = iter(input_.split(\"\\n\"))\n",
    "        input = input_.__next__\n",
    "        solution(input)\n",
    "    else:\n",
    "        raise NameError(f'solution 함수가 input, open 등의 매개변수를 받지 않습니다.\\nsolution 의 매개변수: {params}')\n",
    "    \n",
    "# %%black\n",
    "# solution_example(\"\"\"\"\"\")\n",
    "# solution_example(read(\"fn\").read())"
   ]
  },
  {
   "cell_type": "code",
   "execution_count": 54,
   "metadata": {},
   "outputs": [
    {
     "name": "stdout",
     "output_type": "stream",
     "text": [
      "4\n"
     ]
    }
   ],
   "source": [
    "solution_example(\"\"\"11\n",
    "1 4\n",
    "3 5\n",
    "0 6\n",
    "5 7\n",
    "3 8\n",
    "5 9\n",
    "6 10\n",
    "8 11\n",
    "8 12\n",
    "2 13\n",
    "12 14\"\"\")"
   ]
  }
 ],
 "metadata": {
  "interpreter": {
   "hash": "73891b0dc2e53390f36276e59930dd4ecab91b05b5c90320c2d5b1c443f87069"
  },
  "kernelspec": {
   "display_name": "Python 3.10.1 ('venv': venv)",
   "language": "python",
   "name": "python3"
  },
  "language_info": {
   "codemirror_mode": {
    "name": "ipython",
    "version": 3
   },
   "file_extension": ".py",
   "mimetype": "text/x-python",
   "name": "python",
   "nbconvert_exporter": "python",
   "pygments_lexer": "ipython3",
   "version": "3.10.1"
  },
  "orig_nbformat": 4
 },
 "nbformat": 4,
 "nbformat_minor": 2
}
