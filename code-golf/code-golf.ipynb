{
 "cells": [
  {
   "cell_type": "markdown",
   "metadata": {},
   "source": [
    "# 코드골프 모음"
   ]
  },
  {
   "cell_type": "markdown",
   "metadata": {},
   "source": [
    "문제가 간단하여, 최대한 짧게 코드를 쓰려고 노력하여 풀어본 문제들입니다.\\\n",
    "조금 더러운(?) 점 양해 바랍니다."
   ]
  },
  {
   "cell_type": "markdown",
   "metadata": {},
   "source": [
    "## set_open, set_input"
   ]
  },
  {
   "cell_type": "code",
   "execution_count": 2,
   "metadata": {},
   "outputs": [],
   "source": [
    "def set_open(input_):\n",
    "    class open:\n",
    "        def __init__(self, x):\n",
    "            self.read = lambda: input_\n",
    "        def __iter__(self):\n",
    "            return iter(input_.split(\"\\n\"))\n",
    "    return open\n",
    "\n",
    "def set_input(input_):\n",
    "    return iter(input_.split(\"\\n\")).__next__"
   ]
  },
  {
   "cell_type": "markdown",
   "metadata": {},
   "source": [
    "## [백준/](https://www.acmicpc.net/problem/)"
   ]
  },
  {
   "cell_type": "code",
   "execution_count": null,
   "metadata": {},
   "outputs": [],
   "source": []
  },
  {
   "cell_type": "code",
   "execution_count": null,
   "metadata": {},
   "outputs": [],
   "source": [
    "# input = iter(\"\"\"\"\"\".split(\"\\n\")).__next__\n",
    "# input = lambda: \"\"\"\"\"\"\n",
    "# open = set_open"
   ]
  },
  {
   "cell_type": "markdown",
   "metadata": {},
   "source": [
    "## [백준/수학](https://www.acmicpc.net/problem/1565)"
   ]
  },
  {
   "cell_type": "code",
   "execution_count": null,
   "metadata": {},
   "outputs": [],
   "source": [
    "import math as m;l,_,*N=list(map(int,open(0).read().split()));D,M=m.lcm(*N[:l]),m.gcd(*N[l:]);q=M//D;r=int(q**.5);print(sum((2*(q%i==0)for i in range(1,r)),2*(q%(r+M%D)==0)-(r*r==q))*(M%D==0))"
   ]
  },
  {
   "cell_type": "code",
   "execution_count": 3,
   "metadata": {},
   "outputs": [
    {
     "name": "stdout",
     "output_type": "stream",
     "text": [
      "9\n"
     ]
    }
   ],
   "source": [
    "open = set_open(\"\"\"1 1\n",
    "1\n",
    "100\"\"\") # 9\n",
    "import math as m;l,_,*N=list(map(int,open(0).read().split()));D,M=m.lcm(*N[:l]),m.gcd(*N[l:]);q=M//D;r=int(q**.5);print(sum((2*(q%i==0)for i in range(1,r)),2*(q%(r+M%D)==0)-(r*r==q))*(M%D==0))"
   ]
  },
  {
   "cell_type": "code",
   "execution_count": 5,
   "metadata": {},
   "outputs": [
    {
     "name": "stdout",
     "output_type": "stream",
     "text": [
      "1\n"
     ]
    }
   ],
   "source": [
    "open = set_open(\"\"\"2 1\n",
    "6 9\n",
    "18\"\"\") # 1\n",
    "import math as m;l,_,*N=list(map(int,open(0).read().split()));D,M=m.lcm(*N[:l]),m.gcd(*N[l:]);q=M//D;r=int(q**.5);print(sum((2*(q%i==0)for i in range(1,r)),2*(q%(r+M%D)==0)-(r*r==q))*(M%D==0))"
   ]
  },
  {
   "cell_type": "code",
   "execution_count": 6,
   "metadata": {},
   "outputs": [
    {
     "name": "stdout",
     "output_type": "stream",
     "text": [
      "0\n"
     ]
    }
   ],
   "source": [
    "open = set_open(\"\"\"2 2\n",
    "6 9\n",
    "96 180\"\"\") # 0\n",
    "import math as m;l,_,*N=list(map(int,open(0).read().split()));D,M=m.lcm(*N[:l]),m.gcd(*N[l:]);q=M//D;r=int(q**.5);print(sum((2*(q%i==0)for i in range(1,r)),2*(q%(r+M%D)==0)-(r*r==q))*(M%D==0))"
   ]
  },
  {
   "cell_type": "code",
   "execution_count": 7,
   "metadata": {},
   "outputs": [
    {
     "name": "stdout",
     "output_type": "stream",
     "text": [
      "7\n"
     ]
    }
   ],
   "source": [
    "open = set_open(\"\"\"2 1\n",
    "2 4\n",
    "256\"\"\") # 7\n",
    "import math as m;l,_,*N=list(map(int,open(0).read().split()));D,M=m.lcm(*N[:l]),m.gcd(*N[l:]);q=M//D;r=int(q**.5);print(sum((2*(q%i==0)for i in range(1,r)),2*(q%(r+M%D)==0)-(r*r==q))*(M%D==0))"
   ]
  },
  {
   "cell_type": "code",
   "execution_count": 8,
   "metadata": {},
   "outputs": [
    {
     "name": "stdout",
     "output_type": "stream",
     "text": [
      "25\n"
     ]
    }
   ],
   "source": [
    "open = set_open(\"\"\"3 1\n",
    "1000 10000 100000\n",
    "1000000000\"\"\") # 25\n",
    "import math as m;l,_,*N=list(map(int,open(0).read().split()));D,M=m.lcm(*N[:l]),m.gcd(*N[l:]);q=M//D;r=int(q**.5);print(sum((2*(q%i==0)for i in range(1,r)),2*(q%(r+M%D)==0)-(r*r==q))*(M%D==0))"
   ]
  },
  {
   "cell_type": "code",
   "execution_count": 4,
   "metadata": {},
   "outputs": [
    {
     "name": "stdout",
     "output_type": "stream",
     "text": [
      "4\n"
     ]
    }
   ],
   "source": [
    "open = set_open(\"\"\"6 6\n",
    "30 20 12 10 6 4\n",
    "8280 6840 6120 4680 3960 2520\"\"\") # 4\n",
    "import math as m;l,_,*N=list(map(int,open(0).read().split()));D,M=m.lcm(*N[:l]),m.gcd(*N[l:]);q=M//D;r=int(q**.5);print(sum((2*(q%i==0)for i in range(1,r)),2*(q%(r+M%D)==0)-(r*r==q))*(M%D==0))"
   ]
  },
  {
   "cell_type": "markdown",
   "metadata": {},
   "source": [
    "## [백준/벌집](https://www.acmicpc.net/problem/2292)"
   ]
  },
  {
   "cell_type": "code",
   "execution_count": 1,
   "metadata": {},
   "outputs": [
    {
     "name": "stdout",
     "output_type": "stream",
     "text": [
      "1\n"
     ]
    }
   ],
   "source": [
    "n,i=int(input()),0\n",
    "while 3*i*(i+1)<n-1:i+=1\n",
    "print(i+1)"
   ]
  },
  {
   "cell_type": "code",
   "execution_count": 26,
   "metadata": {},
   "outputs": [
    {
     "name": "stdout",
     "output_type": "stream",
     "text": [
      "3\n"
     ]
    }
   ],
   "source": [
    "input = \"13\"\n",
    "n,i=int(input),0\n",
    "while 3*i*(i+1)<n-1:i+=1\n",
    "print(i+1)\n"
   ]
  },
  {
   "cell_type": "code",
   "execution_count": 24,
   "metadata": {},
   "outputs": [
    {
     "name": "stdout",
     "output_type": "stream",
     "text": [
      "688\n"
     ]
    }
   ],
   "source": [
    "input = \"1417969\"\n",
    "n,i=int(input),0\n",
    "while 3*i*(i+1)<n-1:i+=1\n",
    "print(i+1)\n"
   ]
  },
  {
   "cell_type": "markdown",
   "metadata": {},
   "source": [
    "## [백준/](https://www.acmicpc.net/problem/)"
   ]
  },
  {
   "cell_type": "code",
   "execution_count": null,
   "metadata": {},
   "outputs": [],
   "source": [
    "l=sorted(map(int,[*open(0)][1:]))\n",
    "e=len(l)\n",
    "c=sorted((e-l.count(i),i) for i in set(l))\n",
    "q=c[0]\n",
    "w=c[1%len(c)]\n",
    "if q[0]==w[0]:q=w\n",
    "print(int(sum(l)/e),l[e//2],q[1],l[-1]-l[0])\n",
    "\n",
    "from bisect import insort\n",
    "length = 0\n",
    "stack = []\n",
    "counter = {}\n",
    "total = 0\n",
    "for i in map(int,[*open(0)][1:]):\n",
    "    insort(stack,i)\n",
    "    length += 1\n",
    "    total += i\n",
    "    counter[i] = counter.get(i,0) + 1\n",
    "M = max(counter.values())\n",
    "manies = sorted(i for i in counter if counter[i] == M)\n",
    "print(int(total/length),stack[length//2],manies[1%manies],stack[-1]-stack[0])"
   ]
  },
  {
   "cell_type": "code",
   "execution_count": 28,
   "metadata": {},
   "outputs": [
    {
     "data": {
      "text/plain": [
       "['a', 'd', 'e', 'f', 'q', 's', 'w']"
      ]
     },
     "execution_count": 28,
     "metadata": {},
     "output_type": "execute_result"
    }
   ],
   "source": [
    "C(\"asdasdasdqweqwseqwedfsdf\")"
   ]
  },
  {
   "cell_type": "code",
   "execution_count": 43,
   "metadata": {},
   "outputs": [
    {
     "name": "stdout",
     "output_type": "stream",
     "text": [
      "2 2 1 10\n"
     ]
    }
   ],
   "source": [
    "input = \"\"\"5\n",
    "1\n",
    "3\n",
    "8\n",
    "-2\n",
    "2\"\"\".split(\"\\n\")\n",
    "from bisect import insort\n",
    "length = 0\n",
    "stack = []\n",
    "counter = {}\n",
    "total = 0\n",
    "M = 0\n",
    "most = []\n",
    "most_len = 0\n",
    "for i in map(int,[*input][1:]):\n",
    "    insort(stack,i)\n",
    "    length += 1\n",
    "    total += i\n",
    "    count = counter.get(i,0) + 1\n",
    "    if M < count:\n",
    "        most = [i]\n",
    "        M = count\n",
    "        most_len = 1\n",
    "    elif M == count:\n",
    "        insort(most, i)\n",
    "        most_len += 1\n",
    "    counter[i] = count\n",
    "print(int(total/length),stack[length//2],most[1%most_len],stack[-1]-stack[0])"
   ]
  },
  {
   "cell_type": "code",
   "execution_count": 48,
   "metadata": {},
   "outputs": [
    {
     "name": "stdout",
     "output_type": "stream",
     "text": [
      "0\n",
      "1\n",
      "2\n",
      "3\n",
      "4\n",
      "5\n",
      "6\n",
      "7\n",
      "8\n",
      "9\n",
      "[0, 1, 2, 3, 4, 5, 6, 7, 8, 9]\n"
     ]
    }
   ],
   "source": [
    "a = []\n",
    "for i in range(10):\n",
    "    print(i)\n",
    "    insort(a,i)\n",
    "print(a)"
   ]
  },
  {
   "cell_type": "code",
   "execution_count": null,
   "metadata": {},
   "outputs": [
    {
     "name": "stdout",
     "output_type": "stream",
     "text": [
      "1 2 1 2\n"
     ]
    }
   ],
   "source": [
    "input = \"\"\"7\n",
    "1\n",
    "1\n",
    "1\n",
    "2\n",
    "2\n",
    "3\n",
    "3\"\"\".split(\"\\n\")\n",
    "from bisect import insort\n",
    "length = 0\n",
    "stack = []\n",
    "counter = {}\n",
    "total = 0\n",
    "most_count = 0\n",
    "most_value = []\n",
    "most_len = []\n",
    "least = 4001\n",
    "biggest = -4001\n",
    "for i in map(int,[*input][1:]):\n",
    "    stack.append(i)\n",
    "    length += 1\n",
    "    total += i\n",
    "    count = counter.get(i,0) + 1\n",
    "    if biggest < i: biggest = i\n",
    "    if least > i: least = i\n",
    "    if most_count < count:\n",
    "        most_value = [i]\n",
    "        most_count = count\n",
    "        most_len = 1\n",
    "    elif most_count == count:\n",
    "        most_value.append(i)\n",
    "        most_len += 1\n",
    "    counter[i] = count\n",
    "stack.sort()\n",
    "most_value.sort()\n",
    "print(int(total/length),stack[length//2],most_value[1%most_len],biggest-least)"
   ]
  },
  {
   "cell_type": "code",
   "execution_count": 40,
   "metadata": {},
   "outputs": [
    {
     "name": "stdout",
     "output_type": "stream",
     "text": [
      "4000 4000 4000 0\n"
     ]
    }
   ],
   "source": [
    "input = \"\"\"1\n",
    "4000\"\"\".split(\"\\n\")\n",
    "from bisect import insort\n",
    "length = 0\n",
    "stack = []\n",
    "counter = {}\n",
    "total = 0\n",
    "for i in map(int,[*input][1:]):\n",
    "    insort(stack,i)\n",
    "    length += 1\n",
    "    total += i\n",
    "    counter[i] = counter.get(i,0) + 1\n",
    "M = max(counter.values())\n",
    "manies = sorted(i for i in counter if counter[i] == M)\n",
    "print(int(total/length),stack[length//2],manies[1%len(manies)],stack[-1]-stack[0])"
   ]
  },
  {
   "cell_type": "code",
   "execution_count": 41,
   "metadata": {},
   "outputs": [
    {
     "name": "stdout",
     "output_type": "stream",
     "text": [
      "0 0 0 1\n"
     ]
    }
   ],
   "source": [
    "input = \"\"\"3\n",
    "0\n",
    "0\n",
    "-1\"\"\".split(\"\\n\")\n",
    "from bisect import insort\n",
    "length = 0\n",
    "stack = []\n",
    "counter = {}\n",
    "total = 0\n",
    "for i in map(int,[*input][1:]):\n",
    "    insort(stack,i)\n",
    "    length += 1\n",
    "    total += i\n",
    "    counter[i] = counter.get(i,0) + 1\n",
    "M = max(counter.values())\n",
    "manies = sorted(i for i in counter if counter[i] == M)\n",
    "print(int(total/length),stack[length//2],manies[1%len(manies)],stack[-1]-stack[0])"
   ]
  },
  {
   "cell_type": "markdown",
   "metadata": {},
   "source": [
    "## [백준/Hashing](https://www.acmicpc.net/problem/15829)"
   ]
  },
  {
   "cell_type": "code",
   "execution_count": null,
   "metadata": {},
   "outputs": [],
   "source": [
    "print(sum((ord(j)-96)*31**i for i,j in enumerate([*open(0)][1].strip()))%1234567891)"
   ]
  },
  {
   "cell_type": "code",
   "execution_count": 2,
   "metadata": {},
   "outputs": [
    {
     "name": "stdout",
     "output_type": "stream",
     "text": [
      "19795890\n"
     ]
    }
   ],
   "source": [
    "input = \"\"\"chomu\"\"\"\n",
    "print(sum((ord(j)-96)*31**i for i,j in enumerate([*input]))%1234567891)"
   ]
  },
  {
   "cell_type": "markdown",
   "metadata": {},
   "source": [
    "## [백준/이항 계수 1](https://www.acmicpc.net/problem/11050)"
   ]
  },
  {
   "cell_type": "code",
   "execution_count": 14,
   "metadata": {},
   "outputs": [
    {
     "name": "stdout",
     "output_type": "stream",
     "text": [
      "10\n"
     ]
    }
   ],
   "source": [
    "def c(n,k,d={(0,0):1}):\n",
    " if (n,k) in d:return d[n,k]\n",
    " if 0 in(n,k)or n==k:d[n,k]=1;return 1\n",
    " d[n,k]=c(n-1,k,d)+c(n-1,k-1,d);return d[n,k]"
   ]
  },
  {
   "cell_type": "code",
   "execution_count": 15,
   "metadata": {},
   "outputs": [
    {
     "name": "stdout",
     "output_type": "stream",
     "text": [
      "10\n"
     ]
    }
   ],
   "source": [
    "input = iter(\"\"\"5 2\"\"\".split(\"\\n\")).__next__\n",
    "print(c(*map(int,input().split())))\n"
   ]
  },
  {
   "cell_type": "markdown",
   "metadata": {},
   "source": [
    "## [백준/덱](https://www.acmicpc.net/problem/10866)"
   ]
  },
  {
   "cell_type": "code",
   "execution_count": 83,
   "metadata": {},
   "outputs": [
    {
     "name": "stdout",
     "output_type": "stream",
     "text": [
      "['pop_front', 'size', 'front', 'pop_back', 'push_front', 'back', 'empty', 'push_back']\n"
     ]
    }
   ],
   "source": [
    "print(sorted([\"push_front\",\"push_back\",\"pop_front\",\"pop_back\",\"size\",\"empty\",\"front\",\"back\"],key=lambda i:(sum(map(ord,i))-10)%24%13))"
   ]
  },
  {
   "cell_type": "code",
   "execution_count": 177,
   "metadata": {},
   "outputs": [
    {
     "name": "stdout",
     "output_type": "stream",
     "text": [
      "24 22\n",
      "25 20\n",
      "26 24\n",
      "28 24\n",
      "31 28\n",
      "32 23\n",
      "33 26\n",
      "37 32\n",
      "40 38\n",
      "41 39\n",
      "44 37\n",
      "46 37\n",
      "47 39\n",
      "48 29\n",
      "49 45\n"
     ]
    }
   ],
   "source": [
    "for j in range(8,50):\n",
    "    s=set(sum(map(ord,i))%j for i in [\"push_front\",\"push_back\",\"pop_front\",\"pop_back\",\"size\",\"empty\",\"front\",\"back\"] if sum(map(ord,i))%j)\n",
    "    l = len(s)\n",
    "    if l == 8 and (max(s) - min(s) < 100): print(j,max(s) - min(s))"
   ]
  },
  {
   "cell_type": "code",
   "execution_count": 174,
   "metadata": {},
   "outputs": [
    {
     "name": "stdout",
     "output_type": "stream",
     "text": [
      "6\n",
      "7\n",
      "7\n",
      "7\n",
      "6\n",
      "5\n",
      "6\n",
      "7\n",
      "7\n",
      "7\n",
      "8\n",
      "7\n",
      "6\n"
     ]
    }
   ],
   "source": [
    "for j in range(13):\n",
    "    print(len(set((sum(map(ord,i))-j)%24%13 for i in [\"push_front\",\"push_back\",\"pop_front\",\"pop_back\",\"size\",\"empty\",\"front\",\"back\"] if (sum(map(ord,i))-j)%24%13<10)))"
   ]
  },
  {
   "cell_type": "code",
   "execution_count": 90,
   "metadata": {},
   "outputs": [
    {
     "data": {
      "text/plain": [
       "[1]"
      ]
     },
     "execution_count": 90,
     "metadata": {},
     "output_type": "execute_result"
    }
   ],
   "source": [
    "a = []\n",
    "a.insert(-1,1)\n",
    "a"
   ]
  },
  {
   "cell_type": "code",
   "execution_count": 98,
   "metadata": {},
   "outputs": [
    {
     "name": "stdout",
     "output_type": "stream",
     "text": [
      "0 0\n",
      "3 3\n",
      "\n",
      "1 0\n",
      "3 1\n",
      "\n",
      "0 1\n",
      "2 2\n",
      "\n",
      "1 1\n",
      "1 1\n",
      "\n"
     ]
    }
   ],
   "source": [
    "for i in range(4):\n",
    "    x,y=i%2,i//2\n",
    "    print(x,y)\n",
    "    print((1 if x else 2) if y else 3, 1 if x else (2 if y else 3))\n",
    "    print()"
   ]
  },
  {
   "cell_type": "code",
   "execution_count": 89,
   "metadata": {},
   "outputs": [
    {
     "name": "stdout",
     "output_type": "stream",
     "text": [
      "0 pop_front\n",
      "1 size\n",
      "2 front\n",
      "5 pop_back\n",
      "6 push_front\n",
      "7 back\n",
      "8 empty\n",
      "9 push_back\n"
     ]
    }
   ],
   "source": [
    "for i in ['pop_front', 'size', 'front', 'pop_back', 'push_front', 'back', 'empty', 'push_back']:\n",
    "    print((sum(map(ord,i))-10)%24%13,i)"
   ]
  },
  {
   "cell_type": "code",
   "execution_count": null,
   "metadata": {},
   "outputs": [],
   "source": [
    "s=[]\n",
    "for o in [*open(0)][1:]:\n",
    " a,*b=o.split()\n",
    " x=(sum(map(ord,i))-10)%24%13\n",
    " print((s[-x//5]if x%5==2 else(len(s)if x-1 else(0 if s else 1)))if x%5 else s.pop(-x//5))if x%3 else s.insert(-x%2,b[0])"
   ]
  },
  {
   "cell_type": "code",
   "execution_count": null,
   "metadata": {},
   "outputs": [],
   "source": [
    "s=[]\n",
    "for o in [*open(0)][1:]:a,*b=o.split();x=(sum(map(ord,i))-10)%24%13;print([0,s[0],len(s),s[-1]][x%4] if x%5 else s.pop(-x//5)if s else-[1,0,1,0,0,1,0,1,-1][x]) if (x<1)|(x%3)else(s:=sum([s,b][::x-7>>1],[]))"
   ]
  },
  {
   "cell_type": "code",
   "execution_count": 161,
   "metadata": {},
   "outputs": [
    {
     "name": "stdout",
     "output_type": "stream",
     "text": [
      "X 9 []\n",
      "X 6 ['1']\n",
      "X 2 ['2', '1']\n",
      "2\n",
      "X 7 ['2', '1']\n",
      "1\n",
      "X 1 ['2', '1']\n",
      "2\n",
      "X 8 ['2', '1']\n",
      "0\n",
      "X 0 ['2', '1']\n",
      "2\n",
      "X 5 ['1']\n",
      "1\n",
      "X 0 []\n",
      "-1\n",
      "X 1 []\n",
      "0\n",
      "X 8 []\n",
      "1\n",
      "X 5 []\n",
      "-1\n",
      "X 6 []\n",
      "X 8 ['3']\n",
      "0\n",
      "X 2 ['3']\n",
      "3\n"
     ]
    }
   ],
   "source": [
    "input = \"\"\"15\n",
    "push_back 1\n",
    "push_front 2\n",
    "front\n",
    "back\n",
    "size\n",
    "empty\n",
    "pop_front\n",
    "pop_back\n",
    "pop_front\n",
    "size\n",
    "empty\n",
    "pop_back\n",
    "push_front 3\n",
    "empty\n",
    "front\"\"\".split(\"\\n\")\n",
    "s=[]\n",
    "for o in [*input][1:]:\n",
    "    (a,*b)=o.split()\n",
    "    x=(sum(map(ord,a))-10)%24%13;\n",
    "    print(\"X\",x,s)\n",
    "    if (x<1)|(x%3):\n",
    "        if s:\n",
    "            if x%5:print([0,len(s),s[0],s[-1]][x%4])\n",
    "            else: print(s.pop(-x//5))\n",
    "        else: print(-[1,0,1,0,0,1,0,1,-1][x])\n",
    "    else:\n",
    "        s=sum([s,b][::x-7>>1],[])"
   ]
  },
  {
   "cell_type": "code",
   "execution_count": 170,
   "metadata": {},
   "outputs": [
    {
     "name": "stdout",
     "output_type": "stream",
     "text": [
      "2\n",
      "1\n",
      "2\n",
      "0\n",
      "2\n",
      "1\n",
      "-1\n",
      "0\n",
      "1\n",
      "-1\n",
      "0\n",
      "3\n"
     ]
    }
   ],
   "source": [
    "input = \"\"\"15\n",
    "push_back 1\n",
    "push_front 2\n",
    "front\n",
    "back\n",
    "size\n",
    "empty\n",
    "pop_front\n",
    "pop_back\n",
    "pop_front\n",
    "size\n",
    "empty\n",
    "pop_back\n",
    "push_front 3\n",
    "empty\n",
    "front\"\"\".split(\"\\n\")\n",
    "s=[]\n",
    "for o in [*input][1:]:(a,*b)=o.split();x=(sum(map(ord,a))-10)%24%13;print(([0,len(s),s[0],s[-1]][x%4]if x%5 else s.pop(-x//5))if s else -[1,0,1,0,0,1,0,1,-1][x])if(x<1)|(x%3)else(s:=sum([s,b][::x-7>>1],[]))"
   ]
  },
  {
   "cell_type": "code",
   "execution_count": 172,
   "metadata": {},
   "outputs": [
    {
     "ename": "SyntaxError",
     "evalue": "invalid syntax (874355599.py, line 24)",
     "output_type": "error",
     "traceback": [
      "\u001b[1;36m  Input \u001b[1;32mIn [172]\u001b[1;36m\u001b[0m\n\u001b[1;33m    s=[];for o in [*input][1:]:(a,*b)=o.split();x=(sum(map(ord,a))-10)%24%13;print(([0,len(s),s[0],s[-1]][x%4]if x%5 else s.pop(-x//5))if s else -[1,0,1,0,0,1,0,1,-1][x])if(x<1)|(x%3)else(s:=sum([s,b][::x-7>>1],[]))\u001b[0m\n\u001b[1;37m         ^\u001b[0m\n\u001b[1;31mSyntaxError\u001b[0m\u001b[1;31m:\u001b[0m invalid syntax\n"
     ]
    }
   ],
   "source": [
    "input = \"\"\"22\n",
    "front\n",
    "back\n",
    "pop_front\n",
    "pop_back\n",
    "push_front 1\n",
    "front\n",
    "pop_back\n",
    "push_back 2\n",
    "back\n",
    "pop_front\n",
    "push_front 10\n",
    "push_front 333\n",
    "front\n",
    "back\n",
    "pop_back\n",
    "pop_back\n",
    "push_back 20\n",
    "push_back 1234\n",
    "front\n",
    "back\n",
    "pop_back\n",
    "pop_back\"\"\".split(\"\\n\")\n",
    "s=[]\n",
    "for o in [*input][1:]:(a,*b)=o.split();x=(sum(map(ord,a))-10)%24%13;print(([0,len(s),s[0],s[-1]][x%4]if x%5 else s.pop(-x//5))if s else -[1,0,1,0,0,1,0,1,-1][x])if(x<1)|(x%3)else(s:=sum([s,b][::x-7>>1],[]))"
   ]
  },
  {
   "cell_type": "markdown",
   "metadata": {},
   "source": [
    "## [백준/큐](https://www.acmicpc.net/problem/10845)"
   ]
  },
  {
   "cell_type": "code",
   "execution_count": null,
   "metadata": {},
   "outputs": [],
   "source": [
    "s=__import__(\"collections\").deque();p=print\n",
    "for o in [*open(0)][1:]:\n",
    " match o[1]:\n",
    "  case \"u\":s.append(o.split()[1])\n",
    "  case \"o\":p(s.popleft()if s else-1)\n",
    "  case \"i\":p(len(s))\n",
    "  case \"m\":p(0 if s else 1)\n",
    "  case \"r\":p(s[0]if s else-1)\n",
    "  case \"a\":p(s[-1]if s else-1)"
   ]
  },
  {
   "cell_type": "code",
   "execution_count": 24,
   "metadata": {},
   "outputs": [
    {
     "name": "stdout",
     "output_type": "stream",
     "text": [
      "1\n",
      "2\n",
      "2\n",
      "0\n",
      "1\n",
      "2\n",
      "-1\n",
      "0\n",
      "1\n",
      "-1\n",
      "0\n",
      "3\n"
     ]
    }
   ],
   "source": [
    "input = \"\"\"15\n",
    "push 1\n",
    "push 2\n",
    "front\n",
    "back\n",
    "size\n",
    "empty\n",
    "pop\n",
    "pop\n",
    "pop\n",
    "size\n",
    "empty\n",
    "pop\n",
    "push 3\n",
    "empty\n",
    "front\"\"\".split(\"\\n\")\n",
    "s=[];p=print\n",
    "for o in [*input][1:]:\n",
    " match o[1]:\n",
    "  case\"u\":s.append(o.split()[1])\n",
    "  case\"o\":p(s.pop(0)if s else-1)\n",
    "  case\"i\":p(len(s))\n",
    "  case\"m\":p(0 if s else 1)\n",
    "  case\"r\":p(s[0]if s else-1)\n",
    "  case\"a\":p(s[-1]if s else-1)"
   ]
  },
  {
   "cell_type": "markdown",
   "metadata": {},
   "source": [
    "## [백준/스택](https://www.acmicpc.net/problem/10828)"
   ]
  },
  {
   "cell_type": "code",
   "execution_count": null,
   "metadata": {},
   "outputs": [],
   "source": [
    "s=[];p=print\n",
    "for o in [*open(0)][1:]:\n",
    " match o[:2]:\n",
    "  case \"pu\":s.append(o.split()[1])\n",
    "  case \"po\":p(s.pop()if s else-1)\n",
    "  case \"si\":p(len(s))\n",
    "  case \"em\":p(0 if s else 1)\n",
    "  case \"to\":p(s[-1]if s else-1)"
   ]
  },
  {
   "cell_type": "code",
   "execution_count": 21,
   "metadata": {},
   "outputs": [
    {
     "name": "stdout",
     "output_type": "stream",
     "text": [
      "-1\n",
      "-1\n",
      "-1\n",
      "0\n",
      "1\n"
     ]
    },
    {
     "ename": "IndexError",
     "evalue": "list index out of range",
     "output_type": "error",
     "traceback": [
      "\u001b[1;31m---------------------------------------------------------------------------\u001b[0m",
      "\u001b[1;31mIndexError\u001b[0m                                Traceback (most recent call last)",
      "\u001b[1;32mc:\\Users\\이찬행\\OneDrive - 충남대학교\\문서\\GitHub\\algorithm-study\\code-golf\\code-golf.ipynb Cell 8'\u001b[0m in \u001b[0;36m<cell line: 17>\u001b[1;34m()\u001b[0m\n\u001b[0;32m     <a href='vscode-notebook-cell:/c%3A/Users/%EC%9D%B4%EC%B0%AC%ED%96%89/OneDrive%20-%20%EC%B6%A9%EB%82%A8%EB%8C%80%ED%95%99%EA%B5%90/%EB%AC%B8%EC%84%9C/GitHub/algorithm-study/code-golf/code-golf.ipynb#ch0000171?line=15'>16</a>\u001b[0m s\u001b[39m=\u001b[39m[];p\u001b[39m=\u001b[39m\u001b[39mprint\u001b[39m\n\u001b[0;32m     <a href='vscode-notebook-cell:/c%3A/Users/%EC%9D%B4%EC%B0%AC%ED%96%89/OneDrive%20-%20%EC%B6%A9%EB%82%A8%EB%8C%80%ED%95%99%EA%B5%90/%EB%AC%B8%EC%84%9C/GitHub/algorithm-study/code-golf/code-golf.ipynb#ch0000171?line=16'>17</a>\u001b[0m \u001b[39mfor\u001b[39;00m o \u001b[39min\u001b[39;00m [\u001b[39m*\u001b[39m\u001b[39minput\u001b[39m][\u001b[39m1\u001b[39m:]:\n\u001b[0;32m     <a href='vscode-notebook-cell:/c%3A/Users/%EC%9D%B4%EC%B0%AC%ED%96%89/OneDrive%20-%20%EC%B6%A9%EB%82%A8%EB%8C%80%ED%95%99%EA%B5%90/%EB%AC%B8%EC%84%9C/GitHub/algorithm-study/code-golf/code-golf.ipynb#ch0000171?line=17'>18</a>\u001b[0m  \u001b[39mmatch\u001b[39;00m o[\u001b[39m0\u001b[39m]:\n\u001b[1;32m---> <a href='vscode-notebook-cell:/c%3A/Users/%EC%9D%B4%EC%B0%AC%ED%96%89/OneDrive%20-%20%EC%B6%A9%EB%82%A8%EB%8C%80%ED%95%99%EA%B5%90/%EB%AC%B8%EC%84%9C/GitHub/algorithm-study/code-golf/code-golf.ipynb#ch0000171?line=18'>19</a>\u001b[0m   \u001b[39mcase\u001b[39;00m \u001b[39m\"\u001b[39m\u001b[39mp\u001b[39m\u001b[39m\"\u001b[39m:p(s\u001b[39m.\u001b[39mpop()\u001b[39mif\u001b[39;00m s \u001b[39melse\u001b[39;00m\u001b[39m-\u001b[39m\u001b[39m1\u001b[39m)\u001b[39mif\u001b[39;00m o[\u001b[39m1\u001b[39m]\u001b[39m>\u001b[39m\u001b[39m\"\u001b[39m\u001b[39mo\u001b[39m\u001b[39m\"\u001b[39m\u001b[39melse\u001b[39;00m s\u001b[39m.\u001b[39mappend(o\u001b[39m.\u001b[39msplit()[\u001b[39m1\u001b[39m])\n\u001b[0;32m     <a href='vscode-notebook-cell:/c%3A/Users/%EC%9D%B4%EC%B0%AC%ED%96%89/OneDrive%20-%20%EC%B6%A9%EB%82%A8%EB%8C%80%ED%95%99%EA%B5%90/%EB%AC%B8%EC%84%9C/GitHub/algorithm-study/code-golf/code-golf.ipynb#ch0000171?line=19'>20</a>\u001b[0m   \u001b[39mcase\u001b[39;00m \u001b[39m\"\u001b[39m\u001b[39ms\u001b[39m\u001b[39m\"\u001b[39m:p(\u001b[39mlen\u001b[39m(s))\n\u001b[0;32m     <a href='vscode-notebook-cell:/c%3A/Users/%EC%9D%B4%EC%B0%AC%ED%96%89/OneDrive%20-%20%EC%B6%A9%EB%82%A8%EB%8C%80%ED%95%99%EA%B5%90/%EB%AC%B8%EC%84%9C/GitHub/algorithm-study/code-golf/code-golf.ipynb#ch0000171?line=20'>21</a>\u001b[0m   \u001b[39mcase\u001b[39;00m \u001b[39m\"\u001b[39m\u001b[39me\u001b[39m\u001b[39m\"\u001b[39m:p(\u001b[39m0\u001b[39m \u001b[39mif\u001b[39;00m s \u001b[39melse\u001b[39;00m \u001b[39m1\u001b[39m)\n\u001b[0;32m     <a href='vscode-notebook-cell:/c%3A/Users/%EC%9D%B4%EC%B0%AC%ED%96%89/OneDrive%20-%20%EC%B6%A9%EB%82%A8%EB%8C%80%ED%95%99%EA%B5%90/%EB%AC%B8%EC%84%9C/GitHub/algorithm-study/code-golf/code-golf.ipynb#ch0000171?line=21'>22</a>\u001b[0m   \u001b[39mcase\u001b[39;00m \u001b[39m\"\u001b[39m\u001b[39mt\u001b[39m\u001b[39m\"\u001b[39m:p(s[\u001b[39m-\u001b[39m\u001b[39m1\u001b[39m]\u001b[39mif\u001b[39;00m s \u001b[39melse\u001b[39;00m\u001b[39m-\u001b[39m\u001b[39m1\u001b[39m)\n",
      "\u001b[1;31mIndexError\u001b[0m: list index out of range"
     ]
    }
   ],
   "source": [
    "input = \"\"\"14\n",
    "push 1\n",
    "push 2\n",
    "top\n",
    "size\n",
    "empty\n",
    "pop\n",
    "pop\n",
    "pop\n",
    "size\n",
    "empty\n",
    "pop\n",
    "push 3\n",
    "empty\n",
    "top\"\"\".split(\"\\n\")\n",
    "s=[];p=print\n",
    "for o in [*input][1:]:\n",
    " match o[0]:\n",
    "  case \"p\":p(s.pop()if s else-1)if o[1]>\"o\"else s.append(o.split()[1])\n",
    "  case \"s\":p(len(s))\n",
    "  case \"e\":p(0 if s else 1)\n",
    "  case \"t\":p(s[-1]if s else-1)"
   ]
  },
  {
   "cell_type": "code",
   "execution_count": 20,
   "metadata": {},
   "outputs": [
    {
     "name": "stdout",
     "output_type": "stream",
     "text": [
      "-1\n",
      "-1\n",
      "123\n",
      "123\n",
      "-1\n",
      "-1\n"
     ]
    }
   ],
   "source": [
    "input = \"\"\"7\n",
    "pop\n",
    "top\n",
    "push 123\n",
    "top\n",
    "pop\n",
    "top\n",
    "pop\"\"\".split(\"\\n\")\n",
    "s=[];p=print\n",
    "for o in [*input][1:]:\n",
    "    match o[:2]:\n",
    "        case \"pu\":s.append(o.split()[1])\n",
    "        case \"po\":p(s.pop()if s else -1)\n",
    "        case \"si\":p(len(s))\n",
    "        case \"em\":p(0 if s else 1)\n",
    "        case \"to\":p(s[-1]if s else -1)"
   ]
  },
  {
   "cell_type": "markdown",
   "metadata": {},
   "source": [
    "## [백준/숫자 카드 2](https://www.acmicpc.net/problem/10816)"
   ]
  },
  {
   "cell_type": "code",
   "execution_count": null,
   "metadata": {},
   "outputs": [],
   "source": [
    "a,b=map(lambda x:x.split(),[*open(0)][1::2])\n",
    "print(*map(__import__(\"collections\").Counter(a).__getitem__,b))"
   ]
  },
  {
   "cell_type": "code",
   "execution_count": 14,
   "metadata": {},
   "outputs": [
    {
     "name": "stdout",
     "output_type": "stream",
     "text": [
      "3 0 0 1 2 0 0 2\n"
     ]
    }
   ],
   "source": [
    "input = \"\"\"10\n",
    "6 3 2 10 10 10 -10 -10 7 3\n",
    "8\n",
    "10 9 -5 2 3 4 5 -10\"\"\".split(\"\\n\")\n",
    "a,b=map(lambda x:x.split(),[*input][1::2])\n",
    "print(*map(__import__(\"collections\").Counter(a).__getitem__,b))"
   ]
  },
  {
   "cell_type": "markdown",
   "metadata": {},
   "source": [
    "## [백준/나이순 정렬](https://www.acmicpc.net/problem/10814)"
   ]
  },
  {
   "cell_type": "code",
   "execution_count": null,
   "metadata": {},
   "outputs": [],
   "source": [
    "for i in sorted([*open(0)][1:],key=lambda x:int(x.split()[0])):print(i.strip())"
   ]
  },
  {
   "cell_type": "code",
   "execution_count": 30,
   "metadata": {},
   "outputs": [
    {
     "name": "stdout",
     "output_type": "stream",
     "text": [
      "20 Sunyoung\n",
      "21 Junkyu\n",
      "21 Dohyun\n"
     ]
    }
   ],
   "source": [
    "input = \"\"\"3\n",
    "21 Junkyu\n",
    "21 Dohyun\n",
    "20 Sunyoung\"\"\".split(\"\\n\")\n",
    "for i in sorted([*input][1:],key=lambda x:int(x.split()[0])):print(i.strip())"
   ]
  },
  {
   "cell_type": "markdown",
   "metadata": {},
   "source": [
    "## [백준/ACM 호텔](https://www.acmicpc.net/problem/10250)"
   ]
  },
  {
   "cell_type": "code",
   "execution_count": null,
   "metadata": {},
   "outputs": [],
   "source": [
    "for _ in range(int(input())):h,w,n=map(int,input().split());n-=1;print((n%h+1)*100+(n//h+1))"
   ]
  },
  {
   "cell_type": "code",
   "execution_count": 19,
   "metadata": {},
   "outputs": [
    {
     "name": "stdout",
     "output_type": "stream",
     "text": [
      "402\n",
      "1203\n",
      "404\n"
     ]
    }
   ],
   "source": [
    "input = iter(\"\"\"3\n",
    "6 12 10\n",
    "30 50 72\n",
    "4 4 16\"\"\".split(\"\\n\")).__next__\n",
    "for _ in range(int(input())):h,w,n=map(int,input().split());n-=1;print((n%h+1)*100+(n//h+1))\n"
   ]
  },
  {
   "cell_type": "code",
   "execution_count": 20,
   "metadata": {},
   "outputs": [
    {
     "name": "stdout",
     "output_type": "stream",
     "text": [
      "101\n",
      "201\n",
      "102\n",
      "202\n"
     ]
    }
   ],
   "source": [
    "input = iter(\"\"\"4\n",
    "2 2 1\n",
    "2 2 2\n",
    "2 2 3\n",
    "2 2 4\"\"\".split(\"\\n\")).__next__\n",
    "for _ in range(int(input())):h,w,n=map(int,input().split());n-=1;print((n%h+1)*100+(n//h+1))\n"
   ]
  },
  {
   "cell_type": "markdown",
   "metadata": {},
   "source": [
    "## [백준/수 정렬하기 2](https://www.acmicpc.net/problem/2751)"
   ]
  },
  {
   "cell_type": "code",
   "execution_count": null,
   "metadata": {},
   "outputs": [],
   "source": [
    "print(\"\\n\".join(map(str,sorted(map(int,open(0).read().split()[1:])))))"
   ]
  },
  {
   "cell_type": "code",
   "execution_count": 1,
   "metadata": {},
   "outputs": [
    {
     "name": "stdout",
     "output_type": "stream",
     "text": [
      "1\n",
      "2\n",
      "3\n",
      "4\n",
      "5\n"
     ]
    }
   ],
   "source": [
    "input = \"\"\"5\n",
    "5\n",
    "4\n",
    "3\n",
    "2\n",
    "1\"\"\"\n",
    "print(\"\\n\".join(map(str,sorted(map(int,input.split()[1:])))))"
   ]
  },
  {
   "cell_type": "markdown",
   "metadata": {},
   "source": [
    "## [백준/최대공약수와 최소공배수](https://www.acmicpc.net/problem/2609)"
   ]
  },
  {
   "cell_type": "code",
   "execution_count": null,
   "metadata": {},
   "outputs": [],
   "source": [
    "e=lambda a,b:a if b==0 else e(b,a%b)\n",
    "a,b=map(int,input().split())\n",
    "d=e(a,b)\n",
    "print(d)\n",
    "print(a*b//d)"
   ]
  },
  {
   "cell_type": "code",
   "execution_count": 1,
   "metadata": {},
   "outputs": [
    {
     "name": "stdout",
     "output_type": "stream",
     "text": [
      "6\n",
      "72\n"
     ]
    }
   ],
   "source": [
    "input = iter(\"\"\"24 18\"\"\".split(\"\\n\")).__next__\n",
    "e=lambda a,b:a if b==0 else e(b,a%b)\n",
    "a,b=map(int,input().split())\n",
    "d=e(a,b)\n",
    "print(d)\n",
    "print(a*b//d)"
   ]
  },
  {
   "cell_type": "markdown",
   "metadata": {},
   "source": [
    "## [백준/카드 2](https://www.acmicpc.net/problem/2164)"
   ]
  },
  {
   "cell_type": "code",
   "execution_count": null,
   "metadata": {},
   "outputs": [],
   "source": [
    "print(n if(n:=int(input())).bit_count()==1 else int(bin(n)[3:],2)*2)"
   ]
  },
  {
   "cell_type": "code",
   "execution_count": 1,
   "metadata": {},
   "outputs": [
    {
     "name": "stdout",
     "output_type": "stream",
     "text": [
      "4\n"
     ]
    }
   ],
   "source": [
    "input = iter(\"\"\"4\"\"\".split(\"\\n\")).__next__\n",
    "print(n if(n:=int(input())).bit_count()==1 else int(bin(n)[3:],2)*2)"
   ]
  },
  {
   "cell_type": "code",
   "execution_count": 2,
   "metadata": {},
   "outputs": [
    {
     "name": "stdout",
     "output_type": "stream",
     "text": [
      "4\n"
     ]
    }
   ],
   "source": [
    "input = iter(\"\"\"6\"\"\".split(\"\\n\")).__next__\n",
    "print(n if(n:=int(input())).bit_count()==1 else int(bin(n)[3:],2)*2)"
   ]
  },
  {
   "cell_type": "markdown",
   "metadata": {},
   "source": [
    "## [백준/A+B](https://www.acmicpc.net/problem/1000)"
   ]
  },
  {
   "cell_type": "code",
   "execution_count": null,
   "metadata": {},
   "outputs": [],
   "source": [
    "print(sum(map(int, input().split())))"
   ]
  },
  {
   "cell_type": "code",
   "execution_count": 2,
   "metadata": {},
   "outputs": [
    {
     "name": "stdout",
     "output_type": "stream",
     "text": [
      "3\n"
     ]
    }
   ],
   "source": [
    "print(sum(map(int, \"1 2\".split())))"
   ]
  },
  {
   "cell_type": "markdown",
   "metadata": {},
   "source": [
    "## [백준/A-B](https://www.acmicpc.net/problem/1001)"
   ]
  },
  {
   "cell_type": "code",
   "execution_count": null,
   "metadata": {},
   "outputs": [],
   "source": [
    "print(eval('-'.join(input().split())))"
   ]
  },
  {
   "cell_type": "code",
   "execution_count": 3,
   "metadata": {},
   "outputs": [
    {
     "name": "stdout",
     "output_type": "stream",
     "text": [
      "1\n"
     ]
    }
   ],
   "source": [
    "print(eval('-'.join(\"3 2\".split())))"
   ]
  },
  {
   "cell_type": "markdown",
   "metadata": {},
   "source": [
    "## [백준/팰린드롬수](https://www.acmicpc.net/problem/1259)"
   ]
  },
  {
   "cell_type": "code",
   "execution_count": null,
   "metadata": {},
   "outputs": [],
   "source": [
    "while (n:=input())!=\"0\":print(\"yes\"if n==n[::-1]else\"no\")"
   ]
  },
  {
   "cell_type": "code",
   "execution_count": 8,
   "metadata": {},
   "outputs": [
    {
     "name": "stdout",
     "output_type": "stream",
     "text": [
      "yes\n",
      "no\n",
      "yes\n"
     ]
    }
   ],
   "source": [
    "input = iter(\"\"\"121\n",
    "1231\n",
    "12421\n",
    "0\"\"\".split(\"\\n\")).__next__\n",
    "while (n:=input())!=\"0\":print(\"yes\"if n==n[::-1]else\"no\")"
   ]
  },
  {
   "cell_type": "markdown",
   "metadata": {},
   "source": [
    "## [백준/단어 정렬](https://www.acmicpc.net/problem/1181)"
   ]
  },
  {
   "cell_type": "code",
   "execution_count": null,
   "metadata": {},
   "outputs": [],
   "source": [
    "print(\"\\n\".join(sorted(set(input() for _ in range(int(input()))),key=lambda x: (len(x),x))))"
   ]
  },
  {
   "cell_type": "code",
   "execution_count": 9,
   "metadata": {},
   "outputs": [
    {
     "name": "stdout",
     "output_type": "stream",
     "text": [
      "i\n",
      "im\n",
      "it\n",
      "no\n",
      "but\n",
      "more\n",
      "wait\n",
      "wont\n",
      "yours\n",
      "cannot\n",
      "hesitate\n"
     ]
    }
   ],
   "source": [
    "input = iter(\"\"\"13\n",
    "but\n",
    "i\n",
    "wont\n",
    "hesitate\n",
    "no\n",
    "more\n",
    "no\n",
    "more\n",
    "it\n",
    "cannot\n",
    "wait\n",
    "im\n",
    "yours\"\"\".split(\"\\n\")).__next__\n",
    "print(\"\\n\".join(sorted(set(input() for _ in range(int(input()))),key=lambda x: (len(x),x))))"
   ]
  },
  {
   "cell_type": "markdown",
   "metadata": {},
   "source": [
    "## [백준/시험 성적](https://www.acmicpc.net/problem/9498)"
   ]
  },
  {
   "cell_type": "code",
   "execution_count": null,
   "metadata": {},
   "outputs": [],
   "source": [
    "print(\"A\"if(n:=int(input()))==100 else(\"F\"if n<60 else chr(74-n//10)))"
   ]
  },
  {
   "cell_type": "code",
   "execution_count": 10,
   "metadata": {},
   "outputs": [
    {
     "name": "stdout",
     "output_type": "stream",
     "text": [
      "A\n"
     ]
    }
   ],
   "source": [
    "print(\"A\"if(n:=int(\"100\"))==100 else(\"F\"if n<60 else chr(74-n//10)))"
   ]
  },
  {
   "cell_type": "markdown",
   "metadata": {},
   "source": [
    "## [백준/나머지](https://www.acmicpc.net/problem/3052)"
   ]
  },
  {
   "cell_type": "code",
   "execution_count": null,
   "metadata": {},
   "outputs": [],
   "source": [
    "print(len(set(map(lambda x:int(x)%42,open(0).read().split()))))"
   ]
  },
  {
   "cell_type": "code",
   "execution_count": 22,
   "metadata": {},
   "outputs": [
    {
     "name": "stdout",
     "output_type": "stream",
     "text": [
      "10\n"
     ]
    }
   ],
   "source": [
    "input = \"\"\"1\n",
    "2\n",
    "3\n",
    "4\n",
    "5\n",
    "6\n",
    "7\n",
    "8\n",
    "9\n",
    "10\"\"\".split(\"\\n\")\n",
    "print(len(set(map(lambda x:int(x)%42,input))))"
   ]
  },
  {
   "cell_type": "code",
   "execution_count": 23,
   "metadata": {},
   "outputs": [
    {
     "name": "stdout",
     "output_type": "stream",
     "text": [
      "1\n"
     ]
    }
   ],
   "source": [
    "input = \"\"\"42\n",
    "84\n",
    "252\n",
    "420\n",
    "840\n",
    "126\n",
    "42\n",
    "84\n",
    "420\n",
    "126\"\"\".split(\"\\n\")\n",
    "print(len(set(map(lambda x:int(x)%42,input))))"
   ]
  },
  {
   "cell_type": "code",
   "execution_count": 24,
   "metadata": {},
   "outputs": [
    {
     "name": "stdout",
     "output_type": "stream",
     "text": [
      "6\n"
     ]
    }
   ],
   "source": [
    "input = \"\"\"39\n",
    "40\n",
    "41\n",
    "42\n",
    "43\n",
    "44\n",
    "82\n",
    "83\n",
    "84\n",
    "85\"\"\".split(\"\\n\")\n",
    "print(len(set(map(lambda x:int(x)%42,input))))"
   ]
  },
  {
   "cell_type": "markdown",
   "metadata": {},
   "source": [
    "## [백준/고양이](https://www.acmicpc.net/problem/10171)"
   ]
  },
  {
   "cell_type": "code",
   "execution_count": 25,
   "metadata": {},
   "outputs": [
    {
     "name": "stdout",
     "output_type": "stream",
     "text": [
      "\\    /\\\n",
      " )  ( ')\n",
      "(  /  )\n",
      " \\(__)|\n"
     ]
    }
   ],
   "source": [
    "print(r\"\"\"\\    /\\\n",
    " )  ( ')\n",
    "(  /  )\n",
    " \\(__)|\"\"\")"
   ]
  },
  {
   "cell_type": "markdown",
   "metadata": {},
   "source": [
    "## [백준/개](https://www.acmicpc.net/problem/10172)"
   ]
  },
  {
   "cell_type": "code",
   "execution_count": null,
   "metadata": {},
   "outputs": [],
   "source": [
    "print(r'''|\\_/|\n",
    "|q p|   /}\n",
    "( 0 )\"\"\"\\\n",
    "|\"^\"`    |\n",
    "||_/=\\\\__|''')"
   ]
  },
  {
   "cell_type": "markdown",
   "metadata": {},
   "source": [
    "## [백준/알파벳 찾기](https://www.acmicpc.net/problem/10809)"
   ]
  },
  {
   "cell_type": "code",
   "execution_count": null,
   "metadata": {},
   "outputs": [],
   "source": [
    "s=input()\n",
    "print(\" \".join(map(str,[s.index(chr(97+i))if chr(97+i)in s else -1 for i in range(26)])))"
   ]
  },
  {
   "cell_type": "code",
   "execution_count": 26,
   "metadata": {},
   "outputs": [
    {
     "name": "stdout",
     "output_type": "stream",
     "text": [
      "1 0 -1 -1 2 -1 -1 -1 -1 4 3 -1 -1 7 5 -1 -1 -1 -1 -1 -1 -1 -1 -1 -1 -1\n"
     ]
    }
   ],
   "source": [
    "s=\"baekjoon\"\n",
    "print(\" \".join(map(str,[s.index(chr(97+i))if chr(97+i)in s else -1 for i in range(26)])))"
   ]
  },
  {
   "cell_type": "markdown",
   "metadata": {},
   "source": [
    "## [백준/A×B](https://www.acmicpc.net/problem/10998)"
   ]
  },
  {
   "cell_type": "code",
   "execution_count": null,
   "metadata": {},
   "outputs": [],
   "source": [
    "a,b=map(int,input().split())\n",
    "print(a*b)"
   ]
  },
  {
   "cell_type": "code",
   "execution_count": 27,
   "metadata": {},
   "outputs": [
    {
     "name": "stdout",
     "output_type": "stream",
     "text": [
      "2\n"
     ]
    }
   ],
   "source": [
    "a,b=map(int,\"1 2\".split())\n",
    "print(a*b)"
   ]
  },
  {
   "cell_type": "code",
   "execution_count": 28,
   "metadata": {},
   "outputs": [
    {
     "name": "stdout",
     "output_type": "stream",
     "text": [
      "12\n"
     ]
    }
   ],
   "source": [
    "a,b=map(int,\"3 4\".split())\n",
    "print(a*b)"
   ]
  },
  {
   "cell_type": "markdown",
   "metadata": {},
   "source": [
    "## [백준/상수](https://www.acmicpc.net/problem/2908)"
   ]
  },
  {
   "cell_type": "code",
   "execution_count": null,
   "metadata": {},
   "outputs": [],
   "source": [
    "print(max(map(lambda x:int(\"\".join(reversed(x))),input().split())))"
   ]
  },
  {
   "cell_type": "code",
   "execution_count": 29,
   "metadata": {},
   "outputs": [
    {
     "name": "stdout",
     "output_type": "stream",
     "text": [
      "437\n"
     ]
    }
   ],
   "source": [
    "print(max(map(lambda x:int(\"\".join(reversed(x))),\"734 893\".split())))"
   ]
  },
  {
   "cell_type": "code",
   "execution_count": 30,
   "metadata": {},
   "outputs": [
    {
     "name": "stdout",
     "output_type": "stream",
     "text": [
      "132\n"
     ]
    }
   ],
   "source": [
    "print(max(map(lambda x:int(\"\".join(reversed(x))),\"221 231\".split())))"
   ]
  },
  {
   "cell_type": "code",
   "execution_count": 31,
   "metadata": {},
   "outputs": [
    {
     "name": "stdout",
     "output_type": "stream",
     "text": [
      "938\n"
     ]
    }
   ],
   "source": [
    "print(max(map(lambda x:int(\"\".join(reversed(x))),\"839 237\".split())))"
   ]
  },
  {
   "cell_type": "markdown",
   "metadata": {},
   "source": [
    "## [백준/알람 시계](https://www.acmicpc.net/problem/2884)"
   ]
  },
  {
   "cell_type": "code",
   "execution_count": null,
   "metadata": {},
   "outputs": [],
   "source": [
    "h,m=map(int,input().split())\n",
    "if m<45: h=(h-1)%24\n",
    "print(h,(m-45)%60)"
   ]
  },
  {
   "cell_type": "code",
   "execution_count": 32,
   "metadata": {},
   "outputs": [
    {
     "name": "stdout",
     "output_type": "stream",
     "text": [
      "9 25\n"
     ]
    }
   ],
   "source": [
    "h,m=map(int,\"10 10\".split())\n",
    "if m<45: h=(h-1)%24\n",
    "print(h,(m-45)%60)"
   ]
  },
  {
   "cell_type": "code",
   "execution_count": 34,
   "metadata": {},
   "outputs": [
    {
     "name": "stdout",
     "output_type": "stream",
     "text": [
      "23 45\n"
     ]
    }
   ],
   "source": [
    "h,m=map(int,\"0 30\".split())\n",
    "if m<45: h=(h-1)%24\n",
    "print(h,(m-45)%60)"
   ]
  },
  {
   "cell_type": "code",
   "execution_count": 33,
   "metadata": {},
   "outputs": [
    {
     "name": "stdout",
     "output_type": "stream",
     "text": [
      "22 55\n"
     ]
    }
   ],
   "source": [
    "h,m=map(int,\"23 40\".split())\n",
    "if m<45: h=(h-1)%24\n",
    "print(h,(m-45)%60)"
   ]
  },
  {
   "cell_type": "markdown",
   "metadata": {},
   "source": [
    "## [백준/Hello World](https://www.acmicpc.net/problem/2557)"
   ]
  },
  {
   "cell_type": "code",
   "execution_count": 35,
   "metadata": {},
   "outputs": [
    {
     "name": "stdout",
     "output_type": "stream",
     "text": [
      "Hello World!\n"
     ]
    }
   ],
   "source": [
    "print(\"Hello World!\")"
   ]
  },
  {
   "cell_type": "markdown",
   "metadata": {},
   "source": [
    "## [백준/최댓값](https://www.acmicpc.net/problem/2562)"
   ]
  },
  {
   "cell_type": "code",
   "execution_count": null,
   "metadata": {},
   "outputs": [],
   "source": [
    "print(max(l:=[int(input())for _ in range(9)]))\n",
    "print(l.index(max(l))+1)"
   ]
  },
  {
   "cell_type": "code",
   "execution_count": 37,
   "metadata": {},
   "outputs": [
    {
     "name": "stdout",
     "output_type": "stream",
     "text": [
      "85\n",
      "8\n"
     ]
    }
   ],
   "source": [
    "input = iter(\"\"\"3\n",
    "29\n",
    "38\n",
    "12\n",
    "57\n",
    "74\n",
    "40\n",
    "85\n",
    "61\"\"\".split(\"\\n\")).__next__\n",
    "print(max(l:=[int(input())for _ in range(9)]))\n",
    "print(l.index(max(l))+1)"
   ]
  },
  {
   "cell_type": "markdown",
   "metadata": {},
   "source": [
    "## [백준/숫자의 개수](https://www.acmicpc.net/problem/2577)"
   ]
  },
  {
   "cell_type": "code",
   "execution_count": null,
   "metadata": {},
   "outputs": [],
   "source": [
    "p=1\n",
    "for _ in range(3):p*=int(input())\n",
    "print(*[str(p).count(i) for i in \"0123456789\"],sep=\"\\n\")"
   ]
  },
  {
   "cell_type": "code",
   "execution_count": 38,
   "metadata": {},
   "outputs": [
    {
     "name": "stdout",
     "output_type": "stream",
     "text": [
      "3\n",
      "1\n",
      "0\n",
      "2\n",
      "0\n",
      "0\n",
      "0\n",
      "2\n",
      "0\n",
      "0\n"
     ]
    }
   ],
   "source": [
    "input = iter(\"\"\"150\n",
    "266\n",
    "427\"\"\".split(\"\\n\")).__next__\n",
    "p=1\n",
    "for _ in range(3):p*=int(input())\n",
    "print(*[str(p).count(i) for i in \"0123456789\"],sep=\"\\n\")"
   ]
  },
  {
   "cell_type": "markdown",
   "metadata": {},
   "source": [
    "## [백준/도미노](https://www.acmicpc.net/problem/2921)"
   ]
  },
  {
   "cell_type": "code",
   "execution_count": null,
   "metadata": {},
   "outputs": [],
   "source": [
    "print((n:=int(input()))*(n+1)*(n+2)//2)"
   ]
  },
  {
   "cell_type": "code",
   "execution_count": 39,
   "metadata": {},
   "outputs": [
    {
     "name": "stdout",
     "output_type": "stream",
     "text": [
      "12\n"
     ]
    }
   ],
   "source": [
    "print((n:=int(\"2\"))*(n+1)*(n+2)//2)"
   ]
  },
  {
   "cell_type": "code",
   "execution_count": 40,
   "metadata": {},
   "outputs": [
    {
     "name": "stdout",
     "output_type": "stream",
     "text": [
      "30\n"
     ]
    }
   ],
   "source": [
    "print((n:=int(\"3\"))*(n+1)*(n+2)//2)"
   ]
  },
  {
   "cell_type": "code",
   "execution_count": 42,
   "metadata": {},
   "outputs": [
    {
     "name": "stdout",
     "output_type": "stream",
     "text": [
      "2040\n"
     ]
    }
   ],
   "source": [
    "print((n:=int(\"15\"))*(n+1)*(n+2)//2)"
   ]
  },
  {
   "cell_type": "markdown",
   "metadata": {},
   "source": [
    "## [백준/구구단](https://www.acmicpc.net/problem/2739)"
   ]
  },
  {
   "cell_type": "code",
   "execution_count": null,
   "metadata": {},
   "outputs": [],
   "source": [
    "n=int(input())\n",
    "for i in range(1,10):print(\"%d * %d = %d\"%(n,i,i*n))"
   ]
  },
  {
   "cell_type": "code",
   "execution_count": 43,
   "metadata": {},
   "outputs": [
    {
     "name": "stdout",
     "output_type": "stream",
     "text": [
      "2 * 1 = 2\n",
      "2 * 2 = 4\n",
      "2 * 3 = 6\n",
      "2 * 4 = 8\n",
      "2 * 5 = 10\n",
      "2 * 6 = 12\n",
      "2 * 7 = 14\n",
      "2 * 8 = 16\n",
      "2 * 9 = 18\n"
     ]
    }
   ],
   "source": [
    "n=int(\"2\")\n",
    "for i in range(1,10):print(\"%d * %d = %d\"%(n,i,i*n))"
   ]
  },
  {
   "cell_type": "markdown",
   "metadata": {},
   "source": [
    "## [백준/OX퀴즈](https://www.acmicpc.net/problem/8958)"
   ]
  },
  {
   "cell_type": "code",
   "execution_count": null,
   "metadata": {},
   "outputs": [],
   "source": [
    "for _ in range(int(input())):print(sum(map(lambda x:(l:=len(x))*(l+1)//2,(s:=input().split(\"X\")))))"
   ]
  },
  {
   "cell_type": "code",
   "execution_count": 49,
   "metadata": {},
   "outputs": [
    {
     "name": "stdout",
     "output_type": "stream",
     "text": [
      "10\n",
      "9\n",
      "7\n",
      "55\n",
      "30\n"
     ]
    }
   ],
   "source": [
    "input = iter(\"\"\"5\n",
    "OOXXOXXOOO\n",
    "OOXXOOXXOO\n",
    "OXOXOXOXOXOXOX\n",
    "OOOOOOOOOO\n",
    "OOOOXOOOOXOOOOX\"\"\".split(\"\\n\")).__next__\n",
    "for _ in range(int(input())):print(sum(map(lambda x:(l:=len(x))*(l+1)//2,(s:=input().split(\"X\")))))"
   ]
  },
  {
   "cell_type": "markdown",
   "metadata": {},
   "source": [
    "## [백준/최소, 최대](https://www.acmicpc.net/problem/10818)"
   ]
  },
  {
   "cell_type": "code",
   "execution_count": null,
   "metadata": {},
   "outputs": [],
   "source": [
    "input();s=list(map(int,input().split()))\n",
    "print(min(s),max(s))"
   ]
  },
  {
   "cell_type": "code",
   "execution_count": 50,
   "metadata": {},
   "outputs": [
    {
     "name": "stdout",
     "output_type": "stream",
     "text": [
      "7 35\n"
     ]
    }
   ],
   "source": [
    "input = iter(\"\"\"5\n",
    "20 10 35 30 7\"\"\".split(\"\\n\")).__next__\n",
    "input();s=list(map(int,input().split()))\n",
    "print(min(s),max(s))"
   ]
  },
  {
   "cell_type": "markdown",
   "metadata": {},
   "source": [
    "## [백준/사칙연산](https://www.acmicpc.net/problem/10869)"
   ]
  },
  {
   "cell_type": "code",
   "execution_count": null,
   "metadata": {},
   "outputs": [],
   "source": [
    "a,b=map(int,input().split())\n",
    "print(a+b,a-b,a*b,a//b,a%b,sep=\"\\n\")"
   ]
  },
  {
   "cell_type": "code",
   "execution_count": 51,
   "metadata": {},
   "outputs": [
    {
     "name": "stdout",
     "output_type": "stream",
     "text": [
      "10\n",
      "4\n",
      "21\n",
      "2\n",
      "1\n"
     ]
    }
   ],
   "source": [
    "a,b=map(int,\"7 3\".split())\n",
    "print(a+b,a-b,a*b,a//b,a%b,sep=\"\\n\")"
   ]
  },
  {
   "cell_type": "markdown",
   "metadata": {},
   "source": [
    "## [백준/A+B - 3](https://www.acmicpc.net/problem/10950)"
   ]
  },
  {
   "cell_type": "code",
   "execution_count": null,
   "metadata": {},
   "outputs": [],
   "source": [
    "for _ in range(int(input())):print(sum(map(int,input().split())))"
   ]
  },
  {
   "cell_type": "code",
   "execution_count": 52,
   "metadata": {},
   "outputs": [
    {
     "name": "stdout",
     "output_type": "stream",
     "text": [
      "2\n",
      "5\n",
      "7\n",
      "17\n",
      "7\n"
     ]
    }
   ],
   "source": [
    "input = iter(\"\"\"5\n",
    "1 1\n",
    "2 3\n",
    "3 4\n",
    "9 8\n",
    "5 2\"\"\".split(\"\\n\")).__next__\n",
    "for _ in range(int(input())):print(sum(map(int,input().split())))"
   ]
  },
  {
   "cell_type": "markdown",
   "metadata": {},
   "source": [
    "## [백준/A+B - 4](https://www.acmicpc.net/problem/10951)"
   ]
  },
  {
   "cell_type": "code",
   "execution_count": null,
   "metadata": {},
   "outputs": [],
   "source": [
    "while 1:\n",
    "\ttry:print(sum(map(int,input().split())))\n",
    "\texcept:break"
   ]
  },
  {
   "cell_type": "code",
   "execution_count": 53,
   "metadata": {},
   "outputs": [
    {
     "name": "stdout",
     "output_type": "stream",
     "text": [
      "2\n",
      "5\n",
      "7\n",
      "17\n",
      "7\n"
     ]
    }
   ],
   "source": [
    "input = iter(\"\"\"1 1\n",
    "2 3\n",
    "3 4\n",
    "9 8\n",
    "5 2\"\"\".split(\"\\n\")).__next__\n",
    "while 1:\n",
    "\ttry:print(sum(map(int,input().split())))\n",
    "\texcept:break"
   ]
  },
  {
   "cell_type": "markdown",
   "metadata": {},
   "source": [
    "## [백준/A+B - 5](https://www.acmicpc.net/problem/10952)"
   ]
  },
  {
   "cell_type": "code",
   "execution_count": null,
   "metadata": {},
   "outputs": [],
   "source": [
    "while (s:=input().split())!=['0','0']:print(sum(map(int,s)))"
   ]
  },
  {
   "cell_type": "code",
   "execution_count": 54,
   "metadata": {},
   "outputs": [
    {
     "name": "stdout",
     "output_type": "stream",
     "text": [
      "2\n",
      "5\n",
      "7\n",
      "17\n",
      "7\n"
     ]
    }
   ],
   "source": [
    "input = iter(\"\"\"1 1\n",
    "2 3\n",
    "3 4\n",
    "9 8\n",
    "5 2\n",
    "0 0\"\"\".split(\"\\n\")).__next__\n",
    "while (s:=input().split())!=['0','0']:print(sum(map(int,s)))"
   ]
  },
  {
   "cell_type": "markdown",
   "metadata": {},
   "source": [
    "## [백준/아스키 코드](https://www.acmicpc.net/problem/11654)"
   ]
  },
  {
   "cell_type": "code",
   "execution_count": null,
   "metadata": {},
   "outputs": [],
   "source": [
    "print(ord(input()))"
   ]
  },
  {
   "cell_type": "code",
   "execution_count": 55,
   "metadata": {},
   "outputs": [
    {
     "name": "stdout",
     "output_type": "stream",
     "text": [
      "65\n"
     ]
    }
   ],
   "source": [
    "print(ord(\"A\"))"
   ]
  },
  {
   "cell_type": "code",
   "execution_count": 56,
   "metadata": {},
   "outputs": [
    {
     "name": "stdout",
     "output_type": "stream",
     "text": [
      "67\n"
     ]
    }
   ],
   "source": [
    "print(ord(\"C\"))"
   ]
  },
  {
   "cell_type": "code",
   "execution_count": 57,
   "metadata": {},
   "outputs": [
    {
     "name": "stdout",
     "output_type": "stream",
     "text": [
      "48\n"
     ]
    }
   ],
   "source": [
    "print(ord(\"0\"))"
   ]
  },
  {
   "cell_type": "code",
   "execution_count": 58,
   "metadata": {},
   "outputs": [
    {
     "name": "stdout",
     "output_type": "stream",
     "text": [
      "57\n"
     ]
    }
   ],
   "source": [
    "print(ord(\"9\"))"
   ]
  },
  {
   "cell_type": "code",
   "execution_count": 59,
   "metadata": {},
   "outputs": [
    {
     "name": "stdout",
     "output_type": "stream",
     "text": [
      "97\n"
     ]
    }
   ],
   "source": [
    "print(ord(\"a\"))"
   ]
  },
  {
   "cell_type": "code",
   "execution_count": 60,
   "metadata": {},
   "outputs": [
    {
     "name": "stdout",
     "output_type": "stream",
     "text": [
      "122\n"
     ]
    }
   ],
   "source": [
    "print(ord(\"z\"))"
   ]
  },
  {
   "cell_type": "markdown",
   "metadata": {},
   "source": [
    "## [백준/숫자의 합](https://www.acmicpc.net/problem/11720)"
   ]
  },
  {
   "cell_type": "code",
   "execution_count": null,
   "metadata": {},
   "outputs": [],
   "source": [
    "input();print(sum(map(int,input())))"
   ]
  },
  {
   "cell_type": "code",
   "execution_count": 62,
   "metadata": {},
   "outputs": [
    {
     "name": "stdout",
     "output_type": "stream",
     "text": [
      "1\n"
     ]
    }
   ],
   "source": [
    "input = iter(\"\"\"1\n",
    "1\"\"\".split(\"\\n\")).__next__\n",
    "input();print(sum(map(int,input())))"
   ]
  },
  {
   "cell_type": "code",
   "execution_count": 63,
   "metadata": {},
   "outputs": [
    {
     "name": "stdout",
     "output_type": "stream",
     "text": [
      "15\n"
     ]
    }
   ],
   "source": [
    "input = iter(\"\"\"5\n",
    "54321\"\"\".split(\"\\n\")).__next__\n",
    "input();print(sum(map(int,input())))"
   ]
  },
  {
   "cell_type": "code",
   "execution_count": 64,
   "metadata": {},
   "outputs": [
    {
     "name": "stdout",
     "output_type": "stream",
     "text": [
      "7\n"
     ]
    }
   ],
   "source": [
    "input = iter(\"\"\"25\n",
    "7000000000000000000000000\"\"\".split(\"\\n\")).__next__\n",
    "input();print(sum(map(int,input())))"
   ]
  },
  {
   "cell_type": "code",
   "execution_count": 65,
   "metadata": {},
   "outputs": [
    {
     "name": "stdout",
     "output_type": "stream",
     "text": [
      "46\n"
     ]
    }
   ],
   "source": [
    "input = iter(\"\"\"11\n",
    "10987654321\"\"\".split(\"\\n\")).__next__\n",
    "input();print(sum(map(int,input())))"
   ]
  },
  {
   "cell_type": "markdown",
   "metadata": {},
   "source": [
    "## [백준/N 찍기](https://www.acmicpc.net/problem/2741)"
   ]
  },
  {
   "cell_type": "code",
   "execution_count": null,
   "metadata": {},
   "outputs": [],
   "source": [
    "for i in range(1,int(input())+1):print(i)"
   ]
  },
  {
   "cell_type": "code",
   "execution_count": 66,
   "metadata": {},
   "outputs": [
    {
     "name": "stdout",
     "output_type": "stream",
     "text": [
      "1\n",
      "2\n",
      "3\n",
      "4\n",
      "5\n"
     ]
    }
   ],
   "source": [
    "for i in range(1,int(\"5\")+1):print(i)"
   ]
  },
  {
   "cell_type": "markdown",
   "metadata": {},
   "source": [
    "## [백준/기찍 N](https://www.acmicpc.net/problem/2742)"
   ]
  },
  {
   "cell_type": "code",
   "execution_count": null,
   "metadata": {},
   "outputs": [],
   "source": [
    "for i in range(int(input()),0,-1):print(i)"
   ]
  },
  {
   "cell_type": "code",
   "execution_count": 67,
   "metadata": {},
   "outputs": [
    {
     "name": "stdout",
     "output_type": "stream",
     "text": [
      "5\n",
      "4\n",
      "3\n",
      "2\n",
      "1\n"
     ]
    }
   ],
   "source": [
    "input = iter(\"5\".split(\"\\n\")).__next__\n",
    "for i in range(int(input()),0,-1):print(i)"
   ]
  },
  {
   "cell_type": "markdown",
   "metadata": {},
   "source": [
    "## [백준/윤년](https://www.acmicpc.net/problem/2753)"
   ]
  },
  {
   "cell_type": "code",
   "execution_count": null,
   "metadata": {},
   "outputs": [],
   "source": [
    "print(0 if (n:=int(input()))%4or(n%400 and not n%100)else 1)"
   ]
  },
  {
   "cell_type": "code",
   "execution_count": 68,
   "metadata": {},
   "outputs": [
    {
     "name": "stdout",
     "output_type": "stream",
     "text": [
      "1\n"
     ]
    }
   ],
   "source": [
    "input = iter(\"\"\"2000\"\"\".split(\"\\n\")).__next__\n",
    "print(0 if (n:=int(input()))%4or(n%400 and not n%100)else 1)"
   ]
  },
  {
   "cell_type": "code",
   "execution_count": 69,
   "metadata": {},
   "outputs": [
    {
     "name": "stdout",
     "output_type": "stream",
     "text": [
      "0\n"
     ]
    }
   ],
   "source": [
    "input = iter(\"\"\"1999\"\"\".split(\"\\n\")).__next__\n",
    "print(0 if (n:=int(input()))%4or(n%400 and not n%100)else 1)"
   ]
  },
  {
   "cell_type": "markdown",
   "metadata": {},
   "source": [
    "## [백준/검증수](https://www.acmicpc.net/problem/)"
   ]
  },
  {
   "cell_type": "code",
   "execution_count": null,
   "metadata": {},
   "outputs": [],
   "source": [
    "print(sum([int(i)**2 for i in input().split()])%10)"
   ]
  },
  {
   "cell_type": "code",
   "execution_count": 70,
   "metadata": {},
   "outputs": [
    {
     "name": "stdout",
     "output_type": "stream",
     "text": [
      "1\n"
     ]
    }
   ],
   "source": [
    "input = iter(\"\"\"0 4 2 5 6\"\"\".split(\"\\n\")).__next__\n",
    "print(sum([int(i)**2 for i in input().split()])%10)"
   ]
  },
  {
   "cell_type": "markdown",
   "metadata": {},
   "source": [
    "## [백준/별 찍기 - 2](https://www.acmicpc.net/problem/2439)"
   ]
  },
  {
   "cell_type": "code",
   "execution_count": null,
   "metadata": {},
   "outputs": [],
   "source": [
    "for i in range((a:=int(input()))):print(\" \"*(a+~i)+\"*\"*-~i)"
   ]
  },
  {
   "cell_type": "code",
   "execution_count": 71,
   "metadata": {},
   "outputs": [
    {
     "name": "stdout",
     "output_type": "stream",
     "text": [
      "    *\n",
      "   **\n",
      "  ***\n",
      " ****\n",
      "*****\n"
     ]
    }
   ],
   "source": [
    "input = iter(\"\"\"5\"\"\".split(\"\\n\")).__next__\n",
    "for i in range((a:=int(input()))):print(\" \"*(a+~i)+\"*\"*-~i)"
   ]
  },
  {
   "cell_type": "markdown",
   "metadata": {},
   "source": [
    "## [백준/별 찍기 - 1](https://www.acmicpc.net/problem/2438)"
   ]
  },
  {
   "cell_type": "code",
   "execution_count": null,
   "metadata": {},
   "outputs": [],
   "source": [
    "for i in range(int(input())):print(\"*\"*(i+1))"
   ]
  },
  {
   "cell_type": "code",
   "execution_count": 72,
   "metadata": {},
   "outputs": [
    {
     "name": "stdout",
     "output_type": "stream",
     "text": [
      "*\n",
      "**\n",
      "***\n",
      "****\n",
      "*****\n"
     ]
    }
   ],
   "source": [
    "input = iter(\"\"\"5\"\"\".split(\"\\n\")).__next__\n",
    "for i in range(int(input())):print(\"*\"*(i+1))"
   ]
  },
  {
   "cell_type": "markdown",
   "metadata": {},
   "source": [
    "## [백준/대칭 차집합](https://www.acmicpc.net/problem/1269)"
   ]
  },
  {
   "cell_type": "code",
   "execution_count": null,
   "metadata": {},
   "outputs": [],
   "source": [
    "_ = input()\n",
    "A = set(map(int, input().split()))\n",
    "B = set(map(int, input().split()))\n",
    "print(len(A^B))"
   ]
  },
  {
   "cell_type": "code",
   "execution_count": 74,
   "metadata": {},
   "outputs": [
    {
     "name": "stdout",
     "output_type": "stream",
     "text": [
      "4\n"
     ]
    }
   ],
   "source": [
    "input = iter(\"\"\"3 5\n",
    "1 2 4\n",
    "2 3 4 5 6\"\"\".split(\"\\n\")).__next__\n",
    "_ = input()\n",
    "A = set(map(int, input().split()))\n",
    "B = set(map(int, input().split()))\n",
    "print(len(A^B))"
   ]
  },
  {
   "cell_type": "markdown",
   "metadata": {},
   "source": [
    "## [백준/A/B](https://www.acmicpc.net/problem/1008)"
   ]
  },
  {
   "cell_type": "code",
   "execution_count": null,
   "metadata": {},
   "outputs": [],
   "source": [
    "A, B = map(int,input().split())\n",
    "print(A/B)"
   ]
  },
  {
   "cell_type": "code",
   "execution_count": 75,
   "metadata": {},
   "outputs": [
    {
     "name": "stdout",
     "output_type": "stream",
     "text": [
      "0.3333333333333333\n"
     ]
    }
   ],
   "source": [
    "input = iter(\"\"\"1 3\"\"\".split(\"\\n\")).__next__\n",
    "A, B = map(int,input().split())\n",
    "print(A/B)"
   ]
  },
  {
   "cell_type": "code",
   "execution_count": 76,
   "metadata": {},
   "outputs": [
    {
     "name": "stdout",
     "output_type": "stream",
     "text": [
      "0.8\n"
     ]
    }
   ],
   "source": [
    "input = iter(\"\"\"4 5\"\"\".split(\"\\n\")).__next__\n",
    "A, B = map(int,input().split())\n",
    "print(A/B)"
   ]
  },
  {
   "cell_type": "markdown",
   "metadata": {},
   "source": [
    "## [백준/단어의 개수](https://www.acmicpc.net/problem/1152)"
   ]
  },
  {
   "cell_type": "code",
   "execution_count": null,
   "metadata": {},
   "outputs": [],
   "source": [
    "print(len(input().split()))"
   ]
  },
  {
   "cell_type": "code",
   "execution_count": 77,
   "metadata": {},
   "outputs": [
    {
     "name": "stdout",
     "output_type": "stream",
     "text": [
      "6\n"
     ]
    }
   ],
   "source": [
    "input = iter(\"\"\"The Curious Case of Benjamin Button\"\"\".split(\"\\n\")).__next__\n",
    "print(len(input().split()))"
   ]
  },
  {
   "cell_type": "code",
   "execution_count": 78,
   "metadata": {},
   "outputs": [
    {
     "name": "stdout",
     "output_type": "stream",
     "text": [
      "6\n"
     ]
    }
   ],
   "source": [
    "input = iter(\"\"\" The first character is a blank\"\"\".split(\"\\n\")).__next__\n",
    "print(len(input().split()))"
   ]
  },
  {
   "cell_type": "code",
   "execution_count": 79,
   "metadata": {},
   "outputs": [
    {
     "name": "stdout",
     "output_type": "stream",
     "text": [
      "6\n"
     ]
    }
   ],
   "source": [
    "input = iter(\"\"\"The last character is a blank \"\"\".split(\"\\n\")).__next__\n",
    "print(len(input().split()))"
   ]
  },
  {
   "cell_type": "markdown",
   "metadata": {},
   "source": [
    "## [백준/두 수 비교하기](https://www.acmicpc.net/problem/1330)"
   ]
  },
  {
   "cell_type": "code",
   "execution_count": null,
   "metadata": {},
   "outputs": [],
   "source": [
    "A,B=map(int,input().split())\n",
    "print(\"==\"if A==B else(\">\"if A>B else\"<\"))"
   ]
  },
  {
   "cell_type": "code",
   "execution_count": 83,
   "metadata": {},
   "outputs": [
    {
     "name": "stdout",
     "output_type": "stream",
     "text": [
      "<\n"
     ]
    }
   ],
   "source": [
    "input = iter(\"\"\"1 2\"\"\".split(\"\\n\")).__next__\n",
    "A,B=map(int,input().split())\n",
    "print(\"==\"if A==B else(\">\"if A>B else\"<\"))"
   ]
  },
  {
   "cell_type": "code",
   "execution_count": 82,
   "metadata": {},
   "outputs": [
    {
     "name": "stdout",
     "output_type": "stream",
     "text": [
      ">\n"
     ]
    }
   ],
   "source": [
    "input = iter(\"\"\"10 2\"\"\".split(\"\\n\")).__next__\n",
    "A,B=map(int,input().split())\n",
    "print(\"==\"if A==B else(\">\"if A>B else\"<\"))"
   ]
  },
  {
   "cell_type": "code",
   "execution_count": 81,
   "metadata": {},
   "outputs": [
    {
     "name": "stdout",
     "output_type": "stream",
     "text": [
      "==\n"
     ]
    }
   ],
   "source": [
    "input = iter(\"\"\"5 5\"\"\".split(\"\\n\")).__next__\n",
    "A,B=map(int,input().split())\n",
    "print(\"==\"if A==B else(\">\"if A>B else\"<\"))"
   ]
  },
  {
   "cell_type": "markdown",
   "metadata": {},
   "source": [
    "## [백준/평균](https://www.acmicpc.net/problem/1546)"
   ]
  },
  {
   "cell_type": "code",
   "execution_count": null,
   "metadata": {},
   "outputs": [],
   "source": [
    "print(100/int(input())*sum((b:=list(map(int,input().split()))))/max(b))"
   ]
  },
  {
   "cell_type": "code",
   "execution_count": 84,
   "metadata": {},
   "outputs": [
    {
     "name": "stdout",
     "output_type": "stream",
     "text": [
      "75.0\n"
     ]
    }
   ],
   "source": [
    "input = iter(\"\"\"3\n",
    "40 80 60\"\"\".split(\"\\n\")).__next__\n",
    "print(100/int(input())*sum((b:=list(map(int,input().split()))))/max(b))"
   ]
  },
  {
   "cell_type": "code",
   "execution_count": 85,
   "metadata": {},
   "outputs": [
    {
     "name": "stdout",
     "output_type": "stream",
     "text": [
      "66.66666666666667\n"
     ]
    }
   ],
   "source": [
    "input = iter(\"\"\"3\n",
    "10 20 30\"\"\".split(\"\\n\")).__next__\n",
    "print(100/int(input())*sum((b:=list(map(int,input().split()))))/max(b))"
   ]
  },
  {
   "cell_type": "code",
   "execution_count": 86,
   "metadata": {},
   "outputs": [
    {
     "name": "stdout",
     "output_type": "stream",
     "text": [
      "75.25\n"
     ]
    }
   ],
   "source": [
    "input = iter(\"\"\"4\n",
    "1 100 100 100\"\"\".split(\"\\n\")).__next__\n",
    "print(100/int(input())*sum((b:=list(map(int,input().split()))))/max(b))"
   ]
  },
  {
   "cell_type": "code",
   "execution_count": 87,
   "metadata": {},
   "outputs": [
    {
     "name": "stdout",
     "output_type": "stream",
     "text": [
      "38.75\n"
     ]
    }
   ],
   "source": [
    "input = iter(\"\"\"5\n",
    "1 2 4 8 16\"\"\".split(\"\\n\")).__next__\n",
    "print(100/int(input())*sum((b:=list(map(int,input().split()))))/max(b))"
   ]
  },
  {
   "cell_type": "code",
   "execution_count": 88,
   "metadata": {},
   "outputs": [
    {
     "name": "stdout",
     "output_type": "stream",
     "text": [
      "65.0\n"
     ]
    }
   ],
   "source": [
    "input = iter(\"\"\"2\n",
    "3 10\"\"\".split(\"\\n\")).__next__\n",
    "print(100/int(input())*sum((b:=list(map(int,input().split()))))/max(b))"
   ]
  },
  {
   "cell_type": "code",
   "execution_count": 89,
   "metadata": {},
   "outputs": [
    {
     "name": "stdout",
     "output_type": "stream",
     "text": [
      "32.5\n"
     ]
    }
   ],
   "source": [
    "input = iter(\"\"\"4\n",
    "10 20 0 100\"\"\".split(\"\\n\")).__next__\n",
    "print(100/int(input())*sum((b:=list(map(int,input().split()))))/max(b))"
   ]
  },
  {
   "cell_type": "code",
   "execution_count": 90,
   "metadata": {},
   "outputs": [
    {
     "name": "stdout",
     "output_type": "stream",
     "text": [
      "100.0\n"
     ]
    }
   ],
   "source": [
    "input = iter(\"\"\"1\n",
    "50\"\"\".split(\"\\n\")).__next__\n",
    "print(100/int(input())*sum((b:=list(map(int,input().split()))))/max(b))"
   ]
  },
  {
   "cell_type": "code",
   "execution_count": 91,
   "metadata": {},
   "outputs": [
    {
     "name": "stdout",
     "output_type": "stream",
     "text": [
      "55.55555555555556\n"
     ]
    }
   ],
   "source": [
    "input = iter(\"\"\"9\n",
    "10 20 30 40 50 60 70 80 90\"\"\".split(\"\\n\")).__next__\n",
    "print(100/int(input())*sum((b:=list(map(int,input().split()))))/max(b))"
   ]
  },
  {
   "cell_type": "markdown",
   "metadata": {},
   "source": [
    "## [백준/조교는 새디스트야!!](https://www.acmicpc.net/problem/14656)"
   ]
  },
  {
   "cell_type": "code",
   "execution_count": null,
   "metadata": {},
   "outputs": [],
   "source": [
    "input();print(sum(i+1!=j for i,j in enumerate(map(int,input().split()))))"
   ]
  },
  {
   "cell_type": "code",
   "execution_count": null,
   "metadata": {},
   "outputs": [
    {
     "name": "stdout",
     "output_type": "stream",
     "text": [
      "3\n"
     ]
    }
   ],
   "source": [
    "\"5\";print(sum(i+1!=j for i,j in enumerate(map(int,\"3 2 5 4 1\".split()))))"
   ]
  }
 ],
 "metadata": {
  "interpreter": {
   "hash": "73891b0dc2e53390f36276e59930dd4ecab91b05b5c90320c2d5b1c443f87069"
  },
  "kernelspec": {
   "display_name": "Python 3.10.1 ('venv': venv)",
   "language": "python",
   "name": "python3"
  },
  "language_info": {
   "codemirror_mode": {
    "name": "ipython",
    "version": 3
   },
   "file_extension": ".py",
   "mimetype": "text/x-python",
   "name": "python",
   "nbconvert_exporter": "python",
   "pygments_lexer": "ipython3",
   "version": "3.10.1"
  },
  "orig_nbformat": 4
 },
 "nbformat": 4,
 "nbformat_minor": 2
}
