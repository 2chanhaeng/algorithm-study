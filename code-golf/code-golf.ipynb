{
 "cells": [
  {
   "cell_type": "markdown",
   "metadata": {},
   "source": [
    "# 코드골프 모음"
   ]
  },
  {
   "cell_type": "markdown",
   "metadata": {},
   "source": [
    "문제가 간단하여, 최대한 짧게 코드를 쓰려고 노력하여 풀어본 문제들입니다.\\\n",
    "100B 이하만을 모아놨습니다.\\\n",
    "조금 더러운(?) 점 양해 바랍니다."
   ]
  },
  {
   "cell_type": "markdown",
   "metadata": {},
   "source": [
    "## [백준/](https://www.acmicpc.net/problem/)"
   ]
  },
  {
   "cell_type": "code",
   "execution_count": null,
   "metadata": {},
   "outputs": [],
   "source": []
  },
  {
   "cell_type": "code",
   "execution_count": null,
   "metadata": {},
   "outputs": [],
   "source": [
    "input = iter(\"\"\"\"\"\".split(\"\\n\")).__next__\n"
   ]
  },
  {
   "cell_type": "markdown",
   "metadata": {},
   "source": [
    "## [백준/A+B](https://www.acmicpc.net/problem/1000)"
   ]
  },
  {
   "cell_type": "code",
   "execution_count": null,
   "metadata": {},
   "outputs": [],
   "source": [
    "print(sum(map(int, input().split())))"
   ]
  },
  {
   "cell_type": "code",
   "execution_count": 2,
   "metadata": {},
   "outputs": [
    {
     "name": "stdout",
     "output_type": "stream",
     "text": [
      "3\n"
     ]
    }
   ],
   "source": [
    "print(sum(map(int, \"1 2\".split())))"
   ]
  },
  {
   "cell_type": "markdown",
   "metadata": {},
   "source": [
    "## [백준/A-B](https://www.acmicpc.net/problem/1001)"
   ]
  },
  {
   "cell_type": "code",
   "execution_count": null,
   "metadata": {},
   "outputs": [],
   "source": [
    "print(eval('-'.join(input().split())))"
   ]
  },
  {
   "cell_type": "code",
   "execution_count": 3,
   "metadata": {},
   "outputs": [
    {
     "name": "stdout",
     "output_type": "stream",
     "text": [
      "1\n"
     ]
    }
   ],
   "source": [
    "print(eval('-'.join(\"3 2\".split())))"
   ]
  },
  {
   "cell_type": "markdown",
   "metadata": {},
   "source": [
    "## [백준/팰린드롬수](https://www.acmicpc.net/problem/1259)"
   ]
  },
  {
   "cell_type": "code",
   "execution_count": null,
   "metadata": {},
   "outputs": [],
   "source": [
    "while (n:=input())!=\"0\":print(\"yes\"if n==n[::-1]else\"no\")"
   ]
  },
  {
   "cell_type": "code",
   "execution_count": 8,
   "metadata": {},
   "outputs": [
    {
     "name": "stdout",
     "output_type": "stream",
     "text": [
      "yes\n",
      "no\n",
      "yes\n"
     ]
    }
   ],
   "source": [
    "input = iter(\"\"\"121\n",
    "1231\n",
    "12421\n",
    "0\"\"\".split(\"\\n\")).__next__\n",
    "while (n:=input())!=\"0\":print(\"yes\"if n==n[::-1]else\"no\")"
   ]
  },
  {
   "cell_type": "markdown",
   "metadata": {},
   "source": [
    "## [백준/단어 정렬](https://www.acmicpc.net/problem/1181)"
   ]
  },
  {
   "cell_type": "code",
   "execution_count": null,
   "metadata": {},
   "outputs": [],
   "source": [
    "print(\"\\n\".join(sorted(set(input() for _ in range(int(input()))),key=lambda x: (len(x),x))))"
   ]
  },
  {
   "cell_type": "code",
   "execution_count": 9,
   "metadata": {},
   "outputs": [
    {
     "name": "stdout",
     "output_type": "stream",
     "text": [
      "i\n",
      "im\n",
      "it\n",
      "no\n",
      "but\n",
      "more\n",
      "wait\n",
      "wont\n",
      "yours\n",
      "cannot\n",
      "hesitate\n"
     ]
    }
   ],
   "source": [
    "input = iter(\"\"\"13\n",
    "but\n",
    "i\n",
    "wont\n",
    "hesitate\n",
    "no\n",
    "more\n",
    "no\n",
    "more\n",
    "it\n",
    "cannot\n",
    "wait\n",
    "im\n",
    "yours\"\"\".split(\"\\n\")).__next__\n",
    "print(\"\\n\".join(sorted(set(input() for _ in range(int(input()))),key=lambda x: (len(x),x))))"
   ]
  },
  {
   "cell_type": "markdown",
   "metadata": {},
   "source": [
    "## [백준/시험 성적](https://www.acmicpc.net/problem/9498)"
   ]
  },
  {
   "cell_type": "code",
   "execution_count": null,
   "metadata": {},
   "outputs": [],
   "source": [
    "print(\"A\"if(n:=int(input()))==100 else(\"F\"if n<60 else chr(74-n//10)))"
   ]
  },
  {
   "cell_type": "code",
   "execution_count": 10,
   "metadata": {},
   "outputs": [
    {
     "name": "stdout",
     "output_type": "stream",
     "text": [
      "A\n"
     ]
    }
   ],
   "source": [
    "print(\"A\"if(n:=int(\"100\"))==100 else(\"F\"if n<60 else chr(74-n//10)))"
   ]
  },
  {
   "cell_type": "markdown",
   "metadata": {},
   "source": [
    "## [백준/나머지](https://www.acmicpc.net/problem/3052)"
   ]
  },
  {
   "cell_type": "code",
   "execution_count": null,
   "metadata": {},
   "outputs": [],
   "source": [
    "print(len(set(map(lambda x:int(x)%42,open(0).read().split()))))"
   ]
  },
  {
   "cell_type": "code",
   "execution_count": 22,
   "metadata": {},
   "outputs": [
    {
     "name": "stdout",
     "output_type": "stream",
     "text": [
      "10\n"
     ]
    }
   ],
   "source": [
    "input = \"\"\"1\n",
    "2\n",
    "3\n",
    "4\n",
    "5\n",
    "6\n",
    "7\n",
    "8\n",
    "9\n",
    "10\"\"\".split(\"\\n\")\n",
    "print(len(set(map(lambda x:int(x)%42,input))))"
   ]
  },
  {
   "cell_type": "code",
   "execution_count": 23,
   "metadata": {},
   "outputs": [
    {
     "name": "stdout",
     "output_type": "stream",
     "text": [
      "1\n"
     ]
    }
   ],
   "source": [
    "input = \"\"\"42\n",
    "84\n",
    "252\n",
    "420\n",
    "840\n",
    "126\n",
    "42\n",
    "84\n",
    "420\n",
    "126\"\"\".split(\"\\n\")\n",
    "print(len(set(map(lambda x:int(x)%42,input))))"
   ]
  },
  {
   "cell_type": "code",
   "execution_count": 24,
   "metadata": {},
   "outputs": [
    {
     "name": "stdout",
     "output_type": "stream",
     "text": [
      "6\n"
     ]
    }
   ],
   "source": [
    "input = \"\"\"39\n",
    "40\n",
    "41\n",
    "42\n",
    "43\n",
    "44\n",
    "82\n",
    "83\n",
    "84\n",
    "85\"\"\".split(\"\\n\")\n",
    "print(len(set(map(lambda x:int(x)%42,input))))"
   ]
  },
  {
   "cell_type": "markdown",
   "metadata": {},
   "source": [
    "## [백준/고양이](https://www.acmicpc.net/problem/10171)"
   ]
  },
  {
   "cell_type": "code",
   "execution_count": 25,
   "metadata": {},
   "outputs": [
    {
     "name": "stdout",
     "output_type": "stream",
     "text": [
      "\\    /\\\n",
      " )  ( ')\n",
      "(  /  )\n",
      " \\(__)|\n"
     ]
    }
   ],
   "source": [
    "print(r\"\"\"\\    /\\\n",
    " )  ( ')\n",
    "(  /  )\n",
    " \\(__)|\"\"\")"
   ]
  },
  {
   "cell_type": "markdown",
   "metadata": {},
   "source": [
    "## [백준/개](https://www.acmicpc.net/problem/10172)"
   ]
  },
  {
   "cell_type": "code",
   "execution_count": null,
   "metadata": {},
   "outputs": [],
   "source": [
    "print(r'''|\\_/|\n",
    "|q p|   /}\n",
    "( 0 )\"\"\"\\\n",
    "|\"^\"`    |\n",
    "||_/=\\\\__|''')"
   ]
  },
  {
   "cell_type": "markdown",
   "metadata": {},
   "source": [
    "## [백준/알파벳 찾기](https://www.acmicpc.net/problem/10809)"
   ]
  },
  {
   "cell_type": "code",
   "execution_count": null,
   "metadata": {},
   "outputs": [],
   "source": [
    "s=input()\n",
    "print(\" \".join(map(str,[s.index(chr(97+i))if chr(97+i)in s else -1 for i in range(26)])))"
   ]
  },
  {
   "cell_type": "code",
   "execution_count": 26,
   "metadata": {},
   "outputs": [
    {
     "name": "stdout",
     "output_type": "stream",
     "text": [
      "1 0 -1 -1 2 -1 -1 -1 -1 4 3 -1 -1 7 5 -1 -1 -1 -1 -1 -1 -1 -1 -1 -1 -1\n"
     ]
    }
   ],
   "source": [
    "s=\"baekjoon\"\n",
    "print(\" \".join(map(str,[s.index(chr(97+i))if chr(97+i)in s else -1 for i in range(26)])))"
   ]
  },
  {
   "cell_type": "markdown",
   "metadata": {},
   "source": [
    "## [백준/A×B](https://www.acmicpc.net/problem/10998)"
   ]
  },
  {
   "cell_type": "code",
   "execution_count": null,
   "metadata": {},
   "outputs": [],
   "source": [
    "a,b=map(int,input().split())\n",
    "print(a*b)"
   ]
  },
  {
   "cell_type": "code",
   "execution_count": 27,
   "metadata": {},
   "outputs": [
    {
     "name": "stdout",
     "output_type": "stream",
     "text": [
      "2\n"
     ]
    }
   ],
   "source": [
    "a,b=map(int,\"1 2\".split())\n",
    "print(a*b)"
   ]
  },
  {
   "cell_type": "code",
   "execution_count": 28,
   "metadata": {},
   "outputs": [
    {
     "name": "stdout",
     "output_type": "stream",
     "text": [
      "12\n"
     ]
    }
   ],
   "source": [
    "a,b=map(int,\"3 4\".split())\n",
    "print(a*b)"
   ]
  },
  {
   "cell_type": "markdown",
   "metadata": {},
   "source": [
    "## [백준/상수](https://www.acmicpc.net/problem/2908)"
   ]
  },
  {
   "cell_type": "code",
   "execution_count": null,
   "metadata": {},
   "outputs": [],
   "source": [
    "print(max(map(lambda x:int(\"\".join(reversed(x))),input().split())))"
   ]
  },
  {
   "cell_type": "code",
   "execution_count": 29,
   "metadata": {},
   "outputs": [
    {
     "name": "stdout",
     "output_type": "stream",
     "text": [
      "437\n"
     ]
    }
   ],
   "source": [
    "print(max(map(lambda x:int(\"\".join(reversed(x))),\"734 893\".split())))"
   ]
  },
  {
   "cell_type": "code",
   "execution_count": 30,
   "metadata": {},
   "outputs": [
    {
     "name": "stdout",
     "output_type": "stream",
     "text": [
      "132\n"
     ]
    }
   ],
   "source": [
    "print(max(map(lambda x:int(\"\".join(reversed(x))),\"221 231\".split())))"
   ]
  },
  {
   "cell_type": "code",
   "execution_count": 31,
   "metadata": {},
   "outputs": [
    {
     "name": "stdout",
     "output_type": "stream",
     "text": [
      "938\n"
     ]
    }
   ],
   "source": [
    "print(max(map(lambda x:int(\"\".join(reversed(x))),\"839 237\".split())))"
   ]
  },
  {
   "cell_type": "markdown",
   "metadata": {},
   "source": [
    "## [백준/알람 시계](https://www.acmicpc.net/problem/2884)"
   ]
  },
  {
   "cell_type": "code",
   "execution_count": null,
   "metadata": {},
   "outputs": [],
   "source": [
    "h,m=map(int,input().split())\n",
    "if m<45: h=(h-1)%24\n",
    "print(h,(m-45)%60)"
   ]
  },
  {
   "cell_type": "code",
   "execution_count": 32,
   "metadata": {},
   "outputs": [
    {
     "name": "stdout",
     "output_type": "stream",
     "text": [
      "9 25\n"
     ]
    }
   ],
   "source": [
    "h,m=map(int,\"10 10\".split())\n",
    "if m<45: h=(h-1)%24\n",
    "print(h,(m-45)%60)"
   ]
  },
  {
   "cell_type": "code",
   "execution_count": 34,
   "metadata": {},
   "outputs": [
    {
     "name": "stdout",
     "output_type": "stream",
     "text": [
      "23 45\n"
     ]
    }
   ],
   "source": [
    "h,m=map(int,\"0 30\".split())\n",
    "if m<45: h=(h-1)%24\n",
    "print(h,(m-45)%60)"
   ]
  },
  {
   "cell_type": "code",
   "execution_count": 33,
   "metadata": {},
   "outputs": [
    {
     "name": "stdout",
     "output_type": "stream",
     "text": [
      "22 55\n"
     ]
    }
   ],
   "source": [
    "h,m=map(int,\"23 40\".split())\n",
    "if m<45: h=(h-1)%24\n",
    "print(h,(m-45)%60)"
   ]
  },
  {
   "cell_type": "markdown",
   "metadata": {},
   "source": [
    "## [백준/Hello World](https://www.acmicpc.net/problem/2557)"
   ]
  },
  {
   "cell_type": "code",
   "execution_count": 35,
   "metadata": {},
   "outputs": [
    {
     "name": "stdout",
     "output_type": "stream",
     "text": [
      "Hello World!\n"
     ]
    }
   ],
   "source": [
    "print(\"Hello World!\")"
   ]
  },
  {
   "cell_type": "markdown",
   "metadata": {},
   "source": [
    "## [백준/최댓값](https://www.acmicpc.net/problem/2562)"
   ]
  },
  {
   "cell_type": "code",
   "execution_count": null,
   "metadata": {},
   "outputs": [],
   "source": [
    "print(max(l:=[int(input())for _ in range(9)]))\n",
    "print(l.index(max(l))+1)"
   ]
  },
  {
   "cell_type": "code",
   "execution_count": 37,
   "metadata": {},
   "outputs": [
    {
     "name": "stdout",
     "output_type": "stream",
     "text": [
      "85\n",
      "8\n"
     ]
    }
   ],
   "source": [
    "input = iter(\"\"\"3\n",
    "29\n",
    "38\n",
    "12\n",
    "57\n",
    "74\n",
    "40\n",
    "85\n",
    "61\"\"\".split(\"\\n\")).__next__\n",
    "print(max(l:=[int(input())for _ in range(9)]))\n",
    "print(l.index(max(l))+1)"
   ]
  },
  {
   "cell_type": "markdown",
   "metadata": {},
   "source": [
    "## [백준/숫자의 개수](https://www.acmicpc.net/problem/2577)"
   ]
  },
  {
   "cell_type": "code",
   "execution_count": null,
   "metadata": {},
   "outputs": [],
   "source": [
    "p=1\n",
    "for _ in range(3):p*=int(input())\n",
    "print(*[str(p).count(i) for i in \"0123456789\"],sep=\"\\n\")"
   ]
  },
  {
   "cell_type": "code",
   "execution_count": 38,
   "metadata": {},
   "outputs": [
    {
     "name": "stdout",
     "output_type": "stream",
     "text": [
      "3\n",
      "1\n",
      "0\n",
      "2\n",
      "0\n",
      "0\n",
      "0\n",
      "2\n",
      "0\n",
      "0\n"
     ]
    }
   ],
   "source": [
    "input = iter(\"\"\"150\n",
    "266\n",
    "427\"\"\".split(\"\\n\")).__next__\n",
    "p=1\n",
    "for _ in range(3):p*=int(input())\n",
    "print(*[str(p).count(i) for i in \"0123456789\"],sep=\"\\n\")"
   ]
  },
  {
   "cell_type": "markdown",
   "metadata": {},
   "source": [
    "## [백준/도미노](https://www.acmicpc.net/problem/2921)"
   ]
  },
  {
   "cell_type": "code",
   "execution_count": null,
   "metadata": {},
   "outputs": [],
   "source": [
    "print((n:=int(input()))*(n+1)*(n+2)//2)"
   ]
  },
  {
   "cell_type": "code",
   "execution_count": 39,
   "metadata": {},
   "outputs": [
    {
     "name": "stdout",
     "output_type": "stream",
     "text": [
      "12\n"
     ]
    }
   ],
   "source": [
    "print((n:=int(\"2\"))*(n+1)*(n+2)//2)"
   ]
  },
  {
   "cell_type": "code",
   "execution_count": 40,
   "metadata": {},
   "outputs": [
    {
     "name": "stdout",
     "output_type": "stream",
     "text": [
      "30\n"
     ]
    }
   ],
   "source": [
    "print((n:=int(\"3\"))*(n+1)*(n+2)//2)"
   ]
  },
  {
   "cell_type": "code",
   "execution_count": 42,
   "metadata": {},
   "outputs": [
    {
     "name": "stdout",
     "output_type": "stream",
     "text": [
      "2040\n"
     ]
    }
   ],
   "source": [
    "print((n:=int(\"15\"))*(n+1)*(n+2)//2)"
   ]
  },
  {
   "cell_type": "markdown",
   "metadata": {},
   "source": [
    "## [백준/구구단](https://www.acmicpc.net/problem/2739)"
   ]
  },
  {
   "cell_type": "code",
   "execution_count": null,
   "metadata": {},
   "outputs": [],
   "source": [
    "n=int(input())\n",
    "for i in range(1,10):print(\"%d * %d = %d\"%(n,i,i*n))"
   ]
  },
  {
   "cell_type": "code",
   "execution_count": 43,
   "metadata": {},
   "outputs": [
    {
     "name": "stdout",
     "output_type": "stream",
     "text": [
      "2 * 1 = 2\n",
      "2 * 2 = 4\n",
      "2 * 3 = 6\n",
      "2 * 4 = 8\n",
      "2 * 5 = 10\n",
      "2 * 6 = 12\n",
      "2 * 7 = 14\n",
      "2 * 8 = 16\n",
      "2 * 9 = 18\n"
     ]
    }
   ],
   "source": [
    "n=int(\"2\")\n",
    "for i in range(1,10):print(\"%d * %d = %d\"%(n,i,i*n))"
   ]
  },
  {
   "cell_type": "markdown",
   "metadata": {},
   "source": [
    "## [백준/OX퀴즈](https://www.acmicpc.net/problem/8958)"
   ]
  },
  {
   "cell_type": "code",
   "execution_count": null,
   "metadata": {},
   "outputs": [],
   "source": [
    "for _ in range(int(input())):print(sum(map(lambda x:(l:=len(x))*(l+1)//2,(s:=input().split(\"X\")))))"
   ]
  },
  {
   "cell_type": "code",
   "execution_count": 49,
   "metadata": {},
   "outputs": [
    {
     "name": "stdout",
     "output_type": "stream",
     "text": [
      "10\n",
      "9\n",
      "7\n",
      "55\n",
      "30\n"
     ]
    }
   ],
   "source": [
    "input = iter(\"\"\"5\n",
    "OOXXOXXOOO\n",
    "OOXXOOXXOO\n",
    "OXOXOXOXOXOXOX\n",
    "OOOOOOOOOO\n",
    "OOOOXOOOOXOOOOX\"\"\".split(\"\\n\")).__next__\n",
    "for _ in range(int(input())):print(sum(map(lambda x:(l:=len(x))*(l+1)//2,(s:=input().split(\"X\")))))"
   ]
  },
  {
   "cell_type": "markdown",
   "metadata": {},
   "source": [
    "## [백준/최소, 최대](https://www.acmicpc.net/problem/10818)"
   ]
  },
  {
   "cell_type": "code",
   "execution_count": null,
   "metadata": {},
   "outputs": [],
   "source": [
    "input();s=list(map(int,input().split()))\n",
    "print(min(s),max(s))"
   ]
  },
  {
   "cell_type": "code",
   "execution_count": 50,
   "metadata": {},
   "outputs": [
    {
     "name": "stdout",
     "output_type": "stream",
     "text": [
      "7 35\n"
     ]
    }
   ],
   "source": [
    "input = iter(\"\"\"5\n",
    "20 10 35 30 7\"\"\".split(\"\\n\")).__next__\n",
    "input();s=list(map(int,input().split()))\n",
    "print(min(s),max(s))"
   ]
  },
  {
   "cell_type": "markdown",
   "metadata": {},
   "source": [
    "## [백준/사칙연산](https://www.acmicpc.net/problem/10869)"
   ]
  },
  {
   "cell_type": "code",
   "execution_count": null,
   "metadata": {},
   "outputs": [],
   "source": [
    "a,b=map(int,input().split())\n",
    "print(a+b,a-b,a*b,a//b,a%b,sep=\"\\n\")"
   ]
  },
  {
   "cell_type": "code",
   "execution_count": 51,
   "metadata": {},
   "outputs": [
    {
     "name": "stdout",
     "output_type": "stream",
     "text": [
      "10\n",
      "4\n",
      "21\n",
      "2\n",
      "1\n"
     ]
    }
   ],
   "source": [
    "a,b=map(int,\"7 3\".split())\n",
    "print(a+b,a-b,a*b,a//b,a%b,sep=\"\\n\")"
   ]
  },
  {
   "cell_type": "markdown",
   "metadata": {},
   "source": [
    "## [백준/A+B - 3](https://www.acmicpc.net/problem/10950)"
   ]
  },
  {
   "cell_type": "code",
   "execution_count": null,
   "metadata": {},
   "outputs": [],
   "source": [
    "for _ in range(int(input())):print(sum(map(int,input().split())))"
   ]
  },
  {
   "cell_type": "code",
   "execution_count": 52,
   "metadata": {},
   "outputs": [
    {
     "name": "stdout",
     "output_type": "stream",
     "text": [
      "2\n",
      "5\n",
      "7\n",
      "17\n",
      "7\n"
     ]
    }
   ],
   "source": [
    "input = iter(\"\"\"5\n",
    "1 1\n",
    "2 3\n",
    "3 4\n",
    "9 8\n",
    "5 2\"\"\".split(\"\\n\")).__next__\n",
    "for _ in range(int(input())):print(sum(map(int,input().split())))"
   ]
  },
  {
   "cell_type": "markdown",
   "metadata": {},
   "source": [
    "## [백준/A+B - 4](https://www.acmicpc.net/problem/10951)"
   ]
  },
  {
   "cell_type": "code",
   "execution_count": null,
   "metadata": {},
   "outputs": [],
   "source": [
    "while 1:\n",
    "\ttry:print(sum(map(int,input().split())))\n",
    "\texcept:break"
   ]
  },
  {
   "cell_type": "code",
   "execution_count": 53,
   "metadata": {},
   "outputs": [
    {
     "name": "stdout",
     "output_type": "stream",
     "text": [
      "2\n",
      "5\n",
      "7\n",
      "17\n",
      "7\n"
     ]
    }
   ],
   "source": [
    "input = iter(\"\"\"1 1\n",
    "2 3\n",
    "3 4\n",
    "9 8\n",
    "5 2\"\"\".split(\"\\n\")).__next__\n",
    "while 1:\n",
    "\ttry:print(sum(map(int,input().split())))\n",
    "\texcept:break"
   ]
  },
  {
   "cell_type": "markdown",
   "metadata": {},
   "source": [
    "## [백준/A+B - 5](https://www.acmicpc.net/problem/10952)"
   ]
  },
  {
   "cell_type": "code",
   "execution_count": null,
   "metadata": {},
   "outputs": [],
   "source": [
    "while (s:=input().split())!=['0','0']:print(sum(map(int,s)))"
   ]
  },
  {
   "cell_type": "code",
   "execution_count": 54,
   "metadata": {},
   "outputs": [
    {
     "name": "stdout",
     "output_type": "stream",
     "text": [
      "2\n",
      "5\n",
      "7\n",
      "17\n",
      "7\n"
     ]
    }
   ],
   "source": [
    "input = iter(\"\"\"1 1\n",
    "2 3\n",
    "3 4\n",
    "9 8\n",
    "5 2\n",
    "0 0\"\"\".split(\"\\n\")).__next__\n",
    "while (s:=input().split())!=['0','0']:print(sum(map(int,s)))"
   ]
  },
  {
   "cell_type": "markdown",
   "metadata": {},
   "source": [
    "## [백준/아스키 코드](https://www.acmicpc.net/problem/11654)"
   ]
  },
  {
   "cell_type": "code",
   "execution_count": null,
   "metadata": {},
   "outputs": [],
   "source": [
    "print(ord(input()))"
   ]
  },
  {
   "cell_type": "code",
   "execution_count": 55,
   "metadata": {},
   "outputs": [
    {
     "name": "stdout",
     "output_type": "stream",
     "text": [
      "65\n"
     ]
    }
   ],
   "source": [
    "print(ord(\"A\"))"
   ]
  },
  {
   "cell_type": "code",
   "execution_count": 56,
   "metadata": {},
   "outputs": [
    {
     "name": "stdout",
     "output_type": "stream",
     "text": [
      "67\n"
     ]
    }
   ],
   "source": [
    "print(ord(\"C\"))"
   ]
  },
  {
   "cell_type": "code",
   "execution_count": 57,
   "metadata": {},
   "outputs": [
    {
     "name": "stdout",
     "output_type": "stream",
     "text": [
      "48\n"
     ]
    }
   ],
   "source": [
    "print(ord(\"0\"))"
   ]
  },
  {
   "cell_type": "code",
   "execution_count": 58,
   "metadata": {},
   "outputs": [
    {
     "name": "stdout",
     "output_type": "stream",
     "text": [
      "57\n"
     ]
    }
   ],
   "source": [
    "print(ord(\"9\"))"
   ]
  },
  {
   "cell_type": "code",
   "execution_count": 59,
   "metadata": {},
   "outputs": [
    {
     "name": "stdout",
     "output_type": "stream",
     "text": [
      "97\n"
     ]
    }
   ],
   "source": [
    "print(ord(\"a\"))"
   ]
  },
  {
   "cell_type": "code",
   "execution_count": 60,
   "metadata": {},
   "outputs": [
    {
     "name": "stdout",
     "output_type": "stream",
     "text": [
      "122\n"
     ]
    }
   ],
   "source": [
    "print(ord(\"z\"))"
   ]
  },
  {
   "cell_type": "markdown",
   "metadata": {},
   "source": [
    "## [백준/숫자의 합](https://www.acmicpc.net/problem/11720)"
   ]
  },
  {
   "cell_type": "code",
   "execution_count": null,
   "metadata": {},
   "outputs": [],
   "source": [
    "input();print(sum(map(int,input())))"
   ]
  },
  {
   "cell_type": "code",
   "execution_count": 62,
   "metadata": {},
   "outputs": [
    {
     "name": "stdout",
     "output_type": "stream",
     "text": [
      "1\n"
     ]
    }
   ],
   "source": [
    "input = iter(\"\"\"1\n",
    "1\"\"\".split(\"\\n\")).__next__\n",
    "input();print(sum(map(int,input())))"
   ]
  },
  {
   "cell_type": "code",
   "execution_count": 63,
   "metadata": {},
   "outputs": [
    {
     "name": "stdout",
     "output_type": "stream",
     "text": [
      "15\n"
     ]
    }
   ],
   "source": [
    "input = iter(\"\"\"5\n",
    "54321\"\"\".split(\"\\n\")).__next__\n",
    "input();print(sum(map(int,input())))"
   ]
  },
  {
   "cell_type": "code",
   "execution_count": 64,
   "metadata": {},
   "outputs": [
    {
     "name": "stdout",
     "output_type": "stream",
     "text": [
      "7\n"
     ]
    }
   ],
   "source": [
    "input = iter(\"\"\"25\n",
    "7000000000000000000000000\"\"\".split(\"\\n\")).__next__\n",
    "input();print(sum(map(int,input())))"
   ]
  },
  {
   "cell_type": "code",
   "execution_count": 65,
   "metadata": {},
   "outputs": [
    {
     "name": "stdout",
     "output_type": "stream",
     "text": [
      "46\n"
     ]
    }
   ],
   "source": [
    "input = iter(\"\"\"11\n",
    "10987654321\"\"\".split(\"\\n\")).__next__\n",
    "input();print(sum(map(int,input())))"
   ]
  },
  {
   "cell_type": "markdown",
   "metadata": {},
   "source": [
    "## [백준/N 찍기](https://www.acmicpc.net/problem/2741)"
   ]
  },
  {
   "cell_type": "code",
   "execution_count": null,
   "metadata": {},
   "outputs": [],
   "source": [
    "for i in range(1,int(input())+1):print(i)"
   ]
  },
  {
   "cell_type": "code",
   "execution_count": 66,
   "metadata": {},
   "outputs": [
    {
     "name": "stdout",
     "output_type": "stream",
     "text": [
      "1\n",
      "2\n",
      "3\n",
      "4\n",
      "5\n"
     ]
    }
   ],
   "source": [
    "for i in range(1,int(\"5\")+1):print(i)"
   ]
  },
  {
   "cell_type": "markdown",
   "metadata": {},
   "source": [
    "## [백준/기찍 N](https://www.acmicpc.net/problem/2742)"
   ]
  },
  {
   "cell_type": "code",
   "execution_count": null,
   "metadata": {},
   "outputs": [],
   "source": [
    "for i in range(int(input()),0,-1):print(i)"
   ]
  },
  {
   "cell_type": "code",
   "execution_count": 67,
   "metadata": {},
   "outputs": [
    {
     "name": "stdout",
     "output_type": "stream",
     "text": [
      "5\n",
      "4\n",
      "3\n",
      "2\n",
      "1\n"
     ]
    }
   ],
   "source": [
    "input = iter(\"5\".split(\"\\n\")).__next__\n",
    "for i in range(int(input()),0,-1):print(i)"
   ]
  },
  {
   "cell_type": "markdown",
   "metadata": {},
   "source": [
    "## [백준/윤년](https://www.acmicpc.net/problem/2753)"
   ]
  },
  {
   "cell_type": "code",
   "execution_count": null,
   "metadata": {},
   "outputs": [],
   "source": [
    "print(0 if (n:=int(input()))%4or(n%400 and not n%100)else 1)"
   ]
  },
  {
   "cell_type": "code",
   "execution_count": 68,
   "metadata": {},
   "outputs": [
    {
     "name": "stdout",
     "output_type": "stream",
     "text": [
      "1\n"
     ]
    }
   ],
   "source": [
    "input = iter(\"\"\"2000\"\"\".split(\"\\n\")).__next__\n",
    "print(0 if (n:=int(input()))%4or(n%400 and not n%100)else 1)"
   ]
  },
  {
   "cell_type": "code",
   "execution_count": 69,
   "metadata": {},
   "outputs": [
    {
     "name": "stdout",
     "output_type": "stream",
     "text": [
      "0\n"
     ]
    }
   ],
   "source": [
    "input = iter(\"\"\"1999\"\"\".split(\"\\n\")).__next__\n",
    "print(0 if (n:=int(input()))%4or(n%400 and not n%100)else 1)"
   ]
  },
  {
   "cell_type": "markdown",
   "metadata": {},
   "source": [
    "## [백준/검증수](https://www.acmicpc.net/problem/)"
   ]
  },
  {
   "cell_type": "code",
   "execution_count": null,
   "metadata": {},
   "outputs": [],
   "source": [
    "print(sum([int(i)**2 for i in input().split()])%10)"
   ]
  },
  {
   "cell_type": "code",
   "execution_count": 70,
   "metadata": {},
   "outputs": [
    {
     "name": "stdout",
     "output_type": "stream",
     "text": [
      "1\n"
     ]
    }
   ],
   "source": [
    "input = iter(\"\"\"0 4 2 5 6\"\"\".split(\"\\n\")).__next__\n",
    "print(sum([int(i)**2 for i in input().split()])%10)"
   ]
  },
  {
   "cell_type": "markdown",
   "metadata": {},
   "source": [
    "## [백준/별 찍기 - 2](https://www.acmicpc.net/problem/2439)"
   ]
  },
  {
   "cell_type": "code",
   "execution_count": null,
   "metadata": {},
   "outputs": [],
   "source": [
    "for i in range((a:=int(input()))):print(\" \"*(a+~i)+\"*\"*-~i)"
   ]
  },
  {
   "cell_type": "code",
   "execution_count": 71,
   "metadata": {},
   "outputs": [
    {
     "name": "stdout",
     "output_type": "stream",
     "text": [
      "    *\n",
      "   **\n",
      "  ***\n",
      " ****\n",
      "*****\n"
     ]
    }
   ],
   "source": [
    "input = iter(\"\"\"5\"\"\".split(\"\\n\")).__next__\n",
    "for i in range((a:=int(input()))):print(\" \"*(a+~i)+\"*\"*-~i)"
   ]
  },
  {
   "cell_type": "markdown",
   "metadata": {},
   "source": [
    "## [백준/별 찍기 - 1](https://www.acmicpc.net/problem/2438)"
   ]
  },
  {
   "cell_type": "code",
   "execution_count": null,
   "metadata": {},
   "outputs": [],
   "source": [
    "for i in range(int(input())):print(\"*\"*(i+1))"
   ]
  },
  {
   "cell_type": "code",
   "execution_count": 72,
   "metadata": {},
   "outputs": [
    {
     "name": "stdout",
     "output_type": "stream",
     "text": [
      "*\n",
      "**\n",
      "***\n",
      "****\n",
      "*****\n"
     ]
    }
   ],
   "source": [
    "input = iter(\"\"\"5\"\"\".split(\"\\n\")).__next__\n",
    "for i in range(int(input())):print(\"*\"*(i+1))"
   ]
  },
  {
   "cell_type": "markdown",
   "metadata": {},
   "source": [
    "## [백준/대칭 차집합](https://www.acmicpc.net/problem/1269)"
   ]
  },
  {
   "cell_type": "code",
   "execution_count": null,
   "metadata": {},
   "outputs": [],
   "source": [
    "_ = input()\n",
    "A = set(map(int, input().split()))\n",
    "B = set(map(int, input().split()))\n",
    "print(len(A^B))"
   ]
  },
  {
   "cell_type": "code",
   "execution_count": 74,
   "metadata": {},
   "outputs": [
    {
     "name": "stdout",
     "output_type": "stream",
     "text": [
      "4\n"
     ]
    }
   ],
   "source": [
    "input = iter(\"\"\"3 5\n",
    "1 2 4\n",
    "2 3 4 5 6\"\"\".split(\"\\n\")).__next__\n",
    "_ = input()\n",
    "A = set(map(int, input().split()))\n",
    "B = set(map(int, input().split()))\n",
    "print(len(A^B))"
   ]
  },
  {
   "cell_type": "markdown",
   "metadata": {},
   "source": [
    "## [백준/A/B](https://www.acmicpc.net/problem/1008)"
   ]
  },
  {
   "cell_type": "code",
   "execution_count": null,
   "metadata": {},
   "outputs": [],
   "source": [
    "A, B = map(int,input().split())\n",
    "print(A/B)"
   ]
  },
  {
   "cell_type": "code",
   "execution_count": 75,
   "metadata": {},
   "outputs": [
    {
     "name": "stdout",
     "output_type": "stream",
     "text": [
      "0.3333333333333333\n"
     ]
    }
   ],
   "source": [
    "input = iter(\"\"\"1 3\"\"\".split(\"\\n\")).__next__\n",
    "A, B = map(int,input().split())\n",
    "print(A/B)"
   ]
  },
  {
   "cell_type": "code",
   "execution_count": 76,
   "metadata": {},
   "outputs": [
    {
     "name": "stdout",
     "output_type": "stream",
     "text": [
      "0.8\n"
     ]
    }
   ],
   "source": [
    "input = iter(\"\"\"4 5\"\"\".split(\"\\n\")).__next__\n",
    "A, B = map(int,input().split())\n",
    "print(A/B)"
   ]
  },
  {
   "cell_type": "markdown",
   "metadata": {},
   "source": [
    "## [백준/단어의 개수](https://www.acmicpc.net/problem/1152)"
   ]
  },
  {
   "cell_type": "code",
   "execution_count": null,
   "metadata": {},
   "outputs": [],
   "source": [
    "print(len(input().split()))"
   ]
  },
  {
   "cell_type": "code",
   "execution_count": 77,
   "metadata": {},
   "outputs": [
    {
     "name": "stdout",
     "output_type": "stream",
     "text": [
      "6\n"
     ]
    }
   ],
   "source": [
    "input = iter(\"\"\"The Curious Case of Benjamin Button\"\"\".split(\"\\n\")).__next__\n",
    "print(len(input().split()))"
   ]
  },
  {
   "cell_type": "code",
   "execution_count": 78,
   "metadata": {},
   "outputs": [
    {
     "name": "stdout",
     "output_type": "stream",
     "text": [
      "6\n"
     ]
    }
   ],
   "source": [
    "input = iter(\"\"\" The first character is a blank\"\"\".split(\"\\n\")).__next__\n",
    "print(len(input().split()))"
   ]
  },
  {
   "cell_type": "code",
   "execution_count": 79,
   "metadata": {},
   "outputs": [
    {
     "name": "stdout",
     "output_type": "stream",
     "text": [
      "6\n"
     ]
    }
   ],
   "source": [
    "input = iter(\"\"\"The last character is a blank \"\"\".split(\"\\n\")).__next__\n",
    "print(len(input().split()))"
   ]
  },
  {
   "cell_type": "markdown",
   "metadata": {},
   "source": [
    "## [백준/두 수 비교하기](https://www.acmicpc.net/problem/1330)"
   ]
  },
  {
   "cell_type": "code",
   "execution_count": null,
   "metadata": {},
   "outputs": [],
   "source": [
    "A,B=map(int,input().split())\n",
    "print(\"==\"if A==B else(\">\"if A>B else\"<\"))"
   ]
  },
  {
   "cell_type": "code",
   "execution_count": 83,
   "metadata": {},
   "outputs": [
    {
     "name": "stdout",
     "output_type": "stream",
     "text": [
      "<\n"
     ]
    }
   ],
   "source": [
    "input = iter(\"\"\"1 2\"\"\".split(\"\\n\")).__next__\n",
    "A,B=map(int,input().split())\n",
    "print(\"==\"if A==B else(\">\"if A>B else\"<\"))"
   ]
  },
  {
   "cell_type": "code",
   "execution_count": 82,
   "metadata": {},
   "outputs": [
    {
     "name": "stdout",
     "output_type": "stream",
     "text": [
      ">\n"
     ]
    }
   ],
   "source": [
    "input = iter(\"\"\"10 2\"\"\".split(\"\\n\")).__next__\n",
    "A,B=map(int,input().split())\n",
    "print(\"==\"if A==B else(\">\"if A>B else\"<\"))"
   ]
  },
  {
   "cell_type": "code",
   "execution_count": 81,
   "metadata": {},
   "outputs": [
    {
     "name": "stdout",
     "output_type": "stream",
     "text": [
      "==\n"
     ]
    }
   ],
   "source": [
    "input = iter(\"\"\"5 5\"\"\".split(\"\\n\")).__next__\n",
    "A,B=map(int,input().split())\n",
    "print(\"==\"if A==B else(\">\"if A>B else\"<\"))"
   ]
  },
  {
   "cell_type": "markdown",
   "metadata": {},
   "source": [
    "## [백준/평균](https://www.acmicpc.net/problem/1546)"
   ]
  },
  {
   "cell_type": "code",
   "execution_count": null,
   "metadata": {},
   "outputs": [],
   "source": [
    "print(100/int(input())*sum((b:=list(map(int,input().split()))))/max(b))"
   ]
  },
  {
   "cell_type": "code",
   "execution_count": 84,
   "metadata": {},
   "outputs": [
    {
     "name": "stdout",
     "output_type": "stream",
     "text": [
      "75.0\n"
     ]
    }
   ],
   "source": [
    "input = iter(\"\"\"3\n",
    "40 80 60\"\"\".split(\"\\n\")).__next__\n",
    "print(100/int(input())*sum((b:=list(map(int,input().split()))))/max(b))"
   ]
  },
  {
   "cell_type": "code",
   "execution_count": 85,
   "metadata": {},
   "outputs": [
    {
     "name": "stdout",
     "output_type": "stream",
     "text": [
      "66.66666666666667\n"
     ]
    }
   ],
   "source": [
    "input = iter(\"\"\"3\n",
    "10 20 30\"\"\".split(\"\\n\")).__next__\n",
    "print(100/int(input())*sum((b:=list(map(int,input().split()))))/max(b))"
   ]
  },
  {
   "cell_type": "code",
   "execution_count": 86,
   "metadata": {},
   "outputs": [
    {
     "name": "stdout",
     "output_type": "stream",
     "text": [
      "75.25\n"
     ]
    }
   ],
   "source": [
    "input = iter(\"\"\"4\n",
    "1 100 100 100\"\"\".split(\"\\n\")).__next__\n",
    "print(100/int(input())*sum((b:=list(map(int,input().split()))))/max(b))"
   ]
  },
  {
   "cell_type": "code",
   "execution_count": 87,
   "metadata": {},
   "outputs": [
    {
     "name": "stdout",
     "output_type": "stream",
     "text": [
      "38.75\n"
     ]
    }
   ],
   "source": [
    "input = iter(\"\"\"5\n",
    "1 2 4 8 16\"\"\".split(\"\\n\")).__next__\n",
    "print(100/int(input())*sum((b:=list(map(int,input().split()))))/max(b))"
   ]
  },
  {
   "cell_type": "code",
   "execution_count": 88,
   "metadata": {},
   "outputs": [
    {
     "name": "stdout",
     "output_type": "stream",
     "text": [
      "65.0\n"
     ]
    }
   ],
   "source": [
    "input = iter(\"\"\"2\n",
    "3 10\"\"\".split(\"\\n\")).__next__\n",
    "print(100/int(input())*sum((b:=list(map(int,input().split()))))/max(b))"
   ]
  },
  {
   "cell_type": "code",
   "execution_count": 89,
   "metadata": {},
   "outputs": [
    {
     "name": "stdout",
     "output_type": "stream",
     "text": [
      "32.5\n"
     ]
    }
   ],
   "source": [
    "input = iter(\"\"\"4\n",
    "10 20 0 100\"\"\".split(\"\\n\")).__next__\n",
    "print(100/int(input())*sum((b:=list(map(int,input().split()))))/max(b))"
   ]
  },
  {
   "cell_type": "code",
   "execution_count": 90,
   "metadata": {},
   "outputs": [
    {
     "name": "stdout",
     "output_type": "stream",
     "text": [
      "100.0\n"
     ]
    }
   ],
   "source": [
    "input = iter(\"\"\"1\n",
    "50\"\"\".split(\"\\n\")).__next__\n",
    "print(100/int(input())*sum((b:=list(map(int,input().split()))))/max(b))"
   ]
  },
  {
   "cell_type": "code",
   "execution_count": 91,
   "metadata": {},
   "outputs": [
    {
     "name": "stdout",
     "output_type": "stream",
     "text": [
      "55.55555555555556\n"
     ]
    }
   ],
   "source": [
    "input = iter(\"\"\"9\n",
    "10 20 30 40 50 60 70 80 90\"\"\".split(\"\\n\")).__next__\n",
    "print(100/int(input())*sum((b:=list(map(int,input().split()))))/max(b))"
   ]
  },
  {
   "cell_type": "markdown",
   "metadata": {},
   "source": [
    "## [백준/조교는 새디스트야!!](https://www.acmicpc.net/problem/14656)"
   ]
  },
  {
   "cell_type": "code",
   "execution_count": null,
   "metadata": {},
   "outputs": [],
   "source": [
    "input();print(sum(i+1!=j for i,j in enumerate(map(int,input().split()))))"
   ]
  },
  {
   "cell_type": "code",
   "execution_count": null,
   "metadata": {},
   "outputs": [
    {
     "name": "stdout",
     "output_type": "stream",
     "text": [
      "3\n"
     ]
    }
   ],
   "source": [
    "\"5\";print(sum(i+1!=j for i,j in enumerate(map(int,\"3 2 5 4 1\".split()))))"
   ]
  }
 ],
 "metadata": {
  "interpreter": {
   "hash": "73891b0dc2e53390f36276e59930dd4ecab91b05b5c90320c2d5b1c443f87069"
  },
  "kernelspec": {
   "display_name": "Python 3.10.1 ('venv': venv)",
   "language": "python",
   "name": "python3"
  },
  "language_info": {
   "codemirror_mode": {
    "name": "ipython",
    "version": 3
   },
   "file_extension": ".py",
   "mimetype": "text/x-python",
   "name": "python",
   "nbconvert_exporter": "python",
   "pygments_lexer": "ipython3",
   "version": "3.10.1"
  },
  "orig_nbformat": 4
 },
 "nbformat": 4,
 "nbformat_minor": 2
}
