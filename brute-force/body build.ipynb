{
 "cells": [
  {
   "cell_type": "markdown",
   "metadata": {},
   "source": [
    "# [백준/덩치](https://www.acmicpc.net/problem/7568)"
   ]
  },
  {
   "cell_type": "markdown",
   "metadata": {},
   "source": [
    "## 풀이과정"
   ]
  },
  {
   "cell_type": "markdown",
   "metadata": {},
   "source": [
    "### 첫번째 시도"
   ]
  },
  {
   "cell_type": "markdown",
   "metadata": {},
   "source": [
    "풀이과정"
   ]
  },
  {
   "cell_type": "code",
   "execution_count": 4,
   "metadata": {},
   "outputs": [],
   "source": [
    "import sys\n",
    "\n",
    "input = sys.stdin.readline\n",
    "print = sys.stdout.write\n",
    "people = int(input().rstrip())\n",
    "hNw = [tuple(map(int, input().split())) for _ in range(people)]\n",
    "for height, weight in hNw:\n",
    "    rank = 1\n",
    "    for comh, comw in hNw:\n",
    "        if height < comh and weight < comw:\n",
    "            rank += 1\n",
    "    print(\"%d\\n\" % rank)"
   ]
  },
  {
   "cell_type": "markdown",
   "metadata": {},
   "source": [
    "## 해답"
   ]
  },
  {
   "cell_type": "code",
   "execution_count": 5,
   "metadata": {},
   "outputs": [],
   "source": [
    "def solution(input):\n",
    "    people = int(input().rstrip())\n",
    "    hNw = [tuple(map(int, input().split())) for _ in range(people)]\n",
    "    ranks = []\n",
    "    for height, weight in hNw:\n",
    "        rank = 1\n",
    "        for comh, comw in hNw:\n",
    "            if height < comh and weight < comw:\n",
    "                rank += 1\n",
    "        ranks.append(rank)\n",
    "    print(\" \".join(map(str, ranks)))"
   ]
  },
  {
   "cell_type": "markdown",
   "metadata": {},
   "source": [
    "## 테스트 결과"
   ]
  },
  {
   "cell_type": "markdown",
   "metadata": {},
   "source": [
    "|테스트|결과|\n",
    "|---:|:---|"
   ]
  },
  {
   "cell_type": "markdown",
   "metadata": {},
   "source": [
    "## 예제"
   ]
  },
  {
   "cell_type": "code",
   "execution_count": 6,
   "metadata": {},
   "outputs": [],
   "source": [
    "# 백준 문제 풀이용 예제 실행 코드\n",
    "from inspect import signature\n",
    "\n",
    "\n",
    "def solution_example(input_=None, solution=solution):\n",
    "    params = signature(solution).parameters\n",
    "    if input_ == None:\n",
    "        solution()\n",
    "    elif \"open\" in params:\n",
    "\n",
    "        class open:\n",
    "            def __init__(self, x):\n",
    "                self.read = lambda: input_\n",
    "\n",
    "            def __iter__(self):\n",
    "                return iter(input_.split(\"\\n\"))\n",
    "\n",
    "        solution(open)\n",
    "    elif \"input\" in params:\n",
    "        input_ = iter(input_.split(\"\\n\"))\n",
    "        input = input_.__next__\n",
    "        solution(input)\n",
    "    else:\n",
    "        raise NameError(\n",
    "            f\"solution 함수가 input, open 등의 매개변수를 받지 않습니다.\\nsolution 의 매개변수: {params}\"\n",
    "        )\n",
    "\n",
    "\n",
    "# solution_example(\"\"\"\"\"\")\n",
    "# solution_example(read(\"fn\").read())"
   ]
  },
  {
   "cell_type": "code",
   "execution_count": 7,
   "metadata": {},
   "outputs": [
    {
     "name": "stdout",
     "output_type": "stream",
     "text": [
      "2 2 1 2 5\n"
     ]
    }
   ],
   "source": [
    "solution_example(\n",
    "    \"\"\"5\n",
    "55 185\n",
    "58 183\n",
    "88 186\n",
    "60 175\n",
    "46 155\"\"\"\n",
    ")"
   ]
  }
 ],
 "metadata": {
  "interpreter": {
   "hash": "73891b0dc2e53390f36276e59930dd4ecab91b05b5c90320c2d5b1c443f87069"
  },
  "kernelspec": {
   "display_name": "Python 3.10.1 ('venv': venv)",
   "language": "python",
   "name": "python3"
  },
  "language_info": {
   "codemirror_mode": {
    "name": "ipython",
    "version": 3
   },
   "file_extension": ".py",
   "mimetype": "text/x-python",
   "name": "python",
   "nbconvert_exporter": "python",
   "pygments_lexer": "ipython3",
   "version": "3.10.1"
  },
  "orig_nbformat": 4
 },
 "nbformat": 4,
 "nbformat_minor": 2
}
