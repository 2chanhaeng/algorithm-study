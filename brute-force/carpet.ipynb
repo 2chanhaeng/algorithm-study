{
 "cells": [
  {
   "cell_type": "markdown",
   "metadata": {},
   "source": [
    "# [프로그래머스/카펫](https://programmers.co.kr/learn/courses/30/lessons/42842)"
   ]
  },
  {
   "cell_type": "markdown",
   "metadata": {},
   "source": [
    "## 풀이과정"
   ]
  },
  {
   "cell_type": "markdown",
   "metadata": {},
   "source": [
    "### 첫번째 시도"
   ]
  },
  {
   "cell_type": "markdown",
   "metadata": {},
   "source": [
    "카펫 전체 칸 즉, 가로와 세로의 곱은 두 수의 합이고, 가로와 세로의 합은 갈색의 반보다 2 크다.\\\n",
    "따라서 두 수는 이차방정식 $(x-p)(x-q)=x^2-(p+q)x+pq=0$ 의 해를 구하면 된다.\\\n",
    "이차방정식의 해는 근의 공식 $x = \\frac{b\\pm\\sqrt{b^2-4c}}{2}\\ (b=p+q,\\,c=pq)$ 을 이용하여 구할 수 있다.\\\n",
    "다만, 이는 문제 출제 의도와 다른 풀이 방법이므로, 이후에 의도대로 다시 풀어볼 것이다."
   ]
  },
  {
   "cell_type": "code",
   "execution_count": null,
   "metadata": {},
   "outputs": [],
   "source": [
    "from math import sqrt\n",
    "\n",
    "\n",
    "def solution(brown, yellow):\n",
    "    b, c = brown // 2 + 2, brown + yellow\n",
    "    print(b, c)\n",
    "    bp2, pmsqrt = b / 2, sqrt(b**2 - 4 * c) / 2\n",
    "    print(bp2, b**2, 4 * c, pmsqrt)\n",
    "    return [int(bp2 + pmsqrt), int(bp2 - pmsqrt)]"
   ]
  },
  {
   "cell_type": "markdown",
   "metadata": {},
   "source": [
    "## 해답"
   ]
  },
  {
   "cell_type": "code",
   "execution_count": 1,
   "metadata": {},
   "outputs": [],
   "source": [
    "from math import sqrt"
   ]
  },
  {
   "cell_type": "code",
   "execution_count": 29,
   "metadata": {},
   "outputs": [],
   "source": [
    "def solution(brown, yellow):\n",
    "    b, c = brown // 2 + 2, brown + yellow\n",
    "    print(b, c)\n",
    "    bp2, pmsqrt = b / 2, sqrt(b**2 - 4 * c) / 2\n",
    "    print(bp2, b**2, 4 * c, pmsqrt)\n",
    "    return [int(bp2 + pmsqrt), int(bp2 - pmsqrt)]"
   ]
  },
  {
   "cell_type": "markdown",
   "metadata": {},
   "source": [
    "## 테스트 결과"
   ]
  },
  {
   "cell_type": "markdown",
   "metadata": {},
   "source": [
    "|테스트|결과|\n",
    "|---:|:---|\n",
    "|테스트 1 〉|통과 (0.01ms, 10.3MB)|\n",
    "|테스트 2 〉|통과 (0.01ms, 10.3MB)|\n",
    "|테스트 3 〉|통과 (0.01ms, 10.2MB)|\n",
    "|테스트 4 〉|통과 (0.01ms, 10.2MB)|\n",
    "|테스트 5 〉|통과 (0.01ms, 10.2MB)|\n",
    "|테스트 6 〉|통과 (0.01ms, 10.2MB)|\n",
    "|테스트 7 〉|통과 (0.00ms, 10.3MB)|\n",
    "|테스트 8 〉|통과 (0.01ms, 10.2MB)|\n",
    "|테스트 9 〉|통과 (0.00ms, 10.2MB)|\n",
    "|테스트 10 〉|통과 (0.01ms, 10.2MB)|\n",
    "|테스트 11 〉|통과 (0.01ms, 10.2MB)|\n",
    "|테스트 12 〉|통과 (0.00ms, 10.4MB)|\n",
    "|테스트 13 〉|통과 (0.00ms, 10.3MB)|"
   ]
  },
  {
   "cell_type": "markdown",
   "metadata": {},
   "source": [
    "## 예제"
   ]
  },
  {
   "cell_type": "code",
   "execution_count": 30,
   "metadata": {},
   "outputs": [
    {
     "name": "stdout",
     "output_type": "stream",
     "text": [
      "7 12\n",
      "3.5 49 48 0.5\n"
     ]
    },
    {
     "data": {
      "text/plain": [
       "[4, 3]"
      ]
     },
     "execution_count": 30,
     "metadata": {},
     "output_type": "execute_result"
    }
   ],
   "source": [
    "solution(10, 2)"
   ]
  },
  {
   "cell_type": "code",
   "execution_count": 31,
   "metadata": {},
   "outputs": [
    {
     "name": "stdout",
     "output_type": "stream",
     "text": [
      "6 9\n",
      "3.0 36 36 0.0\n"
     ]
    },
    {
     "data": {
      "text/plain": [
       "[3, 3]"
      ]
     },
     "execution_count": 31,
     "metadata": {},
     "output_type": "execute_result"
    }
   ],
   "source": [
    "solution(8, 1)"
   ]
  },
  {
   "cell_type": "code",
   "execution_count": 32,
   "metadata": {},
   "outputs": [
    {
     "name": "stdout",
     "output_type": "stream",
     "text": [
      "14 48\n",
      "7.0 196 192 1.0\n"
     ]
    },
    {
     "data": {
      "text/plain": [
       "[8, 6]"
      ]
     },
     "execution_count": 32,
     "metadata": {},
     "output_type": "execute_result"
    }
   ],
   "source": [
    "solution(24, 24)"
   ]
  }
 ],
 "metadata": {
  "interpreter": {
   "hash": "73891b0dc2e53390f36276e59930dd4ecab91b05b5c90320c2d5b1c443f87069"
  },
  "kernelspec": {
   "display_name": "Python 3.10.1 ('venv': venv)",
   "language": "python",
   "name": "python3"
  },
  "language_info": {
   "codemirror_mode": {
    "name": "ipython",
    "version": 3
   },
   "file_extension": ".py",
   "mimetype": "text/x-python",
   "name": "python",
   "nbconvert_exporter": "python",
   "pygments_lexer": "ipython3",
   "version": "3.10.1"
  },
  "orig_nbformat": 4
 },
 "nbformat": 4,
 "nbformat_minor": 2
}
