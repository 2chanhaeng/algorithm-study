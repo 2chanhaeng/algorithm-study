{
 "cells": [
  {
   "cell_type": "markdown",
   "metadata": {},
   "source": [
    "# [백준/분해합](https://www.acmicpc.net/problem/2231)"
   ]
  },
  {
   "cell_type": "markdown",
   "metadata": {},
   "source": [
    "## 풀이과정"
   ]
  },
  {
   "cell_type": "markdown",
   "metadata": {},
   "source": [
    "### 첫번째 시도"
   ]
  },
  {
   "cell_type": "markdown",
   "metadata": {},
   "source": [
    "풀이과정"
   ]
  },
  {
   "cell_type": "code",
   "execution_count": null,
   "metadata": {},
   "outputs": [],
   "source": [
    "strN = input().strip()\n",
    "N = int(strN)\n",
    "for gen in range(max(N - len(strN) * 9, 0), N + 1):\n",
    "    if gen + sum(map(int,str(gen))) == N: print(gen);break\n",
    "    if gen == N: print(0)"
   ]
  },
  {
   "cell_type": "markdown",
   "metadata": {},
   "source": [
    "## 해답"
   ]
  },
  {
   "cell_type": "code",
   "execution_count": 98,
   "metadata": {},
   "outputs": [],
   "source": [
    "# 해답\n",
    "# import sys;input = sys.stdin.readline\n",
    "# def solution(input):\n",
    "#     map(int,input().split())\n",
    "def solution(input):\n",
    "    strN = input().strip()\n",
    "    N = int(strN)\n",
    "    for gen in range(max(N - len(strN) * 9, 0), N + 1):\n",
    "        if gen + sum(map(int,str(gen))) == N: print(gen);break\n",
    "        if gen == N: print(0)"
   ]
  },
  {
   "cell_type": "markdown",
   "metadata": {},
   "source": [
    "## 테스트 결과"
   ]
  },
  {
   "cell_type": "markdown",
   "metadata": {},
   "source": [
    "|테스트|결과|\n",
    "|---:|:---|"
   ]
  },
  {
   "cell_type": "markdown",
   "metadata": {},
   "source": [
    "## 예제"
   ]
  },
  {
   "cell_type": "code",
   "execution_count": 99,
   "metadata": {},
   "outputs": [],
   "source": [
    "# 백준 문제 풀이용 예제 실행 코드\n",
    "from inspect import signature\n",
    "def solution_example(input_ = None, solution=solution):\n",
    "    params = signature(solution).parameters\n",
    "    if input_ == None:\n",
    "        solution()\n",
    "    elif 'open' in params:\n",
    "        class open:\n",
    "            def __init__(self, x):\n",
    "                self.read = lambda: input_\n",
    "            def __iter__(self):\n",
    "                return iter(input_.split(\"\\n\"))\n",
    "        solution(open)\n",
    "    elif 'input' in params:\n",
    "        input_ = iter(input_.split(\"\\n\"))\n",
    "        input = input_.__next__\n",
    "        solution(input)\n",
    "    else:\n",
    "        raise NameError(f'solution 함수가 input, open 등의 매개변수를 받지 않습니다.\\nsolution 의 매개변수: {params}')\n",
    "    \n",
    "        \n",
    "# solution_example(\"\"\"\"\"\")\n",
    "# solution_example(read(\"fn\").read())"
   ]
  },
  {
   "cell_type": "code",
   "execution_count": 100,
   "metadata": {},
   "outputs": [
    {
     "name": "stdout",
     "output_type": "stream",
     "text": [
      "8982\n"
     ]
    },
    {
     "data": {
      "text/plain": [
       "9009"
      ]
     },
     "execution_count": 100,
     "metadata": {},
     "output_type": "execute_result"
    }
   ],
   "source": [
    "solution_example(\"\"\"9009\"\"\")\n",
    "8982 + 8+9+8+2"
   ]
  },
  {
   "cell_type": "code",
   "execution_count": 101,
   "metadata": {},
   "outputs": [
    {
     "name": "stdout",
     "output_type": "stream",
     "text": [
      "980\n"
     ]
    }
   ],
   "source": [
    "solution_example(\"\"\"997\"\"\")"
   ]
  },
  {
   "cell_type": "code",
   "execution_count": 102,
   "metadata": {},
   "outputs": [
    {
     "name": "stdout",
     "output_type": "stream",
     "text": [
      "981\n"
     ]
    }
   ],
   "source": [
    "solution_example(\"\"\"999\"\"\")"
   ]
  },
  {
   "cell_type": "code",
   "execution_count": 103,
   "metadata": {},
   "outputs": [
    {
     "name": "stdout",
     "output_type": "stream",
     "text": [
      "0\n"
     ]
    }
   ],
   "source": [
    "solution_example(\"\"\"31\"\"\")"
   ]
  },
  {
   "cell_type": "code",
   "execution_count": 104,
   "metadata": {},
   "outputs": [
    {
     "name": "stdout",
     "output_type": "stream",
     "text": [
      "1 0\n",
      "2 1\n",
      "3 0\n",
      "4 2\n",
      "5 0\n",
      "6 3\n",
      "7 0\n",
      "8 4\n",
      "9 0\n",
      "10 0\n",
      "11 10\n",
      "12 0\n",
      "13 11\n",
      "14 0\n",
      "15 12\n",
      "16 0\n",
      "17 13\n",
      "18 0\n",
      "19 14\n",
      "20 0\n"
     ]
    }
   ],
   "source": [
    "for i in range(1,21):\n",
    "    print(i, end=\" \")\n",
    "    solution_example(str(i))"
   ]
  },
  {
   "cell_type": "code",
   "execution_count": 105,
   "metadata": {},
   "outputs": [
    {
     "name": "stdout",
     "output_type": "stream",
     "text": [
      "0\n"
     ]
    }
   ],
   "source": [
    "solution_example(\"\"\"1111\"\"\")"
   ]
  },
  {
   "cell_type": "code",
   "execution_count": 106,
   "metadata": {},
   "outputs": [
    {
     "name": "stdout",
     "output_type": "stream",
     "text": [
      "99959\n"
     ]
    }
   ],
   "source": [
    "solution_example(\"\"\"100000\"\"\")"
   ]
  },
  {
   "cell_type": "code",
   "execution_count": 107,
   "metadata": {},
   "outputs": [
    {
     "name": "stdout",
     "output_type": "stream",
     "text": [
      "198\n"
     ]
    }
   ],
   "source": [
    "solution_example(\"\"\"216\"\"\")"
   ]
  },
  {
   "cell_type": "code",
   "execution_count": 108,
   "metadata": {},
   "outputs": [
    {
     "name": "stdout",
     "output_type": "stream",
     "text": [
      "120\n"
     ]
    }
   ],
   "source": [
    "solution_example(\"\"\"123\"\"\")"
   ]
  }
 ],
 "metadata": {
  "interpreter": {
   "hash": "73891b0dc2e53390f36276e59930dd4ecab91b05b5c90320c2d5b1c443f87069"
  },
  "kernelspec": {
   "display_name": "Python 3.10.1 ('venv': venv)",
   "language": "python",
   "name": "python3"
  },
  "language_info": {
   "codemirror_mode": {
    "name": "ipython",
    "version": 3
   },
   "file_extension": ".py",
   "mimetype": "text/x-python",
   "name": "python",
   "nbconvert_exporter": "python",
   "pygments_lexer": "ipython3",
   "version": "3.10.2"
  },
  "orig_nbformat": 4
 },
 "nbformat": 4,
 "nbformat_minor": 2
}
