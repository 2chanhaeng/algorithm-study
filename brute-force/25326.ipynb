{
 "cells": [
  {
   "cell_type": "markdown",
   "metadata": {},
   "source": [
    "# [백준/다중 항목 선호도 조사 (Small)](https://www.acmicpc.net/problem/25326)"
   ]
  },
  {
   "cell_type": "markdown",
   "metadata": {},
   "source": [
    "## 풀이과정"
   ]
  },
  {
   "cell_type": "markdown",
   "metadata": {},
   "source": [
    "### 첫번째 시도"
   ]
  },
  {
   "cell_type": "markdown",
   "metadata": {},
   "source": [
    "#### 풀이과정"
   ]
  },
  {
   "cell_type": "code",
   "execution_count": null,
   "metadata": {},
   "outputs": [],
   "source": [
    "def solution():\n",
    "    import sys\n",
    "\n",
    "    n, m = map(int, sys.stdin.readline().split())\n",
    "    research = [\n",
    "        {\"kor\": set(), \"eng\": set(), \"math\": set()},\n",
    "        {\"apple\": set(), \"pear\": set(), \"orange\": set()},\n",
    "        {\"red\": set(), \"blue\": set(), \"green\": set()},\n",
    "    ]\n",
    "    for i, input in zip(range(1, n + 1), sys.stdin):\n",
    "        for kind, item in zip(research, input.split()):\n",
    "            kind[item].add(i)\n",
    "    for input in sys.stdin:\n",
    "        counter = set(range(1, n + 1))\n",
    "        for kind, item in zip(research, input.split()):\n",
    "            if item != \"-\":\n",
    "                counter &= kind[item]\n",
    "        print(len(counter))\n",
    "\n",
    "\n",
    "solution()"
   ]
  },
  {
   "cell_type": "markdown",
   "metadata": {},
   "source": [
    "## 해답"
   ]
  },
  {
   "cell_type": "code",
   "execution_count": 10,
   "metadata": {},
   "outputs": [],
   "source": [
    "def solution():\n",
    "    import sys\n",
    "\n",
    "    n, m = map(int, sys.stdin.readline().split())\n",
    "    research = [\n",
    "        {\"kor\": set(), \"eng\": set(), \"math\": set()},\n",
    "        {\"apple\": set(), \"pear\": set(), \"orange\": set()},\n",
    "        {\"red\": set(), \"blue\": set(), \"green\": set()},\n",
    "    ]\n",
    "    for i, input in zip(range(1, n + 1), sys.stdin):\n",
    "        for kind, item in zip(research, input.split()):\n",
    "            kind[item].add(i)\n",
    "    for input in sys.stdin:\n",
    "        counter = set(range(1, n + 1))\n",
    "        for kind, item in zip(research, input.split()):\n",
    "            if item != \"-\":\n",
    "                counter &= kind[item]\n",
    "        print(len(counter))"
   ]
  },
  {
   "cell_type": "markdown",
   "metadata": {},
   "source": [
    "## 예제"
   ]
  },
  {
   "cell_type": "code",
   "execution_count": 11,
   "metadata": {},
   "outputs": [
    {
     "name": "stdout",
     "output_type": "stream",
     "text": [
      "The blackcellmagic extension is already loaded. To reload it, use:\n",
      "  %reload_ext blackcellmagic\n"
     ]
    }
   ],
   "source": [
    "# black 모듈을 jupyter notebook 내에서 사용 가능하게 만들어주는 blackcellmagic 모듈 불러오기\n",
    "%load_ext blackcellmagic\n",
    "# %%black\n",
    "\n",
    "# 백준 문제 풀이용 예제 실행 코드\n",
    "from bwj import test\n",
    "\n",
    "test_solution = test(solution)\n",
    "\n",
    "# test_solution(\"\"\"\"\"\")\n",
    "# test_solution(read(\"fn\").read())"
   ]
  },
  {
   "cell_type": "code",
   "execution_count": 12,
   "metadata": {},
   "outputs": [
    {
     "name": "stdout",
     "output_type": "stream",
     "text": [
      "1\n",
      "1\n",
      "2\n",
      "2\n"
     ]
    }
   ],
   "source": [
    "test_solution(\n",
    "    \"\"\"5 4\n",
    "kor apple red\n",
    "kor pear blue\n",
    "eng apple red\n",
    "eng orange blue\n",
    "math apple green\n",
    "kor apple red\n",
    "kor - blue\n",
    "eng - -\n",
    "- - red\n",
    "\"\"\"\n",
    ")\n",
    "# answer:\n",
    "# 1\n",
    "# 1\n",
    "# 2\n",
    "# 2"
   ]
  }
 ],
 "metadata": {
  "kernelspec": {
   "display_name": "Python 3.10.4 ('venv': venv)",
   "language": "python",
   "name": "python3"
  },
  "language_info": {
   "codemirror_mode": {
    "name": "ipython",
    "version": 3
   },
   "file_extension": ".py",
   "mimetype": "text/x-python",
   "name": "python",
   "nbconvert_exporter": "python",
   "pygments_lexer": "ipython3",
   "version": "3.10.4"
  },
  "orig_nbformat": 4,
  "vscode": {
   "interpreter": {
    "hash": "72904a014a9ffe38f4c58942120b599b3c5a87d06764037548e0139929c1cde3"
   }
  }
 },
 "nbformat": 4,
 "nbformat_minor": 2
}
