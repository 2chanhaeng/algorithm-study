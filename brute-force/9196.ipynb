{
 "cells": [
  {
   "cell_type": "markdown",
   "metadata": {},
   "source": [
    "# [백준/정수 직사각형](https://www.acmicpc.net/problem/9196)"
   ]
  },
  {
   "cell_type": "markdown",
   "metadata": {},
   "source": [
    "## 풀이과정"
   ]
  },
  {
   "cell_type": "markdown",
   "metadata": {},
   "source": [
    "### 첫번째 시도"
   ]
  },
  {
   "cell_type": "markdown",
   "metadata": {},
   "source": [
    "#### 풀이과정\n",
    "괜히 어렵게 생각했다가 검색해보니 모든 값을 계산(Brute-Force)해두고 이진 검색을 이용하면 된다고 하여 그대로 적용하여 해결하였습니다."
   ]
  },
  {
   "cell_type": "code",
   "execution_count": 33,
   "metadata": {},
   "outputs": [],
   "source": [
    "def solution():\n",
    "    import sys\n",
    "    from bisect import bisect, insort\n",
    "\n",
    "    # 값을 미리 계산 후 저장할 리스트입니다.\n",
    "    # 이 때 이진 검색을 통해 값을 삽입하여 시간을 줄입니다.\n",
    "    hhww = []\n",
    "    for h in range(1, 150):\n",
    "        hh = h * h\n",
    "        for w in range(2, 151):\n",
    "            if h < w:\n",
    "                insort(hhww, (hh + w * w, h, w))\n",
    "\n",
    "    # 이후, 이진 검색을 통하여 위치를 찾아 다음 인자의 높이와 너비를 출력합니다.\n",
    "    for input in sys.stdin.read().rstrip().split(\"\\n\")[:-1]:\n",
    "        h, w = map(int, input.split())\n",
    "        print(*hhww[bisect(hhww, (h * h + w * w, h, w))][1:])\n",
    "\n",
    "\n",
    "solution()"
   ]
  },
  {
   "cell_type": "markdown",
   "metadata": {},
   "source": [
    "## 해답"
   ]
  },
  {
   "cell_type": "code",
   "execution_count": 11,
   "metadata": {},
   "outputs": [],
   "source": [
    "from bisect import bisect, insort"
   ]
  },
  {
   "cell_type": "code",
   "execution_count": 22,
   "metadata": {},
   "outputs": [
    {
     "name": "stdout",
     "output_type": "stream",
     "text": [
      "[(5, 1, 2), (10, 1, 3), (13, 2, 3), (17, 1, 4), (20, 2, 4), (25, 3, 4), (26, 1, 5), (29, 2, 5), (34, 3, 5), (37, 1, 6)]\n"
     ]
    }
   ],
   "source": [
    "hhww = []\n",
    "for h in range(1, 150):\n",
    "    hh = h * h\n",
    "    for w in range(2, 151):\n",
    "        if h < w:\n",
    "            insort(hhww, (hh + w * w, h, w))\n",
    "print(hhww[:10])"
   ]
  },
  {
   "cell_type": "code",
   "execution_count": 27,
   "metadata": {},
   "outputs": [],
   "source": [
    "def solution(open=open):\n",
    "    for input in open(0).read().rstrip().split(\"\\n\")[:-1]:\n",
    "        h, w = map(int, input.split())\n",
    "        print(*hhww[bisect(hhww, (h * h + w * w, h, w))][1:])"
   ]
  },
  {
   "cell_type": "markdown",
   "metadata": {},
   "source": [
    "## 예제"
   ]
  },
  {
   "cell_type": "code",
   "execution_count": 28,
   "metadata": {},
   "outputs": [],
   "source": [
    "# 백준 문제 풀이용 예제 실행 코드\n",
    "from bwj import test\n",
    "\n",
    "test_solution = test(solution)\n",
    "\n",
    "# test_solution(\"\"\"\"\"\")\n",
    "# test_solution(read(\"fn\").read())"
   ]
  },
  {
   "cell_type": "code",
   "execution_count": 30,
   "metadata": {},
   "outputs": [
    {
     "name": "stdout",
     "output_type": "stream",
     "text": [
      "1 3\n",
      "2 3\n",
      "1 4\n",
      "2 4\n",
      "3 4\n",
      "1 8\n",
      "4 7\n",
      "2 8\n",
      "3 140\n",
      "89 109\n"
     ]
    }
   ],
   "source": [
    "test_solution(\n",
    "    \"\"\"1 2\n",
    "1 3\n",
    "2 3\n",
    "1 4\n",
    "2 4\n",
    "5 6\n",
    "1 8\n",
    "4 7\n",
    "98 100\n",
    "99 100\n",
    "0 0\"\"\"\n",
    ")\n",
    "# answer:\n",
    "# 1 3\n",
    "# 2 3\n",
    "# 1 4\n",
    "# 2 4\n",
    "# 3 4\n",
    "# 1 8\n",
    "# 4 7\n",
    "# 2 8\n",
    "# 3 140\n",
    "# 89 109"
   ]
  }
 ],
 "metadata": {
  "interpreter": {
   "hash": "72904a014a9ffe38f4c58942120b599b3c5a87d06764037548e0139929c1cde3"
  },
  "kernelspec": {
   "display_name": "Python 3.10.4 ('venv': venv)",
   "language": "python",
   "name": "python3"
  },
  "language_info": {
   "codemirror_mode": {
    "name": "ipython",
    "version": 3
   },
   "file_extension": ".py",
   "mimetype": "text/x-python",
   "name": "python",
   "nbconvert_exporter": "python",
   "pygments_lexer": "ipython3",
   "version": "3.10.4"
  },
  "orig_nbformat": 4
 },
 "nbformat": 4,
 "nbformat_minor": 2
}
