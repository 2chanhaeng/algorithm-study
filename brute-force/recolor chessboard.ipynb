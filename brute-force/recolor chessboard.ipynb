{
 "cells": [
  {
   "cell_type": "markdown",
   "metadata": {},
   "source": [
    "# [백준/체스판 다시 칠하기](https://www.acmicpc.net/problem/1018)"
   ]
  },
  {
   "cell_type": "markdown",
   "metadata": {},
   "source": [
    "## 풀이과정"
   ]
  },
  {
   "cell_type": "markdown",
   "metadata": {},
   "source": [
    "### 첫번째 시도"
   ]
  },
  {
   "cell_type": "markdown",
   "metadata": {},
   "source": [
    "풀이과정"
   ]
  },
  {
   "cell_type": "code",
   "execution_count": null,
   "metadata": {},
   "outputs": [],
   "source": [
    "# 풀이 코드\n"
   ]
  },
  {
   "cell_type": "markdown",
   "metadata": {},
   "source": [
    "## 해답"
   ]
  },
  {
   "cell_type": "code",
   "execution_count": 44,
   "metadata": {},
   "outputs": [],
   "source": [
    "input = iter(open(0).read().split(\"\\n\")).__next__\n",
    "def solution(input):\n",
    "    rows, cols = map(int,input().split())\n",
    "    whole = []\n",
    "    for _ in range(rows):\n",
    "        row = 0\n",
    "        for cell in input():\n",
    "            row <<=1\n",
    "            if cell == \"W\": row += 1\n",
    "        whole.append(row)\n",
    "    chessboard0 = 6172840429334713770\n",
    "    chessboard1 = 12273903644374837845\n",
    "    fill = 64\n",
    "    for row in range(rows - 7):\n",
    "        cut_rows = whole[row:row+8]\n",
    "        for col in range(cols - 7):\n",
    "            cutted = [(i>>cols-col-8)%256 for i in cut_rows]\n",
    "            board = 0\n",
    "            for crow in cutted:\n",
    "                board <<= 8\n",
    "                board += crow\n",
    "            fill = min(fill, (board^chessboard0).bit_count(), (board^chessboard1).bit_count())\n",
    "    print(fill)\n",
    "solution(input)"
   ]
  },
  {
   "cell_type": "code",
   "execution_count": 22,
   "metadata": {},
   "outputs": [
    {
     "name": "stdout",
     "output_type": "stream",
     "text": [
      "6172840429334713770 12273903644374837845\n"
     ]
    }
   ],
   "source": [
    "line = (\"01\" * 4, \"10\" * 4)\n",
    "x, y = \"\", \"\"\n",
    "for i in range(8):\n",
    "    x += line[i%2]\n",
    "    y += line[i%2^1]\n",
    "print(int(x,2),int(y,2))\n"
   ]
  },
  {
   "cell_type": "code",
   "execution_count": 32,
   "metadata": {},
   "outputs": [],
   "source": [
    "from functools import cache"
   ]
  },
  {
   "cell_type": "code",
   "execution_count": 33,
   "metadata": {},
   "outputs": [],
   "source": [
    "@cache\n",
    "def count_fill(cutted):\n",
    "    chessboard0 = 6172840429334713770\n",
    "    chessboard1 = 12273903644374837845\n",
    "    board = 0\n",
    "    for crow in cutted:\n",
    "        board <<= 8\n",
    "        board += crow\n",
    "    return min((board^chessboard0).bit_count(), (board^chessboard1).bit_count())\n"
   ]
  },
  {
   "cell_type": "code",
   "execution_count": 44,
   "metadata": {},
   "outputs": [],
   "source": [
    "def solution(input):\n",
    "    rows, cols = map(int,input().split())\n",
    "    whole = []\n",
    "    for _ in range(rows):\n",
    "        row = 0\n",
    "        for cell in input():\n",
    "            row <<=1\n",
    "            if cell == \"W\": row += 1\n",
    "        whole.append(row)\n",
    "    chessboard0 = 6172840429334713770\n",
    "    chessboard1 = 12273903644374837845\n",
    "    fill = 64\n",
    "    for row in range(rows - 7):\n",
    "        cut_rows = whole[row:row+8]\n",
    "        for col in range(cols - 7):\n",
    "            cutted = [(i>>cols-col-8)%256 for i in cut_rows]\n",
    "            board = 0\n",
    "            for crow in cutted:\n",
    "                board <<= 8\n",
    "                board += crow\n",
    "            fill = min(fill, (board^chessboard0).bit_count(), (board^chessboard1).bit_count())\n",
    "    return(fill)\n",
    "                "
   ]
  },
  {
   "cell_type": "code",
   "execution_count": 45,
   "metadata": {},
   "outputs": [],
   "source": [
    "def solution1(input):\n",
    "    rows, cols = map(int,input().split())\n",
    "    whole = []\n",
    "    for _ in range(rows):\n",
    "        row = 0\n",
    "        for cell in input():\n",
    "            row <<=1\n",
    "            if cell == \"W\": row += 1\n",
    "        whole.append(row)\n",
    "    fill = 64\n",
    "    for row in range(rows - 7):\n",
    "        cut_rows = whole[row:row+8]\n",
    "        for col in range(cols - 7):\n",
    "            cutted = tuple((i>>cols-col-8)%256 for i in cut_rows)\n",
    "            fill = min(fill, count_fill(cutted))\n",
    "    return (fill)\n",
    "                "
   ]
  },
  {
   "cell_type": "markdown",
   "metadata": {},
   "source": [
    "## 테스트 결과"
   ]
  },
  {
   "cell_type": "markdown",
   "metadata": {},
   "source": [
    "|테스트|결과|\n",
    "|---:|:---|"
   ]
  },
  {
   "cell_type": "markdown",
   "metadata": {},
   "source": [
    "## 예제"
   ]
  },
  {
   "cell_type": "code",
   "execution_count": 46,
   "metadata": {},
   "outputs": [],
   "source": [
    "# 백준식 실행 코드\n",
    "def solution_example(input_, solution=solution):\n",
    "    input_ = iter(input_.split(\"\\n\"))\n",
    "    input = input_.__next__\n",
    "    solution(input)\n",
    "# solution_example(\"\"\"\"\"\")\n",
    "# solution_example(read(\"fn\").read())\n",
    "def solution_example1(input_, solution=solution1):\n",
    "    input_ = iter(input_.split(\"\\n\"))\n",
    "    input = input_.__next__\n",
    "    solution(input)"
   ]
  },
  {
   "cell_type": "code",
   "execution_count": 47,
   "metadata": {},
   "outputs": [
    {
     "name": "stdout",
     "output_type": "stream",
     "text": [
      "51.5 µs ± 762 ns per loop (mean ± std. dev. of 7 runs, 10,000 loops each)\n"
     ]
    }
   ],
   "source": [
    "%%timeit\n",
    "solution_example1(\"\"\"9 23\n",
    "BBBBBBBBBBBBBBBBBBBBBBB\n",
    "BBBBBBBBBBBBBBBBBBBBBBB\n",
    "BBBBBBBBBBBBBBBBBBBBBBB\n",
    "BBBBBBBBBBBBBBBBBBBBBBB\n",
    "BBBBBBBBBBBBBBBBBBBBBBB\n",
    "BBBBBBBBBBBBBBBBBBBBBBB\n",
    "BBBBBBBBBBBBBBBBBBBBBBB\n",
    "BBBBBBBBBBBBBBBBBBBBBBB\n",
    "BBBBBBBBBBBBBBBBBBBBBBW\"\"\") # 31\n"
   ]
  },
  {
   "cell_type": "code",
   "execution_count": 48,
   "metadata": {},
   "outputs": [
    {
     "name": "stdout",
     "output_type": "stream",
     "text": [
      "56 µs ± 539 ns per loop (mean ± std. dev. of 7 runs, 10,000 loops each)\n"
     ]
    }
   ],
   "source": [
    "%%timeit\n",
    "solution_example(\"\"\"9 23\n",
    "BBBBBBBBBBBBBBBBBBBBBBB\n",
    "BBBBBBBBBBBBBBBBBBBBBBB\n",
    "BBBBBBBBBBBBBBBBBBBBBBB\n",
    "BBBBBBBBBBBBBBBBBBBBBBB\n",
    "BBBBBBBBBBBBBBBBBBBBBBB\n",
    "BBBBBBBBBBBBBBBBBBBBBBB\n",
    "BBBBBBBBBBBBBBBBBBBBBBB\n",
    "BBBBBBBBBBBBBBBBBBBBBBB\n",
    "BBBBBBBBBBBBBBBBBBBBBBW\"\"\") # 31\n"
   ]
  },
  {
   "cell_type": "code",
   "execution_count": 49,
   "metadata": {},
   "outputs": [],
   "source": [
    "# 예제 코드\n",
    "solution_example(\"\"\"8 8\n",
    "WBWBWBWB\n",
    "BWBWBWBW\n",
    "WBWBWBWB\n",
    "BWBBBWBW\n",
    "WBWBWBWB\n",
    "BWBWBWBW\n",
    "WBWBWBWB\n",
    "BWBWBWBW\"\"\") # 1\n"
   ]
  },
  {
   "cell_type": "code",
   "execution_count": 50,
   "metadata": {},
   "outputs": [],
   "source": [
    "# 예제 코드\n",
    "solution_example(\"\"\"10 13\n",
    "BBBBBBBBWBWBW\n",
    "BBBBBBBBBWBWB\n",
    "BBBBBBBBWBWBW\n",
    "BBBBBBBBBWBWB\n",
    "BBBBBBBBWBWBW\n",
    "BBBBBBBBBWBWB\n",
    "BBBBBBBBWBWBW\n",
    "BBBBBBBBBWBWB\n",
    "WWWWWWWWWWBWB\n",
    "WWWWWWWWWWBWB\"\"\") # 12\n"
   ]
  },
  {
   "cell_type": "code",
   "execution_count": 51,
   "metadata": {},
   "outputs": [],
   "source": [
    "# 예제 코드\n",
    "solution_example(\"\"\"8 8\n",
    "BWBWBWBW\n",
    "WBWBWBWB\n",
    "BWBWBWBW\n",
    "WBWBWBWB\n",
    "BWBWBWBW\n",
    "WBWBWBWB\n",
    "BWBWBWBW\n",
    "WBWBWBWB\"\"\") # 0\n"
   ]
  },
  {
   "cell_type": "code",
   "execution_count": 52,
   "metadata": {},
   "outputs": [],
   "source": [
    "# 예제 코드\n",
    "solution_example(\"\"\"10 10\n",
    "BBBBBBBBBB\n",
    "BBWBWBWBWB\n",
    "BWBWBWBWBB\n",
    "BBWBWBWBWB\n",
    "BWBWBWBWBB\n",
    "BBWBWBWBWB\n",
    "BWBWBWBWBB\n",
    "BBWBWBWBWB\n",
    "BWBWBWBWBB\n",
    "BBBBBBBBBB\"\"\") # 0\n"
   ]
  },
  {
   "cell_type": "code",
   "execution_count": 53,
   "metadata": {},
   "outputs": [],
   "source": [
    "# 예제 코드\n",
    "solution_example(\"\"\"8 8\n",
    "WBWBWBWB\n",
    "BWBWBWBW\n",
    "WBWBWBWB\n",
    "BWBBBWBW\n",
    "WBWBWBWB\n",
    "BWBWBWBW\n",
    "WBWBWWWB\n",
    "BWBWBWBW\"\"\") # 2\n"
   ]
  },
  {
   "cell_type": "code",
   "execution_count": 54,
   "metadata": {},
   "outputs": [],
   "source": [
    "# 예제 코드\n",
    "solution_example(\"\"\"11 12\n",
    "BWWBWWBWWBWW\n",
    "BWWBWBBWWBWW\n",
    "WBWWBWBBWWBW\n",
    "BWWBWBBWWBWW\n",
    "WBWWBWBBWWBW\n",
    "BWWBWBBWWBWW\n",
    "WBWWBWBBWWBW\n",
    "BWWBWBWWWBWW\n",
    "WBWWBWBBWWBW\n",
    "BWWBWBBWWBWW\n",
    "WBWWBWBBWWBW\"\"\") # 15\n"
   ]
  }
 ],
 "metadata": {
  "interpreter": {
   "hash": "73891b0dc2e53390f36276e59930dd4ecab91b05b5c90320c2d5b1c443f87069"
  },
  "kernelspec": {
   "display_name": "Python 3.10.1 ('venv': venv)",
   "language": "python",
   "name": "python3"
  },
  "language_info": {
   "codemirror_mode": {
    "name": "ipython",
    "version": 3
   },
   "file_extension": ".py",
   "mimetype": "text/x-python",
   "name": "python",
   "nbconvert_exporter": "python",
   "pygments_lexer": "ipython3",
   "version": "3.10.2"
  },
  "orig_nbformat": 4
 },
 "nbformat": 4,
 "nbformat_minor": 2
}
