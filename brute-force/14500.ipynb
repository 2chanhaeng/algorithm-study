{
    "cells": [
        {
            "cell_type": "markdown",
            "metadata": {},
            "source": [
                "# [백준/테트로미노](https://www.acmicpc.net/problem/14500)"
            ]
        },
        {
            "cell_type": "markdown",
            "metadata": {},
            "source": [
                "## 풀이과정"
            ]
        },
        {
            "cell_type": "markdown",
            "metadata": {},
            "source": [
                "### 첫번째 시도"
            ]
        },
        {
            "cell_type": "markdown",
            "metadata": {},
            "source": [
                "풀이과정"
            ]
        },
        {
            "cell_type": "code",
            "execution_count": null,
            "metadata": {},
            "outputs": [],
            "source": [
                "def solution(open = open):\n",
                "    input = iter(open(0).read().split(\"\\n\")).__next__\n",
                "    n, m = map(int, input().split())\n",
                "    board = [list(map(int, input().split())) for _ in range(n)]\n",
                "    visited = [([0] * m) for _ in range(n)]\n",
                "    maxcell = ans = max(map(max, board))\n",
                "    def dfs(r, c, idx, total, ans):\n",
                "        if ans >= total + maxcell * (3 - idx):\n",
                "            return ans\n",
                "        if idx == 3:\n",
                "            return max(ans, total)\n",
                "        else:\n",
                "            for i in range(4):\n",
                "                nr = r + [-1, 0, 1, 0][i]\n",
                "                nc = c + [0, 1, 0, -1][i]\n",
                "                if 0 <= nr < n and 0 <= nc < m and visited[nr][nc] == 0:\n",
                "                    if idx == 1:\n",
                "                        visited[nr][nc] = 1\n",
                "                        ans = dfs(r, c, 2, total + board[nr][nc], ans)\n",
                "                        visited[nr][nc] = 0\n",
                "                    visited[nr][nc] = 1\n",
                "                    ans = dfs(nr, nc, idx + 1, total + board[nr][nc], ans)\n",
                "                    visited[nr][nc] = 0\n",
                "            return ans\n",
                "    for r in range(n):\n",
                "        for c in range(m):\n",
                "            visited[r][c] = 1\n",
                "            ans = dfs(r, c, 0, board[r][c], ans)\n",
                "            visited[r][c] = 0\n",
                "\n",
                "    print(ans)\n",
                "\n",
                "solution()"
            ]
        },
        {
            "cell_type": "markdown",
            "metadata": {},
            "source": [
                "## 해답"
            ]
        },
        {
            "cell_type": "code",
            "execution_count": 9,
            "metadata": {},
            "outputs": [],
            "source": [
                "def solution(open = open):\n",
                "    input = iter(open(0).read().split(\"\\n\")).__next__\n",
                "    n, m = map(int, input().split())\n",
                "    board = [list(map(int, input().split())) for _ in range(n)]\n",
                "    visited = [([0] * m) for _ in range(n)]\n",
                "    maxcell = ans = max(map(max, board))\n",
                "    def dfs(r, c, idx, total, ans):\n",
                "        if ans >= total + maxcell * (3 - idx):\n",
                "            return ans\n",
                "        if idx == 3:\n",
                "            return max(ans, total)\n",
                "        else:\n",
                "            for i in range(4):\n",
                "                nr = r + [-1, 0, 1, 0][i]\n",
                "                nc = c + [0, 1, 0, -1][i]\n",
                "                if 0 <= nr < n and 0 <= nc < m and visited[nr][nc] == 0:\n",
                "                    if idx == 1:\n",
                "                        visited[nr][nc] = 1\n",
                "                        ans = dfs(r, c, 2, total + board[nr][nc], ans)\n",
                "                        visited[nr][nc] = 0\n",
                "                    visited[nr][nc] = 1\n",
                "                    ans = dfs(nr, nc, idx + 1, total + board[nr][nc], ans)\n",
                "                    visited[nr][nc] = 0\n",
                "            return ans\n",
                "    for r in range(n):\n",
                "        for c in range(m):\n",
                "            visited[r][c] = 1\n",
                "            ans = dfs(r, c, 0, board[r][c], ans)\n",
                "            visited[r][c] = 0\n",
                "\n",
                "    print(ans)\n"
            ]
        },
        {
            "cell_type": "markdown",
            "metadata": {},
            "source": [
                "## 예제"
            ]
        },
        {
            "cell_type": "code",
            "execution_count": 10,
            "metadata": {},
            "outputs": [],
            "source": [
                "# 백준 문제 풀이용 예제 실행 코드\n",
                "from bwj import test\n",
                "test_solution = test(solution)\n",
                "\n",
                "# test_solution(\"\"\"\"\"\")\n",
                "# test_solution(read(\"fn\").read())"
            ]
        },
        {
            "cell_type": "code",
            "execution_count": 11,
            "metadata": {},
            "outputs": [
                {
                    "name": "stdout",
                    "output_type": "stream",
                    "text": [
                        "19\n"
                    ]
                }
            ],
            "source": [
                "test_solution(\"\"\"5 5\n",
                "1 2 3 4 5\n",
                "5 4 3 2 1\n",
                "2 3 4 5 6\n",
                "6 5 4 3 2\n",
                "1 2 1 2 1\"\"\") # 19"
            ]
        },
        {
            "cell_type": "code",
            "execution_count": 12,
            "metadata": {},
            "outputs": [
                {
                    "name": "stdout",
                    "output_type": "stream",
                    "text": [
                        "20\n"
                    ]
                }
            ],
            "source": [
                "test_solution(\"\"\"4 5\n",
                "1 2 3 4 5\n",
                "1 2 3 4 5\n",
                "1 2 3 4 5\n",
                "1 2 3 4 5\"\"\") # 20"
            ]
        },
        {
            "cell_type": "code",
            "execution_count": 13,
            "metadata": {},
            "outputs": [
                {
                    "name": "stdout",
                    "output_type": "stream",
                    "text": [
                        "7\n"
                    ]
                }
            ],
            "source": [
                "test_solution(\"\"\"4 10\n",
                "1 2 1 2 1 2 1 2 1 2\n",
                "2 1 2 1 2 1 2 1 2 1\n",
                "1 2 1 2 1 2 1 2 1 2\n",
                "2 1 2 1 2 1 2 1 2 1\"\"\") # 7"
            ]
        }
    ],
    "metadata": {
        "interpreter": {
            "hash": "6f343a80023390f07f657f7b7b783138624f73d36da2400954869fbeb113b94b"
        },
        "kernelspec": {
            "display_name": "Python 3.10.2 ('venv': venv)",
            "language": "python",
            "name": "python3"
        },
        "language_info": {
            "codemirror_mode": {
                "name": "ipython",
                "version": 3
            },
            "file_extension": ".py",
            "mimetype": "text/x-python",
            "name": "python",
            "nbconvert_exporter": "python",
            "pygments_lexer": "ipython3",
            "version": "3.10.2"
        },
        "orig_nbformat": 4
    },
    "nbformat": 4,
    "nbformat_minor": 2
}
