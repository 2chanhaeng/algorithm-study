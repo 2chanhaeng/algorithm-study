{
 "cells": [
  {
   "cell_type": "markdown",
   "metadata": {},
   "source": [
    "# [백준/블랙잭](https://www.acmicpc.net/problem/2798)"
   ]
  },
  {
   "cell_type": "markdown",
   "metadata": {},
   "source": [
    "## 풀이과정"
   ]
  },
  {
   "cell_type": "markdown",
   "metadata": {},
   "source": [
    "### 첫번째 시도"
   ]
  },
  {
   "cell_type": "markdown",
   "metadata": {},
   "source": [
    "풀이과정"
   ]
  },
  {
   "cell_type": "code",
   "execution_count": null,
   "metadata": {},
   "outputs": [],
   "source": [
    "N, M = map(int,input().split())\n",
    "cards = sorted(filter(lambda x:x<=M,map(int,input().split())))\n",
    "max_ = 0\n",
    "for i,a in enumerate(cards[:-2]):\n",
    "    if max_ == M: break\n",
    "    if a + cards[i+1] > M: break\n",
    "    for j, b in enumerate(cards[i+1:-1]):\n",
    "        ab = a + b\n",
    "        if ab + cards[i+j+2] > M: break\n",
    "        for c in cards[i+j+2:]:\n",
    "            abc = ab + c\n",
    "            if abc >= M: \n",
    "                if ab+c == M:\n",
    "                    max_ = abc\n",
    "                break\n",
    "            max_ = abc if abc > max_ else max_\n",
    "print(max_)"
   ]
  },
  {
   "cell_type": "markdown",
   "metadata": {},
   "source": [
    "## 해답"
   ]
  },
  {
   "cell_type": "code",
   "execution_count": 9,
   "metadata": {},
   "outputs": [],
   "source": [
    "def solution(input):\n",
    "    N, M = map(int,input().split())\n",
    "    cards = sorted(filter(lambda x:x<=M,map(int,input().split())))\n",
    "    max_ = 0\n",
    "    for i,a in enumerate(cards[:-2]):\n",
    "        if max_ == M: break\n",
    "        if a + cards[i+1] > M: break\n",
    "        for j, b in enumerate(cards[i+1:-1]):\n",
    "            ab = a + b\n",
    "            if ab + cards[i+j+2] > M: break\n",
    "            for c in cards[i+j+2:]:\n",
    "                abc = ab + c\n",
    "                if abc >= M: \n",
    "                    if ab+c == M:\n",
    "                        max_ = abc\n",
    "                    break\n",
    "                max_ = abc if abc > max_ else max_\n",
    "    print(max_)\n"
   ]
  },
  {
   "cell_type": "markdown",
   "metadata": {},
   "source": [
    "## 테스트 결과"
   ]
  },
  {
   "cell_type": "markdown",
   "metadata": {},
   "source": [
    "|테스트|결과|\n",
    "|---:|:---|"
   ]
  },
  {
   "cell_type": "markdown",
   "metadata": {},
   "source": [
    "## 예제"
   ]
  },
  {
   "cell_type": "code",
   "execution_count": 10,
   "metadata": {},
   "outputs": [],
   "source": [
    "# 백준식 실행 코드\n",
    "def solution_example(input_, solution=solution):\n",
    "    input_ = iter(input_.split(\"\\n\"))\n",
    "    input = input_.__next__\n",
    "    solution(input)\n",
    "# solution_example(\"\"\"\"\"\")\n",
    "# solution_example(read(\"fn\").read())"
   ]
  },
  {
   "cell_type": "code",
   "execution_count": 11,
   "metadata": {},
   "outputs": [
    {
     "name": "stdout",
     "output_type": "stream",
     "text": [
      "21\n"
     ]
    }
   ],
   "source": [
    "solution_example(\"\"\"5 21\n",
    "6 7 8\"\"\")"
   ]
  },
  {
   "cell_type": "code",
   "execution_count": 12,
   "metadata": {},
   "outputs": [
    {
     "name": "stdout",
     "output_type": "stream",
     "text": [
      "21\n"
     ]
    }
   ],
   "source": [
    "solution_example(\"\"\"5 21\n",
    "5 6 7 8 9\"\"\")"
   ]
  },
  {
   "cell_type": "code",
   "execution_count": 13,
   "metadata": {},
   "outputs": [
    {
     "name": "stdout",
     "output_type": "stream",
     "text": [
      "497\n"
     ]
    }
   ],
   "source": [
    "solution_example(\"\"\"10 500\n",
    "93 181 245 214 315 36 185 138 216 295\"\"\")"
   ]
  }
 ],
 "metadata": {
  "interpreter": {
   "hash": "73891b0dc2e53390f36276e59930dd4ecab91b05b5c90320c2d5b1c443f87069"
  },
  "kernelspec": {
   "display_name": "Python 3.10.1 ('venv': venv)",
   "language": "python",
   "name": "python3"
  },
  "language_info": {
   "codemirror_mode": {
    "name": "ipython",
    "version": 3
   },
   "file_extension": ".py",
   "mimetype": "text/x-python",
   "name": "python",
   "nbconvert_exporter": "python",
   "pygments_lexer": "ipython3",
   "version": "3.10.2"
  },
  "orig_nbformat": 4
 },
 "nbformat": 4,
 "nbformat_minor": 2
}
