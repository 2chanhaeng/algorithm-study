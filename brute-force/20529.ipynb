{
    "cells": [
        {
            "cell_type": "markdown",
            "metadata": {},
            "source": [
                "# [백준/가장 가까운 세 사람의 심리적 거리](https://www.acmicpc.net/problem/20529)\n"
            ]
        },
        {
            "cell_type": "markdown",
            "metadata": {},
            "source": [
                "## 풀이과정\n"
            ]
        },
        {
            "cell_type": "markdown",
            "metadata": {},
            "source": [
                "### 첫번째 시도\n"
            ]
        },
        {
            "cell_type": "markdown",
            "metadata": {},
            "source": [
                "#### 풀이과정\n"
            ]
        },
        {
            "cell_type": "code",
            "execution_count": null,
            "metadata": {},
            "outputs": [],
            "source": [
                "from collections import Counter\n",
                "from itertools import combinations as comb\n",
                "\n",
                "\n",
                "def intize(x: str):\n",
                "    return int(\"\".join(\"0\" if a == b else \"1\" for a, b in zip(x, \"ESTJ\")), 2)\n",
                "\n",
                "\n",
                "def dist(x: tuple[int, int]):\n",
                "    return (x[0] ^ x[1]).bit_count()\n",
                "\n",
                "\n",
                "def dist3(x: tuple[int, int, int]):\n",
                "    return sum(map(dist, comb(x, 2)))\n",
                "\n",
                "\n",
                "def solve(inputs: str):\n",
                "    ms = list(map(intize, inputs.split()))\n",
                "    if Counter(ms).most_common(1)[0][1] > 2:\n",
                "        return 0\n",
                "    return min(map(dist3, comb(ms, 3)))\n",
                "\n",
                "\n",
                "def solution():\n",
                "    import sys\n",
                "\n",
                "    input = sys.stdin.readline\n",
                "    cases = int(input())\n",
                "    for _ in range(cases):\n",
                "        n = int(input())\n",
                "        if n > 32:\n",
                "            print(0)\n",
                "            input()\n",
                "            continue\n",
                "        print(solve(input()))\n",
                "\n",
                "\n",
                "solution()"
            ]
        },
        {
            "cell_type": "markdown",
            "metadata": {},
            "source": [
                "## 해답\n"
            ]
        },
        {
            "cell_type": "code",
            "execution_count": 1,
            "metadata": {},
            "outputs": [],
            "source": [
                "from collections import Counter\n",
                "from itertools import combinations as comb"
            ]
        },
        {
            "cell_type": "code",
            "execution_count": 2,
            "metadata": {},
            "outputs": [
                {
                    "data": {
                        "text/plain": [
                            "'0b1111'"
                        ]
                    },
                    "execution_count": 2,
                    "metadata": {},
                    "output_type": "execute_result"
                }
            ],
            "source": [
                "def intize(x: str | bytes):\n",
                "    return int(\"\".join(\"0\" if a == b else \"1\" for a, b in zip(x, \"ESTJ\")), 2)\n",
                "\n",
                "\n",
                "bin(intize(b\"ENTP\"))"
            ]
        },
        {
            "cell_type": "code",
            "execution_count": 3,
            "metadata": {},
            "outputs": [
                {
                    "data": {
                        "text/plain": [
                            "8"
                        ]
                    },
                    "execution_count": 3,
                    "metadata": {},
                    "output_type": "execute_result"
                }
            ],
            "source": [
                "def dist3(x: tuple[bytes | str, bytes | str, bytes | str]):\n",
                "    return sum(a != b for c in comb(x, 2) for a, b in zip(*c))\n",
                "\n",
                "\n",
                "dist3((b\"ENTP\", b\"ISFJ\", b\"ESTJ\"))"
            ]
        },
        {
            "cell_type": "code",
            "execution_count": 4,
            "metadata": {},
            "outputs": [
                {
                    "data": {
                        "text/plain": [
                            "4"
                        ]
                    },
                    "execution_count": 4,
                    "metadata": {},
                    "output_type": "execute_result"
                }
            ],
            "source": [
                "def solve(inputs: bytes | str):\n",
                "    ms = inputs.split()\n",
                "    if Counter(ms).most_common(1)[0][1] > 2:\n",
                "        return 0\n",
                "    return min(map(dist3, comb(ms, 3)))\n",
                "\n",
                "\n",
                "solve(b\"INFP INFP ESTP ESTJ ISTJ\")"
            ]
        },
        {
            "cell_type": "code",
            "execution_count": 5,
            "metadata": {},
            "outputs": [],
            "source": [
                "def solution():\n",
                "    import sys\n",
                "\n",
                "    input = sys.stdin.readline\n",
                "    cases = int(input())\n",
                "    for _ in range(cases):\n",
                "        n = int(input())\n",
                "        if n > 32:\n",
                "            print(0)\n",
                "            input()\n",
                "            continue\n",
                "        print(solve(input()))"
            ]
        },
        {
            "cell_type": "markdown",
            "metadata": {},
            "source": [
                "## 예제\n"
            ]
        },
        {
            "cell_type": "code",
            "execution_count": 6,
            "metadata": {},
            "outputs": [],
            "source": [
                "# black 모듈을 jupyter notebook 내에서 사용 가능하게 만들어주는 blackcellmagic 모듈 불러오기\n",
                "%load_ext blackcellmagic\n",
                "# %%black\n",
                "\n",
                "# 백준 문제 풀이용 예제 실행 코드\n",
                "from bwj import test\n",
                "test_solution = test(solution)\n",
                "\n",
                "# test_solution(\"\"\"\"\"\")\n",
                "# test_solution(read(\"fn\").read())"
            ]
        },
        {
            "cell_type": "code",
            "execution_count": 7,
            "metadata": {},
            "outputs": [
                {
                    "name": "stdout",
                    "output_type": "stream",
                    "text": [
                        "8\n",
                        "0\n",
                        "4\n"
                    ]
                }
            ],
            "source": [
                "test_solution(\n",
                "    \"\"\"3\n",
                "3\n",
                "ENTJ INTP ESFJ\n",
                "4\n",
                "ESFP ESFP ESFP ESFP\n",
                "5\n",
                "INFP INFP ESTP ESTJ ISTJ\n",
                "\"\"\"\n",
                ")\n",
                "# answer:\n",
                "# 8\n",
                "# 0\n",
                "# 4"
            ]
        }
    ],
    "metadata": {
        "interpreter": {
            "hash": "73891b0dc2e53390f36276e59930dd4ecab91b05b5c90320c2d5b1c443f87069"
        },
        "kernelspec": {
            "display_name": "Python 3.10.1 ('venv': venv)",
            "language": "python",
            "name": "python3"
        },
        "language_info": {
            "codemirror_mode": {
                "name": "ipython",
                "version": 3
            },
            "file_extension": ".py",
            "mimetype": "text/x-python",
            "name": "python",
            "nbconvert_exporter": "python",
            "pygments_lexer": "ipython3",
            "version": "3.11.6"
        },
        "orig_nbformat": 4
    },
    "nbformat": 4,
    "nbformat_minor": 2
}
