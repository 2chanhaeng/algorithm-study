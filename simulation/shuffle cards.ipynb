{
 "cells": [
  {
   "cell_type": "markdown",
   "metadata": {},
   "source": [
    "# [백준/1091번 카드 섞기](https://www.acmicpc.net/problem/1091)"
   ]
  },
  {
   "cell_type": "markdown",
   "metadata": {},
   "source": [
    "## 풀이과정"
   ]
  },
  {
   "cell_type": "markdown",
   "metadata": {},
   "source": [
    "### 첫번째 시도"
   ]
  },
  {
   "cell_type": "markdown",
   "metadata": {},
   "source": [
    "풀이과정"
   ]
  },
  {
   "cell_type": "code",
   "execution_count": 22,
   "metadata": {},
   "outputs": [],
   "source": [
    "# 풀이 코드\n"
   ]
  },
  {
   "cell_type": "markdown",
   "metadata": {},
   "source": [
    "## 해답"
   ]
  },
  {
   "cell_type": "code",
   "execution_count": 1,
   "metadata": {},
   "outputs": [
    {
     "name": "stdout",
     "output_type": "stream",
     "text": [
      "120119\n"
     ]
    }
   ],
   "source": [
    "N = int(input())\n",
    "P = map(int, input().split())\n",
    "S = map(int, input().split())\n",
    "def solution(N, P, S):\n",
    "    gotolist = list(P)\n",
    "    permutation = {i:j for i,j in enumerate(S)}\n",
    "    togo = {i:j for i, j in enumerate(gotolist)}\n",
    "    permutations = {i:[i,j] for i, j in permutation.items()}\n",
    "    for _ in range(1, N):\n",
    "        for i, j in permutations.items():\n",
    "            j.append(permutation[j[-1]])\n",
    "    period, indextogo = {}, {}\n",
    "    for i, j in permutations.items():\n",
    "        period[i] = j[1:].index(i) + 1\n",
    "        track = j[:period[i]]\n",
    "        modtrack = tuple(map(lambda x: x % 3, track))\n",
    "        indextogo[i] = set(k for k, l in enumerate(modtrack) if l == togo[i])\n",
    "    byperiod = {i: tuple(j for j in range(N) if i == period[j]) for i in set(period.values())}\n",
    "    rems = {}\n",
    "    for i, j in byperiod.items():\n",
    "        common = set(range(N)).intersection(*[indextogo[k] for k in j])\n",
    "        if not common: return -1\n",
    "        rems[i] = min(common)\n",
    "    s = 0\n",
    "    from math import prod\n",
    "    p = prod(rems)\n",
    "    for n, r in rems.items():\n",
    "        ppn = p // n\n",
    "        s += r * pow(ppn, -1, n) * ppn\n",
    "    s %= p\n",
    "    return s\n",
    "print(solution(N, P, S))"
   ]
  },
  {
   "cell_type": "code",
   "execution_count": 15,
   "metadata": {},
   "outputs": [],
   "source": [
    "N = int(input())\n",
    "gotolist = list(map(int, input().split()))\n",
    "goto = {i:tuple(j for j in range(N) if gotolist[j] == i) for i in gotolist}\n",
    "permutation = {i:j for i,j in enumerate(map(int, input().split()))}\n"
   ]
  },
  {
   "cell_type": "code",
   "execution_count": 36,
   "metadata": {},
   "outputs": [],
   "source": [
    "goto = {i:tuple(j for j in range(N) if gotolist[j] == i) for i in gotolist}\n",
    "\n",
    "togo = {i:j for i, j in enumerate(gotolist)}\n"
   ]
  },
  {
   "cell_type": "code",
   "execution_count": 25,
   "metadata": {},
   "outputs": [
    {
     "name": "stdout",
     "output_type": "stream",
     "text": [
      "{0: 1, 1: 1, 2: 2, 3: 0, 4: 2, 5: 0, 6: 1, 7: 0, 8: 2, 9: 2, 10: 1, 11: 0}\n",
      "{0: 5, 1: 0, 2: 9, 3: 7, 4: 1, 5: 8, 6: 3, 7: 10, 8: 4, 9: 11, 10: 6, 11: 2}\n"
     ]
    }
   ],
   "source": [
    "# togo = {0: 1, 1: 1, 2: 2, 3: 0, 4: 2, 5: 0, 6: 1, 7: 0, 8: 2, 9: 2, 10: 1, 11: 0}\n",
    "# permutation = {0: 5, 1: 0, 2: 9, 3: 7, 4: 1, 5: 8, 6: 3, 7: 10, 8: 4, 9: 11, 10: 6, 11: 2}\n",
    "print(goto)\n",
    "print(permutation)"
   ]
  },
  {
   "cell_type": "code",
   "execution_count": 17,
   "metadata": {},
   "outputs": [
    {
     "data": {
      "text/plain": [
       "{0: [0, 5, 8, 4, 1, 0, 5, 8, 4, 1, 0, 5, 8],\n",
       " 1: [1, 0, 5, 8, 4, 1, 0, 5, 8, 4, 1, 0, 5],\n",
       " 2: [2, 9, 11, 2, 9, 11, 2, 9, 11, 2, 9, 11, 2],\n",
       " 3: [3, 7, 10, 6, 3, 7, 10, 6, 3, 7, 10, 6, 3],\n",
       " 4: [4, 1, 0, 5, 8, 4, 1, 0, 5, 8, 4, 1, 0],\n",
       " 5: [5, 8, 4, 1, 0, 5, 8, 4, 1, 0, 5, 8, 4],\n",
       " 6: [6, 3, 7, 10, 6, 3, 7, 10, 6, 3, 7, 10, 6],\n",
       " 7: [7, 10, 6, 3, 7, 10, 6, 3, 7, 10, 6, 3, 7],\n",
       " 8: [8, 4, 1, 0, 5, 8, 4, 1, 0, 5, 8, 4, 1],\n",
       " 9: [9, 11, 2, 9, 11, 2, 9, 11, 2, 9, 11, 2, 9],\n",
       " 10: [10, 6, 3, 7, 10, 6, 3, 7, 10, 6, 3, 7, 10],\n",
       " 11: [11, 2, 9, 11, 2, 9, 11, 2, 9, 11, 2, 9, 11]}"
      ]
     },
     "execution_count": 17,
     "metadata": {},
     "output_type": "execute_result"
    }
   ],
   "source": [
    "permutations = {i:[i,j] for i, j in permutation.items()}\n",
    "for _ in range(1, N):\n",
    "    for i, j in permutations.items():\n",
    "        j.append(permutation[j[-1]])\n",
    "permutations\n"
   ]
  },
  {
   "cell_type": "code",
   "execution_count": 29,
   "metadata": {},
   "outputs": [
    {
     "name": "stdout",
     "output_type": "stream",
     "text": [
      "{0: 5, 1: 5, 2: 3, 3: 4, 4: 5, 5: 5, 6: 4, 7: 4, 8: 5, 9: 3, 10: 4, 11: 3}\n"
     ]
    },
    {
     "data": {
      "text/plain": [
       "{0: [0, 5, 8, 4, 1],\n",
       " 1: [1, 0, 5, 8, 4],\n",
       " 2: [2, 9, 11],\n",
       " 3: [3, 7, 10, 6],\n",
       " 4: [4, 1, 0, 5, 8],\n",
       " 5: [5, 8, 4, 1, 0],\n",
       " 6: [6, 3, 7, 10],\n",
       " 7: [7, 10, 6, 3],\n",
       " 8: [8, 4, 1, 0, 5],\n",
       " 9: [9, 11, 2],\n",
       " 10: [10, 6, 3, 7],\n",
       " 11: [11, 2, 9]}"
      ]
     },
     "execution_count": 29,
     "metadata": {},
     "output_type": "execute_result"
    }
   ],
   "source": [
    "period = {i:j[1:].index(i) + 1 for i,j in permutations.items()}\n",
    "print(period)\n",
    "track = {i:j[:period[i]] for i, j in permutations.items()}\n",
    "track"
   ]
  },
  {
   "cell_type": "code",
   "execution_count": 67,
   "metadata": {},
   "outputs": [
    {
     "data": {
      "text/plain": [
       "{0: 5, 1: 5, 2: 3, 3: 4, 4: 5, 5: 5, 6: 4, 7: 4, 8: 5, 9: 3, 10: 4, 11: 3}"
      ]
     },
     "metadata": {},
     "output_type": "display_data"
    },
    {
     "data": {
      "text/plain": [
       "{0: [0, 5, 8, 4, 1],\n",
       " 1: [1, 0, 5, 8, 4],\n",
       " 2: [2, 9, 11],\n",
       " 3: [3, 7, 10, 6],\n",
       " 4: [4, 1, 0, 5, 8],\n",
       " 5: [5, 8, 4, 1, 0],\n",
       " 6: [6, 3, 7, 10],\n",
       " 7: [7, 10, 6, 3],\n",
       " 8: [8, 4, 1, 0, 5],\n",
       " 9: [9, 11, 2],\n",
       " 10: [10, 6, 3, 7],\n",
       " 11: [11, 2, 9]}"
      ]
     },
     "metadata": {},
     "output_type": "display_data"
    },
    {
     "data": {
      "text/plain": [
       "{0: (0, 2, 2, 1, 1),\n",
       " 1: (1, 0, 2, 2, 1),\n",
       " 2: (2, 0, 2),\n",
       " 3: (0, 1, 1, 0),\n",
       " 4: (1, 1, 0, 2, 2),\n",
       " 5: (2, 2, 1, 1, 0),\n",
       " 6: (0, 0, 1, 1),\n",
       " 7: (1, 1, 0, 0),\n",
       " 8: (2, 1, 1, 0, 2),\n",
       " 9: (0, 2, 2),\n",
       " 10: (1, 0, 0, 1),\n",
       " 11: (2, 2, 0)}"
      ]
     },
     "metadata": {},
     "output_type": "display_data"
    },
    {
     "data": {
      "text/plain": [
       "{0: {3, 4},\n",
       " 1: {0, 4},\n",
       " 2: {0, 2},\n",
       " 3: {0, 3},\n",
       " 4: {3, 4},\n",
       " 5: {4},\n",
       " 6: {2, 3},\n",
       " 7: {2, 3},\n",
       " 8: {0, 4},\n",
       " 9: {1, 2},\n",
       " 10: {0, 3},\n",
       " 11: {2}}"
      ]
     },
     "metadata": {},
     "output_type": "display_data"
    },
    {
     "data": {
      "text/plain": [
       "{0: frozenset({3, 4}),\n",
       " 1: frozenset({0, 4}),\n",
       " 2: frozenset({0, 2}),\n",
       " 3: frozenset({0, 3}),\n",
       " 4: frozenset({3, 4}),\n",
       " 5: frozenset({4}),\n",
       " 6: frozenset({2, 3}),\n",
       " 7: frozenset({2, 3}),\n",
       " 8: frozenset({0, 4}),\n",
       " 9: frozenset({1, 2}),\n",
       " 10: frozenset({0, 3}),\n",
       " 11: frozenset({2})}"
      ]
     },
     "metadata": {},
     "output_type": "display_data"
    }
   ],
   "source": [
    "period, track, modtrack, indextogo, findextogo = {}, {}, {}, {}, {}\n",
    "for i, j in permutations.items():\n",
    "    period[i] = j[1:].index(i) + 1\n",
    "    track[i] = j[:period[i]]\n",
    "    modtrack[i] = tuple(map(lambda x: x % 3, track[i]))\n",
    "    indextogo[i] = set(k for k, l in enumerate(modtrack[i]) if l == togo[i])\n",
    "    findextogo[i] = frozenset(k for k, l in enumerate(modtrack[i]) if l == togo[i])\n",
    "display(period, track, modtrack, indextogo, findextogo)"
   ]
  },
  {
   "cell_type": "code",
   "execution_count": 42,
   "metadata": {},
   "outputs": [
    {
     "name": "stdout",
     "output_type": "stream",
     "text": [
      "[{3, 4}, {0, 4}, {2, 3}, {0, 3}]\n",
      "[{0, 2}, {3, 4}, {0, 4}, {1, 2}]\n",
      "[{0, 3}, {4}, {2, 3}, {2}]\n"
     ]
    }
   ],
   "source": [
    "for i, j in goto.items():\n",
    "    print([indextogo[k] for k in j])"
   ]
  },
  {
   "cell_type": "code",
   "execution_count": 76,
   "metadata": {},
   "outputs": [
    {
     "name": "stdout",
     "output_type": "stream",
     "text": [
      "{3: (2, 9, 11), 4: (3, 6, 7, 10), 5: (0, 1, 4, 5, 8)}\n"
     ]
    },
    {
     "data": {
      "text/plain": [
       "{3: 2, 4: 3, 5: 4}"
      ]
     },
     "execution_count": 76,
     "metadata": {},
     "output_type": "execute_result"
    }
   ],
   "source": [
    "byperiod = {i: tuple(j for j in range(N) if i == period[j]) for i in set(period.values())}\n",
    "print(byperiod)"
   ]
  },
  {
   "cell_type": "code",
   "execution_count": 92,
   "metadata": {},
   "outputs": [
    {
     "name": "stdout",
     "output_type": "stream",
     "text": [
      "359\n"
     ]
    }
   ],
   "source": [
    "from math import prod\n",
    "N = int(input())\n",
    "P = map(int, input().split())\n",
    "S = map(int, input().split())\n",
    "\n",
    "gotolist = list(P)\n",
    "permutation = {i:j for i,j in enumerate(S)}\n",
    "togo = {i:j for i, j in enumerate(gotolist)}\n",
    "permutations = {i:[i,j] for i, j in permutation.items()}\n",
    "for _ in range(1, N):\n",
    "    for i, j in permutations.items():\n",
    "        j.append(permutation[j[-1]])\n",
    "period, indextogo = {}, {}\n",
    "for i, j in permutations.items():\n",
    "    period[i] = j[1:].index(i) + 1\n",
    "    track = j[:period[i]]\n",
    "    modtrack = tuple(map(lambda x: x % 3, track))\n",
    "    indextogo[i] = set(k for k, l in enumerate(modtrack) if l == togo[i])\n",
    "byperiod = {i: tuple(j for j in range(N) if i == period[j]) for i in set(period.values())}\n",
    "rems = {}\n",
    "for i, j in byperiod.items():\n",
    "    common = set(range(N)).intersection(*[indextogo[k] for k in j])\n",
    "    if not common: print(-1)\n",
    "    rems[i] = min(common)\n",
    "s = 0\n",
    "p = prod(rems)\n",
    "for n, r in rems.items():\n",
    "    ppn = p // n\n",
    "    s += r * pow(ppn, -1, n) * ppn\n",
    "print(s)"
   ]
  },
  {
   "cell_type": "code",
   "execution_count": 90,
   "metadata": {},
   "outputs": [
    {
     "data": {
      "text/plain": [
       "{3: 2, 4: 3, 5: 4}"
      ]
     },
     "execution_count": 90,
     "metadata": {},
     "output_type": "execute_result"
    }
   ],
   "source": [
    "rems = {}\n",
    "for i, j in byperiod.items():\n",
    "    common = set(range(N)).intersection(*[indextogo[k] for k in j])\n",
    "    if not common: print(-1)\n",
    "    rems[i] = min(common)\n",
    "rems\n"
   ]
  },
  {
   "cell_type": "code",
   "execution_count": 21,
   "metadata": {},
   "outputs": [
    {
     "data": {
      "text/plain": [
       "59"
      ]
     },
     "execution_count": 21,
     "metadata": {},
     "output_type": "execute_result"
    }
   ],
   "source": [
    "from math import prod\n",
    "def chinese_remainder(rems):\n",
    "    sum = 0\n",
    "    p = prod(rems)\n",
    "    for n, r in rems.items():\n",
    "        ppn = p // n\n",
    "        sum += r * pow(ppn, -1, n) * ppn\n",
    "    return sum % p\n",
    "\n",
    "chinese_remainder({3: 2, 4: 3, 5: 4})"
   ]
  },
  {
   "cell_type": "markdown",
   "metadata": {},
   "source": [
    "## 테스트 결과"
   ]
  },
  {
   "cell_type": "markdown",
   "metadata": {},
   "source": [
    "|테스트|결과|\n",
    "|---:|:---|"
   ]
  },
  {
   "cell_type": "markdown",
   "metadata": {},
   "source": [
    "## 예제"
   ]
  },
  {
   "cell_type": "code",
   "execution_count": 1,
   "metadata": {},
   "outputs": [],
   "source": [
    "def preprocess_example(input_:str):\n",
    "    input_ = input_.split(\"\\n\")\n",
    "    print(input_)\n",
    "    N = int(input_.pop(0))\n",
    "    P = map(int, input_.pop(0).split())\n",
    "    S = map(int, input_.pop(0).split())\n",
    "    return N, P, S\n",
    "def solution(input_):\n",
    "    N, P, S = preprocess_example(input_)\n",
    "    gotolist = list(P)\n",
    "    permutation = {i:j for i,j in enumerate(S)}\n",
    "    togo = {i:j for i, j in enumerate(gotolist)}\n",
    "    permutations = {i:[i,j] for i, j in permutation.items()}\n",
    "    for _ in range(1, N):\n",
    "        for i, j in permutations.items():\n",
    "            j.append(permutation[j[-1]])\n",
    "    period, indextogo = {}, {}\n",
    "    for i, j in permutations.items():\n",
    "        period[i] = j[1:].index(i) + 1\n",
    "        track = j[:period[i]]\n",
    "        modtrack = tuple(map(lambda x: x % 3, track))\n",
    "        indextogo[i] = set(k for k, l in enumerate(modtrack) if l == togo[i])\n",
    "    byperiod = {i: tuple(j for j in range(N) if i == period[j]) for i in set(period.values())}\n",
    "    rems = {}\n",
    "    for i, j in byperiod.items():\n",
    "        common = set(range(N)).intersection(*[indextogo[k] for k in j])\n",
    "        if not common: return -1\n",
    "        rems[i] = min(common)\n",
    "    s = 0\n",
    "    from math import prod\n",
    "    p = prod(rems)\n",
    "    for n, r in rems.items():\n",
    "        ppn = p // n\n",
    "        s += r * pow(ppn, -1, n) * ppn\n",
    "    s %= p\n",
    "    return s"
   ]
  },
  {
   "cell_type": "code",
   "execution_count": 2,
   "metadata": {},
   "outputs": [
    {
     "name": "stdout",
     "output_type": "stream",
     "text": [
      "['3', '2 0 1', '1 2 0']\n"
     ]
    },
    {
     "data": {
      "text/plain": [
       "2"
      ]
     },
     "execution_count": 2,
     "metadata": {},
     "output_type": "execute_result"
    }
   ],
   "source": [
    "solution(\"\"\"3\n",
    "2 0 1\n",
    "1 2 0\"\"\")"
   ]
  },
  {
   "cell_type": "code",
   "execution_count": 3,
   "metadata": {},
   "outputs": [
    {
     "name": "stdout",
     "output_type": "stream",
     "text": [
      "['6', '0 1 2 0 1 2', '1 4 0 3 2 5']\n"
     ]
    },
    {
     "data": {
      "text/plain": [
       "0"
      ]
     },
     "execution_count": 3,
     "metadata": {},
     "output_type": "execute_result"
    }
   ],
   "source": [
    "solution(\"\"\"6\n",
    "0 1 2 0 1 2\n",
    "1 4 0 3 2 5\"\"\")"
   ]
  },
  {
   "cell_type": "code",
   "execution_count": 4,
   "metadata": {},
   "outputs": [
    {
     "name": "stdout",
     "output_type": "stream",
     "text": [
      "['3', '1 0 2', '0 2 1']\n"
     ]
    },
    {
     "data": {
      "text/plain": [
       "-1"
      ]
     },
     "execution_count": 4,
     "metadata": {},
     "output_type": "execute_result"
    }
   ],
   "source": [
    "solution(\"\"\"3\n",
    "1 0 2\n",
    "0 2 1\"\"\")\n"
   ]
  },
  {
   "cell_type": "code",
   "execution_count": 5,
   "metadata": {},
   "outputs": [
    {
     "name": "stdout",
     "output_type": "stream",
     "text": [
      "['12', '1 1 2 0 2 0 1 0 2 2 1 0', '5 0 9 7 1 8 3 10 4 11 6 2']\n"
     ]
    },
    {
     "data": {
      "text/plain": [
       "59"
      ]
     },
     "execution_count": 5,
     "metadata": {},
     "output_type": "execute_result"
    }
   ],
   "source": [
    "solution(\"\"\"12\n",
    "1 1 2 0 2 0 1 0 2 2 1 0\n",
    "5 0 9 7 1 8 3 10 4 11 6 2\"\"\")\n"
   ]
  },
  {
   "cell_type": "code",
   "execution_count": 8,
   "metadata": {},
   "outputs": [
    {
     "name": "stdout",
     "output_type": "stream",
     "text": [
      "['48', '1 0 1 2 0 1 2 0 1 2 0 0 2 0 1 2 1 1 2 0 1 2 0 0 2 0 1 2 0 1 2 0 1 2 1 1 2 0 1 2 0 1 2 0 1 2 0 2', '1 2 3 4 5 6 7 0 9 10 8 12 13 14 15 11 17 18 19 20 21 22 16 24 25 26 27 28 29 30 31 32 33 23 35 36 37 38 39 40 41 42 43 44 45 46 34 47', '']\n",
      "CPU times: total: 0 ns\n",
      "Wall time: 0 ns\n"
     ]
    },
    {
     "data": {
      "text/plain": [
       "120119"
      ]
     },
     "execution_count": 8,
     "metadata": {},
     "output_type": "execute_result"
    }
   ],
   "source": [
    "%%time\n",
    "solution(\"\"\"48\n",
    "1 0 1 2 0 1 2 0 1 2 0 0 2 0 1 2 1 1 2 0 1 2 0 0 2 0 1 2 0 1 2 0 1 2 1 1 2 0 1 2 0 1 2 0 1 2 0 2\n",
    "1 2 3 4 5 6 7 0 9 10 8 12 13 14 15 11 17 18 19 20 21 22 16 24 25 26 27 28 29 30 31 32 33 23 35 36 37 38 39 40 41 42 43 44 45 46 34 47\n",
    "\"\"\")\n"
   ]
  }
 ],
 "metadata": {
  "interpreter": {
   "hash": "73891b0dc2e53390f36276e59930dd4ecab91b05b5c90320c2d5b1c443f87069"
  },
  "kernelspec": {
   "display_name": "Python 3.10.1 ('venv': venv)",
   "language": "python",
   "name": "python3"
  },
  "language_info": {
   "codemirror_mode": {
    "name": "ipython",
    "version": 3
   },
   "file_extension": ".py",
   "mimetype": "text/x-python",
   "name": "python",
   "nbconvert_exporter": "python",
   "pygments_lexer": "ipython3",
   "version": "3.10.1"
  },
  "orig_nbformat": 4
 },
 "nbformat": 4,
 "nbformat_minor": 2
}
