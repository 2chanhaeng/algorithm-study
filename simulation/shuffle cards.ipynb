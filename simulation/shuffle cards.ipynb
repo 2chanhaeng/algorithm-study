{
 "cells": [
  {
   "cell_type": "markdown",
   "metadata": {},
   "source": [
    "# [백준/1091번 카드 섞기](https://www.acmicpc.net/problem/1091)"
   ]
  },
  {
   "cell_type": "markdown",
   "metadata": {},
   "source": [
    "## 풀이과정"
   ]
  },
  {
   "cell_type": "markdown",
   "metadata": {},
   "source": [
    "### 첫번째 시도"
   ]
  },
  {
   "cell_type": "markdown",
   "metadata": {},
   "source": [
    "딕테이션과 치환을 이용하였습니다.\\\n",
    "카드 번호 별 순환 경로와 경로의 크기로 주기를 구합니다.\\\n",
    "주기 별로 카드를 묶어, 해당 카드들이 분배 가능한 최소 공통 횟수를 구합니다.\\\n",
    "이 때, 공통 횟수가 존재하지 않을 경우, 불가능한 것으로 보고 -1을 반환합니다.\\\n",
    "모든 주기 별로 공통 횟수가 존재하면, 주기와 최소 공통 횟수를 이용하여 중국인 나머지 정리로 횟수를 구합니다."
   ]
  },
  {
   "cell_type": "code",
   "execution_count": 1,
   "metadata": {},
   "outputs": [],
   "source": [
    "def solution(N, P, S):\n",
    "    gotolist = list(P)\n",
    "    # 목적지입니다.\n",
    "    permutation = {i:j for i,j in enumerate(S)}\n",
    "    # 치환을 딕셔너리로 나타냈습니다.\n",
    "    togo = {i:j for i, j in enumerate(gotolist)}\n",
    "    # 카드의 번호 별로 가야하는 플레이어의 번호를 할당한 딕셔너리입니다.\n",
    "    permutations = {i:[i,j] for i, j in permutation.items()}\n",
    "    # 카드 별로 카드의 경로를 담은 리스트를 할당할 딕셔너리입니다.\n",
    "    # 먼저 0번 섞은 원래 카드의 위치와, 1번 섞은 카드 위치를 할당합니다.\n",
    "    for _ in range(1, N):\n",
    "        # 카드의 개수만큼 카드의 경로를 구합니다.\n",
    "        # 최대가 카드의 개수인 이유는, 치환군의 크기가 카드의 갯수를 넘을 수 없기 때문입니다.\n",
    "        # 쉽게 말해서 카드를 아무리 어렵게 섞어도,\n",
    "        # 결국은 카드 갯수번 섞으면 적어도 한 번은 원래 자리로 돌아오기 때문입니다.\n",
    "        for i, j in permutations.items():\n",
    "            j.append(permutation[j[-1]])\n",
    "            # 이전 카드의 위치를 가져와 해당 카드가 다음에 어디로 가는 지로 다음 위치를 구합니다.\n",
    "    period, indextogo = {}, {}\n",
    "    # period 는 번호 별로 주기(몇 번 만에 원래 자리로 돌아오는지)가 담긴 튜플을 할당합니다.\n",
    "    # indextogo 는 번호 별로 줘야 하는 플레이어에게 줄 수 있는 위치가 되는 섞은 횟수가 담겨있습니다.\n",
    "    for i, j in permutations.items():\n",
    "        period[i] = j[1:].index(i) + 1\n",
    "        # 0번 이후로 최초로 카드가 원래 자리로 돌아오는 지를 찾아 주기를 구합니다.\n",
    "        track = j[:period[i]]\n",
    "        # 주기만큼 위치로 오는 카드의 경로를 잘라서 순환경로를 찾습니다.\n",
    "        modtrack = tuple(map(lambda x: x % 3, track))\n",
    "        # 순환 경로 원소를 3으로 나눈 나머지를 구해 카드를 줄 플레이어의 번호를 구합니다.\n",
    "        indextogo[i] = set(k for k, l in enumerate(modtrack) if l == togo[i])\n",
    "        # 플레이어의 번호와 위치가 같아지는 첫 섞은 횟수를 구합니다.\n",
    "    byperiod = {i: tuple(j for j in range(N) if i == period[j]) for i in set(period.values())}\n",
    "    # 주기 별로 해당 주기를 가지는 카드 번호가 담긴 튜플을 할당한 딕셔너리입니다.\n",
    "    rems = {}\n",
    "    # 주기 별로 해당 주기를 가지는 카드들이 최소 몇 번을 섞어야 줘야하는 플레이어에게 가는지를 할당할 딕셔너리입니다.\n",
    "    for i, j in byperiod.items():\n",
    "        common = set(range(N)).intersection(*[indextogo[k] for k in j])\n",
    "        # 카드들이 플레이어에게 줄 수 있는 횟수의 교집합을 구합니다.\n",
    "        if not common: return -1\n",
    "        # 만약 교집합이 비었다면, 불가능한 것으로 보고 -1을 반환합니다.\n",
    "        rems[i] = min(common)\n",
    "        # 교집합에서 최소 경우를 주기에 할당합니다.\n",
    "    # 하단은 중국인 나머지 정리를 이용했습니다.\n",
    "    s = 0\n",
    "    from math import prod\n",
    "    p = prod(rems)\n",
    "    for n, r in rems.items():\n",
    "        ppn = p // n\n",
    "        s += r * pow(ppn, -1, n) * ppn\n",
    "    s %= p\n",
    "    return s"
   ]
  },
  {
   "cell_type": "markdown",
   "metadata": {},
   "source": [
    "`ValueError`로 인하여 오답 처리 됐습니다.\\\n",
    "어느 부분에서 일어났는지 아직까지는 모르겠습니다."
   ]
  },
  {
   "cell_type": "markdown",
   "metadata": {},
   "source": [
    "### 두번째 시도"
   ]
  },
  {
   "cell_type": "markdown",
   "metadata": {},
   "source": [
    "풀이과정"
   ]
  },
  {
   "cell_type": "code",
   "execution_count": 1,
   "metadata": {},
   "outputs": [],
   "source": [
    "def mod3(i): return i%3\n",
    "def modstack(perm): return list(map(mod3,perm))\n",
    "\n",
    "def rotate_perm(origin, N = None):\n",
    "    i_perm = [0, list(range(N))]\n",
    "    def rotate():\n",
    "        perm = [origin[i] for i in i_perm.pop()]\n",
    "        if origin == perm: \n",
    "            if i_perm[0] == 0:\n",
    "                i_perm[0] += 1\n",
    "            else:\n",
    "                i_perm[0] = -1\n",
    "        else:\n",
    "            i_perm[0] += 1\n",
    "        i_perm.append(perm)\n",
    "    return rotate, i_perm\n",
    "\n",
    "N = int(input())\n",
    "P = map(int, input().split())\n",
    "S = map(int, input().split())\n",
    "target, origin  = list(P), list(S)\n",
    "rotate, i_perm = rotate_perm(origin, N)\n",
    "while True:\n",
    "    i, perm = i_perm\n",
    "    if modstack(perm) == target: print(i);break\n",
    "    rotate()\n",
    "    if i_perm[0] == -1: print(-1);break"
   ]
  },
  {
   "cell_type": "markdown",
   "metadata": {},
   "source": [
    "오답이 나왔습니다.\\\n",
    "어느 부분이 오답인지는 아직 알지 못합니다.\n",
    "\n",
    "3월 28일:\\\n",
    "입출력 부분을 조금 수정한 뒤 다시 제출하니 맞는 것으로 나왔습니다."
   ]
  },
  {
   "cell_type": "code",
   "execution_count": null,
   "metadata": {},
   "outputs": [],
   "source": [
    "def rotate_perm(origin, N = None):\n",
    "    i_perm = [0, list(range(N))]\n",
    "    def rotate():\n",
    "        perm = [origin[i] for i in i_perm.pop()]\n",
    "        if origin == perm: \n",
    "            if i_perm[0] == 0:\n",
    "                i_perm[0] += 1\n",
    "            else:\n",
    "                i_perm[0] = -1\n",
    "        else:\n",
    "            i_perm[0] += 1\n",
    "        i_perm.append(perm)\n",
    "    return rotate, i_perm\n",
    "\n",
    "N = int(input())\n",
    "P = map(int, input().split())\n",
    "S = map(int, input().split())\n",
    "target, origin  = list(P), list(S)\n",
    "rotate, i_perm = rotate_perm(origin, N)\n",
    "while True:\n",
    "    i, perm = i_perm\n",
    "    if list(map(lambda x: x%3,perm)) == target: print(i);break\n",
    "    rotate()\n",
    "    if i_perm[0] == -1: print(-1);break"
   ]
  },
  {
   "cell_type": "markdown",
   "metadata": {},
   "source": [
    "## 해답"
   ]
  },
  {
   "cell_type": "code",
   "execution_count": 26,
   "metadata": {},
   "outputs": [],
   "source": [
    "def rotate_perm(origin, N = None):\n",
    "    i_perm = [0, list(range(N))]\n",
    "    def rotate():\n",
    "        perm = [origin[i] for i in i_perm.pop()]\n",
    "        if origin == perm: \n",
    "            if i_perm[0] == 0:\n",
    "                i_perm[0] += 1\n",
    "            else:\n",
    "                i_perm[0] = -1\n",
    "        else:\n",
    "            i_perm[0] += 1\n",
    "        i_perm.append(perm)\n",
    "    return rotate, i_perm\n",
    "\n",
    "def solution(input):\n",
    "    N = int(input())\n",
    "    P = map(int, input().split())\n",
    "    S = map(int, input().split())\n",
    "    target, origin  = list(P), list(S)\n",
    "    rotate, i_perm = rotate_perm(origin, N)\n",
    "    while True:\n",
    "        i, perm = i_perm\n",
    "        if list(map(lambda x: x%3,perm)) == target: print(i);break\n",
    "        rotate()\n",
    "        if i_perm[0] == -1: print(-1);break"
   ]
  },
  {
   "cell_type": "markdown",
   "metadata": {},
   "source": [
    "## 테스트 결과"
   ]
  },
  {
   "cell_type": "markdown",
   "metadata": {},
   "source": [
    "|테스트|결과|\n",
    "|---:|:---|"
   ]
  },
  {
   "cell_type": "markdown",
   "metadata": {},
   "source": [
    "## 예제"
   ]
  },
  {
   "cell_type": "code",
   "execution_count": 27,
   "metadata": {},
   "outputs": [],
   "source": [
    "# 백준 문제 풀이용 예제 실행 코드\n",
    "from inspect import signature\n",
    "def solution_example(input_ = None, solution=solution):\n",
    "    params = signature(solution).parameters\n",
    "    if input_ == None:\n",
    "        solution()\n",
    "    elif 'open' in params:\n",
    "        class open:\n",
    "            def __init__(self, x):\n",
    "                self.read = lambda: input_\n",
    "            def __iter__(self):\n",
    "                return iter(input_.split(\"\\n\"))\n",
    "        solution(open)\n",
    "    elif 'input' in params:\n",
    "        input_ = iter(input_.split(\"\\n\"))\n",
    "        input = input_.__next__\n",
    "        solution(input)\n",
    "    else:\n",
    "        raise NameError(f'solution 함수가 input, open 등의 매개변수를 받지 않습니다.\\nsolution 의 매개변수: {params}')\n",
    "    \n",
    "        \n",
    "# solution_example(\"\"\"\"\"\")\n",
    "# solution_example(read(\"fn\").read())"
   ]
  },
  {
   "cell_type": "code",
   "execution_count": 28,
   "metadata": {},
   "outputs": [
    {
     "name": "stdout",
     "output_type": "stream",
     "text": [
      "2\n"
     ]
    }
   ],
   "source": [
    "solution_example(\"\"\"3\n",
    "2 0 1\n",
    "1 2 0\"\"\") # 2"
   ]
  },
  {
   "cell_type": "code",
   "execution_count": 29,
   "metadata": {},
   "outputs": [
    {
     "name": "stdout",
     "output_type": "stream",
     "text": [
      "2\n"
     ]
    }
   ],
   "source": [
    "solution_example(\"\"\"3\n",
    "2 0 1\n",
    "1 2 0\"\"\") # 2"
   ]
  },
  {
   "cell_type": "code",
   "execution_count": 30,
   "metadata": {},
   "outputs": [
    {
     "name": "stdout",
     "output_type": "stream",
     "text": [
      "0\n"
     ]
    }
   ],
   "source": [
    "solution_example(\"\"\"6\n",
    "0 1 2 0 1 2\n",
    "1 4 0 3 2 5\"\"\") # 0"
   ]
  },
  {
   "cell_type": "code",
   "execution_count": 31,
   "metadata": {},
   "outputs": [
    {
     "name": "stdout",
     "output_type": "stream",
     "text": [
      "-1\n"
     ]
    }
   ],
   "source": [
    "solution_example(\"\"\"3\n",
    "1 0 2\n",
    "0 2 1\"\"\") # -1\n"
   ]
  },
  {
   "cell_type": "code",
   "execution_count": 32,
   "metadata": {},
   "outputs": [
    {
     "name": "stdout",
     "output_type": "stream",
     "text": [
      "59\n"
     ]
    }
   ],
   "source": [
    "solution_example(\"\"\"12\n",
    "1 1 2 0 2 0 1 0 2 2 1 0\n",
    "5 0 9 7 1 8 3 10 4 11 6 2\"\"\") # 59\n"
   ]
  },
  {
   "cell_type": "code",
   "execution_count": 33,
   "metadata": {},
   "outputs": [
    {
     "name": "stdout",
     "output_type": "stream",
     "text": [
      "120119\n"
     ]
    }
   ],
   "source": [
    "# %%timeit -r 100 -n 100\n",
    "solution_example(\"\"\"48\n",
    "1 0 1 2 0 1 2 0 1 2 0 0 2 0 1 2 1 1 2 0 1 2 0 0 2 0 1 2 0 1 2 0 1 2 1 1 2 0 1 2 0 1 2 0 1 2 0 2\n",
    "1 2 3 4 5 6 7 0 9 10 8 12 13 14 15 11 17 18 19 20 21 22 16 24 25 26 27 28 29 30 31 32 33 23 35 36 37 38 39 40 41 42 43 44 45 46 34 47\n",
    "\"\"\") # 120119\n"
   ]
  }
 ],
 "metadata": {
  "interpreter": {
   "hash": "73891b0dc2e53390f36276e59930dd4ecab91b05b5c90320c2d5b1c443f87069"
  },
  "kernelspec": {
   "display_name": "Python 3.10.1 ('venv': venv)",
   "language": "python",
   "name": "python3"
  },
  "language_info": {
   "codemirror_mode": {
    "name": "ipython",
    "version": 3
   },
   "file_extension": ".py",
   "mimetype": "text/x-python",
   "name": "python",
   "nbconvert_exporter": "python",
   "pygments_lexer": "ipython3",
   "version": "3.10.2"
  },
  "orig_nbformat": 4
 },
 "nbformat": 4,
 "nbformat_minor": 2
}
