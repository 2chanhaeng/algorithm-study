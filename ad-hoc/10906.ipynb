{
    "cells": [
        {
            "cell_type": "markdown",
            "metadata": {},
            "source": [
                "# [백준/N-orthotope](https://www.acmicpc.net/problem/10906)\n"
            ]
        },
        {
            "cell_type": "markdown",
            "metadata": {},
            "source": [
                "## 풀이과정\n"
            ]
        },
        {
            "cell_type": "markdown",
            "metadata": {},
            "source": [
                "### 첫번째 시도\n",
                "\n",
                "너무 생각 없이 조건을 걸었다가 틀렸다. 처음 주어지는 도형의 경계값 사이에 두번째 도형의 경계값이 포함되어 있는지만을 검사했기 때문이다.\n"
            ]
        },
        {
            "cell_type": "markdown",
            "metadata": {},
            "source": [
                "#### 풀이과정\n"
            ]
        },
        {
            "cell_type": "code",
            "execution_count": null,
            "metadata": {},
            "outputs": [],
            "source": [
                "def solution():\n",
                "    import sys\n",
                "\n",
                "    inputs = sys.stdin.read().rstrip().split(\"\\n\")\n",
                "    (N,), a, b = [map(int, x.split()) for x in inputs]\n",
                "    result = N\n",
                "    for _ in range(N):\n",
                "        a0, a1 = next(a), next(a)\n",
                "        b0, b1 = next(b), next(b)\n",
                "        if a0 < b0 < a1 or a0 < b1 < a1:\n",
                "            continue\n",
                "        elif a0 == b0 or a0 == b1 or a1 == b0 or a1 == b1:\n",
                "            result -= 1\n",
                "        else:\n",
                "            return print(-1)\n",
                "    print(result)\n",
                "\n",
                "\n",
                "solution()"
            ]
        },
        {
            "cell_type": "markdown",
            "metadata": {},
            "source": [
                "### 두번째 시도\n",
                "\n",
                "조건을 보강하기 위해서는 두번째 도형의 경계값 사이에 첫번째 도형의 경계값이 포함되어 있는지와 두 경계가 동일한지도 검사해야 했다. 그런데 조건을 일일히 추가해보니 코드가 예쁘지도 않고 재미도 없었다. 그래서 진짜 단순하게 두 경계 사이에 겹치는지를 검사하는 방법을 찾아냈다. `set(range(경곗값))` 의 교집합의 길이가 0이면 두 경계가 겹치지 않고, 1이면 맞닿아 있고, 1보다 크면 겹친다. 이를 이용해 코드를 작성했더니 정답이었다.\n"
            ]
        },
        {
            "cell_type": "markdown",
            "metadata": {},
            "source": [
                "#### 풀이과정\n"
            ]
        },
        {
            "cell_type": "code",
            "execution_count": null,
            "metadata": {},
            "outputs": [],
            "source": [
                "def solution():\n",
                "    import sys\n",
                "\n",
                "    inputs = sys.stdin.read().strip().splitlines()\n",
                "    (N,), a, b = [map(int, x.split()) for x in inputs]\n",
                "    result = 0\n",
                "    for _ in range(N):\n",
                "        match len(set(range(next(a), next(a) + 1)) & set(range(next(b), next(b) + 1))):\n",
                "            case 0:\n",
                "                return print(-1)\n",
                "            case 1:\n",
                "                continue\n",
                "            case _:\n",
                "                result += 1\n",
                "    print(result)\n",
                "\n",
                "\n",
                "solution()"
            ]
        },
        {
            "cell_type": "markdown",
            "metadata": {},
            "source": [
                "![2024-09-22 17-37-34 10906번 맞힌 사람 (Python) 1위](<../img/Screenshot%202024-09-22%20at%2017-37-34%2010906번%20맞힌%20사람%20(Python)%20-%201%20페이지.png>)\n"
            ]
        },
        {
            "cell_type": "markdown",
            "metadata": {},
            "source": [
                "## 해답\n"
            ]
        },
        {
            "cell_type": "code",
            "execution_count": 1,
            "metadata": {},
            "outputs": [],
            "source": [
                "def solution():\n",
                "    import sys\n",
                "\n",
                "    inputs = sys.stdin.read().strip().splitlines()\n",
                "    (N,), a, b = [map(int, x.split()) for x in inputs]\n",
                "    result = 0\n",
                "    for _ in range(N):\n",
                "        match len(set(range(next(a), next(a) + 1)) & set(range(next(b), next(b) + 1))):\n",
                "            case 0:\n",
                "                return print(-1)\n",
                "            case 1:\n",
                "                continue\n",
                "            case _:\n",
                "                result += 1\n",
                "    print(result)"
            ]
        },
        {
            "cell_type": "markdown",
            "metadata": {},
            "source": [
                "## 예제\n"
            ]
        },
        {
            "cell_type": "code",
            "execution_count": 2,
            "metadata": {},
            "outputs": [],
            "source": [
                "# 백준 문제 풀이용 예제 실행 코드\n",
                "from bwj import test\n",
                "\n",
                "test_solution = test(solution)\n",
                "\n",
                "# test_solution(\"\"\"\"\"\")\n",
                "# test_solution(read(\"fn\").read())"
            ]
        },
        {
            "cell_type": "code",
            "execution_count": 3,
            "metadata": {},
            "outputs": [
                {
                    "name": "stdout",
                    "output_type": "stream",
                    "text": [
                        "11\n",
                        "10\n",
                        "9\n",
                        "8\n",
                        "7\n",
                        "6\n",
                        "5\n",
                        "4\n",
                        "3\n",
                        "2\n",
                        "1\n",
                        "0\n"
                    ]
                }
            ],
            "source": [
                "for i in range(12):\n",
                "    example = \"11\\n\" + \" \".join([\"0 5\"] * 11) + \"\\n\"\n",
                "    example += \" \".join([\"0 5\"] * (11 - i) + [\"5 10\"] * i) + \"\\n\"\n",
                "    test_solution(example)"
            ]
        },
        {
            "cell_type": "code",
            "execution_count": 4,
            "metadata": {},
            "outputs": [
                {
                    "name": "stdout",
                    "output_type": "stream",
                    "text": [
                        "-1\n"
                    ]
                }
            ],
            "source": [
                "test_solution(\n",
                "    \"\"\"2\n",
                "0 5 0 5\n",
                "6 10 6 10\n",
                "\"\"\"\n",
                ")  # -1"
            ]
        },
        {
            "cell_type": "code",
            "execution_count": 5,
            "metadata": {},
            "outputs": [
                {
                    "name": "stdout",
                    "output_type": "stream",
                    "text": [
                        "2\n"
                    ]
                }
            ],
            "source": [
                "test_solution(\n",
                "    \"\"\"2\n",
                "0 5 0 5\n",
                "2 9 2 9\n",
                "\"\"\"\n",
                ")  # 2"
            ]
        },
        {
            "cell_type": "code",
            "execution_count": 6,
            "metadata": {},
            "outputs": [
                {
                    "name": "stdout",
                    "output_type": "stream",
                    "text": [
                        "0\n"
                    ]
                }
            ],
            "source": [
                "test_solution(\n",
                "    \"\"\"2\n",
                "0 5 0 5\n",
                "5 10 5 10\n",
                "\"\"\"\n",
                ")  # 0"
            ]
        }
    ],
    "metadata": {
        "interpreter": {
            "hash": "73891b0dc2e53390f36276e59930dd4ecab91b05b5c90320c2d5b1c443f87069"
        },
        "kernelspec": {
            "display_name": "Python 3.10.1 ('venv': venv)",
            "language": "python",
            "name": "python3"
        },
        "language_info": {
            "codemirror_mode": {
                "name": "ipython",
                "version": 3
            },
            "file_extension": ".py",
            "mimetype": "text/x-python",
            "name": "python",
            "nbconvert_exporter": "python",
            "pygments_lexer": "ipython3",
            "version": "3.12.4"
        },
        "orig_nbformat": 4
    },
    "nbformat": 4,
    "nbformat_minor": 2
}
