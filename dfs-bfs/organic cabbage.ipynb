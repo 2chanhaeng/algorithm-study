{
 "cells": [
  {
   "cell_type": "markdown",
   "metadata": {},
   "source": [
    "# [사이트/문제_제목](링크)"
   ]
  },
  {
   "cell_type": "markdown",
   "metadata": {},
   "source": [
    "## 풀이과정"
   ]
  },
  {
   "cell_type": "markdown",
   "metadata": {},
   "source": [
    "### 첫번째 시도"
   ]
  },
  {
   "cell_type": "markdown",
   "metadata": {},
   "source": [
    "풀이과정"
   ]
  },
  {
   "cell_type": "code",
   "execution_count": null,
   "metadata": {},
   "outputs": [],
   "source": [
    "import sys;input = sys.stdin.readline\n",
    "tests = int(input())\n",
    "for _ in range(tests):\n",
    "    _, _, cabbages = map(int,input().split())\n",
    "    field = {}\n",
    "    for _ in range(cabbages):\n",
    "        x, y = map(int,input().split())\n",
    "        field[x, y] = frozenset({(x,y)})\n",
    "        for i, j in [(x-1,y),(x+1,y),(x,y-1),(x,y+1)]:\n",
    "            if (i, j) in field:\n",
    "                field[x, y] = field[x, y].union(field[i, j])\n",
    "                field[i, j] = field[x, y]\n",
    "    for cons in field.values():\n",
    "        bunch = frozenset().union(*[field[i] for i in cons])\n",
    "        field |= {con: bunch for con in bunch}\n",
    "    print(len(set(field.values())))"
   ]
  },
  {
   "cell_type": "markdown",
   "metadata": {},
   "source": [
    "### 두번째 시도"
   ]
  },
  {
   "cell_type": "markdown",
   "metadata": {},
   "source": [
    "풀이과정"
   ]
  },
  {
   "cell_type": "code",
   "execution_count": null,
   "metadata": {},
   "outputs": [],
   "source": [
    "import sys;input = sys.stdin.readline;print = sys.stdout.write\n",
    "tests = int(input())\n",
    "for _ in range(tests):\n",
    "    _, _, cabbages = map(int,input().split())\n",
    "    field = {}\n",
    "    for _ in range(cabbages):\n",
    "        x, y = map(int,input().split())\n",
    "        cons = frozenset({(x,y)}).union(*[field[i] for i in [(x-1,y),(x+1,y),(x,y-1),(x,y+1)] if i in field])\n",
    "        field |= {con: cons for con in cons}\n",
    "    print(\"%d\\n\"%len(set(field.values())))"
   ]
  },
  {
   "cell_type": "markdown",
   "metadata": {},
   "source": [
    "## 해답"
   ]
  },
  {
   "cell_type": "code",
   "execution_count": 3,
   "metadata": {},
   "outputs": [],
   "source": [
    "def solution(input):\n",
    "    tests = int(input())\n",
    "    for _ in range(tests):\n",
    "        _, _, cabbages = map(int,input().split())\n",
    "        field = {}\n",
    "        for _ in range(cabbages):\n",
    "            x, y = map(int,input().split())\n",
    "            cons = frozenset({(x,y)}).union(*[field[i] for i in [(x-1,y),(x+1,y),(x,y-1),(x,y+1)] if i in field])\n",
    "            field |= {con: cons for con in cons}\n",
    "        print(len(set(field.values())))\n"
   ]
  },
  {
   "cell_type": "markdown",
   "metadata": {},
   "source": [
    "## 테스트 결과"
   ]
  },
  {
   "cell_type": "markdown",
   "metadata": {},
   "source": [
    "|테스트|결과|\n",
    "|---:|:---|"
   ]
  },
  {
   "cell_type": "markdown",
   "metadata": {},
   "source": [
    "## 예제"
   ]
  },
  {
   "cell_type": "code",
   "execution_count": 4,
   "metadata": {},
   "outputs": [
    {
     "ename": "AttributeError",
     "evalue": "module 'bwj' has no attribute 'execute'",
     "output_type": "error",
     "traceback": [
      "\u001b[1;31m---------------------------------------------------------------------------\u001b[0m",
      "\u001b[1;31mAttributeError\u001b[0m                            Traceback (most recent call last)",
      "\u001b[1;32mc:\\Users\\2chan\\Documents\\GitHub\\algorithm-study\\dfs-bfs\\organic cabbage.ipynb Cell 14'\u001b[0m in \u001b[0;36m<cell line: 3>\u001b[1;34m()\u001b[0m\n\u001b[0;32m      <a href='vscode-notebook-cell:/c%3A/Users/2chan/Documents/GitHub/algorithm-study/dfs-bfs/organic%20cabbage.ipynb#ch0000013?line=0'>1</a>\u001b[0m \u001b[39m# 백준 문제 풀이용 예제 실행 코드\u001b[39;00m\n\u001b[0;32m      <a href='vscode-notebook-cell:/c%3A/Users/2chan/Documents/GitHub/algorithm-study/dfs-bfs/organic%20cabbage.ipynb#ch0000013?line=1'>2</a>\u001b[0m \u001b[39mimport\u001b[39;00m \u001b[39mbwj\u001b[39;00m\n\u001b[1;32m----> <a href='vscode-notebook-cell:/c%3A/Users/2chan/Documents/GitHub/algorithm-study/dfs-bfs/organic%20cabbage.ipynb#ch0000013?line=2'>3</a>\u001b[0m solution_example \u001b[39m=\u001b[39m bwj\u001b[39m.\u001b[39;49mexecute(solution)\n",
      "\u001b[1;31mAttributeError\u001b[0m: module 'bwj' has no attribute 'execute'"
     ]
    }
   ],
   "source": [
    "# 백준 문제 풀이용 예제 실행 코드\n",
    "import bwj\n",
    "solution_example = bwj.execute(solution)\n",
    "# solution_example(\"\"\"\"\"\")\n",
    "# solution_example(read(\"fn\").read())"
   ]
  },
  {
   "cell_type": "code",
   "execution_count": null,
   "metadata": {},
   "outputs": [
    {
     "name": "stdout",
     "output_type": "stream",
     "text": [
      "2\n"
     ]
    }
   ],
   "source": [
    "solution_example(\"\"\"1\n",
    "5 3 6\n",
    "0 2\n",
    "1 2\n",
    "2 2\n",
    "3 2\n",
    "4 2\n",
    "4 0\"\"\") # 2"
   ]
  },
  {
   "cell_type": "code",
   "execution_count": null,
   "metadata": {},
   "outputs": [
    {
     "name": "stdout",
     "output_type": "stream",
     "text": [
      "5\n",
      "1\n"
     ]
    }
   ],
   "source": [
    "solution_example(\"\"\"2\n",
    "10 8 17\n",
    "0 0\n",
    "1 0\n",
    "1 1\n",
    "4 2\n",
    "4 3\n",
    "4 5\n",
    "2 4\n",
    "3 4\n",
    "7 4\n",
    "8 4\n",
    "9 4\n",
    "7 5\n",
    "8 5\n",
    "9 5\n",
    "7 6\n",
    "8 6\n",
    "9 6\n",
    "10 10 1\n",
    "5 5\"\"\") # 5 1"
   ]
  }
 ],
 "metadata": {
  "interpreter": {
   "hash": "73891b0dc2e53390f36276e59930dd4ecab91b05b5c90320c2d5b1c443f87069"
  },
  "kernelspec": {
   "display_name": "Python 3.10.1 ('venv': venv)",
   "language": "python",
   "name": "python3"
  },
  "language_info": {
   "codemirror_mode": {
    "name": "ipython",
    "version": 3
   },
   "file_extension": ".py",
   "mimetype": "text/x-python",
   "name": "python",
   "nbconvert_exporter": "python",
   "pygments_lexer": "ipython3",
   "version": "3.10.1"
  },
  "orig_nbformat": 4
 },
 "nbformat": 4,
 "nbformat_minor": 2
}
