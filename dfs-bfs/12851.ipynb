{
    "cells": [
        {
            "cell_type": "markdown",
            "metadata": {},
            "source": [
                "# [백준/숨바꼭질 2](https://www.acmicpc.net/problem/12851)"
            ]
        },
        {
            "cell_type": "markdown",
            "metadata": {},
            "source": [
                "## 풀이과정"
            ]
        },
        {
            "cell_type": "markdown",
            "metadata": {},
            "source": [
                "### 첫번째 시도"
            ]
        },
        {
            "cell_type": "markdown",
            "metadata": {},
            "source": [
                "#### 풀이과정\n",
                "간단한 버전의 [숨바꼭질](https://www.acmicpc.net/problem/1697) [문제 풀이](dfs-bfs/hide and seek.ipynb)를 변형하여 풀어보았으나, 해당 풀이는 DFS를 기반으로 풀어서 이 문제에 적용하니 시간 초과가 나왔습니다."
            ]
        },
        {
            "cell_type": "code",
            "execution_count": 18,
            "metadata": {},
            "outputs": [],
            "source": [
                "def solution():\n",
                "    import sys\n",
                "    import collections\n",
                "\n",
                "    def nextto(start):\n",
                "        # 다음 단계로 가능한 위치를 반환하는 함수\n",
                "        return [start * 2, start - 1, start + 1]\n",
                "\n",
                "    start, end = map(int, sys.stdin.read().rstrip().split())\n",
                "    # 이미 지나간 곳을 저장하는 집합\n",
                "    visted = {start}\n",
                "    # 경우의 수를 저장하는 카운터\n",
                "    counter = collections.Counter(nextto(start))\n",
                "    # 다음 단계로 갈 곳을 저장하는 집합\n",
                "    goto = set(nextto(start))\n",
                "    # 최대 시작과 도착 위치의 차이만큼 반복\n",
                "    for step in range(abs(start - end) + 1):\n",
                "        if end in visted:\n",
                "            # 도착하면 종료\n",
                "            break\n",
                "        # 지나간 경로를 지나갔던 집합에 추가\n",
                "        visted |= goto\n",
                "        # 다음 단계로 가능한 위치를 일차적으로 구하기\n",
                "        pregoto = sum(map(nextto, goto), [])\n",
                "        # 가능한 위치 중 갈 수 있는 위치에서 경우의 수를 센 카운터\n",
                "        gotocount = collections.Counter(\n",
                "            filter(lambda x: 0 <= x < 100001 and x not in visted, pregoto)\n",
                "        )\n",
                "        # 이번 단계에서 센 경우의 수를 카운터에 더하기\n",
                "        counter += gotocount\n",
                "        # 다음 단계에 갈 곳을 카운터의 키 값에서 추출해서 집합으로 만들기\n",
                "        goto = set(gotocount)\n",
                "\n",
                "    print(step)\n",
                "    print(counter[end])\n",
                "\n",
                "\n",
                "solution()"
            ]
        },
        {
            "cell_type": "code",
            "execution_count": 38,
            "metadata": {},
            "outputs": [],
            "source": [
                "def solution():\n",
                "    import sys\n",
                "    import collections\n",
                "\n",
                "    def nextto(start):\n",
                "        # 다음 단계로 가능한 위치를 반환하는 함수\n",
                "        if start > 100001 or start == 0:\n",
                "            return []\n",
                "        if start > 50001:\n",
                "            return [start - 1, start + 1]\n",
                "        return [start * 2, start - 1, start + 1]\n",
                "\n",
                "    start, end = map(int, sys.stdin.read().rstrip().split())\n",
                "    # 이미 지나간 곳을 저장하는 집합\n",
                "    visted = {start}\n",
                "    # 경우의 수를 저장하는 카운터\n",
                "    counter = collections.Counter(nextto(start) if start != 0 else [1])\n",
                "    # 다음 단계로 갈 곳을 저장하는 집합\n",
                "    goto = set(nextto(start))\n",
                "    # 최대 시작과 도착 위치의 차이만큼 반복\n",
                "    for step in range(abs(start - end) + 1):\n",
                "        if end in visted:\n",
                "            # 도착하면 종료\n",
                "            break\n",
                "        # 지나간 경로를 지나갔던 집합에 추가\n",
                "        visted |= set(goto)\n",
                "        # 다음 단계로 가능한 위치를 일차적으로 구하기\n",
                "        pregoto = sum(map(nextto, goto), [])\n",
                "        # 가능한 위치 중 지나갔던 곳을 제외한 위치의 경우의 수를 센 카운터\n",
                "        goto = collections.Counter(filter(lambda x: x not in visted, pregoto))\n",
                "        # 이번 단계에서 센 경우의 수를 카운터에 더하기\n",
                "        counter += goto\n",
                "\n",
                "    print(step)\n",
                "    print(counter[end])\n",
                "\n",
                "\n",
                "solution()"
            ]
        },
        {
            "cell_type": "markdown",
            "metadata": {},
            "source": [
                "### 두번째 시도"
            ]
        },
        {
            "cell_type": "markdown",
            "metadata": {},
            "source": [
                "#### 풀이과정\n",
                "구글링을 통하여 [다른 사람의 풀이](https://honggom.tistory.com/168)를 읽어보며 어떻게 풀어야할 지 감을 잡은 뒤에 BFS를 이용하여 작성하였다."
            ]
        },
        {
            "cell_type": "code",
            "execution_count": 97,
            "metadata": {},
            "outputs": [],
            "source": [
                "def solution():\n",
                "    import sys\n",
                "    import collections\n",
                "\n",
                "    start, end = map(int, sys.stdin.read().rstrip().split())\n",
                "    # 이미 지나간 곳을 저장하는 집합\n",
                "    visited = set()\n",
                "    # 지나갈 곳과 걸린 거리를 저장하는 큐\n",
                "    visitto = collections.deque([(start, 0)])\n",
                "    # 최소 거리로 도착지에 도착하는 경우의 수를 저장하는 카운터\n",
                "    counter = 0\n",
                "    # 시작점과 도착점의 거리를 최소 거리로 초기화\n",
                "    min_count = abs(start - end) + 1\n",
                "\n",
                "    # 지나갈 곳의 큐가 빌 때까지 반복\n",
                "    while visitto:\n",
                "        # 지나갈 곳을 뽑기\n",
                "        now, dist = visitto.popleft()\n",
                "        # 지나간 곳에 추가\n",
                "        visited.add(now)\n",
                "\n",
                "        if min_dist < dist:\n",
                "            # 최소 거리를 넘어서면 바로 다음 단계로\n",
                "            continue\n",
                "        if now == end:\n",
                "            # 도착지에 도착했을 경우\n",
                "            if min_dist == dist:\n",
                "                # 거리가 최소 거리인 경우\n",
                "                counter += 1\n",
                "                # 카운터 하나 세기\n",
                "            else:\n",
                "                # 아니면 더 적은 거리로 도착했다는 뜻이므로\n",
                "                min_dist = dist\n",
                "                # 최소 거리를 현재 거리로 업데이트 하고\n",
                "                counter = 1\n",
                "                # 카운터를 1로 초기화\n",
                "            continue\n",
                "        for goto in [now + 1, now - 1, now * 2]:\n",
                "            # 다음 단계로 가능한 곳들 중에서\n",
                "            if 0 <= goto <= 100000 and goto not in visited:\n",
                "                # 0과 100000 사이의 지나가지 않은 곳이면\n",
                "                visitto.append((goto, dist + 1))\n",
                "                # 가야하는 곳에 추가\n",
                "\n",
                "    print(min_dist, counter)\n",
                "\n",
                "\n",
                "solution()"
            ]
        },
        {
            "cell_type": "markdown",
            "metadata": {},
            "source": [
                "## 해답"
            ]
        },
        {
            "cell_type": "code",
            "execution_count": 9,
            "metadata": {},
            "outputs": [],
            "source": [
                "from collections import deque"
            ]
        },
        {
            "cell_type": "code",
            "execution_count": 95,
            "metadata": {},
            "outputs": [],
            "source": [
                "def solution():\n",
                "    start, end = map(int, input().split())\n",
                "    visited = set()\n",
                "    visitto = deque([(start, 0)])\n",
                "    counter = 0\n",
                "    min_count = abs(start - end) + 1\n",
                "\n",
                "    while visitto:\n",
                "        now, count = visitto.popleft()\n",
                "        visited.add(now)\n",
                "\n",
                "        if min_count < count:\n",
                "            continue\n",
                "        if now == end:\n",
                "            if min_count == count:\n",
                "                counter += 1\n",
                "            else:\n",
                "                min_count = count\n",
                "                counter = 1\n",
                "            continue\n",
                "        for goto in [now + 1, now - 1, now * 2]:\n",
                "            if 0 <= goto <= 100000 and goto not in visited:\n",
                "                visitto.append((goto, count + 1))\n",
                "\n",
                "    print(min_count, counter)\n",
                "\n",
                "\n",
                "solution()"
            ]
        },
        {
            "cell_type": "markdown",
            "metadata": {},
            "source": [
                "## 예제"
            ]
        },
        {
            "cell_type": "code",
            "execution_count": 86,
            "metadata": {},
            "outputs": [],
            "source": [
                "# 백준 문제 풀이용 예제 실행 코드\n",
                "from bwj import test\n",
                "test_solution = test(solution)\n",
                "\n",
                "# test_solution(\"\"\"\"\"\")\n",
                "# test_solution(read(\"fn\").read())"
            ]
        },
        {
            "cell_type": "code",
            "execution_count": 90,
            "metadata": {},
            "outputs": [
                {
                    "name": "stdout",
                    "output_type": "stream",
                    "text": [
                        "4 2\n"
                    ]
                }
            ],
            "source": [
                "test_solution(\"\"\"5 17\"\"\")\n",
                "# answer:\n",
                "# 4\n",
                "# 2"
            ]
        },
        {
            "cell_type": "code",
            "execution_count": 92,
            "metadata": {},
            "outputs": [
                {
                    "name": "stdout",
                    "output_type": "stream",
                    "text": [
                        "5 2\n"
                    ]
                }
            ],
            "source": [
                "test_solution(\"\"\"0 16\"\"\")\n",
                "# answer:\n",
                "# 5\n",
                "# 2"
            ]
        }
    ],
    "metadata": {
        "interpreter": {
            "hash": "72904a014a9ffe38f4c58942120b599b3c5a87d06764037548e0139929c1cde3"
        },
        "kernelspec": {
            "display_name": "Python 3.10.4 ('venv': venv)",
            "language": "python",
            "name": "python3"
        },
        "language_info": {
            "codemirror_mode": {
                "name": "ipython",
                "version": 3
            },
            "file_extension": ".py",
            "mimetype": "text/x-python",
            "name": "python",
            "nbconvert_exporter": "python",
            "pygments_lexer": "ipython3",
            "version": "3.10.4"
        },
        "orig_nbformat": 4
    },
    "nbformat": 4,
    "nbformat_minor": 2
}
