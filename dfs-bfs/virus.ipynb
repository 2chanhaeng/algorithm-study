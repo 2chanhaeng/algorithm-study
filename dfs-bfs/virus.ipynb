{
 "cells": [
  {
   "cell_type": "markdown",
   "metadata": {},
   "source": [
    "# [백준/바이러스](https://www.acmicpc.net/problem/2606)"
   ]
  },
  {
   "cell_type": "markdown",
   "metadata": {},
   "source": [
    "## 풀이과정"
   ]
  },
  {
   "cell_type": "markdown",
   "metadata": {},
   "source": [
    "### 첫번째 시도"
   ]
  },
  {
   "cell_type": "markdown",
   "metadata": {},
   "source": [
    "풀이과정"
   ]
  },
  {
   "cell_type": "code",
   "execution_count": null,
   "metadata": {},
   "outputs": [],
   "source": [
    "import sys;input = lambda: sys.stdin.readline().rstrip()\n",
    "graph = {node: set() for node in range(1, int(input()) + 1)}\n",
    "for line in range(int(input())):\n",
    "    a, b = map(int,input().split())\n",
    "    graph[a].add(b)\n",
    "    graph[b].add(a)\n",
    "togo = graph[1]\n",
    "visited = {1} | togo\n",
    "while togo:\n",
    "    toadd = set().union(*map(graph.__getitem__, togo))\n",
    "    togo = toadd - visited\n",
    "    visited |= togo\n",
    "print(len(visited) - 1)"
   ]
  },
  {
   "cell_type": "markdown",
   "metadata": {},
   "source": [
    "## 해답"
   ]
  },
  {
   "cell_type": "code",
   "execution_count": 71,
   "metadata": {},
   "outputs": [],
   "source": [
    "def solution(input):\n",
    "    graph = {node: set() for node in range(1, int(input()) + 1)}\n",
    "    for line in range(int(input())):\n",
    "        a, b = map(int,input().split())\n",
    "        graph[a].add(b)\n",
    "        graph[b].add(a)\n",
    "    togo = graph[1]\n",
    "    visited = {1} | togo\n",
    "    while togo:\n",
    "        toadd = set().union(*map(graph.__getitem__, togo))\n",
    "        togo = toadd - visited\n",
    "        visited |= togo\n",
    "    print(len(visited) - 1)\n"
   ]
  },
  {
   "cell_type": "markdown",
   "metadata": {},
   "source": [
    "## 테스트 결과"
   ]
  },
  {
   "cell_type": "markdown",
   "metadata": {},
   "source": [
    "|테스트|결과|\n",
    "|---:|:---|"
   ]
  },
  {
   "cell_type": "markdown",
   "metadata": {},
   "source": [
    "## 예제"
   ]
  },
  {
   "cell_type": "code",
   "execution_count": 72,
   "metadata": {},
   "outputs": [],
   "source": [
    "# 백준 문제 풀이용 예제 실행 코드\n",
    "from inspect import signature\n",
    "def solution_example(input_ = None, solution=solution):\n",
    "    params = signature(solution).parameters\n",
    "    if input_ == None:\n",
    "        solution()\n",
    "    elif 'open' in params:\n",
    "        class open:\n",
    "            def __init__(self, x):\n",
    "                self.read = lambda: input_\n",
    "            def __iter__(self):\n",
    "                return iter(input_.split(\"\\n\"))\n",
    "        solution(open)\n",
    "    elif 'input' in params:\n",
    "        input_ = iter(input_.split(\"\\n\"))\n",
    "        input = input_.__next__\n",
    "        solution(input)\n",
    "    else:\n",
    "        raise NameError(f'solution 함수가 input, open 등의 매개변수를 받지 않습니다.\\nsolution 의 매개변수: {params}')\n",
    "    \n",
    "        \n",
    "# solution_example(\"\"\"\"\"\")\n",
    "# solution_example(read(\"fn\").read())"
   ]
  },
  {
   "cell_type": "code",
   "execution_count": 73,
   "metadata": {},
   "outputs": [
    {
     "name": "stdout",
     "output_type": "stream",
     "text": [
      "1\n"
     ]
    }
   ],
   "source": [
    "solution_example(\"\"\"2\n",
    "1\n",
    "2 1\"\"\") # 1"
   ]
  },
  {
   "cell_type": "code",
   "execution_count": 74,
   "metadata": {},
   "outputs": [
    {
     "name": "stdout",
     "output_type": "stream",
     "text": [
      "6\n"
     ]
    }
   ],
   "source": [
    "solution_example(\"\"\"10\n",
    "7\n",
    "1 2\n",
    "2 3\n",
    "3 4 \n",
    "5 6\n",
    "7 8\n",
    "8 9\n",
    "9 1\"\"\") # 6"
   ]
  },
  {
   "cell_type": "code",
   "execution_count": 75,
   "metadata": {},
   "outputs": [
    {
     "name": "stdout",
     "output_type": "stream",
     "text": [
      "2\n"
     ]
    }
   ],
   "source": [
    "solution_example(\"\"\"5\n",
    "3\n",
    "4 5\n",
    "1 2\n",
    "2 3\"\"\") # 2"
   ]
  },
  {
   "cell_type": "code",
   "execution_count": 76,
   "metadata": {},
   "outputs": [
    {
     "name": "stdout",
     "output_type": "stream",
     "text": [
      "3\n"
     ]
    }
   ],
   "source": [
    "solution_example(\"\"\"4\n",
    "6\n",
    "1 2\n",
    "1 3\n",
    "1 4\n",
    "2 3\n",
    "2 4\n",
    "3 4\"\"\") # 3"
   ]
  },
  {
   "cell_type": "code",
   "execution_count": 77,
   "metadata": {},
   "outputs": [
    {
     "name": "stdout",
     "output_type": "stream",
     "text": [
      "4\n"
     ]
    }
   ],
   "source": [
    "solution_example(\"\"\"7\n",
    "6\n",
    "2 3\n",
    "1 2\n",
    "1 5\n",
    "5 2\n",
    "5 6\n",
    "4 7\"\"\") # 4"
   ]
  },
  {
   "cell_type": "code",
   "execution_count": 78,
   "metadata": {},
   "outputs": [
    {
     "name": "stdout",
     "output_type": "stream",
     "text": [
      "0\n",
      "0\n"
     ]
    }
   ],
   "source": [
    "solution_example(\"\"\"1\n",
    "0\"\"\") # 0\n",
    "solution_example(\"\"\"10\n",
    "0\"\"\") # 0"
   ]
  },
  {
   "cell_type": "code",
   "execution_count": 79,
   "metadata": {},
   "outputs": [
    {
     "name": "stdout",
     "output_type": "stream",
     "text": [
      "3\n"
     ]
    }
   ],
   "source": [
    "solution_example(\"\"\"4\n",
    "3\n",
    "1 2\n",
    "4 3\n",
    "2 3\"\"\") # 3"
   ]
  },
  {
   "cell_type": "code",
   "execution_count": 80,
   "metadata": {},
   "outputs": [
    {
     "name": "stdout",
     "output_type": "stream",
     "text": [
      "4\n"
     ]
    }
   ],
   "source": [
    "solution_example(\"\"\"7\n",
    "6\n",
    "1 2\n",
    "2 3\n",
    "1 5\n",
    "5 2\n",
    "5 6\n",
    "4 7\"\"\") # 4"
   ]
  }
 ],
 "metadata": {
  "interpreter": {
   "hash": "73891b0dc2e53390f36276e59930dd4ecab91b05b5c90320c2d5b1c443f87069"
  },
  "kernelspec": {
   "display_name": "Python 3.10.1 ('venv': venv)",
   "language": "python",
   "name": "python3"
  },
  "language_info": {
   "codemirror_mode": {
    "name": "ipython",
    "version": 3
   },
   "file_extension": ".py",
   "mimetype": "text/x-python",
   "name": "python",
   "nbconvert_exporter": "python",
   "pygments_lexer": "ipython3",
   "version": "3.10.1"
  },
  "orig_nbformat": 4
 },
 "nbformat": 4,
 "nbformat_minor": 2
}
