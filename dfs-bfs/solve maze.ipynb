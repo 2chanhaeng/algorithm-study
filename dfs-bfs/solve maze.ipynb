{
    "cells": [
        {
            "cell_type": "markdown",
            "metadata": {},
            "source": [
                "# [백준/미로 탐색](https://www.acmicpc.net/problem/2178)"
            ]
        },
        {
            "cell_type": "markdown",
            "metadata": {},
            "source": [
                "## 풀이과정"
            ]
        },
        {
            "cell_type": "markdown",
            "metadata": {},
            "source": [
                "### 첫번째 시도"
            ]
        },
        {
            "cell_type": "markdown",
            "metadata": {},
            "source": [
                "풀이과정"
            ]
        },
        {
            "cell_type": "code",
            "execution_count": 29,
            "metadata": {},
            "outputs": [],
            "source": [
                "import sys;input = lambda: sys.stdin.readline().rstrip();print = lambda x: sys.stdout.write(str(x)+\"\\n\")\n",
                "rows, cols = map(int, input().split())\n",
                "maze = [list(map(int, input())) for _ in range(rows)]\n",
                "roads = set()\n",
                "for col in range(cols):\n",
                "    for row in range(rows):\n",
                "        if maze[row][col]:\n",
                "            roads.add((row, col))\n",
                "visted = set()\n",
                "tovisit = {(0, 0)}\n",
                "target = (rows - 1, cols - 1)\n",
                "for walks in range(1, rows * cols):\n",
                "    roads -= tovisit\n",
                "    visted |= tovisit\n",
                "    new = set()\n",
                "    for x, y in tovisit:\n",
                "        new |= {(x + 1, y), (x - 1, y), (x, y + 1), (x, y - 1)}\n",
                "    tovisit = new & roads\n",
                "    if target in tovisit:\n",
                "        print(walks + 1)"
            ]
        },
        {
            "cell_type": "markdown",
            "metadata": {},
            "source": [
                "## 해답"
            ]
        },
        {
            "cell_type": "code",
            "execution_count": 23,
            "metadata": {},
            "outputs": [],
            "source": [
                "def solution(input):\n",
                "    rows, cols = map(int, input().split())\n",
                "    maze = [list(map(int, input())) for _ in range(rows)]\n",
                "    roads = set()\n",
                "    for col in range(cols):\n",
                "        for row in range(rows):\n",
                "            if maze[row][col]:\n",
                "                roads.add((row, col))\n",
                "    visted = set()\n",
                "    # for (x, y), value in roads.items():\n",
                "    #     [empty, changed][value].add((x, y))\n",
                "    #     if value == 1:\n",
                "    #         tovisit |= {(x + 1, y), (x - 1, y), (x, y + 1), (x, y - 1)}\n",
                "    tovisit = {(0,0)}\n",
                "    target = (rows - 1, cols - 1)\n",
                "    for walks in range(1, rows * cols):\n",
                "        roads -= tovisit\n",
                "        visted |= tovisit\n",
                "        new = set()\n",
                "        for x, y in tovisit:\n",
                "            new |= {(x + 1, y), (x - 1, y), (x, y + 1), (x, y - 1)}\n",
                "        tovisit = new & roads\n",
                "        if target in tovisit:\n",
                "            print(walks + 1)"
            ]
        },
        {
            "cell_type": "markdown",
            "metadata": {},
            "source": [
                "## 예제"
            ]
        },
        {
            "cell_type": "code",
            "execution_count": 24,
            "metadata": {},
            "outputs": [],
            "source": [
                "# 백준 문제 풀이용 예제 실행 코드\n",
                "from bwj import test\n",
                "test_solution = test(solution)\n",
                "\n",
                "# test_solution(\"\"\"\"\"\")\n",
                "# test_solution(read(\"fn\").read())"
            ]
        },
        {
            "cell_type": "code",
            "execution_count": 25,
            "metadata": {},
            "outputs": [
                {
                    "name": "stdout",
                    "output_type": "stream",
                    "text": [
                        "15\n"
                    ]
                }
            ],
            "source": [
                "test_solution(\"\"\"4 6\n",
                "101111\n",
                "101010\n",
                "101011\n",
                "111011\"\"\") # 15"
            ]
        },
        {
            "cell_type": "code",
            "execution_count": 26,
            "metadata": {},
            "outputs": [
                {
                    "name": "stdout",
                    "output_type": "stream",
                    "text": [
                        "9\n"
                    ]
                }
            ],
            "source": [
                "test_solution(\"\"\"4 6\n",
                "110110\n",
                "110110\n",
                "111111\n",
                "111101\"\"\") # 9"
            ]
        },
        {
            "cell_type": "code",
            "execution_count": 27,
            "metadata": {},
            "outputs": [
                {
                    "name": "stdout",
                    "output_type": "stream",
                    "text": [
                        "38\n"
                    ]
                }
            ],
            "source": [
                "test_solution(\"\"\"2 25\n",
                "1011101110111011101110111\n",
                "1110111011101110111011101\"\"\") # 38"
            ]
        },
        {
            "cell_type": "code",
            "execution_count": 28,
            "metadata": {},
            "outputs": [
                {
                    "name": "stdout",
                    "output_type": "stream",
                    "text": [
                        "13\n"
                    ]
                }
            ],
            "source": [
                "test_solution(\"\"\"7 7\n",
                "1011111\n",
                "1110001\n",
                "1000001\n",
                "1000001\n",
                "1000001\n",
                "1000001\n",
                "1111111\"\"\") # 13"
            ]
        }
    ],
    "metadata": {
        "interpreter": {
            "hash": "73891b0dc2e53390f36276e59930dd4ecab91b05b5c90320c2d5b1c443f87069"
        },
        "kernelspec": {
            "display_name": "Python 3.10.1 ('venv': venv)",
            "language": "python",
            "name": "python3"
        },
        "language_info": {
            "codemirror_mode": {
                "name": "ipython",
                "version": 3
            },
            "file_extension": ".py",
            "mimetype": "text/x-python",
            "name": "python",
            "nbconvert_exporter": "python",
            "pygments_lexer": "ipython3",
            "version": "3.10.2"
        },
        "orig_nbformat": 4
    },
    "nbformat": 4,
    "nbformat_minor": 2
}
