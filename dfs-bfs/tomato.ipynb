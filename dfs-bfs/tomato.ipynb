{
 "cells": [
  {
   "cell_type": "markdown",
   "metadata": {},
   "source": [
    "# [백준/토마토](https://www.acmicpc.net/problem/7576)"
   ]
  },
  {
   "cell_type": "markdown",
   "metadata": {},
   "source": [
    "## 풀이과정"
   ]
  },
  {
   "cell_type": "markdown",
   "metadata": {},
   "source": [
    "### 첫번째 시도"
   ]
  },
  {
   "cell_type": "markdown",
   "metadata": {},
   "source": [
    "풀이과정"
   ]
  },
  {
   "cell_type": "code",
   "execution_count": 28,
   "metadata": {},
   "outputs": [],
   "source": [
    "import sys\n",
    "\n",
    "input = lambda: sys.stdin.readline().rstrip()\n",
    "print = lambda x: sys.stdout.write(str(x) + \"\\n\")\n",
    "\n",
    "cols, rows = map(int, input().split())\n",
    "tomato_list = [list(map(int, input().split())) for _ in range(rows)]\n",
    "tomatoes = {\n",
    "    (row, col): tomato_list[row][col] for col in range(cols) for row in range(rows)\n",
    "}\n",
    "days = 0\n",
    "empty, changed = set(), set()\n",
    "tochange = set()\n",
    "for (x, y), value in tomatoes.items():\n",
    "    [empty, changed][value].add((x, y))\n",
    "    if value == 1:\n",
    "        tochange |= {(x + 1, y), (x - 1, y), (x, y + 1), (x, y - 1)}\n",
    "tochange = (tochange & empty) - changed\n",
    "for _ in range(rows * cols):\n",
    "    if not tochange:\n",
    "        break\n",
    "    empty -= tochange\n",
    "    changed |= tochange\n",
    "    new = set()\n",
    "    for x, y in tochange:\n",
    "        new |= {(x + 1, y), (x - 1, y), (x, y + 1), (x, y - 1)}\n",
    "    tochange = new & empty\n",
    "    days += 1\n",
    "if empty:\n",
    "    print(-1)\n",
    "else:\n",
    "    print(days)"
   ]
  },
  {
   "cell_type": "code",
   "execution_count": 2,
   "metadata": {},
   "outputs": [],
   "source": [
    "import sys\n",
    "\n",
    "\n",
    "def solution(inputs=iter(sys.stdin.read().split(\"\\n\"))):\n",
    "    cols, rows = map(int, next(inputs).split())\n",
    "    tomato_list = [list(map(int, input.split())) for input in inputs]\n",
    "    tomatoes = {\n",
    "        (row, col): tomato_list[row][col] for col in range(cols) for row in range(rows)\n",
    "    }\n",
    "    days = 0\n",
    "    empty, changed = set(), set()\n",
    "    tochange = set()\n",
    "    for (x, y), value in tomatoes.items():\n",
    "        [empty, changed][value].add((x, y))\n",
    "        if value == 1:\n",
    "            tochange |= {(x + 1, y), (x - 1, y), (x, y + 1), (x, y - 1)}\n",
    "    tochange = (tochange & empty) - changed\n",
    "    for _ in range(rows * cols):\n",
    "        if not tochange:\n",
    "            break\n",
    "        empty -= tochange\n",
    "        changed |= tochange\n",
    "        new = set()\n",
    "        for x, y in tochange:\n",
    "            new |= {(x + 1, y), (x - 1, y), (x, y + 1), (x, y - 1)}\n",
    "        tochange = new & empty\n",
    "        days += 1\n",
    "    if empty:\n",
    "        print(-1)\n",
    "    else:\n",
    "        print(days)\n",
    "\n",
    "\n",
    "solution()"
   ]
  },
  {
   "cell_type": "markdown",
   "metadata": {},
   "source": [
    "## 해답"
   ]
  },
  {
   "cell_type": "code",
   "execution_count": 26,
   "metadata": {},
   "outputs": [],
   "source": [
    "def solution(input):\n",
    "    cols, rows = map(int, input().split())\n",
    "    tomato_list = [list(map(int, input().split())) for _ in range(rows)]\n",
    "    tomatoes = {\n",
    "        (row, col): tomato_list[row][col] for col in range(cols) for row in range(rows)\n",
    "    }\n",
    "    days = 0\n",
    "    empty, changed = set(), set()\n",
    "    tochange = set()\n",
    "    for (x, y), value in tomatoes.items():\n",
    "        [empty, changed][value].add((x, y))\n",
    "        if value == 1:\n",
    "            tochange |= {(x + 1, y), (x - 1, y), (x, y + 1), (x, y - 1)}\n",
    "    tochange = (tochange & empty) - changed\n",
    "    for _ in range(rows * cols):\n",
    "        if not tochange:\n",
    "            break\n",
    "        empty -= tochange\n",
    "        changed |= tochange\n",
    "        new = set()\n",
    "        for x, y in tochange:\n",
    "            new |= {(x + 1, y), (x - 1, y), (x, y + 1), (x, y - 1)}\n",
    "        tochange = new & empty\n",
    "        days += 1\n",
    "    if empty:\n",
    "        print(-1)\n",
    "    else:\n",
    "        print(days)"
   ]
  },
  {
   "cell_type": "markdown",
   "metadata": {},
   "source": [
    "## 테스트 결과"
   ]
  },
  {
   "cell_type": "markdown",
   "metadata": {},
   "source": [
    "|테스트|결과|\n",
    "|---:|:---|"
   ]
  },
  {
   "cell_type": "markdown",
   "metadata": {},
   "source": [
    "## 예제"
   ]
  },
  {
   "cell_type": "code",
   "execution_count": 25,
   "metadata": {},
   "outputs": [],
   "source": [
    "# 백준 문제 풀이용 예제 실행 코드\n",
    "from inspect import signature\n",
    "def solution_example(input_ = None, solution=solution):\n",
    "    params = signature(solution).parameters\n",
    "    if input_ == None:\n",
    "        solution()\n",
    "    elif 'open' in params:\n",
    "        class open:\n",
    "            def __init__(self, _):\n",
    "                self.read = lambda: input_\n",
    "            def __iter__(self):\n",
    "                return iter(input_.split(\"\\n\"))\n",
    "        solution(open)\n",
    "    elif 'input' in params:\n",
    "        input_ = iter(input_.split(\"\\n\"))\n",
    "        input = input_.__next__\n",
    "        solution(input)\n",
    "    else:\n",
    "        raise NameError(f'solution 함수가 input, open 등의 매개변수를 받지 않습니다.\\nsolution 의 매개변수: {params}')\n",
    "\n",
    "%load_ext blackcellmagic\n",
    "# %%black\n",
    "# solution_example(\"\"\"\"\"\")\n",
    "# solution_example(read(\"fn\").read())"
   ]
  },
  {
   "cell_type": "code",
   "execution_count": 15,
   "metadata": {},
   "outputs": [
    {
     "name": "stdout",
     "output_type": "stream",
     "text": [
      "1\n"
     ]
    }
   ],
   "source": [
    "solution_example(\"\"\"2 2\n",
    "1 0\n",
    "0 1\"\"\") # 1"
   ]
  },
  {
   "cell_type": "code",
   "execution_count": 16,
   "metadata": {},
   "outputs": [
    {
     "name": "stdout",
     "output_type": "stream",
     "text": [
      "1\n"
     ]
    }
   ],
   "source": [
    "solution_example(\"\"\"4 1\n",
    "1 0 0 1\"\"\") # 1"
   ]
  },
  {
   "cell_type": "code",
   "execution_count": 17,
   "metadata": {},
   "outputs": [
    {
     "name": "stdout",
     "output_type": "stream",
     "text": [
      "-1\n",
      "-1\n",
      "-1\n"
     ]
    }
   ],
   "source": [
    "solution_example(\"\"\"1 1\n",
    "0\"\"\") # -1\n",
    "solution_example(\"\"\"2 2\n",
    "0 0\n",
    "0 0\"\"\") # -1\n",
    "solution_example(\"\"\"3 3\n",
    "0 0 0\n",
    "0 0 0\n",
    "0 0 0\"\"\") # -1"
   ]
  },
  {
   "cell_type": "code",
   "execution_count": 18,
   "metadata": {},
   "outputs": [
    {
     "name": "stdout",
     "output_type": "stream",
     "text": [
      "0\n"
     ]
    }
   ],
   "source": [
    "solution_example(\"\"\"3 3\n",
    "1 1 1\n",
    "1 1 1\n",
    "1 1 1\"\"\") # 0"
   ]
  },
  {
   "cell_type": "code",
   "execution_count": 19,
   "metadata": {},
   "outputs": [
    {
     "name": "stdout",
     "output_type": "stream",
     "text": [
      "-1\n"
     ]
    }
   ],
   "source": [
    "solution_example(\"\"\"5 1\n",
    "1 0 -1 0 0\"\"\") # -1"
   ]
  },
  {
   "cell_type": "code",
   "execution_count": 20,
   "metadata": {},
   "outputs": [
    {
     "name": "stdout",
     "output_type": "stream",
     "text": [
      "8\n"
     ]
    }
   ],
   "source": [
    "solution_example(\"\"\"6 4\n",
    "0 0 0 0 0 0\n",
    "0 0 0 0 0 0\n",
    "0 0 0 0 0 0\n",
    "0 0 0 0 0 1\"\"\") # 8"
   ]
  },
  {
   "cell_type": "code",
   "execution_count": 21,
   "metadata": {},
   "outputs": [
    {
     "name": "stdout",
     "output_type": "stream",
     "text": [
      "-1\n"
     ]
    }
   ],
   "source": [
    "solution_example(\"\"\"6 4\n",
    "0 -1 0 0 0 0\n",
    "-1 0 0 0 0 0\n",
    "0 0 0 0 0 0\n",
    "0 0 0 0 0 1\"\"\") # -1"
   ]
  },
  {
   "cell_type": "code",
   "execution_count": 22,
   "metadata": {},
   "outputs": [
    {
     "name": "stdout",
     "output_type": "stream",
     "text": [
      "6\n"
     ]
    }
   ],
   "source": [
    "solution_example(\"\"\"6 4\n",
    "1 -1 0 0 0 0\n",
    "0 -1 0 0 0 0\n",
    "0 0 0 0 -1 0\n",
    "0 0 0 0 -1 1\"\"\") # 6"
   ]
  },
  {
   "cell_type": "code",
   "execution_count": 23,
   "metadata": {},
   "outputs": [
    {
     "name": "stdout",
     "output_type": "stream",
     "text": [
      "14\n"
     ]
    }
   ],
   "source": [
    "solution_example(\"\"\"5 5\n",
    "-1 1 0 0 0\n",
    "0 -1 -1 -1 0\n",
    "0 -1 -1 -1 0\n",
    "0 -1 -1 -1 0\n",
    "0 0 0 0 0\"\"\") # 14"
   ]
  },
  {
   "cell_type": "code",
   "execution_count": 24,
   "metadata": {},
   "outputs": [
    {
     "name": "stdout",
     "output_type": "stream",
     "text": [
      "0\n"
     ]
    }
   ],
   "source": [
    "solution_example(\"\"\"2 2\n",
    "1 -1\n",
    "-1 1\"\"\") # 0"
   ]
  }
 ],
 "metadata": {
  "interpreter": {
   "hash": "6f343a80023390f07f657f7b7b783138624f73d36da2400954869fbeb113b94b"
  },
  "kernelspec": {
   "display_name": "Python 3.10.2 ('venv': venv)",
   "language": "python",
   "name": "python3"
  },
  "language_info": {
   "codemirror_mode": {
    "name": "ipython",
    "version": 3
   },
   "file_extension": ".py",
   "mimetype": "text/x-python",
   "name": "python",
   "nbconvert_exporter": "python",
   "pygments_lexer": "ipython3",
   "version": "3.10.2"
  },
  "orig_nbformat": 4
 },
 "nbformat": 4,
 "nbformat_minor": 2
}
