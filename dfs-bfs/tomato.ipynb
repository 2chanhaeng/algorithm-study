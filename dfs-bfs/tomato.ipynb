{
 "cells": [
  {
   "cell_type": "markdown",
   "metadata": {},
   "source": [
    "# [백준/토마토](https://www.acmicpc.net/problem/7576)"
   ]
  },
  {
   "cell_type": "markdown",
   "metadata": {},
   "source": [
    "## 풀이과정"
   ]
  },
  {
   "cell_type": "markdown",
   "metadata": {},
   "source": [
    "### 첫번째 시도"
   ]
  },
  {
   "cell_type": "markdown",
   "metadata": {},
   "source": [
    "풀이과정"
   ]
  },
  {
   "cell_type": "code",
   "execution_count": null,
   "metadata": {},
   "outputs": [],
   "source": [
    "import sys;input = lambda: sys.stdin.readline().rstrip();print = lambda x: sys.stdout.write(str(x)+\"\\n\")\n",
    "cols, rows = map(int,input().split())\n",
    "tomato_list = [list(map(int, input().split())) for _ in range(rows)]\n",
    "tomatoes = {(row, col):tomato_list[row][col] for col in range(cols) for row in range(rows)}\n",
    "days = 0\n",
    "empty, changed = set(), set()\n",
    "tochange = set()\n",
    "for (x, y), value in tomatoes.items():\n",
    "    [empty, changed][value].add((x, y))\n",
    "    if value == 1:\n",
    "        tochange |= {(x + 1, y), (x - 1, y), (x, y + 1), (x, y - 1)}\n",
    "tochange = (tochange & empty) - changed\n",
    "for _ in range(rows * cols):\n",
    "    if not tochange: break\n",
    "    empty -= tochange\n",
    "    changed |= tochange\n",
    "    new = set()\n",
    "    for x, y in tochange:\n",
    "        new |= {(x + 1, y), (x - 1, y), (x, y + 1), (x, y - 1)}\n",
    "    tochange = new & empty\n",
    "    days += 1\n",
    "if empty: print(-1)\n",
    "else: print(days)"
   ]
  },
  {
   "cell_type": "markdown",
   "metadata": {},
   "source": [
    "## 해답"
   ]
  },
  {
   "cell_type": "code",
   "execution_count": 26,
   "metadata": {},
   "outputs": [
    {
     "name": "stderr",
     "output_type": "stream",
     "text": [
      "UsageError: Cell magic `%%black` not found.\n"
     ]
    }
   ],
   "source": [
    "%%black\n",
    "import os\n",
    "print(os.path.dirname(\"\"))\n",
    "print(os.path.abspath(\"\"))"
   ]
  },
  {
   "cell_type": "code",
   "execution_count": 1,
   "metadata": {},
   "outputs": [
    {
     "name": "stdout",
     "output_type": "stream",
     "text": [
      "1 2 1\n"
     ]
    }
   ],
   "source": [
    "tomatoes = {(1,2):1}\n",
    "for (x,y), value in tomatoes.items():\n",
    "    print(x, y, value)\n"
   ]
  },
  {
   "cell_type": "code",
   "execution_count": 202,
   "metadata": {},
   "outputs": [],
   "source": [
    "def solution(input):\n",
    "    cols, rows = map(int,input().split())\n",
    "    tomato_list = [list(map(int, input().split())) for _ in range(rows)]\n",
    "    tomatoes = {(row, col):tomato_list[row][col] for col in range(cols) for row in range(rows)}\n",
    "    days = 0\n",
    "    # coors = set()\n",
    "    empty, changed = set(), set()\n",
    "    tochange = set()\n",
    "    for (x, y), value in tomatoes.items():\n",
    "        # coors.add((x, y))\n",
    "        [empty, changed][value].add((x, y))\n",
    "        if value == 1:\n",
    "            tochange |= {(x + 1, y), (x - 1, y), (x, y + 1), (x, y - 1)}\n",
    "    tochange = (tochange & empty) - changed\n",
    "    print(days, tochange)\n",
    "    for _ in range(rows * cols):\n",
    "        if not tochange: break\n",
    "        empty -= tochange\n",
    "        changed |= tochange\n",
    "        new = set()\n",
    "        for x, y in tochange:\n",
    "            new |= {(x + 1, y), (x - 1, y), (x, y + 1), (x, y - 1)}\n",
    "        tochange = new & empty\n",
    "        print(\"\", empty)\n",
    "        days += 1\n",
    "        print(days, tochange)\n",
    "    if empty: print(-1)\n",
    "    else: print(days)"
   ]
  },
  {
   "cell_type": "markdown",
   "metadata": {},
   "source": [
    "## 테스트 결과"
   ]
  },
  {
   "cell_type": "markdown",
   "metadata": {},
   "source": [
    "|테스트|결과|\n",
    "|---:|:---|"
   ]
  },
  {
   "cell_type": "markdown",
   "metadata": {},
   "source": [
    "## 예제"
   ]
  },
  {
   "cell_type": "code",
   "execution_count": 203,
   "metadata": {},
   "outputs": [],
   "source": [
    "# 백준 문제 풀이용 예제 실행 코드\n",
    "from inspect import signature\n",
    "def solution_example(input_ = None, solution=solution):\n",
    "    params = signature(solution).parameters\n",
    "    if input_ == None:\n",
    "        solution()\n",
    "    elif 'open' in params:\n",
    "        class open:\n",
    "            def __init__(self, _):\n",
    "                self.read = lambda: input_\n",
    "            def __iter__(self):\n",
    "                return iter(input_.split(\"\\n\"))\n",
    "        solution(open)\n",
    "    elif 'input' in params:\n",
    "        input_ = iter(input_.split(\"\\n\"))\n",
    "        input = input_.__next__\n",
    "        solution(input)\n",
    "    else:\n",
    "        raise NameError(f'solution 함수가 input, open 등의 매개변수를 받지 않습니다.\\nsolution 의 매개변수: {params}')\n",
    "    \n",
    "# solution_example(\"\"\"\"\"\")\n",
    "# solution_example(read(\"fn\").read())"
   ]
  },
  {
   "cell_type": "code",
   "execution_count": 204,
   "metadata": {},
   "outputs": [
    {
     "name": "stdout",
     "output_type": "stream",
     "text": [
      "0 {(1, 0), (0, 1)}\n",
      " set()\n",
      "1 set()\n",
      "1\n"
     ]
    }
   ],
   "source": [
    "solution_example(\"\"\"2 2\n",
    "1 0\n",
    "0 1\"\"\") # 1"
   ]
  },
  {
   "cell_type": "code",
   "execution_count": 205,
   "metadata": {},
   "outputs": [
    {
     "name": "stdout",
     "output_type": "stream",
     "text": [
      "0 {(0, 1), (0, 2)}\n",
      " set()\n",
      "1 set()\n",
      "1\n"
     ]
    }
   ],
   "source": [
    "solution_example(\"\"\"4 1\n",
    "1 0 0 1\"\"\") # 1"
   ]
  },
  {
   "cell_type": "code",
   "execution_count": 206,
   "metadata": {},
   "outputs": [
    {
     "name": "stdout",
     "output_type": "stream",
     "text": [
      "0 set()\n",
      "-1\n",
      "0 set()\n",
      "-1\n",
      "0 set()\n",
      "-1\n"
     ]
    }
   ],
   "source": [
    "solution_example(\"\"\"1 1\n",
    "0\"\"\") # -1\n",
    "solution_example(\"\"\"2 2\n",
    "0 0\n",
    "0 0\"\"\") # -1\n",
    "solution_example(\"\"\"3 3\n",
    "0 0 0\n",
    "0 0 0\n",
    "0 0 0\"\"\") # -1"
   ]
  },
  {
   "cell_type": "code",
   "execution_count": 207,
   "metadata": {},
   "outputs": [
    {
     "name": "stdout",
     "output_type": "stream",
     "text": [
      "0 set()\n",
      "0\n"
     ]
    }
   ],
   "source": [
    "solution_example(\"\"\"3 3\n",
    "1 1 1\n",
    "1 1 1\n",
    "1 1 1\"\"\") # 0"
   ]
  },
  {
   "cell_type": "code",
   "execution_count": 208,
   "metadata": {},
   "outputs": [
    {
     "name": "stdout",
     "output_type": "stream",
     "text": [
      "0 {(0, 1)}\n",
      " {(0, 3), (0, 4)}\n",
      "1 set()\n",
      "-1\n"
     ]
    }
   ],
   "source": [
    "solution_example(\"\"\"5 1\n",
    "1 0 -1 0 0\"\"\") # -1"
   ]
  },
  {
   "cell_type": "code",
   "execution_count": 209,
   "metadata": {},
   "outputs": [
    {
     "name": "stdout",
     "output_type": "stream",
     "text": [
      "0 {(2, 5), (3, 4)}\n",
      " {(3, 1), (0, 2), (0, 5), (2, 2), (1, 0), (1, 3), (3, 0), (3, 3), (0, 1), (2, 4), (1, 2), (0, 4), (2, 1), (1, 5), (3, 2), (0, 0), (1, 1), (0, 3), (2, 0), (1, 4), (2, 3)}\n",
      "1 {(2, 4), (3, 3), (1, 5)}\n",
      " {(3, 1), (0, 2), (0, 5), (2, 2), (1, 0), (1, 3), (3, 0), (0, 1), (1, 2), (0, 4), (2, 1), (3, 2), (0, 0), (1, 1), (0, 3), (2, 0), (1, 4), (2, 3)}\n",
      "2 {(2, 3), (3, 2), (1, 4), (0, 5)}\n",
      " {(3, 1), (0, 2), (2, 2), (1, 0), (1, 3), (3, 0), (0, 1), (1, 2), (0, 4), (2, 1), (0, 0), (1, 1), (0, 3), (2, 0)}\n",
      "3 {(3, 1), (1, 3), (0, 4), (2, 2)}\n",
      " {(0, 2), (1, 0), (3, 0), (0, 1), (1, 2), (2, 1), (0, 0), (1, 1), (0, 3), (2, 0)}\n",
      "4 {(0, 3), (1, 2), (2, 1), (3, 0)}\n",
      " {(0, 2), (1, 0), (0, 1), (0, 0), (1, 1), (2, 0)}\n",
      "5 {(1, 1), (0, 2), (2, 0)}\n",
      " {(1, 0), (0, 1), (0, 0)}\n",
      "6 {(1, 0), (0, 1)}\n",
      " {(0, 0)}\n",
      "7 {(0, 0)}\n",
      " set()\n",
      "8 set()\n",
      "8\n"
     ]
    }
   ],
   "source": [
    "solution_example(\"\"\"6 4\n",
    "0 0 0 0 0 0\n",
    "0 0 0 0 0 0\n",
    "0 0 0 0 0 0\n",
    "0 0 0 0 0 1\"\"\") # 8"
   ]
  },
  {
   "cell_type": "code",
   "execution_count": 210,
   "metadata": {},
   "outputs": [
    {
     "name": "stdout",
     "output_type": "stream",
     "text": [
      "0 {(2, 5), (3, 4)}\n",
      " {(3, 1), (0, 2), (0, 5), (2, 2), (1, 3), (3, 0), (3, 3), (2, 4), (1, 2), (0, 4), (2, 1), (1, 5), (3, 2), (0, 0), (1, 1), (0, 3), (2, 0), (1, 4), (2, 3)}\n",
      "1 {(2, 4), (3, 3), (1, 5)}\n",
      " {(3, 1), (0, 2), (0, 5), (2, 2), (1, 3), (3, 0), (1, 2), (0, 4), (2, 1), (3, 2), (0, 0), (1, 1), (0, 3), (2, 0), (1, 4), (2, 3)}\n",
      "2 {(2, 3), (3, 2), (1, 4), (0, 5)}\n",
      " {(3, 1), (0, 2), (2, 2), (1, 3), (3, 0), (1, 2), (0, 4), (2, 1), (0, 0), (1, 1), (0, 3), (2, 0)}\n",
      "3 {(3, 1), (1, 3), (0, 4), (2, 2)}\n",
      " {(0, 2), (3, 0), (1, 2), (2, 1), (0, 0), (1, 1), (0, 3), (2, 0)}\n",
      "4 {(0, 3), (1, 2), (2, 1), (3, 0)}\n",
      " {(0, 2), (0, 0), (1, 1), (2, 0)}\n",
      "5 {(1, 1), (0, 2), (2, 0)}\n",
      " {(0, 0)}\n",
      "6 set()\n",
      "-1\n"
     ]
    }
   ],
   "source": [
    "solution_example(\"\"\"6 4\n",
    "0 -1 0 0 0 0\n",
    "-1 0 0 0 0 0\n",
    "0 0 0 0 0 0\n",
    "0 0 0 0 0 1\"\"\") # -1"
   ]
  },
  {
   "cell_type": "code",
   "execution_count": 211,
   "metadata": {},
   "outputs": [
    {
     "name": "stdout",
     "output_type": "stream",
     "text": [
      "0 {(1, 0), (2, 5)}\n",
      " {(1, 2), (0, 4), (2, 1), (1, 5), (3, 1), (0, 3), (2, 0), (1, 4), (3, 0), (2, 3), (0, 2), (3, 3), (0, 5), (2, 2), (3, 2), (1, 3)}\n",
      "1 {(2, 0), (1, 5)}\n",
      " {(1, 2), (0, 4), (2, 1), (3, 1), (0, 3), (1, 4), (3, 0), (2, 3), (0, 2), (3, 3), (0, 5), (2, 2), (3, 2), (1, 3)}\n",
      "2 {(0, 5), (2, 1), (1, 4), (3, 0)}\n",
      " {(1, 2), (0, 4), (3, 1), (0, 2), (2, 2), (3, 2), (1, 3), (0, 3), (2, 3), (3, 3)}\n",
      "3 {(3, 1), (1, 3), (0, 4), (2, 2)}\n",
      " {(1, 2), (0, 2), (3, 2), (0, 3), (2, 3), (3, 3)}\n",
      "4 {(2, 3), (3, 2), (1, 2), (0, 3)}\n",
      " {(0, 2), (3, 3)}\n",
      "5 {(0, 2), (3, 3)}\n",
      " set()\n",
      "6 set()\n",
      "6\n"
     ]
    }
   ],
   "source": [
    "solution_example(\"\"\"6 4\n",
    "1 -1 0 0 0 0\n",
    "0 -1 0 0 0 0\n",
    "0 0 0 0 -1 0\n",
    "0 0 0 0 -1 1\"\"\") # 6"
   ]
  },
  {
   "cell_type": "code",
   "execution_count": 212,
   "metadata": {},
   "outputs": [
    {
     "name": "stdout",
     "output_type": "stream",
     "text": [
      "0 {(0, 2)}\n",
      " {(4, 4), (2, 4), (4, 0), (0, 4), (3, 4), (4, 3), (0, 3), (2, 0), (4, 2), (3, 0), (1, 4), (1, 0), (4, 1)}\n",
      "1 {(0, 3)}\n",
      " {(4, 4), (2, 4), (4, 0), (0, 4), (3, 4), (4, 3), (2, 0), (4, 2), (3, 0), (1, 4), (1, 0), (4, 1)}\n",
      "2 {(0, 4)}\n",
      " {(4, 4), (2, 4), (4, 0), (3, 4), (4, 3), (2, 0), (4, 2), (3, 0), (1, 4), (1, 0), (4, 1)}\n",
      "3 {(1, 4)}\n",
      " {(4, 4), (2, 4), (4, 0), (3, 4), (4, 3), (2, 0), (4, 2), (3, 0), (1, 0), (4, 1)}\n",
      "4 {(2, 4)}\n",
      " {(4, 4), (4, 0), (3, 4), (4, 3), (2, 0), (4, 2), (3, 0), (1, 0), (4, 1)}\n",
      "5 {(3, 4)}\n",
      " {(4, 4), (4, 0), (4, 3), (2, 0), (4, 2), (3, 0), (1, 0), (4, 1)}\n",
      "6 {(4, 4)}\n",
      " {(4, 0), (4, 3), (2, 0), (4, 2), (3, 0), (1, 0), (4, 1)}\n",
      "7 {(4, 3)}\n",
      " {(4, 0), (2, 0), (4, 2), (3, 0), (1, 0), (4, 1)}\n",
      "8 {(4, 2)}\n",
      " {(4, 0), (2, 0), (3, 0), (1, 0), (4, 1)}\n",
      "9 {(4, 1)}\n",
      " {(4, 0), (2, 0), (3, 0), (1, 0)}\n",
      "10 {(4, 0)}\n",
      " {(2, 0), (3, 0), (1, 0)}\n",
      "11 {(3, 0)}\n",
      " {(2, 0), (1, 0)}\n",
      "12 {(2, 0)}\n",
      " {(1, 0)}\n",
      "13 {(1, 0)}\n",
      " set()\n",
      "14 set()\n",
      "14\n"
     ]
    }
   ],
   "source": [
    "solution_example(\"\"\"5 5\n",
    "-1 1 0 0 0\n",
    "0 -1 -1 -1 0\n",
    "0 -1 -1 -1 0\n",
    "0 -1 -1 -1 0\n",
    "0 0 0 0 0\"\"\") # 14"
   ]
  },
  {
   "cell_type": "code",
   "execution_count": 213,
   "metadata": {},
   "outputs": [
    {
     "name": "stdout",
     "output_type": "stream",
     "text": [
      "0 set()\n",
      "0\n"
     ]
    }
   ],
   "source": [
    "solution_example(\"\"\"2 2\n",
    "1 -1\n",
    "-1 1\"\"\") # 0"
   ]
  }
 ],
 "metadata": {
  "interpreter": {
   "hash": "73891b0dc2e53390f36276e59930dd4ecab91b05b5c90320c2d5b1c443f87069"
  },
  "kernelspec": {
   "display_name": "Python 3.10.1 ('venv': venv)",
   "language": "python",
   "name": "python3"
  },
  "language_info": {
   "codemirror_mode": {
    "name": "ipython",
    "version": 3
   },
   "file_extension": ".py",
   "mimetype": "text/x-python",
   "name": "python",
   "nbconvert_exporter": "python",
   "pygments_lexer": "ipython3",
   "version": "3.10.1"
  },
  "orig_nbformat": 4
 },
 "nbformat": 4,
 "nbformat_minor": 2
}
