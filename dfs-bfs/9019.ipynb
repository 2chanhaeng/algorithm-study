{
    "cells": [
        {
            "cell_type": "markdown",
            "metadata": {},
            "source": [
                "# [백준/DSLR](https://www.acmicpc.net/problem/9019)"
            ]
        },
        {
            "cell_type": "markdown",
            "metadata": {},
            "source": [
                "## 풀이과정"
            ]
        },
        {
            "cell_type": "markdown",
            "metadata": {},
            "source": [
                "### 첫번째 시도"
            ]
        },
        {
            "cell_type": "markdown",
            "metadata": {},
            "source": [
                "풀이과정"
            ]
        },
        {
            "cell_type": "code",
            "execution_count": 19,
            "metadata": {},
            "outputs": [],
            "source": [
                "def solution(open = open):\n",
                "    input = iter(open(0).read().split(\"\\n\")).__next__\n",
                "    for _ in range(int(input())):\n",
                "        start, target = map(int, input().split())\n",
                "        tovisit = {start: \"\"}\n",
                "        visited = {}\n",
                "        while target not in tovisit:\n",
                "            visited |= tovisit\n",
                "            new = {}\n",
                "            for node in tovisit:\n",
                "                before = tovisit[node]\n",
                "                if (d := node * 2 % 10000) not in visited:\n",
                "                    new[d] = before + \"D\"\n",
                "                if (s := node - 1 % 10000) not in visited:\n",
                "                    new[s] = before + \"S\"\n",
                "                if (l := node % 1000 * 10 + node // 1000) not in visited:\n",
                "                    new[l] = before + \"L\"\n",
                "                if (r := node % 10 * 1000 + node // 10) not in visited:\n",
                "                    new[r] = before + \"R\"\n",
                "            tovisit = new\n",
                "            del new\n",
                "        print(tovisit[target])\n",
                "        del tovisit, visited\n",
                "solution()"
            ]
        },
        {
            "cell_type": "markdown",
            "metadata": {},
            "source": [
                "### 두번째 시도"
            ]
        },
        {
            "cell_type": "markdown",
            "metadata": {},
            "source": [
                "풀이과정"
            ]
        },
        {
            "cell_type": "code",
            "execution_count": null,
            "metadata": {},
            "outputs": [],
            "source": [
                "def solution(input = map(int, open(0).read().split()).__next__):\n",
                "    for _ in range(int(input())):\n",
                "        start, target = input(), input()\n",
                "        tovisit = {start}\n",
                "        visited = [False] * 10000\n",
                "        visited[start] = \"\"\n",
                "        while not visited[target]:\n",
                "            new = set()\n",
                "            for node in tovisit:\n",
                "                before = visited[node]\n",
                "                if not visited[d := node * 2 % 10000]:\n",
                "                    visited[d] = before + \"D\"\n",
                "                    new.add(d)\n",
                "                if not visited[s := (node - 1) % 10000]:\n",
                "                    visited[s] = before + \"S\"\n",
                "                    new.add(s)\n",
                "                if not visited[l := node % 1000 * 10 + node // 1000]:\n",
                "                    visited[l] = before + \"L\"\n",
                "                    new.add(l)\n",
                "                if not visited[r := node % 10 * 1000 + node // 10]:\n",
                "                    visited[r] = before + \"R\"\n",
                "                    new.add(r)\n",
                "            tovisit = new\n",
                "        print(visited[target])\n",
                "solution()"
            ]
        },
        {
            "cell_type": "markdown",
            "metadata": {},
            "source": [
                "## 해답"
            ]
        },
        {
            "cell_type": "code",
            "execution_count": 76,
            "metadata": {},
            "outputs": [],
            "source": [
                "def solution(open = open):\n",
                "    input = map(int, open(0).read().split()).__next__\n",
                "    mod = 10000\n",
                "    for _ in range(int(input())):\n",
                "        start, target = input(), input()\n",
                "        tovisit = {start}\n",
                "        visited = [False] * mod\n",
                "        visited[start] = \"\"\n",
                "        while not visited[target]:\n",
                "            new = set()\n",
                "            for node in tovisit:\n",
                "                before = visited[node]\n",
                "                if not visited[d := node * 2 % mod]:\n",
                "                    visited[d] = before + \"D\"\n",
                "                    new.add(d)\n",
                "                if not visited[s := (node - 1) % mod]:\n",
                "                    visited[s] = before + \"S\"\n",
                "                    new.add(s)\n",
                "                if not visited[l := node % 1000 * 10 + node // 1000]:\n",
                "                    visited[l] = before + \"L\"\n",
                "                    new.add(l)\n",
                "                if not visited[r := node % 10 * 1000 + node // 10]:\n",
                "                    visited[r] = before + \"R\"\n",
                "                    new.add(r)\n",
                "            tovisit = new\n",
                "        print(visited[target])\n"
            ]
        },
        {
            "cell_type": "markdown",
            "metadata": {},
            "source": [
                "## 예제"
            ]
        },
        {
            "cell_type": "code",
            "execution_count": 77,
            "metadata": {},
            "outputs": [],
            "source": [
                "# 백준 문제 풀이용 예제 실행 코드\n",
                "from bwj import test\n",
                "test_solution = test(solution)\n",
                "\n",
                "# test_solution(\"\"\"\"\"\")\n",
                "# test_solution(read(\"fn\").read())"
            ]
        },
        {
            "cell_type": "code",
            "execution_count": 78,
            "metadata": {},
            "outputs": [
                {
                    "name": "stdout",
                    "output_type": "stream",
                    "text": [
                        "SD\n",
                        "SDRDRDRSRDDD\n"
                    ]
                }
            ],
            "source": [
                "test_solution(\"\"\"2\n",
                "0 9998\n",
                "0 1000\"\"\")"
            ]
        },
        {
            "cell_type": "code",
            "execution_count": 81,
            "metadata": {},
            "outputs": [
                {
                    "name": "stdout",
                    "output_type": "stream",
                    "text": [
                        "9999\n",
                        "9998\n",
                        "8999\n",
                        "7998\n",
                        "8799\n",
                        "7598\n",
                        "8759\n",
                        "8758\n",
                        "8875\n",
                        "7750\n",
                        "5500\n",
                        "1000\n"
                    ]
                }
            ],
            "source": [
                "node = 0\n",
                "for i in \"SDRDRDRSRDDD\":\n",
                "    match i:\n",
                "        case \"D\" :\n",
                "            node = node * 2 % 10000\n",
                "        case \"S\" :\n",
                "            node = (node - 1) % 10000\n",
                "        case \"L\" :\n",
                "            node = node % 1000 * 10 + node // 1000\n",
                "        case \"R\" :\n",
                "            node = node % 10 * 1000 + node // 10\n",
                "    print(node)"
            ]
        },
        {
            "cell_type": "code",
            "execution_count": 80,
            "metadata": {},
            "outputs": [
                {
                    "name": "stdout",
                    "output_type": "stream",
                    "text": [
                        "RR\n",
                        "L\n",
                        "DDDD\n"
                    ]
                }
            ],
            "source": [
                "test_solution(\"\"\"3\n",
                "1234 3412\n",
                "1000 1\n",
                "1 16\"\"\")\n",
                "# answer:\n",
                "# LL\n",
                "# L\n",
                "# DDDD"
            ]
        }
    ],
    "metadata": {
        "interpreter": {
            "hash": "73891b0dc2e53390f36276e59930dd4ecab91b05b5c90320c2d5b1c443f87069"
        },
        "kernelspec": {
            "display_name": "Python 3.10.1 ('venv': venv)",
            "language": "python",
            "name": "python3"
        },
        "language_info": {
            "codemirror_mode": {
                "name": "ipython",
                "version": 3
            },
            "file_extension": ".py",
            "mimetype": "text/x-python",
            "name": "python",
            "nbconvert_exporter": "python",
            "pygments_lexer": "ipython3",
            "version": "3.10.2"
        },
        "orig_nbformat": 4
    },
    "nbformat": 4,
    "nbformat_minor": 2
}
