{
    "cells": [
        {
            "cell_type": "markdown",
            "metadata": {},
            "source": [
                "# [백준/토마토](https://www.acmicpc.net/problem/7569)"
            ]
        },
        {
            "cell_type": "markdown",
            "metadata": {},
            "source": [
                "## 풀이과정"
            ]
        },
        {
            "cell_type": "markdown",
            "metadata": {},
            "source": [
                "### 첫번째 시도"
            ]
        },
        {
            "cell_type": "markdown",
            "metadata": {},
            "source": [
                "풀이과정"
            ]
        },
        {
            "cell_type": "code",
            "execution_count": 65,
            "metadata": {},
            "outputs": [
                {
                    "name": "stdout",
                    "output_type": "stream",
                    "text": [
                        "2\n"
                    ]
                }
            ],
            "source": [
                "import sys;input = lambda: sys.stdin.readline().rstrip()\n",
                "from itertools import product\n",
                "def side(x, y, z):\n",
                "    return {(x + 1, y, z),(x - 1, y, z),(x, y + 1, z),(x, y - 1, z),(x, y, z + 1),(x, y, z - 1)}\n",
                "cols, rows, flos = map(int, input().split())\n",
                "tomato_list = [[list(map(int, input().split())) for _ in range(rows)] for _ in range(flos)]\n",
                "tomatoes = {\n",
                "    (col, row, flo): tomato_list[flo][row][col] for col, row, flo in product(range(cols), range(rows), range(flos))\n",
                "}\n",
                "days = 0\n",
                "empty, changed = set(), set()\n",
                "tochange = set()\n",
                "for (x, y, z), value in tomatoes.items():\n",
                "    [empty, changed][value].add((x, y, z))\n",
                "    if value == 1:\n",
                "        tochange |= side(x, y, z)\n",
                "tochange &= empty\n",
                "for _ in range(rows * cols * flos):\n",
                "    if not tochange:\n",
                "        break\n",
                "    empty -= tochange\n",
                "    changed |= tochange\n",
                "    new = set()\n",
                "    for x, y, z in tochange:\n",
                "        new |= side(x, y, z)\n",
                "    tochange = new & empty\n",
                "    days += 1\n",
                "if empty:\n",
                "    print(-1)\n",
                "else:\n",
                "    print(days)"
            ]
        },
        {
            "cell_type": "code",
            "execution_count": null,
            "metadata": {},
            "outputs": [
                {
                    "name": "stdout",
                    "output_type": "stream",
                    "text": [
                        "2\n"
                    ]
                }
            ],
            "source": [
                "import sys;input = lambda: sys.stdin.readline().rstrip()\n",
                "m, n, o = list(map(int, input().split()))\n",
                "tomatoes = {}\n",
                "for O in range(o):\n",
                "    for N in range(n):\n",
                "        for M, i in zip(range(m), map(int, input().split())):\n",
                "            tomatoes[(M, N, O)] = i\n",
                "def side(points, empty):\n",
                "    sides = set()\n",
                "    for point in points:\n",
                "        M, N, O = point\n",
                "        if M < m - 1:   sides.add((M + 1, N, O))\n",
                "        if M > 0:       sides.add((M - 1, N, O))\n",
                "        if N < n - 1:   sides.add((M, N + 1, O))\n",
                "        if N > 0:       sides.add((M, N - 1, O))\n",
                "        if O < o - 1:   sides.add((M, N, O + 1))\n",
                "        if O > 0:       sides.add((M, N, O - 1))\n",
                "    return sides & empty\n",
                "days = 0\n",
                "empty, changed = set(), set()\n",
                "getside = set()\n",
                "for key, value in tomatoes.items():\n",
                "    [empty, changed][value].add(key)\n",
                "    if value == 1:\n",
                "        getside.add(key)\n",
                "tochange = side(getside, empty)\n",
                "getside.clear()\n",
                "for _ in range(m * N):\n",
                "    if not tochange:\n",
                "        break\n",
                "    empty -= tochange\n",
                "    changed |= tochange\n",
                "    tochange = side(tochange, empty)\n",
                "    days += 1\n",
                "if empty:\n",
                "    print(-1)\n",
                "else:\n",
                "    print(days)"
            ]
        },
        {
            "cell_type": "markdown",
            "metadata": {},
            "source": [
                "## 해답"
            ]
        },
        {
            "cell_type": "code",
            "execution_count": 12,
            "metadata": {},
            "outputs": [],
            "source": [
                "from itertools import product"
            ]
        },
        {
            "cell_type": "code",
            "execution_count": 58,
            "metadata": {},
            "outputs": [],
            "source": [
                "def side(x, y, z):\n",
                "    return {(x + 1, y, z),(x - 1, y, z),(x, y + 1, z),(x, y - 1, z),(x, y, z + 1),(x, y, z - 1)}"
            ]
        },
        {
            "cell_type": "code",
            "execution_count": 59,
            "metadata": {},
            "outputs": [],
            "source": [
                "def solution(input):\n",
                "    cols, rows, flos = map(int, input().split())\n",
                "    tomato_list = [[list(map(int, input().split())) for _ in range(rows)] for _ in range(flos)]\n",
                "    tomatoes = {\n",
                "        (col, row, flo): tomato_list[flo][row][col] for col, row, flo in product(range(cols), range(rows), range(flos))\n",
                "    }\n",
                "    days = 0\n",
                "    empty, changed = set(), set()\n",
                "    tochange = set()\n",
                "    for (x, y, z), value in tomatoes.items():\n",
                "        [empty, changed][value].add((x, y, z))\n",
                "        if value == 1:\n",
                "            tochange |= side(x, y, z)\n",
                "    tochange &= empty\n",
                "    for _ in range(rows * cols * flos):\n",
                "        if not tochange:\n",
                "            break\n",
                "        empty -= tochange\n",
                "        changed |= tochange\n",
                "        new = set()\n",
                "        for x, y, z in tochange:\n",
                "            new |= side(x, y, z)\n",
                "        tochange = new & empty\n",
                "        days += 1\n",
                "    if empty:\n",
                "        print(-1)\n",
                "    else:\n",
                "        print(days)"
            ]
        },
        {
            "cell_type": "code",
            "execution_count": 1,
            "metadata": {},
            "outputs": [],
            "source": [
                "def solution(input):\n",
                "    m, n, o = list(map(int, input().split()))\n",
                "    tomatoes = {}\n",
                "    for O in range(o):\n",
                "        for N in range(n):\n",
                "            for M, i in zip(range(m), map(int, input().split())):\n",
                "                tomatoes[(M, N, O)] = i\n",
                "    def side(points, empty):\n",
                "        sides = set()\n",
                "        for point in points:\n",
                "            M, N, O = point\n",
                "            if M < m - 1:   sides.add((M + 1, N, O))\n",
                "            if M > 0:       sides.add((M - 1, N, O))\n",
                "            if N < n - 1:   sides.add((M, N + 1, O))\n",
                "            if N > 0:       sides.add((M, N - 1, O))\n",
                "            if O < o - 1:   sides.add((M, N, O + 1))\n",
                "            if O > 0:       sides.add((M, N, O - 1))\n",
                "        return sides & empty\n",
                "    days = 0\n",
                "    empty, changed = set(), set()\n",
                "    getside = set()\n",
                "    for key, value in tomatoes.items():\n",
                "        [empty, changed][value].add(key)\n",
                "        if value == 1:\n",
                "            getside.add(key)\n",
                "    tochange = side(getside, empty)\n",
                "    getside.clear()\n",
                "    for _ in range(m * N):\n",
                "        if not tochange:\n",
                "            break\n",
                "        empty -= tochange\n",
                "        changed |= tochange\n",
                "        tochange = side(tochange, empty)\n",
                "        days += 1\n",
                "    if empty:\n",
                "        print(-1)\n",
                "    else:\n",
                "        print(days)"
            ]
        },
        {
            "cell_type": "markdown",
            "metadata": {},
            "source": [
                "## 예제"
            ]
        },
        {
            "cell_type": "code",
            "execution_count": 2,
            "metadata": {},
            "outputs": [],
            "source": [
                "# 백준 문제 풀이용 예제 실행 코드\n",
                "from bwj import test\n",
                "test_solution = test(solution)\n",
                "\n",
                "# test_solution(\"\"\"\"\"\")\n",
                "# test_solution(read(\"fn\").read())"
            ]
        },
        {
            "cell_type": "code",
            "execution_count": 3,
            "metadata": {},
            "outputs": [
                {
                    "name": "stdout",
                    "output_type": "stream",
                    "text": [
                        "4\n"
                    ]
                }
            ],
            "source": [
                "test_solution(\"\"\"5 3 2\n",
                "0 0 0 0 0\n",
                "0 0 0 0 0\n",
                "0 0 0 0 0\n",
                "0 0 0 0 0\n",
                "0 0 1 0 0\n",
                "0 0 0 0 0\"\"\") # 4"
            ]
        },
        {
            "cell_type": "code",
            "execution_count": 4,
            "metadata": {},
            "outputs": [
                {
                    "name": "stdout",
                    "output_type": "stream",
                    "text": [
                        "-1\n"
                    ]
                }
            ],
            "source": [
                "test_solution(\"\"\"5 3 1\n",
                "0 -1 0 0 0\n",
                "-1 -1 0 1 1\n",
                "0 0 0 1 1\"\"\") # -1"
            ]
        },
        {
            "cell_type": "code",
            "execution_count": 5,
            "metadata": {},
            "outputs": [
                {
                    "name": "stdout",
                    "output_type": "stream",
                    "text": [
                        "0\n"
                    ]
                }
            ],
            "source": [
                "test_solution(\"\"\"4 3 2\n",
                "1 1 1 1\n",
                "1 1 1 1\n",
                "1 1 1 1\n",
                "1 1 1 1\n",
                "-1 -1 -1 -1\n",
                "1 1 1 -1\"\"\") # 0"
            ]
        }
    ],
    "metadata": {
        "interpreter": {
            "hash": "73891b0dc2e53390f36276e59930dd4ecab91b05b5c90320c2d5b1c443f87069"
        },
        "kernelspec": {
            "display_name": "Python 3.10.1 ('venv': venv)",
            "language": "python",
            "name": "python3"
        },
        "language_info": {
            "codemirror_mode": {
                "name": "ipython",
                "version": 3
            },
            "file_extension": ".py",
            "mimetype": "text/x-python",
            "name": "python",
            "nbconvert_exporter": "python",
            "pygments_lexer": "ipython3",
            "version": "3.10.2"
        },
        "orig_nbformat": 4
    },
    "nbformat": 4,
    "nbformat_minor": 2
}
