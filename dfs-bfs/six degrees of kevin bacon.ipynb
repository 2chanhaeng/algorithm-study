{
 "cells": [
  {
   "cell_type": "markdown",
   "metadata": {},
   "source": [
    "# [백준/케빈 베이컨의 6단계 법칙](https://www.acmicpc.net/problem/1389)"
   ]
  },
  {
   "cell_type": "markdown",
   "metadata": {},
   "source": [
    "## 풀이과정"
   ]
  },
  {
   "cell_type": "markdown",
   "metadata": {},
   "source": [
    "### 첫번째 시도"
   ]
  },
  {
   "cell_type": "markdown",
   "metadata": {},
   "source": [
    "풀이과정"
   ]
  },
  {
   "cell_type": "code",
   "execution_count": null,
   "metadata": {},
   "outputs": [],
   "source": [
    "import sys; input = sys.stdin.readline\n",
    "nodes, lines = map(int,input().split())\n",
    "graph = {node: [nodes + 1 if i != node else 0 for i in range(nodes)] for node in range(nodes)}\n",
    "for _ in range(lines):\n",
    "    a, b = map(int,input().split())\n",
    "    a-=1; b-=1\n",
    "    graph[a][b] = 1\n",
    "    graph[b][a] = 1\n",
    "for middle in range(nodes):\n",
    "    for start in range(nodes):\n",
    "        if start == middle: continue\n",
    "        for end in range(nodes):\n",
    "            if end == middle: continue\n",
    "            if graph[start][end] > (between:= graph[start][middle] + graph[middle][end]):\n",
    "                graph[start][end] = between\n",
    "                graph[end][start] = between\n",
    "m = min((sum(rels),node) for node, rels in graph.items())\n",
    "print(m[1] + 1)"
   ]
  },
  {
   "cell_type": "markdown",
   "metadata": {},
   "source": [
    "## 해답"
   ]
  },
  {
   "cell_type": "code",
   "execution_count": 26,
   "metadata": {},
   "outputs": [],
   "source": [
    "def solution(input):\n",
    "    nodes, lines = map(int,input().split())\n",
    "    graph = {node: [nodes + 1 if i != node else 0 for i in range(nodes)] for node in range(nodes)}\n",
    "    for _ in range(lines):\n",
    "        a, b = map(int,input().split())\n",
    "        a-=1; b-=1\n",
    "        graph[a][b] = 1\n",
    "        graph[b][a] = 1\n",
    "    print(graph)\n",
    "    for middle in range(nodes):\n",
    "        for start in range(nodes):\n",
    "            if start == middle: continue\n",
    "            for end in range(nodes):\n",
    "                if end == middle: continue\n",
    "                if graph[start][end] > (between:= graph[start][middle] + graph[middle][end]):\n",
    "                    graph[start][end] = between\n",
    "                    graph[end][start] = between\n",
    "    print(graph)\n",
    "    m = min((sum(rels),node) for node, rels in graph.items())\n",
    "    print([(sum(rels),node) for node, rels in graph.items()])\n",
    "    print(m[1] + 1)\n",
    "\n"
   ]
  },
  {
   "cell_type": "markdown",
   "metadata": {},
   "source": [
    "## 테스트 결과"
   ]
  },
  {
   "cell_type": "markdown",
   "metadata": {},
   "source": [
    "|테스트|결과|\n",
    "|---:|:---|"
   ]
  },
  {
   "cell_type": "markdown",
   "metadata": {},
   "source": [
    "## 예제"
   ]
  },
  {
   "cell_type": "code",
   "execution_count": 27,
   "metadata": {},
   "outputs": [],
   "source": [
    "# 백준 문제 풀이용 예제 실행 코드\n",
    "from inspect import signature\n",
    "def solution_example(input_ = None, solution=solution):\n",
    "    params = signature(solution).parameters\n",
    "    if input_ == None:\n",
    "        solution()\n",
    "    elif 'open' in params:\n",
    "        class open:\n",
    "            def __init__(self, x):\n",
    "                self.read = lambda: input_\n",
    "            def __iter__(self):\n",
    "                return iter(input_.split(\"\\n\"))\n",
    "        solution(open)\n",
    "    elif 'input' in params:\n",
    "        input_ = iter(input_.split(\"\\n\"))\n",
    "        input = input_.__next__\n",
    "        solution(input)\n",
    "    else:\n",
    "        raise NameError(f'solution 함수가 input, open 등의 매개변수를 받지 않습니다.\\nsolution 의 매개변수: {params}')\n",
    "    \n",
    "        \n",
    "# solution_example(\"\"\"\"\"\")\n",
    "# solution_example(read(\"fn\").read())"
   ]
  },
  {
   "cell_type": "code",
   "execution_count": 29,
   "metadata": {},
   "outputs": [
    {
     "name": "stdout",
     "output_type": "stream",
     "text": [
      "{0: [0, 6, 1, 1, 6], 1: [6, 0, 1, 6, 6], 2: [1, 1, 0, 1, 6], 3: [1, 6, 1, 0, 1], 4: [6, 6, 6, 1, 0]}\n",
      "{0: [0, 2, 1, 1, 2], 1: [2, 0, 1, 2, 3], 2: [1, 1, 0, 1, 2], 3: [1, 2, 1, 0, 1], 4: [2, 3, 2, 1, 0]}\n",
      "[(6, 0), (8, 1), (5, 2), (5, 3), (8, 4)]\n",
      "3\n"
     ]
    }
   ],
   "source": [
    "solution_example(\"\"\"5 6\n",
    "1 3\n",
    "1 3\n",
    "1 4\n",
    "4 5\n",
    "4 3\n",
    "3 2\"\"\")"
   ]
  },
  {
   "cell_type": "code",
   "execution_count": null,
   "metadata": {},
   "outputs": [
    {
     "name": "stdout",
     "output_type": "stream",
     "text": [
      "{0: [0, 6, 1, 1, 6], 1: [6, 0, 1, 6, 6], 2: [1, 1, 0, 1, 6], 3: [1, 6, 1, 0, 1], 4: [6, 6, 6, 1, 0]}\n",
      "{0: [0, 2, 1, 1, 2], 1: [2, 0, 1, 2, 3], 2: [1, 1, 0, 1, 2], 3: [1, 2, 1, 0, 1], 4: [2, 3, 2, 1, 0]}\n",
      "[(6, 0), (8, 1), (5, 2), (5, 3), (8, 4)]\n",
      "3\n"
     ]
    }
   ],
   "source": [
    "solution_example(\"\"\"5 5\n",
    "1 3\n",
    "1 4\n",
    "4 5\n",
    "4 3\n",
    "3 2\"\"\")"
   ]
  }
 ],
 "metadata": {
  "interpreter": {
   "hash": "73891b0dc2e53390f36276e59930dd4ecab91b05b5c90320c2d5b1c443f87069"
  },
  "kernelspec": {
   "display_name": "Python 3.10.1 ('venv': venv)",
   "language": "python",
   "name": "python3"
  },
  "language_info": {
   "codemirror_mode": {
    "name": "ipython",
    "version": 3
   },
   "file_extension": ".py",
   "mimetype": "text/x-python",
   "name": "python",
   "nbconvert_exporter": "python",
   "pygments_lexer": "ipython3",
   "version": "3.10.1"
  },
  "orig_nbformat": 4
 },
 "nbformat": 4,
 "nbformat_minor": 2
}
