{
    "cells": [
        {
            "cell_type": "markdown",
            "metadata": {},
            "source": [
                "# [백준/solved.ac](https://www.acmicpc.net/problem/18110)\n"
            ]
        },
        {
            "cell_type": "markdown",
            "metadata": {},
            "source": [
                "## 풀이과정\n"
            ]
        },
        {
            "cell_type": "markdown",
            "metadata": {},
            "source": [
                "### 첫번째 시도\n"
            ]
        },
        {
            "cell_type": "markdown",
            "metadata": {},
            "source": [
                "#### 풀이과정\n"
            ]
        },
        {
            "cell_type": "code",
            "execution_count": null,
            "metadata": {},
            "outputs": [],
            "source": [
                "def mean(arr):\n",
                "    return round(sum(arr) / len(arr))\n",
                "\n",
                "\n",
                "def round(number):\n",
                "    return int(number + 0.5)\n",
                "\n",
                "\n",
                "def solution():\n",
                "    import sys\n",
                "\n",
                "    inputs = map(int, sys.stdin.read().split())\n",
                "    n = next(inputs)\n",
                "    if n == 0:\n",
                "        print(0)\n",
                "        return\n",
                "    cut = round(n * 0.15)\n",
                "    arr = sorted(inputs)\n",
                "    print(mean(arr[cut:-cut]) if n > cut * 2 + 1 else mean(arr))\n",
                "\n",
                "\n",
                "solution()"
            ]
        },
        {
            "cell_type": "markdown",
            "metadata": {},
            "source": [
                "![2023년 10월 21일 23시 기준 18110번 맞힌 사람 (Python) 116ms로 1위](<../img/Screenshot%202023-10-21%20at%2023-11-44%2018110번%20맞힌%20사람%20(Python)%20-%201%20페이지.png>)\n"
            ]
        },
        {
            "cell_type": "markdown",
            "metadata": {},
            "source": [
                "## 해답\n"
            ]
        },
        {
            "cell_type": "code",
            "execution_count": 1,
            "metadata": {},
            "outputs": [],
            "source": [
                "def mean(arr):\n",
                "    return round(sum(arr) / len(arr))"
            ]
        },
        {
            "cell_type": "code",
            "execution_count": 2,
            "metadata": {},
            "outputs": [],
            "source": [
                "def round(number):\n",
                "    return int(number + 0.5)"
            ]
        },
        {
            "cell_type": "code",
            "execution_count": 3,
            "metadata": {},
            "outputs": [],
            "source": [
                "def solution():\n",
                "    import sys\n",
                "\n",
                "    inputs = map(int, sys.stdin.read().split())\n",
                "    n = next(inputs)\n",
                "    if n == 0:\n",
                "        print(0)\n",
                "        return\n",
                "    cut = round(n * 0.15)\n",
                "    arr = sorted(inputs)\n",
                "    print(mean(arr[cut:-cut]) if n > cut * 2 + 1 else mean(arr))"
            ]
        },
        {
            "cell_type": "markdown",
            "metadata": {},
            "source": [
                "## 예제\n"
            ]
        },
        {
            "cell_type": "code",
            "execution_count": 4,
            "metadata": {},
            "outputs": [],
            "source": [
                "# 백준 문제 풀이용 예제 실행 코드\n",
                "from bwj import test\n",
                "\n",
                "test_solution = test(solution)\n",
                "\n",
                "# test_solution(\"\"\"\"\"\")\n",
                "# test_solution(read(\"fn\").read())"
            ]
        },
        {
            "cell_type": "code",
            "execution_count": 5,
            "metadata": {},
            "outputs": [
                {
                    "name": "stdout",
                    "output_type": "stream",
                    "text": [
                        "1\n"
                    ]
                }
            ],
            "source": [
                "test_solution(\n",
                "    \"\"\"1\n",
                "1\n",
                "\"\"\"\n",
                ")  # 1"
            ]
        },
        {
            "cell_type": "code",
            "execution_count": 6,
            "metadata": {},
            "outputs": [
                {
                    "name": "stdout",
                    "output_type": "stream",
                    "text": [
                        "6\n"
                    ]
                }
            ],
            "source": [
                "test_solution(\n",
                "    \"\"\"5\n",
                "1\n",
                "5\n",
                "5\n",
                "7\n",
                "8\n",
                "\"\"\"\n",
                ")  # 6"
            ]
        },
        {
            "cell_type": "code",
            "execution_count": 7,
            "metadata": {},
            "outputs": [
                {
                    "name": "stdout",
                    "output_type": "stream",
                    "text": [
                        "13\n"
                    ]
                }
            ],
            "source": [
                "test_solution(\n",
                "    \"\"\"10\n",
                "1\n",
                "13\n",
                "12\n",
                "15\n",
                "3\n",
                "16\n",
                "13\n",
                "12\n",
                "14\n",
                "15\"\"\"\n",
                ")  # 13"
            ]
        }
    ],
    "metadata": {
        "interpreter": {
            "hash": "73891b0dc2e53390f36276e59930dd4ecab91b05b5c90320c2d5b1c443f87069"
        },
        "kernelspec": {
            "display_name": "Python 3.10.1 ('venv': venv)",
            "language": "python",
            "name": "python3"
        },
        "language_info": {
            "codemirror_mode": {
                "name": "ipython",
                "version": 3
            },
            "file_extension": ".py",
            "mimetype": "text/x-python",
            "name": "python",
            "nbconvert_exporter": "python",
            "pygments_lexer": "ipython3",
            "version": "3.11.6"
        },
        "orig_nbformat": 4
    },
    "nbformat": 4,
    "nbformat_minor": 2
}
