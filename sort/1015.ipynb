{
  "cells": [
    {
      "cell_type": "markdown",
      "metadata": {},
      "source": [
        "# [백준/수열 정렬](https://www.acmicpc.net/problem/1015)\n"
      ]
    },
    {
      "cell_type": "markdown",
      "metadata": {},
      "source": [
        "## 풀이과정\n"
      ]
    },
    {
      "cell_type": "markdown",
      "metadata": {},
      "source": [
        "### 첫번째 시도\n"
      ]
    },
    {
      "cell_type": "markdown",
      "metadata": {},
      "source": [
        "#### 풀이과정\n"
      ]
    },
    {
      "cell_type": "code",
      "execution_count": null,
      "metadata": {},
      "outputs": [],
      "source": [
        "from collections import Counter\n",
        "\n",
        "\n",
        "def solution():\n",
        "    import sys\n",
        "\n",
        "    _, *inputs = map(int, sys.stdin.read().split())\n",
        "    count = Counter(sorted(inputs))\n",
        "    mins = {}\n",
        "    b = 0\n",
        "    for k, v in count.items():\n",
        "        mins[k] = b\n",
        "        b += v\n",
        "    result = []\n",
        "    for i in inputs:\n",
        "        result += [mins[i]]\n",
        "        mins[i] += 1\n",
        "    print(\" \".join(map(str, result)))\n",
        "\n",
        "\n",
        "solution()"
      ]
    },
    {
      "cell_type": "markdown",
      "metadata": {},
      "source": [
        "## 해답\n"
      ]
    },
    {
      "cell_type": "code",
      "execution_count": null,
      "metadata": {},
      "outputs": [],
      "source": [
        "from collections import Counter\n",
        "\n",
        "\n",
        "def solution():\n",
        "    import sys\n",
        "\n",
        "    _, *inputs = map(int, sys.stdin.read().split())\n",
        "    count = Counter(sorted(inputs))\n",
        "    mins = {}\n",
        "    b = 0\n",
        "    for k, v in count.items():\n",
        "        mins[k] = b\n",
        "        b += v\n",
        "    result = []\n",
        "    for i in inputs:\n",
        "        result += [mins[i]]\n",
        "        mins[i] += 1\n",
        "    print(\" \".join(map(str, result)))"
      ]
    },
    {
      "cell_type": "markdown",
      "metadata": {},
      "source": [
        "## 예제\n"
      ]
    },
    {
      "cell_type": "code",
      "execution_count": 37,
      "metadata": {},
      "outputs": [],
      "source": [
        "# 백준 문제 풀이용 예제 실행 코드\n",
        "from bwj import test\n",
        "\n",
        "test_solution = test(solution)\n",
        "\n",
        "# test_solution(\"\"\"\"\"\")\n",
        "# test_solution(read(\"fn\").read())"
      ]
    },
    {
      "cell_type": "code",
      "execution_count": 38,
      "metadata": {},
      "outputs": [
        {
          "name": "stdout",
          "output_type": "stream",
          "text": [
            "1 2 0\n"
          ]
        }
      ],
      "source": [
        "test_solution(\n",
        "    \"\"\"3\n",
        "2 3 1\n",
        "\"\"\"\n",
        ")  # 1 2 0"
      ]
    },
    {
      "cell_type": "code",
      "execution_count": 39,
      "metadata": {},
      "outputs": [
        {
          "name": "stdout",
          "output_type": "stream",
          "text": [
            "2 0 3 1\n"
          ]
        }
      ],
      "source": [
        "test_solution(\n",
        "    \"\"\"4\n",
        "2 1 3 1\n",
        "\"\"\"\n",
        ")  # 2 0 3 1"
      ]
    },
    {
      "cell_type": "code",
      "execution_count": 40,
      "metadata": {},
      "outputs": [
        {
          "name": "stdout",
          "output_type": "stream",
          "text": [
            "4 0 6 1 3 7 2 5\n"
          ]
        }
      ],
      "source": [
        "test_solution(\n",
        "    \"\"\"8\n",
        "4 1 6 1 3 6 1 4\n",
        "\"\"\"\n",
        ")  # 4 0 6 1 3 7 2 5"
      ]
    }
  ],
  "metadata": {
    "kernelspec": {
      "display_name": "venv",
      "language": "python",
      "name": "python3"
    },
    "language_info": {
      "codemirror_mode": {
        "name": "ipython",
        "version": 3
      },
      "file_extension": ".py",
      "mimetype": "text/x-python",
      "name": "python",
      "nbconvert_exporter": "python",
      "pygments_lexer": "ipython3",
      "version": "3.12.9"
    }
  },
  "nbformat": 4,
  "nbformat_minor": 5
}
