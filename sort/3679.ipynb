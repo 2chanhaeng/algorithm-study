{
    "cells": [
        {
            "cell_type": "markdown",
            "metadata": {},
            "source": [
                "# [백준/단순 다각형](https://www.acmicpc.net/problem/3679)\n"
            ]
        },
        {
            "cell_type": "markdown",
            "metadata": {},
            "source": [
                "## 풀이과정\n"
            ]
        },
        {
            "cell_type": "markdown",
            "metadata": {},
            "source": [
                "### 첫번째 시도\n"
            ]
        },
        {
            "cell_type": "markdown",
            "metadata": {},
            "source": [
                "#### 풀이과정\n",
                "\n",
                "입력받은 점들이 다각형을 이루도록 배열하는 문제이다.\n",
                "중심을 구해 각도와 거리를 이용해 정렬하면 될 것 같아서 그대로 구현했더니 바로 통과했다.\n",
                "효율도 좋았는지 첫 제출에 Python 1위를 기록했다.\n",
                "Python 에는 복소수를 표현하기 위한 `complex` 자료형과 이를 다룰 때 사용하는 `cmath` 라이브러리를 이용해 문제를 해결했다.\n"
            ]
        },
        {
            "cell_type": "code",
            "execution_count": null,
            "metadata": {},
            "outputs": [],
            "source": [
                "from cmath import polar\n",
                "\n",
                "\n",
                "def solve(points: list[complex]):\n",
                "    order = {p: i for i, p in enumerate(points)}\n",
                "    mean = sum(points) / len(points)\n",
                "    key = lambda p: polar(p - mean)[::-1]\n",
                "    return \" \".join(str(order[p]) for p in sorted(points, key=key))\n",
                "\n",
                "\n",
                "def io(input):\n",
                "    n = input()\n",
                "    print(solve([complex(input(), input()) for _ in range(n)]))\n",
                "\n",
                "\n",
                "def solution():\n",
                "    import sys\n",
                "\n",
                "    input = sys.stdin.readline\n",
                "    for _ in range(int(input())):\n",
                "        io(map(int, input().split()).__next__)\n",
                "\n",
                "\n",
                "solution()"
            ]
        },
        {
            "cell_type": "markdown",
            "metadata": {},
            "source": [
                "![2024년 4월 7일 16시 기준 3679번 맞힌 사람 (Python) 100ms로 1위](<../img/Screenshot%202024-04-07%20at%2016-13-33%203679번%20맞힌%20사람%20(Python)%20-%201%20페이지.png>)\n"
            ]
        },
        {
            "cell_type": "markdown",
            "metadata": {},
            "source": [
                "## 해답\n"
            ]
        },
        {
            "cell_type": "code",
            "execution_count": 40,
            "metadata": {},
            "outputs": [],
            "source": [
                "from cmath import polar\n",
                "\n",
                "\n",
                "def solve(points: list[complex]):\n",
                "    order = {p: i for i, p in enumerate(points)}\n",
                "    mean = sum(points) / len(points)\n",
                "    key = lambda p: polar(p - mean)[::-1]\n",
                "    return \" \".join(str(order[p]) for p in sorted(points, key=key))\n",
                "\n",
                "\n",
                "def io(input):\n",
                "    n = input()\n",
                "    print(solve([complex(input(), input()) for _ in range(n)]))\n",
                "\n",
                "\n",
                "def solution():\n",
                "    import sys\n",
                "\n",
                "    input = sys.stdin.readline\n",
                "    for _ in range(int(input())):\n",
                "        io(map(int, input().split()).__next__)"
            ]
        },
        {
            "cell_type": "markdown",
            "metadata": {},
            "source": [
                "## 예제\n"
            ]
        },
        {
            "cell_type": "code",
            "execution_count": 41,
            "metadata": {},
            "outputs": [],
            "source": [
                "# 백준 문제 풀이용 예제 실행 코드\n",
                "from bwj import test\n",
                "\n",
                "test_solution = test(solution)\n",
                "\n",
                "# test_solution(\"\"\"\"\"\")\n",
                "# test_solution(read(\"fn\").read())"
            ]
        },
        {
            "cell_type": "code",
            "execution_count": 42,
            "metadata": {},
            "outputs": [
                {
                    "name": "stdout",
                    "output_type": "stream",
                    "text": [
                        "0 3 1 2\n",
                        "0 3 1 2 4\n"
                    ]
                }
            ],
            "source": [
                "test_solution(\n",
                "    \"\"\"2\n",
                "4 0 0 2 0 0 1 1 0\n",
                "5 0 0 10 0 10 5 5 -1 0 5\n",
                "\"\"\"\n",
                ")\n",
                "# answer:\n",
                "# 0 3 1 2\n",
                "# 3 1 2 4 0"
            ]
        }
    ],
    "metadata": {
        "interpreter": {
            "hash": "73891b0dc2e53390f36276e59930dd4ecab91b05b5c90320c2d5b1c443f87069"
        },
        "kernelspec": {
            "display_name": "Python 3.10.1 ('venv': venv)",
            "language": "python",
            "name": "python3"
        },
        "language_info": {
            "codemirror_mode": {
                "name": "ipython",
                "version": 3
            },
            "file_extension": ".py",
            "mimetype": "text/x-python",
            "name": "python",
            "nbconvert_exporter": "python",
            "pygments_lexer": "ipython3",
            "version": "3.12.2"
        },
        "orig_nbformat": 4
    },
    "nbformat": 4,
    "nbformat_minor": 2
}
