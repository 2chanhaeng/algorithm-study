{
 "cells": [
  {
   "cell_type": "markdown",
   "metadata": {},
   "source": [
    "# if 문과 match 문의 효율성 비교"
   ]
  },
  {
   "cell_type": "markdown",
   "metadata": {},
   "source": [
    "## 단순 정수자료 비교시"
   ]
  },
  {
   "cell_type": "markdown",
   "metadata": {},
   "source": [
    "임의의 정수 자료 비교 시, if문과 match 문을 비교하는 실험입니다.\\\n",
    "실험대상:\n",
    " * 크기가 65537 인 리스트를 for 문에 넣어 각각 2, 5, 17로 나눈 나머지를 비교합니다.\n",
    " * 7번의 루프를 100번(한 번 비교시 1000번) 반복하여 각 루프 당 걸린 시간의 평균과 표준편차를 구했습니다.\n",
    "\n",
    "실험결과:\n",
    "\n",
    " <table>\n",
    "   <tr>\n",
    "     <th rowspan=\"2\">단락 개수</th>\n",
    "     <th colspan=\"2\">if 문</th>\n",
    "     <th colspan=\"2\">match 문</th>\n",
    "   </tr>\n",
    "   <tr>\n",
    "     <th>평균</th>\n",
    "     <th>표준편차</th>\n",
    "     <th>평균</th>\n",
    "     <th>표준편차</th>\n",
    "   </tr>\n",
    "   <tr>\n",
    "     <td>1개</td>\n",
    "     <td>2.26 ms</td>\n",
    "     <td>31.7 µs</td>\n",
    "     <td>2.57 ms</td>\n",
    "     <td>311 µs</td>\n",
    "   </tr>\n",
    "   <tr>\n",
    "     <td>4개</td>\n",
    "     <td>4.47 ms</td>\n",
    "     <td>28.5µs</td>\n",
    "     <td>4.03 ms</td>\n",
    "     <td>69.1 µs</td>\n",
    "   </tr>\n",
    "   <tr>\n",
    "     <td>16개</td>\n",
    "     <td>10.3 ms</td>\n",
    "     <td>699 µs</td>\n",
    "     <td>9.66 ms</td>\n",
    "     <td>416 µs</td>\n",
    "   </tr>\n",
    " </table>\n",
    " \n",
    " * 한가지의 경우 if 문이 평균 시간도 적게 걸리고 표준편차는 match 문의 1/10 정도로 낮아 매우 안정적인 모습을 보였습니다.\n",
    " * 그러나 그외의 경우에는 match 문이 더 빠른 평균 시간을 보여줬습니다. 16개의 경우에는 표준편차도 비교적 낮게 나왔습니다."
   ]
  },
  {
   "cell_type": "code",
   "execution_count": 16,
   "metadata": {},
   "outputs": [],
   "source": [
    "total = 65537\n",
    "exp = total - 2\n",
    "l = [pow(i, exp, total) for i in range(total)]"
   ]
  },
  {
   "cell_type": "code",
   "execution_count": 34,
   "metadata": {},
   "outputs": [
    {
     "name": "stdout",
     "output_type": "stream",
     "text": [
      "2.26 ms ± 31.7 µs per loop (mean ± std. dev. of 7 runs, 1,000 loops each)\n"
     ]
    }
   ],
   "source": [
    "%%timeit -n 1000\n",
    "for i in l:\n",
    "    if i % 2 == 0: 0\n",
    "    else: 1"
   ]
  },
  {
   "cell_type": "code",
   "execution_count": 20,
   "metadata": {},
   "outputs": [
    {
     "name": "stdout",
     "output_type": "stream",
     "text": [
      "4.47 ms ± 28.5 µs per loop (mean ± std. dev. of 7 runs, 100 loops each)\n"
     ]
    }
   ],
   "source": [
    "%%timeit\n",
    "for i in l:\n",
    "    i %= 5\n",
    "    if i == 0: 0\n",
    "    elif i == 1: 1\n",
    "    elif i == 2: 2\n",
    "    elif i == 3: 3\n",
    "    else: 4\n"
   ]
  },
  {
   "cell_type": "code",
   "execution_count": 37,
   "metadata": {},
   "outputs": [
    {
     "name": "stdout",
     "output_type": "stream",
     "text": [
      "10.3 ms ± 699 µs per loop (mean ± std. dev. of 7 runs, 100 loops each)\n"
     ]
    }
   ],
   "source": [
    "%%timeit\n",
    "for i in l:\n",
    "    i %= 17\n",
    "    if i == 0: 0\n",
    "    elif i == 1: 1\n",
    "    elif i == 2: 2\n",
    "    elif i == 3: 3\n",
    "    elif i == 4: 4\n",
    "    elif i == 5: 5\n",
    "    elif i == 6: 6\n",
    "    elif i == 7: 7\n",
    "    elif i == 8: 8\n",
    "    elif i == 9: 9\n",
    "    elif i == 10: 10\n",
    "    elif i == 11: 11\n",
    "    elif i == 12: 12\n",
    "    elif i == 13: 13\n",
    "    elif i == 14: 14\n",
    "    elif i == 15: 15\n",
    "    else: 16\n"
   ]
  },
  {
   "cell_type": "code",
   "execution_count": 32,
   "metadata": {},
   "outputs": [
    {
     "name": "stdout",
     "output_type": "stream",
     "text": [
      "2.57 ms ± 311 µs per loop (mean ± std. dev. of 7 runs, 1,000 loops each)\n"
     ]
    }
   ],
   "source": [
    "%%timeit -n 1000\n",
    "for i in l:\n",
    "    match i % 2:\n",
    "        case 0: 0\n",
    "        case _: 1"
   ]
  },
  {
   "cell_type": "code",
   "execution_count": 21,
   "metadata": {},
   "outputs": [
    {
     "name": "stdout",
     "output_type": "stream",
     "text": [
      "4.03 ms ± 69.1 µs per loop (mean ± std. dev. of 7 runs, 100 loops each)\n"
     ]
    }
   ],
   "source": [
    "%%timeit\n",
    "for i in l:\n",
    "    match i % 5:\n",
    "        case 0: 0\n",
    "        case 1: 1\n",
    "        case 2: 2\n",
    "        case 3: 3\n",
    "        case _: 4"
   ]
  },
  {
   "cell_type": "code",
   "execution_count": 38,
   "metadata": {},
   "outputs": [
    {
     "name": "stdout",
     "output_type": "stream",
     "text": [
      "9.66 ms ± 416 µs per loop (mean ± std. dev. of 7 runs, 100 loops each)\n"
     ]
    }
   ],
   "source": [
    "%%timeit\n",
    "for i in l:\n",
    "    match i % 17:\n",
    "        case 0: 0\n",
    "        case 1: 1\n",
    "        case 2: 2\n",
    "        case 3: 3\n",
    "        case 4: 4\n",
    "        case 5: 5\n",
    "        case 6: 6\n",
    "        case 7: 7\n",
    "        case 8: 8\n",
    "        case 9: 9\n",
    "        case 10: 10\n",
    "        case 11: 11\n",
    "        case 12: 12\n",
    "        case 13: 13\n",
    "        case 14: 14\n",
    "        case 15: 15\n",
    "        case _: 16"
   ]
  }
 ],
 "metadata": {
  "interpreter": {
   "hash": "73891b0dc2e53390f36276e59930dd4ecab91b05b5c90320c2d5b1c443f87069"
  },
  "kernelspec": {
   "display_name": "Python 3.10.1 ('venv': venv)",
   "language": "python",
   "name": "python3"
  },
  "language_info": {
   "codemirror_mode": {
    "name": "ipython",
    "version": 3
   },
   "file_extension": ".py",
   "mimetype": "text/x-python",
   "name": "python",
   "nbconvert_exporter": "python",
   "pygments_lexer": "ipython3",
   "version": "3.10.2"
  },
  "orig_nbformat": 4
 },
 "nbformat": 4,
 "nbformat_minor": 2
}
