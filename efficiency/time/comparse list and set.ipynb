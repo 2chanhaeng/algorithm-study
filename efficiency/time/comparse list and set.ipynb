{
 "cells": [
  {
   "cell_type": "markdown",
   "metadata": {},
   "source": [
    "# 리스트와 딕셔너리 간 시간 효율성 비교"
   ]
  },
  {
   "cell_type": "markdown",
   "metadata": {},
   "source": [
    "## 같은 자료인지 비교하는 경우"
   ]
  },
  {
   "cell_type": "markdown",
   "metadata": {},
   "source": [
    "두 자료가 같은 자료인지 비교하는 경우의 시간 효율성을 비교합니다.\\\n",
    "실험대상:\n",
    ">  크기가 65537 인 256개의 리스트와 딕셔너리를 각각 두 개 씩 비교합니다.\\\n",
    ">  32번의 루프를 16번 반복하여 각 반복 당 걸린 시간의 평균과 표준편차를 구했습니다.\n",
    "\n",
    "실험결과:\n",
    ">  리스트의 경우 3.83 ms ± 838 µs, 딕셔너리의 경우 4.9 ms ± 131 µs 의 결과가 나왔니다.\\\n",
    ">  평균적으로는 리스트가 빠르긴 하나, 딕셔너리는 적은 표준편차로 안정된 속도를 냈습니다."
   ]
  },
  {
   "cell_type": "code",
   "execution_count": 7,
   "metadata": {},
   "outputs": [
    {
     "name": "stdout",
     "output_type": "stream",
     "text": [
      "False\n",
      "False\n"
     ]
    }
   ],
   "source": [
    "mod = 65537\n",
    "modm2 = mod - 2\n",
    "howmuch = 512\n",
    "l = [[pow(i, j, mod) for i in range(mod)] for j in range(1, howmuch + 1)]\n",
    "m = [[pow(i, j, mod) for i in range(mod)] for j in range(1, howmuch + 1)]\n",
    "d = [{i:pow(i,modm2,mod) for i in range(mod)} for j in range(1, howmuch + 1)]\n",
    "e = [{i:pow(i,modm2,mod) for i in range(mod)} for j in range(1, howmuch + 1)]\n",
    "print(id(l) == id(m))\n",
    "print(id(d) == id(e))\n"
   ]
  },
  {
   "cell_type": "code",
   "execution_count": 8,
   "metadata": {},
   "outputs": [
    {
     "name": "stdout",
     "output_type": "stream",
     "text": [
      "3.83 ms ± 838 µs per loop (mean ± std. dev. of 16 runs, 32 loops each)\n"
     ]
    }
   ],
   "source": [
    "%%timeit -r 16 -n 32 \n",
    "l.pop() == m.pop()"
   ]
  },
  {
   "cell_type": "code",
   "execution_count": 9,
   "metadata": {},
   "outputs": [
    {
     "name": "stdout",
     "output_type": "stream",
     "text": [
      "4.9 ms ± 131 µs per loop (mean ± std. dev. of 16 runs, 32 loops each)\n"
     ]
    }
   ],
   "source": [
    "%%timeit -r 16 -n 32 \n",
    "d.pop() == e.pop()"
   ]
  }
 ],
 "metadata": {
  "interpreter": {
   "hash": "73891b0dc2e53390f36276e59930dd4ecab91b05b5c90320c2d5b1c443f87069"
  },
  "kernelspec": {
   "display_name": "Python 3.10.1 ('venv': venv)",
   "language": "python",
   "name": "python3"
  },
  "language_info": {
   "codemirror_mode": {
    "name": "ipython",
    "version": 3
   },
   "file_extension": ".py",
   "mimetype": "text/x-python",
   "name": "python",
   "nbconvert_exporter": "python",
   "pygments_lexer": "ipython3",
   "version": "3.10.1"
  },
  "orig_nbformat": 4
 },
 "nbformat": 4,
 "nbformat_minor": 2
}
