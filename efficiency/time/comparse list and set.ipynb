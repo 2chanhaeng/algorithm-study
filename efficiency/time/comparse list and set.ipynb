{
 "cells": [
  {
   "cell_type": "markdown",
   "metadata": {},
   "source": [
    "# 리스트와 집합 간 시간 효율성 비교"
   ]
  },
  {
   "cell_type": "markdown",
   "metadata": {},
   "source": [
    "## 자료 포함 여부 확인 시"
   ]
  },
  {
   "cell_type": "markdown",
   "metadata": {},
   "source": [
    "임의의 데이터의 포함 여부 확인 시, 리스트와 집합 간의 효율성을 비교하는 실헙입니다.\\\n",
    "실험대상:\n",
    " * 크기가 32767 인 리스트와 집합에서 각각 65535 개의 자료 포함 여부를 비교합니다.\n",
    " * 7번의 루프를 1번 반복하여 각 반복 당 걸린 시간의 평균과 표준편차를 구했습니다.\n",
    "\n",
    "실험결과:\n",
    " * 리스트의 경우 14.6 s ± 851 ms, 집합의 경우 2.87 ms ± 165 µs 의 결과가 나왔습니다.\n",
    " * 포함 여부를 확인하는 경우, 리스트에 비해 집합이 월등한 속도를 보여줬습니다."
   ]
  },
  {
   "cell_type": "code",
   "execution_count": 1,
   "metadata": {},
   "outputs": [],
   "source": [
    "list_ = list(range(0, 1 << 16, 2))\n",
    "set_ = set(range(0, 1 << 16, 2))"
   ]
  },
  {
   "cell_type": "code",
   "execution_count": 3,
   "metadata": {},
   "outputs": [
    {
     "name": "stdout",
     "output_type": "stream",
     "text": [
      "14.6 s ± 851 ms per loop (mean ± std. dev. of 7 runs, 1 loop each)\n"
     ]
    }
   ],
   "source": [
    "%%timeit\n",
    "for i in range(1 << 16):\n",
    "    i in list_"
   ]
  },
  {
   "cell_type": "code",
   "execution_count": 4,
   "metadata": {},
   "outputs": [
    {
     "name": "stdout",
     "output_type": "stream",
     "text": [
      "2.87 ms ± 165 µs per loop (mean ± std. dev. of 7 runs, 100 loops each)\n"
     ]
    }
   ],
   "source": [
    "%%timeit\n",
    "for i in range(1 << 16):\n",
    "    i in set_"
   ]
  }
 ],
 "metadata": {
  "interpreter": {
   "hash": "73891b0dc2e53390f36276e59930dd4ecab91b05b5c90320c2d5b1c443f87069"
  },
  "kernelspec": {
   "display_name": "Python 3.10.1 ('venv': venv)",
   "language": "python",
   "name": "python3"
  },
  "language_info": {
   "codemirror_mode": {
    "name": "ipython",
    "version": 3
   },
   "file_extension": ".py",
   "mimetype": "text/x-python",
   "name": "python",
   "nbconvert_exporter": "python",
   "pygments_lexer": "ipython3",
   "version": "3.10.2"
  },
  "orig_nbformat": 4
 },
 "nbformat": 4,
 "nbformat_minor": 2
}
