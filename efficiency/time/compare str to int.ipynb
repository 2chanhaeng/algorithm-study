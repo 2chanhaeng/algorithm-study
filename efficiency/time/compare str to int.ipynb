{
 "cells": [
  {
   "cell_type": "markdown",
   "metadata": {},
   "source": [
    "# 문자열 정수로 변환 시 비교"
   ]
  },
  {
   "cell_type": "markdown",
   "metadata": {},
   "source": [
    "## 입력이 제한된 경우"
   ]
  },
  {
   "cell_type": "markdown",
   "metadata": {},
   "source": [
    "입력 될 대상이 두 가지(0,1), 세 가지(0,1,2), 네 가지(0,1,2,3)인 경우를 비교합니다.\\\n",
    "실험대상:\n",
    " * 크기가 65536 이고 \"0\" 또는 \"1\" 로 이루어진 리스트의 원소들을 정수로 변환한 리스트를 반환합니다.\n",
    " * 두 가지의 경우 총 7개, 서너 가지의 경우 총 3개(☆)의 방법으로 실험했습니다.\n",
    "   * `if else` 삼항 연산자 ☆\n",
    "   * `int` ☆\n",
    "   * `ord(i) - ord(\"0)(= 48)` ☆\n",
    "   * `ord(i) % 2`\n",
    "   * `ord(i) & 1`\n",
    "   * `if else` 삼항 연산자 함수\n",
    "   * `if else` 문 함수\n",
    " * 각 경우 모두 list comprehension, map 객체를 list로 변환하는 방법 두 가지를 모두 실험했습니다.\n",
    " * 10번의 루프를 100번 반복하여 각 반복 당 걸린 시간의 평균과 표준편차를 구했습니다.\n",
    "\n",
    "실험결과:\n",
    " * `if else` list comprehension 이 세 경우 모두 가장 빠른 성능을 보여주었습니다.다만 가짓수가 늘어날수록 더 많은 연산이 필요했기에 속도가 점점 느려지는 모습을 보여주었습니다.\n",
    " * `int`의 경우 list comprehension 과 사용 시 매우 느리지만, map 을 이용할 경우 가장 빠른 모습을 보였습니다.\n"
   ]
  },
  {
   "cell_type": "code",
   "execution_count": 8,
   "metadata": {},
   "outputs": [
    {
     "name": "stdout",
     "output_type": "stream",
     "text": [
      "if else comprehension:\n",
      "2.45 ms ± 33.3 µs per loop (mean ± std. dev. of 10 runs, 100 loops each)\n",
      "\n",
      "int comprehension:\n",
      "7.33 ms ± 49.2 µs per loop (mean ± std. dev. of 10 runs, 100 loops each)\n",
      "\n",
      "ord - 48 comprehension:\n",
      "4.2 ms ± 67.7 µs per loop (mean ± std. dev. of 10 runs, 100 loops each)\n",
      "\n",
      "ord & 1 comprehension:\n",
      "5.07 ms ± 37.5 µs per loop (mean ± std. dev. of 10 runs, 100 loops each)\n",
      "\n",
      "ord % 2 comprehension:\n",
      "3.93 ms ± 54.1 µs per loop (mean ± std. dev. of 10 runs, 100 loops each)\n",
      "\n",
      "q comprehension:\n",
      "6.17 ms ± 45.9 µs per loop (mean ± std. dev. of 10 runs, 100 loops each)\n",
      "\n",
      "w comprehension:\n",
      "6.84 ms ± 59.2 µs per loop (mean ± std. dev. of 10 runs, 100 loops each)\n",
      "\n",
      "if else map:\n",
      "4.94 ms ± 40.4 µs per loop (mean ± std. dev. of 10 runs, 100 loops each)\n",
      "\n",
      "int map:\n",
      "4.54 ms ± 34.7 µs per loop (mean ± std. dev. of 10 runs, 100 loops each)\n",
      "\n",
      "ord - 48 map:\n",
      "6.06 ms ± 47.3 µs per loop (mean ± std. dev. of 10 runs, 100 loops each)\n",
      "\n",
      "ord % 2 map:\n",
      "5.1 ms ± 52.7 µs per loop (mean ± std. dev. of 10 runs, 100 loops each)\n",
      "\n",
      "ord & 1 map:\n",
      "6.61 ms ± 73.2 µs per loop (mean ± std. dev. of 10 runs, 100 loops each)\n",
      "\n",
      "q map:\n",
      "4.83 ms ± 63.9 µs per loop (mean ± std. dev. of 10 runs, 100 loops each)\n",
      "\n",
      "w map:\n",
      "4.79 ms ± 79.6 µs per loop (mean ± std. dev. of 10 runs, 100 loops each)\n"
     ]
    }
   ],
   "source": [
    "a = [str(i) for i in [0,1] * (1<<15)]\n",
    "\n",
    "def q(i): return 1 if i==\"1\"else 0\n",
    "def w(i):\n",
    "    if i==1: return 1\n",
    "    return 0\n",
    "\n",
    "print(\"if else comprehension:\")\n",
    "%timeit -n 100 -r 10 _ = [1 if i==\"1\"else 0 for i in a]\n",
    "print(\"\\nint comprehension:\")\n",
    "%timeit -n 100 -r 10 _ = [int(i) for i in a]\n",
    "print(\"\\nord - 48 comprehension:\")\n",
    "%timeit -n 100 -r 10 _ = [ord(i)-48 for i in a]\n",
    "print(\"\\nord & 1 comprehension:\")\n",
    "%timeit -n 100 -r 10 _ = [ord(i)&1 for i in a]\n",
    "print(\"\\nord % 2 comprehension:\")\n",
    "%timeit -n 100 -r 10 _ = [ord(i)%2 for i in a]\n",
    "print(\"\\nq comprehension:\")\n",
    "%timeit -n 100 -r 10 _ = [q(i) for i in a]\n",
    "print(\"\\nw comprehension:\")\n",
    "%timeit -n 100 -r 10 _ = [w(i) for i in a]\n",
    "print(\"\\nif else map:\")\n",
    "%timeit -n 100 -r 10 _ = list(map(lambda i: 1 if i==\"1\"else 0,a))\n",
    "print(\"\\nint map:\")\n",
    "%timeit -n 100 -r 10 _ = list(map(int,a))\n",
    "print(\"\\nord - 48 map:\")\n",
    "%timeit -n 100 -r 10 _ = list(map(lambda i: ord(i)-48,a))\n",
    "print(\"\\nord % 2 map:\")\n",
    "%timeit -n 100 -r 10 _ = list(map(lambda i: ord(i)%2,a))\n",
    "print(\"\\nord & 1 map:\")\n",
    "%timeit -n 100 -r 10 _ = list(map(lambda i: ord(i)&1,a))\n",
    "print(\"\\nq map:\")\n",
    "%timeit -n 100 -r 10 _ = list(map(q,a))\n",
    "print(\"\\nw map:\")\n",
    "%timeit -n 100 -r 10 _ = list(map(w,a))"
   ]
  },
  {
   "cell_type": "code",
   "execution_count": 9,
   "metadata": {},
   "outputs": [
    {
     "name": "stdout",
     "output_type": "stream",
     "text": [
      "if else comprehension:\n",
      "2.97 ms ± 64.4 µs per loop (mean ± std. dev. of 10 runs, 100 loops each)\n",
      "\n",
      "int comprehension:\n",
      "7.32 ms ± 70.3 µs per loop (mean ± std. dev. of 10 runs, 100 loops each)\n",
      "\n",
      "ord & 1 comprehension:\n",
      "4.15 ms ± 58.7 µs per loop (mean ± std. dev. of 10 runs, 100 loops each)\n",
      "\n",
      "if else map:\n",
      "5.57 ms ± 38.2 µs per loop (mean ± std. dev. of 10 runs, 100 loops each)\n",
      "\n",
      "int map:\n",
      "4.8 ms ± 40.8 µs per loop (mean ± std. dev. of 10 runs, 100 loops each)\n",
      "\n",
      "ord & 1 map:\n",
      "6.14 ms ± 28.1 µs per loop (mean ± std. dev. of 10 runs, 100 loops each)\n"
     ]
    }
   ],
   "source": [
    "b = [str(i) for i in [0,1,2] * 21845 + [0]]\n",
    "print(\"if else comprehension:\")\n",
    "%timeit -n 100 -r 10 _ = [1 if i==\"1\"else (2 if i==\"2\"else 0) for i in b]\n",
    "print(\"\\nint comprehension:\")\n",
    "%timeit -n 100 -r 10 _ = [int(i) for i in b]\n",
    "print(\"\\nord & 1 comprehension:\")\n",
    "%timeit -n 100 -r 10 _ = [ord(i)-48 for i in b]\n",
    "print(\"\\nif else map:\")\n",
    "%timeit -n 100 -r 10 _ = list(map(lambda i: 1 if i==\"1\"else (2 if i==\"2\"else 0),b))\n",
    "print(\"\\nint map:\")\n",
    "%timeit -n 100 -r 10 _ = list(map(int,b))\n",
    "print(\"\\nord & 1 map:\")\n",
    "%timeit -n 100 -r 10 _ = list(map(lambda i: ord(i)-48,b))"
   ]
  },
  {
   "cell_type": "code",
   "execution_count": 10,
   "metadata": {},
   "outputs": [
    {
     "name": "stdout",
     "output_type": "stream",
     "text": [
      "if else comprehension:\n",
      "3.4 ms ± 81.9 µs per loop (mean ± std. dev. of 10 runs, 100 loops each)\n",
      "\n",
      "int comprehension:\n",
      "6.94 ms ± 52.5 µs per loop (mean ± std. dev. of 10 runs, 100 loops each)\n",
      "\n",
      "ord & 1 comprehension:\n",
      "3.9 ms ± 34.8 µs per loop (mean ± std. dev. of 10 runs, 100 loops each)\n",
      "\n",
      "if else map:\n",
      "5.69 ms ± 32.2 µs per loop (mean ± std. dev. of 10 runs, 100 loops each)\n",
      "\n",
      "int map:\n",
      "4.84 ms ± 30.2 µs per loop (mean ± std. dev. of 10 runs, 100 loops each)\n",
      "\n",
      "ord & 1 map:\n",
      "5.79 ms ± 70.2 µs per loop (mean ± std. dev. of 10 runs, 100 loops each)\n"
     ]
    }
   ],
   "source": [
    "c = [str(i) for i in [0,1,2,3] * (1<<14)]\n",
    "print(\"if else comprehension:\")\n",
    "%timeit -n 100 -r 10 _ = [1 if i==\"1\"else (2 if i==\"2\"else (3 if i==\"3\"else 0)) for i in c]\n",
    "print(\"\\nint comprehension:\")\n",
    "%timeit -n 100 -r 10 _ = [int(i) for i in c]\n",
    "print(\"\\nord & 1 comprehension:\")\n",
    "%timeit -n 100 -r 10 _ = [ord(i)-48 for i in c]\n",
    "print(\"\\nif else map:\")\n",
    "%timeit -n 100 -r 10 _ = list(map(lambda i: 1 if i==\"1\"else (2 if i==\"2\"else (3 if i==\"3\"else 0)),c))\n",
    "print(\"\\nint map:\")\n",
    "%timeit -n 100 -r 10 _ = list(map(int,c))\n",
    "print(\"\\nord & 1 map:\")\n",
    "%timeit -n 100 -r 10 _ = list(map(lambda i: ord(i)-48,c))"
   ]
  }
 ],
 "metadata": {
  "interpreter": {
   "hash": "73891b0dc2e53390f36276e59930dd4ecab91b05b5c90320c2d5b1c443f87069"
  },
  "kernelspec": {
   "display_name": "Python 3.10.1 ('venv': venv)",
   "language": "python",
   "name": "python3"
  },
  "language_info": {
   "codemirror_mode": {
    "name": "ipython",
    "version": 3
   },
   "file_extension": ".py",
   "mimetype": "text/x-python",
   "name": "python",
   "nbconvert_exporter": "python",
   "pygments_lexer": "ipython3",
   "version": "3.10.2"
  },
  "orig_nbformat": 4
 },
 "nbformat": 4,
 "nbformat_minor": 2
}
