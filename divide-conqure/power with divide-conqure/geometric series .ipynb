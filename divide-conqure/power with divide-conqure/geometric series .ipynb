{
 "cells": [
  {
   "cell_type": "markdown",
   "metadata": {},
   "source": [
    "# [백준/등비수열](https://www.acmicpc.net/problem/15712)"
   ]
  },
  {
   "cell_type": "markdown",
   "metadata": {},
   "source": [
    "## 풀이과정"
   ]
  },
  {
   "cell_type": "markdown",
   "metadata": {},
   "source": [
    "### 첫번째 시도"
   ]
  },
  {
   "cell_type": "markdown",
   "metadata": {},
   "source": [
    "풀이과정"
   ]
  },
  {
   "cell_type": "code",
   "execution_count": null,
   "metadata": {},
   "outputs": [],
   "source": [
    "# 풀이 코드\n"
   ]
  },
  {
   "cell_type": "markdown",
   "metadata": {},
   "source": [
    "## 해답"
   ]
  },
  {
   "cell_type": "code",
   "execution_count": 5,
   "metadata": {},
   "outputs": [
    {
     "data": {
      "text/plain": [
       "4"
      ]
     },
     "execution_count": 5,
     "metadata": {},
     "output_type": "execute_result"
    }
   ],
   "source": [
    "e=lambda a,b:b if a%b==0 else e(b,a%b)\n",
    "e(20,12)"
   ]
  },
  {
   "cell_type": "code",
   "execution_count": 30,
   "metadata": {},
   "outputs": [
    {
     "data": {
      "text/plain": [
       "(4, 4)"
      ]
     },
     "execution_count": 30,
     "metadata": {},
     "output_type": "execute_result"
    }
   ],
   "source": [
    "def w(n,p,s,e=1):\n",
    " while n%p==0:n//=p;e+=1\n",
    " return n,s*e\n",
    "w(108,3,1)"
   ]
  },
  {
   "cell_type": "code",
   "execution_count": 31,
   "metadata": {},
   "outputs": [
    {
     "name": "stdout",
     "output_type": "stream",
     "text": [
      "27 3\n"
     ]
    },
    {
     "data": {
      "text/plain": [
       "12"
      ]
     },
     "execution_count": 31,
     "metadata": {},
     "output_type": "execute_result"
    }
   ],
   "source": [
    "def f(n):\n",
    " n,s=w(n,2,1)\n",
    " for i in range(3,int(n**.5)+1,2):\n",
    "  n,s=w(n,i,s)\n",
    "  if n==1:break\n",
    " return s\n",
    "f(108)"
   ]
  },
  {
   "cell_type": "code",
   "execution_count": 4,
   "metadata": {},
   "outputs": [
    {
     "data": {
      "text/plain": [
       "28"
      ]
     },
     "execution_count": 4,
     "metadata": {},
     "output_type": "execute_result"
    }
   ],
   "source": [
    "m=100\n",
    "t=lambda r,n:((r*t(r,n-1)if n%2 else t(pow(r,2,m),n//2))%m)if n else 1\n",
    "t(2,7)"
   ]
  },
  {
   "cell_type": "code",
   "execution_count": 17,
   "metadata": {},
   "outputs": [
    {
     "name": "stdout",
     "output_type": "stream",
     "text": [
      "0 1 1\n",
      "1 2 3\n",
      "2 4 7\n",
      "3 8 15\n",
      "4 16 31\n",
      "5 32 63\n",
      "6 64 127\n"
     ]
    },
    {
     "data": {
      "text/plain": [
       "127"
      ]
     },
     "execution_count": 17,
     "metadata": {},
     "output_type": "execute_result"
    }
   ],
   "source": [
    "a, r, n, mod = 1, 2, 7, 100\n",
    "ar, s = a, 0\n",
    "for i in range(n):\n",
    "    s += ar\n",
    "    print(i,ar,s)\n",
    "    ar *= r\n",
    "s"
   ]
  },
  {
   "cell_type": "code",
   "execution_count": 18,
   "metadata": {},
   "outputs": [
    {
     "data": {
      "text/plain": [
       "64"
      ]
     },
     "execution_count": 18,
     "metadata": {},
     "output_type": "execute_result"
    }
   ],
   "source": [
    "a, r, n, mod = 1, 2, 7, 100\n",
    "def powsum(low, high, size):\n",
    "    if size == 1:\n",
    "        return (a * twopow(r, n, mod))\n",
    "    if size % 2:\n",
    "        return (powsum(high, high, 1) + powsum(low, low + size // 2 - 1, size // 2)) * (twopow(r, size // 2, mod) + 1) % mod\n",
    "    else:\n",
    "        return powsum(low, low + size // 2 - 1, size // 2) * (twopow(r, size // 2, mod) + 1) % mod\n",
    "powsum(0, n - 1, n)"
   ]
  },
  {
   "cell_type": "code",
   "execution_count": 1,
   "metadata": {},
   "outputs": [
    {
     "data": {
      "text/plain": [
       "28"
      ]
     },
     "execution_count": 1,
     "metadata": {},
     "output_type": "execute_result"
    }
   ],
   "source": [
    "def twopow(r, n, mod):\n",
    "    if n:\n",
    "        if n % 2: return (r * twopow(r, n - 1, mod)) % mod\n",
    "        else: return (twopow((r * r) % mod, n // 2, mod)) % mod\n",
    "    return 1\n",
    "twopow(2,7,100)"
   ]
  },
  {
   "cell_type": "code",
   "execution_count": 17,
   "metadata": {},
   "outputs": [
    {
     "name": "stdout",
     "output_type": "stream",
     "text": [
      "[1, 1] [0, 0] [3, 3] [3, 3] [3, 3] [1, 1] [7, 7] [6, 6]\n",
      "[0, 0] [1, 1] [0, 0] [4, 4] [4, 4] [5, 5] [4, 4] [4, 4]\n",
      "[1, 1] [1, 1] [1, 1] [0, 0] [1, 1] [1, 1] [5, 5] [1, 1]\n",
      "[0, 0] [0, 0] [2, 2] [1, 1] [0, 0] [2, 2] [6, 6] [3, 3]\n",
      "[1, 1] [1, 1] [3, 3] [0, 0] [1, 1] [0, 0] [3, 3] [7, 7]\n",
      "[0, 0] [1, 1] [0, 0] [3, 3] [4, 4] [1, 1] [0, 0] [1, 1]\n",
      "[1, 1] [0, 0] [1, 1] [4, 4] [3, 3] [3, 3] [1, 1] [0, 0]\n",
      "[0, 0] [1, 1] [2, 2] [0, 0] [4, 4] [1, 1] [2, 2] [1, 1]\n"
     ]
    }
   ],
   "source": [
    "for k in range(2, 10):\n",
    "    print(*([sum(pow(k, i) for i in range(10)) % j, sum(pow(k, i, j) for i in range(10)) % j] for j in range(2, 10)))"
   ]
  },
  {
   "cell_type": "code",
   "execution_count": null,
   "metadata": {},
   "outputs": [],
   "source": [
    "(a + a * r + ... + a * r ** n) % mod\n",
    "(a % mod + a * r % mod + ... + a * r ** n % mod) % mod\n"
   ]
  },
  {
   "cell_type": "code",
   "execution_count": 47,
   "metadata": {},
   "outputs": [
    {
     "data": {
      "text/plain": [
       "(6, 1)"
      ]
     },
     "execution_count": 47,
     "metadata": {},
     "output_type": "execute_result"
    }
   ],
   "source": [
    "divmod(13,2)"
   ]
  },
  {
   "cell_type": "code",
   "execution_count": 57,
   "metadata": {},
   "outputs": [
    {
     "name": "stdout",
     "output_type": "stream",
     "text": [
      " 1 0\n",
      " 0 1\n"
     ]
    },
    {
     "data": {
      "text/plain": [
       "2"
      ]
     },
     "execution_count": 57,
     "metadata": {},
     "output_type": "execute_result"
    }
   ],
   "source": [
    "def pow(r, n):\n",
    "    result = 1\n",
    "    for i in bin(n)[2:]:\n",
    "        result *= result\n",
    "        if i == \"1\":\n",
    "            result *= r\n",
    "    return result\n",
    "print(*(pow(2, i) for i in range(10)))"
   ]
  },
  {
   "cell_type": "code",
   "execution_count": 60,
   "metadata": {},
   "outputs": [
    {
     "name": "stdout",
     "output_type": "stream",
     "text": [
      "1 2 4 8 16 32 64 128 256 512\n"
     ]
    }
   ],
   "source": [
    "def pow(r, n):\n",
    "    result = 1\n",
    "    while n:\n",
    "        n, mod = divmod(n, 2)\n",
    "        if mod:\n",
    "            result *= r\n",
    "        r *= r\n",
    "    return result\n",
    "print(*(pow(2, i) for i in range(10)))"
   ]
  },
  {
   "cell_type": "code",
   "execution_count": 61,
   "metadata": {},
   "outputs": [],
   "source": [
    "def solution():\n",
    "    import sys\n",
    "\n",
    "    a, r, n, mod = map(int, sys.stdin.readline().rstrip().split())\n",
    "    \n",
    "    def pow(r, n):\n",
    "        result = 1\n",
    "        for i in bin(n)[2:]:\n",
    "            result *= result\n",
    "            if i == \"1\":\n",
    "                result *= r\n",
    "            result %= mod\n",
    "        return result\n",
    "\n",
    "    def powsum(low, high, size):\n",
    "        if size == 1:\n",
    "            return a * pow(r, low) % mod\n",
    "        half, is_odd = divmod(size, 2)\n",
    "        if is_odd:\n",
    "            return (a * pow(r, high) + powsum(low, low + half - 1, half) * (pow(r, half) + 1)) % mod\n",
    "        return (powsum(low, low + half - 1, half) * (pow(r, half) + 1)) % mod\n",
    "    \n",
    "    print(powsum(0, n - 1, n))"
   ]
  },
  {
   "cell_type": "markdown",
   "metadata": {},
   "source": [
    "## 테스트 결과"
   ]
  },
  {
   "cell_type": "markdown",
   "metadata": {},
   "source": [
    "|테스트|결과|\n",
    "|---:|:---|"
   ]
  },
  {
   "cell_type": "markdown",
   "metadata": {},
   "source": [
    "## 예제"
   ]
  },
  {
   "cell_type": "code",
   "execution_count": 62,
   "metadata": {},
   "outputs": [
    {
     "name": "stdout",
     "output_type": "stream",
     "text": [
      "The blackcellmagic extension is already loaded. To reload it, use:\n",
      "  %reload_ext blackcellmagic\n"
     ]
    }
   ],
   "source": [
    "# black 모듈을 jupyter notebook 내에서 사용 가능하게 만들어주는 blackcellmagic 모듈 불러오기\n",
    "%load_ext blackcellmagic\n",
    "# %%black\n",
    "\n",
    "# 백준 문제 풀이용 예제 실행 코드\n",
    "from bwj import test\n",
    "test_solution = test(solution)\n",
    "\n",
    "# test_solution(\"\"\"\"\"\")\n",
    "# test_solution(read(\"fn\").read())"
   ]
  },
  {
   "cell_type": "code",
   "execution_count": 63,
   "metadata": {},
   "outputs": [
    {
     "name": "stdout",
     "output_type": "stream",
     "text": [
      "6\n"
     ]
    }
   ],
   "source": [
    "test_solution(\"\"\"2 2 6 10\"\"\")\n",
    "# 6"
   ]
  },
  {
   "cell_type": "code",
   "execution_count": 64,
   "metadata": {},
   "outputs": [
    {
     "name": "stdout",
     "output_type": "stream",
     "text": [
      "11\n"
     ]
    }
   ],
   "source": [
    "test_solution(\"\"\"1 2 9 100\"\"\")\n",
    "# 11"
   ]
  },
  {
   "cell_type": "code",
   "execution_count": 65,
   "metadata": {},
   "outputs": [
    {
     "name": "stdout",
     "output_type": "stream",
     "text": [
      "8\n"
     ]
    }
   ],
   "source": [
    "test_solution(\"\"\"3 5 2 10\"\"\")\n",
    "# 8"
   ]
  },
  {
   "cell_type": "code",
   "execution_count": 66,
   "metadata": {},
   "outputs": [
    {
     "name": "stdout",
     "output_type": "stream",
     "text": [
      "0\n"
     ]
    }
   ],
   "source": [
    "test_solution(\"\"\"2 999999893 999999928 999999929\"\"\")"
   ]
  }
 ],
 "metadata": {
  "kernelspec": {
   "display_name": "Python 3.10.4 ('venv': venv)",
   "language": "python",
   "name": "python3"
  },
  "language_info": {
   "codemirror_mode": {
    "name": "ipython",
    "version": 3
   },
   "file_extension": ".py",
   "mimetype": "text/x-python",
   "name": "python",
   "nbconvert_exporter": "python",
   "pygments_lexer": "ipython3",
   "version": "3.10.4"
  },
  "orig_nbformat": 4,
  "vscode": {
   "interpreter": {
    "hash": "72904a014a9ffe38f4c58942120b599b3c5a87d06764037548e0139929c1cde3"
   }
  }
 },
 "nbformat": 4,
 "nbformat_minor": 2
}
