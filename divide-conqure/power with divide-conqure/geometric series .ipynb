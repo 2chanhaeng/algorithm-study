{
 "cells": [
  {
   "cell_type": "markdown",
   "metadata": {},
   "source": [
    "# [백준/등비수열](https://www.acmicpc.net/problem/15712)"
   ]
  },
  {
   "cell_type": "markdown",
   "metadata": {},
   "source": [
    "## 풀이과정"
   ]
  },
  {
   "cell_type": "markdown",
   "metadata": {},
   "source": [
    "### 첫번째 시도"
   ]
  },
  {
   "cell_type": "markdown",
   "metadata": {},
   "source": [
    "#### 풀이과정\n",
    "아주 기본적인 등비수열의 합 공식$\\displaystyle \\sum_{i = 0}^nr^i = {a * (r^{n} - 1) \\over r - 1}$을 이용하여 풀었으나 당연히 시간초과가 났습니다."
   ]
  },
  {
   "cell_type": "code",
   "execution_count": null,
   "metadata": {},
   "outputs": [],
   "source": [
    "def solution():\n",
    "    import sys\n",
    "\n",
    "    a, r, n, mod = map(int, sys.stdin.readline().rstrip().split())\n",
    "    print((pow(r,n) - 1) // (r - 1) * a % mod)\n",
    "\n",
    "solution()"
   ]
  },
  {
   "cell_type": "markdown",
   "metadata": {},
   "source": [
    "### 두번째 시도"
   ]
  },
  {
   "cell_type": "markdown",
   "metadata": {},
   "source": [
    "#### 풀이과정\n",
    "검색 후 분할정복을 이용한 거듭제곱을 이용한 풀이를 적용하였습니다. 먼저 이진법을 이용해 `pow`을 재정의한 뒤, 문제를 풀기 위한 `powsum` 함수를 정의했습니다. $n = 2 k \\ (n, k \\in \\N)$ 일 때 $\\displaystyle\\sum_{i=0}^{n - 1}r^i = \\sum_{i = 0}^{k - 1}r^i + r^{k}\\sum_{i = 0}^{k - 1}r^i = (1 + r^k)\\sum_{i = 0}^{k - 1}r^i$이고, 이를 좀더 일반화를 하면 $n,k \\in \\N$ 일 때 $\\displaystyle\\sum_{i = n}^{n + 2k - 1}r^i = \\sum_{i = n}^{n + k - 1}r^i + r^{k}\\sum_{i = n}^{n + k - 1}r^i = (1 + r^k)\\sum_{i = n}^{n + k - 1}r^i$입니다. 이를 재귀함수로 구현하여 단항이 될 때까지 쪼갠 뒤 단항인 경우에만 직접 계산합니다. 홀수인 경우에는 단항을 따로 계산하여 더해줍니다. "
   ]
  },
  {
   "cell_type": "code",
   "execution_count": null,
   "metadata": {},
   "outputs": [],
   "source": [
    "def solution():\n",
    "    import sys\n",
    "\n",
    "    a, r, n, mod = map(int, sys.stdin.readline().rstrip().split())\n",
    "    \n",
    "    def pow(r, n):\n",
    "        # 반환할 결과\n",
    "        result = 1\n",
    "        for i in bin(n)[2:]:\n",
    "            # 수를 이진법으로 바꿔서 계산합니다.\n",
    "            # 결과를 제곱합니다.\n",
    "            result *= result\n",
    "            if i == \"1\":\n",
    "                # 만약 자릿수가 1이라면 결과에 밑 만큼 곱해줍니다.\n",
    "                result *= r\n",
    "            # 결과를 모듈러로 나눠줍니다.\n",
    "            result %= mod\n",
    "        return result\n",
    "\n",
    "    def powsum(low, size):\n",
    "        if size == 1:\n",
    "            # 단항일 경우 바로 계산합니다.\n",
    "            return a * pow(r, low) % mod\n",
    "        # size를 반으로 나눈 결과와 나머지(홀수인지)를 값\n",
    "        half, is_odd = divmod(size, 2)\n",
    "        if is_odd:\n",
    "            # size 가 홀수인 경우 첫 항만 직접 계산하여 더하고, 나머지 항은 짝수와 동일하게 계산합니다.\n",
    "            return (a * pow(r, low) + powsum(low + 1, half) * (pow(r, half) + 1)) % mod\n",
    "        # 짝수인 경우, size를 반으로 나눠 재귀하고, r^half + 1 을 곱합니다.\n",
    "        return powsum(low, half) * (pow(r, half) + 1) % mod\n",
    "    \n",
    "    print(powsum(0, n))\n",
    "\n",
    "\n",
    "solution()"
   ]
  },
  {
   "cell_type": "markdown",
   "metadata": {},
   "source": [
    "## 해답"
   ]
  },
  {
   "cell_type": "code",
   "execution_count": 13,
   "metadata": {},
   "outputs": [],
   "source": [
    "def solution():\n",
    "    import sys\n",
    "\n",
    "    a, r, n, mod = map(int, sys.stdin.readline().rstrip().split())\n",
    "    \n",
    "    def pow(r, n):\n",
    "        result = 1\n",
    "        for i in bin(n)[2:]:\n",
    "            result *= result\n",
    "            if i == \"1\":\n",
    "                result *= r\n",
    "            result %= mod\n",
    "        return result\n",
    "\n",
    "    def powsum(low, size):\n",
    "        if size == 1:\n",
    "            return a * pow(r, low) % mod\n",
    "        half, is_odd = divmod(size, 2)\n",
    "        if is_odd:\n",
    "            return (a * pow(r, low) + powsum(low + 1, half) * (pow(r, half) + 1)) % mod\n",
    "        return powsum(low, half) * (pow(r, half) + 1) % mod\n",
    "    \n",
    "    print(powsum(0, n))"
   ]
  },
  {
   "cell_type": "markdown",
   "metadata": {},
   "source": [
    "## 예제"
   ]
  },
  {
   "cell_type": "code",
   "execution_count": 14,
   "metadata": {},
   "outputs": [
    {
     "name": "stdout",
     "output_type": "stream",
     "text": [
      "The blackcellmagic extension is already loaded. To reload it, use:\n",
      "  %reload_ext blackcellmagic\n"
     ]
    }
   ],
   "source": [
    "# black 모듈을 jupyter notebook 내에서 사용 가능하게 만들어주는 blackcellmagic 모듈 불러오기\n",
    "%load_ext blackcellmagic\n",
    "# %%black\n",
    "\n",
    "# 백준 문제 풀이용 예제 실행 코드\n",
    "from bwj import test\n",
    "test_solution = test(solution)\n",
    "\n",
    "# test_solution(\"\"\"\"\"\")\n",
    "# test_solution(read(\"fn\").read())"
   ]
  },
  {
   "cell_type": "code",
   "execution_count": 15,
   "metadata": {},
   "outputs": [
    {
     "name": "stdout",
     "output_type": "stream",
     "text": [
      "6\n"
     ]
    }
   ],
   "source": [
    "test_solution(\"\"\"2 2 6 10\"\"\")\n",
    "# 6"
   ]
  },
  {
   "cell_type": "code",
   "execution_count": 16,
   "metadata": {},
   "outputs": [
    {
     "name": "stdout",
     "output_type": "stream",
     "text": [
      "11\n"
     ]
    }
   ],
   "source": [
    "test_solution(\"\"\"1 2 9 100\"\"\")\n",
    "# 11"
   ]
  },
  {
   "cell_type": "code",
   "execution_count": 17,
   "metadata": {},
   "outputs": [
    {
     "name": "stdout",
     "output_type": "stream",
     "text": [
      "8\n"
     ]
    }
   ],
   "source": [
    "test_solution(\"\"\"3 5 2 10\"\"\")\n",
    "# 8"
   ]
  },
  {
   "cell_type": "code",
   "execution_count": 18,
   "metadata": {},
   "outputs": [
    {
     "name": "stdout",
     "output_type": "stream",
     "text": [
      "0\n"
     ]
    }
   ],
   "source": [
    "test_solution(\"\"\"2 999999893 999999928 999999929\"\"\")"
   ]
  }
 ],
 "metadata": {
  "kernelspec": {
   "display_name": "Python 3.10.4 ('venv': venv)",
   "language": "python",
   "name": "python3"
  },
  "language_info": {
   "codemirror_mode": {
    "name": "ipython",
    "version": 3
   },
   "file_extension": ".py",
   "mimetype": "text/x-python",
   "name": "python",
   "nbconvert_exporter": "python",
   "pygments_lexer": "ipython3",
   "version": "3.10.4"
  },
  "orig_nbformat": 4,
  "vscode": {
   "interpreter": {
    "hash": "72904a014a9ffe38f4c58942120b599b3c5a87d06764037548e0139929c1cde3"
   }
  }
 },
 "nbformat": 4,
 "nbformat_minor": 2
}
