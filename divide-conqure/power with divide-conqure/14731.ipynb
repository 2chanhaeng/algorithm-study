{
    "cells": [
        {
            "cell_type": "markdown",
            "metadata": {},
            "source": [
                "# [백준/謎紛芥索紀 (Large)](https://www.acmicpc.net/problem/14731)"
            ]
        },
        {
            "cell_type": "markdown",
            "metadata": {},
            "source": [
                "## 풀이과정"
            ]
        },
        {
            "cell_type": "markdown",
            "metadata": {},
            "source": [
                "### 첫번째 시도"
            ]
        },
        {
            "cell_type": "markdown",
            "metadata": {},
            "source": [
                "#### 풀이과정"
            ]
        },
        {
            "cell_type": "code",
            "execution_count": null,
            "metadata": {},
            "outputs": [],
            "source": [
                "MOD = 1000000007\n",
                "\n",
                "\n",
                "def term(i):\n",
                "    c, n = map(int, i.split())\n",
                "    return c * n * pow(2, n - 1, MOD)\n",
                "\n",
                "\n",
                "def solution():\n",
                "    import sys\n",
                "\n",
                "    _, *inputs = sys.stdin.read().splitlines()\n",
                "    print(sum(map(term, inputs)) % MOD)\n",
                "\n",
                "\n",
                "solution()"
            ]
        },
        {
            "attachments": {},
            "cell_type": "markdown",
            "metadata": {},
            "source": [
                "## 숏코드"
            ]
        },
        {
            "cell_type": "code",
            "execution_count": null,
            "metadata": {},
            "outputs": [],
            "source": [
                "m=10**9+7;print(sum(c*n*pow(2,n-1,m)for c,n in(map(int,i.split())for i in[*open(0)][1:]))%m)"
            ]
        },
        {
            "cell_type": "markdown",
            "metadata": {},
            "source": [
                "## 해답"
            ]
        },
        {
            "cell_type": "code",
            "execution_count": 1,
            "metadata": {},
            "outputs": [],
            "source": [
                "def solution():\n",
                "    import sys\n",
                "\n",
                "    _, *inputs = sys.stdin.read().splitlines()\n",
                "    MOD = 1000000007\n",
                "\n",
                "    def term(i):\n",
                "        c, n = map(int, i.split())\n",
                "        return c * n * pow(2, n - 1, MOD)\n",
                "    \n",
                "    print(sum(map(term, inputs)) % MOD)"
            ]
        },
        {
            "cell_type": "markdown",
            "metadata": {},
            "source": [
                "## 예제"
            ]
        },
        {
            "cell_type": "code",
            "execution_count": 2,
            "metadata": {},
            "outputs": [],
            "source": [
                "# black 모듈을 jupyter notebook 내에서 사용 가능하게 만들어주는 blackcellmagic 모듈 불러오기\n",
                "%load_ext blackcellmagic\n",
                "# %%black\n",
                "\n",
                "# 백준 문제 풀이용 예제 실행 코드\n",
                "from bwj import test\n",
                "test_solution = test(solution)\n",
                "\n",
                "# test_solution(\"\"\"\"\"\")\n",
                "# test_solution(read(\"fn\").read())"
            ]
        },
        {
            "cell_type": "code",
            "execution_count": 3,
            "metadata": {},
            "outputs": [
                {
                    "name": "stdout",
                    "output_type": "stream",
                    "text": [
                        "305328371\n"
                    ]
                }
            ],
            "source": [
                "test_solution(\"\"\"10\n",
                "1 1000000000\n",
                "2 999999999\n",
                "3 999999998\n",
                "4 999999997\n",
                "5 999999996\n",
                "6 999999995\n",
                "7 999999994\n",
                "8 999999993\n",
                "9 999999992\n",
                "10 999999991\n",
                "\"\"\") # 45"
            ]
        },
        {
            "cell_type": "code",
            "execution_count": 4,
            "metadata": {},
            "outputs": [
                {
                    "name": "stdout",
                    "output_type": "stream",
                    "text": [
                        "45\n"
                    ]
                }
            ],
            "source": [
                "test_solution(\"\"\"3\n",
                "3 3\n",
                "2 2\n",
                "1 1\n",
                "\"\"\") # 45"
            ]
        }
    ],
    "metadata": {
        "interpreter": {
            "hash": "73891b0dc2e53390f36276e59930dd4ecab91b05b5c90320c2d5b1c443f87069"
        },
        "kernelspec": {
            "display_name": "Python 3.10.1 ('venv': venv)",
            "language": "python",
            "name": "python3"
        },
        "language_info": {
            "codemirror_mode": {
                "name": "ipython",
                "version": 3
            },
            "file_extension": ".py",
            "mimetype": "text/x-python",
            "name": "python",
            "nbconvert_exporter": "python",
            "pygments_lexer": "ipython3",
            "version": "3.11.2"
        },
        "orig_nbformat": 4
    },
    "nbformat": 4,
    "nbformat_minor": 2
}
