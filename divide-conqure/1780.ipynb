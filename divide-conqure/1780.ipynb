{
    "cells": [
        {
            "cell_type": "markdown",
            "metadata": {},
            "source": [
                "# [백준/종이의 개수](https://www.acmicpc.net/problem/1780)"
            ]
        },
        {
            "cell_type": "markdown",
            "metadata": {},
            "source": [
                "## 풀이과정"
            ]
        },
        {
            "cell_type": "markdown",
            "metadata": {},
            "source": [
                "### 첫번째 시도"
            ]
        },
        {
            "cell_type": "markdown",
            "metadata": {},
            "source": [
                "풀이과정"
            ]
        },
        {
            "cell_type": "code",
            "execution_count": 95,
            "metadata": {},
            "outputs": [],
            "source": [
                "def solution(open=open):\n",
                "    inputs = iter(open(0).read().split(\"\\n\"))\n",
                "    n = int(next(inputs))\n",
                "    image = [list(map(int, input.split())) for input in inputs]\n",
                "\n",
                "    def cut(n, array):\n",
                "        length = len(array) // n\n",
                "        iterer = iter(array)\n",
                "\n",
                "        result = [[] for _ in range(n * n)]\n",
                "        for i in range(n):\n",
                "            for _ in range(length):\n",
                "                itererer = iter(next(iterer))\n",
                "                for inner in result[i * n : i * n + n]:\n",
                "                    inner.append([next(itererer) for _ in range(length)])\n",
                "\n",
                "        return result\n",
                "\n",
                "    def conqure(array):\n",
                "        first = array[0][0]\n",
                "        for i in array:\n",
                "            for j in i:\n",
                "                if j != first:\n",
                "                    break\n",
                "            if j != first:\n",
                "                break\n",
                "        else:\n",
                "            return [(0, 1, 0), (0, 0, 1), (1, 0, 0)][first]\n",
                "\n",
                "        cutted = cut(3, array)\n",
                "        zipped = zip(*map(conqure, cutted))\n",
                "        return tuple(sum(i) for i in zipped)\n",
                "\n",
                "    print(*conqure(image), sep=\"\\n\")\n",
                "\n",
                "\n",
                "solution()"
            ]
        },
        {
            "cell_type": "markdown",
            "metadata": {},
            "source": [
                "### 두번째 시도"
            ]
        },
        {
            "cell_type": "markdown",
            "metadata": {},
            "source": [
                "풀이과정"
            ]
        },
        {
            "cell_type": "code",
            "execution_count": null,
            "metadata": {},
            "outputs": [],
            "source": [
                "# 7428ms\n",
                "def solution(open=open):\n",
                "    inputs = iter(open(0).read()[:-1].split(\"\\n\"))\n",
                "    n = int(next(inputs))\n",
                "    image = [list(map(int, input.split())) for input in inputs]\n",
                "    result = [0, 0, 0]\n",
                "\n",
                "    def devide(length, array):\n",
                "        return [[inner[j:j + length]\n",
                "                        for inner in array[i:i + length]]\n",
                "                    for j in range(0, length * 3, length)\n",
                "                for i in range(0, length * 3, length)]\n",
                "\n",
                "    \n",
                "    def conqure(length, array):\n",
                "        first = array[-1][-1]\n",
                "        dup = set()\n",
                "        for line in array:\n",
                "            dup.update(line)\n",
                "            if len(dup) != 1:\n",
                "                break\n",
                "        else:\n",
                "            result[first] += 1\n",
                "            return\n",
                "        next_len = length // 3\n",
                "        for i in devide(next_len, array):\n",
                "            conqure(next_len, i)\n",
                "    \n",
                "    conqure(n, image)\n",
                "    z, p, m = result\n",
                "    print(m, z, p)\n",
                "    \n",
                "\n",
                "solution()"
            ]
        },
        {
            "cell_type": "code",
            "execution_count": 17,
            "metadata": {},
            "outputs": [],
            "source": [
                "# 6436ms\n",
                "def solution(open=open):\n",
                "    inputs = iter(open(0).read()[:-1].split(\"\\n\"))\n",
                "    n = int(next(inputs))\n",
                "    image = [list(map(int, input.split())) for input in inputs]\n",
                "    result = [0, 0, 0]\n",
                "\n",
                "    def devide(length, array):\n",
                "        length2 = 2 * length\n",
                "        return ([inner[:length] for inner in array[:length]],\n",
                "                [inner[length:length2] for inner in array[:length]],\n",
                "                [inner[length2:] for inner in array[:length]],\n",
                "                [inner[:length] for inner in array[length:length2]],\n",
                "                [inner[length:length2] for inner in array[length:length2]],\n",
                "                [inner[length2:] for inner in array[length:length2]],\n",
                "                [inner[:length] for inner in array[length2:]],\n",
                "                [inner[length:length2] for inner in array[length2:]],\n",
                "                [inner[length2:] for inner in array[length2:]])\n",
                "\n",
                "    \n",
                "    def conqure(length, array):\n",
                "        first = array[-1][-1]\n",
                "        dup = set()\n",
                "        for line in array:\n",
                "            dup.update(line)\n",
                "            if len(dup) != 1:\n",
                "                break\n",
                "        else:\n",
                "            result[first] += 1\n",
                "            return\n",
                "        next_len = length // 3\n",
                "        for i in devide(next_len, array):\n",
                "            conqure(next_len, i)\n",
                "    \n",
                "    conqure(n, image)\n",
                "    z, p, m = result\n",
                "    print(m, z, p)\n",
                "    \n",
                "\n",
                "solution()"
            ]
        },
        {
            "cell_type": "code",
            "execution_count": 17,
            "metadata": {},
            "outputs": [
                {
                    "name": "stdout",
                    "output_type": "stream",
                    "text": [
                        "24 25 24\n"
                    ]
                }
            ],
            "source": [
                "# 5532ms\n",
                "def solution(open=open):\n",
                "    inputs = iter(open(0).read()[:-1].split(\"\\n\"))\n",
                "    n = int(next(inputs))\n",
                "    image = [list(map(int, input.split())) for input in inputs]\n",
                "    result = [0, 0, 0]\n",
                "\n",
                "    def devide(length, array):\n",
                "        length2 = 2 * length\n",
                "        return ([inner[:length] for inner in array[:length]],\n",
                "                [inner[length:length2] for inner in array[:length]],\n",
                "                [inner[length2:] for inner in array[:length]],\n",
                "                [inner[:length] for inner in array[length:length2]],\n",
                "                [inner[length:length2] for inner in array[length:length2]],\n",
                "                [inner[length2:] for inner in array[length:length2]],\n",
                "                [inner[:length] for inner in array[length2:]],\n",
                "                [inner[length:length2] for inner in array[length2:]],\n",
                "                [inner[length2:] for inner in array[length2:]])\n",
                "\n",
                "    \n",
                "    def conqure(length, array):\n",
                "        first = array[0][0]\n",
                "        for i in array:\n",
                "            for j in i:\n",
                "                if j != first:\n",
                "                    break\n",
                "            if j != first:\n",
                "                break\n",
                "        else:\n",
                "            result[first] += 1\n",
                "            return \n",
                "        \n",
                "        next_len = length // 3\n",
                "        for i in devide(next_len, array):\n",
                "            conqure(next_len, i)\n",
                "    \n",
                "    conqure(n, image)\n",
                "    z, p, m = result\n",
                "    print(m, z, p)\n",
                "    \n",
                "\n",
                "solution()"
            ]
        },
        {
            "cell_type": "markdown",
            "metadata": {},
            "source": [
                "### 세번째 시도"
            ]
        },
        {
            "cell_type": "markdown",
            "metadata": {},
            "source": [
                "풀이과정"
            ]
        },
        {
            "cell_type": "code",
            "execution_count": null,
            "metadata": {},
            "outputs": [],
            "source": [
                "def solution(open=open):\n",
                "    inputs = iter(open(0).read().split(\"\\n\"))\n",
                "    n = int(next(inputs))\n",
                "    image = [list(map(int, input.split())) for input in inputs]\n",
                "    result = [0, 0, 0]\n",
                "    \n",
                "    conqure(n, image, result)\n",
                "    z, p, m = result\n",
                "    print(m, z, p)"
            ]
        },
        {
            "cell_type": "markdown",
            "metadata": {},
            "source": [
                "## 해답"
            ]
        },
        {
            "cell_type": "code",
            "execution_count": 99,
            "metadata": {},
            "outputs": [],
            "source": [
                "example = [\n",
                "    [0, 0, 0, 1, 1, 1, -1, -1, -1],\n",
                "    [0, 0, 0, 1, 1, 1, -1, -1, -1],\n",
                "    [0, 0, 0, 1, 1, 1, -1, -1, -1],\n",
                "    [1, 1, 1, 0, 0, 0, 0, 0, 0],\n",
                "    [1, 1, 1, 0, 0, 0, 0, 0, 0],\n",
                "    [1, 1, 1, 0, 0, 0, 0, 0, 0],\n",
                "    [0, 1, -1, 0, 1, -1, 0, 1, -1],\n",
                "    [0, -1, 1, 0, 1, -1, 0, 1, -1],\n",
                "    [0, 1, -1, 1, 0, -1, 0, 1, -1],\n",
                "]\n",
                "# example = [[0, 1, -1] * 3 ** 6] * 3 ** 6"
            ]
        },
        {
            "cell_type": "code",
            "execution_count": 103,
            "metadata": {},
            "outputs": [
                {
                    "name": "stdout",
                    "output_type": "stream",
                    "text": [
                        "4.78 µs ± 96.2 ns per loop (mean ± std. dev. of 7 runs, 100,000 loops each)\n"
                    ]
                }
            ],
            "source": [
                "def devide(length, array):\n",
                "    length2 = 2 * length\n",
                "    return ([inner[:length] for inner in array[:length]],\n",
                "            [inner[length:length2] for inner in array[:length]],\n",
                "            [inner[length2:] for inner in array[:length]],\n",
                "            [inner[:length] for inner in array[length:length2]],\n",
                "            [inner[length:length2] for inner in array[length:length2]],\n",
                "            [inner[length2:] for inner in array[length:length2]],\n",
                "            [inner[:length] for inner in array[length2:]],\n",
                "            [inner[length:length2] for inner in array[length2:]],\n",
                "            [inner[length2:] for inner in array[length2:]])\n",
                "\n",
                "length = len(example) // 3\n",
                "%timeit devide(length, example)"
            ]
        },
        {
            "cell_type": "code",
            "execution_count": 102,
            "metadata": {},
            "outputs": [
                {
                    "name": "stdout",
                    "output_type": "stream",
                    "text": [
                        "14.9 µs ± 303 ns per loop (mean ± std. dev. of 7 runs, 100,000 loops each)\n"
                    ]
                }
            ],
            "source": [
                "def devide(length, array):\n",
                "    iterer = iter(array)\n",
                "\n",
                "    result = []\n",
                "    for _ in range(3):\n",
                "        line = [[] for _ in range(3)]\n",
                "        for _ in range(length):\n",
                "            itererer = iter(next(iterer))\n",
                "            for inner in line:\n",
                "                inner.append([next(itererer) for _ in range(length)])\n",
                "        result.extend(line)\n",
                "\n",
                "    return result\n",
                "\n",
                "length = len(example) // 3\n",
                "%timeit devide(length, example)\n"
            ]
        },
        {
            "cell_type": "code",
            "execution_count": 133,
            "metadata": {},
            "outputs": [
                {
                    "name": "stdout",
                    "output_type": "stream",
                    "text": [
                        "5.99 µs ± 75.5 ns per loop (mean ± std. dev. of 7 runs, 100,000 loops each)\n"
                    ]
                },
                {
                    "data": {
                        "text/plain": [
                            "[[[0, 0, 0], [0, 0, 0], [0, 0, 0]],\n",
                            " [[1, 1, 1], [1, 1, 1], [1, 1, 1]],\n",
                            " [[0, 1, -1], [0, -1, 1], [0, 1, -1]],\n",
                            " [[1, 1, 1], [1, 1, 1], [1, 1, 1]],\n",
                            " [[0, 0, 0], [0, 0, 0], [0, 0, 0]],\n",
                            " [[0, 1, -1], [0, 1, -1], [1, 0, -1]],\n",
                            " [[-1, -1, -1], [-1, -1, -1], [-1, -1, -1]],\n",
                            " [[0, 0, 0], [0, 0, 0], [0, 0, 0]],\n",
                            " [[0, 1, -1], [0, 1, -1], [0, 1, -1]]]"
                        ]
                    },
                    "execution_count": 133,
                    "metadata": {},
                    "output_type": "execute_result"
                }
            ],
            "source": [
                "def devide(length, array):\n",
                "    return [[inner[j:j + length]\n",
                "                for inner in array[i:i + length]]\n",
                "            for j in range(0, length * 3, length)\n",
                "        for i in range(0, length * 3, length)]\n",
                "    \n",
                "length = len(example) // 3\n",
                "%timeit devide(length, example)\n",
                "devide(length, example)\n"
            ]
        },
        {
            "cell_type": "code",
            "execution_count": 7,
            "metadata": {},
            "outputs": [],
            "source": [
                "def conqure(length, array, result):\n",
                "    first = array[-1][-1]\n",
                "    for i in array:\n",
                "        for j in i:\n",
                "            if j != first:\n",
                "                break\n",
                "        if j != first:\n",
                "            break\n",
                "    else:\n",
                "        result[first] += 1\n",
                "        return \n",
                "    \n",
                "    next_len = length // 3\n",
                "    for i in devide(next_len, array):\n",
                "        conqure(next_len, i, result)"
            ]
        },
        {
            "cell_type": "code",
            "execution_count": 165,
            "metadata": {},
            "outputs": [],
            "source": [
                "def conqure(length, array, result):\n",
                "    first = array[-1][-1]\n",
                "    dup = set()\n",
                "    for line in array:\n",
                "        dup.update(line)\n",
                "        if len(dup) != 1:\n",
                "            break\n",
                "    else:\n",
                "        result[first] += 1\n",
                "        return\n",
                "    next_len = length // 3\n",
                "    for i in devide(next_len, array):\n",
                "        conqure(next_len, i, result)"
            ]
        },
        {
            "cell_type": "code",
            "execution_count": 2,
            "metadata": {},
            "outputs": [],
            "source": [
                "def devide(length, array):\n",
                "    return [[inner[j:j + length]\n",
                "                    for inner in array[i:i + length]]\n",
                "                for j in range(0, length * 3, length)\n",
                "            for i in range(0, length * 3, length)]"
            ]
        },
        {
            "cell_type": "code",
            "execution_count": 167,
            "metadata": {},
            "outputs": [],
            "source": [
                "def conqure(length, array, result):\n",
                "    first = array[-1][-1]\n",
                "    dup = set()\n",
                "    for line in array:\n",
                "        dup.update(line)\n",
                "        if len(dup) != 1:\n",
                "            break\n",
                "    else:\n",
                "        result[first] += 1\n",
                "        return\n",
                "    next_len = length // 3\n",
                "    for i in devide(next_len, array):\n",
                "        conqure(next_len, i, result)"
            ]
        },
        {
            "cell_type": "code",
            "execution_count": 8,
            "metadata": {},
            "outputs": [],
            "source": [
                "def solution(open=open):\n",
                "    inputs = iter(open(0).read().split(\"\\n\"))\n",
                "    n = int(next(inputs))\n",
                "    image = [list(map(int, input.split())) for input in inputs]\n",
                "    result = [0, 0, 0]\n",
                "    \n",
                "    conqure(n, image, result)\n",
                "    z, p, m = result\n",
                "    print(m, z, p)"
            ]
        },
        {
            "cell_type": "markdown",
            "metadata": {},
            "source": [
                "## 예제"
            ]
        },
        {
            "cell_type": "code",
            "execution_count": 9,
            "metadata": {},
            "outputs": [],
            "source": [
                "# 백준 문제 풀이용 예제 실행 코드\n",
                "from bwj import test\n",
                "test_solution = test(solution)\n",
                "\n",
                "# test_solution(\"\"\"\"\"\")\n",
                "# test_solution(read(\"fn\").read())"
            ]
        },
        {
            "cell_type": "code",
            "execution_count": 10,
            "metadata": {},
            "outputs": [
                {
                    "name": "stdout",
                    "output_type": "stream",
                    "text": [
                        "90 108 99\n"
                    ]
                }
            ],
            "source": [
                "test_solution(\"\"\"27\n",
                "0 0 0 1 1 1 -1 -1 -1 0 0 0 1 1 1 -1 -1 -1 0 0 0 1 1 1 -1 -1 -1\n",
                "0 0 0 1 1 1 -1 -1 -1 0 0 0 1 1 1 -1 -1 -1 0 0 0 1 1 1 -1 -1 -1\n",
                "0 0 0 1 1 1 -1 -1 -1 0 0 0 1 1 1 -1 -1 -1 0 0 0 1 1 1 -1 -1 -1\n",
                "1 1 1 0 0 0 0 0 0 1 1 1 0 0 0 0 0 0 1 1 1 0 0 0 0 0 0\n",
                "1 1 1 0 0 0 0 0 0 1 1 1 0 0 0 0 0 0 1 1 1 0 0 0 0 0 0\n",
                "1 1 1 0 0 0 0 0 0 1 1 1 0 0 0 0 0 0 1 1 1 0 0 0 0 0 0\n",
                "0 1 -1 0 1 -1 0 1 -1 0 1 -1 0 1 -1 0 1 -1 0 1 -1 0 1 -1 0 1 -1\n",
                "0 -1 1 0 1 -1 0 1 -1 0 -1 1 0 1 -1 0 1 -1 0 -1 1 0 1 -1 0 1 -1\n",
                "0 1 -1 1 0 -1 0 1 -1 0 1 -1 1 0 -1 0 1 -1 0 1 -1 1 0 -1 0 1 -1\n",
                "0 0 0 1 1 1 -1 -1 -1 0 0 0 1 1 1 -1 -1 -1 0 0 0 1 1 1 -1 -1 -1\n",
                "0 0 0 1 1 1 -1 -1 -1 0 0 0 1 1 1 -1 -1 -1 0 0 0 1 1 1 -1 -1 -1\n",
                "0 0 0 1 1 1 -1 -1 -1 0 0 0 1 1 1 -1 -1 -1 0 0 0 1 1 1 -1 -1 -1\n",
                "1 1 1 0 0 0 0 0 0 1 1 1 0 0 0 0 0 0 1 1 1 0 0 0 0 0 0\n",
                "1 1 1 0 0 0 0 0 0 1 1 1 0 0 0 0 0 0 1 1 1 0 0 0 0 0 0\n",
                "1 1 1 0 0 0 0 0 0 1 1 1 0 0 0 0 0 0 1 1 1 0 0 0 0 0 0\n",
                "0 1 -1 0 1 -1 0 1 -1 0 1 -1 0 1 -1 0 1 -1 0 1 -1 0 1 -1 0 1 -1\n",
                "0 -1 1 0 1 -1 0 1 -1 0 -1 1 0 1 -1 0 1 -1 0 -1 1 0 1 -1 0 1 -1\n",
                "0 1 -1 1 0 -1 0 1 -1 0 1 -1 1 0 -1 0 1 -1 0 1 -1 1 0 -1 0 1 -1\n",
                "0 0 0 1 1 1 -1 -1 -1 0 0 0 1 1 1 -1 -1 -1 0 0 0 1 1 1 -1 -1 -1\n",
                "0 0 0 1 1 1 -1 -1 -1 0 0 0 1 1 1 -1 -1 -1 0 0 0 1 1 1 -1 -1 -1\n",
                "0 0 0 1 1 1 -1 -1 -1 0 0 0 1 1 1 -1 -1 -1 0 0 0 1 1 1 -1 -1 -1\n",
                "1 1 1 0 0 0 0 0 0 1 1 1 0 0 0 0 0 0 1 1 1 0 0 0 0 0 0\n",
                "1 1 1 0 0 0 0 0 0 1 1 1 0 0 0 0 0 0 1 1 1 0 0 0 0 0 0\n",
                "1 1 1 0 0 0 0 0 0 1 1 1 0 0 0 0 0 0 1 1 1 0 0 0 0 0 0\n",
                "0 1 -1 0 1 -1 0 1 -1 0 1 -1 0 1 -1 0 1 -1 0 1 -1 0 1 -1 0 1 -1\n",
                "0 -1 1 0 1 -1 0 1 -1 0 -1 1 0 1 -1 0 1 -1 0 -1 1 0 1 -1 0 1 -1\n",
                "0 1 -1 1 0 -1 0 1 -1 0 1 -1 1 0 -1 0 1 -1 0 1 -1 1 0 -1 0 1 -1\"\"\")\n",
                "# answer:\n",
                "# 10\n",
                "# 12\n",
                "# 11"
            ]
        },
        {
            "cell_type": "code",
            "execution_count": 11,
            "metadata": {},
            "outputs": [
                {
                    "name": "stdout",
                    "output_type": "stream",
                    "text": [
                        "1 :\n",
                        "1 0 0\n",
                        "0 1 0\n",
                        "0 0 1\n",
                        "\n",
                        "3 :\n",
                        "1 0 0\n",
                        "0 1 0\n",
                        "0 0 1\n",
                        "\n",
                        "9 :\n",
                        "1 0 0\n",
                        "0 1 0\n",
                        "0 0 1\n",
                        "\n",
                        "27 :\n",
                        "1 0 0\n",
                        "0 1 0\n",
                        "0 0 1\n",
                        "\n",
                        "81 :\n",
                        "1 0 0\n",
                        "0 1 0\n",
                        "0 0 1\n",
                        "\n",
                        "243 :\n",
                        "1 0 0\n",
                        "0 1 0\n",
                        "0 0 1\n",
                        "\n",
                        "729 :\n",
                        "1 0 0\n",
                        "0 1 0\n",
                        "0 0 1\n",
                        "\n",
                        "2187 :\n",
                        "1 0 0\n",
                        "0 1 0\n",
                        "0 0 1\n",
                        "\n"
                    ]
                }
            ],
            "source": [
                "for i in range(8):\n",
                "    n = 3 ** i\n",
                "    print(n, \":\")\n",
                "    zeros = \" \".join([\"0\"] * n)\n",
                "    ones = \" \".join([\"1\"] * n)\n",
                "    mones = \" \".join([\"-1\"] * n)\n",
                "    test_solution(\"\\n\".join([str(n)] + [mones] * n))\n",
                "    test_solution(\"\\n\".join([str(n)] + [zeros] * n))\n",
                "    test_solution(\"\\n\".join([str(n)] + [ones] * n))\n",
                "    print()\n",
                "# 9.5s\n",
                "# 6.2s"
            ]
        },
        {
            "cell_type": "code",
            "execution_count": 12,
            "metadata": {},
            "outputs": [
                {
                    "name": "stdout",
                    "output_type": "stream",
                    "text": [
                        "3 :\n",
                        "3 3 3\n",
                        "244 µs ± 0 ns per loop (mean ± std. dev. of 1 run, 1 loop each)\n",
                        "\n",
                        "9 :\n",
                        "27 27 27\n",
                        "204 µs ± 0 ns per loop (mean ± std. dev. of 1 run, 1 loop each)\n",
                        "\n",
                        "27 :\n",
                        "243 243 243\n",
                        "1.21 ms ± 0 ns per loop (mean ± std. dev. of 1 run, 1 loop each)\n",
                        "\n",
                        "81 :\n",
                        "2187 2187 2187\n",
                        "8.65 ms ± 0 ns per loop (mean ± std. dev. of 1 run, 1 loop each)\n",
                        "\n",
                        "243 :\n",
                        "19683 19683 19683\n",
                        "62.3 ms ± 0 ns per loop (mean ± std. dev. of 1 run, 1 loop each)\n",
                        "\n",
                        "729 :\n",
                        "177147 177147 177147\n",
                        "556 ms ± 0 ns per loop (mean ± std. dev. of 1 run, 1 loop each)\n",
                        "\n",
                        "2187 :\n",
                        "1594323 1594323 1594323\n",
                        "4.87 s ± 0 ns per loop (mean ± std. dev. of 1 run, 1 loop each)\n",
                        "\n"
                    ]
                }
            ],
            "source": [
                "for i in range(1, 8):\n",
                "    n = 3 ** i\n",
                "    print(n, \":\")\n",
                "    zeros = \" \".join([\"0\"] * n)\n",
                "    ones = \" \".join([\"1\"] * n)\n",
                "    mones = \" \".join([\"-1\"] * n)\n",
                "    asd = \"\\n\".join([zeros, ones, mones] * (n // 3))\n",
                "    %timeit -r 1 -n 1 test_solution(\"%d\\n%s\" % (n, asd))\n",
                "    print()\n",
                "# 9.5s\n",
                "# 6.2s"
            ]
        },
        {
            "cell_type": "code",
            "execution_count": 13,
            "metadata": {},
            "outputs": [
                {
                    "name": "stdout",
                    "output_type": "stream",
                    "text": [
                        "10 12 11\n"
                    ]
                }
            ],
            "source": [
                "test_solution(\"\"\"9\n",
                "0 0 0 1 1 1 -1 -1 -1\n",
                "0 0 0 1 1 1 -1 -1 -1\n",
                "0 0 0 1 1 1 -1 -1 -1\n",
                "1 1 1 0 0 0 0 0 0\n",
                "1 1 1 0 0 0 0 0 0\n",
                "1 1 1 0 0 0 0 0 0\n",
                "0 1 -1 0 1 -1 0 1 -1\n",
                "0 -1 1 0 1 -1 0 1 -1\n",
                "0 1 -1 1 0 -1 0 1 -1\"\"\")\n",
                "# answer:\n",
                "# 10\n",
                "# 12\n",
                "# 11"
            ]
        }
    ],
    "metadata": {
        "interpreter": {
            "hash": "73891b0dc2e53390f36276e59930dd4ecab91b05b5c90320c2d5b1c443f87069"
        },
        "kernelspec": {
            "display_name": "Python 3.10.1 ('venv': venv)",
            "language": "python",
            "name": "python3"
        },
        "language_info": {
            "codemirror_mode": {
                "name": "ipython",
                "version": 3
            },
            "file_extension": ".py",
            "mimetype": "text/x-python",
            "name": "python",
            "nbconvert_exporter": "python",
            "pygments_lexer": "ipython3",
            "version": "3.10.2"
        },
        "orig_nbformat": 4
    },
    "nbformat": 4,
    "nbformat_minor": 2
}
