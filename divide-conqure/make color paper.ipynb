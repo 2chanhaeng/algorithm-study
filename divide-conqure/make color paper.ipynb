{
 "cells": [
  {
   "cell_type": "markdown",
   "metadata": {},
   "source": [
    "# [백준/색종이 만들기](https://www.acmicpc.net/problem/2630)"
   ]
  },
  {
   "cell_type": "markdown",
   "metadata": {},
   "source": [
    "## 풀이과정"
   ]
  },
  {
   "cell_type": "markdown",
   "metadata": {},
   "source": [
    "### 첫번째 시도"
   ]
  },
  {
   "cell_type": "markdown",
   "metadata": {},
   "source": [
    "풀이과정"
   ]
  },
  {
   "cell_type": "code",
   "execution_count": null,
   "metadata": {},
   "outputs": [],
   "source": [
    "# 풀이 코드\n"
   ]
  },
  {
   "cell_type": "markdown",
   "metadata": {},
   "source": [
    "## 해답"
   ]
  },
  {
   "cell_type": "code",
   "execution_count": null,
   "metadata": {},
   "outputs": [],
   "source": [
    "from itertools import islice"
   ]
  },
  {
   "cell_type": "code",
   "execution_count": 44,
   "metadata": {},
   "outputs": [],
   "source": [
    "input = iter(open(0).read().split(\"\\n\")).__next__"
   ]
  },
  {
   "cell_type": "code",
   "execution_count": 106,
   "metadata": {},
   "outputs": [
    {
     "name": "stdout",
     "output_type": "stream",
     "text": [
      "[0, 2, 4, 6]\n",
      "[0, 2, 4, 6]\n"
     ]
    }
   ],
   "source": [
    "cutline = range(0,8,2)\n",
    "print([i for i in cutline])\n",
    "print([i for i in cutline])"
   ]
  },
  {
   "cell_type": "code",
   "execution_count": 85,
   "metadata": {},
   "outputs": [],
   "source": [
    "def solution(input):\n",
    "    n = int(input())\n",
    "    e = n.bit_length() - 1\n",
    "    whole = [[1 if i==\"1\" else 0 for i in input()[::2]] for _ in range(n)]\n",
    "    result = 1\n",
    "    pieces = [whole]\n",
    "    for cut in range(1,e):\n",
    "        split = 1 << cut\n",
    "        length = n >> cut\n",
    "        new = []\n",
    "        for piece in pieces:\n",
    "            new.append([[c for c in r[:length]]for r in piece[:length]])\n",
    "            new.append([[c for c in r[:length]]for r in piece[length:]])\n",
    "            new.append([[c for c in r[length:]]for r in piece[:length]])\n",
    "            new.append([[c for c in r[length:]]for r in piece[length:]])\n",
    "        pieces = []\n",
    "        for qwe in new:\n",
    "            if :\n",
    "\n",
    "\n"
   ]
  },
  {
   "cell_type": "code",
   "execution_count": 132,
   "metadata": {},
   "outputs": [
    {
     "data": {
      "text/plain": [
       "'0b1111'"
      ]
     },
     "execution_count": 132,
     "metadata": {},
     "output_type": "execute_result"
    }
   ],
   "source": [
    "bin(num)[2:]"
   ]
  },
  {
   "cell_type": "code",
   "execution_count": 139,
   "metadata": {},
   "outputs": [
    {
     "name": "stdout",
     "output_type": "stream",
     "text": [
      "00001001\n",
      "00001011\n"
     ]
    },
    {
     "data": {
      "text/plain": [
       "[0, 0, 10, 7]"
      ]
     },
     "execution_count": 139,
     "metadata": {},
     "output_type": "execute_result"
    }
   ],
   "source": [
    "def separate(num1, num2, i):\n",
    "    b1 = bin(num1)[2::].zfill(i)\n",
    "    b2 = bin(num2)[2::].zfill(i)\n",
    "    print(b1,b2,sep=\"\\n\")\n",
    "    return [(int(b1[j:j+2],2)<<2)+int(b2[j:j+2],2) for j in range(0,i,2)]\n",
    "separate(9,11,8)"
   ]
  },
  {
   "cell_type": "code",
   "execution_count": 163,
   "metadata": {},
   "outputs": [],
   "source": [
    "def solution(input):\n",
    "    n = int(input())\n",
    "    e = n.bit_length() - 1\n",
    "    result = 1<<e*2\n",
    "    whole = [int(\"\".join([input()[::2]]),2) for _ in range(n)]\n",
    "    print(whole)\n",
    "    twolines = [whole[i:i + 2] for i in range(0,n,2)]\n",
    "    print(twolines)\n",
    "    fourbyfour = [separate(i,j,n) for i,j in twolines]\n",
    "    print(fourbyfour)\n",
    "    one = sum(fourbyfour,[])\n",
    "    print(result - 3*(one.count(15)- one.count(0)))\n",
    "\n",
    "    # if sum(whole) in (0, n << e):\n",
    "    #     return 1\n",
    "    # result = 1\n",
    "\n",
    "    # pieces = []\n",
    "    # for cut in range(1,e):\n",
    "    #     split = 1 << cut\n",
    "    #     length = n >> cut\n",
    "    #     full = length * length\n",
    "    #     cutted = []\n",
    "    #     for piece in pieces:\n",
    "    #         cutted = \n"
   ]
  },
  {
   "cell_type": "markdown",
   "metadata": {},
   "source": [
    "## 테스트 결과"
   ]
  },
  {
   "cell_type": "markdown",
   "metadata": {},
   "source": [
    "|테스트|결과|\n",
    "|---:|:---|"
   ]
  },
  {
   "cell_type": "markdown",
   "metadata": {},
   "source": [
    "## 예제"
   ]
  },
  {
   "cell_type": "code",
   "execution_count": 164,
   "metadata": {},
   "outputs": [],
   "source": [
    "# 백준식 실행 코드\n",
    "def solution_example(input_, solution=solution):\n",
    "    input_ = iter(input_.split(\"\\n\"))\n",
    "    input = input_.__next__\n",
    "    solution(input)\n",
    "# solution_example(\"\"\"\"\"\")\n",
    "# solution_example(read(\"fn\").read())"
   ]
  },
  {
   "cell_type": "code",
   "execution_count": 165,
   "metadata": {},
   "outputs": [
    {
     "name": "stdout",
     "output_type": "stream",
     "text": [
      "[195, 195, 12, 12, 143, 79, 63, 63]\n",
      "[[195, 195], [12, 12], [143, 79], [63, 63]]\n",
      "11000011\n",
      "11000011\n",
      "00001100\n",
      "00001100\n",
      "10001111\n",
      "01001111\n",
      "00111111\n",
      "00111111\n",
      "[[15, 0, 0, 15], [0, 0, 15, 0], [9, 0, 15, 15], [0, 15, 15, 15]]\n",
      "49\n"
     ]
    }
   ],
   "source": [
    "solution_example(\"\"\"8\n",
    "1 1 0 0 0 0 1 1\n",
    "1 1 0 0 0 0 1 1\n",
    "0 0 0 0 1 1 0 0\n",
    "0 0 0 0 1 1 0 0\n",
    "1 0 0 0 1 1 1 1\n",
    "0 1 0 0 1 1 1 1\n",
    "0 0 1 1 1 1 1 1\n",
    "0 0 1 1 1 1 1 1\"\"\")"
   ]
  }
 ],
 "metadata": {
  "interpreter": {
   "hash": "73891b0dc2e53390f36276e59930dd4ecab91b05b5c90320c2d5b1c443f87069"
  },
  "kernelspec": {
   "display_name": "Python 3.10.1 ('venv': venv)",
   "language": "python",
   "name": "python3"
  },
  "language_info": {
   "codemirror_mode": {
    "name": "ipython",
    "version": 3
   },
   "file_extension": ".py",
   "mimetype": "text/x-python",
   "name": "python",
   "nbconvert_exporter": "python",
   "pygments_lexer": "ipython3",
   "version": "3.10.2"
  },
  "orig_nbformat": 4
 },
 "nbformat": 4,
 "nbformat_minor": 2
}
