{
 "cells": [
  {
   "cell_type": "markdown",
   "metadata": {},
   "source": [
    "# [백준/색종이 만들기](https://www.acmicpc.net/problem/2630)"
   ]
  },
  {
   "cell_type": "markdown",
   "metadata": {},
   "source": [
    "## 풀이과정"
   ]
  },
  {
   "cell_type": "markdown",
   "metadata": {},
   "source": [
    "### 첫번째 시도"
   ]
  },
  {
   "cell_type": "markdown",
   "metadata": {},
   "source": [
    "풀이과정"
   ]
  },
  {
   "cell_type": "code",
   "execution_count": null,
   "metadata": {},
   "outputs": [],
   "source": [
    "# 풀이 코드\n"
   ]
  },
  {
   "cell_type": "markdown",
   "metadata": {},
   "source": [
    "## 해답"
   ]
  },
  {
   "cell_type": "code",
   "execution_count": 44,
   "metadata": {},
   "outputs": [],
   "source": [
    "input = iter(open(0).read().split(\"\\n\")).__next__"
   ]
  },
  {
   "cell_type": "code",
   "execution_count": 48,
   "metadata": {},
   "outputs": [
    {
     "data": {
      "text/plain": [
       "[0, 0, 10, 7]"
      ]
     },
     "execution_count": 48,
     "metadata": {},
     "output_type": "execute_result"
    }
   ],
   "source": [
    "def sep_sum(num1, num2, i):\n",
    "    b1 = bin(num1)[2:].zfill(i)\n",
    "    b2 = bin(num2)[2:].zfill(i)\n",
    "    return [(int(b1[j:j+2],2)<<2)+int(b2[j:j+2],2) for j in range(0,i,2)]\n",
    "sep_sum(9,11,8)"
   ]
  },
  {
   "cell_type": "code",
   "execution_count": null,
   "metadata": {},
   "outputs": [],
   "source": [
    "\n",
    "n = int(input())\n",
    "e = n.bit_length() - 1\n",
    "whole = [int(input()[::2],2) for _ in range(n)]\n",
    "bw = [sum(i.bit_count() for i in whole)]\n",
    "bw.append(n*n - bw[0])\n",
    "for cut in range(e):\n",
    "    fourbyfour = [sep_sum(i,j,n) for i,j in zip(whole[::2],whole[1::2])]\n",
    "    pieces = []\n",
    "    for piece in fourbyfour:\n",
    "        s = 0\n",
    "        for i in piece:\n",
    "            s<<=2\n",
    "            match i:\n",
    "                case 15:\n",
    "                    s+=3\n",
    "                    bw[0] -= 3\n",
    "                case 0:\n",
    "                    s+=0\n",
    "                    bw[1] -= 3\n",
    "                case _: s+=2\n",
    "        pieces.append(s)\n",
    "    if n == 2: print(\"%d\\n%d\"%tuple(bw))\n",
    "    n >>= 1\n",
    "    whole = pieces"
   ]
  },
  {
   "cell_type": "code",
   "execution_count": 68,
   "metadata": {},
   "outputs": [],
   "source": [
    "# input = iter(open(0).read().split(\"\\n\")).__next__\n",
    "def sep_sum(num1, num2, i):\n",
    "    b1 = bin(num1)[2:].zfill(i)\n",
    "    b2 = bin(num2)[2:].zfill(i)\n",
    "    return [(int(b1[j:j+2],2)<<2)+int(b2[j:j+2],2) for j in range(0,i,2)]\n",
    "def solution(input):\n",
    "    n = int(input())\n",
    "    e = n.bit_length() - 1\n",
    "    whole = [int(input()[::2],2) for _ in range(n)]\n",
    "    bw = [sum(i.bit_count() for i in whole)]\n",
    "    bw.insert(0,n*n - bw[0])\n",
    "    for cut in range(e):\n",
    "        fourbyfour = [sep_sum(i,j,n) for i,j in zip(whole[::2],whole[1::2])]\n",
    "        print(cut, \"fourbyfour\")\n",
    "        for i in fourbyfour:\n",
    "            print(i)\n",
    "        pieces = []\n",
    "        for piece in fourbyfour:\n",
    "            s = 0\n",
    "            for i in piece:\n",
    "                s<<=2\n",
    "                match i:\n",
    "                    case 15:\n",
    "                        s+=3\n",
    "                        bw[1] -= 3\n",
    "                    case 0:\n",
    "                        s+=0\n",
    "                        bw[0] -= 3\n",
    "                    case _: s+=2\n",
    "            pieces.append(s)\n",
    "        print(cut, \"pieces\")\n",
    "        for i in pieces:\n",
    "            print(bin(i)[2:].zfill(n))\n",
    "        if n == 2:\n",
    "            print(\"%d\\n%d\"%tuple(bw))\n",
    "            return\n",
    "        print(\"%d %d\"%tuple(bw))\n",
    "        n >>= 1\n",
    "        whole = pieces"
   ]
  },
  {
   "cell_type": "markdown",
   "metadata": {},
   "source": [
    "## 테스트 결과"
   ]
  },
  {
   "cell_type": "markdown",
   "metadata": {},
   "source": [
    "|테스트|결과|\n",
    "|---:|:---|"
   ]
  },
  {
   "cell_type": "markdown",
   "metadata": {},
   "source": [
    "## 예제"
   ]
  },
  {
   "cell_type": "code",
   "execution_count": 69,
   "metadata": {},
   "outputs": [],
   "source": [
    "# 백준식 실행 코드\n",
    "def solution_example(input_, solution=solution):\n",
    "    input_ = iter(input_.split(\"\\n\"))\n",
    "    input = input_.__next__\n",
    "    solution(input)\n",
    "# solution_example(\"\"\"\"\"\")\n",
    "# solution_example(read(\"fn\").read())"
   ]
  },
  {
   "cell_type": "code",
   "execution_count": 70,
   "metadata": {},
   "outputs": [
    {
     "name": "stdout",
     "output_type": "stream",
     "text": [
      "0 fourbyfour\n",
      "[15, 0, 0, 15]\n",
      "[0, 0, 15, 0]\n",
      "[9, 0, 15, 15]\n",
      "[0, 15, 15, 15]\n",
      "0 pieces\n",
      "11000011\n",
      "00001100\n",
      "10001111\n",
      "00111111\n",
      "9 10\n",
      "1 fourbyfour\n",
      "[15, 0]\n",
      "[11, 3]\n",
      "1 pieces\n",
      "1100\n",
      "1010\n",
      "6 7\n",
      "2 fourbyfour\n",
      "[14]\n",
      "2 pieces\n",
      "10\n",
      "6\n",
      "7\n"
     ]
    }
   ],
   "source": [
    "solution_example(\"\"\"8\n",
    "1 1 0 0 0 0 1 1\n",
    "1 1 0 0 0 0 1 1\n",
    "0 0 0 0 1 1 0 0\n",
    "0 0 0 0 1 1 0 0\n",
    "1 0 0 0 1 1 1 1\n",
    "0 1 0 0 1 1 1 1\n",
    "0 0 1 1 1 1 1 1\n",
    "0 0 1 1 1 1 1 1\"\"\")"
   ]
  },
  {
   "cell_type": "code",
   "execution_count": 71,
   "metadata": {},
   "outputs": [
    {
     "name": "stdout",
     "output_type": "stream",
     "text": [
      "0 fourbyfour\n",
      "[15, 15]\n",
      "[15, 15]\n",
      "0 pieces\n",
      "1111\n",
      "1111\n",
      "0 4\n",
      "1 fourbyfour\n",
      "[15]\n",
      "1 pieces\n",
      "11\n",
      "0\n",
      "1\n"
     ]
    }
   ],
   "source": [
    "solution_example(\"\"\"4\n",
    "1 1 1 1\n",
    "1 1 1 1\n",
    "1 1 1 1\n",
    "1 1 1 1\"\"\")"
   ]
  },
  {
   "cell_type": "code",
   "execution_count": 72,
   "metadata": {},
   "outputs": [
    {
     "name": "stdout",
     "output_type": "stream",
     "text": [
      "0 fourbyfour\n",
      "[15, 15]\n",
      "[15, 15]\n",
      "0 pieces\n",
      "1111\n",
      "1111\n",
      "0 4\n",
      "1 fourbyfour\n",
      "[15]\n",
      "1 pieces\n",
      "11\n",
      "0\n",
      "1\n"
     ]
    }
   ],
   "source": [
    "solution_example(\"\"\"4\n",
    "1 1 1 1\n",
    "1 1 1 1\n",
    "1 1 1 1\n",
    "1 1 1 1\"\"\")"
   ]
  },
  {
   "cell_type": "code",
   "execution_count": 73,
   "metadata": {},
   "outputs": [
    {
     "name": "stdout",
     "output_type": "stream",
     "text": [
      "0 fourbyfour\n",
      "[11]\n",
      "0 pieces\n",
      "10\n",
      "1\n",
      "3\n"
     ]
    }
   ],
   "source": [
    "solution_example(\"\"\"2\n",
    "1 0\n",
    "1 1\"\"\")"
   ]
  },
  {
   "cell_type": "code",
   "execution_count": 74,
   "metadata": {},
   "outputs": [
    {
     "name": "stdout",
     "output_type": "stream",
     "text": [
      "0 fourbyfour\n",
      "[15]\n",
      "0 pieces\n",
      "11\n",
      "0\n",
      "1\n"
     ]
    }
   ],
   "source": [
    "solution_example(\"\"\"2\n",
    "1 1\n",
    "1 1\"\"\")"
   ]
  }
 ],
 "metadata": {
  "interpreter": {
   "hash": "73891b0dc2e53390f36276e59930dd4ecab91b05b5c90320c2d5b1c443f87069"
  },
  "kernelspec": {
   "display_name": "Python 3.10.1 ('venv': venv)",
   "language": "python",
   "name": "python3"
  },
  "language_info": {
   "codemirror_mode": {
    "name": "ipython",
    "version": 3
   },
   "file_extension": ".py",
   "mimetype": "text/x-python",
   "name": "python",
   "nbconvert_exporter": "python",
   "pygments_lexer": "ipython3",
   "version": "3.10.2"
  },
  "orig_nbformat": 4
 },
 "nbformat": 4,
 "nbformat_minor": 2
}
