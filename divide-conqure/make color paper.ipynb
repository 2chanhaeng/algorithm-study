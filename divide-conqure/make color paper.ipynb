{
 "cells": [
  {
   "cell_type": "markdown",
   "metadata": {},
   "source": [
    "# [백준/색종이 만들기](https://www.acmicpc.net/problem/2630)"
   ]
  },
  {
   "cell_type": "markdown",
   "metadata": {},
   "source": [
    "## 풀이과정"
   ]
  },
  {
   "cell_type": "markdown",
   "metadata": {},
   "source": [
    "### 첫번째 시도"
   ]
  },
  {
   "cell_type": "markdown",
   "metadata": {},
   "source": [
    "풀이과정"
   ]
  },
  {
   "cell_type": "code",
   "execution_count": 20,
   "metadata": {},
   "outputs": [],
   "source": [
    "# input = iter(open(0).read().split(\"\\n\")).__next__\n",
    "def sep_sum(num1, num2, i):\n",
    "    b1 = bin(num1)[2:].zfill(i)\n",
    "    b2 = bin(num2)[2:].zfill(i)\n",
    "    return [(int(b1[j:j+2],2)<<2)+int(b2[j:j+2],2) for j in range(0,i,2)]\n",
    "def solution(input):\n",
    "    n = int(input())\n",
    "    e = n.bit_length() - 1\n",
    "    whole = [int(input()[::2],2) for _ in range(n)]\n",
    "    bw = [sum(i.bit_count() for i in whole)]\n",
    "    bw.insert(0,n*n - bw[0])\n",
    "    for cut in range(e):\n",
    "        fourbyfour = [sep_sum(i,j,n) for i,j in zip(whole[::2],whole[1::2])]\n",
    "        print(cut, \"fourbyfour\")\n",
    "        for i in fourbyfour:\n",
    "            print(i)\n",
    "        pieces = []\n",
    "        for piece in fourbyfour:\n",
    "            s = 0\n",
    "            for i in piece:\n",
    "                s<<=2\n",
    "                match i:\n",
    "                    case 15:\n",
    "                        s+=3\n",
    "                        bw[1] -= 3\n",
    "                    case 0:\n",
    "                        s+=0\n",
    "                        bw[0] -= 3\n",
    "                    case _: s+=2\n",
    "            pieces.append(s)\n",
    "        print(cut, \"pieces\")\n",
    "        for i in pieces:\n",
    "            print(bin(i)[2:].zfill(n))\n",
    "        if n == 2:\n",
    "            print(\"%d\\n%d\"%tuple(bw))\n",
    "            return\n",
    "        print(\"%d %d\"%tuple(bw))\n",
    "        n >>= 1\n",
    "        whole = pieces"
   ]
  },
  {
   "cell_type": "markdown",
   "metadata": {},
   "source": [
    "### 두번째 시도"
   ]
  },
  {
   "cell_type": "markdown",
   "metadata": {},
   "source": [
    "풀이과정"
   ]
  },
  {
   "cell_type": "code",
   "execution_count": 3,
   "metadata": {},
   "outputs": [
    {
     "data": {
      "text/plain": [
       "[[1, 0], [0, 1]]"
      ]
     },
     "metadata": {},
     "output_type": "display_data"
    },
    {
     "name": "stdout",
     "output_type": "stream",
     "text": [
      "2\n",
      "2\n"
     ]
    }
   ],
   "source": [
    "def separated(iterable, seplen):\n",
    "    return [iterable[i * seplen:(i + 1) * seplen] for i in range(len(iterable) // seplen)]\n",
    "def part(len, whole):\n",
    "    if len == 1: return (0, 1) if whole[0][0] else (1, 0)\n",
    "    partsum = sum(sum(line) for line in whole)\n",
    "    if partsum == len * len: return (0, 1)\n",
    "    elif partsum:\n",
    "        pieces = []\n",
    "        lenpart = len // 2\n",
    "        for half in (whole[:lenpart], whole[lenpart:]):\n",
    "            seps = sum([separated(line,lenpart) for line in half],[])\n",
    "            for piece in (seps[::2], seps[1::2]):\n",
    "                pieces.append(part(lenpart, piece))\n",
    "        return tuple(map(sum,zip(*pieces)))\n",
    "    else: return (1, 0)\n",
    "length = int(input())\n",
    "paper = [list(map(int, input().split())) for _ in range(length)]\n",
    "for i in part(length, paper): print(i)"
   ]
  },
  {
   "cell_type": "markdown",
   "metadata": {},
   "source": [
    "## 해답"
   ]
  },
  {
   "cell_type": "code",
   "execution_count": 48,
   "metadata": {},
   "outputs": [
    {
     "data": {
      "text/plain": [
       "[0, 0, 10, 7]"
      ]
     },
     "execution_count": 48,
     "metadata": {},
     "output_type": "execute_result"
    }
   ],
   "source": [
    "def sep_sum(num1, num2, i):\n",
    "    b1 = bin(num1)[2:].zfill(i)\n",
    "    b2 = bin(num2)[2:].zfill(i)\n",
    "    return [(int(b1[j:j+2],2)<<2)+int(b2[j:j+2],2) for j in range(0,i,2)]\n",
    "sep_sum(9,11,8)"
   ]
  },
  {
   "cell_type": "code",
   "execution_count": 1,
   "metadata": {},
   "outputs": [
    {
     "data": {
      "text/plain": [
       "[[0, 1, 2, 3], [4, 5, 6, 7]]"
      ]
     },
     "execution_count": 1,
     "metadata": {},
     "output_type": "execute_result"
    }
   ],
   "source": [
    "def separated(iterable, seplen):\n",
    "    return [iterable[i * seplen:(i + 1) * seplen] for i in range(len(iterable) // seplen)]\n",
    "separated(list(range(8)),4)"
   ]
  },
  {
   "cell_type": "code",
   "execution_count": 2,
   "metadata": {},
   "outputs": [],
   "source": [
    "def part(len, whole):\n",
    "    if len == 1:\n",
    "        return (0, 1) if whole[0][0] else (1, 0)\n",
    "    partsum = sum(sum(line) for line in whole)\n",
    "    if partsum == len * len: return (0, 1)\n",
    "    elif partsum:\n",
    "        pieces = []\n",
    "        lenpart = len // 2\n",
    "        for half in (whole[:len // 2], whole[len//2:]):\n",
    "            seps = sum([separated(line,lenpart) for line in half],[])\n",
    "            for piece in (seps[::2], seps[1::2]):\n",
    "                pieces.append(part(lenpart, piece))\n",
    "        return tuple(map(sum,zip(*pieces)))\n",
    "    else: return (1, 0)\n",
    "def solution(input):\n",
    "    len = int(input())\n",
    "    paper = [list(map(int, input().split())) for _ in range(len)]\n",
    "    for i in part(len, paper): print(i)"
   ]
  },
  {
   "cell_type": "markdown",
   "metadata": {},
   "source": [
    "## 테스트 결과"
   ]
  },
  {
   "cell_type": "markdown",
   "metadata": {},
   "source": [
    "|테스트|결과|\n",
    "|---:|:---|"
   ]
  },
  {
   "cell_type": "markdown",
   "metadata": {},
   "source": [
    "## 예제"
   ]
  },
  {
   "cell_type": "code",
   "execution_count": 3,
   "metadata": {},
   "outputs": [],
   "source": [
    "# 백준 문제 풀이용 예제 실행 코드\n",
    "from inspect import signature\n",
    "def solution_example(input_ = None, solution=solution):\n",
    "    params = signature(solution).parameters\n",
    "    if input_ == None:\n",
    "        solution()\n",
    "    elif 'open' in params:\n",
    "        class open:\n",
    "            def __init__(self, x):\n",
    "                self.read = lambda: input_\n",
    "            def __iter__(self):\n",
    "                return iter(input_.split(\"\\n\"))\n",
    "        solution(open)\n",
    "    elif 'input' in params:\n",
    "        input_ = iter(input_.split(\"\\n\"))\n",
    "        input = input_.__next__\n",
    "        solution(input)\n",
    "    else:\n",
    "        raise NameError(f'solution 함수가 input, open 등의 매개변수를 받지 않습니다.\\nsolution 의 매개변수: {params}')\n",
    "    \n",
    "        \n",
    "# solution_example(\"\"\"\"\"\")\n",
    "# solution_example(read(\"fn\").read())"
   ]
  },
  {
   "cell_type": "code",
   "execution_count": 4,
   "metadata": {},
   "outputs": [
    {
     "name": "stdout",
     "output_type": "stream",
     "text": [
      "9\n",
      "7\n"
     ]
    }
   ],
   "source": [
    "solution_example(\"\"\"8\n",
    "1 1 0 0 0 0 1 1\n",
    "1 1 0 0 0 0 1 1\n",
    "0 0 0 0 1 1 0 0\n",
    "0 0 0 0 1 1 0 0\n",
    "1 0 0 0 1 1 1 1\n",
    "0 1 0 0 1 1 1 1\n",
    "0 0 1 1 1 1 1 1\n",
    "0 0 1 1 1 1 1 1\"\"\")"
   ]
  },
  {
   "cell_type": "code",
   "execution_count": 5,
   "metadata": {},
   "outputs": [
    {
     "name": "stdout",
     "output_type": "stream",
     "text": [
      "0\n",
      "1\n"
     ]
    }
   ],
   "source": [
    "solution_example(\"\"\"4\n",
    "1 1 1 1\n",
    "1 1 1 1\n",
    "1 1 1 1\n",
    "1 1 1 1\"\"\")"
   ]
  },
  {
   "cell_type": "code",
   "execution_count": 6,
   "metadata": {},
   "outputs": [
    {
     "name": "stdout",
     "output_type": "stream",
     "text": [
      "1\n",
      "3\n"
     ]
    }
   ],
   "source": [
    "solution_example(\"\"\"2\n",
    "1 0\n",
    "1 1\"\"\")"
   ]
  },
  {
   "cell_type": "code",
   "execution_count": 7,
   "metadata": {},
   "outputs": [
    {
     "name": "stdout",
     "output_type": "stream",
     "text": [
      "0\n",
      "1\n"
     ]
    }
   ],
   "source": [
    "solution_example(\"\"\"2\n",
    "1 1\n",
    "1 1\"\"\")"
   ]
  }
 ],
 "metadata": {
  "interpreter": {
   "hash": "73891b0dc2e53390f36276e59930dd4ecab91b05b5c90320c2d5b1c443f87069"
  },
  "kernelspec": {
   "display_name": "Python 3.10.1 ('venv': venv)",
   "language": "python",
   "name": "python3"
  },
  "language_info": {
   "codemirror_mode": {
    "name": "ipython",
    "version": 3
   },
   "file_extension": ".py",
   "mimetype": "text/x-python",
   "name": "python",
   "nbconvert_exporter": "python",
   "pygments_lexer": "ipython3",
   "version": "3.10.2"
  },
  "orig_nbformat": 4
 },
 "nbformat": 4,
 "nbformat_minor": 2
}
