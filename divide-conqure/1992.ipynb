{
    "cells": [
        {
            "cell_type": "markdown",
            "metadata": {},
            "source": [
                "# [백준/쿼드트리](https://www.acmicpc.net/problem/1992)"
            ]
        },
        {
            "cell_type": "markdown",
            "metadata": {},
            "source": [
                "## 풀이과정"
            ]
        },
        {
            "cell_type": "markdown",
            "metadata": {},
            "source": [
                "### 첫번째 시도"
            ]
        },
        {
            "cell_type": "markdown",
            "metadata": {},
            "source": [
                "풀이과정"
            ]
        },
        {
            "cell_type": "code",
            "execution_count": 38,
            "metadata": {},
            "outputs": [],
            "source": [
                "def solution(open=open):\n",
                "    n, *image_line = open(0).read().split()\n",
                "    n = int(n)\n",
                "    image = [[*map(int, line)] for line in image_line]\n",
                "\n",
                "    def cut(length, array):\n",
                "        iterer = iter(array)\n",
                "\n",
                "        ul, ur = [], []\n",
                "        for _ in range(length):\n",
                "            itererer = iter(next(iterer))\n",
                "            ul.append([next(itererer) for _ in range(length)])\n",
                "            ur.append([next(itererer) for _ in range(length)])\n",
                "\n",
                "        dl, dr = [], []\n",
                "        for _ in range(length):\n",
                "            itererer = iter(next(iterer))\n",
                "            dl.append([next(itererer) for _ in range(length)])\n",
                "            dr.append([next(itererer) for _ in range(length)])\n",
                "\n",
                "        return ul, ur, dl, dr\n",
                "\n",
                "    def conqure(array):\n",
                "        if (length := len(array)) == 1:\n",
                "            return str(array[0][0])\n",
                "\n",
                "        arraysum = sum(sum(line) for line in array)\n",
                "        if arraysum == 0:\n",
                "            return \"0\"\n",
                "        if arraysum == length * length:\n",
                "            return \"1\"\n",
                "\n",
                "        len_2 = length // 2\n",
                "        return \"({}{}{}{})\".format(*map(conqure, cut(len_2, array)))\n",
                "\n",
                "    print(conqure(image))\n",
                "\n",
                "\n",
                "solution()"
            ]
        },
        {
            "cell_type": "code",
            "execution_count": null,
            "metadata": {},
            "outputs": [],
            "source": [
                "def solution(open=open):\n",
                "    n, *image_line = open(0).read().split()\n",
                "    n = int(n)\n",
                "    image = [[*map(int, line)] for line in image_line]\n",
                "\n",
                "    def cut(length, array):\n",
                "        return ([inner[:length] for inner in array[:length]],\n",
                "                [inner[length:] for inner in array[:length]],\n",
                "                [inner[:length] for inner in array[length:]],\n",
                "                [inner[length:] for inner in array[length:]])\n",
                "\n",
                "    def conqure(array):\n",
                "        if (length := len(array)) == 1:\n",
                "            return str(array[0][0])\n",
                "\n",
                "        arraysum = sum(sum(line) for line in array)\n",
                "        if arraysum == 0:\n",
                "            return \"0\"\n",
                "        if arraysum == length * length:\n",
                "            return \"1\"\n",
                "\n",
                "        len_2 = length // 2\n",
                "        return \"({}{}{}{})\".format(*map(conqure, cut(len_2, array)))\n",
                "\n",
                "    print(conqure(image))\n",
                "\n",
                "\n",
                "solution()"
            ]
        },
        {
            "cell_type": "markdown",
            "metadata": {},
            "source": [
                "## 해답"
            ]
        },
        {
            "cell_type": "code",
            "execution_count": 1,
            "metadata": {},
            "outputs": [],
            "source": [
                "example = [\n",
                "[1, 1, 1, 1, 0, 0, 0, 0],\n",
                "[1, 1, 1, 1, 0, 0, 0, 0],\n",
                "[0, 0, 0, 1, 1, 1, 0, 0],\n",
                "[0, 0, 0, 1, 1, 1, 0, 0],\n",
                "[1, 1, 1, 1, 0, 0, 0, 0],\n",
                "[1, 1, 1, 1, 0, 0, 0, 0],\n",
                "[1, 1, 1, 1, 0, 0, 1, 1],\n",
                "[1, 1, 1, 1, 0, 0, 1, 1]]"
            ]
        },
        {
            "cell_type": "code",
            "execution_count": 7,
            "metadata": {},
            "outputs": [
                {
                    "name": "stdout",
                    "output_type": "stream",
                    "text": [
                        "[[1, 1], [1, 1]] [[1, 1], [1, 1]] [[0, 0], [0, 0]] [[0, 1], [0, 1]]\n"
                    ]
                },
                {
                    "data": {
                        "text/plain": [
                            "([[1, 1, 1, 1], [1, 1, 1, 1], [0, 0, 0, 1], [0, 0, 0, 1]],\n",
                            " [[0, 0, 0, 0], [0, 0, 0, 0], [1, 1, 0, 0], [1, 1, 0, 0]],\n",
                            " [[1, 1, 1, 1], [1, 1, 1, 1], [1, 1, 1, 1], [1, 1, 1, 1]],\n",
                            " [[0, 0, 0, 0], [0, 0, 0, 0], [0, 0, 1, 1], [0, 0, 1, 1]])"
                        ]
                    },
                    "execution_count": 7,
                    "metadata": {},
                    "output_type": "execute_result"
                }
            ],
            "source": [
                "def cut(length, array):\n",
                "    ul = [inner[:length] for inner in array[:length]]\n",
                "    ur = [inner[length:] for inner in array[:length]]\n",
                "    dl = [inner[:length] for inner in array[length:]]\n",
                "    dr = [inner[length:] for inner in array[length:]]\n",
                "    return ul, ur, dl, dr\n",
                "\n",
                "print(*cut(2, [[1, 1, 1, 1], [1, 1, 1, 1], [0, 0, 0, 1], [0, 0, 0, 1]]))\n",
                "cut(4, example)"
            ]
        },
        {
            "cell_type": "code",
            "execution_count": 3,
            "metadata": {},
            "outputs": [
                {
                    "data": {
                        "text/plain": [
                            "([[1, 1, 1, 1], [1, 1, 1, 1], [0, 0, 0, 1], [0, 0, 0, 1]],\n",
                            " [[0, 0, 0, 0], [0, 0, 0, 0], [1, 1, 0, 0], [1, 1, 0, 0]],\n",
                            " [[1, 1, 1, 1], [1, 1, 1, 1], [1, 1, 1, 1], [1, 1, 1, 1]],\n",
                            " [[0, 0, 0, 0], [0, 0, 0, 0], [0, 0, 1, 1], [0, 0, 1, 1]])"
                        ]
                    },
                    "execution_count": 3,
                    "metadata": {},
                    "output_type": "execute_result"
                }
            ],
            "source": [
                "def cut(length, array):\n",
                "    iterer = iter(array)\n",
                "\n",
                "    ul, ur = [], []\n",
                "    for _ in range(length):\n",
                "        itererer = iter(next(iterer))\n",
                "        ul.append([next(itererer) for _ in range(length)])\n",
                "        ur.append([next(itererer) for _ in range(length)])\n",
                "\n",
                "    dl, dr = [], []\n",
                "    for _ in range(length):\n",
                "        itererer = iter(next(iterer))\n",
                "        dl.append([next(itererer) for _ in range(length)])\n",
                "        dr.append([next(itererer) for _ in range(length)])\n",
                "\n",
                "    return ul, ur, dl, dr\n",
                "\n",
                "\n",
                "cut(4, example)"
            ]
        },
        {
            "cell_type": "code",
            "execution_count": 36,
            "metadata": {},
            "outputs": [],
            "source": [
                "def conqure(array):\n",
                "    if (length := len(array)) == 1:\n",
                "        return str(array[0][0])\n",
                "    arraysum = sum(sum(line) for line in array)\n",
                "    if arraysum == 0:\n",
                "        return \"0\"\n",
                "    if arraysum == length * length:\n",
                "        return \"1\"\n",
                "    len_2 = length // 2\n",
                "    return \"({}{}{}{})\".format(*map(conqure, cut(len_2, array)))\n",
                "\n",
                "\n",
                "conqure(example)"
            ]
        },
        {
            "cell_type": "code",
            "execution_count": 37,
            "metadata": {},
            "outputs": [],
            "source": [
                "def solution(open=open):\n",
                "    n, *image_line = open(0).read().split()\n",
                "    n = int(n)\n",
                "    image = [[*map(int, line)] for line in image_line]\n",
                "    print(conqure(image))"
            ]
        },
        {
            "cell_type": "markdown",
            "metadata": {},
            "source": [
                "## 예제"
            ]
        },
        {
            "cell_type": "code",
            "execution_count": 33,
            "metadata": {},
            "outputs": [],
            "source": [
                "# 백준 문제 풀이용 예제 실행 코드\n",
                "from bwj import test\n",
                "test_solution = test(solution)\n",
                "\n",
                "# test_solution(\"\"\"\"\"\")\n",
                "# test_solution(read(\"fn\").read())"
            ]
        },
        {
            "cell_type": "code",
            "execution_count": 34,
            "metadata": {},
            "outputs": [
                {
                    "name": "stdout",
                    "output_type": "stream",
                    "text": [
                        "((110(0101))(0010)1(0001))\n"
                    ]
                }
            ],
            "source": [
                "test_solution(\"\"\"8\n",
                "11110000\n",
                "11110000\n",
                "00011100\n",
                "00011100\n",
                "11110000\n",
                "11110000\n",
                "11110011\n",
                "11110011\"\"\") # ((110(0101))(0010)1(0001))"
            ]
        }
    ],
    "metadata": {
        "interpreter": {
            "hash": "73891b0dc2e53390f36276e59930dd4ecab91b05b5c90320c2d5b1c443f87069"
        },
        "kernelspec": {
            "display_name": "Python 3.10.1 ('venv': venv)",
            "language": "python",
            "name": "python3"
        },
        "language_info": {
            "codemirror_mode": {
                "name": "ipython",
                "version": 3
            },
            "file_extension": ".py",
            "mimetype": "text/x-python",
            "name": "python",
            "nbconvert_exporter": "python",
            "pygments_lexer": "ipython3",
            "version": "3.10.2"
        },
        "orig_nbformat": 4
    },
    "nbformat": 4,
    "nbformat_minor": 2
}
