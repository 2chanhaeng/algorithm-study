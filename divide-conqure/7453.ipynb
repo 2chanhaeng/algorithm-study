{
  "cells": [
    {
      "cell_type": "markdown",
      "metadata": {},
      "source": [
        "# [백준/합이 0인 네 정수](https://www.acmicpc.net/problem/7453)\n"
      ]
    },
    {
      "cell_type": "markdown",
      "metadata": {},
      "source": [
        "## 풀이과정\n"
      ]
    },
    {
      "cell_type": "markdown",
      "metadata": {},
      "source": [
        "### 첫번째 시도\n"
      ]
    },
    {
      "cell_type": "markdown",
      "metadata": {},
      "source": [
        "#### 풀이과정\n",
        "\n",
        "단순히 A와 B의 합과 C와 D의 합을 구한 뒤, 두 합이 0이 되는 경우의 수만 구하면 될 줄 알고 `Counter`, `product`를 이용한 시도를 했으나, 시간이 초과되었다.\n"
      ]
    },
    {
      "cell_type": "code",
      "execution_count": null,
      "id": "0aa1f4fc",
      "metadata": {},
      "outputs": [],
      "source": [
        "from collections import Counter\n",
        "from itertools import product as prod\n",
        "\n",
        "\n",
        "def prod_counter(a: Counter[int], b: Counter[int]) -> Counter[int]:\n",
        "    result = Counter()\n",
        "    for [k, v], [l, u] in prod(a.items(), b.items()):\n",
        "        result[k + l] += v * u\n",
        "    return result\n",
        "\n",
        "\n",
        "def get_zero_sum(nss) -> int:\n",
        "    ab = prod_counter(next(nss), next(nss))\n",
        "    cd = prod_counter(next(nss), next(nss))\n",
        "    return sum((ab[x] * cd[-x]) for x in ab if -x in cd)\n",
        "\n",
        "\n",
        "def solution():\n",
        "    import sys\n",
        "\n",
        "    inputs = sys.stdin.read().strip().split(\"\\n\")[1:]\n",
        "    nss = map(Counter, zip(*(list(map(int, l.split())) for l in inputs)))\n",
        "    print(get_zero_sum(nss))\n",
        "\n",
        "\n",
        "solution()"
      ]
    },
    {
      "cell_type": "markdown",
      "id": "00f50dbc",
      "metadata": {},
      "source": [
        "### 두번째 시도\n"
      ]
    },
    {
      "cell_type": "markdown",
      "id": "919b8ead",
      "metadata": {},
      "source": [
        "#### 풀이과정\n",
        "\n",
        "다른 분들의 풀이를 보니 나와 알고리즘은 비슷했으나, 다른 모듈 사용 없이 2중 for문과 딕셔너리를 이용하여 문제를 해결하였다.\n",
        "그래서 나도 모듈 import 없이 그대로 풀었더니 속도가 개선되어 통과했다.\n"
      ]
    },
    {
      "cell_type": "code",
      "execution_count": null,
      "id": "8c35d97d",
      "metadata": {},
      "outputs": [],
      "source": [
        "def solution():\n",
        "    import sys\n",
        "\n",
        "    inputs = sys.stdin.read().strip().split(\"\\n\")[1:]\n",
        "    a, b, c, d = zip(*(list(map(int, l.split())) for l in inputs))\n",
        "    ab = {}\n",
        "    for k in a:\n",
        "        for l in b:\n",
        "            if k + l in ab:\n",
        "                ab[k + l] += 1\n",
        "            else:\n",
        "                ab[k + l] = 1\n",
        "    result = 0\n",
        "    for k in c:\n",
        "        for l in d:\n",
        "            if -k - l in ab:\n",
        "                result += ab[-k - l]\n",
        "    print(str(result))\n",
        "\n",
        "\n",
        "solution()"
      ]
    },
    {
      "cell_type": "markdown",
      "id": "1933bdb3",
      "metadata": {},
      "source": [
        "### 세번째 시도\n"
      ]
    },
    {
      "cell_type": "markdown",
      "id": "3c184c4f",
      "metadata": {},
      "source": [
        "#### 풀이과정\n",
        "\n",
        "아무리 그래도 `ab` 를 구할 때는 사실 상 로직은 별 다를 바 없으니 `Counter` 의 문제는 아닌 것 같아서 다시 `Counter`를 시도해봤다.\n",
        "대신 아까처럼 모든 수열의 `Counter` 를 구하지 않고 맨 처음에 A, B 의 합을 구하는 부분에만 `Counter`를 사용했더니 속도가 조금 더 개선되었다.\n",
        "아마 수열 내에서는 겹치는 수가 많지 않아서 그랬던 것 같다.\n",
        "비슷하게 `product` 도 다시 적용해 보았으나 여전히 시간 초과가 발생했다.\n",
        "\n",
        "똑같은 풀이를 PyPy3 로 올려봤는데 PyPy3 에서는 오히려 속도가 더 느려졌다.\n"
      ]
    },
    {
      "cell_type": "code",
      "execution_count": null,
      "id": "2a3e7a81",
      "metadata": {},
      "outputs": [],
      "source": [
        "from collections import Counter\n",
        "\n",
        "\n",
        "def solution():\n",
        "    import sys\n",
        "\n",
        "    inputs = sys.stdin.buffer.read().strip().split(b\"\\n\")[1:]\n",
        "    a, b, c, d = zip(*(list(map(int, l.split())) for l in inputs))\n",
        "    ab = Counter(k + l for k in a for l in b)\n",
        "    print(str(sum(ab[-k - l] for k in c for l in d if -k - l in ab)))\n",
        "\n",
        "\n",
        "solution()"
      ]
    },
    {
      "cell_type": "markdown",
      "metadata": {},
      "source": [
        "## 해답\n"
      ]
    },
    {
      "cell_type": "code",
      "execution_count": 1,
      "id": "ecf7e8ea",
      "metadata": {},
      "outputs": [],
      "source": [
        "def solution():\n",
        "    import sys\n",
        "\n",
        "    inputs = sys.stdin.read().strip().split(\"\\n\")[1:]\n",
        "    a, b, c, d = zip(*(list(map(int, l.split())) for l in inputs))\n",
        "    ab = {}\n",
        "    for k in a:\n",
        "        for l in b:\n",
        "            if k + l in ab:\n",
        "                ab[k + l] += 1\n",
        "            else:\n",
        "                ab[k + l] = 1\n",
        "    result = 0\n",
        "    for k in c:\n",
        "        for l in d:\n",
        "            if -k - l in ab:\n",
        "                result += ab[-k - l]\n",
        "    print(str(result))"
      ]
    },
    {
      "cell_type": "markdown",
      "metadata": {},
      "source": [
        "## 예제\n"
      ]
    },
    {
      "cell_type": "code",
      "execution_count": 2,
      "metadata": {},
      "outputs": [],
      "source": [
        "# 백준 문제 풀이용 예제 실행 코드\n",
        "from bwj import test\n",
        "\n",
        "test_solution = test(solution)\n",
        "\n",
        "# test_solution(\"\"\"\"\"\")\n",
        "# test_solution(read(\"fn\").read())"
      ]
    },
    {
      "cell_type": "code",
      "execution_count": 3,
      "id": "f8e939b3",
      "metadata": {},
      "outputs": [
        {
          "name": "stdout",
          "output_type": "stream",
          "text": [
            "319020\n"
          ]
        }
      ],
      "source": [
        "from requests import get\n",
        "\n",
        "# refer https://www.acmicpc.net/board/view/158943\n",
        "test_solution(\n",
        "    get(\"https://upload.acmicpc.net/999f183a-1c30-40e8-b302-3ab4777a3eba/\").text\n",
        ")\n",
        "# 319020\n",
        "# It takes about 9~10 seconds to run in CPython 3"
      ]
    },
    {
      "cell_type": "code",
      "execution_count": 4,
      "metadata": {},
      "outputs": [
        {
          "name": "stdout",
          "output_type": "stream",
          "text": [
            "5\n"
          ]
        }
      ],
      "source": [
        "test_solution(\n",
        "    \"\"\"6\n",
        "-45 22 42 -16\n",
        "-41 -27 56 30\n",
        "-36 53 -37 77\n",
        "-36 30 -75 -46\n",
        "26 -38 -10 62\n",
        "-32 -54 -6 45\n",
        "\"\"\"\n",
        ")  # 5"
      ]
    }
  ],
  "metadata": {
    "kernelspec": {
      "display_name": "venv",
      "language": "python",
      "name": "python3"
    },
    "language_info": {
      "codemirror_mode": {
        "name": "ipython",
        "version": 3
      },
      "file_extension": ".py",
      "mimetype": "text/x-python",
      "name": "python",
      "nbconvert_exporter": "python",
      "pygments_lexer": "ipython3",
      "version": "3.12.10"
    }
  },
  "nbformat": 4,
  "nbformat_minor": 5
}
