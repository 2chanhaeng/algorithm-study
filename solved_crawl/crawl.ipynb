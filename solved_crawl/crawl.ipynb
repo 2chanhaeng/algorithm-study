{
 "cells": [
  {
   "cell_type": "code",
   "execution_count": 44,
   "metadata": {},
   "outputs": [],
   "source": [
    "import json\n",
    "from pathlib import Path\n",
    "from selenium import webdriver\n",
    "from webdriver_manager.chrome import ChromeDriverManager as cdm\n",
    "from bs4 import BeautifulSoup as bs"
   ]
  },
  {
   "cell_type": "code",
   "execution_count": 1,
   "metadata": {},
   "outputs": [],
   "source": [
    "url = \"https://solved.ac/problems/level/{level}/unsolved?page={page}\"\n",
    "level = int(input(\"level: \"))\n",
    "if level > 30:\n",
    "    level = 30\n",
    "elif level < 1:\n",
    "    level = 1\n",
    "def page(p):\n",
    "    return url.format(level=level, page=p)"
   ]
  },
  {
   "cell_type": "code",
   "execution_count": 56,
   "metadata": {},
   "outputs": [
    {
     "name": "stdout",
     "output_type": "stream",
     "text": [
      "Bronze 4\n"
     ]
    }
   ],
   "source": [
    "tiers = [\"Bronze\", \"Silver\", \"Gold\", \"Platinum\", \"Diamond\", \"Ruby\"]\n",
    "tier = tiers[level // 5]\n",
    "tier_lv = 6 - level % 5\n",
    "print(tier, tier_lv)"
   ]
  },
  {
   "cell_type": "code",
   "execution_count": 82,
   "metadata": {},
   "outputs": [],
   "source": [
    "fp = Path(\"./\")\n",
    "cache_path = fp / \"cache\" / f\"{level}\"\n",
    "cache_path.mkdir(parents=True, exist_ok=True)\n",
    "crawl_path = fp / tier / f\"{tier_lv}.ipynb\"\n",
    "crawl_path.parent.mkdir(parents=True, exist_ok=True)\n",
    "if not crawl_path.exists():\n",
    "    default_ipynb = r'{\"cells\":[],\"metadata\":{}}'\n",
    "    with open(crawl_path, \"w\", encoding=\"utf-8\") as f:\n",
    "        f.write(default_ipynb)"
   ]
  },
  {
   "cell_type": "code",
   "execution_count": 83,
   "metadata": {},
   "outputs": [
    {
     "name": "stderr",
     "output_type": "stream",
     "text": [
      "/var/folders/5v/wxprbmzx3yv6xbk39x3shz0m0000gn/T/ipykernel_17926/787701786.py:1: DeprecationWarning: executable_path has been deprecated, please pass in a Service object\n",
      "  driver = webdriver.Chrome(cdm().install())\n"
     ]
    },
    {
     "name": "stdout",
     "output_type": "stream",
     "text": [
      "solved.ac\n"
     ]
    },
    {
     "data": {
      "text/plain": [
       "''"
      ]
     },
     "execution_count": 83,
     "metadata": {},
     "output_type": "execute_result"
    }
   ],
   "source": [
    "driver = webdriver.Chrome(cdm().install())\n",
    "driver.get('https://solved.ac/login')\n",
    "print(driver.title)\n",
    "input(\"브라우저에서 솔브닥 로그인 후 엔터를 눌러주세요.\")"
   ]
  },
  {
   "cell_type": "code",
   "execution_count": 19,
   "metadata": {},
   "outputs": [],
   "source": [
    "def save_source(path, source):\n",
    "    with open(path, \"w\", encoding=\"utf-8\") as f:\n",
    "        f.write(source)"
   ]
  },
  {
   "cell_type": "code",
   "execution_count": 71,
   "metadata": {},
   "outputs": [],
   "source": [
    "def get_path(p=0):\n",
    "    driver.get(page(p))\n",
    "    source = driver.page_source\n",
    "    if source.find(\"해당하는 문제가 없습니다.\") - source.find(\"시프트 마음대로\") < 100:\n",
    "        return\n",
    "    path = cache_path / f\"{p}.html\"\n",
    "    save_source(path, source)\n",
    "    yield path\n",
    "    yield from get_path(p + 1)"
   ]
  },
  {
   "cell_type": "code",
   "execution_count": 72,
   "metadata": {},
   "outputs": [
    {
     "name": "stdout",
     "output_type": "stream",
     "text": [
      "Crawl 6 pages\n"
     ]
    }
   ],
   "source": [
    "paths = list(get_path())\n",
    "print(f\"{len(paths)} 페이지 저장됨\")"
   ]
  },
  {
   "cell_type": "code",
   "execution_count": 75,
   "metadata": {},
   "outputs": [],
   "source": [
    "def create_md_cell(header):\n",
    "    return {\n",
    "        \"cell_type\": \"markdown\",\n",
    "        \"metadata\": {},  # metadata 까지 있어야 오류가 안 남\n",
    "        \"source\": [header],\n",
    "    }"
   ]
  },
  {
   "cell_type": "code",
   "execution_count": 76,
   "metadata": {},
   "outputs": [],
   "source": [
    "def create_empty_code_cell():\n",
    "    return {\n",
    "        \"cell_type\": \"code\",\n",
    "        \"metadata\": {},  # metadata 까지 있어야 오류가 안 남\n",
    "        \"source\": [\"\"],\n",
    "    }"
   ]
  },
  {
   "cell_type": "code",
   "execution_count": 77,
   "metadata": {},
   "outputs": [],
   "source": [
    "def crawl_from_cache(cache_path):\n",
    "    with open(cache_path, \"r\") as f:\n",
    "        raw_html = f.read()\n",
    "    soup = bs(raw_html, \"html.parser\")\n",
    "    title_link = [\n",
    "        (\n",
    "            elem.select_one(\"span\").text,\n",
    "            elem.select_one(\"a\")[\"href\"],\n",
    "        )\n",
    "        for elem in soup.select(\".css-d6mf5j\")\n",
    "    ]\n",
    "    headers = [f\"## [{title}]({link})\" for title, link in title_link]\n",
    "    new_cells = sum(\n",
    "        (\n",
    "            [\n",
    "                create_md_cell(header),\n",
    "                create_empty_code_cell(),\n",
    "            ] for header in headers\n",
    "        ),\n",
    "        start=[],\n",
    "    )\n",
    "    return new_cells"
   ]
  },
  {
   "cell_type": "code",
   "execution_count": 78,
   "metadata": {},
   "outputs": [],
   "source": [
    "with open(crawl_path, \"r\") as f:\n",
    "    raw = f.read()\n",
    "data = json.loads(raw)\n",
    "cells = data[\"cells\"]"
   ]
  },
  {
   "cell_type": "code",
   "execution_count": 79,
   "metadata": {},
   "outputs": [],
   "source": [
    "new_cells = sum((crawl_from_cache(path) for path in paths), start=[])\n",
    "data[\"cells\"] = new_cells + cells"
   ]
  },
  {
   "cell_type": "code",
   "execution_count": 80,
   "metadata": {},
   "outputs": [],
   "source": [
    "with open(crawl_path, \"w\") as f:\n",
    "    json.dump(data, f)"
   ]
  },
  {
   "cell_type": "code",
   "execution_count": 81,
   "metadata": {},
   "outputs": [],
   "source": [
    "if input(\"브라우저를 종료하시겠습니까? (ㅇ 시 종료): \") == \"ㅇ\":\n",
    "    driver.close()"
   ]
  }
 ],
 "metadata": {
  "kernelspec": {
   "display_name": "venv",
   "language": "python",
   "name": "python3"
  },
  "language_info": {
   "codemirror_mode": {
    "name": "ipython",
    "version": 3
   },
   "file_extension": ".py",
   "mimetype": "text/x-python",
   "name": "python",
   "nbconvert_exporter": "python",
   "pygments_lexer": "ipython3",
   "version": "3.11.2"
  },
  "orig_nbformat": 4
 },
 "nbformat": 4,
 "nbformat_minor": 2
}
