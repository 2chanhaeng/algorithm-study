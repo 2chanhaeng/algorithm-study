{
 "cells": [
  {
   "cell_type": "markdown",
   "metadata": {},
   "source": [
    "# [백준/랜선 자르기](https://www.acmicpc.net/problem/1654)"
   ]
  },
  {
   "cell_type": "markdown",
   "metadata": {},
   "source": [
    "## 풀이과정"
   ]
  },
  {
   "cell_type": "markdown",
   "metadata": {},
   "source": [
    "### 첫번째 시도"
   ]
  },
  {
   "cell_type": "markdown",
   "metadata": {},
   "source": [
    "풀이과정"
   ]
  },
  {
   "cell_type": "code",
   "execution_count": null,
   "metadata": {},
   "outputs": [],
   "source": [
    "N, pieces, *lines = map(int,[*open(0)])\n",
    "lines = sorted(lines)\n",
    "M = lines[-1]\n",
    "m = lines[-1] // pieces\n",
    "# if M < m: m, M = M, m\n",
    "length = (m + M) // 2\n",
    "while m < M:\n",
    "    cutted_lines = 0\n",
    "    for line in lines:\n",
    "        cutted_lines += line // length\n",
    "        if cutted_lines > pieces: break\n",
    "\n",
    "    if cutted_lines < pieces:\n",
    "        M = length - 1\n",
    "    else:\n",
    "        m = length + 1\n",
    "    length = (m + M) // 2\n",
    "print(m)"
   ]
  },
  {
   "cell_type": "markdown",
   "metadata": {},
   "source": [
    "## 해답"
   ]
  },
  {
   "cell_type": "code",
   "execution_count": 44,
   "metadata": {},
   "outputs": [],
   "source": [
    "# 해답\n",
    "# 백준 input = \n"
   ]
  },
  {
   "cell_type": "code",
   "execution_count": 218,
   "metadata": {},
   "outputs": [],
   "source": [
    "def cutter_gen(target, lines):\n",
    "    def cutter(length):\n",
    "        cutted_lines = 0\n",
    "        for line in lines:\n",
    "            cutted_lines += line // length\n",
    "            if cutted_lines > target: break\n",
    "        return cutted_lines \n",
    "    return cutter\n"
   ]
  },
  {
   "cell_type": "code",
   "execution_count": 219,
   "metadata": {},
   "outputs": [],
   "source": [
    "def solution(input):\n",
    "    N, pieces = map(int,input().split())\n",
    "    lines = sorted(int(input()) for _ in range(N))\n",
    "    cut = cutter_gen(pieces, lines)\n",
    "    M = lines[-1]\n",
    "    m = lines[-1] // pieces\n",
    "    # if M < m: m, M = M, m\n",
    "    length = (m + M) // 2\n",
    "    while m < M:\n",
    "        cutted_lines = 0\n",
    "        for line in lines:\n",
    "            cutted_lines += line // length\n",
    "            if cutted_lines > pieces: break\n",
    "\n",
    "        if cutted_lines < pieces:\n",
    "            M = length - 1\n",
    "        else:\n",
    "            m = length + 1\n",
    "        length = (m + M) // 2\n",
    "    print(m)"
   ]
  },
  {
   "cell_type": "markdown",
   "metadata": {},
   "source": [
    "## 테스트 결과"
   ]
  },
  {
   "cell_type": "markdown",
   "metadata": {},
   "source": [
    "|테스트|결과|\n",
    "|---:|:---|"
   ]
  },
  {
   "cell_type": "markdown",
   "metadata": {},
   "source": [
    "## 예제"
   ]
  },
  {
   "cell_type": "code",
   "execution_count": 220,
   "metadata": {},
   "outputs": [],
   "source": [
    "# 백준식 실행 코드\n",
    "def solution_example(input_, solution=solution):\n",
    "    input_ = iter(input_.split(\"\\n\"))\n",
    "    input = input_.__next__\n",
    "    solution(input)\n",
    "# solution_example(\"\"\"\"\"\")\n",
    "# solution_example(read(\"fn\").read())"
   ]
  },
  {
   "cell_type": "code",
   "execution_count": 221,
   "metadata": {},
   "outputs": [
    {
     "name": "stdout",
     "output_type": "stream",
     "text": [
      "107 11345 22583 45\n",
      "107 5725 11344 98\n",
      "107 2915 5724 201\n",
      "107 1510 2914 402\n",
      "107 808 1509 426\n",
      "809 1159 1509 452\n",
      "1160 1334 1509 424\n",
      "1335 1422 1509 426\n",
      "1423 1466 1509 416\n",
      "1423 1444 1465 420\n",
      "1423 1433 1443 423\n",
      "1434 1438 1443 422\n",
      "1439 1441 1443 422\n",
      "1442 1442 1443 421\n",
      "1443 1443 1443 421\n",
      "1442\n"
     ]
    }
   ],
   "source": [
    "solution_example(\"\"\"25 421\n",
    "25468\n",
    "42380\n",
    "34638\n",
    "19901\n",
    "35751\n",
    "24933\n",
    "15368\n",
    "854\n",
    "24429\n",
    "35451\n",
    "32479\n",
    "22039\n",
    "24149\n",
    "45061\n",
    "34767\n",
    "5716\n",
    "13347\n",
    "11121\n",
    "19624\n",
    "12193\n",
    "34154\n",
    "24840\n",
    "40357\n",
    "5152\n",
    "42609\"\"\") # 1443"
   ]
  },
  {
   "cell_type": "code",
   "execution_count": 222,
   "metadata": {},
   "outputs": [
    {
     "name": "stdout",
     "output_type": "stream",
     "text": [
      "1073741823 1342177278 1610612734 1\n",
      "1073741823 1207959550 1342177277 1\n",
      "1073741823 1140850686 1207959549 1\n",
      "1073741823 1107296254 1140850685 1\n",
      "1073741823 1090519038 1107296253 1\n",
      "1073741823 1082130430 1090519037 1\n",
      "1073741823 1077936126 1082130429 1\n",
      "1073741823 1075838974 1077936125 1\n",
      "1073741823 1074790398 1075838973 1\n",
      "1073741823 1074266110 1074790397 1\n",
      "1073741823 1074003966 1074266109 1\n",
      "1073741823 1073872894 1074003965 1\n",
      "1073741823 1073807358 1073872893 1\n",
      "1073741823 1073774590 1073807357 1\n",
      "1073741823 1073758206 1073774589 1\n",
      "1073741823 1073750014 1073758205 1\n",
      "1073741823 1073745918 1073750013 1\n",
      "1073741823 1073743870 1073745917 1\n",
      "1073741823 1073742846 1073743869 1\n",
      "1073741823 1073742334 1073742845 1\n",
      "1073741823 1073742078 1073742333 1\n",
      "1073741823 1073741950 1073742077 1\n",
      "1073741823 1073741886 1073741949 1\n",
      "1073741823 1073741854 1073741885 1\n",
      "1073741823 1073741838 1073741853 1\n",
      "1073741823 1073741830 1073741837 1\n",
      "1073741823 1073741826 1073741829 1\n",
      "1073741823 1073741824 1073741825 1\n",
      "1073741823 1073741823 1073741823 2\n",
      "1073741824\n"
     ]
    }
   ],
   "source": [
    "solution_example(\"\"\"2 2\n",
    "1\n",
    "2147483647\"\"\") # 1073741823"
   ]
  },
  {
   "cell_type": "code",
   "execution_count": 223,
   "metadata": {},
   "outputs": [
    {
     "name": "stdout",
     "output_type": "stream",
     "text": [
      "72 254 436 8\n",
      "72 162 253 13\n",
      "163 208 253 10\n",
      "163 185 207 12\n",
      "186 196 207 11\n",
      "197 202 207 10\n",
      "197 199 201 11\n",
      "200 200 201 11\n",
      "201 201 201 10\n",
      "200\n"
     ]
    }
   ],
   "source": [
    "solution_example(\"\"\"4 11\n",
    "802\n",
    "743\n",
    "457\n",
    "539\"\"\") # 200"
   ]
  }
 ],
 "metadata": {
  "interpreter": {
   "hash": "73891b0dc2e53390f36276e59930dd4ecab91b05b5c90320c2d5b1c443f87069"
  },
  "kernelspec": {
   "display_name": "Python 3.10.1 ('venv': venv)",
   "language": "python",
   "name": "python3"
  },
  "language_info": {
   "codemirror_mode": {
    "name": "ipython",
    "version": 3
   },
   "file_extension": ".py",
   "mimetype": "text/x-python",
   "name": "python",
   "nbconvert_exporter": "python",
   "pygments_lexer": "ipython3",
   "version": "3.10.2"
  },
  "orig_nbformat": 4
 },
 "nbformat": 4,
 "nbformat_minor": 2
}
