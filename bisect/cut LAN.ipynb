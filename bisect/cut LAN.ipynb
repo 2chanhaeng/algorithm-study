{
 "cells": [
  {
   "cell_type": "markdown",
   "metadata": {},
   "source": [
    "# [백준/랜선 자르기](https://www.acmicpc.net/problem/1654)"
   ]
  },
  {
   "cell_type": "markdown",
   "metadata": {},
   "source": [
    "## 풀이과정"
   ]
  },
  {
   "cell_type": "markdown",
   "metadata": {},
   "source": [
    "### 첫번째 시도"
   ]
  },
  {
   "cell_type": "markdown",
   "metadata": {},
   "source": [
    "풀이과정"
   ]
  },
  {
   "cell_type": "code",
   "execution_count": null,
   "metadata": {},
   "outputs": [],
   "source": [
    "N, pieces = map(int,input().split())\n",
    "lines = sorted(int(input()) for _ in range(N))\n",
    "cut = cutter_gen(pieces, lines)\n",
    "M = lines[-1]\n",
    "m = lines[-1] // pieces\n",
    "# if M < m: m, M = M, m\n",
    "length = (m + M) // 2\n",
    "while m <= M:\n",
    "    cutted_lines = 0\n",
    "    for line in lines:\n",
    "        cutted_lines += line // length\n",
    "        if cutted_lines > pieces: break\n",
    "\n",
    "    if cutted_lines < pieces:\n",
    "        M = length - 1\n",
    "    else:\n",
    "        m = length + 1\n",
    "    length = (m + M) // 2\n",
    "print(M)"
   ]
  },
  {
   "cell_type": "markdown",
   "metadata": {},
   "source": [
    "## 해답"
   ]
  },
  {
   "cell_type": "code",
   "execution_count": 44,
   "metadata": {},
   "outputs": [],
   "source": [
    "# 해답\n",
    "# 백준 input = \n"
   ]
  },
  {
   "cell_type": "code",
   "execution_count": 218,
   "metadata": {},
   "outputs": [],
   "source": [
    "def cutter_gen(target, lines):\n",
    "    def cutter(length):\n",
    "        cutted_lines = 0\n",
    "        for line in lines:\n",
    "            cutted_lines += line // length\n",
    "            if cutted_lines > target: break\n",
    "        return cutted_lines \n",
    "    return cutter\n"
   ]
  },
  {
   "cell_type": "code",
   "execution_count": 242,
   "metadata": {},
   "outputs": [],
   "source": [
    "def solution(input):\n",
    "    N, pieces = map(int,input().split())\n",
    "    lines = sorted(int(input()) for _ in range(N))\n",
    "    cut = cutter_gen(pieces, lines)\n",
    "    M = lines[-1]\n",
    "    m = lines[-1] // pieces\n",
    "    # if M < m: m, M = M, m\n",
    "    length = (m + M) // 2\n",
    "    while m <= M:\n",
    "        cutted_lines = 0\n",
    "        for line in lines:\n",
    "            cutted_lines += line // length\n",
    "            if cutted_lines > pieces: break\n",
    "\n",
    "        if cutted_lines < pieces:\n",
    "            M = length - 1\n",
    "        else:\n",
    "            m = length + 1\n",
    "        length = (m + M) // 2\n",
    "    print(M)"
   ]
  },
  {
   "cell_type": "markdown",
   "metadata": {},
   "source": [
    "## 테스트 결과"
   ]
  },
  {
   "cell_type": "markdown",
   "metadata": {},
   "source": [
    "|테스트|결과|\n",
    "|---:|:---|"
   ]
  },
  {
   "cell_type": "markdown",
   "metadata": {},
   "source": [
    "## 예제"
   ]
  },
  {
   "cell_type": "code",
   "execution_count": 243,
   "metadata": {},
   "outputs": [],
   "source": [
    "# 백준식 실행 코드\n",
    "def solution_example(input_, solution=solution):\n",
    "    input_ = iter(input_.split(\"\\n\"))\n",
    "    input = input_.__next__\n",
    "    solution(input)\n",
    "# solution_example(\"\"\"\"\"\")\n",
    "# solution_example(read(\"fn\").read())"
   ]
  },
  {
   "cell_type": "code",
   "execution_count": 244,
   "metadata": {},
   "outputs": [
    {
     "name": "stdout",
     "output_type": "stream",
     "text": [
      "1443\n"
     ]
    }
   ],
   "source": [
    "solution_example(\"\"\"25 421\n",
    "25468\n",
    "42380\n",
    "34638\n",
    "19901\n",
    "35751\n",
    "24933\n",
    "15368\n",
    "854\n",
    "24429\n",
    "35451\n",
    "32479\n",
    "22039\n",
    "24149\n",
    "45061\n",
    "34767\n",
    "5716\n",
    "13347\n",
    "11121\n",
    "19624\n",
    "12193\n",
    "34154\n",
    "24840\n",
    "40357\n",
    "5152\n",
    "42609\"\"\") # 1443"
   ]
  },
  {
   "cell_type": "code",
   "execution_count": 245,
   "metadata": {},
   "outputs": [
    {
     "name": "stdout",
     "output_type": "stream",
     "text": [
      "1073741823\n"
     ]
    }
   ],
   "source": [
    "solution_example(\"\"\"2 2\n",
    "1\n",
    "2147483647\"\"\") # 1073741823"
   ]
  },
  {
   "cell_type": "code",
   "execution_count": 246,
   "metadata": {},
   "outputs": [
    {
     "name": "stdout",
     "output_type": "stream",
     "text": [
      "200\n"
     ]
    }
   ],
   "source": [
    "solution_example(\"\"\"4 11\n",
    "802\n",
    "743\n",
    "457\n",
    "539\"\"\") # 200"
   ]
  }
 ],
 "metadata": {
  "interpreter": {
   "hash": "73891b0dc2e53390f36276e59930dd4ecab91b05b5c90320c2d5b1c443f87069"
  },
  "kernelspec": {
   "display_name": "Python 3.10.1 ('venv': venv)",
   "language": "python",
   "name": "python3"
  },
  "language_info": {
   "codemirror_mode": {
    "name": "ipython",
    "version": 3
   },
   "file_extension": ".py",
   "mimetype": "text/x-python",
   "name": "python",
   "nbconvert_exporter": "python",
   "pygments_lexer": "ipython3",
   "version": "3.10.2"
  },
  "orig_nbformat": 4
 },
 "nbformat": 4,
 "nbformat_minor": 2
}
