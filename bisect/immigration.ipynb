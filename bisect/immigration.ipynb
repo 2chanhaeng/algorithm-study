{
 "cells": [
  {
   "cell_type": "markdown",
   "metadata": {},
   "source": [
    "# [프로그래머스/입국심사](https://programmers.co.kr/learn/courses/30/lessons/43238)"
   ]
  },
  {
   "cell_type": "markdown",
   "metadata": {},
   "source": [
    "## 풀이과정"
   ]
  },
  {
   "cell_type": "markdown",
   "metadata": {},
   "source": [
    "### 첫번째 시도"
   ]
  },
  {
   "cell_type": "markdown",
   "metadata": {},
   "source": [
    "풀이과정"
   ]
  },
  {
   "cell_type": "code",
   "execution_count": 109,
   "metadata": {},
   "outputs": [],
   "source": [
    "def divisor_gen(times):\n",
    "    def divisor(time):\n",
    "        return sum(map(lambda x: time // x, times))\n",
    "\n",
    "    return divisor\n",
    "\n",
    "\n",
    "def solution(n, times):\n",
    "    times.sort()\n",
    "    div = divisor_gen(times)\n",
    "\n",
    "    m, M = 0, times[-1] * n\n",
    "    while (divied := div(mid := (m + M) // 2)) != n:\n",
    "        if divied < n:\n",
    "            m = mid + 1\n",
    "        else:\n",
    "            M = mid - 1\n",
    "        if m >= M:\n",
    "            mid = m\n",
    "            break\n",
    "\n",
    "    while div(mid - 1) == n:\n",
    "        mid -= 1\n",
    "\n",
    "    return mid"
   ]
  },
  {
   "cell_type": "markdown",
   "metadata": {},
   "source": [
    "### 두번째 시도"
   ]
  },
  {
   "cell_type": "code",
   "execution_count": null,
   "metadata": {},
   "outputs": [],
   "source": [
    "def divisor_gen(stop, times):\n",
    "    def divisor(time):\n",
    "        s = 0\n",
    "        for i in times:\n",
    "            s += time // i\n",
    "            if s >= stop:\n",
    "                break\n",
    "        return s\n",
    "\n",
    "    return divisor\n",
    "\n",
    "\n",
    "def solution(n, times):\n",
    "    times.sort()\n",
    "    div = divisor_gen(n, times)\n",
    "    l = len(times)\n",
    "    mean = n // l + (n % l != 0)\n",
    "    m, M = times[0] * mean, times[-1] * mean\n",
    "    mid = (m + M) // 2\n",
    "    divied = div(mid)\n",
    "    while divied != n:\n",
    "        if divied < n:\n",
    "            m = mid + 1\n",
    "        else:\n",
    "            M = mid\n",
    "        if m >= M:\n",
    "            mid = m\n",
    "            break\n",
    "        mid = (m + M) // 2\n",
    "        divied = div(mid)\n",
    "\n",
    "    while div(mid - 1) >= n:\n",
    "        mid -= 1\n",
    "\n",
    "    return mid"
   ]
  },
  {
   "cell_type": "markdown",
   "metadata": {},
   "source": [
    "### 세번째 시도"
   ]
  },
  {
   "cell_type": "code",
   "execution_count": null,
   "metadata": {},
   "outputs": [],
   "source": [
    "def divisor_gen(stop, times):\n",
    "    def divisor(time):\n",
    "        s = 0\n",
    "        for i in times:\n",
    "            s += time // i\n",
    "            if s >= stop:\n",
    "                break\n",
    "        return s\n",
    "\n",
    "    return divisor\n",
    "\n",
    "\n",
    "def solution(n, times):\n",
    "    times.sort()\n",
    "    div = divisor_gen(n, times)\n",
    "    l = len(times)\n",
    "    mean = n // l + (n % l != 0)\n",
    "    m, M = times[0] * mean, times[-1] * mean\n",
    "    mid = (m + M) // 2\n",
    "    ans = mid\n",
    "    divied = div(mid)\n",
    "    while m < M:\n",
    "        mid = (m + M) // 2\n",
    "        divied = div(mid)\n",
    "        if divied < n:\n",
    "            m = mid + 1\n",
    "        else:\n",
    "            ans = mid\n",
    "            M = mid - 1\n",
    "    while div(ans - 1) >= n:\n",
    "        ans -= 1\n",
    "\n",
    "    return ans"
   ]
  },
  {
   "cell_type": "markdown",
   "metadata": {},
   "source": [
    "## 해답"
   ]
  },
  {
   "cell_type": "code",
   "execution_count": 43,
   "metadata": {},
   "outputs": [],
   "source": [
    "def divisor_gen(stop, times):\n",
    "    def divisor(time):\n",
    "        s = 0\n",
    "        for i in times:\n",
    "            s += time // i\n",
    "            if s >= stop:\n",
    "                break\n",
    "        return s\n",
    "\n",
    "    return divisor\n",
    "\n",
    "\n",
    "def solution(n, times):\n",
    "    times.sort()\n",
    "    div = divisor_gen(n, times)\n",
    "    l = len(times)\n",
    "    mean = n // l + (n % l != 0)\n",
    "    m, M = times[0] * mean, times[-1] * mean\n",
    "    mid = (m + M) // 2\n",
    "    ans = mid\n",
    "    divied = div(mid)\n",
    "    while m < M:\n",
    "        mid = (m + M) // 2\n",
    "        divied = div(mid)\n",
    "        if divied < n:\n",
    "            m = mid + 1\n",
    "        else:\n",
    "            ans = mid\n",
    "            M = mid - 1\n",
    "    while div(ans - 1) >= n:\n",
    "        ans -= 1\n",
    "\n",
    "    return ans"
   ]
  },
  {
   "cell_type": "markdown",
   "metadata": {},
   "source": [
    "## 테스트 결과"
   ]
  },
  {
   "cell_type": "markdown",
   "metadata": {},
   "source": [
    "|테스트|결과|\n",
    "|---:|:---|"
   ]
  },
  {
   "cell_type": "markdown",
   "metadata": {},
   "source": [
    "## 예제"
   ]
  },
  {
   "cell_type": "code",
   "execution_count": 44,
   "metadata": {},
   "outputs": [
    {
     "data": {
      "text/plain": [
       "30"
      ]
     },
     "execution_count": 44,
     "metadata": {},
     "output_type": "execute_result"
    }
   ],
   "source": [
    "solution(10, [6, 8, 10])  # 30"
   ]
  },
  {
   "cell_type": "code",
   "execution_count": 45,
   "metadata": {},
   "outputs": [
    {
     "data": {
      "text/plain": [
       "500"
      ]
     },
     "execution_count": 45,
     "metadata": {},
     "output_type": "execute_result"
    }
   ],
   "source": [
    "solution(1000, [1, 1, 1000])  # 500"
   ]
  },
  {
   "cell_type": "code",
   "execution_count": 46,
   "metadata": {},
   "outputs": [
    {
     "data": {
      "text/plain": [
       "28"
      ]
     },
     "execution_count": 46,
     "metadata": {},
     "output_type": "execute_result"
    }
   ],
   "source": [
    "solution(6, [7, 10])  # 28"
   ]
  },
  {
   "cell_type": "code",
   "execution_count": 47,
   "metadata": {},
   "outputs": [
    {
     "data": {
      "text/plain": [
       "21"
      ]
     },
     "execution_count": 47,
     "metadata": {},
     "output_type": "execute_result"
    }
   ],
   "source": [
    "solution(8, [5, 7, 12])  # 21"
   ]
  },
  {
   "cell_type": "code",
   "execution_count": 48,
   "metadata": {},
   "outputs": [
    {
     "data": {
      "text/plain": [
       "0"
      ]
     },
     "execution_count": 48,
     "metadata": {},
     "output_type": "execute_result"
    }
   ],
   "source": [
    "solution(0, [5, 7, 12])  # 0"
   ]
  },
  {
   "cell_type": "code",
   "execution_count": 49,
   "metadata": {},
   "outputs": [
    {
     "data": {
      "text/plain": [
       "1"
      ]
     },
     "execution_count": 49,
     "metadata": {},
     "output_type": "execute_result"
    }
   ],
   "source": [
    "solution(3, [1, 1, 1])  # 1"
   ]
  },
  {
   "cell_type": "code",
   "execution_count": 50,
   "metadata": {},
   "outputs": [
    {
     "data": {
      "text/plain": [
       "2"
      ]
     },
     "execution_count": 50,
     "metadata": {},
     "output_type": "execute_result"
    }
   ],
   "source": [
    "solution(3, [1, 2, 3])  # 2"
   ]
  }
 ],
 "metadata": {
  "interpreter": {
   "hash": "73891b0dc2e53390f36276e59930dd4ecab91b05b5c90320c2d5b1c443f87069"
  },
  "kernelspec": {
   "display_name": "Python 3.10.1 ('venv': venv)",
   "language": "python",
   "name": "python3"
  },
  "language_info": {
   "codemirror_mode": {
    "name": "ipython",
    "version": 3
   },
   "file_extension": ".py",
   "mimetype": "text/x-python",
   "name": "python",
   "nbconvert_exporter": "python",
   "pygments_lexer": "ipython3",
   "version": "3.10.2"
  },
  "orig_nbformat": 4
 },
 "nbformat": 4,
 "nbformat_minor": 2
}
