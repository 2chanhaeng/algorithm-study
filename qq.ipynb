{
 "cells": [
  {
   "cell_type": "code",
   "execution_count": 2,
   "metadata": {},
   "outputs": [],
   "source": [
    "with open(\"qq.md\",\"a\") as f:\n",
    "    f.write(\"\\n\")\n"
   ]
  },
  {
   "cell_type": "code",
   "execution_count": 3,
   "metadata": {},
   "outputs": [],
   "source": [
    "from random import shuffle"
   ]
  },
  {
   "cell_type": "code",
   "execution_count": 53,
   "metadata": {},
   "outputs": [
    {
     "name": "stdout",
     "output_type": "stream",
     "text": [
      "\n",
      "$$\\begin{matrix}\\displaystyle\\frac1{15}\\bigcirc\\frac1{18}&\\displaystyle\\frac1{18}\\bigcirc\\frac1{19}&\\displaystyle\\frac1{13}\\bigcirc\\frac1{7}&\\displaystyle\\frac1{3}\\bigcirc\\frac1{15}&\\displaystyle\\frac1{14}\\bigcirc\\frac1{12}&\\displaystyle\\frac1{7}\\bigcirc\\frac1{17}&\\\\\\\\\\displaystyle\\frac1{11}\\bigcirc\\frac1{2}&\\displaystyle\\frac1{8}\\bigcirc\\frac1{13}&\\displaystyle\\frac1{9}\\bigcirc\\frac1{5}&\\displaystyle\\frac1{2}\\bigcirc\\frac1{8}&\\displaystyle\\frac1{16}\\bigcirc\\frac1{6}&\\displaystyle\\frac1{6}\\bigcirc\\frac1{3}&\\\\\\\\\\displaystyle\\frac1{19}\\bigcirc\\frac1{4}&\\displaystyle\\frac1{4}\\bigcirc\\frac1{10}&\\displaystyle\\frac1{5}\\bigcirc\\frac1{14}&\\displaystyle\\frac1{10}\\bigcirc\\frac1{9}&\\displaystyle\\frac1{12}\\bigcirc\\frac1{11}&\\displaystyle\\frac1{17}\\bigcirc\\frac1{16}&\\end{matrix}$$\n"
     ]
    }
   ],
   "source": [
    "a = list(range(2, 20))\n",
    "b = list(range(2, 20))\n",
    "shuffle(a)\n",
    "shuffle(b)\n",
    "probs = \"\\n$$\\\\begin{matrix}\"\n",
    "for k, (i, j) in enumerate(zip(a, b)):\n",
    "    if k % 6 == 0 and k != 0:\n",
    "        probs += \"\\\\\" * 4\n",
    "    probs += f\"\\\\displaystyle\\\\frac1{{{i}}}\\\\bigcirc\\\\frac1{{{j}}}&\"\n",
    "\n",
    "probs += r\"\\end{matrix}$$\"\n",
    "print(probs)"
   ]
  },
  {
   "cell_type": "code",
   "execution_count": 55,
   "metadata": {},
   "outputs": [],
   "source": [
    "from random import randint\n"
   ]
  },
  {
   "cell_type": "code",
   "execution_count": 63,
   "metadata": {},
   "outputs": [],
   "source": [
    "probs = \"\\n$$\\\\begin{matrix}\"\n",
    "for k in range(90):\n",
    "    if k % 6 == 0 and k != 0:\n",
    "        probs += \"\\\\\" * 4\n",
    "    분모 = randint(2,19)\n",
    "    분자1, 분자2 = randint(1, 분모 - 1), randint(1, 분모 - 1)\n",
    "    probs += f\"\\\\displaystyle\\\\frac{{{분자1}}}{{{분모}}}{{\\\\Large\\\\bigcirc}}\\\\frac{{{분자2}}}{{{분모}}}&\"\n",
    "probs += r\"\\end{matrix}$$\"\n"
   ]
  },
  {
   "cell_type": "code",
   "execution_count": 65,
   "metadata": {},
   "outputs": [],
   "source": [
    "probs = \"\\n$$\\\\begin{matrix}\"\n",
    "for k in range(90):\n",
    "    if k % 6 == 0 and k != 0:\n",
    "        probs += \"\\\\\" * 4\n",
    "    분자 = randint(1,18)\n",
    "    분모1, 분모2 = randint(분자 + 1, 19), randint(분자 + 1, 19)\n",
    "    probs += f\"\\\\displaystyle\\\\frac{{{분자}}}{{{분모1}}}{{\\\\Large\\\\bigcirc}}\\\\frac{{{분자}}}{{{분모2}}}&\"\n",
    "probs += r\"\\end{matrix}$$\""
   ]
  },
  {
   "cell_type": "code",
   "execution_count": 66,
   "metadata": {},
   "outputs": [],
   "source": [
    "with open(\"qq.md\",\"a\") as f:\n",
    "    f.write(probs)"
   ]
  }
 ],
 "metadata": {
  "interpreter": {
   "hash": "73891b0dc2e53390f36276e59930dd4ecab91b05b5c90320c2d5b1c443f87069"
  },
  "kernelspec": {
   "display_name": "Python 3.10.1 ('venv': venv)",
   "language": "python",
   "name": "python3"
  },
  "language_info": {
   "codemirror_mode": {
    "name": "ipython",
    "version": 3
   },
   "file_extension": ".py",
   "mimetype": "text/x-python",
   "name": "python",
   "nbconvert_exporter": "python",
   "pygments_lexer": "ipython3",
   "version": "3.10.1"
  },
  "orig_nbformat": 4
 },
 "nbformat": 4,
 "nbformat_minor": 2
}
