{
  "cells": [
    {
      "cell_type": "markdown",
      "metadata": {},
      "source": [
        "# [백준/FizzBuzz](https://www.acmicpc.net/problem/28702)\n"
      ]
    },
    {
      "cell_type": "markdown",
      "metadata": {},
      "source": [
        "## 풀이과정\n"
      ]
    },
    {
      "cell_type": "markdown",
      "metadata": {},
      "source": [
        "### 첫번째 시도\n"
      ]
    },
    {
      "cell_type": "markdown",
      "metadata": {},
      "source": [
        "#### 풀이과정\n"
      ]
    },
    {
      "cell_type": "code",
      "execution_count": null,
      "metadata": {},
      "outputs": [],
      "source": [
        "def fizzbuzz(n):\n",
        "    match (n % 3, n % 5):\n",
        "        case (0, 0):\n",
        "            return \"FizzBuzz\"\n",
        "        case (0, _):\n",
        "            return \"Fizz\"\n",
        "        case (_, 0):\n",
        "            return \"Buzz\"\n",
        "        case _:\n",
        "            return str(n)\n",
        "\n",
        "\n",
        "def next_fizzbuzz(a, b, c):\n",
        "    if c.isnumeric():\n",
        "        return fizzbuzz(int(c) + 1)\n",
        "    if b.isnumeric():\n",
        "        return fizzbuzz(int(b) + 2)\n",
        "    if a.isnumeric():\n",
        "        return fizzbuzz(int(a) + 3)\n",
        "\n",
        "\n",
        "def solution():\n",
        "    import sys\n",
        "\n",
        "    print(next_fizzbuzz(*sys.stdin.read().strip().split()))\n",
        "\n",
        "\n",
        "solution()"
      ]
    },
    {
      "cell_type": "markdown",
      "metadata": {},
      "source": [
        "## 해답\n"
      ]
    },
    {
      "cell_type": "code",
      "execution_count": 1,
      "id": "1295a2a1",
      "metadata": {},
      "outputs": [],
      "source": [
        "def fizzbuzz(n):\n",
        "    match (n % 3, n % 5):\n",
        "        case (0, 0):\n",
        "            return \"FizzBuzz\"\n",
        "        case (0, _):\n",
        "            return \"Fizz\"\n",
        "        case (_, 0):\n",
        "            return \"Buzz\"\n",
        "        case _:\n",
        "            return str(n)\n",
        "\n",
        "\n",
        "def next_fizzbuzz(a, b, c):\n",
        "    if c.isnumeric():\n",
        "        return fizzbuzz(int(c) + 1)\n",
        "    if b.isnumeric():\n",
        "        return fizzbuzz(int(b) + 2)\n",
        "    if a.isnumeric():\n",
        "        return fizzbuzz(int(a) + 3)"
      ]
    },
    {
      "cell_type": "code",
      "execution_count": 2,
      "metadata": {},
      "outputs": [],
      "source": [
        "def solution():\n",
        "    import sys\n",
        "\n",
        "    print(next_fizzbuzz(*sys.stdin.read().strip().split()))"
      ]
    },
    {
      "cell_type": "markdown",
      "metadata": {},
      "source": [
        "## 예제\n"
      ]
    },
    {
      "cell_type": "code",
      "execution_count": 3,
      "metadata": {},
      "outputs": [],
      "source": [
        "# 백준 문제 풀이용 예제 실행 코드\n",
        "from bwj import test\n",
        "\n",
        "test_solution = test(solution)\n",
        "\n",
        "# test_solution(\"\"\"\"\"\")\n",
        "# test_solution(read(\"fn\").read())"
      ]
    },
    {
      "cell_type": "code",
      "execution_count": 4,
      "metadata": {},
      "outputs": [
        {
          "name": "stdout",
          "output_type": "stream",
          "text": [
            "Fizz\n"
          ]
        }
      ],
      "source": [
        "test_solution(\n",
        "    \"\"\"Fizz\n",
        "Buzz\n",
        "11\n",
        "\"\"\"\n",
        ")  # Fizz"
      ]
    },
    {
      "cell_type": "code",
      "execution_count": 5,
      "metadata": {},
      "outputs": [
        {
          "name": "stdout",
          "output_type": "stream",
          "text": [
            "980806\n"
          ]
        }
      ],
      "source": [
        "test_solution(\n",
        "    \"\"\"980803\n",
        "980804\n",
        "FizzBuzz\n",
        "\"\"\"\n",
        ")  # 980806"
      ]
    }
  ],
  "metadata": {
    "kernelspec": {
      "display_name": "venv",
      "language": "python",
      "name": "python3"
    },
    "language_info": {
      "codemirror_mode": {
        "name": "ipython",
        "version": 3
      },
      "file_extension": ".py",
      "mimetype": "text/x-python",
      "name": "python",
      "nbconvert_exporter": "python",
      "pygments_lexer": "ipython3",
      "version": "3.12.10"
    }
  },
  "nbformat": 4,
  "nbformat_minor": 5
}
