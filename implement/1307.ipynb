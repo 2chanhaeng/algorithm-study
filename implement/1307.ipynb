{
 "cells": [
  {
   "cell_type": "markdown",
   "metadata": {},
   "source": [
    "# [백준/마방진](https://www.acmicpc.net/problem/1307)"
   ]
  },
  {
   "cell_type": "markdown",
   "metadata": {},
   "source": [
    "## 풀이과정"
   ]
  },
  {
   "cell_type": "markdown",
   "metadata": {},
   "source": [
    "### 첫번째 시도"
   ]
  },
  {
   "cell_type": "markdown",
   "metadata": {},
   "source": [
    "#### 풀이과정"
   ]
  },
  {
   "cell_type": "code",
   "execution_count": null,
   "metadata": {},
   "outputs": [],
   "source": [
    "def odd(n):\n",
    "    ms = [[0] * n for _ in range(n)]\n",
    "    x, y = 0, n // 2\n",
    "    for i in range(1, n * n + 1):\n",
    "        if ms[x][y]:\n",
    "            x = (x + 2) % n\n",
    "            y = (y - 1) % n\n",
    "        ms[x][y] = i\n",
    "        x, y = (x - 1) % n, (y + 1) % n\n",
    "    return ms\n",
    "\n",
    "\n",
    "def print_ms(ms):\n",
    "    print(\"\\n\".join(\" \".join(map(str, l)) for l in ms))\n",
    "\n",
    "\n",
    "def div4(n):\n",
    "    return [\n",
    "        [\n",
    "            (n - x) * n - y if (x - y) % 4 == 0 or (x + y) % 4 == 3 else x * n + y + 1\n",
    "            for y in range(n)\n",
    "        ]\n",
    "        for x in range(n)\n",
    "    ]\n",
    "\n",
    "\n",
    "def add_all(ms, n):\n",
    "    return [[i + n for i in l] for l in ms]\n",
    "\n",
    "\n",
    "def T(ms):\n",
    "    return [list(i) for i in zip(*ms)]\n",
    "\n",
    "\n",
    "def not_div4(n):\n",
    "    m = n // 2\n",
    "    m2 = m**2\n",
    "    mini = T(odd(m))\n",
    "    seps = [mini, add_all(mini, 3 * m2), add_all(mini, 2 * m2), add_all(mini, m2)]\n",
    "    k = m // 2\n",
    "    seps[0][:k], seps[1][:k] = seps[1][:k], seps[0][:k]\n",
    "    b = m + 1 - k\n",
    "    seps[2][b:], seps[3][b:] = seps[3][b:], seps[2][b:]\n",
    "    seps[0][k - 1][k], seps[1][k - 1][k] = seps[1][k - 1][k], seps[0][k - 1][k]\n",
    "    seps[0][k][k], seps[1][k][k] = seps[1][k][k], seps[0][k][k]\n",
    "\n",
    "    return [i + j for i, j in zip(seps[0], seps[1])] + [\n",
    "        i + j for i, j in zip(seps[2], seps[3])\n",
    "    ]\n",
    "\n",
    "\n",
    "def solution():\n",
    "    n = int(input())\n",
    "    print_ms((odd if n % 2 else not_div4 if n % 4 else div4)(n))\n",
    "\n",
    "\n",
    "solution()"
   ]
  },
  {
   "attachments": {},
   "cell_type": "markdown",
   "metadata": {},
   "source": [
    "![2023년 05월 02일 12시 30분 기준 1307번 맞힌 사람 (Python) 1등](../img/Screenshot%202023-05-02%20at%2012-32-46%201307%EB%B2%88%20%EB%A7%9E%ED%9E%8C%20%EC%82%AC%EB%9E%8C%20(Python)%20-%201%20%ED%8E%98%EC%9D%B4%EC%A7%80.png)"
   ]
  },
  {
   "cell_type": "markdown",
   "metadata": {},
   "source": [
    "## 해답"
   ]
  },
  {
   "cell_type": "code",
   "execution_count": 1,
   "metadata": {},
   "outputs": [],
   "source": [
    "def is_ms(ms):  # for check\n",
    "    return (\n",
    "        len(\n",
    "            set(\n",
    "                [sum(a) for a in ms]\n",
    "                + [sum(a) for a in zip(*ms)]\n",
    "                + [\n",
    "                    sum(ms[i][i] for i in range(len(ms))),\n",
    "                    sum(ms[i][len(ms) - i - 1] for i in range(len(ms))),\n",
    "                ]\n",
    "            )\n",
    "        )\n",
    "        == 1\n",
    "    )"
   ]
  },
  {
   "cell_type": "code",
   "execution_count": 3,
   "metadata": {},
   "outputs": [],
   "source": [
    "def print_ms(ms):\n",
    "    # print(\"\\n\".join(\" \".join(map(str, l)) for l in ms))\n",
    "    for l in ms:\n",
    "        for i in l:\n",
    "            print(\"%3d\" % i, end=\" \")\n",
    "        print()"
   ]
  },
  {
   "cell_type": "code",
   "execution_count": 2,
   "metadata": {},
   "outputs": [
    {
     "data": {
      "text/plain": [
       "True"
      ]
     },
     "execution_count": 2,
     "metadata": {},
     "output_type": "execute_result"
    }
   ],
   "source": [
    "def odd(n):\n",
    "    ms = [[0] * n for _ in range(n)]\n",
    "    x, y = 0, n // 2\n",
    "    for i in range(1, n * n + 1):\n",
    "        if ms[x][y]:\n",
    "            x = (x + 2) % n\n",
    "            y = (y - 1) % n\n",
    "        ms[x][y] = i\n",
    "        x, y = (x - 1) % n, (y + 1) % n\n",
    "    return ms\n",
    "\n",
    "\n",
    "print_ms(odd(5))\n",
    "print(is_ms(odd(1001)))"
   ]
  },
  {
   "cell_type": "code",
   "execution_count": 4,
   "metadata": {},
   "outputs": [
    {
     "name": "stdout",
     "output_type": "stream",
     "text": [
      " 64   2   3  61  60   6   7  57 \n",
      "  9  55  54  12  13  51  50  16 \n",
      " 17  47  46  20  21  43  42  24 \n",
      " 40  26  27  37  36  30  31  33 \n",
      " 32  34  35  29  28  38  39  25 \n",
      " 41  23  22  44  45  19  18  48 \n",
      " 49  15  14  52  53  11  10  56 \n",
      "  8  58  59   5   4  62  63   1 \n"
     ]
    }
   ],
   "source": [
    "def div4(n):\n",
    "    return [\n",
    "        [\n",
    "            (n - x) * n - y if (x - y) % 4 == 0 or (x + y) % 4 == 3 else x * n + y + 1\n",
    "            for y in range(n)\n",
    "        ]\n",
    "        for x in range(n)\n",
    "    ]\n",
    "\n",
    "\n",
    "for i in range(4, 1001, 4):\n",
    "    if not is_ms(div4(i)):\n",
    "        print(i)\n",
    "\n",
    "print_ms(div4(8))"
   ]
  },
  {
   "cell_type": "code",
   "execution_count": 5,
   "metadata": {},
   "outputs": [
    {
     "name": "stdout",
     "output_type": "stream",
     "text": [
      " 18  11  16 \n",
      " 13  15  17 \n",
      " 14  19  12 \n"
     ]
    }
   ],
   "source": [
    "def add_all(ms, n):\n",
    "    return [[i + n for i in l] for l in ms]\n",
    "\n",
    "\n",
    "print_ms(add_all(odd(3), 10))"
   ]
  },
  {
   "cell_type": "code",
   "execution_count": 6,
   "metadata": {},
   "outputs": [
    {
     "name": "stdout",
     "output_type": "stream",
     "text": [
      "  8   3   4 \n",
      "  1   5   9 \n",
      "  6   7   2 \n"
     ]
    }
   ],
   "source": [
    "print_ms([list(i) for i in zip(*odd(3))])"
   ]
  },
  {
   "cell_type": "code",
   "execution_count": 7,
   "metadata": {},
   "outputs": [],
   "source": [
    "def T(ms):\n",
    "    return [list(i) for i in zip(*ms)]"
   ]
  },
  {
   "cell_type": "code",
   "execution_count": 8,
   "metadata": {},
   "outputs": [],
   "source": [
    "def show_seps(seps):\n",
    "    print_ms(\n",
    "        T(\n",
    "            [i + j for i, j in zip(seps[0], seps[1])]\n",
    "            + [i + j for i, j in zip(seps[2], seps[3])]\n",
    "        )\n",
    "    )\n",
    "    print(\"===\")"
   ]
  },
  {
   "cell_type": "code",
   "execution_count": 9,
   "metadata": {},
   "outputs": [
    {
     "name": "stdout",
     "output_type": "stream",
     "text": [
      " 35   1   6  26  19  24 \n",
      "  3  32   7  21  23  25 \n",
      " 31   9   2  22  27  20 \n",
      "  8  28  33  17  10  15 \n",
      " 30   5  34  12  14  16 \n",
      "  4  36  29  13  18  11 \n"
     ]
    }
   ],
   "source": [
    "def not_div4(n):\n",
    "    m = n // 2\n",
    "    m2 = m**2\n",
    "    mini = T(odd(m))\n",
    "    seps = [mini, add_all(mini, 3 * m2), add_all(mini, 2 * m2), add_all(mini, m2)]\n",
    "    k = m // 2\n",
    "    seps[0][:k], seps[1][:k] = seps[1][:k], seps[0][:k]\n",
    "    b = m + 1 - k\n",
    "    seps[2][b:], seps[3][b:] = seps[3][b:], seps[2][b:]\n",
    "    seps[0][k - 1][k], seps[1][k - 1][k] = seps[1][k - 1][k], seps[0][k - 1][k]\n",
    "    seps[0][k][k], seps[1][k][k] = seps[1][k][k], seps[0][k][k]\n",
    "\n",
    "    return [i + j for i, j in zip(seps[0], seps[1])] + [\n",
    "        i + j for i, j in zip(seps[2], seps[3])\n",
    "    ]\n",
    "\n",
    "\n",
    "print_ms(T(not_div4(6)))"
   ]
  },
  {
   "cell_type": "code",
   "execution_count": 10,
   "metadata": {},
   "outputs": [],
   "source": [
    "def solution():\n",
    "    import sys\n",
    "\n",
    "    n = int(sys.stdin.readline())\n",
    "    print_ms((odd if n % 2 else not_div4 if n % 4 else div4)(n))"
   ]
  },
  {
   "cell_type": "markdown",
   "metadata": {},
   "source": [
    "## 예제"
   ]
  },
  {
   "cell_type": "code",
   "execution_count": 11,
   "metadata": {},
   "outputs": [],
   "source": [
    "# black 모듈을 jupyter notebook 내에서 사용 가능하게 만들어주는 blackcellmagic 모듈 불러오기\n",
    "%load_ext blackcellmagic\n",
    "# %%black\n",
    "\n",
    "# 백준 문제 풀이용 예제 실행 코드\n",
    "from bwj import test\n",
    "\n",
    "test_solution = test(solution)\n",
    "\n",
    "# test_solution(\"\"\"\"\"\")\n",
    "# test_solution(read(\"fn\").read())"
   ]
  },
  {
   "cell_type": "code",
   "execution_count": 12,
   "metadata": {},
   "outputs": [
    {
     "name": "stdout",
     "output_type": "stream",
     "text": [
      " 17  24   1   8  15 \n",
      " 23   5   7  14  16 \n",
      "  4   6  13  20  22 \n",
      " 10  12  19  21   3 \n",
      " 11  18  25   2   9 \n"
     ]
    }
   ],
   "source": [
    "test_solution(\n",
    "    \"\"\"5\n",
    "\"\"\"\n",
    ")\n",
    "# answer:\n",
    "# 17 24 1 8 15\n",
    "# 23 5 7 14 16\n",
    "# 4 6 13 20 22\n",
    "# 10 12 19 21 3\n",
    "# 11 18 25 2 9"
   ]
  }
 ],
 "metadata": {
  "interpreter": {
   "hash": "73891b0dc2e53390f36276e59930dd4ecab91b05b5c90320c2d5b1c443f87069"
  },
  "kernelspec": {
   "display_name": "Python 3.10.1 ('venv': venv)",
   "language": "python",
   "name": "python3"
  },
  "language_info": {
   "codemirror_mode": {
    "name": "ipython",
    "version": 3
   },
   "file_extension": ".py",
   "mimetype": "text/x-python",
   "name": "python",
   "nbconvert_exporter": "python",
   "pygments_lexer": "ipython3",
   "version": "3.11.2"
  },
  "orig_nbformat": 4
 },
 "nbformat": 4,
 "nbformat_minor": 2
}
