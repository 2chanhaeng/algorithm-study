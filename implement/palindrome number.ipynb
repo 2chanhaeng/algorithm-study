{
 "cells": [
  {
   "cell_type": "markdown",
   "metadata": {},
   "source": [
    "# [백준/펠린드롬 수](https://www.acmicpc.net/problem/1259)"
   ]
  },
  {
   "cell_type": "markdown",
   "metadata": {},
   "source": [
    "## 풀이과정"
   ]
  },
  {
   "cell_type": "markdown",
   "metadata": {},
   "source": [
    "### 첫번째 시도"
   ]
  },
  {
   "cell_type": "markdown",
   "metadata": {},
   "source": [
    "풀이과정"
   ]
  },
  {
   "cell_type": "code",
   "execution_count": null,
   "metadata": {},
   "outputs": [],
   "source": [
    "# 풀이 코드\n"
   ]
  },
  {
   "cell_type": "markdown",
   "metadata": {},
   "source": [
    "## 해답"
   ]
  },
  {
   "cell_type": "code",
   "execution_count": 44,
   "metadata": {},
   "outputs": [],
   "source": [
    "# 해답\n",
    "# 백준 input = iter(open(0).read().split(\"\\n\")).__next__\n"
   ]
  },
  {
   "cell_type": "code",
   "execution_count": 1,
   "metadata": {},
   "outputs": [],
   "source": [
    "from collections import deque"
   ]
  },
  {
   "cell_type": "code",
   "execution_count": 17,
   "metadata": {},
   "outputs": [
    {
     "name": "stdout",
     "output_type": "stream",
     "text": [
      "yes\n",
      "yes\n",
      "yes\n",
      "yes\n",
      "yes\n",
      "yes\n",
      "yes\n",
      "yes\n",
      "yes\n",
      "no\n",
      "no\n",
      "yes\n",
      "no\n"
     ]
    }
   ],
   "source": [
    "while (n:=input())!=\"0\":print(\"yes\"if n==n[::-1]else\"no\")"
   ]
  },
  {
   "cell_type": "code",
   "execution_count": 13,
   "metadata": {},
   "outputs": [
    {
     "name": "stdout",
     "output_type": "stream",
     "text": [
      "yes\n"
     ]
    },
    {
     "ename": "KeyboardInterrupt",
     "evalue": "Interrupted by user",
     "output_type": "error",
     "traceback": [
      "\u001b[1;31m---------------------------------------------------------------------------\u001b[0m",
      "\u001b[1;31mKeyboardInterrupt\u001b[0m                         Traceback (most recent call last)",
      "\u001b[1;32mc:\\Users\\이찬행\\OneDrive - 충남대학교\\문서\\GitHub\\algorithm-study\\simulation\\palindrome number.ipynb Cell 9'\u001b[0m in \u001b[0;36m<cell line: 1>\u001b[1;34m()\u001b[0m\n\u001b[1;32m----> <a href='vscode-notebook-cell:/c%3A/Users/%EC%9D%B4%EC%B0%AC%ED%96%89/OneDrive%20-%20%EC%B6%A9%EB%82%A8%EB%8C%80%ED%95%99%EA%B5%90/%EB%AC%B8%EC%84%9C/GitHub/algorithm-study/simulation/palindrome%20number.ipynb#ch0000020?line=0'>1</a>\u001b[0m \u001b[39mwhile\u001b[39;00m (num\u001b[39m:=\u001b[39m\u001b[39minput\u001b[39;49m())\u001b[39m!=\u001b[39m\u001b[39m\"\u001b[39m\u001b[39m0\u001b[39m\u001b[39m\"\u001b[39m:\n\u001b[0;32m      <a href='vscode-notebook-cell:/c%3A/Users/%EC%9D%B4%EC%B0%AC%ED%96%89/OneDrive%20-%20%EC%B6%A9%EB%82%A8%EB%8C%80%ED%95%99%EA%B5%90/%EB%AC%B8%EC%84%9C/GitHub/algorithm-study/simulation/palindrome%20number.ipynb#ch0000020?line=1'>2</a>\u001b[0m     \u001b[39mif\u001b[39;00m (l\u001b[39m:=\u001b[39m \u001b[39mlen\u001b[39m(num)\u001b[39m/\u001b[39m\u001b[39m/\u001b[39m\u001b[39m2\u001b[39m):\n\u001b[0;32m      <a href='vscode-notebook-cell:/c%3A/Users/%EC%9D%B4%EC%B0%AC%ED%96%89/OneDrive%20-%20%EC%B6%A9%EB%82%A8%EB%8C%80%ED%95%99%EA%B5%90/%EB%AC%B8%EC%84%9C/GitHub/algorithm-study/simulation/palindrome%20number.ipynb#ch0000020?line=2'>3</a>\u001b[0m         \u001b[39mprint\u001b[39m(num, l)\n",
      "File \u001b[1;32mc:\\Users\\이찬행\\OneDrive - 충남대학교\\문서\\GitHub\\algorithm-study\\venv\\lib\\site-packages\\ipykernel\\kernelbase.py:1075\u001b[0m, in \u001b[0;36mKernel.raw_input\u001b[1;34m(self, prompt)\u001b[0m\n\u001b[0;32m   <a href='file:///c%3A/Users/%EC%9D%B4%EC%B0%AC%ED%96%89/OneDrive%20-%20%EC%B6%A9%EB%82%A8%EB%8C%80%ED%95%99%EA%B5%90/%EB%AC%B8%EC%84%9C/GitHub/algorithm-study/venv/lib/site-packages/ipykernel/kernelbase.py?line=1070'>1071</a>\u001b[0m \u001b[39mif\u001b[39;00m \u001b[39mnot\u001b[39;00m \u001b[39mself\u001b[39m\u001b[39m.\u001b[39m_allow_stdin:\n\u001b[0;32m   <a href='file:///c%3A/Users/%EC%9D%B4%EC%B0%AC%ED%96%89/OneDrive%20-%20%EC%B6%A9%EB%82%A8%EB%8C%80%ED%95%99%EA%B5%90/%EB%AC%B8%EC%84%9C/GitHub/algorithm-study/venv/lib/site-packages/ipykernel/kernelbase.py?line=1071'>1072</a>\u001b[0m     \u001b[39mraise\u001b[39;00m StdinNotImplementedError(\n\u001b[0;32m   <a href='file:///c%3A/Users/%EC%9D%B4%EC%B0%AC%ED%96%89/OneDrive%20-%20%EC%B6%A9%EB%82%A8%EB%8C%80%ED%95%99%EA%B5%90/%EB%AC%B8%EC%84%9C/GitHub/algorithm-study/venv/lib/site-packages/ipykernel/kernelbase.py?line=1072'>1073</a>\u001b[0m         \u001b[39m\"\u001b[39m\u001b[39mraw_input was called, but this frontend does not support input requests.\u001b[39m\u001b[39m\"\u001b[39m\n\u001b[0;32m   <a href='file:///c%3A/Users/%EC%9D%B4%EC%B0%AC%ED%96%89/OneDrive%20-%20%EC%B6%A9%EB%82%A8%EB%8C%80%ED%95%99%EA%B5%90/%EB%AC%B8%EC%84%9C/GitHub/algorithm-study/venv/lib/site-packages/ipykernel/kernelbase.py?line=1073'>1074</a>\u001b[0m     )\n\u001b[1;32m-> <a href='file:///c%3A/Users/%EC%9D%B4%EC%B0%AC%ED%96%89/OneDrive%20-%20%EC%B6%A9%EB%82%A8%EB%8C%80%ED%95%99%EA%B5%90/%EB%AC%B8%EC%84%9C/GitHub/algorithm-study/venv/lib/site-packages/ipykernel/kernelbase.py?line=1074'>1075</a>\u001b[0m \u001b[39mreturn\u001b[39;00m \u001b[39mself\u001b[39;49m\u001b[39m.\u001b[39;49m_input_request(\n\u001b[0;32m   <a href='file:///c%3A/Users/%EC%9D%B4%EC%B0%AC%ED%96%89/OneDrive%20-%20%EC%B6%A9%EB%82%A8%EB%8C%80%ED%95%99%EA%B5%90/%EB%AC%B8%EC%84%9C/GitHub/algorithm-study/venv/lib/site-packages/ipykernel/kernelbase.py?line=1075'>1076</a>\u001b[0m     \u001b[39mstr\u001b[39;49m(prompt),\n\u001b[0;32m   <a href='file:///c%3A/Users/%EC%9D%B4%EC%B0%AC%ED%96%89/OneDrive%20-%20%EC%B6%A9%EB%82%A8%EB%8C%80%ED%95%99%EA%B5%90/%EB%AC%B8%EC%84%9C/GitHub/algorithm-study/venv/lib/site-packages/ipykernel/kernelbase.py?line=1076'>1077</a>\u001b[0m     \u001b[39mself\u001b[39;49m\u001b[39m.\u001b[39;49m_parent_ident[\u001b[39m\"\u001b[39;49m\u001b[39mshell\u001b[39;49m\u001b[39m\"\u001b[39;49m],\n\u001b[0;32m   <a href='file:///c%3A/Users/%EC%9D%B4%EC%B0%AC%ED%96%89/OneDrive%20-%20%EC%B6%A9%EB%82%A8%EB%8C%80%ED%95%99%EA%B5%90/%EB%AC%B8%EC%84%9C/GitHub/algorithm-study/venv/lib/site-packages/ipykernel/kernelbase.py?line=1077'>1078</a>\u001b[0m     \u001b[39mself\u001b[39;49m\u001b[39m.\u001b[39;49mget_parent(\u001b[39m\"\u001b[39;49m\u001b[39mshell\u001b[39;49m\u001b[39m\"\u001b[39;49m),\n\u001b[0;32m   <a href='file:///c%3A/Users/%EC%9D%B4%EC%B0%AC%ED%96%89/OneDrive%20-%20%EC%B6%A9%EB%82%A8%EB%8C%80%ED%95%99%EA%B5%90/%EB%AC%B8%EC%84%9C/GitHub/algorithm-study/venv/lib/site-packages/ipykernel/kernelbase.py?line=1078'>1079</a>\u001b[0m     password\u001b[39m=\u001b[39;49m\u001b[39mFalse\u001b[39;49;00m,\n\u001b[0;32m   <a href='file:///c%3A/Users/%EC%9D%B4%EC%B0%AC%ED%96%89/OneDrive%20-%20%EC%B6%A9%EB%82%A8%EB%8C%80%ED%95%99%EA%B5%90/%EB%AC%B8%EC%84%9C/GitHub/algorithm-study/venv/lib/site-packages/ipykernel/kernelbase.py?line=1079'>1080</a>\u001b[0m )\n",
      "File \u001b[1;32mc:\\Users\\이찬행\\OneDrive - 충남대학교\\문서\\GitHub\\algorithm-study\\venv\\lib\\site-packages\\ipykernel\\kernelbase.py:1120\u001b[0m, in \u001b[0;36mKernel._input_request\u001b[1;34m(self, prompt, ident, parent, password)\u001b[0m\n\u001b[0;32m   <a href='file:///c%3A/Users/%EC%9D%B4%EC%B0%AC%ED%96%89/OneDrive%20-%20%EC%B6%A9%EB%82%A8%EB%8C%80%ED%95%99%EA%B5%90/%EB%AC%B8%EC%84%9C/GitHub/algorithm-study/venv/lib/site-packages/ipykernel/kernelbase.py?line=1116'>1117</a>\u001b[0m             \u001b[39mbreak\u001b[39;00m\n\u001b[0;32m   <a href='file:///c%3A/Users/%EC%9D%B4%EC%B0%AC%ED%96%89/OneDrive%20-%20%EC%B6%A9%EB%82%A8%EB%8C%80%ED%95%99%EA%B5%90/%EB%AC%B8%EC%84%9C/GitHub/algorithm-study/venv/lib/site-packages/ipykernel/kernelbase.py?line=1117'>1118</a>\u001b[0m \u001b[39mexcept\u001b[39;00m \u001b[39mKeyboardInterrupt\u001b[39;00m:\n\u001b[0;32m   <a href='file:///c%3A/Users/%EC%9D%B4%EC%B0%AC%ED%96%89/OneDrive%20-%20%EC%B6%A9%EB%82%A8%EB%8C%80%ED%95%99%EA%B5%90/%EB%AC%B8%EC%84%9C/GitHub/algorithm-study/venv/lib/site-packages/ipykernel/kernelbase.py?line=1118'>1119</a>\u001b[0m     \u001b[39m# re-raise KeyboardInterrupt, to truncate traceback\u001b[39;00m\n\u001b[1;32m-> <a href='file:///c%3A/Users/%EC%9D%B4%EC%B0%AC%ED%96%89/OneDrive%20-%20%EC%B6%A9%EB%82%A8%EB%8C%80%ED%95%99%EA%B5%90/%EB%AC%B8%EC%84%9C/GitHub/algorithm-study/venv/lib/site-packages/ipykernel/kernelbase.py?line=1119'>1120</a>\u001b[0m     \u001b[39mraise\u001b[39;00m \u001b[39mKeyboardInterrupt\u001b[39;00m(\u001b[39m\"\u001b[39m\u001b[39mInterrupted by user\u001b[39m\u001b[39m\"\u001b[39m) \u001b[39mfrom\u001b[39;00m \u001b[39mNone\u001b[39m\n\u001b[0;32m   <a href='file:///c%3A/Users/%EC%9D%B4%EC%B0%AC%ED%96%89/OneDrive%20-%20%EC%B6%A9%EB%82%A8%EB%8C%80%ED%95%99%EA%B5%90/%EB%AC%B8%EC%84%9C/GitHub/algorithm-study/venv/lib/site-packages/ipykernel/kernelbase.py?line=1120'>1121</a>\u001b[0m \u001b[39mexcept\u001b[39;00m \u001b[39mException\u001b[39;00m:\n\u001b[0;32m   <a href='file:///c%3A/Users/%EC%9D%B4%EC%B0%AC%ED%96%89/OneDrive%20-%20%EC%B6%A9%EB%82%A8%EB%8C%80%ED%95%99%EA%B5%90/%EB%AC%B8%EC%84%9C/GitHub/algorithm-study/venv/lib/site-packages/ipykernel/kernelbase.py?line=1121'>1122</a>\u001b[0m     \u001b[39mself\u001b[39m\u001b[39m.\u001b[39mlog\u001b[39m.\u001b[39mwarning(\u001b[39m\"\u001b[39m\u001b[39mInvalid Message:\u001b[39m\u001b[39m\"\u001b[39m, exc_info\u001b[39m=\u001b[39m\u001b[39mTrue\u001b[39;00m)\n",
      "\u001b[1;31mKeyboardInterrupt\u001b[0m: Interrupted by user"
     ]
    }
   ],
   "source": [
    "while (num:=input())!=\"0\":\n",
    "    if (l:= len(num)//2):\n",
    "        print(num, l)\n",
    "        lastpop = list(num).pop\n",
    "        for i,c in enumerate(num):\n",
    "            if c != lastpop():\n",
    "                print(\"no\")\n",
    "                break\n",
    "            if i > l:\n",
    "                print(\"yes\")\n",
    "                break\n",
    "    else: print(\"yes\")"
   ]
  },
  {
   "cell_type": "code",
   "execution_count": 6,
   "metadata": {},
   "outputs": [],
   "source": [
    "def solution(input):\n",
    "    while (num:=input())!=\"0\":\n",
    "        if (l:= len(num)//2):\n",
    "            lastpop = list(num).pop\n",
    "            for i,c in enumerate(num):\n",
    "                if c != lastpop():\n",
    "                    print(\"no\")\n",
    "                    break\n",
    "                if i > l:\n",
    "                    print(\"yes\")\n",
    "                    break\n",
    "        else: print(\"yes\")"
   ]
  },
  {
   "cell_type": "markdown",
   "metadata": {},
   "source": [
    "## 테스트 결과"
   ]
  },
  {
   "cell_type": "markdown",
   "metadata": {},
   "source": [
    "|테스트|결과|\n",
    "|---:|:---|"
   ]
  },
  {
   "cell_type": "markdown",
   "metadata": {},
   "source": [
    "## 예제"
   ]
  },
  {
   "cell_type": "code",
   "execution_count": 7,
   "metadata": {},
   "outputs": [],
   "source": [
    "# 백준식 실행 코드\n",
    "def solution_example(input_, solution=solution):\n",
    "    input_ = iter(input_.split(\"\\n\"))\n",
    "    input = input_.__next__\n",
    "    solution(input)\n",
    "# solution_example(\"\"\"\"\"\")\n",
    "# solution_example(read(\"fn\").read())"
   ]
  },
  {
   "cell_type": "code",
   "execution_count": 8,
   "metadata": {},
   "outputs": [
    {
     "name": "stdout",
     "output_type": "stream",
     "text": [
      "yes\n",
      "no\n",
      "yes\n",
      "yes\n"
     ]
    }
   ],
   "source": [
    "solution_example(\"\"\"121\n",
    "1231\n",
    "12421\n",
    "1\n",
    "0\"\"\")\n"
   ]
  }
 ],
 "metadata": {
  "interpreter": {
   "hash": "73891b0dc2e53390f36276e59930dd4ecab91b05b5c90320c2d5b1c443f87069"
  },
  "kernelspec": {
   "display_name": "Python 3.10.1 ('venv': venv)",
   "language": "python",
   "name": "python3"
  },
  "language_info": {
   "codemirror_mode": {
    "name": "ipython",
    "version": 3
   },
   "file_extension": ".py",
   "mimetype": "text/x-python",
   "name": "python",
   "nbconvert_exporter": "python",
   "pygments_lexer": "ipython3",
   "version": "3.10.2"
  },
  "orig_nbformat": 4
 },
 "nbformat": 4,
 "nbformat_minor": 2
}
