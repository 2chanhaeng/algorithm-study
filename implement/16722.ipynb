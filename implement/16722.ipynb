{
    "cells": [
        {
            "cell_type": "markdown",
            "metadata": {},
            "source": [
                "# [백준/결! 합!](https://www.acmicpc.net/problem/16722)"
            ]
        },
        {
            "cell_type": "markdown",
            "metadata": {},
            "source": [
                "## 풀이과정"
            ]
        },
        {
            "cell_type": "markdown",
            "metadata": {},
            "source": [
                "### 첫번째 시도"
            ]
        },
        {
            "cell_type": "markdown",
            "metadata": {},
            "source": [
                "#### 풀이과정"
            ]
        },
        {
            "cell_type": "code",
            "execution_count": null,
            "metadata": {},
            "outputs": [],
            "source": [
                "import sys\n",
                "from itertools import combinations\n",
                "\n",
                "shapes = [\"CIRCLE\", \"SQUARE\", \"TRIANGLE\"]\n",
                "colors = [\"RED\", \"YELLOW\", \"BLUE\"]\n",
                "backs = [\"BLACK\", \"GRAY\", \"WHITE\"]\n",
                "\n",
                "\n",
                "def info(card):\n",
                "    shape, color, back = card.split()\n",
                "    return shapes.index(shape), colors.index(color), backs.index(back)\n",
                "\n",
                "\n",
                "def prop(a, b):\n",
                "    return a if a == b else 3 - a - b\n",
                "\n",
                "\n",
                "def another(a, b):\n",
                "    return tuple(map(prop, a, b))\n",
                "\n",
                "\n",
                "def solution():\n",
                "    inputs = sys.stdin.read().splitlines()\n",
                "    cards = list(map(info, inputs[:9]))\n",
                "    deck = set(cards)\n",
                "    sets = set()\n",
                "    for i, j in combinations(range(9), 2):\n",
                "        k = another(cards[i], cards[j])\n",
                "        if k in deck:\n",
                "            sets.add(frozenset((i + 1, j + 1, cards.index(k) + 1)))\n",
                "    score = 0\n",
                "    is_done = False\n",
                "    for input in inputs[10:]:\n",
                "        if input == \"G\":\n",
                "            if not (sets or is_done):\n",
                "                score += 3\n",
                "                is_done = True\n",
                "            else:\n",
                "                score -= 1\n",
                "        else:\n",
                "            comb = frozenset(map(int, input.split()[1:]))\n",
                "            if comb in sets:\n",
                "                score += 1\n",
                "                sets.remove(comb)\n",
                "            else:\n",
                "                score -= 1\n",
                "    print(score)\n",
                "\n",
                "\n",
                "solution()"
            ]
        },
        {
            "attachments": {},
            "cell_type": "markdown",
            "metadata": {},
            "source": [
                "![2022년 12월 24일 06시 기준 16722번 Python 속도 1위](../img/Screenshot%202022-12-24%20at%2006-21-59%2016722%EB%B2%88%20%EB%A7%9E%ED%9E%8C%20%EC%82%AC%EB%9E%8C%20(Python)%20-%201%20%ED%8E%98%EC%9D%B4%EC%A7%80.png)"
            ]
        },
        {
            "cell_type": "markdown",
            "metadata": {},
            "source": [
                "## 해답"
            ]
        },
        {
            "cell_type": "code",
            "execution_count": 1,
            "metadata": {},
            "outputs": [],
            "source": [
                "import sys\n",
                "from itertools import combinations"
            ]
        },
        {
            "cell_type": "code",
            "execution_count": 2,
            "metadata": {},
            "outputs": [],
            "source": [
                "shapes = [\"CIRCLE\", \"SQUARE\", \"TRIANGLE\"]\n",
                "colors = [\"RED\", \"YELLOW\", \"BLUE\"]\n",
                "backs = [\"BLACK\", \"GRAY\", \"WHITE\"]\n",
                "\n",
                "\n",
                "def info(card):\n",
                "    shape, color, back = card.split()\n",
                "    return shapes.index(shape), colors.index(color), backs.index(back)\n",
                "\n",
                "\n",
                "def prop(a, b):\n",
                "    return a if a == b else 3 - a - b\n",
                "\n",
                "\n",
                "def another(a, b):\n",
                "    return tuple(map(prop, a, b))"
            ]
        },
        {
            "cell_type": "code",
            "execution_count": 44,
            "metadata": {},
            "outputs": [],
            "source": [
                "def solution():\n",
                "    inputs = sys.stdin.read().splitlines()\n",
                "    cards = list(map(info, inputs[:9]))\n",
                "    deck = set(cards)\n",
                "    sets = set()\n",
                "    for i, j in combinations(range(9), 2):\n",
                "        k = another(cards[i], cards[j])\n",
                "        if k in deck:\n",
                "            sets.add(frozenset((i + 1, j + 1, cards.index(k) + 1)))\n",
                "    score = 0\n",
                "    is_done = False\n",
                "    for input in inputs[10:]:\n",
                "        if input == \"G\":\n",
                "            if not (sets or is_done):\n",
                "                score += 3\n",
                "                is_done = True\n",
                "            else:\n",
                "                score -= 1\n",
                "        else:\n",
                "            comb = frozenset(map(int, input.split()[1:]))\n",
                "            if comb in sets:\n",
                "                score += 1\n",
                "                sets.remove(comb)\n",
                "            else:\n",
                "                score -= 1\n",
                "    print(score)"
            ]
        },
        {
            "cell_type": "markdown",
            "metadata": {},
            "source": [
                "## 예제"
            ]
        },
        {
            "cell_type": "code",
            "execution_count": 45,
            "metadata": {},
            "outputs": [
                {
                    "name": "stdout",
                    "output_type": "stream",
                    "text": [
                        "The blackcellmagic extension is already loaded. To reload it, use:\n",
                        "  %reload_ext blackcellmagic\n"
                    ]
                }
            ],
            "source": [
                "# black 모듈을 jupyter notebook 내에서 사용 가능하게 만들어주는 blackcellmagic 모듈 불러오기\n",
                "%load_ext blackcellmagic\n",
                "# %%black\n",
                "\n",
                "# 백준 문제 풀이용 예제 실행 코드\n",
                "from bwj import test\n",
                "test_solution = test(solution)\n",
                "\n",
                "# test_solution(\"\"\"\"\"\")\n",
                "# test_solution(read(\"fn\").read())"
            ]
        },
        {
            "cell_type": "code",
            "execution_count": 46,
            "metadata": {},
            "outputs": [
                {
                    "name": "stdout",
                    "output_type": "stream",
                    "text": [
                        "H 1 6 5:  1 [[2, 4, 6], [2, 7, 9], [2, 3, 5], [6, 8, 9]]\n",
                        "H 7 8 9:  0 [[2, 4, 6], [2, 7, 9], [2, 3, 5], [6, 8, 9]]\n",
                        "H 2 3 5:  1 [[2, 4, 6], [2, 7, 9], [6, 8, 9]]\n",
                        "H 1 5 6:  0 [[2, 4, 6], [2, 7, 9], [6, 8, 9]]\n",
                        "H 6 8 9:  1 [[2, 4, 6], [2, 7, 9]]\n",
                        "G:  0 [[2, 4, 6], [2, 7, 9]]\n",
                        "H 2 4 6:  1 [[2, 7, 9]]\n",
                        "H 9 7 2:  2 []\n",
                        "G:  5 []\n",
                        "5\n"
                    ]
                }
            ],
            "source": [
                "test_solution(\"\"\"CIRCLE YELLOW GRAY\n",
                "CIRCLE RED BLACK\n",
                "CIRCLE RED GRAY\n",
                "CIRCLE YELLOW BLACK\n",
                "CIRCLE RED WHITE\n",
                "CIRCLE BLUE BLACK\n",
                "SQUARE YELLOW GRAY\n",
                "SQUARE BLUE GRAY\n",
                "TRIANGLE BLUE WHITE\n",
                "9\n",
                "H 1 6 5\n",
                "H 7 8 9\n",
                "H 2 3 5\n",
                "H 1 5 6\n",
                "H 6 8 9\n",
                "G\n",
                "H 2 4 6\n",
                "H 9 7 2\n",
                "G\n",
                "\"\"\") # 5\n",
                "# (1,5,6), (2,3,5), (2,4,6), (2,7,9), (6,8,9)"
            ]
        },
        {
            "cell_type": "code",
            "execution_count": 47,
            "metadata": {},
            "outputs": [
                {
                    "data": {
                        "text/plain": [
                            "'\\nH 1 6 5  -> 1\\nH 7 8 9  -> 0\\nH 2 3 5  -> 1\\nH 1 5 6  -> 0\\nH 6 8 9  -> 1\\nG        -> 0\\nH 2 4 6  -> 1\\nH 9 7 2  -> 2\\nG        -> 5\\n'"
                        ]
                    },
                    "execution_count": 47,
                    "metadata": {},
                    "output_type": "execute_result"
                }
            ],
            "source": [
                "\"\"\"\n",
                "H 1 6 5  -> 1\n",
                "H 7 8 9  -> 0\n",
                "H 2 3 5  -> 1\n",
                "H 1 5 6  -> 0\n",
                "H 6 8 9  -> 1\n",
                "G        -> 0\n",
                "H 2 4 6  -> 1\n",
                "H 9 7 2  -> 2\n",
                "G        -> 5\n",
                "\"\"\""
            ]
        }
    ],
    "metadata": {
        "kernelspec": {
            "display_name": "venv",
            "language": "python",
            "name": "python3"
        },
        "language_info": {
            "codemirror_mode": {
                "name": "ipython",
                "version": 3
            },
            "file_extension": ".py",
            "mimetype": "text/x-python",
            "name": "python",
            "nbconvert_exporter": "python",
            "pygments_lexer": "ipython3",
            "version": "3.10.8"
        },
        "orig_nbformat": 4,
        "vscode": {
            "interpreter": {
                "hash": "72904a014a9ffe38f4c58942120b599b3c5a87d06764037548e0139929c1cde3"
            }
        }
    },
    "nbformat": 4,
    "nbformat_minor": 2
}
