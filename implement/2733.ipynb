{
    "cells": [
        {
            "cell_type": "markdown",
            "metadata": {},
            "source": [
                "# [백준/Brainf*ck](https://www.acmicpc.net/problem/2733)"
            ]
        },
        {
            "cell_type": "markdown",
            "metadata": {},
            "source": [
                "## 풀이과정"
            ]
        },
        {
            "attachments": {},
            "cell_type": "markdown",
            "metadata": {},
            "source": [
                "### 0번째 시도\n",
                "\n",
                "바야흐로 2018년 즈음, 군대에서 프로그래밍을 알음알음 공부하던 나는 BrainFuck이라는 언어를 알게 되었다.  \n",
                "파이썬으로 간단하게 나마 인터프리터를 만들 수 있을 것처럼 보여서 나름대로 한 번 만들어보았다.  \n",
                "그리고 몇 년 후, 현재 BrainFuck 인터프리터를 구현하는 문제를 풀어보게 되었다.  \n",
                "당시의 기억이 떠올라 그 코드를 아이팟 터치에서 가져와 보았다.  \n",
                "군대에서 아이팟 터치로 파이썬 공부를 하였었는데, 디스플레이가 10.8cm 이다.  \n",
                "~~이런걸로 어케 코딩함~~  \n",
                "그런 이유로 코드 줄은 짧고 세로로 길게 썼었다는 점 참고 바란다.  "
            ]
        },
        {
            "cell_type": "code",
            "execution_count": null,
            "metadata": {},
            "outputs": [],
            "source": [
                "def bf(z):\n",
                "\tz=str(z)\n",
                "\tglobal stk,pnt,j\n",
                "\tstk=[0]\n",
                "\tpnt=0\n",
                "\tj=0\n",
                "\tbfb(z)\n",
                "def bfb(z):\n",
                "\tglobal stk,pnt,j\n",
                "\tcsr=0\n",
                "\twhile csr<len(z):\n",
                "\t\tc=z[csr]\n",
                "\t\tif c=='.':\n",
                "\t\t\tprint(chr(stk[pnt]))\n",
                "\t\telif c==',':\n",
                "\t\t\tstk[pnt]=ord(input()[j])\n",
                "\t\t\tj+=1\n",
                "\t\telif c=='>':\n",
                "\t\t\tif pnt>=len(stk)-1:\n",
                "\t\t\t\tstk.append(0)\n",
                "\t\t\t\tpnt+=1\n",
                "\t\t\telse:\n",
                "\t\t\t\tpnt+=1\n",
                "\t\telif c=='<':pnt-=1\n",
                "\t\telif c=='+':stk[pnt]+=1\n",
                "\t\telif c=='-':stk[pnt]-=1\n",
                "\t\telif c=='[':\n",
                "\t\t\td=''\n",
                "\t\t\tloop=''\n",
                "\t\t\ti=0\n",
                "\t\t\twhile d!=']':\n",
                "\t\t\t\ti+=1\n",
                "\t\t\t\td=z[csr+i]\n",
                "\t\t\t\tif d==']': break\n",
                "\t\t\t\tloop+=d\n",
                "\t\t\twhile stk[pnt]!=0:\n",
                "\t\t\t\tstkb=stk[:]\n",
                "\t\t\t\tbfb(loop)\n",
                "\t\t\t\tif stk[pnt]==0:\n",
                "\t\t\t\t\tstk=stkb[:]\n",
                "\t\t\t\t\tbreak\n",
                "\t\tcsr+=1\n",
                "\tprint(stk)\n",
                "while 1==1:\n",
                "\ti=input()\n",
                "\tif i=='e':\n",
                "\t\tbreak\n",
                "\tbf(i)"
            ]
        },
        {
            "cell_type": "markdown",
            "metadata": {},
            "source": [
                "### 첫번째 시도"
            ]
        },
        {
            "cell_type": "markdown",
            "metadata": {},
            "source": [
                "#### 풀이과정"
            ]
        },
        {
            "cell_type": "code",
            "execution_count": null,
            "metadata": {},
            "outputs": [],
            "source": [
                "import sys\n",
                "import re\n",
                "\n",
                "\n",
                "def solution():\n",
                "    N = int(sys.stdin.readline())\n",
                "    bf_codes = sys.stdin.read().rstrip().split(\"\\nend\")\n",
                "    for i in range(1, N + 1):\n",
                "        print(f\"PROGRAM #{i}:\")\n",
                "        interpret(bf_codes[i - 1])\n",
                "\n",
                "\n",
                "def interpret(raw):\n",
                "    try:\n",
                "        code = parse_bracket(remove_comment(raw))\n",
                "    except:\n",
                "        print(\"COMPILE ERROR\")\n",
                "        return\n",
                "    STACK_LEN = 32768\n",
                "    STACK = [0] * STACK_LEN\n",
                "    MAX = 256\n",
                "\n",
                "    def exceute(code, pointer):\n",
                "        for paragraph in code:\n",
                "            if isinstance(paragraph, list):\n",
                "                while STACK[pointer] != 0:\n",
                "                    pointer = exceute(paragraph, pointer)\n",
                "            else:\n",
                "                pointer = exceute_string(paragraph, pointer)\n",
                "        return pointer\n",
                "\n",
                "    def exceute_string(code, pointer):\n",
                "        for c in code:\n",
                "            if c == \".\":\n",
                "                print(chr(STACK[pointer]), end=\"\")\n",
                "            elif c == \">\":\n",
                "                pointer = (pointer + 1) % STACK_LEN\n",
                "            elif c == \"<\":\n",
                "                pointer = (pointer - 1) % STACK_LEN\n",
                "            elif c == \"+\":\n",
                "                STACK[pointer] = (STACK[pointer] + 1) % MAX\n",
                "            elif c == \"-\":\n",
                "                STACK[pointer] = (STACK[pointer] - 1) % MAX\n",
                "        return pointer\n",
                "\n",
                "    exceute(code, 0)\n",
                "    print()\n",
                "\n",
                "\n",
                "def remove_comment(string):\n",
                "    return re.sub(r\"[^<>+-.,\\[\\]]\", \"\", re.sub(r\"%[^\\n]*\\n\", \"\", string))\n",
                "\n",
                "\n",
                "def parse_bracket(string):\n",
                "    stack = [[]]\n",
                "    temp = \"\"\n",
                "    for c in string:\n",
                "        if c == \"[\":\n",
                "            stack[-1].append(temp)\n",
                "            stack.append([])\n",
                "            temp = \"\"\n",
                "        elif c == \"]\":\n",
                "            stack[-2].append(stack.pop() + [temp])\n",
                "            temp = \"\"\n",
                "        else:\n",
                "            temp += c\n",
                "    stack[-1].append(temp)\n",
                "    if len(stack) > 1:\n",
                "        raise Exception(\"Invalid bracket\")\n",
                "    return stack[0]\n",
                "\n",
                "\n",
                "solution()"
            ]
        },
        {
            "attachments": {},
            "cell_type": "markdown",
            "metadata": {},
            "source": [
                "#### 숏코드"
            ]
        },
        {
            "cell_type": "code",
            "execution_count": null,
            "metadata": {},
            "outputs": [],
            "source": [
                "import codecs,zlib;exec(zlib.decompress(codecs.decode(b'eJyNktFu2yAUhu95CsZUCWpiJZnWTXaJtEZROjVpLEeVGmEauQ5ekRxiAdVWVX33geNl2800LhAcPjj/+Q+1OeyhfbFQ7duDcdC6ndKwtPAa9BEjwS1T2uHr2Mhy1ygtMSHpPTvuMYmNdUa1fmHbRjmMCi31DpF0w1rjL6Z3rFHWxWXb+jjYyRpe4ZwkAKoaTxN2g42M7fMjNog/XE6iQUwLXgiBKEK0P0Jn/KHQ4rzQXTQnfjA2TDYYTVfL7OtiBmd5vsp9ViPds9EALtn440W6YB/Gny4+py3jQ5Guw3y+ADCImOFpEAHrg4EZ9FVPw86LgsoqbV2pK4kzGrR3HITfn1Qj4Zq3/hXxzqef4YyEE9lYmfBXFKOkKfePu9ILq54M7lFCfeEMIUJRdCLW8XZrpVNO7rdbHDj6i49G5Gzp4cH/wIMenpzg9i94SDs+vLnw2OW/sUGHvfFKYBKMqYIxmQCdW+kGk65/N3geLLGMcyFS50sD8ETPg1mqRhwxViV32PLBSFBHUr+kXJCe96Z5SHRQ8NCZlyM8FtTG7cF/qIi73ziUPyrZuuTYXzgEve0uYhWAf6Q5AtwGk4aCN1JjSyYjAYJCFRSaUn+T+Jb4LtUoy1fz/MsSvn9V0egt8T/oCt9zJchPSxDoXg==','base64')))"
            ]
        },
        {
            "attachments": {},
            "cell_type": "markdown",
            "metadata": {},
            "source": [
                "![2023년 1월 3일 20시 기준 2733번 숏코드 729비트로 1위](../img/Screenshot%202023-01-03%20at%2020-20-43%202733%EB%B2%88%20%EC%88%8F%EC%BD%94%EB%94%A9%20-%201%20%ED%8E%98%EC%9D%B4%EC%A7%80.png)"
            ]
        },
        {
            "attachments": {},
            "cell_type": "markdown",
            "metadata": {},
            "source": [
                "`codecs.encode`, `zlib.compress` 함수를 이용하여 코드를 압축하여 제출했다.  \n",
                "평소에는 사용하지 않는 트릭이지만 기존 1위가 그렇게 냈길래 나도 따라했다 ㅎㅎ...  \n",
                "원 코드는 다음 셀의 출력 결과와 같다."
            ]
        },
        {
            "cell_type": "code",
            "execution_count": 1,
            "metadata": {},
            "outputs": [
                {
                    "name": "stdout",
                    "output_type": "stream",
                    "text": [
                        "from sys import stdin as H\n",
                        "import re\n",
                        "N=int(H.readline());X=H.read().rstrip().split(\"\\nend\");Y=print;U=list.append\n",
                        "def B(R):\n",
                        " if(C:=K(re.sub(r\"[^<>+-.,\\[\\]]\",\"\",re.sub(\"%[^\\n]*\\n\",\"\",R))))==0:Y(\"COMPILE ERROR\");return\n",
                        " M=256;L=32768;p=[0];S=[0]*L\n",
                        " def E(C):\n",
                        "  for P in C:\n",
                        "   if isinstance(P,list):\n",
                        "    while S[p[0]]!=0:E(P)\n",
                        "   else:[{\".\":lambda:Y(chr(S[p[0]]),end=\"\"),\"+\":lambda:S.__setitem__(p[0],(S[p[0]]+1)%M),\"-\":lambda:S.__setitem__(p[0],(S[p[0]]-1)%M),\">\":lambda:p.__setitem__(0,(p[0]+1)%L),\"<\":lambda:p.__setitem__(0,(p[0]-1)%L)}[c]()for c in P]\n",
                        " E(C);Y()\n",
                        "def K(G):\n",
                        " s=[[]];t=\"\"\n",
                        " for c in G:\n",
                        "  if\"[\"==c:U(s[-1],t);U(s,[]);t=\"\"\n",
                        "  elif\"]\"==c:\n",
                        "   try:U(s[-2],s.pop()+[t]);t=\"\"\n",
                        "   except:return 0\n",
                        "  else:t+=c\n",
                        " U(s[-1],t);return[s[0],0][len(s)>1]\n",
                        "for i in range(N):Y(f\"PROGRAM #{i+1}:\");B(X[i])\n"
                    ]
                }
            ],
            "source": [
                "import codecs,zlib;print(zlib.decompress(codecs.decode(b'eJyNktFu2yAUhu95CsZUCWpiJZnWTXaJtEZROjVpLEeVGmEauQ5ekRxiAdVWVX33geNl2800LhAcPjj/+Q+1OeyhfbFQ7duDcdC6ndKwtPAa9BEjwS1T2uHr2Mhy1ygtMSHpPTvuMYmNdUa1fmHbRjmMCi31DpF0w1rjL6Z3rFHWxWXb+jjYyRpe4ZwkAKoaTxN2g42M7fMjNog/XE6iQUwLXgiBKEK0P0Jn/KHQ4rzQXTQnfjA2TDYYTVfL7OtiBmd5vsp9ViPds9EALtn440W6YB/Gny4+py3jQ5Guw3y+ADCImOFpEAHrg4EZ9FVPw86LgsoqbV2pK4kzGrR3HITfn1Qj4Zq3/hXxzqef4YyEE9lYmfBXFKOkKfePu9ILq54M7lFCfeEMIUJRdCLW8XZrpVNO7rdbHDj6i49G5Gzp4cH/wIMenpzg9i94SDs+vLnw2OW/sUGHvfFKYBKMqYIxmQCdW+kGk65/N3geLLGMcyFS50sD8ETPg1mqRhwxViV32PLBSFBHUr+kXJCe96Z5SHRQ8NCZlyM8FtTG7cF/qIi73ziUPyrZuuTYXzgEve0uYhWAf6Q5AtwGk4aCN1JjSyYjAYJCFRSaUn+T+Jb4LtUoy1fz/MsSvn9V0egt8T/oCt9zJchPSxDoXg==','base64')).decode())"
            ]
        },
        {
            "attachments": {},
            "cell_type": "markdown",
            "metadata": {},
            "source": [
                "## 해답"
            ]
        },
        {
            "cell_type": "code",
            "execution_count": 1,
            "metadata": {},
            "outputs": [],
            "source": [
                "def parse_bracket(string):\n",
                "    stack = [[]]\n",
                "    temp = \"\"\n",
                "    for c in string:\n",
                "        if c == \"[\":\n",
                "            stack[-1].append(temp)\n",
                "            stack.append([])\n",
                "            temp = \"\"\n",
                "        elif c == \"]\":\n",
                "            stack[-2].append(stack.pop() + [temp])\n",
                "            temp = \"\"\n",
                "        else:\n",
                "            temp += c\n",
                "    stack[-1].append(temp)\n",
                "    if len(stack) > 1:\n",
                "        raise Exception(\"Invalid bracket\")\n",
                "    return stack[0]"
            ]
        },
        {
            "cell_type": "code",
            "execution_count": 2,
            "metadata": {},
            "outputs": [],
            "source": [
                "import re\n",
                "\n",
                "\n",
                "def remove_comment(string):\n",
                "    return re.sub(r\"[^<>+-.,\\[\\]]\", \"\", re.sub(r\"%[^\\n]*\\n\", \"\", string))"
            ]
        },
        {
            "cell_type": "code",
            "execution_count": 3,
            "metadata": {},
            "outputs": [],
            "source": [
                "def interpret(raw):\n",
                "    try:\n",
                "        code = parse_bracket(remove_comment(raw))\n",
                "    except:\n",
                "        print(\"COMPILE ERROR\")\n",
                "        return\n",
                "    STACK_LEN = 32768\n",
                "    STACK = [0] * STACK_LEN\n",
                "    MAX = 256\n",
                "\n",
                "    def exceute(code, pointer):\n",
                "        for paragraph in code:\n",
                "            if isinstance(paragraph, list):\n",
                "                while STACK[pointer] != 0:\n",
                "                    pointer = exceute(paragraph, pointer)\n",
                "            else:\n",
                "                pointer = exceute_string(paragraph, pointer)\n",
                "        return pointer\n",
                "\n",
                "    def exceute_string(code, pointer):\n",
                "        for c in code:\n",
                "            if c == \".\":\n",
                "                print(chr(STACK[pointer]), end=\"\")\n",
                "            elif c == \">\":\n",
                "                pointer = (pointer + 1) % STACK_LEN\n",
                "            elif c == \"<\":\n",
                "                pointer = (pointer - 1) % STACK_LEN\n",
                "            elif c == \"+\":\n",
                "                STACK[pointer] = (STACK[pointer] + 1) % MAX\n",
                "            elif c == \"-\":\n",
                "                STACK[pointer] = (STACK[pointer] - 1) % MAX\n",
                "        return pointer\n",
                "\n",
                "    exceute(code, 0)\n",
                "    print()"
            ]
        },
        {
            "cell_type": "code",
            "execution_count": 4,
            "metadata": {},
            "outputs": [],
            "source": [
                "def solution():\n",
                "    import sys\n",
                "\n",
                "    N = int(sys.stdin.readline())\n",
                "    bf_codes = sys.stdin.read().rstrip().split(\"\\nend\")\n",
                "    for i in range(1, N + 1):\n",
                "        print(f\"PROGRAM #{i}:\")\n",
                "        interpret(bf_codes[i - 1])"
            ]
        },
        {
            "cell_type": "markdown",
            "metadata": {},
            "source": [
                "## 예제"
            ]
        },
        {
            "cell_type": "code",
            "execution_count": 5,
            "metadata": {},
            "outputs": [],
            "source": [
                "# black 모듈을 jupyter notebook 내에서 사용 가능하게 만들어주는 blackcellmagic 모듈 불러오기\n",
                "%load_ext blackcellmagic\n",
                "# %%black\n",
                "\n",
                "# 백준 문제 풀이용 예제 실행 코드\n",
                "from bwj import test\n",
                "test_solution = test(solution)\n",
                "\n",
                "# test_solution(\"\"\"\"\"\")\n",
                "# test_solution(read(\"fn\").read())"
            ]
        },
        {
            "cell_type": "code",
            "execution_count": 6,
            "metadata": {},
            "outputs": [
                {
                    "name": "stdout",
                    "output_type": "stream",
                    "text": [
                        "PROGRAM #1:\n",
                        "\n",
                        "PROGRAM #2:\n",
                        "D\n",
                        "PROGRAM #3:\n",
                        "COMPILE ERROR\n"
                    ]
                }
            ],
            "source": [
                "example = [\"\", \"++++[>++++[>++++<-]<-]>>++++.\", \"]\" * 10]\n",
                "test_solution(str(len(example)) + \"\\n\" + '\\nend'.join(example) + \"\\nend\")"
            ]
        },
        {
            "cell_type": "code",
            "execution_count": 7,
            "metadata": {},
            "outputs": [
                {
                    "name": "stdout",
                    "output_type": "stream",
                    "text": [
                        "PROGRAM #1:\n",
                        "Hello World!\n",
                        "PROGRAM #2:\n",
                        "COMPILE ERROR\n",
                        "PROGRAM #3:\n",
                        "ABCDEFGHIJKLMNOPQRSTUVWXYZ\n"
                    ]
                }
            ],
            "source": [
                "test_solution(\"\"\"3\n",
                "++++++++[>+++++++++ % hello-world.\n",
                "<-]>.<+++++[>++++++<-]>-.+++++++..\n",
                "+++.<++++++++[>>++++<<-]>>.<<++++[>\n",
                "------<-]>.<++++[>++++++<-]>.+++.\n",
                "------.--------.>+.\n",
                "end\n",
                "+++[>+++++++[.\n",
                "end\n",
                "%% Print alphabet, A-Z.\n",
                "+ + + + + +++++++++++++++++++++>\n",
                "++++++++++++++++++++++++++++++++\n",
                "++++++++++++++++++++++++++++++++\n",
                "+< [ >.+<- ]\n",
                "end\n",
                "\"\"\")\n",
                "# answer:\n",
                "# PROGRAM #1:\n",
                "# Hello World!\n",
                "# PROGRAM #2:\n",
                "# COMPILE ERROR\n",
                "# PROGRAM #3:\n",
                "# ABCDEFGHIJKLMNOPQRSTUVWXYZ"
            ]
        }
    ],
    "metadata": {
        "kernelspec": {
            "display_name": "venv",
            "language": "python",
            "name": "python3"
        },
        "language_info": {
            "codemirror_mode": {
                "name": "ipython",
                "version": 3
            },
            "file_extension": ".py",
            "mimetype": "text/x-python",
            "name": "python",
            "nbconvert_exporter": "python",
            "pygments_lexer": "ipython3",
            "version": "3.10.8"
        },
        "orig_nbformat": 4,
        "vscode": {
            "interpreter": {
                "hash": "72904a014a9ffe38f4c58942120b599b3c5a87d06764037548e0139929c1cde3"
            }
        }
    },
    "nbformat": 4,
    "nbformat_minor": 2
}
