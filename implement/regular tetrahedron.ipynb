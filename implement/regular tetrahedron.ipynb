{
 "cells": [
  {
   "cell_type": "markdown",
   "metadata": {},
   "source": [
    "# [백준/정사면체](https://www.acmicpc.net/problem/1930)"
   ]
  },
  {
   "cell_type": "markdown",
   "metadata": {},
   "source": [
    "## 풀이과정"
   ]
  },
  {
   "cell_type": "markdown",
   "metadata": {},
   "source": [
    "### 첫번째 시도"
   ]
  },
  {
   "cell_type": "markdown",
   "metadata": {},
   "source": [
    "풀이과정"
   ]
  },
  {
   "cell_type": "code",
   "execution_count": null,
   "metadata": {},
   "outputs": [],
   "source": [
    "import sys\n",
    "\n",
    "input = lambda: sys.stdin.readline().rstrip()\n",
    "standard = {27, 45, 54, 210, 156, 120, 201, 99, 135, 228, 177, 78}\n",
    "for _ in range(int(input())):\n",
    "    solids = list(map(int, input().split()))\n",
    "    A, B = solids[:4], solids[4:]\n",
    "    setA = set(A)\n",
    "    if setA != set(B):\n",
    "        print(0)\n",
    "        continue\n",
    "    sortedA = sorted(A)\n",
    "    if sortedA != sorted(B):\n",
    "        print(0)\n",
    "        continue\n",
    "    if len(setA) < 4:\n",
    "        print(1)\n",
    "        continue\n",
    "    intA, intB = sum(sortedA.index(a) * i for a, i in zip(A, (64, 16, 4, 1))), sum(\n",
    "        sortedA.index(b) * i for b, i in zip(B, (64, 16, 4, 1))\n",
    "    )\n",
    "    print(0 if (intA in standard) ^ (intB in standard) else 1)"
   ]
  },
  {
   "cell_type": "code",
   "execution_count": 57,
   "metadata": {},
   "outputs": [
    {
     "name": "stdout",
     "output_type": "stream",
     "text": [
      "1\n",
      "0\n"
     ]
    }
   ],
   "source": [
    "f = lambda A, l: sum(i * l.index(a) for a, i in zip(A, (64, 16, 4, 1))) in set(\n",
    "    map(ord, \"\u001b-6ÒxÉcä±N\")\n",
    ")\n",
    "# f=lambda A,l:sum(ord(i)*l.index(a)for a,i in zip(A,'@\u0010\u0004\u0001'))in set(map(ord,'\u001b-6ÒxÉcä±N'))\n",
    "# f=lambda A,l:sum(4**i*l.index(a)for a,i in zip(A,range(4)))in set(map(ord,'\u001b-6ÒxÉcä±N'))\n",
    "exec(\n",
    "    \"s=input().split();print(2+~f(A,a)^f(B,a)if(a:=sorted(A:=s[:4]))==sorted(B:=s[4:])else 0);\"\n",
    "    * int(input())\n",
    ")"
   ]
  },
  {
   "cell_type": "markdown",
   "metadata": {},
   "source": [
    "## 해답"
   ]
  },
  {
   "cell_type": "code",
   "execution_count": 2,
   "metadata": {},
   "outputs": [],
   "source": [
    "standard = {27, 45, 54, 210, 156, 120, 201, 99, 135, 228, 177, 78}"
   ]
  },
  {
   "cell_type": "code",
   "execution_count": 10,
   "metadata": {},
   "outputs": [],
   "source": [
    "def solution(input):\n",
    "    for _ in range(int(input())):\n",
    "        solids = list(map(int, input().split()))\n",
    "        A, B = solids[:4], solids[4:]\n",
    "        setA = set(A)\n",
    "        if setA != set(B):\n",
    "            print(0)\n",
    "            continue\n",
    "        sortedA = sorted(A)\n",
    "        if sortedA != sorted(B):\n",
    "            print(0)\n",
    "            continue\n",
    "        if len(setA) < 4:\n",
    "            print(1)\n",
    "            continue\n",
    "        intA, intB = sum(sortedA.index(a) * i for a, i in zip(A, (64, 16, 4, 1))), sum(\n",
    "            sortedA.index(b) * i for b, i in zip(B, (64, 16, 4, 1))\n",
    "        )\n",
    "        print(0 if (intA in standard) ^ (intB in standard) else 1)"
   ]
  },
  {
   "cell_type": "markdown",
   "metadata": {},
   "source": [
    "## 테스트 결과"
   ]
  },
  {
   "cell_type": "markdown",
   "metadata": {},
   "source": [
    "|테스트|결과|\n",
    "|---:|:---|"
   ]
  },
  {
   "cell_type": "markdown",
   "metadata": {},
   "source": [
    "## 예제"
   ]
  },
  {
   "cell_type": "code",
   "execution_count": 11,
   "metadata": {},
   "outputs": [],
   "source": [
    "# 백준 문제 풀이용 예제 실행 코드\n",
    "from inspect import signature\n",
    "\n",
    "\n",
    "def solution_example(input_=None, solution=solution):\n",
    "    params = signature(solution).parameters\n",
    "    if input_ == None:\n",
    "        solution()\n",
    "    elif \"open\" in params:\n",
    "\n",
    "        class open:\n",
    "            def __init__(self, x):\n",
    "                self.read = lambda: input_\n",
    "\n",
    "            def __iter__(self):\n",
    "                return iter(input_.split(\"\\n\"))\n",
    "\n",
    "        solution(open)\n",
    "    elif \"input\" in params:\n",
    "        input_ = iter(input_.split(\"\\n\"))\n",
    "        input = input_.__next__\n",
    "        solution(input)\n",
    "    else:\n",
    "        raise NameError(\n",
    "            f\"solution 함수가 input, open 등의 매개변수를 받지 않습니다.\\nsolution 의 매개변수: {params}\"\n",
    "        )\n",
    "\n",
    "\n",
    "# solution_example(\"\"\"\"\"\")\n",
    "# solution_example(read(\"fn\").read())"
   ]
  },
  {
   "cell_type": "code",
   "execution_count": 12,
   "metadata": {},
   "outputs": [
    {
     "name": "stdout",
     "output_type": "stream",
     "text": [
      "1\n",
      "0\n",
      "1\n"
     ]
    }
   ],
   "source": [
    "solution_example(\n",
    "    \"\"\"3\n",
    "1 2 3 4 1 2 3 4\n",
    "4 1 2 3 4 3 2 1\n",
    "1 2 3 4 3 4 1 2\"\"\"\n",
    ")"
   ]
  }
 ],
 "metadata": {
  "interpreter": {
   "hash": "73891b0dc2e53390f36276e59930dd4ecab91b05b5c90320c2d5b1c443f87069"
  },
  "kernelspec": {
   "display_name": "Python 3.10.1 ('venv': venv)",
   "language": "python",
   "name": "python3"
  },
  "language_info": {
   "codemirror_mode": {
    "name": "ipython",
    "version": 3
   },
   "file_extension": ".py",
   "mimetype": "text/x-python",
   "name": "python",
   "nbconvert_exporter": "python",
   "pygments_lexer": "ipython3",
   "version": "3.10.1"
  },
  "orig_nbformat": 4
 },
 "nbformat": 4,
 "nbformat_minor": 2
}
