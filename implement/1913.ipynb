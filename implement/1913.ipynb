{
    "cells": [
        {
            "cell_type": "markdown",
            "metadata": {},
            "source": [
                "# [백준/달팽이](https://www.acmicpc.net/problem/1913)"
            ]
        },
        {
            "cell_type": "markdown",
            "metadata": {},
            "source": [
                "## 풀이과정"
            ]
        },
        {
            "cell_type": "markdown",
            "metadata": {},
            "source": [
                "### 첫번째 시도"
            ]
        },
        {
            "cell_type": "markdown",
            "metadata": {},
            "source": [
                "풀이과정"
            ]
        },
        {
            "cell_type": "code",
            "execution_count": 35,
            "metadata": {},
            "outputs": [],
            "source": [
                "def solution():\n",
                "    import sys\n",
                "\n",
                "    n, target = map(int, sys.stdin.read().rstrip().split())\n",
                "    nn = n * n\n",
                "    snail = [[0] * n for _ in range(n)]\n",
                "    directions = [(0, 1), (1, 0), (0, -1), (-1, 0)]\n",
                "    dirindex = 0\n",
                "    dx, dy = directions[dirindex]\n",
                "    x, y = 0, -1\n",
                "    a, b = 0, 0\n",
                "    for i in range(nn, 0, -1):\n",
                "        if not (0 <= x + dx < n and 0 <= y + dy < n):\n",
                "            dirindex = (dirindex + 1) % 4\n",
                "            dx, dy = directions[dirindex]\n",
                "        elif snail[y + dy][x + dx] != 0:\n",
                "            dirindex = (dirindex + 1) % 4\n",
                "            dx, dy = directions[dirindex]\n",
                "        x, y = (x + dx, y + dy)\n",
                "        snail[y][x] = i\n",
                "        if i == target:\n",
                "            a, b = x + 1, y + 1\n",
                "\n",
                "    for line in snail:\n",
                "        print(*line)\n",
                "    print(b, a)\n",
                "\n",
                "\n",
                "solution()"
            ]
        },
        {
            "cell_type": "markdown",
            "metadata": {},
            "source": [
                "## 해답"
            ]
        },
        {
            "cell_type": "code",
            "execution_count": 32,
            "metadata": {},
            "outputs": [],
            "source": [
                "def solution(open = open):\n",
                "    n, target = map(int, open(0).read().rstrip().split())\n",
                "    nn = n * n\n",
                "    snail = [[0] * n for _ in range(n)]\n",
                "    directions = [(0, 1), (1, 0), (0, -1), (-1, 0)]\n",
                "    dirindex = 0\n",
                "    dx, dy = directions[dirindex]\n",
                "    x, y = 0, -1\n",
                "    a, b = 0, 0\n",
                "    for i in range(nn, 0, -1):\n",
                "        if not (0 <= x + dx < n and 0 <= y + dy < n):\n",
                "            dirindex = (dirindex + 1) % 4\n",
                "            dx, dy = directions[dirindex]\n",
                "        elif snail[y + dy][x + dx] != 0:\n",
                "            dirindex = (dirindex + 1) % 4\n",
                "            dx, dy = directions[dirindex]\n",
                "        x, y = (x + dx, y + dy)\n",
                "        snail[y][x] = i\n",
                "        if i == target:\n",
                "            a, b = x + 1, y + 1\n",
                "\n",
                "    for line in snail:\n",
                "        print(*line)\n",
                "    print(b, a)\n"
            ]
        },
        {
            "cell_type": "markdown",
            "metadata": {},
            "source": [
                "## 예제"
            ]
        },
        {
            "cell_type": "code",
            "execution_count": 33,
            "metadata": {},
            "outputs": [],
            "source": [
                "# 백준 문제 풀이용 예제 실행 코드\n",
                "from bwj import test\n",
                "test_solution = test(solution)\n",
                "\n",
                "# test_solution(\"\"\"\"\"\")\n",
                "# test_solution(read(\"fn\").read())"
            ]
        },
        {
            "cell_type": "code",
            "execution_count": 34,
            "metadata": {},
            "outputs": [
                {
                    "name": "stdout",
                    "output_type": "stream",
                    "text": [
                        "49 26 27 28 29 30 31\n",
                        "48 25 10 11 12 13 32\n",
                        "47 24 9 2 3 14 33\n",
                        "46 23 8 1 4 15 34\n",
                        "45 22 7 6 5 16 35\n",
                        "44 21 20 19 18 17 36\n",
                        "43 42 41 40 39 38 37\n",
                        "7 5\n"
                    ]
                }
            ],
            "source": [
                "test_solution(\"\"\"7\n",
                "35\"\"\")\n",
                "# answer:\n",
                "# 49 26 27 28 29 30 31\n",
                "# 48 25 10 11 12 13 32\n",
                "# 47 24 9 2 3 14 33\n",
                "# 46 23 8 1 4 15 34\n",
                "# 45 22 7 6 5 16 35\n",
                "# 44 21 20 19 18 17 36\n",
                "# 43 42 41 40 39 38 37\n",
                "# 5 7"
            ]
        }
    ],
    "metadata": {
        "interpreter": {
            "hash": "72904a014a9ffe38f4c58942120b599b3c5a87d06764037548e0139929c1cde3"
        },
        "kernelspec": {
            "display_name": "Python 3.10.4 ('venv': venv)",
            "language": "python",
            "name": "python3"
        },
        "language_info": {
            "codemirror_mode": {
                "name": "ipython",
                "version": 3
            },
            "file_extension": ".py",
            "mimetype": "text/x-python",
            "name": "python",
            "nbconvert_exporter": "python",
            "pygments_lexer": "ipython3",
            "version": "3.10.4"
        },
        "orig_nbformat": 4
    },
    "nbformat": 4,
    "nbformat_minor": 2
}
