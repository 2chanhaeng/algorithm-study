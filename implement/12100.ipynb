{
    "cells": [
        {
            "cell_type": "markdown",
            "metadata": {},
            "source": [
                "# [백준/2048 (Easy)](https://www.acmicpc.net/problem/12100)\n"
            ]
        },
        {
            "cell_type": "markdown",
            "metadata": {},
            "source": [
                "## 풀이과정\n"
            ]
        },
        {
            "cell_type": "markdown",
            "metadata": {},
            "source": [
                "### 첫번째 시도\n"
            ]
        },
        {
            "cell_type": "markdown",
            "metadata": {},
            "source": [
                "#### 풀이과정\n",
                "\n",
                "각각의 이동을 구현하기보단, 한쪽으로만 이동을 구현하는 함수를 만들고, 게임판을 회전시키는 함수를 만들어서 이동을 구현하려고 했다.  \n",
                "그런데 뭐가 꼬였는지 문제가 풀리지 않았다.\n"
            ]
        },
        {
            "cell_type": "code",
            "execution_count": null,
            "metadata": {},
            "outputs": [],
            "source": [
                "from itertools import accumulate\n",
                "\n",
                "Board = list[list[int]]\n",
                "\n",
                "\n",
                "def flat(iters) -> list:\n",
                "    return sum(iters, [])\n",
                "\n",
                "\n",
                "def flatmap(f, it):\n",
                "    return flat(map(f, it))\n",
                "\n",
                "\n",
                "def rotate(board: Board) -> Board:\n",
                "    return [list(line[::-1]) for line in zip(*board)]\n",
                "\n",
                "\n",
                "def rotates(board: Board) -> list[Board]:\n",
                "    return list(accumulate(range(3), lambda x, _: rotate(x), initial=board))\n",
                "\n",
                "\n",
                "def move(line: list[int]) -> list[int]:\n",
                "    nums = filter(lambda x: x != 0, line)\n",
                "    result = [next(nums, 0)]\n",
                "\n",
                "    for n in nums:\n",
                "        if n == result[-1]:\n",
                "            result[-1] *= 2\n",
                "            result.append(0)\n",
                "        elif n != 0:\n",
                "            result.append(n)\n",
                "\n",
                "    return [n for n in result if n != 0]\n",
                "\n",
                "\n",
                "def add_padding(board: Board) -> Board:\n",
                "    n = max(len(line) for line in board)\n",
                "    return [line + [0] * (n - len(line)) for line in board if line or any(line)]\n",
                "\n",
                "\n",
                "def moves(board: Board) -> Board:\n",
                "    return add_padding([move(line) for line in board])\n",
                "\n",
                "\n",
                "def step(boards):\n",
                "    return list(map(moves, flatmap(rotates, boards)))\n",
                "\n",
                "\n",
                "def solution():\n",
                "    import sys\n",
                "\n",
                "    board = [list(map(int, line.split())) for line in sys.stdin.read().splitlines()[1:]]\n",
                "    boards = [board]\n",
                "    for _ in range(5):\n",
                "        boards = step(boards)\n",
                "    print(max(flatmap(max, boards)))\n",
                "\n",
                "\n",
                "solution()"
            ]
        },
        {
            "cell_type": "markdown",
            "metadata": {},
            "source": [
                "### 두번째 시도\n"
            ]
        },
        {
            "cell_type": "markdown",
            "metadata": {},
            "source": [
                "#### 풀이과정\n",
                "\n",
                "기존에 썼던 코드를 지우고 처음부터 다시 풀어보았다.  \n",
                "로직은 비슷한데 이번에는 문제 없이 풀렸다.  \n",
                "방향은 비슷한 것 같은데... 아무래도 세부적인 문제가 있었던 것 같다.\n"
            ]
        },
        {
            "cell_type": "code",
            "execution_count": null,
            "metadata": {},
            "outputs": [],
            "source": [
                "Line = list[int]\n",
                "Board = list[Line]\n",
                "\n",
                "\n",
                "def rotate(board: Board) -> Board:\n",
                "    return list(map(list, zip(*board[::-1])))\n",
                "\n",
                "\n",
                "def rotates(board: Board):\n",
                "    for i in range(4):\n",
                "        yield board\n",
                "        board = rotate(board)\n",
                "\n",
                "\n",
                "not_zero = lambda x: x != 0\n",
                "not_zeros = lambda x: filter(not_zero, x)\n",
                "\n",
                "\n",
                "def move(line: Line) -> Line:\n",
                "    result = [0]\n",
                "    for n in not_zeros(line):\n",
                "        if n == result[-1]:\n",
                "            result[-1] *= 2\n",
                "            result.append(0)\n",
                "        else:\n",
                "            result.append(n)\n",
                "    return list(not_zeros(result))\n",
                "\n",
                "\n",
                "def pad(n: int, line: Line) -> Line:\n",
                "    return line + [0] * (n - len(line))\n",
                "\n",
                "\n",
                "def pads(n: int, board: Board) -> Board:\n",
                "    return [pad(n, line) for line in board]\n",
                "\n",
                "\n",
                "def moves(board: Board) -> Board:\n",
                "    moved = [move(line) for line in board]\n",
                "    return pads(max(map(len, moved)), moved)\n",
                "\n",
                "\n",
                "def flatmax(boards: list[Board]) -> int:\n",
                "    return max(max(line) for board in boards for line in board)\n",
                "\n",
                "\n",
                "def solution():\n",
                "    import sys\n",
                "\n",
                "    input = sys.stdin.readline\n",
                "    n = int(input())\n",
                "    boards = [[list(map(int, input().split())) for _ in range(n)]]\n",
                "    for _ in range(5):\n",
                "        rots = sum(([*rotates(i)] for i in boards), [])\n",
                "        boards = [moves(i) for i in rots]\n",
                "    print(flatmax(boards))\n",
                "\n",
                "\n",
                "solution()"
            ]
        },
        {
            "cell_type": "markdown",
            "metadata": {},
            "source": [
                "## 해답\n"
            ]
        },
        {
            "cell_type": "code",
            "execution_count": 1,
            "metadata": {},
            "outputs": [],
            "source": [
                "Line = list[int]\n",
                "Board = list[Line]"
            ]
        },
        {
            "cell_type": "code",
            "execution_count": 2,
            "metadata": {},
            "outputs": [],
            "source": [
                "def rotate(board: Board) -> Board:\n",
                "    return list(map(list, zip(*board[::-1])))\n",
                "\n",
                "\n",
                "def rotates(board: Board):\n",
                "    for i in range(4):\n",
                "        yield board\n",
                "        board = rotate(board)"
            ]
        },
        {
            "cell_type": "code",
            "execution_count": 3,
            "metadata": {},
            "outputs": [],
            "source": [
                "def pad(n: int, line: Line) -> Line:\n",
                "    return line + [0] * (n - len(line))\n",
                "\n",
                "\n",
                "def pads(n: int, board: Board) -> Board:\n",
                "    return [pad(n, line) for line in board]"
            ]
        },
        {
            "cell_type": "code",
            "execution_count": 4,
            "metadata": {},
            "outputs": [],
            "source": [
                "not_zero = lambda x: x != 0\n",
                "not_zeros = lambda x: filter(not_zero, x)\n",
                "\n",
                "\n",
                "def move(line: Line) -> Line:\n",
                "    result = [0]\n",
                "    for n in not_zeros(line):\n",
                "        if n == result[-1]:\n",
                "            result[-1] *= 2\n",
                "            result.append(0)\n",
                "        else:\n",
                "            result.append(n)\n",
                "    return list(not_zeros(result))\n",
                "\n",
                "\n",
                "def moves(board: Board) -> Board:\n",
                "    moved = [move(line) for line in board]\n",
                "    return pads(max(map(len, moved)), moved)"
            ]
        },
        {
            "cell_type": "code",
            "execution_count": 5,
            "metadata": {},
            "outputs": [],
            "source": [
                "def flatmax(boards: list[Board]) -> int:\n",
                "    return max(max(line) for board in boards for line in board)"
            ]
        },
        {
            "cell_type": "code",
            "execution_count": 6,
            "metadata": {},
            "outputs": [],
            "source": [
                "def solution():\n",
                "    import sys\n",
                "\n",
                "    input = sys.stdin.readline\n",
                "    n = int(input())\n",
                "    boards: list[Board] = [[list(map(int, input().split())) for _ in range(n)]]\n",
                "    for _ in range(5):\n",
                "        boards = [moves(b) for i in boards for b in rotates(i)]\n",
                "\n",
                "    print(flatmax(boards))"
            ]
        },
        {
            "cell_type": "markdown",
            "metadata": {},
            "source": [
                "## 예제\n"
            ]
        },
        {
            "cell_type": "code",
            "execution_count": 7,
            "metadata": {},
            "outputs": [],
            "source": [
                "# 백준 문제 풀이용 예제 실행 코드\n",
                "from bwj import test\n",
                "\n",
                "test_solution = test(solution)\n",
                "\n",
                "# test_solution(\"\"\"\"\"\")\n",
                "# test_solution(read(\"fn\").read())"
            ]
        },
        {
            "cell_type": "code",
            "execution_count": 8,
            "metadata": {},
            "outputs": [
                {
                    "name": "stdout",
                    "output_type": "stream",
                    "text": [
                        "16\n"
                    ]
                }
            ],
            "source": [
                "test_solution(\n",
                "    \"\"\"3\n",
                "2 2 2\n",
                "4 4 4\n",
                "8 8 8 \n",
                "\"\"\"\n",
                ")  # 16"
            ]
        },
        {
            "cell_type": "code",
            "execution_count": 9,
            "metadata": {},
            "outputs": [
                {
                    "name": "stdout",
                    "output_type": "stream",
                    "text": [
                        "16\n"
                    ]
                }
            ],
            "source": [
                "test_solution(\n",
                "    \"\"\"2\n",
                "8 16\n",
                "16 8\n",
                "\"\"\"\n",
                ")  # 16"
            ]
        },
        {
            "cell_type": "code",
            "execution_count": 10,
            "metadata": {},
            "outputs": [
                {
                    "name": "stdout",
                    "output_type": "stream",
                    "text": [
                        "32\n"
                    ]
                }
            ],
            "source": [
                "test_solution(\n",
                "    \"\"\"4\n",
                "8 16 0 0\n",
                "0 0 16 8\n",
                "0 0 0 0\n",
                "0 0 0 0\n",
                "\"\"\"\n",
                ")  # 32"
            ]
        },
        {
            "cell_type": "code",
            "execution_count": 11,
            "metadata": {},
            "outputs": [
                {
                    "name": "stdout",
                    "output_type": "stream",
                    "text": [
                        "64\n"
                    ]
                }
            ],
            "source": [
                "test_solution(\n",
                "    \"\"\"4\n",
                "0 0 0 0\n",
                "4 0 0 0\n",
                "8 32 4 0\n",
                "8 8 4 0\n",
                "\"\"\"\n",
                ")  # 64"
            ]
        },
        {
            "cell_type": "code",
            "execution_count": 12,
            "metadata": {},
            "outputs": [
                {
                    "name": "stdout",
                    "output_type": "stream",
                    "text": [
                        "16\n"
                    ]
                }
            ],
            "source": [
                "test_solution(\n",
                "    \"\"\"1\n",
                "16\n",
                "\"\"\"\n",
                ")  # 16"
            ]
        },
        {
            "cell_type": "code",
            "execution_count": 13,
            "metadata": {},
            "outputs": [
                {
                    "name": "stdout",
                    "output_type": "stream",
                    "text": [
                        "32\n"
                    ]
                }
            ],
            "source": [
                "test_solution(\n",
                "    \"\"\"4\n",
                "2 2 2 2\n",
                "2 2 2 2\n",
                "2 2 2 2\n",
                "2 2 2 2\n",
                "\"\"\"\n",
                ")  # 32"
            ]
        },
        {
            "cell_type": "code",
            "execution_count": 14,
            "metadata": {},
            "outputs": [
                {
                    "name": "stdout",
                    "output_type": "stream",
                    "text": [
                        "32\n"
                    ]
                }
            ],
            "source": [
                "test_solution(\n",
                "    \"\"\"5\n",
                "2 2 0 2 2\n",
                "2 2 0 2 2\n",
                "2 2 0 2 2\n",
                "2 2 0 2 2\n",
                "2 4 0 2 2\n",
                "\"\"\"\n",
                ")  # 32"
            ]
        },
        {
            "cell_type": "code",
            "execution_count": 15,
            "metadata": {},
            "outputs": [
                {
                    "name": "stdout",
                    "output_type": "stream",
                    "text": [
                        "32\n"
                    ]
                }
            ],
            "source": [
                "test_solution(\n",
                "    \"\"\"5\n",
                "2 2 0 2 2\n",
                "2 2 0 2 2\n",
                "2 2 0 2 2\n",
                "2 2 0 2 2\n",
                "2 2 0 4 2 \n",
                "\"\"\"\n",
                ")  # 32"
            ]
        },
        {
            "cell_type": "code",
            "execution_count": 16,
            "metadata": {},
            "outputs": [
                {
                    "name": "stdout",
                    "output_type": "stream",
                    "text": [
                        "32\n"
                    ]
                }
            ],
            "source": [
                "test_solution(\n",
                "    \"\"\"5\n",
                "2 2 2 2 2\n",
                "4 2 2 2 2\n",
                "0 0 0 0 0\n",
                "2 2 2 2 2\n",
                "2 2 2 2 2 \n",
                "\"\"\"\n",
                ")  # 32"
            ]
        },
        {
            "cell_type": "code",
            "execution_count": 17,
            "metadata": {},
            "outputs": [
                {
                    "name": "stdout",
                    "output_type": "stream",
                    "text": [
                        "32\n"
                    ]
                }
            ],
            "source": [
                "test_solution(\n",
                "    \"\"\"5\n",
                "4 2 2 2 2\n",
                "2 2 2 2 2\n",
                "0 0 0 0 0\n",
                "2 2 2 2 2\n",
                "2 2 2 2 2 \n",
                "\"\"\"\n",
                ")  # 32"
            ]
        },
        {
            "cell_type": "code",
            "execution_count": 18,
            "metadata": {},
            "outputs": [
                {
                    "name": "stdout",
                    "output_type": "stream",
                    "text": [
                        "32\n"
                    ]
                }
            ],
            "source": [
                "test_solution(\n",
                "    \"\"\"5\n",
                "2 2 2 2 2\n",
                "2 2 2 2 2\n",
                "0 0 0 0 0\n",
                "4 2 2 2 2\n",
                "2 2 2 2 2\n",
                "\"\"\"\n",
                ")  # 32"
            ]
        },
        {
            "cell_type": "code",
            "execution_count": 19,
            "metadata": {},
            "outputs": [
                {
                    "name": "stdout",
                    "output_type": "stream",
                    "text": [
                        "64\n"
                    ]
                }
            ],
            "source": [
                "test_solution(\n",
                "    \"\"\"4\n",
                "0 4 4 32\n",
                "4 0 2 64\n",
                "8 8 0 0\n",
                "0 16 64 4\n",
                "\"\"\"\n",
                ")  # 64"
            ]
        },
        {
            "cell_type": "code",
            "execution_count": 20,
            "metadata": {},
            "outputs": [
                {
                    "name": "stdout",
                    "output_type": "stream",
                    "text": [
                        "32\n"
                    ]
                }
            ],
            "source": [
                "test_solution(\n",
                "    \"\"\"3\n",
                "16 2 2\n",
                "2 2 2\n",
                "2 2 16\n",
                "\"\"\"\n",
                ")  # 32"
            ]
        },
        {
            "cell_type": "code",
            "execution_count": 21,
            "metadata": {},
            "outputs": [
                {
                    "name": "stdout",
                    "output_type": "stream",
                    "text": [
                        "8\n"
                    ]
                }
            ],
            "source": [
                "test_solution(\n",
                "    \"\"\"3\n",
                "2 2 2\n",
                "2 2 2 \n",
                "2 2 2 \n",
                "\"\"\"\n",
                ")  # 8"
            ]
        },
        {
            "cell_type": "code",
            "execution_count": 22,
            "metadata": {},
            "outputs": [
                {
                    "name": "stdout",
                    "output_type": "stream",
                    "text": [
                        "64\n"
                    ]
                }
            ],
            "source": [
                "test_solution(\n",
                "    \"\"\"5\n",
                "2 2 4 8 16\n",
                "0 0 0 0 0\n",
                "0 0 0 0 0\n",
                "0 0 0 0 0\n",
                "2 2 4 8 16\n",
                "\"\"\"\n",
                ")  # 64"
            ]
        },
        {
            "cell_type": "code",
            "execution_count": 23,
            "metadata": {},
            "outputs": [
                {
                    "name": "stdout",
                    "output_type": "stream",
                    "text": [
                        "16\n"
                    ]
                }
            ],
            "source": [
                "test_solution(\n",
                "    \"\"\"2\n",
                "16 0 \n",
                "0 0\n",
                "\"\"\"\n",
                ")  # 16"
            ]
        },
        {
            "cell_type": "code",
            "execution_count": 24,
            "metadata": {},
            "outputs": [
                {
                    "name": "stdout",
                    "output_type": "stream",
                    "text": [
                        "128\n"
                    ]
                }
            ],
            "source": [
                "test_solution(\n",
                "    \"\"\"4\n",
                "2 4 8 16\n",
                "4 8 16 32\n",
                "8 16 32 64\n",
                "16 32 64 128\n",
                "\"\"\"\n",
                ")  # 128"
            ]
        },
        {
            "cell_type": "code",
            "execution_count": 25,
            "metadata": {},
            "outputs": [
                {
                    "name": "stdout",
                    "output_type": "stream",
                    "text": [
                        "8\n"
                    ]
                }
            ],
            "source": [
                "test_solution(\n",
                "    \"\"\"3\n",
                "2 2 4\n",
                "0 0 0\n",
                "0 0 0\n",
                "\"\"\"\n",
                ")  # 8"
            ]
        },
        {
            "cell_type": "code",
            "execution_count": 26,
            "metadata": {},
            "outputs": [
                {
                    "name": "stdout",
                    "output_type": "stream",
                    "text": [
                        "128\n"
                    ]
                }
            ],
            "source": [
                "test_solution(\n",
                "    \"\"\"10\n",
                "8 8 4 16 32 0 0 8 8 8\n",
                "8 8 4 0 0 8 0 0 0 0\n",
                "16 0 0 16 0 0 0 0 0 0\n",
                "0 0 0 0 0 0 0 0 0 0\n",
                "0 0 0 0 0 0 0 0 0 0\n",
                "0 0 0 0 0 0 0 0 0 0\n",
                "0 0 0 0 0 0 0 0 0 0\n",
                "0 0 0 0 0 0 0 0 0 0\n",
                "0 0 0 0 0 0 0 0 0 16\n",
                "0 0 0 0 0 0 0 0 0 2\n",
                "\"\"\"\n",
                ")  # 128"
            ]
        },
        {
            "cell_type": "code",
            "execution_count": 27,
            "metadata": {},
            "outputs": [
                {
                    "name": "stdout",
                    "output_type": "stream",
                    "text": [
                        "128\n"
                    ]
                }
            ],
            "source": [
                "test_solution(\n",
                "    \"\"\"10\n",
                "0 0 0 0 0 32 8 64 8 16\n",
                "0 0 0 0 0 0 0 16 8 16\n",
                "0 0 0 0 0 0 0 0 0 2\n",
                "0 0 0 0 0 0 0 0 0 0\n",
                "0 0 0 0 0 0 0 0 0 0\n",
                "0 0 0 0 0 0 0 0 0 0\n",
                "0 0 0 0 0 0 0 0 0 0\n",
                "0 0 0 0 0 0 0 0 0 0\n",
                "0 0 0 0 0 0 0 0 0 0\n",
                "0 0 0 0 0 0 0 0 0 0\n",
                "\"\"\"\n",
                ")  # 128"
            ]
        },
        {
            "cell_type": "code",
            "execution_count": 28,
            "metadata": {},
            "outputs": [
                {
                    "name": "stdout",
                    "output_type": "stream",
                    "text": [
                        "1024\n"
                    ]
                }
            ],
            "source": [
                "test_solution(\n",
                "    \"\"\"10\n",
                "0 0 64 32 32 0 0 0 0 0\n",
                "0 32 32 64 0 0 0 0 0 0\n",
                "0 0 128 0 0 0 0 0 0 0 \n",
                "64 64 128 0 0 0 0 0 0 0\n",
                "0 0 64 32 32 0 0 0 0 0\n",
                "0 32 32 64 0 0 0 0 0 0\n",
                "0 0 128 0 0 0 0 0 0 0 \n",
                "64 64 128 0 0 0 0 0 0 0\n",
                "128 32 2 4 0 0 0 0 0 0\n",
                "0 0 128 0 0 0 0 0 0 0\n",
                "\"\"\"\n",
                ")  # 1024"
            ]
        },
        {
            "cell_type": "code",
            "execution_count": 29,
            "metadata": {},
            "outputs": [
                {
                    "name": "stdout",
                    "output_type": "stream",
                    "text": [
                        "64\n"
                    ]
                }
            ],
            "source": [
                "test_solution(\n",
                "    \"\"\"10\n",
                "16 16 8 32 32 0 0 8 8 8\n",
                "16 0 0 0 0 8 0 0 0 16\n",
                "0 0 0 0 0 0 0 0 0 2\n",
                "0 0 0 0 0 0 0 0 0 0\n",
                "0 0 0 0 0 0 0 0 0 0\n",
                "0 0 0 0 0 0 0 0 0 0\n",
                "0 0 0 0 0 0 0 0 0 0\n",
                "0 0 0 0 0 0 0 0 0 0\n",
                "0 0 0 0 0 0 0 0 0 0\n",
                "0 0 0 0 0 0 0 0 0 0\n",
                "\"\"\"\n",
                ")  # 64"
            ]
        },
        {
            "cell_type": "code",
            "execution_count": 30,
            "metadata": {},
            "outputs": [
                {
                    "name": "stdout",
                    "output_type": "stream",
                    "text": [
                        "64\n"
                    ]
                }
            ],
            "source": [
                "test_solution(\n",
                "    \"\"\"4\n",
                "2 32 16 8\n",
                "4 0 4 4\n",
                "0 1 8 4\n",
                "32 32 0 32\n",
                "\"\"\"\n",
                ")  # 64"
            ]
        },
        {
            "cell_type": "code",
            "execution_count": 31,
            "metadata": {},
            "outputs": [
                {
                    "name": "stdout",
                    "output_type": "stream",
                    "text": [
                        "128\n"
                    ]
                }
            ],
            "source": [
                "test_solution(\n",
                "    \"\"\"4\n",
                "2  16 16 0\n",
                "32 16 4  1\n",
                "4  16 32 0\n",
                "2  0  8  8\n",
                "\"\"\"\n",
                ")  # 128"
            ]
        },
        {
            "cell_type": "code",
            "execution_count": 32,
            "metadata": {},
            "outputs": [
                {
                    "name": "stdout",
                    "output_type": "stream",
                    "text": [
                        "128\n"
                    ]
                }
            ],
            "source": [
                "test_solution(\n",
                "    \"\"\"4\n",
                "0  8  1  1\n",
                "8  0  1  4\n",
                "8  0  8 32\n",
                "1 32 32  0\n",
                "\"\"\"\n",
                ")  # 128"
            ]
        },
        {
            "cell_type": "code",
            "execution_count": 33,
            "metadata": {},
            "outputs": [
                {
                    "name": "stdout",
                    "output_type": "stream",
                    "text": [
                        "16\n"
                    ]
                }
            ],
            "source": [
                "test_solution(\n",
                "    \"\"\"3\n",
                "2 2 2\n",
                "4 4 4\n",
                "8 8 8\n",
                "\"\"\"\n",
                ")  # 16"
            ]
        }
    ],
    "metadata": {
        "interpreter": {
            "hash": "73891b0dc2e53390f36276e59930dd4ecab91b05b5c90320c2d5b1c443f87069"
        },
        "kernelspec": {
            "display_name": "Python 3.10.1 ('venv': venv)",
            "language": "python",
            "name": "python3"
        },
        "language_info": {
            "codemirror_mode": {
                "name": "ipython",
                "version": 3
            },
            "file_extension": ".py",
            "mimetype": "text/x-python",
            "name": "python",
            "nbconvert_exporter": "python",
            "pygments_lexer": "ipython3",
            "version": "3.12.2"
        },
        "orig_nbformat": 4
    },
    "nbformat": 4,
    "nbformat_minor": 2
}
