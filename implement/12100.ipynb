{
    "cells": [
        {
            "cell_type": "markdown",
            "metadata": {},
            "source": [
                "# [백준/2048 (Easy)](https://www.acmicpc.net/problem/12100)\n"
            ]
        },
        {
            "cell_type": "markdown",
            "metadata": {},
            "source": [
                "## 풀이과정\n"
            ]
        },
        {
            "cell_type": "markdown",
            "metadata": {},
            "source": [
                "### 첫번째 시도\n"
            ]
        },
        {
            "cell_type": "markdown",
            "metadata": {},
            "source": [
                "#### 풀이과정\n"
            ]
        },
        {
            "cell_type": "code",
            "execution_count": null,
            "metadata": {},
            "outputs": [],
            "source": [
                "Line = list[int]\n",
                "Board = list[Line]\n",
                "\n",
                "\n",
                "def rotate(board: Board) -> Board:\n",
                "    return list(map(list, zip(*board[::-1])))\n",
                "\n",
                "\n",
                "def rotates(board: Board):\n",
                "    for i in range(4):\n",
                "        yield board\n",
                "        board = rotate(board)\n",
                "\n",
                "\n",
                "not_zero = lambda x: x != 0\n",
                "not_zeros = lambda x: filter(not_zero, x)\n",
                "\n",
                "\n",
                "def move(line: Line) -> Line:\n",
                "    result = [0]\n",
                "    for n in not_zeros(line):\n",
                "        if n == result[-1]:\n",
                "            result[-1] *= 2\n",
                "            result.append(0)\n",
                "        else:\n",
                "            result.append(n)\n",
                "    return list(not_zeros(result))\n",
                "\n",
                "\n",
                "def pad(n: int, line: Line) -> Line:\n",
                "    return line + [0] * (n - len(line))\n",
                "\n",
                "\n",
                "def pads(n: int, board: Board) -> Board:\n",
                "    return [pad(n, line) for line in board]\n",
                "\n",
                "\n",
                "def moves(board: Board) -> Board:\n",
                "    moved = [move(line) for line in board]\n",
                "    return pads(max(map(len, moved)), moved)\n",
                "\n",
                "\n",
                "def flatmax(boards: list[Board]) -> int:\n",
                "    return max(max(line) for board in boards for line in board)\n",
                "\n",
                "\n",
                "def solution():\n",
                "    import sys\n",
                "\n",
                "    input = sys.stdin.readline\n",
                "    n = int(input())\n",
                "    boards = [[list(map(int, input().split())) for _ in range(n)]]\n",
                "    for _ in range(5):\n",
                "        rots = sum(([*rotates(i)] for i in boards), [])\n",
                "        boards = [moves(i) for i in rots]\n",
                "    print(flatmax(boards))\n",
                "\n",
                "\n",
                "solution()"
            ]
        },
        {
            "cell_type": "markdown",
            "metadata": {},
            "source": [
                "## 해답\n"
            ]
        },
        {
            "cell_type": "code",
            "execution_count": 1,
            "metadata": {},
            "outputs": [],
            "source": [
                "Line = list[int]\n",
                "Board = list[Line]"
            ]
        },
        {
            "cell_type": "code",
            "execution_count": 2,
            "metadata": {},
            "outputs": [],
            "source": [
                "def rotate(board: Board) -> Board:\n",
                "    return list(map(list, zip(*board[::-1])))\n",
                "\n",
                "\n",
                "def rotates(board: Board):\n",
                "    for i in range(4):\n",
                "        yield board\n",
                "        board = rotate(board)"
            ]
        },
        {
            "cell_type": "code",
            "execution_count": 3,
            "metadata": {},
            "outputs": [],
            "source": [
                "def pad(n: int, line: Line) -> Line:\n",
                "    return line + [0] * (n - len(line))\n",
                "\n",
                "\n",
                "def pads(n: int, board: Board) -> Board:\n",
                "    return [pad(n, line) for line in board]"
            ]
        },
        {
            "cell_type": "code",
            "execution_count": 4,
            "metadata": {},
            "outputs": [],
            "source": [
                "not_zero = lambda x: x != 0\n",
                "not_zeros = lambda x: filter(not_zero, x)\n",
                "\n",
                "\n",
                "def move(line: Line) -> Line:\n",
                "    result = [0]\n",
                "    for n in not_zeros(line):\n",
                "        if n == result[-1]:\n",
                "            result[-1] *= 2\n",
                "            result.append(0)\n",
                "        else:\n",
                "            result.append(n)\n",
                "    return list(not_zeros(result))\n",
                "\n",
                "\n",
                "def moves(board: Board) -> Board:\n",
                "    moved = [move(line) for line in board]\n",
                "    return pads(max(map(len, moved)), moved)"
            ]
        },
        {
            "cell_type": "code",
            "execution_count": 5,
            "metadata": {},
            "outputs": [],
            "source": [
                "def flatmax(boards: list[Board]) -> int:\n",
                "    return max(max(line) for board in boards for line in board)"
            ]
        },
        {
            "cell_type": "code",
            "execution_count": 6,
            "metadata": {},
            "outputs": [],
            "source": [
                "def solution():\n",
                "    import sys\n",
                "\n",
                "    input = sys.stdin.readline\n",
                "    n = int(input())\n",
                "    boards: list[Board] = [[list(map(int, input().split())) for _ in range(n)]]\n",
                "    for _ in range(5):\n",
                "        boards = [moves(b) for i in boards for b in rotates(i)]\n",
                "\n",
                "    print(flatmax(boards))"
            ]
        },
        {
            "cell_type": "markdown",
            "metadata": {},
            "source": [
                "## 예제\n"
            ]
        },
        {
            "cell_type": "code",
            "execution_count": 7,
            "metadata": {},
            "outputs": [],
            "source": [
                "# 백준 문제 풀이용 예제 실행 코드\n",
                "from bwj import test\n",
                "\n",
                "test_solution = test(solution)\n",
                "\n",
                "# test_solution(\"\"\"\"\"\")\n",
                "# test_solution(read(\"fn\").read())"
            ]
        },
        {
            "cell_type": "code",
            "execution_count": 8,
            "metadata": {},
            "outputs": [
                {
                    "name": "stdout",
                    "output_type": "stream",
                    "text": [
                        "64\n"
                    ]
                }
            ],
            "source": [
                "test_solution(\"\"\"5\\n2 2 4 8 16\\n0 0 0 0 0\\n0 0 0 0 0\\n0 0 0 0 0\\n2 2 4 8 16\"\"\")  # 64"
            ]
        },
        {
            "cell_type": "code",
            "execution_count": 9,
            "metadata": {},
            "outputs": [
                {
                    "name": "stdout",
                    "output_type": "stream",
                    "text": [
                        "64\n"
                    ]
                }
            ],
            "source": [
                "test_solution(\n",
                "    \"\"\"10\\n16 16 8 32 32 0 0 8 8 8\\n16 0 0 0 0 8 0 0 0 16\\n0 0 0 0 0 0 0 0 0 2\\n0 0 0 0 0 0 0 0 0 0\\n0 0 0 0 0 0 0 0 0 0\\n0 0 0 0 0 0 0 0 0 0\\n0 0 0 0 0 0 0 0 0 0\\n0 0 0 0 0 0 0 0 0 0\\n0 0 0 0 0 0 0 0 0 0\\n0 0 0 0 0 0 0 0 0 0\"\"\"\n",
                ")  # 64"
            ]
        },
        {
            "cell_type": "code",
            "execution_count": 10,
            "metadata": {},
            "outputs": [
                {
                    "name": "stdout",
                    "output_type": "stream",
                    "text": [
                        "16\n",
                        "8\n"
                    ]
                }
            ],
            "source": [
                "test_solution(\"\"\"3\\n2 2 2\\n4 4 4\\n8 8 8\"\"\")  # 16\n",
                "test_solution(\"\"\"3\\n2 2 2\\n2 2 2\\n2 2 2\"\"\")  # 8"
            ]
        }
    ],
    "metadata": {
        "interpreter": {
            "hash": "73891b0dc2e53390f36276e59930dd4ecab91b05b5c90320c2d5b1c443f87069"
        },
        "kernelspec": {
            "display_name": "Python 3.10.1 ('venv': venv)",
            "language": "python",
            "name": "python3"
        },
        "language_info": {
            "codemirror_mode": {
                "name": "ipython",
                "version": 3
            },
            "file_extension": ".py",
            "mimetype": "text/x-python",
            "name": "python",
            "nbconvert_exporter": "python",
            "pygments_lexer": "ipython3",
            "version": "3.10.1"
        },
        "orig_nbformat": 4
    },
    "nbformat": 4,
    "nbformat_minor": 2
}
