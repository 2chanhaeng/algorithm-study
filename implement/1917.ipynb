{
    "cells": [
        {
            "cell_type": "markdown",
            "metadata": {},
            "source": [
                "# [백준/정육면체 전개도](https://www.acmicpc.net/problem/1917)"
            ]
        },
        {
            "cell_type": "markdown",
            "metadata": {},
            "source": [
                "## 풀이과정"
            ]
        },
        {
            "cell_type": "markdown",
            "metadata": {},
            "source": [
                "### 첫번째 시도"
            ]
        },
        {
            "cell_type": "markdown",
            "metadata": {},
            "source": [
                "#### 풀이과정"
            ]
        },
        {
            "cell_type": "code",
            "execution_count": 110,
            "metadata": {},
            "outputs": [],
            "source": [
                "import sys\n",
                "\n",
                "\n",
                "def turn(fig):\n",
                "    return list(map(list, zip(*fig[::-1])))\n",
                "\n",
                "\n",
                "print(*(\"yes\" if not {739, 903, 1251, 1266, 1268, 2275, 2289, 2290, 2292, 2296, 3171}.isdisjoint((lambda fig: set().union(*map(lambda fig: set(map((lambda f: int(\"\".join(map(str, sum(f, start=[]))), 2)), [fig, fig[::-1]])), [fig] + [(fig := turn(fig)) for _ in range(3)])))([r for r in turn([r for r in fig if any(r)]) if any(r)])) else \"no\" for fig in (lambda ints: [ints[:6], ints[6:12], ints[12:]])([[int(x) for x in line.split()] for line in sys.stdin.read().splitlines()])))"
            ]
        },
        {
            "cell_type": "code",
            "execution_count": 113,
            "metadata": {},
            "outputs": [
                {
                    "data": {
                        "text/plain": [
                            "b'\\x00\\x00\\x00\\x00\\x00\\x00\\x00\\x00\\x00\\x00\\x00\\x00\\x00\\x00\\x00\\x00\\x00\\x00\\x00\\x00\\x00\\x00\\x00\\x00\\x00\\x00\\x00\\x00\\x00\\x00\\x00\\x00\\x00\\x00\\x00\\x00\\x00\\x00\\x00\\x00\\x00\\x00\\x00\\x00\\x00\\x00\\x00\\x00\\x00\\x00\\x00\\x00\\x00\\x00\\x00\\x00\\x00\\x00\\x00\\x00\\x00\\x00\\x00\\x00\\x00\\x00\\x00\\x00\\x00\\x00\\x00\\x00\\x00\\x00\\x00\\x00\\x00\\x00\\x00\\x00\\x00\\x00\\x00\\x00\\x00\\x00\\x00\\x00\\x00\\x00\\x00\\x00\\x00\\x00\\x00\\x00\\x00\\x00\\x00\\x00\\x00\\x00\\x00\\x00\\x00\\x00\\x00\\x00\\x00\\x00\\x00\\x00\\x00\\x00\\x00\\x00\\x00\\x00\\x00\\x00\\x00\\x00\\x00\\x00\\x00\\x00\\x00\\x00\\x00\\x00\\x00\\x00\\x00\\x00\\x00\\x00\\x00\\x00\\x00\\x00\\x00\\x00\\x00\\x00\\x00\\x00\\x00\\x00\\x00\\x00\\x00\\x00\\x00\\x00\\x00\\x00\\x00\\x00\\x00\\x00\\x00\\x00\\x00\\x00\\x00\\x00\\x00\\x00\\x00\\x00\\x00\\x00\\x00\\x00\\x00\\x00\\x00\\x00\\x00\\x00\\x00\\x00\\x00\\x00\\x00\\x00\\x00\\x00\\x00\\x00\\x00\\x00\\x00\\x00\\x00\\x00\\x00\\x00\\x00\\x00\\x00\\x00\\x00\\x00\\x00\\x00\\x00\\x00\\x00\\x00\\x00\\x00\\x00\\x00\\x00\\x00\\x00\\x00\\x00\\x00\\x00\\x00\\x00\\x00\\x00\\x00\\x00\\x00\\x00\\x00\\x00\\x00\\x00\\x00\\x00\\x00\\x00\\x00\\x00\\x00\\x00\\x00\\x00\\x00\\x00\\x00\\x00\\x00\\x00\\x00\\x00\\x00\\x00\\x00\\x00\\x00\\x00\\x00\\x00\\x00\\x00\\x00\\x00\\x00\\x00\\x00\\x00\\x00\\x00\\x00\\x00\\x00\\x00\\x00\\x00\\x00\\x00\\x00\\x00\\x00\\x00\\x00\\x00\\x00\\x00\\x00\\x00\\x00\\x00\\x00\\x00\\x00\\x00\\x00\\x00\\x00\\x00\\x00\\x00\\x00\\x00\\x00\\x00\\x00\\x00\\x00\\x00\\x00\\x00\\x00\\x00\\x00\\x00\\x00\\x00\\x00\\x00\\x00\\x00\\x00\\x00\\x00\\x00\\x00\\x00\\x00\\x00\\x00\\x00\\x00\\x00\\x00\\x00\\x00\\x00\\x00\\x00\\x00\\x00\\x00\\x00\\x00\\x00\\x00\\x00\\x00\\x00\\x00\\x00\\x00\\x00\\x00\\x00\\x00\\x00\\x00\\x00\\x00\\x00\\x00\\x00\\x00\\x00\\x00\\x00\\x00\\x00\\x00\\x00\\x00\\x00\\x00\\x00\\x00\\x00\\x00\\x00\\x00\\x00\\x00\\x00\\x00\\x00\\x00\\x00\\x00\\x00\\x00\\x00\\x00\\x00\\x00\\x00\\x00\\x00\\x00\\x00\\x00\\x00\\x00\\x00\\x00\\x00\\x00\\x00\\x00\\x00\\x00\\x00\\x00\\x00\\x00\\x00\\x00\\x00\\x00\\x00\\x00\\x00\\x00\\x00\\x00\\x00\\x00\\x00\\x00\\x00\\x00\\x00\\x00\\x00\\x00\\x00\\x00\\x00\\x00\\x00\\x00\\x00\\x00\\x00\\x00\\x00\\x00\\x00\\x00\\x00\\x00\\x00\\x00\\x00\\x00\\x00\\x00\\x00\\x00\\x00\\x00\\x00\\x00\\x00\\x00\\x00\\x00\\x00\\x00\\x00\\x00\\x00\\x00\\x00\\x00\\x00\\x00\\x00\\x00\\x00\\x00\\x00\\x00\\x00\\x00\\x00\\x00\\x00\\x00\\x00\\x00\\x00\\x00\\x00\\x00\\x00\\x00\\x00\\x00\\x00\\x00\\x00\\x00\\x00\\x00\\x00\\x00\\x00\\x00\\x00\\x00\\x00\\x00\\x00\\x00\\x00\\x00\\x00\\x00\\x00\\x00\\x00\\x00\\x00\\x00\\x00\\x00\\x00\\x00\\x00\\x00\\x00\\x00\\x00\\x00\\x00\\x00\\x00\\x00\\x00\\x00\\x00\\x00\\x00\\x00\\x00\\x00\\x00\\x00\\x00\\x00\\x00\\x00\\x00\\x00\\x00\\x00\\x00\\x00\\x00\\x00\\x00\\x00\\x00\\x00\\x00\\x00\\x00\\x00\\x00\\x00\\x00\\x00\\x00\\x00\\x00\\x00\\x00\\x00\\x00\\x00\\x00\\x00\\x00\\x00\\x00\\x00\\x00\\x00\\x00\\x00\\x00\\x00\\x00\\x00\\x00\\x00\\x00\\x00\\x00\\x00\\x00\\x00\\x00\\x00\\x00\\x00\\x00\\x00\\x00\\x00\\x00\\x00\\x00\\x00\\x00\\x00\\x00\\x00\\x00\\x00\\x00\\x00\\x00\\x00\\x00\\x00\\x00\\x00\\x00\\x00\\x00\\x00\\x00\\x00\\x00\\x00\\x00\\x00\\x00\\x00\\x00\\x00\\x00\\x00\\x00\\x00\\x00\\x00\\x00\\x00\\x00\\x00\\x00\\x00\\x00\\x00\\x00\\x00\\x00\\x00\\x00\\x00\\x00\\x00\\x00\\x00\\x00\\x00\\x00\\x00\\x00\\x00\\x00\\x00\\x00\\x00\\x00\\x00\\x00\\x00\\x00\\x00\\x00\\x00\\x00\\x00\\x00\\x00\\x00\\x00\\x00\\x00\\x00\\x00\\x00\\x00\\x00\\x00\\x00\\x00\\x00\\x00\\x00\\x00\\x00\\x00\\x00\\x00\\x00\\x00\\x00\\x00\\x00\\x00\\x00\\x00\\x00\\x00\\x00\\x00\\x00\\x00\\x00\\x00\\x00\\x00\\x00\\x00\\x00\\x00\\x00\\x00\\x00\\x00\\x00\\x00\\x00\\x00\\x00\\x00\\x00'"
                        ]
                    },
                    "execution_count": 113,
                    "metadata": {},
                    "output_type": "execute_result"
                }
            ],
            "source": [
                "739"
            ]
        },
        {
            "cell_type": "code",
            "execution_count": 112,
            "metadata": {},
            "outputs": [
                {
                    "data": {
                        "text/plain": [
                            "['0x2e3',\n",
                            " '0x387',\n",
                            " '0x4e3',\n",
                            " '0x4f2',\n",
                            " '0x4f4',\n",
                            " '0x8e3',\n",
                            " '0x8f1',\n",
                            " '0x8f2',\n",
                            " '0x8f4',\n",
                            " '0x8f8',\n",
                            " '0xc63']"
                        ]
                    },
                    "execution_count": 112,
                    "metadata": {},
                    "output_type": "execute_result"
                }
            ],
            "source": [
                "[hex(i) for i in [739, 903, 1251, 1266, 1268, 2275, 2289, 2290, 2292, 2296, 3171]]"
            ]
        },
        {
            "cell_type": "code",
            "execution_count": null,
            "metadata": {},
            "outputs": [],
            "source": [
                "(lambda T: print(*(\"yes\" if not {739, 903, 1251, 1266, 1268, 2275, 2289, 2290, 2292, 2296, 3171}.isdisjoint((lambda f: set().union(*map(lambda F: set(map((lambda f: int(\"\".join(map(str, sum(f, start=[]))), 2)), [F, F[::-1]])), [f] + [(f := T(f)) for _ in range(3)])))([r for r in T([r for r in fig if any(r)]) if any(r)])) else \"no\" for fig in (lambda I: [I[:6], I[6:12], I[12:]])([[int(x) for x in L.split()] for L in open(0).read().splitlines()]))))(lambda F: list(map(list, zip(*F[::-1]))))"
            ]
        },
        {
            "cell_type": "code",
            "execution_count": 102,
            "metadata": {},
            "outputs": [],
            "source": [
                "import sys\n",
                "\n",
                "standards = {739, 903, 1251, 1266, 1268, 2275, 2289, 2290, 2292, 2296, 3171}\n",
                "\n",
                "\n",
                "def solution():\n",
                "    print(*(solve(fig) for fig in get_figs(get_ints())))\n",
                "\n",
                "\n",
                "def get_figs(ints):\n",
                "    return [ints[:6], ints[6:12], ints[12:]]\n",
                "\n",
                "\n",
                "def get_ints():\n",
                "    return [[int(x) for x in line.split()] for line in sys.stdin.read().splitlines()]\n",
                "\n",
                "\n",
                "def solve(fig):\n",
                "    return \"yes\" if is_figs(rotates(trim(fig))) else \"no\"\n",
                "\n",
                "\n",
                "def is_figs(rots):\n",
                "    return not standards.isdisjoint(rots)\n",
                "\n",
                "\n",
                "def rotates(fig):\n",
                "    return set().union(*map(inv_pair, [fig] + [(fig := turn(fig)) for _ in range(3)]))\n",
                "\n",
                "\n",
                "def trim(fig):\n",
                "    return [r for r in turn([r for r in fig if any(r)]) if any(r)]\n",
                "\n",
                "\n",
                "def turn(fig):\n",
                "    return list(map(list, zip(*fig[::-1])))\n",
                "\n",
                "\n",
                "def inv_pair(fig):\n",
                "    return {to_bin(fig), to_bin(fig[::-1])}\n",
                "\n",
                "\n",
                "def to_bin(fig):\n",
                "    return int(\"\".join(map(str, sum(fig, start=[]))), 2)\n",
                "\n",
                "\n",
                "solution()"
            ]
        },
        {
            "attachments": {},
            "cell_type": "markdown",
            "metadata": {},
            "source": [
                "![2023년 4월 27일 16시 기준 1917번 맞힌 사람 (Python) 44ms로 1위](../img/Screenshot%202023-04-27%20at%2016-20-00%201917%EB%B2%88%20%EB%A7%9E%ED%9E%8C%20%EC%82%AC%EB%9E%8C%20(Python)%20-%201%20%ED%8E%98%EC%9D%B4%EC%A7%80.png)"
            ]
        },
        {
            "cell_type": "markdown",
            "metadata": {},
            "source": [
                "## 해답"
            ]
        },
        {
            "cell_type": "code",
            "execution_count": 54,
            "metadata": {},
            "outputs": [],
            "source": [
                "def get_figures():\n",
                "    import sys\n",
                "\n",
                "    inputs = sys.stdin.read().splitlines()\n",
                "    as_ints = [[int(x) for x in line.split()] for line in inputs]\n",
                "    figures = [as_ints[:6], as_ints[6:12], as_ints[12:]]\n",
                "    return figures"
            ]
        },
        {
            "cell_type": "code",
            "execution_count": 55,
            "metadata": {},
            "outputs": [],
            "source": [
                "\"\"\"\n",
                "[\n",
                "    [[1, 0, 0, 0], [1, 1, 1, 1], [1, 0, 0, 0]],  # \"1000\\n1111\\n1000\",\n",
                "    [[1, 0, 0, 0], [1, 1, 1, 1], [0, 1, 0, 0]],  # \"1000\\n1111\\n0100\",\n",
                "    [[1, 0, 0, 0], [1, 1, 1, 1], [0, 0, 1, 0]],  # \"1000\\n1111\\n0010\",\n",
                "    [[1, 0, 0, 0], [1, 1, 1, 1], [0, 0, 0, 1]],  # \"1000\\n1111\\n0001\",\n",
                "    [[0, 1, 0, 0], [1, 1, 1, 1], [0, 1, 0, 0]],  # \"0100\\n1111\\n0100\",\n",
                "    [[0, 1, 0, 0], [1, 1, 1, 1], [0, 0, 1, 0]],  # \"0100\\n1111\\n0010\",\n",
                "    [[1, 0, 0, 0], [1, 1, 1, 0], [0, 0, 1, 1]],  # \"1000\\n1110\\n0011\",\n",
                "    [[0, 1, 0, 0], [1, 1, 1, 0], [0, 0, 1, 1]],  # \"0100\\n1110\\n0011\",\n",
                "    [[0, 0, 1, 0], [1, 1, 1, 0], [0, 0, 1, 1]],  # \"0010\\n1110\\n0011\",\n",
                "    [[1, 1, 0, 0], [0, 1, 1, 0], [0, 0, 1, 1]],  # \"1100\\n0110\\n0011\",\n",
                "    [[1, 1, 1, 0, 0], [0, 0, 1, 1, 1]],          # \"11100\\n00111\"\n",
                "]\n",
                "\"\"\"\n",
                "figs = {739, 903, 1251, 1266, 1268, 2275, 2289, 2290, 2292, 2296, 3171}"
            ]
        },
        {
            "cell_type": "code",
            "execution_count": 57,
            "metadata": {},
            "outputs": [],
            "source": [
                "def turn(fig):\n",
                "    return list(map(list, zip(*fig[::-1])))\n",
                "    # anti-clockwise: list(zip(*fig))[::-1]"
            ]
        },
        {
            "cell_type": "code",
            "execution_count": 58,
            "metadata": {},
            "outputs": [],
            "source": [
                "def trim(fig):\n",
                "    return [r for r in turn([r for r in fig if any(r)]) if any(r)]"
            ]
        },
        {
            "cell_type": "code",
            "execution_count": 85,
            "metadata": {},
            "outputs": [],
            "source": [
                "def to_bin(fig):\n",
                "    return int(''.join(map(str, sum(fig, start=[]))), 2)"
            ]
        },
        {
            "cell_type": "code",
            "execution_count": 82,
            "metadata": {},
            "outputs": [],
            "source": [
                "def inv_pair(fig):\n",
                "    return {to_bin(fig), to_bin(fig[::-1])}"
            ]
        },
        {
            "cell_type": "code",
            "execution_count": 99,
            "metadata": {},
            "outputs": [],
            "source": [
                "def rotates(fig):\n",
                "    return set().union(*map(inv_pair, [fig] + [(fig := turn(fig)) for _ in range(3)]))"
            ]
        },
        {
            "cell_type": "code",
            "execution_count": 94,
            "metadata": {},
            "outputs": [],
            "source": [
                "def is_figs(rots):\n",
                "    return not figs.isdisjoint(rots)"
            ]
        },
        {
            "cell_type": "code",
            "execution_count": 95,
            "metadata": {},
            "outputs": [],
            "source": [
                "def solve(fig):\n",
                "    return \"yes\" if is_figs(rotates(trim(fig))) else \"no\""
            ]
        },
        {
            "cell_type": "code",
            "execution_count": 96,
            "metadata": {},
            "outputs": [],
            "source": [
                "def solution():\n",
                "    print(*(solve(fig) for fig in get_figures()))"
            ]
        },
        {
            "cell_type": "code",
            "execution_count": 106,
            "metadata": {},
            "outputs": [],
            "source": [
                "import sys\n",
                "\n",
                "standards = {739, 903, 1251, 1266, 1268, 2275, 2289, 2290, 2292, 2296, 3171}\n",
                "\n",
                "\n",
                "def solution():\n",
                "    print(*(solve(fig) for fig in get_figs(get_ints())))\n",
                "\n",
                "\n",
                "def get_figs(ints):\n",
                "    return [ints[:6], ints[6:12], ints[12:]]\n",
                "\n",
                "\n",
                "def get_ints():\n",
                "    return [[int(x) for x in line.split()] for line in sys.stdin.read().splitlines()]\n",
                "\n",
                "\n",
                "def solve(fig):\n",
                "    return \"yes\" if is_figs(rotates(trim(fig))) else \"no\"\n",
                "\n",
                "\n",
                "def is_figs(rots):\n",
                "    return not standards.isdisjoint(rots)\n",
                "\n",
                "\n",
                "def rotates(fig):\n",
                "    return set().union(*map(inv_pair, [fig] + [(fig := turn(fig)) for _ in range(3)]))\n",
                "\n",
                "\n",
                "def trim(fig):\n",
                "    return [r for r in turn([r for r in fig if any(r)]) if any(r)]\n",
                "\n",
                "\n",
                "def turn(fig):\n",
                "    return list(map(list, zip(*fig[::-1])))\n",
                "\n",
                "\n",
                "def inv_pair(fig):\n",
                "    return {to_bin(fig), to_bin(fig[::-1])}\n",
                "\n",
                "\n",
                "def to_bin(fig):\n",
                "    return int(\"\".join(map(str, sum(fig, start=[]))), 2)"
            ]
        },
        {
            "cell_type": "markdown",
            "metadata": {},
            "source": [
                "## 예제"
            ]
        },
        {
            "cell_type": "code",
            "execution_count": 107,
            "metadata": {},
            "outputs": [
                {
                    "name": "stdout",
                    "output_type": "stream",
                    "text": [
                        "The blackcellmagic extension is already loaded. To reload it, use:\n",
                        "  %reload_ext blackcellmagic\n"
                    ]
                }
            ],
            "source": [
                "# black 모듈을 jupyter notebook 내에서 사용 가능하게 만들어주는 blackcellmagic 모듈 불러오기\n",
                "%load_ext blackcellmagic\n",
                "# %%black\n",
                "\n",
                "# 백준 문제 풀이용 예제 실행 코드\n",
                "from bwj import test\n",
                "test_solution = test(solution)\n",
                "\n",
                "# test_solution(\"\"\"\"\"\")\n",
                "# test_solution(read(\"fn\").read())"
            ]
        },
        {
            "cell_type": "code",
            "execution_count": 108,
            "metadata": {},
            "outputs": [
                {
                    "name": "stdout",
                    "output_type": "stream",
                    "text": [
                        "yes yes no\n"
                    ]
                }
            ],
            "source": [
                "test_solution(\"\"\"0 0 0 0 0 0\n",
                "0 0 0 0 0 0\n",
                "0 0 1 0 0 0\n",
                "0 1 1 1 1 0\n",
                "0 0 1 0 0 0\n",
                "0 0 0 0 0 0\n",
                "0 1 1 0 0 0\n",
                "0 1 0 0 0 0\n",
                "0 1 0 0 0 0\n",
                "1 1 0 0 0 0\n",
                "0 0 0 0 0 0\n",
                "0 0 0 0 0 0\n",
                "0 0 0 0 0 0\n",
                "0 0 0 1 1 0\n",
                "0 0 1 1 0 0\n",
                "0 0 0 1 1 0\n",
                "0 0 0 0 0 0\n",
                "0 0 0 0 0 0\"\"\")\n",
                "# answer:\n",
                "# yes\n",
                "# yes\n",
                "# no"
            ]
        }
    ],
    "metadata": {
        "interpreter": {
            "hash": "73891b0dc2e53390f36276e59930dd4ecab91b05b5c90320c2d5b1c443f87069"
        },
        "kernelspec": {
            "display_name": "Python 3.10.1 ('venv': venv)",
            "language": "python",
            "name": "python3"
        },
        "language_info": {
            "codemirror_mode": {
                "name": "ipython",
                "version": 3
            },
            "file_extension": ".py",
            "mimetype": "text/x-python",
            "name": "python",
            "nbconvert_exporter": "python",
            "pygments_lexer": "ipython3",
            "version": "3.11.2"
        },
        "orig_nbformat": 4
    },
    "nbformat": 4,
    "nbformat_minor": 2
}
