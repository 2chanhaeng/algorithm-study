{
    "cells": [
        {
            "cell_type": "markdown",
            "metadata": {},
            "source": [
                "# [백준/축사 배정](https://www.acmicpc.net/problem/2188)\n"
            ]
        },
        {
            "cell_type": "markdown",
            "metadata": {},
            "source": [
                "## 풀이과정\n"
            ]
        },
        {
            "cell_type": "markdown",
            "metadata": {},
            "source": [
                "### 첫번째 시도\n"
            ]
        },
        {
            "cell_type": "markdown",
            "metadata": {},
            "source": [
                "#### 풀이과정\n",
                "[30986번 문제](https://www.acmicpc.net/problem/30986)를 풀기 위해 이분 매칭 알고리즘을 검색해서 나온 [서녁님의 글](https://velog.io/@ashooozzz/Python-%EC%9D%B4%EB%B6%84-%EB%A7%A4%EC%B9%ADfeat.-DFS)에서 이 문제가 나왔다. 원래 풀려던 문제를 풀기 전 이분 매칭 알고리즘을 알아보기 위해 이 문제를 풀어봤다. 부작용을 최소화하는 방법으로 문제를 풀고 싶어서 업데이트할 딕셔너리를 구하는 함수를 만들어 적용해봤지만 구하는 과정 따로, 업데이트 과정 따로 하다보니 효율이 많이 떨어져 시간 초과가 나왔다."
            ]
        },
        {
            "cell_type": "code",
            "execution_count": null,
            "metadata": {},
            "outputs": [],
            "source": [
                "def find(lines: tuple[tuple[int, ...], ...], graph: dict[int, int]):\n",
                "    def inner(cow: int, updates: dict[int, int]):\n",
                "        for room in lines[cow]:\n",
                "            if room in updates:\n",
                "                continue\n",
                "            updates[room] = cow\n",
                "            prev = graph.get(room)\n",
                "            if prev is None:\n",
                "                return updates\n",
                "            result = inner(prev, updates)\n",
                "            if result is not None:\n",
                "                return result\n",
                "            updates.pop(room)\n",
                "        return None\n",
                "\n",
                "    return inner\n",
                "\n",
                "\n",
                "def solution():\n",
                "    import sys\n",
                "\n",
                "    n, _ = map(int, sys.stdin.readline().split())\n",
                "    lines = tuple(\n",
                "        tuple(int(r) - 1 for r in line.split()[1:])\n",
                "        for line in sys.stdin.read().split(\"\\n\")\n",
                "    )\n",
                "    graph: dict[int, int] = {}\n",
                "    find_updates = find(lines, graph)\n",
                "    for cow in range(n):\n",
                "        updates = find_updates(cow, {})\n",
                "        if updates is not None:\n",
                "            graph.update(updates)\n",
                "    print(len(graph))\n",
                "\n",
                "\n",
                "solution()"
            ]
        },
        {
            "cell_type": "markdown",
            "metadata": {},
            "source": [
                "### 두번째 시도\n"
            ]
        },
        {
            "cell_type": "markdown",
            "metadata": {},
            "source": [
                "#### 풀이과정\n",
                "상기한 글에서 제시된 풀이를 읽어보고 내가 기존에 작성한 코드에 맞춰 적용했더니 문제를 해결할 수 있었다. 호율을 위해 약간의 부작용을 이용했다."
            ]
        },
        {
            "cell_type": "code",
            "execution_count": null,
            "metadata": {},
            "outputs": [],
            "source": [
                "def find(lines: list[list[int]], graph: list[int]):\n",
                "    def inner(cow: int, visited: set[int]):\n",
                "        if cow in visited:\n",
                "            return False\n",
                "        visited.add(cow)\n",
                "\n",
                "        for num in lines[cow]:\n",
                "            if graph[num] == -1 or inner(graph[num], visited):\n",
                "                graph[num] = cow\n",
                "                return True\n",
                "\n",
                "        return False\n",
                "\n",
                "    return inner\n",
                "\n",
                "\n",
                "def solution():\n",
                "    import sys\n",
                "\n",
                "    n, m = map(int, sys.stdin.readline().split())\n",
                "    lines = [[int(r) - 1 for r in line.split()[1:]] for line in sys.stdin.read().split(\"\\n\")]\n",
                "    graph: list[int] = [-1] * m\n",
                "    find_updates = find(lines, graph)\n",
                "    for cow in range(n):\n",
                "        find_updates(cow, set())\n",
                "    print(sum(1 for i in graph if i != -1))\n",
                "\n",
                "\n",
                "solution()"
            ]
        },
        {
            "cell_type": "markdown",
            "metadata": {},
            "source": [
                "## 해답\n"
            ]
        },
        {
            "cell_type": "code",
            "execution_count": 1,
            "metadata": {},
            "outputs": [],
            "source": [
                "def find(lines: list[list[int]], graph: list[int]):\n",
                "    def inner(cow: int, visited: set[int]):\n",
                "        if cow in visited:\n",
                "            return False\n",
                "        visited.add(cow)\n",
                "\n",
                "        for num in lines[cow]:\n",
                "            if graph[num] == -1 or inner(graph[num], visited):\n",
                "                graph[num] = cow\n",
                "                return True\n",
                "\n",
                "        return False\n",
                "\n",
                "    return inner"
            ]
        },
        {
            "cell_type": "code",
            "execution_count": 2,
            "metadata": {},
            "outputs": [],
            "source": [
                "def solution():\n",
                "    import sys\n",
                "\n",
                "    n, m = map(int, sys.stdin.readline().split())\n",
                "    lines = [[int(r) - 1 for r in line.split()[1:]] for line in sys.stdin.read().split(\"\\n\")]\n",
                "    graph: list[int] = [-1] * m\n",
                "    find_updates = find(lines, graph)\n",
                "    for cow in range(n):\n",
                "        find_updates(cow, set())\n",
                "    print(sum(1 for i in graph if i != -1))"
            ]
        },
        {
            "cell_type": "markdown",
            "metadata": {},
            "source": [
                "## 예제\n"
            ]
        },
        {
            "cell_type": "code",
            "execution_count": 3,
            "metadata": {},
            "outputs": [],
            "source": [
                "# 백준 문제 풀이용 예제 실행 코드\n",
                "from bwj import test\n",
                "\n",
                "test_solution = test(solution)\n",
                "\n",
                "# test_solution(\"\"\"\"\"\")\n",
                "# test_solution(read(\"fn\").read())"
            ]
        },
        {
            "cell_type": "code",
            "execution_count": 4,
            "metadata": {},
            "outputs": [
                {
                    "name": "stdout",
                    "output_type": "stream",
                    "text": [
                        "4\n"
                    ]
                }
            ],
            "source": [
                "test_solution(\n",
                "    \"\"\"5 5\n",
                "2 2 5\n",
                "3 2 3 4\n",
                "2 1 5\n",
                "3 1 2 5\n",
                "1 2\n",
                "\"\"\"\n",
                ")  # 4"
            ]
        }
    ],
    "metadata": {
        "interpreter": {
            "hash": "73891b0dc2e53390f36276e59930dd4ecab91b05b5c90320c2d5b1c443f87069"
        },
        "kernelspec": {
            "display_name": "Python 3.10.1 ('venv': venv)",
            "language": "python",
            "name": "python3"
        },
        "language_info": {
            "codemirror_mode": {
                "name": "ipython",
                "version": 3
            },
            "file_extension": ".py",
            "mimetype": "text/x-python",
            "name": "python",
            "nbconvert_exporter": "python",
            "pygments_lexer": "ipython3",
            "version": "3.12.4"
        },
        "orig_nbformat": 4
    },
    "nbformat": 4,
    "nbformat_minor": 2
}
