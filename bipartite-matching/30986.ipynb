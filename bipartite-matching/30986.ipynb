{
    "cells": [
        {
            "cell_type": "markdown",
            "metadata": {},
            "source": [
                "# [백준/파댕이의 예술작품](https://www.acmicpc.net/problem/30986)\n"
            ]
        },
        {
            "cell_type": "markdown",
            "metadata": {},
            "source": [
                "## 풀이과정\n"
            ]
        },
        {
            "cell_type": "markdown",
            "metadata": {},
            "source": [
                "### 첫번째 시도\n",
                "\n",
                "먼저 주어진 조건을 이용해 정십육다포체의 face 간 연결 관계를 구했다. 이 부분은 고정된 부분이기 때문에 미리 구한 뒤 이를 문자열로 압축했다. 먼저 연결 관계를 비트로 변환한다. 총 16개의 faces 가 있기 때문에 16비트가 나오므로 이를 `chr`를 이용해 유니코드를 이용한 문자열로 압축했다. 이 후 런타임에서 다시 디코딩해 사용하도록 만들었다. 그리고 그 중 입력으로 주어지는 값들을 제외한 뒤 [2188번 풀이](./2188.ipynb)를 응용해 이분 매칭으로 풀었다."
            ]
        },
        {
            "cell_type": "markdown",
            "metadata": {},
            "source": [
                "#### 풀이과정\n"
            ]
        },
        {
            "cell_type": "code",
            "execution_count": null,
            "metadata": {},
            "outputs": [],
            "source": [
                "LEFT = {0, 5, 6, 7, 8, 9, 10, 15}\n",
                "BITS = \"砀蜀蓀芠腠怘倔䠌〒⠊᠆ځՁ̡á\\x1e\"\n",
                "\n",
                "\n",
                "def find(lines: dict[int, list[int]], graph: dict[int, int]):\n",
                "    def inner(face: int, visited: set[int]):\n",
                "        if face in visited:\n",
                "            return False\n",
                "        visited.add(face)\n",
                "\n",
                "        for num in lines[face]:\n",
                "            if graph[num] == -1 or inner(graph[num], visited):\n",
                "                graph[num] = face\n",
                "                return True\n",
                "\n",
                "        return False\n",
                "\n",
                "    return inner\n",
                "\n",
                "\n",
                "def get_lines(banned):\n",
                "    return {i: [j for j, b in enumerate(f\"{ord(c):0>16b}\") if (b == \"1\" and (i, j) not in banned)] for i, c in enumerate(BITS) if i in LEFT}\n",
                "\n",
                "\n",
                "def get_banned() -> set[tuple[int, int]]:\n",
                "    import sys\n",
                "\n",
                "    n = int(sys.stdin.readline())\n",
                "    if n == 0:\n",
                "        return set()\n",
                "    return {ab if (ab := tuple(int(r) - 1 for r in line.split()))[0] in LEFT else ab[::-1] for line in sys.stdin.read().strip().split(\"\\n\")}\n",
                "\n",
                "\n",
                "def solution():\n",
                "    lines = get_lines(get_banned())\n",
                "    graph: dict[int, int] = {i: -1 for i in range(16) if i not in LEFT}\n",
                "    find_updates = find(lines, graph)\n",
                "    for face in LEFT:\n",
                "        find_updates(face, set())\n",
                "    print(16 - sum(1 for i in graph.values() if i != -1))\n",
                "\n",
                "\n",
                "solution()"
            ]
        },
        {
            "cell_type": "markdown",
            "metadata": {},
            "source": [
                "![2024-09-02 19-10-54 30986번 맞힌 사람 (Python) 1위](../img/Screenshot%202024-09-02%20at%2019-10-54%2030986번%20맞힌%20사람%20(Python)%20-%201%20페이지.png)"
            ]
        },
        {
            "cell_type": "markdown",
            "metadata": {},
            "source": [
                "## 해답\n"
            ]
        },
        {
            "cell_type": "code",
            "execution_count": 1,
            "metadata": {},
            "outputs": [
                {
                    "name": "stdout",
                    "output_type": "stream",
                    "text": [
                        "0 [1, 2, 3, 4]\n",
                        "1 [0, 5, 6, 7]\n",
                        "2 [0, 5, 8, 9]\n",
                        "3 [0, 6, 8, 10]\n",
                        "4 [0, 7, 9, 10]\n",
                        "5 [1, 2, 11, 12]\n",
                        "6 [1, 3, 11, 13]\n",
                        "7 [1, 4, 12, 13]\n",
                        "8 [2, 3, 11, 14]\n",
                        "9 [2, 4, 12, 14]\n",
                        "10 [3, 4, 13, 14]\n",
                        "11 [5, 6, 8, 15]\n",
                        "12 [5, 7, 9, 15]\n",
                        "13 [6, 7, 10, 15]\n",
                        "14 [8, 9, 10, 15]\n",
                        "15 [11, 12, 13, 14]\n"
                    ]
                }
            ],
            "source": [
                "lines = [\n",
                "    *[(0, i) for i in range(1, 5)],\n",
                "    *[(1, i) for i in range(5, 8)],\n",
                "    *[(2, 5), (2, 8), (2, 9), (3, 6), (3, 8)],\n",
                "    *[(2, 9), (3, 10), (4, 7), (4, 9), (4, 10)],\n",
                "]\n",
                "graph: list[set[int]] = [set() for _ in range(16)]\n",
                "for a, b in lines:\n",
                "    graph[a].add(b)\n",
                "    graph[b].add(a)\n",
                "    graph[15 - a].add(15 - b)\n",
                "    graph[15 - b].add(15 - a)\n",
                "for i in range(16):\n",
                "    print(i, sorted(graph[i]))"
            ]
        },
        {
            "cell_type": "code",
            "execution_count": 2,
            "metadata": {},
            "outputs": [
                {
                    "name": "stdout",
                    "output_type": "stream",
                    "text": [
                        "{0, 5, 6, 7, 8, 9, 10, 15} {1, 2, 3, 4, 11, 12, 13, 14}\n"
                    ]
                }
            ],
            "source": [
                "left, right = set(), set()\n",
                "left.add(0)\n",
                "for i in range(16):\n",
                "    if i in left:\n",
                "        right |= graph[i]\n",
                "    if i in right:\n",
                "        left |= graph[i]\n",
                "print(left, right)"
            ]
        },
        {
            "cell_type": "code",
            "execution_count": 3,
            "metadata": {},
            "outputs": [
                {
                    "data": {
                        "text/plain": [
                            "'砀蜀蓀芠腠怘倔䠌〒⠊᠆ځՁ̡á\\x1e'"
                        ]
                    },
                    "execution_count": 3,
                    "metadata": {},
                    "output_type": "execute_result"
                }
            ],
            "source": [
                "BITS = \"\".join(\n",
                "    chr(int(\"\".join(\"1\" if face in faces else \"0\" for face in range(16)), 2))\n",
                "    for faces in graph\n",
                ")\n",
                "BITS"
            ]
        },
        {
            "cell_type": "code",
            "execution_count": 4,
            "metadata": {},
            "outputs": [],
            "source": [
                "LEFT = {0, 5, 6, 7, 8, 9, 10, 15}\n",
                "BITS = \"砀怘倔䠌〒⠊᠆ځՁ̡á\\x1e\""
            ]
        },
        {
            "cell_type": "code",
            "execution_count": 5,
            "metadata": {},
            "outputs": [],
            "source": [
                "def find(lines: dict[int, list[int]], graph: dict[int, int]):\n",
                "    def inner(face: int, visited: set[int]):\n",
                "        if face in visited:\n",
                "            return False\n",
                "        visited.add(face)\n",
                "\n",
                "        for num in lines[face]:\n",
                "            if graph[num] == -1 or inner(graph[num], visited):\n",
                "                graph[num] = face\n",
                "                return True\n",
                "\n",
                "        return False\n",
                "\n",
                "    return inner"
            ]
        },
        {
            "cell_type": "code",
            "execution_count": 6,
            "metadata": {},
            "outputs": [],
            "source": [
                "def get_lines(banned):\n",
                "    return {i: [j for j, b in enumerate(f\"{ord(c):0>16b}\") if (b == \"1\" and (i, j) not in banned)] for i, c in enumerate(BITS) if i in LEFT}"
            ]
        },
        {
            "cell_type": "code",
            "execution_count": 7,
            "metadata": {},
            "outputs": [],
            "source": [
                "def get_banned() -> set[tuple[int, int]]:\n",
                "    import sys\n",
                "\n",
                "    n = int(sys.stdin.readline())\n",
                "    if n == 0:\n",
                "        return set()\n",
                "    return {ab if (ab := tuple(int(r) - 1 for r in line.split()))[0] in LEFT else ab[::-1] for line in sys.stdin.read().strip().split(\"\\n\")}"
            ]
        },
        {
            "cell_type": "code",
            "execution_count": 8,
            "metadata": {},
            "outputs": [],
            "source": [
                "def solution():\n",
                "    lines = get_lines(get_banned())\n",
                "    graph: dict[int, int] = {i: -1 for i in range(16) if i not in LEFT}\n",
                "    find_updates = find(lines, graph)\n",
                "    for face in LEFT:\n",
                "        find_updates(face, set())\n",
                "    print(16 - sum(1 for i in graph.values() if i != -1))"
            ]
        },
        {
            "cell_type": "markdown",
            "metadata": {},
            "source": [
                "## 예제\n"
            ]
        },
        {
            "cell_type": "code",
            "execution_count": 9,
            "metadata": {},
            "outputs": [],
            "source": [
                "# 백준 문제 풀이용 예제 실행 코드\n",
                "from bwj import test\n",
                "\n",
                "test_solution = test(solution)\n",
                "\n",
                "# test_solution(\"\"\"\"\"\")\n",
                "# test_solution(read(\"fn\").read())"
            ]
        },
        {
            "cell_type": "code",
            "execution_count": 10,
            "metadata": {},
            "outputs": [
                {
                    "name": "stdout",
                    "output_type": "stream",
                    "text": [
                        "8\n"
                    ]
                }
            ],
            "source": [
                "test_solution(\n",
                "    \"\"\"0\n",
                "\"\"\"\n",
                ")  # 8"
            ]
        },
        {
            "cell_type": "code",
            "execution_count": 11,
            "metadata": {},
            "outputs": [
                {
                    "name": "stdout",
                    "output_type": "stream",
                    "text": [
                        "9\n"
                    ]
                }
            ],
            "source": [
                "test_solution(\n",
                "    \"\"\"4\n",
                "1 2\n",
                "1 3\n",
                "1 4\n",
                "1 5\n",
                "\"\"\"\n",
                ")  # 9"
            ]
        }
    ],
    "metadata": {
        "interpreter": {
            "hash": "73891b0dc2e53390f36276e59930dd4ecab91b05b5c90320c2d5b1c443f87069"
        },
        "kernelspec": {
            "display_name": "Python 3.10.1 ('venv': venv)",
            "language": "python",
            "name": "python3"
        },
        "language_info": {
            "codemirror_mode": {
                "name": "ipython",
                "version": 3
            },
            "file_extension": ".py",
            "mimetype": "text/x-python",
            "name": "python",
            "nbconvert_exporter": "python",
            "pygments_lexer": "ipython3",
            "version": "3.12.4"
        },
        "orig_nbformat": 4
    },
    "nbformat": 4,
    "nbformat_minor": 2
}
