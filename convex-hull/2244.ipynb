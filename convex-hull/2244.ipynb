{
    "cells": [
        {
            "cell_type": "markdown",
            "metadata": {},
            "source": [
                "# [백준/민코프스키 합](https://www.acmicpc.net/problem/2244)\n"
            ]
        },
        {
            "cell_type": "markdown",
            "metadata": {},
            "source": [
                "## 풀이과정\n"
            ]
        },
        {
            "cell_type": "markdown",
            "metadata": {},
            "source": [
                "### 첫번째 시도\n"
            ]
        },
        {
            "cell_type": "markdown",
            "metadata": {},
            "source": [
                "#### 풀이과정\n"
            ]
        },
        {
            "cell_type": "code",
            "execution_count": null,
            "metadata": {},
            "outputs": [],
            "source": [
                "from cmath import phase, tau\n",
                "from itertools import accumulate\n",
                "from typing import Callable, Iterator\n",
                "\n",
                "\n",
                "def theta(x):\n",
                "    return phase(x) + tau if phase(x) < 0 else phase(x)\n",
                "\n",
                "\n",
                "def diffs(points: list[complex]):\n",
                "    return [c - p for c, p in zip(points[1:], points)] + [points[0] - points[-1]]\n",
                "\n",
                "\n",
                "def get_points(inputs: Iterator[int], n: int) -> list[complex]:\n",
                "    result: list[complex] = []\n",
                "    min = tau\n",
                "    min_index = -1\n",
                "    result.append(complex(next(inputs), next(inputs)))\n",
                "    for i in range(1, n):\n",
                "        result.append(complex(next(inputs), next(inputs)))\n",
                "        diff = theta(result[-1] - result[-2])\n",
                "        if diff < min:\n",
                "            min = diff\n",
                "            min_index = i - 1\n",
                "    if theta(result[0] - result[-1]) < min:\n",
                "        min_index = 0 - 1\n",
                "    return result[min_index:] + result[:min_index]\n",
                "\n",
                "\n",
                "def merge_sort(a: list[complex], b: list[complex], key: Callable[[complex], float]):\n",
                "    n, m = len(a), len(b)\n",
                "    i = j = 0\n",
                "    while i < n and j < m:\n",
                "        if key(a[i]) < key(b[j]):\n",
                "            yield a[i]\n",
                "            i += 1\n",
                "        else:\n",
                "            yield b[j]\n",
                "            j += 1\n",
                "    if i < n:\n",
                "        yield from a[i:]\n",
                "    else:\n",
                "        yield from b[j:]\n",
                "\n",
                "\n",
                "def sum_if_same_theta(points: Iterator[complex]):\n",
                "    result = [next(points)]\n",
                "    for p in points:\n",
                "        if theta(result[-1]) == theta(p):\n",
                "            result[-1] += p\n",
                "        else:\n",
                "            result.append(p)\n",
                "    return result\n",
                "\n",
                "\n",
                "def add_vectors(vectors: list[complex], init: complex):\n",
                "    points = []\n",
                "    min = init\n",
                "    min_index = 0\n",
                "    for i, p in enumerate(accumulate(vectors, initial=init)):\n",
                "        points.append(p)\n",
                "        if p.real < min.real or (p.real == min.real and p.imag < min.imag):\n",
                "            min = p\n",
                "            min_index = i\n",
                "    return points[min_index:-1] + points[:min_index]\n",
                "\n",
                "\n",
                "def stringify_complex(point: complex):\n",
                "    return f\"{int(point.real)} {int(point.imag)}\"\n",
                "\n",
                "\n",
                "def solution():\n",
                "    import sys\n",
                "\n",
                "    inputs = map(int, sys.stdin.read().split())\n",
                "    n, m = next(inputs), next(inputs)\n",
                "    a, b = get_points(inputs, n), get_points(inputs, m)\n",
                "    vectors = sum_if_same_theta(merge_sort(diffs(a), diffs(b), key=theta))\n",
                "    result = add_vectors(vectors, a[0] + b[0])\n",
                "    print(f\"{len(result)}\\n\" + \"\\n\".join(map(stringify_complex, result)))\n",
                "\n",
                "\n",
                "solution()"
            ]
        },
        {
            "cell_type": "markdown",
            "metadata": {},
            "source": [
                "## 해답\n"
            ]
        },
        {
            "cell_type": "code",
            "execution_count": 1,
            "metadata": {},
            "outputs": [],
            "source": [
                "from cmath import phase, tau\n",
                "from itertools import accumulate\n",
                "from typing import Callable, Iterator"
            ]
        },
        {
            "cell_type": "code",
            "execution_count": 2,
            "metadata": {},
            "outputs": [],
            "source": [
                "def theta(x):\n",
                "    return phase(x) + tau if phase(x) < 0 else phase(x)"
            ]
        },
        {
            "cell_type": "code",
            "execution_count": 3,
            "metadata": {},
            "outputs": [],
            "source": [
                "def diffs(points: list[complex]):\n",
                "    return [c - p for c, p in zip(points[1:], points)] + [points[0] - points[-1]]"
            ]
        },
        {
            "cell_type": "code",
            "execution_count": 4,
            "metadata": {},
            "outputs": [],
            "source": [
                "def get_points(inputs: Iterator[int], n: int) -> list[complex]:\n",
                "    result: list[complex] = []\n",
                "    min = tau\n",
                "    min_index = -1\n",
                "    result.append(complex(next(inputs), next(inputs)))\n",
                "    for i in range(1, n):\n",
                "        result.append(complex(next(inputs), next(inputs)))\n",
                "        diff = theta(result[-1] - result[-2])\n",
                "        if diff < min:\n",
                "            min = diff\n",
                "            min_index = i - 1\n",
                "    if theta(result[0] - result[-1]) < min:\n",
                "        min_index = 0 - 1\n",
                "    return result[min_index:] + result[:min_index]"
            ]
        },
        {
            "cell_type": "code",
            "execution_count": 5,
            "metadata": {},
            "outputs": [],
            "source": [
                "def merge_sort(a: list[complex], b: list[complex], key: Callable[[complex], float]):\n",
                "    n, m = len(a), len(b)\n",
                "    i = j = 0\n",
                "    while i < n and j < m:\n",
                "        if key(a[i]) < key(b[j]):\n",
                "            yield a[i]\n",
                "            i += 1\n",
                "        else:\n",
                "            yield b[j]\n",
                "            j += 1\n",
                "    if i < n:\n",
                "        yield from a[i:]\n",
                "    else:\n",
                "        yield from b[j:]"
            ]
        },
        {
            "cell_type": "code",
            "execution_count": 6,
            "metadata": {},
            "outputs": [],
            "source": [
                "def sum_if_same_theta(points: Iterator[complex]):\n",
                "    result = [next(points)]\n",
                "    for p in points:\n",
                "        if theta(result[-1]) == theta(p):\n",
                "            result[-1] += p\n",
                "        else:\n",
                "            result.append(p)\n",
                "    return result"
            ]
        },
        {
            "cell_type": "code",
            "execution_count": 7,
            "metadata": {},
            "outputs": [],
            "source": [
                "def add_vectors(vectors: list[complex], init: complex):\n",
                "    points = []\n",
                "    min = init\n",
                "    min_index = 0\n",
                "    for i, p in enumerate(accumulate(vectors, initial=init)):\n",
                "        points.append(p)\n",
                "        if p.real < min.real or (p.real == min.real and p.imag < min.imag):\n",
                "            min = p\n",
                "            min_index = i\n",
                "    return points[min_index:-1] + points[:min_index]"
            ]
        },
        {
            "cell_type": "code",
            "execution_count": 8,
            "metadata": {},
            "outputs": [],
            "source": [
                "def stringify_complex(point: complex):\n",
                "    return f\"{int(point.real)} {int(point.imag)}\""
            ]
        },
        {
            "cell_type": "code",
            "execution_count": 9,
            "metadata": {},
            "outputs": [],
            "source": [
                "def solution():\n",
                "    import sys\n",
                "\n",
                "    inputs = map(int, sys.stdin.read().split())\n",
                "    n, m = next(inputs), next(inputs)\n",
                "    a, b = get_points(inputs, n), get_points(inputs, m)\n",
                "    vectors = sum_if_same_theta(merge_sort(diffs(a), diffs(b), key=theta))\n",
                "    result = add_vectors(vectors, a[0] + b[0])\n",
                "    print(f\"{len(result)}\\n\" + \"\\n\".join(map(stringify_complex, result)))"
            ]
        },
        {
            "cell_type": "markdown",
            "metadata": {},
            "source": [
                "## 예제\n"
            ]
        },
        {
            "cell_type": "code",
            "execution_count": 10,
            "metadata": {},
            "outputs": [],
            "source": [
                "# 백준 문제 풀이용 예제 실행 코드\n",
                "from bwj import test\n",
                "\n",
                "test_solution = test(solution)\n",
                "\n",
                "# test_solution(\"\"\"\"\"\")\n",
                "# test_solution(read(\"fn\").read())"
            ]
        },
        {
            "cell_type": "code",
            "execution_count": 11,
            "metadata": {},
            "outputs": [
                {
                    "name": "stdout",
                    "output_type": "stream",
                    "text": [
                        "8\n",
                        "-4 0\n",
                        "0 -2\n",
                        "3 -3\n",
                        "4 0\n",
                        "3 3\n",
                        "0 4\n",
                        "-2 0\n",
                        "-3 3\n"
                    ]
                }
            ],
            "source": [
                "test_solution(\n",
                "    \"\"\"4 4\n",
                "-1 2\n",
                "-2 -1\n",
                "1 -2\n",
                "2 1\n",
                "2 -1\n",
                "1 2\n",
                "-1 -2\n",
                "-2 1\n",
                "\"\"\"\n",
                ")\n",
                "# answers:\n",
                "# 8\n",
                "# -4 0\n",
                "# 0 -2\n",
                "# 3 -3\n",
                "# 4 0\n",
                "# 3 3\n",
                "# 0 4\n",
                "# -2 0\n",
                "# -3 3"
            ]
        },
        {
            "cell_type": "code",
            "execution_count": 12,
            "metadata": {},
            "outputs": [
                {
                    "name": "stdout",
                    "output_type": "stream",
                    "text": [
                        "8\n",
                        "0 4\n",
                        "1 1\n",
                        "4 0\n",
                        "7 1\n",
                        "8 4\n",
                        "7 7\n",
                        "4 8\n",
                        "1 7\n"
                    ]
                }
            ],
            "source": [
                "test_solution(\n",
                "    \"\"\"4 4\n",
                "3 0\n",
                "4 3\n",
                "1 4\n",
                "0 1\n",
                "1 0\n",
                "4 1\n",
                "3 4\n",
                "0 3\n",
                "\"\"\"\n",
                ")\n",
                "# answers:\n",
                "# 8\n",
                "# 0 4\n",
                "# 1 1\n",
                "# 4 0\n",
                "# 7 1\n",
                "# 8 4\n",
                "# 7 7\n",
                "# 4 8\n",
                "# 1 7"
            ]
        },
        {
            "cell_type": "code",
            "execution_count": 13,
            "metadata": {},
            "outputs": [
                {
                    "name": "stdout",
                    "output_type": "stream",
                    "text": [
                        "8\n",
                        "0 3\n",
                        "1 1\n",
                        "3 0\n",
                        "5 1\n",
                        "6 3\n",
                        "5 5\n",
                        "3 6\n",
                        "1 5\n"
                    ]
                }
            ],
            "source": [
                "test_solution(\n",
                "    \"\"\"4 4\n",
                "2 0\n",
                "3 2\n",
                "1 3\n",
                "0 1\n",
                "1 0\n",
                "3 1\n",
                "2 3\n",
                "0 2\n",
                "\"\"\"\n",
                ")\n",
                "# answers:\n",
                "# 8\n",
                "# 0 3\n",
                "# 1 1\n",
                "# 3 0\n",
                "# 5 1\n",
                "# 6 3\n",
                "# 5 5\n",
                "# 3 6\n",
                "# 1 5"
            ]
        },
        {
            "cell_type": "code",
            "execution_count": 14,
            "metadata": {},
            "outputs": [
                {
                    "name": "stdout",
                    "output_type": "stream",
                    "text": [
                        "5\n",
                        "0 0\n",
                        "2 0\n",
                        "2 1\n",
                        "1 2\n",
                        "0 1\n"
                    ]
                }
            ],
            "source": [
                "test_solution(\n",
                "    \"\"\"3 3\n",
                "1 1\n",
                "0 0\n",
                "1 0\n",
                "1 0\n",
                "0 1\n",
                "0 0\n",
                "\"\"\"\n",
                ")"
            ]
        },
        {
            "cell_type": "code",
            "execution_count": 15,
            "metadata": {},
            "outputs": [
                {
                    "name": "stdout",
                    "output_type": "stream",
                    "text": [
                        "5\n",
                        "0 0\n",
                        "2 0\n",
                        "2 1\n",
                        "1 2\n",
                        "0 1\n"
                    ]
                }
            ],
            "source": [
                "test_solution(\n",
                "    \"\"\"3 3\n",
                "0 0\n",
                "1 0\n",
                "1 1\n",
                "0 1\n",
                "0 0\n",
                "1 0\n",
                "\"\"\"\n",
                ")\n",
                "# answer:\n",
                "# 5\n",
                "# 0 0\n",
                "# 2 0\n",
                "# 2 1\n",
                "# 1 2\n",
                "# 0 1"
            ]
        }
    ],
    "metadata": {
        "interpreter": {
            "hash": "73891b0dc2e53390f36276e59930dd4ecab91b05b5c90320c2d5b1c443f87069"
        },
        "kernelspec": {
            "display_name": "Python 3.10.1 ('venv': venv)",
            "language": "python",
            "name": "python3"
        },
        "language_info": {
            "codemirror_mode": {
                "name": "ipython",
                "version": 3
            },
            "file_extension": ".py",
            "mimetype": "text/x-python",
            "name": "python",
            "nbconvert_exporter": "python",
            "pygments_lexer": "ipython3",
            "version": "3.12.4"
        },
        "orig_nbformat": 4
    },
    "nbformat": 4,
    "nbformat_minor": 2
}
