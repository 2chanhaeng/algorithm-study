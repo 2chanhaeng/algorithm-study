{
    "cells": [
        {
            "cell_type": "markdown",
            "metadata": {},
            "source": [
                "# [백준/볼록 껍질](https://www.acmicpc.net/problem/1708)\n"
            ]
        },
        {
            "cell_type": "markdown",
            "metadata": {},
            "source": [
                "## 풀이과정\n"
            ]
        },
        {
            "cell_type": "markdown",
            "metadata": {},
            "source": [
                "### 첫번째 시도\n"
            ]
        },
        {
            "cell_type": "markdown",
            "metadata": {},
            "source": [
                "#### 풀이과정\n",
                "\n",
                "[앤드류 알고리즘](https://en.wikibooks.org/wiki/Algorithm_Implementation/Geometry/Convex_hull/Monotone_chain)을 이용해 풀었다.\n",
                "처음 검색했을 때는 [그레이엄 스캔](https://ko.wikipedia.org/wiki/%EA%B7%B8%EB%A0%88%EC%9D%B4%EC%97%84_%EC%8A%A4%EC%BA%94)인 줄 알았는데 풀고 나서 찾아보니 내가 푼 방식은 그레이엄 알고리즘을 변형한 앤드류 알고리즘이었다.\n",
                "그레이엄 알고리즘은 최좌하단 점을 기준으로 각도를 계산해 정렬하는 방식이고, 앤드류 알고리즘은 각도 대신 좌표만을 이용해 상하단 볼록껍질을 각각 구한 뒤 합하는 방식이다.\n",
                "볼록껍질에서 가장 마지막 두 점이 다음 점과 시계방향을 이루면 그 점을 제거하는 방식으로 볼록껍질을 구한다.\n",
                "이 때 방향은 외적을 이용해 판단했다.\n"
            ]
        },
        {
            "cell_type": "code",
            "execution_count": null,
            "metadata": {},
            "outputs": [],
            "source": [
                "Point = tuple[int, int]\n",
                "Points = list[Point]\n",
                "\n",
                "\n",
                "def cross(a: Point, b: Point, c: Point) -> int:\n",
                "    return (b[0] - a[0]) * (c[1] - a[1]) - (b[1] - a[1]) * (c[0] - a[0])\n",
                "\n",
                "\n",
                "def hull(points: Points) -> Points:\n",
                "    hull = []\n",
                "    for p in points:\n",
                "        while len(hull) >= 2 and cross(hull[-2], hull[-1], p) <= 0:\n",
                "            hull.pop()\n",
                "        hull.append(p)\n",
                "    return hull\n",
                "\n",
                "\n",
                "def solution():\n",
                "    import sys\n",
                "\n",
                "    _ = sys.stdin.readline()\n",
                "    points = sorted(tuple(map(int, line.split())) for line in sys.stdin)\n",
                "    print(len(hull(points)) + len(hull(points[::-1])) - 2)\n",
                "\n",
                "\n",
                "solution()"
            ]
        },
        {
            "cell_type": "markdown",
            "metadata": {},
            "source": [
                "### 두번째 시도\n"
            ]
        },
        {
            "cell_type": "markdown",
            "metadata": {},
            "source": [
                "#### 풀이과정\n",
                "\n",
                "[앤드류 알고리즘](https://en.wikibooks.org/wiki/Algorithm_Implementation/Geometry/Convex_hull/Monotone_chain)을 이용해 풀었다.\n",
                "처음 검색했을 때는 [그레이엄 스캔](https://ko.wikipedia.org/wiki/%EA%B7%B8%EB%A0%88%EC%9D%B4%EC%97%84_%EC%8A%A4%EC%BA%94)인 줄 알았는데 풀고 나서 찾아보니 내가 푼 방식은 그레이엄 알고리즘을 변형한 앤드류 알고리즘이었다.\n",
                "그레이엄 알고리즘은 최좌하단 점을 기준으로 각도를 계산해 정렬하는 방식이고, 앤드류 알고리즘은 각도 대신 좌표만을 이용해 상하단 볼록껍질을 각각 구한 뒤 합하는 방식이다.\n",
                "볼록껍질에서 가장 마지막 두 점이 다음 점과 시계방향을 이루면 그 점을 제거하는 방식으로 볼록껍질을 구한다.\n",
                "이 때 방향은 외적을 이용해 판단했다.\n"
            ]
        },
        {
            "cell_type": "code",
            "execution_count": null,
            "metadata": {},
            "outputs": [],
            "source": [
                "Point = tuple[int, int]\n",
                "Points = list[Point]\n",
                "\n",
                "\n",
                "def cross(a: Point, b: Point, c: Point) -> int:\n",
                "    return (b[0] - a[0]) * (c[1] - a[1]) - (b[1] - a[1]) * (c[0] - a[0])\n",
                "\n",
                "\n",
                "def hull(points: Points) -> Points:\n",
                "    hull = []\n",
                "    for p in points:\n",
                "        while len(hull) >= 2 and cross(hull[-2], hull[-1], p) <= 0:\n",
                "            hull.pop()\n",
                "        hull.append(p)\n",
                "    return hull\n",
                "\n",
                "\n",
                "def solution():\n",
                "    import sys\n",
                "\n",
                "    _ = sys.stdin.readline()\n",
                "    points = sorted(tuple(map(int, line.split())) for line in sys.stdin)\n",
                "    print(len(hull(points)) + len(hull(points[::-1])) - 2)\n",
                "\n",
                "\n",
                "solution()"
            ]
        },
        {
            "cell_type": "markdown",
            "metadata": {},
            "source": [
                "## 해답\n"
            ]
        },
        {
            "cell_type": "code",
            "execution_count": 66,
            "metadata": {},
            "outputs": [],
            "source": [
                "from collections import defaultdict\n",
                "\n",
                "type Hull = list[tuple[int, int, int, int]]\n",
                "\n",
                "\n",
                "def minmax(stdin):\n",
                "    yminmax = defaultdict(lambda: [40001, -40001])\n",
                "    xmin, xmax = 40001, -40001\n",
                "    for x, y in (map(int, line.split()) for line in stdin):\n",
                "        if y < yminmax[x][0]:\n",
                "            yminmax[x][0] = y\n",
                "        if y > yminmax[x][1]:\n",
                "            yminmax[x][1] = y\n",
                "        if x < xmin:\n",
                "            xmin = x\n",
                "        elif x > xmax:\n",
                "            xmax = x\n",
                "    return yminmax, xmin, xmax\n",
                "\n",
                "\n",
                "def cross(px, py, t1, t2, x, y):\n",
                "    return t1 * (y - py) - t2 * (x - px)\n",
                "\n",
                "\n",
                "def eq(a, b):\n",
                "    return a == b\n",
                "\n",
                "\n",
                "def solution():\n",
                "    import sys\n",
                "\n",
                "    sys.stdin.readline()\n",
                "    yminmax, xmin, xmax = minmax(sys.stdin)\n",
                "    lower: Hull = [(xmin, yminmax[xmin][0], 0, -1)]\n",
                "    upper: Hull = [(xmin, yminmax[xmin][1], 0, 1)]\n",
                "    for x in range(xmin + 1, xmax + 1):\n",
                "        if x not in yminmax:\n",
                "            continue\n",
                "        ymin, ymax = yminmax[x]\n",
                "        while cross(*lower[-1], x, ymin) <= 0:\n",
                "            lower.pop()\n",
                "        lower.append((x, ymin, x - lower[-1][0], ymin - lower[-1][1]))\n",
                "        while cross(*upper[-1], x, ymax) >= 0:\n",
                "            upper.pop()\n",
                "        upper.append((x, ymax, x - upper[-1][0], ymax - upper[-1][1]))\n",
                "    print(len(lower) + len(upper) - eq(*yminmax[xmin]) - eq(*yminmax[xmax]))"
            ]
        },
        {
            "cell_type": "code",
            "execution_count": 73,
            "metadata": {},
            "outputs": [],
            "source": [
                "# reference: https://www.acmicpc.net/source/70511344\n",
                "from collections import defaultdict\n",
                "\n",
                "Hull = list[tuple[int, int, int, int]]\n",
                "\n",
                "\n",
                "def minmax(stdin):\n",
                "    ys = defaultdict(lambda: [40001, -40001])\n",
                "    xmin, xmax = 40001, -40001\n",
                "    for line in stdin:\n",
                "        x, y = map(int, line.split())\n",
                "        if y < ys[x][0]:\n",
                "            ys[x][0] = y\n",
                "        if y > ys[x][1]:\n",
                "            ys[x][1] = y\n",
                "        if x < xmin:\n",
                "            xmin = x\n",
                "        elif x > xmax:\n",
                "            xmax = x\n",
                "    return ys, xmin, xmax\n",
                "\n",
                "\n",
                "def cross(px, py, t1, t2, x, y):\n",
                "    return t1 * (y - py) - t2 * (x - px)\n",
                "\n",
                "\n",
                "def solution():\n",
                "    import sys\n",
                "\n",
                "    sys.stdin.readline()\n",
                "    ys, xmin, xmax = minmax(sys.stdin)\n",
                "    lower: Hull = [(xmin, ys[xmin][0], 0, -1)]\n",
                "    upper: Hull = [(xmin, ys[xmin][1], 0, 1)]\n",
                "    for x in (x for x in range(xmin + 1, xmax + 1) if x in ys):\n",
                "        ymin, ymax = ys[x]\n",
                "        while cross(*lower[-1], x, ymin) <= 0:\n",
                "            lower.pop()\n",
                "        lower.append((x, ymin, x - lower[-1][0], ymin - lower[-1][1]))\n",
                "        while cross(*upper[-1], x, ymax) >= 0:\n",
                "            upper.pop()\n",
                "        upper.append((x, ymax, x - upper[-1][0], ymax - upper[-1][1]))\n",
                "    print(len(lower) - eq(*ys[xmin]) + len(upper) - eq(*ys[xmax]))"
            ]
        },
        {
            "cell_type": "code",
            "execution_count": null,
            "metadata": {},
            "outputs": [],
            "source": [
                "# reference: https://www.acmicpc.net/source/70511344\n",
                "from collections import defaultdict\n",
                "\n",
                "Hull = list[tuple[int, int, int, int]]\n",
                "\n",
                "\n",
                "def minmax(stdin):\n",
                "    ys = defaultdict(lambda: [40001, -40001])\n",
                "    xmin, xmax = 40001, -40001\n",
                "    for line in stdin:\n",
                "        x, y = map(int, line.split())\n",
                "        if y < ys[x][0]:\n",
                "            ys[x][0] = y\n",
                "        if y > ys[x][1]:\n",
                "            ys[x][1] = y\n",
                "        if x < xmin:\n",
                "            xmin = x\n",
                "        elif x > xmax:\n",
                "            xmax = x\n",
                "    return ys, xmin, xmax\n",
                "\n",
                "\n",
                "def cross(px, py, t1, t2, x, y):\n",
                "    return t1 * (y - py) - t2 * (x - px)\n",
                "\n",
                "\n",
                "def eq(a, b):\n",
                "    return a == b\n",
                "\n",
                "\n",
                "def solution():\n",
                "    import sys\n",
                "\n",
                "    sys.stdin.readline()\n",
                "    ys, l, r = minmax(sys.stdin)\n",
                "    lower: Hull = [(l, ys[l][0], 0, -1)]\n",
                "    upper: Hull = [(l, ys[l][1], 0, 1)]\n",
                "    for x, (b, t) in ((x, ys[x]) for x in range(l + 1, r + 1) if x in ys):\n",
                "        while cross(*lower[-1], x, b) <= 0:\n",
                "            lower.pop()\n",
                "        lower.append((x, b, x - lower[-1][0], b - lower[-1][1]))\n",
                "        while cross(*upper[-1], x, t) >= 0:\n",
                "            upper.pop()\n",
                "        upper.append((x, t, x - upper[-1][0], t - upper[-1][1]))\n",
                "    print(len(lower) + len(upper) - eq(*ys[l]) - eq(*ys[r]))"
            ]
        },
        {
            "cell_type": "code",
            "execution_count": 94,
            "metadata": {},
            "outputs": [
                {
                    "data": {
                        "text/plain": [
                            "[3, 2, 1]"
                        ]
                    },
                    "execution_count": 94,
                    "metadata": {},
                    "output_type": "execute_result"
                }
            ],
            "source": [
                "[1, 2, 3, 4, 5][-3::-1]"
            ]
        },
        {
            "cell_type": "code",
            "execution_count": 83,
            "metadata": {},
            "outputs": [
                {
                    "data": {
                        "text/plain": [
                            "[3, 4, 5]"
                        ]
                    },
                    "execution_count": 83,
                    "metadata": {},
                    "output_type": "execute_result"
                }
            ],
            "source": [
                "list(dropwhile(lambda x: x < 3, [1, 2, 3, 4, 5]))  # [3, 4, 5]"
            ]
        },
        {
            "cell_type": "code",
            "execution_count": 95,
            "metadata": {},
            "outputs": [],
            "source": [
                "from functools import reduce\n",
                "from itertools import dropwhile\n",
                "\n",
                "Point = tuple[int, int]\n",
                "Points = list[Point]\n",
                "\n",
                "\n",
                "def cross(a: Point, b: Point, c: Point) -> int:\n",
                "    return (b[0] - a[0]) * (c[1] - a[1]) - (b[1] - a[1]) * (c[0] - a[0])\n",
                "\n",
                "\n",
                "def hull(points: Points) -> Points:\n",
                "    # hull = []\n",
                "    # for p in points:\n",
                "    #     while len(hull) >= 2 and cross(hull[-2], hull[-1], p) <= 0:\n",
                "    #         hull.pop()\n",
                "    #     hull.append(p)\n",
                "    # return hull\n",
                "    return reduce(\n",
                "        lambda hull, p: list(\n",
                "            dropwhile(lambda p: cross(hull[-2], hull[-1], p) <= 0, hull)\n",
                "        )\n",
                "        + [p],\n",
                "        points[-3::-1],\n",
                "        points[:2],\n",
                "    )\n",
                "\n",
                "\n",
                "def solution():\n",
                "    import sys\n",
                "\n",
                "    _ = sys.stdin.readline()\n",
                "    points = sorted(tuple(map(int, line.split())) for line in sys.stdin)\n",
                "    print(len(hull(points)) + len(hull(points[::-1])) - 2)"
            ]
        },
        {
            "cell_type": "markdown",
            "metadata": {},
            "source": [
                "## 예제\n"
            ]
        },
        {
            "cell_type": "code",
            "execution_count": 96,
            "metadata": {},
            "outputs": [],
            "source": [
                "# 백준 문제 풀이용 예제 실행 코드\n",
                "from bwj import test\n",
                "\n",
                "test_solution = test(solution)\n",
                "\n",
                "# test_solution(\"\"\"\"\"\")\n",
                "# test_solution(read(\"fn\").read())"
            ]
        },
        {
            "cell_type": "code",
            "execution_count": 97,
            "metadata": {},
            "outputs": [
                {
                    "ename": "IndexError",
                    "evalue": "list index out of range",
                    "output_type": "error",
                    "traceback": [
                        "\u001b[0;31m---------------------------------------------------------------------------\u001b[0m",
                        "\u001b[0;31mIndexError\u001b[0m                                Traceback (most recent call last)",
                        "Cell \u001b[0;32mIn[97], line 1\u001b[0m\n\u001b[0;32m----> 1\u001b[0m \u001b[43mtest_solution\u001b[49m\u001b[43m(\u001b[49m\n\u001b[1;32m      2\u001b[0m \u001b[38;5;250;43m    \u001b[39;49m\u001b[38;5;124;43;03m\"\"\"8\u001b[39;49;00m\n\u001b[1;32m      3\u001b[0m \u001b[38;5;124;43;03m1 1\u001b[39;49;00m\n\u001b[1;32m      4\u001b[0m \u001b[38;5;124;43;03m1 2\u001b[39;49;00m\n\u001b[1;32m      5\u001b[0m \u001b[38;5;124;43;03m1 3\u001b[39;49;00m\n\u001b[1;32m      6\u001b[0m \u001b[38;5;124;43;03m2 1\u001b[39;49;00m\n\u001b[1;32m      7\u001b[0m \u001b[38;5;124;43;03m2 2\u001b[39;49;00m\n\u001b[1;32m      8\u001b[0m \u001b[38;5;124;43;03m2 3\u001b[39;49;00m\n\u001b[1;32m      9\u001b[0m \u001b[38;5;124;43;03m3 1\u001b[39;49;00m\n\u001b[1;32m     10\u001b[0m \u001b[38;5;124;43;03m3 2\u001b[39;49;00m\n\u001b[1;32m     11\u001b[0m \u001b[38;5;124;43;03m\"\"\"\u001b[39;49;00m\n\u001b[1;32m     12\u001b[0m \u001b[43m)\u001b[49m  \u001b[38;5;66;03m# 5\u001b[39;00m\n",
                        "File \u001b[0;32m~/GitHub/algorithm-study/venv/lib/python3.12/site-packages/bwj/__init__.py:105\u001b[0m, in \u001b[0;36mtest.<locals>.test_example\u001b[0;34m(example)\u001b[0m\n\u001b[1;32m    103\u001b[0m \u001b[38;5;28;01mdef\u001b[39;00m \u001b[38;5;21mtest_example\u001b[39m(example: Optional[\u001b[38;5;28mstr\u001b[39m] \u001b[38;5;241m=\u001b[39m \u001b[38;5;28;01mNone\u001b[39;00m) \u001b[38;5;241m-\u001b[39m\u001b[38;5;241m>\u001b[39m \u001b[38;5;28;01mNone\u001b[39;00m:\n\u001b[1;32m    104\u001b[0m     sys\u001b[38;5;241m.\u001b[39mstdin \u001b[38;5;241m=\u001b[39m StringIO(example)\n\u001b[0;32m--> 105\u001b[0m     \u001b[43msolution\u001b[49m\u001b[43m(\u001b[49m\u001b[43m)\u001b[49m\n",
                        "Cell \u001b[0;32mIn[95], line 34\u001b[0m, in \u001b[0;36msolution\u001b[0;34m()\u001b[0m\n\u001b[1;32m     32\u001b[0m _ \u001b[38;5;241m=\u001b[39m sys\u001b[38;5;241m.\u001b[39mstdin\u001b[38;5;241m.\u001b[39mreadline()\n\u001b[1;32m     33\u001b[0m points \u001b[38;5;241m=\u001b[39m \u001b[38;5;28msorted\u001b[39m(\u001b[38;5;28mtuple\u001b[39m(\u001b[38;5;28mmap\u001b[39m(\u001b[38;5;28mint\u001b[39m, line\u001b[38;5;241m.\u001b[39msplit())) \u001b[38;5;28;01mfor\u001b[39;00m line \u001b[38;5;129;01min\u001b[39;00m sys\u001b[38;5;241m.\u001b[39mstdin)\n\u001b[0;32m---> 34\u001b[0m \u001b[38;5;28mprint\u001b[39m(\u001b[38;5;28mlen\u001b[39m(\u001b[43mhull\u001b[49m\u001b[43m(\u001b[49m\u001b[43mpoints\u001b[49m\u001b[43m)\u001b[49m) \u001b[38;5;241m+\u001b[39m \u001b[38;5;28mlen\u001b[39m(hull(points[::\u001b[38;5;241m-\u001b[39m\u001b[38;5;241m1\u001b[39m])) \u001b[38;5;241m-\u001b[39m \u001b[38;5;241m2\u001b[39m)\n",
                        "Cell \u001b[0;32mIn[95], line 19\u001b[0m, in \u001b[0;36mhull\u001b[0;34m(points)\u001b[0m\n\u001b[1;32m     12\u001b[0m \u001b[38;5;28;01mdef\u001b[39;00m \u001b[38;5;21mhull\u001b[39m(points: Points) \u001b[38;5;241m-\u001b[39m\u001b[38;5;241m>\u001b[39m Points:\n\u001b[1;32m     13\u001b[0m     \u001b[38;5;66;03m# hull = []\u001b[39;00m\n\u001b[1;32m     14\u001b[0m     \u001b[38;5;66;03m# for p in points:\u001b[39;00m\n\u001b[0;32m   (...)\u001b[0m\n\u001b[1;32m     17\u001b[0m     \u001b[38;5;66;03m#     hull.append(p)\u001b[39;00m\n\u001b[1;32m     18\u001b[0m     \u001b[38;5;66;03m# return hull\u001b[39;00m\n\u001b[0;32m---> 19\u001b[0m     \u001b[38;5;28;01mreturn\u001b[39;00m \u001b[43mreduce\u001b[49m\u001b[43m(\u001b[49m\n\u001b[1;32m     20\u001b[0m \u001b[43m        \u001b[49m\u001b[38;5;28;43;01mlambda\u001b[39;49;00m\u001b[43m \u001b[49m\u001b[43mhull\u001b[49m\u001b[43m,\u001b[49m\u001b[43m \u001b[49m\u001b[43mp\u001b[49m\u001b[43m:\u001b[49m\u001b[43m \u001b[49m\u001b[38;5;28;43mlist\u001b[39;49m\u001b[43m(\u001b[49m\n\u001b[1;32m     21\u001b[0m \u001b[43m            \u001b[49m\u001b[43mdropwhile\u001b[49m\u001b[43m(\u001b[49m\u001b[38;5;28;43;01mlambda\u001b[39;49;00m\u001b[43m \u001b[49m\u001b[43mp\u001b[49m\u001b[43m:\u001b[49m\u001b[43m \u001b[49m\u001b[43mcross\u001b[49m\u001b[43m(\u001b[49m\u001b[43mhull\u001b[49m\u001b[43m[\u001b[49m\u001b[38;5;241;43m-\u001b[39;49m\u001b[38;5;241;43m2\u001b[39;49m\u001b[43m]\u001b[49m\u001b[43m,\u001b[49m\u001b[43m \u001b[49m\u001b[43mhull\u001b[49m\u001b[43m[\u001b[49m\u001b[38;5;241;43m-\u001b[39;49m\u001b[38;5;241;43m1\u001b[39;49m\u001b[43m]\u001b[49m\u001b[43m,\u001b[49m\u001b[43m \u001b[49m\u001b[43mp\u001b[49m\u001b[43m)\u001b[49m\u001b[43m \u001b[49m\u001b[38;5;241;43m<\u001b[39;49m\u001b[38;5;241;43m=\u001b[39;49m\u001b[43m \u001b[49m\u001b[38;5;241;43m0\u001b[39;49m\u001b[43m,\u001b[49m\u001b[43m \u001b[49m\u001b[43mhull\u001b[49m\u001b[43m)\u001b[49m\n\u001b[1;32m     22\u001b[0m \u001b[43m        \u001b[49m\u001b[43m)\u001b[49m\n\u001b[1;32m     23\u001b[0m \u001b[43m        \u001b[49m\u001b[38;5;241;43m+\u001b[39;49m\u001b[43m \u001b[49m\u001b[43m[\u001b[49m\u001b[43mp\u001b[49m\u001b[43m]\u001b[49m\u001b[43m,\u001b[49m\n\u001b[1;32m     24\u001b[0m \u001b[43m        \u001b[49m\u001b[43mpoints\u001b[49m\u001b[43m[\u001b[49m\u001b[38;5;241;43m-\u001b[39;49m\u001b[38;5;241;43m3\u001b[39;49m\u001b[43m:\u001b[49m\u001b[43m:\u001b[49m\u001b[38;5;241;43m-\u001b[39;49m\u001b[38;5;241;43m1\u001b[39;49m\u001b[43m]\u001b[49m\u001b[43m,\u001b[49m\n\u001b[1;32m     25\u001b[0m \u001b[43m        \u001b[49m\u001b[43mpoints\u001b[49m\u001b[43m[\u001b[49m\u001b[43m:\u001b[49m\u001b[38;5;241;43m2\u001b[39;49m\u001b[43m]\u001b[49m\u001b[43m,\u001b[49m\n\u001b[1;32m     26\u001b[0m \u001b[43m    \u001b[49m\u001b[43m)\u001b[49m\n",
                        "Cell \u001b[0;32mIn[95], line 20\u001b[0m, in \u001b[0;36mhull.<locals>.<lambda>\u001b[0;34m(hull, p)\u001b[0m\n\u001b[1;32m     12\u001b[0m \u001b[38;5;28;01mdef\u001b[39;00m \u001b[38;5;21mhull\u001b[39m(points: Points) \u001b[38;5;241m-\u001b[39m\u001b[38;5;241m>\u001b[39m Points:\n\u001b[1;32m     13\u001b[0m     \u001b[38;5;66;03m# hull = []\u001b[39;00m\n\u001b[1;32m     14\u001b[0m     \u001b[38;5;66;03m# for p in points:\u001b[39;00m\n\u001b[0;32m   (...)\u001b[0m\n\u001b[1;32m     17\u001b[0m     \u001b[38;5;66;03m#     hull.append(p)\u001b[39;00m\n\u001b[1;32m     18\u001b[0m     \u001b[38;5;66;03m# return hull\u001b[39;00m\n\u001b[1;32m     19\u001b[0m     \u001b[38;5;28;01mreturn\u001b[39;00m reduce(\n\u001b[0;32m---> 20\u001b[0m         \u001b[38;5;28;01mlambda\u001b[39;00m hull, p: \u001b[38;5;28;43mlist\u001b[39;49m\u001b[43m(\u001b[49m\n\u001b[1;32m     21\u001b[0m \u001b[43m            \u001b[49m\u001b[43mdropwhile\u001b[49m\u001b[43m(\u001b[49m\u001b[38;5;28;43;01mlambda\u001b[39;49;00m\u001b[43m \u001b[49m\u001b[43mp\u001b[49m\u001b[43m:\u001b[49m\u001b[43m \u001b[49m\u001b[43mcross\u001b[49m\u001b[43m(\u001b[49m\u001b[43mhull\u001b[49m\u001b[43m[\u001b[49m\u001b[38;5;241;43m-\u001b[39;49m\u001b[38;5;241;43m2\u001b[39;49m\u001b[43m]\u001b[49m\u001b[43m,\u001b[49m\u001b[43m \u001b[49m\u001b[43mhull\u001b[49m\u001b[43m[\u001b[49m\u001b[38;5;241;43m-\u001b[39;49m\u001b[38;5;241;43m1\u001b[39;49m\u001b[43m]\u001b[49m\u001b[43m,\u001b[49m\u001b[43m \u001b[49m\u001b[43mp\u001b[49m\u001b[43m)\u001b[49m\u001b[43m \u001b[49m\u001b[38;5;241;43m<\u001b[39;49m\u001b[38;5;241;43m=\u001b[39;49m\u001b[43m \u001b[49m\u001b[38;5;241;43m0\u001b[39;49m\u001b[43m,\u001b[49m\u001b[43m \u001b[49m\u001b[43mhull\u001b[49m\u001b[43m)\u001b[49m\n\u001b[1;32m     22\u001b[0m \u001b[43m        \u001b[49m\u001b[43m)\u001b[49m\n\u001b[1;32m     23\u001b[0m         \u001b[38;5;241m+\u001b[39m [p],\n\u001b[1;32m     24\u001b[0m         points[\u001b[38;5;241m-\u001b[39m\u001b[38;5;241m3\u001b[39m::\u001b[38;5;241m-\u001b[39m\u001b[38;5;241m1\u001b[39m],\n\u001b[1;32m     25\u001b[0m         points[:\u001b[38;5;241m2\u001b[39m],\n\u001b[1;32m     26\u001b[0m     )\n",
                        "Cell \u001b[0;32mIn[95], line 21\u001b[0m, in \u001b[0;36mhull.<locals>.<lambda>.<locals>.<lambda>\u001b[0;34m(p)\u001b[0m\n\u001b[1;32m     12\u001b[0m \u001b[38;5;28;01mdef\u001b[39;00m \u001b[38;5;21mhull\u001b[39m(points: Points) \u001b[38;5;241m-\u001b[39m\u001b[38;5;241m>\u001b[39m Points:\n\u001b[1;32m     13\u001b[0m     \u001b[38;5;66;03m# hull = []\u001b[39;00m\n\u001b[1;32m     14\u001b[0m     \u001b[38;5;66;03m# for p in points:\u001b[39;00m\n\u001b[0;32m   (...)\u001b[0m\n\u001b[1;32m     17\u001b[0m     \u001b[38;5;66;03m#     hull.append(p)\u001b[39;00m\n\u001b[1;32m     18\u001b[0m     \u001b[38;5;66;03m# return hull\u001b[39;00m\n\u001b[1;32m     19\u001b[0m     \u001b[38;5;28;01mreturn\u001b[39;00m reduce(\n\u001b[1;32m     20\u001b[0m         \u001b[38;5;28;01mlambda\u001b[39;00m hull, p: \u001b[38;5;28mlist\u001b[39m(\n\u001b[0;32m---> 21\u001b[0m             dropwhile(\u001b[38;5;28;01mlambda\u001b[39;00m p: cross(\u001b[43mhull\u001b[49m\u001b[43m[\u001b[49m\u001b[38;5;241;43m-\u001b[39;49m\u001b[38;5;241;43m2\u001b[39;49m\u001b[43m]\u001b[49m, hull[\u001b[38;5;241m-\u001b[39m\u001b[38;5;241m1\u001b[39m], p) \u001b[38;5;241m<\u001b[39m\u001b[38;5;241m=\u001b[39m \u001b[38;5;241m0\u001b[39m, hull)\n\u001b[1;32m     22\u001b[0m         )\n\u001b[1;32m     23\u001b[0m         \u001b[38;5;241m+\u001b[39m [p],\n\u001b[1;32m     24\u001b[0m         points[\u001b[38;5;241m-\u001b[39m\u001b[38;5;241m3\u001b[39m::\u001b[38;5;241m-\u001b[39m\u001b[38;5;241m1\u001b[39m],\n\u001b[1;32m     25\u001b[0m         points[:\u001b[38;5;241m2\u001b[39m],\n\u001b[1;32m     26\u001b[0m     )\n",
                        "\u001b[0;31mIndexError\u001b[0m: list index out of range"
                    ]
                }
            ],
            "source": [
                "test_solution(\n",
                "    \"\"\"8\n",
                "1 1\n",
                "1 2\n",
                "1 3\n",
                "2 1\n",
                "2 2\n",
                "2 3\n",
                "3 1\n",
                "3 2\n",
                "\"\"\"\n",
                ")  # 5"
            ]
        }
    ],
    "metadata": {
        "interpreter": {
            "hash": "73891b0dc2e53390f36276e59930dd4ecab91b05b5c90320c2d5b1c443f87069"
        },
        "kernelspec": {
            "display_name": "Python 3.10.1 ('venv': venv)",
            "language": "python",
            "name": "python3"
        },
        "language_info": {
            "codemirror_mode": {
                "name": "ipython",
                "version": 3
            },
            "file_extension": ".py",
            "mimetype": "text/x-python",
            "name": "python",
            "nbconvert_exporter": "python",
            "pygments_lexer": "ipython3",
            "version": "3.12.4"
        },
        "orig_nbformat": 4
    },
    "nbformat": 4,
    "nbformat_minor": 2
}
