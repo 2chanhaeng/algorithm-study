{
    "cells": [
        {
            "cell_type": "markdown",
            "metadata": {},
            "source": [
                "# [백준/볼록 껍질](https://www.acmicpc.net/problem/1708)\n"
            ]
        },
        {
            "cell_type": "markdown",
            "metadata": {},
            "source": [
                "## 풀이과정\n"
            ]
        },
        {
            "cell_type": "markdown",
            "metadata": {},
            "source": [
                "### 첫번째 시도\n"
            ]
        },
        {
            "cell_type": "markdown",
            "metadata": {},
            "source": [
                "#### 풀이과정\n"
            ]
        },
        {
            "cell_type": "code",
            "execution_count": null,
            "metadata": {},
            "outputs": [],
            "source": [
                "Point = tuple[int, int]\n",
                "Points = list[Point]\n",
                "\n",
                "\n",
                "def cross(a: Point, b: Point, c: Point) -> int:\n",
                "    return (b[0] - a[0]) * (c[1] - a[1]) - (b[1] - a[1]) * (c[0] - a[0])\n",
                "\n",
                "\n",
                "def hull(points: Points) -> Points:\n",
                "    hull = []\n",
                "    for p in points:\n",
                "        while len(hull) >= 2 and cross(hull[-2], hull[-1], p) <= 0:\n",
                "            hull.pop()\n",
                "        hull.append(p)\n",
                "    return hull[:-1]\n",
                "\n",
                "\n",
                "def graham_scan(points: Points) -> Points:\n",
                "    return hull(points) + hull(points[::-1])\n",
                "\n",
                "\n",
                "def solution():\n",
                "    import sys\n",
                "\n",
                "    _ = sys.stdin.readline()\n",
                "    points = sorted(tuple(map(int, line.split())) for line in sys.stdin)\n",
                "    hull = graham_scan(points)\n",
                "    print(len(hull))\n",
                "\n",
                "\n",
                "solution()"
            ]
        },
        {
            "cell_type": "markdown",
            "metadata": {},
            "source": [
                "## 해답\n"
            ]
        },
        {
            "cell_type": "code",
            "execution_count": 1,
            "metadata": {},
            "outputs": [],
            "source": [
                "def cross(a: tuple[int, int], b: tuple[int, int], c: tuple[int, int]) -> int:\n",
                "    return (b[0] - a[0]) * (c[1] - a[1]) - (b[1] - a[1]) * (c[0] - a[0])\n",
                "\n",
                "\n",
                "def hull(points: list[tuple[int, int]]) -> list[tuple[int, int]]:\n",
                "    hull = []\n",
                "    for p in points:\n",
                "        while len(hull) >= 2 and cross(hull[-2], hull[-1], p) <= 0:\n",
                "            hull.pop()\n",
                "        hull.append(p)\n",
                "    return hull[:-1]\n",
                "\n",
                "\n",
                "def graham_scan(points: list[tuple[int, int]]) -> list[tuple[int, int]]:\n",
                "    return hull(points) + hull(points[::-1])"
            ]
        },
        {
            "cell_type": "code",
            "execution_count": 2,
            "metadata": {},
            "outputs": [],
            "source": [
                "def solution():\n",
                "    import sys\n",
                "\n",
                "    n = int(sys.stdin.readline())\n",
                "    points = sorted(tuple(map(int, line.split())) for line in sys.stdin)\n",
                "    hull = graham_scan(points)\n",
                "    print(len(hull))"
            ]
        },
        {
            "cell_type": "markdown",
            "metadata": {},
            "source": [
                "## 예제\n"
            ]
        },
        {
            "cell_type": "code",
            "execution_count": 3,
            "metadata": {},
            "outputs": [],
            "source": [
                "# 백준 문제 풀이용 예제 실행 코드\n",
                "from bwj import test\n",
                "\n",
                "test_solution = test(solution)\n",
                "\n",
                "# test_solution(\"\"\"\"\"\")\n",
                "# test_solution(read(\"fn\").read())"
            ]
        },
        {
            "cell_type": "code",
            "execution_count": 4,
            "metadata": {},
            "outputs": [
                {
                    "name": "stdout",
                    "output_type": "stream",
                    "text": [
                        "5\n"
                    ]
                }
            ],
            "source": [
                "test_solution(\n",
                "    \"\"\"8\n",
                "1 1\n",
                "1 2\n",
                "1 3\n",
                "2 1\n",
                "2 2\n",
                "2 3\n",
                "3 1\n",
                "3 2\n",
                "\"\"\"\n",
                ")  # 5"
            ]
        }
    ],
    "metadata": {
        "interpreter": {
            "hash": "73891b0dc2e53390f36276e59930dd4ecab91b05b5c90320c2d5b1c443f87069"
        },
        "kernelspec": {
            "display_name": "Python 3.10.1 ('venv': venv)",
            "language": "python",
            "name": "python3"
        },
        "language_info": {
            "codemirror_mode": {
                "name": "ipython",
                "version": 3
            },
            "file_extension": ".py",
            "mimetype": "text/x-python",
            "name": "python",
            "nbconvert_exporter": "python",
            "pygments_lexer": "ipython3",
            "version": "3.12.2"
        },
        "orig_nbformat": 4
    },
    "nbformat": 4,
    "nbformat_minor": 2
}
