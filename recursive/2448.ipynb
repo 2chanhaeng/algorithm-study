{
    "cells": [
        {
            "cell_type": "markdown",
            "metadata": {},
            "source": [
                "# [백준/별 찍기 - 11](https://www.acmicpc.net/problem/2448)"
            ]
        },
        {
            "cell_type": "markdown",
            "metadata": {},
            "source": [
                "## 풀이과정"
            ]
        },
        {
            "cell_type": "markdown",
            "metadata": {},
            "source": [
                "### 첫번째 시도"
            ]
        },
        {
            "cell_type": "markdown",
            "metadata": {},
            "source": [
                "풀이과정"
            ]
        },
        {
            "cell_type": "code",
            "execution_count": null,
            "metadata": {},
            "outputs": [],
            "source": [
                "def f(n):\n",
                "    if n == 3:\n",
                "        return [\"  *  \", \" * * \", \"*****\"]\n",
                "    g = f(m := n // 2)\n",
                "    result = []\n",
                "    space = \" \" * m \n",
                "    for i in g:\n",
                "        result.append(space + i + space)\n",
                "    for i in g:\n",
                "        result.append(i + \" \" + i)\n",
                "    return result\n",
                "print(\"\\n\".join(f(int(input()))))"
            ]
        },
        {
            "cell_type": "markdown",
            "metadata": {},
            "source": [
                "## 해답"
            ]
        },
        {
            "cell_type": "code",
            "execution_count": 457,
            "metadata": {},
            "outputs": [
                {
                    "name": "stdout",
                    "output_type": "stream",
                    "text": [
                        "           *           \n",
                        "          * *          \n",
                        "         *****         \n",
                        "        *     *        \n",
                        "       * *   * *       \n",
                        "      ***** *****      \n",
                        "     *           *     \n",
                        "    * *         * *    \n",
                        "   *****       *****   \n",
                        "  *     *     *     *  \n",
                        " * *   * *   * *   * * \n",
                        "***** ***** ***** *****\n"
                    ]
                }
            ],
            "source": [
                "def f(n):\n",
                "    if n == 3:\n",
                "        return [\"  *  \", \" * * \", \"*****\"]\n",
                "    g = f(m := n // 2)\n",
                "    result = []\n",
                "    space = \" \" * m \n",
                "    for i in g:\n",
                "        result.append(space + i + space)\n",
                "    for i in g:\n",
                "        result.append(i + \" \" + i)\n",
                "    return result\n",
                "print(\"\\n\".join(f(int(input()))))"
            ]
        },
        {
            "cell_type": "markdown",
            "metadata": {},
            "source": [
                "## 예제"
            ]
        },
        {
            "cell_type": "code",
            "execution_count": null,
            "metadata": {},
            "outputs": [],
            "source": [
                "%load_ext blackcellmagic\n",
                "# %%black"
            ]
        },
        {
            "cell_type": "code",
            "execution_count": null,
            "metadata": {},
            "outputs": [],
            "source": [
                "# 백준 문제 풀이용 예제 실행 코드\n",
                "from bwj import test\n",
                "test_solution = test(solution)\n",
                "\n",
                "# test_solution(\"\"\"\"\"\")\n",
                "# test_solution(read(\"fn\").read())"
            ]
        },
        {
            "cell_type": "code",
            "execution_count": null,
            "metadata": {},
            "outputs": [],
            "source": [
                "test_solution(\"\"\"24\"\"\")\n",
                "# answer:\n",
                "#                        *                        \n",
                "#                       * *                       \n",
                "#                      *****                      \n",
                "#                     *     *                     \n",
                "#                    * *   * *                    \n",
                "#                   ***** *****                   \n",
                "#                  *           *                  \n",
                "#                 * *         * *                 \n",
                "#                *****       *****                \n",
                "#               *     *     *     *               \n",
                "#              * *   * *   * *   * *              \n",
                "#             ***** ***** ***** *****             \n",
                "#            *                       *            \n",
                "#           * *                     * *           \n",
                "#          *****                   *****          \n",
                "#         *     *                 *     *         \n",
                "#        * *   * *               * *   * *        \n",
                "#       ***** *****             ***** *****       \n",
                "#      *           *           *           *      \n",
                "#     * *         * *         * *         * *     \n",
                "#    *****       *****       *****       *****    \n",
                "#   *     *     *     *     *     *     *     *   \n",
                "#  * *   * *   * *   * *   * *   * *   * *   * *  \n",
                "# ***** ***** ***** ***** ***** ***** ***** *****"
            ]
        }
    ],
    "metadata": {
        "interpreter": {
            "hash": "6f343a80023390f07f657f7b7b783138624f73d36da2400954869fbeb113b94b"
        },
        "kernelspec": {
            "display_name": "Python 3.10.2 ('venv': venv)",
            "language": "python",
            "name": "python3"
        },
        "language_info": {
            "codemirror_mode": {
                "name": "ipython",
                "version": 3
            },
            "file_extension": ".py",
            "mimetype": "text/x-python",
            "name": "python",
            "nbconvert_exporter": "python",
            "pygments_lexer": "ipython3",
            "version": "3.10.2"
        },
        "orig_nbformat": 4
    },
    "nbformat": 4,
    "nbformat_minor": 2
}
