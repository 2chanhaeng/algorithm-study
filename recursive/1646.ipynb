{
    "cells": [
        {
            "cell_type": "markdown",
            "metadata": {},
            "source": [
                "# [백준/피이보나치 트리](https://www.acmicpc.net/problem/1646)"
            ]
        },
        {
            "cell_type": "markdown",
            "metadata": {},
            "source": [
                "## 풀이과정"
            ]
        },
        {
            "cell_type": "markdown",
            "metadata": {},
            "source": [
                "### 첫번째 시도"
            ]
        },
        {
            "cell_type": "markdown",
            "metadata": {},
            "source": [
                "#### 풀이과정"
            ]
        },
        {
            "cell_type": "code",
            "execution_count": null,
            "metadata": {},
            "outputs": [],
            "source": [
                "import sys\n",
                "from functools import cache\n",
                "\n",
                "\n",
                "@cache\n",
                "def fib(n):\n",
                "    return 1 + fib(n-2) + fib(n-1) if n > 1 else 1\n",
                "\n",
                "\n",
                "def find(n, m):\n",
                "    if n == 1:\n",
                "        return ()\n",
                "    left = 1 + fib(m - 2)\n",
                "    if n <= left:\n",
                "        return (0,) + find(n - 1, m - 2)\n",
                "    return (1,) + find(n - left, m - 1)\n",
                "\n",
                "\n",
                "def route(r):\n",
                "    return \"\".join(\"LR\"[x] for x in r)\n",
                "\n",
                "\n",
                "def solution():\n",
                "    import sys\n",
                "\n",
                "    tree, start, end = map(int, sys.stdin.readline().rstrip().split())\n",
                "    from_ = find(start, tree)\n",
                "    to = find(end, tree)\n",
                "    for i, (x, y) in enumerate(zip(from_, to)):\n",
                "        if x != y:\n",
                "            print(\"U\" * (len(from_) - i) + route(to[i:]))\n",
                "            return\n",
                "    depth = min(len(from_), len(to))\n",
                "    print(\"U\" * (len(from_) - depth) + route(to[depth:]))\n",
                "\n",
                "\n",
                "solution()"
            ]
        },
        {
            "cell_type": "markdown",
            "metadata": {},
            "source": [
                "## 해답"
            ]
        },
        {
            "cell_type": "code",
            "execution_count": 18,
            "metadata": {},
            "outputs": [],
            "source": [
                "from functools import cache\n",
                "@cache\n",
                "def fib(n):\n",
                "    return 1 + fib(n-2) + fib(n-1) if n > 1 else 1"
            ]
        },
        {
            "cell_type": "code",
            "execution_count": 24,
            "metadata": {},
            "outputs": [],
            "source": [
                "def find(n, m):\n",
                "    if n == 1:\n",
                "        return ()\n",
                "    left = 1 + fib(m - 2)\n",
                "    if n <= left:\n",
                "        return (0,) + find(n - 1, m - 2)\n",
                "    return (1,) + find(n - left, m - 1)"
            ]
        },
        {
            "cell_type": "code",
            "execution_count": 25,
            "metadata": {},
            "outputs": [],
            "source": [
                "def route(r):\n",
                "    return \"\".join(\"LR\"[x] for x in r)"
            ]
        },
        {
            "cell_type": "code",
            "execution_count": 33,
            "metadata": {},
            "outputs": [],
            "source": [
                "def solution():\n",
                "    import sys\n",
                "\n",
                "    tree, start, end = map(int, sys.stdin.readline().rstrip().split())\n",
                "    from_ = find(start, tree)\n",
                "    to = find(end, tree)\n",
                "    for i, (x, y) in enumerate(zip(from_, to)):\n",
                "        if x != y:\n",
                "            print(\"U\" * (len(from_) - i) + route(to[i:]))\n",
                "            return\n",
                "    depth = min(len(from_), len(to))\n",
                "    print(\"U\" * (len(from_) - depth) + route(to[depth:]))\n",
                "    "
            ]
        },
        {
            "cell_type": "markdown",
            "metadata": {},
            "source": [
                "## 예제"
            ]
        },
        {
            "cell_type": "code",
            "execution_count": 34,
            "metadata": {},
            "outputs": [
                {
                    "name": "stdout",
                    "output_type": "stream",
                    "text": [
                        "The blackcellmagic extension is already loaded. To reload it, use:\n",
                        "  %reload_ext blackcellmagic\n"
                    ]
                }
            ],
            "source": [
                "# black 모듈을 jupyter notebook 내에서 사용 가능하게 만들어주는 blackcellmagic 모듈 불러오기\n",
                "%load_ext blackcellmagic\n",
                "# %%black\n",
                "\n",
                "# 백준 문제 풀이용 예제 실행 코드\n",
                "from bwj import test\n",
                "test_solution = test(solution)\n",
                "\n",
                "# test_solution(\"\"\"\"\"\")\n",
                "# test_solution(read(\"fn\").read())"
            ]
        },
        {
            "cell_type": "code",
            "execution_count": 35,
            "metadata": {},
            "outputs": [
                {
                    "name": "stdout",
                    "output_type": "stream",
                    "text": [
                        "LRLRLLRLRL\n",
                        "LRLRLRLRLR\n",
                        "UUUUURLRLR\n"
                    ]
                }
            ],
            "source": [
                "parent = 1 + 1 + (fib(46) + 1) + 1 + (fib(43) + 1) + 1\n",
                "#        ^50 ^48 ^47             ^45 ^44             ^42\n",
                "start = parent + 1 + (fib(38) + 1) + 1 + (fib(35) + 1) + 1 \n",
                "#       ^42      ^40  ^39            ^37  ^36            ^34\n",
                "end = parent + (fib(40) + 1) + 1 + (fib(37) + 1) + 1 + (fib(34) + 1)\n",
                "#     ^42       ^41            ^39  ^38            ^36  ^35\n",
                "print(route(find(start, 50)))\n",
                "print(route(find(end, 50)))\n",
                "test_solution(f\"\"\"50 {start} {end}\"\"\")\n",
                "# UUUUURLRLR"
            ]
        },
        {
            "cell_type": "code",
            "execution_count": 36,
            "metadata": {},
            "outputs": [
                {
                    "name": "stdout",
                    "output_type": "stream",
                    "text": [
                        "URL\n"
                    ]
                }
            ],
            "source": [
                "test_solution(\"\"\"3 2 4\n",
                "\"\"\") # URL"
            ]
        },
        {
            "cell_type": "code",
            "execution_count": 37,
            "metadata": {},
            "outputs": [
                {
                    "name": "stdout",
                    "output_type": "stream",
                    "text": [
                        "UUL\n"
                    ]
                }
            ],
            "source": [
                "test_solution(\"\"\"3 4 2\n",
                "\"\"\") # UUL"
            ]
        },
        {
            "cell_type": "code",
            "execution_count": 38,
            "metadata": {},
            "outputs": [
                {
                    "name": "stdout",
                    "output_type": "stream",
                    "text": [
                        "UL\n"
                    ]
                }
            ],
            "source": [
                "test_solution(\"\"\"3 5 4\n",
                "\"\"\") # UL"
            ]
        },
        {
            "cell_type": "code",
            "execution_count": 39,
            "metadata": {},
            "outputs": [
                {
                    "name": "stdout",
                    "output_type": "stream",
                    "text": [
                        "\n"
                    ]
                }
            ],
            "source": [
                "test_solution(\"\"\"12 10 10\n",
                "\"\"\") # "
            ]
        }
    ],
    "metadata": {
        "kernelspec": {
            "display_name": "venv",
            "language": "python",
            "name": "python3"
        },
        "language_info": {
            "codemirror_mode": {
                "name": "ipython",
                "version": 3
            },
            "file_extension": ".py",
            "mimetype": "text/x-python",
            "name": "python",
            "nbconvert_exporter": "python",
            "pygments_lexer": "ipython3",
            "version": "3.10.8 (main, Oct 13 2022, 09:48:40) [Clang 14.0.0 (clang-1400.0.29.102)]"
        },
        "orig_nbformat": 4,
        "vscode": {
            "interpreter": {
                "hash": "72904a014a9ffe38f4c58942120b599b3c5a87d06764037548e0139929c1cde3"
            }
        }
    },
    "nbformat": 4,
    "nbformat_minor": 2
}
