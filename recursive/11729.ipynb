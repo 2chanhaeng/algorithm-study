{
    "cells": [
        {
            "cell_type": "markdown",
            "metadata": {},
            "source": [
                "# [백준/하노이 탑 이동 순서](https://www.acmicpc.net/problem/11729)"
            ]
        },
        {
            "cell_type": "markdown",
            "metadata": {},
            "source": [
                "## 풀이과정"
            ]
        },
        {
            "cell_type": "markdown",
            "metadata": {},
            "source": [
                "### 첫번째 시도"
            ]
        },
        {
            "cell_type": "markdown",
            "metadata": {},
            "source": [
                "풀이과정"
            ]
        },
        {
            "cell_type": "code",
            "execution_count": null,
            "metadata": {},
            "outputs": [],
            "source": [
                "def hanoi(stack, start, end):\n",
                "    if stack == 1:\n",
                "        print(start, end)\n",
                "    else:\n",
                "        hanoi(stack - 1, start, 6 - start - end)\n",
                "        print(start, end)\n",
                "        hanoi(stack - 1, 6 - start - end, end)\n",
                "def solution(open = open):\n",
                "    n = int(open(0).read())\n",
                "    print(2**n - 1)\n",
                "    hanoi(n, 1, 3)\n",
                "solution()"
            ]
        },
        {
            "cell_type": "code",
            "execution_count": null,
            "metadata": {},
            "outputs": [],
            "source": [
                "def hanoi(stack, start, end):\n",
                "    if stack == 1:\n",
                "        return \"%d %d\\n\"%(start, end)\n",
                "    else:\n",
                "        return hanoi(stack - 1, start, 6 - start - end) +\\\n",
                "        \"%d %d\\n\"%(start, end) +\\\n",
                "        hanoi(stack - 1, 6 - start - end, end)\n",
                "def solution(open = open):\n",
                "    n = int(open(0).read())\n",
                "    print(\"%d\\n\"%(2**n - 1) + hanoi(n, 1, 3))\n",
                "solution()"
            ]
        },
        {
            "cell_type": "code",
            "execution_count": null,
            "metadata": {},
            "outputs": [],
            "source": [
                "def hanoi(stack, start, end):\n",
                "    if stack == 1:\n",
                "        return \"%d %d\\n\" % (start, end)\n",
                "    else:\n",
                "        return hanoi(stack - 1, start, 6 - start - end) +\\\n",
                "            \"%d %d\\n\" % (start, end) +\\\n",
                "            hanoi(stack - 1, 6 - start - end, end)\n",
                "\n",
                "from sys import stdout\n",
                "def solution(open=open, print=stdout.write):\n",
                "    n = int(open(0).read())\n",
                "    print(\"%d\\n\" % (2**n - 1) + hanoi(n, 1, 3))\n",
                "solution()"
            ]
        },
        {
            "cell_type": "markdown",
            "metadata": {},
            "source": [
                "## 해답"
            ]
        },
        {
            "cell_type": "code",
            "execution_count": 26,
            "metadata": {},
            "outputs": [],
            "source": [
                "def hanoi(stack, start, end):\n",
                "    if stack == 1:\n",
                "        print(start, end)\n",
                "    else:\n",
                "        hanoi(stack - 1, start, 6 - start - end)\n",
                "        print(start, end)\n",
                "        hanoi(stack - 1, 6 - start - end, end)\n"
            ]
        },
        {
            "cell_type": "code",
            "execution_count": 33,
            "metadata": {},
            "outputs": [],
            "source": [
                "def solution(open = open):\n",
                "    n = int(open(0).read())\n",
                "    print(2**n - 1)\n",
                "    hanoi(n, 1, 3)"
            ]
        },
        {
            "cell_type": "code",
            "execution_count": 4,
            "metadata": {},
            "outputs": [],
            "source": [
                "def hanoi(stack, start, end):\n",
                "    if stack == 1:\n",
                "        return [\"%d %d\"%(start, end)]\n",
                "    else:\n",
                "        return [*hanoi(stack - 1, start, 6 - start - end),\n",
                "            \"%d %d\"%(start, end),\n",
                "            *hanoi(stack - 1, 6 - start - end, end)]\n",
                "def solution(open = open):\n",
                "    n = int(open(0).read())\n",
                "    print(\"%d\"%(2**n - 1), *hanoi(n, 1, 3), sep=\"\\n\")"
            ]
        },
        {
            "cell_type": "markdown",
            "metadata": {},
            "source": [
                "## 예제"
            ]
        },
        {
            "cell_type": "code",
            "execution_count": 5,
            "metadata": {},
            "outputs": [],
            "source": [
                "# 백준 문제 풀이용 예제 실행 코드\n",
                "from bwj import test\n",
                "test_solution = test(solution)\n",
                "\n",
                "# test_solution(\"\"\"\"\"\")\n",
                "# test_solution(read(\"fn\").read())"
            ]
        },
        {
            "cell_type": "code",
            "execution_count": 6,
            "metadata": {},
            "outputs": [
                {
                    "name": "stdout",
                    "output_type": "stream",
                    "text": [
                        "7\n",
                        "1 3\n",
                        "1 2\n",
                        "3 2\n",
                        "1 3\n",
                        "2 1\n",
                        "2 3\n",
                        "1 3\n"
                    ]
                }
            ],
            "source": [
                "test_solution(\"\"\"3\"\"\")\n",
                "# answer:\n",
                "# 7\n",
                "# 1 3\n",
                "# 1 2\n",
                "# 3 2\n",
                "# 1 3\n",
                "# 2 1\n",
                "# 2 3\n",
                "# 1 3"
            ]
        }
    ],
    "metadata": {
        "interpreter": {
            "hash": "73891b0dc2e53390f36276e59930dd4ecab91b05b5c90320c2d5b1c443f87069"
        },
        "kernelspec": {
            "display_name": "Python 3.10.1 ('venv': venv)",
            "language": "python",
            "name": "python3"
        },
        "language_info": {
            "codemirror_mode": {
                "name": "ipython",
                "version": 3
            },
            "file_extension": ".py",
            "mimetype": "text/x-python",
            "name": "python",
            "nbconvert_exporter": "python",
            "pygments_lexer": "ipython3",
            "version": "3.10.2"
        },
        "orig_nbformat": 4
    },
    "nbformat": 4,
    "nbformat_minor": 2
}
