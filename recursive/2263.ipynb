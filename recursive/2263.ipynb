{
 "cells": [
  {
   "cell_type": "markdown",
   "metadata": {},
   "source": [
    "# [백준/트리의 순회](https://www.acmicpc.net/problem/2263)"
   ]
  },
  {
   "cell_type": "markdown",
   "metadata": {},
   "source": [
    "## 풀이과정"
   ]
  },
  {
   "cell_type": "markdown",
   "metadata": {},
   "source": [
    "### 첫번째 시도"
   ]
  },
  {
   "cell_type": "markdown",
   "metadata": {},
   "source": [
    "#### 풀이과정\n",
    "포스트오더로 루트 노드를 찾고 인오더에서 루트의 인덱스를 찾아 좌우 자식들을 분리한 뒤 각각 재귀하면 된다는 것을 인터넷 검색을 통해서 알아내서 구현하였습니다. 그러나 파이썬은 리스트를 분리할 때마다 리스트가 새로 생성되어 메모리 초과가 일어났습니다."
   ]
  },
  {
   "cell_type": "code",
   "execution_count": 46,
   "metadata": {},
   "outputs": [],
   "source": [
    "def solution():\n",
    "    import sys\n",
    "\n",
    "    sys.setrecursionlimit(100000)\n",
    "    n, *nums = map(int, sys.stdin.read().rstrip().split())\n",
    "\n",
    "    def recursive(in_order, post_order):\n",
    "        if len(post_order) <= 1:\n",
    "            return post_order\n",
    "        root = post_order.pop()\n",
    "        root_index = in_order.index(root)\n",
    "        left = recursive(in_order[:root_index], post_order[:root_index])\n",
    "        right = recursive(in_order[root_index + 1 :], post_order[root_index:])\n",
    "        return [root] + left + right\n",
    "\n",
    "    print(\" \".join(map(str, recursive(nums[:n], nums[n:]))))\n",
    "\n",
    "\n",
    "solution()"
   ]
  },
  {
   "cell_type": "markdown",
   "metadata": {},
   "source": [
    "### 두번째 시도"
   ]
  },
  {
   "cell_type": "markdown",
   "metadata": {},
   "source": [
    "#### 풀이과정\n",
    "기존 리스트는 건드리지 않고 인덱스를 기반으로 참조만 하는 방식으로 변경하였습니다. 또한 인오더에서 루트 노드의 인덱스를 검색할 때, 인오더 리스트에서 직접 검색하면 시간이 많이 걸리므로, 노드값을 키, 인오더의 인덱스를 값으로 갖고 있는 딕셔너리를 생성하여 바로 인덱스를 구할 수 있도록 구현하였습니다."
   ]
  },
  {
   "cell_type": "code",
   "execution_count": null,
   "metadata": {},
   "outputs": [],
   "source": [
    "def solution():\n",
    "    import sys\n",
    "\n",
    "    sys.setrecursionlimit(100000)\n",
    "    n, in_order, post_order = [input.split() for input in sys.stdin]\n",
    "    # 노드값을 키, 인오더의 인덱스를 값으로 갖고 있는 딕셔너리\n",
    "    in_index = {value: index for index, value in enumerate(in_order)}\n",
    "    # n 자체 보다는 n - 1 을 사용할 것이기 때문에 1을 빼고 저장\n",
    "    n = int(*n) - 1\n",
    "\n",
    "    # 루트를 찾아 출력하는 재귀함수\n",
    "    def recursive(in_left=0, in_right=n, post_left=0, post_right=n, pre_root=0):\n",
    "        # in_left, in_right : 인오더에서 좌우 인덱스 값\n",
    "        # post_left, post_right : 포스트오더에서 좌우 인덱스 값\n",
    "        if in_left > in_right or post_left > post_right:\n",
    "            # 좌우 인덱스 값의 순서가 바뀌었을 경우 함수를 실행하지 않고 종료\n",
    "            return\n",
    "        # 포스트 오더에서 루트를 찾고 출력\n",
    "        print(root := post_order[post_right])\n",
    "        # 인오더에서 루트의 인덱스를 검색\n",
    "        in_root = in_index[root]\n",
    "        # 루트의 인덱스로 좌 자식 트리의 크기 구하기\n",
    "        len_left = in_root - in_left\n",
    "        # 각각 좌우 자식 트리의 루트를 순서대로 출력\n",
    "        recursive(\n",
    "            in_left, in_root - 1, post_left, post_left + len_left - 1, pre_root + 1\n",
    "        )\n",
    "        recursive(\n",
    "            in_root + 1,\n",
    "            in_right,\n",
    "            post_left + len_left,\n",
    "            post_right - 1,\n",
    "            pre_root + len_left + 1,\n",
    "        )\n",
    "\n",
    "    # 함수 실행\n",
    "    recursive()\n",
    "\n",
    "\n",
    "solution()"
   ]
  },
  {
   "cell_type": "markdown",
   "metadata": {},
   "source": [
    "## 해답"
   ]
  },
  {
   "cell_type": "code",
   "execution_count": 40,
   "metadata": {},
   "outputs": [
    {
     "data": {
      "text/plain": [
       "[4, 2, 1, 3, 6, 5]"
      ]
     },
     "execution_count": 40,
     "metadata": {},
     "output_type": "execute_result"
    }
   ],
   "source": [
    "def recursive(in_order, post_order):\n",
    "    if len(post_order) <= 1:\n",
    "        return post_order\n",
    "    root = post_order.pop()\n",
    "    root_index = in_order.index(root)\n",
    "    left = recursive(in_order[:root_index], post_order[:root_index])\n",
    "    right = recursive(in_order[root_index + 1 :], post_order[root_index:])\n",
    "    return [root] + left + right\n",
    "\n",
    "\n",
    "recursive([1, 2, 3, 4, 5, 6], [1, 3, 2, 5, 6, 4])\n",
    "0, 1, 2, 3, 4, 5, 6"
   ]
  },
  {
   "cell_type": "code",
   "execution_count": 194,
   "metadata": {},
   "outputs": [],
   "source": [
    "def solution():\n",
    "    import sys\n",
    "\n",
    "    n, in_order, post_order = [input.split() for input in sys.stdin]\n",
    "    pre_order = [0] * (n := int(*n))\n",
    "    n -= 1\n",
    "\n",
    "    def recursive(in_left=0, in_right=n, post_left=0, post_right=n, pre_root=0):\n",
    "        if in_left > in_right or post_left > post_right:\n",
    "            return\n",
    "        root = pre_order[pre_root] = post_order[post_right]\n",
    "        in_root = in_order.index(root)\n",
    "        len_left = in_root - in_left\n",
    "        recursive(\n",
    "            in_left, in_root - 1, post_left, post_left + len_left - 1, pre_root + 1\n",
    "        )\n",
    "        recursive(\n",
    "            in_root + 1,\n",
    "            in_right,\n",
    "            post_left + len_left,\n",
    "            post_right - 1,\n",
    "            pre_root + len_left + 1,\n",
    "        )\n",
    "\n",
    "    recursive()\n",
    "    print(\" \".join(map(str, pre_order)))"
   ]
  },
  {
   "cell_type": "markdown",
   "metadata": {},
   "source": [
    "## 예제"
   ]
  },
  {
   "cell_type": "code",
   "execution_count": 195,
   "metadata": {},
   "outputs": [
    {
     "name": "stdout",
     "output_type": "stream",
     "text": [
      "The blackcellmagic extension is already loaded. To reload it, use:\n",
      "  %reload_ext blackcellmagic\n"
     ]
    }
   ],
   "source": [
    "# black 모듈을 jupyter notebook 내에서 사용 가능하게 만들어주는 blackcellmagic 모듈 불러오기\n",
    "%load_ext blackcellmagic\n",
    "# %%black\n",
    "\n",
    "# 백준 문제 풀이용 예제 실행 코드\n",
    "from bwj import test\n",
    "\n",
    "test_solution = test(solution)\n",
    "\n",
    "# test_solution(\"\"\"\"\"\")\n",
    "# test_solution(read(\"fn\").read())"
   ]
  },
  {
   "cell_type": "code",
   "execution_count": 196,
   "metadata": {},
   "outputs": [
    {
     "name": "stdout",
     "output_type": "stream",
     "text": [
      "8 4 2 1 3 6 5 7 12 10 9 11 14 13 15\n"
     ]
    }
   ],
   "source": [
    "test_solution(\n",
    "    \"\"\"15\n",
    "1 2 3 4 5 6 7 8 9 10 11 12 13 14 15\n",
    "1 3 2 5 7 6 4 9 11 10 13 15 14 12 8\n",
    "\"\"\"\n",
    ")  # 4 2 1 3 6 5 7"
   ]
  },
  {
   "cell_type": "code",
   "execution_count": 197,
   "metadata": {},
   "outputs": [
    {
     "name": "stdout",
     "output_type": "stream",
     "text": [
      "4 2 1 3 6 5\n"
     ]
    }
   ],
   "source": [
    "test_solution(\n",
    "    \"\"\"6\n",
    "1 2 3 4 5 6\n",
    "1 3 2 5 6 4\n",
    "\"\"\"\n",
    ")  # 4 2 1 3 6 5"
   ]
  },
  {
   "cell_type": "code",
   "execution_count": 198,
   "metadata": {},
   "outputs": [
    {
     "name": "stdout",
     "output_type": "stream",
     "text": [
      "4 2 1 3 6 5 7\n"
     ]
    }
   ],
   "source": [
    "test_solution(\n",
    "    \"\"\"7\n",
    "1 2 3 4 5 6 7\n",
    "1 3 2 5 7 6 4\n",
    "\"\"\"\n",
    ")  # 4 2 1 3 6 5 7"
   ]
  },
  {
   "cell_type": "code",
   "execution_count": 199,
   "metadata": {},
   "outputs": [
    {
     "name": "stdout",
     "output_type": "stream",
     "text": [
      "2 1 3\n"
     ]
    }
   ],
   "source": [
    "test_solution(\n",
    "    \"\"\"3\n",
    "1 2 3\n",
    "1 3 2\n",
    "\"\"\"\n",
    ")  # 2 1 3"
   ]
  }
 ],
 "metadata": {
  "kernelspec": {
   "display_name": "Python 3.10.4 ('venv': venv)",
   "language": "python",
   "name": "python3"
  },
  "language_info": {
   "codemirror_mode": {
    "name": "ipython",
    "version": 3
   },
   "file_extension": ".py",
   "mimetype": "text/x-python",
   "name": "python",
   "nbconvert_exporter": "python",
   "pygments_lexer": "ipython3",
   "version": "3.10.4"
  },
  "orig_nbformat": 4,
  "vscode": {
   "interpreter": {
    "hash": "72904a014a9ffe38f4c58942120b599b3c5a87d06764037548e0139929c1cde3"
   }
  }
 },
 "nbformat": 4,
 "nbformat_minor": 2
}
