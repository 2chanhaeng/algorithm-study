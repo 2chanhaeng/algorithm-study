{
 "cells": [
  {
   "cell_type": "markdown",
   "metadata": {},
   "source": [
    "# [백준/트리 순회](https://www.acmicpc.net/problem/1991)"
   ]
  },
  {
   "cell_type": "markdown",
   "metadata": {},
   "source": [
    "## 풀이과정"
   ]
  },
  {
   "cell_type": "markdown",
   "metadata": {},
   "source": [
    "### 첫번째 시도"
   ]
  },
  {
   "cell_type": "markdown",
   "metadata": {},
   "source": [
    "풀이과정"
   ]
  },
  {
   "cell_type": "code",
   "execution_count": 36,
   "metadata": {},
   "outputs": [],
   "source": [
    "def solution():\n",
    "    import sys\n",
    "\n",
    "    input = iter(sys.stdin.read().split(\"\\n\")).__next__\n",
    "    tree = {}\n",
    "    for _ in range(int(input())):\n",
    "        i, j, k = input().split()\n",
    "        if j == \".\":\n",
    "            j = None\n",
    "        if k == \".\":\n",
    "            k = None\n",
    "        tree[i] = (j, k)\n",
    "    top = (set(tree.keys()) - set().union(*tree.values())).pop()\n",
    "\n",
    "    def recursive(root, tree):\n",
    "        if root == None:\n",
    "            return \"\", \"\", \"\"\n",
    "        l, r = tree[root]\n",
    "        ll, lm, lr = recursive(l, tree)\n",
    "        rl, rm, rr = recursive(r, tree)\n",
    "        return root + ll + rl, lm + root + rm, lr + rr + root\n",
    "\n",
    "    print(*recursive(top, tree))\n",
    "\n",
    "\n",
    "solution()"
   ]
  },
  {
   "cell_type": "markdown",
   "metadata": {},
   "source": [
    "## 해답"
   ]
  },
  {
   "cell_type": "code",
   "execution_count": 29,
   "metadata": {},
   "outputs": [],
   "source": [
    "def recursive(root, tree):\n",
    "    if root == None:\n",
    "        return \"\", \"\", \"\"\n",
    "    l, r = tree[root]\n",
    "    ll, lm, lr = recursive(l, tree)\n",
    "    rl, rm, rr = recursive(r, tree)\n",
    "    return root + ll + rl, lm + root + rm, lr + rr + root"
   ]
  },
  {
   "cell_type": "code",
   "execution_count": 33,
   "metadata": {},
   "outputs": [],
   "source": [
    "def solution(open=open):\n",
    "    input = iter(open(0).read().split(\"\\n\")).__next__\n",
    "    tree = {}\n",
    "    for _ in range(int(input())):\n",
    "        i, j, k = input().split()\n",
    "        if j == \".\":\n",
    "            j = None\n",
    "        if k == \".\":\n",
    "            k = None\n",
    "        tree[i] = (j, k)\n",
    "    top = (set(tree.keys()) - set().union(*tree.values())).pop()\n",
    "    print(*recursive(top, tree))"
   ]
  },
  {
   "cell_type": "markdown",
   "metadata": {},
   "source": [
    "## 예제"
   ]
  },
  {
   "cell_type": "code",
   "execution_count": 34,
   "metadata": {},
   "outputs": [],
   "source": [
    "# 백준 문제 풀이용 예제 실행 코드\n",
    "from bwj import test\n",
    "\n",
    "test_solution = test(solution)\n",
    "\n",
    "# test_solution(\"\"\"\"\"\")\n",
    "# test_solution(read(\"fn\").read())"
   ]
  },
  {
   "cell_type": "code",
   "execution_count": 35,
   "metadata": {},
   "outputs": [
    {
     "name": "stdout",
     "output_type": "stream",
     "text": [
      "ABDCEFG DBAECFG DBEGFCA\n"
     ]
    }
   ],
   "source": [
    "test_solution(\n",
    "    \"\"\"7\n",
    "A B C\n",
    "B D .\n",
    "C E F\n",
    "E . .\n",
    "F . G\n",
    "D . .\n",
    "G . .\"\"\"\n",
    ")\n",
    "# answer:\n",
    "# ABDCEFG\n",
    "# DBAECFG\n",
    "# DBEGFCA"
   ]
  }
 ],
 "metadata": {
  "interpreter": {
   "hash": "6f343a80023390f07f657f7b7b783138624f73d36da2400954869fbeb113b94b"
  },
  "kernelspec": {
   "display_name": "Python 3.10.2 ('venv': venv)",
   "language": "python",
   "name": "python3"
  },
  "language_info": {
   "codemirror_mode": {
    "name": "ipython",
    "version": 3
   },
   "file_extension": ".py",
   "mimetype": "text/x-python",
   "name": "python",
   "nbconvert_exporter": "python",
   "pygments_lexer": "ipython3",
   "version": "3.10.2"
  },
  "orig_nbformat": 4
 },
 "nbformat": 4,
 "nbformat_minor": 2
}
