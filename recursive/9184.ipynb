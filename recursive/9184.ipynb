{
    "cells": [
        {
            "cell_type": "markdown",
            "metadata": {},
            "source": [
                "# [백준/신나는 함수 실행](https://www.acmicpc.net/problem/9184)"
            ]
        },
        {
            "cell_type": "markdown",
            "metadata": {},
            "source": [
                "## 풀이과정"
            ]
        },
        {
            "cell_type": "markdown",
            "metadata": {},
            "source": [
                "### 첫번째 시도"
            ]
        },
        {
            "cell_type": "markdown",
            "metadata": {},
            "source": [
                "풀이과정"
            ]
        },
        {
            "cell_type": "code",
            "execution_count": 12,
            "metadata": {},
            "outputs": [],
            "source": [
                "from functools import cache\n",
                "\n",
                "\n",
                "@cache\n",
                "def w(a, b, c):\n",
                "    if a <= 0 or b <= 0 or c <= 0:\n",
                "        return 1\n",
                "\n",
                "    if a > 20 or b > 20 or c > 20:\n",
                "        return w(20, 20, 20)\n",
                "\n",
                "    if a < b and b < c:\n",
                "        return w(a, b, c - 1) + w(a, b - 1, c - 1) - w(a, b - 1, c)\n",
                "\n",
                "    else:\n",
                "        return (\n",
                "            w(a - 1, b, c)\n",
                "            + w(a - 1, b - 1, c)\n",
                "            + w(a - 1, b, c - 1)\n",
                "            - w(a - 1, b - 1, c - 1)\n",
                "        )\n",
                "\n",
                "\n",
                "def solution(open=open, w=w):\n",
                "    for input in open(0).read().split(\"\\n\"):\n",
                "        if input == \"-1 -1 -1\":\n",
                "            return\n",
                "        a, b, c = map(int, input.split())\n",
                "        print(f\"w({a}, {b}, {c}) = {w(a, b, c)}\")\n",
                "\n",
                "\n",
                "solution()"
            ]
        },
        {
            "cell_type": "markdown",
            "metadata": {},
            "source": [
                "## 해답"
            ]
        },
        {
            "cell_type": "code",
            "execution_count": 1,
            "metadata": {},
            "outputs": [],
            "source": [
                "from functools import cache"
            ]
        },
        {
            "cell_type": "code",
            "execution_count": 7,
            "metadata": {},
            "outputs": [],
            "source": [
                "@cache\n",
                "def w(a, b, c):\n",
                "    if a <= 0 or b <= 0 or c <= 0:\n",
                "        return 1\n",
                "\n",
                "    if a > 20 or b > 20 or c > 20:\n",
                "        return w(20, 20, 20)\n",
                "\n",
                "    if a < b and b < c:\n",
                "        return w(a, b, c-1) + w(a, b-1, c-1) - w(a, b-1, c)\n",
                "\n",
                "    else:\n",
                "        return w(a-1, b, c) + w(a-1, b-1, c) + w(a-1, b, c-1) - w(a-1, b-1, c-1)"
            ]
        },
        {
            "cell_type": "code",
            "execution_count": 8,
            "metadata": {},
            "outputs": [],
            "source": [
                "def solution(open = open):\n",
                "    for input in open(0).read().split(\"\\n\"):\n",
                "        if input == \"-1 -1 -1\":\n",
                "            return\n",
                "        a, b, c = map(int, input.split())\n",
                "        print(f\"w({a}, {b}, {c}) = {w(a, b, c)}\")"
            ]
        },
        {
            "cell_type": "markdown",
            "metadata": {},
            "source": [
                "## 예제"
            ]
        },
        {
            "cell_type": "code",
            "execution_count": 10,
            "metadata": {},
            "outputs": [],
            "source": [
                "# 백준 문제 풀이용 예제 실행 코드\n",
                "from bwj import test\n",
                "test_solution = test(solution)\n",
                "\n",
                "# test_solution(\"\"\"\"\"\")\n",
                "# test_solution(read(\"fn\").read())"
            ]
        },
        {
            "cell_type": "code",
            "execution_count": 11,
            "metadata": {},
            "outputs": [
                {
                    "name": "stdout",
                    "output_type": "stream",
                    "text": [
                        "w(1, 1, 1) = 2\n",
                        "w(2, 2, 2) = 4\n",
                        "w(10, 4, 6) = 523\n",
                        "w(50, 50, 50) = 1048576\n",
                        "w(-1, 7, 18) = 1\n"
                    ]
                }
            ],
            "source": [
                "test_solution(\"\"\"1 1 1\n",
                "2 2 2\n",
                "10 4 6\n",
                "50 50 50\n",
                "-1 7 18\n",
                "-1 -1 -1\"\"\")\n",
                "# answer:\n",
                "# w(1, 1, 1) = 2\n",
                "# w(2, 2, 2) = 4\n",
                "# w(10, 4, 6) = 523\n",
                "# w(50, 50, 50) = 1048576\n",
                "# w(-1, 7, 18) = 1"
            ]
        }
    ],
    "metadata": {
        "interpreter": {
            "hash": "6f343a80023390f07f657f7b7b783138624f73d36da2400954869fbeb113b94b"
        },
        "kernelspec": {
            "display_name": "Python 3.10.2 ('venv': venv)",
            "language": "python",
            "name": "python3"
        },
        "language_info": {
            "codemirror_mode": {
                "name": "ipython",
                "version": 3
            },
            "file_extension": ".py",
            "mimetype": "text/x-python",
            "name": "python",
            "nbconvert_exporter": "python",
            "pygments_lexer": "ipython3",
            "version": "3.10.2"
        },
        "orig_nbformat": 4
    },
    "nbformat": 4,
    "nbformat_minor": 2
}
