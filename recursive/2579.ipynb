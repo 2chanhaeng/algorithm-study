{
  "cells": [
    {
      "cell_type": "markdown",
      "metadata": {
        "id": "Mvxtqtce2CO7"
      },
      "source": [
        "# [백준/계단 오르기](https://www.acmicpc.net/problem/2579)"
      ]
    },
    {
      "cell_type": "markdown",
      "metadata": {
        "id": "JfSd3Xu82CO9"
      },
      "source": [
        "## 풀이과정"
      ]
    },
    {
      "cell_type": "markdown",
      "metadata": {
        "id": "dP37M6JO2CO-"
      },
      "source": [
        "### 첫번째 시도"
      ]
    },
    {
      "cell_type": "markdown",
      "metadata": {
        "id": "udXE7nAd2CPA"
      },
      "source": [
        "풀이과정"
      ]
    },
    {
      "cell_type": "code",
      "execution_count": null,
      "metadata": {
        "id": "LvrpZYaS2CPB"
      },
      "outputs": [],
      "source": [
        "def solution(open = open):\n",
        "    inputs = map(int, open(0).read().split())\n",
        "    length = next(inputs)\n",
        "    stairs = [*inputs]\n",
        "    stair_sum = [0] * (length)\n",
        "    stair_sum[0] = stairs[0]\n",
        "    if length > 1:\n",
        "        stair_sum[1] = stairs[0] + stairs[1]\n",
        "        if length > 2:\n",
        "            stair_sum[2] = max(stair_sum[0] + stairs[2], stairs[1] + stairs[2])\n",
        "            if length > 3:\n",
        "                for i, stair in enumerate(stairs[3:], 3):\n",
        "                    stair_sum[i] = stair + max(stair_sum[i - 2], stair_sum[i - 3] + stairs[i - 1])\n",
        "    print(stair_sum[-1])\n",
        "    \n",
        "solution()"
      ]
    },
    {
      "cell_type": "markdown",
      "metadata": {
        "id": "089BQZS22CPB"
      },
      "source": [
        "## 해답"
      ]
    },
    {
      "cell_type": "markdown",
      "metadata": {
        "id": "aQXqYdYm2CPE"
      },
      "source": [
        "## 예제"
      ]
    },
    {
      "cell_type": "code",
      "execution_count": 1,
      "metadata": {
        "id": "yTHhqpYg2CPD"
      },
      "outputs": [],
      "source": [
        "def solution(open = open):\n",
        "    inputs = map(int, open(0).read().split())\n",
        "    length = next(inputs)\n",
        "    stairs = [*inputs]\n",
        "    stair_sum = [0] * (length)\n",
        "    stair_sum[0] = stairs[0]\n",
        "    if length > 1:\n",
        "        stair_sum[1] = stairs[0] + stairs[1]\n",
        "        if length > 2:\n",
        "            stair_sum[2] = max(stair_sum[0] + stairs[2], stairs[1] + stairs[2])\n",
        "            if length > 3:\n",
        "                for i, stair in enumerate(stairs[3:], 3):\n",
        "                    stair_sum[i] = stair + max(stair_sum[i - 2], stair_sum[i - 3] + stairs[i - 1])\n",
        "    print(stair_sum[-1])"
      ]
    },
    {
      "cell_type": "code",
      "execution_count": null,
      "metadata": {
        "id": "QyQ3pCnM2CPF"
      },
      "outputs": [],
      "source": [
        "# 백준 문제 풀이용 예제 실행 코드\n",
        "from bwj import test\n",
        "test_solution = test(solution)\n",
        "\n",
        "# test_solution(\"\"\"\"\"\")\n",
        "# test_solution(read(\"fn\").read())"
      ]
    },
    {
      "cell_type": "code",
      "source": [
        "test_solution(\"\"\"1\n",
        "10\"\"\") # 10"
      ],
      "metadata": {
        "id": "UgkY-bBI2H3w",
        "outputId": "e6023ac8-69ef-4e85-8134-7587bf4fa33b",
        "colab": {
          "base_uri": "https://localhost:8080/"
        }
      },
      "execution_count": 31,
      "outputs": [
        {
          "output_type": "stream",
          "name": "stdout",
          "text": [
            "10\n"
          ]
        }
      ]
    },
    {
      "cell_type": "code",
      "execution_count": 32,
      "metadata": {
        "id": "o45ohugF2CPG",
        "outputId": "78c1f8ea-d7a0-48e0-a15f-e2eed41992fb",
        "colab": {
          "base_uri": "https://localhost:8080/"
        }
      },
      "outputs": [
        {
          "output_type": "stream",
          "name": "stdout",
          "text": [
            "75\n"
          ]
        }
      ],
      "source": [
        "test_solution(\"\"\"6\n",
        "10\n",
        "20\n",
        "15\n",
        "25\n",
        "10\n",
        "20\"\"\") # 75"
      ]
    },
    {
      "cell_type": "code",
      "execution_count": 33,
      "metadata": {
        "id": "M4y6e4n92CPH",
        "outputId": "31da67bc-3120-41a1-d745-874a07dc26e5",
        "colab": {
          "base_uri": "https://localhost:8080/"
        }
      },
      "outputs": [
        {
          "output_type": "stream",
          "name": "stdout",
          "text": [
            "16\n"
          ]
        }
      ],
      "source": [
        "test_solution(\"\"\"5\n",
        "1\n",
        "4\n",
        "3\n",
        "1\n",
        "9\"\"\") # 16"
      ]
    },
    {
      "cell_type": "code",
      "execution_count": 34,
      "metadata": {
        "id": "lrg2HCLB2CPI",
        "outputId": "ad3beb1c-4a83-4e99-ac74-7d8005500991",
        "colab": {
          "base_uri": "https://localhost:8080/"
        }
      },
      "outputs": [
        {
          "output_type": "stream",
          "name": "stdout",
          "text": [
            "13\n"
          ]
        }
      ],
      "source": [
        "test_solution(\"\"\"4\n",
        "1\n",
        "9\n",
        "2\n",
        "3\"\"\") # 13"
      ]
    }
  ],
  "metadata": {
    "interpreter": {
      "hash": "73891b0dc2e53390f36276e59930dd4ecab91b05b5c90320c2d5b1c443f87069"
    },
    "kernelspec": {
      "display_name": "Python 3.10.1 ('venv': venv)",
      "language": "python",
      "name": "python3"
    },
    "language_info": {
      "codemirror_mode": {
        "name": "ipython",
        "version": 3
      },
      "file_extension": ".py",
      "mimetype": "text/x-python",
      "name": "python",
      "nbconvert_exporter": "python",
      "pygments_lexer": "ipython3",
      "version": "3.10.2"
    },
    "orig_nbformat": 4,
    "colab": {
      "name": "2579.ipynb",
      "provenance": []
    }
  },
  "nbformat": 4,
  "nbformat_minor": 0
}