{
 "cells": [
  {
   "cell_type": "markdown",
   "metadata": {},
   "source": [
    "# [백준/두 단계 최단 경로 4](https://www.acmicpc.net/problem/23840)"
   ]
  },
  {
   "cell_type": "markdown",
   "metadata": {},
   "source": [
    "## 풀이과정"
   ]
  },
  {
   "cell_type": "markdown",
   "metadata": {},
   "source": [
    "### 첫번째 시도"
   ]
  },
  {
   "cell_type": "markdown",
   "metadata": {},
   "source": [
    "#### 풀이과정"
   ]
  },
  {
   "cell_type": "code",
   "execution_count": null,
   "metadata": {},
   "outputs": [],
   "source": [
    "# solution()"
   ]
  },
  {
   "cell_type": "markdown",
   "metadata": {},
   "source": [
    "## 해답"
   ]
  },
  {
   "cell_type": "code",
   "execution_count": 17,
   "metadata": {},
   "outputs": [
    {
     "name": "stdout",
     "output_type": "stream",
     "text": [
      "2.27 ms ± 6.83 µs per loop (mean ± std. dev. of 7 runs, 100 loops each)\n",
      "7.06 ms ± 20.2 µs per loop (mean ± std. dev. of 7 runs, 100 loops each)\n",
      "6.89 ms ± 17.7 µs per loop (mean ± std. dev. of 7 runs, 100 loops each)\n"
     ]
    }
   ],
   "source": [
    "%timeit store0 = [[x * y for x in range(300)] for y in range(300)]\n",
    "%timeit store1 = {(x, y): x * y for x in range(300) for y in range(300)}\n",
    "%timeit store2 = {frozenset((x, y)): x * y for x in range(300) for y in range(x, 300)}"
   ]
  },
  {
   "cell_type": "code",
   "execution_count": 14,
   "metadata": {},
   "outputs": [],
   "source": [
    "def solution():\n",
    "    import sys\n",
    "\n",
    "    (N, M), *edges, (S, E), (P,), (*must,) = [\n",
    "        map(int, line.split()) for line in sys.stdin.read().splitlines()\n",
    "    ]\n",
    "    print(N, M, S, E, P, must)\n",
    "    n = N + 1\n",
    "    graph = [[0] * n for _ in range(n)]\n",
    "    for a, b, w in edges:\n",
    "        graph[a][b] = graph[b][a] = w\n",
    "    for line in graph:\n",
    "        print(line)"
   ]
  },
  {
   "cell_type": "markdown",
   "metadata": {},
   "source": [
    "## 예제"
   ]
  },
  {
   "cell_type": "code",
   "execution_count": 15,
   "metadata": {},
   "outputs": [
    {
     "name": "stdout",
     "output_type": "stream",
     "text": [
      "The blackcellmagic extension is already loaded. To reload it, use:\n",
      "  %reload_ext blackcellmagic\n"
     ]
    }
   ],
   "source": [
    "# black 모듈을 jupyter notebook 내에서 사용 가능하게 만들어주는 blackcellmagic 모듈 불러오기\n",
    "%load_ext blackcellmagic\n",
    "# %%black\n",
    "\n",
    "# 백준 문제 풀이용 예제 실행 코드\n",
    "from bwj import test\n",
    "\n",
    "test_solution = test(solution)\n",
    "\n",
    "# test_solution(\"\"\"\"\"\")\n",
    "# test_solution(read(\"fn\").read())"
   ]
  },
  {
   "cell_type": "code",
   "execution_count": 16,
   "metadata": {},
   "outputs": [
    {
     "name": "stdout",
     "output_type": "stream",
     "text": [
      "10 16 [<map object at 0x1080d0eb0>, <map object at 0x1080d11b0>, <map object at 0x108050580>, <map object at 0x108051780>, <map object at 0x108050b50>, <map object at 0x108053760>, <map object at 0x1080509d0>, <map object at 0x108050220>, <map object at 0x108051a50>, <map object at 0x108051330>, <map object at 0x107ea5f60>, <map object at 0x107ea6e60>, <map object at 0x107ea7d00>, <map object at 0x107ea6710>, <map object at 0x107ea5450>, <map object at 0x107ea7e20>] 1 10 3 [2, 5, 3]\n",
      "[0, 0, 0, 0, 0, 0, 0, 0, 0, 0, 0]\n",
      "[0, 0, 1, 100, 100, 100, 0, 0, 0, 0, 0]\n",
      "[0, 1, 0, 100, 0, 0, 1, 0, 0, 0, 0]\n",
      "[0, 100, 100, 0, 100, 0, 100, 1, 0, 0, 0]\n",
      "[0, 100, 0, 100, 0, 100, 0, 100, 1, 0, 0]\n",
      "[0, 100, 0, 0, 100, 0, 0, 0, 0, 1, 0]\n",
      "[0, 0, 1, 100, 0, 0, 0, 0, 0, 0, 1]\n",
      "[0, 0, 0, 1, 100, 0, 0, 0, 0, 0, 1]\n",
      "[0, 0, 0, 0, 1, 0, 0, 0, 0, 0, 0]\n",
      "[0, 0, 0, 0, 0, 1, 0, 0, 0, 0, 1]\n",
      "[0, 0, 0, 0, 0, 0, 1, 1, 0, 1, 0]\n"
     ]
    }
   ],
   "source": [
    "test_solution(\n",
    "    \"\"\"10 16\n",
    "1 2 1\n",
    "1 3 100\n",
    "1 4 100\n",
    "1 5 100\n",
    "2 3 100\n",
    "2 6 1\n",
    "3 4 100\n",
    "3 6 100\n",
    "3 7 1\n",
    "4 5 100\n",
    "4 7 100\n",
    "4 8 1\n",
    "5 9 1\n",
    "6 10 1\n",
    "7 10 1\n",
    "9 10 1\n",
    "1 10\n",
    "3\n",
    "2 5 3\n",
    "\"\"\"\n",
    ")  # 11"
   ]
  }
 ],
 "metadata": {
  "kernelspec": {
   "display_name": "venv",
   "language": "python",
   "name": "python3"
  },
  "language_info": {
   "codemirror_mode": {
    "name": "ipython",
    "version": 3
   },
   "file_extension": ".py",
   "mimetype": "text/x-python",
   "name": "python",
   "nbconvert_exporter": "python",
   "pygments_lexer": "ipython3",
   "version": "3.10.8 (main, Oct 13 2022, 09:48:40) [Clang 14.0.0 (clang-1400.0.29.102)]"
  },
  "orig_nbformat": 4,
  "vscode": {
   "interpreter": {
    "hash": "72904a014a9ffe38f4c58942120b599b3c5a87d06764037548e0139929c1cde3"
   }
  }
 },
 "nbformat": 4,
 "nbformat_minor": 2
}
