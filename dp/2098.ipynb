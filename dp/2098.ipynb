{
 "cells": [
  {
   "cell_type": "markdown",
   "metadata": {},
   "source": [
    "# [백준/외판원 순회](https://www.acmicpc.net/problem/2098)"
   ]
  },
  {
   "cell_type": "markdown",
   "metadata": {},
   "source": [
    "## 풀이과정"
   ]
  },
  {
   "cell_type": "markdown",
   "metadata": {},
   "source": [
    "### 첫번째 시도"
   ]
  },
  {
   "cell_type": "markdown",
   "metadata": {},
   "source": [
    "#### 풀이과정"
   ]
  },
  {
   "cell_type": "code",
   "execution_count": null,
   "metadata": {},
   "outputs": [],
   "source": [
    "def solution():\n",
    "    import sys\n",
    "    from math import inf\n",
    "    from functools import cache\n",
    "\n",
    "    n = int(sys.stdin.readline())\n",
    "    graph = [list(map(int, line.split())) for line in sys.stdin.read().splitlines()]\n",
    "\n",
    "    @cache\n",
    "    def dfs(x, visited):\n",
    "        if visited.bit_count() == n - 1:\n",
    "            return graph[x][0] if graph[x][0] else inf\n",
    "        dist = lambda i: dfs(i, visited | 1 << i - 1) + graph[x][i]\n",
    "        pred = lambda i: not visited & 1 << i - 1 and graph[x][i]\n",
    "        comp = [dist(i) for i in range(1, n) if pred(i)]\n",
    "        return min(comp) if comp else inf\n",
    "\n",
    "    print(dfs(0, 0))\n",
    "\n",
    "\n",
    "solution()"
   ]
  },
  {
   "attachments": {},
   "cell_type": "markdown",
   "metadata": {},
   "source": [
    "#### 숏코드"
   ]
  },
  {
   "cell_type": "code",
   "execution_count": null,
   "metadata": {},
   "outputs": [],
   "source": [
    "import functools as F\n",
    "\n",
    "I, i = float(\"inf\"), input\n",
    "N = int(i())\n",
    "G, J = [list(map(int, i().split())) for () in [()] * N], (1 << N - 1) - 1\n",
    "print(\n",
    "    (\n",
    "        D := F.cache(\n",
    "            lambda x, V: min(\n",
    "                [\n",
    "                    I,\n",
    "                    *(\n",
    "                        D(i, V | L) + G[x][i]\n",
    "                        for i in range(1, N)\n",
    "                        if G[x][i] and not (L := 1 << i - 1) & V\n",
    "                    ),\n",
    "                ]\n",
    "            )\n",
    "            if V != J\n",
    "            else g\n",
    "            if (g := G[x][0])\n",
    "            else I\n",
    "        )\n",
    "    )(0, 0)\n",
    ")"
   ]
  },
  {
   "attachments": {},
   "cell_type": "markdown",
   "metadata": {},
   "source": [
    "![2023년 1월 2일 22시 기준 2098번 숏코드 262비트로 1위](../img/Screenshot%202023-01-02%20at%2022-08-06%202098%EB%B2%88%20%EC%88%8F%EC%BD%94%EB%94%A9%20-%201%20%ED%8E%98%EC%9D%B4%EC%A7%80.png)"
   ]
  },
  {
   "cell_type": "markdown",
   "metadata": {},
   "source": [
    "## 해답"
   ]
  },
  {
   "cell_type": "code",
   "execution_count": 154,
   "metadata": {},
   "outputs": [
    {
     "data": {
      "text/plain": [
       "15"
      ]
     },
     "execution_count": 154,
     "metadata": {},
     "output_type": "execute_result"
    }
   ],
   "source": [
    "def solution():\n",
    "    import sys\n",
    "    from math import inf\n",
    "    from functools import cache\n",
    "\n",
    "    n = int(sys.stdin.readline())\n",
    "    graph = [list(map(int, line.split())) for line in sys.stdin.read().splitlines()]\n",
    "\n",
    "    @cache\n",
    "    def dfs(x, visited):\n",
    "        if visited.bit_count() == n - 1:\n",
    "            return graph[x][0] if graph[x][0] else inf\n",
    "        dist = lambda i: dfs(i, visited | 1 << i - 1) + graph[x][i]\n",
    "        pred = lambda i: not visited & 1 << i - 1 and graph[x][i]\n",
    "        comp = [dist(i) for i in range(1, n) if pred(i)]\n",
    "        return min(comp) if comp else inf\n",
    "\n",
    "    print(dfs(0, 0))"
   ]
  },
  {
   "cell_type": "markdown",
   "metadata": {},
   "source": [
    "## 예제"
   ]
  },
  {
   "cell_type": "code",
   "execution_count": 62,
   "metadata": {},
   "outputs": [
    {
     "name": "stdout",
     "output_type": "stream",
     "text": [
      "The blackcellmagic extension is already loaded. To reload it, use:\n",
      "  %reload_ext blackcellmagic\n"
     ]
    }
   ],
   "source": [
    "# black 모듈을 jupyter notebook 내에서 사용 가능하게 만들어주는 blackcellmagic 모듈 불러오기\n",
    "%load_ext blackcellmagic\n",
    "# %%black\n",
    "\n",
    "# 백준 문제 풀이용 예제 실행 코드\n",
    "from bwj import test\n",
    "\n",
    "test_solution = test(solution)\n",
    "\n",
    "# test_solution(\"\"\"\"\"\")\n",
    "# test_solution(read(\"fn\").read())"
   ]
  },
  {
   "cell_type": "code",
   "execution_count": 63,
   "metadata": {},
   "outputs": [
    {
     "name": "stdout",
     "output_type": "stream",
     "text": [
      "11\n"
     ]
    }
   ],
   "source": [
    "test_solution(\n",
    "    \"\"\"4\n",
    "0 1 2 3\n",
    "2 0 3 0\n",
    "3 0 0 0\n",
    "1 2 3 0\n",
    "\"\"\"\n",
    ")  # 11"
   ]
  },
  {
   "cell_type": "code",
   "execution_count": 64,
   "metadata": {},
   "outputs": [
    {
     "name": "stdout",
     "output_type": "stream",
     "text": [
      "20\n"
     ]
    }
   ],
   "source": [
    "test_solution(\n",
    "    \"\"\"4\n",
    "0 7 3 3\n",
    "7 0 9 2\n",
    "1 9 0 12\n",
    "7 7 12 0\n",
    "\"\"\"\n",
    ")  # 20"
   ]
  },
  {
   "cell_type": "code",
   "execution_count": 65,
   "metadata": {},
   "outputs": [
    {
     "name": "stdout",
     "output_type": "stream",
     "text": [
      "32798\n"
     ]
    }
   ],
   "source": [
    "test_solution(\n",
    "    \"\"\"16\n",
    "0 32769 32770 32771 32772 32773 32774 32775 32776 32777 32778 32779 32780 32781 32782 32783 \n",
    "1 0 16386 16387 16388 16389 16390 16391 16392 16393 16394 16395 16396 16397 16398 16399\n",
    "1 1 0 8195 8196 8197 8198 8199 8200 8201 8202 8203 8204 8205 8206 8207\n",
    "1 1 1 0 4100 4101 4102 4103 4104 4105 4106 4107 4108 4109 4110 4111\n",
    "1 1 1 1 0 2053 2054 2055 2056 2057 2058 2059 2060 2061 2062 2063\n",
    "1 1 1 1 1 0 1030 1031 1032 1033 1034 1035 1036 1037 1038 1039\n",
    "1 1 1 1 1 1 0 519 520 521 522 523 524 525 526 527\n",
    "1 1 1 1 1 1 1 0 264 265 266 267 268 269 270 271 \n",
    "1 1 1 1 1 1 1 1 0 137 138 139 140 141 142 143\n",
    "1 1 1 1 1 1 1 1 1 0 74 75 76 77 78 79\n",
    "1 1 1 1 1 1 1 1 1 1 0 43 44 45 46 47\n",
    "1 1 1 1 1 1 1 1 1 1 1 0 28 29 30 31\n",
    "1 1 1 1 1 1 1 1 1 1 1 1 0 21 22 23\n",
    "1 1 1 1 1 1 1 1 1 1 1 1 1 0 18 19\n",
    "1 1 1 1 1 1 1 1 1 1 1 1 1 1 0 17\n",
    "1 1 1 1 1 1 1 1 1 1 1 1 1 1 1 0\n",
    "\"\"\"\n",
    ")  # 32798"
   ]
  },
  {
   "cell_type": "code",
   "execution_count": 66,
   "metadata": {},
   "outputs": [
    {
     "name": "stdout",
     "output_type": "stream",
     "text": [
      "35\n"
     ]
    }
   ],
   "source": [
    "test_solution(\n",
    "    \"\"\"4\n",
    "0 10 15 20\n",
    "5 0 9 10\n",
    "6 13 0 12\n",
    "8 8 9 0\n",
    "\"\"\"\n",
    ")  # 35"
   ]
  }
 ],
 "metadata": {
  "kernelspec": {
   "display_name": "venv",
   "language": "python",
   "name": "python3"
  },
  "language_info": {
   "codemirror_mode": {
    "name": "ipython",
    "version": 3
   },
   "file_extension": ".py",
   "mimetype": "text/x-python",
   "name": "python",
   "nbconvert_exporter": "python",
   "pygments_lexer": "ipython3",
   "version": "3.10.8 (main, Oct 13 2022, 09:48:40) [Clang 14.0.0 (clang-1400.0.29.102)]"
  },
  "orig_nbformat": 4,
  "vscode": {
   "interpreter": {
    "hash": "72904a014a9ffe38f4c58942120b599b3c5a87d06764037548e0139929c1cde3"
   }
  }
 },
 "nbformat": 4,
 "nbformat_minor": 2
}
