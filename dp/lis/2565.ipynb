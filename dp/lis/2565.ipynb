{
    "cells": [
        {
            "cell_type": "markdown",
            "metadata": {},
            "source": [
                "# [백준/전깃줄](https://www.acmicpc.net/problem/2565)\n"
            ]
        },
        {
            "cell_type": "markdown",
            "metadata": {},
            "source": [
                "## 풀이과정\n"
            ]
        },
        {
            "cell_type": "markdown",
            "metadata": {},
            "source": [
                "### 첫번째 시도\n"
            ]
        },
        {
            "cell_type": "markdown",
            "metadata": {},
            "source": [
                "#### 풀이과정\n"
            ]
        },
        {
            "cell_type": "code",
            "execution_count": null,
            "metadata": {},
            "outputs": [],
            "source": [
                "def solution():\n",
                "    import sys\n",
                "    from bisect import bisect_left as bl\n",
                "\n",
                "    N = int(sys.stdin.readline())\n",
                "    lines = sorted(tuple(map(int, line.split())) for line in sys.stdin)\n",
                "    rights = [i for _, i in lines]\n",
                "\n",
                "    lis = [rights[0]]\n",
                "    for right in rights[1:]:\n",
                "        if right > lis[-1]:\n",
                "            lis.append(right)\n",
                "        else:\n",
                "            lis[bl(lis, right)] = right\n",
                "\n",
                "    print(N - len(lis))\n",
                "\n",
                "\n",
                "solution()"
            ]
        },
        {
            "cell_type": "markdown",
            "metadata": {},
            "source": [
                "## 해답\n"
            ]
        },
        {
            "cell_type": "code",
            "execution_count": 1,
            "metadata": {},
            "outputs": [],
            "source": [
                "def solution():\n",
                "    import sys\n",
                "    from bisect import bisect_left as bl\n",
                "\n",
                "    N = int(sys.stdin.readline())\n",
                "    lines = sorted(tuple(map(int, line.split())) for line in sys.stdin)\n",
                "    rights = [i for _, i in lines]\n",
                "\n",
                "    lis = [rights[0]]\n",
                "    for right in rights[1:]:\n",
                "        if right > lis[-1]:\n",
                "            lis.append(right)\n",
                "        else:\n",
                "            lis[bl(lis, right)] = right\n",
                "\n",
                "    print(N - len(lis))"
            ]
        },
        {
            "cell_type": "markdown",
            "metadata": {},
            "source": [
                "## 예제\n"
            ]
        },
        {
            "cell_type": "code",
            "execution_count": 2,
            "metadata": {},
            "outputs": [],
            "source": [
                "# 백준 문제 풀이용 예제 실행 코드\n",
                "from bwj import test\n",
                "\n",
                "test_solution = test(solution)\n",
                "\n",
                "# test_solution(\"\"\"\"\"\")\n",
                "# test_solution(read(\"fn\").read())"
            ]
        },
        {
            "cell_type": "code",
            "execution_count": 3,
            "metadata": {},
            "outputs": [
                {
                    "name": "stdout",
                    "output_type": "stream",
                    "text": [
                        "3\n"
                    ]
                }
            ],
            "source": [
                "test_solution(\n",
                "    \"\"\"8\n",
                "1 8\n",
                "3 9\n",
                "2 2\n",
                "4 1\n",
                "6 4\n",
                "10 10\n",
                "9 7\n",
                "7 6\n",
                "\"\"\"\n",
                ")  # 3"
            ]
        }
    ],
    "metadata": {
        "interpreter": {
            "hash": "73891b0dc2e53390f36276e59930dd4ecab91b05b5c90320c2d5b1c443f87069"
        },
        "kernelspec": {
            "display_name": "Python 3.10.1 ('venv': venv)",
            "language": "python",
            "name": "python3"
        },
        "language_info": {
            "codemirror_mode": {
                "name": "ipython",
                "version": 3
            },
            "file_extension": ".py",
            "mimetype": "text/x-python",
            "name": "python",
            "nbconvert_exporter": "python",
            "pygments_lexer": "ipython3",
            "version": "3.12.2"
        },
        "orig_nbformat": 4
    },
    "nbformat": 4,
    "nbformat_minor": 2
}
