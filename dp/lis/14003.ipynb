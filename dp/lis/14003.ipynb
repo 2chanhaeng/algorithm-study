{
    "cells": [
        {
            "cell_type": "markdown",
            "metadata": {},
            "source": [
                "# [백준/가장 긴 증가하는 부분 수열 5](https://www.acmicpc.net/problem/14003)\n"
            ]
        },
        {
            "cell_type": "markdown",
            "metadata": {},
            "source": [
                "## 풀이과정\n"
            ]
        },
        {
            "cell_type": "markdown",
            "metadata": {},
            "source": [
                "### 첫번째 시도\n"
            ]
        },
        {
            "cell_type": "markdown",
            "metadata": {},
            "source": [
                "#### 풀이과정\n",
                "\n",
                "비슷한 [11053번 문제](https://www.acmicpc.net/problem/11053)를 풀었던 경험이 있어서 이 문제도 비슷한 방식으로 풀어보려고 했다.  \n",
                "11053번 문제의 풀이에서 사용했던 LIS 를 그대로 출력하기만 하면 될 줄 알았다.  \n",
                "하지만 실제로 저장되는 LIS의 길이는 같지만, 순서가 엉망으로 저장되기 때문에 이 방법은 사용할 수 없었다.  \n",
                "예를 들어 `2 3 1` 이라는 수열이 들어가면 길이는 `2`로 맞게 나오지만, LIS 에는 `2 3`이 아닌 `1 3`이라는 순서로 저장되어 있다.\n",
                "LIS가 `[2] => [2, 3] => [1, 3]` 로 업데이트되기 때문에 이런 현상이 발생한다.\n"
            ]
        },
        {
            "cell_type": "code",
            "execution_count": null,
            "metadata": {},
            "outputs": [],
            "source": [
                "def solution():\n",
                "    import sys\n",
                "    from bisect import bisect_left\n",
                "\n",
                "    nums = map(int, sys.stdin.read().split()[1:])\n",
                "    lis = [next(nums)]\n",
                "\n",
                "    for n in nums:\n",
                "        if lis[-1] < n:\n",
                "            lis.append(n)\n",
                "        else:\n",
                "            lis[bisect_left(lis, n)] = n\n",
                "\n",
                "    print(len(lis))\n",
                "\n",
                "\n",
                "solution()"
            ]
        },
        {
            "cell_type": "markdown",
            "metadata": {},
            "source": [
                "### 두번째 시도\n",
                "\n",
                "이번에는 LIS에서 업데이트 되는 인덱스를 저장하는 리스트를 만들었다.  \n",
                "그리고 LIS의 길이를 구한 후, 인덱스 리스트를 **역추적**하여 LIS를 **뒤에서부터** 완성해갔다.  \n",
                "예를 들어 이전의 예시처럼 `nums = [2, 3, 1]` 이라는 수열이 입력됐다고 가정하자.  \n",
                "이때 LIS는 0번, 1번, 0번 순서로 자리가 업데이트 될 것이다.  \n",
                "이 때 인덱스 리스트는 `updated = [0, 1, 0]` 이 된다.\n",
                "이제 이 리스트를 뒤에서부터 참조해서 LIS를 구하면 된다.  \n",
                "일단 시작하면 LIS는 `lis = [ , ]` 이다.  \n",
                "실제로는 값이 들어있지만 업데이트되어 있지 않으니 비어있다고 생각하자.  \n",
                "먼저 1번 자리를 업데이트 해야한다.  \n",
                "가장 마지막으로 1번 자리를 업데이트한 값은 `nums[1] = 3`이다.  \n",
                "따라서 LIS는 `[ , 3]` 이 된다.  \n",
                "그리고 `nums[:1]` 중에서 가장 마지막으로 LIS의 0번 자리를 업데이트한 값을 찾아야 한다.  \n",
                "이 값은 `nums[0] = 2` 이다.  \n",
                "따라서 LIS는 `[2, 3]` 이 된다.\n"
            ]
        },
        {
            "cell_type": "markdown",
            "metadata": {},
            "source": [
                "#### 풀이과정\n"
            ]
        },
        {
            "cell_type": "code",
            "execution_count": null,
            "metadata": {},
            "outputs": [],
            "source": [
                "def solution():\n",
                "    import sys\n",
                "    from bisect import bisect_left\n",
                "\n",
                "    nums = map(int, sys.stdin.read().split()[1:])\n",
                "    origin = [next(nums)]\n",
                "    lis = [origin[0]]\n",
                "    updated = [0]\n",
                "\n",
                "    for i in nums:\n",
                "        if lis[-1] < i:\n",
                "            lis.append(i)\n",
                "            updated.append(len(lis) - 1)\n",
                "        else:\n",
                "            lis[j := bisect_left(lis, i)] = i\n",
                "            updated.append(j)\n",
                "        origin.append(i)\n",
                "\n",
                "    print(l := len(lis))\n",
                "    find = l - 1\n",
                "    for u, i in zip(updated[::-1], origin[::-1]):\n",
                "        if u == find:\n",
                "            lis[find] = i\n",
                "            find -= 1\n",
                "            if find < 0:\n",
                "                break\n",
                "    print(\" \".join(map(str, lis)))\n",
                "\n",
                "\n",
                "solution()"
            ]
        },
        {
            "cell_type": "markdown",
            "metadata": {},
            "source": [
                "## 해답\n"
            ]
        },
        {
            "cell_type": "code",
            "execution_count": 233,
            "metadata": {},
            "outputs": [],
            "source": [
                "def solution():\n",
                "    import sys\n",
                "    from bisect import bisect_left\n",
                "\n",
                "    nums = map(int, sys.stdin.read().split()[1:])\n",
                "    origin = [next(nums)]\n",
                "    lis = [origin[0]]\n",
                "    updated = [0]\n",
                "\n",
                "    for i in nums:\n",
                "        if lis[-1] < i:\n",
                "            lis.append(i)\n",
                "            updated.append(len(lis) - 1)\n",
                "        else:\n",
                "            lis[j := bisect_left(lis, i)] = i\n",
                "            updated.append(j)\n",
                "        origin.append(i)\n",
                "\n",
                "    print(l := len(lis))\n",
                "    find = l - 1\n",
                "    for u, i in zip(updated[::-1], origin[::-1]):\n",
                "        if u == find:\n",
                "            lis[find] = i\n",
                "            find -= 1\n",
                "            if find < 0:\n",
                "                break\n",
                "    print(\" \".join(map(str, lis)))"
            ]
        },
        {
            "cell_type": "markdown",
            "metadata": {},
            "source": [
                "## 예제\n"
            ]
        },
        {
            "cell_type": "code",
            "execution_count": 234,
            "metadata": {},
            "outputs": [],
            "source": [
                "# 백준 문제 풀이용 예제 실행 코드\n",
                "from bwj import test\n",
                "\n",
                "test_solution = test(solution)\n",
                "\n",
                "# test_solution(\"\"\"\"\"\")\n",
                "# test_solution(read(\"fn\").read())"
            ]
        },
        {
            "cell_type": "code",
            "execution_count": 235,
            "metadata": {},
            "outputs": [
                {
                    "name": "stdout",
                    "output_type": "stream",
                    "text": [
                        "6\n",
                        "2 3 4 5 6 7\n"
                    ]
                }
            ],
            "source": [
                "test_solution(\n",
                "    \"\"\"13\n",
                "3 4 5 6 2 3 1 7 4 5 6 7\n",
                "\"\"\"\n",
                ")\n",
                "# answer:\n",
                "# 6\n",
                "# 2 3 4 5 6 7"
            ]
        },
        {
            "cell_type": "code",
            "execution_count": 236,
            "metadata": {},
            "outputs": [
                {
                    "name": "stdout",
                    "output_type": "stream",
                    "text": [
                        "7\n",
                        "1 2 3 4 5 6 12\n"
                    ]
                }
            ],
            "source": [
                "test_solution(\n",
                "    \"\"\"9\n",
                "10 1 2 3 11 4 5 6 12\n",
                "\"\"\"\n",
                ")\n",
                "# answer:\n",
                "# 7\n",
                "# 1 2 3 4 5 6 12"
            ]
        },
        {
            "cell_type": "code",
            "execution_count": 237,
            "metadata": {},
            "outputs": [
                {
                    "name": "stdout",
                    "output_type": "stream",
                    "text": [
                        "3\n",
                        "1 2 3\n"
                    ]
                }
            ],
            "source": [
                "test_solution(\n",
                "    \"\"\"4\n",
                "1 4 2 3\n",
                "\"\"\"\n",
                ")\n",
                "# answer:\n",
                "# 3\n",
                "# 1 2 3"
            ]
        },
        {
            "cell_type": "code",
            "execution_count": 238,
            "metadata": {},
            "outputs": [
                {
                    "name": "stdout",
                    "output_type": "stream",
                    "text": [
                        "4\n",
                        "10 20 30 50\n"
                    ]
                }
            ],
            "source": [
                "test_solution(\n",
                "    \"\"\"6\n",
                "10 20 10 30 20 50\n",
                "\"\"\"\n",
                ")\n",
                "# answer:\n",
                "# 4\n",
                "# 10 20 30 50"
            ]
        }
    ],
    "metadata": {
        "interpreter": {
            "hash": "73891b0dc2e53390f36276e59930dd4ecab91b05b5c90320c2d5b1c443f87069"
        },
        "kernelspec": {
            "display_name": "Python 3.10.1 ('venv': venv)",
            "language": "python",
            "name": "python3"
        },
        "language_info": {
            "codemirror_mode": {
                "name": "ipython",
                "version": 3
            },
            "file_extension": ".py",
            "mimetype": "text/x-python",
            "name": "python",
            "nbconvert_exporter": "python",
            "pygments_lexer": "ipython3",
            "version": "3.12.2"
        },
        "orig_nbformat": 4
    },
    "nbformat": 4,
    "nbformat_minor": 2
}
