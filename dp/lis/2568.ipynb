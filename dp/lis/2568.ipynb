{
    "cells": [
        {
            "cell_type": "markdown",
            "metadata": {},
            "source": [
                "# [백준/전깃줄 - 2](https://www.acmicpc.net/problem/2568)\n"
            ]
        },
        {
            "cell_type": "markdown",
            "metadata": {},
            "source": [
                "## 풀이과정\n"
            ]
        },
        {
            "cell_type": "markdown",
            "metadata": {},
            "source": [
                "### 첫번째 시도\n"
            ]
        },
        {
            "cell_type": "markdown",
            "metadata": {},
            "source": [
                "#### 풀이과정\n",
                "\n",
                "[2565번 문제](./2565.ipynb)의 풀이에 [14003번 문제](./14003.ipynb)의 풀이를 적용해서 풀었다.\n"
            ]
        },
        {
            "cell_type": "code",
            "execution_count": null,
            "metadata": {},
            "outputs": [],
            "source": [
                "def get_lis(nums):\n",
                "    from bisect import bisect_left\n",
                "\n",
                "    origin = [next(nums)]\n",
                "    lis = [origin[0]]\n",
                "    updated = [0]\n",
                "\n",
                "    for i in nums:\n",
                "        if lis[-1] < i:\n",
                "            lis.append(i)\n",
                "            updated.append(len(lis) - 1)\n",
                "        else:\n",
                "            lis[j := bisect_left(lis, i)] = i\n",
                "            updated.append(j)\n",
                "        origin.append(i)\n",
                "\n",
                "    l = len(lis)\n",
                "    find = l - 1\n",
                "    for u, i in zip(updated[::-1], origin[::-1]):\n",
                "        if u == find:\n",
                "            lis[find] = i\n",
                "            find -= 1\n",
                "            if find < 0:\n",
                "                break\n",
                "    return l, lis\n",
                "\n",
                "\n",
                "def solution():\n",
                "    import sys\n",
                "\n",
                "    N = int(sys.stdin.readline())\n",
                "    lines = [tuple(map(int, line.split())) for line in sys.stdin]\n",
                "    order = {k: v for v, k in lines}\n",
                "    l, lis = get_lis(i for _, i in sorted(lines))\n",
                "    for i in lis:\n",
                "        order.pop(i)\n",
                "    print(N - l)\n",
                "    print(\"\\n\".join(map(str, sorted(order.values()))))\n",
                "\n",
                "\n",
                "solution()"
            ]
        },
        {
            "cell_type": "markdown",
            "metadata": {},
            "source": [
                "### 두번째 시도\n"
            ]
        },
        {
            "cell_type": "markdown",
            "metadata": {},
            "source": [
                "#### 풀이과정\n",
                "\n",
                "[첫번째 시도](#첫번째-시도)의 코드를 효율적으로 개선했다.\n"
            ]
        },
        {
            "cell_type": "code",
            "execution_count": null,
            "metadata": {},
            "outputs": [],
            "source": [
                "def solution():\n",
                "    from bisect import bisect_left\n",
                "\n",
                "    [N], *lines = [tuple(map(int, line.split())) for line in open(0)]\n",
                "    order = {k: v for v, k in lines}\n",
                "    origin = [i for _, i in sorted(lines)]\n",
                "    lis = [origin[0]]\n",
                "    updated = [0]\n",
                "\n",
                "    for i in origin[1:]:\n",
                "        if lis[-1] < i:\n",
                "            updated.append(len(lis))\n",
                "            lis.append(i)\n",
                "        else:\n",
                "            lis[j := bisect_left(lis, i)] = i\n",
                "            updated.append(j)\n",
                "    l = len(lis)\n",
                "\n",
                "    find = l - 1\n",
                "    for u, i in zip(updated[::-1], origin[::-1]):\n",
                "        if u == find:\n",
                "            order.pop(i)\n",
                "            find -= 1\n",
                "            if find < 0:\n",
                "                break\n",
                "\n",
                "    print(N - l)\n",
                "    print(\"\\n\".join(map(str, sorted(order.values()))))\n",
                "\n",
                "\n",
                "solution()"
            ]
        },
        {
            "cell_type": "markdown",
            "metadata": {},
            "source": [
                "![2024년 3월 22일 04시 기준 2568번 맞힌 사람 (Python) 216ms로 1위](<../../img/Screenshot%202024-03-22%20at%2004-25-06%202568번%20맞힌%20사람%20(Python)%20-%201%20페이지.png>)\n"
            ]
        },
        {
            "cell_type": "markdown",
            "metadata": {},
            "source": [
                "## 해답\n"
            ]
        },
        {
            "cell_type": "code",
            "execution_count": 1,
            "metadata": {},
            "outputs": [],
            "source": [
                "def solution():\n",
                "    import sys\n",
                "    from bisect import bisect_left\n",
                "\n",
                "    [N], *lines = [tuple(map(int, line.split())) for line in sys.stdin]\n",
                "    order = {k: v for v, k in lines}\n",
                "    origin = [i for _, i in sorted(lines)]\n",
                "    lis = [origin[0]]\n",
                "    updated = [0]\n",
                "\n",
                "    for i in origin[1:]:\n",
                "        if lis[-1] < i:\n",
                "            updated.append(len(lis))\n",
                "            lis.append(i)\n",
                "        else:\n",
                "            lis[j := bisect_left(lis, i)] = i\n",
                "            updated.append(j)\n",
                "    l = len(lis)\n",
                "\n",
                "    find = l - 1\n",
                "    for u, i in zip(updated[::-1], origin[::-1]):\n",
                "        if u == find:\n",
                "            order.pop(i)\n",
                "            find -= 1\n",
                "            if find < 0:\n",
                "                break\n",
                "\n",
                "    print(N - l)\n",
                "    print(\"\\n\".join(map(str, sorted(order.values()))))"
            ]
        },
        {
            "cell_type": "markdown",
            "metadata": {},
            "source": [
                "## 예제\n"
            ]
        },
        {
            "cell_type": "code",
            "execution_count": 2,
            "metadata": {},
            "outputs": [],
            "source": [
                "# 백준 문제 풀이용 예제 실행 코드\n",
                "from bwj import test\n",
                "\n",
                "test_solution = test(solution)\n",
                "\n",
                "# test_solution(\"\"\"\"\"\")\n",
                "# test_solution(read(\"fn\").read())"
            ]
        },
        {
            "cell_type": "code",
            "execution_count": 3,
            "metadata": {},
            "outputs": [
                {
                    "name": "stdout",
                    "output_type": "stream",
                    "text": [
                        "3\n",
                        "1\n",
                        "2\n",
                        "3\n"
                    ]
                }
            ],
            "source": [
                "test_solution(\n",
                "    \"\"\"8\n",
                "1 8\n",
                "3 9\n",
                "2 2\n",
                "4 1\n",
                "6 4\n",
                "10 10\n",
                "9 7\n",
                "7 6\n",
                "\"\"\"\n",
                ")\n",
                "# answer:\n",
                "# 3\n",
                "# 1\n",
                "# 3\n",
                "# 4"
            ]
        }
    ],
    "metadata": {
        "interpreter": {
            "hash": "73891b0dc2e53390f36276e59930dd4ecab91b05b5c90320c2d5b1c443f87069"
        },
        "kernelspec": {
            "display_name": "Python 3.10.1 ('venv': venv)",
            "language": "python",
            "name": "python3"
        },
        "language_info": {
            "codemirror_mode": {
                "name": "ipython",
                "version": 3
            },
            "file_extension": ".py",
            "mimetype": "text/x-python",
            "name": "python",
            "nbconvert_exporter": "python",
            "pygments_lexer": "ipython3",
            "version": "3.12.2"
        },
        "orig_nbformat": 4
    },
    "nbformat": 4,
    "nbformat_minor": 2
}
