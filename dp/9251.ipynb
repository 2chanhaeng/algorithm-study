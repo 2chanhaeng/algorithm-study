{
    "cells": [
        {
            "cell_type": "markdown",
            "metadata": {},
            "source": [
                "# [백준/LCS](https://www.acmicpc.net/problem/9251)"
            ]
        },
        {
            "cell_type": "markdown",
            "metadata": {},
            "source": [
                "## 풀이과정"
            ]
        },
        {
            "cell_type": "markdown",
            "metadata": {},
            "source": [
                "### 첫번째 시도"
            ]
        },
        {
            "cell_type": "markdown",
            "metadata": {},
            "source": [
                "#### 풀이과정\n",
                "DP 알고리즘을 어떻게 적용시킬 지 감이 오지 않아 검색을 했습니다. [검색해서 나온 포스트](https://melonicedlatte.com/algorithm/2018/03/15/181550.html)를 읽어보니 LCS 문제에 대한 알고리즘이 따로 있고, 이에 대한 이해가 필요한 문제였습니다. 문제의 기본 예시인 `ACAYKP`, `CAPCAK`를 예를 들면 먼저 `ACAYKP`와 `C`를 비교하고, `CA`를 비교하고,`CAP`를 비교하고, ... ,`CAPCAK`를 비교해서 이전의 비교한 값에서 하나씩 추가해 나가는 방식으로 푸는 알고리즘이었습니다."
            ]
        },
        {
            "cell_type": "code",
            "execution_count": null,
            "metadata": {},
            "outputs": [],
            "source": [
                "def solution():\n",
                "    import sys\n",
                "    \n",
                "    # 처음 받은 문자열을 가로, 두번째로 받은 문자열을 세로에 배정했습니다.\n",
                "    # 큰 차이는 없는 것으로 보입니다.\n",
                "    col, row = sys.stdin.read().rstrip().split()\n",
                "    # 이차원의 DP 배열이 필요합니다. \n",
                "    # 특히 열과 행의 개수는 문자열들의 길이 + 1 이 되어야 합니다.\n",
                "    # 이전의 결과에서 참조해야하기 때문입니다.(DP)\n",
                "    dp = [[0] * (len(row) + 1) for _ in col + \" \"]\n",
                "    for y, c in enumerate(col, 1):\n",
                "        for x, r in enumerate(row, 1):\n",
                "            # 열과 행에 속하는 문자열 만큼을 비교합니다.\n",
                "            if c == r:\n",
                "                # 만약 열의 문자와 행의 문자가 같다면\n",
                "                # 최소 공통 수열이 1 늘어났으므로\n",
                "                # 이전 공통 수열의 값인 왼쪽 윗값에 1을 더한 값을 저장합니다.\n",
                "                dp[y][x] = dp[y - 1][x - 1] + 1\n",
                "            else:\n",
                "                # 같지 않다면 세로 문자열의 이전 값(위쪽)\n",
                "                # 혹은 가로 문자열의 이전 값(왼쪽) 중\n",
                "                # 더 큰 값을 저장합니다.\n",
                "                dp[y][x] = max(dp[y - 1][x], dp[y][x - 1])\n",
                "    # DP 배열의 마지막 값을 출력합니다.\n",
                "    print(dp[-1][-1])\n",
                "\n",
                "\n",
                "solution()"
            ]
        },
        {
            "cell_type": "markdown",
            "metadata": {},
            "source": [
                "## 해답"
            ]
        },
        {
            "cell_type": "code",
            "execution_count": 34,
            "metadata": {},
            "outputs": [],
            "source": [
                "def solution():\n",
                "    import sys\n",
                "\n",
                "    long, short = sorted(sys.stdin.read().rstrip().split(), key=len)\n",
                "    dp = [[0] * (len(short) + 1) for _ in long + \" \"]\n",
                "    for y, lcha in enumerate(long, 1):\n",
                "        for x, scha in enumerate(short, 1):\n",
                "            if lcha == scha:\n",
                "                dp[y][x] = dp[y - 1][x - 1] + 1\n",
                "            else:\n",
                "                dp[y][x] = max(dp[y - 1][x], dp[y][x - 1])\n",
                "    print(dp[-1][-1])"
            ]
        },
        {
            "cell_type": "markdown",
            "metadata": {},
            "source": [
                "## 예제"
            ]
        },
        {
            "cell_type": "code",
            "execution_count": 35,
            "metadata": {},
            "outputs": [
                {
                    "name": "stdout",
                    "output_type": "stream",
                    "text": [
                        "The blackcellmagic extension is already loaded. To reload it, use:\n",
                        "  %reload_ext blackcellmagic\n"
                    ]
                }
            ],
            "source": [
                "# black 모듈을 jupyter notebook 내에서 사용 가능하게 만들어주는 blackcellmagic 모듈 불러오기\n",
                "%load_ext blackcellmagic\n",
                "# %%black\n",
                "\n",
                "# 백준 문제 풀이용 예제 실행 코드\n",
                "from bwj import test\n",
                "test_solution = test(solution)\n",
                "\n",
                "# test_solution(\"\"\"\"\"\")\n",
                "# test_solution(read(\"fn\").read())"
            ]
        },
        {
            "cell_type": "code",
            "execution_count": 36,
            "metadata": {},
            "outputs": [
                {
                    "name": "stdout",
                    "output_type": "stream",
                    "text": [
                        "4\n"
                    ]
                }
            ],
            "source": [
                "test_solution(\"\"\"ACAYKP\n",
                "CAPCAK\n",
                "\"\"\") # 4"
            ]
        }
    ],
    "metadata": {
        "kernelspec": {
            "display_name": "Python 3.10.4 ('venv': venv)",
            "language": "python",
            "name": "python3"
        },
        "language_info": {
            "codemirror_mode": {
                "name": "ipython",
                "version": 3
            },
            "file_extension": ".py",
            "mimetype": "text/x-python",
            "name": "python",
            "nbconvert_exporter": "python",
            "pygments_lexer": "ipython3",
            "version": "3.10.4"
        },
        "orig_nbformat": 4,
        "vscode": {
            "interpreter": {
                "hash": "72904a014a9ffe38f4c58942120b599b3c5a87d06764037548e0139929c1cde3"
            }
        }
    },
    "nbformat": 4,
    "nbformat_minor": 2
}
