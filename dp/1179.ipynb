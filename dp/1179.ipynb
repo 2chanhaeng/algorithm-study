{
    "cells": [
        {
            "cell_type": "markdown",
            "metadata": {},
            "source": [
                "# [백준/마지막 요세푸스 문제](https://www.acmicpc.net/problem/1179)\n"
            ]
        },
        {
            "cell_type": "markdown",
            "metadata": {},
            "source": [
                "## 풀이과정\n"
            ]
        },
        {
            "cell_type": "markdown",
            "metadata": {},
            "source": [
                "### 첫번째 시도\n"
            ]
        },
        {
            "cell_type": "markdown",
            "metadata": {},
            "source": [
                "#### 풀이과정\n"
            ]
        },
        {
            "cell_type": "code",
            "execution_count": null,
            "metadata": {},
            "outputs": [],
            "source": [
                "def josephus(n, k):\n",
                "    last, excuted = 0, 1\n",
                "    while excuted + (curr := (excuted - last - 1) // (k - 1) + 1) <= n:\n",
                "        last = (last + k * curr) % (excuted + curr)\n",
                "        excuted += curr\n",
                "    return last + (n - excuted) * k + 1\n",
                "\n",
                "\n",
                "def solution():\n",
                "    import sys\n",
                "\n",
                "    n, k = map(int, sys.stdin.readline().split())\n",
                "    if k == 1:\n",
                "        return print(n)\n",
                "    print(josephus(n, k))\n",
                "\n",
                "\n",
                "solution()"
            ]
        },
        {
            "cell_type": "markdown",
            "metadata": {},
            "source": [
                "## 해답\n"
            ]
        },
        {
            "cell_type": "code",
            "execution_count": 1,
            "metadata": {},
            "outputs": [],
            "source": [
                "def josephus(n, k, curr=1, excuted=1, last=0):\n",
                "    if n < 2:\n",
                "        return 0\n",
                "    if excuted + curr > n:\n",
                "        return last + (n - excuted) * k + 1\n",
                "    curr = (excuted - last - 1) // (k - 1) + 1\n",
                "    return josephus(n, k, curr, excuted + curr, (last + k * curr) % (excuted + curr))"
            ]
        },
        {
            "cell_type": "code",
            "execution_count": 2,
            "metadata": {},
            "outputs": [],
            "source": [
                "def josephus(n, k):\n",
                "    last, excuted = 0, 1\n",
                "    while excuted + (curr := (excuted - last - 1) // (k - 1) + 1) <= n:\n",
                "        last = (last + k * curr) % (excuted + curr)\n",
                "        excuted += curr\n",
                "    return last + (n - excuted) * k + 1"
            ]
        },
        {
            "cell_type": "code",
            "execution_count": 3,
            "metadata": {},
            "outputs": [],
            "source": [
                "def solution():\n",
                "    import sys\n",
                "\n",
                "    n, k = map(int, sys.stdin.readline().split())\n",
                "    print(print(n) if k == 1 else josephus(n, k))"
            ]
        },
        {
            "cell_type": "markdown",
            "metadata": {},
            "source": [
                "## 예제\n"
            ]
        },
        {
            "cell_type": "code",
            "execution_count": 4,
            "metadata": {},
            "outputs": [],
            "source": [
                "# 백준 문제 풀이용 예제 실행 코드\n",
                "from bwj import test\n",
                "\n",
                "test_solution = test(solution)\n",
                "\n",
                "# test_solution(\"\"\"\"\"\")\n",
                "# test_solution(read(\"fn\").read())"
            ]
        },
        {
            "cell_type": "code",
            "execution_count": 5,
            "metadata": {},
            "outputs": [
                {
                    "name": "stdout",
                    "output_type": "stream",
                    "text": [
                        "108535431472584\n",
                        "396380\n",
                        "4\n"
                    ]
                }
            ],
            "source": [
                "test_solution(  # 108535431472584\n",
                "    \"\"\"1000000000000000 90\n",
                "\"\"\"\n",
                ")  # 108535431472584\n",
                "test_solution(  # 396380\n",
                "    \"\"\"1000000 90\n",
                "\"\"\"\n",
                ")  # 396380\n",
                "test_solution(  # 4\n",
                "    \"\"\"7 3\n",
                "\"\"\"\n",
                ")  # 4\n",
                "# 108535431472584\n",
                "# 396380\n",
                "# 4"
            ]
        }
    ],
    "metadata": {
        "interpreter": {
            "hash": "73891b0dc2e53390f36276e59930dd4ecab91b05b5c90320c2d5b1c443f87069"
        },
        "kernelspec": {
            "display_name": "Python 3.10.1 ('venv': venv)",
            "language": "python",
            "name": "python3"
        },
        "language_info": {
            "codemirror_mode": {
                "name": "ipython",
                "version": 3
            },
            "file_extension": ".py",
            "mimetype": "text/x-python",
            "name": "python",
            "nbconvert_exporter": "python",
            "pygments_lexer": "ipython3",
            "version": "3.12.0"
        },
        "orig_nbformat": 4
    },
    "nbformat": 4,
    "nbformat_minor": 2
}
