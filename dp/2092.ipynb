{
    "cells": [
        {
            "cell_type": "markdown",
            "metadata": {},
            "source": [
                "# [백준/집합의 개수](https://www.acmicpc.net/problem/2092)\n"
            ]
        },
        {
            "cell_type": "markdown",
            "metadata": {},
            "source": [
                "## 풀이과정\n"
            ]
        },
        {
            "cell_type": "markdown",
            "metadata": {},
            "source": [
                "### 첫번째 시도\n"
            ]
        },
        {
            "cell_type": "markdown",
            "metadata": {},
            "source": [
                "#### 풀이과정\n",
                "\n",
                "[백준 2092 - 집합의 개수](https://nicotina04.tistory.com/42)를 참고했다.  \n",
                "해당 글에서는 `dp[i][j]` 를 `i` 보다 작은 수들로 크기가 `j` 인 집합을 만드는 경우의 수라고 정의했다.  \n",
                "아마 C++는 매핑 자료구조을 사용하기 번거로워 대신 배열을 이용하다 보니 이런 정의가 필요했던 것 같다.  \n",
                "Python 은 `dict` 클래스를 이용해서 필요하지 않은 부분을 생략할 수 있었다.\n",
                "\n",
                "먼저 `collections.Counter` 를 써서 수의 개수가 담긴 `counter` 를 만들었다.  \n",
                "그리고 `counter` 에서 키값을 뽑아 `nums` 라는 리스트로 만들어 이후 `dp` 에서 키값의 순서로 썼다.  \n",
                "다만 최초의 공집합인 경우를 생각해야 했기 때문에 `nums`의 맨 앞에 0을 추가해주었다.  \n",
                "그리고 이 리스트를 이용해 `dp` 를 만들었다.  \n",
                "그리고 최초의 공집합인 경우를 생각해 `dp[0][0] = 1` 로 초기화해주었다.\n",
                "\n",
                "이후 `nums` 에 담긴 순서대로 `dp`를 채워나갔다.  \n",
                "먼저 `nums` 에서 현재 숫자인 `n` 과 직전 숫자인 `p` 를 뽑아냈다.  \n",
                "사용할 수 있는 `n` 의 개수(`counter[n]`)를 `count` 라고 하자.  \n",
                "`dp[p][j]` 는 `n` 직전까지의 숫자 중에서 크기가 `j` 인 집합의 개수를 의미한다.  \n",
                "만약 `dp[p][j]` 개의 집합에 `k` 개의 `n` 을 추가하면 `n` 을 사용한 크기가 `k + i` 인 집합의 개수가 된다.  \n",
                "따라서 `dp[n][i]` 는 `dp[p][i]` 개의 집합, `dp[p][i - 1]` 개의 집합에 `n` 을 한 개 추가한 집합, `dp[p][i - 2]` 개의 집합에 `n` 을 두 개 추가한 집합, ... , `dp[p][i - count]` 개의 집합에 `n` 을 `count` 개 추가한 집합의 개수를 모두 더한 것과 같다.  \n",
                "이를 코드로 구현하면 `sum(dp[p][max(0, i - count) : i + 1])` 이 된다.  \n",
                "하지만 `i < count` 일 수 있으므로 `max(0, i - count)` 를 사용하자.\n",
                "\n",
                "최종적으로 마지막 숫자 `nums[-1]` 까지 채워진 `dp` 의 마지막 행에서 `s` 부터 `b` 까지의 합을 구하면 정답이 나온다.\n"
            ]
        },
        {
            "cell_type": "code",
            "execution_count": null,
            "metadata": {},
            "outputs": [],
            "source": [
                "def solution():\n",
                "    import sys\n",
                "    from collections import Counter as C\n",
                "\n",
                "    input = sys.stdin.readline\n",
                "    _, _, s, b = map(int, input().split())\n",
                "    counter = C(map(int, input().split()))\n",
                "    nums = [0, *counter.keys()]\n",
                "    dp = {n: [0] * (b + 1) for n in nums}\n",
                "    dp[0][0] = 1\n",
                "    for p, n in zip(nums, nums[1:]):\n",
                "        count = counter[n]\n",
                "        for i in range(b + 1):\n",
                "            dp[n][i] = sum(dp[p][max(0, i - count) : i + 1]) % 1000000\n",
                "\n",
                "    print(sum(dp[nums[-1]][s : b + 1]) % 1000000)\n",
                "\n",
                "\n",
                "solution()"
            ]
        },
        {
            "cell_type": "markdown",
            "metadata": {},
            "source": [
                "## 해답\n"
            ]
        },
        {
            "cell_type": "code",
            "execution_count": 26,
            "metadata": {},
            "outputs": [],
            "source": [
                "def solution():\n",
                "    import sys\n",
                "    from collections import Counter as C\n",
                "\n",
                "    input = sys.stdin.readline\n",
                "    t, a, s, b = map(int, input().split())\n",
                "    counter = C(map(int, input().split()))\n",
                "    nums = [0, *counter.keys()]\n",
                "    dp = {n: [0] * (b + 1) for n in nums}\n",
                "    dp[0][0] = 1\n",
                "    for p, n in zip(nums, nums[1:]):\n",
                "        count = counter[n]\n",
                "        for i in range(b + 1):\n",
                "            dp[n][i] = sum(dp[p][max(0, i - count) : i + 1]) % 1000000\n",
                "\n",
                "    print(sum(dp[nums[-1]][s : b + 1]) % 1000000)"
            ]
        },
        {
            "cell_type": "markdown",
            "metadata": {},
            "source": [
                "## 예제\n"
            ]
        },
        {
            "cell_type": "code",
            "execution_count": 27,
            "metadata": {},
            "outputs": [],
            "source": [
                "# 백준 문제 풀이용 예제 실행 코드\n",
                "from bwj import test\n",
                "\n",
                "test_solution = test(solution)\n",
                "\n",
                "# test_solution(\"\"\"\"\"\")\n",
                "# test_solution(read(\"fn\").read())"
            ]
        },
        {
            "cell_type": "code",
            "execution_count": 28,
            "metadata": {},
            "outputs": [
                {
                    "name": "stdout",
                    "output_type": "stream",
                    "text": [
                        "10\n"
                    ]
                }
            ],
            "source": [
                "test_solution(\n",
                "    \"\"\"3 5 2 3\n",
                "1 2 2 1 3\n",
                "\"\"\"\n",
                ")  # 10"
            ]
        }
    ],
    "metadata": {
        "interpreter": {
            "hash": "73891b0dc2e53390f36276e59930dd4ecab91b05b5c90320c2d5b1c443f87069"
        },
        "kernelspec": {
            "display_name": "Python 3.10.1 ('venv': venv)",
            "language": "python",
            "name": "python3"
        },
        "language_info": {
            "codemirror_mode": {
                "name": "ipython",
                "version": 3
            },
            "file_extension": ".py",
            "mimetype": "text/x-python",
            "name": "python",
            "nbconvert_exporter": "python",
            "pygments_lexer": "ipython3",
            "version": "3.12.0"
        },
        "orig_nbformat": 4
    },
    "nbformat": 4,
    "nbformat_minor": 2
}
