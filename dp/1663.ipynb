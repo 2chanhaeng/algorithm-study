{
    "cells": [
        {
            "cell_type": "markdown",
            "metadata": {},
            "source": [
                "# [백준/XYZ 문자열](https://www.acmicpc.net/problem/1663)"
            ]
        },
        {
            "cell_type": "markdown",
            "metadata": {},
            "source": [
                "## 풀이과정"
            ]
        },
        {
            "cell_type": "markdown",
            "metadata": {},
            "source": [
                "### 첫번째 시도"
            ]
        },
        {
            "cell_type": "markdown",
            "metadata": {},
            "source": [
                "#### 풀이과정"
            ]
        },
        {
            "cell_type": "code",
            "execution_count": null,
            "metadata": {},
            "outputs": [],
            "source": [
                "def solution():\n",
                "    import sys\n",
                "\n",
                "    inputs = sys.stdin.read().rstrip().split()\n",
                "\n",
                "    dp = [[1, 0, 0]]\n",
                "    for _ in range(n := int(inputs[1]) - 1):\n",
                "        dp.append([dp[-1][2], dp[-1][0], dp[-1][0] + dp[-1][1]])\n",
                "\n",
                "    q = inputs[0]\n",
                "    if q == \"1\":\n",
                "        print(sum(dp[-1]))\n",
                "        return\n",
                "    if q == \"3\":\n",
                "        print(dp[-1][ord(inputs[2]) - 88])\n",
                "        return\n",
                "    target = int(inputs[2])\n",
                "    while n >= 3:\n",
                "        m = sum(dp[n - 3])\n",
                "        if target <= m:\n",
                "            n -= 3\n",
                "        else:\n",
                "            n -= 2\n",
                "            target -= m\n",
                "    print([\"X\", \"YZ\", \"ZX\"][n][target - 1])\n",
                "\n",
                "\n",
                "solution()"
            ]
        },
        {
            "cell_type": "markdown",
            "metadata": {},
            "source": [
                "## 해답"
            ]
        },
        {
            "cell_type": "code",
            "execution_count": 1,
            "metadata": {},
            "outputs": [],
            "source": [
                "def solution(print=print):\n",
                "    import sys\n",
                "\n",
                "    inputs = sys.stdin.read().rstrip().split()\n",
                "\n",
                "    dp = [[1, 0, 0]]\n",
                "    for _ in range(n := int(inputs[1]) - 1):\n",
                "        dp.append([dp[-1][2], dp[-1][0], dp[-1][0] + dp[-1][1]])\n",
                "\n",
                "    q = inputs[0]\n",
                "    if q == \"1\":\n",
                "        print(sum(dp[-1]))\n",
                "        return\n",
                "    if q == \"3\":\n",
                "        print(dp[-1][ord(inputs[2]) - 88])\n",
                "        return\n",
                "    target = int(inputs[2])\n",
                "    while n >= 3:\n",
                "        m = sum(dp[n - 3])\n",
                "        if target <= m:\n",
                "            n -= 3\n",
                "        else:\n",
                "            n -= 2\n",
                "            target -= m\n",
                "    print([\"X\", \"YZ\", \"ZX\"][n][target - 1])"
            ]
        },
        {
            "cell_type": "markdown",
            "metadata": {},
            "source": [
                "## 예제"
            ]
        },
        {
            "cell_type": "code",
            "execution_count": 2,
            "metadata": {},
            "outputs": [],
            "source": [
                "import sys\n",
                "from io import StringIO\n",
                "from typing import Callable, Optional\n",
                "\n",
                "\n",
                "def test(solution: Callable[[Callable], None]) -> Callable[[Optional[str], Optional[str]], None]:\n",
                "    def test_example(example: Optional[str] = None, expected: Optional[str] = None) -> None:\n",
                "        sys.stdin = StringIO(example)\n",
                "        if expected is None:\n",
                "            solution()\n",
                "            return\n",
                "        with StringIO() as printio:\n",
                "            solution(printio.write)\n",
                "            printio.seek(0)\n",
                "            prints = printio.read()\n",
                "        if prints != expected:\n",
                "            for r, e in zip(prints.splitlines(), expected.splitlines()):\n",
                "                if r != e:\n",
                "                    print(f\"expected: {e}\")\n",
                "                    print(f\"result: {r}\")\n",
                "    return test_example\n",
                "\n",
                "test_solution = test(solution)"
            ]
        },
        {
            "cell_type": "code",
            "execution_count": 3,
            "metadata": {},
            "outputs": [],
            "source": [
                "test(solution)(\"\"\"2\n",
                "5\n",
                "1\n",
                "\"\"\", \"Y\") # Y"
            ]
        },
        {
            "cell_type": "code",
            "execution_count": 4,
            "metadata": {},
            "outputs": [
                {
                    "name": "stdout",
                    "output_type": "stream",
                    "text": [
                        "7\n"
                    ]
                }
            ],
            "source": [
                "test_solution(\"\"\"1\n",
                "7\n",
                "\"\"\") # 7"
            ]
        },
        {
            "cell_type": "code",
            "execution_count": 5,
            "metadata": {},
            "outputs": [
                {
                    "name": "stdout",
                    "output_type": "stream",
                    "text": [
                        "X YZ ZX XYZ YZZX ZXXYZ XYZYZZX YZZXZXXYZ ZXXYZXYZYZZX XYZYZZXYZZXZXXYZ\n",
                        "21 28 37 49 65 86 114 151 200 265 351\n"
                    ]
                }
            ],
            "source": [
                "def xyz_iter(it):\n",
                "    for i in it:\n",
                "        match i:\n",
                "            case 0:\n",
                "                yield from (1, 2)\n",
                "            case 1:\n",
                "                yield 2\n",
                "            case 2:\n",
                "                yield 0\n",
                "\n",
                "\n",
                "xyzs = [(0,)]\n",
                "for _ in range(20):\n",
                "    xyzs.append(tuple(xyz_iter(xyzs[-1])))\n",
                "\n",
                "def convert(i):\n",
                "    return chr(88 + i)\n",
                "\n",
                "xyzs = [\"\".join(map(convert, xyz)) for xyz in xyzs]\n",
                "print(*xyzs[:10])\n",
                "print(*(len(xyz) for xyz in xyzs[10:]))"
            ]
        },
        {
            "cell_type": "code",
            "execution_count": 6,
            "metadata": {},
            "outputs": [],
            "source": [
                "for i, xyz in enumerate(xyzs, start=1):\n",
                "    for j, a in enumerate(xyz, start=1):\n",
                "        test_solution(f\"2 {i} {j}\", a)"
            ]
        },
        {
            "cell_type": "code",
            "execution_count": 7,
            "metadata": {},
            "outputs": [
                {
                    "name": "stdout",
                    "output_type": "stream",
                    "text": [
                        "3\n"
                    ]
                }
            ],
            "source": [
                "test_solution(\"\"\"3\n",
                "7\n",
                "Z\n",
                "\"\"\") # 3"
            ]
        }
    ],
    "metadata": {
        "kernelspec": {
            "display_name": "venv",
            "language": "python",
            "name": "python3"
        },
        "language_info": {
            "codemirror_mode": {
                "name": "ipython",
                "version": 3
            },
            "file_extension": ".py",
            "mimetype": "text/x-python",
            "name": "python",
            "nbconvert_exporter": "python",
            "pygments_lexer": "ipython3",
            "version": "3.11.2"
        },
        "orig_nbformat": 4,
        "vscode": {
            "interpreter": {
                "hash": "72904a014a9ffe38f4c58942120b599b3c5a87d06764037548e0139929c1cde3"
            }
        }
    },
    "nbformat": 4,
    "nbformat_minor": 2
}
