{
 "cells": [
  {
   "cell_type": "markdown",
   "metadata": {},
   "source": [
    "# [백준/가장 긴 증가하는 부분 수열](https://www.acmicpc.net/problem/11053)"
   ]
  },
  {
   "cell_type": "markdown",
   "metadata": {},
   "source": [
    "## 풀이과정"
   ]
  },
  {
   "cell_type": "markdown",
   "metadata": {},
   "source": [
    "### 첫번째 시도"
   ]
  },
  {
   "cell_type": "markdown",
   "metadata": {},
   "source": [
    "#### 풀이과정\n",
    "단순히 이전 수 중 현재 수보다 작은 수에서 가장 큰 부분 수열 값을 구하여 그에 1을 더하는 식으로 접근하였습니다. 그러나 1, 2, 3, 4, 1, 3 같은 경우 답은 4이지만 제 코드로는 3 이라는 결과가 나왔습니다."
   ]
  },
  {
   "cell_type": "code",
   "execution_count": null,
   "metadata": {},
   "outputs": [],
   "source": [
    "def solution(open=open):\n",
    "    import sys\n",
    "    import functools\n",
    "\n",
    "    sys.setrecursionlimit(10**6)\n",
    "    n, *nums = map(int, sys.stdin.read().rstrip().split())\n",
    "\n",
    "    @functools.cache\n",
    "    def patial_max(n):\n",
    "        return (\n",
    "            max(partial) + 1\n",
    "            if (partial := [patial_max(m) for m in range(0, n) if nums[m] < nums[n]])\n",
    "            else 1\n",
    "        )\n",
    "\n",
    "    print(patial_max(n - 1))\n",
    "\n",
    "\n",
    "solution()"
   ]
  },
  {
   "cell_type": "code",
   "execution_count": null,
   "metadata": {},
   "outputs": [],
   "source": [
    "def solution():\n",
    "    import sys\n",
    "    import functools\n",
    "\n",
    "    n, *nums = map(int, sys.stdin.read().rstrip().split())\n",
    "\n",
    "    @functools.cache\n",
    "    def patial_max(n):\n",
    "        curr = nums[n]\n",
    "        return (\n",
    "            max([patial_max(i) for i, prev in enumerate(nums[:n]) if prev < curr] + [0])\n",
    "            + 1\n",
    "        )\n",
    "\n",
    "    print(patial_max(n - 1))\n",
    "\n",
    "\n",
    "solution()"
   ]
  },
  {
   "cell_type": "markdown",
   "metadata": {},
   "source": [
    "### 두번째 시도"
   ]
  },
  {
   "cell_type": "markdown",
   "metadata": {},
   "source": [
    "#### 풀이과정\n",
    "검색해 보니 [관련 글](https://seungkwan.tistory.com/8)에서 이를 구하는 알고리즘이 있다는 것을 알게 되어 해당 알고리즘을 적용하였습니다. 해당 알고리즘은 다음과 같은 과정을 거칩니다.\n",
    "\n",
    "    1. 빈 리스트 LIS(Longest Increasing Subsequence)를 만든다.\n",
    "    2. 수열의 원소 num 별로 다음과 같은 과정을 반복한다.\n",
    "  \n",
    "      1. 만약 LIS가 비어있거나 마지막 원소보다 num이 더 크다면,\n",
    "          num을 LIS에 추가합니다.\n",
    "      2. 그 외의 경우,\n",
    "          LIS에서 num 보다 작거나 같은 원소 중 가장 마지막 원소(Lower Bound)의 위치를 구하여 해당 위치를 num으로 변경한다.\\\n",
    "      \n",
    "    3. LIS의 길이가 가장 긴 증가하는 부분 수열의 크기와 같다.\n",
    "\n",
    "특히, 해당 알고리즘을 이용하면 LIS는 자연스럽게 정렬이 되기 때문에, 이진 검색을 사용하면 해당 알고리즘은 $O(N\\log N)$의 시간 효율성을 가집니다."
   ]
  },
  {
   "cell_type": "code",
   "execution_count": 315,
   "metadata": {},
   "outputs": [],
   "source": [
    "def solution():\n",
    "    import sys\n",
    "    import bisect\n",
    "\n",
    "    n, num0, *nums = map(int, sys.stdin.read().rstrip().split())\n",
    "    lis = [num0]\n",
    "    # 수열의 첫 원소를 먼저 LIS 저장합니다.\n",
    "\n",
    "    def patial_max(n):\n",
    "        try:\n",
    "            lis[bisect.bisect_left(lis, n)] = n\n",
    "            # 이진 검색을 통하여 Lower Bound를 구하여, 해당 위치에 n을 삽입합니다.\n",
    "        except IndexError:\n",
    "            # IndexError가 발생한다면, n이 가장 큰 원소라는 뜻이므로 LIS에 n을 추가합니다.\n",
    "            lis.append(n)\n",
    "\n",
    "    for num in nums:\n",
    "        # 수열의 원소 별로 patial_max 함수를 적용하여 LIS를 구합니다.\n",
    "        patial_max(num)\n",
    "    # LIS의 길이를 출력합니다.\n",
    "    print(len(lis))\n",
    "\n",
    "\n",
    "solution()"
   ]
  },
  {
   "cell_type": "markdown",
   "metadata": {},
   "source": [
    "## 해답"
   ]
  },
  {
   "cell_type": "code",
   "execution_count": 266,
   "metadata": {},
   "outputs": [],
   "source": [
    "from bisect import bisect, bisect_left, bisect_right"
   ]
  },
  {
   "cell_type": "code",
   "execution_count": 300,
   "metadata": {},
   "outputs": [],
   "source": [
    "def solution(open=open):\n",
    "    n, num0, *nums = map(int, open(0).read().rstrip().split())\n",
    "    lis = [num0]\n",
    "\n",
    "    def patial_max(n):\n",
    "        try:\n",
    "            lis[bisect_left(lis, n)] = n\n",
    "        except IndexError:\n",
    "            lis.append(n)\n",
    "\n",
    "    for num in nums:\n",
    "        patial_max(num)\n",
    "    print(len(lis), lis)"
   ]
  },
  {
   "cell_type": "code",
   "execution_count": 301,
   "metadata": {},
   "outputs": [
    {
     "name": "stdout",
     "output_type": "stream",
     "text": [
      "2 1 [1, 2, 9]\n",
      "7 2 [1, 2, 7]\n",
      "4 2 [1, 2, 4]\n",
      "8 3 [1, 2, 4, 8]\n",
      "1 1 [1, 1, 4, 8]\n",
      "5 3 [1, 1, 4, 5]\n"
     ]
    }
   ],
   "source": [
    "a = [1, 5, 9]\n",
    "for i in [2, 7, 4, 8, 1, 5]:\n",
    "    try:\n",
    "        a[b := bisect_right(a, i)] = i\n",
    "        print(i, b, a)\n",
    "    except IndexError:\n",
    "        a.append(i)\n",
    "        print(i, b, a)"
   ]
  },
  {
   "cell_type": "markdown",
   "metadata": {},
   "source": [
    "## 예제"
   ]
  },
  {
   "cell_type": "code",
   "execution_count": 302,
   "metadata": {},
   "outputs": [],
   "source": [
    "# 백준 문제 풀이용 예제 실행 코드\n",
    "from bwj import test\n",
    "\n",
    "test_solution = test(solution)\n",
    "\n",
    "# test_solution(\"\"\"\"\"\")\n",
    "# test_solution(read(\"fn\").read())"
   ]
  },
  {
   "cell_type": "code",
   "execution_count": 303,
   "metadata": {},
   "outputs": [
    {
     "name": "stdout",
     "output_type": "stream",
     "text": [
      "4 [10, 20, 30, 40]\n"
     ]
    }
   ],
   "source": [
    "test_solution(\n",
    "    \"\"\"6\n",
    "10 20 30 40 10 30\"\"\"\n",
    ")  # 4"
   ]
  },
  {
   "cell_type": "code",
   "execution_count": 304,
   "metadata": {},
   "outputs": [
    {
     "name": "stdout",
     "output_type": "stream",
     "text": [
      "5 [10, 20, 30, 40, 50]\n"
     ]
    }
   ],
   "source": [
    "test_solution(\n",
    "    \"\"\"7\n",
    "10 100 120 20 30 40 50\"\"\"\n",
    ")  # 5"
   ]
  },
  {
   "cell_type": "code",
   "execution_count": 305,
   "metadata": {},
   "outputs": [
    {
     "name": "stdout",
     "output_type": "stream",
     "text": [
      "4 [1, 2, 3, 4]\n"
     ]
    }
   ],
   "source": [
    "test_solution(\n",
    "    \"\"\"10\n",
    "1 6 8 3 4 10 1 2 3 4\"\"\"\n",
    ")  # 4"
   ]
  },
  {
   "cell_type": "code",
   "execution_count": 306,
   "metadata": {},
   "outputs": [
    {
     "name": "stdout",
     "output_type": "stream",
     "text": [
      "6 [10, 15, 20, 30, 60, 80]\n"
     ]
    }
   ],
   "source": [
    "test_solution(\n",
    "    \"\"\"7\n",
    "10 40 15 20 30 60 80\"\"\"\n",
    ")  # 6"
   ]
  },
  {
   "cell_type": "code",
   "execution_count": 307,
   "metadata": {},
   "outputs": [
    {
     "name": "stdout",
     "output_type": "stream",
     "text": [
      "4 [1, 2, 4, 8]\n"
     ]
    }
   ],
   "source": [
    "test_solution(\n",
    "    \"\"\"6\n",
    "1 2 8 2 4 8\"\"\"\n",
    ")  # 4"
   ]
  },
  {
   "cell_type": "code",
   "execution_count": 308,
   "metadata": {},
   "outputs": [
    {
     "name": "stdout",
     "output_type": "stream",
     "text": [
      "1 [1]\n"
     ]
    }
   ],
   "source": [
    "test_solution(\n",
    "    \"\"\"5\n",
    "1 1 1 1 1\"\"\"\n",
    ")  # 1"
   ]
  },
  {
   "cell_type": "code",
   "execution_count": 309,
   "metadata": {},
   "outputs": [
    {
     "name": "stdout",
     "output_type": "stream",
     "text": [
      "4 [1, 2, 3, 5]\n"
     ]
    }
   ],
   "source": [
    "test_solution(\n",
    "    \"\"\"5\n",
    "1 4 2 3 5\"\"\"\n",
    ")  # 4"
   ]
  },
  {
   "cell_type": "code",
   "execution_count": 310,
   "metadata": {},
   "outputs": [
    {
     "name": "stdout",
     "output_type": "stream",
     "text": [
      "1 [1]\n"
     ]
    }
   ],
   "source": [
    "test_solution(\n",
    "    \"\"\"1\n",
    "1\"\"\"\n",
    ")  # 1"
   ]
  },
  {
   "cell_type": "code",
   "execution_count": 311,
   "metadata": {},
   "outputs": [
    {
     "name": "stdout",
     "output_type": "stream",
     "text": [
      "4 [10, 20, 30, 50]\n"
     ]
    }
   ],
   "source": [
    "test_solution(\n",
    "    \"\"\"6\n",
    "10 20 10 30 20 50\"\"\"\n",
    ")  # 4"
   ]
  },
  {
   "cell_type": "code",
   "execution_count": 312,
   "metadata": {},
   "outputs": [
    {
     "name": "stdout",
     "output_type": "stream",
     "text": [
      "5 [1, 2, 3, 4, 5]\n"
     ]
    }
   ],
   "source": [
    "test_solution(\n",
    "    \"\"\"6\n",
    "1 10 2 3 4 5\"\"\"\n",
    ")  # 5"
   ]
  },
  {
   "cell_type": "code",
   "execution_count": 313,
   "metadata": {},
   "outputs": [
    {
     "name": "stdout",
     "output_type": "stream",
     "text": [
      "4 [1, 2, 4, 5]\n"
     ]
    }
   ],
   "source": [
    "test_solution(\n",
    "    \"\"\"6\n",
    "1 10 2 30 4 5\"\"\"\n",
    ")  # 4"
   ]
  },
  {
   "cell_type": "code",
   "execution_count": 314,
   "metadata": {},
   "outputs": [
    {
     "name": "stdout",
     "output_type": "stream",
     "text": [
      "5 [1, 2, 3, 4, 5]\n"
     ]
    }
   ],
   "source": [
    "test_solution(\n",
    "    \"\"\"6\n",
    "100 1 2 3 4 5\"\"\"\n",
    ")  # 5"
   ]
  }
 ],
 "metadata": {
  "interpreter": {
   "hash": "72904a014a9ffe38f4c58942120b599b3c5a87d06764037548e0139929c1cde3"
  },
  "kernelspec": {
   "display_name": "Python 3.10.4 ('venv': venv)",
   "language": "python",
   "name": "python3"
  },
  "language_info": {
   "codemirror_mode": {
    "name": "ipython",
    "version": 3
   },
   "file_extension": ".py",
   "mimetype": "text/x-python",
   "name": "python",
   "nbconvert_exporter": "python",
   "pygments_lexer": "ipython3",
   "version": "3.10.4"
  },
  "orig_nbformat": 4
 },
 "nbformat": 4,
 "nbformat_minor": 2
}
