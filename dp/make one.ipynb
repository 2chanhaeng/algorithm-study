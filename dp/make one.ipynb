{
 "cells": [
  {
   "cell_type": "markdown",
   "metadata": {},
   "source": [
    "# [백준/1로 만들기](https://www.acmicpc.net/problem/1463)"
   ]
  },
  {
   "cell_type": "markdown",
   "metadata": {},
   "source": [
    "## 풀이과정"
   ]
  },
  {
   "cell_type": "markdown",
   "metadata": {},
   "source": [
    "### 첫번째 시도"
   ]
  },
  {
   "cell_type": "markdown",
   "metadata": {},
   "source": [
    "풀이과정"
   ]
  },
  {
   "cell_type": "code",
   "execution_count": null,
   "metadata": {},
   "outputs": [],
   "source": [
    "from functools import cache\n",
    "from sys import setrecursionlimit\n",
    "\n",
    "setrecursionlimit(10**7)\n",
    "\n",
    "pow2 = set(2**i for i in range(1, 17))\n",
    "pow3 = set(3**i for i in range(1, 11))\n",
    "\n",
    "\n",
    "@cache\n",
    "def make_one(num, N=0):\n",
    "    if num == 1:\n",
    "        return N\n",
    "    if num in pow2:\n",
    "        return N + num.bit_length() - 1\n",
    "    if num in pow3:\n",
    "        return N + (num.bit_length() * 5 >> 3)  # log_2 3 = 0.63... ≒ 5 / 8\n",
    "    ott = [num.bit_count() + num.bit_length() - 2]\n",
    "    if num % 2 == 0:\n",
    "        ott.append(make_one(num // 2, N + 1))\n",
    "    if num % 3 == 0:\n",
    "        ott.append(make_one(num // 3, N + 1))\n",
    "    return min(ott) + N\n",
    "\n",
    "\n",
    "print(make_one(int(input())))"
   ]
  },
  {
   "cell_type": "markdown",
   "metadata": {},
   "source": [
    "### 두번째 시도"
   ]
  },
  {
   "cell_type": "markdown",
   "metadata": {},
   "source": [
    "풀이과정"
   ]
  },
  {
   "cell_type": "code",
   "execution_count": null,
   "metadata": {},
   "outputs": [],
   "source": [
    "n = int(input())\n",
    "cache = {1: 0}\n",
    "\n",
    "\n",
    "def make_one(num):\n",
    "    if num == 1:\n",
    "        return 0\n",
    "    if num in cache:\n",
    "        return cache[num]\n",
    "    prob = []\n",
    "    if num % 2 == 0:\n",
    "        prob.append(make_one(num // 2))\n",
    "    if num % 3 == 0:\n",
    "        prob.append(make_one(num // 3))\n",
    "    cache[num] = (min(prob + [make_one(num - 1)]) if prob else make_one(num - 1)) + 1\n",
    "    del prob\n",
    "    return cache[num]\n",
    "\n",
    "\n",
    "print(make_one(n))"
   ]
  },
  {
   "cell_type": "markdown",
   "metadata": {},
   "source": [
    "### 세번째 시도"
   ]
  },
  {
   "cell_type": "markdown",
   "metadata": {},
   "source": [
    "풀이과정"
   ]
  },
  {
   "cell_type": "code",
   "execution_count": null,
   "metadata": {},
   "outputs": [],
   "source": [
    "n = int(input())\n",
    "cache = {1: 0}\n",
    "\n",
    "\n",
    "def make_one(num):\n",
    "    if num == 1:\n",
    "        return 0\n",
    "    if num in cache:\n",
    "        return cache[num]\n",
    "    if num % 6 == 0:\n",
    "        cache[num] = min(make_one(num // 3), make_one(num // 2)) + 1\n",
    "    elif num % 3 == 0:\n",
    "        cache[num] = min(make_one(num // 3), make_one(num - 1)) + 1\n",
    "    elif num % 2 == 0:\n",
    "        cache[num] = min(make_one(num // 2), make_one(num - 1)) + 1\n",
    "    else:\n",
    "        cache[num] = make_one(num - 1) + 1\n",
    "    return cache[num]\n",
    "\n",
    "\n",
    "print(make_one(n))"
   ]
  },
  {
   "cell_type": "markdown",
   "metadata": {},
   "source": [
    "## 해답"
   ]
  },
  {
   "cell_type": "code",
   "execution_count": 5,
   "metadata": {},
   "outputs": [],
   "source": [
    "n = int(input())\n",
    "cache = {1: 0}\n",
    "\n",
    "\n",
    "def make_one(num):\n",
    "    if num == 1:\n",
    "        return 0\n",
    "    if num in cache:\n",
    "        return cache[num]\n",
    "    if num % 6 == 0:\n",
    "        cache[num] = min(make_one(num // 3), make_one(num // 2)) + 1\n",
    "    elif num % 3 == 0:\n",
    "        cache[num] = min(make_one(num // 3), make_one(num - 1)) + 1\n",
    "    elif num % 2 == 0:\n",
    "        cache[num] = min(make_one(num // 2), make_one(num - 1)) + 1\n",
    "    else:\n",
    "        cache[num] = make_one(num - 1) + 1\n",
    "    return cache[num]\n",
    "\n",
    "\n",
    "print(make_one(n))"
   ]
  },
  {
   "cell_type": "markdown",
   "metadata": {},
   "source": [
    "## 테스트 결과"
   ]
  },
  {
   "cell_type": "markdown",
   "metadata": {},
   "source": [
    "|테스트|결과|\n",
    "|---:|:---|"
   ]
  },
  {
   "cell_type": "markdown",
   "metadata": {},
   "source": [
    "## 예제"
   ]
  },
  {
   "cell_type": "code",
   "execution_count": null,
   "metadata": {},
   "outputs": [],
   "source": [
    "# 백준식 실행 코드\n",
    "def preprocess_example(input_: str):\n",
    "    input_ = input_.split(\"\\n\")\n",
    "    only_one = int(input_.pop(0))  # 단항\n",
    "    line = map(int, input_.pop(0).split())  # 한 줄\n",
    "    lines = [list(map(int, input_.pop(0).split())) for i in range(l)]  # l 줄\n",
    "    return only_one, line, lines\n",
    "\n",
    "\n",
    "def solution_example(input_):\n",
    "    only_one, line, lines = preprocess_example(input_)\n",
    "    print(solution(only_one, line, lines))"
   ]
  },
  {
   "cell_type": "code",
   "execution_count": null,
   "metadata": {},
   "outputs": [],
   "source": [
    "# 예제 코드"
   ]
  }
 ],
 "metadata": {
  "interpreter": {
   "hash": "73891b0dc2e53390f36276e59930dd4ecab91b05b5c90320c2d5b1c443f87069"
  },
  "kernelspec": {
   "display_name": "Python 3.10.1 ('venv': venv)",
   "language": "python",
   "name": "python3"
  },
  "language_info": {
   "codemirror_mode": {
    "name": "ipython",
    "version": 3
   },
   "file_extension": ".py",
   "mimetype": "text/x-python",
   "name": "python",
   "nbconvert_exporter": "python",
   "pygments_lexer": "ipython3",
   "version": "3.10.1"
  },
  "orig_nbformat": 4
 },
 "nbformat": 4,
 "nbformat_minor": 2
}
