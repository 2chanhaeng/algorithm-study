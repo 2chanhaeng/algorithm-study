{
 "cells": [
  {
   "cell_type": "markdown",
   "metadata": {},
   "source": [
    "# [백준/1로 만들기](https://www.acmicpc.net/problem/1463)"
   ]
  },
  {
   "cell_type": "markdown",
   "metadata": {},
   "source": [
    "## 풀이과정"
   ]
  },
  {
   "cell_type": "markdown",
   "metadata": {},
   "source": [
    "### 첫번째 시도"
   ]
  },
  {
   "cell_type": "markdown",
   "metadata": {},
   "source": [
    "풀이과정"
   ]
  },
  {
   "cell_type": "code",
   "execution_count": 20,
   "metadata": {},
   "outputs": [
    {
     "name": "stdout",
     "output_type": "stream",
     "text": [
      "40 0\n",
      "20 1\n",
      "10 2\n",
      "5 3\n",
      "6\n"
     ]
    }
   ],
   "source": [
    "from functools import cache\n",
    "from sys import setrecursionlimit\n",
    "setrecursionlimit(10 ** 7)\n",
    "\n",
    "pow2 = set(2**i for i in range(1,17))\n",
    "pow3 = set(3**i for i in range(1,11))\n",
    "\n",
    "@cache\n",
    "def make_one(num, N=0):\n",
    "    print(num, N)\n",
    "    if num == 1: return N\n",
    "    if num in pow2: return N + num.bit_length() - 1\n",
    "    if num in pow3: return N + (num.bit_length() * 5 >> 3) # log_2 3 = 0.63... ≒ 5 / 8\n",
    "    ott = [num.bit_count() + num.bit_length() - 2]\n",
    "    if num % 2 == 0: ott.append(make_one(num // 2, N + 1))\n",
    "    if num % 3 == 0: ott.append(make_one(num // 3, N + 1))\n",
    "    return min(ott) + N\n",
    "print(make_one(int(input())))"
   ]
  },
  {
   "cell_type": "code",
   "execution_count": 16,
   "metadata": {},
   "outputs": [
    {
     "name": "stdout",
     "output_type": "stream",
     "text": [
      "2 10 1\n",
      "3 11 2\n",
      "4 100 2\n",
      "5 101 3\n",
      "6 110 3\n",
      "7 111 4\n",
      "8 1000 3\n",
      "9 1001 4\n",
      "10 1010 4\n",
      "11 1011 5\n",
      "12 1100 4\n",
      "13 1101 5\n",
      "14 1110 5\n",
      "15 1111 6\n"
     ]
    }
   ],
   "source": [
    "for i in range(2,16):\n",
    "    print(i, bin(i)[2:], i.bit_count() + i.bit_length() - 2)"
   ]
  },
  {
   "cell_type": "code",
   "execution_count": 1,
   "metadata": {},
   "outputs": [
    {
     "data": {
      "text/plain": [
       "15"
      ]
     },
     "execution_count": 1,
     "metadata": {},
     "output_type": "execute_result"
    }
   ],
   "source": [
    "int(\"120\",3)"
   ]
  },
  {
   "cell_type": "markdown",
   "metadata": {},
   "source": [
    "## 해답"
   ]
  },
  {
   "cell_type": "code",
   "execution_count": 3,
   "metadata": {},
   "outputs": [],
   "source": [
    "from functools import cache\n",
    "from sys import setrecursionlimit\n",
    "setrecursionlimit(10 ** 6)"
   ]
  },
  {
   "cell_type": "code",
   "execution_count": 15,
   "metadata": {},
   "outputs": [
    {
     "data": {
      "text/plain": [
       "1"
      ]
     },
     "execution_count": 15,
     "metadata": {},
     "output_type": "execute_result"
    }
   ],
   "source": [
    "(1).bit_length()"
   ]
  },
  {
   "cell_type": "code",
   "execution_count": 40,
   "metadata": {},
   "outputs": [],
   "source": [
    "pow2 = set(2**i for i in range(1,17))\n",
    "pow3 = set(3**i for i in range(1,11))"
   ]
  },
  {
   "cell_type": "code",
   "execution_count": 41,
   "metadata": {},
   "outputs": [
    {
     "name": "stdout",
     "output_type": "stream",
     "text": [
      "2 1\n",
      "4 2\n",
      "8 3\n",
      "16 4\n",
      "32 5\n",
      "64 6\n",
      "128 7\n",
      "256 8\n",
      "512 9\n",
      "1024 10\n",
      "2048 11\n",
      "4096 12\n",
      "8192 13\n",
      "16384 14\n",
      "32768 15\n",
      "65536 16\n"
     ]
    }
   ],
   "source": [
    "for i in sorted(pow2):\n",
    "    print(i, i.bit_length() - 1)"
   ]
  },
  {
   "cell_type": "code",
   "execution_count": 35,
   "metadata": {},
   "outputs": [
    {
     "name": "stdout",
     "output_type": "stream",
     "text": [
      "3 1\n",
      "9 3\n",
      "27 3\n",
      "81 5\n",
      "243 6\n",
      "729 7\n",
      "2187 9\n",
      "6561 9\n",
      "19683 11\n",
      "59049 12\n"
     ]
    }
   ],
   "source": [
    "for i in sorted(pow3):\n",
    "    print(i, i.bit_length() * 3 >> 2)"
   ]
  },
  {
   "cell_type": "code",
   "execution_count": null,
   "metadata": {},
   "outputs": [],
   "source": [
    "print(make_one(int(input())))\n"
   ]
  },
  {
   "cell_type": "code",
   "execution_count": 45,
   "metadata": {},
   "outputs": [
    {
     "name": "stdout",
     "output_type": "stream",
     "text": [
      "2 0\n"
     ]
    },
    {
     "data": {
      "text/plain": [
       "1"
      ]
     },
     "execution_count": 45,
     "metadata": {},
     "output_type": "execute_result"
    }
   ],
   "source": [
    "@cache\n",
    "def make_one(num, N=0):\n",
    "    print(num, N)\n",
    "    if num == 1: return N\n",
    "    if num in pow2: return N + num.bit_length() - 1\n",
    "    if num in pow3: return N + (num.bit_length() * 5 >> 3) # log_2 3 = 1.58... ≒ 8 / 5\n",
    "    ott = [make_one(num - 1, N + 1)]\n",
    "    if num % 2 == 0: ott.append(make_one(num // 2, N + 1))\n",
    "    if num % 3 == 0: ott.append(make_one(num // 3, N + 1))\n",
    "    return min(ott)\n",
    "make_one(2)"
   ]
  },
  {
   "cell_type": "markdown",
   "metadata": {},
   "source": [
    "## 테스트 결과"
   ]
  },
  {
   "cell_type": "markdown",
   "metadata": {},
   "source": [
    "|테스트|결과|\n",
    "|---:|:---|"
   ]
  },
  {
   "cell_type": "markdown",
   "metadata": {},
   "source": [
    "## 예제"
   ]
  },
  {
   "cell_type": "code",
   "execution_count": null,
   "metadata": {},
   "outputs": [],
   "source": [
    "# 백준식 실행 코드\n",
    "def preprocess_example(input_:str):\n",
    "    input_ = input_.split(\"\\n\")\n",
    "    only_one = int(input_.pop(0)) # 단항\n",
    "    line = map(int, input_.pop(0).split()) # 한 줄\n",
    "    lines = [list(map(int, input_.pop(0).split())) for i in range(l)] # l 줄\n",
    "    return only_one, line, lines\n",
    "def solution_example(input_):\n",
    "    only_one, line, lines = preprocess_example(input_)\n",
    "    print(solution(only_one, line, lines))"
   ]
  },
  {
   "cell_type": "code",
   "execution_count": null,
   "metadata": {},
   "outputs": [],
   "source": [
    "# 예제 코드"
   ]
  }
 ],
 "metadata": {
  "interpreter": {
   "hash": "73891b0dc2e53390f36276e59930dd4ecab91b05b5c90320c2d5b1c443f87069"
  },
  "kernelspec": {
   "display_name": "Python 3.10.1 ('venv': venv)",
   "language": "python",
   "name": "python3"
  },
  "language_info": {
   "codemirror_mode": {
    "name": "ipython",
    "version": 3
   },
   "file_extension": ".py",
   "mimetype": "text/x-python",
   "name": "python",
   "nbconvert_exporter": "python",
   "pygments_lexer": "ipython3",
   "version": "3.10.1"
  },
  "orig_nbformat": 4
 },
 "nbformat": 4,
 "nbformat_minor": 2
}
