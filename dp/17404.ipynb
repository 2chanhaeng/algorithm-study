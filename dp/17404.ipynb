{
    "cells": [
        {
            "cell_type": "markdown",
            "metadata": {},
            "source": [
                "# [백준/RGB거리 2](https://www.acmicpc.net/problem/17404)\n"
            ]
        },
        {
            "cell_type": "markdown",
            "metadata": {},
            "source": [
                "## 풀이과정\n"
            ]
        },
        {
            "cell_type": "markdown",
            "metadata": {},
            "source": [
                "### 첫번째 시도\n"
            ]
        },
        {
            "cell_type": "markdown",
            "metadata": {},
            "source": [
                "#### 풀이과정\n",
                "\n",
                "비슷한 문제인 [1149번 문제](./11049.ipynb)의 풀이를 이용해 풀었다.  \n",
                "기본적으로 해당 풀이에서 사용했던 함수와 비슷하다.  \n",
                "다만 첫번째 색을 고정하는 인자를 추가하여 마지막 색이 같은 경우 무한대로 설정하여 답으로 나오지 않게 막았다.\n"
            ]
        },
        {
            "cell_type": "code",
            "execution_count": null,
            "metadata": {},
            "outputs": [],
            "source": [
                "def solution():\n",
                "    import sys\n",
                "    from functools import cache\n",
                "\n",
                "    sys.setrecursionlimit(2**16)\n",
                "    N = int(sys.stdin.readline())\n",
                "    homes = [tuple(map(int, line.split())) for line in sys.stdin.read().split(\"\\n\")]\n",
                "\n",
                "    @cache\n",
                "    def nth(n, color, init):\n",
                "        if n == 0:\n",
                "            if color == init:\n",
                "                return float(\"inf\")\n",
                "            return homes[0][color]\n",
                "        return (\n",
                "            min(\n",
                "                nth(n - 1, (color + 1) % 3, init),\n",
                "                nth(n - 1, (color + 2) % 3, init),\n",
                "            )\n",
                "            + homes[n][color]\n",
                "        )\n",
                "\n",
                "    print(min(nth(N - 1, i, i) for i in range(3)))\n",
                "\n",
                "\n",
                "solution()"
            ]
        },
        {
            "cell_type": "markdown",
            "metadata": {},
            "source": [
                "## 해답\n"
            ]
        },
        {
            "cell_type": "code",
            "execution_count": 1,
            "metadata": {},
            "outputs": [],
            "source": [
                "def solution():\n",
                "    import sys\n",
                "    from functools import cache\n",
                "\n",
                "    sys.setrecursionlimit(2**16)\n",
                "    N = int(sys.stdin.readline())\n",
                "    homes = [tuple(map(int, line.split())) for line in sys.stdin.read().split(\"\\n\")]\n",
                "\n",
                "    @cache\n",
                "    def nth(n, color, init):\n",
                "        if n == 0:\n",
                "            if color == init:\n",
                "                return float(\"inf\")\n",
                "            return homes[0][color]\n",
                "        return (\n",
                "            min(\n",
                "                nth(n - 1, (color + 1) % 3, init),\n",
                "                nth(n - 1, (color + 2) % 3, init),\n",
                "            )\n",
                "            + homes[n][color]\n",
                "        )\n",
                "\n",
                "    print(min(nth(N - 1, i, i) for i in range(3)))"
            ]
        },
        {
            "cell_type": "markdown",
            "metadata": {},
            "source": [
                "## 예제\n"
            ]
        },
        {
            "cell_type": "code",
            "execution_count": 2,
            "metadata": {},
            "outputs": [],
            "source": [
                "# 백준 문제 풀이용 예제 실행 코드\n",
                "from bwj import test\n",
                "\n",
                "test_solution = test(solution)\n",
                "\n",
                "# test_solution(\"\"\"\"\"\")\n",
                "# test_solution(read(\"fn\").read())"
            ]
        },
        {
            "cell_type": "code",
            "execution_count": 3,
            "metadata": {},
            "outputs": [
                {
                    "name": "stdout",
                    "output_type": "stream",
                    "text": [
                        "110\n"
                    ]
                }
            ],
            "source": [
                "test_solution(\n",
                "    \"\"\"3\n",
                "26 40 83\n",
                "49 60 57\n",
                "13 89 99\n",
                "\"\"\"\n",
                ")  # 110"
            ]
        },
        {
            "cell_type": "code",
            "execution_count": 4,
            "metadata": {},
            "outputs": [
                {
                    "name": "stdout",
                    "output_type": "stream",
                    "text": [
                        "3\n"
                    ]
                }
            ],
            "source": [
                "test_solution(\n",
                "    \"\"\"3\n",
                "1 100 100\n",
                "100 1 100\n",
                "100 100 1\n",
                "\"\"\"\n",
                ")  # 3"
            ]
        },
        {
            "cell_type": "code",
            "execution_count": 5,
            "metadata": {},
            "outputs": [
                {
                    "name": "stdout",
                    "output_type": "stream",
                    "text": [
                        "201\n"
                    ]
                }
            ],
            "source": [
                "test_solution(\n",
                "    \"\"\"3\n",
                "1 100 100\n",
                "100 100 100\n",
                "1 100 100\n",
                "\"\"\"\n",
                ")  # 201"
            ]
        },
        {
            "cell_type": "code",
            "execution_count": 6,
            "metadata": {},
            "outputs": [
                {
                    "name": "stdout",
                    "output_type": "stream",
                    "text": [
                        "208\n"
                    ]
                }
            ],
            "source": [
                "test_solution(\n",
                "    \"\"\"6\n",
                "30 19 5\n",
                "64 77 64\n",
                "15 19 97\n",
                "4 71 57\n",
                "90 86 84\n",
                "93 32 91\n",
                "\"\"\"\n",
                ")  # 208"
            ]
        },
        {
            "cell_type": "code",
            "execution_count": 7,
            "metadata": {},
            "outputs": [
                {
                    "name": "stdout",
                    "output_type": "stream",
                    "text": [
                        "253\n"
                    ]
                }
            ],
            "source": [
                "test_solution(\n",
                "    \"\"\"8\n",
                "71 39 44\n",
                "32 83 55\n",
                "51 37 63\n",
                "89 29 100\n",
                "83 58 11\n",
                "65 13 15\n",
                "47 25 29\n",
                "60 66 19\n",
                "\"\"\"\n",
                ")  # 253"
            ]
        }
    ],
    "metadata": {
        "interpreter": {
            "hash": "73891b0dc2e53390f36276e59930dd4ecab91b05b5c90320c2d5b1c443f87069"
        },
        "kernelspec": {
            "display_name": "Python 3.10.1 ('venv': venv)",
            "language": "python",
            "name": "python3"
        },
        "language_info": {
            "codemirror_mode": {
                "name": "ipython",
                "version": 3
            },
            "file_extension": ".py",
            "mimetype": "text/x-python",
            "name": "python",
            "nbconvert_exporter": "python",
            "pygments_lexer": "ipython3",
            "version": "3.12.2"
        },
        "orig_nbformat": 4
    },
    "nbformat": 4,
    "nbformat_minor": 2
}
