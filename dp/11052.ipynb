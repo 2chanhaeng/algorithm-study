{
    "cells": [
        {
            "cell_type": "markdown",
            "metadata": {},
            "source": [
                "# [백준/카드 구매하기](https://www.acmicpc.net/problem/11052)\n"
            ]
        },
        {
            "cell_type": "markdown",
            "metadata": {},
            "source": [
                "## 풀이과정\n"
            ]
        },
        {
            "cell_type": "markdown",
            "metadata": {},
            "source": [
                "### 첫번째 시도\n"
            ]
        },
        {
            "cell_type": "markdown",
            "metadata": {},
            "source": [
                "#### 풀이과정\n"
            ]
        },
        {
            "cell_type": "code",
            "execution_count": null,
            "metadata": {},
            "outputs": [],
            "source": [
                "def solution():\n",
                "    import sys\n",
                "\n",
                "    N, *packs = map(int, sys.stdin.read().split())\n",
                "    packs.insert(0, 0)\n",
                "    for i in range(1, N + 1):\n",
                "        packs[i] = max(packs[j] + packs[i - j] for j in range(i))\n",
                "    print(packs[-1])\n",
                "\n",
                "\n",
                "solution()"
            ]
        },
        {
            "cell_type": "markdown",
            "metadata": {},
            "source": [
                "## 해답\n"
            ]
        },
        {
            "cell_type": "code",
            "execution_count": 193,
            "metadata": {},
            "outputs": [],
            "source": [
                "def solution():\n",
                "    import sys\n",
                "\n",
                "    inputs = map(int, sys.stdin.read().split()[1:])\n",
                "    packs = [0, next(inputs)]\n",
                "    for i, p in enumerate(inputs, 2):\n",
                "        packs.append(max(p, max(map(sum, zip(packs[1 : i // 2 + 1], packs[::-1])))))\n",
                "    print(packs[-1])"
            ]
        },
        {
            "cell_type": "markdown",
            "metadata": {},
            "source": [
                "## 예제\n"
            ]
        },
        {
            "cell_type": "code",
            "execution_count": 194,
            "metadata": {},
            "outputs": [],
            "source": [
                "# 백준 문제 풀이용 예제 실행 코드\n",
                "from bwj import test\n",
                "\n",
                "test_solution = test(solution)\n",
                "\n",
                "# test_solution(\"\"\"\"\"\")\n",
                "# test_solution(read(\"fn\").read())"
            ]
        },
        {
            "cell_type": "code",
            "execution_count": 195,
            "metadata": {},
            "outputs": [
                {
                    "ename": "ValueError",
                    "evalue": "max() iterable argument is empty",
                    "output_type": "error",
                    "traceback": [
                        "\u001b[0;31m---------------------------------------------------------------------------\u001b[0m",
                        "\u001b[0;31mValueError\u001b[0m                                Traceback (most recent call last)",
                        "Cell \u001b[0;32mIn[195], line 1\u001b[0m\n\u001b[0;32m----> 1\u001b[0m \u001b[43mtest_solution\u001b[49m\u001b[43m(\u001b[49m\n\u001b[1;32m      2\u001b[0m \u001b[38;5;250;43m    \u001b[39;49m\u001b[38;5;124;43;03m\"\"\"4\u001b[39;49;00m\n\u001b[1;32m      3\u001b[0m \u001b[38;5;124;43;03m1 5 6 7\u001b[39;49;00m\n\u001b[1;32m      4\u001b[0m \u001b[38;5;124;43;03m\"\"\"\u001b[39;49;00m\n\u001b[1;32m      5\u001b[0m \u001b[43m)\u001b[49m  \u001b[38;5;66;03m# 10\u001b[39;00m\n",
                        "File \u001b[0;32m~/GitHub/algorithm-study/venv/lib/python3.12/site-packages/bwj/__init__.py:98\u001b[0m, in \u001b[0;36mtest.<locals>.test_example\u001b[0;34m(example)\u001b[0m\n\u001b[1;32m     96\u001b[0m \u001b[38;5;28;01mdef\u001b[39;00m \u001b[38;5;21mtest_example\u001b[39m(example: Optional[\u001b[38;5;28mstr\u001b[39m] \u001b[38;5;241m=\u001b[39m \u001b[38;5;28;01mNone\u001b[39;00m) \u001b[38;5;241m-\u001b[39m\u001b[38;5;241m>\u001b[39m \u001b[38;5;28;01mNone\u001b[39;00m:\n\u001b[1;32m     97\u001b[0m     sys\u001b[38;5;241m.\u001b[39mstdin \u001b[38;5;241m=\u001b[39m StringIO(example)\n\u001b[0;32m---> 98\u001b[0m     \u001b[43msolution\u001b[49m\u001b[43m(\u001b[49m\u001b[43m)\u001b[49m\n",
                        "Cell \u001b[0;32mIn[193], line 7\u001b[0m, in \u001b[0;36msolution\u001b[0;34m()\u001b[0m\n\u001b[1;32m      5\u001b[0m packs \u001b[38;5;241m=\u001b[39m [\u001b[38;5;241m0\u001b[39m]\n\u001b[1;32m      6\u001b[0m \u001b[38;5;28;01mfor\u001b[39;00m i, p \u001b[38;5;129;01min\u001b[39;00m \u001b[38;5;28menumerate\u001b[39m(inputs, \u001b[38;5;241m1\u001b[39m):\n\u001b[0;32m----> 7\u001b[0m     packs\u001b[38;5;241m.\u001b[39mappend(\u001b[38;5;28mmax\u001b[39m(p, \u001b[38;5;28;43mmax\u001b[39;49m\u001b[43m(\u001b[49m\u001b[38;5;28;43mmap\u001b[39;49m\u001b[43m(\u001b[49m\u001b[38;5;28;43msum\u001b[39;49m\u001b[43m,\u001b[49m\u001b[43m \u001b[49m\u001b[38;5;28;43mzip\u001b[39;49m\u001b[43m(\u001b[49m\u001b[43mpacks\u001b[49m\u001b[43m[\u001b[49m\u001b[38;5;241;43m1\u001b[39;49m\u001b[43m \u001b[49m\u001b[43m:\u001b[49m\u001b[43m \u001b[49m\u001b[43mi\u001b[49m\u001b[43m \u001b[49m\u001b[38;5;241;43m/\u001b[39;49m\u001b[38;5;241;43m/\u001b[39;49m\u001b[43m \u001b[49m\u001b[38;5;241;43m2\u001b[39;49m\u001b[43m \u001b[49m\u001b[38;5;241;43m+\u001b[39;49m\u001b[43m \u001b[49m\u001b[38;5;241;43m1\u001b[39;49m\u001b[43m]\u001b[49m\u001b[43m,\u001b[49m\u001b[43m \u001b[49m\u001b[43mpacks\u001b[49m\u001b[43m[\u001b[49m\u001b[43m:\u001b[49m\u001b[43m:\u001b[49m\u001b[38;5;241;43m-\u001b[39;49m\u001b[38;5;241;43m1\u001b[39;49m\u001b[43m]\u001b[49m\u001b[43m)\u001b[49m\u001b[43m)\u001b[49m\u001b[43m)\u001b[49m))\n\u001b[1;32m      8\u001b[0m \u001b[38;5;28mprint\u001b[39m(packs[\u001b[38;5;241m-\u001b[39m\u001b[38;5;241m1\u001b[39m])\n",
                        "\u001b[0;31mValueError\u001b[0m: max() iterable argument is empty"
                    ]
                }
            ],
            "source": [
                "test_solution(\n",
                "    \"\"\"4\n",
                "1 5 6 7\n",
                "\"\"\"\n",
                ")  # 10"
            ]
        },
        {
            "cell_type": "code",
            "execution_count": null,
            "metadata": {},
            "outputs": [
                {
                    "name": "stdout",
                    "output_type": "stream",
                    "text": [
                        "50\n"
                    ]
                }
            ],
            "source": [
                "test_solution(\n",
                "    \"\"\"5\n",
                "10 9 8 7 6\n",
                "\"\"\"\n",
                ")  # 50"
            ]
        },
        {
            "cell_type": "code",
            "execution_count": null,
            "metadata": {},
            "outputs": [
                {
                    "name": "stdout",
                    "output_type": "stream",
                    "text": [
                        "55\n"
                    ]
                }
            ],
            "source": [
                "test_solution(\n",
                "    \"\"\"10\n",
                "1 1 2 3 5 8 13 21 34 55\n",
                "\"\"\"\n",
                ")  # 55"
            ]
        },
        {
            "cell_type": "code",
            "execution_count": null,
            "metadata": {},
            "outputs": [
                {
                    "name": "stdout",
                    "output_type": "stream",
                    "text": [
                        "50\n"
                    ]
                }
            ],
            "source": [
                "test_solution(\n",
                "    \"\"\"10\n",
                "5 10 11 12 13 30 35 40 45 47\n",
                "\"\"\"\n",
                ")  # 50"
            ]
        },
        {
            "cell_type": "code",
            "execution_count": null,
            "metadata": {},
            "outputs": [
                {
                    "name": "stdout",
                    "output_type": "stream",
                    "text": [
                        "20\n"
                    ]
                }
            ],
            "source": [
                "test_solution(\n",
                "    \"\"\"4\n",
                "5 2 8 10\n",
                "\"\"\"\n",
                ")  # 20"
            ]
        },
        {
            "cell_type": "code",
            "execution_count": null,
            "metadata": {},
            "outputs": [
                {
                    "name": "stdout",
                    "output_type": "stream",
                    "text": [
                        "18\n"
                    ]
                }
            ],
            "source": [
                "test_solution(\n",
                "    \"\"\"4\n",
                "3 5 15 16\n",
                "\"\"\"\n",
                ")  # 18"
            ]
        }
    ],
    "metadata": {
        "interpreter": {
            "hash": "73891b0dc2e53390f36276e59930dd4ecab91b05b5c90320c2d5b1c443f87069"
        },
        "kernelspec": {
            "display_name": "Python 3.10.1 ('venv': venv)",
            "language": "python",
            "name": "python3"
        },
        "language_info": {
            "codemirror_mode": {
                "name": "ipython",
                "version": 3
            },
            "file_extension": ".py",
            "mimetype": "text/x-python",
            "name": "python",
            "nbconvert_exporter": "python",
            "pygments_lexer": "ipython3",
            "version": "3.12.2"
        },
        "orig_nbformat": 4
    },
    "nbformat": 4,
    "nbformat_minor": 2
}
