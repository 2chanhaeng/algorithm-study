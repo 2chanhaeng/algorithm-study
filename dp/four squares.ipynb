{
 "cells": [
  {
   "cell_type": "markdown",
   "metadata": {},
   "source": [
    "# [백준/Four Squares](https://www.acmicpc.net/problem/17626)"
   ]
  },
  {
   "cell_type": "markdown",
   "metadata": {},
   "source": [
    "## 풀이과정"
   ]
  },
  {
   "cell_type": "markdown",
   "metadata": {},
   "source": [
    "### 첫번째 시도"
   ]
  },
  {
   "cell_type": "markdown",
   "metadata": {},
   "source": [
    "풀이과정"
   ]
  },
  {
   "cell_type": "code",
   "execution_count": 109,
   "metadata": {},
   "outputs": [
    {
     "name": "stdout",
     "output_type": "stream",
     "text": [
      "2\n"
     ]
    }
   ],
   "source": [
    "from math import sqrt\n",
    "n = int(input())\n",
    "sqrs = [i ** 2 for i in range(1, int(sqrt(n)) + 1)]\n",
    "cache = {i: 1 for i in sqrs}\n",
    "def get_sqrs(n):\n",
    "    if n in cache: return cache[n]\n",
    "    result = 4\n",
    "    for i in sqrs[int(sqrt(n))::-1]:\n",
    "        if n < i: continue\n",
    "        match get_sqrs(n - i):\n",
    "            case 1:\n",
    "                cache[n] = 2\n",
    "                return 2\n",
    "            case 2: result = 3\n",
    "    cache[n] = result\n",
    "    return result\n",
    "print(get_sqrs(n))"
   ]
  },
  {
   "cell_type": "markdown",
   "metadata": {},
   "source": [
    "### 첫번째 시도"
   ]
  },
  {
   "cell_type": "markdown",
   "metadata": {},
   "source": [
    "풀이과정"
   ]
  },
  {
   "cell_type": "code",
   "execution_count": 45,
   "metadata": {},
   "outputs": [
    {
     "name": "stdout",
     "output_type": "stream",
     "text": [
      "4\n"
     ]
    }
   ],
   "source": [
    "from math import sqrt\n",
    "n = int(input())\n",
    "sqrs = [i ** 2 for i in range(1, int(sqrt(n)) + 1)]\n",
    "cache = {i: 1 for i in sqrs}\n",
    "for j in range(2, n + 1):\n",
    "    if j in cache: continue\n",
    "    temp = 4\n",
    "    for i in sqrs[:int(sqrt(j)) + 1]:\n",
    "        if j < i: continue\n",
    "        match cache[j - i]:\n",
    "            case 1:\n",
    "                temp = 2\n",
    "                break\n",
    "            case 2:\n",
    "                if temp ==4: temp = 3\n",
    "    cache[j] = temp\n",
    "print(cache[n])"
   ]
  },
  {
   "cell_type": "code",
   "execution_count": null,
   "metadata": {},
   "outputs": [],
   "source": [
    "n = int(input())\n",
    "cache = [0, 1] + [0] * (n - 1)\n",
    "for j in range(2, n + 1):\n",
    "    temp, i = 3, 1\n",
    "    while (k := i ** 2) <= j:\n",
    "        cached = cache[j - k]\n",
    "        if cached < temp:\n",
    "            temp = cached\n",
    "        i += 1\n",
    "    cache[j] = temp + 1\n",
    "print(cache[n])"
   ]
  },
  {
   "cell_type": "code",
   "execution_count": null,
   "metadata": {},
   "outputs": [],
   "source": [
    "from math import sqrt\n",
    "n = int(input())\n",
    "sqrs = [i ** 2 for i in range(1, int(sqrt(n)) + 1)]\n",
    "cache = {i: 1 for i in sqrs}\n",
    "def get_sqrs(n):\n",
    "    if n in cache: return cache[n]\n",
    "    result = 4\n",
    "    for i in sqrs[int(sqrt(n)):int(sqrt(n) // 2): -1]:\n",
    "        if n < i: continue\n",
    "        match get_sqrs(n - i):\n",
    "            case 1: cache[n] = 2; return 2\n",
    "            case 2: result = 3\n",
    "    cache[n] = result\n",
    "    return result\n",
    "print(get_sqrs(n))"
   ]
  },
  {
   "cell_type": "markdown",
   "metadata": {},
   "source": [
    "## 해답"
   ]
  },
  {
   "cell_type": "code",
   "execution_count": 4,
   "metadata": {},
   "outputs": [],
   "source": [
    "from math import sqrt"
   ]
  },
  {
   "cell_type": "code",
   "execution_count": 159,
   "metadata": {},
   "outputs": [],
   "source": [
    "def solution(input):\n",
    "    x = int(input())\n",
    "    sqrs = [i ** 2 for i in range(int(sqrt(x)) + 1)]\n",
    "    cache = {i: 1 for i in sqrs}\n",
    "    def get_sqrs(n):\n",
    "        if n in cache: return cache[n]\n",
    "        result = 4\n",
    "        rt = int(sqrt(n))\n",
    "        for i in sqrs[rt:rt // 2: -1]:\n",
    "            if n < i: continue\n",
    "            match get_sqrs(n - i):\n",
    "                case 1: cache[n] = 2; return 2\n",
    "                case 2: result = 3\n",
    "        cache[n] = result\n",
    "        return result\n",
    "    print(get_sqrs(x))"
   ]
  },
  {
   "cell_type": "markdown",
   "metadata": {},
   "source": [
    "## 테스트 결과"
   ]
  },
  {
   "cell_type": "markdown",
   "metadata": {},
   "source": [
    "|테스트|결과|\n",
    "|---:|:---|"
   ]
  },
  {
   "cell_type": "markdown",
   "metadata": {},
   "source": [
    "## 예제"
   ]
  },
  {
   "cell_type": "code",
   "execution_count": 160,
   "metadata": {},
   "outputs": [],
   "source": [
    "# 백준 문제 풀이용 예제 실행 코드\n",
    "from inspect import signature\n",
    "def solution_example(input_ = None, solution=solution):\n",
    "    params = signature(solution).parameters\n",
    "    if input_ == None:\n",
    "        solution()\n",
    "    elif 'open' in params:\n",
    "        class open:\n",
    "            def __init__(self, x):\n",
    "                self.read = lambda: input_\n",
    "            def __iter__(self):\n",
    "                return iter(input_.split(\"\\n\"))\n",
    "        solution(open)\n",
    "    elif 'input' in params:\n",
    "        input_ = iter(input_.split(\"\\n\"))\n",
    "        input = input_.__next__\n",
    "        solution(input)\n",
    "    else:\n",
    "        raise NameError(f'solution 함수가 input, open 등의 매개변수를 받지 않습니다.\\nsolution 의 매개변수: {params}')\n",
    "    \n",
    "        \n",
    "# solution_example(\"\"\"\"\"\")\n",
    "# solution_example(read(\"fn\").read())"
   ]
  },
  {
   "cell_type": "code",
   "execution_count": 161,
   "metadata": {},
   "outputs": [
    {
     "name": "stdout",
     "output_type": "stream",
     "text": [
      "1: 1\n",
      "2: 2\n",
      "3: 3\n",
      "4: 1\n",
      "5: 2\n",
      "6: 3\n",
      "7: 4\n",
      "8: 2\n",
      "9: 1\n",
      "10: 2\n",
      "11: 3\n",
      "12: 3\n",
      "13: 2\n",
      "14: 3\n",
      "15: 4\n",
      "16: 1\n",
      "17: 2\n",
      "18: 2\n",
      "19: 3\n",
      "20: 2\n",
      "21: 3\n",
      "22: 3\n",
      "23: 4\n",
      "24: 3\n",
      "25: 1\n"
     ]
    }
   ],
   "source": [
    "for i in range(1, 26):\n",
    "    print(i,end =\": \")\n",
    "    solution_example(str(i))"
   ]
  },
  {
   "cell_type": "code",
   "execution_count": 162,
   "metadata": {},
   "outputs": [
    {
     "name": "stdout",
     "output_type": "stream",
     "text": [
      "4\n"
     ]
    }
   ],
   "source": [
    "solution_example(\"49999\") # 4"
   ]
  },
  {
   "cell_type": "code",
   "execution_count": 163,
   "metadata": {},
   "outputs": [
    {
     "name": "stdout",
     "output_type": "stream",
     "text": [
      "2\n"
     ]
    }
   ],
   "source": [
    "solution_example(\"50000\") # 2"
   ]
  },
  {
   "cell_type": "code",
   "execution_count": 164,
   "metadata": {},
   "outputs": [
    {
     "name": "stdout",
     "output_type": "stream",
     "text": [
      "1\n"
     ]
    }
   ],
   "source": [
    "solution_example(\"25\") # 1"
   ]
  },
  {
   "cell_type": "code",
   "execution_count": 165,
   "metadata": {},
   "outputs": [
    {
     "name": "stdout",
     "output_type": "stream",
     "text": [
      "2\n"
     ]
    }
   ],
   "source": [
    "solution_example(\"26\") # 2"
   ]
  },
  {
   "cell_type": "code",
   "execution_count": 166,
   "metadata": {},
   "outputs": [
    {
     "name": "stdout",
     "output_type": "stream",
     "text": [
      "3\n"
     ]
    }
   ],
   "source": [
    "solution_example(\"11339\") # 3"
   ]
  },
  {
   "cell_type": "code",
   "execution_count": 167,
   "metadata": {},
   "outputs": [
    {
     "name": "stdout",
     "output_type": "stream",
     "text": [
      "4\n"
     ]
    }
   ],
   "source": [
    "solution_example(\"34567\") # 4"
   ]
  }
 ],
 "metadata": {
  "interpreter": {
   "hash": "73891b0dc2e53390f36276e59930dd4ecab91b05b5c90320c2d5b1c443f87069"
  },
  "kernelspec": {
   "display_name": "Python 3.10.1 ('venv': venv)",
   "language": "python",
   "name": "python3"
  },
  "language_info": {
   "codemirror_mode": {
    "name": "ipython",
    "version": 3
   },
   "file_extension": ".py",
   "mimetype": "text/x-python",
   "name": "python",
   "nbconvert_exporter": "python",
   "pygments_lexer": "ipython3",
   "version": "3.10.1"
  },
  "orig_nbformat": 4
 },
 "nbformat": 4,
 "nbformat_minor": 2
}
