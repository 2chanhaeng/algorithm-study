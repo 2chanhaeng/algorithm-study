{
 "cells": [
  {
   "cell_type": "markdown",
   "metadata": {},
   "source": [
    "# [백준/스티커](https://www.acmicpc.net/problem/9465)"
   ]
  },
  {
   "cell_type": "markdown",
   "metadata": {},
   "source": [
    "## 풀이과정"
   ]
  },
  {
   "cell_type": "markdown",
   "metadata": {},
   "source": [
    "### 첫번째 시도"
   ]
  },
  {
   "cell_type": "markdown",
   "metadata": {},
   "source": [
    "#### 풀이과정\n",
    "DP와 재귀를 동시에 이용하려 했으나 함수 호출에 시간이 많이 소비되었는지 시간초과가 계속 발생하였습니다."
   ]
  },
  {
   "cell_type": "code",
   "execution_count": 5,
   "metadata": {},
   "outputs": [],
   "source": [
    "def solution():\n",
    "    import sys\n",
    "\n",
    "    sys.setrecursionlimit(1000000)\n",
    "    input = sys.stdin.readline\n",
    "\n",
    "    for _ in range(int(input())):\n",
    "        n = int(input())\n",
    "        if n == 1:\n",
    "            print(max(line[0] for line in dp))\n",
    "            continue\n",
    "        stickers = [list(map(int, input().split())) for _ in range(2)]\n",
    "        dp = [[-1] * n for _ in range(2)]\n",
    "        dp[0][0], dp[0][1] = stickers[0][0], stickers[1][0] + stickers[0][1]\n",
    "        dp[1][0], dp[1][1] = stickers[1][0], stickers[0][0] + stickers[1][1]\n",
    "\n",
    "        def best(x, y):\n",
    "            if dp[y][x] != -1:\n",
    "                return dp[y][x]\n",
    "            return stickers[y][x] + max(best(x - 1, y ^ 1), best(x - 2, y ^ 1))\n",
    "\n",
    "        n -= 1\n",
    "        print(max(best(n, i) for i in range(2)))\n",
    "\n",
    "\n",
    "solution()"
   ]
  },
  {
   "cell_type": "markdown",
   "metadata": {},
   "source": [
    "### 두번째 시도"
   ]
  },
  {
   "cell_type": "markdown",
   "metadata": {},
   "source": [
    "#### 풀이과정\n",
    "함수를 사용하지 않고 리스트만을 사용하여 DP로 문제를 해결하였습니다."
   ]
  },
  {
   "cell_type": "code",
   "execution_count": 23,
   "metadata": {},
   "outputs": [],
   "source": [
    "def solution():\n",
    "    import sys\n",
    "\n",
    "    input = sys.stdin.readline\n",
    "    # 테스트 케이스 수만큼 반복\n",
    "    for _ in range(int(input())):\n",
    "        # 스티커 열 수\n",
    "        n = int(input())\n",
    "        # 스티커 정보\n",
    "        stickers = [list(map(int, input().split())) for _ in range(2)]\n",
    "        if n == 1:\n",
    "            # 열이 1일 경우, 둘 중에 더 큰 것을 출력\n",
    "            print(max(line[0] for line in stickers))\n",
    "            continue\n",
    "        if n == 2:\n",
    "            # 열이 2일 경우, 교차시킨 합을 구하여 더 큰 것을 출력\n",
    "            print(max(stickers[1][0] + stickers[0][1], stickers[0][0] + stickers[1][1]))\n",
    "            continue\n",
    "        # 각 스티커 별 최댓값을 저장해놓을 리스트\n",
    "        dp = [[0] * n for _ in range(2)]\n",
    "        # 1, 2열 먼저 처리\n",
    "        dp[0][0], dp[0][1] = stickers[0][0], stickers[1][0] + stickers[0][1]\n",
    "        dp[1][0], dp[1][1] = stickers[1][0], stickers[0][0] + stickers[1][1]\n",
    "        for i in range(2, n):\n",
    "            # 3번째 열 부터는 다른 행의 전 열과 전전 열 중 큰 값을\n",
    "            # 현재 스티커의 값과 더해서 저장\n",
    "            dp[0][i] = stickers[0][i] + max(dp[1][i - 2 : i])\n",
    "            dp[1][i] = stickers[1][i] + max(dp[0][i - 2 : i])\n",
    "        n -= 1\n",
    "        # 마지막 열 중에 더 큰 값을 출력\n",
    "        print(max(line[n] for line in dp))\n",
    "\n",
    "\n",
    "solution()"
   ]
  },
  {
   "cell_type": "markdown",
   "metadata": {},
   "source": [
    "## 해답"
   ]
  },
  {
   "cell_type": "code",
   "execution_count": 24,
   "metadata": {},
   "outputs": [],
   "source": [
    "def solution():\n",
    "    import sys\n",
    "\n",
    "    input = sys.stdin.readline\n",
    "\n",
    "    for _ in range(int(input())):\n",
    "        n = int(input())\n",
    "        stickers = [list(map(int, input().split())) for _ in range(2)]\n",
    "        if n == 1:\n",
    "            print(max(line[0] for line in stickers))\n",
    "            continue\n",
    "        if n == 2:\n",
    "            print(max(stickers[1][0] + stickers[0][1], stickers[0][0] + stickers[1][1]))\n",
    "            continue\n",
    "        dp = [[0] * n for _ in range(2)]\n",
    "        dp[0][0], dp[0][1] = stickers[0][0], stickers[1][0] + stickers[0][1]\n",
    "        dp[1][0], dp[1][1] = stickers[1][0], stickers[0][0] + stickers[1][1]\n",
    "        for i in range(2, n):\n",
    "            dp[0][i] = stickers[0][i] + max(dp[1][i - 2 : i])\n",
    "            dp[1][i] = stickers[1][i] + max(dp[0][i - 2 : i])\n",
    "        n -= 1\n",
    "        print(max(line[n] for line in dp))"
   ]
  },
  {
   "cell_type": "markdown",
   "metadata": {},
   "source": [
    "## 예제"
   ]
  },
  {
   "cell_type": "code",
   "execution_count": 25,
   "metadata": {},
   "outputs": [
    {
     "name": "stdout",
     "output_type": "stream",
     "text": [
      "The blackcellmagic extension is already loaded. To reload it, use:\n",
      "  %reload_ext blackcellmagic\n"
     ]
    }
   ],
   "source": [
    "# black 모듈을 jupyter notebook 내에서 사용 가능하게 만들어주는 blackcellmagic 모듈 불러오기\n",
    "%load_ext blackcellmagic\n",
    "# %%black\n",
    "\n",
    "# 백준 문제 풀이용 예제 실행 코드\n",
    "from bwj import test\n",
    "\n",
    "test_solution = test(solution)\n",
    "\n",
    "# test_solution(\"\"\"\"\"\")\n",
    "# test_solution(read(\"fn\").read())"
   ]
  },
  {
   "cell_type": "code",
   "execution_count": 26,
   "metadata": {},
   "outputs": [
    {
     "name": "stdout",
     "output_type": "stream",
     "text": [
      "3\n",
      "138\n",
      "160\n"
     ]
    }
   ],
   "source": [
    "example = [\n",
    "    \"\"\"5\n",
    "1 0 0 0 1\n",
    "0 0 1 0 0\"\"\",  # 3\n",
    "    \"\"\"4\n",
    "50 40 19 18\n",
    "40 20 40 20\"\"\",  # 138\n",
    "    \"\"\"4\n",
    "40 40 39 40\n",
    "40 40 40 40\"\"\",  # 160\n",
    "]\n",
    "example = \"\\n\".join([str(len(example)), *example])\n",
    "test_solution(example)\n",
    "# answer:\n",
    "# 260\n",
    "# 290"
   ]
  },
  {
   "cell_type": "code",
   "execution_count": 27,
   "metadata": {},
   "outputs": [
    {
     "name": "stdout",
     "output_type": "stream",
     "text": [
      "260\n",
      "290\n"
     ]
    }
   ],
   "source": [
    "test_solution(\n",
    "    \"\"\"2\n",
    "5\n",
    "50 10 100 20 40\n",
    "30 50 70 10 60\n",
    "7\n",
    "10 30 10 50 100 20 40\n",
    "20 40 30 50 60 20 80\n",
    "\"\"\"\n",
    ")\n",
    "# answer:\n",
    "# 260\n",
    "# 290"
   ]
  }
 ],
 "metadata": {
  "kernelspec": {
   "display_name": "Python 3.10.4 ('venv': venv)",
   "language": "python",
   "name": "python3"
  },
  "language_info": {
   "codemirror_mode": {
    "name": "ipython",
    "version": 3
   },
   "file_extension": ".py",
   "mimetype": "text/x-python",
   "name": "python",
   "nbconvert_exporter": "python",
   "pygments_lexer": "ipython3",
   "version": "3.10.4"
  },
  "orig_nbformat": 4,
  "vscode": {
   "interpreter": {
    "hash": "72904a014a9ffe38f4c58942120b599b3c5a87d06764037548e0139929c1cde3"
   }
  }
 },
 "nbformat": 4,
 "nbformat_minor": 2
}
