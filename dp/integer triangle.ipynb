{
 "cells": [
  {
   "cell_type": "markdown",
   "metadata": {},
   "source": [
    "# [백준/정수 삼각형](https://www.acmicpc.net/problem/1932)"
   ]
  },
  {
   "cell_type": "markdown",
   "metadata": {},
   "source": [
    "## 풀이과정"
   ]
  },
  {
   "cell_type": "markdown",
   "metadata": {},
   "source": [
    "### 첫번째 시도"
   ]
  },
  {
   "cell_type": "markdown",
   "metadata": {},
   "source": [
    "풀이과정"
   ]
  },
  {
   "cell_type": "code",
   "execution_count": 85,
   "metadata": {},
   "outputs": [
    {
     "name": "stdout",
     "output_type": "stream",
     "text": [
      "30\n"
     ]
    }
   ],
   "source": [
    "from functools import cache\n",
    "import sys\n",
    "sys.setrecursionlimit(10**6)\n",
    "\n",
    "N, *stringle = [*open(0)]\n",
    "n = int(N)\n",
    "triangle = {x:{y:value for y, value in enumerate(map(int,line.split()))} for x, line in enumerate(stringle)}\n",
    "@cache\n",
    "def get_sum(x,y):\n",
    "    if y == 0: return triangle[0][0]\n",
    "    if x == 0: return triangle[y][0] + get_sum(0, y - 1)\n",
    "    if y == x: return triangle[y][x] + get_sum(x - 1, y - 1)\n",
    "    return triangle[y][x] + (get_sum(x, y - 1) if get_sum(x, y - 1) > get_sum(x - 1, y - 1) else get_sum(x - 1, y - 1))\n",
    "print(max(get_sum(i,n - 1) for i in range(n)))"
   ]
  },
  {
   "cell_type": "markdown",
   "metadata": {},
   "source": [
    "## 해답"
   ]
  },
  {
   "cell_type": "code",
   "execution_count": 53,
   "metadata": {},
   "outputs": [],
   "source": [
    "# 해답\n",
    "# 백준 input = iter([*open(0)]).__next__\n",
    "from functools import cache\n"
   ]
  },
  {
   "cell_type": "code",
   "execution_count": 54,
   "metadata": {},
   "outputs": [],
   "source": []
  },
  {
   "cell_type": "code",
   "execution_count": 69,
   "metadata": {},
   "outputs": [],
   "source": [
    "def solution(open):\n",
    "    N, *stringle = [*open(0)]\n",
    "    n = int(N)\n",
    "    triangle = {x:{y:value for y, value in enumerate(map(int,line.split()))} for x, line in enumerate(stringle)}\n",
    "    # tuple(map(lambda x:tuple(map(int,x.split())),stringle))\n",
    "    @cache\n",
    "    def get_sum(x,y):\n",
    "        if y == 0: return triangle[0][0]\n",
    "        if x == 0: return triangle[y][0] + get_sum(0, y - 1)\n",
    "        if y == x: return triangle[y][x] + get_sum(x - 1, y - 1)\n",
    "        return triangle[y][x] + (get_sum(x, y - 1) if get_sum(x, y - 1) > get_sum(x - 1, y - 1) else get_sum(x - 1, y - 1))\n",
    "\n",
    "    print(max(get_sum(i,n - 1) for i in range(n)))"
   ]
  },
  {
   "cell_type": "markdown",
   "metadata": {},
   "source": [
    "## 테스트 결과"
   ]
  },
  {
   "cell_type": "markdown",
   "metadata": {},
   "source": [
    "|테스트|결과|\n",
    "|---:|:---|"
   ]
  },
  {
   "cell_type": "markdown",
   "metadata": {},
   "source": [
    "## 예제"
   ]
  },
  {
   "cell_type": "code",
   "execution_count": 71,
   "metadata": {},
   "outputs": [],
   "source": [
    "# 백준식 실행 코드\n",
    "from inspect import signature as sign\n",
    "def solution_example(input_, solution=solution):\n",
    "    input_ = iter(input_.split(\"\\n\"))\n",
    "    params = sign(solution).parameters\n",
    "    if 'open' in params:\n",
    "        open = lambda x: input_\n",
    "        solution(open)\n",
    "    elif 'input' in params:\n",
    "        input = input_\n",
    "        solution(input)\n",
    "    else:\n",
    "        raise NameError('No parameter named \"input\" or \"open\"')\n",
    "    \n",
    "        \n",
    "# solution_example(\"\"\"\"\"\")\n",
    "# solution_example(read(\"fn\").read())"
   ]
  },
  {
   "cell_type": "code",
   "execution_count": 72,
   "metadata": {},
   "outputs": [
    {
     "name": "stdout",
     "output_type": "stream",
     "text": [
      "30\n"
     ]
    }
   ],
   "source": [
    "solution_example(\"\"\"5\n",
    "7\n",
    "3 8\n",
    "8 1 0\n",
    "2 7 4 4\n",
    "4 5 2 6 5\"\"\")"
   ]
  }
 ],
 "metadata": {
  "interpreter": {
   "hash": "73891b0dc2e53390f36276e59930dd4ecab91b05b5c90320c2d5b1c443f87069"
  },
  "kernelspec": {
   "display_name": "Python 3.10.1 ('venv': venv)",
   "language": "python",
   "name": "python3"
  },
  "language_info": {
   "codemirror_mode": {
    "name": "ipython",
    "version": 3
   },
   "file_extension": ".py",
   "mimetype": "text/x-python",
   "name": "python",
   "nbconvert_exporter": "python",
   "pygments_lexer": "ipython3",
   "version": "3.10.1"
  },
  "orig_nbformat": 4
 },
 "nbformat": 4,
 "nbformat_minor": 2
}
