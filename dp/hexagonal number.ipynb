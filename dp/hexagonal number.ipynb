{
 "cells": [
  {
   "cell_type": "markdown",
   "metadata": {},
   "source": [
    "# [백준/육각수](https://www.acmicpc.net/problem/1229)"
   ]
  },
  {
   "cell_type": "markdown",
   "metadata": {},
   "source": [
    "## 풀이과정"
   ]
  },
  {
   "cell_type": "markdown",
   "metadata": {},
   "source": [
    "### 첫번째 시도"
   ]
  },
  {
   "cell_type": "markdown",
   "metadata": {},
   "source": [
    "풀이과정"
   ]
  },
  {
   "cell_type": "code",
   "execution_count": null,
   "metadata": {},
   "outputs": [],
   "source": [
    "from functools import cache\n",
    "from sys import setrecursionlimit\n",
    "\n",
    "setrecursionlimit(10**7)\n",
    "\n",
    "hs = []\n",
    "for i in range(1, 1000):\n",
    "    if (h := i * (2 * i - 1)) > 1000000:\n",
    "        break\n",
    "    hs.append(h)\n",
    "hset = set(hs)\n",
    "\n",
    "hhs = []\n",
    "hnhhset = hset.copy()\n",
    "for i, j in enumerate(hs):\n",
    "    for k in hs[i:]:\n",
    "        if (hh := j + k) > 1000000:\n",
    "            break\n",
    "        if hh not in hnhhset:\n",
    "            hhs.append(hh)\n",
    "            hnhhset.add(hh)\n",
    "hhset = hnhhset - hset\n",
    "\n",
    "hs.sort(reverse=True)\n",
    "hhs.sort(reverse=True)\n",
    "\n",
    "\n",
    "@cache\n",
    "def how_many_h(num):\n",
    "    if num in hset:\n",
    "        return 1\n",
    "    if num in hhset:\n",
    "        return 2\n",
    "    if num in {11, 26}:\n",
    "        return 6\n",
    "    m = 5\n",
    "    for i in filter(lambda x: x < num, hs):\n",
    "        m = min(m, how_many_h(i) + how_many_h(num - i))\n",
    "        if m == 3:\n",
    "            return 3\n",
    "        if num > 130 and m == 4:\n",
    "            return 4\n",
    "    return m\n",
    "\n",
    "\n",
    "print(how_many_h)"
   ]
  },
  {
   "cell_type": "markdown",
   "metadata": {},
   "source": [
    "### 두번째 시도"
   ]
  },
  {
   "cell_type": "code",
   "execution_count": null,
   "metadata": {},
   "outputs": [],
   "source": [
    "from functools import cache\n",
    "from sys import setrecursionlimit\n",
    "\n",
    "setrecursionlimit(10**7)\n",
    "\n",
    "hs = []\n",
    "for i in range(1, 1000):\n",
    "    if (h := i * (2 * i - 1)) > 1000000:\n",
    "        break\n",
    "    hs.append(h)\n",
    "hset = set(hs)\n",
    "\n",
    "hhs = []\n",
    "hnhhset = hset.copy()\n",
    "for i, j in enumerate(hs):\n",
    "    for k in hs[i:]:\n",
    "        if (hh := j + k) > 1000000:\n",
    "            break\n",
    "        if hh not in hnhhset:\n",
    "            hhs.append(hh)\n",
    "            hnhhset.add(hh)\n",
    "hhset = hnhhset - hset\n",
    "\n",
    "hs.sort(reverse=True)\n",
    "hhs.sort(reverse=True)\n",
    "\n",
    "\n",
    "@cache\n",
    "def how_many_h(num):\n",
    "    if num in hset:\n",
    "        return 1\n",
    "    if num in hhset:\n",
    "        return 2\n",
    "    if num > 146858:\n",
    "        return 3\n",
    "    if num in {11, 26}:\n",
    "        return 6\n",
    "    if num in {5, 10, 20, 25, 38, 39, 54, 65, 70, 114, 130}:\n",
    "        return 5\n",
    "    m = 4\n",
    "    for i in filter(lambda x: x < num, hs):\n",
    "        m = min(m, how_many_h(i) + how_many_h(num - i))\n",
    "        if m == 3:\n",
    "            return 3\n",
    "    return m\n",
    "\n",
    "\n",
    "print(how_many_h(int(input())))"
   ]
  },
  {
   "cell_type": "markdown",
   "metadata": {},
   "source": [
    "## 해답"
   ]
  },
  {
   "cell_type": "code",
   "execution_count": 3,
   "metadata": {},
   "outputs": [],
   "source": [
    "from functools import cache\n",
    "from sys import setrecursionlimit\n",
    "\n",
    "setrecursionlimit(10**7)\n",
    "\n",
    "hs = []\n",
    "for i in range(1, 1000):\n",
    "    if (h := i * (2 * i - 1)) > 1000000:\n",
    "        break\n",
    "    hs.append(h)\n",
    "hset = set(hs)\n",
    "\n",
    "hhs = []\n",
    "hnhhset = hset.copy()\n",
    "for i, j in enumerate(hs):\n",
    "    for k in hs[i:]:\n",
    "        if (hh := j + k) > 1000000:\n",
    "            break\n",
    "        if hh not in hnhhset:\n",
    "            hhs.append(hh)\n",
    "            hnhhset.add(hh)\n",
    "hhset = hnhhset - hset\n",
    "\n",
    "hs.sort(reverse=True)\n",
    "hhs.sort(reverse=True)\n",
    "\n",
    "\n",
    "@cache\n",
    "def how_many_h(num):\n",
    "    if num in hset:\n",
    "        return 1\n",
    "    if num in hhset:\n",
    "        return 2\n",
    "    if num > 146858:\n",
    "        return 3\n",
    "    if num in {11, 26}:\n",
    "        return 6\n",
    "    if num in {5, 10, 20, 25, 38, 39, 54, 65, 70, 114, 130}:\n",
    "        return 5\n",
    "    m = 4\n",
    "    for i in filter(lambda x: x < num, hs):\n",
    "        m = min(m, how_many_h(i) + how_many_h(num - i))\n",
    "        if m == 3:\n",
    "            return 3\n",
    "    return m\n",
    "\n",
    "\n",
    "print(how_many_h(int(input())))"
   ]
  },
  {
   "cell_type": "markdown",
   "metadata": {},
   "source": [
    "## 테스트 결과"
   ]
  },
  {
   "cell_type": "markdown",
   "metadata": {},
   "source": [
    "|테스트|결과|\n",
    "|---:|:---|"
   ]
  },
  {
   "cell_type": "markdown",
   "metadata": {},
   "source": [
    "## 예제"
   ]
  },
  {
   "cell_type": "code",
   "execution_count": 10,
   "metadata": {},
   "outputs": [
    {
     "data": {
      "text/plain": [
       "1"
      ]
     },
     "execution_count": 10,
     "metadata": {},
     "output_type": "execute_result"
    }
   ],
   "source": [
    "how_many_h(6)  # 1\n",
    "# filter 0.1\n",
    "# bisect 0.1"
   ]
  },
  {
   "cell_type": "code",
   "execution_count": 11,
   "metadata": {},
   "outputs": [
    {
     "data": {
      "text/plain": [
       "5"
      ]
     },
     "execution_count": 11,
     "metadata": {},
     "output_type": "execute_result"
    }
   ],
   "source": [
    "how_many_h(130)  # 5\n",
    "# bisect 0.1\n",
    "# filter 0.1"
   ]
  },
  {
   "cell_type": "code",
   "execution_count": 12,
   "metadata": {},
   "outputs": [
    {
     "data": {
      "text/plain": [
       "4"
      ]
     },
     "execution_count": 12,
     "metadata": {},
     "output_type": "execute_result"
    }
   ],
   "source": [
    "how_many_h(146858)  # 4\n",
    "# bisect 0.7\n",
    "# filter 0.1"
   ]
  },
  {
   "cell_type": "code",
   "execution_count": 13,
   "metadata": {},
   "outputs": [
    {
     "data": {
      "text/plain": [
       "3"
      ]
     },
     "execution_count": 13,
     "metadata": {},
     "output_type": "execute_result"
    }
   ],
   "source": [
    "how_many_h(999999)  # 3\n",
    "# bisect 0.7\n",
    "# filter 0.1"
   ]
  },
  {
   "cell_type": "code",
   "execution_count": 14,
   "metadata": {},
   "outputs": [
    {
     "data": {
      "text/plain": [
       "2"
      ]
     },
     "execution_count": 14,
     "metadata": {},
     "output_type": "execute_result"
    }
   ],
   "source": [
    "how_many_h(1000000)  # 2\n",
    "# bisect 0.8\n",
    "# filter 0.9"
   ]
  },
  {
   "cell_type": "code",
   "execution_count": 15,
   "metadata": {},
   "outputs": [
    {
     "data": {
      "text/plain": [
       "1"
      ]
     },
     "execution_count": 15,
     "metadata": {},
     "output_type": "execute_result"
    }
   ],
   "source": [
    "how_many_h(145530)  # 1\n",
    "# bisect 0.1\n",
    "# filter 0.9"
   ]
  }
 ],
 "metadata": {
  "interpreter": {
   "hash": "73891b0dc2e53390f36276e59930dd4ecab91b05b5c90320c2d5b1c443f87069"
  },
  "kernelspec": {
   "display_name": "Python 3.10.1 ('venv': venv)",
   "language": "python",
   "name": "python3"
  },
  "language_info": {
   "codemirror_mode": {
    "name": "ipython",
    "version": 3
   },
   "file_extension": ".py",
   "mimetype": "text/x-python",
   "name": "python",
   "nbconvert_exporter": "python",
   "pygments_lexer": "ipython3",
   "version": "3.10.2"
  },
  "orig_nbformat": 4
 },
 "nbformat": 4,
 "nbformat_minor": 2
}
