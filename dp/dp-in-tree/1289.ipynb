{
    "cells": [
        {
            "cell_type": "markdown",
            "metadata": {},
            "source": [
                "# [백준/트리의 가중치](https://www.acmicpc.net/problem/1289)"
            ]
        },
        {
            "cell_type": "markdown",
            "metadata": {},
            "source": [
                "## 풀이과정"
            ]
        },
        {
            "cell_type": "markdown",
            "metadata": {},
            "source": [
                "### 첫번째 시도"
            ]
        },
        {
            "cell_type": "markdown",
            "metadata": {},
            "source": [
                "#### 풀이과정"
            ]
        },
        {
            "cell_type": "code",
            "execution_count": null,
            "metadata": {},
            "outputs": [],
            "source": [
                "mod = 1_000_000_007\n",
                "\n",
                "\n",
                "def pairmul(p):\n",
                "    psum = sum(p) % mod\n",
                "    acc = 0\n",
                "    return psum + sum(i * (psum - (acc := acc + i)) % mod for i in p[:-1])\n",
                "\n",
                "\n",
                "def solution():\n",
                "    import sys\n",
                "    import collections\n",
                "\n",
                "    n = int(next(sys.stdin))\n",
                "    inputs = map(str.split, sys.stdin)\n",
                "    graph = [{} for _ in range(n + 1)]\n",
                "    for a, b, v in (map(int, i) for i in inputs):\n",
                "        graph[a][b] = v\n",
                "        graph[b][a] = v\n",
                "    tovisit = [1]\n",
                "    parents = [0] * (n + 1)\n",
                "    leaves = collections.deque([])\n",
                "    while tovisit:\n",
                "        node = tovisit.pop()\n",
                "        if graph[node] == {}:\n",
                "            leaves.append(node)\n",
                "            continue\n",
                "        for child in graph[node]:\n",
                "            graph[child].pop(node)\n",
                "            tovisit.append(child)\n",
                "            parents[child] = node\n",
                "    visited = set()\n",
                "    weight = [0] * (n + 1)\n",
                "    graph[0] = {1: 1}\n",
                "    while (node := leaves.popleft()) != 0:\n",
                "        subtree = [(1 + weight[c]) * v % mod for c, v in graph[node].items()]\n",
                "        weight[node] = pairmul(subtree) % mod\n",
                "        parent = parents[node]\n",
                "        print(node, subtree, weight[1:])\n",
                "        visited.add(node)\n",
                "        if visited.issuperset(graph[parent]):\n",
                "            leaves.append(parents[node])\n",
                "    print(weight[1])\n",
                "\n",
                "\n",
                "solution()"
            ]
        },
        {
            "attachments": {},
            "cell_type": "markdown",
            "metadata": {},
            "source": [
                "### 두번째 시도"
            ]
        },
        {
            "cell_type": "markdown",
            "metadata": {},
            "source": [
                "#### 풀이과정"
            ]
        },
        {
            "cell_type": "code",
            "execution_count": null,
            "metadata": {},
            "outputs": [],
            "source": [
                "# refer https://kyunstudio.tistory.com/117\n",
                "def solution():\n",
                "    import sys\n",
                "\n",
                "    sys.setrecursionlimit(50000)\n",
                "\n",
                "    input = sys.stdin.readline\n",
                "    mod = 1000000007\n",
                "    n = int(input())\n",
                "    edges = [[] for _ in range(n + 1)]\n",
                "    result = [0]\n",
                "\n",
                "    for a, b, v in (map(int, i) for i in map(str.split, sys.stdin)):\n",
                "        v = int(v)\n",
                "        edges[a].append((b, v))\n",
                "        edges[b].append((a, v))\n",
                "\n",
                "    def dp(node, prev):\n",
                "        mul = 1\n",
                "        for there, cost in edges[node]:\n",
                "            if there != prev:\n",
                "                subtree = dp(there, node) * cost % mod\n",
                "                result[0] = (result[0] + subtree * mul) % mod\n",
                "                mul = (subtree + mul) % mod\n",
                "        return mul\n",
                "\n",
                "    dp(1, 0)\n",
                "    print(result[0])\n",
                "\n",
                "\n",
                "solution()"
            ]
        },
        {
            "cell_type": "markdown",
            "metadata": {},
            "source": [
                "## 해답"
            ]
        },
        {
            "cell_type": "code",
            "execution_count": 1,
            "metadata": {},
            "outputs": [],
            "source": [
                "# refer https://kyunstudio.tistory.com/117\n",
                "def solution():\n",
                "    import sys\n",
                "\n",
                "    sys.setrecursionlimit(50000)\n",
                "\n",
                "    input = sys.stdin.readline\n",
                "    mod = 1000000007\n",
                "    n = int(input())\n",
                "    edges = [[] for _ in range(n + 1)]\n",
                "    result = [0]\n",
                "\n",
                "    for a, b, v in (map(int, i) for i in map(str.split, sys.stdin)):\n",
                "        v = int(v)\n",
                "        edges[a].append((b, v))\n",
                "        edges[b].append((a, v))\n",
                "\n",
                "    def dp(node, prev):\n",
                "        mul = 1\n",
                "        for there, cost in edges[node]:\n",
                "            if there != prev:\n",
                "                subtree = dp(there, node) * cost % mod\n",
                "                result[0] = (result[0] + subtree * mul) % mod\n",
                "                mul = (subtree + mul) % mod\n",
                "        return mul\n",
                "\n",
                "    dp(1, 0)\n",
                "    print(result[0])"
            ]
        },
        {
            "cell_type": "markdown",
            "metadata": {},
            "source": [
                "## 예제"
            ]
        },
        {
            "cell_type": "code",
            "execution_count": 2,
            "metadata": {},
            "outputs": [],
            "source": [
                "# black 모듈을 jupyter notebook 내에서 사용 가능하게 만들어주는 blackcellmagic 모듈 불러오기\n",
                "%load_ext blackcellmagic\n",
                "# %%black\n",
                "\n",
                "# 백준 문제 풀이용 예제 실행 코드\n",
                "from bwj import test\n",
                "test_solution = test(solution)\n",
                "\n",
                "# test_solution(\"\"\"\"\"\")\n",
                "# test_solution(read(\"fn\").read())"
            ]
        },
        {
            "cell_type": "code",
            "execution_count": 3,
            "metadata": {},
            "outputs": [
                {
                    "name": "stdout",
                    "output_type": "stream",
                    "text": [
                        "10200\n"
                    ]
                }
            ],
            "source": [
                "test_solution(\"\"\"3\n",
                "3 2 100\n",
                "2 1 100\n",
                "\"\"\") # 10200"
            ]
        },
        {
            "cell_type": "code",
            "execution_count": 4,
            "metadata": {},
            "outputs": [
                {
                    "name": "stdout",
                    "output_type": "stream",
                    "text": [
                        "21\n"
                    ]
                }
            ],
            "source": [
                "test_solution(\"\"\"7\n",
                "1 2 1\n",
                "1 3 1\n",
                "2 4 1\n",
                "2 5 1\n",
                "3 6 1\n",
                "3 7 1\n",
                "\"\"\") # "
            ]
        },
        {
            "cell_type": "code",
            "execution_count": 5,
            "metadata": {},
            "outputs": [
                {
                    "name": "stdout",
                    "output_type": "stream",
                    "text": [
                        "90\n"
                    ]
                }
            ],
            "source": [
                "test_solution(\"\"\"4\n",
                "1 2 5\n",
                "1 3 5\n",
                "1 4 5\n",
                "\"\"\") # 90"
            ]
        },
        {
            "cell_type": "code",
            "execution_count": 6,
            "metadata": {},
            "outputs": [
                {
                    "name": "stdout",
                    "output_type": "stream",
                    "text": [
                        "55\n"
                    ]
                }
            ],
            "source": [
                "test_solution(\"\"\"5\n",
                "1 2 2\n",
                "2 3 3\n",
                "4 3 2\n",
                "5 3 2\n",
                "\"\"\") # 55"
            ]
        }
    ],
    "metadata": {
        "kernelspec": {
            "display_name": "venv",
            "language": "python",
            "name": "python3"
        },
        "language_info": {
            "codemirror_mode": {
                "name": "ipython",
                "version": 3
            },
            "file_extension": ".py",
            "mimetype": "text/x-python",
            "name": "python",
            "nbconvert_exporter": "python",
            "pygments_lexer": "ipython3",
            "version": "3.11.1"
        },
        "orig_nbformat": 4,
        "vscode": {
            "interpreter": {
                "hash": "72904a014a9ffe38f4c58942120b599b3c5a87d06764037548e0139929c1cde3"
            }
        }
    },
    "nbformat": 4,
    "nbformat_minor": 2
}
