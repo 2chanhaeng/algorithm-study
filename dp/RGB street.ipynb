{
 "cells": [
  {
   "cell_type": "markdown",
   "metadata": {},
   "source": [
    "# [백준/RGB거리](https://www.acmicpc.net/problem/1149)"
   ]
  },
  {
   "cell_type": "markdown",
   "metadata": {},
   "source": [
    "## 풀이과정"
   ]
  },
  {
   "cell_type": "markdown",
   "metadata": {},
   "source": [
    "### 첫번째 시도"
   ]
  },
  {
   "cell_type": "markdown",
   "metadata": {},
   "source": [
    "풀이과정"
   ]
  },
  {
   "cell_type": "code",
   "execution_count": null,
   "metadata": {},
   "outputs": [],
   "source": [
    "# 풀이 코드\n"
   ]
  },
  {
   "cell_type": "markdown",
   "metadata": {},
   "source": [
    "## 해답"
   ]
  },
  {
   "cell_type": "code",
   "execution_count": 78,
   "metadata": {},
   "outputs": [],
   "source": [
    "def solution(N, homes):\n",
    "    values = [0] * 6\n",
    "    for n, (i, j, k) in enumerate(homes):\n",
    "        print((n + 0) % 3,(n + 1) % 3,(n + 2) % 3,(0 - n) % 3 + 3,(1 - n) % 3 + 3,(2 - n) % 3 + 3)\n",
    "        values[(n + 0) % 3] += i\n",
    "        values[(n + 1) % 3] += j\n",
    "        values[(n + 2) % 3] += k\n",
    "        values[(0 - n) % 3 + 3] += k\n",
    "        values[(1 - n) % 3 + 3] += j\n",
    "        values[(2 - n) % 3 + 3] += i\n",
    "        print(values)\n",
    "    return min(*values)\n",
    "\n",
    "\n"
   ]
  },
  {
   "cell_type": "markdown",
   "metadata": {},
   "source": [
    "## 테스트 결과"
   ]
  },
  {
   "cell_type": "markdown",
   "metadata": {},
   "source": [
    "|테스트|결과|\n",
    "|---:|:---|"
   ]
  },
  {
   "cell_type": "markdown",
   "metadata": {},
   "source": [
    "## 예제"
   ]
  },
  {
   "cell_type": "code",
   "execution_count": 79,
   "metadata": {},
   "outputs": [],
   "source": [
    "def preprocess_example(input_:str):\n",
    "    input_ = input_.split(\"\\n\")\n",
    "    N = int(input_.pop(0))\n",
    "    homes = []\n",
    "    for i in range(N):\n",
    "        homes.append(list(map(int, input_.pop(0).split())))\n",
    "    return N, homes\n",
    "def solution_example(input_):\n",
    "    N, homes = preprocess_example(input_)\n",
    "    print(solution(N, homes))\n"
   ]
  },
  {
   "cell_type": "code",
   "execution_count": 80,
   "metadata": {},
   "outputs": [
    {
     "name": "stdout",
     "output_type": "stream",
     "text": [
      "0 1 2 3 4 5\n",
      "[26, 40, 83, 83, 40, 26]\n",
      "1 2 0 5 3 4\n",
      "[83, 89, 143, 143, 89, 83]\n",
      "2 0 1 4 5 3\n",
      "[172, 188, 156, 156, 188, 172]\n",
      "156\n"
     ]
    }
   ],
   "source": [
    "solution_example(\"\"\"3\n",
    "26 40 83\n",
    "49 60 57\n",
    "13 89 99\"\"\") # 96"
   ]
  },
  {
   "cell_type": "code",
   "execution_count": 81,
   "metadata": {},
   "outputs": [
    {
     "name": "stdout",
     "output_type": "stream",
     "text": [
      "0 1 2 3 4 5\n",
      "[1, 100, 100, 100, 100, 1]\n",
      "1 2 0 5 3 4\n",
      "[101, 200, 101, 101, 200, 101]\n",
      "2 0 1 4 5 3\n",
      "[201, 201, 201, 201, 201, 201]\n",
      "201\n"
     ]
    }
   ],
   "source": [
    "solution_example(\"\"\"3\n",
    "1 100 100\n",
    "100 1 100\n",
    "100 100 1\"\"\") # 3"
   ]
  },
  {
   "cell_type": "code",
   "execution_count": 82,
   "metadata": {},
   "outputs": [
    {
     "name": "stdout",
     "output_type": "stream",
     "text": [
      "0 1 2 3 4 5\n",
      "[1, 100, 100, 100, 100, 1]\n",
      "1 2 0 5 3 4\n",
      "[101, 200, 200, 200, 200, 101]\n",
      "2 0 1 4 5 3\n",
      "[201, 300, 201, 201, 300, 201]\n",
      "201\n"
     ]
    }
   ],
   "source": [
    "solution_example(\"\"\"3\n",
    "1 100 100\n",
    "100 100 100\n",
    "1 100 100\"\"\") # 102"
   ]
  },
  {
   "cell_type": "code",
   "execution_count": 83,
   "metadata": {},
   "outputs": [
    {
     "name": "stdout",
     "output_type": "stream",
     "text": [
      "0 1 2 3 4 5\n",
      "[30, 19, 5, 5, 19, 30]\n",
      "1 2 0 5 3 4\n",
      "[94, 83, 82, 82, 83, 94]\n",
      "2 0 1 4 5 3\n",
      "[113, 180, 97, 97, 180, 113]\n",
      "0 1 2 3 4 5\n",
      "[117, 251, 154, 154, 251, 117]\n",
      "1 2 0 5 3 4\n",
      "[201, 341, 240, 240, 341, 201]\n",
      "2 0 1 4 5 3\n",
      "[233, 432, 333, 333, 432, 233]\n",
      "233\n"
     ]
    }
   ],
   "source": [
    "solution_example(\"\"\"6\n",
    "30 19 5\n",
    "64 77 64\n",
    "15 19 97\n",
    "4 71 57\n",
    "90 86 84\n",
    "93 32 91\"\"\") # 208"
   ]
  },
  {
   "cell_type": "code",
   "execution_count": 84,
   "metadata": {},
   "outputs": [
    {
     "name": "stdout",
     "output_type": "stream",
     "text": [
      "0 1 2 3 4 5\n",
      "[71, 39, 44, 44, 39, 71]\n",
      "1 2 0 5 3 4\n",
      "[126, 71, 127, 127, 71, 126]\n",
      "2 0 1 4 5 3\n",
      "[163, 134, 178, 178, 134, 163]\n",
      "0 1 2 3 4 5\n",
      "[252, 163, 278, 278, 163, 252]\n",
      "1 2 0 5 3 4\n",
      "[263, 246, 336, 336, 246, 263]\n",
      "2 0 1 4 5 3\n",
      "[276, 261, 401, 401, 261, 276]\n",
      "0 1 2 3 4 5\n",
      "[323, 286, 430, 430, 286, 323]\n",
      "1 2 0 5 3 4\n",
      "[342, 346, 496, 496, 346, 342]\n",
      "342\n"
     ]
    }
   ],
   "source": [
    "solution_example(\"\"\"8\n",
    "71 39 44\n",
    "32 83 55\n",
    "51 37 63\n",
    "89 29 100\n",
    "83 58 11\n",
    "65 13 15\n",
    "47 25 29\n",
    "60 66 19\"\"\") # 253"
   ]
  },
  {
   "cell_type": "code",
   "execution_count": 85,
   "metadata": {},
   "outputs": [
    {
     "ename": "ValueError",
     "evalue": "invalid literal for int() with base 10: ''",
     "output_type": "error",
     "traceback": [
      "\u001b[1;31m---------------------------------------------------------------------------\u001b[0m",
      "\u001b[1;31mValueError\u001b[0m                                Traceback (most recent call last)",
      "\u001b[1;32mc:\\Users\\이찬행\\OneDrive - 충남대학교\\문서\\GitHub\\algorithm-study\\dp\\RGB street.ipynb Cell 17'\u001b[0m in \u001b[0;36m<cell line: 1>\u001b[1;34m()\u001b[0m\n\u001b[1;32m----> <a href='vscode-notebook-cell:/c%3A/Users/%EC%9D%B4%EC%B0%AC%ED%96%89/OneDrive%20-%20%EC%B6%A9%EB%82%A8%EB%8C%80%ED%95%99%EA%B5%90/%EB%AC%B8%EC%84%9C/GitHub/algorithm-study/dp/RGB%20street.ipynb#ch0000017?line=0'>1</a>\u001b[0m solution_example(\u001b[39m\"\"\"\u001b[39;49m\u001b[39m\"\"\"\u001b[39;49m)\n",
      "\u001b[1;32mc:\\Users\\이찬행\\OneDrive - 충남대학교\\문서\\GitHub\\algorithm-study\\dp\\RGB street.ipynb Cell 11'\u001b[0m in \u001b[0;36msolution_example\u001b[1;34m(input_)\u001b[0m\n\u001b[0;32m      <a href='vscode-notebook-cell:/c%3A/Users/%EC%9D%B4%EC%B0%AC%ED%96%89/OneDrive%20-%20%EC%B6%A9%EB%82%A8%EB%8C%80%ED%95%99%EA%B5%90/%EB%AC%B8%EC%84%9C/GitHub/algorithm-study/dp/RGB%20street.ipynb#ch0000010?line=7'>8</a>\u001b[0m \u001b[39mdef\u001b[39;00m \u001b[39msolution_example\u001b[39m(input_):\n\u001b[1;32m----> <a href='vscode-notebook-cell:/c%3A/Users/%EC%9D%B4%EC%B0%AC%ED%96%89/OneDrive%20-%20%EC%B6%A9%EB%82%A8%EB%8C%80%ED%95%99%EA%B5%90/%EB%AC%B8%EC%84%9C/GitHub/algorithm-study/dp/RGB%20street.ipynb#ch0000010?line=8'>9</a>\u001b[0m     N, homes \u001b[39m=\u001b[39m preprocess_example(input_)\n\u001b[0;32m     <a href='vscode-notebook-cell:/c%3A/Users/%EC%9D%B4%EC%B0%AC%ED%96%89/OneDrive%20-%20%EC%B6%A9%EB%82%A8%EB%8C%80%ED%95%99%EA%B5%90/%EB%AC%B8%EC%84%9C/GitHub/algorithm-study/dp/RGB%20street.ipynb#ch0000010?line=9'>10</a>\u001b[0m     \u001b[39mprint\u001b[39m(solution(N, homes))\n",
      "\u001b[1;32mc:\\Users\\이찬행\\OneDrive - 충남대학교\\문서\\GitHub\\algorithm-study\\dp\\RGB street.ipynb Cell 11'\u001b[0m in \u001b[0;36mpreprocess_example\u001b[1;34m(input_)\u001b[0m\n\u001b[0;32m      <a href='vscode-notebook-cell:/c%3A/Users/%EC%9D%B4%EC%B0%AC%ED%96%89/OneDrive%20-%20%EC%B6%A9%EB%82%A8%EB%8C%80%ED%95%99%EA%B5%90/%EB%AC%B8%EC%84%9C/GitHub/algorithm-study/dp/RGB%20street.ipynb#ch0000010?line=0'>1</a>\u001b[0m \u001b[39mdef\u001b[39;00m \u001b[39mpreprocess_example\u001b[39m(input_:\u001b[39mstr\u001b[39m):\n\u001b[0;32m      <a href='vscode-notebook-cell:/c%3A/Users/%EC%9D%B4%EC%B0%AC%ED%96%89/OneDrive%20-%20%EC%B6%A9%EB%82%A8%EB%8C%80%ED%95%99%EA%B5%90/%EB%AC%B8%EC%84%9C/GitHub/algorithm-study/dp/RGB%20street.ipynb#ch0000010?line=1'>2</a>\u001b[0m     input_ \u001b[39m=\u001b[39m input_\u001b[39m.\u001b[39msplit(\u001b[39m\"\u001b[39m\u001b[39m\\n\u001b[39;00m\u001b[39m\"\u001b[39m)\n\u001b[1;32m----> <a href='vscode-notebook-cell:/c%3A/Users/%EC%9D%B4%EC%B0%AC%ED%96%89/OneDrive%20-%20%EC%B6%A9%EB%82%A8%EB%8C%80%ED%95%99%EA%B5%90/%EB%AC%B8%EC%84%9C/GitHub/algorithm-study/dp/RGB%20street.ipynb#ch0000010?line=2'>3</a>\u001b[0m     N \u001b[39m=\u001b[39m \u001b[39mint\u001b[39;49m(input_\u001b[39m.\u001b[39;49mpop(\u001b[39m0\u001b[39;49m))\n\u001b[0;32m      <a href='vscode-notebook-cell:/c%3A/Users/%EC%9D%B4%EC%B0%AC%ED%96%89/OneDrive%20-%20%EC%B6%A9%EB%82%A8%EB%8C%80%ED%95%99%EA%B5%90/%EB%AC%B8%EC%84%9C/GitHub/algorithm-study/dp/RGB%20street.ipynb#ch0000010?line=3'>4</a>\u001b[0m     homes \u001b[39m=\u001b[39m []\n\u001b[0;32m      <a href='vscode-notebook-cell:/c%3A/Users/%EC%9D%B4%EC%B0%AC%ED%96%89/OneDrive%20-%20%EC%B6%A9%EB%82%A8%EB%8C%80%ED%95%99%EA%B5%90/%EB%AC%B8%EC%84%9C/GitHub/algorithm-study/dp/RGB%20street.ipynb#ch0000010?line=4'>5</a>\u001b[0m     \u001b[39mfor\u001b[39;00m i \u001b[39min\u001b[39;00m \u001b[39mrange\u001b[39m(N):\n",
      "\u001b[1;31mValueError\u001b[0m: invalid literal for int() with base 10: ''"
     ]
    }
   ],
   "source": [
    "solution_example(\"\"\"\"\"\")"
   ]
  }
 ],
 "metadata": {
  "interpreter": {
   "hash": "73891b0dc2e53390f36276e59930dd4ecab91b05b5c90320c2d5b1c443f87069"
  },
  "kernelspec": {
   "display_name": "Python 3.10.1 ('venv': venv)",
   "language": "python",
   "name": "python3"
  },
  "language_info": {
   "codemirror_mode": {
    "name": "ipython",
    "version": 3
   },
   "file_extension": ".py",
   "mimetype": "text/x-python",
   "name": "python",
   "nbconvert_exporter": "python",
   "pygments_lexer": "ipython3",
   "version": "3.10.2"
  },
  "orig_nbformat": 4
 },
 "nbformat": 4,
 "nbformat_minor": 2
}
