{
 "cells": [
  {
   "cell_type": "markdown",
   "metadata": {},
   "source": [
    "# [백준/RGB거리](https://www.acmicpc.net/problem/1149)"
   ]
  },
  {
   "cell_type": "markdown",
   "metadata": {},
   "source": [
    "## 풀이과정"
   ]
  },
  {
   "cell_type": "markdown",
   "metadata": {},
   "source": [
    "### 첫번째 시도"
   ]
  },
  {
   "cell_type": "markdown",
   "metadata": {},
   "source": [
    "풀이과정"
   ]
  },
  {
   "cell_type": "code",
   "execution_count": null,
   "metadata": {},
   "outputs": [],
   "source": [
    "# 풀이 코드\n"
   ]
  },
  {
   "cell_type": "markdown",
   "metadata": {},
   "source": [
    "## 해답"
   ]
  },
  {
   "cell_type": "code",
   "execution_count": null,
   "metadata": {},
   "outputs": [],
   "source": [
    "from functools import cache"
   ]
  },
  {
   "cell_type": "code",
   "execution_count": 88,
   "metadata": {},
   "outputs": [],
   "source": [
    "homes = [map(int, )]\n",
    "@cache\n",
    "def nth(color, n):\n",
    "    if n == 0: homes[color]\n",
    "\n",
    "def solution(N, homes):\n",
    "    \n",
    "\n"
   ]
  },
  {
   "cell_type": "markdown",
   "metadata": {},
   "source": [
    "## 테스트 결과"
   ]
  },
  {
   "cell_type": "markdown",
   "metadata": {},
   "source": [
    "|테스트|결과|\n",
    "|---:|:---|"
   ]
  },
  {
   "cell_type": "markdown",
   "metadata": {},
   "source": [
    "## 예제"
   ]
  },
  {
   "cell_type": "code",
   "execution_count": 89,
   "metadata": {},
   "outputs": [],
   "source": [
    "def preprocess_example(input_:str):\n",
    "    input_ = input_.split(\"\\n\")\n",
    "    N = int(input_.pop(0))\n",
    "    homes = []\n",
    "    for i in range(N):\n",
    "        homes.append(list(map(int, input_.pop(0).split())))\n",
    "    return N, homes\n",
    "def solution_example(input_):\n",
    "    N, homes = preprocess_example(input_)\n",
    "    print(solution(N, homes))\n"
   ]
  },
  {
   "cell_type": "code",
   "execution_count": 90,
   "metadata": {},
   "outputs": [
    {
     "name": "stdout",
     "output_type": "stream",
     "text": [
      "[49, 60, 57, 49, 60, 57, 49, 60, 57, 49, 60, 57, 49, 60, 57, 49, 60, 57, 49, 60, 57, 49, 60, 57]\n",
      "[40, 83, 26, 40, 83, 26, 40, 83, 26, 40, 83, 26, 83, 26, 40, 83, 26, 40, 83, 26, 40, 83, 26, 40]\n",
      "[89, 99, 13, 89, 99, 13, 99, 13, 89, 99, 13, 89, 89, 99, 13, 89, 99, 13, 99, 13, 89, 99, 13, 89]\n",
      "(96, 2)\n"
     ]
    }
   ],
   "source": [
    "solution_example(\"\"\"3\n",
    "26 40 83\n",
    "49 60 57\n",
    "13 89 99\"\"\") # 96"
   ]
  },
  {
   "cell_type": "code",
   "execution_count": 91,
   "metadata": {},
   "outputs": [
    {
     "name": "stdout",
     "output_type": "stream",
     "text": [
      "[100, 1, 100, 100, 1, 100, 100, 1, 100, 100, 1, 100, 100, 1, 100, 100, 1, 100, 100, 1, 100, 100, 1, 100]\n",
      "[100, 100, 1, 100, 100, 1, 100, 100, 1, 100, 100, 1, 100, 1, 100, 100, 1, 100, 100, 1, 100, 100, 1, 100]\n",
      "[100, 1, 100, 100, 1, 100, 1, 100, 100, 1, 100, 100, 100, 1, 100, 100, 1, 100, 1, 100, 100, 1, 100, 100]\n",
      "(3, 13)\n"
     ]
    }
   ],
   "source": [
    "solution_example(\"\"\"3\n",
    "1 100 100\n",
    "100 1 100\n",
    "100 100 1\"\"\") # 3"
   ]
  },
  {
   "cell_type": "code",
   "execution_count": 92,
   "metadata": {},
   "outputs": [
    {
     "name": "stdout",
     "output_type": "stream",
     "text": [
      "[100, 100, 100, 100, 100, 100, 100, 100, 100, 100, 100, 100, 100, 100, 100, 100, 100, 100, 100, 100, 100, 100, 100, 100]\n",
      "[100, 100, 1, 100, 100, 1, 100, 100, 1, 100, 100, 1, 100, 1, 100, 100, 1, 100, 100, 1, 100, 100, 1, 100]\n",
      "[100, 100, 1, 100, 100, 1, 100, 1, 100, 100, 1, 100, 100, 100, 1, 100, 100, 1, 100, 1, 100, 100, 1, 100]\n",
      "(102, 2)\n"
     ]
    }
   ],
   "source": [
    "solution_example(\"\"\"3\n",
    "1 100 100\n",
    "100 100 100\n",
    "1 100 100\"\"\") # 102"
   ]
  },
  {
   "cell_type": "code",
   "execution_count": 93,
   "metadata": {},
   "outputs": [
    {
     "name": "stdout",
     "output_type": "stream",
     "text": [
      "[322, 235, 171, 230, 264, 234, 322, 235, 171, 230, 264, 234, 322, 235, 171, 230, 264, 234, 322, 235, 171, 230, 264, 234]\n",
      "[19, 5, 30, 19, 5, 30, 19, 5, 30, 19, 5, 30, 5, 30, 19, 5, 30, 19, 5, 30, 19, 5, 30, 19]\n",
      "[32, 91, 93, 32, 91, 93, 91, 93, 32, 91, 93, 32, 32, 91, 93, 32, 91, 93, 91, 93, 32, 91, 93, 32]\n",
      "(222, 20)\n"
     ]
    }
   ],
   "source": [
    "solution_example(\"\"\"6\n",
    "30 19 5\n",
    "64 77 64\n",
    "15 19 97\n",
    "4 71 57\n",
    "90 86 84\n",
    "93 32 91\"\"\") # 208"
   ]
  },
  {
   "cell_type": "code",
   "execution_count": 97,
   "metadata": {},
   "outputs": [
    {
     "data": {
      "text/plain": [
       "208"
      ]
     },
     "execution_count": 97,
     "metadata": {},
     "output_type": "execute_result"
    }
   ],
   "source": [
    "64 + 19 + 4 + 84 + 5 + 32"
   ]
  },
  {
   "cell_type": "code",
   "execution_count": 94,
   "metadata": {},
   "outputs": [
    {
     "name": "stdout",
     "output_type": "stream",
     "text": [
      "[247, 386, 252, 294, 355, 236, 247, 386, 252, 294, 355, 236, 247, 386, 252, 294, 355, 236, 247, 386, 252, 294, 355, 236]\n",
      "[39, 44, 71, 39, 44, 71, 39, 44, 71, 39, 44, 71, 44, 71, 39, 44, 71, 39, 44, 71, 39, 44, 71, 39]\n",
      "[60, 66, 19, 60, 66, 19, 66, 19, 60, 66, 19, 60, 60, 66, 19, 60, 66, 19, 66, 19, 60, 66, 19, 60]\n",
      "(294, 17)\n"
     ]
    }
   ],
   "source": [
    "solution_example(\"\"\"8\n",
    "71 39 44\n",
    "32 83 55\n",
    "51 37 63\n",
    "89 29 100\n",
    "83 58 11\n",
    "65 13 15\n",
    "47 25 29\n",
    "60 66 19\"\"\") # 253"
   ]
  },
  {
   "cell_type": "code",
   "execution_count": 95,
   "metadata": {},
   "outputs": [
    {
     "ename": "ValueError",
     "evalue": "invalid literal for int() with base 10: ''",
     "output_type": "error",
     "traceback": [
      "\u001b[1;31m---------------------------------------------------------------------------\u001b[0m",
      "\u001b[1;31mValueError\u001b[0m                                Traceback (most recent call last)",
      "\u001b[1;32mc:\\Users\\2chan\\Documents\\GitHub\\algorithm-study\\dp\\RGB street.ipynb Cell 17'\u001b[0m in \u001b[0;36m<cell line: 1>\u001b[1;34m()\u001b[0m\n\u001b[1;32m----> <a href='vscode-notebook-cell:/c%3A/Users/2chan/Documents/GitHub/algorithm-study/dp/RGB%20street.ipynb#ch0000016?line=0'>1</a>\u001b[0m solution_example(\u001b[39m\"\"\"\u001b[39;49m\u001b[39m\"\"\"\u001b[39;49m)\n",
      "\u001b[1;32mc:\\Users\\2chan\\Documents\\GitHub\\algorithm-study\\dp\\RGB street.ipynb Cell 11'\u001b[0m in \u001b[0;36msolution_example\u001b[1;34m(input_)\u001b[0m\n\u001b[0;32m      <a href='vscode-notebook-cell:/c%3A/Users/2chan/Documents/GitHub/algorithm-study/dp/RGB%20street.ipynb#ch0000010?line=7'>8</a>\u001b[0m \u001b[39mdef\u001b[39;00m \u001b[39msolution_example\u001b[39m(input_):\n\u001b[1;32m----> <a href='vscode-notebook-cell:/c%3A/Users/2chan/Documents/GitHub/algorithm-study/dp/RGB%20street.ipynb#ch0000010?line=8'>9</a>\u001b[0m     N, homes \u001b[39m=\u001b[39m preprocess_example(input_)\n\u001b[0;32m     <a href='vscode-notebook-cell:/c%3A/Users/2chan/Documents/GitHub/algorithm-study/dp/RGB%20street.ipynb#ch0000010?line=9'>10</a>\u001b[0m     \u001b[39mprint\u001b[39m(solution(N, homes))\n",
      "\u001b[1;32mc:\\Users\\2chan\\Documents\\GitHub\\algorithm-study\\dp\\RGB street.ipynb Cell 11'\u001b[0m in \u001b[0;36mpreprocess_example\u001b[1;34m(input_)\u001b[0m\n\u001b[0;32m      <a href='vscode-notebook-cell:/c%3A/Users/2chan/Documents/GitHub/algorithm-study/dp/RGB%20street.ipynb#ch0000010?line=0'>1</a>\u001b[0m \u001b[39mdef\u001b[39;00m \u001b[39mpreprocess_example\u001b[39m(input_:\u001b[39mstr\u001b[39m):\n\u001b[0;32m      <a href='vscode-notebook-cell:/c%3A/Users/2chan/Documents/GitHub/algorithm-study/dp/RGB%20street.ipynb#ch0000010?line=1'>2</a>\u001b[0m     input_ \u001b[39m=\u001b[39m input_\u001b[39m.\u001b[39msplit(\u001b[39m\"\u001b[39m\u001b[39m\\n\u001b[39;00m\u001b[39m\"\u001b[39m)\n\u001b[1;32m----> <a href='vscode-notebook-cell:/c%3A/Users/2chan/Documents/GitHub/algorithm-study/dp/RGB%20street.ipynb#ch0000010?line=2'>3</a>\u001b[0m     N \u001b[39m=\u001b[39m \u001b[39mint\u001b[39;49m(input_\u001b[39m.\u001b[39;49mpop(\u001b[39m0\u001b[39;49m))\n\u001b[0;32m      <a href='vscode-notebook-cell:/c%3A/Users/2chan/Documents/GitHub/algorithm-study/dp/RGB%20street.ipynb#ch0000010?line=3'>4</a>\u001b[0m     homes \u001b[39m=\u001b[39m []\n\u001b[0;32m      <a href='vscode-notebook-cell:/c%3A/Users/2chan/Documents/GitHub/algorithm-study/dp/RGB%20street.ipynb#ch0000010?line=4'>5</a>\u001b[0m     \u001b[39mfor\u001b[39;00m i \u001b[39min\u001b[39;00m \u001b[39mrange\u001b[39m(N):\n",
      "\u001b[1;31mValueError\u001b[0m: invalid literal for int() with base 10: ''"
     ]
    }
   ],
   "source": [
    "solution_example(\"\"\"\"\"\")"
   ]
  }
 ],
 "metadata": {
  "interpreter": {
   "hash": "73891b0dc2e53390f36276e59930dd4ecab91b05b5c90320c2d5b1c443f87069"
  },
  "kernelspec": {
   "display_name": "Python 3.10.1 ('venv': venv)",
   "language": "python",
   "name": "python3"
  },
  "language_info": {
   "codemirror_mode": {
    "name": "ipython",
    "version": 3
   },
   "file_extension": ".py",
   "mimetype": "text/x-python",
   "name": "python",
   "nbconvert_exporter": "python",
   "pygments_lexer": "ipython3",
   "version": "3.10.1"
  },
  "orig_nbformat": 4
 },
 "nbformat": 4,
 "nbformat_minor": 2
}
