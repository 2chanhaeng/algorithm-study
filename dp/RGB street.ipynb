{
 "cells": [
  {
   "cell_type": "markdown",
   "metadata": {},
   "source": [
    "# [백준/RGB거리](https://www.acmicpc.net/problem/1149)"
   ]
  },
  {
   "cell_type": "markdown",
   "metadata": {},
   "source": [
    "## 풀이과정"
   ]
  },
  {
   "cell_type": "markdown",
   "metadata": {},
   "source": [
    "### 첫번째 시도"
   ]
  },
  {
   "cell_type": "markdown",
   "metadata": {},
   "source": [
    "풀이과정"
   ]
  },
  {
   "cell_type": "code",
   "execution_count": null,
   "metadata": {},
   "outputs": [],
   "source": [
    "from sys import setrecursionlimit\n",
    "\n",
    "setrecursionlimit(2**16)\n",
    "from functools import cache\n",
    "\n",
    "N = int(input())\n",
    "homes = [list(map(int, input().split())) for i in range(N)]\n",
    "\n",
    "\n",
    "@cache\n",
    "def nth(n, color):\n",
    "    if n == 0:\n",
    "        return homes[0][color]\n",
    "    return (\n",
    "        min(nth(n - 1, (color + 1) % 3), nth(n - 1, (color + 2) % 3)) + homes[n][color]\n",
    "    )\n",
    "\n",
    "\n",
    "print(min(nth(N - 1, i) for i in range(3)))"
   ]
  },
  {
   "cell_type": "markdown",
   "metadata": {},
   "source": [
    "## 해답"
   ]
  },
  {
   "cell_type": "code",
   "execution_count": 1,
   "metadata": {},
   "outputs": [
    {
     "name": "stdout",
     "output_type": "stream",
     "text": [
      "96\n"
     ]
    }
   ],
   "source": [
    "from sys import setrecursionlimit\n",
    "\n",
    "setrecursionlimit(2**16)\n",
    "from functools import cache\n",
    "\n",
    "N = int(input())\n",
    "homes = [list(map(int, input().split())) for i in range(N)]\n",
    "\n",
    "\n",
    "@cache\n",
    "def nth(n, color):\n",
    "    if n == 0:\n",
    "        return homes[0][color]\n",
    "    return (\n",
    "        min(nth(n - 1, (color + 1) % 3), nth(n - 1, (color + 2) % 3)) + homes[n][color]\n",
    "    )\n",
    "\n",
    "\n",
    "print(min(nth(N - 1, i) for i in range(3)))"
   ]
  },
  {
   "cell_type": "code",
   "execution_count": 51,
   "metadata": {},
   "outputs": [],
   "source": [
    "def solution(N, homes):\n",
    "    @cache\n",
    "    def nth(n, color):\n",
    "        if n == 0:\n",
    "            return homes[0][color]\n",
    "        return (\n",
    "            min(nth(n - 1, (color + 1) % 3), nth(n - 1, (color + 2) % 3))\n",
    "            + homes[n][color]\n",
    "        )\n",
    "\n",
    "    return min(nth(N - 1, i) for i in range(3))"
   ]
  },
  {
   "cell_type": "markdown",
   "metadata": {},
   "source": [
    "## 테스트 결과"
   ]
  },
  {
   "cell_type": "markdown",
   "metadata": {},
   "source": [
    "|테스트|결과|\n",
    "|---:|:---|"
   ]
  },
  {
   "cell_type": "markdown",
   "metadata": {},
   "source": [
    "## 예제"
   ]
  },
  {
   "cell_type": "code",
   "execution_count": 52,
   "metadata": {},
   "outputs": [],
   "source": [
    "def preprocess_example(input_: str):\n",
    "    input_ = input_.split(\"\\n\")\n",
    "    N = int(input_.pop(0))\n",
    "    homes = [list(map(int, input_.pop(0).split())) for i in range(N)]\n",
    "    return N, homes\n",
    "\n",
    "\n",
    "def solution_example(input_):\n",
    "    global N, homes\n",
    "    N, homes = preprocess_example(input_)\n",
    "    print(solution(N, homes))"
   ]
  },
  {
   "cell_type": "code",
   "execution_count": 53,
   "metadata": {},
   "outputs": [
    {
     "name": "stdout",
     "output_type": "stream",
     "text": [
      "96\n"
     ]
    }
   ],
   "source": [
    "solution_example(\n",
    "    \"\"\"3\n",
    "26 40 83\n",
    "49 60 57\n",
    "13 89 99\"\"\"\n",
    ")  # 96"
   ]
  },
  {
   "cell_type": "code",
   "execution_count": 54,
   "metadata": {},
   "outputs": [
    {
     "name": "stdout",
     "output_type": "stream",
     "text": [
      "3\n"
     ]
    }
   ],
   "source": [
    "solution_example(\n",
    "    \"\"\"3\n",
    "1 100 100\n",
    "100 1 100\n",
    "100 100 1\"\"\"\n",
    ")  # 3"
   ]
  },
  {
   "cell_type": "code",
   "execution_count": 55,
   "metadata": {},
   "outputs": [
    {
     "name": "stdout",
     "output_type": "stream",
     "text": [
      "102\n"
     ]
    }
   ],
   "source": [
    "solution_example(\n",
    "    \"\"\"3\n",
    "1 100 100\n",
    "100 100 100\n",
    "1 100 100\"\"\"\n",
    ")  # 102"
   ]
  },
  {
   "cell_type": "code",
   "execution_count": 56,
   "metadata": {},
   "outputs": [
    {
     "name": "stdout",
     "output_type": "stream",
     "text": [
      "208\n"
     ]
    }
   ],
   "source": [
    "solution_example(\n",
    "    \"\"\"6\n",
    "30 19 5\n",
    "64 77 64\n",
    "15 19 97\n",
    "4 71 57\n",
    "90 86 84\n",
    "93 32 91\"\"\"\n",
    ")  # 208"
   ]
  },
  {
   "cell_type": "code",
   "execution_count": 57,
   "metadata": {},
   "outputs": [
    {
     "name": "stdout",
     "output_type": "stream",
     "text": [
      "253\n"
     ]
    }
   ],
   "source": [
    "solution_example(\n",
    "    \"\"\"8\n",
    "71 39 44\n",
    "32 83 55\n",
    "51 37 63\n",
    "89 29 100\n",
    "83 58 11\n",
    "65 13 15\n",
    "47 25 29\n",
    "60 66 19\"\"\"\n",
    ")  # 253"
   ]
  },
  {
   "cell_type": "code",
   "execution_count": 58,
   "metadata": {},
   "outputs": [
    {
     "ename": "ValueError",
     "evalue": "invalid literal for int() with base 10: ''",
     "output_type": "error",
     "traceback": [
      "\u001b[1;31m---------------------------------------------------------------------------\u001b[0m",
      "\u001b[1;31mValueError\u001b[0m                                Traceback (most recent call last)",
      "\u001b[1;32mc:\\Users\\이찬행\\OneDrive - 충남대학교\\문서\\GitHub\\algorithm-study\\dp\\RGB street.ipynb Cell 19'\u001b[0m in \u001b[0;36m<cell line: 1>\u001b[1;34m()\u001b[0m\n\u001b[1;32m----> <a href='vscode-notebook-cell:/c%3A/Users/%EC%9D%B4%EC%B0%AC%ED%96%89/OneDrive%20-%20%EC%B6%A9%EB%82%A8%EB%8C%80%ED%95%99%EA%B5%90/%EB%AC%B8%EC%84%9C/GitHub/algorithm-study/dp/RGB%20street.ipynb#ch0000018?line=0'>1</a>\u001b[0m solution_example(\u001b[39m\"\"\"\u001b[39;49m\u001b[39m\"\"\"\u001b[39;49m)\n",
      "\u001b[1;32mc:\\Users\\이찬행\\OneDrive - 충남대학교\\문서\\GitHub\\algorithm-study\\dp\\RGB street.ipynb Cell 13'\u001b[0m in \u001b[0;36msolution_example\u001b[1;34m(input_)\u001b[0m\n\u001b[0;32m      <a href='vscode-notebook-cell:/c%3A/Users/%EC%9D%B4%EC%B0%AC%ED%96%89/OneDrive%20-%20%EC%B6%A9%EB%82%A8%EB%8C%80%ED%95%99%EA%B5%90/%EB%AC%B8%EC%84%9C/GitHub/algorithm-study/dp/RGB%20street.ipynb#ch0000011?line=5'>6</a>\u001b[0m \u001b[39mdef\u001b[39;00m \u001b[39msolution_example\u001b[39m(input_):\n\u001b[0;32m      <a href='vscode-notebook-cell:/c%3A/Users/%EC%9D%B4%EC%B0%AC%ED%96%89/OneDrive%20-%20%EC%B6%A9%EB%82%A8%EB%8C%80%ED%95%99%EA%B5%90/%EB%AC%B8%EC%84%9C/GitHub/algorithm-study/dp/RGB%20street.ipynb#ch0000011?line=6'>7</a>\u001b[0m     \u001b[39mglobal\u001b[39;00m N, homes\n\u001b[1;32m----> <a href='vscode-notebook-cell:/c%3A/Users/%EC%9D%B4%EC%B0%AC%ED%96%89/OneDrive%20-%20%EC%B6%A9%EB%82%A8%EB%8C%80%ED%95%99%EA%B5%90/%EB%AC%B8%EC%84%9C/GitHub/algorithm-study/dp/RGB%20street.ipynb#ch0000011?line=7'>8</a>\u001b[0m     N, homes \u001b[39m=\u001b[39m preprocess_example(input_)\n\u001b[0;32m      <a href='vscode-notebook-cell:/c%3A/Users/%EC%9D%B4%EC%B0%AC%ED%96%89/OneDrive%20-%20%EC%B6%A9%EB%82%A8%EB%8C%80%ED%95%99%EA%B5%90/%EB%AC%B8%EC%84%9C/GitHub/algorithm-study/dp/RGB%20street.ipynb#ch0000011?line=8'>9</a>\u001b[0m     \u001b[39mprint\u001b[39m(solution(N, homes))\n",
      "\u001b[1;32mc:\\Users\\이찬행\\OneDrive - 충남대학교\\문서\\GitHub\\algorithm-study\\dp\\RGB street.ipynb Cell 13'\u001b[0m in \u001b[0;36mpreprocess_example\u001b[1;34m(input_)\u001b[0m\n\u001b[0;32m      <a href='vscode-notebook-cell:/c%3A/Users/%EC%9D%B4%EC%B0%AC%ED%96%89/OneDrive%20-%20%EC%B6%A9%EB%82%A8%EB%8C%80%ED%95%99%EA%B5%90/%EB%AC%B8%EC%84%9C/GitHub/algorithm-study/dp/RGB%20street.ipynb#ch0000011?line=0'>1</a>\u001b[0m \u001b[39mdef\u001b[39;00m \u001b[39mpreprocess_example\u001b[39m(input_:\u001b[39mstr\u001b[39m):\n\u001b[0;32m      <a href='vscode-notebook-cell:/c%3A/Users/%EC%9D%B4%EC%B0%AC%ED%96%89/OneDrive%20-%20%EC%B6%A9%EB%82%A8%EB%8C%80%ED%95%99%EA%B5%90/%EB%AC%B8%EC%84%9C/GitHub/algorithm-study/dp/RGB%20street.ipynb#ch0000011?line=1'>2</a>\u001b[0m     input_ \u001b[39m=\u001b[39m input_\u001b[39m.\u001b[39msplit(\u001b[39m\"\u001b[39m\u001b[39m\\n\u001b[39;00m\u001b[39m\"\u001b[39m)\n\u001b[1;32m----> <a href='vscode-notebook-cell:/c%3A/Users/%EC%9D%B4%EC%B0%AC%ED%96%89/OneDrive%20-%20%EC%B6%A9%EB%82%A8%EB%8C%80%ED%95%99%EA%B5%90/%EB%AC%B8%EC%84%9C/GitHub/algorithm-study/dp/RGB%20street.ipynb#ch0000011?line=2'>3</a>\u001b[0m     N \u001b[39m=\u001b[39m \u001b[39mint\u001b[39;49m(input_\u001b[39m.\u001b[39;49mpop(\u001b[39m0\u001b[39;49m))\n\u001b[0;32m      <a href='vscode-notebook-cell:/c%3A/Users/%EC%9D%B4%EC%B0%AC%ED%96%89/OneDrive%20-%20%EC%B6%A9%EB%82%A8%EB%8C%80%ED%95%99%EA%B5%90/%EB%AC%B8%EC%84%9C/GitHub/algorithm-study/dp/RGB%20street.ipynb#ch0000011?line=3'>4</a>\u001b[0m     homes \u001b[39m=\u001b[39m [\u001b[39mlist\u001b[39m(\u001b[39mmap\u001b[39m(\u001b[39mint\u001b[39m, input_\u001b[39m.\u001b[39mpop(\u001b[39m0\u001b[39m)\u001b[39m.\u001b[39msplit())) \u001b[39mfor\u001b[39;00m i \u001b[39min\u001b[39;00m \u001b[39mrange\u001b[39m(N)]\n\u001b[0;32m      <a href='vscode-notebook-cell:/c%3A/Users/%EC%9D%B4%EC%B0%AC%ED%96%89/OneDrive%20-%20%EC%B6%A9%EB%82%A8%EB%8C%80%ED%95%99%EA%B5%90/%EB%AC%B8%EC%84%9C/GitHub/algorithm-study/dp/RGB%20street.ipynb#ch0000011?line=4'>5</a>\u001b[0m     \u001b[39mreturn\u001b[39;00m N, homes\n",
      "\u001b[1;31mValueError\u001b[0m: invalid literal for int() with base 10: ''"
     ]
    }
   ],
   "source": [
    "solution_example(\"\"\"\"\"\")"
   ]
  }
 ],
 "metadata": {
  "interpreter": {
   "hash": "73891b0dc2e53390f36276e59930dd4ecab91b05b5c90320c2d5b1c443f87069"
  },
  "kernelspec": {
   "display_name": "Python 3.10.1 ('venv': venv)",
   "language": "python",
   "name": "python3"
  },
  "language_info": {
   "codemirror_mode": {
    "name": "ipython",
    "version": 3
   },
   "file_extension": ".py",
   "mimetype": "text/x-python",
   "name": "python",
   "nbconvert_exporter": "python",
   "pygments_lexer": "ipython3",
   "version": "3.10.2"
  },
  "orig_nbformat": 4
 },
 "nbformat": 4,
 "nbformat_minor": 2
}
