{
 "cells": [
  {
   "cell_type": "markdown",
   "metadata": {},
   "source": [
    "# [프로그래머스/등굣길](https://programmers.co.kr/learn/courses/30/lessons/42898)"
   ]
  },
  {
   "cell_type": "markdown",
   "metadata": {},
   "source": [
    "## 풀이과정"
   ]
  },
  {
   "cell_type": "markdown",
   "metadata": {},
   "source": [
    "### 첫번째 시도"
   ]
  },
  {
   "cell_type": "markdown",
   "metadata": {},
   "source": [
    "풀이과정"
   ]
  },
  {
   "cell_type": "code",
   "execution_count": null,
   "metadata": {},
   "outputs": [],
   "source": [
    "# 풀이 코드\n"
   ]
  },
  {
   "cell_type": "markdown",
   "metadata": {},
   "source": [
    "## 해답"
   ]
  },
  {
   "cell_type": "code",
   "execution_count": 44,
   "metadata": {},
   "outputs": [],
   "source": [
    "from functools import lru_cache\n",
    "\n",
    "def solution(m, n, puddles):\n",
    "    puddles = set((i,j) for i,j in puddles)\n",
    "    @lru_cache\n",
    "    def inner(m, n):\n",
    "        if 0 in (m, n) or (m, n) in puddles:\n",
    "            return 0\n",
    "        elif (1,1) == (m, n):\n",
    "            return 1\n",
    "        else:\n",
    "            return inner(m = m - 1, n = n) + inner(m = m, n = n - 1)\n",
    "    return inner(m,n) % 1000000007"
   ]
  },
  {
   "cell_type": "markdown",
   "metadata": {},
   "source": [
    "## 테스트 결과"
   ]
  },
  {
   "cell_type": "markdown",
   "metadata": {},
   "source": [
    "|테스트|결과|\n",
    "|---:|:---|\n",
    "정확성 테스트 1 〉|통과 (0.02ms, 10.1MB)|\n",
    "정확성 테스트 2 〉|통과 (0.04ms, 10.1MB)|\n",
    "정확성 테스트 3 〉|통과 (0.03ms, 10.1MB)|\n",
    "정확성 테스트 4 〉|통과 (0.05ms, 10.1MB)|\n",
    "정확성 테스트 5 〉|통과 (0.12ms, 10.3MB)|\n",
    "정확성 테스트 6 〉|통과 (0.08ms, 10.2MB)|\n",
    "정확성 테스트 7 〉|통과 (0.15ms, 10.3MB)|\n",
    "정확성 테스트 8 〉|통과 (0.21ms, 10.2MB)|\n",
    "정확성 테스트 9 〉|통과 (0.19ms, 10.1MB)|\n",
    "정확성 테스트 10 〉|통과 (0.02ms, 10.2MB)|\n",
    "효율성 테스트 1 〉|통과 (6.45ms, 10.3MB)|\n",
    "효율성 테스트 2 〉|통과 (2.36ms, 10.2MB)|\n",
    "효율성 테스트 3 〉|통과 (2.85ms, 10.2MB)|\n",
    "효율성 테스트 4 〉|통과 (3.90ms, 10.2MB)|\n",
    "효율성 테스트 5 〉|통과 (3.50ms, 10.2MB)|\n",
    "효율성 테스트 6 〉|통과 (6.38ms, 10.3MB)|\n",
    "효율성 테스트 7 〉|통과 (2.68ms, 10.4MB)|\n",
    "효율성 테스트 8 〉|통과 (4.60ms, 10.3MB)|\n",
    "효율성 테스트 9 〉|통과 (5.00ms, 10.4MB)|\n",
    "효율성 테스트 10 〉|통과 (4.17ms, 10.3MB)|"
   ]
  },
  {
   "cell_type": "markdown",
   "metadata": {},
   "source": [
    "## 예제"
   ]
  },
  {
   "cell_type": "code",
   "execution_count": null,
   "metadata": {},
   "outputs": [],
   "source": [
    "# 예제 코드"
   ]
  }
 ],
 "metadata": {
  "interpreter": {
   "hash": "73891b0dc2e53390f36276e59930dd4ecab91b05b5c90320c2d5b1c443f87069"
  },
  "kernelspec": {
   "display_name": "Python 3.10.1 ('venv': venv)",
   "language": "python",
   "name": "python3"
  },
  "language_info": {
   "codemirror_mode": {
    "name": "ipython",
    "version": 3
   },
   "file_extension": ".py",
   "mimetype": "text/x-python",
   "name": "python",
   "nbconvert_exporter": "python",
   "pygments_lexer": "ipython3",
   "version": "3.10.1"
  },
  "orig_nbformat": 4
 },
 "nbformat": 4,
 "nbformat_minor": 2
}
