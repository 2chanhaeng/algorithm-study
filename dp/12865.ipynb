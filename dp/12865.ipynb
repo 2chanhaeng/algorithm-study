{
 "cells": [
  {
   "cell_type": "markdown",
   "metadata": {},
   "source": [
    "# [백준/평범한 배낭](https://www.acmicpc.net/problem/12865)"
   ]
  },
  {
   "cell_type": "markdown",
   "metadata": {},
   "source": [
    "## 풀이과정"
   ]
  },
  {
   "cell_type": "markdown",
   "metadata": {},
   "source": [
    "### 첫번째 시도"
   ]
  },
  {
   "cell_type": "markdown",
   "metadata": {},
   "source": [
    "풀이과정"
   ]
  },
  {
   "cell_type": "code",
   "execution_count": null,
   "metadata": {},
   "outputs": [],
   "source": [
    "def solution():\n",
    "    import sys\n",
    "\n",
    "    (n, max_weight), *inputs = map(\n",
    "        lambda x: tuple(map(int, x.split())), sys.stdin.read().rstrip().split(\"\\n\")\n",
    "    )\n",
    "    mwp1 = max_weight + 1\n",
    "    pd = [[0] * mwp1 for _ in range(n + 1)]\n",
    "\n",
    "    for (w, v), pdi, pdi_1 in zip(inputs, pd[1:], pd):\n",
    "        for j in range(1, mwp1):\n",
    "            pdi[j] = pdi_1[j] if j < w else max(pdi_1[j], pdi_1[j - w] + v)\n",
    "    print(pd[-1][-1])\n",
    "\n",
    "\n",
    "solution()"
   ]
  },
  {
   "cell_type": "markdown",
   "metadata": {},
   "source": [
    "## 해답"
   ]
  },
  {
   "cell_type": "code",
   "execution_count": 79,
   "metadata": {},
   "outputs": [],
   "source": [
    "def solution(open=open):\n",
    "    (n, max_weight), *inputs = map(\n",
    "        lambda x: tuple(map(int, x.split())), open(0).read().rstrip().split(\"\\n\")\n",
    "    )\n",
    "    mwp1 = max_weight + 1\n",
    "    pd = [[0] * mwp1 for _ in range(n + 1)]\n",
    "\n",
    "    for (w, v), pdi, pdi_1 in zip(inputs, pd[1:], pd):\n",
    "        for j in range(1, mwp1):\n",
    "            pdi[j] = pdi_1[j] if j < w else max(pdi_1[j], pdi_1[j - w] + v)\n",
    "    print(pd[-1][-1])"
   ]
  },
  {
   "cell_type": "markdown",
   "metadata": {},
   "source": [
    "## 예제"
   ]
  },
  {
   "cell_type": "code",
   "execution_count": 80,
   "metadata": {},
   "outputs": [
    {
     "name": "stdout",
     "output_type": "stream",
     "text": [
      "The blackcellmagic extension is already loaded. To reload it, use:\n",
      "  %reload_ext blackcellmagic\n"
     ]
    }
   ],
   "source": [
    "%load_ext blackcellmagic\n",
    "# %%black"
   ]
  },
  {
   "cell_type": "code",
   "execution_count": 81,
   "metadata": {},
   "outputs": [],
   "source": [
    "# 백준 문제 풀이용 예제 실행 코드\n",
    "from bwj import test\n",
    "\n",
    "test_solution = test(solution)\n",
    "\n",
    "# test_solution(\"\"\"\"\"\")\n",
    "# test_solution(read(\"fn\").read())"
   ]
  },
  {
   "cell_type": "code",
   "execution_count": 82,
   "metadata": {},
   "outputs": [
    {
     "name": "stdout",
     "output_type": "stream",
     "text": [
      "14\n"
     ]
    }
   ],
   "source": [
    "test_solution(\n",
    "    \"\"\"4 7\n",
    "6 13\n",
    "4 8\n",
    "3 6\n",
    "5 12\"\"\"\n",
    ")  # 14"
   ]
  }
 ],
 "metadata": {
  "kernelspec": {
   "display_name": "Python 3.10.4 ('venv': venv)",
   "language": "python",
   "name": "python3"
  },
  "language_info": {
   "codemirror_mode": {
    "name": "ipython",
    "version": 3
   },
   "file_extension": ".py",
   "mimetype": "text/x-python",
   "name": "python",
   "nbconvert_exporter": "python",
   "pygments_lexer": "ipython3",
   "version": "3.10.4"
  },
  "orig_nbformat": 4,
  "vscode": {
   "interpreter": {
    "hash": "72904a014a9ffe38f4c58942120b599b3c5a87d06764037548e0139929c1cde3"
   }
  }
 },
 "nbformat": 4,
 "nbformat_minor": 2
}
