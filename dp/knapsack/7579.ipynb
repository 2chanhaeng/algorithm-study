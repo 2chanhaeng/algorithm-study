{
    "cells": [
        {
            "cell_type": "markdown",
            "metadata": {},
            "source": [
                "# [백준/앱](https://www.acmicpc.net/problem/7579)\n"
            ]
        },
        {
            "cell_type": "markdown",
            "metadata": {},
            "source": [
                "## 풀이과정\n"
            ]
        },
        {
            "cell_type": "markdown",
            "metadata": {},
            "source": [
                "### 첫번째 시도\n"
            ]
        },
        {
            "cell_type": "markdown",
            "metadata": {},
            "source": [
                "#### 풀이과정\n"
            ]
        },
        {
            "cell_type": "code",
            "execution_count": null,
            "metadata": {},
            "outputs": [],
            "source": [
                "def solution():\n",
                "    import sys\n",
                "\n",
                "    input = sys.stdin.readline\n",
                "    n, M = map(int, input().split())\n",
                "    memories = [int(i) for i in input().split()]\n",
                "    costs = [int(i) for i in input().split()]\n",
                "    MAX = sum(costs)\n",
                "    dp = [0] * (MAX + 1)\n",
                "    for m, c in zip(memories, costs):\n",
                "        for j in range(c, MAX + 1):\n",
                "            dp[j] = max(dp[j - 1], dp[j - c] + m)\n",
                "    print(next(i for i, d in enumerate(dp) if d >= M))\n",
                "\n",
                "\n",
                "solution()"
            ]
        },
        {
            "cell_type": "markdown",
            "metadata": {},
            "source": [
                "## 해답\n"
            ]
        },
        {
            "cell_type": "code",
            "execution_count": 1,
            "metadata": {},
            "outputs": [],
            "source": [
                "def solution():\n",
                "    import sys\n",
                "\n",
                "    input = sys.stdin.readline\n",
                "    _, M = map(int, input().split())\n",
                "    memories = list(map(int, input().split()))\n",
                "    costs = list(map(int, input().split()))\n",
                "    MAX = sum(costs) + 1\n",
                "    dp = [0] * MAX\n",
                "\n",
                "    for c, m in zip(costs, memories):\n",
                "        prev, dp = dp, dp[:c]\n",
                "        for j in range(c, len(prev)):\n",
                "            dp.append(max(prev[j - c] + m, prev[j]))\n",
                "            if dp[-1] >= M:\n",
                "                break\n",
                "\n",
                "    print(next(i for i, d in enumerate(dp) if d >= M))"
            ]
        },
        {
            "cell_type": "markdown",
            "metadata": {},
            "source": [
                "## 예제\n"
            ]
        },
        {
            "cell_type": "code",
            "execution_count": 2,
            "metadata": {},
            "outputs": [],
            "source": [
                "# 백준 문제 풀이용 예제 실행 코드\n",
                "from bwj import test\n",
                "\n",
                "test_solution = test(solution)\n",
                "\n",
                "# test_solution(\"\"\"\"\"\")\n",
                "# test_solution(read(\"fn\").read())"
            ]
        },
        {
            "cell_type": "code",
            "execution_count": 3,
            "metadata": {},
            "outputs": [
                {
                    "name": "stdout",
                    "output_type": "stream",
                    "text": [
                        "3\n"
                    ]
                }
            ],
            "source": [
                "test_solution(  # 3\n",
                "    \"\"\"3 50\n",
                "10 40 30\n",
                "0 3 2\n",
                "\"\"\"\n",
                ")"
            ]
        },
        {
            "cell_type": "code",
            "execution_count": 4,
            "metadata": {},
            "outputs": [
                {
                    "name": "stdout",
                    "output_type": "stream",
                    "text": [
                        "0\n"
                    ]
                }
            ],
            "source": [
                "test_solution(  # 0\n",
                "    \"\"\"5 60\n",
                "30 10 20 35 40\n",
                "0 1 0 0 0\n",
                "\"\"\"\n",
                ")"
            ]
        },
        {
            "cell_type": "code",
            "execution_count": 5,
            "metadata": {},
            "outputs": [
                {
                    "name": "stdout",
                    "output_type": "stream",
                    "text": [
                        "1\n"
                    ]
                }
            ],
            "source": [
                "test_solution(  # 1\n",
                "    \"\"\"5 60\n",
                "20 30 10 20 30\n",
                "0 0 1 2 3\n",
                "\"\"\"\n",
                ")"
            ]
        },
        {
            "cell_type": "code",
            "execution_count": 6,
            "metadata": {},
            "outputs": [
                {
                    "name": "stdout",
                    "output_type": "stream",
                    "text": [
                        "6\n"
                    ]
                }
            ],
            "source": [
                "test_solution(  # 6\n",
                "    \"\"\"5 60\n",
                "30 10 20 35 40\n",
                "3 0 3 5 4\n",
                "\"\"\"\n",
                ")"
            ]
        }
    ],
    "metadata": {
        "interpreter": {
            "hash": "73891b0dc2e53390f36276e59930dd4ecab91b05b5c90320c2d5b1c443f87069"
        },
        "kernelspec": {
            "display_name": "Python 3.10.1 ('venv': venv)",
            "language": "python",
            "name": "python3"
        },
        "language_info": {
            "codemirror_mode": {
                "name": "ipython",
                "version": 3
            },
            "file_extension": ".py",
            "mimetype": "text/x-python",
            "name": "python",
            "nbconvert_exporter": "python",
            "pygments_lexer": "ipython3",
            "version": "3.12.1"
        },
        "orig_nbformat": 4
    },
    "nbformat": 4,
    "nbformat_minor": 2
}
