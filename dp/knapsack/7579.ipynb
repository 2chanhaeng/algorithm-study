{
    "cells": [
        {
            "cell_type": "markdown",
            "metadata": {},
            "source": [
                "# [백준/앱](https://www.acmicpc.net/problem/7579)\n"
            ]
        },
        {
            "cell_type": "markdown",
            "metadata": {},
            "source": [
                "## 풀이과정\n"
            ]
        },
        {
            "cell_type": "markdown",
            "metadata": {},
            "source": [
                "### 첫번째 시도\n",
                "\n",
                "단순 DP + 배낭 문제라고 생각하고 풀었는데 메모리 초과가 났다. 문제 조건을 다시 보니 $M$의 최댓값이 백만이었다. 이를 개선하기 위해서는 비교적 작은 값인 $C$를 기준으로 DP를 진행했어야 했다.\n"
            ]
        },
        {
            "cell_type": "markdown",
            "metadata": {},
            "source": [
                "#### 풀이과정\n"
            ]
        },
        {
            "cell_type": "code",
            "execution_count": null,
            "metadata": {},
            "outputs": [],
            "source": [
                "def solution():\n",
                "    import sys\n",
                "\n",
                "    input = sys.stdin.readline\n",
                "    n, m = map(int, input().split())\n",
                "    memories = [0] + [int(i) for i in input().split()]\n",
                "    costs = [0] + [int(i) for i in input().split()]\n",
                "    MAX = sum(memories) - m\n",
                "    dp = [[0] * (MAX + 1) for _ in range(n + 1)]\n",
                "    for i in range(1, n + 1):\n",
                "        mi = memories[i]\n",
                "        for j in range(mi, MAX + 1):\n",
                "            dp[i][j] = max(dp[i - 1][j], dp[i - 1][j - mi] + costs[i])\n",
                "    print(sum(costs) - dp[-1][-1])\n",
                "\n",
                "\n",
                "solution()"
            ]
        },
        {
            "cell_type": "markdown",
            "metadata": {},
            "source": [
                "### 두번째 시도\n",
                "\n",
                "이번에는 $C$를 기준으로 DP를 진행했다. 하지만 이번에는 답이 오답이 나왔다. 다른 사람의 풀이와 비교해 봐도 다를 것이 없었는데 왜 틀렸는지 이해가 가질 않았다.\n"
            ]
        },
        {
            "cell_type": "markdown",
            "metadata": {},
            "source": [
                "#### 풀이과정\n"
            ]
        },
        {
            "cell_type": "code",
            "execution_count": null,
            "metadata": {},
            "outputs": [],
            "source": [
                "def solution():\n",
                "    import sys\n",
                "\n",
                "    input = sys.stdin.readline\n",
                "    _, M = map(int, input().split())\n",
                "    memories = list(map(int, input().split()))\n",
                "    costs = list(map(int, input().split()))\n",
                "    MAX = sum(costs) + 1\n",
                "    dp = [0] * MAX\n",
                "\n",
                "    for c, m in zip(costs, memories):\n",
                "        prev, dp = dp, dp[:c]\n",
                "        for j in range(c, MAX):\n",
                "            dp.append(max(prev[j - c] + m, prev[j]))\n",
                "\n",
                "    print(next(i for i, d in enumerate(dp) if d >= M))\n",
                "\n",
                "\n",
                "solution()"
            ]
        },
        {
            "cell_type": "markdown",
            "metadata": {},
            "source": [
                "### 세번째 시도\n",
                "\n",
                "하지만 다른 사람을 코드를 잘 보니 내가 놓친 부분이 있었다. 나는 메모리를 위해 DP를 1차원 배열로 구현했는데, 알고 보니 값을 업데이트 할 때 이전 값이 필요했다. 다른 사람들은 2차원 배열로 구현해서 문제가 없었지만 나는 1차원 배열로 구현했기에 이미 업데이트 된 값을 참조해서 후속 값을 업데이트 한 것이었다. 이를 위해 이전 값을 `prev`라는 변수로 저장해서 사용하니 문제가 풀렸다.\n"
            ]
        },
        {
            "cell_type": "markdown",
            "metadata": {},
            "source": [
                "#### 풀이과정\n"
            ]
        },
        {
            "cell_type": "code",
            "execution_count": null,
            "metadata": {},
            "outputs": [],
            "source": [
                "def solution():\n",
                "    import sys\n",
                "\n",
                "    input = sys.stdin.readline\n",
                "    _, M = map(int, input().split())\n",
                "    memories = list(map(int, input().split()))\n",
                "    costs = list(map(int, input().split()))\n",
                "    MAX = sum(costs) + 1\n",
                "    dp = [0] * MAX\n",
                "\n",
                "    for c, m in zip(costs, memories):\n",
                "        prev, dp = dp, dp[:c]\n",
                "        for j in range(c, MAX):\n",
                "            dp.append(max(prev[j - c] + m, prev[j]))\n",
                "\n",
                "    print(next(i for i, d in enumerate(dp) if d >= M))\n",
                "\n",
                "\n",
                "solution()"
            ]
        },
        {
            "cell_type": "markdown",
            "metadata": {},
            "source": [
                "### 네번째 시도\n",
                "\n",
                "내가 틀렸던 부분을 다시 생각해 보았다. 이전 배열을 참고하는 것은 맞지만 특정 인덱스를 업데이트 할 떄 이전의 배열에서 그 이전의 인덱스 값은 참조해도 이후의 값은 참조되지 않았다. 이를 이용해 다시 1차원 배열로 구현하면서 동시에 뒤의 값부터 업데이트 되도록 구현했다. 이런 방식으로 구현하니 더 좋은 결과를 얻어 PyPy3 1위라는 결과를 얻었다.\n"
            ]
        },
        {
            "cell_type": "markdown",
            "metadata": {},
            "source": [
                "#### 풀이과정\n"
            ]
        },
        {
            "cell_type": "code",
            "execution_count": null,
            "metadata": {},
            "outputs": [],
            "source": [
                "def solution():\n",
                "    import sys\n",
                "\n",
                "    input = sys.stdin.readline\n",
                "    _, M = map(int, input().split())\n",
                "    memories = list(map(int, input().split()))\n",
                "    costs = list(map(int, input().split()))\n",
                "    MAX = sum(costs)\n",
                "    dp = [0] * (MAX + 1)\n",
                "\n",
                "    for c, m in zip(costs, memories):\n",
                "        for j in range(MAX, c - 1, -1):\n",
                "            dp[j] = max(dp[j - c] + m, dp[j])\n",
                "\n",
                "    print(next(i for i, d in enumerate(dp) if d >= M))\n",
                "\n",
                "\n",
                "solution()"
            ]
        },
        {
            "cell_type": "markdown",
            "metadata": {},
            "source": [
                "![2024년 2월 7일 10시 기준 7579번 맞힌 사람 (PyPy3) 112ms로 1위](<../../img/Screenshot 2024-02-07 at 10-41-54 7579번 맞힌 사람 (PyPy3) - 1 페이지.png>)\n"
            ]
        },
        {
            "cell_type": "markdown",
            "metadata": {},
            "source": [
                "### 다섯번째 시도\n",
                "\n",
                "기존의 풀이를 함수형과 반복자 위주로 바꿔보았다. 좋은 효율을 보이지는 않았지만 이런 방식으로도 풀 수 있음을 보여주고 싶었다.\n"
            ]
        },
        {
            "cell_type": "markdown",
            "metadata": {},
            "source": [
                "#### 풀이과정\n"
            ]
        },
        {
            "cell_type": "code",
            "execution_count": null,
            "metadata": {},
            "outputs": [],
            "source": [
                "from itertools import takewhile, dropwhile\n",
                "from functools import reduce\n",
                "\n",
                "add = lambda a: lambda b: a + b\n",
                "lt = lambda M: lambda x: x < M\n",
                "mapper = lambda update: lambda dp, mc: update(dp, *mc)\n",
                "parse_int = lambda input: lambda: map(int, input().split())\n",
                "list_lt = lambda M: lambda it: list(takewhile(lt(M), it))\n",
                "next_nth = lambda n: lambda it: next(dropwhile(lt((n,)), enumerate(it)))[1]\n",
                "zeros = lambda n: [0] * n\n",
                "\n",
                "\n",
                "def solution():\n",
                "    import sys\n",
                "\n",
                "    input = parse_int(sys.stdin.readline)\n",
                "    lt_M = list_lt(next_nth(1)(input()))\n",
                "    update = lambda dp, m, c: add(dp[:c])(lt_M(map(max, map(add(m), dp), dp[c:])))\n",
                "    print(len(list(reduce(mapper(update), zip(input(), input()), zeros(10001)))))\n",
                "\n",
                "\n",
                "solution()"
            ]
        },
        {
            "cell_type": "markdown",
            "metadata": {},
            "source": [
                "### 여섯번째 시도\n",
                "\n",
                "[lambda님의 풀이](https://www.acmicpc.net/source/38360098)를 개선시켰더니 더 좋은 효율의 코드가 나와서 Python3 에서도 1위를 기록했다. Python 전체 순위는 랭크가 꼬였는지 오히려 더 느린 코드가 상위권으로 올라와 있었다.\n",
                "\n",
                "Python에서는 변수 할당이 느리기 때문에 이를 최소화했다. 또 비용과 메모리를 정렬할 때 굳이 메모리까지 정렬할 필요가 없기 때문에 비용만 정렬했다. 마지막으로 메모리가 목표보다 커지면 더 이상 계산할 필요가 없기 때문에 생략해버렸다. 이를 통해 더 좋은 효율을 얻을 수 있었다.\n"
            ]
        },
        {
            "cell_type": "markdown",
            "metadata": {},
            "source": [
                "#### 풀이과정\n"
            ]
        },
        {
            "cell_type": "code",
            "execution_count": null,
            "metadata": {},
            "outputs": [],
            "source": [
                "# refer https://www.acmicpc.net/source/38360098\n",
                "\n",
                "def solution():\n",
                "    import sys\n",
                "\n",
                "    input = sys.stdin.buffer.readline\n",
                "    _, M = map(int, input().split())\n",
                "    dp = {0: 0}\n",
                "    for m, c in sorted(zip(map(int, input().split()), map(int, input().split())), reverse=True, key=lambda x: x[0]):\n",
                "        dp.update({ccc: mmm for cc, mm in dp.items() if mm < M and dp.get((ccc := cc + c), 0) < (mmm := mm + m)})\n",
                "    print(min((cc for cc, mm in dp.items() if mm >= M)))\n",
                "\n",
                "\n",
                "solution()"
            ]
        },
        {
            "cell_type": "markdown",
            "metadata": {},
            "source": [
                "![2024년 2월 12일 5시 기준 7579번 맞힌 사람 (Python3) 64ms로 1위](<../../img/Screenshot 2024-02-12 at 05-23-44 7579번 맞힌 사람 (Python 3) - 1 페이지.png>)\n"
            ]
        },
        {
            "cell_type": "markdown",
            "metadata": {},
            "source": [
                "## 해답\n"
            ]
        },
        {
            "cell_type": "code",
            "execution_count": 1,
            "metadata": {},
            "outputs": [],
            "source": [
                "def solution():\n",
                "    import sys\n",
                "\n",
                "    input = sys.stdin.readline\n",
                "    _, M = map(int, input().split())\n",
                "    dp = {0: 0}\n",
                "    for m, c in sorted(zip(map(int, input().split()), map(int, input().split())), reverse=True):\n",
                "        dp.update({ccc: mmm for cc, mm in dp.items() if mm < M and dp.get((ccc := cc + c), 0) < (mmm := mm + m)})\n",
                "    print(min((cc for cc, mm in dp.items() if mm >= M)))"
            ]
        },
        {
            "cell_type": "markdown",
            "metadata": {},
            "source": [
                "## 예제\n"
            ]
        },
        {
            "cell_type": "code",
            "execution_count": 2,
            "metadata": {},
            "outputs": [],
            "source": [
                "# 백준 문제 풀이용 예제 실행 코드\n",
                "from bwj import test\n",
                "\n",
                "test_solution = test(solution)\n",
                "\n",
                "# test_solution(\"\"\"\"\"\")\n",
                "# test_solution(read(\"fn\").read())"
            ]
        },
        {
            "cell_type": "code",
            "execution_count": 3,
            "metadata": {},
            "outputs": [
                {
                    "name": "stdout",
                    "output_type": "stream",
                    "text": [
                        "3\n"
                    ]
                }
            ],
            "source": [
                "test_solution(  # 3\n",
                "    \"\"\"3 50\n",
                "10 40 30\n",
                "0 3 2\n",
                "\"\"\"\n",
                ")"
            ]
        },
        {
            "cell_type": "code",
            "execution_count": 4,
            "metadata": {},
            "outputs": [
                {
                    "name": "stdout",
                    "output_type": "stream",
                    "text": [
                        "0\n"
                    ]
                }
            ],
            "source": [
                "test_solution(  # 0\n",
                "    \"\"\"5 60\n",
                "30 10 20 35 40\n",
                "0 1 0 0 0\n",
                "\"\"\"\n",
                ")"
            ]
        },
        {
            "cell_type": "code",
            "execution_count": 5,
            "metadata": {},
            "outputs": [
                {
                    "name": "stdout",
                    "output_type": "stream",
                    "text": [
                        "1\n"
                    ]
                }
            ],
            "source": [
                "test_solution(  # 1\n",
                "    \"\"\"5 60\n",
                "20 30 10 20 30\n",
                "0 0 1 2 3\n",
                "\"\"\"\n",
                ")"
            ]
        },
        {
            "cell_type": "code",
            "execution_count": 6,
            "metadata": {},
            "outputs": [
                {
                    "name": "stdout",
                    "output_type": "stream",
                    "text": [
                        "6\n"
                    ]
                }
            ],
            "source": [
                "test_solution(  # 6\n",
                "    \"\"\"5 60\n",
                "30 10 20 35 40\n",
                "3 0 3 5 4\n",
                "\"\"\"\n",
                ")"
            ]
        }
    ],
    "metadata": {
        "interpreter": {
            "hash": "73891b0dc2e53390f36276e59930dd4ecab91b05b5c90320c2d5b1c443f87069"
        },
        "kernelspec": {
            "display_name": "Python 3.10.1 ('venv': venv)",
            "language": "python",
            "name": "python3"
        },
        "language_info": {
            "codemirror_mode": {
                "name": "ipython",
                "version": 3
            },
            "file_extension": ".py",
            "mimetype": "text/x-python",
            "name": "python",
            "nbconvert_exporter": "python",
            "pygments_lexer": "ipython3",
            "version": "3.12.1"
        },
        "orig_nbformat": 4
    },
    "nbformat": 4,
    "nbformat_minor": 2
}
