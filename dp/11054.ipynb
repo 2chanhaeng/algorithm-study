{
    "cells": [
        {
            "cell_type": "markdown",
            "metadata": {},
            "source": [
                "# [백준/가장 긴 바이토닉 부분 수열](https://www.acmicpc.net/problem/11054)"
            ]
        },
        {
            "cell_type": "markdown",
            "metadata": {},
            "source": [
                "## 풀이과정"
            ]
        },
        {
            "cell_type": "markdown",
            "metadata": {},
            "source": [
                "### 첫번째 시도"
            ]
        },
        {
            "cell_type": "markdown",
            "metadata": {},
            "source": [
                "#### 풀이과정\n",
                "원래 순서와 역순의 인덱스별 증가수열의 최댓값을 구하고 두 값을 합한 뒤 중복되는 자기 자신을 하나 제외하여 출력하였습니다."
            ]
        },
        {
            "cell_type": "code",
            "execution_count": null,
            "metadata": {},
            "outputs": [],
            "source": [
                "def bitonic(n, array):\n",
                "    dp = [0] * n\n",
                "    # 기본 값은 0인 dp 값을 저장할 리스트\n",
                "    dp[0] = 1\n",
                "    # 맨 처음값은 자기 자신 뿐이므로 1\n",
                "\n",
                "    def inner(pos):\n",
                "        if dp[pos] == 0:\n",
                "            # dp가 계산된 적이 없다면 dp를 계산\n",
                "            dp[pos] = 1 + max( # 자기 자신은 항상 포함되므로 기본 값인 1 추가\n",
                "                (inner(p) for p, a in enumerate(array[:pos]) if a < array[pos]), default=0\n",
                "            ) # 기존 배열에서 더 작은 값의 dp 값 불러와 그 중 최댓값 구하기 (더 작은 값이 없다면 0)\n",
                "        return dp[pos]\n",
                "        # dp 값 반환\n",
                "\n",
                "    for i in range(n):\n",
                "        # 배열 원소별로 dp 계산\n",
                "        inner(i)\n",
                "\n",
                "    return dp\n",
                "    # dp 배열 반환\n",
                "\n",
                "\n",
                "def solution():\n",
                "    import sys\n",
                "\n",
                "    n, *array = map(int, sys.stdin.read().split())\n",
                "    # 배열 길이와 배열 입력 받음\n",
                "    print(\n",
                "        max(sum(i) for i in zip(bitonic(n, array), bitonic(n, array[::-1])[::-1])) - 1\n",
                "    ) # 정순서와 역순서의 증가수열의 값을 구한 뒤 자기 자신이 중복 되므로 1 감산 후 출력\n",
                "\n",
                "\n",
                "solution()"
            ]
        },
        {
            "cell_type": "markdown",
            "metadata": {},
            "source": [
                "### 두번째 시도"
            ]
        },
        {
            "cell_type": "markdown",
            "metadata": {},
            "source": [
                "#### 풀이과정\n",
                "첫번째 풀이의 가독성을 개선하였습니다. 덕분에 시간 효율성도 약간이나마 증가했습니다."
            ]
        },
        {
            "cell_type": "code",
            "execution_count": 12,
            "metadata": {},
            "outputs": [],
            "source": [
                "def bitonic(n, array):\n",
                "    def inc(array):\n",
                "        dp = [0] * n\n",
                "        # 기본 값은 0인 dp 값을 저장할 리스트\n",
                "        dp[0] = 1\n",
                "        # 맨 처음값은 자기 자신 뿐이므로 1\n",
                "        incs = lambda pos: (\n",
                "            inner(p) for p, a in enumerate(array[:pos]) if a < array[pos]\n",
                "        ) # pos 까지의 증가 수열의 길이의 구하는 함수\n",
                "\n",
                "        def inner(pos):\n",
                "            if dp[pos] == 0:\n",
                "                # dp가 계산된 적이 없다면 dp를 계산\n",
                "                dp[pos] = 1 + max(incs(pos), default=0)\n",
                "                # pos까지의 증가 수열 길이 중 최댓값을 구한 뒤 pos 원소 1을 더하기\n",
                "            return dp[pos]\n",
                "            # dp 배열 반환\n",
                "\n",
                "        for i in range(n):\n",
                "            # 배열 원소별로 dp 계산\n",
                "            inner(i)\n",
                "\n",
                "        return dp\n",
                "        # dp 배열 반환\n",
                "\n",
                "    return zip(inc(array), reversed(inc(array[::-1])))\n",
                "    # 정순서와 역순서의 증가수열의 최댓값이 담긴 리스트를 zip으로 묶어 반환\n",
                "\n",
                "\n",
                "def solution():\n",
                "    import sys\n",
                "\n",
                "    n, *array = map(int, sys.stdin.read().split())\n",
                "    # 배열 길이와 배열 입력 받음\n",
                "    print(max(sum(i) for i in bitonic(n, array)) - 1)\n",
                "    # 합의 최댓값을 구한 뒤 자기 자신이 중복 되므로 1 감산 후 출력\n",
                "\n",
                "\n",
                "solution()"
            ]
        },
        {
            "cell_type": "markdown",
            "metadata": {},
            "source": [
                "## 해답"
            ]
        },
        {
            "cell_type": "code",
            "execution_count": 8,
            "metadata": {},
            "outputs": [],
            "source": [
                "def bitonic(n, array):\n",
                "    def inc(array):\n",
                "        dp = [0] * n\n",
                "        dp[0] = 1\n",
                "        incs = lambda pos: (inner(p) for p, a in enumerate(array[:pos]) if a < array[pos])\n",
                "\n",
                "        def inner(pos):\n",
                "            if dp[pos] == 0:\n",
                "                dp[pos] = 1 + max(incs(pos), default=0)\n",
                "            return dp[pos]\n",
                "\n",
                "        for i in range(n):\n",
                "            inner(i)\n",
                "\n",
                "        return dp\n",
                "    \n",
                "    return zip(inc(array), reversed(inc(array[::-1])))\n",
                "    "
            ]
        },
        {
            "cell_type": "code",
            "execution_count": 9,
            "metadata": {},
            "outputs": [],
            "source": [
                "def solution():\n",
                "    import sys\n",
                "\n",
                "    n, *array = map(int, sys.stdin.read().split())\n",
                "    # 배열 길이와 배열 입력\n",
                "    print(max(sum(i) for i in bitonic(n, array)) - 1)\n",
                "    # 원소 별 증가수열과 감소수열의 합을 구한 뒤 자기 자신이 중복 되므로 1 감산 후 출력"
            ]
        },
        {
            "cell_type": "markdown",
            "metadata": {},
            "source": [
                "## 예제"
            ]
        },
        {
            "cell_type": "code",
            "execution_count": 10,
            "metadata": {},
            "outputs": [
                {
                    "name": "stdout",
                    "output_type": "stream",
                    "text": [
                        "The blackcellmagic extension is already loaded. To reload it, use:\n",
                        "  %reload_ext blackcellmagic\n"
                    ]
                }
            ],
            "source": [
                "# black 모듈을 jupyter notebook 내에서 사용 가능하게 만들어주는 blackcellmagic 모듈 불러오기\n",
                "%load_ext blackcellmagic\n",
                "# %%black\n",
                "\n",
                "# 백준 문제 풀이용 예제 실행 코드\n",
                "from bwj import test\n",
                "test_solution = test(solution)\n",
                "\n",
                "# test_solution(\"\"\"\"\"\")\n",
                "# test_solution(read(\"fn\").read())"
            ]
        },
        {
            "cell_type": "code",
            "execution_count": 11,
            "metadata": {},
            "outputs": [
                {
                    "name": "stdout",
                    "output_type": "stream",
                    "text": [
                        "7\n"
                    ]
                }
            ],
            "source": [
                "test_solution(\"\"\"10\n",
                "1 5 2 1 4 3 4 5 2 1\n",
                "\"\"\") # 7"
            ]
        }
    ],
    "metadata": {
        "kernelspec": {
            "display_name": "Python 3.10.7 64-bit",
            "language": "python",
            "name": "python3"
        },
        "language_info": {
            "codemirror_mode": {
                "name": "ipython",
                "version": 3
            },
            "file_extension": ".py",
            "mimetype": "text/x-python",
            "name": "python",
            "nbconvert_exporter": "python",
            "pygments_lexer": "ipython3",
            "version": "3.10.7"
        },
        "orig_nbformat": 4,
        "vscode": {
            "interpreter": {
                "hash": "26de051ba29f2982a8de78e945f0abaf191376122a1563185a90213a26c5da77"
            }
        }
    },
    "nbformat": 4,
    "nbformat_minor": 2
}
