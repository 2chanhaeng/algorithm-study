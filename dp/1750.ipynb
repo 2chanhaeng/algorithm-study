{
    "cells": [
        {
            "cell_type": "markdown",
            "metadata": {},
            "source": [
                "# [백준/서로소의 개수](https://www.acmicpc.net/problem/1750)\n"
            ]
        },
        {
            "cell_type": "markdown",
            "metadata": {},
            "source": [
                "## 풀이과정\n"
            ]
        },
        {
            "cell_type": "markdown",
            "metadata": {},
            "source": [
                "### 첫번째 시도\n"
            ]
        },
        {
            "cell_type": "markdown",
            "metadata": {},
            "source": [
                "#### 풀이과정\n"
            ]
        },
        {
            "cell_type": "code",
            "execution_count": null,
            "metadata": {},
            "outputs": [],
            "source": [
                "def solution():\n",
                "    import sys\n",
                "    from math import gcd\n",
                "    from collections import Counter\n",
                "\n",
                "    _, *nums = map(int, sys.stdin.read().split())\n",
                "    dp = Counter()\n",
                "    news = Counter()\n",
                "    for i in nums:\n",
                "        dp[i] += 1\n",
                "        for j, v in dp.items():\n",
                "            news[gcd(i, j)] += v\n",
                "        dp += news\n",
                "        news.clear()\n",
                "    print(dp[1] // 2 % 10_000_003)\n",
                "\n",
                "\n",
                "solution()"
            ]
        },
        {
            "cell_type": "markdown",
            "metadata": {},
            "source": [
                "#### 한 줄 풀이\n"
            ]
        },
        {
            "cell_type": "code",
            "execution_count": null,
            "metadata": {},
            "outputs": [],
            "source": [
                "# fmt: off\n",
                "(lambda c,G,n:(lambda d:(lambda A:[[[A(G(i,j),v) for j,v in list(d.items())+[[i,1]]]for i in map(int,n)],print(d[1]%10000003)])(lambda g,v:d.__setitem__(g,d.__getitem__(g)+v)))(c()))(__import__('collections').Counter,__import__('math').gcd,open(0).read().split()[1:])"
            ]
        },
        {
            "cell_type": "markdown",
            "metadata": {},
            "source": [
                "![2023년 11월 27일 21시 기준 1750번 맞힌 사람 (Python) 68ms로 1위](<../img/Screenshot%202023-11-27%20at%2021-53-52%201750번%20맞힌%20사람%20(Python)%20-%201%20페이지.png>)\n"
            ]
        },
        {
            "cell_type": "markdown",
            "metadata": {},
            "source": [
                "## 해답\n"
            ]
        },
        {
            "cell_type": "code",
            "execution_count": 1,
            "metadata": {},
            "outputs": [],
            "source": [
                "def solution():\n",
                "    import sys\n",
                "    from math import gcd\n",
                "    from collections import Counter\n",
                "\n",
                "    _, *nums = map(int, sys.stdin.read().split())\n",
                "    dp = Counter()\n",
                "    news = Counter()\n",
                "    for i in nums:\n",
                "        dp[i] += 1\n",
                "        for j, v in dp.items():\n",
                "            news[gcd(i, j)] += v\n",
                "        dp += news\n",
                "        news.clear()\n",
                "    print(dp[1] // 2 % 10_000_003)"
            ]
        },
        {
            "cell_type": "markdown",
            "metadata": {},
            "source": [
                "## 예제\n"
            ]
        },
        {
            "cell_type": "code",
            "execution_count": 2,
            "metadata": {},
            "outputs": [],
            "source": [
                "# 백준 문제 풀이용 예제 실행 코드\n",
                "from bwj import test\n",
                "\n",
                "test_solution = test(solution)\n",
                "\n",
                "# test_solution(\"\"\"\"\"\")\n",
                "# test_solution(read(\"fn\").read())"
            ]
        },
        {
            "cell_type": "code",
            "execution_count": 3,
            "metadata": {},
            "outputs": [
                {
                    "name": "stdout",
                    "output_type": "stream",
                    "text": [
                        "3\n"
                    ]
                }
            ],
            "source": [
                "test_solution(\n",
                "    \"\"\"3\n",
                "2\n",
                "4\n",
                "3\n",
                "\"\"\"\n",
                ")  # 3"
            ]
        },
        {
            "cell_type": "code",
            "execution_count": 4,
            "metadata": {},
            "outputs": [
                {
                    "name": "stdout",
                    "output_type": "stream",
                    "text": [
                        "1\n"
                    ]
                }
            ],
            "source": [
                "test_solution(\n",
                "    \"\"\"1\n",
                "1\n",
                "\"\"\"\n",
                ")  # 1"
            ]
        },
        {
            "cell_type": "code",
            "execution_count": 5,
            "metadata": {},
            "outputs": [
                {
                    "name": "stdout",
                    "output_type": "stream",
                    "text": [
                        "3\n"
                    ]
                }
            ],
            "source": [
                "test_solution(\n",
                "    \"\"\"3\n",
                "2\n",
                "2\n",
                "3\n",
                "\"\"\"\n",
                ")  # 3"
            ]
        },
        {
            "cell_type": "code",
            "execution_count": 6,
            "metadata": {},
            "outputs": [
                {
                    "name": "stdout",
                    "output_type": "stream",
                    "text": [
                        "0\n"
                    ]
                }
            ],
            "source": [
                "test_solution(\n",
                "    \"\"\"4\n",
                "2\n",
                "2\n",
                "2\n",
                "4\n",
                "\"\"\"\n",
                ")  # 0"
            ]
        },
        {
            "cell_type": "code",
            "execution_count": 7,
            "metadata": {},
            "outputs": [
                {
                    "name": "stdout",
                    "output_type": "stream",
                    "text": [
                        "2\n"
                    ]
                }
            ],
            "source": [
                "test_solution(\n",
                "    \"\"\"3\n",
                "2\n",
                "6\n",
                "15\n",
                "\"\"\"\n",
                ")  # 2"
            ]
        },
        {
            "cell_type": "code",
            "execution_count": 8,
            "metadata": {},
            "outputs": [
                {
                    "name": "stdout",
                    "output_type": "stream",
                    "text": [
                        "45\n"
                    ]
                }
            ],
            "source": [
                "test_solution(\n",
                "    \"\"\"6\n",
                "2\n",
                "5\n",
                "98872\n",
                "23298\n",
                "32872\n",
                "23111\n",
                "\"\"\"\n",
                ")  # 45"
            ]
        }
    ],
    "metadata": {
        "interpreter": {
            "hash": "73891b0dc2e53390f36276e59930dd4ecab91b05b5c90320c2d5b1c443f87069"
        },
        "kernelspec": {
            "display_name": "Python 3.10.1 ('venv': venv)",
            "language": "python",
            "name": "python3"
        },
        "language_info": {
            "codemirror_mode": {
                "name": "ipython",
                "version": 3
            },
            "file_extension": ".py",
            "mimetype": "text/x-python",
            "name": "python",
            "nbconvert_exporter": "python",
            "pygments_lexer": "ipython3",
            "version": "3.12.0"
        },
        "orig_nbformat": 4
    },
    "nbformat": 4,
    "nbformat_minor": 2
}
