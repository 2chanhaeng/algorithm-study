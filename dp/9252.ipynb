{
    "cells": [
        {
            "cell_type": "markdown",
            "metadata": {},
            "source": [
                "# [백준/LCS 2](https://www.acmicpc.net/problem/9252)\n"
            ]
        },
        {
            "cell_type": "markdown",
            "metadata": {},
            "source": [
                "## 풀이과정\n"
            ]
        },
        {
            "cell_type": "markdown",
            "metadata": {},
            "source": [
                "### 첫번째 시도\n"
            ]
        },
        {
            "cell_type": "markdown",
            "metadata": {},
            "source": [
                "#### 풀이과정\n"
            ]
        },
        {
            "cell_type": "code",
            "execution_count": null,
            "metadata": {},
            "outputs": [],
            "source": [
                "def solution():\n",
                "    import sys\n",
                "\n",
                "    a, b = sys.stdin.read().rstrip().split()\n",
                "    dp = [[\"\"] * (len(a) + 1) for _ in range(len(b) + 1)]\n",
                "    for y, d in enumerate(b, 1):\n",
                "        for x, c in enumerate(a, 1):\n",
                "            if d == c:\n",
                "                dp[y][x] = dp[y - 1][x - 1] + c\n",
                "            else:\n",
                "                dp[y][x] = max(dp[y - 1][x], dp[y][x - 1], key=len)\n",
                "    print(f\"{len(dp[-1][-1])}\\n{dp[-1][-1]}\")\n",
                "\n",
                "\n",
                "solution()"
            ]
        },
        {
            "cell_type": "markdown",
            "metadata": {},
            "source": [
                "## 해답\n"
            ]
        },
        {
            "cell_type": "code",
            "execution_count": 10,
            "metadata": {},
            "outputs": [],
            "source": [
                "def solution():\n",
                "    import sys\n",
                "\n",
                "    a, b = sys.stdin.read().rstrip().split()\n",
                "    dp = [[\"\"] * (len(a) + 1) for _ in range(len(b) + 1)]\n",
                "    for y, d in enumerate(b, 1):\n",
                "        for x, c in enumerate(a, 1):\n",
                "            if d == c:\n",
                "                dp[y][x] = dp[y - 1][x - 1] + c\n",
                "            else:\n",
                "                dp[y][x] = max(dp[y - 1][x], dp[y][x - 1], key=len)\n",
                "    print(f\"{len(dp[-1][-1])}\\n{dp[-1][-1]}\")"
            ]
        },
        {
            "cell_type": "markdown",
            "metadata": {},
            "source": [
                "## 예제\n"
            ]
        },
        {
            "cell_type": "code",
            "execution_count": 8,
            "metadata": {},
            "outputs": [
                {
                    "name": "stdout",
                    "output_type": "stream",
                    "text": [
                        "The blackcellmagic extension is already loaded. To reload it, use:\n",
                        "  %reload_ext blackcellmagic\n"
                    ]
                }
            ],
            "source": [
                "# black 모듈을 jupyter notebook 내에서 사용 가능하게 만들어주는 blackcellmagic 모듈 불러오기\n",
                "%load_ext blackcellmagic\n",
                "# %%black\n",
                "\n",
                "# 백준 문제 풀이용 예제 실행 코드\n",
                "from bwj import test\n",
                "test_solution = test(solution)\n",
                "\n",
                "# test_solution(\"\"\"\"\"\")\n",
                "# test_solution(read(\"fn\").read())"
            ]
        },
        {
            "cell_type": "code",
            "execution_count": 9,
            "metadata": {},
            "outputs": [
                {
                    "name": "stdout",
                    "output_type": "stream",
                    "text": [
                        "4\n",
                        "ACAK\n"
                    ]
                }
            ],
            "source": [
                "test_solution(\"\"\"ACAYKP\n",
                "CAPCAK\n",
                "\"\"\")\n",
                "# answer:\n",
                "# 4\n",
                "# ACAK"
            ]
        }
    ],
    "metadata": {
        "interpreter": {
            "hash": "73891b0dc2e53390f36276e59930dd4ecab91b05b5c90320c2d5b1c443f87069"
        },
        "kernelspec": {
            "display_name": "Python 3.10.1 ('venv': venv)",
            "language": "python",
            "name": "python3"
        },
        "language_info": {
            "codemirror_mode": {
                "name": "ipython",
                "version": 3
            },
            "file_extension": ".py",
            "mimetype": "text/x-python",
            "name": "python",
            "nbconvert_exporter": "python",
            "pygments_lexer": "ipython3",
            "version": "3.11.3"
        },
        "orig_nbformat": 4
    },
    "nbformat": 4,
    "nbformat_minor": 2
}
