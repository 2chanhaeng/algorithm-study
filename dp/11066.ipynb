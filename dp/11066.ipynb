{
    "cells": [
        {
            "cell_type": "markdown",
            "metadata": {},
            "source": [
                "# [백준/파일 합치기](https://www.acmicpc.net/problem/11066)"
            ]
        },
        {
            "cell_type": "markdown",
            "metadata": {},
            "source": [
                "## 풀이과정"
            ]
        },
        {
            "cell_type": "markdown",
            "metadata": {},
            "source": [
                "### 첫번째 시도"
            ]
        },
        {
            "attachments": {},
            "cell_type": "markdown",
            "metadata": {},
            "source": [
                "#### 풀이과정\n",
                "dp를 이용하는 문제길래 `functools.cache`를 이용해서 풀어보려고 했다.  \n",
                "그러나 효율성이 떨어지는지 시간초과가 났다."
            ]
        },
        {
            "cell_type": "code",
            "execution_count": null,
            "metadata": {},
            "outputs": [],
            "source": [
                "import sys\n",
                "import itertools\n",
                "import functools\n",
                "\n",
                "sys.setrecursionlimit(10 ** 6)\n",
                "\n",
                "\n",
                "def solve(n, iterator):\n",
                "    sums = list(itertools.accumulate(iterator, initial=0))\n",
                "\n",
                "    @functools.cache\n",
                "    def dp(i, j):\n",
                "        return (\n",
                "            min((dp(i, k) + dp(k + 1, j) for k in range(i, j)), default=0)\n",
                "            + sums[j + 1]\n",
                "            - sums[i]\n",
                "        )\n",
                "\n",
                "    return dp(0, n - 1) - sums[-1]\n",
                "\n",
                "\n",
                "def solution():\n",
                "    input = sys.stdin.readline\n",
                "    for _ in range(int(input())):\n",
                "        print(solve(int(input()), map(int, input().split())))\n",
                "\n",
                "\n",
                "solution()"
            ]
        },
        {
            "attachments": {},
            "cell_type": "markdown",
            "metadata": {},
            "source": [
                "### 두번째 시도"
            ]
        },
        {
            "attachments": {},
            "cell_type": "markdown",
            "metadata": {},
            "source": [
                "#### 풀이과정\n"
            ]
        },
        {
            "cell_type": "code",
            "execution_count": null,
            "metadata": {},
            "outputs": [],
            "source": [
                "import sys\n",
                "import itertools\n",
                "\n",
                "\n",
                "def solution():\n",
                "    input = sys.stdin.readline\n",
                "    for _ in range(int(input())):\n",
                "        solve(int(input()), map(int, input().split()))\n",
                "\n",
                "\n",
                "def solve(n, nums):\n",
                "    sums = list(itertools.accumulate(nums, initial=0))\n",
                "    dp = [[0] * n for _ in range(n)]\n",
                "    for i in range(1, n):\n",
                "        for j in range(0, n - i):\n",
                "            ij = i + j\n",
                "            dp[j][ij] = (\n",
                "                min(dp[j][k] + dp[k + 1][ij] for k in range(j, ij))\n",
                "                + sums[ij + 1]\n",
                "                - sums[j]\n",
                "            )\n",
                "    print(dp[0][-1])\n",
                "\n",
                "\n",
                "solution()"
            ]
        },
        {
            "cell_type": "markdown",
            "metadata": {},
            "source": [
                "## 해답"
            ]
        },
        {
            "cell_type": "code",
            "execution_count": 1,
            "metadata": {},
            "outputs": [],
            "source": [
                "import sys\n",
                "import itertools"
            ]
        },
        {
            "cell_type": "code",
            "execution_count": 2,
            "metadata": {},
            "outputs": [],
            "source": [
                "def solve(n, nums):\n",
                "    sums = list(itertools.accumulate(nums, initial=0))\n",
                "    dp = [[0] * n for _ in range(n)]\n",
                "    for i in range(1, n):\n",
                "        for j in range(0, n - i):\n",
                "            ij = i + j\n",
                "            dp[j][ij] = (\n",
                "                min(dp[j][k] + dp[k + 1][ij] for k in range(j, ij))\n",
                "                + sums[ij + 1]\n",
                "                - sums[j]\n",
                "            )\n",
                "    print(dp[0][-1])"
            ]
        },
        {
            "cell_type": "code",
            "execution_count": 3,
            "metadata": {},
            "outputs": [],
            "source": [
                "def solution():\n",
                "    input = sys.stdin.readline\n",
                "    for _ in range(int(input())):\n",
                "        solve(int(input()), map(int, input().split()))"
            ]
        },
        {
            "cell_type": "markdown",
            "metadata": {},
            "source": [
                "## 예제"
            ]
        },
        {
            "cell_type": "code",
            "execution_count": 4,
            "metadata": {},
            "outputs": [],
            "source": [
                "# black 모듈을 jupyter notebook 내에서 사용 가능하게 만들어주는 blackcellmagic 모듈 불러오기\n",
                "%load_ext blackcellmagic\n",
                "# %%black\n",
                "\n",
                "# 백준 문제 풀이용 예제 실행 코드\n",
                "from bwj import test\n",
                "test_solution = test(solution)\n",
                "\n",
                "# test_solution(\"\"\"\"\"\")\n",
                "# test_solution(read(\"fn\").read())"
            ]
        },
        {
            "cell_type": "code",
            "execution_count": 5,
            "metadata": {},
            "outputs": [
                {
                    "name": "stdout",
                    "output_type": "stream",
                    "text": [
                        "300\n",
                        "864\n"
                    ]
                }
            ],
            "source": [
                "test_solution(\"\"\"2\n",
                "4\n",
                "40 30 30 50\n",
                "15\n",
                "1 21 3 4 5 35 5 4 3 5 98 21 14 17 32\n",
                "\"\"\")\n",
                "# answer:\n",
                "# 300\n",
                "# 864"
            ]
        }
    ],
    "metadata": {
        "kernelspec": {
            "display_name": "venv",
            "language": "python",
            "name": "python3"
        },
        "language_info": {
            "codemirror_mode": {
                "name": "ipython",
                "version": 3
            },
            "file_extension": ".py",
            "mimetype": "text/x-python",
            "name": "python",
            "nbconvert_exporter": "python",
            "pygments_lexer": "ipython3",
            "version": "3.11.1"
        },
        "orig_nbformat": 4,
        "vscode": {
            "interpreter": {
                "hash": "72904a014a9ffe38f4c58942120b599b3c5a87d06764037548e0139929c1cde3"
            }
        }
    },
    "nbformat": 4,
    "nbformat_minor": 2
}
