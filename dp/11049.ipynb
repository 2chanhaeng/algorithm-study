{
 "cells": [
  {
   "cell_type": "markdown",
   "metadata": {},
   "source": [
    "# [백준/행렬 곱셈 순서](https://www.acmicpc.net/problem/11049)"
   ]
  },
  {
   "cell_type": "markdown",
   "metadata": {},
   "source": [
    "## 풀이과정"
   ]
  },
  {
   "cell_type": "markdown",
   "metadata": {},
   "source": [
    "### 첫번째 시도"
   ]
  },
  {
   "cell_type": "markdown",
   "metadata": {},
   "source": [
    "#### 풀이과정"
   ]
  },
  {
   "cell_type": "code",
   "execution_count": null,
   "metadata": {},
   "outputs": [],
   "source": [
    "def solution():\n",
    "    import sys\n",
    "\n",
    "    strN, *inputs, last = sys.stdin.read().splitlines()\n",
    "    N = int(strN)\n",
    "    a, b = map(int, last.split())\n",
    "    rcs = tuple(int(input.split()[0]) for input in inputs) + (a, b)\n",
    "    dp = [[0] * N for _ in range(N)]\n",
    "\n",
    "    for i in range(1, N):\n",
    "        for j in range(N - i):\n",
    "            s = j + i\n",
    "            m = rcs[j] * rcs[s + 1]\n",
    "            l = slice(j + 1, s + 1)\n",
    "            zipped = zip(rcs[l], dp[j][j:s], dp[s][l])\n",
    "            dp[j][s] = dp[s][j] = min(a + b + c * m for a, b, c in zipped)\n",
    "    print(dp[0][-1])\n",
    "\n",
    "\n",
    "solution()"
   ]
  },
  {
   "cell_type": "markdown",
   "metadata": {},
   "source": [
    "## 해답"
   ]
  },
  {
   "cell_type": "code",
   "execution_count": 60,
   "metadata": {},
   "outputs": [],
   "source": [
    "def solution():\n",
    "    import sys\n",
    "\n",
    "    strN, *inputs, last = sys.stdin.read().splitlines()\n",
    "    N = int(strN)\n",
    "    a, b = map(int, last.split())\n",
    "    rcs = tuple(int(input.split()[0]) for input in inputs) + (a, b)\n",
    "    dp = [[0] * N for _ in range(N)]\n",
    "\n",
    "    def func(s, j):\n",
    "        m = rcs[j] * rcs[s + 1]\n",
    "        l = slice(j + 1, s + 1)\n",
    "        zipped = zip(dp[j][j:s], dp[s][l], rcs[l])\n",
    "        return min(a + b + c * m for a, b, c in zipped)\n",
    "\n",
    "    for i in range(1, N):\n",
    "        for j in range(N - i):\n",
    "            s = j + i\n",
    "            dp[j][s] = dp[s][j] = func(s, j)\n",
    "    print(dp[0][-1])"
   ]
  },
  {
   "cell_type": "markdown",
   "metadata": {},
   "source": [
    "## 예제"
   ]
  },
  {
   "cell_type": "code",
   "execution_count": 61,
   "metadata": {},
   "outputs": [
    {
     "name": "stdout",
     "output_type": "stream",
     "text": [
      "The blackcellmagic extension is already loaded. To reload it, use:\n",
      "  %reload_ext blackcellmagic\n"
     ]
    }
   ],
   "source": [
    "# black 모듈을 jupyter notebook 내에서 사용 가능하게 만들어주는 blackcellmagic 모듈 불러오기\n",
    "%load_ext blackcellmagic\n",
    "# %%black\n",
    "\n",
    "# 백준 문제 풀이용 예제 실행 코드\n",
    "from bwj import test\n",
    "\n",
    "test_solution = test(solution)\n",
    "\n",
    "# test_solution(\"\"\"\"\"\")\n",
    "# test_solution(read(\"fn\").read())"
   ]
  },
  {
   "cell_type": "code",
   "execution_count": 62,
   "metadata": {},
   "outputs": [
    {
     "name": "stdout",
     "output_type": "stream",
     "text": [
      "90\n"
     ]
    }
   ],
   "source": [
    "test_solution(\n",
    "    \"\"\"3\n",
    "5 3\n",
    "3 2\n",
    "2 6\n",
    "\"\"\"\n",
    ")  # 90"
   ]
  }
 ],
 "metadata": {
  "kernelspec": {
   "display_name": "Python 3.10.8 ('venv': venv)",
   "language": "python",
   "name": "python3"
  },
  "language_info": {
   "codemirror_mode": {
    "name": "ipython",
    "version": 3
   },
   "file_extension": ".py",
   "mimetype": "text/x-python",
   "name": "python",
   "nbconvert_exporter": "python",
   "pygments_lexer": "ipython3",
   "version": "3.10.8"
  },
  "orig_nbformat": 4,
  "vscode": {
   "interpreter": {
    "hash": "72904a014a9ffe38f4c58942120b599b3c5a87d06764037548e0139929c1cde3"
   }
  }
 },
 "nbformat": 4,
 "nbformat_minor": 2
}
