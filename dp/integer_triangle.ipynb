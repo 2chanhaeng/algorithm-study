{
 "cells": [
  {
   "cell_type": "markdown",
   "metadata": {},
   "source": [
    "# [프로그래머스/정수 삼각형](https://programmers.co.kr/learn/courses/30/lessons/43105)"
   ]
  },
  {
   "cell_type": "markdown",
   "metadata": {},
   "source": [
    "## 풀이과정"
   ]
  },
  {
   "cell_type": "markdown",
   "metadata": {},
   "source": [
    "### 첫번째 시도"
   ]
  },
  {
   "cell_type": "markdown",
   "metadata": {},
   "source": [
    "풀이과정"
   ]
  },
  {
   "cell_type": "code",
   "execution_count": null,
   "metadata": {},
   "outputs": [],
   "source": [
    "# 풀이 코드"
   ]
  },
  {
   "cell_type": "markdown",
   "metadata": {},
   "source": [
    "## 해답"
   ]
  },
  {
   "cell_type": "code",
   "execution_count": 1,
   "metadata": {},
   "outputs": [],
   "source": [
    "from functools import lru_cache"
   ]
  },
  {
   "cell_type": "code",
   "execution_count": 29,
   "metadata": {},
   "outputs": [],
   "source": [
    "def solution(triangle):\n",
    "    graph = {i: {k: l for k, l in enumerate(j)} for i, j in enumerate(triangle)}\n",
    "    last = len(graph) - 1\n",
    "\n",
    "    @lru_cache(maxsize=None)\n",
    "    def line_sum(row, col):\n",
    "        if row == 0:\n",
    "            return graph[0][0]\n",
    "        elif col == 0:\n",
    "            return line_sum(row - 1, 0) + graph[row][0]\n",
    "        elif row == col:\n",
    "            return line_sum(row - 1, col - 1) + graph[row][col]\n",
    "        else:\n",
    "            return (\n",
    "                max(line_sum(row - 1, col - 1), line_sum(row - 1, col))\n",
    "                + graph[row][col]\n",
    "            )\n",
    "\n",
    "    return max(*[line_sum(last, i) for i in range(last + 1)])"
   ]
  },
  {
   "cell_type": "markdown",
   "metadata": {},
   "source": [
    "## 테스트 결과"
   ]
  },
  {
   "cell_type": "markdown",
   "metadata": {},
   "source": [
    "|테스트|결과|\n",
    "|---:|:---|\n",
    "|정확성 테스트 1 〉|통과 (0.03ms, 10.1MB)|\n",
    "|정확성 테스트 2 〉|통과 (0.05ms, 10.3MB)|\n",
    "|정확성 테스트 3 〉|통과 (0.09ms, 10.2MB)|\n",
    "|정확성 테스트 4 〉|통과 (0.36ms, 10.2MB)|\n",
    "|정확성 테스트 5 〉|통과 (2.47ms, 10.7MB)|\n",
    "|정확성 테스트 6 〉|통과 (0.71ms, 10.4MB)|\n",
    "|정확성 테스트 7 〉|통과 (4.47ms, 10.8MB)|\n",
    "|정확성 테스트 8 〉|통과 (0.57ms, 10.3MB)|\n",
    "|정확성 테스트 9 〉|통과 (0.03ms, 9.96MB)|\n",
    "|정확성 테스트 10 〉|통과 (0.53ms, 10.2MB)|\n",
    "|효율성 테스트 1 〉|통과 (97.10ms, 36.3MB)|\n",
    "|효율성 테스트 2 〉|통과 (69.02ms, 28.3MB)|\n",
    "|효율성 테스트 3 〉|통과 (105.03ms, 38.8MB)|\n",
    "|효율성 테스트 4 〉|통과 (100.37ms, 36.5MB)|\n",
    "|효율성 테스트 5 〉|통과 (91.56ms, 35.8MB)|\n",
    "|효율성 테스트 6 〉|통과 (110.15ms, 39.9MB)|\n",
    "|효율성 테스트 7 〉|통과 (102.55ms, 37.5MB)|\n",
    "|효율성 테스트 8 〉|통과 (84.70ms, 35.3MB)|\n",
    "|효율성 테스트 9 〉|통과 (89.25ms, 35.8MB)|\n",
    "|효율성 테스트 10 〉|통과 (103.25ms, 38MB)|"
   ]
  },
  {
   "cell_type": "markdown",
   "metadata": {},
   "source": [
    "## 예제"
   ]
  },
  {
   "cell_type": "code",
   "execution_count": 31,
   "metadata": {},
   "outputs": [
    {
     "data": {
      "text/plain": [
       "30"
      ]
     },
     "execution_count": 31,
     "metadata": {},
     "output_type": "execute_result"
    }
   ],
   "source": [
    "solution([[7], [3, 8], [8, 1, 0], [2, 7, 4, 4], [4, 5, 2, 6, 5]])"
   ]
  }
 ],
 "metadata": {
  "interpreter": {
   "hash": "73891b0dc2e53390f36276e59930dd4ecab91b05b5c90320c2d5b1c443f87069"
  },
  "kernelspec": {
   "display_name": "Python 3.10.1 ('venv': venv)",
   "language": "python",
   "name": "python3"
  },
  "language_info": {
   "codemirror_mode": {
    "name": "ipython",
    "version": 3
   },
   "file_extension": ".py",
   "mimetype": "text/x-python",
   "name": "python",
   "nbconvert_exporter": "python",
   "pygments_lexer": "ipython3",
   "version": "3.10.1"
  },
  "orig_nbformat": 4
 },
 "nbformat": 4,
 "nbformat_minor": 2
}
