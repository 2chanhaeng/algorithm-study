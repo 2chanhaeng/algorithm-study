{
    "cells": [
        {
            "cell_type": "markdown",
            "metadata": {},
            "source": [
                "# [백준/Odd and Even Zeroes](https://www.acmicpc.net/problem/9594)\n"
            ]
        },
        {
            "cell_type": "markdown",
            "metadata": {},
            "source": [
                "## 풀이과정\n"
            ]
        },
        {
            "cell_type": "markdown",
            "metadata": {},
            "source": [
                "### 첫번째 시도\n"
            ]
        },
        {
            "cell_type": "markdown",
            "metadata": {},
            "source": [
                "#### 풀이과정\n"
            ]
        },
        {
            "cell_type": "code",
            "execution_count": null,
            "metadata": {},
            "outputs": [],
            "source": [
                "\n",
                "\n",
                "\n",
                "# solution()"
            ]
        },
        {
            "cell_type": "markdown",
            "metadata": {},
            "source": [
                "## 해답\n"
            ]
        },
        {
            "cell_type": "code",
            "execution_count": 32,
            "metadata": {},
            "outputs": [
                {
                    "data": {
                        "text/plain": [
                            "1"
                        ]
                    },
                    "execution_count": 32,
                    "metadata": {},
                    "output_type": "execute_result"
                }
            ],
            "source": [
                "import math\n",
                "\n",
                "log5 = lambda x: int(math.log(x, 5))\n",
                "log5(10)"
            ]
        },
        {
            "cell_type": "code",
            "execution_count": 29,
            "metadata": {},
            "outputs": [
                {
                    "name": "stdout",
                    "output_type": "stream",
                    "text": [
                        "0 0\n",
                        "0 1\n",
                        "0 2\n",
                        "0 3\n",
                        "0 4\n",
                        "1 0\n",
                        "1 1\n",
                        "1 2\n",
                        "1 3\n",
                        "1 4\n",
                        "2 0\n"
                    ]
                }
            ],
            "source": [
                "for i in range(11):\n",
                "    d, m = divmod(i, 5)\n",
                "    print(d, m)"
            ]
        },
        {
            "cell_type": "code",
            "execution_count": 23,
            "metadata": {},
            "outputs": [],
            "source": [
                "def solution():\n",
                "    import sys\n",
                "\n",
                "    for i in map(int, sys.stdin.read().split()[:-1]):\n",
                "        print(f\"==={i}===\")\n",
                "        i += 1\n",
                "        div, rem = divmod(i, 5)\n",
                "        print(rem, div, end='  ')\n",
                "        while div:\n",
                "            div, rem = divmod(div, 5)\n",
                "            print(rem, div, end='  ')\n",
                "        print()"
            ]
        },
        {
            "cell_type": "markdown",
            "metadata": {},
            "source": [
                "## 예제\n"
            ]
        },
        {
            "cell_type": "code",
            "execution_count": 24,
            "metadata": {},
            "outputs": [
                {
                    "name": "stdout",
                    "output_type": "stream",
                    "text": [
                        "The blackcellmagic extension is already loaded. To reload it, use:\n",
                        "  %reload_ext blackcellmagic\n"
                    ]
                }
            ],
            "source": [
                "# black 모듈을 jupyter notebook 내에서 사용 가능하게 만들어주는 blackcellmagic 모듈 불러오기\n",
                "%load_ext blackcellmagic\n",
                "# %%black\n",
                "\n",
                "# 백준 문제 풀이용 예제 실행 코드\n",
                "from bwj import test\n",
                "test_solution = test(solution)\n",
                "\n",
                "# test_solution(\"\"\"\"\"\")\n",
                "# test_solution(read(\"fn\").read())"
            ]
        },
        {
            "cell_type": "code",
            "execution_count": 25,
            "metadata": {},
            "outputs": [
                {
                    "name": "stdout",
                    "output_type": "stream",
                    "text": [
                        "===2===\n",
                        "3 0  \n",
                        "===3===\n",
                        "4 0  \n",
                        "===10===\n",
                        "1 2  2 0  \n",
                        "===100===\n",
                        "1 20  0 4  4 0  \n",
                        "===1000===\n",
                        "1 200  0 40  0 8  3 1  1 0  \n",
                        "===2000===\n",
                        "1 400  0 80  0 16  1 3  3 0  \n",
                        "===3000===\n",
                        "1 600  0 120  0 24  4 4  4 0  \n",
                        "===10000===\n",
                        "1 2000  0 400  0 80  0 16  1 3  3 0  \n",
                        "===100000===\n",
                        "1 20000  0 4000  0 800  0 160  0 32  2 6  1 1  1 0  \n",
                        "===200000===\n",
                        "1 40000  0 8000  0 1600  0 320  0 64  4 12  2 2  2 0  \n"
                    ]
                }
            ],
            "source": [
                "test_solution(\"\"\"2\n",
                "3\n",
                "10\n",
                "100\n",
                "1000\n",
                "2000\n",
                "3000\n",
                "10000\n",
                "100000\n",
                "200000\n",
                "-1\n",
                "\"\"\")\n",
                "# answer:\n",
                "# 3\n",
                "# 4\n",
                "# 6\n",
                "# 61\n",
                "# 525\n",
                "# 1050\n",
                "# 1551\n",
                "# 5050\n",
                "# 50250\n",
                "# 100126"
            ]
        }
    ],
    "metadata": {
        "interpreter": {
            "hash": "73891b0dc2e53390f36276e59930dd4ecab91b05b5c90320c2d5b1c443f87069"
        },
        "kernelspec": {
            "display_name": "Python 3.10.1 ('venv': venv)",
            "language": "python",
            "name": "python3"
        },
        "language_info": {
            "codemirror_mode": {
                "name": "ipython",
                "version": 3
            },
            "file_extension": ".py",
            "mimetype": "text/x-python",
            "name": "python",
            "nbconvert_exporter": "python",
            "pygments_lexer": "ipython3",
            "version": "3.11.5"
        },
        "orig_nbformat": 4
    },
    "nbformat": 4,
    "nbformat_minor": 2
}
