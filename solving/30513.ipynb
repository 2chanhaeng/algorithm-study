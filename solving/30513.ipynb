{
    "cells": [
        {
            "cell_type": "markdown",
            "metadata": {},
            "source": [
                "# [백준/하이퍼 삼각형 자르기](https://www.acmicpc.net/problem/30513)\n"
            ]
        },
        {
            "cell_type": "markdown",
            "metadata": {},
            "source": [
                "## 풀이과정\n"
            ]
        },
        {
            "cell_type": "markdown",
            "metadata": {},
            "source": [
                "### 첫번째 시도\n"
            ]
        },
        {
            "cell_type": "markdown",
            "metadata": {},
            "source": [
                "#### 풀이과정\n"
            ]
        },
        {
            "cell_type": "code",
            "execution_count": null,
            "metadata": {},
            "outputs": [],
            "source": [
                "# solution()"
            ]
        },
        {
            "cell_type": "markdown",
            "metadata": {},
            "source": [
                "## 해답\n"
            ]
        },
        {
            "cell_type": "code",
            "execution_count": 222,
            "metadata": {},
            "outputs": [],
            "source": [
                "from itertools import accumulate\n",
                "\n",
                "MOD = 10**9 + 7\n",
                "\n",
                "\n",
                "def comb(n, k):\n",
                "    facts = list(accumulate(range(1, n + 1), lambda x, y: x * y % MOD, initial=1))\n",
                "    return facts[n] * pow(facts[k] * facts[n - k] % MOD, -1, MOD) % MOD\n",
                "\n",
                "\n",
                "def comb2(n):\n",
                "    return sum([x := 0] + [x := x + 1 + y * 2 for y in range(n % 2, n - 1, 2)])\n",
                "\n",
                "\n",
                "def solution():\n",
                "    import sys\n",
                "\n",
                "    n, m = map(int, sys.stdin.read().split())\n",
                "    if n != 2:\n",
                "        print(comb(n + m, m - 1))\n",
                "    else:\n",
                "        print((comb(n + m, m - 1) + comb2(m)) % MOD)"
            ]
        },
        {
            "cell_type": "markdown",
            "metadata": {},
            "source": [
                "## 예제\n"
            ]
        },
        {
            "cell_type": "code",
            "execution_count": 223,
            "metadata": {},
            "outputs": [],
            "source": [
                "# 백준 문제 풀이용 예제 실행 코드\n",
                "from bwj import test\n",
                "\n",
                "test_solution = test(solution)\n",
                "\n",
                "# test_solution(\"\"\"\"\"\")\n",
                "# test_solution(read(\"fn\").read())"
            ]
        },
        {
            "cell_type": "code",
            "execution_count": 224,
            "metadata": {},
            "outputs": [
                {
                    "name": "stdout",
                    "output_type": "stream",
                    "text": [
                        "933737996\n"
                    ]
                }
            ],
            "source": [
                "test_solution(\"100000 100000\")"
            ]
        },
        {
            "cell_type": "code",
            "execution_count": 225,
            "metadata": {},
            "outputs": [
                {
                    "name": "stdout",
                    "output_type": "stream",
                    "text": [
                        "5\n",
                        "13\n",
                        "27\n",
                        "48\n",
                        "78\n",
                        "118\n"
                    ]
                }
            ],
            "source": [
                "test_solution(\"2 2\")  # 5 = 4 + 1\n",
                "test_solution(\"2 3\")  # 13 = 10 + 3\n",
                "test_solution(\"2 4\")  # 27 = 20 + 7\n",
                "test_solution(\"2 5\")  # 48 = 35 + 13\n",
                "test_solution(\"2 6\")  # 78\n",
                "test_solution(\"2 7\")  # 118"
            ]
        },
        {
            "cell_type": "code",
            "execution_count": 226,
            "metadata": {},
            "outputs": [
                {
                    "name": "stdout",
                    "output_type": "stream",
                    "text": [
                        "n = 2\n",
                        "  k = 2: 5\n",
                        "  k = 3: 13\n",
                        "  k = 4: 27\n",
                        "  k = 5: 48\n",
                        "  k = 6: 78\n",
                        "n = 3\n",
                        "  k = 2: 5\n",
                        "  k = 3: 15\n",
                        "  k = 4: 35\n",
                        "  k = 5: 70\n",
                        "  k = 6: 126\n",
                        "n = 4\n",
                        "  k = 2: 6\n",
                        "  k = 3: 21\n",
                        "  k = 4: 56\n",
                        "  k = 5: 126\n",
                        "  k = 6: 252\n",
                        "n = 5\n",
                        "  k = 2: 7\n",
                        "  k = 3: 28\n",
                        "  k = 4: 84\n",
                        "  k = 5: 210\n",
                        "  k = 6: 462\n",
                        "n = 6\n",
                        "  k = 2: 8\n",
                        "  k = 3: 36\n",
                        "  k = 4: 120\n",
                        "  k = 5: 330\n",
                        "  k = 6: 792\n"
                    ]
                }
            ],
            "source": [
                "for n in range(2, 7):\n",
                "    print(f\"n = {n}\")\n",
                "    for k in range(2, 7):\n",
                "        print(f\"  {k = }: \", end=\"\")\n",
                "        test_solution(f\"{n} {k}\")"
            ]
        },
        {
            "cell_type": "code",
            "execution_count": 227,
            "metadata": {},
            "outputs": [
                {
                    "name": "stdout",
                    "output_type": "stream",
                    "text": [
                        " 6 10 15 21 28 36\n",
                        "10 20 35 56 84\n",
                        "15 35 70 126\n",
                        "21 56 126\n",
                        "28 84\n",
                        "36\n",
                        "\n",
                        "\n"
                    ]
                }
            ],
            "source": [
                "for n in range(2, 10):\n",
                "    print(\" \".join(f\"{comb(k + n, k):>2}\" for k in range(2, 10 - n)))"
            ]
        },
        {
            "cell_type": "code",
            "execution_count": 228,
            "metadata": {},
            "outputs": [
                {
                    "name": "stdout",
                    "output_type": "stream",
                    "text": [
                        "5\n",
                        "15\n",
                        "35\n"
                    ]
                }
            ],
            "source": [
                "test_solution(\"3 2\")  # 5\n",
                "test_solution(\"3 3\")  # 15\n",
                "test_solution(\"3 4\")  # 35"
            ]
        },
        {
            "cell_type": "code",
            "execution_count": 229,
            "metadata": {},
            "outputs": [
                {
                    "name": "stdout",
                    "output_type": "stream",
                    "text": [
                        "329435584\n"
                    ]
                }
            ],
            "source": [
                "test_solution(\"2023 1105\")  # 329435584"
            ]
        }
    ],
    "metadata": {
        "interpreter": {
            "hash": "73891b0dc2e53390f36276e59930dd4ecab91b05b5c90320c2d5b1c443f87069"
        },
        "kernelspec": {
            "display_name": "Python 3.10.1 ('venv': venv)",
            "language": "python",
            "name": "python3"
        },
        "language_info": {
            "codemirror_mode": {
                "name": "ipython",
                "version": 3
            },
            "file_extension": ".py",
            "mimetype": "text/x-python",
            "name": "python",
            "nbconvert_exporter": "python",
            "pygments_lexer": "ipython3",
            "version": "3.12.4"
        },
        "orig_nbformat": 4
    },
    "nbformat": 4,
    "nbformat_minor": 2
}
