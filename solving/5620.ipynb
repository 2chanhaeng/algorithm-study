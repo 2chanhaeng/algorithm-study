{
    "cells": [
        {
            "cell_type": "markdown",
            "metadata": {},
            "source": [
                "# [백준/가장 가까운 두 점의 거리](https://www.acmicpc.net/problem/5620)"
            ]
        },
        {
            "cell_type": "markdown",
            "metadata": {},
            "source": [
                "## 풀이과정"
            ]
        },
        {
            "cell_type": "markdown",
            "metadata": {},
            "source": [
                "### 첫번째 시도"
            ]
        },
        {
            "cell_type": "markdown",
            "metadata": {},
            "source": [
                "#### 풀이과정"
            ]
        },
        {
            "cell_type": "code",
            "execution_count": null,
            "metadata": {},
            "outputs": [],
            "source": [
                "class Point:\n",
                "    def __init__(self, inputs):\n",
                "        self.x, self,y = map(int, inputs.split())\n",
                "    \n",
                "    def __sub__(self, other):\n",
                "        return (self.x - other.x) ** 2 + (self.y - other.y) ** 2\n",
                "\n",
                "\n",
                "def solution():\n",
                "    import sys\n",
                "    \n",
                "    next(sys.stdin)\n",
                "    points = [Point(next(sys.stdin))]\n",
                "    mins = []\n",
                "    for c in map(Point, sys.stdin):\n",
                "        mins.append(min(c - p for p in points))\n",
                "        points.append(c)\n",
                "    print(min(mins))\n",
                "\n",
                "\n",
                "solution()"
            ]
        },
        {
            "cell_type": "markdown",
            "metadata": {},
            "source": [
                "## 해답"
            ]
        },
        {
            "cell_type": "code",
            "execution_count": 21,
            "metadata": {},
            "outputs": [],
            "source": [
                "class Point:\n",
                "    def __init__(self, inputs):\n",
                "        self.x, self.y = map(int, inputs.split())\n",
                "    \n",
                "    def __sub__(self, other):\n",
                "        return (self.x - other.x) ** 2 + (self.y - other.y) ** 2\n",
                "\n",
                "    def __lt__(self, other):\n",
                "        return self.x < other.x or (self.x == other.x and self.y < other.y)\n",
                "    \n",
                "    def __repr__(self) -> str:\n",
                "        return f'({self.x}, {self.y})'"
            ]
        },
        {
            "cell_type": "code",
            "execution_count": 25,
            "metadata": {},
            "outputs": [
                {
                    "data": {
                        "text/plain": [
                            "[(0, 0), (0, 0), (0, 1), (1, 0), (1, 1)]"
                        ]
                    },
                    "execution_count": 25,
                    "metadata": {},
                    "output_type": "execute_result"
                }
            ],
            "source": [
                "sorted(map(Point, ['1 1', '0 0', '1 0', '0 1']))"
            ]
        },
        {
            "cell_type": "code",
            "execution_count": 10,
            "metadata": {},
            "outputs": [],
            "source": [
                "def solution():\n",
                "    import sys\n",
                "    \n",
                "    next(sys.stdin)\n",
                "    points = [Point(next(sys.stdin))]\n",
                "    mins = []\n",
                "    for c in map(Point, sys.stdin):\n",
                "        mins.append(min(c - p for p in points))\n",
                "        points.append(c)\n",
                "    print(min(mins))"
            ]
        },
        {
            "cell_type": "raw",
            "metadata": {},
            "source": [
                "#include <cstdio>\n",
                "#include <vector>\n",
                "#include <set>\n",
                "#include <algorithm>\n",
                "using namespace std;\n",
                "struct Point {\n",
                "    int x, y;\n",
                "    Point() {\n",
                "    }\n",
                "    Point(int x, int y) : x(x), y(y) {\n",
                "    }\n",
                "    bool operator < (const Point &v) const {\n",
                "        if (y == v.y) {\n",
                "            return x < v.x;\n",
                "        } else {\n",
                "            return y < v.y;\n",
                "        }\n",
                "    }\n",
                "};\n",
                "bool cmp(const Point &u, const Point &v) {\n",
                "    return u.x < v.x;\n",
                "}\n",
                "int dist(Point p1, Point p2) {\n",
                "    return (p1.x-p2.x)*(p1.x-p2.x) + (p1.y-p2.y)*(p1.y-p2.y);\n",
                "}\n",
                "int main() {\n",
                "    int n;\n",
                "    scanf(\"%d\",&n);\n",
                "    vector<Point> a(n);\n",
                "    for (int i=0; i<n; i++) {\n",
                "        scanf(\"%d %d\",&a[i].x,&a[i].y);\n",
                "    }\n",
                "    sort(a.begin(), a.end(), cmp);\n",
                "    set<Point> candidate = {a[0], a[1]};\n",
                "    int ans = dist(a[0], a[1]);\n",
                "    int start = 0;\n",
                "    for (int i=2; i<n; i++) {\n",
                "        Point now = a[i];\n",
                "        while (start < i) {\n",
                "            auto p = a[start];\n",
                "            int x = now.x - p.x;\n",
                "            if (x*x > ans) {\n",
                "                candidate.erase(p);\n",
                "                start += 1;\n",
                "            } else {\n",
                "                break;\n",
                "            }\n",
                "        }\n",
                "        int d = (int)sqrt((double)ans)+1;\n",
                "        auto lower_point = Point(-100000, now.y-d);\n",
                "        auto upper_point = Point(100000, now.y+d);\n",
                "        auto lower = candidate.lower_bound(lower_point);\n",
                "        auto upper = candidate.upper_bound(upper_point);\n",
                "        for (auto it = lower; it != upper; it++) {\n",
                "            int d = dist(now, *it);\n",
                "            if (d < ans) {\n",
                "                ans = d;\n",
                "            }\n",
                "        }\n",
                "        candidate.insert(now);\n",
                "    }\n",
                "    printf(\"%d\\n\",ans);\n",
                "    return 0;\n",
                "}"
            ]
        },
        {
            "cell_type": "raw",
            "metadata": {},
            "source": []
        },
        {
            "cell_type": "raw",
            "metadata": {},
            "source": [
                "\n",
                "\n",
                "class Candidate(dict):\n",
                "    def __init__(self):\n",
                "        super().__init__()\n",
                "    \n",
                "    def add(self, point: Point):\n",
                "        self.setdefault(point.y, {}).setdefault(point.x, point)\n",
                "\n",
                "    def remove(self, point):\n",
                "        self[point.y].pop(point.x)\n",
                "        if not self[point.y]:\n",
                "            self.pop(point.y)"
            ]
        },
        {
            "cell_type": "code",
            "execution_count": 34,
            "metadata": {},
            "outputs": [],
            "source": [
                "import sys\n",
                "import math\n",
                "import bisect\n",
                "\n",
                "\n",
                "class Point:\n",
                "    def __init__(self, x, y):\n",
                "        self.x = x\n",
                "        self.y = y\n",
                "\n",
                "    @classmethod\n",
                "    def input(cls, inputs):\n",
                "        return cls(*map(int, inputs.split()))\n",
                "\n",
                "    def __lt__(self, other):\n",
                "        return self.x < other.x if self.y == other.y else self.y < other.y\n",
                "\n",
                "    def __sub__(self, other):\n",
                "        return (self.x - other.x) ** 2 + (self.y - other.y) ** 2\n",
                "\n",
                "\n",
                "class Candidate(dict[int, dict[int, Point]]):\n",
                "    def __init__(self, iterble: list[Point] = []):\n",
                "        super().__init__()\n",
                "        self.xs = []\n",
                "        self.ys = []\n",
                "        for point in iterble:\n",
                "            self.add(point)\n",
                "\n",
                "    def add(self, point: Point):\n",
                "        bisect.insort\n",
                "        self.setdefault(point.y, {}).setdefault(point.x, point)\n",
                "\n",
                "    def remove(self, point: Point):\n",
                "        self[point.y].pop(point.x)\n",
                "        if not self[point.y]:\n",
                "            self.pop(point.y)\n",
                "    \n",
                "    def sort(self):\n",
                "\n",
                "\n",
                "\n",
                "def solution():\n",
                "    n = int(next(sys.stdin))\n",
                "    points = sorted((Point.input(inputs) for inputs in sys.stdin), key=lambda x: x.x)\n",
                "    candidate = Candidate(points[:2])\n",
                "    ans = points[0] - points[1]\n",
                "    start = 0\n",
                "    for i in range(2, n):\n",
                "        now = points[i]\n",
                "        while start < i and (now.x - points[start].x) ** 2 > ans:\n",
                "            candidate.remove(points[start])\n",
                "            start += 1\n",
                "        d = int(math.sqrt(ans)) + 1\n",
                "        lower = Point(now.x - d, now.y - d)\n",
                "        upper = Point(now.x + d, now.y + d)\n",
                "        for y, ys in sorted(candidate.items()):\n",
                "            if lower.y <= y <= upper.y:\n",
                "                for x, j in sorted(ys.items()):\n",
                "                    if lower.x <= x <= upper.x:\n",
                "                        ans = min(ans, now - j)\n",
                "                    elif upper.x < x:\n",
                "                        break\n",
                "            elif upper.y < y:\n",
                "                break\n",
                "        candidate.add(now)\n",
                "    print(ans)"
            ]
        },
        {
            "cell_type": "markdown",
            "metadata": {},
            "source": [
                "## 예제"
            ]
        },
        {
            "cell_type": "code",
            "execution_count": 35,
            "metadata": {},
            "outputs": [
                {
                    "name": "stdout",
                    "output_type": "stream",
                    "text": [
                        "The blackcellmagic extension is already loaded. To reload it, use:\n",
                        "  %reload_ext blackcellmagic\n"
                    ]
                }
            ],
            "source": [
                "# black 모듈을 jupyter notebook 내에서 사용 가능하게 만들어주는 blackcellmagic 모듈 불러오기\n",
                "%load_ext blackcellmagic\n",
                "# %%black\n",
                "\n",
                "# 백준 문제 풀이용 예제 실행 코드\n",
                "from bwj import test\n",
                "test_solution = test(solution)\n",
                "\n",
                "# test_solution(\"\"\"\"\"\")\n",
                "# test_solution(read(\"fn\").read())"
            ]
        },
        {
            "cell_type": "code",
            "execution_count": 36,
            "metadata": {},
            "outputs": [
                {
                    "name": "stdout",
                    "output_type": "stream",
                    "text": [
                        "25\n"
                    ]
                }
            ],
            "source": [
                "test_solution(\"\"\"3\n",
                "5 5\n",
                "0 0\n",
                "-3 -4\n",
                "\"\"\") # 25"
            ]
        },
        {
            "cell_type": "code",
            "execution_count": 37,
            "metadata": {},
            "outputs": [
                {
                    "name": "stdout",
                    "output_type": "stream",
                    "text": [
                        "2\n"
                    ]
                }
            ],
            "source": [
                "test_solution(\"\"\"2\n",
                "0 0\n",
                "1 1\n",
                "\"\"\") # 2"
            ]
        }
    ],
    "metadata": {
        "kernelspec": {
            "display_name": "venv",
            "language": "python",
            "name": "python3"
        },
        "language_info": {
            "codemirror_mode": {
                "name": "ipython",
                "version": 3
            },
            "file_extension": ".py",
            "mimetype": "text/x-python",
            "name": "python",
            "nbconvert_exporter": "python",
            "pygments_lexer": "ipython3",
            "version": "3.11.1"
        },
        "orig_nbformat": 4,
        "vscode": {
            "interpreter": {
                "hash": "72904a014a9ffe38f4c58942120b599b3c5a87d06764037548e0139929c1cde3"
            }
        }
    },
    "nbformat": 4,
    "nbformat_minor": 2
}
