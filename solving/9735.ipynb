{
    "cells": [
        {
            "cell_type": "markdown",
            "metadata": {},
            "source": "# [\ubc31\uc900/\uc0bc\ucc28 \ubc29\uc815\uc2dd \ud480\uae30](https://www.acmicpc.net/problem/9735)"
        },
        {
            "cell_type": "markdown",
            "metadata": {},
            "source": [
                "## \ud480\uc774\uacfc\uc815"
            ]
        },
        {
            "cell_type": "markdown",
            "metadata": {},
            "source": [
                "### \uccab\ubc88\uc9f8 \uc2dc\ub3c4"
            ]
        },
        {
            "cell_type": "markdown",
            "metadata": {},
            "source": [
                "\ud480\uc774\uacfc\uc815"
            ]
        },
        {
            "cell_type": "code",
            "execution_count": null,
            "metadata": {},
            "outputs": [],
            "source": [
                "# import sys;input = lambda: sys.stdin.readline().rstrip();print = lambda x: sys.stdout.write(str(x)+\"\\n\")\n"
            ]
        },
        {
            "cell_type": "markdown",
            "metadata": {},
            "source": [
                "## \ud574\ub2f5"
            ]
        },
        {
            "cell_type": "code",
            "execution_count": null,
            "metadata": {},
            "outputs": [],
            "source": [
                "# \ud574\ub2f5\n",
                "# def solution(input):\n",
                "#     map(int,input().split())\n",
                "# def solution(open):\n",
                "#     [*open(0)]"
            ]
        },
        {
            "cell_type": "markdown",
            "metadata": {},
            "source": [
                "## \uc608\uc81c"
            ]
        },
        {
            "cell_type": "code",
            "execution_count": null,
            "metadata": {},
            "outputs": [],
            "source": [
                "%load_ext blackcellmagic\n",
                "# %%black"
            ]
        },
        {
            "cell_type": "code",
            "execution_count": null,
            "metadata": {},
            "outputs": [],
            "source": [
                "# \ubc31\uc900 \ubb38\uc81c \ud480\uc774\uc6a9 \uc608\uc81c \uc2e4\ud589 \ucf54\ub4dc\n",
                "from bwj import test\n",
                "test_solution = test(solution)\n",
                "\n",
                "# test_solution(\"\"\"\"\"\")\n",
                "# test_solution(read(\"fn\").read())"
            ]
        },
        {
            "cell_type": "code",
            "execution_count": null,
            "metadata": {},
            "outputs": [],
            "source": [
                "test_solution(\"\"\"2\n2 -7 7 -2\n2 0 0 0\"\"\")",
                "# answer:\n# 0.5000 1.0000 2.0000\n# 0.0000"
            ]
        }
    ],
    "metadata": {
        "interpreter": {
            "hash": "73891b0dc2e53390f36276e59930dd4ecab91b05b5c90320c2d5b1c443f87069"
        },
        "kernelspec": {
            "display_name": "Python 3.10.1 ('venv': venv)",
            "language": "python",
            "name": "python3"
        },
        "language_info": {
            "codemirror_mode": {
                "name": "ipython",
                "version": 3
            },
            "file_extension": ".py",
            "mimetype": "text/x-python",
            "name": "python",
            "nbconvert_exporter": "python",
            "pygments_lexer": "ipython3",
            "version": "3.10.1"
        },
        "orig_nbformat": 4
    },
    "nbformat": 4,
    "nbformat_minor": 2
}