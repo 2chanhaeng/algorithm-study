{
    "cells": [
        {
            "cell_type": "markdown",
            "metadata": {},
            "source": [
                "# [백준/N-Queen](https://www.acmicpc.net/problem/3344)"
            ]
        },
        {
            "cell_type": "markdown",
            "metadata": {},
            "source": [
                "## 풀이과정"
            ]
        },
        {
            "cell_type": "markdown",
            "metadata": {},
            "source": [
                "### 첫번째 시도"
            ]
        },
        {
            "cell_type": "markdown",
            "metadata": {},
            "source": [
                "#### 풀이과정"
            ]
        },
        {
            "cell_type": "code",
            "execution_count": null,
            "metadata": {},
            "outputs": [],
            "source": [
                "\n",
                "\n",
                "\n",
                "# solution()"
            ]
        },
        {
            "cell_type": "markdown",
            "metadata": {},
            "source": [
                "## 해답"
            ]
        },
        {
            "cell_type": "code",
            "execution_count": 1,
            "metadata": {},
            "outputs": [],
            "source": [
                "def div4(n):\n",
                "    return [[(n - x) * n - y if (x - y) % 4 == 0 or (x + y) % 4 == 3 else x * n + y + 1 for y in range(n)] for x in range(n)]\n",
                "def add_all(ms, n):\n",
                "    return [[i + n for i in l] for l in ms]"
            ]
        },
        {
            "cell_type": "code",
            "execution_count": 2,
            "metadata": {},
            "outputs": [
                {
                    "name": "stdout",
                    "output_type": "stream",
                    "text": [
                        "(3, 0) (0, 1) (0, 2) (2, 2) \n",
                        "(0, 4) (2, 0) (1, 4) (1, 2) \n",
                        "(1, 3) (1, 1) (1, 0) (2, 1) \n",
                        "(0, 3) (2, 3) (2, 4) (0, 0) \n"
                    ]
                }
            ],
            "source": [
                "n = 5\n",
                "for a in add_all(div4(4), -1):\n",
                "    for i in a:\n",
                "        print(divmod(i, n), end=' ')\n",
                "    print()"
            ]
        },
        {
            "cell_type": "code",
            "execution_count": null,
            "metadata": {},
            "outputs": [],
            "source": [
                "def solution():\n",
                "    input()"
            ]
        },
        {
            "cell_type": "markdown",
            "metadata": {},
            "source": [
                "## 예제"
            ]
        },
        {
            "cell_type": "code",
            "execution_count": null,
            "metadata": {},
            "outputs": [],
            "source": [
                "# black 모듈을 jupyter notebook 내에서 사용 가능하게 만들어주는 blackcellmagic 모듈 불러오기\n",
                "%load_ext blackcellmagic\n",
                "# %%black\n",
                "\n",
                "# 백준 문제 풀이용 예제 실행 코드\n",
                "from bwj import test\n",
                "test_solution = test(solution)\n",
                "\n",
                "# test_solution(\"\"\"\"\"\")\n",
                "# test_solution(read(\"fn\").read())"
            ]
        },
        {
            "cell_type": "code",
            "execution_count": null,
            "metadata": {},
            "outputs": [],
            "source": [
                "test_solution(\"\"\"8\n",
                "\"\"\")\n",
                "# answer:\n",
                "# 3\n",
                "# 6\n",
                "# 8\n",
                "# 1\n",
                "# 4\n",
                "# 7\n",
                "# 5\n",
                "# 2"
            ]
        }
    ],
    "metadata": {
        "interpreter": {
            "hash": "73891b0dc2e53390f36276e59930dd4ecab91b05b5c90320c2d5b1c443f87069"
        },
        "kernelspec": {
            "display_name": "Python 3.10.1 ('venv': venv)",
            "language": "python",
            "name": "python3"
        },
        "language_info": {
            "codemirror_mode": {
                "name": "ipython",
                "version": 3
            },
            "file_extension": ".py",
            "mimetype": "text/x-python",
            "name": "python",
            "nbconvert_exporter": "python",
            "pygments_lexer": "ipython3",
            "version": "3.11.2"
        },
        "orig_nbformat": 4
    },
    "nbformat": 4,
    "nbformat_minor": 2
}
