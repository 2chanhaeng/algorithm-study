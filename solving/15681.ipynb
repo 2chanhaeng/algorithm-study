{
    "cells": [
        {
            "cell_type": "markdown",
            "metadata": {},
            "source": [
                "# [백준/트리와 쿼리](https://www.acmicpc.net/problem/15681)"
            ]
        },
        {
            "cell_type": "markdown",
            "metadata": {},
            "source": [
                "## 풀이과정"
            ]
        },
        {
            "cell_type": "markdown",
            "metadata": {},
            "source": [
                "### 첫번째 시도"
            ]
        },
        {
            "cell_type": "markdown",
            "metadata": {},
            "source": [
                "#### 풀이과정"
            ]
        },
        {
            "cell_type": "code",
            "execution_count": null,
            "metadata": {},
            "outputs": [],
            "source": [
                "def solution():\n",
                "    import sys\n",
                "    import functools\n",
                "\n",
                "    sys.setrecursionlimit(10 ** 6)\n",
                "\n",
                "    input = sys.stdin.readline\n",
                "    n, r, q = map(int, input().split())\n",
                "    graph = [[] for _ in range(n + 1)]\n",
                "    for _ in range(n - 1):\n",
                "        a, b = map(int, input().split())\n",
                "        graph[a].append(b)\n",
                "        graph[b].append(a)\n",
                "\n",
                "    visited = [0] * (n + 1)\n",
                "\n",
                "    @functools.cache\n",
                "    def dfs(node):\n",
                "        visited[node] = 1\n",
                "        visited[node] += sum(\n",
                "            dfs(connected)\n",
                "            for connected in graph[node]\n",
                "            if visited[connected] == 0\n",
                "        )\n",
                "        return visited[node]\n",
                "\n",
                "    dfs(r)\n",
                "\n",
                "    for _ in range(q):\n",
                "        print(visited[int(input())])\n",
                "\n",
                "\n",
                "solution()"
            ]
        },
        {
            "cell_type": "markdown",
            "metadata": {},
            "source": [
                "## 해답"
            ]
        },
        {
            "cell_type": "code",
            "execution_count": 1,
            "metadata": {},
            "outputs": [],
            "source": [
                "def solution():\n",
                "    import sys\n",
                "    import functools\n",
                "\n",
                "    input = sys.stdin.readline\n",
                "    n, r, q = map(int, input().split())\n",
                "    graph = [[] for _ in range(n + 1)]\n",
                "    for _ in range(n - 1):\n",
                "        a, b = map(int, input().split())\n",
                "        graph[a].append(b)\n",
                "        graph[b].append(a)\n",
                "\n",
                "    visited = [0] * (n + 1)\n",
                "\n",
                "    @functools.cache\n",
                "    def dfs(node):\n",
                "        visited[node] = 1\n",
                "        visited[node] += sum(\n",
                "            dfs(connected)\n",
                "            for connected in graph[node]\n",
                "            if visited[connected] == 0\n",
                "        )\n",
                "        return visited[node]\n",
                "\n",
                "    dfs(r)\n",
                "\n",
                "    for _ in range(q):\n",
                "        print(visited[int(input())])"
            ]
        },
        {
            "cell_type": "markdown",
            "metadata": {},
            "source": [
                "## 예제"
            ]
        },
        {
            "cell_type": "code",
            "execution_count": 2,
            "metadata": {},
            "outputs": [],
            "source": [
                "# black 모듈을 jupyter notebook 내에서 사용 가능하게 만들어주는 blackcellmagic 모듈 불러오기\n",
                "%load_ext blackcellmagic\n",
                "# %%black\n",
                "\n",
                "# 백준 문제 풀이용 예제 실행 코드\n",
                "from bwj import test\n",
                "test_solution = test(solution)\n",
                "\n",
                "# test_solution(\"\"\"\"\"\")\n",
                "# test_solution(read(\"fn\").read())"
            ]
        },
        {
            "cell_type": "code",
            "execution_count": 3,
            "metadata": {},
            "outputs": [
                {
                    "name": "stdout",
                    "output_type": "stream",
                    "text": [
                        "9\n",
                        "4\n",
                        "1\n"
                    ]
                }
            ],
            "source": [
                "test_solution(\"\"\"9 5 3\n",
                "1 3\n",
                "4 3\n",
                "5 4\n",
                "5 6\n",
                "6 7\n",
                "2 3\n",
                "9 6\n",
                "6 8\n",
                "5\n",
                "4\n",
                "8\n",
                "\"\"\")\n",
                "# answer:\n",
                "# 9\n",
                "# 4\n",
                "# 1"
            ]
        }
    ],
    "metadata": {
        "kernelspec": {
            "display_name": "venv",
            "language": "python",
            "name": "python3"
        },
        "language_info": {
            "codemirror_mode": {
                "name": "ipython",
                "version": 3
            },
            "file_extension": ".py",
            "mimetype": "text/x-python",
            "name": "python",
            "nbconvert_exporter": "python",
            "pygments_lexer": "ipython3",
            "version": "3.11.1"
        },
        "orig_nbformat": 4,
        "vscode": {
            "interpreter": {
                "hash": "72904a014a9ffe38f4c58942120b599b3c5a87d06764037548e0139929c1cde3"
            }
        }
    },
    "nbformat": 4,
    "nbformat_minor": 2
}
