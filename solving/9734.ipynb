{
    "cells": [
        {
            "cell_type": "markdown",
            "metadata": {},
            "source": [
                "# [백준/순환 소수](https://www.acmicpc.net/problem/9734)"
            ]
        },
        {
            "cell_type": "markdown",
            "metadata": {},
            "source": [
                "## 풀이과정"
            ]
        },
        {
            "cell_type": "markdown",
            "metadata": {},
            "source": [
                "### 첫번째 시도"
            ]
        },
        {
            "cell_type": "markdown",
            "metadata": {},
            "source": [
                "#### 풀이과정"
            ]
        },
        {
            "cell_type": "code",
            "execution_count": null,
            "metadata": {},
            "outputs": [],
            "source": [
                "def euclid(n, m):\n",
                "    return n if m == 0 else euclid(m, n % m)\n",
                "\n",
                "\n",
                "def solution():\n",
                "    import sys\n",
                "\n",
                "    inputs = sys.stdin.read().split()\n",
                "    for input in inputs:\n",
                "        fixed, decimal = input[:-1].split(\".\")\n",
                "        term, rep = decimal.split(\"(\")\n",
                "        if rep:\n",
                "            denom = ((10 ** len(rep) - 1)) * (10 ** len(term))\n",
                "            numer = int(term + rep) - int(term if term else \"0\")\n",
                "        else:\n",
                "            numer = int(term)\n",
                "            denom = 10 ** len(term)\n",
                "        divisor = euclid(numer, denom)\n",
                "        numer //= divisor\n",
                "        denom //= divisor\n",
                "        numer += int(fixed) * denom\n",
                "        print(f\"{input} = {numer}/{denom}\")\n",
                "\n",
                "\n",
                "solution()"
            ]
        },
        {
            "cell_type": "markdown",
            "metadata": {},
            "source": [
                "## 해답"
            ]
        },
        {
            "cell_type": "code",
            "execution_count": 1,
            "metadata": {},
            "outputs": [
                {
                    "data": {
                        "text/plain": [
                            "21"
                        ]
                    },
                    "execution_count": 1,
                    "metadata": {},
                    "output_type": "execute_result"
                }
            ],
            "source": [
                "def euclid(n, m):\n",
                "    return n if m == 0 else euclid(m, n % m)\n",
                "\n",
                "euclid(1071, 1029)"
            ]
        },
        {
            "cell_type": "code",
            "execution_count": 43,
            "metadata": {},
            "outputs": [],
            "source": [
                "def solution():\n",
                "    import sys\n",
                "\n",
                "    inputs = sys.stdin.read().split()\n",
                "    for input in inputs:\n",
                "        fixed, decimal = input[:-1].split(\".\")\n",
                "        term, rep = decimal.split(\"(\")\n",
                "        if rep:\n",
                "            denom = ((10 ** len(rep) - 1)) * (10 ** len(term))\n",
                "            numer = int(term + rep) - int(term if term else \"0\")\n",
                "        else:\n",
                "            numer = int(term)\n",
                "            denom = 10 ** len(term)\n",
                "        divisor = euclid(numer, denom)\n",
                "        numer //= divisor\n",
                "        denom //= divisor\n",
                "        numer += int(fixed) * denom\n",
                "        print(f\"{input} = {numer} / {denom}\")"
            ]
        },
        {
            "cell_type": "markdown",
            "metadata": {},
            "source": [
                "## 예제"
            ]
        },
        {
            "cell_type": "code",
            "execution_count": 44,
            "metadata": {},
            "outputs": [
                {
                    "name": "stdout",
                    "output_type": "stream",
                    "text": [
                        "The blackcellmagic extension is already loaded. To reload it, use:\n",
                        "  %reload_ext blackcellmagic\n"
                    ]
                }
            ],
            "source": [
                "# black 모듈을 jupyter notebook 내에서 사용 가능하게 만들어주는 blackcellmagic 모듈 불러오기\n",
                "%load_ext blackcellmagic\n",
                "# %%black\n",
                "\n",
                "# 백준 문제 풀이용 예제 실행 코드\n",
                "from bwj import test\n",
                "test_solution = test(solution)\n",
                "\n",
                "# test_solution(\"\"\"\"\"\")\n",
                "# test_solution(read(\"fn\").read())"
            ]
        },
        {
            "cell_type": "code",
            "execution_count": 45,
            "metadata": {},
            "outputs": [
                {
                    "name": "stdout",
                    "output_type": "stream",
                    "text": [
                        "0.(285714) = 2/7\n",
                        "0.25(75) = 17/66\n",
                        "4.1(6) = 25/6\n",
                        "5.2() = 26/5\n"
                    ]
                }
            ],
            "source": [
                "test_solution(\"\"\"0.(285714)\n",
                "0.25(75)\n",
                "4.1(6)\n",
                "5.2()\n",
                "\"\"\")\n",
                "# answer:\n",
                "# 0.(285714) = 2 / 7\n",
                "# 0.25(75) = 17 / 66\n",
                "# 4.1(6) = 25 / 6"
            ]
        }
    ],
    "metadata": {
        "interpreter": {
            "hash": "73891b0dc2e53390f36276e59930dd4ecab91b05b5c90320c2d5b1c443f87069"
        },
        "kernelspec": {
            "display_name": "Python 3.10.1 ('venv': venv)",
            "language": "python",
            "name": "python3"
        },
        "language_info": {
            "codemirror_mode": {
                "name": "ipython",
                "version": 3
            },
            "file_extension": ".py",
            "mimetype": "text/x-python",
            "name": "python",
            "nbconvert_exporter": "python",
            "pygments_lexer": "ipython3",
            "version": "3.11.5"
        },
        "orig_nbformat": 4
    },
    "nbformat": 4,
    "nbformat_minor": 2
}
