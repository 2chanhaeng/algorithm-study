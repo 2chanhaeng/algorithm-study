{
    "cells": [
        {
            "cell_type": "markdown",
            "metadata": {},
            "source": [
                "# [백준/집으로](https://www.acmicpc.net/problem/1069)\n"
            ]
        },
        {
            "cell_type": "markdown",
            "metadata": {},
            "source": [
                "## 풀이과정\n"
            ]
        },
        {
            "cell_type": "markdown",
            "metadata": {},
            "source": [
                "### 첫번째 시도\n"
            ]
        },
        {
            "cell_type": "markdown",
            "metadata": {},
            "source": [
                "#### 풀이과정\n"
            ]
        },
        {
            "cell_type": "code",
            "execution_count": null,
            "metadata": {},
            "outputs": [],
            "source": [
                "def solution():\n",
                "    import sys\n",
                "    from math import sqrt\n",
                "\n",
                "    x, y, r, t = map(int, sys.stdin.readline().rstrip().split())\n",
                "    d = sqrt(x**2 + y**2)\n",
                "    if t > r:\n",
                "        print(d)\n",
                "        return\n",
                "    result = 0\n",
                "    while d > 2 * r:\n",
                "        d -= r\n",
                "        result += t\n",
                "    d = round(d, 9)\n",
                "    maybe = [d, 2 * t]\n",
                "    if t + r - d > 0:\n",
                "        maybe.append(t + r - d)\n",
                "    result += min(maybe)\n",
                "    print(result)\n",
                "\n",
                "\n",
                "solution()"
            ]
        },
        {
            "cell_type": "markdown",
            "metadata": {},
            "source": [
                "## 해답\n"
            ]
        },
        {
            "cell_type": "code",
            "execution_count": 67,
            "metadata": {},
            "outputs": [],
            "source": [
                "def solution():\n",
                "    import sys\n",
                "    from math import sqrt\n",
                "\n",
                "    x, y, r, t = map(int, sys.stdin.readline().rstrip().split())\n",
                "    d = sqrt(x**2 + y**2)\n",
                "    if t > r:\n",
                "        print(d)\n",
                "        return\n",
                "    result = 0\n",
                "    while d > 2 * r:\n",
                "        d -= r\n",
                "        result += t\n",
                "    d = round(d, 9)\n",
                "    maybe = [d, 2 * t]\n",
                "    if t + r - d > 0:\n",
                "        maybe.append(t + r - d)\n",
                "    result += min(maybe)\n",
                "    print(result)"
            ]
        },
        {
            "cell_type": "markdown",
            "metadata": {},
            "source": [
                "## 예제\n"
            ]
        },
        {
            "cell_type": "code",
            "execution_count": 68,
            "metadata": {},
            "outputs": [
                {
                    "name": "stdout",
                    "output_type": "stream",
                    "text": [
                        "The blackcellmagic extension is already loaded. To reload it, use:\n",
                        "  %reload_ext blackcellmagic\n"
                    ]
                }
            ],
            "source": [
                "# black 모듈을 jupyter notebook 내에서 사용 가능하게 만들어주는 blackcellmagic 모듈 불러오기\n",
                "%load_ext blackcellmagic\n",
                "# %%black\n",
                "\n",
                "# 백준 문제 풀이용 예제 실행 코드\n",
                "from bwj import test\n",
                "test_solution = test(solution)\n",
                "\n",
                "# test_solution(\"\"\"\"\"\")\n",
                "# test_solution(read(\"fn\").read())"
            ]
        },
        {
            "cell_type": "code",
            "execution_count": 69,
            "metadata": {},
            "outputs": [
                {
                    "name": "stdout",
                    "output_type": "stream",
                    "text": [
                        "6\n"
                    ]
                }
            ],
            "source": [
                "test_solution(\"\"\"6 8 5 3\n",
                "\"\"\") # 6.0"
            ]
        },
        {
            "cell_type": "code",
            "execution_count": 70,
            "metadata": {},
            "outputs": [
                {
                    "name": "stdout",
                    "output_type": "stream",
                    "text": [
                        "4.0\n"
                    ]
                }
            ],
            "source": [
                "test_solution(\"\"\"3 4 6 3\n",
                "\"\"\") # 4.0"
            ]
        },
        {
            "cell_type": "code",
            "execution_count": 71,
            "metadata": {},
            "outputs": [
                {
                    "name": "stdout",
                    "output_type": "stream",
                    "text": [
                        "546.945152643\n"
                    ]
                }
            ],
            "source": [
                "test_solution(\"\"\"318 445 1200 800\n",
                "\"\"\") # 546.9451526432975"
            ]
        },
        {
            "cell_type": "code",
            "execution_count": 72,
            "metadata": {},
            "outputs": [
                {
                    "name": "stdout",
                    "output_type": "stream",
                    "text": [
                        "40\n"
                    ]
                }
            ],
            "source": [
                "test_solution(\"\"\"400 300 150 10\n",
                "\"\"\") # 40.0"
            ]
        },
        {
            "cell_type": "code",
            "execution_count": 73,
            "metadata": {},
            "outputs": [
                {
                    "name": "stdout",
                    "output_type": "stream",
                    "text": [
                        "5.0\n"
                    ]
                }
            ],
            "source": [
                "test_solution(\"\"\"6 8 3 2\n",
                "\"\"\") # 7.0"
            ]
        },
        {
            "cell_type": "code",
            "execution_count": 74,
            "metadata": {},
            "outputs": [
                {
                    "name": "stdout",
                    "output_type": "stream",
                    "text": [
                        "10\n"
                    ]
                }
            ],
            "source": [
                "test_solution(\"\"\"10 10 1000 5\n",
                "\"\"\") # 10.0"
            ]
        }
    ],
    "metadata": {
        "interpreter": {
            "hash": "73891b0dc2e53390f36276e59930dd4ecab91b05b5c90320c2d5b1c443f87069"
        },
        "kernelspec": {
            "display_name": "Python 3.10.1 ('venv': venv)",
            "language": "python",
            "name": "python3"
        },
        "language_info": {
            "codemirror_mode": {
                "name": "ipython",
                "version": 3
            },
            "file_extension": ".py",
            "mimetype": "text/x-python",
            "name": "python",
            "nbconvert_exporter": "python",
            "pygments_lexer": "ipython3",
            "version": "3.11.3"
        },
        "orig_nbformat": 4
    },
    "nbformat": 4,
    "nbformat_minor": 2
}
