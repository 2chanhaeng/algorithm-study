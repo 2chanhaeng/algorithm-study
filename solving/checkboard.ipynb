{
 "cells": [
  {
   "cell_type": "code",
   "execution_count": 1,
   "metadata": {},
   "outputs": [],
   "source": [
    "from bwj import test"
   ]
  },
  {
   "cell_type": "code",
   "execution_count": 13,
   "metadata": {},
   "outputs": [],
   "source": [
    "plus = ((0, 0), (0, 1), (0, -1), (1, 0), (-1, 0))\n",
    "cross = ((0, 0), (1, 1), (1, -1), (-1, 1), (-1, -1))"
   ]
  },
  {
   "cell_type": "code",
   "execution_count": 14,
   "metadata": {},
   "outputs": [],
   "source": [
    "def flip_plus(n, board):\n",
    "    result = 0\n",
    "    for y in range(n):\n",
    "        for x in range(y % 2, n, 2):\n",
    "            if board[y][x] == 1:\n",
    "                for dx, dy in plus:\n",
    "                    nx, ny = x + dx, y + dy\n",
    "                    if 0 <= nx < n and 0 <= ny < n:\n",
    "                        board[ny][nx] ^= 1\n",
    "                result += 1\n",
    "    return result"
   ]
  },
  {
   "cell_type": "code",
   "execution_count": 19,
   "metadata": {},
   "outputs": [],
   "source": [
    "def solution():\n",
    "    import sys\n",
    "\n",
    "    board = [list(map(int, line.split())) for line in sys.stdin.read().splitlines()]\n",
    "    n = len(board)\n",
    "    answer = flip_plus(n, board)\n",
    "    print(answer)\n",
    "    for l in board:\n",
    "        print(*l)"
   ]
  },
  {
   "cell_type": "code",
   "execution_count": 20,
   "metadata": {},
   "outputs": [
    {
     "name": "stdout",
     "output_type": "stream",
     "text": [
      "1\n",
      "0 0 0\n",
      "1 0 0\n",
      "0 1 0\n"
     ]
    }
   ],
   "source": [
    "test(solution)(\n",
    "    \"\"\"1 1 0\n",
    "0 0 0\n",
    "0 1 0\n",
    "\"\"\"\n",
    ")"
   ]
  }
 ],
 "metadata": {
  "kernelspec": {
   "display_name": "venv",
   "language": "python",
   "name": "python3"
  },
  "language_info": {
   "codemirror_mode": {
    "name": "ipython",
    "version": 3
   },
   "file_extension": ".py",
   "mimetype": "text/x-python",
   "name": "python",
   "nbconvert_exporter": "python",
   "pygments_lexer": "ipython3",
   "version": "3.12.2"
  }
 },
 "nbformat": 4,
 "nbformat_minor": 2
}
