{
 "cells": [
  {
   "cell_type": "markdown",
   "metadata": {},
   "source": [
    "# [백준/f와 g](https://www.acmicpc.net/problem/1386)"
   ]
  },
  {
   "cell_type": "markdown",
   "metadata": {},
   "source": [
    "## 풀이과정"
   ]
  },
  {
   "cell_type": "markdown",
   "metadata": {},
   "source": [
    "### 첫번째 시도"
   ]
  },
  {
   "cell_type": "markdown",
   "metadata": {},
   "source": [
    "풀이과정"
   ]
  },
  {
   "cell_type": "code",
   "execution_count": 58,
   "metadata": {},
   "outputs": [],
   "source": [
    "# 풀이 코드\n"
   ]
  },
  {
   "cell_type": "markdown",
   "metadata": {},
   "source": [
    "## 해답"
   ]
  },
  {
   "cell_type": "code",
   "execution_count": 1,
   "metadata": {},
   "outputs": [
    {
     "name": "stdout",
     "output_type": "stream",
     "text": [
      "0\n"
     ]
    },
    {
     "ename": "KeyboardInterrupt",
     "evalue": "",
     "output_type": "error",
     "traceback": [
      "\u001b[1;31m---------------------------------------------------------------------------\u001b[0m",
      "\u001b[1;31mKeyboardInterrupt\u001b[0m                         Traceback (most recent call last)",
      "\u001b[1;32mc:\\Users\\2chan\\Documents\\GitHub\\algorithm-study\\dp\\f and g.ipynb Cell 7'\u001b[0m in \u001b[0;36m<cell line: 21>\u001b[1;34m()\u001b[0m\n\u001b[0;32m     <a href='vscode-notebook-cell:/c%3A/Users/2chan/Documents/GitHub/algorithm-study/dp/f%20and%20g.ipynb#ch0000006?line=18'>19</a>\u001b[0m     modsum \u001b[39m=\u001b[39m modsum \u001b[39m*\u001b[39m Tq \u001b[39m%\u001b[39m mod \u001b[39m+\u001b[39m \u001b[39msum\u001b[39m(modlist[:Tr]) \u001b[39m%\u001b[39m mod\n\u001b[0;32m     <a href='vscode-notebook-cell:/c%3A/Users/2chan/Documents/GitHub/algorithm-study/dp/f%20and%20g.ipynb#ch0000006?line=19'>20</a>\u001b[0m     \u001b[39mreturn\u001b[39;00m modsum \u001b[39m%\u001b[39m mod\n\u001b[1;32m---> <a href='vscode-notebook-cell:/c%3A/Users/2chan/Documents/GitHub/algorithm-study/dp/f%20and%20g.ipynb#ch0000006?line=20'>21</a>\u001b[0m \u001b[39mprint\u001b[39m(\u001b[39m\"\u001b[39;49m\u001b[39m \u001b[39;49m\u001b[39m\"\u001b[39;49m\u001b[39m.\u001b[39;49mjoin(\u001b[39mstr\u001b[39;49m(g(T, k)) \u001b[39mfor\u001b[39;49;00m k \u001b[39min\u001b[39;49;00m \u001b[39mrange\u001b[39;49m(K \u001b[39m+\u001b[39;49m \u001b[39m1\u001b[39;49m)))\n",
      "\u001b[1;32mc:\\Users\\2chan\\Documents\\GitHub\\algorithm-study\\dp\\f and g.ipynb Cell 7'\u001b[0m in \u001b[0;36m<genexpr>\u001b[1;34m(.0)\u001b[0m\n\u001b[0;32m     <a href='vscode-notebook-cell:/c%3A/Users/2chan/Documents/GitHub/algorithm-study/dp/f%20and%20g.ipynb#ch0000006?line=18'>19</a>\u001b[0m     modsum \u001b[39m=\u001b[39m modsum \u001b[39m*\u001b[39m Tq \u001b[39m%\u001b[39m mod \u001b[39m+\u001b[39m \u001b[39msum\u001b[39m(modlist[:Tr]) \u001b[39m%\u001b[39m mod\n\u001b[0;32m     <a href='vscode-notebook-cell:/c%3A/Users/2chan/Documents/GitHub/algorithm-study/dp/f%20and%20g.ipynb#ch0000006?line=19'>20</a>\u001b[0m     \u001b[39mreturn\u001b[39;00m modsum \u001b[39m%\u001b[39m mod\n\u001b[1;32m---> <a href='vscode-notebook-cell:/c%3A/Users/2chan/Documents/GitHub/algorithm-study/dp/f%20and%20g.ipynb#ch0000006?line=20'>21</a>\u001b[0m \u001b[39mprint\u001b[39m(\u001b[39m\"\u001b[39m\u001b[39m \u001b[39m\u001b[39m\"\u001b[39m\u001b[39m.\u001b[39mjoin(\u001b[39mstr\u001b[39m(g(T, k)) \u001b[39mfor\u001b[39;00m k \u001b[39min\u001b[39;00m \u001b[39mrange\u001b[39m(K \u001b[39m+\u001b[39m \u001b[39m1\u001b[39m)))\n",
      "\u001b[1;32mc:\\Users\\2chan\\Documents\\GitHub\\algorithm-study\\dp\\f and g.ipynb Cell 7'\u001b[0m in \u001b[0;36mg\u001b[1;34m(T, k)\u001b[0m\n\u001b[0;32m     <a href='vscode-notebook-cell:/c%3A/Users/2chan/Documents/GitHub/algorithm-study/dp/f%20and%20g.ipynb#ch0000006?line=14'>15</a>\u001b[0m T \u001b[39m+\u001b[39m\u001b[39m=\u001b[39m \u001b[39m1\u001b[39m\n\u001b[0;32m     <a href='vscode-notebook-cell:/c%3A/Users/2chan/Documents/GitHub/algorithm-study/dp/f%20and%20g.ipynb#ch0000006?line=15'>16</a>\u001b[0m Tq, Tr \u001b[39m=\u001b[39m T \u001b[39m/\u001b[39m\u001b[39m/\u001b[39m mod, T \u001b[39m%\u001b[39m mod\n\u001b[1;32m---> <a href='vscode-notebook-cell:/c%3A/Users/2chan/Documents/GitHub/algorithm-study/dp/f%20and%20g.ipynb#ch0000006?line=16'>17</a>\u001b[0m modlist \u001b[39m=\u001b[39m [f(t \u001b[39m%\u001b[39m mod, k) \u001b[39mfor\u001b[39;00m t \u001b[39min\u001b[39;00m \u001b[39mrange\u001b[39m(mod)]\n\u001b[0;32m     <a href='vscode-notebook-cell:/c%3A/Users/2chan/Documents/GitHub/algorithm-study/dp/f%20and%20g.ipynb#ch0000006?line=17'>18</a>\u001b[0m modsum \u001b[39m=\u001b[39m \u001b[39msum\u001b[39m(modlist) \u001b[39m%\u001b[39m mod\n\u001b[0;32m     <a href='vscode-notebook-cell:/c%3A/Users/2chan/Documents/GitHub/algorithm-study/dp/f%20and%20g.ipynb#ch0000006?line=18'>19</a>\u001b[0m modsum \u001b[39m=\u001b[39m modsum \u001b[39m*\u001b[39m Tq \u001b[39m%\u001b[39m mod \u001b[39m+\u001b[39m \u001b[39msum\u001b[39m(modlist[:Tr]) \u001b[39m%\u001b[39m mod\n",
      "\u001b[1;32mc:\\Users\\2chan\\Documents\\GitHub\\algorithm-study\\dp\\f and g.ipynb Cell 7'\u001b[0m in \u001b[0;36m<listcomp>\u001b[1;34m(.0)\u001b[0m\n\u001b[0;32m     <a href='vscode-notebook-cell:/c%3A/Users/2chan/Documents/GitHub/algorithm-study/dp/f%20and%20g.ipynb#ch0000006?line=14'>15</a>\u001b[0m T \u001b[39m+\u001b[39m\u001b[39m=\u001b[39m \u001b[39m1\u001b[39m\n\u001b[0;32m     <a href='vscode-notebook-cell:/c%3A/Users/2chan/Documents/GitHub/algorithm-study/dp/f%20and%20g.ipynb#ch0000006?line=15'>16</a>\u001b[0m Tq, Tr \u001b[39m=\u001b[39m T \u001b[39m/\u001b[39m\u001b[39m/\u001b[39m mod, T \u001b[39m%\u001b[39m mod\n\u001b[1;32m---> <a href='vscode-notebook-cell:/c%3A/Users/2chan/Documents/GitHub/algorithm-study/dp/f%20and%20g.ipynb#ch0000006?line=16'>17</a>\u001b[0m modlist \u001b[39m=\u001b[39m [f(t \u001b[39m%\u001b[39;49m mod, k) \u001b[39mfor\u001b[39;00m t \u001b[39min\u001b[39;00m \u001b[39mrange\u001b[39m(mod)]\n\u001b[0;32m     <a href='vscode-notebook-cell:/c%3A/Users/2chan/Documents/GitHub/algorithm-study/dp/f%20and%20g.ipynb#ch0000006?line=17'>18</a>\u001b[0m modsum \u001b[39m=\u001b[39m \u001b[39msum\u001b[39m(modlist) \u001b[39m%\u001b[39m mod\n\u001b[0;32m     <a href='vscode-notebook-cell:/c%3A/Users/2chan/Documents/GitHub/algorithm-study/dp/f%20and%20g.ipynb#ch0000006?line=18'>19</a>\u001b[0m modsum \u001b[39m=\u001b[39m modsum \u001b[39m*\u001b[39m Tq \u001b[39m%\u001b[39m mod \u001b[39m+\u001b[39m \u001b[39msum\u001b[39m(modlist[:Tr]) \u001b[39m%\u001b[39m mod\n",
      "\u001b[1;32mc:\\Users\\2chan\\Documents\\GitHub\\algorithm-study\\dp\\f and g.ipynb Cell 7'\u001b[0m in \u001b[0;36mf\u001b[1;34m(x, k)\u001b[0m\n\u001b[0;32m      <a href='vscode-notebook-cell:/c%3A/Users/2chan/Documents/GitHub/algorithm-study/dp/f%20and%20g.ipynb#ch0000006?line=8'>9</a>\u001b[0m \u001b[39m@cache\u001b[39m\n\u001b[0;32m     <a href='vscode-notebook-cell:/c%3A/Users/2chan/Documents/GitHub/algorithm-study/dp/f%20and%20g.ipynb#ch0000006?line=9'>10</a>\u001b[0m \u001b[39mdef\u001b[39;00m \u001b[39mf\u001b[39m(x, k):\n\u001b[1;32m---> <a href='vscode-notebook-cell:/c%3A/Users/2chan/Documents/GitHub/algorithm-study/dp/f%20and%20g.ipynb#ch0000006?line=10'>11</a>\u001b[0m     \u001b[39mreturn\u001b[39;00m \u001b[39msum\u001b[39m(term(x \u001b[39m%\u001b[39m mod, k) \u001b[39mfor\u001b[39;00m a \u001b[39min\u001b[39;00m A) \u001b[39m%\u001b[39m mod\n",
      "\u001b[1;31mKeyboardInterrupt\u001b[0m: "
     ]
    }
   ],
   "source": [
    "from functools import cache\n",
    "mod = int(1e9+7)\n",
    "# modm1 = mod - 1\n",
    "N, K, T = [int(_) for _ in input().split()]\n",
    "A = [int(_) for _ in input().split()]\n",
    "@cache\n",
    "def term(x, k):\n",
    "    return 1 if k == 0 else (x * term(x, k - 1)) % mod\n",
    "@cache\n",
    "def f(x, k):\n",
    "    return sum(term(x % mod, k) for a in A) % mod\n",
    "@cache\n",
    "def g(T, k):\n",
    "    print(k)\n",
    "    T += 1\n",
    "    Tq, Tr = T // mod, T % mod\n",
    "    modlist = [f(t % mod, k) for t in range(mod)]\n",
    "    modsum = sum(modlist) % mod\n",
    "    modsum = modsum * Tq % mod + sum(modlist[:Tr]) % mod\n",
    "    return modsum % mod\n",
    "print(\" \".join(str(g(T, k)) for k in range(K + 1)))"
   ]
  },
  {
   "cell_type": "code",
   "execution_count": 3,
   "metadata": {},
   "outputs": [
    {
     "data": {
      "text/plain": [
       "CacheInfo(hits=0, misses=20, maxsize=None, currsize=20)"
      ]
     },
     "execution_count": 3,
     "metadata": {},
     "output_type": "execute_result"
    }
   ],
   "source": [
    "f.cache_info()"
   ]
  },
  {
   "cell_type": "code",
   "execution_count": 25,
   "metadata": {},
   "outputs": [],
   "source": [
    "from functools import cache\n",
    "mod = int(1e9+7)"
   ]
  },
  {
   "cell_type": "code",
   "execution_count": 2,
   "metadata": {},
   "outputs": [
    {
     "data": {
      "text/plain": [
       "10"
      ]
     },
     "execution_count": 2,
     "metadata": {},
     "output_type": "execute_result"
    }
   ],
   "source": [
    "@cache\n",
    "def C(x, y):\n",
    "    if x == y: return 1\n",
    "    if y == 0: return 1\n",
    "    if x < y: return 0\n",
    "    return C(x - 1, y) + C(x - 1, y - 1)\n",
    "\n",
    "C(5, 2)"
   ]
  },
  {
   "cell_type": "code",
   "execution_count": 10,
   "metadata": {},
   "outputs": [
    {
     "data": {
      "text/plain": [
       "1024"
      ]
     },
     "execution_count": 10,
     "metadata": {},
     "output_type": "execute_result"
    }
   ],
   "source": [
    "@cache\n",
    "def p(x, k):\n",
    "    if k==0: return 1\n",
    "    return x * p(x, k - 1)\n",
    "p(2, 10)"
   ]
  },
  {
   "cell_type": "code",
   "execution_count": 11,
   "metadata": {},
   "outputs": [],
   "source": [
    "@cache\n",
    "def pp(x, a, k):\n",
    "    return sum(C(k, i) * p(x, i) * p(a, k - i) for i in range(k + 1))\n"
   ]
  },
  {
   "cell_type": "code",
   "execution_count": 26,
   "metadata": {},
   "outputs": [],
   "source": [
    "@cache\n",
    "def term(x, a, k):\n",
    "    return 1 if k == 0 else (x + a) * term(x, a, k - 1) % mod"
   ]
  },
  {
   "cell_type": "code",
   "execution_count": 122,
   "metadata": {},
   "outputs": [],
   "source": [
    "@cache\n",
    "def f(x, k):\n",
    "    return sum(term(x, a, k) for a in A) % mod"
   ]
  },
  {
   "cell_type": "code",
   "execution_count": 123,
   "metadata": {},
   "outputs": [],
   "source": [
    "@cache\n",
    "def g(T, k):\n",
    "    return sum(f(t, k) for t in range(T + 1)) % mod\n"
   ]
  },
  {
   "cell_type": "code",
   "execution_count": 27,
   "metadata": {},
   "outputs": [
    {
     "name": "stdout",
     "output_type": "stream",
     "text": [
      "3 4 [0, 1]\n",
      "\n",
      "  (0 + 0)^0 = 1\n",
      "  (0 + 1)^0 = 1\n",
      " f(0, 0) = 2\n",
      "\n",
      "  (1 + 0)^0 = 1\n",
      "  (1 + 1)^0 = 1\n",
      " f(1, 0) = 2\n",
      "\n",
      "  (2 + 0)^0 = 1\n",
      "  (2 + 1)^0 = 1\n",
      " f(2, 0) = 2\n",
      "\n",
      "  (3 + 0)^0 = 1\n",
      "  (3 + 1)^0 = 1\n",
      " f(3, 0) = 2\n",
      "\n",
      "  (4 + 0)^0 = 1\n",
      "  (4 + 1)^0 = 1\n",
      " f(4, 0) = 2\n",
      "\n",
      "g(4, 0) = 10\n",
      "\n",
      "\n",
      "  (0 + 0)^1 = 0\n",
      "  (0 + 1)^1 = 1\n",
      " f(0, 1) = 1\n",
      "\n",
      "  (1 + 0)^1 = 1\n",
      "  (1 + 1)^1 = 2\n",
      " f(1, 1) = 3\n",
      "\n",
      "  (2 + 0)^1 = 2\n",
      "  (2 + 1)^1 = 3\n",
      " f(2, 1) = 5\n",
      "\n",
      "  (3 + 0)^1 = 3\n",
      "  (3 + 1)^1 = 4\n",
      " f(3, 1) = 7\n",
      "\n",
      "  (4 + 0)^1 = 4\n",
      "  (4 + 1)^1 = 5\n",
      " f(4, 1) = 9\n",
      "\n",
      "g(4, 1) = 25\n",
      "\n",
      "\n",
      "  (0 + 0)^2 = 0\n",
      "  (0 + 1)^2 = 1\n",
      " f(0, 2) = 1\n",
      "\n",
      "  (1 + 0)^2 = 1\n",
      "  (1 + 1)^2 = 4\n",
      " f(1, 2) = 5\n",
      "\n",
      "  (2 + 0)^2 = 4\n",
      "  (2 + 1)^2 = 9\n",
      " f(2, 2) = 13\n",
      "\n",
      "  (3 + 0)^2 = 9\n",
      "  (3 + 1)^2 = 16\n",
      " f(3, 2) = 25\n",
      "\n",
      "  (4 + 0)^2 = 16\n",
      "  (4 + 1)^2 = 25\n",
      " f(4, 2) = 41\n",
      "\n",
      "g(4, 2) = 85\n",
      "\n",
      "\n",
      "  (0 + 0)^3 = 0\n",
      "  (0 + 1)^3 = 1\n",
      " f(0, 3) = 1\n",
      "\n",
      "  (1 + 0)^3 = 1\n",
      "  (1 + 1)^3 = 8\n",
      " f(1, 3) = 9\n",
      "\n",
      "  (2 + 0)^3 = 8\n",
      "  (2 + 1)^3 = 27\n",
      " f(2, 3) = 35\n",
      "\n",
      "  (3 + 0)^3 = 27\n",
      "  (3 + 1)^3 = 64\n",
      " f(3, 3) = 91\n",
      "\n",
      "  (4 + 0)^3 = 64\n",
      "  (4 + 1)^3 = 125\n",
      " f(4, 3) = 189\n",
      "\n",
      "g(4, 3) = 325\n",
      "\n",
      "\n"
     ]
    }
   ],
   "source": [
    "@cache\n",
    "def f(x, k):\n",
    "    for a in A:print(f\"  ({x} + {a})^{k} =\",term(x, a, k))\n",
    "    return sum(term(x, a, k) for a in A) % mod\n",
    "@cache\n",
    "def g(T, k):\n",
    "    for t in range(T + 1):print(f\" f({t}, {k}) =\",f(t, k), end=\"\\n\\n\")\n",
    "    return sum(f(t, k) for t in range(T + 1)) % mod\n",
    "print(K, T, A, end=\"\\n\\n\")\n",
    "for k in range(K + 1):\n",
    "    print(f\"g({T}, {k}) =\",g(T, k), end=\"\\n\\n\\n\")"
   ]
  },
  {
   "cell_type": "markdown",
   "metadata": {},
   "source": [
    "## 테스트 결과"
   ]
  },
  {
   "cell_type": "markdown",
   "metadata": {},
   "source": [
    "|테스트|결과|\n",
    "|---:|:---|"
   ]
  },
  {
   "cell_type": "markdown",
   "metadata": {},
   "source": [
    "## 예제"
   ]
  },
  {
   "cell_type": "code",
   "execution_count": 5,
   "metadata": {},
   "outputs": [],
   "source": [
    "def preprocess_for_example(input_):\n",
    "    input_ = input_.split(\"\\n\")\n",
    "    N, K, T = [int(_) for _ in input_[0].split()]\n",
    "    A = [int(_) for _ in input_[1].split()]\n",
    "    return N, K, T, A"
   ]
  },
  {
   "cell_type": "code",
   "execution_count": 14,
   "metadata": {},
   "outputs": [
    {
     "name": "stdout",
     "output_type": "stream",
     "text": [
      "2 3 4 [0, 1]\n"
     ]
    }
   ],
   "source": [
    "N, K, T, A = preprocess_for_example(\"\"\"2 3 4\n",
    "0 1\"\"\")\n",
    "print(N, K, T, A)"
   ]
  }
 ],
 "metadata": {
  "interpreter": {
   "hash": "73891b0dc2e53390f36276e59930dd4ecab91b05b5c90320c2d5b1c443f87069"
  },
  "kernelspec": {
   "display_name": "Python 3.10.1 ('venv': venv)",
   "language": "python",
   "name": "python3"
  },
  "language_info": {
   "codemirror_mode": {
    "name": "ipython",
    "version": 3
   },
   "file_extension": ".py",
   "mimetype": "text/x-python",
   "name": "python",
   "nbconvert_exporter": "python",
   "pygments_lexer": "ipython3",
   "version": "3.10.1"
  },
  "orig_nbformat": 4
 },
 "nbformat": 4,
 "nbformat_minor": 2
}
