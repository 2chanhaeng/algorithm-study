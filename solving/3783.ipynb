{
    "cells": [
        {
            "cell_type": "markdown",
            "metadata": {},
            "source": [
                "# [백준/세제곱근](https://www.acmicpc.net/problem/3783)"
            ]
        },
        {
            "cell_type": "markdown",
            "metadata": {},
            "source": [
                "## 풀이과정"
            ]
        },
        {
            "cell_type": "markdown",
            "metadata": {},
            "source": [
                "### 첫번째 시도"
            ]
        },
        {
            "cell_type": "markdown",
            "metadata": {},
            "source": [
                "#### 풀이과정"
            ]
        },
        {
            "cell_type": "code",
            "execution_count": 32,
            "metadata": {},
            "outputs": [],
            "source": [
                "def solution():\n",
                "    import sys\n",
                "    from decimal import Decimal, getcontext\n",
                "    getcontext().prec = 1000\n",
                "\n",
                "    sys.stdin.readline()\n",
                "    third = Decimal(1) / 3\n",
                "    q = Decimal(\".00000000001\")\n",
                "    for i in map(Decimal, sys.stdin.read().split()):\n",
                "        print(str((i ** third).quantize(q))[:-1])\n",
                "\n",
                "\n",
                "solution()"
            ]
        },
        {
            "cell_type": "markdown",
            "metadata": {},
            "source": [
                "## 해답"
            ]
        },
        {
            "cell_type": "code",
            "execution_count": 79,
            "metadata": {},
            "outputs": [
                {
                    "data": {
                        "text/plain": [
                            "22233344455566677778889999"
                        ]
                    },
                    "execution_count": 79,
                    "metadata": {},
                    "output_type": "execute_result"
                }
            ],
            "source": [
                "import math"
            ]
        },
        {
            "cell_type": "code",
            "execution_count": 76,
            "metadata": {},
            "outputs": [],
            "source": [
                "def solution():\n",
                "    import sys\n",
                "    from decimal import Decimal, getcontext\n",
                "    getcontext().prec = 1000\n",
                "\n",
                "    sys.stdin.readline()\n",
                "    third = Decimal(1) / 3\n",
                "    q = Decimal(\".00000000001\")\n",
                "    for i in map(Decimal, sys.stdin.read().split()):\n",
                "        print(str((i ** third).quantize(q))[:-1])"
            ]
        },
        {
            "cell_type": "markdown",
            "metadata": {},
            "source": [
                "## 예제"
            ]
        },
        {
            "cell_type": "code",
            "execution_count": 77,
            "metadata": {},
            "outputs": [
                {
                    "name": "stdout",
                    "output_type": "stream",
                    "text": [
                        "The blackcellmagic extension is already loaded. To reload it, use:\n",
                        "  %reload_ext blackcellmagic\n"
                    ]
                }
            ],
            "source": [
                "# black 모듈을 jupyter notebook 내에서 사용 가능하게 만들어주는 blackcellmagic 모듈 불러오기\n",
                "%load_ext blackcellmagic\n",
                "# %%black\n",
                "\n",
                "# 백준 문제 풀이용 예제 실행 코드\n",
                "from bwj import test\n",
                "test_solution = test(solution)\n",
                "\n",
                "# test_solution(\"\"\"\"\"\")\n",
                "# test_solution(read(\"fn\").read())"
            ]
        },
        {
            "cell_type": "code",
            "execution_count": 78,
            "metadata": {},
            "outputs": [
                {
                    "name": "stdout",
                    "output_type": "stream",
                    "text": [
                        "1.0000000000\n",
                        "2.0000000000\n",
                        "10.0000000000\n",
                        "1.2599210498\n",
                        "321.0000000000\n",
                        "49793385923477226971099150388336845385841421286168.4019961978\n"
                    ]
                }
            ],
            "source": [
                "test_solution(\"\"\"5\n",
                "1\n",
                "8\n",
                "1000\n",
                "2\n",
                "33076161\n",
                "123456789012345678901234567890123456789012345678901234567890123456789012345678901234567890123456789012345678901234567890123456789012345678901234567890\n",
                "\"\"\")\n",
                "# answer:\n",
                "# 1.0000000000\n",
                "# 2.0000000000\n",
                "# 10.0000000000\n",
                "# 1.2599210498\n",
                "# 321.0000000000\n",
                "# 49793385923477226971099150388336845385841421286168.4019961978"
            ]
        }
    ],
    "metadata": {
        "interpreter": {
            "hash": "73891b0dc2e53390f36276e59930dd4ecab91b05b5c90320c2d5b1c443f87069"
        },
        "kernelspec": {
            "display_name": "Python 3.10.1 ('venv': venv)",
            "language": "python",
            "name": "python3"
        },
        "language_info": {
            "codemirror_mode": {
                "name": "ipython",
                "version": 3
            },
            "file_extension": ".py",
            "mimetype": "text/x-python",
            "name": "python",
            "nbconvert_exporter": "python",
            "pygments_lexer": "ipython3",
            "version": "3.11.2"
        },
        "orig_nbformat": 4
    },
    "nbformat": 4,
    "nbformat_minor": 2
}
