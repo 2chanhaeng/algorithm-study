{
    "cells": [
        {
            "cell_type": "markdown",
            "metadata": {},
            "source": [
                "# [백준/삼차 방정식 풀기 2](https://www.acmicpc.net/problem/15682)\n"
            ]
        },
        {
            "cell_type": "markdown",
            "metadata": {},
            "source": [
                "## 풀이과정\n"
            ]
        },
        {
            "cell_type": "markdown",
            "metadata": {},
            "source": [
                "### 첫번째 시도\n"
            ]
        },
        {
            "cell_type": "markdown",
            "metadata": {},
            "source": [
                "#### 풀이과정\n"
            ]
        },
        {
            "cell_type": "code",
            "execution_count": 13,
            "metadata": {},
            "outputs": [],
            "source": [
                "import sys\n",
                "from decimal import Decimal, getcontext\n",
                "\n",
                "getcontext().prec = 100\n",
                "\n",
                "ERROR = Decimal(\"0.\" + \"0\" * 20 + \"1\")\n",
                "MIN, MAX = Decimal(-1000000), Decimal(1000000)\n",
                "\n",
                "\n",
                "def newton(s, e, f):\n",
                "    while e - s > ERROR:\n",
                "        p = (s + e) / 2\n",
                "        if f(p) * f(s) > 0:\n",
                "            s = p\n",
                "        else:\n",
                "            e = p\n",
                "    return s\n",
                "\n",
                "\n",
                "def cubic(a, b, c, d):\n",
                "    return lambda x: a * x ** 3 + b * x ** 2 + c * x + d\n",
                "\n",
                "\n",
                "def discriminate(a, b, c):\n",
                "    return b ** 2 - 3 * a * c\n",
                "\n",
                "\n",
                "def solve(a, b, c, d):\n",
                "    if a.is_signed():\n",
                "        a, b, c, d = -a, -b, -c, -d\n",
                "    f = cubic(a, b, c, d)\n",
                "    D = discriminate(b, c, d)\n",
                "    ranges = []\n",
                "    if D < 0:\n",
                "        ranges = [(MIN, MAX)]\n",
                "    else:\n",
                "        sqrt_D = D ** Decimal(\"0.5\")\n",
                "        Mx, mx = (-b - sqrt_D) / (3 * a), (-b + sqrt_D) / (3 * a)\n",
                "        My, my = f(Mx), f(mx)\n",
                "        if My <= -ERROR:\n",
                "            ranges = [(mx, MAX)]\n",
                "        elif abs(My) < ERROR:\n",
                "            ranges = [(mx, MAX), (Mx, Mx)]\n",
                "        elif ERROR <= my:\n",
                "            ranges = [(MIN, Mx)]\n",
                "        elif abs(my) < ERROR:\n",
                "            ranges = [(MIN, Mx), (mx, mx)]\n",
                "        else:\n",
                "            ranges = [(MIN, Mx), (Mx, mx), (mx, MAX)]\n",
                "    maybe = [newton(s, e, f) for s, e in ranges]\n",
                "    answer = [f\"{maybe[0]:.10f}\"]\n",
                "    for i, j in zip(maybe, maybe[1:]):\n",
                "        if abs(i - j) > Decimal(1e-10):\n",
                "            answer.append(f\"{j:.10f}\")\n",
                "    return \" \".join(answer)\n",
                "\n",
                "\n",
                "def solution():\n",
                "    input = lambda: sys.stdin.readline().rstrip()\n",
                "    for _ in range(int(input())):\n",
                "        print(solve(*map(Decimal, input().split())))\n",
                "\n",
                "\n",
                "solution()"
            ]
        },
        {
            "cell_type": "code",
            "execution_count": 19,
            "metadata": {},
            "outputs": [],
            "source": [
                "import sys\n",
                "from decimal import Decimal, getcontext\n",
                "from typing import Callable\n",
                "\n",
                "getcontext().prec = 100\n",
                "\n",
                "ERROR = Decimal(\"0.\" + \"0\" * 20 + \"1\")\n",
                "MIN, MAX = Decimal(-1000000), Decimal(1000000)\n",
                "\n",
                "\n",
                "def bisect(s: Decimal, e: Decimal, f: Decimal):\n",
                "    while e - s > ERROR:\n",
                "        p = (s + e) / 2\n",
                "        if f(p) * f(s) > 0:\n",
                "            s = p\n",
                "        else:\n",
                "            e = p\n",
                "    return s\n",
                "\n",
                "\n",
                "def cubic(\n",
                "    a: Decimal, b: Decimal, c: Decimal, d: Decimal\n",
                ") -> Callable[[Decimal], Decimal]:\n",
                "    return lambda x: a * x ** 3 + b * x ** 2 + c * x + d\n",
                "\n",
                "\n",
                "def discriminate(a, b, c):\n",
                "    return b ** 2 - 3 * a * c\n",
                "\n",
                "\n",
                "def solve(a: Decimal, b: Decimal, c: Decimal, d: Decimal):\n",
                "    f = cubic(a, b, c, d)\n",
                "    D = discriminate(b, c, d)\n",
                "    if D < 0:\n",
                "        ans = [(MIN, MAX)]\n",
                "    else:\n",
                "        sqrt = D.sqrt()\n",
                "        m, M = sorted([(-b - (sqrt)) / (3 * a), (-b + (sqrt)) / (3 * a)])\n",
                "        if round(f(m) * f(M), 11) > 0:\n",
                "            ans = [(MIN, MAX)]\n",
                "        elif round(f(m), 11) == 0 or round(f(M), 11) == 0:\n",
                "            if round(f(m), 11) == 0:\n",
                "                ans = [(m, m)]\n",
                "                if round(m, 11) != round(M, 11):\n",
                "                    ans.append((M, MAX))\n",
                "            else:\n",
                "                ans = [(MIN, m), (M, M)]\n",
                "        else:\n",
                "            ans = [(MIN, m), (m, M), (M, MAX)]\n",
                "    maybe = [bisect(s, e, f) for s, e in ans]\n",
                "    return \" \".join(\"{:.10f}\".format(i) for i in maybe)\n",
                "\n",
                "\n",
                "def solution():\n",
                "    input = lambda: sys.stdin.readline().rstrip()\n",
                "    for _ in range(int(input())):\n",
                "        print(solve(*map(Decimal, input().split())))\n",
                "\n",
                "\n",
                "solution()"
            ]
        },
        {
            "cell_type": "markdown",
            "metadata": {},
            "source": [
                "## 해답\n"
            ]
        },
        {
            "cell_type": "code",
            "execution_count": 80,
            "metadata": {},
            "outputs": [
                {
                    "name": "stdout",
                    "output_type": "stream",
                    "text": [
                        "1E-20 -1E+6 1E+6\n"
                    ]
                }
            ],
            "source": [
                "import sys\n",
                "from decimal import Decimal, getcontext\n",
                "from typing import Callable, TypeVar\n",
                "\n",
                "ERROR_EXP = 20\n",
                "\n",
                "getcontext().prec = 100\n",
                "\n",
                "ERROR = Decimal(f\"1E-{ERROR_EXP}\")\n",
                "MIN, MAX = Decimal(\"-1E6\"), Decimal(\"1E6\")\n",
                "print(ERROR, MIN, MAX)\n",
                "is_zero: Callable[[Decimal], bool] = lambda x: abs(x) < ERROR"
            ]
        },
        {
            "cell_type": "code",
            "execution_count": 81,
            "metadata": {},
            "outputs": [
                {
                    "name": "stdout",
                    "output_type": "stream",
                    "text": [
                        "0E-21 0E-21 1.0E-20 True\n"
                    ]
                }
            ],
            "source": [
                "print(zero := Decimal('0E-21'), abs(zero), ERROR - zero, is_zero(zero))\n"
            ]
        },
        {
            "cell_type": "code",
            "execution_count": 2,
            "metadata": {},
            "outputs": [],
            "source": [
                "def bisect(start: Decimal, end: Decimal, f: Callable[[Decimal], Decimal]):\n",
                "    while end - start > ERROR:\n",
                "        mid = (start + end) / 2\n",
                "        if f(mid) * f(start) > 0:\n",
                "            start = mid\n",
                "        else:\n",
                "            end = mid\n",
                "    return start"
            ]
        },
        {
            "cell_type": "code",
            "execution_count": 3,
            "metadata": {},
            "outputs": [],
            "source": [
                "def cubic(a: Decimal, b: Decimal, c: Decimal, d: Decimal) -> Callable[[Decimal], Decimal]:\n",
                "    return lambda x: a * x ** 3 + b * x ** 2 + c * x + d"
            ]
        },
        {
            "cell_type": "markdown",
            "metadata": {},
            "source": [
                "문제 해결 과정  \n",
                "임의의 삼차 방정식$f(x) = ax^3 + bx^2 + cx + d$은 최대 3개의 실근을 가짐  \n",
                "삼차 방정식을 그래프로 나타냈을 때 x절편이 각 실근이 됨  \n",
                "이 방정식의 도함수는 2차 방정식$f'(x) = 3ax^2 + 2bx + c$이 됨  \n",
                "도함수의 판별식$D = b^2 + 3ac$의 값에 따라 근의 개수는 3개의 경우로 나뉨\n",
                "\n",
                "1. $D \\ge 0$인 경우:\n",
                "   -> 도함수가 2개의 실근을 가짐\n",
                "   -> $f$ 가 2번 꺾여서(함수의 증가/감소가 변해서) 2개의 극값을 가짐\n",
                "   -> $f$ 의 $x$ 절편 = 실근은 최대 3개\n",
                "   -> 두 극값의 경우를 살펴보면 근의 개수를 찾을 수 있음\n",
                "   1. 두 극값의 곱이 0보다 큰 경우\n",
                "      -> 둘다 x축 위에 있거나 밑에 있다는 뜻\n",
                "      -> 즉 그래프가 역행하는 부분이 x축과 만나지 않음\n",
                "      -> 따라서 실근은 오직 하나뿐임\n",
                "   2. 두 극값이 같은 경우\n",
                "      -> 실근은 진짜 하나든 삼중근이든 사실상 하나뿐임\n",
                "   3. 두 극값\n",
                "2. $D < 0$인 경우:\n",
                "   -> 도함수가 0, 1개의 실근을 가짐\n",
                "   -> $f$ 가 꺾이지 않아서(함수의 증가/감소가 변하지 않아서) 극값을 가지지 않음\n",
                "   -> $f$ 의 $x$ 절편은 딱 하나\n",
                "   -> 오직 하나의 근만 가짐\n"
            ]
        },
        {
            "cell_type": "code",
            "execution_count": 4,
            "metadata": {},
            "outputs": [],
            "source": [
                "def discriminate(a: Decimal, b: Decimal, c: Decimal):\n",
                "    return b ** 2 - 3 * a * c"
            ]
        },
        {
            "cell_type": "code",
            "execution_count": 45,
            "metadata": {},
            "outputs": [],
            "source": [
                "def print_format(x: Decimal) -> str:\n",
                "    return f'{x:.10f}'"
            ]
        },
        {
            "cell_type": "code",
            "execution_count": 70,
            "metadata": {},
            "outputs": [
                {
                    "data": {
                        "text/plain": [
                            "Decimal('0E-11')"
                        ]
                    },
                    "execution_count": 70,
                    "metadata": {},
                    "output_type": "execute_result"
                }
            ],
            "source": [
                "round(Decimal(\"0.000000000001\"), 11)"
            ]
        },
        {
            "cell_type": "code",
            "execution_count": 62,
            "metadata": {},
            "outputs": [],
            "source": [
                "def solve(a: Decimal, b: Decimal, c: Decimal, d: Decimal):\n",
                "    f = cubic(a, b, c, d)\n",
                "    D = discriminate(b, c, d)\n",
                "    print(f\"D = {float(D)} { '>' if D > 0 else '<' if D < 0 else '=' } 0\")\n",
                "    if D <= 0:\n",
                "        ranges = [(MIN, MAX)]\n",
                "        print(f\"D가 0보다 작으므로 유일한 실수해는 {MIN} 과 {MAX} 사이에 있다.\")\n",
                "    else:\n",
                "        print(f\"D가 0보다 크거나 같으므로 실수해는 중근까지 3개이다.\")\n",
                "        sqrt = D.sqrt()\n",
                "        m, M = sorted([(-b - (sqrt)) / (3 * a), (-b + (sqrt)) / (3 * a)])\n",
                "        print(f\"극점은 x={print_format(m)}, {print_format(M)} 이다.\")\n",
                "        f_m, f_M = f(m), f(M)\n",
                "        if round(f_m * f_M, 11) > 0:\n",
                "            ranges = [(MIN, MAX)]\n",
                "            print(f\"극점에서의 함수값의 부호가 같으므로 유일한 실수해는 {MIN} 과 {MAX} 사이에 있다.\")\n",
                "        elif round(f_m, 11) == 0 or round(f_M, 11) == 0:\n",
                "            if round(f_m, 11) == 0:\n",
                "                ranges = [(m, m)]\n",
                "                print(f\"x={print_format(m)}에서 중근이 존재한다.\")\n",
                "                if round(m - M, 11) > ERROR:\n",
                "                    ranges.append((M, MAX))\n",
                "                    print(f\"두 극점이 다르므로 {print_format(M)}과 {MAX} 사이에도 실수해가 존재한다.\")\n",
                "                else:\n",
                "                    print(f\"두 극점이 동일하므로 유일한 실수해는 극점인 {print_format(m)} 뿐이다.\")\n",
                "            else:\n",
                "                ranges = [(MIN, m), (M, M)]\n",
                "                print(f\"x={print_format(M)}에서 중근이 존재한다.\")\n",
                "                print(f\"두 극점이 다르므로 {MIN}과 {print_format(m)} 사이에도 실수해가 존재한다.\")\n",
                "        else:\n",
                "            ranges = [(MIN, m),(m, M), (M, MAX)]\n",
                "            print(f\"중근이 존재하지 않으므로 3개의 실수해가 존재한다.\")\n",
                "            print(f\"각 해는 {MIN}과 {print_format(m)} 사이, {print_format(m)}과 {print_format(M)} 사이, {print_format(M)}과 {MAX} 사이에 있다.\")\n",
                "    answers = [bisect(s, e, f) for s, e in ranges]\n",
                "    for answer, [min, max] in zip(answers, ranges):\n",
                "        print(f\"{print_format(min)} 과 {print_format(max)} 사이에 있는 해는 {print_format(answer)} 이다.\")\n",
                "    return \" \".join(\"{:.10f}\".format(i) for i in answers)"
            ]
        },
        {
            "attachments": {},
            "cell_type": "markdown",
            "metadata": {},
            "source": [
                "```python\n",
                "from decimal import *\n",
                "getcontext().prec = 100\n",
                "for i in range(int(input())):\n",
                "    A, B, C, d = map(D := Decimal, input().split())\n",
                "\n",
                "    def f(x):\n",
                "        return A * x ** 3 + B * x ** 2 + C * x + d\n",
                "\n",
                "    def find(s, e):\n",
                "        while e - s > 10 ** -10:\n",
                "            p = (s + e) / 2\n",
                "            if f(p) * f(s) > 0:\n",
                "                s = p\n",
                "            else:\n",
                "                e = p\n",
                "        return s\n",
                "\n",
                "    if B ** 2 - 3 * A * C < 0:\n",
                "        ans = [find(D(-1000000), D(1000000))]\n",
                "    else:\n",
                "        sol = sorted(\n",
                "            [\n",
                "                (-B - (B ** 2 - 3 * A * C) ** D(\"0.5\")) / (3 * A),\n",
                "                (-B + (B ** 2 - 3 * A * C) ** D(\"0.5\")) / (3 * A),\n",
                "            ]\n",
                "        )\n",
                "        if round(f(sol[0]) * f(sol[1]), 11) > 0:\n",
                "            ans = [find(D(-1000000), D(1000000))]\n",
                "        elif round(f(sol[0]), 11) == 0 or round(f(sol[1]), 11) == 0:\n",
                "            if round(f(sol[0]), 11) == 0:\n",
                "                if round(sol[0], 11) == round(sol[1], 11):\n",
                "                    ans = [sol[0]]\n",
                "                else:\n",
                "                    ans = [sol[0], find(sol[1], D(1000000))]\n",
                "            else:\n",
                "                ans = [find(D(-1000000), sol[0]), sol[1]]\n",
                "        else:\n",
                "            ans = [\n",
                "                find(D(-1000000), sol[0]),\n",
                "                find(sol[0], sol[1]),\n",
                "                find(sol[1], D(1000000)),\n",
                "            ]\n",
                "    ans = [\"{:.10f}\".format(i) for i in ans]\n",
                "    print(*ans)\n",
                "```\n"
            ]
        },
        {
            "cell_type": "code",
            "execution_count": 63,
            "metadata": {},
            "outputs": [],
            "source": [
                "def solution():\n",
                "    inputs = map(str.rstrip, sys.stdin.read().splitlines())\n",
                "    for input in list(inputs)[1:]:\n",
                "        print(\"\\n=============\")\n",
                "        print(solve(*map(Decimal, input.split())))"
            ]
        },
        {
            "cell_type": "markdown",
            "metadata": {},
            "source": [
                "## 예제\n"
            ]
        },
        {
            "cell_type": "code",
            "execution_count": 64,
            "metadata": {},
            "outputs": [
                {
                    "name": "stdout",
                    "output_type": "stream",
                    "text": [
                        "The blackcellmagic extension is already loaded. To reload it, use:\n",
                        "  %reload_ext blackcellmagic\n"
                    ]
                }
            ],
            "source": [
                "# black 모듈을 jupyter notebook 내에서 사용 가능하게 만들어주는 blackcellmagic 모듈 불러오기\n",
                "%load_ext blackcellmagic\n",
                "# %%black\n",
                "\n",
                "# 백준 문제 풀이용 예제 실행 코드\n",
                "from bwj import test\n",
                "test_solution = test(solution)\n",
                "\n",
                "# test_solution(\"\"\"\"\"\")\n",
                "# test_solution(read(\"fn\").read())"
            ]
        },
        {
            "cell_type": "code",
            "execution_count": 65,
            "metadata": {},
            "outputs": [
                {
                    "name": "stdout",
                    "output_type": "stream",
                    "text": [
                        "4 -24 44 -24\n"
                    ]
                }
            ],
            "source": [
                "def coefficients(ans: tuple[float, float, float], A: float):\n",
                "    a, b, c = ans\n",
                "    return list(map(A.__mul__, [\n",
                "        1, \n",
                "        -(a + b + c),\n",
                "        a * b + b * c + c * a,\n",
                "        -(a * b * c),\n",
                "    ]))\n",
                "\n",
                "print(\" \".join(map(str, coefficients((1, 2, 3), 4))))"
            ]
        },
        {
            "cell_type": "code",
            "execution_count": 66,
            "metadata": {},
            "outputs": [],
            "source": [
                "answers = [\n",
                "    [1.123456789, 123456.123456789, 987654.192837465]\n",
                "]\n"
            ]
        },
        {
            "cell_type": "code",
            "execution_count": 67,
            "metadata": {},
            "outputs": [
                {
                    "name": "stdout",
                    "output_type": "stream",
                    "text": [
                        "\n",
                        "=============\n",
                        "D = -18.5 < 0\n",
                        "D가 0보다 작으므로 유일한 실수해는 -1000000 과 1000000 사이에 있다.\n",
                        "-1000000.0000000000 과 1000000.0000000000 사이에 있는 해는 3.0000000000 이다.\n",
                        "3.0000000000\n",
                        "\n",
                        "=============\n",
                        "D = 7.0 > 0\n",
                        "D가 0보다 크거나 같으므로 실수해는 중근까지 3개이다.\n",
                        "극점은 x=0.7257081148, 1.6076252185 이다.\n",
                        "중근이 존재하지 않으므로 3개의 실수해가 존재한다.\n",
                        "각 해는 -1000000과 0.7257081148 사이, 0.7257081148과 1.6076252185 사이, 1.6076252185과 1000000 사이에 있다.\n",
                        "-1000000.0000000000 과 0.7257081148 사이에 있는 해는 0.5000000000 이다.\n",
                        "0.7257081148 과 1.6076252185 사이에 있는 해는 1.0000000000 이다.\n",
                        "1.6076252185 과 1000000.0000000000 사이에 있는 해는 2.0000000000 이다.\n",
                        "0.5000000000 1.0000000000 2.0000000000\n",
                        "\n",
                        "=============\n",
                        "D = 0.0 = 0\n",
                        "D가 0보다 크거나 같으므로 실수해는 중근까지 3개이다.\n",
                        "극점은 x=0.0000000000, 0.0000000000 이다.\n",
                        "x=0.0000000000에서 중근이 존재한다.\n",
                        "두 극점이 동일하므로 유일한 실수해는 극점인 0.0000000000 뿐이다.\n",
                        "0.0000000000 과 0.0000000000 사이에 있는 해는 0.0000000000 이다.\n",
                        "0.0000000000\n",
                        "\n",
                        "=============\n",
                        "D = 208.0 > 0\n",
                        "D가 0보다 크거나 같으므로 실수해는 중근까지 3개이다.\n",
                        "극점은 x=0.7981495748, 3.2018504252 이다.\n",
                        "중근이 존재하지 않으므로 3개의 실수해가 존재한다.\n",
                        "각 해는 -1000000과 0.7981495748 사이, 0.7981495748과 3.2018504252 사이, 3.2018504252과 1000000 사이에 있다.\n",
                        "-1000000.0000000000 과 0.7981495748 사이에 있는 해는 0.7981495748 이다.\n",
                        "0.7981495748 과 3.2018504252 사이에 있는 해는 1.0000000000 이다.\n",
                        "3.2018504252 과 1000000.0000000000 사이에 있는 해는 1000000.0000000000 이다.\n",
                        "0.7981495748 1.0000000000 1000000.0000000000\n"
                    ]
                }
            ],
            "source": [
                "test_solution(\"\"\"4\n",
                "1.5 -5 2 -1.5\n",
                "2 -7 7 -2\n",
                "2 0 0 0\n",
                "4 -24 44 -24\n",
                "\"\"\")\n",
                "# answer:\n",
                "# 3.0000\n",
                "# 0.5000 1.0000 2.0000\n",
                "# 0.0000"
            ]
        }
    ],
    "metadata": {
        "kernelspec": {
            "display_name": "venv",
            "language": "python",
            "name": "python3"
        },
        "language_info": {
            "codemirror_mode": {
                "name": "ipython",
                "version": 3
            },
            "file_extension": ".py",
            "mimetype": "text/x-python",
            "name": "python",
            "nbconvert_exporter": "python",
            "pygments_lexer": "ipython3",
            "version": "3.11.3"
        },
        "orig_nbformat": 4,
        "vscode": {
            "interpreter": {
                "hash": "72904a014a9ffe38f4c58942120b599b3c5a87d06764037548e0139929c1cde3"
            }
        }
    },
    "nbformat": 4,
    "nbformat_minor": 2
}
