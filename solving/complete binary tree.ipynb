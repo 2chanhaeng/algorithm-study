{
 "cells": [
  {
   "cell_type": "markdown",
   "metadata": {},
   "source": [
    "# [백준/완전 이진트리](https://www.acmicpc.net/problem/1634)"
   ]
  },
  {
   "cell_type": "markdown",
   "metadata": {},
   "source": [
    "## 풀이과정"
   ]
  },
  {
   "cell_type": "markdown",
   "metadata": {},
   "source": [
    "### 첫번째 시도"
   ]
  },
  {
   "cell_type": "markdown",
   "metadata": {},
   "source": [
    "풀이과정"
   ]
  },
  {
   "cell_type": "code",
   "execution_count": null,
   "metadata": {},
   "outputs": [],
   "source": [
    "from itertools import product as prod\n",
    "\n",
    "\n",
    "def separated(iterable, step):\n",
    "    return [iterable[i * step : (i + 1) * step] for i in range(len(iterable) // step)]\n",
    "\n",
    "\n",
    "K, *nodes = map(int, open(0).read().split())\n",
    "if K == 1:\n",
    "    print(2)\n",
    "else:\n",
    "    k = 2 ** (K - 1)\n",
    "    T1, T2 = nodes[:k], nodes[k:]\n",
    "    t1_seps, t2_seps = separated(T1, 2), separated(T2, 2)\n",
    "    t1_dist, t2_dist = {2: {frozenset(sep) for sep in t1_seps}}, {\n",
    "        2: {frozenset(sep) for sep in t2_seps}\n",
    "    }\n",
    "    for seps, dist in [(t1_seps, t1_dist), (t2_seps, t2_dist)]:\n",
    "        for distance in range(2, K):\n",
    "            seps = separated(seps, 2)\n",
    "            dist[2 * distance] = set().union(\n",
    "                *[{frozenset(ij) for ij in prod(*sep)} for sep in seps]\n",
    "            )\n",
    "            seps = [sep1 + sep2 for sep1, sep2 in seps]\n",
    "    common = set().union(*[j & t2_dist[i] for i, j in t1_dist.items()])\n",
    "\n",
    "    connected = {}\n",
    "    for i, j in common:\n",
    "        connected.setdefault(i, set()).add(j)\n",
    "        connected.setdefault(j, set()).add(i)\n",
    "\n",
    "    counter = {}\n",
    "    for i, j in connected.items():\n",
    "        j_add_i = frozenset(j | {i})\n",
    "        counter[j_add_i] = counter.get(j_add_i, 0) + 1\n",
    "\n",
    "    print(max(j for i, j in counter.items() if len(i) == j))"
   ]
  },
  {
   "cell_type": "code",
   "execution_count": 10,
   "metadata": {},
   "outputs": [],
   "source": [
    "from itertools import product as prod\n",
    "\n",
    "\n",
    "def separated(iterable):\n",
    "    return [iterable[i * 2 : (i + 1) * 2] for i in range(len(iterable) // 2)]\n",
    "\n",
    "\n",
    "def get_distance(nodes, K):\n",
    "    seps = separated(nodes)\n",
    "    del nodes\n",
    "\n",
    "    dist = {2: {frozenset(sep) for sep in seps}}\n",
    "    for distance in range(2, K):\n",
    "        seps = separated(seps)\n",
    "        dist[2 * distance] = set().union(\n",
    "            *[{frozenset(ij) for ij in prod(*sep)} for sep in seps]\n",
    "        )\n",
    "        seps = [sep1 + sep2 for sep1, sep2 in seps]\n",
    "    del seps\n",
    "    return dist\n",
    "\n",
    "\n",
    "K, *nodes = map(int, open(0).read().split())\n",
    "if K == 1:\n",
    "    print(2)\n",
    "else:\n",
    "    k = 2 ** (K - 1)\n",
    "    t1_dist, t2_dist = get_distance(nodes[:k], K), get_distance(nodes[k:], K)\n",
    "    del nodes\n",
    "\n",
    "    common = set().union(*[j & t2_dist[i] for i, j in t1_dist.items()])\n",
    "    del t1_dist, t2_dist\n",
    "\n",
    "    connected = {}\n",
    "    for i, j in common:\n",
    "        connected.setdefault(i, set()).add(j)\n",
    "        connected.setdefault(j, set()).add(i)\n",
    "    del common\n",
    "\n",
    "    counter = {}\n",
    "    for i, j in connected.items():\n",
    "        j_add_i = frozenset(j | {i})\n",
    "        counter[j_add_i] = counter.get(j_add_i, 0) + 1\n",
    "    del connected\n",
    "\n",
    "    print(max(j for i, j in counter.items() if len(i) == j))"
   ]
  },
  {
   "cell_type": "code",
   "execution_count": null,
   "metadata": {},
   "outputs": [],
   "source": [
    "from itertools import product as prod\n",
    "\n",
    "\n",
    "def separated(iterable, step):\n",
    "    return [iterable[i * step : (i + 1) * step] for i in range(len(iterable) // step)]\n",
    "\n",
    "\n",
    "K, *nodes = map(int, open(0).read().split())\n",
    "dist1 = {}\n",
    "cons = set()\n",
    "whole = 1 << K - 1\n",
    "nodes = [i - 1 for i in nodes]\n",
    "tree1, tree2 = nodes[:whole], nodes[whole:]\n",
    "if K == 1:\n",
    "    print(2)\n",
    "else:\n",
    "    for n in range(K - 1):\n",
    "        k = 2**n\n",
    "        dist1[k] = set()\n",
    "        seps = separated(tree1, k)\n",
    "        for sep1, sep2 in zip(seps[::2], seps[1::2]):\n",
    "            dist1[k] |= {\n",
    "                i * whole + j if i < j else j * whole + i for i, j in prod(sep1, sep2)\n",
    "            }\n",
    "        seps = separated(tree2, k)\n",
    "        qwerqwertasdfgdsregsadgfasfga = set()\n",
    "        for sep1, sep2 in zip(seps[::2], seps[1::2]):\n",
    "            qwerqwertasdfgdsregsadgfasfga |= {\n",
    "                i * whole + j if i < j else j * whole + i for i, j in prod(sep1, sep2)\n",
    "            }\n",
    "            cons |= dist1[k] & {\n",
    "                i * whole + j if i < j else j * whole + i for i, j in prod(sep1, sep2)\n",
    "            }\n",
    "\n",
    "    connected = {}\n",
    "    for k in cons:\n",
    "        i, j = k % whole, k // whole\n",
    "        connected.setdefault(i, set()).add(j)\n",
    "        connected.setdefault(j, set()).add(i)\n",
    "    counter = {}\n",
    "    for i, j in connected.items():\n",
    "        j_add_i = frozenset(j | {i})\n",
    "        counter[j_add_i] = counter.get(j_add_i, 0) + 1\n",
    "    l = [j for i, j in counter.items() if len(i) == j]\n",
    "    print(max(l) if l else 0)"
   ]
  },
  {
   "cell_type": "code",
   "execution_count": null,
   "metadata": {},
   "outputs": [],
   "source": [
    "K, *nodes = map(int,open(0).read().split())\n",
    "whole = 1 << K - 1\n",
    "wholem1 = whole - 1\n",
    "wwm1p2 = whole*wholem1//2\n",
    "dist1 = [0] * wwm1p2\n",
    "dist2 = [0] * wwm1p2\n",
    "nodes = [i - 1 for i in nodes]\n",
    "tree1, tree2 = nodes[:whole], nodes[whole:]\n",
    "cons = []\n",
    "if K == 1: print(2)\n",
    "else:\n",
    "    for n in range(K - 1):\n",
    "        k = 2 ** n\n",
    "        seps = separated(tree1, k)\n",
    "        for sep1, sep2 in zip(seps[::2], seps[1::2]):\n",
    "            for i,j in prod(sep1,sep2):\n",
    "                i,j = (i,j) if i < j else (j,i)\n",
    "                dist1[i * wholem1 + j - i * (i + 1) // 2 - 1] = n + 1\n",
    "        seps = separated(tree2, k)\n",
    "        for sep1, sep2 in zip(seps[::2], seps[1::2]):\n",
    "            for i,j in prod(sep1,sep2):\n",
    "                i,j = (i,j) if i < j else (j,i)\n",
    "                dist2[i * wholem1 + j - i * (i + 1) // 2 - 1] = n + 1\n",
    "    for k in range(wwm1p2 - 1, -1, -1):\n",
    "        if dist1.pop() == dist2.pop(): cons.append(k)\n",
    "    del dist1, dist2\n",
    "    connected = {}\n",
    "    s, t = wwm1p2, 1\n",
    "    for k in cons:\n",
    "        while s > k: s -= t; t += 1\n",
    "        i = whole - t\n",
    "        j = k - s + i + 1\n",
    "        connected[i] = connected.get(i,frozenset({i})).union({j})\n",
    "        connected[j] = connected.get(j,frozenset({j})).union({i})\n",
    "    del cons\n",
    "    for i,j in connected.items():\n",
    "    max_clique = 2\n",
    "    graphs = sorted(set(connected.values()), key=len,reverse=True)\n",
    "    prevs = set()\n",
    "    for i, graph in enumerate(graphs):\n",
    "        if is_clique(graph, connected): max_clique = len(graph)\n",
    "        if max_clique >= len(graph): break\n",
    "        subgraphs = graphs[i+1:]\n",
    "        prevs.update(subgraphs)\n",
    "        local_max = max_clique - 1\n",
    "        while (subgraphs := sorted(set({i & graph for i in subgraphs}) - prevs, key=len,reverse=True)):\n",
    "            if len(subgraphs[0]) < local_max: break\n",
    "            for subgraph in subgraphs:\n",
    "                if is_clique(subgraph, connected):\n",
    "                    local_max = max(local_max, len(subgraph))\n",
    "            prevs.update(subgraphs)\n",
    "        if local_max > max_clique: max_clique = local_max\n",
    "\n",
    "    print(max_clique)"
   ]
  },
  {
   "cell_type": "markdown",
   "metadata": {},
   "source": [
    "## 해답"
   ]
  },
  {
   "cell_type": "code",
   "execution_count": 3,
   "metadata": {},
   "outputs": [
    {
     "data": {
      "text/plain": [
       "(8, 8, 16)"
      ]
     },
     "execution_count": 3,
     "metadata": {},
     "output_type": "execute_result"
    }
   ],
   "source": [
    "1 << 2 << 1, (1 << 2) << 1, 1 << (2 << 1)"
   ]
  },
  {
   "cell_type": "code",
   "execution_count": 11,
   "metadata": {},
   "outputs": [
    {
     "name": "stdout",
     "output_type": "stream",
     "text": [
      "572 1234\n",
      "2088777762826305013383505421433248765159928498094767560768466966567907815943114913697653623869995116681780213428878525675975146876371587214526472175702730555891913953087419996680723180268767436628856140023711892452752637678795425491344669368689173234993615817411607408142568097480237218228935955567196058013373877953763575571893811260380521881199158906865646938606053392886118050031944799735428431083387671119770582972636475828868993468175623745278992950200378082698016834123350187336667701102065944176539101539967232738823866030427593651674376183667313502442636985692736251100451996600824689569725191348984389234047613011826491221651463670760175217244205668540395396404626338035356013350390970159843272838740570750249568029814318270919965581026799223103588542213662268181168545768559583109699565908647069034130446538122789811975386004245926791375565757896881232014825891349839646101143284754309632642761262091805832273853416685712881460895799943803562931526946447700534506119799591992181598938403549249635436899734911318500356658140946238866331101615136443693143492746593769825639040634914004881853233821748296770156823859609045963714677955296206252171806002604826934379453346432983022263205841563476066872180487609416680806308380671\n"
     ]
    }
   ],
   "source": [
    "import sys\n",
    "a = (1 << (1 << 12) << 1) - 1\n",
    "\n",
    "print(sys.getsizeof(a), len(str(a)))\n",
    "print(a)"
   ]
  },
  {
   "cell_type": "code",
   "execution_count": 13,
   "metadata": {},
   "outputs": [
    {
     "data": {
      "text/plain": [
       "4097"
      ]
     },
     "execution_count": 13,
     "metadata": {},
     "output_type": "execute_result"
    }
   ],
   "source": [
    "len(bin(a)[2:])"
   ]
  },
  {
   "cell_type": "raw",
   "metadata": {},
   "source": [
    "  0 1 2 3 4 5 6 7\n",
    "0 0 1 2 2 3 3 3 3\n",
    "1 1 0 2 2 3 3 3 3\n",
    "2 2 2 0 1 3 3 3 3\n",
    "3 2 2 1 0 3 3 3 3\n",
    "4 3 3 3 3 0 1 2 2\n",
    "5 3 3 3 3 1 0 2 2\n",
    "6 3 3 3 3 2 2 0 1\n",
    "7 3 3 3 3 2 2 1 0"
   ]
  },
  {
   "cell_type": "code",
   "execution_count": 14,
   "metadata": {},
   "outputs": [],
   "source": [
    "a = [4, 2, 1, 3, 6, 7, 5, 8]\n",
    "b = [2, 7, 4, 8, 3, 1, 6, 5]"
   ]
  },
  {
   "cell_type": "code",
   "execution_count": 15,
   "metadata": {},
   "outputs": [
    {
     "name": "stdout",
     "output_type": "stream",
     "text": [
      "0 1 2 3 4 5 6 7\n",
      "1 5 0 7 3 2 4 6\n"
     ]
    }
   ],
   "source": [
    "index_in_a = {i: j for j, i in enumerate(a)}\n",
    "index_in_b = {i: j for j, i in enumerate(b)}\n",
    "print(*(index_in_a[i] for i in a))\n",
    "print(*(index_in_a[i] for i in b))"
   ]
  },
  {
   "cell_type": "code",
   "execution_count": 38,
   "metadata": {},
   "outputs": [
    {
     "name": "stdout",
     "output_type": "stream",
     "text": [
      "  4 2 1 3 6 7 5 8\n",
      "4 0 1 2 2 3 3 3 3\n",
      "2 1 0 2 2 3 3 3 3\n",
      "1 2 2 0 1 3 3 3 3\n",
      "3 2 2 1 0 3 3 3 3\n",
      "6 3 3 3 3 0 1 2 2\n",
      "7 3 3 3 3 1 0 2 2\n",
      "5 3 3 3 3 2 2 0 1\n",
      "8 3 3 3 3 2 2 1 0\n"
     ]
    }
   ],
   "source": [
    "print(\" \", *(i for i in a))\n",
    "for i, a0 in enumerate(a):\n",
    "    print(a0, *((i ^ j).bit_length() for j, a1 in enumerate(a)))"
   ]
  },
  {
   "cell_type": "code",
   "execution_count": 16,
   "metadata": {},
   "outputs": [
    {
     "name": "stdout",
     "output_type": "stream",
     "text": [
      "  2 7 4 8 3 1 6 5\n",
      "  1 5 0 7 3 2 4 6\n",
      "1 0 3 1 3 2 2 3 3\n",
      "5 3 0 3 2 3 3 1 2\n",
      "0 1 3 0 3 2 2 3 3\n",
      "7 3 2 3 0 3 3 2 1\n",
      "3 2 3 2 3 0 1 3 3\n",
      "2 2 3 2 3 1 0 3 3\n",
      "4 3 1 3 2 3 3 0 2\n",
      "6 3 2 3 1 3 3 2 0\n"
     ]
    }
   ],
   "source": [
    "a_to_b = [index_in_a[i] for i in b]\n",
    "print(\" \", *(i for i in b))\n",
    "print(\" \", *(i for i in a_to_b))\n",
    "for x in a_to_b:\n",
    "    print(x, *((x ^ y).bit_length() for y in a_to_b))"
   ]
  },
  {
   "cell_type": "code",
   "execution_count": 18,
   "metadata": {},
   "outputs": [
    {
     "name": "stdout",
     "output_type": "stream",
     "text": [
      "  4 2 1 3 6 7 5 8\n",
      "  2 7 4 8 3 1 6 5\n",
      "  1 5 0 7 3 2 4 6\n",
      "1 1 0 0 0 0 0 1 1\n",
      "5 0 1 0 1 1 1 0 0\n",
      "0 0 0 1 0 0 0 1 1\n",
      "7 0 1 0 1 1 1 0 0\n",
      "3 0 1 0 1 1 1 0 0\n",
      "2 0 1 0 1 1 1 0 0\n",
      "4 1 0 1 0 0 0 1 0\n",
      "6 1 0 1 0 0 0 0 1\n"
     ]
    }
   ],
   "source": [
    "print(\" \", *(i for i in a))\n",
    "print(\" \", *(i for i in b))\n",
    "a_to_b = [index_in_a[i] for i in b]\n",
    "print(\" \", *(i for i in a_to_b))\n",
    "# for i, x in enumerate(a_to_b):\n",
    "#     print(x, *(int((i ^ j).bit_length() == (x ^ y).bit_length()) for j, y in enumerate(a_to_b)))\n",
    "bitmat = [[int((i ^ j).bit_length() == (x ^ y).bit_length()) for j, y in enumerate(a_to_b)] for i, x in enumerate(a_to_b)]\n",
    "for x, i in zip(a_to_b, bitmat):\n",
    "    print(x, *i)"
   ]
  },
  {
   "cell_type": "code",
   "execution_count": 46,
   "metadata": {},
   "outputs": [
    {
     "name": "stdout",
     "output_type": "stream",
     "text": [
      "1 0 0 0 0 0 0 0\n",
      "0 1 0 1 1 1 0 0\n",
      "0 0 1 0 0 0 0 0\n",
      "0 1 0 1 1 1 0 0\n",
      "0 1 0 1 1 1 0 0\n",
      "0 1 0 1 1 1 0 0\n",
      "0 0 0 0 0 0 1 0\n",
      "0 0 0 0 0 0 0 1\n",
      "4\n"
     ]
    }
   ],
   "source": [
    "from itertools import compress\n",
    "\n",
    "m = 0\n",
    "for line in bitmat:\n",
    "    line = [int(all(bits)) for bits in zip(line, *compress(bitmat, line))]\n",
    "    print(*line)\n",
    "    m = max(m, sum(line))\n",
    "print(m)"
   ]
  },
  {
   "cell_type": "code",
   "execution_count": 32,
   "metadata": {},
   "outputs": [],
   "source": [
    "def solution():\n",
    "    import sys\n",
    "    import itertools\n",
    "\n",
    "    next(sys.stdin)  # k # n = 1 << int(input()) - 1\n",
    "    inputs = map(str.split, sys.stdin)\n",
    "    index_in_a = {i: j for j, i in enumerate(next(inputs))}  # a에서의 인덱스\n",
    "    a_to_b = [index_in_a[i] for i in next(inputs)]  # b의 숫자들의 a에서의 인덱스\n",
    "    bitmat = [\n",
    "        [(i ^ j).bit_length() == (x ^ y).bit_length() for j, y in enumerate(a_to_b[i:], i)]\n",
    "        for i, x in enumerate(a_to_b)\n",
    "    ]  # a에서의 인덱스들의 거리가 b에서의 인덱스들의 거리와 같은지\n",
    "    for i, line in enumerate(bitmat):\n",
    "        print(\" \" * (2 * i), *map(int, line))\n",
    "    M = max(\n",
    "        sum(all(bits) for bits in zip(*itertools.compress(bitmat, line)))\n",
    "        for line in bitmat\n",
    "    )  # \n",
    "    print(M)\n",
    "test_solution = test(solution)"
   ]
  },
  {
   "cell_type": "code",
   "execution_count": 33,
   "metadata": {},
   "outputs": [
    {
     "name": "stdout",
     "output_type": "stream",
     "text": [
      " 1 0 0 0 0 0 1 1\n",
      "   1 0 1 1 1 0 0\n",
      "     1 0 0 0 1 1\n",
      "       1 1 1 0 0\n",
      "         1 1 0 0\n",
      "           1 0 0\n",
      "             1 0\n",
      "               1\n",
      "3\n"
     ]
    }
   ],
   "source": [
    "test_solution(\"\"\"4\n",
    "4 2 1 3 6 7 5 8\n",
    "2 7 4 8 3 1 6 5\"\"\"\n",
    ")"
   ]
  },
  {
   "cell_type": "code",
   "execution_count": 21,
   "metadata": {},
   "outputs": [
    {
     "data": {
      "text/plain": [
       "frozenset({frozenset({frozenset({2, 4}), frozenset({1, 3})}),\n",
       "           frozenset({frozenset({5, 8}), frozenset({6, 7})})})"
      ]
     },
     "execution_count": 21,
     "metadata": {},
     "output_type": "execute_result"
    }
   ],
   "source": [
    "def sep2(arr):\n",
    "    if len(arr) == 2:\n",
    "        return frozenset(arr)\n",
    "    mid = len(arr) // 2\n",
    "    return frozenset((sep2(arr[:mid]), sep2(arr[mid:])))\n",
    "\n",
    "sep2([4, 2, 1, 3, 6, 7, 5, 8])"
   ]
  },
  {
   "cell_type": "code",
   "execution_count": 23,
   "metadata": {},
   "outputs": [
    {
     "name": "stdout",
     "output_type": "stream",
     "text": [
      "960 µs ± 2.55 µs per loop (mean ± std. dev. of 7 runs, 1,000 loops each)\n"
     ]
    }
   ],
   "source": [
    "%%timeit\n",
    "sep2(list(range(4096)))"
   ]
  },
  {
   "cell_type": "code",
   "execution_count": 25,
   "metadata": {},
   "outputs": [
    {
     "name": "stdout",
     "output_type": "stream",
     "text": [
      "315 128\n"
     ]
    }
   ],
   "source": [
    "# 2: 21.5 µs\n",
    "# 3: 33.3 µs\n",
    "# 4: 69.9 ms\n",
    "from itertools import permutations\n",
    "\n",
    "k = 4\n",
    "n = 1 << k - 1\n",
    "iso: dict[tuple, list[tuple]] = {}\n",
    "for input in permutations(range(n)):\n",
    "    iso.setdefault(sep2(input), []).append(input)\n",
    "\n",
    "print(len(iso), len(next(iter(iso.values()))))"
   ]
  },
  {
   "cell_type": "code",
   "execution_count": 29,
   "metadata": {},
   "outputs": [
    {
     "name": "stdout",
     "output_type": "stream",
     "text": [
      "20922789888000\n"
     ]
    }
   ],
   "source": [
    "a = 1\n",
    "for i in range(1, 17):\n",
    "    a *= i\n",
    "print(a)"
   ]
  },
  {
   "cell_type": "code",
   "execution_count": null,
   "metadata": {},
   "outputs": [],
   "source": [
    "def by2(iterator, length):\n",
    "    return [frozenset((next(iterator), next(iterator))) for _ in range(length)]"
   ]
  },
  {
   "cell_type": "code",
   "execution_count": null,
   "metadata": {},
   "outputs": [],
   "source": [
    "def solution():\n",
    "    import sys\n",
    "    import itertools\n",
    "\n",
    "    k = int(next(sys.stdin))\n",
    "    n = 1 << k - 1\n",
    "    a = by2(map(int, next(sys.stdin).split()), n)\n",
    "    b = by2(map(int, next(sys.stdin).split()), n)\n",
    "\n",
    "    result = 0\n",
    "    for i in range(k):\n",
    "        result += len(set(a) & set(b))\n",
    "        "
   ]
  },
  {
   "cell_type": "markdown",
   "metadata": {},
   "source": [
    "## 예제"
   ]
  },
  {
   "cell_type": "code",
   "execution_count": 19,
   "metadata": {},
   "outputs": [
    {
     "ename": "NameError",
     "evalue": "name 'solution' is not defined",
     "output_type": "error",
     "traceback": [
      "\u001b[0;31m---------------------------------------------------------------------------\u001b[0m",
      "\u001b[0;31mNameError\u001b[0m                                 Traceback (most recent call last)",
      "\u001b[1;32m/Users/chanhaeng/Documents/GitHub/algorithm-study/solving/complete binary tree.ipynb 셀 28\u001b[0m in \u001b[0;36m<cell line: 7>\u001b[0;34m()\u001b[0m\n\u001b[1;32m      <a href='vscode-notebook-cell:/Users/chanhaeng/Documents/GitHub/algorithm-study/solving/complete%20binary%20tree.ipynb#X54sZmlsZQ%3D%3D?line=2'>3</a>\u001b[0m \u001b[39m# %%black\u001b[39;00m\n\u001b[1;32m      <a href='vscode-notebook-cell:/Users/chanhaeng/Documents/GitHub/algorithm-study/solving/complete%20binary%20tree.ipynb#X54sZmlsZQ%3D%3D?line=3'>4</a>\u001b[0m \n\u001b[1;32m      <a href='vscode-notebook-cell:/Users/chanhaeng/Documents/GitHub/algorithm-study/solving/complete%20binary%20tree.ipynb#X54sZmlsZQ%3D%3D?line=4'>5</a>\u001b[0m \u001b[39m# 백준 문제 풀이용 예제 실행 코드\u001b[39;00m\n\u001b[1;32m      <a href='vscode-notebook-cell:/Users/chanhaeng/Documents/GitHub/algorithm-study/solving/complete%20binary%20tree.ipynb#X54sZmlsZQ%3D%3D?line=5'>6</a>\u001b[0m \u001b[39mfrom\u001b[39;00m \u001b[39mbwj\u001b[39;00m \u001b[39mimport\u001b[39;00m test\n\u001b[0;32m----> <a href='vscode-notebook-cell:/Users/chanhaeng/Documents/GitHub/algorithm-study/solving/complete%20binary%20tree.ipynb#X54sZmlsZQ%3D%3D?line=6'>7</a>\u001b[0m test_solution \u001b[39m=\u001b[39m test(solution)\n",
      "\u001b[0;31mNameError\u001b[0m: name 'solution' is not defined"
     ]
    }
   ],
   "source": [
    "# black 모듈을 jupyter notebook 내에서 사용 가능하게 만들어주는 blackcellmagic 모듈 불러오기\n",
    "%load_ext blackcellmagic\n",
    "# %%black\n",
    "\n",
    "# 백준 문제 풀이용 예제 실행 코드\n",
    "from bwj import test\n",
    "test_solution = test(solution)\n",
    "\n",
    "# test_solution(\"\"\"\"\"\")\n",
    "# test_solution(read(\"fn\").read())"
   ]
  },
  {
   "cell_type": "code",
   "execution_count": 10,
   "metadata": {},
   "outputs": [],
   "source": [
    "from random import shuffle"
   ]
  },
  {
   "cell_type": "code",
   "execution_count": 11,
   "metadata": {},
   "outputs": [],
   "source": [
    "k = 12\n",
    "n = 1 << k - 1\n",
    "a = list(range(1, n + 1))\n",
    "b = list(range(1, n + 1))\n",
    "shuffle(a)\n",
    "shuffle(b)"
   ]
  },
  {
   "cell_type": "code",
   "execution_count": 12,
   "metadata": {},
   "outputs": [
    {
     "name": "stdout",
     "output_type": "stream",
     "text": [
      "659\n"
     ]
    }
   ],
   "source": [
    "test(solution)(f\"\"\"{k}\n",
    "{\" \".join(map(str, a))}\n",
    "{\" \".join(map(str, b))}\n",
    "\"\"\")"
   ]
  },
  {
   "cell_type": "code",
   "execution_count": 14,
   "metadata": {},
   "outputs": [
    {
     "name": "stdout",
     "output_type": "stream",
     "text": [
      "659\n",
      "4.3 s ± 0 ns per loop (mean ± std. dev. of 1 run, 1 loop each)\n"
     ]
    }
   ],
   "source": [
    "%%timeit -n 1 -r 1\n",
    "test(solution)(f\"\"\"{k}\n",
    "{\" \".join(map(str, a))}\n",
    "{\" \".join(map(str, b))}\n",
    "\"\"\")"
   ]
  },
  {
   "cell_type": "code",
   "execution_count": 119,
   "metadata": {},
   "outputs": [
    {
     "name": "stdout",
     "output_type": "stream",
     "text": [
      "12\n",
      "0\n",
      "548 ms ± 0 ns per loop (mean ± std. dev. of 1 run, 1 loop each)\n"
     ]
    }
   ],
   "source": [
    "%%timeit -n 1 -r 1\n",
    "print(k)\n",
    "test(solution)(f\"\"\"{k}\n",
    "{\" \".join(map(str, a))}\n",
    "{\" \".join(map(str, b))}\n",
    "\"\"\")\n",
    "# 6: 16.3 s"
   ]
  },
  {
   "cell_type": "code",
   "execution_count": 102,
   "metadata": {},
   "outputs": [
    {
     "name": "stdout",
     "output_type": "stream",
     "text": [
      "5\n",
      "17 s ± 0 ns per loop (mean ± std. dev. of 1 run, 1 loop each)\n"
     ]
    }
   ],
   "source": [
    "%%timeit -n 1 -r 1\n",
    "# k = 5: 397 µs ± 24.7 µs per loop (mean ± std. dev. of 7 runs, 1,000 loops each)\n",
    "# k = 6: 1.88 ms ± 208 µs per loop (mean ± std. dev. of 7 runs, 1,000 loops each)\n",
    "# k = 7: 6.64 ms ± 412 µs per loop (mean ± std. dev. of 7 runs, 100 loops each)\n",
    "# k = 8: 26.4 ms ± 612 µs per loop (mean ± std. dev. of 7 runs, 10 loops each)\n",
    "# k = 9: 140 ms ± 0 ns per loop (mean ± std. dev. of 1 run, 1 loop each)\n",
    "# k = 10: 286 ms ± 0 ns per loop (mean ± std. dev. of 1 run, 1 loop each)\n",
    "# k = 11: 2.05 s ± 0 ns per loop (mean ± std. dev. of 1 run, 1 loop each)\n",
    "# k = 12: 16.5 s ± 0 ns per loop (mean ± std. dev. of 1 run, 1 loop each)\n",
    "k = 12\n",
    "n = 1 << k - 1\n",
    "a = list(range(1, n + 1))\n",
    "b = list(range(1, n + 1))\n",
    "shuffle(a)\n",
    "shuffle(b)\n",
    "# print(a, b, sep=\"\\n\")\n",
    "test_solution(f\"\"\"{k}\n",
    "{\" \".join(map(str, a))}\n",
    "{\" \".join(map(str, b))}\n",
    "\"\"\")"
   ]
  },
  {
   "cell_type": "code",
   "execution_count": 15,
   "metadata": {},
   "outputs": [
    {
     "name": "stdout",
     "output_type": "stream",
     "text": [
      "[7, 5, 3, 1, 4, 6, 2, 8]\n",
      "[7, 2, 4, 1, 6, 3, 8, 5]\n",
      "7 5 3 1 4 6 2 8\n",
      "7 2 4 1 6 3 8 5\n",
      "4\n"
     ]
    }
   ],
   "source": [
    "k = 4\n",
    "n = 1 << k - 1\n",
    "a = [7, 5, 3, 1, 4, 6, 2, 8]\n",
    "b = [7, 2, 4, 1, 6, 3, 8, 5]\n",
    "print(a, b, \" \".join(map(str, a)), \" \".join(map(str, b)), sep=\"\\n\")\n",
    "test_solution(f\"\"\"{k}\n",
    "{\" \".join(map(str, a))}\n",
    "{\" \".join(map(str, b))}\n",
    "\"\"\")"
   ]
  },
  {
   "cell_type": "code",
   "execution_count": 16,
   "metadata": {},
   "outputs": [
    {
     "name": "stdout",
     "output_type": "stream",
     "text": [
      "3\n"
     ]
    }
   ],
   "source": [
    "test_solution(\"\"\"4\n",
    "7 1 2 4 5 8 3 6\n",
    "2 3 4 6 7 5 8 1\n",
    "\"\"\")\n",
    "# 1 3 "
   ]
  },
  {
   "cell_type": "code",
   "execution_count": 17,
   "metadata": {},
   "outputs": [
    {
     "name": "stdout",
     "output_type": "stream",
     "text": [
      "14\n"
     ]
    }
   ],
   "source": [
    "test_solution(\"\"\"5\n",
    "1 2 3 4 5 6 7 8 9 10 11 12 13 14 15 16\n",
    "1 3 2 4 5 6 7 8 9 10 11 12 13 14 15 16\n",
    "\"\"\")  # 14"
   ]
  },
  {
   "cell_type": "code",
   "execution_count": 63,
   "metadata": {},
   "outputs": [
    {
     "name": "stdout",
     "output_type": "stream",
     "text": [
      "1 0 0 1 0 1 1 1\n",
      "0 1 0 0 1 0 0 0\n",
      "0 0 1 0 0 1 1 1\n",
      "1 0 0 1 0 1 1 1\n",
      "0 1 0 0 1 0 0 0\n",
      "0 0 0 0 0 1 1 1\n",
      "0 0 0 0 0 1 1 1\n",
      "0 0 0 0 0 1 1 1\n",
      "5 5\n"
     ]
    }
   ],
   "source": [
    "test_solution(\"\"\"4\n",
    "1 3 5 4 2 6 7 8\n",
    "1 2 3 4 5 6 7 8\"\"\"\n",
    ")"
   ]
  },
  {
   "cell_type": "code",
   "execution_count": 29,
   "metadata": {},
   "outputs": [
    {
     "name": "stdout",
     "output_type": "stream",
     "text": [
      " 1 0 0 0 0 0 1 1\n",
      "  1 0 1 1 1 0 0\n",
      "    1 0 0 0 1 1\n",
      "      1 1 1 0 0\n",
      "        1 1 0 0\n",
      "          1 0 0\n",
      "            1 0\n",
      "              1\n",
      "3\n"
     ]
    }
   ],
   "source": [
    "test_solution(\"\"\"4\n",
    "4 2 1 3 6 7 5 8\n",
    "2 7 4 8 3 1 6 5\"\"\"\n",
    ")"
   ]
  }
 ],
 "metadata": {
  "kernelspec": {
   "display_name": "venv",
   "language": "python",
   "name": "python3"
  },
  "language_info": {
   "codemirror_mode": {
    "name": "ipython",
    "version": 3
   },
   "file_extension": ".py",
   "mimetype": "text/x-python",
   "name": "python",
   "nbconvert_exporter": "python",
   "pygments_lexer": "ipython3",
   "version": "3.10.8"
  },
  "orig_nbformat": 4,
  "vscode": {
   "interpreter": {
    "hash": "72904a014a9ffe38f4c58942120b599b3c5a87d06764037548e0139929c1cde3"
   }
  }
 },
 "nbformat": 4,
 "nbformat_minor": 2
}
