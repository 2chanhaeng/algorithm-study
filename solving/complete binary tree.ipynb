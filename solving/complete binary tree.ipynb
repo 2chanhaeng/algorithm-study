{
 "cells": [
  {
   "cell_type": "markdown",
   "metadata": {},
   "source": [
    "# [백준/완전 이진트리](https://www.acmicpc.net/problem/1634)"
   ]
  },
  {
   "cell_type": "markdown",
   "metadata": {},
   "source": [
    "## 풀이과정"
   ]
  },
  {
   "cell_type": "markdown",
   "metadata": {},
   "source": [
    "### 첫번째 시도"
   ]
  },
  {
   "cell_type": "markdown",
   "metadata": {},
   "source": [
    "풀이과정"
   ]
  },
  {
   "cell_type": "code",
   "execution_count": null,
   "metadata": {},
   "outputs": [],
   "source": [
    "from itertools import product as prod\n",
    "def separated(iterable, step):\n",
    "    return [iterable[i * step:(i + 1) * step] for i in range(len(iterable) // step)]\n",
    "K, *nodes = map(int,open(0).read().split())\n",
    "if K == 1: print(2)\n",
    "else:\n",
    "    k = 2 ** (K-1)\n",
    "    T1, T2 = nodes[:k], nodes[k:]\n",
    "    t1_seps, t2_seps = separated(T1, 2), separated(T2, 2)\n",
    "    t1_dist, t2_dist = {2:{frozenset(sep) for sep in t1_seps}}, {2:{frozenset(sep) for sep in t2_seps}}\n",
    "    for seps, dist in [(t1_seps, t1_dist), (t2_seps, t2_dist)]:\n",
    "        for distance in range(2, K):\n",
    "            seps = separated(seps, 2)\n",
    "            dist[2 * distance] = set().union(*[{frozenset(ij) for ij in prod(*sep)} for sep in seps])\n",
    "            seps = [sep1 + sep2 for sep1, sep2 in seps]\n",
    "    common = set().union(*[j&t2_dist[i] for i,j in t1_dist.items()])\n",
    "\n",
    "    connected = {}\n",
    "    for i,j in common:\n",
    "        connected.setdefault(i,set()).add(j)\n",
    "        connected.setdefault(j,set()).add(i)\n",
    "\n",
    "    counter = {}\n",
    "    for i,j in connected.items():\n",
    "        j_add_i = frozenset(j | {i})\n",
    "        counter[j_add_i] = counter.get(j_add_i, 0) + 1\n",
    "        \n",
    "    print(max(j for i,j in counter.items() if len(i) == j))"
   ]
  },
  {
   "cell_type": "code",
   "execution_count": 10,
   "metadata": {},
   "outputs": [],
   "source": [
    "from itertools import product as prod\n",
    "def separated(iterable):\n",
    "    return [iterable[i * 2:(i + 1) * 2] for i in range(len(iterable) // 2)]\n",
    "\n",
    "def get_distance(nodes, K):\n",
    "    seps = separated(nodes)\n",
    "    del nodes\n",
    "\n",
    "    dist = {2:{frozenset(sep) for sep in seps}}\n",
    "    for distance in range(2, K):\n",
    "        seps = separated(seps)\n",
    "        dist[2 * distance] = set().union(*[{frozenset(ij) for ij in prod(*sep)} for sep in seps])\n",
    "        seps = [sep1 + sep2 for sep1, sep2 in seps]\n",
    "    del seps\n",
    "    return dist\n",
    "\n",
    "K, *nodes = map(int,open(0).read().split())\n",
    "if K == 1: print(2)\n",
    "else:\n",
    "    k = 2 ** (K-1)\n",
    "    t1_dist, t2_dist = get_distance(nodes[:k], K), get_distance(nodes[k:], K)\n",
    "    del nodes\n",
    "\n",
    "    common = set().union(*[j&t2_dist[i] for i,j in t1_dist.items()])\n",
    "    del t1_dist, t2_dist\n",
    "\n",
    "    connected = {}\n",
    "    for i,j in common:\n",
    "        connected.setdefault(i,set()).add(j)\n",
    "        connected.setdefault(j,set()).add(i)\n",
    "    del common\n",
    "\n",
    "    counter = {}\n",
    "    for i,j in connected.items():\n",
    "        j_add_i = frozenset(j | {i})\n",
    "        counter[j_add_i] = counter.get(j_add_i, 0) + 1\n",
    "    del connected\n",
    "    \n",
    "    print(max(j for i,j in counter.items() if len(i) == j))"
   ]
  },
  {
   "cell_type": "markdown",
   "metadata": {},
   "source": [
    "## 해답"
   ]
  },
  {
   "cell_type": "code",
   "execution_count": 316,
   "metadata": {},
   "outputs": [],
   "source": [
    "def separated(iterable, step):\n",
    "    return [iterable[i * step:(i + 1) * step] for i in range(len(iterable) // step)]\n",
    "def solution(open):\n",
    "    K, *nodes = map(int,open(0).read().split())\n",
    "    if K == 1: print(2)\n",
    "    # else:\n",
    "    k = 2 ** (K-1)\n",
    "    T1, T2 = nodes[:k], nodes[k:]\n",
    "    t1_seps, t2_seps = separated(T1, 2), separated(T2, 2)\n",
    "    t1_dist, t2_dist = {2:{frozenset(sep) for sep in t1_seps}}, {2:{frozenset(sep) for sep in t2_seps}}\n",
    "    for seps, dist in [(t1_seps, t1_dist), (t2_seps, t2_dist)]:\n",
    "        for distance in range(2, K):\n",
    "            seps = separated(seps, 2)\n",
    "            dist[2 * distance] = set().union(*[{frozenset(ij) for ij in prod(*sep)} for sep in seps])\n",
    "            seps = [sep1 + sep2 for sep1, sep2 in seps]\n",
    "    # common = set().union(*[j&t2_dist[i] for i,j in t1_dist.items()])\n",
    "    common = set().union(*[j&t2_dist[i] for i,j in t1_dist.items()])\n",
    "\n",
    "    connected = {}\n",
    "    for i,j in common:\n",
    "        connected.setdefault(i,set()).add(j)\n",
    "        connected.setdefault(j,set()).add(i)\n",
    "    \n",
    "    counter = {}\n",
    "    for i,j in connected.items():\n",
    "        j_add_i = frozenset(j | {i})\n",
    "        counter[j_add_i] = counter.get(j_add_i, 0) + 1\n",
    "        \n",
    "    print(max(j for i,j in counter.items() if len(i) == j))\n"
   ]
  },
  {
   "cell_type": "code",
   "execution_count": 1,
   "metadata": {},
   "outputs": [],
   "source": [
    "from itertools import product as prod"
   ]
  },
  {
   "cell_type": "code",
   "execution_count": 2,
   "metadata": {},
   "outputs": [],
   "source": [
    "def separated(iterable):\n",
    "    return [iterable[i * 2:(i + 1) * 2] for i in range(len(iterable) // 2)]"
   ]
  },
  {
   "cell_type": "code",
   "execution_count": 3,
   "metadata": {},
   "outputs": [],
   "source": [
    "def get_distance(nodes, K):\n",
    "    seps = separated(nodes)\n",
    "    del nodes\n",
    "    dist = {2:{frozenset(sep) for sep in seps}}\n",
    "    for distance in range(4, 2 * K, 2):\n",
    "        seps = separated(seps)\n",
    "        dist[2 * distance] = set()\n",
    "        for sep in seps:\n",
    "            dist[2 * distance] |= {frozenset(ij) for ij in prod(*sep)}\n",
    "        seps = [sep1 + sep2 for sep1, sep2 in seps]\n",
    "    del seps\n",
    "    return dist\n",
    "    "
   ]
  },
  {
   "cell_type": "code",
   "execution_count": 4,
   "metadata": {},
   "outputs": [],
   "source": [
    "def solution(open):\n",
    "    K, *nodes = map(int,open(0).read().split())\n",
    "    if K == 1: print(2)\n",
    "    else:\n",
    "        k = 2 ** (K-1)\n",
    "        t1_dist, t2_dist = get_distance(nodes[:k], K), get_distance(nodes[k:], K)\n",
    "        del nodes\n",
    "\n",
    "        common = set().union(*[j&t2_dist[i] for i,j in t1_dist.items()])\n",
    "        del t1_dist, t2_dist\n",
    "\n",
    "        connected = {}\n",
    "        for i,j in common:\n",
    "            connected.setdefault(i,set()).add(j)\n",
    "            connected.setdefault(j,set()).add(i)\n",
    "        del common\n",
    "\n",
    "        counter = {}\n",
    "        for i,j in connected.items():\n",
    "            j_add_i = frozenset(j | {i})\n",
    "            counter[j_add_i] = counter.get(j_add_i, 0) + 1\n",
    "        print(counter)\n",
    "        del connected\n",
    "        \n",
    "        try:print(max(j for i,j in counter.items() if len(i) == j))\n",
    "        except:print(2)\n",
    "            \n",
    "\n",
    "\n",
    "\n"
   ]
  },
  {
   "cell_type": "markdown",
   "metadata": {},
   "source": [
    "## 테스트 결과"
   ]
  },
  {
   "cell_type": "markdown",
   "metadata": {},
   "source": [
    "|테스트|결과|\n",
    "|---:|:---|"
   ]
  },
  {
   "cell_type": "markdown",
   "metadata": {},
   "source": [
    "## 예제"
   ]
  },
  {
   "cell_type": "code",
   "execution_count": 5,
   "metadata": {},
   "outputs": [],
   "source": [
    "# 백준 문제 풀이용 예제 실행 코드\n",
    "from inspect import signature\n",
    "def solution_example(input_ = None, solution=solution):\n",
    "    params = signature(solution).parameters\n",
    "    if input_ == None:\n",
    "        solution()\n",
    "    elif 'open' in params:\n",
    "        class open:\n",
    "            def __init__(self, x):\n",
    "                self.read = lambda: input_\n",
    "            def __iter__(self):\n",
    "                return iter(input_.split(\"\\n\"))\n",
    "        solution(open)\n",
    "    elif 'input' in params:\n",
    "        input_ = iter(input_.split(\"\\n\"))\n",
    "        input = input_.__next__\n",
    "        solution(input)\n",
    "    else:\n",
    "        raise NameError(f'solution 함수가 input, open 등의 매개변수를 받지 않습니다.\\nsolution 의 매개변수: {params}')\n",
    "    \n",
    "        \n",
    "# solution_example(\"\"\"\"\"\")\n",
    "# solution_example(read(\"fn\").read())"
   ]
  },
  {
   "cell_type": "code",
   "execution_count": 6,
   "metadata": {},
   "outputs": [],
   "source": [
    "from random import shuffle"
   ]
  },
  {
   "cell_type": "code",
   "execution_count": 7,
   "metadata": {},
   "outputs": [
    {
     "name": "stdout",
     "output_type": "stream",
     "text": [
      "4 7 1 8 2 6 3 5\n"
     ]
    }
   ],
   "source": [
    "a = list(range(1,9))\n",
    "shuffle(a)\n",
    "print(\" \".join(map(str,a)))\n",
    "\n",
    "# 7 1 2 4 5 8 3 6 // 2 3 4 6 7 5 8 1 : None?"
   ]
  },
  {
   "cell_type": "code",
   "execution_count": 8,
   "metadata": {},
   "outputs": [
    {
     "name": "stdout",
     "output_type": "stream",
     "text": [
      "{frozenset({8, 2, 4}): 1, frozenset({8, 2, 5}): 1, frozenset({1, 3, 7}): 1, frozenset({3, 6, 7}): 1, frozenset({8, 4, 5}): 1, frozenset({2, 4, 5}): 1, frozenset({1, 6, 7}): 1, frozenset({1, 3, 6}): 1}\n",
      "2\n"
     ]
    }
   ],
   "source": [
    "solution_example(\"\"\"4\n",
    "7 1 2 4 5 8 3 6\n",
    "2 3 4 6 7 5 8 1\"\"\")"
   ]
  },
  {
   "cell_type": "code",
   "execution_count": 9,
   "metadata": {},
   "outputs": [
    {
     "name": "stdout",
     "output_type": "stream",
     "text": [
      "{frozenset({4, 5, 6}): 1, frozenset({2, 4, 6}): 1, frozenset({8, 1, 3, 7}): 4, frozenset({2, 5, 6}): 1, frozenset({2, 4, 5}): 1}\n",
      "4\n"
     ]
    }
   ],
   "source": [
    "solution_example(\"\"\"4\n",
    "4 2 1 3 6 7 5 8\n",
    "2 7 4 8 3 1 6 5\"\"\")"
   ]
  }
 ],
 "metadata": {
  "interpreter": {
   "hash": "73891b0dc2e53390f36276e59930dd4ecab91b05b5c90320c2d5b1c443f87069"
  },
  "kernelspec": {
   "display_name": "Python 3.10.1 ('venv': venv)",
   "language": "python",
   "name": "python3"
  },
  "language_info": {
   "codemirror_mode": {
    "name": "ipython",
    "version": 3
   },
   "file_extension": ".py",
   "mimetype": "text/x-python",
   "name": "python",
   "nbconvert_exporter": "python",
   "pygments_lexer": "ipython3",
   "version": "3.10.2"
  },
  "orig_nbformat": 4
 },
 "nbformat": 4,
 "nbformat_minor": 2
}
