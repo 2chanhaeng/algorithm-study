{
 "cells": [
  {
   "cell_type": "markdown",
   "metadata": {},
   "source": [
    "# [백준/완전 이진트리](https://www.acmicpc.net/problem/1634)"
   ]
  },
  {
   "cell_type": "markdown",
   "metadata": {},
   "source": [
    "## 풀이과정"
   ]
  },
  {
   "cell_type": "markdown",
   "metadata": {},
   "source": [
    "### 첫번째 시도"
   ]
  },
  {
   "cell_type": "markdown",
   "metadata": {},
   "source": [
    "풀이과정"
   ]
  },
  {
   "cell_type": "code",
   "execution_count": null,
   "metadata": {},
   "outputs": [],
   "source": [
    "from itertools import product as prod\n",
    "\n",
    "\n",
    "def separated(iterable, step):\n",
    "    return [iterable[i * step : (i + 1) * step] for i in range(len(iterable) // step)]\n",
    "\n",
    "\n",
    "K, *nodes = map(int, open(0).read().split())\n",
    "if K == 1:\n",
    "    print(2)\n",
    "else:\n",
    "    k = 2 ** (K - 1)\n",
    "    T1, T2 = nodes[:k], nodes[k:]\n",
    "    t1_seps, t2_seps = separated(T1, 2), separated(T2, 2)\n",
    "    t1_dist, t2_dist = {2: {frozenset(sep) for sep in t1_seps}}, {\n",
    "        2: {frozenset(sep) for sep in t2_seps}\n",
    "    }\n",
    "    for seps, dist in [(t1_seps, t1_dist), (t2_seps, t2_dist)]:\n",
    "        for distance in range(2, K):\n",
    "            seps = separated(seps, 2)\n",
    "            dist[2 * distance] = set().union(\n",
    "                *[{frozenset(ij) for ij in prod(*sep)} for sep in seps]\n",
    "            )\n",
    "            seps = [sep1 + sep2 for sep1, sep2 in seps]\n",
    "    common = set().union(*[j & t2_dist[i] for i, j in t1_dist.items()])\n",
    "\n",
    "    connected = {}\n",
    "    for i, j in common:\n",
    "        connected.setdefault(i, set()).add(j)\n",
    "        connected.setdefault(j, set()).add(i)\n",
    "\n",
    "    counter = {}\n",
    "    for i, j in connected.items():\n",
    "        j_add_i = frozenset(j | {i})\n",
    "        counter[j_add_i] = counter.get(j_add_i, 0) + 1\n",
    "\n",
    "    print(max(j for i, j in counter.items() if len(i) == j))"
   ]
  },
  {
   "cell_type": "code",
   "execution_count": 10,
   "metadata": {},
   "outputs": [],
   "source": [
    "from itertools import product as prod\n",
    "\n",
    "\n",
    "def separated(iterable):\n",
    "    return [iterable[i * 2 : (i + 1) * 2] for i in range(len(iterable) // 2)]\n",
    "\n",
    "\n",
    "def get_distance(nodes, K):\n",
    "    seps = separated(nodes)\n",
    "    del nodes\n",
    "\n",
    "    dist = {2: {frozenset(sep) for sep in seps}}\n",
    "    for distance in range(2, K):\n",
    "        seps = separated(seps)\n",
    "        dist[2 * distance] = set().union(\n",
    "            *[{frozenset(ij) for ij in prod(*sep)} for sep in seps]\n",
    "        )\n",
    "        seps = [sep1 + sep2 for sep1, sep2 in seps]\n",
    "    del seps\n",
    "    return dist\n",
    "\n",
    "\n",
    "K, *nodes = map(int, open(0).read().split())\n",
    "if K == 1:\n",
    "    print(2)\n",
    "else:\n",
    "    k = 2 ** (K - 1)\n",
    "    t1_dist, t2_dist = get_distance(nodes[:k], K), get_distance(nodes[k:], K)\n",
    "    del nodes\n",
    "\n",
    "    common = set().union(*[j & t2_dist[i] for i, j in t1_dist.items()])\n",
    "    del t1_dist, t2_dist\n",
    "\n",
    "    connected = {}\n",
    "    for i, j in common:\n",
    "        connected.setdefault(i, set()).add(j)\n",
    "        connected.setdefault(j, set()).add(i)\n",
    "    del common\n",
    "\n",
    "    counter = {}\n",
    "    for i, j in connected.items():\n",
    "        j_add_i = frozenset(j | {i})\n",
    "        counter[j_add_i] = counter.get(j_add_i, 0) + 1\n",
    "    del connected\n",
    "\n",
    "    print(max(j for i, j in counter.items() if len(i) == j))"
   ]
  },
  {
   "cell_type": "code",
   "execution_count": null,
   "metadata": {},
   "outputs": [],
   "source": [
    "from itertools import product as prod\n",
    "\n",
    "\n",
    "def separated(iterable, step):\n",
    "    return [iterable[i * step : (i + 1) * step] for i in range(len(iterable) // step)]\n",
    "\n",
    "\n",
    "K, *nodes = map(int, open(0).read().split())\n",
    "dist1 = {}\n",
    "cons = set()\n",
    "whole = 1 << K - 1\n",
    "nodes = [i - 1 for i in nodes]\n",
    "tree1, tree2 = nodes[:whole], nodes[whole:]\n",
    "if K == 1:\n",
    "    print(2)\n",
    "else:\n",
    "    for n in range(K - 1):\n",
    "        k = 2**n\n",
    "        dist1[k] = set()\n",
    "        seps = separated(tree1, k)\n",
    "        for sep1, sep2 in zip(seps[::2], seps[1::2]):\n",
    "            dist1[k] |= {\n",
    "                i * whole + j if i < j else j * whole + i for i, j in prod(sep1, sep2)\n",
    "            }\n",
    "        seps = separated(tree2, k)\n",
    "        qwerqwertasdfgdsregsadgfasfga = set()\n",
    "        for sep1, sep2 in zip(seps[::2], seps[1::2]):\n",
    "            qwerqwertasdfgdsregsadgfasfga |= {\n",
    "                i * whole + j if i < j else j * whole + i for i, j in prod(sep1, sep2)\n",
    "            }\n",
    "            cons |= dist1[k] & {\n",
    "                i * whole + j if i < j else j * whole + i for i, j in prod(sep1, sep2)\n",
    "            }\n",
    "\n",
    "    connected = {}\n",
    "    for k in cons:\n",
    "        i, j = k % whole, k // whole\n",
    "        connected.setdefault(i, set()).add(j)\n",
    "        connected.setdefault(j, set()).add(i)\n",
    "    counter = {}\n",
    "    for i, j in connected.items():\n",
    "        j_add_i = frozenset(j | {i})\n",
    "        counter[j_add_i] = counter.get(j_add_i, 0) + 1\n",
    "    l = [j for i, j in counter.items() if len(i) == j]\n",
    "    print(max(l) if l else 0)"
   ]
  },
  {
   "cell_type": "code",
   "execution_count": null,
   "metadata": {},
   "outputs": [],
   "source": [
    "K, *nodes = map(int,open(0).read().split())\n",
    "whole = 1 << K - 1\n",
    "wholem1 = whole - 1\n",
    "wwm1p2 = whole*wholem1//2\n",
    "dist1 = [0] * wwm1p2\n",
    "dist2 = [0] * wwm1p2\n",
    "nodes = [i - 1 for i in nodes]\n",
    "tree1, tree2 = nodes[:whole], nodes[whole:]\n",
    "cons = []\n",
    "if K == 1: print(2)\n",
    "else:\n",
    "    for n in range(K - 1):\n",
    "        k = 2 ** n\n",
    "        seps = separated(tree1, k)\n",
    "        for sep1, sep2 in zip(seps[::2], seps[1::2]):\n",
    "            for i,j in prod(sep1,sep2):\n",
    "                i,j = (i,j) if i < j else (j,i)\n",
    "                dist1[i * wholem1 + j - i * (i + 1) // 2 - 1] = n + 1\n",
    "        seps = separated(tree2, k)\n",
    "        for sep1, sep2 in zip(seps[::2], seps[1::2]):\n",
    "            for i,j in prod(sep1,sep2):\n",
    "                i,j = (i,j) if i < j else (j,i)\n",
    "                dist2[i * wholem1 + j - i * (i + 1) // 2 - 1] = n + 1\n",
    "    for k in range(wwm1p2 - 1, -1, -1):\n",
    "        if dist1.pop() == dist2.pop(): cons.append(k)\n",
    "    del dist1, dist2\n",
    "    connected = {}\n",
    "    s, t = wwm1p2, 1\n",
    "    for k in cons:\n",
    "        while s > k: s -= t; t += 1\n",
    "        i = whole - t\n",
    "        j = k - s + i + 1\n",
    "        connected[i] = connected.get(i,frozenset({i})).union({j})\n",
    "        connected[j] = connected.get(j,frozenset({j})).union({i})\n",
    "    del cons\n",
    "    for i,j in connected.items():\n",
    "    max_clique = 2\n",
    "    graphs = sorted(set(connected.values()), key=len,reverse=True)\n",
    "    prevs = set()\n",
    "    for i, graph in enumerate(graphs):\n",
    "        if is_clique(graph, connected): max_clique = len(graph)\n",
    "        if max_clique >= len(graph): break\n",
    "        subgraphs = graphs[i+1:]\n",
    "        prevs.update(subgraphs)\n",
    "        local_max = max_clique - 1\n",
    "        while (subgraphs := sorted(set({i & graph for i in subgraphs}) - prevs, key=len,reverse=True)):\n",
    "            if len(subgraphs[0]) < local_max: break\n",
    "            for subgraph in subgraphs:\n",
    "                if is_clique(subgraph, connected):\n",
    "                    local_max = max(local_max, len(subgraph))\n",
    "            prevs.update(subgraphs)\n",
    "        if local_max > max_clique: max_clique = local_max\n",
    "\n",
    "    print(max_clique)"
   ]
  },
  {
   "cell_type": "markdown",
   "metadata": {},
   "source": [
    "## 해답"
   ]
  },
  {
   "cell_type": "code",
   "execution_count": 316,
   "metadata": {},
   "outputs": [],
   "source": [
    "def separated(iterable, step):\n",
    "    return [iterable[i * step : (i + 1) * step] for i in range(len(iterable) // step)]\n",
    "\n",
    "\n",
    "def solution(open):\n",
    "    K, *nodes = map(int, open(0).read().split())\n",
    "    if K == 1:\n",
    "        print(2)\n",
    "        return\n",
    "    # else:\n",
    "    k = 2 ** (K - 1)\n",
    "    t1_seps, t2_seps = separated(nodes[:k], 2), separated(nodes[k:], 2)\n",
    "    t1_dist, t2_dist = {2: {frozenset(sep) for sep in t1_seps}}, {\n",
    "        2: {frozenset(sep) for sep in t2_seps}\n",
    "    }\n",
    "    for seps, dist in [(t1_seps, t1_dist), (t2_seps, t2_dist)]:\n",
    "        for distance in range(2, K):\n",
    "            seps = separated(seps, 2)\n",
    "            dist[2 * distance] = set().union(\n",
    "                *[{frozenset(ij) for ij in prod(*sep)} for sep in seps]\n",
    "            )\n",
    "            seps = [sep1 + sep2 for sep1, sep2 in seps]\n",
    "    # common = set().union(*[j&t2_dist[i] for i,j in t1_dist.items()])\n",
    "    common = set().union(*[j & t2_dist[i] for i, j in t1_dist.items()])\n",
    "\n",
    "    connected = {}\n",
    "    for i, j in common:\n",
    "        connected.setdefault(i, set()).add(j)\n",
    "        connected.setdefault(j, set()).add(i)\n",
    "\n",
    "    counter = {}\n",
    "    for i, j in connected.items():\n",
    "        j_add_i = frozenset(j | {i})\n",
    "        counter[j_add_i] = counter.get(j_add_i, 0) + 1\n",
    "\n",
    "    print(max(j for i, j in counter.items() if len(i) == j))"
   ]
  },
  {
   "cell_type": "code",
   "execution_count": 19,
   "metadata": {},
   "outputs": [],
   "source": [
    "from itertools import product as prod"
   ]
  },
  {
   "cell_type": "code",
   "execution_count": 26,
   "metadata": {},
   "outputs": [],
   "source": [
    "def separated(iterable, step):\n",
    "    return [iterable[i * step : (i + 1) * step] for i in range(len(iterable) // step)]"
   ]
  },
  {
   "cell_type": "code",
   "execution_count": 105,
   "metadata": {},
   "outputs": [],
   "source": [
    "import sys\n",
    "sys."
   ]
  },
  {
   "cell_type": "code",
   "execution_count": 225,
   "metadata": {},
   "outputs": [
    {
     "name": "stdout",
     "output_type": "stream",
     "text": [
      "16785464\n",
      "16785448\n",
      "2098176\n"
     ]
    }
   ],
   "source": [
    "# a = list(None for _ in range(2048*2048))\n",
    "# print(getsizeof(a)//1024//1024)\n",
    "a = list(range(2049 * 1024))\n",
    "print(getsizeof(a))\n",
    "print(a.__sizeof__())\n",
    "print(len(a))\n",
    "# a = set(a)\n",
    "# print(getsizeof(a))\n",
    "del a"
   ]
  },
  {
   "cell_type": "code",
   "execution_count": 322,
   "metadata": {},
   "outputs": [
    {
     "data": {
      "text/plain": [
       "frozenset({1, 2})"
      ]
     },
     "execution_count": 322,
     "metadata": {},
     "output_type": "execute_result"
    }
   ],
   "source": [
    "frozenset([1]).union({2})"
   ]
  },
  {
   "cell_type": "code",
   "execution_count": 311,
   "metadata": {},
   "outputs": [],
   "source": [
    "def is_clique(subgraph, whole):\n",
    "    for nodeA in subgraph:\n",
    "        if not subgraph.issubset(whole[nodeA]):\n",
    "            return False\n",
    "    return True"
   ]
  },
  {
   "cell_type": "code",
   "execution_count": 554,
   "metadata": {},
   "outputs": [],
   "source": [
    "def solution(open):\n",
    "    K, *nodes = map(int, open(0).read().split())\n",
    "    whole = 1 << K - 1\n",
    "    wholem1 = whole - 1\n",
    "    wwm1p2 = whole * wholem1 // 2\n",
    "    dist1 = [0] * wwm1p2\n",
    "    dist2 = [0] * wwm1p2\n",
    "    nodes = [i - 1 for i in nodes]\n",
    "    tree1, tree2 = nodes[:whole], nodes[whole:]\n",
    "    del nodes\n",
    "    cons = []\n",
    "    if K == 1:\n",
    "        print(2)\n",
    "    for n in range(K - 1):\n",
    "        k = 2**n\n",
    "        seps = separated(tree1, k)\n",
    "        for sep1, sep2 in zip(seps[::2], seps[1::2]):\n",
    "            for i, j in prod(sep1, sep2):\n",
    "                i, j = (i, j) if i < j else (j, i)\n",
    "                dist1[i * wholem1 + j - i * (i + 1) // 2 - 1] = n + 1\n",
    "        seps = separated(tree2, k)\n",
    "        for sep1, sep2 in zip(seps[::2], seps[1::2]):\n",
    "            for i, j in prod(sep1, sep2):\n",
    "                i, j = (i, j) if i < j else (j, i)\n",
    "                dist2[i * wholem1 + j - i * (i + 1) // 2 - 1] = n + 1\n",
    "    del tree1, tree2, seps, sep1, sep2, i, j, n\n",
    "    for k in range(wwm1p2 - 1, -1, -1):\n",
    "        if dist1.pop() == dist2.pop():\n",
    "            cons.append(k)\n",
    "    del dist1, dist2\n",
    "    connected = {}\n",
    "    s, t = wwm1p2, 1\n",
    "    for k in cons:\n",
    "        while s > k:\n",
    "            s -= t\n",
    "            t += 1\n",
    "        i = whole - t\n",
    "        j = k - s + i + 1\n",
    "        connected[i] = connected.get(i, frozenset({i})).union({j})\n",
    "        connected[j] = connected.get(j, frozenset({j})).union({i})\n",
    "    del cons\n",
    "    for i, j in connected.items():\n",
    "        print(i, j)\n",
    "    max_clique = 2\n",
    "    graphs = sorted(set(connected.values()), key=len, reverse=True)\n",
    "    prevs = set()\n",
    "    print(graphs)\n",
    "    for i, graph in enumerate(graphs):\n",
    "        print(\"\", graph)\n",
    "        if is_clique(graph, connected):\n",
    "            max_clique = len(graph)\n",
    "        if max_clique >= len(graph):\n",
    "            break\n",
    "        subgraphs = graphs[i + 1 :]\n",
    "        prevs.update(subgraphs)\n",
    "        local_max = max_clique - 1\n",
    "        while subgraphs := sorted(\n",
    "            set({i & graph for i in subgraphs}) - prevs, key=len, reverse=True\n",
    "        ):\n",
    "            if len(subgraphs[0]) < local_max:\n",
    "                break\n",
    "            for subgraph in subgraphs:\n",
    "                print(\" \", subgraph)\n",
    "                if is_clique(subgraph, connected):\n",
    "                    local_max = max(local_max, len(subgraph))\n",
    "            prevs.update(subgraphs)\n",
    "        if local_max > max_clique:\n",
    "            max_clique = local_max\n",
    "    for i, j in locals().items():\n",
    "        print(i, j)\n",
    "    print(max_clique)"
   ]
  },
  {
   "cell_type": "code",
   "execution_count": 563,
   "metadata": {},
   "outputs": [
    {
     "data": {
      "text/plain": [
       "32"
      ]
     },
     "execution_count": 563,
     "metadata": {},
     "output_type": "execute_result"
    }
   ],
   "source": [
    "a = list(\n",
    "    frozenset(range(i)) for i in range(4096)\n",
    ")  # {i:frozenset(range(4096)) for i in range(4096)}\n",
    "getsizeof(a) // 1024"
   ]
  },
  {
   "cell_type": "markdown",
   "metadata": {},
   "source": [
    "## 테스트 결과"
   ]
  },
  {
   "cell_type": "markdown",
   "metadata": {},
   "source": [
    "|테스트|결과|\n",
    "|---:|:---|"
   ]
  },
  {
   "cell_type": "markdown",
   "metadata": {},
   "source": [
    "## 예제"
   ]
  },
  {
   "cell_type": "code",
   "execution_count": 556,
   "metadata": {},
   "outputs": [],
   "source": [
    "# 백준 문제 풀이용 예제 실행 코드\n",
    "from inspect import signature\n",
    "\n",
    "\n",
    "def solution_example(input_=None, solution=solution):\n",
    "    params = signature(solution).parameters\n",
    "    if input_ == None:\n",
    "        solution()\n",
    "    elif \"open\" in params:\n",
    "\n",
    "        class open:\n",
    "            def __init__(self, x):\n",
    "                self.read = lambda: input_\n",
    "\n",
    "            def __iter__(self):\n",
    "                return iter(input_.split(\"\\n\"))\n",
    "\n",
    "        solution(open)\n",
    "    elif \"input\" in params:\n",
    "        input_ = iter(input_.split(\"\\n\"))\n",
    "        input = input_.__next__\n",
    "        solution(input)\n",
    "    else:\n",
    "        raise NameError(\n",
    "            f\"solution 함수가 input, open 등의 매개변수를 받지 않습니다.\\nsolution 의 매개변수: {params}\"\n",
    "        )\n",
    "\n",
    "\n",
    "# solution_example(\"\"\"\"\"\")\n",
    "# solution_example(read(\"fn\").read())"
   ]
  },
  {
   "cell_type": "code",
   "execution_count": 557,
   "metadata": {},
   "outputs": [],
   "source": [
    "from random import shuffle"
   ]
  },
  {
   "cell_type": "code",
   "execution_count": 558,
   "metadata": {},
   "outputs": [
    {
     "name": "stdout",
     "output_type": "stream",
     "text": [
      "5 frozenset({0, 5, 6})\n",
      "6 frozenset({2, 5, 6})\n",
      "3 frozenset({3, 4, 7})\n",
      "7 frozenset({1, 3, 7})\n",
      "4 frozenset({1, 3, 4})\n",
      "2 frozenset({0, 2, 6})\n",
      "1 frozenset({1, 4, 7})\n",
      "0 frozenset({0, 2, 5})\n",
      "[frozenset({1, 4, 7}), frozenset({3, 4, 7}), frozenset({0, 2, 6}), frozenset({1, 3, 7}), frozenset({0, 2, 5}), frozenset({0, 5, 6}), frozenset({2, 5, 6}), frozenset({1, 3, 4})]\n",
      " frozenset({1, 4, 7})\n",
      "  frozenset({1, 4})\n",
      "  frozenset({1, 7})\n",
      "  frozenset({4, 7})\n",
      "  frozenset()\n",
      " frozenset({3, 4, 7})\n",
      "  frozenset({3, 4})\n",
      "  frozenset({3, 7})\n",
      " frozenset({0, 2, 6})\n",
      "  frozenset({0, 2})\n",
      "  frozenset({0, 6})\n",
      "  frozenset({2, 6})\n",
      " frozenset({1, 3, 7})\n",
      "  frozenset({1, 3})\n",
      " frozenset({0, 2, 5})\n",
      "  frozenset({2, 5})\n",
      "  frozenset({0, 5})\n",
      " frozenset({0, 5, 6})\n",
      "  frozenset({5, 6})\n",
      " frozenset({2, 5, 6})\n",
      " frozenset({1, 3, 4})\n",
      "open <class '__main__.solution_example.<locals>.open'>\n",
      "K 4\n",
      "whole 8\n",
      "wholem1 7\n",
      "wwm1p2 28\n",
      "k 1\n",
      "i 7\n",
      "j frozenset({0, 2, 5})\n",
      "connected {5: frozenset({0, 5, 6}), 6: frozenset({2, 5, 6}), 3: frozenset({3, 4, 7}), 7: frozenset({1, 3, 7}), 4: frozenset({1, 3, 4}), 2: frozenset({0, 2, 6}), 1: frozenset({1, 4, 7}), 0: frozenset({0, 2, 5})}\n",
      "s 0\n",
      "t 8\n",
      "max_clique 2\n",
      "graphs [frozenset({1, 4, 7}), frozenset({3, 4, 7}), frozenset({0, 2, 6}), frozenset({1, 3, 7}), frozenset({0, 2, 5}), frozenset({0, 5, 6}), frozenset({2, 5, 6}), frozenset({1, 3, 4})]\n",
      "prevs {frozenset({1, 4}), frozenset({2, 6}), frozenset({0, 2, 5}), frozenset({0, 5}), frozenset({0, 5, 6}), frozenset({3, 4}), frozenset({1, 7}), frozenset({0, 6}), frozenset({0, 2, 6}), frozenset({1, 3, 7}), frozenset({0, 2}), frozenset({5, 6}), frozenset({2, 5, 6}), frozenset({1, 3}), frozenset({1, 3, 4}), frozenset({4, 7}), frozenset({3, 4, 7}), frozenset({3, 7}), frozenset({2, 5}), frozenset()}\n",
      "subgraphs []\n",
      "local_max 1\n",
      "subgraph frozenset({5, 6})\n",
      "graph frozenset({1, 3, 4})\n",
      "2\n"
     ]
    }
   ],
   "source": [
    "solution_example(\n",
    "    \"\"\"4\n",
    "7 1 2 4 5 8 3 6\n",
    "2 3 4 6 7 5 8 1\"\"\"\n",
    ")"
   ]
  },
  {
   "cell_type": "code",
   "execution_count": 559,
   "metadata": {},
   "outputs": [
    {
     "name": "stdout",
     "output_type": "stream",
     "text": [
      "14 frozenset({0, 1, 2, 3, 4, 5, 6, 7, 8, 9, 10, 11, 12, 13, 14, 15})\n",
      "15 frozenset({0, 1, 2, 3, 4, 5, 6, 7, 8, 9, 10, 11, 12, 13, 14, 15})\n",
      "13 frozenset({0, 1, 2, 3, 4, 5, 6, 7, 8, 9, 10, 11, 12, 13, 14, 15})\n",
      "12 frozenset({0, 1, 2, 3, 4, 5, 6, 7, 8, 9, 10, 11, 12, 13, 14, 15})\n",
      "11 frozenset({0, 1, 2, 3, 4, 5, 6, 7, 8, 9, 10, 11, 12, 13, 14, 15})\n",
      "10 frozenset({0, 1, 2, 3, 4, 5, 6, 7, 8, 9, 10, 11, 12, 13, 14, 15})\n",
      "9 frozenset({0, 1, 2, 3, 4, 5, 6, 7, 8, 9, 10, 11, 12, 13, 14, 15})\n",
      "8 frozenset({0, 1, 2, 3, 4, 5, 6, 7, 8, 9, 10, 11, 12, 13, 14, 15})\n",
      "7 frozenset({0, 1, 2, 3, 4, 5, 6, 7, 8, 9, 10, 11, 12, 13, 14, 15})\n",
      "6 frozenset({0, 1, 2, 3, 4, 5, 6, 7, 8, 9, 10, 11, 12, 13, 14, 15})\n",
      "5 frozenset({0, 1, 2, 3, 4, 5, 6, 7, 8, 9, 10, 11, 12, 13, 14, 15})\n",
      "4 frozenset({0, 1, 2, 3, 4, 5, 6, 7, 8, 9, 10, 11, 12, 13, 14, 15})\n",
      "3 frozenset({0, 3, 4, 5, 6, 7, 8, 9, 10, 11, 12, 13, 14, 15})\n",
      "2 frozenset({1, 2, 4, 5, 6, 7, 8, 9, 10, 11, 12, 13, 14, 15})\n",
      "1 frozenset({1, 2, 4, 5, 6, 7, 8, 9, 10, 11, 12, 13, 14, 15})\n",
      "0 frozenset({0, 3, 4, 5, 6, 7, 8, 9, 10, 11, 12, 13, 14, 15})\n",
      "[frozenset({0, 1, 2, 3, 4, 5, 6, 7, 8, 9, 10, 11, 12, 13, 14, 15}), frozenset({1, 2, 4, 5, 6, 7, 8, 9, 10, 11, 12, 13, 14, 15}), frozenset({0, 3, 4, 5, 6, 7, 8, 9, 10, 11, 12, 13, 14, 15})]\n",
      " frozenset({0, 1, 2, 3, 4, 5, 6, 7, 8, 9, 10, 11, 12, 13, 14, 15})\n",
      " frozenset({1, 2, 4, 5, 6, 7, 8, 9, 10, 11, 12, 13, 14, 15})\n",
      "open <class '__main__.solution_example.<locals>.open'>\n",
      "K 5\n",
      "whole 16\n",
      "wholem1 15\n",
      "wwm1p2 120\n",
      "k 2\n",
      "i 1\n",
      "j frozenset({0, 3, 4, 5, 6, 7, 8, 9, 10, 11, 12, 13, 14, 15})\n",
      "connected {14: frozenset({0, 1, 2, 3, 4, 5, 6, 7, 8, 9, 10, 11, 12, 13, 14, 15}), 15: frozenset({0, 1, 2, 3, 4, 5, 6, 7, 8, 9, 10, 11, 12, 13, 14, 15}), 13: frozenset({0, 1, 2, 3, 4, 5, 6, 7, 8, 9, 10, 11, 12, 13, 14, 15}), 12: frozenset({0, 1, 2, 3, 4, 5, 6, 7, 8, 9, 10, 11, 12, 13, 14, 15}), 11: frozenset({0, 1, 2, 3, 4, 5, 6, 7, 8, 9, 10, 11, 12, 13, 14, 15}), 10: frozenset({0, 1, 2, 3, 4, 5, 6, 7, 8, 9, 10, 11, 12, 13, 14, 15}), 9: frozenset({0, 1, 2, 3, 4, 5, 6, 7, 8, 9, 10, 11, 12, 13, 14, 15}), 8: frozenset({0, 1, 2, 3, 4, 5, 6, 7, 8, 9, 10, 11, 12, 13, 14, 15}), 7: frozenset({0, 1, 2, 3, 4, 5, 6, 7, 8, 9, 10, 11, 12, 13, 14, 15}), 6: frozenset({0, 1, 2, 3, 4, 5, 6, 7, 8, 9, 10, 11, 12, 13, 14, 15}), 5: frozenset({0, 1, 2, 3, 4, 5, 6, 7, 8, 9, 10, 11, 12, 13, 14, 15}), 4: frozenset({0, 1, 2, 3, 4, 5, 6, 7, 8, 9, 10, 11, 12, 13, 14, 15}), 3: frozenset({0, 3, 4, 5, 6, 7, 8, 9, 10, 11, 12, 13, 14, 15}), 2: frozenset({1, 2, 4, 5, 6, 7, 8, 9, 10, 11, 12, 13, 14, 15}), 1: frozenset({1, 2, 4, 5, 6, 7, 8, 9, 10, 11, 12, 13, 14, 15}), 0: frozenset({0, 3, 4, 5, 6, 7, 8, 9, 10, 11, 12, 13, 14, 15})}\n",
      "s 0\n",
      "t 16\n",
      "max_clique 14\n",
      "graphs [frozenset({0, 1, 2, 3, 4, 5, 6, 7, 8, 9, 10, 11, 12, 13, 14, 15}), frozenset({1, 2, 4, 5, 6, 7, 8, 9, 10, 11, 12, 13, 14, 15}), frozenset({0, 3, 4, 5, 6, 7, 8, 9, 10, 11, 12, 13, 14, 15})]\n",
      "prevs {frozenset({1, 2, 4, 5, 6, 7, 8, 9, 10, 11, 12, 13, 14, 15}), frozenset({0, 3, 4, 5, 6, 7, 8, 9, 10, 11, 12, 13, 14, 15})}\n",
      "subgraphs []\n",
      "local_max 1\n",
      "graph frozenset({1, 2, 4, 5, 6, 7, 8, 9, 10, 11, 12, 13, 14, 15})\n",
      "14\n"
     ]
    }
   ],
   "source": [
    "solution_example(\n",
    "    \"\"\"5\n",
    "1 2 3 4 5 6 7 8 9 10 11 12 13 14 15 16\n",
    "1 3 2 4 5 6 7 8 9 10 11 12 13 14 15 16\"\"\"\n",
    ")"
   ]
  },
  {
   "cell_type": "code",
   "execution_count": 560,
   "metadata": {},
   "outputs": [
    {
     "name": "stdout",
     "output_type": "stream",
     "text": [
      "6 frozenset({0, 2, 3, 5, 6, 7})\n",
      "7 frozenset({0, 2, 3, 5, 6, 7})\n",
      "5 frozenset({0, 2, 3, 5, 6, 7})\n",
      "3 frozenset({0, 3, 5, 6, 7})\n",
      "2 frozenset({2, 5, 6, 7})\n",
      "1 frozenset({1, 4})\n",
      "4 frozenset({1, 4})\n",
      "0 frozenset({0, 3, 5, 6, 7})\n",
      "[frozenset({0, 2, 3, 5, 6, 7}), frozenset({0, 3, 5, 6, 7}), frozenset({2, 5, 6, 7}), frozenset({1, 4})]\n",
      " frozenset({0, 2, 3, 5, 6, 7})\n",
      " frozenset({0, 3, 5, 6, 7})\n",
      "open <class '__main__.solution_example.<locals>.open'>\n",
      "K 4\n",
      "whole 8\n",
      "wholem1 7\n",
      "wwm1p2 28\n",
      "k 2\n",
      "i 1\n",
      "j frozenset({0, 3, 5, 6, 7})\n",
      "connected {6: frozenset({0, 2, 3, 5, 6, 7}), 7: frozenset({0, 2, 3, 5, 6, 7}), 5: frozenset({0, 2, 3, 5, 6, 7}), 3: frozenset({0, 3, 5, 6, 7}), 2: frozenset({2, 5, 6, 7}), 1: frozenset({1, 4}), 4: frozenset({1, 4}), 0: frozenset({0, 3, 5, 6, 7})}\n",
      "s 0\n",
      "t 8\n",
      "max_clique 5\n",
      "graphs [frozenset({0, 2, 3, 5, 6, 7}), frozenset({0, 3, 5, 6, 7}), frozenset({2, 5, 6, 7}), frozenset({1, 4})]\n",
      "prevs {frozenset({1, 4}), frozenset({2, 5, 6, 7}), frozenset({0, 3, 5, 6, 7})}\n",
      "subgraphs [frozenset()]\n",
      "local_max 1\n",
      "graph frozenset({0, 3, 5, 6, 7})\n",
      "5\n"
     ]
    }
   ],
   "source": [
    "solution_example(\n",
    "    \"\"\"4\n",
    "1 3 5 4 2 6 7 8\n",
    "1 2 3 4 5 6 7 8\"\"\"\n",
    ")"
   ]
  },
  {
   "cell_type": "code",
   "execution_count": 561,
   "metadata": {},
   "outputs": [
    {
     "name": "stdout",
     "output_type": "stream",
     "text": [
      "6 frozenset({0, 2, 6, 7})\n",
      "7 frozenset({0, 2, 6, 7})\n",
      "3 frozenset({3, 4, 5})\n",
      "5 frozenset({1, 3, 5})\n",
      "4 frozenset({1, 3, 4})\n",
      "2 frozenset({0, 2, 6, 7})\n",
      "1 frozenset({1, 4, 5})\n",
      "0 frozenset({0, 2, 6, 7})\n",
      "[frozenset({0, 2, 6, 7}), frozenset({1, 3, 5}), frozenset({1, 4, 5}), frozenset({3, 4, 5}), frozenset({1, 3, 4})]\n",
      " frozenset({0, 2, 6, 7})\n",
      "open <class '__main__.solution_example.<locals>.open'>\n",
      "K 4\n",
      "whole 8\n",
      "wholem1 7\n",
      "wwm1p2 28\n",
      "k 1\n",
      "i 0\n",
      "j frozenset({0, 2, 6, 7})\n",
      "connected {6: frozenset({0, 2, 6, 7}), 7: frozenset({0, 2, 6, 7}), 3: frozenset({3, 4, 5}), 5: frozenset({1, 3, 5}), 4: frozenset({1, 3, 4}), 2: frozenset({0, 2, 6, 7}), 1: frozenset({1, 4, 5}), 0: frozenset({0, 2, 6, 7})}\n",
      "s 0\n",
      "t 8\n",
      "max_clique 4\n",
      "graphs [frozenset({0, 2, 6, 7}), frozenset({1, 3, 5}), frozenset({1, 4, 5}), frozenset({3, 4, 5}), frozenset({1, 3, 4})]\n",
      "prevs set()\n",
      "graph frozenset({0, 2, 6, 7})\n",
      "4\n"
     ]
    }
   ],
   "source": [
    "solution_example(\n",
    "    \"\"\"4\n",
    "4 2 1 3 6 7 5 8\n",
    "2 7 4 8 3 1 6 5\"\"\"\n",
    ")"
   ]
  }
 ],
 "metadata": {
  "interpreter": {
   "hash": "73891b0dc2e53390f36276e59930dd4ecab91b05b5c90320c2d5b1c443f87069"
  },
  "kernelspec": {
   "display_name": "Python 3.10.1 ('venv': venv)",
   "language": "python",
   "name": "python3"
  },
  "language_info": {
   "codemirror_mode": {
    "name": "ipython",
    "version": 3
   },
   "file_extension": ".py",
   "mimetype": "text/x-python",
   "name": "python",
   "nbconvert_exporter": "python",
   "pygments_lexer": "ipython3",
   "version": "3.10.1"
  },
  "orig_nbformat": 4
 },
 "nbformat": 4,
 "nbformat_minor": 2
}
