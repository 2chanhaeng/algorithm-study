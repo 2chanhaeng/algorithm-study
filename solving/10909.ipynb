{
    "cells": [
        {
            "cell_type": "markdown",
            "metadata": {},
            "source": [
                "# [백준/Quaternion inverse](https://www.acmicpc.net/problem/10909)\n"
            ]
        },
        {
            "cell_type": "markdown",
            "metadata": {},
            "source": [
                "## 풀이과정\n"
            ]
        },
        {
            "cell_type": "markdown",
            "metadata": {},
            "source": [
                "### 첫번째 시도\n"
            ]
        },
        {
            "cell_type": "markdown",
            "metadata": {},
            "source": [
                "#### 풀이과정\n"
            ]
        },
        {
            "cell_type": "code",
            "execution_count": 22,
            "metadata": {},
            "outputs": [],
            "source": [
                "Vector = list[int]\n",
                "Matrix = list[Vector]\n",
                "Tensor = list[Matrix]\n",
                "\n",
                "\n",
                "def unzip(i: int):\n",
                "    return [0 if j != abs(i) else i // abs(i) if i != 0 else 1 for j in range(4)]\n",
                "\n",
                "\n",
                "ZIPPED = [[0, -1, -2, -3], [1, 0, 3, -2], [2, -3, 0, 1], [3, 2, -1, 0]]\n",
                "QTEN: Tensor = [[unzip(y) for y in z] for z in ZIPPED]\n",
                "\n",
                "\n",
                "def excepts(m: Matrix, i: int) -> Matrix:\n",
                "    return [r[:i] + r[i + 1 :] for r in m[1:]]\n",
                "\n",
                "\n",
                "def det(m: Matrix, mod: int) -> int:\n",
                "    if (l := len(m)) == 1:\n",
                "        return m[0][0] % mod\n",
                "    return sum((-1) ** i * m[0][i] * det(excepts(m, i), mod) for i in range(l)) % mod\n",
                "\n",
                "\n",
                "def t(a: Matrix) -> Matrix:\n",
                "    return list(zip(*a))\n",
                "\n",
                "\n",
                "def replace(t: Matrix, i: int, e: Vector):\n",
                "    return t[:i] + [e] + t[i + 1 :]\n",
                "\n",
                "\n",
                "def adjoints(a: Matrix, b: Vector) -> Tensor:\n",
                "    return [t(replace(t(a), i, b)) for i in range(len(a))]\n",
                "\n",
                "\n",
                "def inv(a: int, mod: int) -> int:\n",
                "    return pow(a, -1, mod) if a != 0 and mod % a else 0\n",
                "\n",
                "\n",
                "def cramers(A: Matrix, d: Vector, mod: int) -> Vector:\n",
                "    D = inv(det(A, mod), mod)\n",
                "    if D == 0:\n",
                "        return [0] * len(d)\n",
                "    return [det(ad, mod) * D % mod for ad in adjoints(A, d)]\n",
                "\n",
                "\n",
                "def dot(a: Vector, b: Vector, mod: int) -> int:\n",
                "    return sum(map(lambda a, b: a * b, a, b)) % mod\n",
                "\n",
                "\n",
                "def matmul(a: Matrix, b: Matrix, mod: int) -> Matrix:\n",
                "    return [[dot(ra, cb, mod) for cb in t(b)] for ra in a]\n",
                "\n",
                "\n",
                "def tenmul(a: Tensor, b: Tensor, mod: int) -> Tensor:\n",
                "    return [matmul(ra, rb, mod) for ra in a for rb in b]\n",
                "\n",
                "\n",
                "def quatrix(a: Vector, mod: int) -> Matrix:\n",
                "    return [i[0] for i in tenmul([[a]], QTEN, mod)]\n",
                "\n",
                "\n",
                "def qinv(q: Vector, mod: int) -> Vector:\n",
                "    return cramers(quatrix(q, mod), [1, 0, 0, 0], mod)\n",
                "\n",
                "\n",
                "def solution():\n",
                "    import sys\n",
                "\n",
                "    input = lambda: [int(i) for i in sys.stdin.readline().split()]\n",
                "    M, T = input()\n",
                "    print(\"\\n\".join(\" \".join(map(str, qinv(input(), M))) for _ in range(T)))\n",
                "\n",
                "\n",
                "solution()"
            ]
        },
        {
            "cell_type": "markdown",
            "metadata": {},
            "source": [
                "### 두번째 시도\n"
            ]
        },
        {
            "cell_type": "markdown",
            "metadata": {},
            "source": [
                "#### 풀이과정\n"
            ]
        },
        {
            "cell_type": "code",
            "execution_count": null,
            "metadata": {},
            "outputs": [],
            "source": [
                "Vector = list[int]\n",
                "Matrix = list[Vector]\n",
                "Tensor = list[Matrix]\n",
                "\n",
                "\n",
                "def qinv_in(z: int):\n",
                "    def inv(a: int) -> int:\n",
                "        return pow(a, -1, z) if a != 0 and z % a else 0\n",
                "\n",
                "    def quatrix(q: Vector) -> Matrix:\n",
                "        a, b, c, d = q\n",
                "        return [[a, -b, -c, -d], [b, a, -d, c], [c, d, a, -b], [d, -c, b, a]]\n",
                "\n",
                "    def quadjoints(q: Vector) -> Tensor:\n",
                "        a, b, c, d = q\n",
                "        return [\n",
                "            [\n",
                "                [1, z - b, z - c, z - d],\n",
                "                [0, a, z - d, c],\n",
                "                [0, d, a, z - b],\n",
                "                [0, z - c, b, a],\n",
                "            ],\n",
                "            [[a, 1, z - c, z - d], [b, 0, z - d, c], [c, 0, a, z - b], [d, 0, b, a]],\n",
                "            [[a, z - b, 1, z - d], [b, a, 0, c], [c, d, 0, z - b], [d, z - c, 0, a]],\n",
                "            [[a, z - b, z - c, 1], [b, a, z - d, 0], [c, d, a, 0], [d, z - c, b, 0]],\n",
                "        ]\n",
                "\n",
                "    def det(M: Matrix) -> int:\n",
                "        [[a, b, c, d], [e, f, g, h], [i, j, k, l], [m, n, o, p]] = M\n",
                "        return (\n",
                "            (a * f - b * e) * (k * p - l * o)\n",
                "            - (a * g - c * e) * (j * p - l * n)\n",
                "            + (a * h - d * e) * (j * o - k * n)\n",
                "            + (b * g - c * f) * (i * p - l * m)\n",
                "            - (b * h - d * f) * (i * o - k * m)\n",
                "            + (c * h - d * g) * (i * n - j * m)\n",
                "        ) % z\n",
                "\n",
                "    def qinv(q: Vector) -> str:\n",
                "        D = inv(det(quatrix(q)))\n",
                "        if D == 0:\n",
                "            return \"0 0 0 0\"\n",
                "        return \" \".join(str(det(ad) * D % z) for ad in quadjoints(q))\n",
                "\n",
                "    return qinv\n",
                "\n",
                "\n",
                "def solution():\n",
                "    import sys\n",
                "\n",
                "    input = lambda: [int(i) for i in sys.stdin.readline().split()]\n",
                "    M, T = input()\n",
                "    quiv = qinv_in(M)\n",
                "    print(\"\\n\".join(quiv(input()) for _ in range(T)))\n",
                "\n",
                "\n",
                "solution()"
            ]
        },
        {
            "cell_type": "markdown",
            "metadata": {},
            "source": [
                "## 해답\n"
            ]
        },
        {
            "cell_type": "code",
            "execution_count": 1,
            "metadata": {},
            "outputs": [],
            "source": [
                "Vector = list[int]\n",
                "Matrix = list[Vector]\n",
                "Tensor = list[Matrix]"
            ]
        },
        {
            "cell_type": "code",
            "execution_count": 20,
            "metadata": {},
            "outputs": [],
            "source": [
                "LITERAL_QTEN: Tensor = [\n",
                "    [[1, 0, 0, 0], [0, -1, 0, 0], [0, 0, -1, 0], [0, 0, 0, -1]],\n",
                "    [[0, 1, 0, 0], [1, 0, 0, 0], [0, 0, 0, 1], [0, 0, -1, 0]],\n",
                "    [[0, 0, 1, 0], [0, 0, 0, -1], [1, 0, 0, 0], [0, 1, 0, 0]],\n",
                "    [[0, 0, 0, 1], [0, 0, 1, 0], [0, -1, 0, 0], [1, 0, 0, 0]],\n",
                "]"
            ]
        },
        {
            "cell_type": "code",
            "execution_count": 21,
            "metadata": {},
            "outputs": [
                {
                    "name": "stdout",
                    "output_type": "stream",
                    "text": [
                        "1 0 0 0\n",
                        "0 -1 0 0\n",
                        "0 0 -1 0\n",
                        "0 0 0 -1\n",
                        "\n",
                        "0 1 0 0\n",
                        "1 0 0 0\n",
                        "0 0 0 1\n",
                        "0 0 -1 0\n",
                        "\n",
                        "0 0 1 0\n",
                        "0 0 0 -1\n",
                        "1 0 0 0\n",
                        "0 1 0 0\n",
                        "\n",
                        "0 0 0 1\n",
                        "0 0 1 0\n",
                        "0 -1 0 0\n",
                        "1 0 0 0\n",
                        "\n"
                    ]
                }
            ],
            "source": [
                "def unzip(i: int):\n",
                "    return [0 if j != abs(i) else i // abs(i) if i != 0 else 1 for j in range(4)]\n",
                "\n",
                "\n",
                "ZIPPED = [[0, -1, -2, -3], [1, 0, 3, -2], [2, -3, 0, 1], [3, 2, -1, 0]]\n",
                "QTEN: Tensor = [[unzip(y) for y in z] for z in ZIPPED]\n",
                "\n",
                "for z, n in zip(QTEN, LITERAL_QTEN):\n",
                "    for r, q in zip(z, n):\n",
                "        if r != q:\n",
                "            print(*r, *q)\n",
                "        else:\n",
                "            print(*r)\n",
                "    print()"
            ]
        },
        {
            "cell_type": "code",
            "execution_count": 2,
            "metadata": {},
            "outputs": [],
            "source": [
                "def excepts(m: Matrix, i: int) -> Matrix:\n",
                "    return [r[:i] + r[i + 1 :] for r in m[1:]]\n",
                "\n",
                "\n",
                "def det(m: Matrix, mod: int) -> int:\n",
                "    if (l := len(m)) == 1:\n",
                "        return m[0][0] % mod\n",
                "    return sum((-1) ** i * m[0][i] * det(excepts(m, i), mod) for i in range(l)) % mod"
            ]
        },
        {
            "cell_type": "code",
            "execution_count": 3,
            "metadata": {},
            "outputs": [],
            "source": [
                "def t(a: Matrix) -> Matrix:\n",
                "    return list(zip(*a))\n",
                "\n",
                "\n",
                "def replace(t: Matrix, i: int, e: Vector):\n",
                "    return t[:i] + [e] + t[i + 1 :]\n",
                "\n",
                "\n",
                "def adjoints(a: Matrix, b: Vector) -> Tensor:\n",
                "    return [t(replace(t(a), i, b)) for i in range(len(a))]"
            ]
        },
        {
            "cell_type": "code",
            "execution_count": 4,
            "metadata": {},
            "outputs": [],
            "source": [
                "def t(a: Matrix) -> Matrix:\n",
                "    return list(zip(*a))\n",
                "\n",
                "\n",
                "def replace(t: Matrix, i: int, e: Vector):\n",
                "    return t[:i] + [e] + t[i + 1 :]\n",
                "\n",
                "\n",
                "def adjoints(a: Matrix, b: Vector) -> Tensor:\n",
                "    return [t(replace(t(a), i, b)) for i in range(len(a))]"
            ]
        },
        {
            "cell_type": "code",
            "execution_count": 5,
            "metadata": {},
            "outputs": [],
            "source": [
                "def inv(a: int, mod: int) -> int:\n",
                "    return pow(a, -1, mod) if a != 0 and mod % a else 0"
            ]
        },
        {
            "cell_type": "code",
            "execution_count": 37,
            "metadata": {},
            "outputs": [],
            "source": [
                "def cramers(A: Matrix, d: Vector, mod: int) -> Vector:\n",
                "    D = inv(det(A, mod), mod)\n",
                "    if D == 0:\n",
                "        return [0] * len(d)\n",
                "    return [det(ad, mod) * D % mod for ad in adjoints(A, d)]\n",
                "\n",
                "\n",
                "def dot(a: Vector, b: Vector, mod: int) -> int:\n",
                "    return sum(map(lambda a, b: a * b, a, b)) % mod"
            ]
        },
        {
            "cell_type": "code",
            "execution_count": 7,
            "metadata": {},
            "outputs": [],
            "source": [
                "def matmul(a: Matrix, b: Matrix, mod: int) -> Matrix:\n",
                "    return [[dot(ra, cb, mod) for cb in t(b)] for ra in a]"
            ]
        },
        {
            "cell_type": "code",
            "execution_count": 8,
            "metadata": {},
            "outputs": [],
            "source": [
                "QTEN: Tensor = [\n",
                "    [\n",
                "        [1, 0, 0, 0],\n",
                "        [0, -1, 0, 0],\n",
                "        [0, 0, -1, 0],\n",
                "        [0, 0, 0, -1],\n",
                "    ],\n",
                "    [\n",
                "        [0, 1, 0, 0],\n",
                "        [1, 0, 0, 0],\n",
                "        [0, 0, 0, 1],\n",
                "        [0, 0, -1, 0],\n",
                "    ],\n",
                "    [\n",
                "        [0, 0, 1, 0],\n",
                "        [0, 0, 0, -1],\n",
                "        [1, 0, 0, 0],\n",
                "        [0, 1, 0, 0],\n",
                "    ],\n",
                "    [\n",
                "        [0, 0, 0, 1],\n",
                "        [0, 0, 1, 0],\n",
                "        [0, -1, 0, 0],\n",
                "        [1, 0, 0, 0],\n",
                "    ],\n",
                "]"
            ]
        },
        {
            "cell_type": "code",
            "execution_count": 27,
            "metadata": {},
            "outputs": [
                {
                    "data": {
                        "text/plain": [
                            "[[(1, 8, 7, 6), (0, 2, 6, 4), (0, 5, 2, 8), (0, 7, 3, 2)],\n",
                            " [(2, 1, 7, 6), (3, 0, 6, 4), (4, 0, 2, 8), (5, 0, 3, 2)],\n",
                            " [(2, 8, 1, 6), (3, 2, 0, 4), (4, 5, 0, 8), (5, 7, 0, 2)],\n",
                            " [(2, 8, 7, 1), (3, 2, 6, 0), (4, 5, 2, 0), (5, 7, 3, 0)]]"
                        ]
                    },
                    "execution_count": 27,
                    "metadata": {},
                    "output_type": "execute_result"
                }
            ],
            "source": [
                "def quatrix(a: Vector, mod: int) -> Matrix:\n",
                "    return [matmul([a], i, mod)[0] for i in QTEN]\n",
                "\n",
                "\n",
                "adjoints(quatrix([2, 3, 4, 5], 11), [1, 0, 0, 0])"
            ]
        },
        {
            "cell_type": "code",
            "execution_count": 30,
            "metadata": {},
            "outputs": [
                {
                    "name": "stdout",
                    "output_type": "stream",
                    "text": [
                        "[[[1, mod - b, mod - c, mod - d], [0, a, mod - d, c], [0, d, a, mod - b], [0, mod - c, b, a]],\n",
                        " [[a, 1, mod - c, mod - d], [b, 0, mod - d, c], [c, 0, a, mod - b], [d, 0, b, a]],\n",
                        " [[a, mod - b, 1, mod - d], [b, a, 0, c], [c, d, 0, mod - b], [d, mod - c, 0, a]],\n",
                        " [[a, mod - b, mod - c, 1], [b, a, mod - d, 0], [c, d, a, 0], [d, mod - c, b, 0]]]\n"
                    ]
                }
            ],
            "source": [
                "s = \"\"\"[[(1, 8, 7, 6), (0, 2, 6, 4), (0, 5, 2, 8), (0, 7, 3, 2)],\n",
                " [(2, 1, 7, 6), (3, 0, 6, 4), (4, 0, 2, 8), (5, 0, 3, 2)],\n",
                " [(2, 8, 1, 6), (3, 2, 0, 4), (4, 5, 0, 8), (5, 7, 0, 2)],\n",
                " [(2, 8, 7, 1), (3, 2, 6, 0), (4, 5, 2, 0), (5, 7, 3, 0)]]\"\"\"\n",
                "print(\n",
                "    s.replace(\"(\", \"[\")\n",
                "    .replace(\")\", \"]\")\n",
                "    .replace(\"8\", \"mod - b\")\n",
                "    .replace(\"7\", \"mod - c\")\n",
                "    .replace(\"6\", \"mod - d\")\n",
                "    .replace(\"2\", \"a\")\n",
                "    .replace(\"3\", \"b\")\n",
                "    .replace(\"4\", \"c\")\n",
                "    .replace(\"5\", \"d\")\n",
                ")"
            ]
        },
        {
            "cell_type": "code",
            "execution_count": 37,
            "metadata": {},
            "outputs": [
                {
                    "data": {
                        "text/plain": [
                            "(880, 999995879)"
                        ]
                    },
                    "execution_count": 37,
                    "metadata": {},
                    "output_type": "execute_result"
                }
            ],
            "source": [
                "z = 1000000007\n",
                "z = [[2, 3, 5, 7], [11, 13, 17, 19], [23, 29, 31, 37], [41, 43, 47, 53]]\n",
                "det(z, z), det(\n",
                "    [\n",
                "        [det([[2, 3], [11, 13]], z), det([[5, 7], [17, 19]], z)],\n",
                "        [det([[23, 29], [41, 43]], z), det([[31, 37], [47, 53]], z)],\n",
                "    ],\n",
                "    z,\n",
                ")"
            ]
        },
        {
            "cell_type": "code",
            "execution_count": null,
            "metadata": {},
            "outputs": [],
            "source": [
                "def qinv(q: Vector, mod: int) -> Vector:\n",
                "    return cramers(quatrix(q, mod), [1, 0, 0, 0], mod)"
            ]
        },
        {
            "cell_type": "code",
            "execution_count": 27,
            "metadata": {},
            "outputs": [
                {
                    "data": {
                        "text/plain": [
                            "'4 4 1 3'"
                        ]
                    },
                    "execution_count": 27,
                    "metadata": {},
                    "output_type": "execute_result"
                }
            ],
            "source": [
                "def qinv_in(z: int):\n",
                "    def inv(a: int) -> int:\n",
                "        return pow(a, -1, z) if a != 0 and z % a else 0\n",
                "\n",
                "    def quatrix(q: Vector) -> Matrix:\n",
                "        a, b, c, d = q\n",
                "        return [\n",
                "            [a, -b, -c, -d],\n",
                "            [b, a, -d, c],\n",
                "            [c, d, a, -b],\n",
                "            [d, -c, b, a],\n",
                "        ]\n",
                "\n",
                "    def quadjoints(q: Vector) -> Tensor:\n",
                "        a, b, c, d = q\n",
                "        return [\n",
                "            [\n",
                "                [1, z - b, z - c, z - d],\n",
                "                [0, a, z - d, c],\n",
                "                [0, d, a, z - b],\n",
                "                [0, z - c, b, a],\n",
                "            ],\n",
                "            [[a, 1, z - c, z - d], [b, 0, z - d, c], [c, 0, a, z - b], [d, 0, b, a]],\n",
                "            [[a, z - b, 1, z - d], [b, a, 0, c], [c, d, 0, z - b], [d, z - c, 0, a]],\n",
                "            [[a, z - b, z - c, 1], [b, a, z - d, 0], [c, d, a, 0], [d, z - c, b, 0]],\n",
                "        ]\n",
                "\n",
                "    def det(M: Matrix) -> int:\n",
                "        [[a, b, c, d], [e, f, g, h], [i, j, k, l], [m, n, o, p]] = M\n",
                "        return (\n",
                "            (a * f - b * e) * (k * p - l * o)\n",
                "            - (a * g - c * e) * (j * p - l * n)\n",
                "            + (a * h - d * e) * (j * o - k * n)\n",
                "            + (b * g - c * f) * (i * p - l * m)\n",
                "            - (b * h - d * f) * (i * o - k * m)\n",
                "            + (c * h - d * g) * (i * n - j * m)\n",
                "        ) % z\n",
                "\n",
                "    def qinv(q: Vector) -> str:\n",
                "        D = inv(det(quatrix(q)))\n",
                "        if D == 0:\n",
                "            return \"0 0 0 0\"\n",
                "        return \" \".join(str(det(ad) * D % z) for ad in quadjoints(q))\n",
                "\n",
                "    return qinv\n",
                "\n",
                "\n",
                "qinv_in(5)([2, 3, 2, 1])"
            ]
        },
        {
            "cell_type": "markdown",
            "metadata": {},
            "source": [
                "[\n",
                "[a, -b, -c, -d],\n",
                "[b, a, -d, c],\n",
                "[c, d, a, -b],\n",
                "[d, -c, b, a]\n",
                "]\n"
            ]
        },
        {
            "cell_type": "code",
            "execution_count": 28,
            "metadata": {},
            "outputs": [],
            "source": [
                "def solution():\n",
                "    import sys\n",
                "\n",
                "    input = lambda: [int(i) for i in sys.stdin.readline().split()]\n",
                "    M, T = input()\n",
                "    qinv = qinv_in(M)\n",
                "    print(\"\\n\".join(qinv(input()) for _ in range(T)))"
            ]
        },
        {
            "cell_type": "markdown",
            "metadata": {},
            "source": [
                "## 예제\n"
            ]
        },
        {
            "cell_type": "code",
            "execution_count": 29,
            "metadata": {},
            "outputs": [],
            "source": [
                "# 백준 문제 풀이용 예제 실행 코드\n",
                "from bwj import test\n",
                "\n",
                "test_solution = test(solution)\n",
                "\n",
                "# test_solution(\"\"\"\"\"\")\n",
                "# test_solution(read(\"fn\").read())"
            ]
        },
        {
            "cell_type": "code",
            "execution_count": 30,
            "metadata": {},
            "outputs": [
                {
                    "name": "stdout",
                    "output_type": "stream",
                    "text": [
                        "4 4 1 3\n",
                        "1 3 4 1\n",
                        "0 0 0 0\n"
                    ]
                }
            ],
            "source": [
                "test_solution(\n",
                "    \"\"\"5 3\n",
                "2 3 2 1\n",
                "3 1 3 2\n",
                "3 2 4 1\n",
                "\"\"\"\n",
                ")\n",
                "# answer:\n",
                "# 4 4 1 3\n",
                "# 1 3 4 1\n",
                "# 0 0 0 0"
            ]
        },
        {
            "cell_type": "code",
            "execution_count": 32,
            "metadata": {},
            "outputs": [],
            "source": [
                "def create_examples(fn):\n",
                "    import random\n",
                "\n",
                "    tc = 100000\n",
                "    mod = 99991\n",
                "    with open(fn, \"w\") as f:\n",
                "        print(mod, tc, file=f)\n",
                "        for _ in range(tc):\n",
                "            print(*random.choices(range(mod), k=4), file=f)\n",
                "\n",
                "\n",
                "examples_fn = \"10909.in\"\n",
                "# create_examples(examples_fn)"
            ]
        },
        {
            "cell_type": "code",
            "execution_count": 46,
            "metadata": {},
            "outputs": [],
            "source": [
                "def quamul(q: Vector, p: Vector, mod: int) -> Vector:\n",
                "    a, b, c, d = q\n",
                "    e, f, g, h = p\n",
                "    return [\n",
                "        (a * e - b * f - c * g - d * h) % mod,\n",
                "        (a * f + b * e + c * h - d * g) % mod,\n",
                "        (a * g - b * h + c * e + d * f) % mod,\n",
                "        (a * h + b * g - c * f + d * e) % mod,\n",
                "    ]"
            ]
        },
        {
            "cell_type": "code",
            "execution_count": 51,
            "metadata": {},
            "outputs": [
                {
                    "data": {
                        "text/plain": [
                            "[([45681, 77345, 70906, 44923], [0, 0, 0, 0]),\n",
                            " ([11841, 8578, 25686, 77677], [0, 0, 0, 0]),\n",
                            " ([55088, 25492, 16672, 52261], [0, 0, 0, 0])]"
                        ]
                    },
                    "execution_count": 51,
                    "metadata": {},
                    "output_type": "execute_result"
                }
            ],
            "source": [
                "def test():\n",
                "    with open(examples_fn) as f:\n",
                "\n",
                "        input = lambda: [int(i) for i in f.readline().split()]\n",
                "        M, T = input()\n",
                "        qinv = qinv_in(M)\n",
                "        wrongs = []\n",
                "        for _ in range(T):\n",
                "            q = input()\n",
                "            i = list(map(int, qinv(q).split()))\n",
                "            if quamul(q, i, M) != [1, 0, 0, 0] or any(not (0 <= j < M) for j in i):\n",
                "                wrongs.append((q, i))\n",
                "        return wrongs\n",
                "\n",
                "\n",
                "wrongs = test()\n",
                "wrongs"
            ]
        },
        {
            "cell_type": "code",
            "execution_count": 49,
            "metadata": {},
            "outputs": [
                {
                    "data": {
                        "text/plain": [
                            "'0 0 0 0'"
                        ]
                    },
                    "execution_count": 49,
                    "metadata": {},
                    "output_type": "execute_result"
                }
            ],
            "source": [
                "qinv = qinv_in(99991)\n",
                "q = [45681, 77345, 70906, 44923]\n",
                "i = qinv(q)\n",
                "i"
            ]
        },
        {
            "cell_type": "code",
            "execution_count": null,
            "metadata": {},
            "outputs": [],
            "source": []
        }
    ],
    "metadata": {
        "interpreter": {
            "hash": "73891b0dc2e53390f36276e59930dd4ecab91b05b5c90320c2d5b1c443f87069"
        },
        "kernelspec": {
            "display_name": "Python 3.10.1 ('venv': venv)",
            "language": "python",
            "name": "python3"
        },
        "language_info": {
            "codemirror_mode": {
                "name": "ipython",
                "version": 3
            },
            "file_extension": ".py",
            "mimetype": "text/x-python",
            "name": "python",
            "nbconvert_exporter": "python",
            "pygments_lexer": "ipython3",
            "version": "3.12.4"
        },
        "orig_nbformat": 4
    },
    "nbformat": 4,
    "nbformat_minor": 2
}
