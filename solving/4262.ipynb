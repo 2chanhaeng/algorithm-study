{
    "cells": [
        {
            "cell_type": "markdown",
            "metadata": {},
            "source": [
                "# [백준/Semi-prime H-numbers](https://www.acmicpc.net/problem/4262)\n"
            ]
        },
        {
            "cell_type": "markdown",
            "metadata": {},
            "source": [
                "## 풀이과정\n"
            ]
        },
        {
            "cell_type": "markdown",
            "metadata": {},
            "source": [
                "### 첫번째 시도\n"
            ]
        },
        {
            "cell_type": "markdown",
            "metadata": {},
            "source": [
                "#### 풀이과정\n"
            ]
        },
        {
            "cell_type": "code",
            "execution_count": 28,
            "metadata": {},
            "outputs": [],
            "source": [
                "def hprimes_under(n: int):\n",
                "    hprimes = [5]\n",
                "    for i in range(9, n + 1, 4):\n",
                "        root = int(i ** 0.5)\n",
                "        for j in hprimes:\n",
                "            if j > root:\n",
                "                hprimes.append(i)\n",
                "                break\n",
                "            if i % j == 0:\n",
                "                break\n",
                "    return hprimes\n",
                "\n",
                "\n",
                "def solution():\n",
                "    import sys\n",
                "\n",
                "    inputs = list(map(int, sys.stdin.read().split()[:-1]))\n",
                "    m = max(inputs)\n",
                "    hprimes = hprimes_under(m)\n",
                "\n",
                "    def hsemiprimes(n: int):\n",
                "        sems = set()\n",
                "        for i, p in enumerate(hprimes):\n",
                "            for q in hprimes[i:]:\n",
                "                if p * q > n:\n",
                "                    break\n",
                "                sems.add(p * q)\n",
                "        return len(sems)\n",
                "\n",
                "    for i in inputs:\n",
                "        print(i, (hsemiprimes(i)))\n",
                "\n",
                "\n",
                "solution()"
            ]
        },
        {
            "cell_type": "markdown",
            "metadata": {},
            "source": [
                "## 해답\n"
            ]
        },
        {
            "cell_type": "markdown",
            "metadata": {},
            "source": [
                "이 문제는 교육학적으로 4n+1 수 이론을 공부할 것을 제안한 데이비드 힐베르트의 연습 문제를 기반으로 합니다. 여기서는 그 중 일부만 사용합니다.\n",
                "\n",
                "H수는 4의 배수보다 하나 더 많은 양의 수로, 1, 5, 9, 13, 17, 21,...이 H수입니다. 이 문제에서는 이 숫자들이 유일한 숫자라고 가정합니다. H수는 곱셈에 의해 닫힙니다.\n",
                "\n",
                "일반 정수와 마찬가지로 H수를 단위, H-소수, H-복합수로 나눕니다. 단위는 1이 유일합니다. H수 h가 단위가 아닌 경우 H-소수이며, 두 H수의 곱인 1 × h의 한 가지 방식으로만 H-소수이고 나머지 수들은 H-복합수입니다.\n",
                "\n",
                "예를 들어, 처음 몇 개의 H-복합수는 다음과 같습니다: 5 × 5 = 25, 5 × 9 = 45, 5 × 13 = 65, 9 × 9 = 81, 5 × 17 = 85.\n",
                "\n",
                "여러분의 과제는 H-반소수의 개수를 세는 것입니다. H-반소수는 정확히 두 개의 H-소수의 곱인 H-수입니다. 두 개의 H 소수는 같거나 다를 수 있습니다. 위의 예에서 다섯 개의 숫자는 모두 H-반소수입니다. 125 = 5 × 5 × 5는 세 개의 H 소수의 곱이기 때문에 H 반소수가 아닙니다.\n",
                "\n",
                "[Translate by DeepL](https://www.deepl.com/translator#en/ko/This%20problem%20is%20based%20on%20an%20exercise%20of%20David%20Hilbert%2C%20who%20pedagogically%20suggested%20that%20one%20study%20the%20theory%20of%204n%2B1%20numbers.%20Here%2C%20we%20do%20only%20a%20bit%20of%20that.%0A%0AAn%20H-number%20is%20a%20positive%20number%20which%20is%20one%20more%20than%20a%20multiple%20of%20four%3A%201%2C%205%2C%209%2C%2013%2C%2017%2C%2021%2C...%20are%20the%20H-numbers.%20For%20this%20problem%20we%20pretend%20that%20these%20are%20the%20only%20numbers.%20The%20H-numbers%20are%20closed%20under%20multiplication.%0A%0AAs%20with%20regular%20integers%2C%20we%20partition%20the%20H-numbers%20into%20units%2C%20H-primes%2C%20and%20H-composites.%201%20is%20the%20only%20unit.%20An%20H-number%20h%20is%20H-prime%20if%20it%20is%20not%20the%20unit%2C%20and%20is%20the%20product%20of%20two%20H-numbers%20in%20only%20one%20way%3A%201%20%C3%97%20h.%20The%20rest%20of%20the%20numbers%20are%20H-composite.%0A%0AFor%20examples%2C%20the%20first%20few%20H-composites%20are%3A%205%20%C3%97%205%20%3D%2025%2C%205%20%C3%97%209%20%3D%2045%2C%205%20%C3%97%2013%20%3D%2065%2C%209%20%C3%97%209%20%3D%2081%2C%205%20%C3%97%2017%20%3D%2085.%0A%0AYour%20task%20is%20to%20count%20the%20number%20of%20H-semi-primes.%20An%20H-semi-prime%20is%20an%20H-number%20which%20is%20the%20product%20of%20exactly%20two%20H-primes.%20The%20two%20H-primes%20may%20be%20equal%20or%20different.%20In%20the%20example%20above%2C%20all%20five%20numbers%20are%20H-semi-primes.%20125%20%3D%205%20%C3%97%205%20%C3%97%205%20is%20not%20an%20H-semi-prime%2C%20because%20it's%20the%20product%20of%20three%20H-primes.)\n"
            ]
        },
        {
            "cell_type": "code",
            "execution_count": 12,
            "metadata": {},
            "outputs": [
                {
                    "data": {
                        "text/plain": [
                            "[5, 9, 13, 17, 21, 29, 33, 37, 41, 49, 53, 57, 61, 69, 73, 77, 89, 93, 97, 101]"
                        ]
                    },
                    "execution_count": 12,
                    "metadata": {},
                    "output_type": "execute_result"
                }
            ],
            "source": [
                "def hprimes_under(n: int):\n",
                "    return hprimes\n",
                "\n",
                "hprimes_under(101)"
            ]
        },
        {
            "cell_type": "code",
            "execution_count": 57,
            "metadata": {},
            "outputs": [],
            "source": [
                "def solution():\n",
                "    import sys\n",
                "\n",
                "    inputs = list(map(int, sys.stdin.read().split()[:-1]))\n",
                "    counts = {n: 0 for n in inputs}\n",
                "    m = max(inputs)\n",
                "\n",
                "    hprimes = [5]\n",
                "    hprimeset = {5}\n",
                "    semis = set()\n",
                "    for p in range(5, m + 1, 4):\n",
                "        root = p**0.5\n",
                "        for q in hprimes:\n",
                "            if q > root:\n",
                "                hprimes.append(p)\n",
                "                hprimeset.add(p)\n",
                "                break\n",
                "            if p % q == 0:\n",
                "                if p // q in hprimeset and p not in semis:\n",
                "                    semis.add(p)\n",
                "                    for n in counts.keys():\n",
                "                        if n >= p:\n",
                "                            counts[n] += 1\n",
                "                break\n",
                "\n",
                "    for n in inputs:\n",
                "        print(n, counts[n])"
            ]
        },
        {
            "cell_type": "markdown",
            "metadata": {},
            "source": [
                "## 예제\n"
            ]
        },
        {
            "cell_type": "code",
            "execution_count": 54,
            "metadata": {},
            "outputs": [
                {
                    "name": "stdout",
                    "output_type": "stream",
                    "text": [
                        "The blackcellmagic extension is already loaded. To reload it, use:\n",
                        "  %reload_ext blackcellmagic\n"
                    ]
                }
            ],
            "source": [
                "# black 모듈을 jupyter notebook 내에서 사용 가능하게 만들어주는 blackcellmagic 모듈 불러오기\n",
                "%load_ext blackcellmagic\n",
                "# %%black\n",
                "\n",
                "# 백준 문제 풀이용 예제 실행 코드\n",
                "from bwj import test\n",
                "test_solution = test(solution)\n",
                "\n",
                "# test_solution(\"\"\"\"\"\")\n",
                "# test_solution(read(\"fn\").read())"
            ]
        },
        {
            "cell_type": "code",
            "execution_count": 58,
            "metadata": {},
            "outputs": [
                {
                    "name": "stdout",
                    "output_type": "stream",
                    "text": [
                        "Unexpected exception formatting exception. Falling back to standard exception\n"
                    ]
                },
                {
                    "name": "stderr",
                    "output_type": "stream",
                    "text": [
                        "Traceback (most recent call last):\n",
                        "  File \"/Users/chanhaeng/Documents/GitHub/algorithm-study/venv/lib/python3.11/site-packages/IPython/core/interactiveshell.py\", line 3442, in run_code\n",
                        "    exec(code_obj, self.user_global_ns, self.user_ns)\n",
                        "  File \"/var/folders/5v/wxprbmzx3yv6xbk39x3shz0m0000gn/T/ipykernel_12287/4016658612.py\", line 3, in <module>\n",
                        "    test_solution(exp)\n",
                        "  File \"/Users/chanhaeng/Documents/GitHub/algorithm-study/venv/lib/python3.11/site-packages/bwj/__init__.py\", line 98, in test_example\n",
                        "    solution()\n",
                        "  File \"/var/folders/5v/wxprbmzx3yv6xbk39x3shz0m0000gn/T/ipykernel_12287/2595462860.py\", line -1, in solution\n",
                        "KeyboardInterrupt\n",
                        "\n",
                        "During handling of the above exception, another exception occurred:\n",
                        "\n",
                        "Traceback (most recent call last):\n",
                        "  File \"/Users/chanhaeng/Documents/GitHub/algorithm-study/venv/lib/python3.11/site-packages/IPython/core/interactiveshell.py\", line 2057, in showtraceback\n",
                        "    stb = self.InteractiveTB.structured_traceback(\n",
                        "          ^^^^^^^^^^^^^^^^^^^^^^^^^^^^^^^^^^^^^^^^\n",
                        "  File \"/Users/chanhaeng/Documents/GitHub/algorithm-study/venv/lib/python3.11/site-packages/IPython/core/ultratb.py\", line 1118, in structured_traceback\n",
                        "    return FormattedTB.structured_traceback(\n",
                        "           ^^^^^^^^^^^^^^^^^^^^^^^^^^^^^^^^^\n",
                        "  File \"/Users/chanhaeng/Documents/GitHub/algorithm-study/venv/lib/python3.11/site-packages/IPython/core/ultratb.py\", line 1012, in structured_traceback\n",
                        "    return VerboseTB.structured_traceback(\n",
                        "           ^^^^^^^^^^^^^^^^^^^^^^^^^^^^^^^\n",
                        "  File \"/Users/chanhaeng/Documents/GitHub/algorithm-study/venv/lib/python3.11/site-packages/IPython/core/ultratb.py\", line 865, in structured_traceback\n",
                        "    formatted_exception = self.format_exception_as_a_whole(etype, evalue, etb, number_of_lines_of_context,\n",
                        "                          ^^^^^^^^^^^^^^^^^^^^^^^^^^^^^^^^^^^^^^^^^^^^^^^^^^^^^^^^^^^^^^^^^^^^^^^^^^^^^^^^\n",
                        "  File \"/Users/chanhaeng/Documents/GitHub/algorithm-study/venv/lib/python3.11/site-packages/IPython/core/ultratb.py\", line 818, in format_exception_as_a_whole\n",
                        "    frames.append(self.format_record(r))\n",
                        "                  ^^^^^^^^^^^^^^^^^^^^^\n",
                        "  File \"/Users/chanhaeng/Documents/GitHub/algorithm-study/venv/lib/python3.11/site-packages/IPython/core/ultratb.py\", line 736, in format_record\n",
                        "    result += ''.join(_format_traceback_lines(frame_info.lines, Colors, self.has_colors, lvals))\n",
                        "                                              ^^^^^^^^^^^^^^^^\n",
                        "  File \"/Users/chanhaeng/Documents/GitHub/algorithm-study/venv/lib/python3.11/site-packages/stack_data/utils.py\", line 144, in cached_property_wrapper\n",
                        "    value = obj.__dict__[self.func.__name__] = self.func(obj)\n",
                        "                                               ^^^^^^^^^^^^^^\n",
                        "  File \"/Users/chanhaeng/Documents/GitHub/algorithm-study/venv/lib/python3.11/site-packages/stack_data/core.py\", line 734, in lines\n",
                        "    pieces = self.included_pieces\n",
                        "             ^^^^^^^^^^^^^^^^^^^^\n",
                        "  File \"/Users/chanhaeng/Documents/GitHub/algorithm-study/venv/lib/python3.11/site-packages/stack_data/utils.py\", line 144, in cached_property_wrapper\n",
                        "    value = obj.__dict__[self.func.__name__] = self.func(obj)\n",
                        "                                               ^^^^^^^^^^^^^^\n",
                        "  File \"/Users/chanhaeng/Documents/GitHub/algorithm-study/venv/lib/python3.11/site-packages/stack_data/core.py\", line 681, in included_pieces\n",
                        "    pos = scope_pieces.index(self.executing_piece)\n",
                        "                             ^^^^^^^^^^^^^^^^^^^^\n",
                        "  File \"/Users/chanhaeng/Documents/GitHub/algorithm-study/venv/lib/python3.11/site-packages/stack_data/utils.py\", line 144, in cached_property_wrapper\n",
                        "    value = obj.__dict__[self.func.__name__] = self.func(obj)\n",
                        "                                               ^^^^^^^^^^^^^^\n",
                        "  File \"/Users/chanhaeng/Documents/GitHub/algorithm-study/venv/lib/python3.11/site-packages/stack_data/core.py\", line 660, in executing_piece\n",
                        "    return only(\n",
                        "           ^^^^^\n",
                        "  File \"/Users/chanhaeng/Documents/GitHub/algorithm-study/venv/lib/python3.11/site-packages/executing/executing.py\", line 190, in only\n",
                        "    raise NotOneValueFound('Expected one value, found 0')\n",
                        "executing.executing.NotOneValueFound: Expected one value, found 0\n"
                    ]
                }
            ],
            "source": [
                "hnumbers = [i * 4 + 1 for i in range(1, 250000)]\n",
                "exp = \"\\n\".join(map(str, hnumbers)) + \"\\n0\\n\"\n",
                "test_solution(exp)"
            ]
        },
        {
            "cell_type": "code",
            "execution_count": 56,
            "metadata": {},
            "outputs": [
                {
                    "name": "stdout",
                    "output_type": "stream",
                    "text": [
                        "21 0\n",
                        "85 5\n",
                        "789 62\n",
                        "1000001 105753\n"
                    ]
                }
            ],
            "source": [
                "test_solution(\"\"\"21\n",
                "85\n",
                "789\n",
                "1000001\n",
                "0\n",
                "\"\"\")\n",
                "# answer:\n",
                "# 21 0\n",
                "# 85 5\n",
                "# 789 62"
            ]
        }
    ],
    "metadata": {
        "interpreter": {
            "hash": "73891b0dc2e53390f36276e59930dd4ecab91b05b5c90320c2d5b1c443f87069"
        },
        "kernelspec": {
            "display_name": "Python 3.10.1 ('venv': venv)",
            "language": "python",
            "name": "python3"
        },
        "language_info": {
            "codemirror_mode": {
                "name": "ipython",
                "version": 3
            },
            "file_extension": ".py",
            "mimetype": "text/x-python",
            "name": "python",
            "nbconvert_exporter": "python",
            "pygments_lexer": "ipython3",
            "version": "3.11.5"
        },
        "orig_nbformat": 4
    },
    "nbformat": 4,
    "nbformat_minor": 2
}
