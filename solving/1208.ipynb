{
    "cells": [
        {
            "cell_type": "markdown",
            "metadata": {},
            "source": [
                "# [백준/부분수열의 합 2](https://www.acmicpc.net/problem/1208)\n"
            ]
        },
        {
            "cell_type": "markdown",
            "metadata": {},
            "source": [
                "## 풀이과정\n"
            ]
        },
        {
            "cell_type": "markdown",
            "metadata": {},
            "source": [
                "### 첫번째 시도\n"
            ]
        },
        {
            "cell_type": "markdown",
            "metadata": {},
            "source": [
                "#### 풀이과정\n",
                "\n",
                "이 문제는 크기가 `N` 인 수열의 부분 수열의 합 중 특정 값`S`를 만족하는 경우의 수를 구하는 문제이다.  \n",
                "만약 이 문제를 곧이 곧대로 풀려고 하면 `O(2^N)`의 시간복잡도를 가지게 된다.  \n",
                "이 문제는 `N`이 최대 40인데 `O(2^40)`로 문제를 풀기에는 시간이 부족하다.  \n",
                "그렇기 때문에 이 문제는 `N`을 반으로 나누어 각각의 부분 수열의 합을 구하고, 그 두 부분 수열의 합이 `S`가 되는 경우의 수를 구하는 방법을 사용해야 한다.  \n",
                "그럼 `O(2^20)`의 시간복잡도를 가지게 되고, 이는 시간초과가 발생하지 않는다.\n",
                "\n",
                "먼저 부분 수열의 합의 모든 경우를 구하는 방법은 이렇게 구현했다.\n",
                "\n",
                "```python\n",
                "from collections import Counter\n",
                "from itertools import combinations, chain\n",
                "\n",
                "\n",
                "def partial_sum(n: int, nums: list[int]) -> dict[int, int]:\n",
                "    return Counter(\n",
                "        chain.from_iterable(map(sum, combinations(nums, r)) for r in range(1, n + 1))\n",
                "    )\n",
                "```\n",
                "\n",
                "[Python 공식 문서의 Itertools 조리법](https://docs.python.org/ko/3/library/itertools.html#itertools-recipes) 의 `powerset`을 참고했다.  \n",
                "`itertools.combinations` 는 `nums`에서 `r`개를 선택하는 모든 경우의 수를 구한다.  \n",
                "중학교 수학에서 배운 조합을 생각하면 된다.  \n",
                "그리고 `map`과 `sum`을 사용하여 각각 조합의 합을 구한다.  \n",
                "그리고 list comprehension을 사용하여 `r`이 `1`부터 `n`까지인 모든 경우의 수를 구한다.  \n",
                "다른 풀이에서는 공집합인 경우를 따로 처리했는데, 이렇게 하면 공집합인 경우도 자동으로 처리된다.  \n",
                "그리고 `Counter`를 사용하여 경우의 수를 구한다.\n",
                "\n",
                "`partial_sum` 함수를 통해 두 부분 수열의 합의 경우의 수가 담긴 `Counter`인 `left`와 `right`를 구한다.  \n",
                "그리고 `left`의 키와 `right`의 키를 더한 값이 `S`가 되는 경우의 수를 구한다.  \n",
                "각 경우의 수를 곱해서 더하면 된다.\n",
                "\n",
                "```python\n",
                "sum(v * right[s - k] for k, v in left.items())\n",
                "```\n",
                "\n",
                "`Counter` 객체는 키가 없는 경우 0을 반환하기 때문에 `s - k` 가 `right`에 없는 경우 0을 반환하므로 자연스럽게 처리된다.  \n",
                "그래도 검사를 해주면 불필요한 계산을 줄일 수 있기 때문에 살짝 더 빠르다.\n",
                "\n",
                "```python\n",
                "sum(v * right[d] for k, v in left.items() if (d := s - k) in right)\n",
                "```\n",
                "\n",
                "최종적으로 `left`와 `right`에서 `S`가 되는 경우의 수를 찾아 모두 더해주면 된다.\n",
                "\n",
                "```python\n",
                "result = left[s] + right[s] + sum(v * right[s - k] for k, v in left.items())\n",
                "```\n"
            ]
        },
        {
            "cell_type": "code",
            "execution_count": null,
            "metadata": {},
            "outputs": [],
            "source": [
                "from collections import Counter\n",
                "from itertools import combinations, chain\n",
                "\n",
                "\n",
                "def partial_sum(n: int, nums: list[int]) -> dict[int, int]:\n",
                "    return Counter(\n",
                "        chain.from_iterable(map(sum, combinations(nums, r)) for r in range(1, n + 1))\n",
                "    )\n",
                "\n",
                "\n",
                "def solution():\n",
                "    import sys\n",
                "\n",
                "    n, s, *nums = map(int, sys.stdin.read().split())\n",
                "    l, r = sum(divmod(n, 2)), n // 2\n",
                "    left = partial_sum(l, nums[:l])\n",
                "    right = partial_sum(r, nums[l:])\n",
                "    result = left[s] + right[s] + sum(v * right[s - k] for k, v in left.items())\n",
                "    print(result)\n",
                "\n",
                "\n",
                "solution()"
            ]
        },
        {
            "cell_type": "code",
            "execution_count": null,
            "metadata": {},
            "outputs": [],
            "source": [
                "# fmt: off\n",
                "print((lambda i:(lambda C,I:(lambda n,s,*nums:(lambda l,r,P:(lambda L,R:L[s]+R[s]+sum(v*d for k,v in L.items()if(d:=R[s-k])))(P(l,nums[:l]),P(r,nums[l:])))(sum(divmod(n,2)),n//2,lambda n,nums:C(I.chain.from_iterable(map(sum,I.combinations(nums,r)) for r in range(1,n+1)))))(*map(int,open(0).read().split())))(i('collections').Counter,i('itertools')))(__import__))"
            ]
        },
        {
            "cell_type": "markdown",
            "metadata": {},
            "source": [
                "## 해답\n"
            ]
        },
        {
            "cell_type": "code",
            "execution_count": 1,
            "metadata": {},
            "outputs": [],
            "source": [
                "from collections import Counter\n",
                "from itertools import combinations, chain\n",
                "\n",
                "\n",
                "def partial_sum(n: int, nums: list[int]) -> dict[int, int]:\n",
                "    return Counter(\n",
                "        chain.from_iterable(map(sum, combinations(nums, r)) for r in range(1, n + 1))\n",
                "    )"
            ]
        },
        {
            "cell_type": "code",
            "execution_count": 2,
            "metadata": {},
            "outputs": [],
            "source": [
                "def solution():\n",
                "    import sys\n",
                "\n",
                "    n, s, *nums = map(int, sys.stdin.read().split())\n",
                "    l, r = sum(divmod(n, 2)), n // 2\n",
                "    left = partial_sum(l, nums[:l])\n",
                "    right = partial_sum(r, nums[l:])\n",
                "    result = left[s] + right[s] + sum(v * right[s - k] for k, v in left.items())\n",
                "    print(result)"
            ]
        },
        {
            "cell_type": "markdown",
            "metadata": {},
            "source": [
                "## 예제\n"
            ]
        },
        {
            "cell_type": "code",
            "execution_count": 3,
            "metadata": {},
            "outputs": [],
            "source": [
                "# 백준 문제 풀이용 예제 실행 코드\n",
                "from bwj import test\n",
                "\n",
                "test_solution = test(solution)\n",
                "\n",
                "# test_solution(\"\"\"\"\"\")\n",
                "# test_solution(read(\"fn\").read())"
            ]
        },
        {
            "cell_type": "code",
            "execution_count": 4,
            "metadata": {},
            "outputs": [
                {
                    "name": "stdout",
                    "output_type": "stream",
                    "text": [
                        "1\n"
                    ]
                }
            ],
            "source": [
                "test_solution(\n",
                "    \"\"\"5 0\n",
                "-7 -3 -2 5 8\n",
                "\"\"\"\n",
                ")  # 1"
            ]
        },
        {
            "cell_type": "code",
            "execution_count": 5,
            "metadata": {},
            "outputs": [
                {
                    "name": "stdout",
                    "output_type": "stream",
                    "text": [
                        "31\n"
                    ]
                }
            ],
            "source": [
                "test_solution(\n",
                "    \"\"\"5 0\n",
                "0 0 0 0 0\n",
                "\"\"\"\n",
                ")  # 31"
            ]
        },
        {
            "cell_type": "code",
            "execution_count": 6,
            "metadata": {},
            "outputs": [
                {
                    "name": "stdout",
                    "output_type": "stream",
                    "text": [
                        "0\n",
                        "1\n"
                    ]
                }
            ],
            "source": [
                "test_solution(\n",
                "    \"\"\"1 0\n",
                "1\n",
                "\"\"\"\n",
                ")  # 0\n",
                "test_solution(\n",
                "    \"\"\"1 0\n",
                "0\n",
                "\"\"\"\n",
                ")  # 1"
            ]
        }
    ],
    "metadata": {
        "interpreter": {
            "hash": "73891b0dc2e53390f36276e59930dd4ecab91b05b5c90320c2d5b1c443f87069"
        },
        "kernelspec": {
            "display_name": "Python 3.10.1 ('venv': venv)",
            "language": "python",
            "name": "python3"
        },
        "language_info": {
            "codemirror_mode": {
                "name": "ipython",
                "version": 3
            },
            "file_extension": ".py",
            "mimetype": "text/x-python",
            "name": "python",
            "nbconvert_exporter": "python",
            "pygments_lexer": "ipython3",
            "version": "3.12.0"
        },
        "orig_nbformat": 4
    },
    "nbformat": 4,
    "nbformat_minor": 2
}
