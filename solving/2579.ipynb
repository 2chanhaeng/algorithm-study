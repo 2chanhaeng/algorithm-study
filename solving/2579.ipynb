{
    "cells": [
        {
            "cell_type": "markdown",
            "metadata": {},
            "source": [
                "# [백준/계단 오르기](https://www.acmicpc.net/problem/2579)"
            ]
        },
        {
            "cell_type": "markdown",
            "metadata": {},
            "source": [
                "## 풀이과정"
            ]
        },
        {
            "cell_type": "markdown",
            "metadata": {},
            "source": [
                "### 첫번째 시도"
            ]
        },
        {
            "cell_type": "markdown",
            "metadata": {},
            "source": [
                "풀이과정"
            ]
        },
        {
            "cell_type": "code",
            "execution_count": null,
            "metadata": {},
            "outputs": [],
            "source": [
                "# solution()"
            ]
        },
        {
            "cell_type": "markdown",
            "metadata": {},
            "source": [
                "## 해답"
            ]
        },
        {
            "cell_type": "code",
            "execution_count": 2,
            "metadata": {},
            "outputs": [],
            "source": [
                "from functools import cache"
            ]
        },
        {
            "cell_type": "code",
            "execution_count": 220,
            "metadata": {},
            "outputs": [],
            "source": [
                "def solution(open = open):\n",
                "    inputs = map(int, open(0).read().split())\n",
                "    length = next(inputs)\n",
                "    stairs = [*inputs]\n",
                "    stair_sum = [0] * length\n",
                "    stair_sum[0] = stairs[0]\n",
                "    stair_sum[1] = stairs[0] + stairs[1]\n",
                "    stair_sum[2] = max(stair_sum[0] + stairs[2], stair_sum[1] + stairs[2])\n",
                "    for i, stair in enumerate(stairs[3:], 3):\n",
                "        stair_sum[i] = stair + max(stair_sum[i - 2], stair_sum[i - 3] + stairs[i - 1])\n",
                "    print(stair_sum)\n",
                "    "
            ]
        },
        {
            "cell_type": "markdown",
            "metadata": {},
            "source": [
                "## 예제"
            ]
        },
        {
            "cell_type": "code",
            "execution_count": 221,
            "metadata": {},
            "outputs": [],
            "source": [
                "# 백준 문제 풀이용 예제 실행 코드\n",
                "from bwj import test\n",
                "test_solution = test(solution)\n",
                "\n",
                "# test_solution(\"\"\"\"\"\")\n",
                "# test_solution(read(\"fn\").read())"
            ]
        },
        {
            "cell_type": "code",
            "execution_count": 222,
            "metadata": {},
            "outputs": [
                {
                    "name": "stdout",
                    "output_type": "stream",
                    "text": [
                        "[10, 30, 45, 55, 65, 75]\n"
                    ]
                }
            ],
            "source": [
                "test_solution(\"\"\"6\n",
                "10\n",
                "20\n",
                "15\n",
                "25\n",
                "10\n",
                "20\"\"\") # 75"
            ]
        },
        {
            "cell_type": "code",
            "execution_count": 223,
            "metadata": {},
            "outputs": [
                {
                    "name": "stdout",
                    "output_type": "stream",
                    "text": [
                        "[1, 5, 8, 6, 17]\n"
                    ]
                }
            ],
            "source": [
                "test_solution(\"\"\"5\n",
                "1\n",
                "4\n",
                "3\n",
                "1\n",
                "9\"\"\") # 16"
            ]
        },
        {
            "cell_type": "code",
            "execution_count": 224,
            "metadata": {},
            "outputs": [
                {
                    "name": "stdout",
                    "output_type": "stream",
                    "text": [
                        "[1, 10, 12, 13]\n"
                    ]
                }
            ],
            "source": [
                "test_solution(\"\"\"4\n",
                "1\n",
                "9\n",
                "2\n",
                "3\"\"\") # 13"
            ]
        }
    ],
    "metadata": {
        "interpreter": {
            "hash": "73891b0dc2e53390f36276e59930dd4ecab91b05b5c90320c2d5b1c443f87069"
        },
        "kernelspec": {
            "display_name": "Python 3.10.1 ('venv': venv)",
            "language": "python",
            "name": "python3"
        },
        "language_info": {
            "codemirror_mode": {
                "name": "ipython",
                "version": 3
            },
            "file_extension": ".py",
            "mimetype": "text/x-python",
            "name": "python",
            "nbconvert_exporter": "python",
            "pygments_lexer": "ipython3",
            "version": "3.10.2"
        },
        "orig_nbformat": 4
    },
    "nbformat": 4,
    "nbformat_minor": 2
}
