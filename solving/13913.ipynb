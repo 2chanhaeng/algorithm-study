{
    "cells": [
        {
            "cell_type": "markdown",
            "metadata": {},
            "source": [
                "# [백준/숨바꼭질 4](https://www.acmicpc.net/problem/13913)"
            ]
        },
        {
            "cell_type": "markdown",
            "metadata": {},
            "source": [
                "## 풀이과정"
            ]
        },
        {
            "cell_type": "markdown",
            "metadata": {},
            "source": [
                "### 첫번째 시도"
            ]
        },
        {
            "cell_type": "markdown",
            "metadata": {},
            "source": [
                "#### 풀이과정"
            ]
        },
        {
            "cell_type": "code",
            "execution_count": null,
            "metadata": {},
            "outputs": [],
            "source": [
                "def solution():\n",
                "    import sys\n",
                "    from collections import deque\n",
                "\n",
                "    start, end = map(int, sys.stdin.read().split())\n",
                "    visited = set()\n",
                "    visitto = deque([(start, (start,))])\n",
                "    counter = []\n",
                "    min_count = abs(start - end) + 1\n",
                "\n",
                "    while visitto:\n",
                "        now, route = visitto.popleft()\n",
                "        count = len(route)\n",
                "        visited.add(now)\n",
                "\n",
                "        if min_count < count:\n",
                "            continue\n",
                "        if now == end:\n",
                "            if min_count == count:\n",
                "                counter.append(route)\n",
                "            else:\n",
                "                min_count = count\n",
                "                counter = [route]\n",
                "            continue\n",
                "        for goto in [now + 1, now - 1, now * 2]:\n",
                "            if 0 <= goto <= 100000 and goto not in visited:\n",
                "                visitto.append((goto, route + (goto,)))\n",
                "\n",
                "    print(min_count)\n",
                "    print(*counter[0])\n",
                "\n",
                "\n",
                "solution()"
            ]
        },
        {
            "attachments": {},
            "cell_type": "markdown",
            "metadata": {},
            "source": [
                "### 두번째 시도"
            ]
        },
        {
            "cell_type": "markdown",
            "metadata": {},
            "source": [
                "#### 풀이과정"
            ]
        },
        {
            "cell_type": "code",
            "execution_count": null,
            "metadata": {},
            "outputs": [],
            "source": [
                "def solution():\n",
                "    import sys\n",
                "    from collections import deque\n",
                "\n",
                "    start, end = map(int, sys.stdin.read().split())\n",
                "    visitto = deque([start])\n",
                "    router = {start: None}\n",
                "    counts = {start: 0}\n",
                "    min_count = abs(start - end) + 1\n",
                "\n",
                "    while visitto:\n",
                "        now = visitto.popleft()\n",
                "        count = counts[now]\n",
                "        if min_count < count:\n",
                "            continue\n",
                "        if now == end and min_count > count:\n",
                "            min_count = count\n",
                "            continue\n",
                "        count += 1\n",
                "        for goto in [now + 1, now - 1, now * 2]:\n",
                "            if 0 <= goto <= 100000 and counts.get(goto, min_count) > count:\n",
                "                router[goto] = now\n",
                "                counts[goto] = count\n",
                "                visitto.append(goto)\n",
                "\n",
                "    print(min_count)\n",
                "    print(*([k := end] + [k := router[k] for _ in range(min_count)])[::-1])\n",
                "\n",
                "\n",
                "solution()"
            ]
        },
        {
            "cell_type": "markdown",
            "metadata": {},
            "source": [
                "## 해답"
            ]
        },
        {
            "cell_type": "code",
            "execution_count": 27,
            "metadata": {},
            "outputs": [],
            "source": [
                "def solution():\n",
                "    import sys\n",
                "    from collections import deque\n",
                "\n",
                "    start, end = map(int, sys.stdin.read().split())\n",
                "    visitto = deque([start])\n",
                "    router = {start: None}\n",
                "    counts = {start: 0}\n",
                "    min_count = abs(start - end) + 1\n",
                "\n",
                "    while visitto:\n",
                "        now = visitto.popleft()\n",
                "        count = counts[now]\n",
                "        if min_count < count:\n",
                "            continue\n",
                "        if now == end and min_count > count:\n",
                "            min_count = count\n",
                "            continue\n",
                "        count += 1\n",
                "        for goto in [now + 1, now - 1, now * 2]:\n",
                "            if 0 <= goto <= 100000 and counts.get(goto, min_count) > count:\n",
                "                router[goto] = now\n",
                "                counts[goto] = count\n",
                "                visitto.append(goto)\n",
                "\n",
                "    print(min_count)\n",
                "    print(*([k := end] + [k := router[k] for _ in range(min_count)])[::-1])"
            ]
        },
        {
            "cell_type": "markdown",
            "metadata": {},
            "source": [
                "## 예제"
            ]
        },
        {
            "cell_type": "code",
            "execution_count": 28,
            "metadata": {},
            "outputs": [
                {
                    "name": "stdout",
                    "output_type": "stream",
                    "text": [
                        "The blackcellmagic extension is already loaded. To reload it, use:\n",
                        "  %reload_ext blackcellmagic\n"
                    ]
                }
            ],
            "source": [
                "# black 모듈을 jupyter notebook 내에서 사용 가능하게 만들어주는 blackcellmagic 모듈 불러오기\n",
                "%load_ext blackcellmagic\n",
                "# %%black\n",
                "\n",
                "# 백준 문제 풀이용 예제 실행 코드\n",
                "from bwj import test\n",
                "test_solution = test(solution)\n",
                "\n",
                "# test_solution(\"\"\"\"\"\")\n",
                "# test_solution(read(\"fn\").read())"
            ]
        },
        {
            "cell_type": "code",
            "execution_count": 32,
            "metadata": {},
            "outputs": [
                {
                    "name": "stdout",
                    "output_type": "stream",
                    "text": [
                        "1\n",
                        "0 1\n"
                    ]
                }
            ],
            "source": [
                "test_solution(\"\"\"1 0\n",
                "\"\"\")\n",
                "# answer:\n",
                "# 1\n",
                "# 1 0"
            ]
        },
        {
            "cell_type": "code",
            "execution_count": 30,
            "metadata": {},
            "outputs": [
                {
                    "name": "stdout",
                    "output_type": "stream",
                    "text": [
                        "4\n",
                        "5 4 8 16 17\n"
                    ]
                }
            ],
            "source": [
                "test_solution(\"\"\"5 17\n",
                "\"\"\")\n",
                "# answer:\n",
                "# 4\n",
                "# 5 4 8 16 17"
            ]
        }
    ],
    "metadata": {
        "kernelspec": {
            "display_name": "venv",
            "language": "python",
            "name": "python3"
        },
        "language_info": {
            "codemirror_mode": {
                "name": "ipython",
                "version": 3
            },
            "file_extension": ".py",
            "mimetype": "text/x-python",
            "name": "python",
            "nbconvert_exporter": "python",
            "pygments_lexer": "ipython3",
            "version": "3.10.8"
        },
        "orig_nbformat": 4,
        "vscode": {
            "interpreter": {
                "hash": "72904a014a9ffe38f4c58942120b599b3c5a87d06764037548e0139929c1cde3"
            }
        }
    },
    "nbformat": 4,
    "nbformat_minor": 2
}
