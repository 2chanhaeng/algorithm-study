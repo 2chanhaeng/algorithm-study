{
  "cells": [
    {
      "cell_type": "markdown",
      "metadata": {
        "id": "lQ2PpyeKhr0W"
      },
      "source": [
        "# [사이트/문제_제목](링크)"
      ]
    },
    {
      "cell_type": "markdown",
      "metadata": {
        "id": "xRG_ZqnKhr0c"
      },
      "source": [
        "## 풀이과정"
      ]
    },
    {
      "cell_type": "markdown",
      "metadata": {
        "id": "8Abgjr0Uhr0e"
      },
      "source": [
        "### 첫번째 시도"
      ]
    },
    {
      "cell_type": "markdown",
      "metadata": {
        "id": "fDPl5mG4hr0g"
      },
      "source": [
        "풀이과정"
      ]
    },
    {
      "cell_type": "code",
      "execution_count": null,
      "metadata": {
        "id": "_ExMKs5Qhr0i"
      },
      "outputs": [],
      "source": [
        "# 풀이 코드\n"
      ]
    },
    {
      "cell_type": "markdown",
      "metadata": {
        "id": "CgVyvNoxhr0o"
      },
      "source": [
        "## 해답"
      ]
    },
    {
      "cell_type": "code",
      "execution_count": 15,
      "metadata": {
        "id": "JpLdPz_9hr0r"
      },
      "outputs": [],
      "source": [
        "def solution(input):\n",
        "    nodes, lines = map(int,input().split())\n",
        "    cons = [frozenset({node}) for node in range(1, nodes + 1)]\n",
        "    for _ in range(lines):\n",
        "        a, b = sorted(map(int,input().split()))\n",
        "        cons[b] = cons[a] = cons[a] | cons[b]\n",
        "    print(cons)\n",
        "    print(len(set(cons.values())))\n",
        "\n"
      ]
    },
    {
      "cell_type": "markdown",
      "metadata": {
        "id": "XzWMZil7hr0v"
      },
      "source": [
        "## 테스트 결과"
      ]
    },
    {
      "cell_type": "markdown",
      "metadata": {
        "id": "LN69I7hOhr0y"
      },
      "source": [
        "|테스트|결과|\n",
        "|---:|:---|"
      ]
    },
    {
      "cell_type": "markdown",
      "metadata": {
        "id": "MEorAHgfhr01"
      },
      "source": [
        "## 예제"
      ]
    },
    {
      "cell_type": "code",
      "execution_count": 16,
      "metadata": {
        "id": "jM9qlkEMhr02"
      },
      "outputs": [],
      "source": [
        "# 백준 문제 풀이용 예제 실행 코드\n",
        "from inspect import signature\n",
        "def solution_example(input_ = None, solution=solution):\n",
        "    params = signature(solution).parameters\n",
        "    if input_ == None:\n",
        "        solution()\n",
        "    elif 'open' in params:\n",
        "        class open:\n",
        "            def __init__(self, x):\n",
        "                self.read = lambda: input_\n",
        "            def __iter__(self):\n",
        "                return iter(input_.split(\"\\n\"))\n",
        "        solution(open)\n",
        "    elif 'input' in params:\n",
        "        input_ = iter(input_.split(\"\\n\"))\n",
        "        input = input_.__next__\n",
        "        solution(input)\n",
        "    else:\n",
        "        raise NameError(f'solution 함수가 input, open 등의 매개변수를 받지 않습니다.\\nsolution 의 매개변수: {params}')\n",
        "    \n",
        "        \n",
        "# solution_example(\"\"\"\"\"\")\n",
        "# solution_example(read(\"fn\").read())"
      ]
    },
    {
      "cell_type": "code",
      "execution_count": 17,
      "metadata": {
        "id": "D7n1E_bEhr09",
        "outputId": "cc43b38e-5991-4eb5-e7c1-abc059dde47b",
        "colab": {
          "base_uri": "https://localhost:8080/",
          "height": 946
        }
      },
      "outputs": [
        {
          "output_type": "stream",
          "name": "stderr",
          "text": [
            "ERROR:root:An unexpected error occurred while tokenizing input\n",
            "The following traceback may be corrupted or invalid\n",
            "The error message is: ('EOF in multi-line string', (1, 3))\n",
            "\n"
          ]
        },
        {
          "output_type": "error",
          "ename": "IndexError",
          "evalue": "ignored",
          "traceback": [
            "\u001b[0;31m---------------------------------------------------------------------------\u001b[0m",
            "\u001b[0;31mIndexError\u001b[0m                                Traceback (most recent call last)",
            "\u001b[0;32m<ipython-input-17-8a05020d4752>\u001b[0m in \u001b[0;36m<module>\u001b[0;34m()\u001b[0m\n\u001b[1;32m      7\u001b[0m \u001b[0;36m5\u001b[0m \u001b[0;36m4\u001b[0m\u001b[0;34m\u001b[0m\u001b[0;34m\u001b[0m\u001b[0m\n\u001b[1;32m      8\u001b[0m \u001b[0;36m2\u001b[0m \u001b[0;36m4\u001b[0m\u001b[0;34m\u001b[0m\u001b[0;34m\u001b[0m\u001b[0m\n\u001b[0;32m----> 9\u001b[0;31m 2 3\"\"\") # 1\n\u001b[0m",
            "\u001b[0;32m<ipython-input-16-ed81c6b40817>\u001b[0m in \u001b[0;36msolution_example\u001b[0;34m(input_, solution)\u001b[0m\n\u001b[1;32m     15\u001b[0m         \u001b[0minput_\u001b[0m \u001b[0;34m=\u001b[0m \u001b[0miter\u001b[0m\u001b[0;34m(\u001b[0m\u001b[0minput_\u001b[0m\u001b[0;34m.\u001b[0m\u001b[0msplit\u001b[0m\u001b[0;34m(\u001b[0m\u001b[0;34m\"\\n\"\u001b[0m\u001b[0;34m)\u001b[0m\u001b[0;34m)\u001b[0m\u001b[0;34m\u001b[0m\u001b[0;34m\u001b[0m\u001b[0m\n\u001b[1;32m     16\u001b[0m         \u001b[0minput\u001b[0m \u001b[0;34m=\u001b[0m \u001b[0minput_\u001b[0m\u001b[0;34m.\u001b[0m\u001b[0m__next__\u001b[0m\u001b[0;34m\u001b[0m\u001b[0;34m\u001b[0m\u001b[0m\n\u001b[0;32m---> 17\u001b[0;31m         \u001b[0msolution\u001b[0m\u001b[0;34m(\u001b[0m\u001b[0minput\u001b[0m\u001b[0;34m)\u001b[0m\u001b[0;34m\u001b[0m\u001b[0;34m\u001b[0m\u001b[0m\n\u001b[0m\u001b[1;32m     18\u001b[0m     \u001b[0;32melse\u001b[0m\u001b[0;34m:\u001b[0m\u001b[0;34m\u001b[0m\u001b[0;34m\u001b[0m\u001b[0m\n\u001b[1;32m     19\u001b[0m         \u001b[0;32mraise\u001b[0m \u001b[0mNameError\u001b[0m\u001b[0;34m(\u001b[0m\u001b[0;34mf'solution 함수가 input, open 등의 매개변수를 받지 않습니다.\\nsolution 의 매개변수: {params}'\u001b[0m\u001b[0;34m)\u001b[0m\u001b[0;34m\u001b[0m\u001b[0;34m\u001b[0m\u001b[0m\n",
            "\u001b[0;32m<ipython-input-15-c4c98397f7bb>\u001b[0m in \u001b[0;36msolution\u001b[0;34m(input)\u001b[0m\n\u001b[1;32m      4\u001b[0m     \u001b[0;32mfor\u001b[0m \u001b[0m_\u001b[0m \u001b[0;32min\u001b[0m \u001b[0mrange\u001b[0m\u001b[0;34m(\u001b[0m\u001b[0mlines\u001b[0m\u001b[0;34m)\u001b[0m\u001b[0;34m:\u001b[0m\u001b[0;34m\u001b[0m\u001b[0;34m\u001b[0m\u001b[0m\n\u001b[1;32m      5\u001b[0m         \u001b[0ma\u001b[0m\u001b[0;34m,\u001b[0m \u001b[0mb\u001b[0m \u001b[0;34m=\u001b[0m \u001b[0msorted\u001b[0m\u001b[0;34m(\u001b[0m\u001b[0mmap\u001b[0m\u001b[0;34m(\u001b[0m\u001b[0mint\u001b[0m\u001b[0;34m,\u001b[0m\u001b[0minput\u001b[0m\u001b[0;34m(\u001b[0m\u001b[0;34m)\u001b[0m\u001b[0;34m.\u001b[0m\u001b[0msplit\u001b[0m\u001b[0;34m(\u001b[0m\u001b[0;34m)\u001b[0m\u001b[0;34m)\u001b[0m\u001b[0;34m)\u001b[0m\u001b[0;34m\u001b[0m\u001b[0;34m\u001b[0m\u001b[0m\n\u001b[0;32m----> 6\u001b[0;31m         \u001b[0mcons\u001b[0m\u001b[0;34m[\u001b[0m\u001b[0mb\u001b[0m\u001b[0;34m]\u001b[0m \u001b[0;34m=\u001b[0m \u001b[0mcons\u001b[0m\u001b[0;34m[\u001b[0m\u001b[0ma\u001b[0m\u001b[0;34m]\u001b[0m \u001b[0;34m=\u001b[0m \u001b[0mcons\u001b[0m\u001b[0;34m[\u001b[0m\u001b[0ma\u001b[0m\u001b[0;34m]\u001b[0m \u001b[0;34m|\u001b[0m \u001b[0mcons\u001b[0m\u001b[0;34m[\u001b[0m\u001b[0mb\u001b[0m\u001b[0;34m]\u001b[0m\u001b[0;34m\u001b[0m\u001b[0;34m\u001b[0m\u001b[0m\n\u001b[0m\u001b[1;32m      7\u001b[0m     \u001b[0mprint\u001b[0m\u001b[0;34m(\u001b[0m\u001b[0mcons\u001b[0m\u001b[0;34m)\u001b[0m\u001b[0;34m\u001b[0m\u001b[0;34m\u001b[0m\u001b[0m\n\u001b[1;32m      8\u001b[0m     \u001b[0mprint\u001b[0m\u001b[0;34m(\u001b[0m\u001b[0mlen\u001b[0m\u001b[0;34m(\u001b[0m\u001b[0mset\u001b[0m\u001b[0;34m(\u001b[0m\u001b[0mcons\u001b[0m\u001b[0;34m.\u001b[0m\u001b[0mvalues\u001b[0m\u001b[0;34m(\u001b[0m\u001b[0;34m)\u001b[0m\u001b[0;34m)\u001b[0m\u001b[0;34m)\u001b[0m\u001b[0;34m)\u001b[0m\u001b[0;34m\u001b[0m\u001b[0;34m\u001b[0m\u001b[0m\n",
            "\u001b[0;31mIndexError\u001b[0m: list index out of range"
          ]
        }
      ],
      "source": [
        "solution_example(\"\"\"6 8\n",
        "1 2\n",
        "2 5\n",
        "5 1\n",
        "3 4\n",
        "4 6\n",
        "5 4\n",
        "2 4\n",
        "2 3\"\"\") # 1"
      ]
    },
    {
      "cell_type": "code",
      "source": [
        "solution_example(\"\"\"6 5\n",
        "1 2\n",
        "2 5\n",
        "5 1\n",
        "3 4\n",
        "4 6\"\"\") # 2"
      ],
      "metadata": {
        "id": "kLi1id29iofl",
        "outputId": "1703e01a-6d7b-410e-c376-83713dd95c42",
        "colab": {
          "base_uri": "https://localhost:8080/"
        }
      },
      "execution_count": 14,
      "outputs": [
        {
          "output_type": "stream",
          "name": "stdout",
          "text": [
            "{1: frozenset({1, 2, 5}), 2: frozenset({1, 2, 5}), 3: frozenset({3, 4}), 4: frozenset({3, 4, 6}), 5: frozenset({1, 2, 5}), 6: frozenset({3, 4, 6})}\n",
            "3\n"
          ]
        }
      ]
    }
  ],
  "metadata": {
    "interpreter": {
      "hash": "73891b0dc2e53390f36276e59930dd4ecab91b05b5c90320c2d5b1c443f87069"
    },
    "kernelspec": {
      "display_name": "Python 3.10.1 ('venv': venv)",
      "language": "python",
      "name": "python3"
    },
    "language_info": {
      "codemirror_mode": {
        "name": "ipython",
        "version": 3
      },
      "file_extension": ".py",
      "mimetype": "text/x-python",
      "name": "python",
      "nbconvert_exporter": "python",
      "pygments_lexer": "ipython3",
      "version": "3.10.1"
    },
    "orig_nbformat": 4,
    "colab": {
      "name": "template.ipynb",
      "provenance": []
    }
  },
  "nbformat": 4,
  "nbformat_minor": 0
}