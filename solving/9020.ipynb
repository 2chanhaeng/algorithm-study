{
    "cells": [
        {
            "cell_type": "markdown",
            "metadata": {},
            "source": [
                "# [백준/골드바흐의 추측](https://www.acmicpc.net/problem/9020)"
            ]
        },
        {
            "cell_type": "markdown",
            "metadata": {},
            "source": [
                "## 풀이과정"
            ]
        },
        {
            "cell_type": "markdown",
            "metadata": {},
            "source": [
                "### 첫번째 시도"
            ]
        },
        {
            "cell_type": "markdown",
            "metadata": {},
            "source": [
                "풀이과정"
            ]
        },
        {
            "cell_type": "code",
            "execution_count": null,
            "metadata": {},
            "outputs": [],
            "source": [
                "def solution(input):\n",
                "    che = [False, False, True, True] + [False, True, False, True, False, False] * 1666\n",
                "    for i, is_prime in enumerate(che[5::2], start=1):\n",
                "        if not is_prime:\n",
                "            continue\n",
                "        prime = i * 2 + 1\n",
                "        che[prime * prime::2 * prime] = [False] * ((10001 - prime * prime) // (2 * prime) + 1)\n",
                "    for _ in range(int(input())):\n",
                "        n = int(input())\n",
                "        if n == 4:\n",
                "            print(2, 2)\n",
                "        n2 = n // 2\n",
                "        if n2 % 2 == 0:\n",
                "            n2 -= 1\n",
                "        for prime in range(n2, 0, -2):\n",
                "            if che[prime] and che[n - prime]:\n",
                "                print(prime, n - prime)\n",
                "                break\n",
                "import sys\n",
                "solution(lambda: sys.stdin.readline().rstrip())"
            ]
        },
        {
            "cell_type": "markdown",
            "metadata": {},
            "source": [
                "## 해답"
            ]
        },
        {
            "cell_type": "code",
            "execution_count": 6,
            "metadata": {},
            "outputs": [
                {
                    "data": {
                        "text/plain": [
                            "4998"
                        ]
                    },
                    "execution_count": 6,
                    "metadata": {},
                    "output_type": "execute_result"
                }
            ],
            "source": [
                "len(([False, False, True, True] + [False, True] * 4998)[4::2])"
            ]
        },
        {
            "cell_type": "code",
            "execution_count": 7,
            "metadata": {},
            "outputs": [
                {
                    "name": "stdout",
                    "output_type": "stream",
                    "text": [
                        "48.6 µs ± 325 ns per loop (mean ± std. dev. of 7 runs, 10,000 loops each)\n",
                        "67.6 µs ± 417 ns per loop (mean ± std. dev. of 7 runs, 10,000 loops each)\n"
                    ]
                }
            ],
            "source": [
                "%timeit che = [False, False, True, True] + [False, True, False, False, False, True] * 1666\n",
                "%timeit che = [False, False, True, True] + [False, True] * 4998; che[4::2] = [False] * 4998\n"
            ]
        },
        {
            "cell_type": "code",
            "execution_count": 65,
            "metadata": {},
            "outputs": [],
            "source": [
                "def solution(input):\n",
                "    che = [False, False, True, True] + [False, True, False, True, False, False] * 1666\n",
                "    for i, is_prime in enumerate(che[5::2], start=1):\n",
                "        if not is_prime:\n",
                "            continue\n",
                "        prime = i * 2 + 1\n",
                "        che[prime * prime::2 * prime] = [False] * ((10001 - prime * prime) // (2 * prime) + 1)\n",
                "    for _ in range(int(input())):\n",
                "        n = int(input())\n",
                "        if n == 4:\n",
                "            print(2, 2)\n",
                "        n2 = n // 2\n",
                "        if n2 % 2 == 0:\n",
                "            n2 -= 1\n",
                "        for prime in range(n2, 0, -2):\n",
                "            if che[prime] and che[n - prime]:\n",
                "                print(prime, n - prime)\n",
                "                break"
            ]
        },
        {
            "cell_type": "markdown",
            "metadata": {},
            "source": [
                "## 예제"
            ]
        },
        {
            "cell_type": "code",
            "execution_count": 66,
            "metadata": {},
            "outputs": [],
            "source": [
                "# 백준 문제 풀이용 예제 실행 코드\n",
                "from bwj import test\n",
                "test_solution = test(solution)\n",
                "\n",
                "# test_solution(\"\"\"\"\"\")\n",
                "# test_solution(read(\"fn\").read())"
            ]
        },
        {
            "cell_type": "code",
            "execution_count": 70,
            "metadata": {},
            "outputs": [
                {
                    "name": "stdout",
                    "output_type": "stream",
                    "text": [
                        "10\n",
                        "10000\n",
                        "9996\n",
                        "9992\n",
                        "9988\n",
                        "9984\n",
                        "9980\n",
                        "4997 5003\n",
                        "4997 4999\n",
                        "4993 4999\n",
                        "4979 5009\n",
                        "4987 4997\n",
                        "4987 4993\n"
                    ]
                },
                {
                    "ename": "StopIteration",
                    "evalue": "",
                    "output_type": "error",
                    "traceback": [
                        "\u001b[1;31m---------------------------------------------------------------------------\u001b[0m",
                        "\u001b[1;31mStopIteration\u001b[0m                             Traceback (most recent call last)",
                        "\u001b[1;32mc:\\Users\\이찬행\\OneDrive - 충남대학교\\문서\\GitHub\\algorithm-study\\solving\\9020.ipynb Cell 12'\u001b[0m in \u001b[0;36m<cell line: 4>\u001b[1;34m()\u001b[0m\n\u001b[0;32m      <a href='vscode-notebook-cell:/c%3A/Users/%EC%9D%B4%EC%B0%AC%ED%96%89/OneDrive%20-%20%EC%B6%A9%EB%82%A8%EB%8C%80%ED%95%99%EA%B5%90/%EB%AC%B8%EC%84%9C/GitHub/algorithm-study/solving/9020.ipynb#ch0000016?line=1'>2</a>\u001b[0m example \u001b[39m=\u001b[39m \u001b[39m\"\u001b[39m\u001b[39m\\n\u001b[39;00m\u001b[39m\"\u001b[39m\u001b[39m.\u001b[39mjoin([\u001b[39mstr\u001b[39m(examples)] \u001b[39m+\u001b[39m [\u001b[39mstr\u001b[39m(i \u001b[39m*\u001b[39m \u001b[39m2\u001b[39m) \u001b[39mfor\u001b[39;00m i \u001b[39min\u001b[39;00m \u001b[39mrange\u001b[39m(\u001b[39m5000\u001b[39m, \u001b[39m5000\u001b[39m \u001b[39m-\u001b[39m examples \u001b[39m-\u001b[39m \u001b[39m2\u001b[39m, \u001b[39m-\u001b[39m\u001b[39m2\u001b[39m)])\n\u001b[0;32m      <a href='vscode-notebook-cell:/c%3A/Users/%EC%9D%B4%EC%B0%AC%ED%96%89/OneDrive%20-%20%EC%B6%A9%EB%82%A8%EB%8C%80%ED%95%99%EA%B5%90/%EB%AC%B8%EC%84%9C/GitHub/algorithm-study/solving/9020.ipynb#ch0000016?line=2'>3</a>\u001b[0m \u001b[39mprint\u001b[39m(example)\n\u001b[1;32m----> <a href='vscode-notebook-cell:/c%3A/Users/%EC%9D%B4%EC%B0%AC%ED%96%89/OneDrive%20-%20%EC%B6%A9%EB%82%A8%EB%8C%80%ED%95%99%EA%B5%90/%EB%AC%B8%EC%84%9C/GitHub/algorithm-study/solving/9020.ipynb#ch0000016?line=3'>4</a>\u001b[0m test_solution(example)\n",
                        "File \u001b[1;32m~\\AppData\\Roaming\\Python\\Python310\\site-packages\\bwj\\__init__.py:29\u001b[0m, in \u001b[0;36mtest.<locals>.test_example\u001b[1;34m(input_)\u001b[0m\n\u001b[0;32m     <a href='file:///c%3A/Users/%EC%9D%B4%EC%B0%AC%ED%96%89/AppData/Roaming/Python/Python310/site-packages/bwj/__init__.py?line=26'>27</a>\u001b[0m     input_: Iterator[\u001b[39mstr\u001b[39m] \u001b[39m=\u001b[39m \u001b[39miter\u001b[39m(input_\u001b[39m.\u001b[39msplit(\u001b[39m\"\u001b[39m\u001b[39m\\n\u001b[39;00m\u001b[39m\"\u001b[39m))\n\u001b[0;32m     <a href='file:///c%3A/Users/%EC%9D%B4%EC%B0%AC%ED%96%89/AppData/Roaming/Python/Python310/site-packages/bwj/__init__.py?line=27'>28</a>\u001b[0m     \u001b[39minput\u001b[39m: Callable[[\u001b[39mNone\u001b[39;00m], \u001b[39mstr\u001b[39m] \u001b[39m=\u001b[39m input_\u001b[39m.\u001b[39m\u001b[39m__next__\u001b[39m\n\u001b[1;32m---> <a href='file:///c%3A/Users/%EC%9D%B4%EC%B0%AC%ED%96%89/AppData/Roaming/Python/Python310/site-packages/bwj/__init__.py?line=28'>29</a>\u001b[0m     solution(\u001b[39minput\u001b[39;49m)\n\u001b[0;32m     <a href='file:///c%3A/Users/%EC%9D%B4%EC%B0%AC%ED%96%89/AppData/Roaming/Python/Python310/site-packages/bwj/__init__.py?line=30'>31</a>\u001b[0m \u001b[39melse\u001b[39;00m:\n\u001b[0;32m     <a href='file:///c%3A/Users/%EC%9D%B4%EC%B0%AC%ED%96%89/AppData/Roaming/Python/Python310/site-packages/bwj/__init__.py?line=31'>32</a>\u001b[0m     \u001b[39mraise\u001b[39;00m \u001b[39mNameError\u001b[39;00m(\n\u001b[0;32m     <a href='file:///c%3A/Users/%EC%9D%B4%EC%B0%AC%ED%96%89/AppData/Roaming/Python/Python310/site-packages/bwj/__init__.py?line=32'>33</a>\u001b[0m         \u001b[39mf\u001b[39m\u001b[39m\"\u001b[39m\u001b[39msolution 함수가 input, open 등의 매개변수를 받지 않습니다.\u001b[39m\u001b[39m\\n\u001b[39;00m\u001b[39msolution 의 매개변수: \u001b[39m\u001b[39m{\u001b[39;00mparams\u001b[39m}\u001b[39;00m\u001b[39m\"\u001b[39m\n\u001b[0;32m     <a href='file:///c%3A/Users/%EC%9D%B4%EC%B0%AC%ED%96%89/AppData/Roaming/Python/Python310/site-packages/bwj/__init__.py?line=33'>34</a>\u001b[0m     )\n",
                        "\u001b[1;32mc:\\Users\\이찬행\\OneDrive - 충남대학교\\문서\\GitHub\\algorithm-study\\solving\\9020.ipynb Cell 9'\u001b[0m in \u001b[0;36msolution\u001b[1;34m(input)\u001b[0m\n\u001b[0;32m      <a href='vscode-notebook-cell:/c%3A/Users/%EC%9D%B4%EC%B0%AC%ED%96%89/OneDrive%20-%20%EC%B6%A9%EB%82%A8%EB%8C%80%ED%95%99%EA%B5%90/%EB%AC%B8%EC%84%9C/GitHub/algorithm-study/solving/9020.ipynb#ch0000006?line=6'>7</a>\u001b[0m     che[prime \u001b[39m*\u001b[39m prime::\u001b[39m2\u001b[39m \u001b[39m*\u001b[39m prime] \u001b[39m=\u001b[39m [\u001b[39mFalse\u001b[39;00m] \u001b[39m*\u001b[39m ((\u001b[39m10001\u001b[39m \u001b[39m-\u001b[39m prime \u001b[39m*\u001b[39m prime) \u001b[39m/\u001b[39m\u001b[39m/\u001b[39m (\u001b[39m2\u001b[39m \u001b[39m*\u001b[39m prime) \u001b[39m+\u001b[39m \u001b[39m1\u001b[39m)\n\u001b[0;32m      <a href='vscode-notebook-cell:/c%3A/Users/%EC%9D%B4%EC%B0%AC%ED%96%89/OneDrive%20-%20%EC%B6%A9%EB%82%A8%EB%8C%80%ED%95%99%EA%B5%90/%EB%AC%B8%EC%84%9C/GitHub/algorithm-study/solving/9020.ipynb#ch0000006?line=7'>8</a>\u001b[0m \u001b[39mfor\u001b[39;00m _ \u001b[39min\u001b[39;00m \u001b[39mrange\u001b[39m(\u001b[39mint\u001b[39m(\u001b[39minput\u001b[39m())):\n\u001b[1;32m----> <a href='vscode-notebook-cell:/c%3A/Users/%EC%9D%B4%EC%B0%AC%ED%96%89/OneDrive%20-%20%EC%B6%A9%EB%82%A8%EB%8C%80%ED%95%99%EA%B5%90/%EB%AC%B8%EC%84%9C/GitHub/algorithm-study/solving/9020.ipynb#ch0000006?line=8'>9</a>\u001b[0m     n \u001b[39m=\u001b[39m \u001b[39mint\u001b[39m(\u001b[39minput\u001b[39;49m())\n\u001b[0;32m     <a href='vscode-notebook-cell:/c%3A/Users/%EC%9D%B4%EC%B0%AC%ED%96%89/OneDrive%20-%20%EC%B6%A9%EB%82%A8%EB%8C%80%ED%95%99%EA%B5%90/%EB%AC%B8%EC%84%9C/GitHub/algorithm-study/solving/9020.ipynb#ch0000006?line=9'>10</a>\u001b[0m     \u001b[39mif\u001b[39;00m n \u001b[39m==\u001b[39m \u001b[39m4\u001b[39m:\n\u001b[0;32m     <a href='vscode-notebook-cell:/c%3A/Users/%EC%9D%B4%EC%B0%AC%ED%96%89/OneDrive%20-%20%EC%B6%A9%EB%82%A8%EB%8C%80%ED%95%99%EA%B5%90/%EB%AC%B8%EC%84%9C/GitHub/algorithm-study/solving/9020.ipynb#ch0000006?line=10'>11</a>\u001b[0m         \u001b[39mprint\u001b[39m(\u001b[39m2\u001b[39m, \u001b[39m2\u001b[39m)\n",
                        "\u001b[1;31mStopIteration\u001b[0m: "
                    ]
                }
            ],
            "source": [
                "examples = 10\n",
                "example = \"\\n\".join([str(examples)] + [str(i * 2) for i in range(5000, 5000 - examples - 2, -2)])\n",
                "print(example)\n",
                "test_solution(example)"
            ]
        },
        {
            "cell_type": "code",
            "execution_count": 67,
            "metadata": {},
            "outputs": [
                {
                    "name": "stdout",
                    "output_type": "stream",
                    "text": [
                        "10\n",
                        "4\n",
                        "6\n",
                        "8\n",
                        "10\n",
                        "12\n",
                        "14\n",
                        "16\n",
                        "18\n",
                        "20\n",
                        "22\n",
                        "2 2\n",
                        "3 3\n",
                        "3 5\n",
                        "5 5\n",
                        "5 7\n",
                        "7 7\n",
                        "5 11\n",
                        "7 11\n",
                        "7 13\n",
                        "11 11\n"
                    ]
                }
            ],
            "source": [
                "examples = 10\n",
                "example = \"\\n\".join([str(examples)] + [str(i * 2 + 2) for i in range(1, examples + 1)])\n",
                "print(example)\n",
                "test_solution(example)"
            ]
        },
        {
            "cell_type": "code",
            "execution_count": 68,
            "metadata": {},
            "outputs": [
                {
                    "name": "stdout",
                    "output_type": "stream",
                    "text": [
                        "3 5\n",
                        "5 5\n",
                        "5 11\n"
                    ]
                }
            ],
            "source": [
                "test_solution(\"\"\"3\n",
                "8\n",
                "10\n",
                "16\"\"\")\n",
                "# answer:\n",
                "# 3 5\n",
                "# 5 5\n",
                "# 5 11"
            ]
        }
    ],
    "metadata": {
        "interpreter": {
            "hash": "73891b0dc2e53390f36276e59930dd4ecab91b05b5c90320c2d5b1c443f87069"
        },
        "kernelspec": {
            "display_name": "Python 3.10.1 ('venv': venv)",
            "language": "python",
            "name": "python3"
        },
        "language_info": {
            "codemirror_mode": {
                "name": "ipython",
                "version": 3
            },
            "file_extension": ".py",
            "mimetype": "text/x-python",
            "name": "python",
            "nbconvert_exporter": "python",
            "pygments_lexer": "ipython3",
            "version": "3.10.2"
        },
        "orig_nbformat": 4
    },
    "nbformat": 4,
    "nbformat_minor": 2
}
