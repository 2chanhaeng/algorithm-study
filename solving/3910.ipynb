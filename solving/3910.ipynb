{
    "cells": [
        {
            "cell_type": "markdown",
            "metadata": {},
            "source": [
                "# [백준/거듭제곱 계산](https://www.acmicpc.net/problem/3910)"
            ]
        },
        {
            "cell_type": "markdown",
            "metadata": {},
            "source": [
                "## 풀이과정"
            ]
        },
        {
            "cell_type": "markdown",
            "metadata": {},
            "source": [
                "### 첫번째 시도"
            ]
        },
        {
            "cell_type": "markdown",
            "metadata": {},
            "source": [
                "#### 풀이과정"
            ]
        },
        {
            "cell_type": "code",
            "execution_count": null,
            "metadata": {},
            "outputs": [],
            "source": [
                "\n",
                "\n",
                "\n",
                "# solution()"
            ]
        },
        {
            "cell_type": "markdown",
            "metadata": {},
            "source": [
                "## 해답"
            ]
        },
        {
            "cell_type": "code",
            "execution_count": 1,
            "metadata": {},
            "outputs": [],
            "source": [
                "import functools"
            ]
        },
        {
            "cell_type": "code",
            "execution_count": 28,
            "metadata": {},
            "outputs": [
                {
                    "name": "stdout",
                    "output_type": "stream",
                    "text": [
                        "0 1 2 3\n",
                        "1 0 3 2\n",
                        "2 3 0 1\n",
                        "3 2 1 0\n"
                    ]
                }
            ],
            "source": [
                "for i in range(4):\n",
                "    print(*(i ^ j for j in range(4)))"
            ]
        },
        {
            "cell_type": "code",
            "execution_count": 25,
            "metadata": {},
            "outputs": [],
            "source": [
                "def solution():\n",
                "    import sys\n",
                "    import collections\n",
                "    import heapq\n",
                "\n",
                "    targets = list(map(int, sys.stdin.read().split()[1:]))\n",
                "    answers = {i: float('inf') for i in targets}\n",
                "    # answers.pop(1, None)\n",
                "    answers[1] = 0\n",
                "    tovisit = collections.deque([[1, 0]])\n",
                "    visited = {}\n",
                "    while tovisit:\n",
                "        num, steps = tovisit.popleft()\n",
                "        if steps < visited.get(num, float('inf')):\n",
                "            visited[num] = steps\n",
                "            if num in answers:\n",
                "                answers[num] = steps\n",
                "            for n in [num + 1, num * 2]:\n",
                "                tovisit.append([n, steps + 1])\n",
                "            for n, s in visited.items():\n",
                "                tovisit.append([num + n, steps + s + 1])\n",
                "    print(' '.join(str(answers[t]) for t in targets))"
            ]
        },
        {
            "cell_type": "markdown",
            "metadata": {},
            "source": [
                "## 예제"
            ]
        },
        {
            "cell_type": "code",
            "execution_count": 26,
            "metadata": {},
            "outputs": [
                {
                    "name": "stdout",
                    "output_type": "stream",
                    "text": [
                        "The blackcellmagic extension is already loaded. To reload it, use:\n",
                        "  %reload_ext blackcellmagic\n"
                    ]
                }
            ],
            "source": [
                "# black 모듈을 jupyter notebook 내에서 사용 가능하게 만들어주는 blackcellmagic 모듈 불러오기\n",
                "%load_ext blackcellmagic\n",
                "# %%black\n",
                "\n",
                "# 백준 문제 풀이용 예제 실행 코드\n",
                "from bwj import test\n",
                "test_solution = test(solution)\n",
                "\n",
                "# test_solution(\"\"\"\"\"\")\n",
                "# test_solution(read(\"fn\").read())"
            ]
        },
        {
            "cell_type": "code",
            "execution_count": 27,
            "metadata": {},
            "outputs": [
                {
                    "ename": "KeyboardInterrupt",
                    "evalue": "",
                    "output_type": "error",
                    "traceback": [
                        "\u001b[0;31m---------------------------------------------------------------------------\u001b[0m",
                        "\u001b[0;31mKeyboardInterrupt\u001b[0m                         Traceback (most recent call last)",
                        "Cell \u001b[0;32mIn[27], line 1\u001b[0m\n\u001b[0;32m----> 1\u001b[0m test_solution(\u001b[39m\"\"\"\u001b[39;49m\u001b[39m8\u001b[39;49m\n\u001b[1;32m      2\u001b[0m \u001b[39m1\u001b[39;49m\n\u001b[1;32m      3\u001b[0m \u001b[39m31\u001b[39;49m\n\u001b[1;32m      4\u001b[0m \u001b[39m70\u001b[39;49m\n\u001b[1;32m      5\u001b[0m \u001b[39m91\u001b[39;49m\n\u001b[1;32m      6\u001b[0m \u001b[39m473\u001b[39;49m\n\u001b[1;32m      7\u001b[0m \u001b[39m512\u001b[39;49m\n\u001b[1;32m      8\u001b[0m \u001b[39m811\u001b[39;49m\n\u001b[1;32m      9\u001b[0m \u001b[39m953\u001b[39;49m\n\u001b[1;32m     10\u001b[0m \u001b[39m\"\"\"\u001b[39;49m)\n\u001b[1;32m     11\u001b[0m \u001b[39m# answer:\u001b[39;00m\n\u001b[1;32m     12\u001b[0m \u001b[39m# 0\u001b[39;00m\n\u001b[1;32m     13\u001b[0m \u001b[39m# 6\u001b[39;00m\n\u001b[0;32m   (...)\u001b[0m\n\u001b[1;32m     18\u001b[0m \u001b[39m# 13\u001b[39;00m\n\u001b[1;32m     19\u001b[0m \u001b[39m# 12\u001b[39;00m\n",
                        "File \u001b[0;32m~/Documents/GitHub/algorithm-study/venv/lib/python3.11/site-packages/bwj/__init__.py:98\u001b[0m, in \u001b[0;36mtest.<locals>.test_example\u001b[0;34m(example)\u001b[0m\n\u001b[1;32m     96\u001b[0m \u001b[39mdef\u001b[39;00m \u001b[39mtest_example\u001b[39m(example: Optional[\u001b[39mstr\u001b[39m] \u001b[39m=\u001b[39m \u001b[39mNone\u001b[39;00m) \u001b[39m-\u001b[39m\u001b[39m>\u001b[39m \u001b[39mNone\u001b[39;00m:\n\u001b[1;32m     97\u001b[0m     sys\u001b[39m.\u001b[39mstdin \u001b[39m=\u001b[39m StringIO(example)\n\u001b[0;32m---> 98\u001b[0m     solution()\n",
                        "Cell \u001b[0;32mIn[25], line 19\u001b[0m, in \u001b[0;36msolution\u001b[0;34m()\u001b[0m\n\u001b[1;32m     17\u001b[0m             answers[num] \u001b[39m=\u001b[39m steps \u001b[39m+\u001b[39m \u001b[39m1\u001b[39m\n\u001b[1;32m     18\u001b[0m         \u001b[39mfor\u001b[39;00m n, s \u001b[39min\u001b[39;00m visited\u001b[39m.\u001b[39mitems():\n\u001b[0;32m---> 19\u001b[0m             tovisit\u001b[39m.\u001b[39mappend([num \u001b[39m+\u001b[39m n, steps \u001b[39m+\u001b[39m s \u001b[39m+\u001b[39m \u001b[39m1\u001b[39m])\n\u001b[1;32m     20\u001b[0m \u001b[39mprint\u001b[39m(\u001b[39m'\u001b[39m\u001b[39m \u001b[39m\u001b[39m'\u001b[39m\u001b[39m.\u001b[39mjoin(\u001b[39mstr\u001b[39m(answers[t]) \u001b[39mfor\u001b[39;00m t \u001b[39min\u001b[39;00m targets))\n",
                        "\u001b[0;31mKeyboardInterrupt\u001b[0m: "
                    ]
                }
            ],
            "source": [
                "test_solution(\"\"\"8\n",
                "1\n",
                "31\n",
                "70\n",
                "91\n",
                "473\n",
                "512\n",
                "811\n",
                "953\n",
                "\"\"\")\n",
                "# answer:\n",
                "# 0\n",
                "# 6\n",
                "# 8\n",
                "# 9\n",
                "# 11\n",
                "# 9\n",
                "# 13\n",
                "# 12"
            ]
        }
    ],
    "metadata": {
        "kernelspec": {
            "display_name": "venv",
            "language": "python",
            "name": "python3"
        },
        "language_info": {
            "codemirror_mode": {
                "name": "ipython",
                "version": 3
            },
            "file_extension": ".py",
            "mimetype": "text/x-python",
            "name": "python",
            "nbconvert_exporter": "python",
            "pygments_lexer": "ipython3",
            "version": "3.11.1"
        },
        "orig_nbformat": 4,
        "vscode": {
            "interpreter": {
                "hash": "72904a014a9ffe38f4c58942120b599b3c5a87d06764037548e0139929c1cde3"
            }
        }
    },
    "nbformat": 4,
    "nbformat_minor": 2
}
