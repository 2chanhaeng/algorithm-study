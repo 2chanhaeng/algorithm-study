{
    "cells": [
        {
            "cell_type": "markdown",
            "metadata": {},
            "source": [
                "# [백준/버블 정렬](https://www.acmicpc.net/problem/11920)"
            ]
        },
        {
            "cell_type": "markdown",
            "metadata": {},
            "source": [
                "## 풀이과정"
            ]
        },
        {
            "cell_type": "markdown",
            "metadata": {},
            "source": [
                "### 첫번째 시도"
            ]
        },
        {
            "cell_type": "markdown",
            "metadata": {},
            "source": [
                "#### 풀이과정"
            ]
        },
        {
            "cell_type": "code",
            "execution_count": null,
            "metadata": {},
            "outputs": [],
            "source": [
                "\n",
                "\n",
                "\n",
                "# solution()"
            ]
        },
        {
            "cell_type": "markdown",
            "metadata": {},
            "source": [
                "## 해답"
            ]
        },
        {
            "cell_type": "code",
            "execution_count": 46,
            "metadata": {},
            "outputs": [
                {
                    "name": "stdout",
                    "output_type": "stream",
                    "text": [
                        "2 3 1 4 5\n",
                        "2 1 3 4 5\n",
                        "1 2 3 4 5\n",
                        "1 2 3 4 5\n"
                    ]
                },
                {
                    "data": {
                        "text/plain": [
                            "[1, 2, 3, 4, 5]"
                        ]
                    },
                    "execution_count": 46,
                    "metadata": {},
                    "output_type": "execute_result"
                }
            ],
            "source": [
                "def bubble_sort(arr):\n",
                "    for i in range(len(arr) - 1):\n",
                "        for j in range(len(arr) - 1):\n",
                "            if arr[j] > arr[j + 1]:\n",
                "                arr[j], arr[j + 1] = arr[j + 1], arr[j]\n",
                "        print(\" \".join(map(str, arr)))\n",
                "    return arr\n",
                "\n",
                "bubble_sort([ 4, 2, 3, 1, 5 ])"
            ]
        },
        {
            "cell_type": "code",
            "execution_count": 47,
            "metadata": {},
            "outputs": [],
            "source": [
                "def solution():\n",
                "    import sys\n",
                "    import heapq\n",
                "\n",
                "    n, k, *inputs = map(int, sys.stdin.read().split())\n",
                "    # heapq.heapify(nums)\n",
                "    # nums = [-i for i in inputs]\n",
                "    # heapq.heapify(nums)\n",
                "    # print(-heapq.heappop(nums))\n",
                "    # print(\" \".join(str(-i) for i in nums))\n",
                "    maxs = heapq.nlargest(k, inputs)[::-1]\n",
                "    maxset = set(maxs)\n",
                "    rest = []\n",
                "    for i in inputs:\n",
                "        if i in maxset:\n",
                "            continue\n",
                "        rest.append(i)\n",
                "    print(maxs)\n"
            ]
        },
        {
            "cell_type": "markdown",
            "metadata": {},
            "source": [
                "## 예제"
            ]
        },
        {
            "cell_type": "code",
            "execution_count": 48,
            "metadata": {},
            "outputs": [],
            "source": [
                "# 백준 문제 풀이용 예제 실행 코드\n",
                "from bwj import test\n",
                "test_solution = test(solution)\n",
                "\n",
                "# test_solution(\"\"\"\"\"\")\n",
                "# test_solution(read(\"fn\").read())"
            ]
        },
        {
            "cell_type": "code",
            "execution_count": 49,
            "metadata": {},
            "outputs": [
                {
                    "name": "stdout",
                    "output_type": "stream",
                    "text": [
                        "[5, 4]\n"
                    ]
                }
            ],
            "source": [
                "test_solution(\"\"\"5 2\n",
                "5 3 1 2 4\n",
                "\"\"\") # 23 32 15 62"
            ]
        },
        {
            "cell_type": "code",
            "execution_count": 50,
            "metadata": {},
            "outputs": [
                {
                    "name": "stdout",
                    "output_type": "stream",
                    "text": [
                        "[62]\n",
                        "[62, 32]\n",
                        "[62, 32, 23]\n"
                    ]
                }
            ],
            "source": [
                "test_solution(\"\"\"4 1\n",
                "62 32 23 15\n",
                "\"\"\") # 32 23 15 62\n",
                "test_solution(\"\"\"4 2\n",
                "62 32 23 15\n",
                "\"\"\") # 23 15 32 62\n",
                "test_solution(\"\"\"4 3\n",
                "62 32 23 15\n",
                "\"\"\") # 15 23 32 62"
            ]
        },
        {
            "cell_type": "code",
            "execution_count": 51,
            "metadata": {},
            "outputs": [
                {
                    "name": "stdout",
                    "output_type": "stream",
                    "text": [
                        "[62]\n",
                        "[62, 32]\n",
                        "[62, 32, 23]\n"
                    ]
                }
            ],
            "source": [
                "test_solution(\"\"\"4 1\n",
                "62 23 32 15\n",
                "\"\"\") # 23 32 15 62\n",
                "test_solution(\"\"\"4 2\n",
                "62 23 32 15\n",
                "\"\"\") # 23 15 32 62\n",
                "test_solution(\"\"\"4 3\n",
                "62 23 32 15\n",
                "\"\"\") # 15 23 32 62"
            ]
        }
    ],
    "metadata": {
        "interpreter": {
            "hash": "73891b0dc2e53390f36276e59930dd4ecab91b05b5c90320c2d5b1c443f87069"
        },
        "kernelspec": {
            "display_name": "Python 3.10.1 ('venv': venv)",
            "language": "python",
            "name": "python3"
        },
        "language_info": {
            "codemirror_mode": {
                "name": "ipython",
                "version": 3
            },
            "file_extension": ".py",
            "mimetype": "text/x-python",
            "name": "python",
            "nbconvert_exporter": "python",
            "pygments_lexer": "ipython3",
            "version": "3.10.8"
        },
        "orig_nbformat": 4
    },
    "nbformat": 4,
    "nbformat_minor": 2
}
