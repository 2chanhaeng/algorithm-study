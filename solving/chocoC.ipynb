{
    "cells": [
        {
            "cell_type": "markdown",
            "metadata": {},
            "source": [
                "# [백준/C번 - 초콜릿과 ㄱ나이트 게임 (Sweet)](https://www.acmicpc.net/contest/problem/1244/3)\n"
            ]
        },
        {
            "cell_type": "markdown",
            "metadata": {},
            "source": [
                "## 풀이과정\n"
            ]
        },
        {
            "cell_type": "markdown",
            "metadata": {},
            "source": [
                "### 첫번째 시도\n"
            ]
        },
        {
            "cell_type": "markdown",
            "metadata": {},
            "source": [
                "#### 풀이과정\n"
            ]
        },
        {
            "cell_type": "code",
            "execution_count": null,
            "metadata": {},
            "outputs": [],
            "source": [
                "def divs(x, y):\n",
                "    while x > 0:\n",
                "        yield x\n",
                "        x -= y\n",
                "    yield 0\n",
                "\n",
                "\n",
                "def solution():\n",
                "    import sys\n",
                "\n",
                "    input = sys.stdin.readline\n",
                "    for _ in range(int(input())):\n",
                "        w, h, x, y = map(int, input().split())\n",
                "        res = 0\n",
                "        pm = 1\n",
                "        for a, b in zip(divs(w, x), divs(h, y)):\n",
                "            res += pm * a * b\n",
                "            pm *= -1\n",
                "            if a == 0 or b == 0:\n",
                "                break\n",
                "        print(res)\n",
                "\n",
                "\n",
                "solution()"
            ]
        },
        {
            "cell_type": "markdown",
            "metadata": {},
            "source": [
                "## 해답\n"
            ]
        },
        {
            "cell_type": "code",
            "execution_count": 12,
            "metadata": {},
            "outputs": [
                {
                    "name": "stdout",
                    "output_type": "stream",
                    "text": [
                        "6 4 2 0\n"
                    ]
                }
            ],
            "source": [
                "def divs(x, y):\n",
                "    while x > 0:\n",
                "        yield x\n",
                "        x -= y\n",
                "    yield 0\n",
                "\n",
                "\n",
                "print(*divs(6, 2))"
            ]
        },
        {
            "cell_type": "code",
            "execution_count": 13,
            "metadata": {},
            "outputs": [],
            "source": [
                "def solution():\n",
                "    import sys\n",
                "\n",
                "    input = sys.stdin.readline\n",
                "    for _ in range(int(input())):\n",
                "        w, h, x, y = map(int, input().split())\n",
                "        res = 0\n",
                "        pm = 1\n",
                "        for a, b in zip(divs(w, x), divs(h, y)):\n",
                "            res += pm * a * b\n",
                "            pm *= -1\n",
                "            if a == 0 or b == 0:\n",
                "                break\n",
                "        print(res)"
            ]
        },
        {
            "cell_type": "markdown",
            "metadata": {},
            "source": [
                "0101  \n",
                "1101  \n",
                "0001  \n",
                "1111\n"
            ]
        },
        {
            "cell_type": "markdown",
            "metadata": {},
            "source": [
                "10101  \n",
                "00101  \n",
                "11101  \n",
                "00001  \n",
                "11111\n"
            ]
        },
        {
            "cell_type": "markdown",
            "metadata": {},
            "source": [
                "111101  \n",
                "111101  \n",
                "000001  \n",
                "000001  \n",
                "111111  \n",
                "111111\n"
            ]
        },
        {
            "cell_type": "code",
            "execution_count": 14,
            "metadata": {},
            "outputs": [
                {
                    "data": {
                        "text/plain": [
                            "(0, 10)"
                        ]
                    },
                    "execution_count": 14,
                    "metadata": {},
                    "output_type": "execute_result"
                }
            ],
            "source": [
                "divmod(10, 50)"
            ]
        },
        {
            "cell_type": "code",
            "execution_count": 15,
            "metadata": {},
            "outputs": [
                {
                    "name": "stdout",
                    "output_type": "stream",
                    "text": [
                        "[]\n"
                    ]
                }
            ],
            "source": [
                "def pad(w, h, x, y):\n",
                "    if w >= 0 or h >= 0:\n",
                "        return []\n",
                "    return []\n",
                "\n",
                "\n",
                "print(pad(5, 5, 1, 1))"
            ]
        },
        {
            "cell_type": "markdown",
            "metadata": {},
            "source": [
                "## 예제\n"
            ]
        },
        {
            "cell_type": "code",
            "execution_count": 16,
            "metadata": {},
            "outputs": [],
            "source": [
                "# 백준 문제 풀이용 예제 실행 코드\n",
                "from bwj import test\n",
                "\n",
                "test_solution = test(solution)\n",
                "\n",
                "# test_solution(\"\"\"\"\"\")\n",
                "# test_solution(read(\"fn\").read())"
            ]
        },
        {
            "cell_type": "code",
            "execution_count": 17,
            "metadata": {},
            "outputs": [
                {
                    "name": "stdout",
                    "output_type": "stream",
                    "text": [
                        "10\n",
                        "15\n",
                        "24\n",
                        "100\n"
                    ]
                }
            ],
            "source": [
                "test_solution(\n",
                "    \"\"\"4\n",
                "4 4 1 1\n",
                "5 5 1 1\n",
                "6 6 1 2\n",
                "10 10 50 50\n",
                "\"\"\"\n",
                ")\n",
                "# 10\n",
                "# 15\n",
                "# 24\n",
                "# 100"
            ]
        }
    ],
    "metadata": {
        "interpreter": {
            "hash": "73891b0dc2e53390f36276e59930dd4ecab91b05b5c90320c2d5b1c443f87069"
        },
        "kernelspec": {
            "display_name": "Python 3.10.1 ('venv': venv)",
            "language": "python",
            "name": "python3"
        },
        "language_info": {
            "codemirror_mode": {
                "name": "ipython",
                "version": 3
            },
            "file_extension": ".py",
            "mimetype": "text/x-python",
            "name": "python",
            "nbconvert_exporter": "python",
            "pygments_lexer": "ipython3",
            "version": "3.12.2"
        },
        "orig_nbformat": 4
    },
    "nbformat": 4,
    "nbformat_minor": 2
}
