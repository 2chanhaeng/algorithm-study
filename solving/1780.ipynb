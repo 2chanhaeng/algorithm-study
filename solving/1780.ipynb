{
    "cells": [
        {
            "cell_type": "markdown",
            "metadata": {},
            "source": [
                "# [백준/종이의 개수](https://www.acmicpc.net/problem/1780)"
            ]
        },
        {
            "cell_type": "markdown",
            "metadata": {},
            "source": [
                "## 풀이과정"
            ]
        },
        {
            "cell_type": "markdown",
            "metadata": {},
            "source": [
                "### 첫번째 시도"
            ]
        },
        {
            "cell_type": "markdown",
            "metadata": {},
            "source": [
                "풀이과정"
            ]
        },
        {
            "cell_type": "code",
            "execution_count": 95,
            "metadata": {},
            "outputs": [],
            "source": [
                "def solution(open=open):\n",
                "    inputs = iter(open(0).read().split(\"\\n\"))\n",
                "    n = int(next(inputs))\n",
                "    image = [list(map(int, input.split())) for input in inputs]\n",
                "\n",
                "    def cut(n, array):\n",
                "        length = len(array) // n\n",
                "        iterer = iter(array)\n",
                "\n",
                "        result = [[] for _ in range(n * n)]\n",
                "        for i in range(n):\n",
                "            for _ in range(length):\n",
                "                itererer = iter(next(iterer))\n",
                "                for inner in result[i * n : i * n + n]:\n",
                "                    inner.append([next(itererer) for _ in range(length)])\n",
                "\n",
                "        return result\n",
                "\n",
                "    def conqure(array):\n",
                "        first = array[0][0]\n",
                "        for i in array:\n",
                "            for j in i:\n",
                "                if j != first:\n",
                "                    break\n",
                "            if j != first:\n",
                "                break\n",
                "        else:\n",
                "            return [(0, 1, 0), (0, 0, 1), (1, 0, 0)][first]\n",
                "\n",
                "        cutted = cut(3, array)\n",
                "        zipped = zip(*map(conqure, cutted))\n",
                "        return tuple(sum(i) for i in zipped)\n",
                "\n",
                "    print(*conqure(image), sep=\"\\n\")\n",
                "\n",
                "\n",
                "solution()"
            ]
        },
        {
            "cell_type": "markdown",
            "metadata": {},
            "source": [
                "### 두번째 시도"
            ]
        },
        {
            "cell_type": "markdown",
            "metadata": {},
            "source": [
                "풀이과정"
            ]
        },
        {
            "cell_type": "code",
            "execution_count": null,
            "metadata": {},
            "outputs": [],
            "source": [
                "def solution(open=open):\n",
                "    inputs = iter(open(0).read().split(\"\\n\"))\n",
                "    n = int(next(inputs))\n",
                "    image = [list(map(int, input.split())) for input in inputs]\n",
                "\n",
                "    def cut(length, array):\n",
                "        iterer = iter(array)\n",
                "\n",
                "        result = [[] for _ in range(9)]\n",
                "        for i in range(0, 9, 3):\n",
                "            for _ in range(length):\n",
                "                itererer = iter(next(iterer))\n",
                "                for inner in result[i : i + 3]:\n",
                "                    inner.append([next(itererer) for _ in range(length)])\n",
                "\n",
                "        return result\n",
                "\n",
                "\n",
                "    def conqure(length, array):\n",
                "        first = array[-1][-1]\n",
                "        for i in array:\n",
                "            for j in i:\n",
                "                if j != first:\n",
                "                    break\n",
                "            if j != first:\n",
                "                break\n",
                "        else:\n",
                "            return [(0, 1, 0), (0, 0, 1), (1, 0, 0)][first]\n",
                "        \n",
                "        next_len = length // 3\n",
                "        cutted = cut(next_len, array)\n",
                "        zipped = zip(*map(lambda x:conqure(next_len, x), cutted))\n",
                "        return tuple(sum(i) for i in zipped)\n",
                "\n",
                "\n",
                "    print(*conqure(n, image), sep=\"\\n\")\n",
                "solution()"
            ]
        },
        {
            "cell_type": "markdown",
            "metadata": {},
            "source": [
                "## 해답"
            ]
        },
        {
            "cell_type": "code",
            "execution_count": 1,
            "metadata": {},
            "outputs": [],
            "source": [
                "example = [\n",
                "    [0, 0, 0, 1, 1, 1, -1, -1, -1],\n",
                "    [0, 0, 0, 1, 1, 1, -1, -1, -1],\n",
                "    [0, 0, 0, 1, 1, 1, -1, -1, -1],\n",
                "    [1, 1, 1, 0, 0, 0, 0, 0, 0],\n",
                "    [1, 1, 1, 0, 0, 0, 0, 0, 0],\n",
                "    [1, 1, 1, 0, 0, 0, 0, 0, 0],\n",
                "    [0, 1, -1, 0, 1, -1, 0, 1, -1],\n",
                "    [0, -1, 1, 0, 1, -1, 0, 1, -1],\n",
                "    [0, 1, -1, 1, 0, -1, 0, 1, -1],\n",
                "]"
            ]
        },
        {
            "cell_type": "code",
            "execution_count": 12,
            "metadata": {},
            "outputs": [
                {
                    "name": "stdout",
                    "output_type": "stream",
                    "text": [
                        "[[0, 0, 0], [0, 0, 0], [0, 0, 0]]\n",
                        "[[1, 1, 1], [1, 1, 1], [1, 1, 1]]\n",
                        "[[-1, -1, -1], [-1, -1, -1], [-1, -1, -1]]\n",
                        "[[1, 1, 1], [1, 1, 1], [1, 1, 1]]\n",
                        "[[0, 0, 0], [0, 0, 0], [0, 0, 0]]\n",
                        "[[0, 0, 0], [0, 0, 0], [0, 0, 0]]\n",
                        "[[0, 1, -1], [0, -1, 1], [0, 1, -1]]\n",
                        "[[0, 1, -1], [0, 1, -1], [1, 0, -1]]\n",
                        "[[0, 1, -1], [0, 1, -1], [0, 1, -1]]\n"
                    ]
                },
                {
                    "data": {
                        "text/plain": [
                            "[[[0]], [[1]], [[-1]], [[0]], [[-1]], [[1]], [[0]], [[1]], [[-1]]]"
                        ]
                    },
                    "execution_count": 12,
                    "metadata": {},
                    "output_type": "execute_result"
                }
            ],
            "source": [
                "def cut(length, array):\n",
                "    iterer = iter(array)\n",
                "\n",
                "    result = []\n",
                "    for i in range(3):\n",
                "        line = [[] for _ in range(3)]\n",
                "        for _ in range(length):\n",
                "            itererer = iter(next(iterer))\n",
                "            for inner in line:\n",
                "                inner.append([next(itererer) for _ in range(length)])\n",
                "        result.extend(line)\n",
                "\n",
                "    return result\n",
                "\n",
                "\n",
                "for i in cut(3, example):\n",
                "    print(i)\n",
                "cut(1, [[0, 1, -1], [0, -1, 1], [0, 1, -1]])\n"
            ]
        },
        {
            "cell_type": "code",
            "execution_count": 7,
            "metadata": {},
            "outputs": [
                {
                    "data": {
                        "text/plain": [
                            "(10, 12, 11)"
                        ]
                    },
                    "execution_count": 7,
                    "metadata": {},
                    "output_type": "execute_result"
                }
            ],
            "source": [
                "def conqure(length, array):\n",
                "    first = array[-1][-1]\n",
                "    for i in array:\n",
                "        for j in i:\n",
                "            if j != first:\n",
                "                break\n",
                "        if j != first:\n",
                "            break\n",
                "    else:\n",
                "        return [(0, 1, 0), (0, 0, 1), (1, 0, 0)][first]\n",
                "    \n",
                "    next_len = length // 3\n",
                "    cutted = cut(next_len, array)\n",
                "    zipped = zip(*map(lambda x:conqure(next_len, x), cutted))\n",
                "    return tuple(sum(i) for i in zipped)\n",
                "\n",
                "\n",
                "conqure(9, example)"
            ]
        },
        {
            "cell_type": "code",
            "execution_count": 8,
            "metadata": {},
            "outputs": [],
            "source": [
                "def solution(open=open):\n",
                "    inputs = iter(open(0).read().split(\"\\n\"))\n",
                "    n = int(next(inputs))\n",
                "    image = [list(map(int, input.split())) for input in inputs]\n",
                "\n",
                "    \n",
                "    print(*conqure(n, image), sep=\"\\n\")"
            ]
        },
        {
            "cell_type": "markdown",
            "metadata": {},
            "source": [
                "## 예제"
            ]
        },
        {
            "cell_type": "code",
            "execution_count": 9,
            "metadata": {},
            "outputs": [],
            "source": [
                "# 백준 문제 풀이용 예제 실행 코드\n",
                "from bwj import test\n",
                "test_solution = test(solution)\n",
                "\n",
                "# test_solution(\"\"\"\"\"\")\n",
                "# test_solution(read(\"fn\").read())"
            ]
        },
        {
            "cell_type": "code",
            "execution_count": 10,
            "metadata": {},
            "outputs": [
                {
                    "name": "stdout",
                    "output_type": "stream",
                    "text": [
                        "10\n",
                        "12\n",
                        "11\n"
                    ]
                }
            ],
            "source": [
                "test_solution(\"\"\"9\n",
                "0 0 0 1 1 1 -1 -1 -1\n",
                "0 0 0 1 1 1 -1 -1 -1\n",
                "0 0 0 1 1 1 -1 -1 -1\n",
                "1 1 1 0 0 0 0 0 0\n",
                "1 1 1 0 0 0 0 0 0\n",
                "1 1 1 0 0 0 0 0 0\n",
                "0 1 -1 0 1 -1 0 1 -1\n",
                "0 -1 1 0 1 -1 0 1 -1\n",
                "0 1 -1 1 0 -1 0 1 -1\"\"\")\n",
                "# answer:\n",
                "# 10\n",
                "# 12\n",
                "# 11"
            ]
        }
    ],
    "metadata": {
        "interpreter": {
            "hash": "73891b0dc2e53390f36276e59930dd4ecab91b05b5c90320c2d5b1c443f87069"
        },
        "kernelspec": {
            "display_name": "Python 3.10.1 ('venv': venv)",
            "language": "python",
            "name": "python3"
        },
        "language_info": {
            "codemirror_mode": {
                "name": "ipython",
                "version": 3
            },
            "file_extension": ".py",
            "mimetype": "text/x-python",
            "name": "python",
            "nbconvert_exporter": "python",
            "pygments_lexer": "ipython3",
            "version": "3.10.2"
        },
        "orig_nbformat": 4
    },
    "nbformat": 4,
    "nbformat_minor": 2
}
