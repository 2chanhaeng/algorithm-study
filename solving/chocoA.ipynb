{
    "cells": [
        {
            "cell_type": "markdown",
            "metadata": {},
            "source": [
                "# [백준/A번 - !!초콜릿 중독 주의!!](https://www.acmicpc.net/contest/problem/1244/1)\n"
            ]
        },
        {
            "cell_type": "markdown",
            "metadata": {},
            "source": [
                "## 풀이과정\n"
            ]
        },
        {
            "cell_type": "markdown",
            "metadata": {},
            "source": [
                "### 첫번째 시도\n"
            ]
        },
        {
            "cell_type": "markdown",
            "metadata": {},
            "source": [
                "#### 풀이과정\n"
            ]
        },
        {
            "cell_type": "code",
            "execution_count": null,
            "metadata": {},
            "outputs": [],
            "source": [
                "def solution():\n",
                "    import sys\n",
                "\n",
                "    input = sys.stdin.readline\n",
                "    for _ in range(int(input())):\n",
                "        line = input().strip()\n",
                "        ints = line.strip(\"!\")\n",
                "        a, b = line.split(ints)\n",
                "        i = int(ints)\n",
                "        if len(b) != 0:\n",
                "            i = 1\n",
                "        if len(a) % 2:\n",
                "            i ^= 1\n",
                "        print(i)\n",
                "\n",
                "\n",
                "solution()"
            ]
        },
        {
            "cell_type": "markdown",
            "metadata": {},
            "source": [
                "## 해답\n"
            ]
        },
        {
            "cell_type": "code",
            "execution_count": 30,
            "metadata": {},
            "outputs": [],
            "source": [
                "def solution():\n",
                "    import sys\n",
                "\n",
                "    input = sys.stdin.readline\n",
                "    for _ in range(int(input())):\n",
                "        line = input().strip()\n",
                "        ints = line.strip(\"!\")\n",
                "        a, b = line.split(ints)\n",
                "        i = int(ints)\n",
                "        if len(b) != 0:\n",
                "            i = 1\n",
                "        if len(a) % 2:\n",
                "            i ^= 1\n",
                "        print(i)"
            ]
        },
        {
            "cell_type": "markdown",
            "metadata": {},
            "source": [
                "## 예제\n"
            ]
        },
        {
            "cell_type": "code",
            "execution_count": 31,
            "metadata": {},
            "outputs": [],
            "source": [
                "# 백준 문제 풀이용 예제 실행 코드\n",
                "from bwj import test\n",
                "\n",
                "test_solution = test(solution)\n",
                "\n",
                "# test_solution(\"\"\"\"\"\")\n",
                "# test_solution(read(\"fn\").read())"
            ]
        },
        {
            "cell_type": "code",
            "execution_count": 32,
            "metadata": {},
            "outputs": [
                {
                    "name": "stdout",
                    "output_type": "stream",
                    "text": [
                        "1\n",
                        "1\n",
                        "1\n",
                        "0\n",
                        "1\n",
                        "1\n"
                    ]
                }
            ],
            "source": [
                "test_solution(\"\"\"6\\n0!\\n1!\\n!0\\n!1\\n!!0!!\\n!!1!!\"\"\")\n",
                "# 1\n",
                "# 1\n",
                "# 1\n",
                "# 0\n",
                "# 1\n",
                "# 1"
            ]
        }
    ],
    "metadata": {
        "interpreter": {
            "hash": "73891b0dc2e53390f36276e59930dd4ecab91b05b5c90320c2d5b1c443f87069"
        },
        "kernelspec": {
            "display_name": "Python 3.10.1 ('venv': venv)",
            "language": "python",
            "name": "python3"
        },
        "language_info": {
            "codemirror_mode": {
                "name": "ipython",
                "version": 3
            },
            "file_extension": ".py",
            "mimetype": "text/x-python",
            "name": "python",
            "nbconvert_exporter": "python",
            "pygments_lexer": "ipython3",
            "version": "3.12.2"
        },
        "orig_nbformat": 4
    },
    "nbformat": 4,
    "nbformat_minor": 2
}
