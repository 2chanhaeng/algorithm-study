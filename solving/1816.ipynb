{
    "cells": [
        {
            "cell_type": "markdown",
            "metadata": {},
            "source": [
                "# [백준/암호 키](https://www.acmicpc.net/problem/1816)"
            ]
        },
        {
            "cell_type": "markdown",
            "metadata": {},
            "source": [
                "## 풀이과정"
            ]
        },
        {
            "cell_type": "markdown",
            "metadata": {},
            "source": [
                "### 첫번째 시도"
            ]
        },
        {
            "cell_type": "markdown",
            "metadata": {},
            "source": [
                "#### 풀이과정"
            ]
        },
        {
            "cell_type": "code",
            "execution_count": null,
            "metadata": {},
            "outputs": [],
            "source": [
                "from itertools import compress, count\n",
                "\n",
                "m = 1000000\n",
                "seive = [False, False] + [True] * (m - 1)\n",
                "for p in range(2, 1000):\n",
                "    if seive[p]:\n",
                "        seive[p**2 :: p] = [False] * (m // p - p + 1)\n",
                "\n",
                "\n",
                "def primes():\n",
                "    yield from compress(count(), seive)\n",
                "\n",
                "\n",
                "def is_key(n):\n",
                "    return not any(map(lambda p: not n % p, primes()))\n",
                "\n",
                "\n",
                "def solution():\n",
                "    import sys\n",
                "\n",
                "    _, *input = sys.stdin.read().splitlines()\n",
                "    print(\"\\n\".join(\"YES\" if is_key(n) else \"NO\" for n in map(int, input)))\n",
                "\n",
                "\n",
                "solution()"
            ]
        },
        {
            "cell_type": "markdown",
            "metadata": {},
            "source": [
                "## 해답"
            ]
        },
        {
            "cell_type": "code",
            "execution_count": 31,
            "metadata": {},
            "outputs": [],
            "source": [
                "from itertools import compress, count\n",
                "\n",
                "m = 1000000\n",
                "seive = [False, False] + [True] * (m - 1)\n",
                "for p in range(2, 1000):\n",
                "    if seive[p]:\n",
                "        seive[p**2 :: p] = [False] * (m // p - p + 1)\n",
                "\n",
                "\n",
                "def primes():\n",
                "    yield from compress(count(), seive)\n",
                "\n",
                "\n",
                "def is_key(n):\n",
                "    return not any(map(lambda p: not n % p, primes()))"
            ]
        },
        {
            "cell_type": "code",
            "execution_count": 32,
            "metadata": {},
            "outputs": [],
            "source": [
                "def solution():\n",
                "    import sys\n",
                "\n",
                "    _, *input = sys.stdin.read().splitlines()\n",
                "    print(\"\\n\".join(\"YES\" if is_key(n) else \"NO\" for n in map(int, input)))"
            ]
        },
        {
            "cell_type": "markdown",
            "metadata": {},
            "source": [
                "## 예제"
            ]
        },
        {
            "cell_type": "code",
            "execution_count": 27,
            "metadata": {},
            "outputs": [
                {
                    "name": "stdout",
                    "output_type": "stream",
                    "text": [
                        "The blackcellmagic extension is already loaded. To reload it, use:\n",
                        "  %reload_ext blackcellmagic\n"
                    ]
                }
            ],
            "source": [
                "# black 모듈을 jupyter notebook 내에서 사용 가능하게 만들어주는 blackcellmagic 모듈 불러오기\n",
                "%load_ext blackcellmagic\n",
                "# %%black\n",
                "\n",
                "# 백준 문제 풀이용 예제 실행 코드\n",
                "from bwj import test\n",
                "test_solution = test(solution)\n",
                "\n",
                "# test_solution(\"\"\"\"\"\")\n",
                "# test_solution(read(\"fn\").read())"
            ]
        },
        {
            "cell_type": "code",
            "execution_count": 28,
            "metadata": {},
            "outputs": [
                {
                    "name": "stdout",
                    "output_type": "stream",
                    "text": [
                        "YES\n",
                        "NO\n",
                        "NO\n"
                    ]
                }
            ],
            "source": [
                "test_solution(\"\"\"3\n",
                "1000036000099\n",
                "1500035500153\n",
                "20000000000002\n",
                "\"\"\")\n",
                "# answer:\n",
                "# YES\n",
                "# NO\n",
                "# NO"
            ]
        }
    ],
    "metadata": {
        "kernelspec": {
            "display_name": "venv",
            "language": "python",
            "name": "python3"
        },
        "language_info": {
            "codemirror_mode": {
                "name": "ipython",
                "version": 3
            },
            "file_extension": ".py",
            "mimetype": "text/x-python",
            "name": "python",
            "nbconvert_exporter": "python",
            "pygments_lexer": "ipython3",
            "version": "3.10.8"
        },
        "orig_nbformat": 4,
        "vscode": {
            "interpreter": {
                "hash": "72904a014a9ffe38f4c58942120b599b3c5a87d06764037548e0139929c1cde3"
            }
        }
    },
    "nbformat": 4,
    "nbformat_minor": 2
}
