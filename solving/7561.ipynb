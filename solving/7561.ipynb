{
    "cells": [
        {
            "cell_type": "markdown",
            "metadata": {},
            "source": [
                "# [백준/크래머의 공식](https://www.acmicpc.net/problem/7561)"
            ]
        },
        {
            "cell_type": "markdown",
            "metadata": {},
            "source": [
                "## 풀이과정"
            ]
        },
        {
            "cell_type": "markdown",
            "metadata": {},
            "source": [
                "### 첫번째 시도"
            ]
        },
        {
            "cell_type": "markdown",
            "metadata": {},
            "source": [
                "#### 풀이과정"
            ]
        },
        {
            "cell_type": "code",
            "execution_count": 47,
            "metadata": {},
            "outputs": [],
            "source": [
                "def solution():\n",
                "    import sys\n",
                "\n",
                "    input = sys.stdin.readline\n",
                "    for _ in range(int(input())):\n",
                "        A, b = [], []\n",
                "        for _ in range(3):\n",
                "            *a, c = map(int, input().split())\n",
                "            A.append(a)\n",
                "            b.append(c)\n",
                "        d = det(A)\n",
                "        d_i = dets(A, b)\n",
                "        print(*d_i, d)\n",
                "        if d:\n",
                "            print(\n",
                "                \"Unique solution: \"\n",
                "                + \" \".join(\n",
                "                    j if (j := \"%.3f\" % (i / d)) != \"-0.000\" else \"0.000\" for i in d_i\n",
                "                )\n",
                "            )\n",
                "        else:\n",
                "            print(\"No unique solution\")\n",
                "        print()\n",
                "\n",
                "\n",
                "def dets(A, b):\n",
                "    A_T = T(A)\n",
                "    return tuple(map(det, (A_T[:i] + [b] + A_T[1 + i :] for i in range(3))))\n",
                "\n",
                "\n",
                "def T(m):\n",
                "    return [list(i) for i in zip(*m)]\n",
                "\n",
                "\n",
                "def det(m):\n",
                "    return (\n",
                "        m[0][0] * (m[1][1] * m[2][2] - m[1][2] * m[2][1])\n",
                "        - m[0][1] * (m[1][0] * m[2][2] - m[1][2] * m[2][0])\n",
                "        + m[0][2] * (m[1][0] * m[2][1] - m[1][1] * m[2][0])\n",
                "    )\n",
                "\n",
                "\n",
                "solution()"
            ]
        },
        {
            "cell_type": "markdown",
            "metadata": {},
            "source": [
                "## 해답"
            ]
        },
        {
            "cell_type": "code",
            "execution_count": 2,
            "metadata": {},
            "outputs": [],
            "source": [
                "def det(m):\n",
                "    return (\n",
                "        m[0][0] * m[1][1] * m[2][2]\n",
                "        - m[0][0] * m[1][2] * m[2][1]\n",
                "        - m[0][1] * m[1][0] * m[2][2]\n",
                "        + m[0][1] * m[1][2] * m[2][0]\n",
                "        + m[0][2] * m[1][0] * m[2][1]\n",
                "        - m[0][2] * m[1][1] * m[2][0]\n",
                "    )"
            ]
        },
        {
            "cell_type": "code",
            "execution_count": 3,
            "metadata": {},
            "outputs": [],
            "source": [
                "def T(m):\n",
                "    return [list(i) for i in zip(*m)]"
            ]
        },
        {
            "cell_type": "code",
            "execution_count": 15,
            "metadata": {},
            "outputs": [
                {
                    "data": {
                        "text/plain": [
                            "(0, 0, -16)"
                        ]
                    },
                    "execution_count": 15,
                    "metadata": {},
                    "output_type": "execute_result"
                }
            ],
            "source": [
                "def dets(A, b):\n",
                "    A_T = T(A)\n",
                "    A_i = [A_T[:i] + [b] + A_T[1 + i:] for i in range(3)]\n",
                "    return tuple(map(det, A_i))\n",
                "dets(m, [1,2,3])"
            ]
        },
        {
            "cell_type": "code",
            "execution_count": 10,
            "metadata": {},
            "outputs": [
                {
                    "data": {
                        "text/plain": [
                            "(-48, -48)"
                        ]
                    },
                    "execution_count": 10,
                    "metadata": {},
                    "output_type": "execute_result"
                }
            ],
            "source": [
                "m = [(1,2,3),(4,5,6),(7,0,9)]\n",
                "det(m), det(T(m))"
            ]
        },
        {
            "cell_type": "code",
            "execution_count": 44,
            "metadata": {},
            "outputs": [],
            "source": [
                "def solution():\n",
                "    import sys\n",
                "\n",
                "    input = sys.stdin.readline\n",
                "    for _ in range(int(input())):\n",
                "        A, b = [], []\n",
                "        for _ in range(3):\n",
                "            *a, c = map(int, input().split())\n",
                "            A.append(a)\n",
                "            b.append(c)\n",
                "        d = det(A)\n",
                "        d_i = dets(A, b)\n",
                "        print(*d_i, d)\n",
                "        if d:\n",
                "            print(\"Unique solution: \" + \" \".join(j if (j := \"%.3f\" % (i / d)) != \"-0.000\" else \"0.000\" for i in d_i))\n",
                "        else:\n",
                "            print(\"No unique solution\")\n",
                "        print()\n"
            ]
        },
        {
            "cell_type": "markdown",
            "metadata": {},
            "source": [
                "## 예제"
            ]
        },
        {
            "cell_type": "code",
            "execution_count": 45,
            "metadata": {},
            "outputs": [
                {
                    "name": "stdout",
                    "output_type": "stream",
                    "text": [
                        "The blackcellmagic extension is already loaded. To reload it, use:\n",
                        "  %reload_ext blackcellmagic\n"
                    ]
                }
            ],
            "source": [
                "# black 모듈을 jupyter notebook 내에서 사용 가능하게 만들어주는 blackcellmagic 모듈 불러오기\n",
                "%load_ext blackcellmagic\n",
                "# %%black\n",
                "\n",
                "# 백준 문제 풀이용 예제 실행 코드\n",
                "from bwj import test\n",
                "test_solution = test(solution)\n",
                "\n",
                "# test_solution(\"\"\"\"\"\")\n",
                "# test_solution(read(\"fn\").read())"
            ]
        },
        {
            "cell_type": "code",
            "execution_count": 46,
            "metadata": {},
            "outputs": [
                {
                    "name": "stdout",
                    "output_type": "stream",
                    "text": [
                        "2 8 32 8\n",
                        "Unique solution: 0.250 1.000 4.000\n",
                        "\n",
                        "1 -2 1 0\n",
                        "No unique solution\n",
                        "\n",
                        "-1 0 0 -1\n",
                        "Unique solution: 1.000 0.000 0.000\n",
                        "\n"
                    ]
                }
            ],
            "source": [
                "test_solution(\"\"\"3\n",
                "4 0 0 1\n",
                "0 2 0 2\n",
                "0 0 1 4\n",
                "1 2 3 1\n",
                "1 1 1 2\n",
                "2 2 2 3\n",
                "1 0 0 1\n",
                "0 1 0 0\n",
                "0 0 -1 0\n",
                "\"\"\")\n",
                "# answer:\n",
                "# 2 8 32 8\n",
                "# Unique solution: 0.250 1.000 4.000\n",
                "# \n",
                "# 1 -2 1 0\n",
                "# No unique solution\n",
                "# \n",
                "# -1 0 0 -1\n",
                "# Unique solution: 1.000 0.000 0.000"
            ]
        }
    ],
    "metadata": {
        "interpreter": {
            "hash": "73891b0dc2e53390f36276e59930dd4ecab91b05b5c90320c2d5b1c443f87069"
        },
        "kernelspec": {
            "display_name": "Python 3.10.1 ('venv': venv)",
            "language": "python",
            "name": "python3"
        },
        "language_info": {
            "codemirror_mode": {
                "name": "ipython",
                "version": 3
            },
            "file_extension": ".py",
            "mimetype": "text/x-python",
            "name": "python",
            "nbconvert_exporter": "python",
            "pygments_lexer": "ipython3",
            "version": "3.11.2"
        },
        "orig_nbformat": 4
    },
    "nbformat": 4,
    "nbformat_minor": 2
}
