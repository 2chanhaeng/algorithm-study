{
    "cells": [
        {
            "cell_type": "markdown",
            "metadata": {},
            "source": [
                "# [백준/D번 - 삼각 초콜릿 포장 (Sweet)](https://www.acmicpc.net/contest/problem/1244/4)\n"
            ]
        },
        {
            "cell_type": "markdown",
            "metadata": {},
            "source": [
                "## 풀이과정\n"
            ]
        },
        {
            "cell_type": "markdown",
            "metadata": {},
            "source": [
                "### 첫번째 시도\n"
            ]
        },
        {
            "cell_type": "markdown",
            "metadata": {},
            "source": [
                "#### 풀이과정\n"
            ]
        },
        {
            "cell_type": "code",
            "execution_count": null,
            "metadata": {},
            "outputs": [],
            "source": [
                "RB = lambda x: 1 if x == \"R\" else 2\n",
                "\n",
                "\n",
                "def solution():\n",
                "    import sys\n",
                "\n",
                "    n = int(sys.stdin.readline())\n",
                "    board = [list(map(RB, line.strip())) for line in sys.stdin]\n",
                "    for i in range(n):\n",
                "        for j in range(i + 1):\n",
                "            if board[i][j] == 1:\n",
                "                if board[i][j] == board[i + 1][j] == board[i + 1][j + 1]:\n",
                "                    board[i][j] = 0\n",
                "                    board[i + 1][j] = 0\n",
                "                    board[i + 1][j + 1] = 0\n",
                "                else:\n",
                "                    return print(0)\n",
                "            elif board[i][j] == 2:\n",
                "                if board[i][j] == board[i + 1][j + 1] == board[i][j + 1]:\n",
                "                    board[i][j] = 0\n",
                "                    board[i + 1][j + 1] = 0\n",
                "                    board[i][j + 1] = 0\n",
                "                else:\n",
                "                    return print(0)\n",
                "    print(1)\n",
                "\n",
                "\n",
                "solution()"
            ]
        },
        {
            "cell_type": "markdown",
            "metadata": {},
            "source": [
                "## 해답\n"
            ]
        },
        {
            "cell_type": "code",
            "execution_count": 25,
            "metadata": {},
            "outputs": [],
            "source": [
                "RB = lambda x: 1 if x == \"R\" else 2"
            ]
        },
        {
            "cell_type": "code",
            "execution_count": 39,
            "metadata": {},
            "outputs": [],
            "source": [
                "def solution():\n",
                "    import sys\n",
                "\n",
                "    n = int(sys.stdin.readline())\n",
                "    board = [list(map(RB, line.strip())) for line in sys.stdin]\n",
                "    for i in range(n):\n",
                "        for j in range(i + 1):\n",
                "            try:\n",
                "                if board[i][j] == 1:\n",
                "                    if board[i][j] == board[i + 1][j] == board[i + 1][j + 1]:\n",
                "                        board[i][j] = 0\n",
                "                        board[i + 1][j] = 0\n",
                "                        board[i + 1][j + 1] = 0\n",
                "                    else:\n",
                "                        return print(0)\n",
                "                elif board[i][j] == 2:\n",
                "                    if board[i][j] == board[i + 1][j + 1] == board[i][j + 1]:\n",
                "                        board[i][j] = 0\n",
                "                        board[i + 1][j + 1] = 0\n",
                "                        board[i][j + 1] = 0\n",
                "                    else:\n",
                "                        return print(0)\n",
                "            except:\n",
                "                return print(0)\n",
                "    print(1)"
            ]
        },
        {
            "cell_type": "markdown",
            "metadata": {},
            "source": [
                "## 예제\n"
            ]
        },
        {
            "cell_type": "code",
            "execution_count": 40,
            "metadata": {},
            "outputs": [],
            "source": [
                "# 백준 문제 풀이용 예제 실행 코드\n",
                "from bwj import test\n",
                "\n",
                "test_solution = test(solution)\n",
                "\n",
                "# test_solution(\"\"\"\"\"\")\n",
                "# test_solution(read(\"fn\").read())"
            ]
        },
        {
            "cell_type": "code",
            "execution_count": 41,
            "metadata": {},
            "outputs": [
                {
                    "name": "stdout",
                    "output_type": "stream",
                    "text": [
                        "1\n"
                    ]
                }
            ],
            "source": [
                "test_solution(\n",
                "    \"\"\"2\n",
                "R\n",
                "RR\n",
                "\"\"\"\n",
                ")  # 1"
            ]
        },
        {
            "cell_type": "code",
            "execution_count": 42,
            "metadata": {},
            "outputs": [
                {
                    "name": "stdout",
                    "output_type": "stream",
                    "text": [
                        "0\n"
                    ]
                }
            ],
            "source": [
                "test_solution(\n",
                "    \"\"\"4\n",
                "R\n",
                "RR\n",
                "RBR\n",
                "RRRR\n",
                "\"\"\"\n",
                ")  # 0"
            ]
        }
    ],
    "metadata": {
        "interpreter": {
            "hash": "73891b0dc2e53390f36276e59930dd4ecab91b05b5c90320c2d5b1c443f87069"
        },
        "kernelspec": {
            "display_name": "Python 3.10.1 ('venv': venv)",
            "language": "python",
            "name": "python3"
        },
        "language_info": {
            "codemirror_mode": {
                "name": "ipython",
                "version": 3
            },
            "file_extension": ".py",
            "mimetype": "text/x-python",
            "name": "python",
            "nbconvert_exporter": "python",
            "pygments_lexer": "ipython3",
            "version": "3.12.2"
        },
        "orig_nbformat": 4
    },
    "nbformat": 4,
    "nbformat_minor": 2
}
