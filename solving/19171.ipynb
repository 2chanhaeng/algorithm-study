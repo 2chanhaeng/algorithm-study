{
  "cells": [
    {
      "cell_type": "markdown",
      "metadata": {},
      "source": [
        "# [백준/Euclid](https://www.acmicpc.net/problem/19171)\n"
      ]
    },
    {
      "cell_type": "markdown",
      "metadata": {},
      "source": [
        "## 풀이과정\n"
      ]
    },
    {
      "cell_type": "markdown",
      "metadata": {},
      "source": [
        "### 첫번째 시도\n"
      ]
    },
    {
      "cell_type": "markdown",
      "metadata": {},
      "source": [
        "#### 풀이과정\n"
      ]
    },
    {
      "cell_type": "code",
      "execution_count": null,
      "metadata": {},
      "outputs": [],
      "source": [
        "# solution()"
      ]
    },
    {
      "cell_type": "markdown",
      "metadata": {},
      "source": [
        "## 해답\n"
      ]
    },
    {
      "cell_type": "code",
      "execution_count": null,
      "id": "677d05a1",
      "metadata": {},
      "outputs": [],
      "source": [
        "from math import hypot\n",
        "from math import hypot\n",
        "from typing import Sequence, Generator, Callable, Iterable"
      ]
    },
    {
      "cell_type": "code",
      "execution_count": 51,
      "id": "eb090781",
      "metadata": {},
      "outputs": [],
      "source": [
        "class Point:\n",
        "    x: float\n",
        "    y: float\n",
        "    z: float\n",
        "\n",
        "    def __init__(\n",
        "        self, x: float | str | Iterable[float] = 0.0, y: float = 0.0, z: float = 0.0\n",
        "    ):\n",
        "        if isinstance(x, str):\n",
        "            x, y, z = map(float, x.split())\n",
        "        elif isinstance(x, Iterable):\n",
        "            x, y, z = x\n",
        "        self.x = float(x)\n",
        "        self.y = float(y)\n",
        "        self.z = float(z)\n",
        "\n",
        "    def __iter__(self) -> Generator[float, None, None]:\n",
        "        yield from (self.x, self.y, self.z)\n",
        "\n",
        "    def __sub__(self, other: \"Point\") -> \"Point\":\n",
        "        return Point(map(lambda a, b: a - b, self, other))\n",
        "\n",
        "    def __add__(self, other: \"Point\") -> \"Point\":\n",
        "        return Point(map(lambda a, b: a + b, self, other))\n",
        "\n",
        "    def __mul__(self, other: \"Point\") -> float:\n",
        "        # dot\n",
        "        return sum(map(lambda a, b: a * b, self, other))\n",
        "\n",
        "    def __rmul__(self, other: float) -> \"Point\":\n",
        "        # scalar\n",
        "        return Point(map(lambda a: a * other, self))\n",
        "\n",
        "    def __truediv__(self, other: float) -> \"Point\":\n",
        "        return Point(map(lambda a: a / other, self))\n",
        "\n",
        "    def __matmul__(self, other: \"Point\") -> \"Point\":\n",
        "        # cross\n",
        "        return Point(\n",
        "            self.y * other.z - self.z * other.y,\n",
        "            self.z * other.x - self.x * other.z,\n",
        "            self.x * other.y - self.y * other.x,\n",
        "        )\n",
        "\n",
        "    def __abs__(self) -> float:\n",
        "        return hypot(*self)\n",
        "\n",
        "    def __repr__(self) -> str:\n",
        "        return f\"Point({self.x:.2f}, {self.y:.2f}, {self.z:.2f})\"\n",
        "\n",
        "    def grad(self) -> \"Point\":\n",
        "        return self / abs(self) if abs(self) else self"
      ]
    },
    {
      "cell_type": "code",
      "execution_count": 106,
      "id": "5a3bdd9a",
      "metadata": {},
      "outputs": [
        {
          "name": "stdout",
          "output_type": "stream",
          "text": [
            "최솟값 위치: 2.449489742783178\n",
            "최솟값 위치: 2.414233364963521\n"
          ]
        }
      ],
      "source": [
        "def sum_points(point0: Iterable[Point] | Point, *points: Point) -> Point:\n",
        "    if isinstance(point0, Point):\n",
        "        return sum(points, start=point0)\n",
        "    return sum(point0, start=Point())\n",
        "\n",
        "\n",
        "def grad_f(X: Point, A: Point, B: Point, C: Point) -> Point:\n",
        "    return sum_points((X - P).grad() for P in [A, B, C])\n",
        "\n",
        "\n",
        "def minimize_dists(\n",
        "    A: Point, B: Point, C: Point, init: Point, err: float, max_iter=10000\n",
        "):\n",
        "    # 초기값: 세 점의 평균\n",
        "    X = init\n",
        "    for i in range(max_iter):\n",
        "        g = grad_f(X, A, B, C)\n",
        "        if abs(g) < err:\n",
        "            # print(\"    오차:\", \"%.5f\" % abs(g), \"err:\", err, \"위치:\", X, \"grad:\", g)\n",
        "            break\n",
        "        X = X - err * 10 * g.grad()\n",
        "    # print(\"반복 횟수:\", i, \"최종 오차:\", \"%.5f\" % abs(g), \"최종 위치:\", X, \"grad:\", g)\n",
        "    return X\n",
        "\n",
        "\n",
        "def minimize_dists_recursive(\n",
        "    A: Point,\n",
        "    B: Point,\n",
        "    C: Point,\n",
        "):\n",
        "    X = sum_points(A, B, C) / 3\n",
        "    for i in range(7):\n",
        "        X = minimize_dists(A, B, C, X, 10 ** (1 - i))\n",
        "    return sum(abs(X - P) for P in [A, B, C])\n",
        "\n",
        "\n",
        "# 예시\n",
        "print(\n",
        "    \"최솟값 위치:\",\n",
        "    minimize_dists_recursive(Point(0, 0, 1), Point(1, 0, 0), Point(0, 1, 0)),\n",
        ")\n",
        "print(\n",
        "    \"최솟값 위치:\",\n",
        "    minimize_dists_recursive(Point(0, 0, 0), Point(1, 0, 0), Point(-1, 1, 0)),\n",
        ")"
      ]
    },
    {
      "cell_type": "code",
      "execution_count": 107,
      "metadata": {},
      "outputs": [],
      "source": [
        "def solution():\n",
        "    import sys\n",
        "\n",
        "    points = list(map(Point, sys.stdin.read().strip().split(\"\\n\")))\n",
        "    print(\"%.6f\" % abs(minimize_dists_recursive(*points)))"
      ]
    },
    {
      "cell_type": "markdown",
      "metadata": {},
      "source": [
        "## 예제\n"
      ]
    },
    {
      "cell_type": "code",
      "execution_count": 108,
      "metadata": {},
      "outputs": [],
      "source": [
        "# 백준 문제 풀이용 예제 실행 코드\n",
        "from bwj import test\n",
        "\n",
        "test_solution = test(solution)\n",
        "\n",
        "# test_solution(\"\"\"\"\"\")\n",
        "# test_solution(read(\"fn\").read())"
      ]
    },
    {
      "cell_type": "code",
      "execution_count": 109,
      "metadata": {},
      "outputs": [
        {
          "name": "stdout",
          "output_type": "stream",
          "text": [
            "37.320508\n"
          ]
        }
      ],
      "source": [
        "test_solution(\n",
        "    \"\"\"0 0 0\n",
        "20 0 0\n",
        "10 20 0\n",
        "\"\"\"\n",
        ")  # 37.320508"
      ]
    }
  ],
  "metadata": {
    "kernelspec": {
      "display_name": "venv",
      "language": "python",
      "name": "python3"
    },
    "language_info": {
      "codemirror_mode": {
        "name": "ipython",
        "version": 3
      },
      "file_extension": ".py",
      "mimetype": "text/x-python",
      "name": "python",
      "nbconvert_exporter": "python",
      "pygments_lexer": "ipython3",
      "version": "3.13.3"
    }
  },
  "nbformat": 4,
  "nbformat_minor": 5
}
