{
 "cells": [
  {
   "attachments": {},
   "cell_type": "markdown",
   "metadata": {},
   "source": [
    "# 파이썬 이진법 변환\n",
    "파이썬에서 정수를 이진법로 변환하는 방법은 여러가지가 있다.  \n",
    "PS문제를 풀기 위해 가장 효율적인 방법을 고르려고 한다.  \n",
    "이 글은 가장 효율적인 방법을 찾기 위한 기록이다.  \n",
    "크게 `int`, `if else`, `ord % 2` 3가지로 나뉘고 각 방법마다 `map` vs 리스트 컴프리헨션, `bin` vs `format` 등으로 4가지를 비교해보았다."
   ]
  },
  {
   "cell_type": "code",
   "execution_count": 5,
   "metadata": {},
   "outputs": [
    {
     "name": "stdout",
     "output_type": "stream",
     "text": [
      "int\n",
      "1.58 µs ± 21.4 ns per loop (mean ± std. dev. of 7 runs, 1,000,000 loops each)\n",
      "1.94 µs ± 33.4 ns per loop (mean ± std. dev. of 7 runs, 1,000,000 loops each)\n",
      "1.6 µs ± 2.54 ns per loop (mean ± std. dev. of 7 runs, 1,000,000 loops each)\n",
      "1.92 µs ± 15.6 ns per loop (mean ± std. dev. of 7 runs, 1,000,000 loops each)\n",
      "if else\n",
      "1.37 µs ± 3.52 ns per loop (mean ± std. dev. of 7 runs, 1,000,000 loops each)\n",
      "829 ns ± 30.6 ns per loop (mean ± std. dev. of 7 runs, 1,000,000 loops each)\n",
      "1.46 µs ± 19.9 ns per loop (mean ± std. dev. of 7 runs, 1,000,000 loops each)\n",
      "850 ns ± 6.22 ns per loop (mean ± std. dev. of 7 runs, 1,000,000 loops each)\n",
      "ord % 2\n",
      "1.66 µs ± 7.31 ns per loop (mean ± std. dev. of 7 runs, 1,000,000 loops each)\n",
      "1.13 µs ± 12 ns per loop (mean ± std. dev. of 7 runs, 1,000,000 loops each)\n",
      "1.68 µs ± 8.63 ns per loop (mean ± std. dev. of 7 runs, 1,000,000 loops each)\n",
      "1.15 µs ± 13.6 ns per loop (mean ± std. dev. of 7 runs, 1,000,000 loops each)\n"
     ]
    }
   ],
   "source": [
    "x = 123456789\n",
    "\n",
    "print(\"int\")\n",
    "%timeit list(map(int, bin(x)[2:]))\n",
    "%timeit [int(i) for i in bin(x)[2:]]\n",
    "%timeit list(map(int, format(x, 'b')))\n",
    "%timeit [int(i) for i in format(x, 'b')]\n",
    "print(\"if else\")\n",
    "%timeit list(map(lambda i: 1 if i == '1' else 0, bin(x)[2:]))\n",
    "%timeit [1 if i == '1' else 0 for i in bin(x)[2:]]\n",
    "%timeit list(map(lambda i: 1 if i == '1' else 0, format(x, 'b')))\n",
    "%timeit [1 if i == '1' else 0 for i in format(x, 'b')]\n",
    "print(\"ord % 2\")\n",
    "%timeit list(map(lambda i: ord(i) % 2, bin(x)[2:]))\n",
    "%timeit [ord(i) % 2 for i in bin(x)[2:]]\n",
    "%timeit list(map(lambda i: ord(i) % 2, format(x, 'b')))\n",
    "%timeit [ord(i) % 2 for i in format(x, 'b')]"
   ]
  },
  {
   "attachments": {},
   "cell_type": "markdown",
   "metadata": {},
   "source": [
    "`[1 if i == '1' else 0 for i in bin(x)[2:]]` 즉, `if else` 삼항 연산자를 리스트 컴프리헨션과 `bin`을 사용하는 것이 가장 효율적이었다."
   ]
  }
 ],
 "metadata": {
  "kernelspec": {
   "display_name": "venv",
   "language": "python",
   "name": "python3"
  },
  "language_info": {
   "codemirror_mode": {
    "name": "ipython",
    "version": 3
   },
   "file_extension": ".py",
   "mimetype": "text/x-python",
   "name": "python",
   "nbconvert_exporter": "python",
   "pygments_lexer": "ipython3",
   "version": "3.10.8"
  },
  "orig_nbformat": 4,
  "vscode": {
   "interpreter": {
    "hash": "72904a014a9ffe38f4c58942120b599b3c5a87d06764037548e0139929c1cde3"
   }
  }
 },
 "nbformat": 4,
 "nbformat_minor": 2
}
