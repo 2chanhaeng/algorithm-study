{
 "cells": [
  {
   "cell_type": "markdown",
   "metadata": {},
   "source": [
    "# 파이썬 모듈 요약 노트"
   ]
  },
  {
   "cell_type": "markdown",
   "metadata": {},
   "source": [
    "파이썬 내장 모듈, 라이브러리 공부 및 요약 노트입니다."
   ]
  },
  {
   "cell_type": "markdown",
   "metadata": {},
   "source": [
    "## `itertools`"
   ]
  },
  {
   "cell_type": "markdown",
   "metadata": {},
   "source": [
    "효율적인 반복을 위해서 반복자(iterator)를 만들어내는 함수들이 들어있는 라이브러리 입니다.\n",
    "\n",
    "|이터레이터|결과|\n",
    "|---|---|\n",
    "|`count(start[, step])`|`start, start + step, start + 2 * step, …`|"
   ]
  },
  {
   "cell_type": "markdown",
   "metadata": {},
   "source": [
    "### `count(start[, step])`"
   ]
  },
  {
   "cell_type": "markdown",
   "metadata": {},
   "source": [
    "`start`를 초항으로 `step`의 등차를 가지는 무한 등차 수열을 반환하는 제네레이터를 반환합니다."
   ]
  },
  {
   "cell_type": "code",
   "execution_count": 8,
   "metadata": {},
   "outputs": [
    {
     "name": "stdout",
     "output_type": "stream",
     "text": [
      "10 11 12 13 \n",
      "9 16 25 36 49 64 81 100 "
     ]
    }
   ],
   "source": [
    "from itertools import count\n",
    "\n",
    "for i in count(10):\n",
    "    if i > 13:\n",
    "        break\n",
    "    print(i, end=\" \")\n",
    "print()\n",
    "\n",
    "c = (i**2 for i in count(3))\n",
    "for i in c:\n",
    "    if i > 100:\n",
    "        break\n",
    "    print(i, end=\" \")"
   ]
  },
  {
   "cell_type": "markdown",
   "metadata": {},
   "source": [
    "### `cycle(iterable)`"
   ]
  },
  {
   "cell_type": "markdown",
   "metadata": {},
   "source": [
    "`iterable`을 무한히 반복하는 제네레이터를 반환합니다."
   ]
  },
  {
   "cell_type": "code",
   "execution_count": 13,
   "metadata": {},
   "outputs": [
    {
     "name": "stdout",
     "output_type": "stream",
     "text": [
      "LOONALOONALOO"
     ]
    }
   ],
   "source": [
    "from itertools import cycle\n",
    "\n",
    "i = 0\n",
    "for c in cycle(\"LOONA\"):\n",
    "    i += 1\n",
    "    print(c, end=\"\")\n",
    "    if i > 12:\n",
    "        break"
   ]
  },
  {
   "cell_type": "markdown",
   "metadata": {},
   "source": [
    "### `repeat(elem[, n])`"
   ]
  },
  {
   "cell_type": "markdown",
   "metadata": {},
   "source": [
    "`elem`를 `n`번 반복하는 제네레이터를 반환합니다.\\\n",
    "`n`이 지정되지 않으면 무한히 반복합니다."
   ]
  },
  {
   "cell_type": "code",
   "execution_count": 16,
   "metadata": {},
   "outputs": [
    {
     "name": "stdout",
     "output_type": "stream",
     "text": [
      "Hi High Hi High Hi High Hi High Hi High Hi High Hi High Hi High Hi High Hi High Hi High Hi High \n",
      "Hi High Hi High Hi High Hi High Hi High Hi High Hi High Hi High Hi High Hi High Hi High Hi High "
     ]
    }
   ],
   "source": [
    "from itertools import repeat\n",
    "\n",
    "for r in repeat(\"Hi High\", 12):\n",
    "    print(r, end=\" \")\n",
    "print()\n",
    "\n",
    "i = 1\n",
    "for r in repeat(\"Hi High\"):\n",
    "    i += 1\n",
    "    print(r, end=\" \")\n",
    "    if i > 12:\n",
    "        break"
   ]
  },
  {
   "cell_type": "markdown",
   "metadata": {},
   "source": [
    "### `accumulate(iterable[, func = operator.add, *, initial = None])`"
   ]
  },
  {
   "cell_type": "markdown",
   "metadata": {},
   "source": [
    "`iterable` 을 이항 함수 `func` 에 하나씩 대입하여 누적한 결과를 반환하는 제네레이터를 반환합니다.\\\n",
    "`func` 을 지정하지 않으면 `operator.add` 즉, 누적 합계를 제공합니다.\\\n",
    "초항은 `initial` 인자에 지정할 수 있습니다."
   ]
  },
  {
   "cell_type": "code",
   "execution_count": 27,
   "metadata": {},
   "outputs": [
    {
     "name": "stdout",
     "output_type": "stream",
     "text": [
      "                5\t4\t3\t2\t1\t\n",
      "        default 5\t9\t12\t14\t15\t\n",
      " lambda x,y:x*y 5\t20\t60\t120\t120\t\n",
      "   operator.mul 5\t20\t60\t120\t120\t\n",
      "   intial=2 mul 2\t10\t40\t120\t240\t240\t"
     ]
    }
   ],
   "source": [
    "from itertools import accumulate\n",
    "\n",
    "five_to_one = range(5, 0, -1)\n",
    "print(\" \" * 15, end=\" \")\n",
    "for i in five_to_one:\n",
    "    print(i, end=\"\\t\")\n",
    "\n",
    "print(\"\\n%15s\" % \"default\", end=\" \")\n",
    "for i in accumulate(five_to_one):\n",
    "    print(i, end=\"\\t\")\n",
    "\n",
    "print(\"\\n%15s\" % \"lambda x,y:x*y\", end=\" \")\n",
    "for i in accumulate(five_to_one, lambda x, y: x * y):\n",
    "    print(i, end=\"\\t\")\n",
    "\n",
    "print(\"\\n%15s\" % \"operator.mul\", end=\" \")\n",
    "from operator import mul\n",
    "\n",
    "for i in accumulate(five_to_one, mul):\n",
    "    print(i, end=\"\\t\")\n",
    "\n",
    "print(\"\\n%15s\" % \"intial=2 mul\", end=\" \")\n",
    "from operator import mul\n",
    "\n",
    "for i in accumulate(five_to_one, mul, initial=2):\n",
    "    print(i, end=\"\\t\")"
   ]
  },
  {
   "cell_type": "markdown",
   "metadata": {},
   "source": [
    "### `chain(*iterables)`"
   ]
  },
  {
   "cell_type": "markdown",
   "metadata": {},
   "source": [
    "`iterables` 에 속하는 여러 이터레이블의 원소들을 순서대로 반환합니다."
   ]
  },
  {
   "cell_type": "code",
   "execution_count": 32,
   "metadata": {},
   "outputs": [
    {
     "name": "stdout",
     "output_type": "stream",
     "text": [
      "q w e a s d z x c \n",
      "0 0 1 0 1 2 0 1 2 3 "
     ]
    }
   ],
   "source": [
    "from itertools import chain\n",
    "\n",
    "for i in chain(\"qwe\", \"asd\", \"zxc\"):\n",
    "    print(i, end=\" \")\n",
    "print()\n",
    "\n",
    "for i in chain(*[list(range(i)) for i in range(5)]):\n",
    "    print(i, end=\" \")"
   ]
  },
  {
   "cell_type": "markdown",
   "metadata": {},
   "source": [
    "### `chain.from_iterable(iterables)`"
   ]
  },
  {
   "cell_type": "markdown",
   "metadata": {},
   "source": [
    "마찬가지로 `iterables` 에 속하는 여러 이터레이블의 원소들을 순서대로 반환합니다.\\\n",
    "다만 언패킹용 `*` 연산자를 사용하지 않아도 됩니다."
   ]
  },
  {
   "cell_type": "code",
   "execution_count": 33,
   "metadata": {},
   "outputs": [
    {
     "name": "stdout",
     "output_type": "stream",
     "text": [
      "q w e a s d z x c \n",
      "0 0 1 0 1 2 0 1 2 3 "
     ]
    }
   ],
   "source": [
    "from itertools import chain\n",
    "\n",
    "for i in chain.from_iterable((\"qwe\", \"asd\", \"zxc\")):\n",
    "    print(i, end=\" \")\n",
    "print()\n",
    "\n",
    "for i in chain.from_iterable([list(range(i)) for i in range(5)]):\n",
    "    print(i, end=\" \")"
   ]
  },
  {
   "cell_type": "markdown",
   "metadata": {},
   "source": [
    "### `combinations(iterable, r)`"
   ]
  },
  {
   "cell_type": "markdown",
   "metadata": {},
   "source": [
    "`iterable` 에서 `r` 의 크기를 가지는 조합 튜플을 반환하는 제네레이터를 반환합니다.\\\n",
    "값이 아닌 위치로 고유성을 다루기에, 중복되는 값이 있다면 중복 조합이 나옵니다.\\\n",
    "총 항목의 수는 `len(iterable) == n` 일 때, $_{n}\\mathrm{C}_{r}=\\frac{n!}{r!(n-r)!}$ 입니다."
   ]
  },
  {
   "cell_type": "code",
   "execution_count": 38,
   "metadata": {},
   "outputs": [
    {
     "name": "stdout",
     "output_type": "stream",
     "text": [
      "AB AC BC \n",
      "AB AA BA \n"
     ]
    }
   ],
   "source": [
    "from itertools import combinations\n",
    "\n",
    "for i in combinations(\"ABC\", 2):\n",
    "    print(\"\".join(i), end=\" \")\n",
    "print()\n",
    "\n",
    "for i in combinations(\"ABA\", 2):\n",
    "    print(\"\".join(i), end=\" \")\n",
    "print()"
   ]
  },
  {
   "cell_type": "markdown",
   "metadata": {},
   "source": [
    "### `combinations_with_replacement(iterable, r)`"
   ]
  },
  {
   "cell_type": "markdown",
   "metadata": {},
   "source": [
    "마찬가지로 `iterable` 에서 `r` 의 크기를 가지는 조합 튜플을 반환하는 제네레이터를 반환합니다.\\\n",
    "다만, 같은 항목의 반복이 가능합니다.\\\n",
    "역시 중복되는 값이 있다면 중복 조합이 나옵니다.\\\n",
    "총 항목의 수는 `len(iterable) == n` 일 때, $_{n + r - 1}\\mathrm{C}_{r}=\\frac{(n + r - 1)!}{r!(n-1)!}$ 입니다."
   ]
  },
  {
   "cell_type": "code",
   "execution_count": 37,
   "metadata": {},
   "outputs": [
    {
     "name": "stdout",
     "output_type": "stream",
     "text": [
      "AA AB AC BB BC CC \n",
      "AAA AAB AAC ABB ABC ACC BBB BBC BCC CCC \n",
      "AA AB AA BB BA AA \n"
     ]
    }
   ],
   "source": [
    "from itertools import combinations_with_replacement\n",
    "\n",
    "for i in combinations_with_replacement(\"ABC\", 2):\n",
    "    print(\"\".join(i), end=\" \")\n",
    "print()\n",
    "\n",
    "for i in combinations_with_replacement(\"ABC\", 3):\n",
    "    print(\"\".join(i), end=\" \")\n",
    "print()\n",
    "\n",
    "for i in combinations_with_replacement(\"ABA\", 2):\n",
    "    print(\"\".join(i), end=\" \")\n",
    "print()"
   ]
  },
  {
   "cell_type": "markdown",
   "metadata": {},
   "source": [
    "### `compress(data, selectors)`"
   ]
  },
  {
   "cell_type": "markdown",
   "metadata": {},
   "source": [
    "`selectors` 에서 참으로 평가되는 인덱스와 동일한 `data` 의 요소들만 생성하는 제네레이터를 반환합니다."
   ]
  },
  {
   "cell_type": "code",
   "execution_count": 40,
   "metadata": {},
   "outputs": [
    {
     "name": "stdout",
     "output_type": "stream",
     "text": [
      "b d f "
     ]
    }
   ],
   "source": [
    "from itertools import compress\n",
    "\n",
    "for i in compress(\"abcdefg\", [i % 2 for i in range(7)]):\n",
    "    print(i, end=\" \")"
   ]
  },
  {
   "cell_type": "markdown",
   "metadata": {},
   "source": [
    "### `dropwhile(predicate, iterable)`"
   ]
  },
  {
   "cell_type": "markdown",
   "metadata": {},
   "source": [
    "`predicate` 는 `iterable` 의 요소를 하나씩 받아서 참 혹은 거짓을 반환하는 함수입니다.\\\n",
    "`predicate` 가 처음으로 거짓이 나오는 `iterable` 요소부터 끝까지 생성하는 제네레이터를 반환합니다."
   ]
  },
  {
   "cell_type": "code",
   "execution_count": 43,
   "metadata": {},
   "outputs": [
    {
     "name": "stdout",
     "output_type": "stream",
     "text": [
      "[0, 1, 8, 12, 4, 5, 6, 13, 2, 9, 10, 11, 3, 7, 14]\n",
      "13 2 9 10 11 3 7 14 "
     ]
    }
   ],
   "source": [
    "from itertools import dropwhile\n",
    "\n",
    "array = [pow(i, 3, 15) for i in range(15)]\n",
    "print(array)\n",
    "\n",
    "for i in dropwhile(lambda x: x < 13, array):\n",
    "    print(i, end=\" \")"
   ]
  },
  {
   "cell_type": "markdown",
   "metadata": {},
   "source": [
    "### `filterfalse(predicate, iterable)`"
   ]
  },
  {
   "cell_type": "markdown",
   "metadata": {},
   "source": [
    "`predicate` 는 `iterable` 의 요소를 하나씩 받아서 참 혹은 거짓을 반환하는 함수입니다.\\\n",
    "`predicate` 가 거짓이 나오는 `iterable` 요소만 생성하는 제네레이터를 반환합니다."
   ]
  },
  {
   "cell_type": "code",
   "execution_count": 46,
   "metadata": {},
   "outputs": [
    {
     "name": "stdout",
     "output_type": "stream",
     "text": [
      "[0, 1, 8, 12, 4, 5, 6, 13, 2, 9, 10, 11, 3, 7, 14]\n",
      "8 12 13 9 10 11 14 "
     ]
    }
   ],
   "source": [
    "from itertools import filterfalse\n",
    "\n",
    "array = [pow(i, 3, 15) for i in range(15)]\n",
    "print(array)\n",
    "\n",
    "for i in filterfalse(lambda x: x < 8, array):\n",
    "    print(i, end=\" \")"
   ]
  },
  {
   "cell_type": "markdown",
   "metadata": {},
   "source": [
    "### `groupby(iterable, key = None)`"
   ]
  },
  {
   "cell_type": "markdown",
   "metadata": {},
   "source": [
    "`iterable` 에서 요소를 뽑아 `key` 함수에 넣어 함수값이 달라질 때마다 해당 `key`값과 연속적으로 같은 `key` 값을 가지는 요소들을 그룹을 생성하는 제네레이터를 반환합니다.\\\n",
    "`key`를 지정하지 않거나 `None` 이면 항등함수로 취급합니다."
   ]
  },
  {
   "cell_type": "code",
   "execution_count": 54,
   "metadata": {},
   "outputs": [
    {
     "name": "stdout",
     "output_type": "stream",
     "text": [
      "A:AAA S:SSS D:DDD A:AAA \n",
      "0:0,1,2,3 1:4,5,6,7 2:8,9,10,11 3:12,13,14,15 "
     ]
    }
   ],
   "source": [
    "from itertools import groupby\n",
    "\n",
    "for i, j in groupby(\"AAASSSDDDAAA\"):\n",
    "    print(f\"{i}:{''.join(j)}\", end=\" \")\n",
    "print()\n",
    "\n",
    "for i, j in groupby(range(16), lambda x: x // 4):\n",
    "    print(f\"{i}:{','.join(str(k) for k in j)}\", end=\" \")"
   ]
  },
  {
   "cell_type": "markdown",
   "metadata": {},
   "source": [
    "### `permutations(iterable, r = None)`"
   ]
  },
  {
   "cell_type": "markdown",
   "metadata": {},
   "source": [
    "`iterable` 에서 `r` 크기의 순열을 생성하는 제네레이터를 반환합니다.\\\n",
    "`r`이 지정되지 않거나 `None`이면 `r == len(iterable)` 입니다.\\\n",
    "`n = len(iterable)` 일 때, 총 $_{n}\\mathrm{P}_{r} = \\frac{n!}{(n-r)!}$ 개를 생성합니다."
   ]
  },
  {
   "cell_type": "code",
   "execution_count": 58,
   "metadata": {},
   "outputs": [
    {
     "name": "stdout",
     "output_type": "stream",
     "text": [
      "ABC ACB BAC BCA CAB CBA \n",
      "AB AC AD BA BC BD CA CB CD DA DB DC "
     ]
    }
   ],
   "source": [
    "from itertools import permutations\n",
    "\n",
    "for i in permutations(\"ABC\"):\n",
    "    print(\"\".join(i), end=\" \")\n",
    "print()\n",
    "\n",
    "for i in permutations(\"ABCD\", 2):\n",
    "    print(\"\".join(i), end=\" \")"
   ]
  },
  {
   "cell_type": "markdown",
   "metadata": {},
   "source": [
    "### `product(*iterables, repeat = 1)`"
   ]
  },
  {
   "cell_type": "markdown",
   "metadata": {},
   "source": [
    "`iterables` 의 데카르트 곱을 반환합니다.\\\n",
    "`repeat`이 1이 아닐 경우 `iterables` 를 `repeat` 만큼 반복합니다."
   ]
  },
  {
   "cell_type": "code",
   "execution_count": 63,
   "metadata": {},
   "outputs": [
    {
     "name": "stdout",
     "output_type": "stream",
     "text": [
      "AC AD BC BD \n",
      "AAA AAB ABA ABB BAA BAB BBA BBB \n",
      "ACAC ACAD ACBC ACBD ADAC ADAD ADBC ADBD BCAC BCAD BCBC BCBD BDAC BDAD BDBC BDBD "
     ]
    }
   ],
   "source": [
    "from itertools import product\n",
    "\n",
    "for i in product(\"AB\", \"CD\"):\n",
    "    print(\"\".join(i), end=\" \")\n",
    "print()\n",
    "\n",
    "for i in product(\"AB\", repeat=3):\n",
    "    print(\"\".join(i), end=\" \")\n",
    "print()\n",
    "\n",
    "for i in product(\"AB\", \"CD\", repeat=2):\n",
    "    print(\"\".join(i), end=\" \")"
   ]
  },
  {
   "cell_type": "markdown",
   "metadata": {},
   "source": [
    "### `starmap(function, iterable)`"
   ]
  },
  {
   "cell_type": "markdown",
   "metadata": {},
   "source": [
    "`map` 객체에서 비슷한 기능을 하며 `starmap(function, iterable) == map(lambda x: function(*x), iterable)`이다."
   ]
  },
  {
   "cell_type": "code",
   "execution_count": 68,
   "metadata": {},
   "outputs": [
    {
     "name": "stdout",
     "output_type": "stream",
     "text": [
      "0 1 8 81 1024 \n",
      "0 1 8 81 1024 "
     ]
    }
   ],
   "source": [
    "from itertools import starmap\n",
    "\n",
    "zipped = [(i, i + 1) for i in range(5)]\n",
    "\n",
    "for i in starmap(pow, zipped):\n",
    "    print(i, end=\" \")\n",
    "print()\n",
    "\n",
    "for i in map(lambda x: pow(*x), zipped):\n",
    "    print(i, end=\" \")"
   ]
  },
  {
   "cell_type": "markdown",
   "metadata": {},
   "source": [
    "### `takewhile(predicate, iterable)`"
   ]
  },
  {
   "cell_type": "markdown",
   "metadata": {},
   "source": [
    "`predicate` 는 `iterable` 의 요소를 하나씩 받아서 참 혹은 거짓을 반환하는 함수입니다.\\\n",
    "`predicate` 가 처음부터 처음으로 거짓이 나오는 `iterable` 요소까지를 생성하는 제네레이터를 반환합니다.\\\n",
    "`dropwhile` 객체와 대비되는 역할입니다."
   ]
  },
  {
   "cell_type": "code",
   "execution_count": 69,
   "metadata": {},
   "outputs": [
    {
     "name": "stdout",
     "output_type": "stream",
     "text": [
      "[0, 1, 8, 12, 4, 5, 6, 13, 2, 9, 10, 11, 3, 7, 14]\n",
      "0 1 8 12 4 5 6 "
     ]
    }
   ],
   "source": [
    "from itertools import takewhile\n",
    "\n",
    "array = [pow(i, 3, 15) for i in range(15)]\n",
    "print(array)\n",
    "\n",
    "for i in takewhile(lambda x: x < 13, array):\n",
    "    print(i, end=\" \")"
   ]
  },
  {
   "cell_type": "markdown",
   "metadata": {},
   "source": [
    "### `tee(iterable, n = 2)`"
   ]
  },
  {
   "cell_type": "markdown",
   "metadata": {},
   "source": [
    "`iterable`에서 서로 독립적인 이터레이터를 반환합니다.\\\n",
    "공부와 이해가 조금 더 필요할 듯"
   ]
  },
  {
   "cell_type": "code",
   "execution_count": 73,
   "metadata": {},
   "outputs": [
    {
     "name": "stdout",
     "output_type": "stream",
     "text": [
      "0 1 2 3 4 \n",
      "0 1 2 3 4 \n"
     ]
    }
   ],
   "source": [
    "from itertools import tee\n",
    "\n",
    "for t in tee(list(range(5))):\n",
    "    for i in t:\n",
    "        print(i, end=\" \")\n",
    "    print()"
   ]
  },
  {
   "cell_type": "markdown",
   "metadata": {},
   "source": [
    "### `zip_longest(*iterables, fillvalue = None)`"
   ]
  },
  {
   "cell_type": "markdown",
   "metadata": {},
   "source": [
    "일반적인 `zip` 객체는 가장 짧은 이터러블의 개수를 기준으로 묶는데 비해, `zip_longest` 함수는 가장 긴 이터러블의 개수를 기준으로 묶는다.\\\n",
    "빈 칸은 `fillvalue` 로 채워넣는다."
   ]
  },
  {
   "cell_type": "code",
   "execution_count": 75,
   "metadata": {},
   "outputs": [
    {
     "name": "stdout",
     "output_type": "stream",
     "text": [
      "0 0  1 1  2 2  3 3  4 4  \n",
      "0 0  1 1  2 2  3 3  4 4  None 5  \n",
      "0 0  1 1  2 2  3 3  4 4  9 5  "
     ]
    }
   ],
   "source": [
    "from itertools import zip_longest\n",
    "\n",
    "zipped = [range(5), range(6)]\n",
    "for i, j in zip(*zipped):\n",
    "    print(i, j, end=\"  \")\n",
    "print()\n",
    "\n",
    "for i, j in zip_longest(*zipped):\n",
    "    print(i, j, end=\"  \")\n",
    "print()\n",
    "\n",
    "for i, j in zip_longest(*zipped, fillvalue=9):\n",
    "    print(i, j, end=\"  \")"
   ]
  },
  {
   "cell_type": "markdown",
   "metadata": {},
   "source": [
    "## `collections`"
   ]
  },
  {
   "cell_type": "markdown",
   "metadata": {},
   "source": [
    "파이썬의 기본적인 내장 컨테이너 `dict`, `list`, `set`, `tuple` 이외의 부가적 기능을 제공하는 특수 컨테이너 데이터 형식을 가진 라이브러리입니다."
   ]
  }
 ],
 "metadata": {
  "interpreter": {
   "hash": "73891b0dc2e53390f36276e59930dd4ecab91b05b5c90320c2d5b1c443f87069"
  },
  "kernelspec": {
   "display_name": "Python 3.10.1 ('venv': venv)",
   "language": "python",
   "name": "python3"
  },
  "language_info": {
   "codemirror_mode": {
    "name": "ipython",
    "version": 3
   },
   "file_extension": ".py",
   "mimetype": "text/x-python",
   "name": "python",
   "nbconvert_exporter": "python",
   "pygments_lexer": "ipython3",
   "version": "3.10.1"
  },
  "orig_nbformat": 4
 },
 "nbformat": 4,
 "nbformat_minor": 2
}
